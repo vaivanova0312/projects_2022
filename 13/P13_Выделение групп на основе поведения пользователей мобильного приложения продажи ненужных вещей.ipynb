{
 "cells": [
  {
   "cell_type": "markdown",
   "metadata": {
    "toc": true
   },
   "source": [
    "<h1>Содержание<span class=\"tocSkip\"></span></h1>\n",
    "<div class=\"toc\"><ul class=\"toc-item\"><li><span><a href=\"#Материалы\" data-toc-modified-id=\"Материалы-1\"><span class=\"toc-item-num\">1&nbsp;&nbsp;</span>Материалы</a></span></li><li><span><a href=\"#Изучение-общей-информации\" data-toc-modified-id=\"Изучение-общей-информации-2\"><span class=\"toc-item-num\">2&nbsp;&nbsp;</span>Изучение общей информации</a></span><ul class=\"toc-item\"><li><span><a href=\"#Вывод\" data-toc-modified-id=\"Вывод-2.1\"><span class=\"toc-item-num\">2.1&nbsp;&nbsp;</span>Вывод</a></span></li></ul></li><li><span><a href=\"#Подготовка-данных\" data-toc-modified-id=\"Подготовка-данных-3\"><span class=\"toc-item-num\">3&nbsp;&nbsp;</span>Подготовка данных</a></span><ul class=\"toc-item\"><li><span><a href=\"#Стиль-заголовков\" data-toc-modified-id=\"Стиль-заголовков-3.1\"><span class=\"toc-item-num\">3.1&nbsp;&nbsp;</span>Стиль заголовков</a></span></li><li><span><a href=\"#Замена-типа-данных\" data-toc-modified-id=\"Замена-типа-данных-3.2\"><span class=\"toc-item-num\">3.2&nbsp;&nbsp;</span>Замена типа данных</a></span></li><li><span><a href=\"#Обработка-дубликатов\" data-toc-modified-id=\"Обработка-дубликатов-3.3\"><span class=\"toc-item-num\">3.3&nbsp;&nbsp;</span>Обработка дубликатов</a></span></li><li><span><a href=\"#Добавление-столбцов\" data-toc-modified-id=\"Добавление-столбцов-3.4\"><span class=\"toc-item-num\">3.4&nbsp;&nbsp;</span>Добавление столбцов</a></span></li><li><span><a href=\"#Функции-для-расчета-удержания,-времени-между-событиями-и-проведения-А/В-теста\" data-toc-modified-id=\"Функции-для-расчета-удержания,-времени-между-событиями-и-проведения-А/В-теста-3.5\"><span class=\"toc-item-num\">3.5&nbsp;&nbsp;</span>Функции для расчета удержания, времени между событиями и проведения А/В-теста</a></span></li><li><span><a href=\"#Вывод\" data-toc-modified-id=\"Вывод-3.6\"><span class=\"toc-item-num\">3.6&nbsp;&nbsp;</span>Вывод</a></span></li></ul></li><li><span><a href=\"#Исследовательский-анализ\" data-toc-modified-id=\"Исследовательский-анализ-4\"><span class=\"toc-item-num\">4&nbsp;&nbsp;</span>Исследовательский анализ</a></span><ul class=\"toc-item\"><li><span><a href=\"#Изучение-метрик-вовлеченности-пользователей-(оценка-пользовательской-активности,-средняя-продолжительность-сессии,-трекинг-событий,-конверсия-в-целевое-действие)\" data-toc-modified-id=\"Изучение-метрик-вовлеченности-пользователей-(оценка-пользовательской-активности,-средняя-продолжительность-сессии,-трекинг-событий,-конверсия-в-целевое-действие)-4.1\"><span class=\"toc-item-num\">4.1&nbsp;&nbsp;</span>Изучение метрик вовлеченности пользователей (оценка пользовательской активности, средняя продолжительность сессии, трекинг событий, конверсия в целевое действие)</a></span></li><li><span><a href=\"#Создание-профилей-пользователей\" data-toc-modified-id=\"Создание-профилей-пользователей-4.2\"><span class=\"toc-item-num\">4.2&nbsp;&nbsp;</span>Создание профилей пользователей</a></span></li><li><span><a href=\"#Вывод\" data-toc-modified-id=\"Вывод-4.3\"><span class=\"toc-item-num\">4.3&nbsp;&nbsp;</span>Вывод</a></span></li></ul></li><li><span><a href=\"#Решение-основной-цели-исследования\" data-toc-modified-id=\"Решение-основной-цели-исследования-5\"><span class=\"toc-item-num\">5&nbsp;&nbsp;</span>Решение основной цели исследования</a></span><ul class=\"toc-item\"><li><span><a href=\"#Сегментирование-пользователей-на-основе-действий\" data-toc-modified-id=\"Сегментирование-пользователей-на-основе-действий-5.1\"><span class=\"toc-item-num\">5.1&nbsp;&nbsp;</span>Сегментирование пользователей на основе действий</a></span></li><li><span><a href=\"#Определение-какие-пользователи-склонны-возвращаться-в-мобильное-приложение-(Retention-Rate)\" data-toc-modified-id=\"Определение-какие-пользователи-склонны-возвращаться-в-мобильное-приложение-(Retention-Rate)-5.2\"><span class=\"toc-item-num\">5.2&nbsp;&nbsp;</span>Определение какие пользователи склонны возвращаться в мобильное приложение (Retention Rate)</a></span></li><li><span><a href=\"#Определение-какие-пользователи-часто-делают-целевое-действие-(просмотр-контактов)\" data-toc-modified-id=\"Определение-какие-пользователи-часто-делают-целевое-действие-(просмотр-контактов)-5.3\"><span class=\"toc-item-num\">5.3&nbsp;&nbsp;</span>Определение какие пользователи часто делают целевое действие (просмотр контактов)</a></span></li><li><span><a href=\"#Определение-как-различается-время-между-распространенными-событиями-пользователей\" data-toc-modified-id=\"Определение-как-различается-время-между-распространенными-событиями-пользователей-5.4\"><span class=\"toc-item-num\">5.4&nbsp;&nbsp;</span>Определение как различается время между распространенными событиями пользователей</a></span></li><li><span><a href=\"#Вывод\" data-toc-modified-id=\"Вывод-5.5\"><span class=\"toc-item-num\">5.5&nbsp;&nbsp;</span>Вывод</a></span></li></ul></li><li><span><a href=\"#Проверка-гипотез\" data-toc-modified-id=\"Проверка-гипотез-6\"><span class=\"toc-item-num\">6&nbsp;&nbsp;</span>Проверка гипотез</a></span><ul class=\"toc-item\"><li><span><a href=\"#Проверка-гипотезы:-конверсия-в-просмотры-контактов-пользователей,-установивших-приложение-по-ссылке-из-yandex-и-google-различаются\" data-toc-modified-id=\"Проверка-гипотезы:-конверсия-в-просмотры-контактов-пользователей,-установивших-приложение-по-ссылке-из-yandex-и-google-различаются-6.1\"><span class=\"toc-item-num\">6.1&nbsp;&nbsp;</span>Проверка гипотезы: конверсия в просмотры контактов пользователей, установивших приложение по ссылке из yandex и google различаются</a></span></li><li><span><a href=\"#Проверка-гипотезы:-конверсия-в-просмотры-контактов-пользователей,-кликнувших-рекомендованные-объявления-и-добавивших-объявление-в-избранное-различаются\" data-toc-modified-id=\"Проверка-гипотезы:-конверсия-в-просмотры-контактов-пользователей,-кликнувших-рекомендованные-объявления-и-добавивших-объявление-в-избранное-различаются-6.2\"><span class=\"toc-item-num\">6.2&nbsp;&nbsp;</span>Проверка гипотезы: конверсия в просмотры контактов пользователей, кликнувших рекомендованные объявления и добавивших объявление в избранное различаются</a></span></li><li><span><a href=\"#Вывод\" data-toc-modified-id=\"Вывод-6.3\"><span class=\"toc-item-num\">6.3&nbsp;&nbsp;</span>Вывод</a></span></li></ul></li><li><span><a href=\"#Общий-вывод\" data-toc-modified-id=\"Общий-вывод-7\"><span class=\"toc-item-num\">7&nbsp;&nbsp;</span>Общий вывод</a></span></li></ul></div>"
   ]
  },
  {
   "cell_type": "markdown",
   "metadata": {},
   "source": [
    "# Выделение групп на основе поведения пользователей мобильного приложения продажи ненужных вещей"
   ]
  },
  {
   "cell_type": "markdown",
   "metadata": {},
   "source": [
    "Запрос от Product manager определить целевую аудиторию мобильного приложения \"Ненужные вещи\". В нем пользователи продают свои ненужные вещи, размещая их на доске объявлений. \n",
    "\n",
    "Предоставленные данные содержат информацию о пользователях, впервые совершивших действия в приложении после 7 октября 2019 года.\n",
    "\n",
    "\n",
    "**Цель исследования**\n",
    "\n",
    "- Определить какие пользователи склонны возвращаться в мобильное приложение (Retention Rate);\n",
    "- Определить какие пользователи часто делают целевое действие (просмотр контактов);\n",
    "- Определить как различается время между распространенными событиями пользователей.\n",
    "\n",
    "\n",
    "**Ход исследования**\n",
    "\n",
    "Получим данные о действиях пользователей и событиях из файлов: \n",
    "* /datasets/mobile_dataset.csv\n",
    "* /datasets/mobile_soures.csv\n",
    "\n",
    "\n",
    "О качестве данных ничего неизвестно. Поэтому перед подготовкой ответов понадобится обзор данных.\n",
    "Проверим данные на ошибки и оценим их влияние на исследование. Затем, на этапе предобработки исправим самые критичные ошибки данных.\n",
    " \n",
    "Таким образом, исследование пройдёт в пять этапов:\n",
    "   1. Обзор данных.\n",
    "   2. Подготовка данных.\n",
    "   3. Исследовательский анализ данных.\n",
    "   4. Решение основной цели исследования.\n",
    "   5. Проверка гипотез."
   ]
  },
  {
   "cell_type": "markdown",
   "metadata": {},
   "source": [
    "## Материалы\n",
    "* [Презентация](https://disk.yandex.ru/i/WhhxUL7IYzhe6g)\n",
    "* [Дашборд](https://public.tableau.com/app/profile/victoriya.ivanova5140/viz/_16588672096740/sheet1?publish=yes)"
   ]
  },
  {
   "cell_type": "markdown",
   "metadata": {},
   "source": [
    "## Изучение общей информации"
   ]
  },
  {
   "cell_type": "markdown",
   "metadata": {},
   "source": [
    "Составим первое представление о действиях пользователей и событиях."
   ]
  },
  {
   "cell_type": "code",
   "execution_count": 1,
   "metadata": {},
   "outputs": [],
   "source": [
    "from datetime import datetime, timedelta # импорт функций для работы со временем\n",
    "from scipy import stats as st # импорт функций для работы со статистикой\n",
    "import pandas as pd # импорт библиотеки pandas\n",
    "import matplotlib.pyplot as plt # импорт библиотеки matplotlib\n",
    "import numpy as np # импорт библиотеки numpy\n",
    "import seaborn as sns # импорт библиотеки seaborn\n",
    "import plotly.express as px # импорт библиотеки plotly\n",
    "import math as mth # импорт библиотеки math\n",
    "# оключим предупреждения системы\n",
    "import warnings\n",
    "warnings.filterwarnings('ignore')"
   ]
  },
  {
   "cell_type": "markdown",
   "metadata": {},
   "source": [
    "Прочитаем 2 файла `mobile_dataset.csv`, `mobile_soures.csv` из папки `/datasets`, сохраним их в переменных `data`, `soures` и получим общую информацию о таблицах:"
   ]
  },
  {
   "cell_type": "code",
   "execution_count": 2,
   "metadata": {},
   "outputs": [
    {
     "data": {
      "text/html": [
       "<div>\n",
       "<style scoped>\n",
       "    .dataframe tbody tr th:only-of-type {\n",
       "        vertical-align: middle;\n",
       "    }\n",
       "\n",
       "    .dataframe tbody tr th {\n",
       "        vertical-align: top;\n",
       "    }\n",
       "\n",
       "    .dataframe thead th {\n",
       "        text-align: right;\n",
       "    }\n",
       "</style>\n",
       "<table border=\"1\" class=\"dataframe\">\n",
       "  <thead>\n",
       "    <tr style=\"text-align: right;\">\n",
       "      <th></th>\n",
       "      <th>event.time</th>\n",
       "      <th>event.name</th>\n",
       "      <th>user.id</th>\n",
       "    </tr>\n",
       "  </thead>\n",
       "  <tbody>\n",
       "    <tr>\n",
       "      <th>0</th>\n",
       "      <td>2019-10-07 00:00:00.431357</td>\n",
       "      <td>advert_open</td>\n",
       "      <td>020292ab-89bc-4156-9acf-68bc2783f894</td>\n",
       "    </tr>\n",
       "    <tr>\n",
       "      <th>1</th>\n",
       "      <td>2019-10-07 00:00:01.236320</td>\n",
       "      <td>tips_show</td>\n",
       "      <td>020292ab-89bc-4156-9acf-68bc2783f894</td>\n",
       "    </tr>\n",
       "    <tr>\n",
       "      <th>2</th>\n",
       "      <td>2019-10-07 00:00:02.245341</td>\n",
       "      <td>tips_show</td>\n",
       "      <td>cf7eda61-9349-469f-ac27-e5b6f5ec475c</td>\n",
       "    </tr>\n",
       "    <tr>\n",
       "      <th>3</th>\n",
       "      <td>2019-10-07 00:00:07.039334</td>\n",
       "      <td>tips_show</td>\n",
       "      <td>020292ab-89bc-4156-9acf-68bc2783f894</td>\n",
       "    </tr>\n",
       "    <tr>\n",
       "      <th>4</th>\n",
       "      <td>2019-10-07 00:00:56.319813</td>\n",
       "      <td>advert_open</td>\n",
       "      <td>cf7eda61-9349-469f-ac27-e5b6f5ec475c</td>\n",
       "    </tr>\n",
       "    <tr>\n",
       "      <th>5</th>\n",
       "      <td>2019-10-07 00:01:19.993624</td>\n",
       "      <td>tips_show</td>\n",
       "      <td>cf7eda61-9349-469f-ac27-e5b6f5ec475c</td>\n",
       "    </tr>\n",
       "    <tr>\n",
       "      <th>6</th>\n",
       "      <td>2019-10-07 00:01:27.770232</td>\n",
       "      <td>advert_open</td>\n",
       "      <td>020292ab-89bc-4156-9acf-68bc2783f894</td>\n",
       "    </tr>\n",
       "    <tr>\n",
       "      <th>7</th>\n",
       "      <td>2019-10-07 00:01:34.804591</td>\n",
       "      <td>tips_show</td>\n",
       "      <td>020292ab-89bc-4156-9acf-68bc2783f894</td>\n",
       "    </tr>\n",
       "    <tr>\n",
       "      <th>8</th>\n",
       "      <td>2019-10-07 00:01:49.732803</td>\n",
       "      <td>advert_open</td>\n",
       "      <td>cf7eda61-9349-469f-ac27-e5b6f5ec475c</td>\n",
       "    </tr>\n",
       "    <tr>\n",
       "      <th>9</th>\n",
       "      <td>2019-10-07 00:01:54.958298</td>\n",
       "      <td>advert_open</td>\n",
       "      <td>020292ab-89bc-4156-9acf-68bc2783f894</td>\n",
       "    </tr>\n",
       "  </tbody>\n",
       "</table>\n",
       "</div>"
      ],
      "text/plain": [
       "                   event.time   event.name  \\\n",
       "0  2019-10-07 00:00:00.431357  advert_open   \n",
       "1  2019-10-07 00:00:01.236320    tips_show   \n",
       "2  2019-10-07 00:00:02.245341    tips_show   \n",
       "3  2019-10-07 00:00:07.039334    tips_show   \n",
       "4  2019-10-07 00:00:56.319813  advert_open   \n",
       "5  2019-10-07 00:01:19.993624    tips_show   \n",
       "6  2019-10-07 00:01:27.770232  advert_open   \n",
       "7  2019-10-07 00:01:34.804591    tips_show   \n",
       "8  2019-10-07 00:01:49.732803  advert_open   \n",
       "9  2019-10-07 00:01:54.958298  advert_open   \n",
       "\n",
       "                                user.id  \n",
       "0  020292ab-89bc-4156-9acf-68bc2783f894  \n",
       "1  020292ab-89bc-4156-9acf-68bc2783f894  \n",
       "2  cf7eda61-9349-469f-ac27-e5b6f5ec475c  \n",
       "3  020292ab-89bc-4156-9acf-68bc2783f894  \n",
       "4  cf7eda61-9349-469f-ac27-e5b6f5ec475c  \n",
       "5  cf7eda61-9349-469f-ac27-e5b6f5ec475c  \n",
       "6  020292ab-89bc-4156-9acf-68bc2783f894  \n",
       "7  020292ab-89bc-4156-9acf-68bc2783f894  \n",
       "8  cf7eda61-9349-469f-ac27-e5b6f5ec475c  \n",
       "9  020292ab-89bc-4156-9acf-68bc2783f894  "
      ]
     },
     "execution_count": 2,
     "metadata": {},
     "output_type": "execute_result"
    }
   ],
   "source": [
    "# чтение файла с данными и сохранение в data\n",
    "data = pd.read_csv('https://code.s3.yandex.net/datasets/mobile_dataset.csv')\n",
    "data.head(10)  # получение первых 10 строк таблицы data"
   ]
  },
  {
   "cell_type": "code",
   "execution_count": 3,
   "metadata": {},
   "outputs": [
    {
     "name": "stdout",
     "output_type": "stream",
     "text": [
      "<class 'pandas.core.frame.DataFrame'>\n",
      "RangeIndex: 74197 entries, 0 to 74196\n",
      "Data columns (total 3 columns):\n",
      " #   Column      Non-Null Count  Dtype \n",
      "---  ------      --------------  ----- \n",
      " 0   event.time  74197 non-null  object\n",
      " 1   event.name  74197 non-null  object\n",
      " 2   user.id     74197 non-null  object\n",
      "dtypes: object(3)\n",
      "memory usage: 1.7+ MB\n"
     ]
    }
   ],
   "source": [
    "data.info() # получение общей информации о данных в таблице data"
   ]
  },
  {
   "cell_type": "markdown",
   "metadata": {},
   "source": [
    "В таблице `data` три столбца. \n",
    "\n",
    "Тип данных во всех столбцах — `object`.\n",
    "\n",
    "Согласно документации к данным:\n",
    "\n",
    "* `event.time` — время совершения;\n",
    "* `event.name` — название события;\n",
    "* `user.id` — идентификатор пользователя.\n",
    "\n",
    "Расшифровка событий в столбце `event.name`:\n",
    "* `advert_open` — открытие карточки объявления;\n",
    "* `photos_show` — просмотр фотографий в объявлении;\n",
    "* `tips_show` — пользователь увидел рекомендованные объявления;\n",
    "* `tips_click` — пользователь кликнул по рекомендованному объявлению;\n",
    "* `contacts_show` и `show_contacts` — пользователь нажал на кнопку \"посмотреть номер телефона\" на карточке объявления;\n",
    "* `contacts_call` — пользователь позвонил по номеру телефона на карточке объявления;\n",
    "* `map` — пользователь открыл карту размещенных объявлений;\n",
    "* `search_1 — search_7` — разные события, связанные с поиском по сайту;\n",
    "* `favorites_add` — добавление объявления в избранное.\n",
    "\n",
    "\n",
    "В названии колонок отсутсвует разделение знаком нижнего подчеркивания в имени, состоящем нескольких слов. В столбце `event.time` присутствует несоответствие типа данных. В столбце `event.name` присутствуют неявные дубликаты."
   ]
  },
  {
   "cell_type": "code",
   "execution_count": 4,
   "metadata": {},
   "outputs": [
    {
     "data": {
      "text/html": [
       "<div>\n",
       "<style scoped>\n",
       "    .dataframe tbody tr th:only-of-type {\n",
       "        vertical-align: middle;\n",
       "    }\n",
       "\n",
       "    .dataframe tbody tr th {\n",
       "        vertical-align: top;\n",
       "    }\n",
       "\n",
       "    .dataframe thead th {\n",
       "        text-align: right;\n",
       "    }\n",
       "</style>\n",
       "<table border=\"1\" class=\"dataframe\">\n",
       "  <thead>\n",
       "    <tr style=\"text-align: right;\">\n",
       "      <th></th>\n",
       "      <th>userId</th>\n",
       "      <th>source</th>\n",
       "    </tr>\n",
       "  </thead>\n",
       "  <tbody>\n",
       "    <tr>\n",
       "      <th>0</th>\n",
       "      <td>020292ab-89bc-4156-9acf-68bc2783f894</td>\n",
       "      <td>other</td>\n",
       "    </tr>\n",
       "    <tr>\n",
       "      <th>1</th>\n",
       "      <td>cf7eda61-9349-469f-ac27-e5b6f5ec475c</td>\n",
       "      <td>yandex</td>\n",
       "    </tr>\n",
       "    <tr>\n",
       "      <th>2</th>\n",
       "      <td>8c356c42-3ba9-4cb6-80b8-3f868d0192c3</td>\n",
       "      <td>yandex</td>\n",
       "    </tr>\n",
       "    <tr>\n",
       "      <th>3</th>\n",
       "      <td>d9b06b47-0f36-419b-bbb0-3533e582a6cb</td>\n",
       "      <td>other</td>\n",
       "    </tr>\n",
       "    <tr>\n",
       "      <th>4</th>\n",
       "      <td>f32e1e2a-3027-4693-b793-b7b3ff274439</td>\n",
       "      <td>google</td>\n",
       "    </tr>\n",
       "    <tr>\n",
       "      <th>5</th>\n",
       "      <td>17f6b2db-2964-4d11-89d8-7e38d2cb4750</td>\n",
       "      <td>yandex</td>\n",
       "    </tr>\n",
       "    <tr>\n",
       "      <th>6</th>\n",
       "      <td>62aa104f-592d-4ccb-8226-2ba0e719ded5</td>\n",
       "      <td>yandex</td>\n",
       "    </tr>\n",
       "    <tr>\n",
       "      <th>7</th>\n",
       "      <td>57321726-5d66-4d51-84f4-c797c35dcf2b</td>\n",
       "      <td>google</td>\n",
       "    </tr>\n",
       "    <tr>\n",
       "      <th>8</th>\n",
       "      <td>c2cf55c0-95f7-4269-896c-931d14deaab5</td>\n",
       "      <td>google</td>\n",
       "    </tr>\n",
       "    <tr>\n",
       "      <th>9</th>\n",
       "      <td>48e614d6-fe03-40f7-bf9e-4c4f61c19f64</td>\n",
       "      <td>yandex</td>\n",
       "    </tr>\n",
       "  </tbody>\n",
       "</table>\n",
       "</div>"
      ],
      "text/plain": [
       "                                 userId  source\n",
       "0  020292ab-89bc-4156-9acf-68bc2783f894   other\n",
       "1  cf7eda61-9349-469f-ac27-e5b6f5ec475c  yandex\n",
       "2  8c356c42-3ba9-4cb6-80b8-3f868d0192c3  yandex\n",
       "3  d9b06b47-0f36-419b-bbb0-3533e582a6cb   other\n",
       "4  f32e1e2a-3027-4693-b793-b7b3ff274439  google\n",
       "5  17f6b2db-2964-4d11-89d8-7e38d2cb4750  yandex\n",
       "6  62aa104f-592d-4ccb-8226-2ba0e719ded5  yandex\n",
       "7  57321726-5d66-4d51-84f4-c797c35dcf2b  google\n",
       "8  c2cf55c0-95f7-4269-896c-931d14deaab5  google\n",
       "9  48e614d6-fe03-40f7-bf9e-4c4f61c19f64  yandex"
      ]
     },
     "execution_count": 4,
     "metadata": {},
     "output_type": "execute_result"
    }
   ],
   "source": [
    "# чтение файла с данными и сохранение в sourсes\n",
    "sourсes = pd.read_csv('https://code.s3.yandex.net/datasets/mobile_soures.csv')\n",
    "sourсes.head(10)  # получение первых 10 строк таблицы sourсes"
   ]
  },
  {
   "cell_type": "code",
   "execution_count": 5,
   "metadata": {},
   "outputs": [
    {
     "name": "stdout",
     "output_type": "stream",
     "text": [
      "<class 'pandas.core.frame.DataFrame'>\n",
      "RangeIndex: 4293 entries, 0 to 4292\n",
      "Data columns (total 2 columns):\n",
      " #   Column  Non-Null Count  Dtype \n",
      "---  ------  --------------  ----- \n",
      " 0   userId  4293 non-null   object\n",
      " 1   source  4293 non-null   object\n",
      "dtypes: object(2)\n",
      "memory usage: 67.2+ KB\n"
     ]
    }
   ],
   "source": [
    "sourсes.info() # получение общей информации о данных в таблице sourсes"
   ]
  },
  {
   "cell_type": "markdown",
   "metadata": {},
   "source": [
    "В таблице `sourсes` два столбца. \n",
    "\n",
    "Тип данных во всех столбцах — `object`.\n",
    "\n",
    "Согласно документации к данным:\n",
    "\n",
    "* `userId` — идентификатор пользователя;\n",
    "* `source` — источник, с которого пользователь установил приложение.\n",
    "\n",
    "В названии колонок видны два нарушения стиля:\n",
    "\n",
    "1. Строчные буквы сочетаются с прописными.\n",
    "2. Отсутсвует разделение знаком нижнего подчеркивания в имени, состоящем нескольких слов."
   ]
  },
  {
   "cell_type": "markdown",
   "metadata": {},
   "source": [
    "### Вывод"
   ]
  },
  {
   "cell_type": "markdown",
   "metadata": {},
   "source": [
    "В каждой строке таблиц data и sourсes — данные о пользователе. Данные описывают взаимодействие с приложением: уникальный идентификатор пользователя; дата и время совершения события; совершенное событие и источник, с которого пользователь установил приложение.\n",
    "\n",
    "Предварительно можно утверждать, что, данных достаточно для решения задач. Но встречается несоответствие типа данных, неявные дубликаты, а в названиях колонок — расхождения с хорошим стилем.\n",
    "\n",
    "Чтобы двигаться дальше, нужно устранить проблемы в данных."
   ]
  },
  {
   "cell_type": "markdown",
   "metadata": {},
   "source": [
    "## Подготовка данных"
   ]
  },
  {
   "cell_type": "markdown",
   "metadata": {},
   "source": [
    "### Стиль заголовков"
   ]
  },
  {
   "cell_type": "markdown",
   "metadata": {},
   "source": [
    "Выведем на экран названия столбцов обеих таблиц:"
   ]
  },
  {
   "cell_type": "code",
   "execution_count": 6,
   "metadata": {},
   "outputs": [
    {
     "name": "stdout",
     "output_type": "stream",
     "text": [
      "Index(['event.time', 'event.name', 'user.id'], dtype='object')\n",
      "Index(['userId', 'source'], dtype='object')\n"
     ]
    }
   ],
   "source": [
    "print(data.columns) # перечень названий столбцов таблицы data\n",
    "print(sourсes.columns) # перечень названий столбцов таблицы sourсes"
   ]
  },
  {
   "cell_type": "markdown",
   "metadata": {},
   "source": [
    "Приведем названия в соответствие с хорошим стилем, все символы сделайте строчными и запишем \"змеиным регистром\".\n",
    "\n",
    "Для этого переименуем колонки так:\n",
    "* `'event.time'` → `'event_time'`;\n",
    "* `'event.name'` → `'event_name'`;\n",
    "* `'user.id'` → `'user_id'`;\n",
    "* `'userId'` → `'user_id'`."
   ]
  },
  {
   "cell_type": "code",
   "execution_count": 7,
   "metadata": {},
   "outputs": [],
   "source": [
    "# переименование столбцов в таблице data\n",
    "data = data.rename(columns={'event.time':'event_time', \n",
    "                            'event.name':'event_name', \n",
    "                            'user.id':'user_id'}) "
   ]
  },
  {
   "cell_type": "code",
   "execution_count": 8,
   "metadata": {},
   "outputs": [],
   "source": [
    "# переименование столбцов в таблице sourсes\n",
    "sourсes = sourсes.rename(columns={'userId':'user_id'}) "
   ]
  },
  {
   "cell_type": "markdown",
   "metadata": {},
   "source": [
    "Проверим результат. Для этого ещё раз выведем на экран названия столбцов:"
   ]
  },
  {
   "cell_type": "code",
   "execution_count": 9,
   "metadata": {},
   "outputs": [
    {
     "name": "stdout",
     "output_type": "stream",
     "text": [
      "Index(['event_time', 'event_name', 'user_id'], dtype='object')\n",
      "Index(['user_id', 'source'], dtype='object')\n"
     ]
    }
   ],
   "source": [
    "print(data.columns) # перечень названий столбцов таблицы data\n",
    "print(sourсes.columns) # перечень названий столбцов таблицы sourсes"
   ]
  },
  {
   "cell_type": "markdown",
   "metadata": {},
   "source": [
    "### Замена типа данных"
   ]
  },
  {
   "cell_type": "markdown",
   "metadata": {},
   "source": [
    "В таблице `data` в столбце `'event_time'` для дальнейшей возможности преобразования данных выполним замену типа данных на `datatime`. Для начала ещё раз убедимся в типе данных этого столбца."
   ]
  },
  {
   "cell_type": "code",
   "execution_count": 10,
   "metadata": {},
   "outputs": [
    {
     "name": "stdout",
     "output_type": "stream",
     "text": [
      "object\n"
     ]
    }
   ],
   "source": [
    "# получение типа данных столбца\n",
    "print(data['event_time'].dtypes)"
   ]
  },
  {
   "cell_type": "code",
   "execution_count": 11,
   "metadata": {},
   "outputs": [],
   "source": [
    "# замена типа данных\n",
    "data['event_time'] = data['event_time'].astype('datetime64[s]')\n",
    "#data['event_time'] = pd.to_datetime(data['event_time'])"
   ]
  },
  {
   "cell_type": "markdown",
   "metadata": {},
   "source": [
    "Убедимся, что тип данных изменился. Для этого выведем на экран повторно тип данных столбца таблицы, в котором производили замену."
   ]
  },
  {
   "cell_type": "code",
   "execution_count": 12,
   "metadata": {},
   "outputs": [
    {
     "name": "stdout",
     "output_type": "stream",
     "text": [
      "datetime64[ns]\n"
     ]
    }
   ],
   "source": [
    "# получение типа данных столбца\n",
    "print(data['event_time'].dtypes)"
   ]
  },
  {
   "cell_type": "markdown",
   "metadata": {},
   "source": [
    "###  Обработка дубликатов"
   ]
  },
  {
   "cell_type": "markdown",
   "metadata": {},
   "source": [
    "Проверим данные на наличие пропусков."
   ]
  },
  {
   "cell_type": "code",
   "execution_count": 13,
   "metadata": {},
   "outputs": [
    {
     "name": "stdout",
     "output_type": "stream",
     "text": [
      "event_time    0.0\n",
      "event_name    0.0\n",
      "user_id       0.0\n",
      "dtype: float64\n",
      "user_id    0.0\n",
      "source     0.0\n",
      "dtype: float64\n"
     ]
    }
   ],
   "source": [
    "# подсчёт процента пропусков\n",
    "print(round((data.isna().mean()*100),2))\n",
    "print(round((sourсes.isna().mean()*100),2))"
   ]
  },
  {
   "cell_type": "markdown",
   "metadata": {},
   "source": [
    "В обеих табликах пропуски отсутсвуют.\n",
    "\n",
    "Теперь избавимся от неявных дубликатов в колонке `event_name`. Выведем на экран список уникальных названий событий и количество их упоминаний, отсортированных по убыванию."
   ]
  },
  {
   "cell_type": "code",
   "execution_count": 14,
   "metadata": {},
   "outputs": [
    {
     "data": {
      "text/plain": [
       "tips_show        40055\n",
       "photos_show      10012\n",
       "advert_open       6164\n",
       "contacts_show     4450\n",
       "map               3881\n",
       "search_1          3506\n",
       "favorites_add     1417\n",
       "search_5          1049\n",
       "tips_click         814\n",
       "search_4           701\n",
       "contacts_call      541\n",
       "search_3           522\n",
       "search_6           460\n",
       "search_2           324\n",
       "search_7           222\n",
       "show_contacts       79\n",
       "Name: event_name, dtype: int64"
      ]
     },
     "execution_count": 14,
     "metadata": {},
     "output_type": "execute_result"
    }
   ],
   "source": [
    "# просмотр уникальных названий событий\n",
    "data['event_name'].value_counts().sort_values(ascending=False) "
   ]
  },
  {
   "cell_type": "markdown",
   "metadata": {},
   "source": [
    "Выявлены следующие неявные дубликаты:\n",
    "* *contacts_show*,\n",
    "* *show_contacts*.\n",
    "\n",
    "Объединим их в одном названии события `contacts_show`, т.к оно имеет тот же смысл, но встречается чаще."
   ]
  },
  {
   "cell_type": "code",
   "execution_count": 15,
   "metadata": {},
   "outputs": [],
   "source": [
    "# исправление неправильного на альтернативное название события\n",
    "data['event_name'] = data['event_name'].replace('show_contacts', 'contacts_show')"
   ]
  },
  {
   "cell_type": "code",
   "execution_count": 16,
   "metadata": {},
   "outputs": [
    {
     "data": {
      "text/plain": [
       "tips_show        40055\n",
       "photos_show      10012\n",
       "advert_open       6164\n",
       "contacts_show     4529\n",
       "map               3881\n",
       "search_1          3506\n",
       "favorites_add     1417\n",
       "search_5          1049\n",
       "tips_click         814\n",
       "search_4           701\n",
       "contacts_call      541\n",
       "search_3           522\n",
       "search_6           460\n",
       "search_2           324\n",
       "search_7           222\n",
       "Name: event_name, dtype: int64"
      ]
     },
     "execution_count": 16,
     "metadata": {},
     "output_type": "execute_result"
    }
   ],
   "source": [
    "# проверка устранения неявных дубликатов\n",
    "data['event_name'].value_counts().sort_values(ascending=False) "
   ]
  },
  {
   "cell_type": "markdown",
   "metadata": {},
   "source": [
    "Проверим данные на наличие явных дубликатов."
   ]
  },
  {
   "cell_type": "code",
   "execution_count": 17,
   "metadata": {},
   "outputs": [
    {
     "name": "stdout",
     "output_type": "stream",
     "text": [
      "Количество явных дубликатов в таблице data: 1143\n",
      "Процент явных дубликатов в таблице data: 1.54 %\n",
      "\n",
      "Количество явных дубликатов в таблице sourсes: 0\n",
      "Процент явных дубликатов в таблице sourсes: 0.0 %\n"
     ]
    }
   ],
   "source": [
    "# подсчёт явных дубликатов\n",
    "print(f'Количество явных дубликатов в таблице data: {data.duplicated().sum()}')\n",
    "print('Процент явных дубликатов в таблице data: {} %'\n",
    "      .format(round((data.duplicated().mean()*100),2)))\n",
    "print()\n",
    "print(f'Количество явных дубликатов в таблице sourсes: {sourсes.duplicated().sum()}')\n",
    "print('Процент явных дубликатов в таблице sourсes: {} %'\n",
    "      .format(round((sourсes.duplicated().mean()*100),2)))"
   ]
  },
  {
   "cell_type": "code",
   "execution_count": 18,
   "metadata": {},
   "outputs": [],
   "source": [
    "# удаление явных дубликатов (с удалением старых индексов и формированием новых)\n",
    "data = data.drop_duplicates().reset_index(drop=True)"
   ]
  },
  {
   "cell_type": "code",
   "execution_count": 19,
   "metadata": {},
   "outputs": [
    {
     "name": "stdout",
     "output_type": "stream",
     "text": [
      "Количество явных дубликатов в таблице data: 0\n",
      "Процент явных дубликатов в таблице data: 0.0 %\n"
     ]
    }
   ],
   "source": [
    "# подсчёт явных дубликатов после удаления\n",
    "print(f'Количество явных дубликатов в таблице data: {data.duplicated().sum()}')\n",
    "print('Процент явных дубликатов в таблице data: {} %'\n",
    "      .format(round((data.duplicated().mean()*100),2)))"
   ]
  },
  {
   "cell_type": "markdown",
   "metadata": {},
   "source": [
    "### Добавление столбцов"
   ]
  },
  {
   "cell_type": "markdown",
   "metadata": {},
   "source": [
    "Для удобства анализа добавим столбцы с датой `'event_date'`, неделей `'event_week'` и месяцем `'event_month'`."
   ]
  },
  {
   "cell_type": "code",
   "execution_count": 20,
   "metadata": {},
   "outputs": [],
   "source": [
    "# добавление столбца 'event_date' в формате дата\n",
    "data['event_date'] = data['event_time'].dt.date\n",
    "# добавление столбца 'event_week' с номером недели\n",
    "data['event_week'] = data['event_time'].dt.isocalendar().week\n",
    "# добавление столбца 'event_month' в формате месяца\n",
    "data['event_month'] = data['event_time'].astype('datetime64[M]')"
   ]
  },
  {
   "cell_type": "markdown",
   "metadata": {},
   "source": [
    "Проверим на корректность тип данных добавленных столбцов."
   ]
  },
  {
   "cell_type": "code",
   "execution_count": 21,
   "metadata": {
    "scrolled": true
   },
   "outputs": [
    {
     "name": "stdout",
     "output_type": "stream",
     "text": [
      "event_time     datetime64[ns]\n",
      "event_week             UInt32\n",
      "event_month    datetime64[ns]\n",
      "dtype: object\n"
     ]
    }
   ],
   "source": [
    "# получение типа данных столбцов\n",
    "print(data[['event_time', 'event_week', 'event_month']].dtypes)"
   ]
  },
  {
   "cell_type": "code",
   "execution_count": 22,
   "metadata": {},
   "outputs": [],
   "source": [
    "# добавляем столбец c источником из таблицы sourсes\n",
    "data = data.merge(sourсes, on='user_id', how='left')"
   ]
  },
  {
   "cell_type": "code",
   "execution_count": 23,
   "metadata": {},
   "outputs": [
    {
     "data": {
      "image/png": "[encoded data removed]",
      "text/plain": [
       "<Figure size 1080x648 with 1 Axes>"
      ]
     },
     "metadata": {
      "needs_background": "light"
     },
     "output_type": "display_data"
    }
   ],
   "source": [
    "# добавление столбца с временем между действиями в минутах\n",
    "data['delta_dt'] = data.groupby('user_id')['event_time'].diff().astype(\"timedelta64[m]\")\n",
    "# отображение гистограммы столбца 'delta_dt'\n",
    "data['delta_dt'].hist(bins=30, range=(0, 30), figsize=(15, 9))\n",
    "plt.xlabel('Время')\n",
    "plt.ylabel('Частота')\n",
    "plt.title('Гистрограмма времени между действиями пользователей')\n",
    "plt.show()"
   ]
  },
  {
   "cell_type": "markdown",
   "metadata": {},
   "source": [
    "На графике видно, что между 20 и 28 минутам частота действий снижается до минимального значения. Поэтому выделим сессии относительно тайм-аута, т.е. если между событиями время больше 20 минут, то будем считать, что у пользователя началась следующая сессия. Номера сессий сохраним в таблице `data` в столбце `'session_id'`."
   ]
  },
  {
   "cell_type": "code",
   "execution_count": 24,
   "metadata": {},
   "outputs": [],
   "source": [
    "# сортируем данные\n",
    "data = data.sort_values(['user_id', 'event_time'])"
   ]
  },
  {
   "cell_type": "code",
   "execution_count": 25,
   "metadata": {},
   "outputs": [],
   "source": [
    "# определим разницу 20 минут для каждой группы с накопленной суммой\n",
    "g = (data.groupby('user_id')['event_time'].diff() > pd.Timedelta('20Min')).cumsum()"
   ]
  },
  {
   "cell_type": "code",
   "execution_count": 26,
   "metadata": {},
   "outputs": [],
   "source": [
    "# создадим счетчик групп\n",
    "data['session_id'] = data.groupby(['user_id', g], sort=False).ngroup() + 1"
   ]
  },
  {
   "cell_type": "markdown",
   "metadata": {},
   "source": [
    "Для наглядности выгрузим первые 10 строк таблицы `data`."
   ]
  },
  {
   "cell_type": "code",
   "execution_count": 27,
   "metadata": {},
   "outputs": [
    {
     "data": {
      "text/html": [
       "<div>\n",
       "<style scoped>\n",
       "    .dataframe tbody tr th:only-of-type {\n",
       "        vertical-align: middle;\n",
       "    }\n",
       "\n",
       "    .dataframe tbody tr th {\n",
       "        vertical-align: top;\n",
       "    }\n",
       "\n",
       "    .dataframe thead th {\n",
       "        text-align: right;\n",
       "    }\n",
       "</style>\n",
       "<table border=\"1\" class=\"dataframe\">\n",
       "  <thead>\n",
       "    <tr style=\"text-align: right;\">\n",
       "      <th></th>\n",
       "      <th>event_time</th>\n",
       "      <th>event_name</th>\n",
       "      <th>user_id</th>\n",
       "      <th>event_date</th>\n",
       "      <th>event_week</th>\n",
       "      <th>event_month</th>\n",
       "      <th>source</th>\n",
       "      <th>delta_dt</th>\n",
       "      <th>session_id</th>\n",
       "    </tr>\n",
       "  </thead>\n",
       "  <tbody>\n",
       "    <tr>\n",
       "      <th>792</th>\n",
       "      <td>2019-10-07 13:39:45</td>\n",
       "      <td>tips_show</td>\n",
       "      <td>0001b1d5-b74a-4cbf-aeb0-7df5947bf349</td>\n",
       "      <td>2019-10-07</td>\n",
       "      <td>41</td>\n",
       "      <td>2019-10-01</td>\n",
       "      <td>other</td>\n",
       "      <td>NaN</td>\n",
       "      <td>1</td>\n",
       "    </tr>\n",
       "    <tr>\n",
       "      <th>793</th>\n",
       "      <td>2019-10-07 13:40:31</td>\n",
       "      <td>tips_show</td>\n",
       "      <td>0001b1d5-b74a-4cbf-aeb0-7df5947bf349</td>\n",
       "      <td>2019-10-07</td>\n",
       "      <td>41</td>\n",
       "      <td>2019-10-01</td>\n",
       "      <td>other</td>\n",
       "      <td>0.0</td>\n",
       "      <td>1</td>\n",
       "    </tr>\n",
       "    <tr>\n",
       "      <th>796</th>\n",
       "      <td>2019-10-07 13:41:05</td>\n",
       "      <td>tips_show</td>\n",
       "      <td>0001b1d5-b74a-4cbf-aeb0-7df5947bf349</td>\n",
       "      <td>2019-10-07</td>\n",
       "      <td>41</td>\n",
       "      <td>2019-10-01</td>\n",
       "      <td>other</td>\n",
       "      <td>0.0</td>\n",
       "      <td>1</td>\n",
       "    </tr>\n",
       "    <tr>\n",
       "      <th>807</th>\n",
       "      <td>2019-10-07 13:43:20</td>\n",
       "      <td>tips_show</td>\n",
       "      <td>0001b1d5-b74a-4cbf-aeb0-7df5947bf349</td>\n",
       "      <td>2019-10-07</td>\n",
       "      <td>41</td>\n",
       "      <td>2019-10-01</td>\n",
       "      <td>other</td>\n",
       "      <td>2.0</td>\n",
       "      <td>1</td>\n",
       "    </tr>\n",
       "    <tr>\n",
       "      <th>816</th>\n",
       "      <td>2019-10-07 13:45:30</td>\n",
       "      <td>tips_show</td>\n",
       "      <td>0001b1d5-b74a-4cbf-aeb0-7df5947bf349</td>\n",
       "      <td>2019-10-07</td>\n",
       "      <td>41</td>\n",
       "      <td>2019-10-01</td>\n",
       "      <td>other</td>\n",
       "      <td>2.0</td>\n",
       "      <td>1</td>\n",
       "    </tr>\n",
       "    <tr>\n",
       "      <th>817</th>\n",
       "      <td>2019-10-07 13:45:43</td>\n",
       "      <td>tips_show</td>\n",
       "      <td>0001b1d5-b74a-4cbf-aeb0-7df5947bf349</td>\n",
       "      <td>2019-10-07</td>\n",
       "      <td>41</td>\n",
       "      <td>2019-10-01</td>\n",
       "      <td>other</td>\n",
       "      <td>0.0</td>\n",
       "      <td>1</td>\n",
       "    </tr>\n",
       "    <tr>\n",
       "      <th>818</th>\n",
       "      <td>2019-10-07 13:46:31</td>\n",
       "      <td>tips_show</td>\n",
       "      <td>0001b1d5-b74a-4cbf-aeb0-7df5947bf349</td>\n",
       "      <td>2019-10-07</td>\n",
       "      <td>41</td>\n",
       "      <td>2019-10-01</td>\n",
       "      <td>other</td>\n",
       "      <td>0.0</td>\n",
       "      <td>1</td>\n",
       "    </tr>\n",
       "    <tr>\n",
       "      <th>822</th>\n",
       "      <td>2019-10-07 13:47:32</td>\n",
       "      <td>tips_show</td>\n",
       "      <td>0001b1d5-b74a-4cbf-aeb0-7df5947bf349</td>\n",
       "      <td>2019-10-07</td>\n",
       "      <td>41</td>\n",
       "      <td>2019-10-01</td>\n",
       "      <td>other</td>\n",
       "      <td>1.0</td>\n",
       "      <td>1</td>\n",
       "    </tr>\n",
       "    <tr>\n",
       "      <th>825</th>\n",
       "      <td>2019-10-07 13:49:41</td>\n",
       "      <td>tips_show</td>\n",
       "      <td>0001b1d5-b74a-4cbf-aeb0-7df5947bf349</td>\n",
       "      <td>2019-10-07</td>\n",
       "      <td>41</td>\n",
       "      <td>2019-10-01</td>\n",
       "      <td>other</td>\n",
       "      <td>2.0</td>\n",
       "      <td>1</td>\n",
       "    </tr>\n",
       "    <tr>\n",
       "      <th>6464</th>\n",
       "      <td>2019-10-09 18:33:55</td>\n",
       "      <td>map</td>\n",
       "      <td>0001b1d5-b74a-4cbf-aeb0-7df5947bf349</td>\n",
       "      <td>2019-10-09</td>\n",
       "      <td>41</td>\n",
       "      <td>2019-10-01</td>\n",
       "      <td>other</td>\n",
       "      <td>3164.0</td>\n",
       "      <td>2</td>\n",
       "    </tr>\n",
       "  </tbody>\n",
       "</table>\n",
       "</div>"
      ],
      "text/plain": [
       "              event_time event_name                               user_id  \\\n",
       "792  2019-10-07 13:39:45  tips_show  0001b1d5-b74a-4cbf-aeb0-7df5947bf349   \n",
       "793  2019-10-07 13:40:31  tips_show  0001b1d5-b74a-4cbf-aeb0-7df5947bf349   \n",
       "796  2019-10-07 13:41:05  tips_show  0001b1d5-b74a-4cbf-aeb0-7df5947bf349   \n",
       "807  2019-10-07 13:43:20  tips_show  0001b1d5-b74a-4cbf-aeb0-7df5947bf349   \n",
       "816  2019-10-07 13:45:30  tips_show  0001b1d5-b74a-4cbf-aeb0-7df5947bf349   \n",
       "817  2019-10-07 13:45:43  tips_show  0001b1d5-b74a-4cbf-aeb0-7df5947bf349   \n",
       "818  2019-10-07 13:46:31  tips_show  0001b1d5-b74a-4cbf-aeb0-7df5947bf349   \n",
       "822  2019-10-07 13:47:32  tips_show  0001b1d5-b74a-4cbf-aeb0-7df5947bf349   \n",
       "825  2019-10-07 13:49:41  tips_show  0001b1d5-b74a-4cbf-aeb0-7df5947bf349   \n",
       "6464 2019-10-09 18:33:55        map  0001b1d5-b74a-4cbf-aeb0-7df5947bf349   \n",
       "\n",
       "      event_date  event_week event_month source  delta_dt  session_id  \n",
       "792   2019-10-07          41  2019-10-01  other       NaN           1  \n",
       "793   2019-10-07          41  2019-10-01  other       0.0           1  \n",
       "796   2019-10-07          41  2019-10-01  other       0.0           1  \n",
       "807   2019-10-07          41  2019-10-01  other       2.0           1  \n",
       "816   2019-10-07          41  2019-10-01  other       2.0           1  \n",
       "817   2019-10-07          41  2019-10-01  other       0.0           1  \n",
       "818   2019-10-07          41  2019-10-01  other       0.0           1  \n",
       "822   2019-10-07          41  2019-10-01  other       1.0           1  \n",
       "825   2019-10-07          41  2019-10-01  other       2.0           1  \n",
       "6464  2019-10-09          41  2019-10-01  other    3164.0           2  "
      ]
     },
     "metadata": {},
     "output_type": "display_data"
    }
   ],
   "source": [
    "display(data.head(10)) # отображение таблицы data"
   ]
  },
  {
   "cell_type": "markdown",
   "metadata": {},
   "source": [
    "### Функции для расчета удержания, времени между событиями и проведения А/В-теста"
   ]
  },
  {
   "cell_type": "markdown",
   "metadata": {},
   "source": [
    "Напишем функции для расчёта удержания и времени между событиями: `get_retention()`, `actual_time()`."
   ]
  },
  {
   "cell_type": "code",
   "execution_count": 28,
   "metadata": {},
   "outputs": [],
   "source": [
    "# функция для расчёта удержания\n",
    "\n",
    "def get_retention(\n",
    "    profiles,\n",
    "    sessions,\n",
    "    observation_date,\n",
    "    analysis_horizon,\n",
    "    dimensions=[],\n",
    "    ignore_horizon=False,\n",
    "):\n",
    "\n",
    "    # исключаем пользователей, не «доживших» до горизонта анализа\n",
    "    last_suitable_acquisition_date = observation_date\n",
    "    if not ignore_horizon:\n",
    "        last_suitable_acquisition_date = observation_date - timedelta(days=analysis_horizon - 1)\n",
    "        result_raw = profiles.query('dt <= @last_suitable_acquisition_date')\n",
    "\n",
    "    # собираем «сырые» данные для расчёта удержания\n",
    "    result_raw = result_raw.merge(sessions[['user_id', 'session_start']], on='user_id', how='left')\n",
    "    result_raw['lifetime'] = (result_raw['session_start'] - result_raw['first_ts']).dt.days\n",
    "\n",
    "    # рассчитываем коэффициент удержания\n",
    "    \n",
    "    # строим таблицу удержания\n",
    "    result_grouped = result_raw.pivot_table(index=dimensions, columns='lifetime', values='user_id', aggfunc='nunique')\n",
    "    # вычисляем размеры когорт     \n",
    "    cohort_sizes = (\n",
    "            result_raw.groupby(dimensions)\n",
    "            .agg({'user_id': 'nunique'})\n",
    "            .rename(columns={'user_id': 'cohort_size'})\n",
    "    )   \n",
    "    # объединяем размеры когорт и таблицу удержания\n",
    "    result_grouped = cohort_sizes.merge(result_grouped, on=dimensions, how='left').fillna(0)\n",
    "    # делим данные таблицы удержания на размеры когорт    \n",
    "    result_grouped = result_grouped.div(result_grouped['cohort_size'], axis=0)\n",
    "    # исключаем из результата все лайфтаймы, превышающие горизонт анализа\n",
    "    result_grouped = result_grouped[['cohort_size'] + list(range(analysis_horizon))]\n",
    "    # восстанавливаем столбец с размерами когорт\n",
    "    result_grouped['cohort_size'] = cohort_sizes\n",
    "        \n",
    "    # возвращаем сырые данные и таблицу удержания\n",
    "    return result_raw, result_grouped"
   ]
  },
  {
   "cell_type": "code",
   "execution_count": 29,
   "metadata": {},
   "outputs": [],
   "source": [
    "# функция для расчёта времени между событиями\n",
    "\n",
    "def actual_time(df, event, direction):\n",
    "    avg_times = {}\n",
    "    \n",
    "    # срез данных за исключением основного события\n",
    "    actions = df[df['event_name'] != event]\n",
    "    \n",
    "    # определение времени основного события в каждой сессии\n",
    "    sessions_show_time = (\n",
    "        df[df['event_name'] == event][['session_id', 'event_time']]\n",
    "        .groupby(by=['session_id'])\n",
    "        .first()\n",
    "        .reset_index()\n",
    "    )\n",
    "    # определение времени других события в каждой сессии\n",
    "    for index, row in sessions_show_time.iterrows():\n",
    "        session_actions = (\n",
    "            actions[actions['session_id'] == row['session_id']][['event_name', 'event_time']]\n",
    "            .groupby(by=['event_name'])\n",
    "            .last()\n",
    "            .reset_index()\n",
    "        )\n",
    "        # расчет времени между основным событием и остальными событиями\n",
    "        for index1, row1 in session_actions.iterrows():\n",
    "            delta = row['event_time'] - row1['event_time']\n",
    "\n",
    "            if (((delta.total_seconds() >= 0) and (direction >= 0)) \n",
    "                or ((direction < 0) and (delta.total_seconds() < 0))):\n",
    "                if row1['event_name'] in avg_times:\n",
    "                    avg_times[row1['event_name']] = (\n",
    "                        abs(round((avg_times[row1['event_name']] + delta.total_seconds()) / 2))\n",
    "                    )\n",
    "                else:\n",
    "                    avg_times[row1['event_name']] = abs(round(delta.total_seconds()))\n",
    "    # сортировка времени по возрастанию\n",
    "    sorted_avg_times = sorted(avg_times.items(), key=lambda x: x[1])\n",
    "    \n",
    "    # возвращаем таблицу с данными\n",
    "    return sorted_avg_times"
   ]
  },
  {
   "cell_type": "markdown",
   "metadata": {},
   "source": [
    "А также функции для визуализации этих метрик — `plot_retention()`, `plot_time()`."
   ]
  },
  {
   "cell_type": "code",
   "execution_count": 30,
   "metadata": {},
   "outputs": [],
   "source": [
    "# функция для визуализации удержания\n",
    "\n",
    "def plot_retention(retention, horizon, dim):\n",
    "\n",
    "    # исключаем размеры когорт \n",
    "    retention = retention.drop(columns=['cohort_size'])\n",
    "\n",
    "    # строим тепловую карту удержания\n",
    "    plt.figure(figsize=(15,10))\n",
    "    plt.title('Таблица удержания')\n",
    "    ax = sns.heatmap(data=retention, annot=True, fmt='.0%', vmin=0.0, vmax=1,cmap='Reds')\n",
    "    ax.set_yticklabels(retention_grouped.index)\n",
    "    fig=ax.get_figure()\n",
    "    fig.savefig(\"Retention_Rate.png\")\n",
    "    plt.xlabel('Лайфтайм');\n",
    "    plt.ylabel(dim);\n",
    "    plt.show()"
   ]
  },
  {
   "cell_type": "code",
   "execution_count": 31,
   "metadata": {},
   "outputs": [],
   "source": [
    "# визуализация времени между событиями\n",
    "\n",
    "def plot_time(df, event):\n",
    "# формирование датафрейма\n",
    "    actual_time = pd.DataFrame({'event_name' : df['event_name'].tolist()\n",
    "                             , 'time_group_1': df['time_to_contact_show_g1'].tolist()\n",
    "                             , 'time_group_2': df['time_to_contact_show_g2'].tolist()})\n",
    "    # построение графика\n",
    "    fig = px.bar(\n",
    "        actual_time\n",
    "        , x = 'event_name'\n",
    "        , y = ['time_group_1', 'time_group_2']\n",
    "        , title = f'График времени между {event} и другими событиями'\n",
    "        , labels = dict(event_name = 'Действие')\n",
    "    )\n",
    "    fig.update_layout(barmode='group'\n",
    "                      , yaxis=dict(title='Время, сек'))\n",
    "    fig.show() "
   ]
  },
  {
   "cell_type": "code",
   "execution_count": 32,
   "metadata": {},
   "outputs": [],
   "source": [
    "# функция для проведения А/В-теста\n",
    "\n",
    "def z_test(alpha, successes_1, successes_2, trials_1, trials_2):\n",
    "    # пропорция успехов в первой группе:\n",
    "    p1 = successes_1/trials_1\n",
    "\n",
    "    # пропорция успехов во второй группе:\n",
    "    p2 = successes_2/trials_2\n",
    "\n",
    "    # пропорция успехов в комбинированном датасете:\n",
    "    p_combined = (successes_1 + successes_2) / (trials_1 + trials_2)\n",
    "\n",
    "    # разница пропорций в датасетах\n",
    "    difference = p1 - p2 \n",
    "\n",
    "    # считаем статистику в ст.отклонениях стандартного нормального распределения\n",
    "    z_value = difference / mth.sqrt(\n",
    "        p_combined * (1 - p_combined) * (1 / trials_1 + 1 / trials_2)\n",
    "    )\n",
    "\n",
    "    # задаем стандартное нормальное распределение (среднее 0, ст.отклонение 1)\n",
    "    distr = st.norm(0, 1)\n",
    "\n",
    "    p_value = round((1 - distr.cdf(abs(z_value))) * 2, 2)\n",
    "\n",
    "    if p_value < alpha:\n",
    "        print('p-значение: ', p_value\n",
    "          , '\\n','Отвергаем нулевую гипотезу: между долями есть значимая разница')\n",
    "    else:\n",
    "        print('p-значение: ', p_value\n",
    "          , '\\n', 'Не получилось отвергнуть нулевую гипотезу, нет оснований считать доли разными')"
   ]
  },
  {
   "cell_type": "markdown",
   "metadata": {},
   "source": [
    "### Вывод"
   ]
  },
  {
   "cell_type": "markdown",
   "metadata": {},
   "source": [
    "1. Привели названия столбцов в соответствие с хорошим стилем, все символы сделали строчными.\n",
    "\n",
    "2. Произвели замену типа данных с *object* на *datetime64[ns]* в столбце `'event_time'`.\n",
    "\n",
    "3. Убедились в отсутсвии пропусков.\n",
    "\n",
    "4. Сделали замену названия события `show_contacts` на `contacts_show`.\n",
    "\n",
    "5. Удалили 1143 явных дубликата.\n",
    "\n",
    "6. В таблицу `data` добавили столбцы:\n",
    "* с датой `'event_date'`;\n",
    "* с неделей `'event_week'`;\n",
    "* с месяцем `'event_month'`;\n",
    "* с источником `'source'`\n",
    "* с номером сессии `'session_id'`."
   ]
  },
  {
   "cell_type": "markdown",
   "metadata": {},
   "source": [
    "## Исследовательский анализ"
   ]
  },
  {
   "cell_type": "markdown",
   "metadata": {},
   "source": [
    "### Изучение метрик вовлеченности пользователей (оценка пользовательской активности, средняя продолжительность сессии, трекинг событий, конверсия в целевое действие)"
   ]
  },
  {
   "cell_type": "markdown",
   "metadata": {},
   "source": [
    "Для начала узнаем доступный интервал привлечения пользователей."
   ]
  },
  {
   "cell_type": "code",
   "execution_count": 33,
   "metadata": {},
   "outputs": [
    {
     "name": "stdout",
     "output_type": "stream",
     "text": [
      "Минимальная дата привлечения пользователей: 2019-10-07\n",
      "Максимальная дата привлечения пользователей: 2019-11-03\n"
     ]
    }
   ],
   "source": [
    "min_analysis_date = data['event_date'].min()\n",
    "observation_date = data['event_date'].max() \n",
    "print(f'Минимальная дата привлечения пользователей: {min_analysis_date}')\n",
    "print(f'Максимальная дата привлечения пользователей: {observation_date}')"
   ]
  },
  {
   "cell_type": "markdown",
   "metadata": {},
   "source": [
    "Посмотрим на активность пользователей c помощью метрик `DAU` и `WAU`. Количество уникальных пользователей в месяц рассматривать нет смысла с учетом доступного нам интервала."
   ]
  },
  {
   "cell_type": "code",
   "execution_count": 34,
   "metadata": {},
   "outputs": [
    {
     "data": {
      "text/html": [
       "<div>\n",
       "<style scoped>\n",
       "    .dataframe tbody tr th:only-of-type {\n",
       "        vertical-align: middle;\n",
       "    }\n",
       "\n",
       "    .dataframe tbody tr th {\n",
       "        vertical-align: top;\n",
       "    }\n",
       "\n",
       "    .dataframe thead th {\n",
       "        text-align: right;\n",
       "    }\n",
       "</style>\n",
       "<table border=\"1\" class=\"dataframe\">\n",
       "  <thead>\n",
       "    <tr style=\"text-align: right;\">\n",
       "      <th>source</th>\n",
       "      <th>google</th>\n",
       "      <th>other</th>\n",
       "      <th>yandex</th>\n",
       "    </tr>\n",
       "    <tr>\n",
       "      <th>event_date</th>\n",
       "      <th></th>\n",
       "      <th></th>\n",
       "      <th></th>\n",
       "    </tr>\n",
       "  </thead>\n",
       "  <tbody>\n",
       "    <tr>\n",
       "      <th>2019-10-07</th>\n",
       "      <td>56</td>\n",
       "      <td>58</td>\n",
       "      <td>90</td>\n",
       "    </tr>\n",
       "    <tr>\n",
       "      <th>2019-10-08</th>\n",
       "      <td>51</td>\n",
       "      <td>61</td>\n",
       "      <td>92</td>\n",
       "    </tr>\n",
       "    <tr>\n",
       "      <th>2019-10-09</th>\n",
       "      <td>60</td>\n",
       "      <td>62</td>\n",
       "      <td>105</td>\n",
       "    </tr>\n",
       "    <tr>\n",
       "      <th>2019-10-10</th>\n",
       "      <td>48</td>\n",
       "      <td>76</td>\n",
       "      <td>109</td>\n",
       "    </tr>\n",
       "    <tr>\n",
       "      <th>2019-10-11</th>\n",
       "      <td>51</td>\n",
       "      <td>47</td>\n",
       "      <td>108</td>\n",
       "    </tr>\n",
       "    <tr>\n",
       "      <th>2019-10-12</th>\n",
       "      <td>44</td>\n",
       "      <td>48</td>\n",
       "      <td>86</td>\n",
       "    </tr>\n",
       "    <tr>\n",
       "      <th>2019-10-13</th>\n",
       "      <td>49</td>\n",
       "      <td>58</td>\n",
       "      <td>119</td>\n",
       "    </tr>\n",
       "    <tr>\n",
       "      <th>2019-10-14</th>\n",
       "      <td>68</td>\n",
       "      <td>90</td>\n",
       "      <td>140</td>\n",
       "    </tr>\n",
       "    <tr>\n",
       "      <th>2019-10-15</th>\n",
       "      <td>70</td>\n",
       "      <td>90</td>\n",
       "      <td>143</td>\n",
       "    </tr>\n",
       "    <tr>\n",
       "      <th>2019-10-16</th>\n",
       "      <td>79</td>\n",
       "      <td>84</td>\n",
       "      <td>115</td>\n",
       "    </tr>\n",
       "    <tr>\n",
       "      <th>2019-10-17</th>\n",
       "      <td>89</td>\n",
       "      <td>85</td>\n",
       "      <td>133</td>\n",
       "    </tr>\n",
       "    <tr>\n",
       "      <th>2019-10-18</th>\n",
       "      <td>88</td>\n",
       "      <td>84</td>\n",
       "      <td>136</td>\n",
       "    </tr>\n",
       "    <tr>\n",
       "      <th>2019-10-19</th>\n",
       "      <td>82</td>\n",
       "      <td>74</td>\n",
       "      <td>115</td>\n",
       "    </tr>\n",
       "    <tr>\n",
       "      <th>2019-10-20</th>\n",
       "      <td>81</td>\n",
       "      <td>65</td>\n",
       "      <td>128</td>\n",
       "    </tr>\n",
       "    <tr>\n",
       "      <th>2019-10-21</th>\n",
       "      <td>81</td>\n",
       "      <td>102</td>\n",
       "      <td>143</td>\n",
       "    </tr>\n",
       "    <tr>\n",
       "      <th>2019-10-22</th>\n",
       "      <td>89</td>\n",
       "      <td>96</td>\n",
       "      <td>125</td>\n",
       "    </tr>\n",
       "    <tr>\n",
       "      <th>2019-10-23</th>\n",
       "      <td>103</td>\n",
       "      <td>99</td>\n",
       "      <td>150</td>\n",
       "    </tr>\n",
       "    <tr>\n",
       "      <th>2019-10-24</th>\n",
       "      <td>87</td>\n",
       "      <td>81</td>\n",
       "      <td>151</td>\n",
       "    </tr>\n",
       "    <tr>\n",
       "      <th>2019-10-25</th>\n",
       "      <td>75</td>\n",
       "      <td>88</td>\n",
       "      <td>142</td>\n",
       "    </tr>\n",
       "    <tr>\n",
       "      <th>2019-10-26</th>\n",
       "      <td>79</td>\n",
       "      <td>85</td>\n",
       "      <td>123</td>\n",
       "    </tr>\n",
       "    <tr>\n",
       "      <th>2019-10-27</th>\n",
       "      <td>82</td>\n",
       "      <td>83</td>\n",
       "      <td>134</td>\n",
       "    </tr>\n",
       "    <tr>\n",
       "      <th>2019-10-28</th>\n",
       "      <td>88</td>\n",
       "      <td>103</td>\n",
       "      <td>157</td>\n",
       "    </tr>\n",
       "    <tr>\n",
       "      <th>2019-10-29</th>\n",
       "      <td>88</td>\n",
       "      <td>105</td>\n",
       "      <td>119</td>\n",
       "    </tr>\n",
       "    <tr>\n",
       "      <th>2019-10-30</th>\n",
       "      <td>74</td>\n",
       "      <td>108</td>\n",
       "      <td>131</td>\n",
       "    </tr>\n",
       "    <tr>\n",
       "      <th>2019-10-31</th>\n",
       "      <td>77</td>\n",
       "      <td>112</td>\n",
       "      <td>136</td>\n",
       "    </tr>\n",
       "    <tr>\n",
       "      <th>2019-11-01</th>\n",
       "      <td>86</td>\n",
       "      <td>87</td>\n",
       "      <td>106</td>\n",
       "    </tr>\n",
       "    <tr>\n",
       "      <th>2019-11-02</th>\n",
       "      <td>67</td>\n",
       "      <td>80</td>\n",
       "      <td>93</td>\n",
       "    </tr>\n",
       "    <tr>\n",
       "      <th>2019-11-03</th>\n",
       "      <td>76</td>\n",
       "      <td>77</td>\n",
       "      <td>132</td>\n",
       "    </tr>\n",
       "  </tbody>\n",
       "</table>\n",
       "</div>"
      ],
      "text/plain": [
       "source      google  other  yandex\n",
       "event_date                       \n",
       "2019-10-07      56     58      90\n",
       "2019-10-08      51     61      92\n",
       "2019-10-09      60     62     105\n",
       "2019-10-10      48     76     109\n",
       "2019-10-11      51     47     108\n",
       "2019-10-12      44     48      86\n",
       "2019-10-13      49     58     119\n",
       "2019-10-14      68     90     140\n",
       "2019-10-15      70     90     143\n",
       "2019-10-16      79     84     115\n",
       "2019-10-17      89     85     133\n",
       "2019-10-18      88     84     136\n",
       "2019-10-19      82     74     115\n",
       "2019-10-20      81     65     128\n",
       "2019-10-21      81    102     143\n",
       "2019-10-22      89     96     125\n",
       "2019-10-23     103     99     150\n",
       "2019-10-24      87     81     151\n",
       "2019-10-25      75     88     142\n",
       "2019-10-26      79     85     123\n",
       "2019-10-27      82     83     134\n",
       "2019-10-28      88    103     157\n",
       "2019-10-29      88    105     119\n",
       "2019-10-30      74    108     131\n",
       "2019-10-31      77    112     136\n",
       "2019-11-01      86     87     106\n",
       "2019-11-02      67     80      93\n",
       "2019-11-03      76     77     132"
      ]
     },
     "metadata": {},
     "output_type": "display_data"
    },
    {
     "name": "stdout",
     "output_type": "stream",
     "text": [
      "Количество уникальных пользователей в день за весь период: 279\n",
      "Количество уникальных пользователей в день, пришедших из yandex за весь период: 123\n",
      "Количество уникальных пользователей в день, пришедших из google за весь период: 73\n",
      "Количество уникальных пользователей в день, пришедших из других источников за весь период: 81\n"
     ]
    },
    {
     "data": {
      "image/png": "[encoded data removed]",
      "text/plain": [
       "<Figure size 1080x360 with 1 Axes>"
      ]
     },
     "metadata": {
      "needs_background": "light"
     },
     "output_type": "display_data"
    }
   ],
   "source": [
    "# подсчет DAU для каждого дня и источника\n",
    "data_metric_dau = data.pivot_table(index='event_date',\n",
    "                               columns='source', \n",
    "                               values='user_id',\n",
    "                               aggfunc='nunique')\n",
    "# отображение первых 5 строк таблицы \n",
    "display(data_metric_dau)\n",
    "\n",
    "# подсчет DAU за весь период\n",
    "dau_total = data.groupby('event_date').agg({'user_id': 'nunique'}).mean()\n",
    "print(f'Количество уникальных пользователей в день за весь период:', int(dau_total))\n",
    "print(f'Количество уникальных пользователей в день, пришедших из yandex за весь период:',\n",
    "      int(data_metric_dau['yandex'].mean()))\n",
    "print(f'Количество уникальных пользователей в день, пришедших из google за весь период:',\n",
    "      int(data_metric_dau['google'].mean()))\n",
    "print(f'Количество уникальных пользователей в день, пришедших из других источников за весь период:',\n",
    "      int(data_metric_dau['other'].mean()))\n",
    "\n",
    "# строительство гистограммы зависимости количества уникальных пользователей от даты и источника\n",
    "data_metric_dau.sort_values(by='event_date').plot(kind='bar', stacked=True,  figsize=(15, 5))\n",
    "plt.legend()\n",
    "plt.xlabel('Дата')\n",
    "plt.ylabel('Количество уникальных пользователей')\n",
    "plt.title('Гистограмма зависимости количества уникальных пользователей от даты и источника')\n",
    "plt.show()"
   ]
  },
  {
   "cell_type": "markdown",
   "metadata": {},
   "source": [
    "Согласно полученным данным хорошо видно, что в начале месяца, а особенно 12 октября было самое маленькое количество пользователей, в районе 200. Но начиная со следующего дня начинается рост и уже 14 октября картина стабилизируется и до конца месяца держится стабильно в районе 300 с небольшими колебаниями. Самые высокие значения были достигнуты 21 (326), 23 (352) и 28 октября (348). В начале ноябрь количество пользователей опять снижается, но показатели лучше относительно началя октября, минимальное количество было 2 ноября в размере 240 пользователей. Для подтверждения закономерности снижения активности пользователей в начале месяца данных недостаточно, требуется анализ за больший период. Также видно, что пользователей, которые установили приложение по ссылке из *yandex* в среднем больше примерно на 34-41%."
   ]
  },
  {
   "cell_type": "code",
   "execution_count": 35,
   "metadata": {},
   "outputs": [
    {
     "data": {
      "text/html": [
       "<div>\n",
       "<style scoped>\n",
       "    .dataframe tbody tr th:only-of-type {\n",
       "        vertical-align: middle;\n",
       "    }\n",
       "\n",
       "    .dataframe tbody tr th {\n",
       "        vertical-align: top;\n",
       "    }\n",
       "\n",
       "    .dataframe thead th {\n",
       "        text-align: right;\n",
       "    }\n",
       "</style>\n",
       "<table border=\"1\" class=\"dataframe\">\n",
       "  <thead>\n",
       "    <tr style=\"text-align: right;\">\n",
       "      <th>source</th>\n",
       "      <th>google</th>\n",
       "      <th>other</th>\n",
       "      <th>yandex</th>\n",
       "    </tr>\n",
       "    <tr>\n",
       "      <th>event_week</th>\n",
       "      <th></th>\n",
       "      <th></th>\n",
       "      <th></th>\n",
       "    </tr>\n",
       "  </thead>\n",
       "  <tbody>\n",
       "    <tr>\n",
       "      <th>41</th>\n",
       "      <td>284</td>\n",
       "      <td>308</td>\n",
       "      <td>538</td>\n",
       "    </tr>\n",
       "    <tr>\n",
       "      <th>42</th>\n",
       "      <td>393</td>\n",
       "      <td>404</td>\n",
       "      <td>641</td>\n",
       "    </tr>\n",
       "    <tr>\n",
       "      <th>43</th>\n",
       "      <td>406</td>\n",
       "      <td>443</td>\n",
       "      <td>697</td>\n",
       "    </tr>\n",
       "    <tr>\n",
       "      <th>44</th>\n",
       "      <td>353</td>\n",
       "      <td>442</td>\n",
       "      <td>621</td>\n",
       "    </tr>\n",
       "  </tbody>\n",
       "</table>\n",
       "</div>"
      ],
      "text/plain": [
       "source      google  other  yandex\n",
       "event_week                       \n",
       "41             284    308     538\n",
       "42             393    404     641\n",
       "43             406    443     697\n",
       "44             353    442     621"
      ]
     },
     "metadata": {},
     "output_type": "display_data"
    },
    {
     "name": "stdout",
     "output_type": "stream",
     "text": [
      "Количество уникальных пользователей в неделю за весь период: 1382\n",
      "Количество уникальных пользователей в неделю, пришедших из yandex за весь период: 624\n",
      "Количество уникальных пользователей в неделю, пришедших из google за весь период: 359\n",
      "Количество уникальных пользователей в неделю, пришедших из других источников за весь период: 399\n"
     ]
    },
    {
     "data": {
      "image/png": "[encoded data removed]",
      "text/plain": [
       "<Figure size 1080x360 with 1 Axes>"
      ]
     },
     "metadata": {
      "needs_background": "light"
     },
     "output_type": "display_data"
    }
   ],
   "source": [
    "# подсчет WAU для каждого дня и источника\n",
    "data_metric_wau = data.pivot_table(index='event_week',\n",
    "                               columns='source', \n",
    "                               values='user_id',\n",
    "                               aggfunc='nunique')\n",
    "# отображение таблицы \n",
    "display(data_metric_wau)\n",
    "\n",
    "# подсчет WAU за весь период\n",
    "wau_total = data.groupby('event_week').agg({'user_id': 'nunique'}).mean()\n",
    "print(f'Количество уникальных пользователей в неделю за весь период:', int(wau_total))\n",
    "print(f'Количество уникальных пользователей в неделю, пришедших из yandex за весь период:',\n",
    "      int(data_metric_wau['yandex'].mean()))\n",
    "print(f'Количество уникальных пользователей в неделю, пришедших из google за весь период:',\n",
    "      int(data_metric_wau['google'].mean()))\n",
    "print(f'Количество уникальных пользователей в неделю, пришедших из других источников за весь период:',\n",
    "      int(data_metric_wau['other'].mean()))\n",
    "\n",
    "# строительство гистограммы зависимости количества уникальных пользователей от недели и источника\n",
    "data_metric_wau.sort_values(by='event_week').plot(kind='bar', stacked=True,  figsize=(15, 5))\n",
    "plt.legend()\n",
    "plt.xlabel('Дата')\n",
    "plt.ylabel('Количество уникальных пользователей')\n",
    "plt.title('Гистограмма зависимости количества уникальных пользователей от недели и источника')\n",
    "plt.show()"
   ]
  },
  {
   "cell_type": "markdown",
   "metadata": {},
   "source": [
    "Полученные данные подтверждают выводы, сделанные на основе DAU. Самая активная неделя по количеству пользователей оказалась 43 (21-27 октября). Также за неделю пользователей, пришедших в приложение из яндекс в среднем больше на 36-42%, чем из остальных источников. Данных факт говорит о более активном продвижении приложения через данный рекламный источник."
   ]
  },
  {
   "cell_type": "code",
   "execution_count": 36,
   "metadata": {},
   "outputs": [
    {
     "name": "stdout",
     "output_type": "stream",
     "text": [
      "user_id    20.193748\n",
      "dtype: float64\n"
     ]
    }
   ],
   "source": [
    "# sticky factor в процентах по отношению к недельной аудитории\n",
    "sticky_wau = dau_total/wau_total*100\n",
    "print(sticky_wau)"
   ]
  },
  {
   "cell_type": "markdown",
   "metadata": {},
   "source": [
    "В неделю в среднем возвращается 20% пользователей - неплохое значение для нашего приложения.\n",
    "\n",
    "Теперь рассчитаем среднюю продолжительность одной сессии. Для этого сгруппируем данные по номеру сессии,пользователю и выделим первое и последнее время совершения события. Детьту между ними отобразим в секундах."
   ]
  },
  {
   "cell_type": "code",
   "execution_count": 37,
   "metadata": {},
   "outputs": [
    {
     "data": {
      "text/html": [
       "<div>\n",
       "<style scoped>\n",
       "    .dataframe tbody tr th:only-of-type {\n",
       "        vertical-align: middle;\n",
       "    }\n",
       "\n",
       "    .dataframe tbody tr th {\n",
       "        vertical-align: top;\n",
       "    }\n",
       "\n",
       "    .dataframe thead th {\n",
       "        text-align: right;\n",
       "    }\n",
       "</style>\n",
       "<table border=\"1\" class=\"dataframe\">\n",
       "  <thead>\n",
       "    <tr style=\"text-align: right;\">\n",
       "      <th></th>\n",
       "      <th>session_id</th>\n",
       "      <th>user_id</th>\n",
       "      <th>session_start</th>\n",
       "      <th>session_end</th>\n",
       "      <th>session_duration_sec</th>\n",
       "    </tr>\n",
       "  </thead>\n",
       "  <tbody>\n",
       "    <tr>\n",
       "      <th>0</th>\n",
       "      <td>1</td>\n",
       "      <td>0001b1d5-b74a-4cbf-aeb0-7df5947bf349</td>\n",
       "      <td>2019-10-07 13:39:45</td>\n",
       "      <td>2019-10-07 13:49:41</td>\n",
       "      <td>596.0</td>\n",
       "    </tr>\n",
       "    <tr>\n",
       "      <th>1</th>\n",
       "      <td>2</td>\n",
       "      <td>0001b1d5-b74a-4cbf-aeb0-7df5947bf349</td>\n",
       "      <td>2019-10-09 18:33:55</td>\n",
       "      <td>2019-10-09 18:42:22</td>\n",
       "      <td>507.0</td>\n",
       "    </tr>\n",
       "    <tr>\n",
       "      <th>2</th>\n",
       "      <td>3</td>\n",
       "      <td>0001b1d5-b74a-4cbf-aeb0-7df5947bf349</td>\n",
       "      <td>2019-10-21 19:52:30</td>\n",
       "      <td>2019-10-21 20:07:30</td>\n",
       "      <td>900.0</td>\n",
       "    </tr>\n",
       "    <tr>\n",
       "      <th>3</th>\n",
       "      <td>4</td>\n",
       "      <td>0001b1d5-b74a-4cbf-aeb0-7df5947bf349</td>\n",
       "      <td>2019-10-22 11:18:14</td>\n",
       "      <td>2019-10-22 11:30:52</td>\n",
       "      <td>758.0</td>\n",
       "    </tr>\n",
       "    <tr>\n",
       "      <th>4</th>\n",
       "      <td>5</td>\n",
       "      <td>00157779-810c-4498-9e05-a1e9e3cedf93</td>\n",
       "      <td>2019-10-19 21:34:33</td>\n",
       "      <td>2019-10-19 21:59:54</td>\n",
       "      <td>1521.0</td>\n",
       "    </tr>\n",
       "    <tr>\n",
       "      <th>...</th>\n",
       "      <td>...</td>\n",
       "      <td>...</td>\n",
       "      <td>...</td>\n",
       "      <td>...</td>\n",
       "      <td>...</td>\n",
       "    </tr>\n",
       "    <tr>\n",
       "      <th>10970</th>\n",
       "      <td>10971</td>\n",
       "      <td>fffb9e79-b927-4dbb-9b48-7fd09b23a62b</td>\n",
       "      <td>2019-11-02 01:16:48</td>\n",
       "      <td>2019-11-02 01:16:48</td>\n",
       "      <td>0.0</td>\n",
       "    </tr>\n",
       "    <tr>\n",
       "      <th>10971</th>\n",
       "      <td>10972</td>\n",
       "      <td>fffb9e79-b927-4dbb-9b48-7fd09b23a62b</td>\n",
       "      <td>2019-11-02 18:01:27</td>\n",
       "      <td>2019-11-02 18:17:41</td>\n",
       "      <td>974.0</td>\n",
       "    </tr>\n",
       "    <tr>\n",
       "      <th>10972</th>\n",
       "      <td>10973</td>\n",
       "      <td>fffb9e79-b927-4dbb-9b48-7fd09b23a62b</td>\n",
       "      <td>2019-11-02 19:25:53</td>\n",
       "      <td>2019-11-02 19:30:50</td>\n",
       "      <td>297.0</td>\n",
       "    </tr>\n",
       "    <tr>\n",
       "      <th>10973</th>\n",
       "      <td>10974</td>\n",
       "      <td>fffb9e79-b927-4dbb-9b48-7fd09b23a62b</td>\n",
       "      <td>2019-11-03 14:32:55</td>\n",
       "      <td>2019-11-03 14:48:44</td>\n",
       "      <td>949.0</td>\n",
       "    </tr>\n",
       "    <tr>\n",
       "      <th>10974</th>\n",
       "      <td>10975</td>\n",
       "      <td>fffb9e79-b927-4dbb-9b48-7fd09b23a62b</td>\n",
       "      <td>2019-11-03 15:36:01</td>\n",
       "      <td>2019-11-03 16:08:25</td>\n",
       "      <td>1944.0</td>\n",
       "    </tr>\n",
       "  </tbody>\n",
       "</table>\n",
       "<p>10975 rows × 5 columns</p>\n",
       "</div>"
      ],
      "text/plain": [
       "       session_id                               user_id       session_start  \\\n",
       "0               1  0001b1d5-b74a-4cbf-aeb0-7df5947bf349 2019-10-07 13:39:45   \n",
       "1               2  0001b1d5-b74a-4cbf-aeb0-7df5947bf349 2019-10-09 18:33:55   \n",
       "2               3  0001b1d5-b74a-4cbf-aeb0-7df5947bf349 2019-10-21 19:52:30   \n",
       "3               4  0001b1d5-b74a-4cbf-aeb0-7df5947bf349 2019-10-22 11:18:14   \n",
       "4               5  00157779-810c-4498-9e05-a1e9e3cedf93 2019-10-19 21:34:33   \n",
       "...           ...                                   ...                 ...   \n",
       "10970       10971  fffb9e79-b927-4dbb-9b48-7fd09b23a62b 2019-11-02 01:16:48   \n",
       "10971       10972  fffb9e79-b927-4dbb-9b48-7fd09b23a62b 2019-11-02 18:01:27   \n",
       "10972       10973  fffb9e79-b927-4dbb-9b48-7fd09b23a62b 2019-11-02 19:25:53   \n",
       "10973       10974  fffb9e79-b927-4dbb-9b48-7fd09b23a62b 2019-11-03 14:32:55   \n",
       "10974       10975  fffb9e79-b927-4dbb-9b48-7fd09b23a62b 2019-11-03 15:36:01   \n",
       "\n",
       "              session_end  session_duration_sec  \n",
       "0     2019-10-07 13:49:41                 596.0  \n",
       "1     2019-10-09 18:42:22                 507.0  \n",
       "2     2019-10-21 20:07:30                 900.0  \n",
       "3     2019-10-22 11:30:52                 758.0  \n",
       "4     2019-10-19 21:59:54                1521.0  \n",
       "...                   ...                   ...  \n",
       "10970 2019-11-02 01:16:48                   0.0  \n",
       "10971 2019-11-02 18:17:41                 974.0  \n",
       "10972 2019-11-02 19:30:50                 297.0  \n",
       "10973 2019-11-03 14:48:44                 949.0  \n",
       "10974 2019-11-03 16:08:25                1944.0  \n",
       "\n",
       "[10975 rows x 5 columns]"
      ]
     },
     "metadata": {},
     "output_type": "display_data"
    }
   ],
   "source": [
    "# вычисление первого и последнего времени совершения события каждой сессии\n",
    "session = (\n",
    "    data.groupby(['session_id','user_id'])\n",
    "    .agg({'event_time': ['first', 'last']})\n",
    ")   \n",
    "# переименование столбцов\n",
    "session.columns = ['session_start', 'session_end']\n",
    "# избавление от мультииндекса\n",
    "session = session.reset_index()\n",
    "# вычисление продолжительности каждой сессии в секундах \n",
    "session['session_duration_sec'] = (\n",
    "    (session['session_end'] - session['session_start'])\n",
    "    .astype(\"timedelta64[s]\")\n",
    ")\n",
    "# отображение таблицы session\n",
    "display(session)"
   ]
  },
  {
   "cell_type": "markdown",
   "metadata": {},
   "source": [
    "Посчитаем среднюю и медианную продолжительность одной сессии пользователя и для наглядности сразу построим на распределение."
   ]
  },
  {
   "cell_type": "code",
   "execution_count": 38,
   "metadata": {},
   "outputs": [
    {
     "name": "stdout",
     "output_type": "stream",
     "text": [
      "Средняя продолжительность одной сеcсии пользователя, сек: 649.0\n",
      "Медианная продолжительность одной сеcсии пользователя, сек: 296.0\n"
     ]
    },
    {
     "data": {
      "image/png": "[encoded data removed]",
      "text/plain": [
       "<Figure size 1080x432 with 1 Axes>"
      ]
     },
     "metadata": {
      "needs_background": "light"
     },
     "output_type": "display_data"
    },
    {
     "data": {
      "image/png": "[encoded data removed]",
      "text/plain": [
       "<Figure size 1080x432 with 1 Axes>"
      ]
     },
     "metadata": {
      "needs_background": "light"
     },
     "output_type": "display_data"
    }
   ],
   "source": [
    "print('Средняя продолжительность одной сеcсии пользователя, сек:',\n",
    "      session['session_duration_sec'].mean().round())\n",
    "print('Медианная продолжительность одной сеcсии пользователя, сек:',\n",
    "      session['session_duration_sec'].median().round())\n",
    "\n",
    "\n",
    "plt.figure(figsize=(15, 6))  # масштаб графика\n",
    "# отображение гистограммы столбца 'session_duration_sec' с 50 корзинами\n",
    "session['session_duration_sec'].hist(bins=50)\n",
    "plt.xlabel('Длительность одной сессии, сек.')\n",
    "plt.ylabel('Частота')\n",
    "plt.title('Распределение длительности пользовательских сессий')\n",
    "plt.show()\n",
    "\n",
    "plt.figure(figsize=(15, 6))  # масштаб графика\n",
    "# отображение гистограммы столбца 'session_duration_sec' c уменьшением диапазона до 10 секунд\n",
    "session['session_duration_sec'].hist(bins=10, range=(0, 10))\n",
    "plt.xlabel('Длительность одной сессии, сек.')\n",
    "plt.ylabel('Частота')\n",
    "plt.title('Распределение длительности пользовательских сессий')\n",
    "plt.show()"
   ]
  },
  {
   "cell_type": "markdown",
   "metadata": {},
   "source": [
    "В среднем пользователи проводят в приложении около 11 минут. Довольно много — кажется, всё отлично. Медианная продолжительность сессии — почти 5 минуты. Не так радует, как средняя продолжительность, которая в два раза выше, но говорит о длинном хвосте в распределении с высокими значениями или нескольких очень больших значениях. \n",
    "\n",
    "А если смотреть на графики, то прекрасно видно, что секунды, проведённые пользователями в приложении, имеют экспоненциальное распределение с пиком в районе нуля. И это нормально — в любом цифровом сервисе очень многие сессии заканчиваются техническими ошибками.\n",
    "Все «ошибочные» сессии на графике попадают в корзину, которая ближе всего к нулю, а успешные — «размазываются» в длинный хвост. На самом его кончике собираются аномально длинные сессии пользователей, которым ну очень понравилось приложение. Но для нашего исследования нулевые значения будут бесполезны.\n",
    "\n",
    "Для понимания значимости аномальных значений  посчитаем 90-й, 95-й и 99-й выборочные перцентили методом `np.percentile()`"
   ]
  },
  {
   "cell_type": "code",
   "execution_count": 39,
   "metadata": {
    "scrolled": true
   },
   "outputs": [
    {
     "name": "stdout",
     "output_type": "stream",
     "text": [
      "Расчет перцентилей длительности одной сессии: [1736.   2449.9  4433.42]\n"
     ]
    }
   ],
   "source": [
    "print(f'Расчет перцентилей длительности одной сессии:', \n",
    "      np.percentile(session['session_duration_sec'], [90, 95, 99])) "
   ]
  },
  {
   "cell_type": "markdown",
   "metadata": {},
   "source": [
    "В результате полученных данных не более 5% длительность одной сессии почти 29 минут и не более 1% - 1 час 23 минуты и дольше.\n",
    "\n",
    "В связи с этим можем считать аномальными значениями:\n",
    "* длительность одной сессии равной 0;\n",
    "* длительность одной сессии более 4433 секунд (1 час 23 минуты).\n",
    "\n",
    "Для дальнейшего корректной работы удалим аномальные значения. Для этого объединим таблицу `data` и `session` по столбцу `'session_id'`."
   ]
  },
  {
   "cell_type": "code",
   "execution_count": 40,
   "metadata": {},
   "outputs": [
    {
     "data": {
      "text/html": [
       "<div>\n",
       "<style scoped>\n",
       "    .dataframe tbody tr th:only-of-type {\n",
       "        vertical-align: middle;\n",
       "    }\n",
       "\n",
       "    .dataframe tbody tr th {\n",
       "        vertical-align: top;\n",
       "    }\n",
       "\n",
       "    .dataframe thead th {\n",
       "        text-align: right;\n",
       "    }\n",
       "</style>\n",
       "<table border=\"1\" class=\"dataframe\">\n",
       "  <thead>\n",
       "    <tr style=\"text-align: right;\">\n",
       "      <th></th>\n",
       "      <th>event_time</th>\n",
       "      <th>event_name</th>\n",
       "      <th>user_id</th>\n",
       "      <th>event_date</th>\n",
       "      <th>event_week</th>\n",
       "      <th>event_month</th>\n",
       "      <th>source</th>\n",
       "      <th>delta_dt</th>\n",
       "      <th>session_id</th>\n",
       "      <th>session_start</th>\n",
       "      <th>session_end</th>\n",
       "      <th>session_duration_sec</th>\n",
       "    </tr>\n",
       "  </thead>\n",
       "  <tbody>\n",
       "    <tr>\n",
       "      <th>0</th>\n",
       "      <td>2019-10-07 13:39:45</td>\n",
       "      <td>tips_show</td>\n",
       "      <td>0001b1d5-b74a-4cbf-aeb0-7df5947bf349</td>\n",
       "      <td>2019-10-07</td>\n",
       "      <td>41</td>\n",
       "      <td>2019-10-01</td>\n",
       "      <td>other</td>\n",
       "      <td>NaN</td>\n",
       "      <td>1</td>\n",
       "      <td>2019-10-07 13:39:45</td>\n",
       "      <td>2019-10-07 13:49:41</td>\n",
       "      <td>596.0</td>\n",
       "    </tr>\n",
       "    <tr>\n",
       "      <th>1</th>\n",
       "      <td>2019-10-07 13:40:31</td>\n",
       "      <td>tips_show</td>\n",
       "      <td>0001b1d5-b74a-4cbf-aeb0-7df5947bf349</td>\n",
       "      <td>2019-10-07</td>\n",
       "      <td>41</td>\n",
       "      <td>2019-10-01</td>\n",
       "      <td>other</td>\n",
       "      <td>0.0</td>\n",
       "      <td>1</td>\n",
       "      <td>2019-10-07 13:39:45</td>\n",
       "      <td>2019-10-07 13:49:41</td>\n",
       "      <td>596.0</td>\n",
       "    </tr>\n",
       "    <tr>\n",
       "      <th>2</th>\n",
       "      <td>2019-10-07 13:41:05</td>\n",
       "      <td>tips_show</td>\n",
       "      <td>0001b1d5-b74a-4cbf-aeb0-7df5947bf349</td>\n",
       "      <td>2019-10-07</td>\n",
       "      <td>41</td>\n",
       "      <td>2019-10-01</td>\n",
       "      <td>other</td>\n",
       "      <td>0.0</td>\n",
       "      <td>1</td>\n",
       "      <td>2019-10-07 13:39:45</td>\n",
       "      <td>2019-10-07 13:49:41</td>\n",
       "      <td>596.0</td>\n",
       "    </tr>\n",
       "    <tr>\n",
       "      <th>3</th>\n",
       "      <td>2019-10-07 13:43:20</td>\n",
       "      <td>tips_show</td>\n",
       "      <td>0001b1d5-b74a-4cbf-aeb0-7df5947bf349</td>\n",
       "      <td>2019-10-07</td>\n",
       "      <td>41</td>\n",
       "      <td>2019-10-01</td>\n",
       "      <td>other</td>\n",
       "      <td>2.0</td>\n",
       "      <td>1</td>\n",
       "      <td>2019-10-07 13:39:45</td>\n",
       "      <td>2019-10-07 13:49:41</td>\n",
       "      <td>596.0</td>\n",
       "    </tr>\n",
       "    <tr>\n",
       "      <th>4</th>\n",
       "      <td>2019-10-07 13:45:30</td>\n",
       "      <td>tips_show</td>\n",
       "      <td>0001b1d5-b74a-4cbf-aeb0-7df5947bf349</td>\n",
       "      <td>2019-10-07</td>\n",
       "      <td>41</td>\n",
       "      <td>2019-10-01</td>\n",
       "      <td>other</td>\n",
       "      <td>2.0</td>\n",
       "      <td>1</td>\n",
       "      <td>2019-10-07 13:39:45</td>\n",
       "      <td>2019-10-07 13:49:41</td>\n",
       "      <td>596.0</td>\n",
       "    </tr>\n",
       "  </tbody>\n",
       "</table>\n",
       "</div>"
      ],
      "text/plain": [
       "           event_time event_name                               user_id  \\\n",
       "0 2019-10-07 13:39:45  tips_show  0001b1d5-b74a-4cbf-aeb0-7df5947bf349   \n",
       "1 2019-10-07 13:40:31  tips_show  0001b1d5-b74a-4cbf-aeb0-7df5947bf349   \n",
       "2 2019-10-07 13:41:05  tips_show  0001b1d5-b74a-4cbf-aeb0-7df5947bf349   \n",
       "3 2019-10-07 13:43:20  tips_show  0001b1d5-b74a-4cbf-aeb0-7df5947bf349   \n",
       "4 2019-10-07 13:45:30  tips_show  0001b1d5-b74a-4cbf-aeb0-7df5947bf349   \n",
       "\n",
       "   event_date  event_week event_month source  delta_dt  session_id  \\\n",
       "0  2019-10-07          41  2019-10-01  other       NaN           1   \n",
       "1  2019-10-07          41  2019-10-01  other       0.0           1   \n",
       "2  2019-10-07          41  2019-10-01  other       0.0           1   \n",
       "3  2019-10-07          41  2019-10-01  other       2.0           1   \n",
       "4  2019-10-07          41  2019-10-01  other       2.0           1   \n",
       "\n",
       "        session_start         session_end  session_duration_sec  \n",
       "0 2019-10-07 13:39:45 2019-10-07 13:49:41                 596.0  \n",
       "1 2019-10-07 13:39:45 2019-10-07 13:49:41                 596.0  \n",
       "2 2019-10-07 13:39:45 2019-10-07 13:49:41                 596.0  \n",
       "3 2019-10-07 13:39:45 2019-10-07 13:49:41                 596.0  \n",
       "4 2019-10-07 13:39:45 2019-10-07 13:49:41                 596.0  "
      ]
     },
     "metadata": {},
     "output_type": "display_data"
    }
   ],
   "source": [
    "# добавление столбцов с информацией о времени сессий\n",
    "data = data.merge(session.drop(['user_id'], axis=1), on='session_id', how='left')\n",
    "display(data.head())"
   ]
  },
  {
   "cell_type": "code",
   "execution_count": 41,
   "metadata": {},
   "outputs": [],
   "source": [
    "# выполним срез по длительности сессии, исключив аномальные значения\n",
    "data_filter = data[(data['session_duration_sec'] > 0) &\n",
    "                   (data['session_duration_sec'] < 4433)]"
   ]
  },
  {
   "cell_type": "code",
   "execution_count": 42,
   "metadata": {},
   "outputs": [
    {
     "name": "stdout",
     "output_type": "stream",
     "text": [
      "Доля нулевых сессий, %: 3.2756591014865712\n",
      "Доля аномальных значений, %: 9.528567908670299\n"
     ]
    }
   ],
   "source": [
    "print('Доля нулевых сессий, %: {}'\n",
    "      .format(data[data['session_duration_sec'] == 0]['user_id'].count()/data['user_id'].count()*100))\n",
    "print('Доля аномальных значений, %: {}'\n",
    "      .format((data['user_id'].count() - data_filter['user_id'].count())\n",
    "              /data['user_id'].count()*100))"
   ]
  },
  {
   "cell_type": "markdown",
   "metadata": {},
   "source": [
    "Проведем расчеты всего времени, которое пользователь проводит в приложении за исследовательский период. Для этого сгруппируем данные по пользователю и расчитаем уникальное количество сессий и общую их продолжительность."
   ]
  },
  {
   "cell_type": "code",
   "execution_count": 43,
   "metadata": {},
   "outputs": [
    {
     "data": {
      "text/html": [
       "<div>\n",
       "<style scoped>\n",
       "    .dataframe tbody tr th:only-of-type {\n",
       "        vertical-align: middle;\n",
       "    }\n",
       "\n",
       "    .dataframe tbody tr th {\n",
       "        vertical-align: top;\n",
       "    }\n",
       "\n",
       "    .dataframe thead th {\n",
       "        text-align: right;\n",
       "    }\n",
       "</style>\n",
       "<table border=\"1\" class=\"dataframe\">\n",
       "  <thead>\n",
       "    <tr style=\"text-align: right;\">\n",
       "      <th></th>\n",
       "      <th>user_id</th>\n",
       "      <th>session_count</th>\n",
       "      <th>session_duration_total</th>\n",
       "    </tr>\n",
       "  </thead>\n",
       "  <tbody>\n",
       "    <tr>\n",
       "      <th>0</th>\n",
       "      <td>0001b1d5-b74a-4cbf-aeb0-7df5947bf349</td>\n",
       "      <td>4</td>\n",
       "      <td>2761.0</td>\n",
       "    </tr>\n",
       "    <tr>\n",
       "      <th>1</th>\n",
       "      <td>00157779-810c-4498-9e05-a1e9e3cedf93</td>\n",
       "      <td>7</td>\n",
       "      <td>8761.0</td>\n",
       "    </tr>\n",
       "    <tr>\n",
       "      <th>2</th>\n",
       "      <td>00463033-5717-4bf1-91b4-09183923b9df</td>\n",
       "      <td>1</td>\n",
       "      <td>1482.0</td>\n",
       "    </tr>\n",
       "    <tr>\n",
       "      <th>3</th>\n",
       "      <td>004690c3-5a84-4bb7-a8af-e0c8f8fca64e</td>\n",
       "      <td>8</td>\n",
       "      <td>3788.0</td>\n",
       "    </tr>\n",
       "    <tr>\n",
       "      <th>4</th>\n",
       "      <td>00551e79-152e-4441-9cf7-565d7eb04090</td>\n",
       "      <td>2</td>\n",
       "      <td>559.0</td>\n",
       "    </tr>\n",
       "  </tbody>\n",
       "</table>\n",
       "</div>"
      ],
      "text/plain": [
       "                                user_id  session_count  session_duration_total\n",
       "0  0001b1d5-b74a-4cbf-aeb0-7df5947bf349              4                  2761.0\n",
       "1  00157779-810c-4498-9e05-a1e9e3cedf93              7                  8761.0\n",
       "2  00463033-5717-4bf1-91b4-09183923b9df              1                  1482.0\n",
       "3  004690c3-5a84-4bb7-a8af-e0c8f8fca64e              8                  3788.0\n",
       "4  00551e79-152e-4441-9cf7-565d7eb04090              2                   559.0"
      ]
     },
     "metadata": {},
     "output_type": "display_data"
    }
   ],
   "source": [
    "# вычисление времени использования приложения пользователем за исследуюмый период\n",
    "session_users = (                                  \n",
    "    session[(session['session_duration_sec'] > 0) &\n",
    "            (session['session_duration_sec'] < 4433)] # срез для исключения аномальных значений\n",
    "    .groupby('user_id') # группировка по пользователю\n",
    "    .agg(                          \n",
    "        {'session_id': 'nunique',        # расчет уникального количества сессий\n",
    "         'session_duration_sec': 'sum'}) # расчет общей продолжительности \n",
    "    .reset_index()  # избавление от мультииндекса\n",
    "    .rename(columns=(    # переименование столбцов\n",
    "        {\n",
    "            'session_id': 'session_count',\n",
    "            'session_duration_sec': 'session_duration_total'\n",
    "        })\n",
    "           )\n",
    ")\n",
    "# отображение первых 5 строк таблицы session_users\n",
    "display(session_users.head())"
   ]
  },
  {
   "cell_type": "markdown",
   "metadata": {},
   "source": [
    "Посчитаем среднее и медианное время использования приложения за весь период и для наглядности сразу построим на распределение."
   ]
  },
  {
   "cell_type": "code",
   "execution_count": 44,
   "metadata": {},
   "outputs": [
    {
     "name": "stdout",
     "output_type": "stream",
     "text": [
      "Среднее время использования приложения за весь период, сек: 1543.0\n",
      "Медианное время использования приложения за весь период, сек: 853.0\n"
     ]
    },
    {
     "data": {
      "image/png": "[encoded data removed]",
      "text/plain": [
       "<Figure size 1080x432 with 1 Axes>"
      ]
     },
     "metadata": {
      "needs_background": "light"
     },
     "output_type": "display_data"
    },
    {
     "data": {
      "image/png": "[encoded data removed]",
      "text/plain": [
       "<Figure size 1080x432 with 1 Axes>"
      ]
     },
     "metadata": {
      "needs_background": "light"
     },
     "output_type": "display_data"
    }
   ],
   "source": [
    "print('Среднее время использования приложения за весь период, сек:', \n",
    "      session_users['session_duration_total'].mean().round())\n",
    "print('Медианное время использования приложения за весь период, сек:', \n",
    "      session_users['session_duration_total'].median().round())\n",
    "\n",
    "plt.figure(figsize=(15, 6))  # масштаб графика\n",
    "# отображение гистограммы столбца 'session_duration_total' с 50 корзинами\n",
    "session_users['session_duration_total'].hist(bins=50)\n",
    "plt.xlabel('Время, сек.')\n",
    "plt.ylabel('Частота')\n",
    "plt.title('Гистрограмма времени, проведенного пользователем в приложении за весь период')\n",
    "plt.show()\n",
    "\n",
    "plt.figure(figsize=(15, 6))  # масштаб графика\n",
    "# отображение гистограммы столбца 'session_duration_total' c уменьшением диапазона до 50 минут\n",
    "session_users['session_duration_total'].hist(bins=30, range=(0, 3000))\n",
    "plt.xlabel('Время, сек.')\n",
    "plt.ylabel('Частота')\n",
    "plt.title('Гистрограмма времени, проведенного пользователем в приложении за весь период')\n",
    "plt.show()"
   ]
  },
  {
   "cell_type": "markdown",
   "metadata": {},
   "source": [
    "В среднем пользователи проводят в приложении за весь период исследования почти 26 минут. Медианное время всех сессий на пользователя — около 14 минут. Разница между значениями почти в два раза говорит о длинном хвосте в распределении с высокими значениями или нескольких очень больших значениях. А если смотреть на графики, то прекрасно видно, что общее время, проведённое пользователями в приложении, имеет экспоненциальное распределение с пиком в районе 3 и 7 минут.\n",
    "\n",
    "Взглянем на количество сессий пользователей и их распределение."
   ]
  },
  {
   "cell_type": "code",
   "execution_count": 45,
   "metadata": {},
   "outputs": [
    {
     "name": "stdout",
     "output_type": "stream",
     "text": [
      "Среднее число сессий на пользователя за весь период: 2.0\n",
      "Медианное число сессий на пользователя за весь период: 1.0\n"
     ]
    },
    {
     "data": {
      "image/png": "[encoded data removed]",
      "text/plain": [
       "<Figure size 1080x432 with 1 Axes>"
      ]
     },
     "metadata": {
      "needs_background": "light"
     },
     "output_type": "display_data"
    },
    {
     "data": {
      "image/png": "[encoded data removed]",
      "text/plain": [
       "<Figure size 1080x432 with 1 Axes>"
      ]
     },
     "metadata": {
      "needs_background": "light"
     },
     "output_type": "display_data"
    }
   ],
   "source": [
    "print('Среднее число сессий на пользователя за весь период:', \n",
    "      session_users['session_count'].mean().round())\n",
    "print('Медианное число сессий на пользователя за весь период:', \n",
    "      session_users['session_count'].median().round())\n",
    "\n",
    "plt.figure(figsize=(15, 6))  # масштаб графика\n",
    "# отображение гистограммы столбца 'session_count' с 50 корзинами\n",
    "session_users['session_count'].hist(bins=50)\n",
    "plt.xlabel('Количество сессий')\n",
    "plt.ylabel('Количество пользователей')\n",
    "plt.title('Гистрограмма числа сессий за весь период')\n",
    "plt.show()\n",
    "\n",
    "plt.figure(figsize=(15, 6))  # масштаб графика\n",
    "# отображение гистограммы столбца 'session_count' c уменьшением диапазона до 10 сессий\n",
    "session_users['session_count'].hist(bins=10, range=(0, 10))\n",
    "plt.xlabel('Количество сессий')\n",
    "plt.ylabel('Количество пользователей')\n",
    "plt.title('Гистрограмма числа сессий за весь период')\n",
    "plt.show()"
   ]
  },
  {
   "cell_type": "markdown",
   "metadata": {},
   "source": [
    "В среднем пользователи совершают в приложении только 2 сессии, а медианное значение вообще равно 1. Разница между значениями в два раза говорит о длинном хвосте в распределении с высокими значениями или нескольких очень больших значениях. На графике хорошо видно экспоненциальное распределение с пиком на 1 сессии. Возможно, приложение не заинтересовывает пользователя (нет необходимого товара, неудобный или непонятный интерфей), пользователь находит, что необходимо в течении 1 сессии или на текущий момент нет необходимости в покупке, просто интересно посмотреть приложение.\n",
    "\n",
    "Проверим данные на значимость аномальных значений, посчитаем 90-й, 95-й и 99-й выборочные перцентили методом `np.percentile()`"
   ]
  },
  {
   "cell_type": "code",
   "execution_count": 46,
   "metadata": {},
   "outputs": [
    {
     "name": "stdout",
     "output_type": "stream",
     "text": [
      "Расчет перцентилей количества сессий: [ 4.  5. 14.]\n"
     ]
    }
   ],
   "source": [
    "print(f'Расчет перцентилей количества сессий:', \n",
    "      np.percentile(session_users['session_count'], [90, 95, 99])) "
   ]
  },
  {
   "cell_type": "markdown",
   "metadata": {},
   "source": [
    "В результате полученных данных не более 5% пользователей совершают 4 сессии и не более 1% - 14 сессий и больше. В связи с этим можем считать аномальными значениями количество сессий более 14.\n",
    "\n",
    "Для дальнейшей точности исследования удалим аномальные значения. Для этого объединим таблицу `data_filter` и `session_users` по столбцу `'user_id'`"
   ]
  },
  {
   "cell_type": "code",
   "execution_count": 47,
   "metadata": {},
   "outputs": [
    {
     "data": {
      "text/html": [
       "<div>\n",
       "<style scoped>\n",
       "    .dataframe tbody tr th:only-of-type {\n",
       "        vertical-align: middle;\n",
       "    }\n",
       "\n",
       "    .dataframe tbody tr th {\n",
       "        vertical-align: top;\n",
       "    }\n",
       "\n",
       "    .dataframe thead th {\n",
       "        text-align: right;\n",
       "    }\n",
       "</style>\n",
       "<table border=\"1\" class=\"dataframe\">\n",
       "  <thead>\n",
       "    <tr style=\"text-align: right;\">\n",
       "      <th></th>\n",
       "      <th>event_time</th>\n",
       "      <th>event_name</th>\n",
       "      <th>user_id</th>\n",
       "      <th>event_date</th>\n",
       "      <th>event_week</th>\n",
       "      <th>event_month</th>\n",
       "      <th>source</th>\n",
       "      <th>delta_dt</th>\n",
       "      <th>session_id</th>\n",
       "      <th>session_start</th>\n",
       "      <th>session_end</th>\n",
       "      <th>session_duration_sec</th>\n",
       "      <th>session_count</th>\n",
       "    </tr>\n",
       "  </thead>\n",
       "  <tbody>\n",
       "    <tr>\n",
       "      <th>0</th>\n",
       "      <td>2019-10-07 13:39:45</td>\n",
       "      <td>tips_show</td>\n",
       "      <td>0001b1d5-b74a-4cbf-aeb0-7df5947bf349</td>\n",
       "      <td>2019-10-07</td>\n",
       "      <td>41</td>\n",
       "      <td>2019-10-01</td>\n",
       "      <td>other</td>\n",
       "      <td>NaN</td>\n",
       "      <td>1</td>\n",
       "      <td>2019-10-07 13:39:45</td>\n",
       "      <td>2019-10-07 13:49:41</td>\n",
       "      <td>596.0</td>\n",
       "      <td>4</td>\n",
       "    </tr>\n",
       "    <tr>\n",
       "      <th>1</th>\n",
       "      <td>2019-10-07 13:40:31</td>\n",
       "      <td>tips_show</td>\n",
       "      <td>0001b1d5-b74a-4cbf-aeb0-7df5947bf349</td>\n",
       "      <td>2019-10-07</td>\n",
       "      <td>41</td>\n",
       "      <td>2019-10-01</td>\n",
       "      <td>other</td>\n",
       "      <td>0.0</td>\n",
       "      <td>1</td>\n",
       "      <td>2019-10-07 13:39:45</td>\n",
       "      <td>2019-10-07 13:49:41</td>\n",
       "      <td>596.0</td>\n",
       "      <td>4</td>\n",
       "    </tr>\n",
       "    <tr>\n",
       "      <th>2</th>\n",
       "      <td>2019-10-07 13:41:05</td>\n",
       "      <td>tips_show</td>\n",
       "      <td>0001b1d5-b74a-4cbf-aeb0-7df5947bf349</td>\n",
       "      <td>2019-10-07</td>\n",
       "      <td>41</td>\n",
       "      <td>2019-10-01</td>\n",
       "      <td>other</td>\n",
       "      <td>0.0</td>\n",
       "      <td>1</td>\n",
       "      <td>2019-10-07 13:39:45</td>\n",
       "      <td>2019-10-07 13:49:41</td>\n",
       "      <td>596.0</td>\n",
       "      <td>4</td>\n",
       "    </tr>\n",
       "    <tr>\n",
       "      <th>3</th>\n",
       "      <td>2019-10-07 13:43:20</td>\n",
       "      <td>tips_show</td>\n",
       "      <td>0001b1d5-b74a-4cbf-aeb0-7df5947bf349</td>\n",
       "      <td>2019-10-07</td>\n",
       "      <td>41</td>\n",
       "      <td>2019-10-01</td>\n",
       "      <td>other</td>\n",
       "      <td>2.0</td>\n",
       "      <td>1</td>\n",
       "      <td>2019-10-07 13:39:45</td>\n",
       "      <td>2019-10-07 13:49:41</td>\n",
       "      <td>596.0</td>\n",
       "      <td>4</td>\n",
       "    </tr>\n",
       "    <tr>\n",
       "      <th>4</th>\n",
       "      <td>2019-10-07 13:45:30</td>\n",
       "      <td>tips_show</td>\n",
       "      <td>0001b1d5-b74a-4cbf-aeb0-7df5947bf349</td>\n",
       "      <td>2019-10-07</td>\n",
       "      <td>41</td>\n",
       "      <td>2019-10-01</td>\n",
       "      <td>other</td>\n",
       "      <td>2.0</td>\n",
       "      <td>1</td>\n",
       "      <td>2019-10-07 13:39:45</td>\n",
       "      <td>2019-10-07 13:49:41</td>\n",
       "      <td>596.0</td>\n",
       "      <td>4</td>\n",
       "    </tr>\n",
       "  </tbody>\n",
       "</table>\n",
       "</div>"
      ],
      "text/plain": [
       "           event_time event_name                               user_id  \\\n",
       "0 2019-10-07 13:39:45  tips_show  0001b1d5-b74a-4cbf-aeb0-7df5947bf349   \n",
       "1 2019-10-07 13:40:31  tips_show  0001b1d5-b74a-4cbf-aeb0-7df5947bf349   \n",
       "2 2019-10-07 13:41:05  tips_show  0001b1d5-b74a-4cbf-aeb0-7df5947bf349   \n",
       "3 2019-10-07 13:43:20  tips_show  0001b1d5-b74a-4cbf-aeb0-7df5947bf349   \n",
       "4 2019-10-07 13:45:30  tips_show  0001b1d5-b74a-4cbf-aeb0-7df5947bf349   \n",
       "\n",
       "   event_date  event_week event_month source  delta_dt  session_id  \\\n",
       "0  2019-10-07          41  2019-10-01  other       NaN           1   \n",
       "1  2019-10-07          41  2019-10-01  other       0.0           1   \n",
       "2  2019-10-07          41  2019-10-01  other       0.0           1   \n",
       "3  2019-10-07          41  2019-10-01  other       2.0           1   \n",
       "4  2019-10-07          41  2019-10-01  other       2.0           1   \n",
       "\n",
       "        session_start         session_end  session_duration_sec  session_count  \n",
       "0 2019-10-07 13:39:45 2019-10-07 13:49:41                 596.0              4  \n",
       "1 2019-10-07 13:39:45 2019-10-07 13:49:41                 596.0              4  \n",
       "2 2019-10-07 13:39:45 2019-10-07 13:49:41                 596.0              4  \n",
       "3 2019-10-07 13:39:45 2019-10-07 13:49:41                 596.0              4  \n",
       "4 2019-10-07 13:39:45 2019-10-07 13:49:41                 596.0              4  "
      ]
     },
     "metadata": {},
     "output_type": "display_data"
    }
   ],
   "source": [
    "# добавление столбцов с информацией о количестве сессий\n",
    "data_filter = data_filter.merge(session_users.drop(['session_duration_total'], axis=1)\n",
    "                                , on='user_id'\n",
    "                                , how='left')\n",
    "display(data_filter.head())"
   ]
  },
  {
   "cell_type": "code",
   "execution_count": 48,
   "metadata": {},
   "outputs": [
    {
     "name": "stdout",
     "output_type": "stream",
     "text": [
      "Доля аномальных значений, %: 8.562177537712012\n"
     ]
    }
   ],
   "source": [
    "print('Доля аномальных значений, %: {}'\n",
    "      .format((1 - (data_filter['user_id'].count() \n",
    "                    - data_filter[data_filter['session_count'] > 15]['user_id'].count())\n",
    "                    /data_filter['user_id'].count())*100))"
   ]
  },
  {
   "cell_type": "code",
   "execution_count": 49,
   "metadata": {},
   "outputs": [],
   "source": [
    "# выполним срез по количеству сессий, исключив аномальные значения\n",
    "data_filter = data_filter[data_filter['session_count'] < 15]"
   ]
  },
  {
   "cell_type": "code",
   "execution_count": 50,
   "metadata": {},
   "outputs": [
    {
     "name": "stdout",
     "output_type": "stream",
     "text": [
      "Доля всех удаленных аномальных значений, %: 17.959317764941\n"
     ]
    }
   ],
   "source": [
    "print('Доля всех удаленных аномальных значений, %: {}'\n",
    "      .format((data['user_id'].count() - data_filter['user_id'].count())\n",
    "              /data['user_id'].count()*100))"
   ]
  },
  {
   "cell_type": "markdown",
   "metadata": {},
   "source": [
    "Посмотрим, какие события есть в логах, как часто они встречаются. Для этого сделаем группировку по названию событий и посчитаем их количество и отсортируем по убыванию. Сохраним полученные данные в таблице `events_count`. "
   ]
  },
  {
   "cell_type": "code",
   "execution_count": 51,
   "metadata": {},
   "outputs": [
    {
     "data": {
      "text/html": [
       "<div>\n",
       "<style scoped>\n",
       "    .dataframe tbody tr th:only-of-type {\n",
       "        vertical-align: middle;\n",
       "    }\n",
       "\n",
       "    .dataframe tbody tr th {\n",
       "        vertical-align: top;\n",
       "    }\n",
       "\n",
       "    .dataframe thead th {\n",
       "        text-align: right;\n",
       "    }\n",
       "</style>\n",
       "<table border=\"1\" class=\"dataframe\">\n",
       "  <thead>\n",
       "    <tr style=\"text-align: right;\">\n",
       "      <th></th>\n",
       "      <th>event_name</th>\n",
       "      <th>event_count</th>\n",
       "    </tr>\n",
       "  </thead>\n",
       "  <tbody>\n",
       "    <tr>\n",
       "      <th>0</th>\n",
       "      <td>tips_show</td>\n",
       "      <td>32332</td>\n",
       "    </tr>\n",
       "    <tr>\n",
       "      <th>1</th>\n",
       "      <td>photos_show</td>\n",
       "      <td>7906</td>\n",
       "    </tr>\n",
       "    <tr>\n",
       "      <th>2</th>\n",
       "      <td>advert_open</td>\n",
       "      <td>5137</td>\n",
       "    </tr>\n",
       "    <tr>\n",
       "      <th>3</th>\n",
       "      <td>contacts_show</td>\n",
       "      <td>3256</td>\n",
       "    </tr>\n",
       "    <tr>\n",
       "      <th>4</th>\n",
       "      <td>map</td>\n",
       "      <td>3072</td>\n",
       "    </tr>\n",
       "    <tr>\n",
       "      <th>5</th>\n",
       "      <td>search_1</td>\n",
       "      <td>2914</td>\n",
       "    </tr>\n",
       "    <tr>\n",
       "      <th>6</th>\n",
       "      <td>favorites_add</td>\n",
       "      <td>1204</td>\n",
       "    </tr>\n",
       "    <tr>\n",
       "      <th>7</th>\n",
       "      <td>search_5</td>\n",
       "      <td>942</td>\n",
       "    </tr>\n",
       "    <tr>\n",
       "      <th>8</th>\n",
       "      <td>tips_click</td>\n",
       "      <td>668</td>\n",
       "    </tr>\n",
       "    <tr>\n",
       "      <th>9</th>\n",
       "      <td>search_4</td>\n",
       "      <td>613</td>\n",
       "    </tr>\n",
       "    <tr>\n",
       "      <th>10</th>\n",
       "      <td>contacts_call</td>\n",
       "      <td>520</td>\n",
       "    </tr>\n",
       "    <tr>\n",
       "      <th>11</th>\n",
       "      <td>search_6</td>\n",
       "      <td>452</td>\n",
       "    </tr>\n",
       "    <tr>\n",
       "      <th>12</th>\n",
       "      <td>search_3</td>\n",
       "      <td>427</td>\n",
       "    </tr>\n",
       "    <tr>\n",
       "      <th>13</th>\n",
       "      <td>search_2</td>\n",
       "      <td>292</td>\n",
       "    </tr>\n",
       "    <tr>\n",
       "      <th>14</th>\n",
       "      <td>search_7</td>\n",
       "      <td>199</td>\n",
       "    </tr>\n",
       "  </tbody>\n",
       "</table>\n",
       "</div>"
      ],
      "text/plain": [
       "       event_name  event_count\n",
       "0       tips_show        32332\n",
       "1     photos_show         7906\n",
       "2     advert_open         5137\n",
       "3   contacts_show         3256\n",
       "4             map         3072\n",
       "5        search_1         2914\n",
       "6   favorites_add         1204\n",
       "7        search_5          942\n",
       "8      tips_click          668\n",
       "9        search_4          613\n",
       "10  contacts_call          520\n",
       "11       search_6          452\n",
       "12       search_3          427\n",
       "13       search_2          292\n",
       "14       search_7          199"
      ]
     },
     "metadata": {},
     "output_type": "display_data"
    }
   ],
   "source": [
    "# вычисление количества повторений каждого события в логе\n",
    "events_count = (\n",
    "    data_filter.groupby('event_name', as_index=False) # группировка наименований событий\n",
    "    .agg({'user_id':'count'})          # подсчет количества повторений\n",
    "    .rename(columns={'user_id':'event_count'})   # переименование столбца\n",
    "    .sort_values(by='event_count', ascending=False)   # сортировка по убыванию\n",
    "    .reset_index(drop=True) # обновление индексации с удалением старой\n",
    ")\n",
    "\n",
    "# отображение таблицы events_count\n",
    "display(events_count)"
   ]
  },
  {
   "cell_type": "markdown",
   "metadata": {},
   "source": [
    "Самые распространенные события в приложении в порядке убывания:\n",
    "1. пользователь увидел рекомендованные объявления;\n",
    "2. просмотр фотографий в объявлении;\n",
    "3. открытие карточки объявления;\n",
    "4. пользователь нажал на кнопку \"посмотреть номер телефона\" на карточке объявления;\n",
    "5. пользователь открыл карту размещенных объявлений;\n",
    "6. поиск по сайту.\n",
    "\n",
    "\n",
    "Хотелось отметить, что событие `tips_show` показывается всем пользователям автоматически и не зависит от их действий. Поэтому можно не акцентироваться внимание на данное действие в нашем исследовании.\n",
    "Посчитаем, сколько пользователей совершали каждое из событий. Т.е. сделаем группировку по названию событий и посчитаем уникальных пользователей для каждого. Отсортируем события по числу пользователей. Затем посчитаем долю пользователей, которые хоть раз совершали событие. Для этого рассчитаем отношение количества пользователей на определённом шаге к общему количеству пользователей. Все полученные данные сохраним в таблице `users_count`. "
   ]
  },
  {
   "cell_type": "code",
   "execution_count": 52,
   "metadata": {},
   "outputs": [
    {
     "data": {
      "text/html": [
       "<div>\n",
       "<style scoped>\n",
       "    .dataframe tbody tr th:only-of-type {\n",
       "        vertical-align: middle;\n",
       "    }\n",
       "\n",
       "    .dataframe tbody tr th {\n",
       "        vertical-align: top;\n",
       "    }\n",
       "\n",
       "    .dataframe thead th {\n",
       "        text-align: right;\n",
       "    }\n",
       "</style>\n",
       "<table border=\"1\" class=\"dataframe\">\n",
       "  <thead>\n",
       "    <tr style=\"text-align: right;\">\n",
       "      <th></th>\n",
       "      <th>event_name</th>\n",
       "      <th>users_count</th>\n",
       "      <th>conversion,%</th>\n",
       "    </tr>\n",
       "  </thead>\n",
       "  <tbody>\n",
       "    <tr>\n",
       "      <th>0</th>\n",
       "      <td>tips_show</td>\n",
       "      <td>2696</td>\n",
       "      <td>65.1</td>\n",
       "    </tr>\n",
       "    <tr>\n",
       "      <th>1</th>\n",
       "      <td>map</td>\n",
       "      <td>1360</td>\n",
       "      <td>32.8</td>\n",
       "    </tr>\n",
       "    <tr>\n",
       "      <th>2</th>\n",
       "      <td>photos_show</td>\n",
       "      <td>1040</td>\n",
       "      <td>25.1</td>\n",
       "    </tr>\n",
       "    <tr>\n",
       "      <th>3</th>\n",
       "      <td>contacts_show</td>\n",
       "      <td>900</td>\n",
       "      <td>21.7</td>\n",
       "    </tr>\n",
       "    <tr>\n",
       "      <th>4</th>\n",
       "      <td>search_1</td>\n",
       "      <td>748</td>\n",
       "      <td>18.1</td>\n",
       "    </tr>\n",
       "    <tr>\n",
       "      <th>5</th>\n",
       "      <td>advert_open</td>\n",
       "      <td>710</td>\n",
       "      <td>17.1</td>\n",
       "    </tr>\n",
       "    <tr>\n",
       "      <th>6</th>\n",
       "      <td>search_5</td>\n",
       "      <td>640</td>\n",
       "      <td>15.4</td>\n",
       "    </tr>\n",
       "    <tr>\n",
       "      <th>7</th>\n",
       "      <td>search_4</td>\n",
       "      <td>459</td>\n",
       "      <td>11.1</td>\n",
       "    </tr>\n",
       "    <tr>\n",
       "      <th>8</th>\n",
       "      <td>search_6</td>\n",
       "      <td>325</td>\n",
       "      <td>7.8</td>\n",
       "    </tr>\n",
       "    <tr>\n",
       "      <th>9</th>\n",
       "      <td>favorites_add</td>\n",
       "      <td>314</td>\n",
       "      <td>7.6</td>\n",
       "    </tr>\n",
       "    <tr>\n",
       "      <th>10</th>\n",
       "      <td>tips_click</td>\n",
       "      <td>294</td>\n",
       "      <td>7.1</td>\n",
       "    </tr>\n",
       "    <tr>\n",
       "      <th>11</th>\n",
       "      <td>search_2</td>\n",
       "      <td>236</td>\n",
       "      <td>5.7</td>\n",
       "    </tr>\n",
       "    <tr>\n",
       "      <th>12</th>\n",
       "      <td>contacts_call</td>\n",
       "      <td>209</td>\n",
       "      <td>5.0</td>\n",
       "    </tr>\n",
       "    <tr>\n",
       "      <th>13</th>\n",
       "      <td>search_3</td>\n",
       "      <td>194</td>\n",
       "      <td>4.7</td>\n",
       "    </tr>\n",
       "    <tr>\n",
       "      <th>14</th>\n",
       "      <td>search_7</td>\n",
       "      <td>150</td>\n",
       "      <td>3.6</td>\n",
       "    </tr>\n",
       "  </tbody>\n",
       "</table>\n",
       "</div>"
      ],
      "text/plain": [
       "       event_name  users_count  conversion,%\n",
       "0       tips_show         2696          65.1\n",
       "1             map         1360          32.8\n",
       "2     photos_show         1040          25.1\n",
       "3   contacts_show          900          21.7\n",
       "4        search_1          748          18.1\n",
       "5     advert_open          710          17.1\n",
       "6        search_5          640          15.4\n",
       "7        search_4          459          11.1\n",
       "8        search_6          325           7.8\n",
       "9   favorites_add          314           7.6\n",
       "10     tips_click          294           7.1\n",
       "11       search_2          236           5.7\n",
       "12  contacts_call          209           5.0\n",
       "13       search_3          194           4.7\n",
       "14       search_7          150           3.6"
      ]
     },
     "metadata": {},
     "output_type": "display_data"
    },
    {
     "data": {
      "application/vnd.plotly.v1+json": {
       "config": {
        "plotlyServerURL": "https://plot.ly"
       },
       "data": [
        {
         "hovertemplate": "conversion,%=%{x}<br>event_name=%{y}<extra></extra>",
         "legendgroup": "",
         "marker": {
          "color": "#636efa"
         },
         "name": "",
         "orientation": "h",
         "showlegend": false,
         "type": "funnel",
         "x": [
          65.1,
          32.8,
          25.1,
          21.7,
          18.1,
          17.1,
          15.4,
          11.1,
          7.8,
          7.6,
          7.1,
          5.7,
          5,
          4.7,
          3.6
         ],
         "xaxis": "x",
         "y": [
          "tips_show",
          "map",
          "photos_show",
          "contacts_show",
          "search_1",
          "advert_open",
          "search_5",
          "search_4",
          "search_6",
          "favorites_add",
          "tips_click",
          "search_2",
          "contacts_call",
          "search_3",
          "search_7"
         ],
         "yaxis": "y"
        }
       ],
       "layout": {
        "legend": {
         "tracegroupgap": 0
        },
        "template": {
         "data": {
          "bar": [
           {
            "error_x": {
             "color": "#2a3f5f"
            },
            "error_y": {
             "color": "#2a3f5f"
            },
            "marker": {
             "line": {
              "color": "#E5ECF6",
              "width": 0.5
             },
             "pattern": {
              "fillmode": "overlay",
              "size": 10,
              "solidity": 0.2
             }
            },
            "type": "bar"
           }
          ],
          "barpolar": [
           {
            "marker": {
             "line": {
              "color": "#E5ECF6",
              "width": 0.5
             },
             "pattern": {
              "fillmode": "overlay",
              "size": 10,
              "solidity": 0.2
             }
            },
            "type": "barpolar"
           }
          ],
          "carpet": [
           {
            "aaxis": {
             "endlinecolor": "#2a3f5f",
             "gridcolor": "white",
             "linecolor": "white",
             "minorgridcolor": "white",
             "startlinecolor": "#2a3f5f"
            },
            "baxis": {
             "endlinecolor": "#2a3f5f",
             "gridcolor": "white",
             "linecolor": "white",
             "minorgridcolor": "white",
             "startlinecolor": "#2a3f5f"
            },
            "type": "carpet"
           }
          ],
          "choropleth": [
           {
            "colorbar": {
             "outlinewidth": 0,
             "ticks": ""
            },
            "type": "choropleth"
           }
          ],
          "contour": [
           {
            "colorbar": {
             "outlinewidth": 0,
             "ticks": ""
            },
            "colorscale": [
             [
              0,
              "#0d0887"
             ],
             [
              0.1111111111111111,
              "#46039f"
             ],
             [
              0.2222222222222222,
              "#7201a8"
             ],
             [
              0.3333333333333333,
              "#9c179e"
             ],
             [
              0.4444444444444444,
              "#bd3786"
             ],
             [
              0.5555555555555556,
              "#d8576b"
             ],
             [
              0.6666666666666666,
              "#ed7953"
             ],
             [
              0.7777777777777778,
              "#fb9f3a"
             ],
             [
              0.8888888888888888,
              "#fdca26"
             ],
             [
              1,
              "#f0f921"
             ]
            ],
            "type": "contour"
           }
          ],
          "contourcarpet": [
           {
            "colorbar": {
             "outlinewidth": 0,
             "ticks": ""
            },
            "type": "contourcarpet"
           }
          ],
          "heatmap": [
           {
            "colorbar": {
             "outlinewidth": 0,
             "ticks": ""
            },
            "colorscale": [
             [
              0,
              "#0d0887"
             ],
             [
              0.1111111111111111,
              "#46039f"
             ],
             [
              0.2222222222222222,
              "#7201a8"
             ],
             [
              0.3333333333333333,
              "#9c179e"
             ],
             [
              0.4444444444444444,
              "#bd3786"
             ],
             [
              0.5555555555555556,
              "#d8576b"
             ],
             [
              0.6666666666666666,
              "#ed7953"
             ],
             [
              0.7777777777777778,
              "#fb9f3a"
             ],
             [
              0.8888888888888888,
              "#fdca26"
             ],
             [
              1,
              "#f0f921"
             ]
            ],
            "type": "heatmap"
           }
          ],
          "heatmapgl": [
           {
            "colorbar": {
             "outlinewidth": 0,
             "ticks": ""
            },
            "colorscale": [
             [
              0,
              "#0d0887"
             ],
             [
              0.1111111111111111,
              "#46039f"
             ],
             [
              0.2222222222222222,
              "#7201a8"
             ],
             [
              0.3333333333333333,
              "#9c179e"
             ],
             [
              0.4444444444444444,
              "#bd3786"
             ],
             [
              0.5555555555555556,
              "#d8576b"
             ],
             [
              0.6666666666666666,
              "#ed7953"
             ],
             [
              0.7777777777777778,
              "#fb9f3a"
             ],
             [
              0.8888888888888888,
              "#fdca26"
             ],
             [
              1,
              "#f0f921"
             ]
            ],
            "type": "heatmapgl"
           }
          ],
          "histogram": [
           {
            "marker": {
             "pattern": {
              "fillmode": "overlay",
              "size": 10,
              "solidity": 0.2
             }
            },
            "type": "histogram"
           }
          ],
          "histogram2d": [
           {
            "colorbar": {
             "outlinewidth": 0,
             "ticks": ""
            },
            "colorscale": [
             [
              0,
              "#0d0887"
             ],
             [
              0.1111111111111111,
              "#46039f"
             ],
             [
              0.2222222222222222,
              "#7201a8"
             ],
             [
              0.3333333333333333,
              "#9c179e"
             ],
             [
              0.4444444444444444,
              "#bd3786"
             ],
             [
              0.5555555555555556,
              "#d8576b"
             ],
             [
              0.6666666666666666,
              "#ed7953"
             ],
             [
              0.7777777777777778,
              "#fb9f3a"
             ],
             [
              0.8888888888888888,
              "#fdca26"
             ],
             [
              1,
              "#f0f921"
             ]
            ],
            "type": "histogram2d"
           }
          ],
          "histogram2dcontour": [
           {
            "colorbar": {
             "outlinewidth": 0,
             "ticks": ""
            },
            "colorscale": [
             [
              0,
              "#0d0887"
             ],
             [
              0.1111111111111111,
              "#46039f"
             ],
             [
              0.2222222222222222,
              "#7201a8"
             ],
             [
              0.3333333333333333,
              "#9c179e"
             ],
             [
              0.4444444444444444,
              "#bd3786"
             ],
             [
              0.5555555555555556,
              "#d8576b"
             ],
             [
              0.6666666666666666,
              "#ed7953"
             ],
             [
              0.7777777777777778,
              "#fb9f3a"
             ],
             [
              0.8888888888888888,
              "#fdca26"
             ],
             [
              1,
              "#f0f921"
             ]
            ],
            "type": "histogram2dcontour"
           }
          ],
          "mesh3d": [
           {
            "colorbar": {
             "outlinewidth": 0,
             "ticks": ""
            },
            "type": "mesh3d"
           }
          ],
          "parcoords": [
           {
            "line": {
             "colorbar": {
              "outlinewidth": 0,
              "ticks": ""
             }
            },
            "type": "parcoords"
           }
          ],
          "pie": [
           {
            "automargin": true,
            "type": "pie"
           }
          ],
          "scatter": [
           {
            "fillpattern": {
             "fillmode": "overlay",
             "size": 10,
             "solidity": 0.2
            },
            "type": "scatter"
           }
          ],
          "scatter3d": [
           {
            "line": {
             "colorbar": {
              "outlinewidth": 0,
              "ticks": ""
             }
            },
            "marker": {
             "colorbar": {
              "outlinewidth": 0,
              "ticks": ""
             }
            },
            "type": "scatter3d"
           }
          ],
          "scattercarpet": [
           {
            "marker": {
             "colorbar": {
              "outlinewidth": 0,
              "ticks": ""
             }
            },
            "type": "scattercarpet"
           }
          ],
          "scattergeo": [
           {
            "marker": {
             "colorbar": {
              "outlinewidth": 0,
              "ticks": ""
             }
            },
            "type": "scattergeo"
           }
          ],
          "scattergl": [
           {
            "marker": {
             "colorbar": {
              "outlinewidth": 0,
              "ticks": ""
             }
            },
            "type": "scattergl"
           }
          ],
          "scattermapbox": [
           {
            "marker": {
             "colorbar": {
              "outlinewidth": 0,
              "ticks": ""
             }
            },
            "type": "scattermapbox"
           }
          ],
          "scatterpolar": [
           {
            "marker": {
             "colorbar": {
              "outlinewidth": 0,
              "ticks": ""
             }
            },
            "type": "scatterpolar"
           }
          ],
          "scatterpolargl": [
           {
            "marker": {
             "colorbar": {
              "outlinewidth": 0,
              "ticks": ""
             }
            },
            "type": "scatterpolargl"
           }
          ],
          "scatterternary": [
           {
            "marker": {
             "colorbar": {
              "outlinewidth": 0,
              "ticks": ""
             }
            },
            "type": "scatterternary"
           }
          ],
          "surface": [
           {
            "colorbar": {
             "outlinewidth": 0,
             "ticks": ""
            },
            "colorscale": [
             [
              0,
              "#0d0887"
             ],
             [
              0.1111111111111111,
              "#46039f"
             ],
             [
              0.2222222222222222,
              "#7201a8"
             ],
             [
              0.3333333333333333,
              "#9c179e"
             ],
             [
              0.4444444444444444,
              "#bd3786"
             ],
             [
              0.5555555555555556,
              "#d8576b"
             ],
             [
              0.6666666666666666,
              "#ed7953"
             ],
             [
              0.7777777777777778,
              "#fb9f3a"
             ],
             [
              0.8888888888888888,
              "#fdca26"
             ],
             [
              1,
              "#f0f921"
             ]
            ],
            "type": "surface"
           }
          ],
          "table": [
           {
            "cells": {
             "fill": {
              "color": "#EBF0F8"
             },
             "line": {
              "color": "white"
             }
            },
            "header": {
             "fill": {
              "color": "#C8D4E3"
             },
             "line": {
              "color": "white"
             }
            },
            "type": "table"
           }
          ]
         },
         "layout": {
          "annotationdefaults": {
           "arrowcolor": "#2a3f5f",
           "arrowhead": 0,
           "arrowwidth": 1
          },
          "autotypenumbers": "strict",
          "coloraxis": {
           "colorbar": {
            "outlinewidth": 0,
            "ticks": ""
           }
          },
          "colorscale": {
           "diverging": [
            [
             0,
             "#8e0152"
            ],
            [
             0.1,
             "#c51b7d"
            ],
            [
             0.2,
             "#de77ae"
            ],
            [
             0.3,
             "#f1b6da"
            ],
            [
             0.4,
             "#fde0ef"
            ],
            [
             0.5,
             "#f7f7f7"
            ],
            [
             0.6,
             "#e6f5d0"
            ],
            [
             0.7,
             "#b8e186"
            ],
            [
             0.8,
             "#7fbc41"
            ],
            [
             0.9,
             "#4d9221"
            ],
            [
             1,
             "#276419"
            ]
           ],
           "sequential": [
            [
             0,
             "#0d0887"
            ],
            [
             0.1111111111111111,
             "#46039f"
            ],
            [
             0.2222222222222222,
             "#7201a8"
            ],
            [
             0.3333333333333333,
             "#9c179e"
            ],
            [
             0.4444444444444444,
             "#bd3786"
            ],
            [
             0.5555555555555556,
             "#d8576b"
            ],
            [
             0.6666666666666666,
             "#ed7953"
            ],
            [
             0.7777777777777778,
             "#fb9f3a"
            ],
            [
             0.8888888888888888,
             "#fdca26"
            ],
            [
             1,
             "#f0f921"
            ]
           ],
           "sequentialminus": [
            [
             0,
             "#0d0887"
            ],
            [
             0.1111111111111111,
             "#46039f"
            ],
            [
             0.2222222222222222,
             "#7201a8"
            ],
            [
             0.3333333333333333,
             "#9c179e"
            ],
            [
             0.4444444444444444,
             "#bd3786"
            ],
            [
             0.5555555555555556,
             "#d8576b"
            ],
            [
             0.6666666666666666,
             "#ed7953"
            ],
            [
             0.7777777777777778,
             "#fb9f3a"
            ],
            [
             0.8888888888888888,
             "#fdca26"
            ],
            [
             1,
             "#f0f921"
            ]
           ]
          },
          "colorway": [
           "#636efa",
           "#EF553B",
           "#00cc96",
           "#ab63fa",
           "#FFA15A",
           "#19d3f3",
           "#FF6692",
           "#B6E880",
           "#FF97FF",
           "#FECB52"
          ],
          "font": {
           "color": "#2a3f5f"
          },
          "geo": {
           "bgcolor": "white",
           "lakecolor": "white",
           "landcolor": "#E5ECF6",
           "showlakes": true,
           "showland": true,
           "subunitcolor": "white"
          },
          "hoverlabel": {
           "align": "left"
          },
          "hovermode": "closest",
          "mapbox": {
           "style": "light"
          },
          "paper_bgcolor": "white",
          "plot_bgcolor": "#E5ECF6",
          "polar": {
           "angularaxis": {
            "gridcolor": "white",
            "linecolor": "white",
            "ticks": ""
           },
           "bgcolor": "#E5ECF6",
           "radialaxis": {
            "gridcolor": "white",
            "linecolor": "white",
            "ticks": ""
           }
          },
          "scene": {
           "xaxis": {
            "backgroundcolor": "#E5ECF6",
            "gridcolor": "white",
            "gridwidth": 2,
            "linecolor": "white",
            "showbackground": true,
            "ticks": "",
            "zerolinecolor": "white"
           },
           "yaxis": {
            "backgroundcolor": "#E5ECF6",
            "gridcolor": "white",
            "gridwidth": 2,
            "linecolor": "white",
            "showbackground": true,
            "ticks": "",
            "zerolinecolor": "white"
           },
           "zaxis": {
            "backgroundcolor": "#E5ECF6",
            "gridcolor": "white",
            "gridwidth": 2,
            "linecolor": "white",
            "showbackground": true,
            "ticks": "",
            "zerolinecolor": "white"
           }
          },
          "shapedefaults": {
           "line": {
            "color": "#2a3f5f"
           }
          },
          "ternary": {
           "aaxis": {
            "gridcolor": "white",
            "linecolor": "white",
            "ticks": ""
           },
           "baxis": {
            "gridcolor": "white",
            "linecolor": "white",
            "ticks": ""
           },
           "bgcolor": "#E5ECF6",
           "caxis": {
            "gridcolor": "white",
            "linecolor": "white",
            "ticks": ""
           }
          },
          "title": {
           "x": 0.05
          },
          "xaxis": {
           "automargin": true,
           "gridcolor": "white",
           "linecolor": "white",
           "ticks": "",
           "title": {
            "standoff": 15
           },
           "zerolinecolor": "white",
           "zerolinewidth": 2
          },
          "yaxis": {
           "automargin": true,
           "gridcolor": "white",
           "linecolor": "white",
           "ticks": "",
           "title": {
            "standoff": 15
           },
           "zerolinecolor": "white",
           "zerolinewidth": 2
          }
         }
        },
        "title": {
         "text": "Доля пользователей, дошедших до каждого этапа"
        },
        "xaxis": {
         "anchor": "y",
         "domain": [
          0,
          1
         ],
         "title": {
          "text": "conversion,%"
         }
        },
        "yaxis": {
         "anchor": "x",
         "domain": [
          0,
          1
         ],
         "title": {
          "text": "event_name"
         }
        }
       }
      }
     },
     "metadata": {},
     "output_type": "display_data"
    }
   ],
   "source": [
    "# вычисление количества уникальных пользователей каждого события в логе\n",
    "users_count = (\n",
    "    data_filter.groupby('event_name', as_index=False) # группировка наименований событий\n",
    "    .agg({'user_id':'nunique'})          # подсчет количества уникальных пользователей\n",
    "    .rename(columns={'user_id':'users_count'})   # переименование столбца\n",
    "    .sort_values(by='users_count', ascending=False) # сортировка по убыванию\n",
    "    .reset_index(drop=True) # обновление индексации с удалением старой\n",
    ")\n",
    "# рассчет доли пользователей\n",
    "users_count['conversion,%'] = round(users_count['users_count']\n",
    "                                    /data_filter['user_id'].nunique()*100,1)\n",
    "\n",
    "# отображение таблицы users_count\n",
    "display(users_count)\n",
    "\n",
    "# строим график\n",
    "fig = px.funnel(users_count, \n",
    "                x='conversion,%', \n",
    "                y='event_name', \n",
    "                title='Доля пользователей, дошедших до каждого этапа'\n",
    "                )\n",
    "fig.show()"
   ]
  },
  {
   "cell_type": "markdown",
   "metadata": {},
   "source": [
    "Если рассматривать события относительно доли пользователей, которые их совершают, то картина немного меняется и получается следующая последовательность в порядке убывания:\n",
    "1. пользователь увидел рекомендованные объявления;\n",
    "2. пользователь открыл карту размещенных объявлений;\n",
    "3. просмотр фотографий в объявлении;\n",
    "4. пользователь нажал на кнопку \"посмотреть номер телефона\" на карточке объявления;\n",
    "5. поиск по сайту;\n",
    "6. открытие карточки объявления.\n",
    "\n",
    "Но при этом основной набор действий остается без изменений. Последовательность действий не укладывается в корректную воронку продаж, т.к. у пользователя есть большое количество алгоритмов передвижения в приложении. В данном исследовании не будем погружаться в этот вопрос более детально, но рассмотрим аналогичным образом долю пользователей, которые нажимали на кнопку \"посмотреть номер телефона\" на карточке объявления. Для начала в таблицу добавим столбец с данным признаком для каждого пользователя."
   ]
  },
  {
   "cell_type": "code",
   "execution_count": 53,
   "metadata": {},
   "outputs": [],
   "source": [
    "#  добавление столбца с признаком нажатия кнопки \"посмотреть номер телефона\" в формате False/True\n",
    "data_filter['contact_view'] = (\n",
    "        data_filter['user_id']\n",
    "        .isin(data_filter['user_id'][data_filter['event_name'] == 'contacts_show'].unique())\n",
    ")"
   ]
  },
  {
   "cell_type": "code",
   "execution_count": 54,
   "metadata": {},
   "outputs": [
    {
     "data": {
      "text/html": [
       "<div>\n",
       "<style scoped>\n",
       "    .dataframe tbody tr th:only-of-type {\n",
       "        vertical-align: middle;\n",
       "    }\n",
       "\n",
       "    .dataframe tbody tr th {\n",
       "        vertical-align: top;\n",
       "    }\n",
       "\n",
       "    .dataframe thead th {\n",
       "        text-align: right;\n",
       "    }\n",
       "</style>\n",
       "<table border=\"1\" class=\"dataframe\">\n",
       "  <thead>\n",
       "    <tr style=\"text-align: right;\">\n",
       "      <th></th>\n",
       "      <th>event_name</th>\n",
       "      <th>users_count_target</th>\n",
       "      <th>conv_target,%</th>\n",
       "      <th>users_count</th>\n",
       "      <th>conversion,%</th>\n",
       "      <th>conversion_target,%</th>\n",
       "    </tr>\n",
       "  </thead>\n",
       "  <tbody>\n",
       "    <tr>\n",
       "      <th>1</th>\n",
       "      <td>contacts_call</td>\n",
       "      <td>209</td>\n",
       "      <td>5.0</td>\n",
       "      <td>209</td>\n",
       "      <td>5.0</td>\n",
       "      <td>100.0</td>\n",
       "    </tr>\n",
       "    <tr>\n",
       "      <th>2</th>\n",
       "      <td>contacts_show</td>\n",
       "      <td>900</td>\n",
       "      <td>21.7</td>\n",
       "      <td>900</td>\n",
       "      <td>21.7</td>\n",
       "      <td>100.0</td>\n",
       "    </tr>\n",
       "    <tr>\n",
       "      <th>3</th>\n",
       "      <td>favorites_add</td>\n",
       "      <td>116</td>\n",
       "      <td>2.8</td>\n",
       "      <td>314</td>\n",
       "      <td>7.6</td>\n",
       "      <td>36.8</td>\n",
       "    </tr>\n",
       "    <tr>\n",
       "      <th>5</th>\n",
       "      <td>photos_show</td>\n",
       "      <td>295</td>\n",
       "      <td>7.1</td>\n",
       "      <td>1040</td>\n",
       "      <td>25.1</td>\n",
       "      <td>28.3</td>\n",
       "    </tr>\n",
       "    <tr>\n",
       "      <th>13</th>\n",
       "      <td>tips_click</td>\n",
       "      <td>81</td>\n",
       "      <td>2.0</td>\n",
       "      <td>294</td>\n",
       "      <td>7.1</td>\n",
       "      <td>28.2</td>\n",
       "    </tr>\n",
       "    <tr>\n",
       "      <th>6</th>\n",
       "      <td>search_1</td>\n",
       "      <td>209</td>\n",
       "      <td>5.0</td>\n",
       "      <td>748</td>\n",
       "      <td>18.1</td>\n",
       "      <td>27.6</td>\n",
       "    </tr>\n",
       "    <tr>\n",
       "      <th>7</th>\n",
       "      <td>search_2</td>\n",
       "      <td>49</td>\n",
       "      <td>1.2</td>\n",
       "      <td>236</td>\n",
       "      <td>5.7</td>\n",
       "      <td>21.1</td>\n",
       "    </tr>\n",
       "    <tr>\n",
       "      <th>4</th>\n",
       "      <td>map</td>\n",
       "      <td>248</td>\n",
       "      <td>6.0</td>\n",
       "      <td>1360</td>\n",
       "      <td>32.8</td>\n",
       "      <td>18.3</td>\n",
       "    </tr>\n",
       "    <tr>\n",
       "      <th>14</th>\n",
       "      <td>tips_show</td>\n",
       "      <td>467</td>\n",
       "      <td>11.3</td>\n",
       "      <td>2696</td>\n",
       "      <td>65.1</td>\n",
       "      <td>17.4</td>\n",
       "    </tr>\n",
       "    <tr>\n",
       "      <th>9</th>\n",
       "      <td>search_4</td>\n",
       "      <td>77</td>\n",
       "      <td>1.9</td>\n",
       "      <td>459</td>\n",
       "      <td>11.1</td>\n",
       "      <td>17.1</td>\n",
       "    </tr>\n",
       "    <tr>\n",
       "      <th>8</th>\n",
       "      <td>search_3</td>\n",
       "      <td>32</td>\n",
       "      <td>0.8</td>\n",
       "      <td>194</td>\n",
       "      <td>4.7</td>\n",
       "      <td>17.0</td>\n",
       "    </tr>\n",
       "    <tr>\n",
       "      <th>0</th>\n",
       "      <td>advert_open</td>\n",
       "      <td>118</td>\n",
       "      <td>2.8</td>\n",
       "      <td>710</td>\n",
       "      <td>17.1</td>\n",
       "      <td>16.4</td>\n",
       "    </tr>\n",
       "    <tr>\n",
       "      <th>10</th>\n",
       "      <td>search_5</td>\n",
       "      <td>97</td>\n",
       "      <td>2.3</td>\n",
       "      <td>640</td>\n",
       "      <td>15.4</td>\n",
       "      <td>14.9</td>\n",
       "    </tr>\n",
       "    <tr>\n",
       "      <th>11</th>\n",
       "      <td>search_6</td>\n",
       "      <td>46</td>\n",
       "      <td>1.1</td>\n",
       "      <td>325</td>\n",
       "      <td>7.8</td>\n",
       "      <td>14.1</td>\n",
       "    </tr>\n",
       "    <tr>\n",
       "      <th>12</th>\n",
       "      <td>search_7</td>\n",
       "      <td>20</td>\n",
       "      <td>0.5</td>\n",
       "      <td>150</td>\n",
       "      <td>3.6</td>\n",
       "      <td>13.9</td>\n",
       "    </tr>\n",
       "  </tbody>\n",
       "</table>\n",
       "</div>"
      ],
      "text/plain": [
       "       event_name  users_count_target  conv_target,%  users_count  \\\n",
       "1   contacts_call                 209            5.0          209   \n",
       "2   contacts_show                 900           21.7          900   \n",
       "3   favorites_add                 116            2.8          314   \n",
       "5     photos_show                 295            7.1         1040   \n",
       "13     tips_click                  81            2.0          294   \n",
       "6        search_1                 209            5.0          748   \n",
       "7        search_2                  49            1.2          236   \n",
       "4             map                 248            6.0         1360   \n",
       "14      tips_show                 467           11.3         2696   \n",
       "9        search_4                  77            1.9          459   \n",
       "8        search_3                  32            0.8          194   \n",
       "0     advert_open                 118            2.8          710   \n",
       "10       search_5                  97            2.3          640   \n",
       "11       search_6                  46            1.1          325   \n",
       "12       search_7                  20            0.5          150   \n",
       "\n",
       "    conversion,%  conversion_target,%  \n",
       "1            5.0                100.0  \n",
       "2           21.7                100.0  \n",
       "3            7.6                 36.8  \n",
       "5           25.1                 28.3  \n",
       "13           7.1                 28.2  \n",
       "6           18.1                 27.6  \n",
       "7            5.7                 21.1  \n",
       "4           32.8                 18.3  \n",
       "14          65.1                 17.4  \n",
       "9           11.1                 17.1  \n",
       "8            4.7                 17.0  \n",
       "0           17.1                 16.4  \n",
       "10          15.4                 14.9  \n",
       "11           7.8                 14.1  \n",
       "12           3.6                 13.9  "
      ]
     },
     "metadata": {},
     "output_type": "display_data"
    },
    {
     "data": {
      "application/vnd.plotly.v1+json": {
       "config": {
        "plotlyServerURL": "https://plot.ly"
       },
       "data": [
        {
         "alignmentgroup": "True",
         "hovertemplate": "variable=conv_total,%<br>Действие=%{x}<br>value=%{y}<extra></extra>",
         "legendgroup": "conv_total,%",
         "marker": {
          "color": "#636efa",
          "pattern": {
           "shape": ""
          }
         },
         "name": "conv_total,%",
         "offsetgroup": "conv_total,%",
         "orientation": "v",
         "showlegend": true,
         "textposition": "auto",
         "type": "bar",
         "x": [
          "contacts_call",
          "contacts_show",
          "favorites_add",
          "photos_show",
          "tips_click",
          "search_1",
          "search_2",
          "map",
          "tips_show",
          "search_4",
          "search_3",
          "advert_open",
          "search_5",
          "search_6",
          "search_7"
         ],
         "xaxis": "x",
         "y": [
          5,
          21.7,
          7.6,
          25.1,
          7.1,
          18.1,
          5.7,
          32.8,
          65.1,
          11.1,
          4.7,
          17.1,
          15.4,
          7.8,
          3.6
         ],
         "yaxis": "y"
        },
        {
         "alignmentgroup": "True",
         "hovertemplate": "variable=conv_target,%<br>Действие=%{x}<br>value=%{y}<extra></extra>",
         "legendgroup": "conv_target,%",
         "marker": {
          "color": "#EF553B",
          "pattern": {
           "shape": ""
          }
         },
         "name": "conv_target,%",
         "offsetgroup": "conv_target,%",
         "orientation": "v",
         "showlegend": true,
         "textposition": "auto",
         "type": "bar",
         "x": [
          "contacts_call",
          "contacts_show",
          "favorites_add",
          "photos_show",
          "tips_click",
          "search_1",
          "search_2",
          "map",
          "tips_show",
          "search_4",
          "search_3",
          "advert_open",
          "search_5",
          "search_6",
          "search_7"
         ],
         "xaxis": "x",
         "y": [
          100,
          100,
          36.8,
          28.3,
          28.2,
          27.6,
          21.1,
          18.3,
          17.4,
          17.1,
          17,
          16.4,
          14.9,
          14.1,
          13.9
         ],
         "yaxis": "y"
        }
       ],
       "layout": {
        "barmode": "group",
        "legend": {
         "title": {
          "text": "variable"
         },
         "tracegroupgap": 0
        },
        "template": {
         "data": {
          "bar": [
           {
            "error_x": {
             "color": "#2a3f5f"
            },
            "error_y": {
             "color": "#2a3f5f"
            },
            "marker": {
             "line": {
              "color": "#E5ECF6",
              "width": 0.5
             },
             "pattern": {
              "fillmode": "overlay",
              "size": 10,
              "solidity": 0.2
             }
            },
            "type": "bar"
           }
          ],
          "barpolar": [
           {
            "marker": {
             "line": {
              "color": "#E5ECF6",
              "width": 0.5
             },
             "pattern": {
              "fillmode": "overlay",
              "size": 10,
              "solidity": 0.2
             }
            },
            "type": "barpolar"
           }
          ],
          "carpet": [
           {
            "aaxis": {
             "endlinecolor": "#2a3f5f",
             "gridcolor": "white",
             "linecolor": "white",
             "minorgridcolor": "white",
             "startlinecolor": "#2a3f5f"
            },
            "baxis": {
             "endlinecolor": "#2a3f5f",
             "gridcolor": "white",
             "linecolor": "white",
             "minorgridcolor": "white",
             "startlinecolor": "#2a3f5f"
            },
            "type": "carpet"
           }
          ],
          "choropleth": [
           {
            "colorbar": {
             "outlinewidth": 0,
             "ticks": ""
            },
            "type": "choropleth"
           }
          ],
          "contour": [
           {
            "colorbar": {
             "outlinewidth": 0,
             "ticks": ""
            },
            "colorscale": [
             [
              0,
              "#0d0887"
             ],
             [
              0.1111111111111111,
              "#46039f"
             ],
             [
              0.2222222222222222,
              "#7201a8"
             ],
             [
              0.3333333333333333,
              "#9c179e"
             ],
             [
              0.4444444444444444,
              "#bd3786"
             ],
             [
              0.5555555555555556,
              "#d8576b"
             ],
             [
              0.6666666666666666,
              "#ed7953"
             ],
             [
              0.7777777777777778,
              "#fb9f3a"
             ],
             [
              0.8888888888888888,
              "#fdca26"
             ],
             [
              1,
              "#f0f921"
             ]
            ],
            "type": "contour"
           }
          ],
          "contourcarpet": [
           {
            "colorbar": {
             "outlinewidth": 0,
             "ticks": ""
            },
            "type": "contourcarpet"
           }
          ],
          "heatmap": [
           {
            "colorbar": {
             "outlinewidth": 0,
             "ticks": ""
            },
            "colorscale": [
             [
              0,
              "#0d0887"
             ],
             [
              0.1111111111111111,
              "#46039f"
             ],
             [
              0.2222222222222222,
              "#7201a8"
             ],
             [
              0.3333333333333333,
              "#9c179e"
             ],
             [
              0.4444444444444444,
              "#bd3786"
             ],
             [
              0.5555555555555556,
              "#d8576b"
             ],
             [
              0.6666666666666666,
              "#ed7953"
             ],
             [
              0.7777777777777778,
              "#fb9f3a"
             ],
             [
              0.8888888888888888,
              "#fdca26"
             ],
             [
              1,
              "#f0f921"
             ]
            ],
            "type": "heatmap"
           }
          ],
          "heatmapgl": [
           {
            "colorbar": {
             "outlinewidth": 0,
             "ticks": ""
            },
            "colorscale": [
             [
              0,
              "#0d0887"
             ],
             [
              0.1111111111111111,
              "#46039f"
             ],
             [
              0.2222222222222222,
              "#7201a8"
             ],
             [
              0.3333333333333333,
              "#9c179e"
             ],
             [
              0.4444444444444444,
              "#bd3786"
             ],
             [
              0.5555555555555556,
              "#d8576b"
             ],
             [
              0.6666666666666666,
              "#ed7953"
             ],
             [
              0.7777777777777778,
              "#fb9f3a"
             ],
             [
              0.8888888888888888,
              "#fdca26"
             ],
             [
              1,
              "#f0f921"
             ]
            ],
            "type": "heatmapgl"
           }
          ],
          "histogram": [
           {
            "marker": {
             "pattern": {
              "fillmode": "overlay",
              "size": 10,
              "solidity": 0.2
             }
            },
            "type": "histogram"
           }
          ],
          "histogram2d": [
           {
            "colorbar": {
             "outlinewidth": 0,
             "ticks": ""
            },
            "colorscale": [
             [
              0,
              "#0d0887"
             ],
             [
              0.1111111111111111,
              "#46039f"
             ],
             [
              0.2222222222222222,
              "#7201a8"
             ],
             [
              0.3333333333333333,
              "#9c179e"
             ],
             [
              0.4444444444444444,
              "#bd3786"
             ],
             [
              0.5555555555555556,
              "#d8576b"
             ],
             [
              0.6666666666666666,
              "#ed7953"
             ],
             [
              0.7777777777777778,
              "#fb9f3a"
             ],
             [
              0.8888888888888888,
              "#fdca26"
             ],
             [
              1,
              "#f0f921"
             ]
            ],
            "type": "histogram2d"
           }
          ],
          "histogram2dcontour": [
           {
            "colorbar": {
             "outlinewidth": 0,
             "ticks": ""
            },
            "colorscale": [
             [
              0,
              "#0d0887"
             ],
             [
              0.1111111111111111,
              "#46039f"
             ],
             [
              0.2222222222222222,
              "#7201a8"
             ],
             [
              0.3333333333333333,
              "#9c179e"
             ],
             [
              0.4444444444444444,
              "#bd3786"
             ],
             [
              0.5555555555555556,
              "#d8576b"
             ],
             [
              0.6666666666666666,
              "#ed7953"
             ],
             [
              0.7777777777777778,
              "#fb9f3a"
             ],
             [
              0.8888888888888888,
              "#fdca26"
             ],
             [
              1,
              "#f0f921"
             ]
            ],
            "type": "histogram2dcontour"
           }
          ],
          "mesh3d": [
           {
            "colorbar": {
             "outlinewidth": 0,
             "ticks": ""
            },
            "type": "mesh3d"
           }
          ],
          "parcoords": [
           {
            "line": {
             "colorbar": {
              "outlinewidth": 0,
              "ticks": ""
             }
            },
            "type": "parcoords"
           }
          ],
          "pie": [
           {
            "automargin": true,
            "type": "pie"
           }
          ],
          "scatter": [
           {
            "fillpattern": {
             "fillmode": "overlay",
             "size": 10,
             "solidity": 0.2
            },
            "type": "scatter"
           }
          ],
          "scatter3d": [
           {
            "line": {
             "colorbar": {
              "outlinewidth": 0,
              "ticks": ""
             }
            },
            "marker": {
             "colorbar": {
              "outlinewidth": 0,
              "ticks": ""
             }
            },
            "type": "scatter3d"
           }
          ],
          "scattercarpet": [
           {
            "marker": {
             "colorbar": {
              "outlinewidth": 0,
              "ticks": ""
             }
            },
            "type": "scattercarpet"
           }
          ],
          "scattergeo": [
           {
            "marker": {
             "colorbar": {
              "outlinewidth": 0,
              "ticks": ""
             }
            },
            "type": "scattergeo"
           }
          ],
          "scattergl": [
           {
            "marker": {
             "colorbar": {
              "outlinewidth": 0,
              "ticks": ""
             }
            },
            "type": "scattergl"
           }
          ],
          "scattermapbox": [
           {
            "marker": {
             "colorbar": {
              "outlinewidth": 0,
              "ticks": ""
             }
            },
            "type": "scattermapbox"
           }
          ],
          "scatterpolar": [
           {
            "marker": {
             "colorbar": {
              "outlinewidth": 0,
              "ticks": ""
             }
            },
            "type": "scatterpolar"
           }
          ],
          "scatterpolargl": [
           {
            "marker": {
             "colorbar": {
              "outlinewidth": 0,
              "ticks": ""
             }
            },
            "type": "scatterpolargl"
           }
          ],
          "scatterternary": [
           {
            "marker": {
             "colorbar": {
              "outlinewidth": 0,
              "ticks": ""
             }
            },
            "type": "scatterternary"
           }
          ],
          "surface": [
           {
            "colorbar": {
             "outlinewidth": 0,
             "ticks": ""
            },
            "colorscale": [
             [
              0,
              "#0d0887"
             ],
             [
              0.1111111111111111,
              "#46039f"
             ],
             [
              0.2222222222222222,
              "#7201a8"
             ],
             [
              0.3333333333333333,
              "#9c179e"
             ],
             [
              0.4444444444444444,
              "#bd3786"
             ],
             [
              0.5555555555555556,
              "#d8576b"
             ],
             [
              0.6666666666666666,
              "#ed7953"
             ],
             [
              0.7777777777777778,
              "#fb9f3a"
             ],
             [
              0.8888888888888888,
              "#fdca26"
             ],
             [
              1,
              "#f0f921"
             ]
            ],
            "type": "surface"
           }
          ],
          "table": [
           {
            "cells": {
             "fill": {
              "color": "#EBF0F8"
             },
             "line": {
              "color": "white"
             }
            },
            "header": {
             "fill": {
              "color": "#C8D4E3"
             },
             "line": {
              "color": "white"
             }
            },
            "type": "table"
           }
          ]
         },
         "layout": {
          "annotationdefaults": {
           "arrowcolor": "#2a3f5f",
           "arrowhead": 0,
           "arrowwidth": 1
          },
          "autotypenumbers": "strict",
          "coloraxis": {
           "colorbar": {
            "outlinewidth": 0,
            "ticks": ""
           }
          },
          "colorscale": {
           "diverging": [
            [
             0,
             "#8e0152"
            ],
            [
             0.1,
             "#c51b7d"
            ],
            [
             0.2,
             "#de77ae"
            ],
            [
             0.3,
             "#f1b6da"
            ],
            [
             0.4,
             "#fde0ef"
            ],
            [
             0.5,
             "#f7f7f7"
            ],
            [
             0.6,
             "#e6f5d0"
            ],
            [
             0.7,
             "#b8e186"
            ],
            [
             0.8,
             "#7fbc41"
            ],
            [
             0.9,
             "#4d9221"
            ],
            [
             1,
             "#276419"
            ]
           ],
           "sequential": [
            [
             0,
             "#0d0887"
            ],
            [
             0.1111111111111111,
             "#46039f"
            ],
            [
             0.2222222222222222,
             "#7201a8"
            ],
            [
             0.3333333333333333,
             "#9c179e"
            ],
            [
             0.4444444444444444,
             "#bd3786"
            ],
            [
             0.5555555555555556,
             "#d8576b"
            ],
            [
             0.6666666666666666,
             "#ed7953"
            ],
            [
             0.7777777777777778,
             "#fb9f3a"
            ],
            [
             0.8888888888888888,
             "#fdca26"
            ],
            [
             1,
             "#f0f921"
            ]
           ],
           "sequentialminus": [
            [
             0,
             "#0d0887"
            ],
            [
             0.1111111111111111,
             "#46039f"
            ],
            [
             0.2222222222222222,
             "#7201a8"
            ],
            [
             0.3333333333333333,
             "#9c179e"
            ],
            [
             0.4444444444444444,
             "#bd3786"
            ],
            [
             0.5555555555555556,
             "#d8576b"
            ],
            [
             0.6666666666666666,
             "#ed7953"
            ],
            [
             0.7777777777777778,
             "#fb9f3a"
            ],
            [
             0.8888888888888888,
             "#fdca26"
            ],
            [
             1,
             "#f0f921"
            ]
           ]
          },
          "colorway": [
           "#636efa",
           "#EF553B",
           "#00cc96",
           "#ab63fa",
           "#FFA15A",
           "#19d3f3",
           "#FF6692",
           "#B6E880",
           "#FF97FF",
           "#FECB52"
          ],
          "font": {
           "color": "#2a3f5f"
          },
          "geo": {
           "bgcolor": "white",
           "lakecolor": "white",
           "landcolor": "#E5ECF6",
           "showlakes": true,
           "showland": true,
           "subunitcolor": "white"
          },
          "hoverlabel": {
           "align": "left"
          },
          "hovermode": "closest",
          "mapbox": {
           "style": "light"
          },
          "paper_bgcolor": "white",
          "plot_bgcolor": "#E5ECF6",
          "polar": {
           "angularaxis": {
            "gridcolor": "white",
            "linecolor": "white",
            "ticks": ""
           },
           "bgcolor": "#E5ECF6",
           "radialaxis": {
            "gridcolor": "white",
            "linecolor": "white",
            "ticks": ""
           }
          },
          "scene": {
           "xaxis": {
            "backgroundcolor": "#E5ECF6",
            "gridcolor": "white",
            "gridwidth": 2,
            "linecolor": "white",
            "showbackground": true,
            "ticks": "",
            "zerolinecolor": "white"
           },
           "yaxis": {
            "backgroundcolor": "#E5ECF6",
            "gridcolor": "white",
            "gridwidth": 2,
            "linecolor": "white",
            "showbackground": true,
            "ticks": "",
            "zerolinecolor": "white"
           },
           "zaxis": {
            "backgroundcolor": "#E5ECF6",
            "gridcolor": "white",
            "gridwidth": 2,
            "linecolor": "white",
            "showbackground": true,
            "ticks": "",
            "zerolinecolor": "white"
           }
          },
          "shapedefaults": {
           "line": {
            "color": "#2a3f5f"
           }
          },
          "ternary": {
           "aaxis": {
            "gridcolor": "white",
            "linecolor": "white",
            "ticks": ""
           },
           "baxis": {
            "gridcolor": "white",
            "linecolor": "white",
            "ticks": ""
           },
           "bgcolor": "#E5ECF6",
           "caxis": {
            "gridcolor": "white",
            "linecolor": "white",
            "ticks": ""
           }
          },
          "title": {
           "x": 0.05
          },
          "xaxis": {
           "automargin": true,
           "gridcolor": "white",
           "linecolor": "white",
           "ticks": "",
           "title": {
            "standoff": 15
           },
           "zerolinecolor": "white",
           "zerolinewidth": 2
          },
          "yaxis": {
           "automargin": true,
           "gridcolor": "white",
           "linecolor": "white",
           "ticks": "",
           "title": {
            "standoff": 15
           },
           "zerolinecolor": "white",
           "zerolinewidth": 2
          }
         }
        },
        "title": {
         "text": "График распределения общей конверсии и конверсии в \"просмотр контактов\""
        },
        "xaxis": {
         "anchor": "y",
         "domain": [
          0,
          1
         ],
         "title": {
          "text": "Действие"
         }
        },
        "yaxis": {
         "anchor": "x",
         "domain": [
          0,
          1
         ],
         "title": {
          "text": "Конверсия, %"
         }
        }
       }
      }
     },
     "metadata": {},
     "output_type": "display_data"
    }
   ],
   "source": [
    "# вычисление количества уникальных пользователей каждого события\n",
    "users_contact_view = (\n",
    "    data_filter[data_filter['contact_view'] == True] # срез по наличию признака\n",
    "    .groupby('event_name', as_index=False) # группировка наименований событий\n",
    "    .agg({'user_id':'nunique'})          # подсчет количества уникальных пользователей\n",
    "    .rename(columns={'user_id':'users_count_target'})   # переименование столбца\n",
    "           \n",
    ")\n",
    "# рассчет доли пользователей\n",
    "users_contact_view['conv_target,%'] = round(users_contact_view['users_count_target']\n",
    "                                                /data_filter['user_id'].nunique()*100,1)\n",
    "# добавление информации о количестве уникальных пользователей и их доли \n",
    "# независимо от наличия целевого действия\n",
    "users_contact_view = users_contact_view.merge(users_count, on = 'event_name', how ='left')\n",
    "\n",
    "# рассчет конверсии в целевое действие\n",
    "users_contact_view['conversion_target,%'] = round(users_contact_view['conv_target,%']/\n",
    "                                                users_contact_view['conversion,%']*100, 1)\n",
    "# сортировка по убыванию\n",
    "users_contact_view = users_contact_view.sort_values(by='conversion_target,%', ascending=False) \n",
    "# отображение таблицы users_contact_view \n",
    "display(users_contact_view)\n",
    "\n",
    "# формирование датафрейма\n",
    "conv = pd.DataFrame({'event_name' : users_contact_view['event_name'].tolist()\n",
    "                         , 'conv_total,%' : users_contact_view['conversion,%'].tolist()\n",
    "                         , 'conv_target,%': users_contact_view['conversion_target,%'].tolist()})\n",
    "# построение графика\n",
    "fig = px.bar(\n",
    "    conv\n",
    "    , x = 'event_name'\n",
    "    , y = ['conv_total,%', 'conv_target,%']\n",
    "    , title = 'График распределения общей конверсии и конверсии в \"просмотр контактов\"'\n",
    "    , labels = dict(event_name = 'Действие')\n",
    ")\n",
    "fig.update_layout(barmode='group'\n",
    "                    , yaxis=dict(title='Конверсия, %'))\n",
    "fig.show() "
   ]
  },
  {
   "cell_type": "markdown",
   "metadata": {},
   "source": [
    "Согласно полученным результатам пользователи, которые нажимали на кнопку \"посмотреть номер телефона\" на карточке объявления выполняют чаще всего следующие действия в порядке убывания:\n",
    "1. пользователь позвонил по номеру телефона на карточке объявления;\n",
    "2. добавление объявления в избранное;\n",
    "3. просмотр фотографий в объявлении; \n",
    "4. пользователь кликнул по рекомендованному объявлению;\n",
    "5. поиск по сайту. "
   ]
  },
  {
   "cell_type": "markdown",
   "metadata": {},
   "source": [
    "### Создание профилей пользователей"
   ]
  },
  {
   "cell_type": "markdown",
   "metadata": {},
   "source": [
    "Для создания пользовательских профилей с датой первого посещения, действием и источником установки приложения напишем функцию `get_profiles()`. В ней сгруппируем значения датафрейма по пользовательскому ID и применим функцию `first()`:"
   ]
  },
  {
   "cell_type": "code",
   "execution_count": 55,
   "metadata": {},
   "outputs": [],
   "source": [
    "# функция для создания пользовательских профилей\n",
    "\n",
    "def get_profiles(visits, sourсes):\n",
    "\n",
    "    # находим параметры первых посещений\n",
    "    # сортируем сессии по ID пользователя и дате первого посещения\n",
    "    # группируем по ID и находим первые значения event_time, event_name и количество session_id\n",
    "    # столбец с временем первого посещения назовём first_ts\n",
    "    # от англ. first timestamp — первая временная отметка\n",
    "    # возвращаем user_id из индекса\n",
    "    profiles = (\n",
    "        visits.sort_values(by=['user_id', 'event_time'])\n",
    "        .groupby('user_id')\n",
    "        .agg(\n",
    "            {\n",
    "                'event_time': 'first',\n",
    "                'event_name': 'first',\n",
    "                'session_id': 'nunique',\n",
    "            }\n",
    "        )\n",
    "        .rename(columns=(\n",
    "            {\n",
    "                'event_time': 'first_ts',\n",
    "                'session_id': 'session_count',\n",
    "            })\n",
    "               )\n",
    "        .reset_index() \n",
    "    )\n",
    "    # для когортного анализа определяем дату первого посещения, неделя\n",
    "    # и первый день месяца, в который это посещение произошло\n",
    "    profiles['dt'] = profiles['first_ts'].dt.date\n",
    "    profiles['month'] = profiles['first_ts'].astype('datetime64[M]')\n",
    "    profiles['week'] = profiles['first_ts'].dt.isocalendar().week\n",
    "  \n",
    "    # добавляем столбец c источником из таблицы sourсes\n",
    "    profiles = profiles.merge(sourсes, on='user_id', how='left')\n",
    "    \n",
    "    # добавляем признак просмотра номера телефона пользователем\n",
    "    profiles['contact_view'] = (\n",
    "        profiles['user_id']\n",
    "        .isin(visits['user_id'][visits['event_name'] == 'contacts_show'].unique())\n",
    "    )  \n",
    "    \n",
    "    return profiles"
   ]
  },
  {
   "cell_type": "markdown",
   "metadata": {},
   "source": [
    "Получим профили пользователей. Для этого вызовем функцию get_profiles(), передав ей данные о посещениях и источниках."
   ]
  },
  {
   "cell_type": "code",
   "execution_count": 56,
   "metadata": {
    "scrolled": true
   },
   "outputs": [
    {
     "data": {
      "text/html": [
       "<div>\n",
       "<style scoped>\n",
       "    .dataframe tbody tr th:only-of-type {\n",
       "        vertical-align: middle;\n",
       "    }\n",
       "\n",
       "    .dataframe tbody tr th {\n",
       "        vertical-align: top;\n",
       "    }\n",
       "\n",
       "    .dataframe thead th {\n",
       "        text-align: right;\n",
       "    }\n",
       "</style>\n",
       "<table border=\"1\" class=\"dataframe\">\n",
       "  <thead>\n",
       "    <tr style=\"text-align: right;\">\n",
       "      <th></th>\n",
       "      <th>user_id</th>\n",
       "      <th>first_ts</th>\n",
       "      <th>event_name</th>\n",
       "      <th>session_count</th>\n",
       "      <th>dt</th>\n",
       "      <th>month</th>\n",
       "      <th>week</th>\n",
       "      <th>source</th>\n",
       "      <th>contact_view</th>\n",
       "    </tr>\n",
       "  </thead>\n",
       "  <tbody>\n",
       "    <tr>\n",
       "      <th>0</th>\n",
       "      <td>0001b1d5-b74a-4cbf-aeb0-7df5947bf349</td>\n",
       "      <td>2019-10-07 13:39:45</td>\n",
       "      <td>tips_show</td>\n",
       "      <td>4</td>\n",
       "      <td>2019-10-07</td>\n",
       "      <td>2019-10-01</td>\n",
       "      <td>41</td>\n",
       "      <td>other</td>\n",
       "      <td>False</td>\n",
       "    </tr>\n",
       "    <tr>\n",
       "      <th>1</th>\n",
       "      <td>00157779-810c-4498-9e05-a1e9e3cedf93</td>\n",
       "      <td>2019-10-19 21:34:33</td>\n",
       "      <td>search_1</td>\n",
       "      <td>7</td>\n",
       "      <td>2019-10-19</td>\n",
       "      <td>2019-10-01</td>\n",
       "      <td>42</td>\n",
       "      <td>yandex</td>\n",
       "      <td>True</td>\n",
       "    </tr>\n",
       "    <tr>\n",
       "      <th>2</th>\n",
       "      <td>00463033-5717-4bf1-91b4-09183923b9df</td>\n",
       "      <td>2019-11-01 13:54:35</td>\n",
       "      <td>photos_show</td>\n",
       "      <td>1</td>\n",
       "      <td>2019-11-01</td>\n",
       "      <td>2019-11-01</td>\n",
       "      <td>44</td>\n",
       "      <td>yandex</td>\n",
       "      <td>False</td>\n",
       "    </tr>\n",
       "    <tr>\n",
       "      <th>3</th>\n",
       "      <td>004690c3-5a84-4bb7-a8af-e0c8f8fca64e</td>\n",
       "      <td>2019-10-18 22:14:05</td>\n",
       "      <td>search_7</td>\n",
       "      <td>8</td>\n",
       "      <td>2019-10-18</td>\n",
       "      <td>2019-10-01</td>\n",
       "      <td>42</td>\n",
       "      <td>google</td>\n",
       "      <td>False</td>\n",
       "    </tr>\n",
       "    <tr>\n",
       "      <th>4</th>\n",
       "      <td>00551e79-152e-4441-9cf7-565d7eb04090</td>\n",
       "      <td>2019-10-25 16:44:41</td>\n",
       "      <td>contacts_show</td>\n",
       "      <td>2</td>\n",
       "      <td>2019-10-25</td>\n",
       "      <td>2019-10-01</td>\n",
       "      <td>43</td>\n",
       "      <td>yandex</td>\n",
       "      <td>True</td>\n",
       "    </tr>\n",
       "  </tbody>\n",
       "</table>\n",
       "</div>"
      ],
      "text/plain": [
       "                                user_id            first_ts     event_name  \\\n",
       "0  0001b1d5-b74a-4cbf-aeb0-7df5947bf349 2019-10-07 13:39:45      tips_show   \n",
       "1  00157779-810c-4498-9e05-a1e9e3cedf93 2019-10-19 21:34:33       search_1   \n",
       "2  00463033-5717-4bf1-91b4-09183923b9df 2019-11-01 13:54:35    photos_show   \n",
       "3  004690c3-5a84-4bb7-a8af-e0c8f8fca64e 2019-10-18 22:14:05       search_7   \n",
       "4  00551e79-152e-4441-9cf7-565d7eb04090 2019-10-25 16:44:41  contacts_show   \n",
       "\n",
       "   session_count          dt      month  week  source  contact_view  \n",
       "0              4  2019-10-07 2019-10-01    41   other         False  \n",
       "1              7  2019-10-19 2019-10-01    42  yandex          True  \n",
       "2              1  2019-11-01 2019-11-01    44  yandex         False  \n",
       "3              8  2019-10-18 2019-10-01    42  google         False  \n",
       "4              2  2019-10-25 2019-10-01    43  yandex          True  "
      ]
     },
     "metadata": {},
     "output_type": "display_data"
    }
   ],
   "source": [
    "# получаем профили пользователей\n",
    "profiles = get_profiles(data_filter, sourсes)\n",
    "display(profiles.head())"
   ]
  },
  {
   "cell_type": "markdown",
   "metadata": {},
   "source": [
    "### Вывод"
   ]
  },
  {
   "cell_type": "markdown",
   "metadata": {},
   "source": [
    "1. Данные за период с 7.10.2019 по 3.11.2019\n",
    "\n",
    "\n",
    "2. Приложением пользуются в среднем 279 уникальных пользователей в день и 1382 в неделю.\n",
    "\n",
    "\n",
    "3. В неделю в среднем возвращается 20% пользователей.\n",
    "\n",
    "\n",
    "4. Пользователей, пришедших в приложение из *яндекс* в среднем больше , чем: \n",
    "    * из *google* на 35%;\n",
    "    * из остальных источников на 41%.\n",
    "\n",
    "\n",
    "5. Средняя продолжительность одной сеcсии пользователя составляет 649 сек.(~ 11 мин.), а медианное - 296 сек.(~ 5 мин.). Не более 5% длительность одной сессии почти 29 минут, не более 1% - 1 час 23 минуты и дольше. \n",
    "\n",
    "\n",
    "6. В среднем пользователи проводят в приложении 1543 сек.(~ 26 мин.), а медианное значение - 853 сек.(~ 14 мин.). \n",
    "\n",
    "\n",
    "7. В среднем пользователи совершают в приложении только 2 сессии, а медианное значение равно 1. Не более 5% пользователей совершают 4 сессии и не более 1% - 14 сессий и больше.\n",
    "\n",
    "\n",
    "8. Наиболее распространенные действия в приложении:\n",
    "    * пользователь увидел рекомендованные объявления - 65.1%;\n",
    "    * пользователь открыл карту размещенных объявлений - 32.8%;\n",
    "    * просмотр фотографий в объявлении - 25.1%;\n",
    "    * пользователь нажал на кнопку \"посмотреть номер телефона\" на карточке объявления - 21.7%;\n",
    "    * поиск по сайту - 18.1%;\n",
    "    * открытие карточки объявления - 17.1%.\n",
    "    \n",
    "    \n",
    "9. Пользователи, которые нажимали на кнопку \"посмотреть номер телефона\" на карточке объявления выполняют чаще всего следующие действия:\n",
    "    * пользователь позвонил по номеру телефона на карточке объявления - 100%;\n",
    "    * добавление объявления в избранное - 36.8%;\n",
    "    * просмотр фотографий в объявлении - 28.3%;\n",
    "    * пользователь кликнул по рекомендованному объявлению - 28.2%;\n",
    "    * поиск по сайту - 27.6%.     "
   ]
  },
  {
   "cell_type": "markdown",
   "metadata": {},
   "source": [
    "## Решение основной цели исследования"
   ]
  },
  {
   "cell_type": "markdown",
   "metadata": {},
   "source": [
    "### Сегментирование пользователей на основе действий"
   ]
  },
  {
   "cell_type": "markdown",
   "metadata": {},
   "source": [
    "Благодаря информации, полученной из исследовательского анализа видно, что более половины пользователей совершают только одну сессию. Но причин такого поведения может быть несколько. Возможно, приложение не заинтересовывает пользователя (нет необходимого товара, неудобный или непонятный интерфей), пользователь находит, что необходимо в течении 1 сессии, на текущий момент нет необходимости в покупке, просто интересно посмотреть приложение и т.д. Чтобы лучше разобраться в поведении пользователей разделим их на 2 группы:\n",
    "* пользователи, совершившие 1 сессию;\n",
    "* пользователи, совершившие 2 и более сессий."
   ]
  },
  {
   "cell_type": "code",
   "execution_count": 57,
   "metadata": {},
   "outputs": [
    {
     "data": {
      "text/html": [
       "<div>\n",
       "<style scoped>\n",
       "    .dataframe tbody tr th:only-of-type {\n",
       "        vertical-align: middle;\n",
       "    }\n",
       "\n",
       "    .dataframe tbody tr th {\n",
       "        vertical-align: top;\n",
       "    }\n",
       "\n",
       "    .dataframe thead th {\n",
       "        text-align: right;\n",
       "    }\n",
       "</style>\n",
       "<table border=\"1\" class=\"dataframe\">\n",
       "  <thead>\n",
       "    <tr style=\"text-align: right;\">\n",
       "      <th></th>\n",
       "      <th>event_time</th>\n",
       "      <th>event_name</th>\n",
       "      <th>user_id</th>\n",
       "      <th>event_date</th>\n",
       "      <th>event_week</th>\n",
       "      <th>event_month</th>\n",
       "      <th>source</th>\n",
       "      <th>delta_dt</th>\n",
       "      <th>session_id</th>\n",
       "      <th>session_start</th>\n",
       "      <th>session_end</th>\n",
       "      <th>session_duration_sec</th>\n",
       "      <th>session_count</th>\n",
       "      <th>contact_view</th>\n",
       "    </tr>\n",
       "  </thead>\n",
       "  <tbody>\n",
       "    <tr>\n",
       "      <th>105</th>\n",
       "      <td>2019-11-01 13:54:35</td>\n",
       "      <td>photos_show</td>\n",
       "      <td>00463033-5717-4bf1-91b4-09183923b9df</td>\n",
       "      <td>2019-11-01</td>\n",
       "      <td>44</td>\n",
       "      <td>2019-11-01</td>\n",
       "      <td>yandex</td>\n",
       "      <td>NaN</td>\n",
       "      <td>13</td>\n",
       "      <td>2019-11-01 13:54:35</td>\n",
       "      <td>2019-11-01 14:19:17</td>\n",
       "      <td>1482.0</td>\n",
       "      <td>1</td>\n",
       "      <td>False</td>\n",
       "    </tr>\n",
       "    <tr>\n",
       "      <th>106</th>\n",
       "      <td>2019-11-01 13:56:50</td>\n",
       "      <td>photos_show</td>\n",
       "      <td>00463033-5717-4bf1-91b4-09183923b9df</td>\n",
       "      <td>2019-11-01</td>\n",
       "      <td>44</td>\n",
       "      <td>2019-11-01</td>\n",
       "      <td>yandex</td>\n",
       "      <td>2.0</td>\n",
       "      <td>13</td>\n",
       "      <td>2019-11-01 13:54:35</td>\n",
       "      <td>2019-11-01 14:19:17</td>\n",
       "      <td>1482.0</td>\n",
       "      <td>1</td>\n",
       "      <td>False</td>\n",
       "    </tr>\n",
       "    <tr>\n",
       "      <th>107</th>\n",
       "      <td>2019-11-01 14:00:18</td>\n",
       "      <td>photos_show</td>\n",
       "      <td>00463033-5717-4bf1-91b4-09183923b9df</td>\n",
       "      <td>2019-11-01</td>\n",
       "      <td>44</td>\n",
       "      <td>2019-11-01</td>\n",
       "      <td>yandex</td>\n",
       "      <td>3.0</td>\n",
       "      <td>13</td>\n",
       "      <td>2019-11-01 13:54:35</td>\n",
       "      <td>2019-11-01 14:19:17</td>\n",
       "      <td>1482.0</td>\n",
       "      <td>1</td>\n",
       "      <td>False</td>\n",
       "    </tr>\n",
       "    <tr>\n",
       "      <th>108</th>\n",
       "      <td>2019-11-01 14:01:36</td>\n",
       "      <td>photos_show</td>\n",
       "      <td>00463033-5717-4bf1-91b4-09183923b9df</td>\n",
       "      <td>2019-11-01</td>\n",
       "      <td>44</td>\n",
       "      <td>2019-11-01</td>\n",
       "      <td>yandex</td>\n",
       "      <td>1.0</td>\n",
       "      <td>13</td>\n",
       "      <td>2019-11-01 13:54:35</td>\n",
       "      <td>2019-11-01 14:19:17</td>\n",
       "      <td>1482.0</td>\n",
       "      <td>1</td>\n",
       "      <td>False</td>\n",
       "    </tr>\n",
       "    <tr>\n",
       "      <th>109</th>\n",
       "      <td>2019-11-01 14:02:45</td>\n",
       "      <td>photos_show</td>\n",
       "      <td>00463033-5717-4bf1-91b4-09183923b9df</td>\n",
       "      <td>2019-11-01</td>\n",
       "      <td>44</td>\n",
       "      <td>2019-11-01</td>\n",
       "      <td>yandex</td>\n",
       "      <td>1.0</td>\n",
       "      <td>13</td>\n",
       "      <td>2019-11-01 13:54:35</td>\n",
       "      <td>2019-11-01 14:19:17</td>\n",
       "      <td>1482.0</td>\n",
       "      <td>1</td>\n",
       "      <td>False</td>\n",
       "    </tr>\n",
       "  </tbody>\n",
       "</table>\n",
       "</div>"
      ],
      "text/plain": [
       "             event_time   event_name                               user_id  \\\n",
       "105 2019-11-01 13:54:35  photos_show  00463033-5717-4bf1-91b4-09183923b9df   \n",
       "106 2019-11-01 13:56:50  photos_show  00463033-5717-4bf1-91b4-09183923b9df   \n",
       "107 2019-11-01 14:00:18  photos_show  00463033-5717-4bf1-91b4-09183923b9df   \n",
       "108 2019-11-01 14:01:36  photos_show  00463033-5717-4bf1-91b4-09183923b9df   \n",
       "109 2019-11-01 14:02:45  photos_show  00463033-5717-4bf1-91b4-09183923b9df   \n",
       "\n",
       "     event_date  event_week event_month  source  delta_dt  session_id  \\\n",
       "105  2019-11-01          44  2019-11-01  yandex       NaN          13   \n",
       "106  2019-11-01          44  2019-11-01  yandex       2.0          13   \n",
       "107  2019-11-01          44  2019-11-01  yandex       3.0          13   \n",
       "108  2019-11-01          44  2019-11-01  yandex       1.0          13   \n",
       "109  2019-11-01          44  2019-11-01  yandex       1.0          13   \n",
       "\n",
       "          session_start         session_end  session_duration_sec  \\\n",
       "105 2019-11-01 13:54:35 2019-11-01 14:19:17                1482.0   \n",
       "106 2019-11-01 13:54:35 2019-11-01 14:19:17                1482.0   \n",
       "107 2019-11-01 13:54:35 2019-11-01 14:19:17                1482.0   \n",
       "108 2019-11-01 13:54:35 2019-11-01 14:19:17                1482.0   \n",
       "109 2019-11-01 13:54:35 2019-11-01 14:19:17                1482.0   \n",
       "\n",
       "     session_count  contact_view  \n",
       "105              1         False  \n",
       "106              1         False  \n",
       "107              1         False  \n",
       "108              1         False  \n",
       "109              1         False  "
      ]
     },
     "execution_count": 57,
     "metadata": {},
     "output_type": "execute_result"
    }
   ],
   "source": [
    "# формирование таблицы с пользователями, совершившими 1 сессию\n",
    "df_1 = data_filter[data_filter['session_count'] == 1]\n",
    "df_1.head()"
   ]
  },
  {
   "cell_type": "code",
   "execution_count": 58,
   "metadata": {},
   "outputs": [
    {
     "data": {
      "text/html": [
       "<div>\n",
       "<style scoped>\n",
       "    .dataframe tbody tr th:only-of-type {\n",
       "        vertical-align: middle;\n",
       "    }\n",
       "\n",
       "    .dataframe tbody tr th {\n",
       "        vertical-align: top;\n",
       "    }\n",
       "\n",
       "    .dataframe thead th {\n",
       "        text-align: right;\n",
       "    }\n",
       "</style>\n",
       "<table border=\"1\" class=\"dataframe\">\n",
       "  <thead>\n",
       "    <tr style=\"text-align: right;\">\n",
       "      <th></th>\n",
       "      <th>event_time</th>\n",
       "      <th>event_name</th>\n",
       "      <th>user_id</th>\n",
       "      <th>event_date</th>\n",
       "      <th>event_week</th>\n",
       "      <th>event_month</th>\n",
       "      <th>source</th>\n",
       "      <th>delta_dt</th>\n",
       "      <th>session_id</th>\n",
       "      <th>session_start</th>\n",
       "      <th>session_end</th>\n",
       "      <th>session_duration_sec</th>\n",
       "      <th>session_count</th>\n",
       "      <th>contact_view</th>\n",
       "    </tr>\n",
       "  </thead>\n",
       "  <tbody>\n",
       "    <tr>\n",
       "      <th>0</th>\n",
       "      <td>2019-10-07 13:39:45</td>\n",
       "      <td>tips_show</td>\n",
       "      <td>0001b1d5-b74a-4cbf-aeb0-7df5947bf349</td>\n",
       "      <td>2019-10-07</td>\n",
       "      <td>41</td>\n",
       "      <td>2019-10-01</td>\n",
       "      <td>other</td>\n",
       "      <td>NaN</td>\n",
       "      <td>1</td>\n",
       "      <td>2019-10-07 13:39:45</td>\n",
       "      <td>2019-10-07 13:49:41</td>\n",
       "      <td>596.0</td>\n",
       "      <td>4</td>\n",
       "      <td>False</td>\n",
       "    </tr>\n",
       "    <tr>\n",
       "      <th>1</th>\n",
       "      <td>2019-10-07 13:40:31</td>\n",
       "      <td>tips_show</td>\n",
       "      <td>0001b1d5-b74a-4cbf-aeb0-7df5947bf349</td>\n",
       "      <td>2019-10-07</td>\n",
       "      <td>41</td>\n",
       "      <td>2019-10-01</td>\n",
       "      <td>other</td>\n",
       "      <td>0.0</td>\n",
       "      <td>1</td>\n",
       "      <td>2019-10-07 13:39:45</td>\n",
       "      <td>2019-10-07 13:49:41</td>\n",
       "      <td>596.0</td>\n",
       "      <td>4</td>\n",
       "      <td>False</td>\n",
       "    </tr>\n",
       "    <tr>\n",
       "      <th>2</th>\n",
       "      <td>2019-10-07 13:41:05</td>\n",
       "      <td>tips_show</td>\n",
       "      <td>0001b1d5-b74a-4cbf-aeb0-7df5947bf349</td>\n",
       "      <td>2019-10-07</td>\n",
       "      <td>41</td>\n",
       "      <td>2019-10-01</td>\n",
       "      <td>other</td>\n",
       "      <td>0.0</td>\n",
       "      <td>1</td>\n",
       "      <td>2019-10-07 13:39:45</td>\n",
       "      <td>2019-10-07 13:49:41</td>\n",
       "      <td>596.0</td>\n",
       "      <td>4</td>\n",
       "      <td>False</td>\n",
       "    </tr>\n",
       "    <tr>\n",
       "      <th>3</th>\n",
       "      <td>2019-10-07 13:43:20</td>\n",
       "      <td>tips_show</td>\n",
       "      <td>0001b1d5-b74a-4cbf-aeb0-7df5947bf349</td>\n",
       "      <td>2019-10-07</td>\n",
       "      <td>41</td>\n",
       "      <td>2019-10-01</td>\n",
       "      <td>other</td>\n",
       "      <td>2.0</td>\n",
       "      <td>1</td>\n",
       "      <td>2019-10-07 13:39:45</td>\n",
       "      <td>2019-10-07 13:49:41</td>\n",
       "      <td>596.0</td>\n",
       "      <td>4</td>\n",
       "      <td>False</td>\n",
       "    </tr>\n",
       "    <tr>\n",
       "      <th>4</th>\n",
       "      <td>2019-10-07 13:45:30</td>\n",
       "      <td>tips_show</td>\n",
       "      <td>0001b1d5-b74a-4cbf-aeb0-7df5947bf349</td>\n",
       "      <td>2019-10-07</td>\n",
       "      <td>41</td>\n",
       "      <td>2019-10-01</td>\n",
       "      <td>other</td>\n",
       "      <td>2.0</td>\n",
       "      <td>1</td>\n",
       "      <td>2019-10-07 13:39:45</td>\n",
       "      <td>2019-10-07 13:49:41</td>\n",
       "      <td>596.0</td>\n",
       "      <td>4</td>\n",
       "      <td>False</td>\n",
       "    </tr>\n",
       "  </tbody>\n",
       "</table>\n",
       "</div>"
      ],
      "text/plain": [
       "           event_time event_name                               user_id  \\\n",
       "0 2019-10-07 13:39:45  tips_show  0001b1d5-b74a-4cbf-aeb0-7df5947bf349   \n",
       "1 2019-10-07 13:40:31  tips_show  0001b1d5-b74a-4cbf-aeb0-7df5947bf349   \n",
       "2 2019-10-07 13:41:05  tips_show  0001b1d5-b74a-4cbf-aeb0-7df5947bf349   \n",
       "3 2019-10-07 13:43:20  tips_show  0001b1d5-b74a-4cbf-aeb0-7df5947bf349   \n",
       "4 2019-10-07 13:45:30  tips_show  0001b1d5-b74a-4cbf-aeb0-7df5947bf349   \n",
       "\n",
       "   event_date  event_week event_month source  delta_dt  session_id  \\\n",
       "0  2019-10-07          41  2019-10-01  other       NaN           1   \n",
       "1  2019-10-07          41  2019-10-01  other       0.0           1   \n",
       "2  2019-10-07          41  2019-10-01  other       0.0           1   \n",
       "3  2019-10-07          41  2019-10-01  other       2.0           1   \n",
       "4  2019-10-07          41  2019-10-01  other       2.0           1   \n",
       "\n",
       "        session_start         session_end  session_duration_sec  \\\n",
       "0 2019-10-07 13:39:45 2019-10-07 13:49:41                 596.0   \n",
       "1 2019-10-07 13:39:45 2019-10-07 13:49:41                 596.0   \n",
       "2 2019-10-07 13:39:45 2019-10-07 13:49:41                 596.0   \n",
       "3 2019-10-07 13:39:45 2019-10-07 13:49:41                 596.0   \n",
       "4 2019-10-07 13:39:45 2019-10-07 13:49:41                 596.0   \n",
       "\n",
       "   session_count  contact_view  \n",
       "0              4         False  \n",
       "1              4         False  \n",
       "2              4         False  \n",
       "3              4         False  \n",
       "4              4         False  "
      ]
     },
     "execution_count": 58,
     "metadata": {},
     "output_type": "execute_result"
    }
   ],
   "source": [
    "# формирование таблицы с пользователями, совершившими 2 и более сессий\n",
    "df_2 = data_filter[data_filter['session_count'] > 1]\n",
    "df_2.head()"
   ]
  },
  {
   "cell_type": "markdown",
   "metadata": {},
   "source": [
    "Посмотрим в каких пропорциях разделились наши данные по группам."
   ]
  },
  {
   "cell_type": "code",
   "execution_count": 59,
   "metadata": {},
   "outputs": [
    {
     "name": "stdout",
     "output_type": "stream",
     "text": [
      "Доля 1 группы c 1 сессией: 38%\n",
      "Доля 2 группы с 2 и более сессий: 62%\n"
     ]
    }
   ],
   "source": [
    "print(f'Доля 1 группы c 1 сессией: {round(df_1.shape[0]/(df_1.shape[0] + df_2.shape[0])*100)}%')\n",
    "print(f'Доля 2 группы с 2 и более сессий: {round(df_2.shape[0]/(df_1.shape[0] + df_2.shape[0])*100)}%')"
   ]
  },
  {
   "cell_type": "markdown",
   "metadata": {},
   "source": [
    "### Определение какие пользователи склонны возвращаться в мобильное приложение (Retention Rate)"
   ]
  },
  {
   "cell_type": "markdown",
   "metadata": {},
   "source": [
    "Примем за момент аналаза последний день периода. Т.к. мы анализируемые данные за 4 недели, соответсвенно, чтобы исследование было корректным горизонт анализа возьмем 14 дней. "
   ]
  },
  {
   "cell_type": "code",
   "execution_count": 60,
   "metadata": {},
   "outputs": [
    {
     "name": "stdout",
     "output_type": "stream",
     "text": [
      "Момент анализа: 2019-11-03\n",
      "Горизонт анализа: 14\n",
      "Максимальная дата привлечения с учётом горизонта: 2019-10-21\n"
     ]
    }
   ],
   "source": [
    "# горизонт анализа\n",
    "analysis_horizon = 14 \n",
    "# максимально возможная дата привлечения с учётом горизонта\n",
    "max_analysis_date = observation_date - timedelta(days=analysis_horizon - 1)\n",
    "print('Момент анализа:', observation_date)\n",
    "print('Горизонт анализа:', analysis_horizon)\n",
    "print('Максимальная дата привлечения с учётом горизонта:', max_analysis_date)"
   ]
  },
  {
   "cell_type": "markdown",
   "metadata": {},
   "source": [
    "Рассматривать пользователей с 1 сессией нет необходимости, т.к. и так понятно, что они больше не возвращались за период исследования. Рассмотрим вторую группу в разрезе недель, источников, совершения первого и целевого действий."
   ]
  },
  {
   "cell_type": "code",
   "execution_count": 61,
   "metadata": {},
   "outputs": [
    {
     "data": {
      "image/png": "[encoded data removed]",
      "text/plain": [
       "<Figure size 1080x720 with 2 Axes>"
      ]
     },
     "metadata": {
      "needs_background": "light"
     },
     "output_type": "display_data"
    }
   ],
   "source": [
    "# смотрим удержание с разбивкой по дням\n",
    "retention_raw, retention_grouped = get_retention(profiles[profiles['session_count'] > 1]\n",
    "                                                 , df_2\n",
    "                                                 , observation_date\n",
    "                                                 , analysis_horizon\n",
    "                                                 , dimensions=['week']\n",
    ")\n",
    "# строительство графиков \n",
    "plot_retention(retention_grouped,  analysis_horizon, 'Неделя')"
   ]
  },
  {
   "cell_type": "markdown",
   "metadata": {},
   "source": [
    "По данным хорошо видно, что пользователи, которые начали пользоваться приложением на 43 недели более активно возвращались на 3(21%), 4(15%) и 8 день(16%), но затем, особенно к концу второй неделе, интерес совсем пропадал до 1%. Процент вернувшихся пользователей 41 и 42 недель первые 2 дня после начала использования одинаковый - 17% и 15%, затем до 8 дня значение держалось в среднем 9%, а к концу второй недели вернулось только 5% пользователей."
   ]
  },
  {
   "cell_type": "code",
   "execution_count": 62,
   "metadata": {},
   "outputs": [
    {
     "data": {
      "image/png": "[encoded data removed]",
      "text/plain": [
       "<Figure size 1080x720 with 2 Axes>"
      ]
     },
     "metadata": {
      "needs_background": "light"
     },
     "output_type": "display_data"
    }
   ],
   "source": [
    "# смотрим удержание с разбивкой по источникам\n",
    "retention_raw, retention_grouped = get_retention(profiles[profiles['session_count'] > 1]\n",
    "                                                 , df_2\n",
    "                                                 , observation_date\n",
    "                                                 , analysis_horizon\n",
    "                                                 , dimensions=['source']\n",
    ")\n",
    "# строительство графиков \n",
    "plot_retention(retention_grouped,  analysis_horizon, 'Источник')"
   ]
  },
  {
   "cell_type": "markdown",
   "metadata": {},
   "source": [
    "Из *google* и *yandex* пользователи возвращаются чуть активнее, чем из остальных источников на 2 день(19% и 18%) и в течение 1 недели использования. Из других источников возвращаются больше, чем из *google* и *yandex* на 3 день(17%). Со второй недели удержание из всех источников сильно не отличается."
   ]
  },
  {
   "cell_type": "code",
   "execution_count": 63,
   "metadata": {},
   "outputs": [
    {
     "data": {
      "image/png": "[encoded data removed]",
      "text/plain": [
       "<Figure size 1080x720 with 2 Axes>"
      ]
     },
     "metadata": {
      "needs_background": "light"
     },
     "output_type": "display_data"
    }
   ],
   "source": [
    "# смотрим удержание с разбивкой по первому совершенному действию\n",
    "retention_raw, retention_grouped = get_retention(profiles[profiles['session_count'] > 1]\n",
    "                                                 , df_2\n",
    "                                                 , observation_date\n",
    "                                                 , analysis_horizon\n",
    "                                                 , dimensions=['event_name']\n",
    ")\n",
    "# строительство графиков \n",
    "plot_retention(retention_grouped,  analysis_horizon, 'Первое совершенное событие')"
   ]
  },
  {
   "cell_type": "markdown",
   "metadata": {},
   "source": [
    "Пользователи, которые открывают сперва карточки объявлений, чаще остальных возвращаются первую неделю и на 13 день использования приложения. Пользователи, которые заходят сразу в избранное лучше остальных возвращаются на 2(25%), 8(17%) , 11(17%) и 13(17%) дни использования. Пользователи, которые пользовались сперва поиском и фильтрами в основном возвращаются только первую неделю. Кто сразу кликал на рекомендованное возвращались только на 5 и 7 дни по 33%, судя по всему проводилось уведомление из приложения. Кто изначально просматривал контакты, карту и фотографии более активно возвращаются только первые 2 дня."
   ]
  },
  {
   "cell_type": "code",
   "execution_count": 64,
   "metadata": {},
   "outputs": [
    {
     "data": {
      "image/png": "[encoded data removed]",
      "text/plain": [
       "<Figure size 1080x720 with 2 Axes>"
      ]
     },
     "metadata": {
      "needs_background": "light"
     },
     "output_type": "display_data"
    }
   ],
   "source": [
    "# смотрим удержание с разбивкой по совершению целевого действия\n",
    "retention_raw, retention_grouped = get_retention(profiles[profiles['session_count'] > 1]\n",
    "                                                 , df_2\n",
    "                                                 , observation_date\n",
    "                                                 , analysis_horizon\n",
    "                                                 , dimensions=['contact_view']\n",
    ")\n",
    "# строительство графиков \n",
    "plot_retention(retention_grouped, analysis_horizon, 'Просмотр контакта')"
   ]
  },
  {
   "cell_type": "markdown",
   "metadata": {},
   "source": [
    "Пользователи, которые просматривали контакты почти в 1,5 раза активнее возвращаются в приложение в первую неделю использования (в среднем ~15%). Со второй недели удержание сильно не отличается."
   ]
  },
  {
   "cell_type": "markdown",
   "metadata": {},
   "source": [
    "При расчёте удержания когортного анализа многое может пойти не так. Поэтому, чтобы убедиться в корректности расчетов проверим, что сумма размеров когорт равна числу новых клиентов в изучаемый период для удержания."
   ]
  },
  {
   "cell_type": "code",
   "execution_count": 65,
   "metadata": {},
   "outputs": [
    {
     "name": "stdout",
     "output_type": "stream",
     "text": [
      "Общее количество новых пользователей: 995 995\n"
     ]
    }
   ],
   "source": [
    "# сумма размеров когорт равна числу новых клиентов в изучаемый период?\n",
    "\n",
    "report_1 =retention_raw.query(\n",
    "     # в сырых данных находим пользователей, привлечённых с 1 октября по 21 октября\n",
    "    'datetime(2019, 10, 7).date() <= dt <= datetime(2019, 10, 21).date()'\n",
    ")\n",
    "print(\n",
    "    # считаем уникальных пользователей в сырых данных и складываем размеры когорт\n",
    "    'Общее количество новых пользователей: {} {}'.format(\n",
    "        len(report_1['user_id'].unique()), retention_grouped['cohort_size'].sum()\n",
    "    )\n",
    ")"
   ]
  },
  {
   "cell_type": "markdown",
   "metadata": {},
   "source": [
    "### Определение какие пользователи часто делают целевое действие (просмотр контактов)"
   ]
  },
  {
   "cell_type": "code",
   "execution_count": 66,
   "metadata": {},
   "outputs": [
    {
     "name": "stdout",
     "output_type": "stream",
     "text": [
      "Конверсия в целевое действие пользователей, совершивших 1 сессию : 14.6%\n",
      "Конверсия в целевое действие пользователей, совершивших больше 1 сессии: 33.0%\n"
     ]
    }
   ],
   "source": [
    "# рассчитываем конверсию в целевое действие первой группы\n",
    "conversion_1_group = round(df_1[df_1['contact_view'] == True]['user_id'].nunique()\n",
    "                                                /df_1['user_id'].nunique()*100,1)\n",
    "print(f'Конверсия в целевое действие пользователей, совершивших 1 сессию : {conversion_1_group}%')\n",
    "\n",
    "# рассчитываем конверсию в целевое действие второй группы\n",
    "conversion_2_group = round(df_2[df_2['contact_view'] == True]['user_id'].nunique()\n",
    "                                                /df_2['user_id'].nunique()*100,1)\n",
    "print(f'Конверсия в целевое действие пользователей, совершивших больше 1 сессии: {conversion_2_group}%')"
   ]
  },
  {
   "cell_type": "markdown",
   "metadata": {},
   "source": [
    "Согласно полученным данным пользователи, которые совершают больше 1 сессии нажимают на кнопку \"посмотреть номер телефона\" на карточке объявления почти в 2 раза реже."
   ]
  },
  {
   "cell_type": "markdown",
   "metadata": {},
   "source": [
    "### Определение как различается время между распространенными событиями пользователей"
   ]
  },
  {
   "cell_type": "markdown",
   "metadata": {},
   "source": [
    "На этапе исследовательского анализа выяснили, что пользователи чаще нажимают на кнопку \"посмотреть номер телефона\" на карточке объявления в связке со следующими действиями:\n",
    "1. пользователь позвонил по номеру телефона на карточке объявления;\n",
    "2. добавление объявления в избранное;\n",
    "3. просмотр фотографий в объявлении; \n",
    "4. пользователь кликнул по рекомендованному объявлению;\n",
    "5. поиск по сайту. \n",
    "\n",
    "Посмотрим сколько в среднем времени тратит пользователь каждой группы между совершением целевого действия и каждым из этих событий. При этом будем рассматривать среднее время между звонком по телефону после совершения просмотра, а остальные действия до совершения целевого действия. Для этого воспользуемся функцией `actual_time` и отобразим на графике с помощью функции `plot_time`."
   ]
  },
  {
   "cell_type": "code",
   "execution_count": 67,
   "metadata": {},
   "outputs": [
    {
     "data": {
      "text/html": [
       "<div>\n",
       "<style scoped>\n",
       "    .dataframe tbody tr th:only-of-type {\n",
       "        vertical-align: middle;\n",
       "    }\n",
       "\n",
       "    .dataframe tbody tr th {\n",
       "        vertical-align: top;\n",
       "    }\n",
       "\n",
       "    .dataframe thead th {\n",
       "        text-align: right;\n",
       "    }\n",
       "</style>\n",
       "<table border=\"1\" class=\"dataframe\">\n",
       "  <thead>\n",
       "    <tr style=\"text-align: right;\">\n",
       "      <th></th>\n",
       "      <th>event_name</th>\n",
       "      <th>time_to_contact_show_g1</th>\n",
       "      <th>time_to_contact_show_g2</th>\n",
       "      <th>ratio_g1,%</th>\n",
       "      <th>ratio_g2,%</th>\n",
       "    </tr>\n",
       "  </thead>\n",
       "  <tbody>\n",
       "    <tr>\n",
       "      <th>0</th>\n",
       "      <td>photos_show</td>\n",
       "      <td>54</td>\n",
       "      <td>270</td>\n",
       "      <td>17.0</td>\n",
       "      <td>83.0</td>\n",
       "    </tr>\n",
       "    <tr>\n",
       "      <th>7</th>\n",
       "      <td>favorites_add</td>\n",
       "      <td>213</td>\n",
       "      <td>340</td>\n",
       "      <td>39.0</td>\n",
       "      <td>61.0</td>\n",
       "    </tr>\n",
       "    <tr>\n",
       "      <th>9</th>\n",
       "      <td>search_1</td>\n",
       "      <td>258</td>\n",
       "      <td>123</td>\n",
       "      <td>68.0</td>\n",
       "      <td>32.0</td>\n",
       "    </tr>\n",
       "    <tr>\n",
       "      <th>10</th>\n",
       "      <td>tips_click</td>\n",
       "      <td>280</td>\n",
       "      <td>718</td>\n",
       "      <td>28.0</td>\n",
       "      <td>72.0</td>\n",
       "    </tr>\n",
       "  </tbody>\n",
       "</table>\n",
       "</div>"
      ],
      "text/plain": [
       "       event_name  time_to_contact_show_g1  time_to_contact_show_g2  \\\n",
       "0     photos_show                       54                      270   \n",
       "7   favorites_add                      213                      340   \n",
       "9        search_1                      258                      123   \n",
       "10     tips_click                      280                      718   \n",
       "\n",
       "    ratio_g1,%  ratio_g2,%  \n",
       "0         17.0        83.0  \n",
       "7         39.0        61.0  \n",
       "9         68.0        32.0  \n",
       "10        28.0        72.0  "
      ]
     },
     "metadata": {},
     "output_type": "display_data"
    },
    {
     "data": {
      "application/vnd.plotly.v1+json": {
       "config": {
        "plotlyServerURL": "https://plot.ly"
       },
       "data": [
        {
         "alignmentgroup": "True",
         "hovertemplate": "variable=time_group_1<br>Действие=%{x}<br>value=%{y}<extra></extra>",
         "legendgroup": "time_group_1",
         "marker": {
          "color": "#636efa",
          "pattern": {
           "shape": ""
          }
         },
         "name": "time_group_1",
         "offsetgroup": "time_group_1",
         "orientation": "v",
         "showlegend": true,
         "textposition": "auto",
         "type": "bar",
         "x": [
          "photos_show",
          "favorites_add",
          "search_1",
          "tips_click"
         ],
         "xaxis": "x",
         "y": [
          54,
          213,
          258,
          280
         ],
         "yaxis": "y"
        },
        {
         "alignmentgroup": "True",
         "hovertemplate": "variable=time_group_2<br>Действие=%{x}<br>value=%{y}<extra></extra>",
         "legendgroup": "time_group_2",
         "marker": {
          "color": "#EF553B",
          "pattern": {
           "shape": ""
          }
         },
         "name": "time_group_2",
         "offsetgroup": "time_group_2",
         "orientation": "v",
         "showlegend": true,
         "textposition": "auto",
         "type": "bar",
         "x": [
          "photos_show",
          "favorites_add",
          "search_1",
          "tips_click"
         ],
         "xaxis": "x",
         "y": [
          270,
          340,
          123,
          718
         ],
         "yaxis": "y"
        }
       ],
       "layout": {
        "barmode": "group",
        "legend": {
         "title": {
          "text": "variable"
         },
         "tracegroupgap": 0
        },
        "template": {
         "data": {
          "bar": [
           {
            "error_x": {
             "color": "#2a3f5f"
            },
            "error_y": {
             "color": "#2a3f5f"
            },
            "marker": {
             "line": {
              "color": "#E5ECF6",
              "width": 0.5
             },
             "pattern": {
              "fillmode": "overlay",
              "size": 10,
              "solidity": 0.2
             }
            },
            "type": "bar"
           }
          ],
          "barpolar": [
           {
            "marker": {
             "line": {
              "color": "#E5ECF6",
              "width": 0.5
             },
             "pattern": {
              "fillmode": "overlay",
              "size": 10,
              "solidity": 0.2
             }
            },
            "type": "barpolar"
           }
          ],
          "carpet": [
           {
            "aaxis": {
             "endlinecolor": "#2a3f5f",
             "gridcolor": "white",
             "linecolor": "white",
             "minorgridcolor": "white",
             "startlinecolor": "#2a3f5f"
            },
            "baxis": {
             "endlinecolor": "#2a3f5f",
             "gridcolor": "white",
             "linecolor": "white",
             "minorgridcolor": "white",
             "startlinecolor": "#2a3f5f"
            },
            "type": "carpet"
           }
          ],
          "choropleth": [
           {
            "colorbar": {
             "outlinewidth": 0,
             "ticks": ""
            },
            "type": "choropleth"
           }
          ],
          "contour": [
           {
            "colorbar": {
             "outlinewidth": 0,
             "ticks": ""
            },
            "colorscale": [
             [
              0,
              "#0d0887"
             ],
             [
              0.1111111111111111,
              "#46039f"
             ],
             [
              0.2222222222222222,
              "#7201a8"
             ],
             [
              0.3333333333333333,
              "#9c179e"
             ],
             [
              0.4444444444444444,
              "#bd3786"
             ],
             [
              0.5555555555555556,
              "#d8576b"
             ],
             [
              0.6666666666666666,
              "#ed7953"
             ],
             [
              0.7777777777777778,
              "#fb9f3a"
             ],
             [
              0.8888888888888888,
              "#fdca26"
             ],
             [
              1,
              "#f0f921"
             ]
            ],
            "type": "contour"
           }
          ],
          "contourcarpet": [
           {
            "colorbar": {
             "outlinewidth": 0,
             "ticks": ""
            },
            "type": "contourcarpet"
           }
          ],
          "heatmap": [
           {
            "colorbar": {
             "outlinewidth": 0,
             "ticks": ""
            },
            "colorscale": [
             [
              0,
              "#0d0887"
             ],
             [
              0.1111111111111111,
              "#46039f"
             ],
             [
              0.2222222222222222,
              "#7201a8"
             ],
             [
              0.3333333333333333,
              "#9c179e"
             ],
             [
              0.4444444444444444,
              "#bd3786"
             ],
             [
              0.5555555555555556,
              "#d8576b"
             ],
             [
              0.6666666666666666,
              "#ed7953"
             ],
             [
              0.7777777777777778,
              "#fb9f3a"
             ],
             [
              0.8888888888888888,
              "#fdca26"
             ],
             [
              1,
              "#f0f921"
             ]
            ],
            "type": "heatmap"
           }
          ],
          "heatmapgl": [
           {
            "colorbar": {
             "outlinewidth": 0,
             "ticks": ""
            },
            "colorscale": [
             [
              0,
              "#0d0887"
             ],
             [
              0.1111111111111111,
              "#46039f"
             ],
             [
              0.2222222222222222,
              "#7201a8"
             ],
             [
              0.3333333333333333,
              "#9c179e"
             ],
             [
              0.4444444444444444,
              "#bd3786"
             ],
             [
              0.5555555555555556,
              "#d8576b"
             ],
             [
              0.6666666666666666,
              "#ed7953"
             ],
             [
              0.7777777777777778,
              "#fb9f3a"
             ],
             [
              0.8888888888888888,
              "#fdca26"
             ],
             [
              1,
              "#f0f921"
             ]
            ],
            "type": "heatmapgl"
           }
          ],
          "histogram": [
           {
            "marker": {
             "pattern": {
              "fillmode": "overlay",
              "size": 10,
              "solidity": 0.2
             }
            },
            "type": "histogram"
           }
          ],
          "histogram2d": [
           {
            "colorbar": {
             "outlinewidth": 0,
             "ticks": ""
            },
            "colorscale": [
             [
              0,
              "#0d0887"
             ],
             [
              0.1111111111111111,
              "#46039f"
             ],
             [
              0.2222222222222222,
              "#7201a8"
             ],
             [
              0.3333333333333333,
              "#9c179e"
             ],
             [
              0.4444444444444444,
              "#bd3786"
             ],
             [
              0.5555555555555556,
              "#d8576b"
             ],
             [
              0.6666666666666666,
              "#ed7953"
             ],
             [
              0.7777777777777778,
              "#fb9f3a"
             ],
             [
              0.8888888888888888,
              "#fdca26"
             ],
             [
              1,
              "#f0f921"
             ]
            ],
            "type": "histogram2d"
           }
          ],
          "histogram2dcontour": [
           {
            "colorbar": {
             "outlinewidth": 0,
             "ticks": ""
            },
            "colorscale": [
             [
              0,
              "#0d0887"
             ],
             [
              0.1111111111111111,
              "#46039f"
             ],
             [
              0.2222222222222222,
              "#7201a8"
             ],
             [
              0.3333333333333333,
              "#9c179e"
             ],
             [
              0.4444444444444444,
              "#bd3786"
             ],
             [
              0.5555555555555556,
              "#d8576b"
             ],
             [
              0.6666666666666666,
              "#ed7953"
             ],
             [
              0.7777777777777778,
              "#fb9f3a"
             ],
             [
              0.8888888888888888,
              "#fdca26"
             ],
             [
              1,
              "#f0f921"
             ]
            ],
            "type": "histogram2dcontour"
           }
          ],
          "mesh3d": [
           {
            "colorbar": {
             "outlinewidth": 0,
             "ticks": ""
            },
            "type": "mesh3d"
           }
          ],
          "parcoords": [
           {
            "line": {
             "colorbar": {
              "outlinewidth": 0,
              "ticks": ""
             }
            },
            "type": "parcoords"
           }
          ],
          "pie": [
           {
            "automargin": true,
            "type": "pie"
           }
          ],
          "scatter": [
           {
            "fillpattern": {
             "fillmode": "overlay",
             "size": 10,
             "solidity": 0.2
            },
            "type": "scatter"
           }
          ],
          "scatter3d": [
           {
            "line": {
             "colorbar": {
              "outlinewidth": 0,
              "ticks": ""
             }
            },
            "marker": {
             "colorbar": {
              "outlinewidth": 0,
              "ticks": ""
             }
            },
            "type": "scatter3d"
           }
          ],
          "scattercarpet": [
           {
            "marker": {
             "colorbar": {
              "outlinewidth": 0,
              "ticks": ""
             }
            },
            "type": "scattercarpet"
           }
          ],
          "scattergeo": [
           {
            "marker": {
             "colorbar": {
              "outlinewidth": 0,
              "ticks": ""
             }
            },
            "type": "scattergeo"
           }
          ],
          "scattergl": [
           {
            "marker": {
             "colorbar": {
              "outlinewidth": 0,
              "ticks": ""
             }
            },
            "type": "scattergl"
           }
          ],
          "scattermapbox": [
           {
            "marker": {
             "colorbar": {
              "outlinewidth": 0,
              "ticks": ""
             }
            },
            "type": "scattermapbox"
           }
          ],
          "scatterpolar": [
           {
            "marker": {
             "colorbar": {
              "outlinewidth": 0,
              "ticks": ""
             }
            },
            "type": "scatterpolar"
           }
          ],
          "scatterpolargl": [
           {
            "marker": {
             "colorbar": {
              "outlinewidth": 0,
              "ticks": ""
             }
            },
            "type": "scatterpolargl"
           }
          ],
          "scatterternary": [
           {
            "marker": {
             "colorbar": {
              "outlinewidth": 0,
              "ticks": ""
             }
            },
            "type": "scatterternary"
           }
          ],
          "surface": [
           {
            "colorbar": {
             "outlinewidth": 0,
             "ticks": ""
            },
            "colorscale": [
             [
              0,
              "#0d0887"
             ],
             [
              0.1111111111111111,
              "#46039f"
             ],
             [
              0.2222222222222222,
              "#7201a8"
             ],
             [
              0.3333333333333333,
              "#9c179e"
             ],
             [
              0.4444444444444444,
              "#bd3786"
             ],
             [
              0.5555555555555556,
              "#d8576b"
             ],
             [
              0.6666666666666666,
              "#ed7953"
             ],
             [
              0.7777777777777778,
              "#fb9f3a"
             ],
             [
              0.8888888888888888,
              "#fdca26"
             ],
             [
              1,
              "#f0f921"
             ]
            ],
            "type": "surface"
           }
          ],
          "table": [
           {
            "cells": {
             "fill": {
              "color": "#EBF0F8"
             },
             "line": {
              "color": "white"
             }
            },
            "header": {
             "fill": {
              "color": "#C8D4E3"
             },
             "line": {
              "color": "white"
             }
            },
            "type": "table"
           }
          ]
         },
         "layout": {
          "annotationdefaults": {
           "arrowcolor": "#2a3f5f",
           "arrowhead": 0,
           "arrowwidth": 1
          },
          "autotypenumbers": "strict",
          "coloraxis": {
           "colorbar": {
            "outlinewidth": 0,
            "ticks": ""
           }
          },
          "colorscale": {
           "diverging": [
            [
             0,
             "#8e0152"
            ],
            [
             0.1,
             "#c51b7d"
            ],
            [
             0.2,
             "#de77ae"
            ],
            [
             0.3,
             "#f1b6da"
            ],
            [
             0.4,
             "#fde0ef"
            ],
            [
             0.5,
             "#f7f7f7"
            ],
            [
             0.6,
             "#e6f5d0"
            ],
            [
             0.7,
             "#b8e186"
            ],
            [
             0.8,
             "#7fbc41"
            ],
            [
             0.9,
             "#4d9221"
            ],
            [
             1,
             "#276419"
            ]
           ],
           "sequential": [
            [
             0,
             "#0d0887"
            ],
            [
             0.1111111111111111,
             "#46039f"
            ],
            [
             0.2222222222222222,
             "#7201a8"
            ],
            [
             0.3333333333333333,
             "#9c179e"
            ],
            [
             0.4444444444444444,
             "#bd3786"
            ],
            [
             0.5555555555555556,
             "#d8576b"
            ],
            [
             0.6666666666666666,
             "#ed7953"
            ],
            [
             0.7777777777777778,
             "#fb9f3a"
            ],
            [
             0.8888888888888888,
             "#fdca26"
            ],
            [
             1,
             "#f0f921"
            ]
           ],
           "sequentialminus": [
            [
             0,
             "#0d0887"
            ],
            [
             0.1111111111111111,
             "#46039f"
            ],
            [
             0.2222222222222222,
             "#7201a8"
            ],
            [
             0.3333333333333333,
             "#9c179e"
            ],
            [
             0.4444444444444444,
             "#bd3786"
            ],
            [
             0.5555555555555556,
             "#d8576b"
            ],
            [
             0.6666666666666666,
             "#ed7953"
            ],
            [
             0.7777777777777778,
             "#fb9f3a"
            ],
            [
             0.8888888888888888,
             "#fdca26"
            ],
            [
             1,
             "#f0f921"
            ]
           ]
          },
          "colorway": [
           "#636efa",
           "#EF553B",
           "#00cc96",
           "#ab63fa",
           "#FFA15A",
           "#19d3f3",
           "#FF6692",
           "#B6E880",
           "#FF97FF",
           "#FECB52"
          ],
          "font": {
           "color": "#2a3f5f"
          },
          "geo": {
           "bgcolor": "white",
           "lakecolor": "white",
           "landcolor": "#E5ECF6",
           "showlakes": true,
           "showland": true,
           "subunitcolor": "white"
          },
          "hoverlabel": {
           "align": "left"
          },
          "hovermode": "closest",
          "mapbox": {
           "style": "light"
          },
          "paper_bgcolor": "white",
          "plot_bgcolor": "#E5ECF6",
          "polar": {
           "angularaxis": {
            "gridcolor": "white",
            "linecolor": "white",
            "ticks": ""
           },
           "bgcolor": "#E5ECF6",
           "radialaxis": {
            "gridcolor": "white",
            "linecolor": "white",
            "ticks": ""
           }
          },
          "scene": {
           "xaxis": {
            "backgroundcolor": "#E5ECF6",
            "gridcolor": "white",
            "gridwidth": 2,
            "linecolor": "white",
            "showbackground": true,
            "ticks": "",
            "zerolinecolor": "white"
           },
           "yaxis": {
            "backgroundcolor": "#E5ECF6",
            "gridcolor": "white",
            "gridwidth": 2,
            "linecolor": "white",
            "showbackground": true,
            "ticks": "",
            "zerolinecolor": "white"
           },
           "zaxis": {
            "backgroundcolor": "#E5ECF6",
            "gridcolor": "white",
            "gridwidth": 2,
            "linecolor": "white",
            "showbackground": true,
            "ticks": "",
            "zerolinecolor": "white"
           }
          },
          "shapedefaults": {
           "line": {
            "color": "#2a3f5f"
           }
          },
          "ternary": {
           "aaxis": {
            "gridcolor": "white",
            "linecolor": "white",
            "ticks": ""
           },
           "baxis": {
            "gridcolor": "white",
            "linecolor": "white",
            "ticks": ""
           },
           "bgcolor": "#E5ECF6",
           "caxis": {
            "gridcolor": "white",
            "linecolor": "white",
            "ticks": ""
           }
          },
          "title": {
           "x": 0.05
          },
          "xaxis": {
           "automargin": true,
           "gridcolor": "white",
           "linecolor": "white",
           "ticks": "",
           "title": {
            "standoff": 15
           },
           "zerolinecolor": "white",
           "zerolinewidth": 2
          },
          "yaxis": {
           "automargin": true,
           "gridcolor": "white",
           "linecolor": "white",
           "ticks": "",
           "title": {
            "standoff": 15
           },
           "zerolinecolor": "white",
           "zerolinewidth": 2
          }
         }
        },
        "title": {
         "text": "График времени между contacts_show и другими событиями"
        },
        "xaxis": {
         "anchor": "y",
         "domain": [
          0,
          1
         ],
         "title": {
          "text": "Действие"
         }
        },
        "yaxis": {
         "anchor": "x",
         "domain": [
          0,
          1
         ],
         "title": {
          "text": "Время, сек"
         }
        }
       }
      }
     },
     "metadata": {},
     "output_type": "display_data"
    }
   ],
   "source": [
    "# время между событиями для пользователей, совершивших 1 сессию\n",
    "actual_time_1_group = pd.DataFrame(actual_time(df_1, 'contacts_show', 1))\n",
    "# переименование столбцов\n",
    "actual_time_1_group.columns = ['event_name', 'time_to_contact_show_g1']\n",
    "\n",
    "# время между событиями для пользователей, совершивших 2 и более сессий\n",
    "actual_time_2_group = pd.DataFrame(actual_time(df_2, 'contacts_show',1))\n",
    "# переименование столбцов\n",
    "actual_time_2_group.columns = ['event_name', 'time_to_contact_show_g2']\n",
    "\n",
    "# объединение времени 1 и 2 группы по наименованию события\n",
    "actual_time_group = actual_time_1_group.merge(actual_time_2_group, on='event_name', how='left')\n",
    "\n",
    "# срез по интересующим действиям\n",
    "actual_time_group = (\n",
    "    actual_time_group[actual_time_group['event_name']\n",
    "                      .isin(['favorites_add', 'photos_show', 'tips_click', 'search_1' ])]\n",
    ")\n",
    "# расчет процентного соотношения пользователей, совершивших 1 сессию\n",
    "actual_time_group['ratio_g1,%'] = (\n",
    "    round(actual_time_group['time_to_contact_show_g1']\n",
    "    /(actual_time_group['time_to_contact_show_g1'] + actual_time_group['time_to_contact_show_g2'])*100)\n",
    ")\n",
    "# расчет процентного соотношения пользователей, совершивших 2 и более сессий\n",
    "actual_time_group['ratio_g2,%'] = (\n",
    "    round(actual_time_group['time_to_contact_show_g2']\n",
    "    /(actual_time_group['time_to_contact_show_g1'] + actual_time_group['time_to_contact_show_g2'])*100)\n",
    ")\n",
    "# отображение таблицы\n",
    "display(actual_time_group)\n",
    "\n",
    "# строительство графика\n",
    "plot_time(actual_time_group, 'contacts_show')"
   ]
  },
  {
   "cell_type": "markdown",
   "metadata": {},
   "source": [
    "Пользователи, совершившие 1 сессию в отличие от пользователей с большим количеством сессий переходят к просмотру контакта:\n",
    "* почти в 5 раз быстрее после просмотра фотографий в объявлении ;\n",
    "* почти в 1,5 раза быстрее после добавления объявления в избранное ;\n",
    "* почти в 2 раза медленее после поиска по сайту ;\n",
    "* почти в 2,5 раза быстрее после клика по рекомендованному объявлению ."
   ]
  },
  {
   "cell_type": "code",
   "execution_count": 68,
   "metadata": {},
   "outputs": [
    {
     "data": {
      "text/html": [
       "<div>\n",
       "<style scoped>\n",
       "    .dataframe tbody tr th:only-of-type {\n",
       "        vertical-align: middle;\n",
       "    }\n",
       "\n",
       "    .dataframe tbody tr th {\n",
       "        vertical-align: top;\n",
       "    }\n",
       "\n",
       "    .dataframe thead th {\n",
       "        text-align: right;\n",
       "    }\n",
       "</style>\n",
       "<table border=\"1\" class=\"dataframe\">\n",
       "  <thead>\n",
       "    <tr style=\"text-align: right;\">\n",
       "      <th></th>\n",
       "      <th>event_name</th>\n",
       "      <th>time_to_contact_show_g1</th>\n",
       "      <th>time_to_contact_show_g2</th>\n",
       "      <th>ratio_g1,%</th>\n",
       "      <th>ratio_g2,%</th>\n",
       "    </tr>\n",
       "  </thead>\n",
       "  <tbody>\n",
       "    <tr>\n",
       "      <th>2</th>\n",
       "      <td>contacts_call</td>\n",
       "      <td>24</td>\n",
       "      <td>268</td>\n",
       "      <td>8.0</td>\n",
       "      <td>92.0</td>\n",
       "    </tr>\n",
       "  </tbody>\n",
       "</table>\n",
       "</div>"
      ],
      "text/plain": [
       "      event_name  time_to_contact_show_g1  time_to_contact_show_g2  \\\n",
       "2  contacts_call                       24                      268   \n",
       "\n",
       "   ratio_g1,%  ratio_g2,%  \n",
       "2         8.0        92.0  "
      ]
     },
     "metadata": {},
     "output_type": "display_data"
    },
    {
     "data": {
      "application/vnd.plotly.v1+json": {
       "config": {
        "plotlyServerURL": "https://plot.ly"
       },
       "data": [
        {
         "alignmentgroup": "True",
         "hovertemplate": "variable=time_group_1<br>Действие=%{x}<br>value=%{y}<extra></extra>",
         "legendgroup": "time_group_1",
         "marker": {
          "color": "#636efa",
          "pattern": {
           "shape": ""
          }
         },
         "name": "time_group_1",
         "offsetgroup": "time_group_1",
         "orientation": "v",
         "showlegend": true,
         "textposition": "auto",
         "type": "bar",
         "x": [
          "contacts_call"
         ],
         "xaxis": "x",
         "y": [
          24
         ],
         "yaxis": "y"
        },
        {
         "alignmentgroup": "True",
         "hovertemplate": "variable=time_group_2<br>Действие=%{x}<br>value=%{y}<extra></extra>",
         "legendgroup": "time_group_2",
         "marker": {
          "color": "#EF553B",
          "pattern": {
           "shape": ""
          }
         },
         "name": "time_group_2",
         "offsetgroup": "time_group_2",
         "orientation": "v",
         "showlegend": true,
         "textposition": "auto",
         "type": "bar",
         "x": [
          "contacts_call"
         ],
         "xaxis": "x",
         "y": [
          268
         ],
         "yaxis": "y"
        }
       ],
       "layout": {
        "barmode": "group",
        "legend": {
         "title": {
          "text": "variable"
         },
         "tracegroupgap": 0
        },
        "template": {
         "data": {
          "bar": [
           {
            "error_x": {
             "color": "#2a3f5f"
            },
            "error_y": {
             "color": "#2a3f5f"
            },
            "marker": {
             "line": {
              "color": "#E5ECF6",
              "width": 0.5
             },
             "pattern": {
              "fillmode": "overlay",
              "size": 10,
              "solidity": 0.2
             }
            },
            "type": "bar"
           }
          ],
          "barpolar": [
           {
            "marker": {
             "line": {
              "color": "#E5ECF6",
              "width": 0.5
             },
             "pattern": {
              "fillmode": "overlay",
              "size": 10,
              "solidity": 0.2
             }
            },
            "type": "barpolar"
           }
          ],
          "carpet": [
           {
            "aaxis": {
             "endlinecolor": "#2a3f5f",
             "gridcolor": "white",
             "linecolor": "white",
             "minorgridcolor": "white",
             "startlinecolor": "#2a3f5f"
            },
            "baxis": {
             "endlinecolor": "#2a3f5f",
             "gridcolor": "white",
             "linecolor": "white",
             "minorgridcolor": "white",
             "startlinecolor": "#2a3f5f"
            },
            "type": "carpet"
           }
          ],
          "choropleth": [
           {
            "colorbar": {
             "outlinewidth": 0,
             "ticks": ""
            },
            "type": "choropleth"
           }
          ],
          "contour": [
           {
            "colorbar": {
             "outlinewidth": 0,
             "ticks": ""
            },
            "colorscale": [
             [
              0,
              "#0d0887"
             ],
             [
              0.1111111111111111,
              "#46039f"
             ],
             [
              0.2222222222222222,
              "#7201a8"
             ],
             [
              0.3333333333333333,
              "#9c179e"
             ],
             [
              0.4444444444444444,
              "#bd3786"
             ],
             [
              0.5555555555555556,
              "#d8576b"
             ],
             [
              0.6666666666666666,
              "#ed7953"
             ],
             [
              0.7777777777777778,
              "#fb9f3a"
             ],
             [
              0.8888888888888888,
              "#fdca26"
             ],
             [
              1,
              "#f0f921"
             ]
            ],
            "type": "contour"
           }
          ],
          "contourcarpet": [
           {
            "colorbar": {
             "outlinewidth": 0,
             "ticks": ""
            },
            "type": "contourcarpet"
           }
          ],
          "heatmap": [
           {
            "colorbar": {
             "outlinewidth": 0,
             "ticks": ""
            },
            "colorscale": [
             [
              0,
              "#0d0887"
             ],
             [
              0.1111111111111111,
              "#46039f"
             ],
             [
              0.2222222222222222,
              "#7201a8"
             ],
             [
              0.3333333333333333,
              "#9c179e"
             ],
             [
              0.4444444444444444,
              "#bd3786"
             ],
             [
              0.5555555555555556,
              "#d8576b"
             ],
             [
              0.6666666666666666,
              "#ed7953"
             ],
             [
              0.7777777777777778,
              "#fb9f3a"
             ],
             [
              0.8888888888888888,
              "#fdca26"
             ],
             [
              1,
              "#f0f921"
             ]
            ],
            "type": "heatmap"
           }
          ],
          "heatmapgl": [
           {
            "colorbar": {
             "outlinewidth": 0,
             "ticks": ""
            },
            "colorscale": [
             [
              0,
              "#0d0887"
             ],
             [
              0.1111111111111111,
              "#46039f"
             ],
             [
              0.2222222222222222,
              "#7201a8"
             ],
             [
              0.3333333333333333,
              "#9c179e"
             ],
             [
              0.4444444444444444,
              "#bd3786"
             ],
             [
              0.5555555555555556,
              "#d8576b"
             ],
             [
              0.6666666666666666,
              "#ed7953"
             ],
             [
              0.7777777777777778,
              "#fb9f3a"
             ],
             [
              0.8888888888888888,
              "#fdca26"
             ],
             [
              1,
              "#f0f921"
             ]
            ],
            "type": "heatmapgl"
           }
          ],
          "histogram": [
           {
            "marker": {
             "pattern": {
              "fillmode": "overlay",
              "size": 10,
              "solidity": 0.2
             }
            },
            "type": "histogram"
           }
          ],
          "histogram2d": [
           {
            "colorbar": {
             "outlinewidth": 0,
             "ticks": ""
            },
            "colorscale": [
             [
              0,
              "#0d0887"
             ],
             [
              0.1111111111111111,
              "#46039f"
             ],
             [
              0.2222222222222222,
              "#7201a8"
             ],
             [
              0.3333333333333333,
              "#9c179e"
             ],
             [
              0.4444444444444444,
              "#bd3786"
             ],
             [
              0.5555555555555556,
              "#d8576b"
             ],
             [
              0.6666666666666666,
              "#ed7953"
             ],
             [
              0.7777777777777778,
              "#fb9f3a"
             ],
             [
              0.8888888888888888,
              "#fdca26"
             ],
             [
              1,
              "#f0f921"
             ]
            ],
            "type": "histogram2d"
           }
          ],
          "histogram2dcontour": [
           {
            "colorbar": {
             "outlinewidth": 0,
             "ticks": ""
            },
            "colorscale": [
             [
              0,
              "#0d0887"
             ],
             [
              0.1111111111111111,
              "#46039f"
             ],
             [
              0.2222222222222222,
              "#7201a8"
             ],
             [
              0.3333333333333333,
              "#9c179e"
             ],
             [
              0.4444444444444444,
              "#bd3786"
             ],
             [
              0.5555555555555556,
              "#d8576b"
             ],
             [
              0.6666666666666666,
              "#ed7953"
             ],
             [
              0.7777777777777778,
              "#fb9f3a"
             ],
             [
              0.8888888888888888,
              "#fdca26"
             ],
             [
              1,
              "#f0f921"
             ]
            ],
            "type": "histogram2dcontour"
           }
          ],
          "mesh3d": [
           {
            "colorbar": {
             "outlinewidth": 0,
             "ticks": ""
            },
            "type": "mesh3d"
           }
          ],
          "parcoords": [
           {
            "line": {
             "colorbar": {
              "outlinewidth": 0,
              "ticks": ""
             }
            },
            "type": "parcoords"
           }
          ],
          "pie": [
           {
            "automargin": true,
            "type": "pie"
           }
          ],
          "scatter": [
           {
            "fillpattern": {
             "fillmode": "overlay",
             "size": 10,
             "solidity": 0.2
            },
            "type": "scatter"
           }
          ],
          "scatter3d": [
           {
            "line": {
             "colorbar": {
              "outlinewidth": 0,
              "ticks": ""
             }
            },
            "marker": {
             "colorbar": {
              "outlinewidth": 0,
              "ticks": ""
             }
            },
            "type": "scatter3d"
           }
          ],
          "scattercarpet": [
           {
            "marker": {
             "colorbar": {
              "outlinewidth": 0,
              "ticks": ""
             }
            },
            "type": "scattercarpet"
           }
          ],
          "scattergeo": [
           {
            "marker": {
             "colorbar": {
              "outlinewidth": 0,
              "ticks": ""
             }
            },
            "type": "scattergeo"
           }
          ],
          "scattergl": [
           {
            "marker": {
             "colorbar": {
              "outlinewidth": 0,
              "ticks": ""
             }
            },
            "type": "scattergl"
           }
          ],
          "scattermapbox": [
           {
            "marker": {
             "colorbar": {
              "outlinewidth": 0,
              "ticks": ""
             }
            },
            "type": "scattermapbox"
           }
          ],
          "scatterpolar": [
           {
            "marker": {
             "colorbar": {
              "outlinewidth": 0,
              "ticks": ""
             }
            },
            "type": "scatterpolar"
           }
          ],
          "scatterpolargl": [
           {
            "marker": {
             "colorbar": {
              "outlinewidth": 0,
              "ticks": ""
             }
            },
            "type": "scatterpolargl"
           }
          ],
          "scatterternary": [
           {
            "marker": {
             "colorbar": {
              "outlinewidth": 0,
              "ticks": ""
             }
            },
            "type": "scatterternary"
           }
          ],
          "surface": [
           {
            "colorbar": {
             "outlinewidth": 0,
             "ticks": ""
            },
            "colorscale": [
             [
              0,
              "#0d0887"
             ],
             [
              0.1111111111111111,
              "#46039f"
             ],
             [
              0.2222222222222222,
              "#7201a8"
             ],
             [
              0.3333333333333333,
              "#9c179e"
             ],
             [
              0.4444444444444444,
              "#bd3786"
             ],
             [
              0.5555555555555556,
              "#d8576b"
             ],
             [
              0.6666666666666666,
              "#ed7953"
             ],
             [
              0.7777777777777778,
              "#fb9f3a"
             ],
             [
              0.8888888888888888,
              "#fdca26"
             ],
             [
              1,
              "#f0f921"
             ]
            ],
            "type": "surface"
           }
          ],
          "table": [
           {
            "cells": {
             "fill": {
              "color": "#EBF0F8"
             },
             "line": {
              "color": "white"
             }
            },
            "header": {
             "fill": {
              "color": "#C8D4E3"
             },
             "line": {
              "color": "white"
             }
            },
            "type": "table"
           }
          ]
         },
         "layout": {
          "annotationdefaults": {
           "arrowcolor": "#2a3f5f",
           "arrowhead": 0,
           "arrowwidth": 1
          },
          "autotypenumbers": "strict",
          "coloraxis": {
           "colorbar": {
            "outlinewidth": 0,
            "ticks": ""
           }
          },
          "colorscale": {
           "diverging": [
            [
             0,
             "#8e0152"
            ],
            [
             0.1,
             "#c51b7d"
            ],
            [
             0.2,
             "#de77ae"
            ],
            [
             0.3,
             "#f1b6da"
            ],
            [
             0.4,
             "#fde0ef"
            ],
            [
             0.5,
             "#f7f7f7"
            ],
            [
             0.6,
             "#e6f5d0"
            ],
            [
             0.7,
             "#b8e186"
            ],
            [
             0.8,
             "#7fbc41"
            ],
            [
             0.9,
             "#4d9221"
            ],
            [
             1,
             "#276419"
            ]
           ],
           "sequential": [
            [
             0,
             "#0d0887"
            ],
            [
             0.1111111111111111,
             "#46039f"
            ],
            [
             0.2222222222222222,
             "#7201a8"
            ],
            [
             0.3333333333333333,
             "#9c179e"
            ],
            [
             0.4444444444444444,
             "#bd3786"
            ],
            [
             0.5555555555555556,
             "#d8576b"
            ],
            [
             0.6666666666666666,
             "#ed7953"
            ],
            [
             0.7777777777777778,
             "#fb9f3a"
            ],
            [
             0.8888888888888888,
             "#fdca26"
            ],
            [
             1,
             "#f0f921"
            ]
           ],
           "sequentialminus": [
            [
             0,
             "#0d0887"
            ],
            [
             0.1111111111111111,
             "#46039f"
            ],
            [
             0.2222222222222222,
             "#7201a8"
            ],
            [
             0.3333333333333333,
             "#9c179e"
            ],
            [
             0.4444444444444444,
             "#bd3786"
            ],
            [
             0.5555555555555556,
             "#d8576b"
            ],
            [
             0.6666666666666666,
             "#ed7953"
            ],
            [
             0.7777777777777778,
             "#fb9f3a"
            ],
            [
             0.8888888888888888,
             "#fdca26"
            ],
            [
             1,
             "#f0f921"
            ]
           ]
          },
          "colorway": [
           "#636efa",
           "#EF553B",
           "#00cc96",
           "#ab63fa",
           "#FFA15A",
           "#19d3f3",
           "#FF6692",
           "#B6E880",
           "#FF97FF",
           "#FECB52"
          ],
          "font": {
           "color": "#2a3f5f"
          },
          "geo": {
           "bgcolor": "white",
           "lakecolor": "white",
           "landcolor": "#E5ECF6",
           "showlakes": true,
           "showland": true,
           "subunitcolor": "white"
          },
          "hoverlabel": {
           "align": "left"
          },
          "hovermode": "closest",
          "mapbox": {
           "style": "light"
          },
          "paper_bgcolor": "white",
          "plot_bgcolor": "#E5ECF6",
          "polar": {
           "angularaxis": {
            "gridcolor": "white",
            "linecolor": "white",
            "ticks": ""
           },
           "bgcolor": "#E5ECF6",
           "radialaxis": {
            "gridcolor": "white",
            "linecolor": "white",
            "ticks": ""
           }
          },
          "scene": {
           "xaxis": {
            "backgroundcolor": "#E5ECF6",
            "gridcolor": "white",
            "gridwidth": 2,
            "linecolor": "white",
            "showbackground": true,
            "ticks": "",
            "zerolinecolor": "white"
           },
           "yaxis": {
            "backgroundcolor": "#E5ECF6",
            "gridcolor": "white",
            "gridwidth": 2,
            "linecolor": "white",
            "showbackground": true,
            "ticks": "",
            "zerolinecolor": "white"
           },
           "zaxis": {
            "backgroundcolor": "#E5ECF6",
            "gridcolor": "white",
            "gridwidth": 2,
            "linecolor": "white",
            "showbackground": true,
            "ticks": "",
            "zerolinecolor": "white"
           }
          },
          "shapedefaults": {
           "line": {
            "color": "#2a3f5f"
           }
          },
          "ternary": {
           "aaxis": {
            "gridcolor": "white",
            "linecolor": "white",
            "ticks": ""
           },
           "baxis": {
            "gridcolor": "white",
            "linecolor": "white",
            "ticks": ""
           },
           "bgcolor": "#E5ECF6",
           "caxis": {
            "gridcolor": "white",
            "linecolor": "white",
            "ticks": ""
           }
          },
          "title": {
           "x": 0.05
          },
          "xaxis": {
           "automargin": true,
           "gridcolor": "white",
           "linecolor": "white",
           "ticks": "",
           "title": {
            "standoff": 15
           },
           "zerolinecolor": "white",
           "zerolinewidth": 2
          },
          "yaxis": {
           "automargin": true,
           "gridcolor": "white",
           "linecolor": "white",
           "ticks": "",
           "title": {
            "standoff": 15
           },
           "zerolinecolor": "white",
           "zerolinewidth": 2
          }
         }
        },
        "title": {
         "text": "График времени между contacts_show и другими событиями"
        },
        "xaxis": {
         "anchor": "y",
         "domain": [
          0,
          1
         ],
         "title": {
          "text": "Действие"
         }
        },
        "yaxis": {
         "anchor": "x",
         "domain": [
          0,
          1
         ],
         "title": {
          "text": "Время, сек"
         }
        }
       }
      }
     },
     "metadata": {},
     "output_type": "display_data"
    }
   ],
   "source": [
    "# время между событиями для пользователей, совершивших 1 сессию\n",
    "actual_time_1_group = pd.DataFrame(actual_time(df_1, 'contacts_show', -1))\n",
    "# переименование столбцов\n",
    "actual_time_1_group.columns = ['event_name', 'time_to_contact_show_g1']\n",
    "\n",
    "# время между событиями для пользователей, совершивших 2 и более сессий\n",
    "actual_time_2_group = pd.DataFrame(actual_time(df_2, 'contacts_show', -1))\n",
    "# переименование столбцов\n",
    "actual_time_2_group.columns = ['event_name', 'time_to_contact_show_g2']\n",
    "\n",
    "# объединение времени 1 и 2 группы по наименованию события\n",
    "actual_time_group = actual_time_1_group.merge(actual_time_2_group, on='event_name', how='left')\n",
    "\n",
    "# срез по интересующим действиям\n",
    "actual_time_group = actual_time_group[actual_time_group['event_name'].isin(['contacts_call' ])]\n",
    "\n",
    "# расчет процентного соотношения пользователей, совершивших 1 сессию\n",
    "actual_time_group['ratio_g1,%'] = (\n",
    "    round(actual_time_group['time_to_contact_show_g1']\n",
    "    /(actual_time_group['time_to_contact_show_g1'] + actual_time_group['time_to_contact_show_g2'])*100)\n",
    ")\n",
    "# расчет процентного соотношения пользователей, совершивших 2 и более сессий\n",
    "actual_time_group['ratio_g2,%'] = (\n",
    "    round(actual_time_group['time_to_contact_show_g2']\n",
    "    /(actual_time_group['time_to_contact_show_g1'] + actual_time_group['time_to_contact_show_g2'])*100)\n",
    ")\n",
    "\n",
    "# отображение таблицы\n",
    "display(actual_time_group)\n",
    "\n",
    "# строительство графика\n",
    "plot_time(actual_time_group, 'contacts_show')"
   ]
  },
  {
   "cell_type": "markdown",
   "metadata": {},
   "source": [
    "Пользователи, совершившие 1 сессию в отличие от пользователей с большим количеством сессий переходят от просмотра контакта к совершению звонка в 11,5 раз быстрее."
   ]
  },
  {
   "cell_type": "markdown",
   "metadata": {},
   "source": [
    "### Вывод"
   ]
  },
  {
   "cell_type": "markdown",
   "metadata": {},
   "source": [
    "1. Пользователей разделили на 2 группы:\n",
    "    * пользователи, совершившие 1 сессию;\n",
    "    * пользователи, совершившие 2 и более сессий.\n",
    "    \n",
    "    \n",
    "2. Пользователи 1 группы больше не возвращаются в приложение.\n",
    "\n",
    "\n",
    "3. Пользователи 2 группы:\n",
    "    * пришедшие в течение каждой недели возвращаются более активно только первые 2 дня (в среднем 16-17%);\n",
    "    *  из источников *google* и *yandex* возвращаются чуть активнее, чем из остальных источников на 2 день(19% и 18%), а из других источников на 3 день(17%);\n",
    "    * которые знакомятся с приложением с карточки объявлений или поиска, чаще остальных возвращаются в первую неделю;\n",
    "    * кто кликали на рекомендованное возвращались на 5 и 7 день по 33%, судя по всему пришло уведомление из приложения; \n",
    "    * которые просматривали контакты почти в 1,5 раза активнее возвращаются в приложение в первую неделю использования (~15%).\n",
    "    \n",
    "    \n",
    "4.  Пользователи 1 группы просматривают номер телефона на карточке объявления почти в 2 раза реже.\n",
    "\n",
    "\n",
    "5. Пользователи 1 группы в отличие от 2 группы переходят к просмотру контакта:\n",
    "    * почти в 5 раз быстрее после просмотра фотографий в объявлении ;\n",
    "    * почти в 1,5 раза быстрее после добавления объявления в избранное ;\n",
    "    * почти в 2 раза медленее после поиска по сайту ;\n",
    "    * почти в 2,5 раза быстрее после клика по рекомендованному объявлению;\n",
    "    * и затем звонят в 11,5 раз быстрее.    "
   ]
  },
  {
   "cell_type": "markdown",
   "metadata": {},
   "source": [
    "## Проверка гипотез"
   ]
  },
  {
   "cell_type": "markdown",
   "metadata": {},
   "source": [
    "Посмотрим на количество пользователей в каждой экспериментальной группе."
   ]
  },
  {
   "cell_type": "code",
   "execution_count": 69,
   "metadata": {},
   "outputs": [
    {
     "name": "stdout",
     "output_type": "stream",
     "text": [
      "Количество уникальных пользователей 1 группы: 2542\n",
      "Количество уникальных пользователей 2 группы: 1602\n"
     ]
    }
   ],
   "source": [
    "print('Количество уникальных пользователей 1 группы: {}'.format(df_1['user_id'].nunique())) \n",
    "print('Количество уникальных пользователей 2 группы: {}'.format(df_2['user_id'].nunique())) "
   ]
  },
  {
   "cell_type": "markdown",
   "metadata": {},
   "source": [
    "Количество пользователей в группах различается более, чем на 1%, поэтому результаты теста нельзя расценивать достоверно."
   ]
  },
  {
   "cell_type": "markdown",
   "metadata": {},
   "source": [
    "### Проверка гипотезы: конверсия в просмотры контактов пользователей, установивших приложение по ссылке из yandex и google различаются"
   ]
  },
  {
   "cell_type": "markdown",
   "metadata": {},
   "source": [
    "Рассчитаем уникальное количество пользователей для каждой группы в разрезе источников."
   ]
  },
  {
   "cell_type": "code",
   "execution_count": 70,
   "metadata": {},
   "outputs": [
    {
     "name": "stdout",
     "output_type": "stream",
     "text": [
      "Количество уникальных пользоватилей 1 группы, установивших приложение по ссылке из google, посмотревших номер телефона: 107\n",
      "Количество уникальных пользоватилей 1 группы, установивших приложение по ссылке из yandex, посмотревших номер телефона: 200\n",
      "Количество уникальных пользоватилей 1 группы, установивших приложение по ссылке из google: 679\n",
      "Количество уникальных пользоватилей 1 группы, установивших приложение по ссылке из yandex: 1139\n"
     ]
    }
   ],
   "source": [
    "# рассчитываем уникальное количество пользователей, совершивших 1 сессию\n",
    "successes_google_g1 = (\n",
    "    df_1[(df_1['contact_view'] == True) & (df_1['source'] == 'google')]['user_id'].nunique()\n",
    ")\n",
    "print('Количество уникальных пользоватилей 1 группы, установивших приложение по ссылке из google, посмотревших номер телефона:'\n",
    "      , successes_google_g1)\n",
    "successes_yandex_g1 = (\n",
    "    df_1[(df_1['contact_view'] == True) & (df_1['source'] == 'yandex')]['user_id'].nunique()\n",
    ")\n",
    "print('Количество уникальных пользоватилей 1 группы, установивших приложение по ссылке из yandex, посмотревших номер телефона:'\n",
    "      , successes_yandex_g1)   \n",
    "trials_google_g1 = df_1[df_1['source'] == 'google']['user_id'].nunique()\n",
    "print('Количество уникальных пользоватилей 1 группы, установивших приложение по ссылке из google:'\n",
    "      , trials_google_g1)\n",
    "trials_yandex_g1 = df_1[df_1['source'] == 'yandex']['user_id'].nunique()\n",
    "print('Количество уникальных пользоватилей 1 группы, установивших приложение по ссылке из yandex:'\n",
    "      , trials_yandex_g1)"
   ]
  },
  {
   "cell_type": "code",
   "execution_count": 71,
   "metadata": {},
   "outputs": [
    {
     "name": "stdout",
     "output_type": "stream",
     "text": [
      "Количество уникальных пользоватилей 2 группы, установивших приложение по ссылке из google, посмотревших номер телефона: 146\n",
      "Количество уникальных пользоватилей 2 группы, установивших приложение по ссылке из yandex, посмотревших номер телефона: 244\n",
      "Количество уникальных пользоватилей 2 группы, установивших приложение по ссылке из google: 420\n",
      "Количество уникальных пользоватилей 2 группы, установивших приложение по ссылке из yandex: 726\n"
     ]
    }
   ],
   "source": [
    "# рассчитываем уникальное количество пользователей, совершивших 2 и более сессий\n",
    "successes_google_g2 = (\n",
    "    df_2[(df_2['contact_view'] == True) & (df_2['source'] == 'google')]['user_id'].nunique()\n",
    ")\n",
    "print('Количество уникальных пользоватилей 2 группы, установивших приложение по ссылке из google, посмотревших номер телефона:'\n",
    "      , successes_google_g2)\n",
    "successes_yandex_g2 = (\n",
    "    df_2[(df_2['contact_view'] == True) & (df_2['source'] == 'yandex')]['user_id'].nunique()\n",
    ")\n",
    "print('Количество уникальных пользоватилей 2 группы, установивших приложение по ссылке из yandex, посмотревших номер телефона:'\n",
    "      , successes_yandex_g2)   \n",
    "trials_google_g2 = df_2[df_2['source'] == 'google']['user_id'].nunique()\n",
    "print('Количество уникальных пользоватилей 2 группы, установивших приложение по ссылке из google:'\n",
    "      , trials_google_g2)\n",
    "trials_yandex_g2 = df_2[df_2['source'] == 'yandex']['user_id'].nunique()\n",
    "print('Количество уникальных пользоватилей 2 группы, установивших приложение по ссылке из yandex:'\n",
    "      , trials_yandex_g2)"
   ]
  },
  {
   "cell_type": "markdown",
   "metadata": {},
   "source": [
    "Сформулируем нулевую и альтернативную гипотезы:\n",
    "* H₀ - конверсия в просмотры контактов пользователей, установивших приложение по ссылке из yandex и google равны;\n",
    "* H₁ - конверсия в просмотры контактов пользователей, установивших приложение по ссылке из yandex и google различаются. \n",
    "\n",
    "Проведем тестирование с помощью запуска функции `z_test()`."
   ]
  },
  {
   "cell_type": "code",
   "execution_count": 72,
   "metadata": {
    "scrolled": true
   },
   "outputs": [
    {
     "name": "stdout",
     "output_type": "stream",
     "text": [
      "p-значение:  0.32 \n",
      " Не получилось отвергнуть нулевую гипотезу, нет оснований считать доли разными\n",
      "Число пользователей - 107 и доля пользователей - 16% из источника google в 1 группе.\n",
      "Число пользователей - 200 и доля пользователей - 18% из источника yandex в 1 группе.\n",
      "\n",
      "p-значение:  0.69 \n",
      " Не получилось отвергнуть нулевую гипотезу, нет оснований считать доли разными\n",
      "Число пользователей - 146 и доля пользователей - 35% из источника google во 2 группе.\n",
      "Число пользователей - 244 и доля пользователей - 34% из источника yandex во 2 группе.\n"
     ]
    }
   ],
   "source": [
    "# критический уровень статистической значимости\n",
    "alpha = .05 \n",
    "\n",
    "# проведение тестирования пользователей, совершивших 1 сессию\n",
    "z_test(alpha, successes_google_g1, successes_yandex_g1, trials_google_g1, trials_yandex_g1)\n",
    "print('Число пользователей - {0} и доля пользователей - {1}% из источника {2} в {3} группе.'\n",
    "          .format(successes_google_g1,\n",
    "                  round(successes_google_g1/trials_google_g1*100),\n",
    "                  'google',\n",
    "                  1)\n",
    "                 )\n",
    "print('Число пользователей - {0} и доля пользователей - {1}% из источника {2} в {3} группе.'\n",
    "          .format(successes_yandex_g1,\n",
    "                  round(successes_yandex_g1/trials_yandex_g1*100),\n",
    "                  'yandex',\n",
    "                  1)\n",
    "                 )\n",
    "print()\n",
    "# проведение тестирования пользователей, совершивших 2 и более сессий\n",
    "z_test(alpha, successes_google_g2, successes_yandex_g2, trials_google_g2, trials_yandex_g2)\n",
    "print('Число пользователей - {0} и доля пользователей - {1}% из источника {2} во {3} группе.'\n",
    "          .format(successes_google_g2,\n",
    "                  round(successes_google_g2/trials_google_g2*100),\n",
    "                  'google',\n",
    "                  2)\n",
    "                 )\n",
    "print('Число пользователей - {0} и доля пользователей - {1}% из источника {2} во {3} группе.'\n",
    "          .format(successes_yandex_g2,\n",
    "                  round(successes_yandex_g2/trials_yandex_g2*100),\n",
    "                  'yandex',\n",
    "                  2)\n",
    "                 )"
   ]
  },
  {
   "cell_type": "markdown",
   "metadata": {},
   "source": [
    "Такая разница в пропорциях при указанных размерах выборок достаточна, чтобы говорить об отсутствии статистически значимом различии. Если бы мы утверждали, что доли просмотров контактов пользователей, установивших приложение по ссылке из yandex и google отличаются, мы бы допустили ошибку:\n",
    "* для 1 группы с вероятностью 32%;\n",
    "* для 2 группы с вероятностью 69%."
   ]
  },
  {
   "cell_type": "markdown",
   "metadata": {},
   "source": [
    "### Проверка гипотезы: конверсия в просмотры контактов пользователей, кликнувших рекомендованные объявления и добавивших объявление в избранное различаются"
   ]
  },
  {
   "cell_type": "markdown",
   "metadata": {},
   "source": [
    "Рассчитаем уникальное количество пользователей для каждой группы в разрезе пользователей, кликнувших рекомендованные объявления и добавивших объявление в избранное."
   ]
  },
  {
   "cell_type": "code",
   "execution_count": 73,
   "metadata": {},
   "outputs": [
    {
     "name": "stdout",
     "output_type": "stream",
     "text": [
      "Количество уникальных пользоватилей 1 группы, кликнувших рекомендованные объявления и посмотревших номер телефона: 18\n",
      "Количество уникальных пользоватилей 1 группы, добавивших объявление в избранное и посмотревших номер телефона: 24\n",
      "Количество уникальных пользоватилей 1 группы, кликнувших рекомендованные объявления: 122\n",
      "Количество уникальных пользоватилей 1 группы, добавивших объявление в избранное: 113\n"
     ]
    }
   ],
   "source": [
    "# рассчитываем уникальное количество пользователей, совершивших 1 сессию\n",
    "successes_click_g1 = (\n",
    "    df_1[(df_1['contact_view'] == True) & (df_1['event_name'] == 'tips_click')]['user_id'].nunique()\n",
    ")\n",
    "print('Количество уникальных пользоватилей 1 группы, кликнувших рекомендованные объявления и посмотревших номер телефона:'\n",
    "      , successes_click_g1)\n",
    "successes_favorites_g1 = (\n",
    "    df_1[(df_1['contact_view'] == True) & (df_1['event_name'] == 'favorites_add')]['user_id'].nunique()\n",
    ")\n",
    "print('Количество уникальных пользоватилей 1 группы, добавивших объявление в избранное и посмотревших номер телефона:'\n",
    "      , successes_favorites_g1)   \n",
    "trials_click_g1 = df_1[df_1['event_name'] == 'tips_click']['user_id'].nunique()\n",
    "print('Количество уникальных пользоватилей 1 группы, кликнувших рекомендованные объявления:'\n",
    "      , trials_click_g1)\n",
    "trials_favorites_g1 = df_1[df_1['event_name'] == 'favorites_add']['user_id'].nunique()\n",
    "print('Количество уникальных пользоватилей 1 группы, добавивших объявление в избранное:'\n",
    "      , trials_favorites_g1)"
   ]
  },
  {
   "cell_type": "code",
   "execution_count": 74,
   "metadata": {},
   "outputs": [
    {
     "name": "stdout",
     "output_type": "stream",
     "text": [
      "Количество уникальных пользоватилей 2 группы, кликнувших рекомендованные объявления и посмотревших номер телефона: 63\n",
      "Количество уникальных пользоватилей 2 группы, добавивших объявление в избранное и посмотревших номер телефона: 92\n",
      "Количество уникальных пользоватилей 2 группы, кликнувших рекомендованные объявления: 172\n",
      "Количество уникальных пользоватилей 2 группы, добавивших объявление в избранное: 201\n"
     ]
    }
   ],
   "source": [
    "# рассчитываем уникальное количество пользователей, совершивших 2 и более сессий\n",
    "successes_click_g2 = (\n",
    "    df_2[(df_2['contact_view'] == True) & (df_2['event_name'] == 'tips_click')]['user_id'].nunique()\n",
    ")\n",
    "print('Количество уникальных пользоватилей 2 группы, кликнувших рекомендованные объявления и посмотревших номер телефона:'\n",
    "      , successes_click_g2)\n",
    "successes_favorites_g2 = (\n",
    "    df_2[(df_2['contact_view'] == True) & (df_2['event_name'] == 'favorites_add')]['user_id'].nunique()\n",
    ")\n",
    "print('Количество уникальных пользоватилей 2 группы, добавивших объявление в избранное и посмотревших номер телефона:'\n",
    "      , successes_favorites_g2)   \n",
    "trials_click_g2 = df_2[df_2['event_name'] == 'tips_click']['user_id'].nunique()\n",
    "print('Количество уникальных пользоватилей 2 группы, кликнувших рекомендованные объявления:'\n",
    "      , trials_click_g2)\n",
    "trials_favorites_g2 = df_2[df_2['event_name'] == 'favorites_add']['user_id'].nunique()\n",
    "print('Количество уникальных пользоватилей 2 группы, добавивших объявление в избранное:'\n",
    "      , trials_favorites_g2)"
   ]
  },
  {
   "cell_type": "markdown",
   "metadata": {},
   "source": [
    "Сформулируем нулевую и альтернативную гипотезы:\n",
    "* H₀ - конверсия в просмотры контактов пользователей, кликнувших рекомендованные объявления и добавивших объявление в избранное равны;\n",
    "* H₁ - конверсия в просмотры контактов пользователей, кликнувших рекомендованные объявления и добавивших объявление в избранное различаются. \n",
    "\n",
    "Проведем тестирование с помощью запуска функции `z_test()`."
   ]
  },
  {
   "cell_type": "code",
   "execution_count": 75,
   "metadata": {},
   "outputs": [
    {
     "name": "stdout",
     "output_type": "stream",
     "text": [
      "p-значение:  0.19 \n",
      " Не получилось отвергнуть нулевую гипотезу, нет оснований считать доли разными\n",
      "Число пользователей - 18 и доля пользователей - 15%, кликнувших рекомендованные объявления в 1 группе.\n",
      "Число пользователей - 24 и доля пользователей - 21%, добавивших объявление в избранное в 1 группе.\n",
      "\n",
      "p-значение:  0.07 \n",
      " Не получилось отвергнуть нулевую гипотезу, нет оснований считать доли разными\n",
      "Число пользователей - 63 и доля пользователей - 37%, кликнувших рекомендованные объявления во 2 группе.\n",
      "Число пользователей - 92 и доля пользователей - 46%, добавивших объявление в избранное во 2 группе.\n"
     ]
    }
   ],
   "source": [
    "# критический уровень статистической значимости\n",
    "alpha = .05 \n",
    "\n",
    "# проведение тестирования пользователей, совершивших 1 сессию\n",
    "z_test(alpha, successes_click_g1, successes_favorites_g1, trials_click_g1, trials_favorites_g1)\n",
    "print('Число пользователей - {0} и доля пользователей - {1}%, {2} в {3} группе.'\n",
    "          .format(successes_click_g1,\n",
    "                  round(successes_click_g1/trials_click_g1*100),\n",
    "                  'кликнувших рекомендованные объявления',\n",
    "                  1)\n",
    "                 )\n",
    "print('Число пользователей - {0} и доля пользователей - {1}%, {2} в {3} группе.'\n",
    "          .format(successes_favorites_g1,\n",
    "                  round(successes_favorites_g1/trials_favorites_g1*100),\n",
    "                  'добавивших объявление в избранное',\n",
    "                  1)\n",
    "                 )\n",
    "print()\n",
    "# проведение тестирования пользователей, совершивших 2 и более сессий\n",
    "z_test(alpha, successes_click_g2, successes_favorites_g2, trials_click_g2, trials_favorites_g2)\n",
    "print('Число пользователей - {0} и доля пользователей - {1}%, {2} во {3} группе.'\n",
    "          .format(successes_click_g2,\n",
    "                  round(successes_click_g2/trials_click_g2*100),\n",
    "                  'кликнувших рекомендованные объявления',\n",
    "                  2)\n",
    "                 )\n",
    "print('Число пользователей - {0} и доля пользователей - {1}%, {2} во {3} группе.'\n",
    "          .format(successes_favorites_g2,\n",
    "                  round(successes_favorites_g2/trials_favorites_g2*100),\n",
    "                  'добавивших объявление в избранное',\n",
    "                  2)\n",
    "                 )"
   ]
  },
  {
   "cell_type": "markdown",
   "metadata": {},
   "source": [
    "Такая разница в пропорциях при указанных размерах выборок достаточна, чтобы говорить об отсутствии статистически значимом различии. Если бы мы утверждали, что доли просмотров контактов пользователей, кликнувших рекомендованные объявления и добавивших объявление в избранное ротличаются, мы бы допустили ошибку:\n",
    "* для 1 группы с вероятностью 19%;\n",
    "* для 2 группы с вероятностью 7%."
   ]
  },
  {
   "cell_type": "markdown",
   "metadata": {},
   "source": [
    "### Вывод"
   ]
  },
  {
   "cell_type": "markdown",
   "metadata": {},
   "source": [
    "1. Конверсия в просмотры контактов пользователей, установивших приложение по ссылке из yandex и google равны для обеих групп.\n",
    "\n",
    "\n",
    "2. Конверсия в просмотры контактов пользователей, кликнувших рекомендованные объявления и добавивших объявление в избранное равны для обеих групп."
   ]
  },
  {
   "cell_type": "markdown",
   "metadata": {},
   "source": [
    "## Общий вывод"
   ]
  },
  {
   "cell_type": "markdown",
   "metadata": {},
   "source": [
    "1. Данные за период с 7.10.2019 по 3.11.2019\n",
    "\n",
    "\n",
    "2. Приложением пользуются в среднем 279 уникальных пользователей в день и 1382 в неделю.\n",
    "\n",
    "\n",
    "3. В неделю в среднем возвращается 20% пользователей.\n",
    "\n",
    "\n",
    "4. Пользователей, пришедших в приложение из *яндекс* в среднем больше , чем: \n",
    "    * из *google* на 35%;\n",
    "    * из остальных источников на 41%.\n",
    "\n",
    "\n",
    "5. Средняя продолжительность одной сеcсии пользователя составляет 649 сек.(~ 11 мин.), а медианное - 296 сек.(~ 5 мин.). Не более 5% длительность одной сессии почти 29 минут, не более 1% - 1 час 23 минуты и дольше. \n",
    "\n",
    "\n",
    "6. В среднем пользователи проводят в приложении 1543 сек.(~ 26 мин.), а медианное значение - 853 сек.(~ 14 мин.). \n",
    "\n",
    "\n",
    "7. В среднем пользователи совершают в приложении только 2 сессии, а медианное значение равно 1. Не более 5% пользователей совершают 4 сессии и не более 1% - 14 сессий и больше.\n",
    "\n",
    "\n",
    "8. Наиболее распространенные действия в приложении:\n",
    "    * пользователь открыл карту размещенных объявлений - 32.8%;\n",
    "    * просмотр фотографий в объявлении - 25.1%;\n",
    "    * пользователь нажал на кнопку \"посмотреть номер телефона\" на карточке объявления - 21.7%;\n",
    "    * поиск по сайту - 18.1%;\n",
    "    * открытие карточки объявления - 17.1%.\n",
    "    \n",
    "    \n",
    "9. Пользователи, которые нажимают на кнопку \"посмотреть номер телефона\" на карточке объявления выполняют чаще всего следующие действия:\n",
    "    * пользователь позвонил по номеру телефона на карточке объявления - 100%;\n",
    "    * добавление объявления в избранное - 36.8%;\n",
    "    * просмотр фотографий в объявлении - 28.3%;\n",
    "    * пользователь кликнул по рекомендованному объявлению - 28.2%;\n",
    "    * поиск по сайту - 27.6%.     \n",
    "\n",
    "\n",
    "10. Пользователи, которые склонны возвращаться в мобильное приложение если:\n",
    "    * установили приложение из *google* и *yandex* возвращаются чуть активнее, чем из остальных источников на 2 день(19% и 18%), а из других источников на 3 день(17%);\n",
    "    * знакомятся с приложением с карточки объявлений или поиска;\n",
    "    * кликают на рекомендованное (на 5 и 7 день по 33%); \n",
    "    * просматривают контакты.\n",
    "\n",
    "\n",
    "11. Пользователи просматривают номер телефона на карточке объявления:\n",
    "    * почти в 2 раза чаще, если совершают 2 и более сессий;\n",
    "    * одинаково, если установили приложение из *google* и *yandex*;\n",
    "    * одинаково, если кликнули рекомендованные объявления или добавили объявление в избранное.\n",
    "\n",
    "\n",
    "12. Пользователи, совершившие 1 сессию в отличие от пользователей, совершившие 2 и более сессий переходят к просмотру контакта:\n",
    "    * почти в 5 раз быстрее после просмотра фотографий в объявлении;\n",
    "    * почти в 1,5 раза быстрее после добавления объявления в избранное;\n",
    "    * почти в 2 раза медленее после поиска по сайту;\n",
    "    * почти в 2,5 раза быстрее после клика по рекомендованному объявлению;\n",
    "    * и затем звонят в 11,5 раз быстрее. \n",
    "   \n",
    "   \n",
    "Для повышения эффективности приложения необходимо увеличить количество пользователей, которые совершают 2 и более сессий. \n",
    "\n",
    "Для этого требуется:\n",
    "* проверить на корректность и понятность работу поиска по сайту;\n",
    "* увеличить периодичность push-сообщений с рекомендациями."
   ]
  }
 ],
 "metadata": {
  "ExecuteTimeLog": [
   {
    "duration": 1153,
    "start_time": "2022-07-18T14:52:32.537Z"
   },
   {
    "duration": 611,
    "start_time": "2022-07-18T14:53:04.049Z"
   },
   {
    "duration": 21,
    "start_time": "2022-07-18T14:53:20.038Z"
   },
   {
    "duration": 48,
    "start_time": "2022-07-18T14:53:59.735Z"
   },
   {
    "duration": 10,
    "start_time": "2022-07-18T14:54:10.600Z"
   },
   {
    "duration": 67,
    "start_time": "2022-07-18T14:54:24.970Z"
   },
   {
    "duration": 3,
    "start_time": "2022-07-18T15:37:25.437Z"
   },
   {
    "duration": 208,
    "start_time": "2022-07-18T15:38:36.056Z"
   },
   {
    "duration": 3,
    "start_time": "2022-07-18T15:38:51.592Z"
   },
   {
    "duration": 4,
    "start_time": "2022-07-18T15:39:08.186Z"
   },
   {
    "duration": 4,
    "start_time": "2022-07-18T15:39:49.416Z"
   },
   {
    "duration": 4,
    "start_time": "2022-07-18T15:40:44.200Z"
   },
   {
    "duration": 5,
    "start_time": "2022-07-18T15:40:53.346Z"
   },
   {
    "duration": 4,
    "start_time": "2022-07-18T15:41:19.594Z"
   },
   {
    "duration": 6,
    "start_time": "2022-07-18T15:45:01.951Z"
   },
   {
    "duration": 4,
    "start_time": "2022-07-18T15:45:57.647Z"
   },
   {
    "duration": 4,
    "start_time": "2022-07-18T15:46:29.600Z"
   },
   {
    "duration": 5,
    "start_time": "2022-07-18T15:48:15.136Z"
   },
   {
    "duration": 1509,
    "start_time": "2022-07-18T15:48:40.815Z"
   },
   {
    "duration": 26,
    "start_time": "2022-07-18T15:48:52.946Z"
   },
   {
    "duration": 4,
    "start_time": "2022-07-18T15:49:32.123Z"
   },
   {
    "duration": 15,
    "start_time": "2022-07-18T15:49:39.313Z"
   },
   {
    "duration": 10,
    "start_time": "2022-07-18T15:52:17.912Z"
   },
   {
    "duration": 10,
    "start_time": "2022-07-18T15:52:21.185Z"
   },
   {
    "duration": 18,
    "start_time": "2022-07-18T15:55:16.312Z"
   },
   {
    "duration": 10,
    "start_time": "2022-07-18T15:55:53.624Z"
   },
   {
    "duration": 11,
    "start_time": "2022-07-18T16:00:55.206Z"
   },
   {
    "duration": 10,
    "start_time": "2022-07-18T16:01:14.231Z"
   },
   {
    "duration": 10,
    "start_time": "2022-07-18T16:05:52.338Z"
   },
   {
    "duration": 10,
    "start_time": "2022-07-18T16:25:51.188Z"
   },
   {
    "duration": 11,
    "start_time": "2022-07-18T16:26:01.315Z"
   },
   {
    "duration": 1179,
    "start_time": "2022-07-18T16:26:12.090Z"
   },
   {
    "duration": 153,
    "start_time": "2022-07-18T16:26:13.271Z"
   },
   {
    "duration": 17,
    "start_time": "2022-07-18T16:26:13.426Z"
   },
   {
    "duration": 35,
    "start_time": "2022-07-18T16:26:13.446Z"
   },
   {
    "duration": 10,
    "start_time": "2022-07-18T16:26:13.483Z"
   },
   {
    "duration": 10,
    "start_time": "2022-07-18T16:26:13.494Z"
   },
   {
    "duration": 6,
    "start_time": "2022-07-18T16:26:13.506Z"
   },
   {
    "duration": 10,
    "start_time": "2022-07-18T16:26:13.514Z"
   },
   {
    "duration": 7,
    "start_time": "2022-07-18T16:26:13.526Z"
   },
   {
    "duration": 9,
    "start_time": "2022-07-18T16:26:13.535Z"
   },
   {
    "duration": 508,
    "start_time": "2022-07-18T16:26:13.545Z"
   },
   {
    "duration": 0,
    "start_time": "2022-07-18T16:26:14.055Z"
   },
   {
    "duration": 0,
    "start_time": "2022-07-18T16:26:14.057Z"
   },
   {
    "duration": 18,
    "start_time": "2022-07-18T16:26:21.838Z"
   },
   {
    "duration": 1169,
    "start_time": "2022-07-18T16:28:23.299Z"
   },
   {
    "duration": 177,
    "start_time": "2022-07-18T16:28:24.470Z"
   },
   {
    "duration": 16,
    "start_time": "2022-07-18T16:28:24.649Z"
   },
   {
    "duration": 59,
    "start_time": "2022-07-18T16:28:24.667Z"
   },
   {
    "duration": 9,
    "start_time": "2022-07-18T16:28:24.727Z"
   },
   {
    "duration": 7,
    "start_time": "2022-07-18T16:28:24.738Z"
   },
   {
    "duration": 11,
    "start_time": "2022-07-18T16:28:24.747Z"
   },
   {
    "duration": 7,
    "start_time": "2022-07-18T16:28:24.760Z"
   },
   {
    "duration": 8,
    "start_time": "2022-07-18T16:28:24.768Z"
   },
   {
    "duration": 5,
    "start_time": "2022-07-18T16:28:24.779Z"
   },
   {
    "duration": 39,
    "start_time": "2022-07-18T16:28:24.786Z"
   },
   {
    "duration": 4,
    "start_time": "2022-07-18T16:28:24.826Z"
   },
   {
    "duration": 15,
    "start_time": "2022-07-18T16:28:24.832Z"
   },
   {
    "duration": 17,
    "start_time": "2022-07-18T16:32:51.104Z"
   },
   {
    "duration": 42,
    "start_time": "2022-07-18T16:35:15.954Z"
   },
   {
    "duration": 3,
    "start_time": "2022-07-18T16:42:01.160Z"
   },
   {
    "duration": 45,
    "start_time": "2022-07-18T16:46:40.471Z"
   },
   {
    "duration": 10,
    "start_time": "2022-07-18T16:47:21.130Z"
   },
   {
    "duration": 94,
    "start_time": "2022-07-18T16:54:44.073Z"
   },
   {
    "duration": 6,
    "start_time": "2022-07-18T16:55:03.747Z"
   },
   {
    "duration": 12,
    "start_time": "2022-07-18T16:55:11.634Z"
   },
   {
    "duration": 10,
    "start_time": "2022-07-18T16:56:22.106Z"
   },
   {
    "duration": 10,
    "start_time": "2022-07-18T16:56:59.754Z"
   },
   {
    "duration": 10,
    "start_time": "2022-07-18T16:58:04.858Z"
   },
   {
    "duration": 1100,
    "start_time": "2022-07-18T16:58:38.479Z"
   },
   {
    "duration": 183,
    "start_time": "2022-07-18T16:58:39.581Z"
   },
   {
    "duration": 17,
    "start_time": "2022-07-18T16:58:39.766Z"
   },
   {
    "duration": 42,
    "start_time": "2022-07-18T16:58:39.785Z"
   },
   {
    "duration": 12,
    "start_time": "2022-07-18T16:58:39.829Z"
   },
   {
    "duration": 8,
    "start_time": "2022-07-18T16:58:39.842Z"
   },
   {
    "duration": 7,
    "start_time": "2022-07-18T16:58:39.851Z"
   },
   {
    "duration": 11,
    "start_time": "2022-07-18T16:58:39.859Z"
   },
   {
    "duration": 10,
    "start_time": "2022-07-18T16:58:39.871Z"
   },
   {
    "duration": 6,
    "start_time": "2022-07-18T16:58:39.883Z"
   },
   {
    "duration": 42,
    "start_time": "2022-07-18T16:58:39.890Z"
   },
   {
    "duration": 3,
    "start_time": "2022-07-18T16:58:39.934Z"
   },
   {
    "duration": 15,
    "start_time": "2022-07-18T16:58:39.939Z"
   },
   {
    "duration": 10,
    "start_time": "2022-07-18T16:58:39.956Z"
   },
   {
    "duration": 14,
    "start_time": "2022-07-18T16:58:39.968Z"
   },
   {
    "duration": 7,
    "start_time": "2022-07-18T16:58:39.984Z"
   },
   {
    "duration": 40,
    "start_time": "2022-07-18T16:58:39.992Z"
   },
   {
    "duration": 11,
    "start_time": "2022-07-18T17:03:03.145Z"
   },
   {
    "duration": 24,
    "start_time": "2022-07-18T17:07:25.680Z"
   },
   {
    "duration": 39,
    "start_time": "2022-07-18T17:10:06.528Z"
   },
   {
    "duration": 42,
    "start_time": "2022-07-18T17:13:54.991Z"
   },
   {
    "duration": 22,
    "start_time": "2022-07-18T17:14:32.961Z"
   },
   {
    "duration": 47,
    "start_time": "2022-07-18T17:15:27.945Z"
   },
   {
    "duration": 39,
    "start_time": "2022-07-18T17:16:19.324Z"
   },
   {
    "duration": 1150,
    "start_time": "2022-07-18T17:16:31.679Z"
   },
   {
    "duration": 453,
    "start_time": "2022-07-18T17:16:32.831Z"
   },
   {
    "duration": 16,
    "start_time": "2022-07-18T17:16:33.285Z"
   },
   {
    "duration": 101,
    "start_time": "2022-07-18T17:16:33.303Z"
   },
   {
    "duration": 9,
    "start_time": "2022-07-18T17:16:33.407Z"
   },
   {
    "duration": 7,
    "start_time": "2022-07-18T17:16:33.418Z"
   },
   {
    "duration": 7,
    "start_time": "2022-07-18T17:16:33.426Z"
   },
   {
    "duration": 4,
    "start_time": "2022-07-18T17:16:33.435Z"
   },
   {
    "duration": 8,
    "start_time": "2022-07-18T17:16:33.441Z"
   },
   {
    "duration": 12,
    "start_time": "2022-07-18T17:16:33.451Z"
   },
   {
    "duration": 27,
    "start_time": "2022-07-18T17:16:33.464Z"
   },
   {
    "duration": 4,
    "start_time": "2022-07-18T17:16:33.492Z"
   },
   {
    "duration": 32,
    "start_time": "2022-07-18T17:16:33.497Z"
   },
   {
    "duration": 10,
    "start_time": "2022-07-18T17:16:33.532Z"
   },
   {
    "duration": 9,
    "start_time": "2022-07-18T17:16:33.544Z"
   },
   {
    "duration": 13,
    "start_time": "2022-07-18T17:16:33.555Z"
   },
   {
    "duration": 63,
    "start_time": "2022-07-18T17:16:33.570Z"
   },
   {
    "duration": 22,
    "start_time": "2022-07-18T17:16:33.635Z"
   },
   {
    "duration": 35,
    "start_time": "2022-07-18T17:16:33.658Z"
   },
   {
    "duration": 37,
    "start_time": "2022-07-18T17:17:37.123Z"
   },
   {
    "duration": 1171,
    "start_time": "2022-07-18T17:18:10.731Z"
   },
   {
    "duration": 200,
    "start_time": "2022-07-18T17:18:11.904Z"
   },
   {
    "duration": 21,
    "start_time": "2022-07-18T17:18:12.106Z"
   },
   {
    "duration": 46,
    "start_time": "2022-07-18T17:18:12.129Z"
   },
   {
    "duration": 9,
    "start_time": "2022-07-18T17:18:12.177Z"
   },
   {
    "duration": 7,
    "start_time": "2022-07-18T17:18:12.188Z"
   },
   {
    "duration": 9,
    "start_time": "2022-07-18T17:18:12.197Z"
   },
   {
    "duration": 4,
    "start_time": "2022-07-18T17:18:12.208Z"
   },
   {
    "duration": 10,
    "start_time": "2022-07-18T17:18:12.213Z"
   },
   {
    "duration": 5,
    "start_time": "2022-07-18T17:18:12.226Z"
   },
   {
    "duration": 43,
    "start_time": "2022-07-18T17:18:12.233Z"
   },
   {
    "duration": 3,
    "start_time": "2022-07-18T17:18:12.278Z"
   },
   {
    "duration": 23,
    "start_time": "2022-07-18T17:18:12.283Z"
   },
   {
    "duration": 11,
    "start_time": "2022-07-18T17:18:12.309Z"
   },
   {
    "duration": 8,
    "start_time": "2022-07-18T17:18:12.321Z"
   },
   {
    "duration": 14,
    "start_time": "2022-07-18T17:18:12.331Z"
   },
   {
    "duration": 45,
    "start_time": "2022-07-18T17:18:12.347Z"
   },
   {
    "duration": 20,
    "start_time": "2022-07-18T17:18:12.393Z"
   },
   {
    "duration": 35,
    "start_time": "2022-07-18T17:18:12.424Z"
   },
   {
    "duration": 24,
    "start_time": "2022-07-18T17:28:26.250Z"
   },
   {
    "duration": 8,
    "start_time": "2022-07-18T17:29:22.855Z"
   },
   {
    "duration": 20,
    "start_time": "2022-07-18T17:43:26.636Z"
   },
   {
    "duration": 10,
    "start_time": "2022-07-18T17:43:43.430Z"
   },
   {
    "duration": 11,
    "start_time": "2022-07-18T17:44:08.299Z"
   },
   {
    "duration": 11,
    "start_time": "2022-07-18T17:44:25.690Z"
   },
   {
    "duration": 9,
    "start_time": "2022-07-18T17:44:59.156Z"
   },
   {
    "duration": 10,
    "start_time": "2022-07-18T17:45:03.292Z"
   },
   {
    "duration": 9,
    "start_time": "2022-07-18T17:50:50.836Z"
   },
   {
    "duration": 1543,
    "start_time": "2022-07-19T08:11:56.627Z"
   },
   {
    "duration": 278,
    "start_time": "2022-07-19T08:11:58.173Z"
   },
   {
    "duration": 18,
    "start_time": "2022-07-19T08:11:58.453Z"
   },
   {
    "duration": 78,
    "start_time": "2022-07-19T08:11:58.473Z"
   },
   {
    "duration": 9,
    "start_time": "2022-07-19T08:11:58.553Z"
   },
   {
    "duration": 8,
    "start_time": "2022-07-19T08:11:58.564Z"
   },
   {
    "duration": 15,
    "start_time": "2022-07-19T08:11:58.574Z"
   },
   {
    "duration": 6,
    "start_time": "2022-07-19T08:11:58.590Z"
   },
   {
    "duration": 15,
    "start_time": "2022-07-19T08:11:58.598Z"
   },
   {
    "duration": 17,
    "start_time": "2022-07-19T08:11:58.616Z"
   },
   {
    "duration": 26,
    "start_time": "2022-07-19T08:11:58.641Z"
   },
   {
    "duration": 8,
    "start_time": "2022-07-19T08:11:58.669Z"
   },
   {
    "duration": 32,
    "start_time": "2022-07-19T08:11:58.679Z"
   },
   {
    "duration": 18,
    "start_time": "2022-07-19T08:11:58.713Z"
   },
   {
    "duration": 19,
    "start_time": "2022-07-19T08:11:58.739Z"
   },
   {
    "duration": 11,
    "start_time": "2022-07-19T08:11:58.759Z"
   },
   {
    "duration": 16,
    "start_time": "2022-07-19T08:11:58.771Z"
   },
   {
    "duration": 17,
    "start_time": "2022-07-19T08:11:58.789Z"
   },
   {
    "duration": 78,
    "start_time": "2022-07-19T08:11:58.807Z"
   },
   {
    "duration": 34,
    "start_time": "2022-07-19T08:11:58.887Z"
   },
   {
    "duration": 63,
    "start_time": "2022-07-19T08:11:58.923Z"
   },
   {
    "duration": 19,
    "start_time": "2022-07-19T08:11:58.988Z"
   },
   {
    "duration": 32,
    "start_time": "2022-07-19T08:11:59.010Z"
   },
   {
    "duration": 1648,
    "start_time": "2022-07-19T11:30:40.694Z"
   },
   {
    "duration": 300,
    "start_time": "2022-07-19T11:30:42.344Z"
   },
   {
    "duration": 17,
    "start_time": "2022-07-19T11:30:42.645Z"
   },
   {
    "duration": 132,
    "start_time": "2022-07-19T11:30:42.664Z"
   },
   {
    "duration": 16,
    "start_time": "2022-07-19T11:30:42.797Z"
   },
   {
    "duration": 9,
    "start_time": "2022-07-19T11:30:42.816Z"
   },
   {
    "duration": 26,
    "start_time": "2022-07-19T11:30:42.827Z"
   },
   {
    "duration": 14,
    "start_time": "2022-07-19T11:30:42.854Z"
   },
   {
    "duration": 7,
    "start_time": "2022-07-19T11:30:42.870Z"
   },
   {
    "duration": 9,
    "start_time": "2022-07-19T11:30:42.879Z"
   },
   {
    "duration": 37,
    "start_time": "2022-07-19T11:30:42.889Z"
   },
   {
    "duration": 3,
    "start_time": "2022-07-19T11:30:42.928Z"
   },
   {
    "duration": 26,
    "start_time": "2022-07-19T11:30:42.933Z"
   },
   {
    "duration": 10,
    "start_time": "2022-07-19T11:30:42.961Z"
   },
   {
    "duration": 47,
    "start_time": "2022-07-19T11:30:42.973Z"
   },
   {
    "duration": 12,
    "start_time": "2022-07-19T11:30:43.021Z"
   },
   {
    "duration": 9,
    "start_time": "2022-07-19T11:30:43.034Z"
   },
   {
    "duration": 11,
    "start_time": "2022-07-19T11:30:43.045Z"
   },
   {
    "duration": 68,
    "start_time": "2022-07-19T11:30:43.059Z"
   },
   {
    "duration": 33,
    "start_time": "2022-07-19T11:30:43.128Z"
   },
   {
    "duration": 68,
    "start_time": "2022-07-19T11:30:43.162Z"
   },
   {
    "duration": 3,
    "start_time": "2022-07-19T11:30:43.231Z"
   },
   {
    "duration": 8,
    "start_time": "2022-07-19T11:30:43.236Z"
   },
   {
    "duration": 6,
    "start_time": "2022-07-19T11:30:43.246Z"
   },
   {
    "duration": 87,
    "start_time": "2022-07-19T11:30:43.253Z"
   },
   {
    "duration": 75,
    "start_time": "2022-07-19T11:41:31.043Z"
   },
   {
    "duration": 70,
    "start_time": "2022-07-19T11:41:40.514Z"
   },
   {
    "duration": 77,
    "start_time": "2022-07-19T11:42:27.865Z"
   },
   {
    "duration": 7,
    "start_time": "2022-07-19T11:45:16.772Z"
   },
   {
    "duration": 5,
    "start_time": "2022-07-19T12:00:14.971Z"
   },
   {
    "duration": 151,
    "start_time": "2022-07-19T12:00:20.483Z"
   },
   {
    "duration": 5,
    "start_time": "2022-07-19T12:00:40.456Z"
   },
   {
    "duration": 70,
    "start_time": "2022-07-19T12:00:43.566Z"
   },
   {
    "duration": 6,
    "start_time": "2022-07-19T12:02:01.159Z"
   },
   {
    "duration": 71,
    "start_time": "2022-07-19T12:02:03.561Z"
   },
   {
    "duration": 6,
    "start_time": "2022-07-19T12:03:14.353Z"
   },
   {
    "duration": 1360,
    "start_time": "2022-07-19T12:03:17.221Z"
   },
   {
    "duration": 17,
    "start_time": "2022-07-19T12:16:02.550Z"
   },
   {
    "duration": 11,
    "start_time": "2022-07-19T12:16:25.818Z"
   },
   {
    "duration": 17,
    "start_time": "2022-07-19T12:16:38.366Z"
   },
   {
    "duration": 5,
    "start_time": "2022-07-19T12:17:21.868Z"
   },
   {
    "duration": 77,
    "start_time": "2022-07-19T12:17:29.548Z"
   },
   {
    "duration": 6,
    "start_time": "2022-07-19T12:18:13.421Z"
   },
   {
    "duration": 91,
    "start_time": "2022-07-19T12:18:15.701Z"
   },
   {
    "duration": 5,
    "start_time": "2022-07-19T12:19:14.773Z"
   },
   {
    "duration": 69,
    "start_time": "2022-07-19T12:19:18.021Z"
   },
   {
    "duration": 21,
    "start_time": "2022-07-19T12:40:48.755Z"
   },
   {
    "duration": 22,
    "start_time": "2022-07-19T12:41:05.806Z"
   },
   {
    "duration": 24,
    "start_time": "2022-07-19T12:41:29.835Z"
   },
   {
    "duration": 8,
    "start_time": "2022-07-19T12:42:43.760Z"
   },
   {
    "duration": 1220,
    "start_time": "2022-07-19T13:50:59.350Z"
   },
   {
    "duration": 298,
    "start_time": "2022-07-19T13:51:00.573Z"
   },
   {
    "duration": 30,
    "start_time": "2022-07-19T13:51:00.874Z"
   },
   {
    "duration": 67,
    "start_time": "2022-07-19T13:51:00.906Z"
   },
   {
    "duration": 11,
    "start_time": "2022-07-19T13:51:00.975Z"
   },
   {
    "duration": 24,
    "start_time": "2022-07-19T13:51:00.988Z"
   },
   {
    "duration": 19,
    "start_time": "2022-07-19T13:51:01.014Z"
   },
   {
    "duration": 23,
    "start_time": "2022-07-19T13:51:01.035Z"
   },
   {
    "duration": 10,
    "start_time": "2022-07-19T13:51:01.060Z"
   },
   {
    "duration": 18,
    "start_time": "2022-07-19T13:51:01.073Z"
   },
   {
    "duration": 38,
    "start_time": "2022-07-19T13:51:01.092Z"
   },
   {
    "duration": 6,
    "start_time": "2022-07-19T13:51:01.132Z"
   },
   {
    "duration": 21,
    "start_time": "2022-07-19T13:51:01.140Z"
   },
   {
    "duration": 14,
    "start_time": "2022-07-19T13:51:01.162Z"
   },
   {
    "duration": 8,
    "start_time": "2022-07-19T13:51:01.178Z"
   },
   {
    "duration": 26,
    "start_time": "2022-07-19T13:51:01.188Z"
   },
   {
    "duration": 59,
    "start_time": "2022-07-19T13:51:01.215Z"
   },
   {
    "duration": 28,
    "start_time": "2022-07-19T13:51:01.276Z"
   },
   {
    "duration": 39,
    "start_time": "2022-07-19T13:51:01.306Z"
   },
   {
    "duration": 57,
    "start_time": "2022-07-19T13:51:01.347Z"
   },
   {
    "duration": 10,
    "start_time": "2022-07-19T13:51:01.406Z"
   },
   {
    "duration": 7,
    "start_time": "2022-07-19T13:51:01.417Z"
   },
   {
    "duration": 97,
    "start_time": "2022-07-19T13:51:01.425Z"
   },
   {
    "duration": 5,
    "start_time": "2022-07-19T13:51:01.524Z"
   },
   {
    "duration": 40,
    "start_time": "2022-07-19T13:51:01.531Z"
   },
   {
    "duration": 12,
    "start_time": "2022-07-19T13:51:01.572Z"
   },
   {
    "duration": 5,
    "start_time": "2022-07-19T13:52:08.698Z"
   },
   {
    "duration": 5,
    "start_time": "2022-07-19T13:52:15.519Z"
   },
   {
    "duration": 5,
    "start_time": "2022-07-19T13:55:36.153Z"
   },
   {
    "duration": 77,
    "start_time": "2022-07-19T13:55:40.222Z"
   },
   {
    "duration": 76,
    "start_time": "2022-07-19T13:59:20.971Z"
   },
   {
    "duration": 78,
    "start_time": "2022-07-19T13:59:47.944Z"
   },
   {
    "duration": 6,
    "start_time": "2022-07-19T14:00:22.152Z"
   },
   {
    "duration": 85,
    "start_time": "2022-07-19T14:00:25.712Z"
   },
   {
    "duration": 100,
    "start_time": "2022-07-19T14:04:01.732Z"
   },
   {
    "duration": 75,
    "start_time": "2022-07-19T14:04:25.599Z"
   },
   {
    "duration": 5,
    "start_time": "2022-07-19T14:04:29.508Z"
   },
   {
    "duration": 6,
    "start_time": "2022-07-19T14:06:10.369Z"
   },
   {
    "duration": 92,
    "start_time": "2022-07-19T14:07:07.199Z"
   },
   {
    "duration": 6,
    "start_time": "2022-07-19T14:07:35.575Z"
   },
   {
    "duration": 79,
    "start_time": "2022-07-19T14:07:38.454Z"
   },
   {
    "duration": 7,
    "start_time": "2022-07-19T14:07:43.273Z"
   },
   {
    "duration": 1197,
    "start_time": "2022-07-19T14:12:32.784Z"
   },
   {
    "duration": 282,
    "start_time": "2022-07-19T14:12:33.983Z"
   },
   {
    "duration": 16,
    "start_time": "2022-07-19T14:12:34.267Z"
   },
   {
    "duration": 102,
    "start_time": "2022-07-19T14:12:34.285Z"
   },
   {
    "duration": 10,
    "start_time": "2022-07-19T14:12:34.388Z"
   },
   {
    "duration": 7,
    "start_time": "2022-07-19T14:12:34.399Z"
   },
   {
    "duration": 9,
    "start_time": "2022-07-19T14:12:34.407Z"
   },
   {
    "duration": 4,
    "start_time": "2022-07-19T14:12:34.417Z"
   },
   {
    "duration": 6,
    "start_time": "2022-07-19T14:12:34.423Z"
   },
   {
    "duration": 5,
    "start_time": "2022-07-19T14:12:34.431Z"
   },
   {
    "duration": 29,
    "start_time": "2022-07-19T14:12:34.437Z"
   },
   {
    "duration": 4,
    "start_time": "2022-07-19T14:12:34.467Z"
   },
   {
    "duration": 38,
    "start_time": "2022-07-19T14:12:34.472Z"
   },
   {
    "duration": 10,
    "start_time": "2022-07-19T14:12:34.511Z"
   },
   {
    "duration": 8,
    "start_time": "2022-07-19T14:12:34.523Z"
   },
   {
    "duration": 15,
    "start_time": "2022-07-19T14:12:34.532Z"
   },
   {
    "duration": 56,
    "start_time": "2022-07-19T14:12:34.548Z"
   },
   {
    "duration": 22,
    "start_time": "2022-07-19T14:12:34.606Z"
   },
   {
    "duration": 38,
    "start_time": "2022-07-19T14:12:34.629Z"
   },
   {
    "duration": 55,
    "start_time": "2022-07-19T14:12:34.669Z"
   },
   {
    "duration": 8,
    "start_time": "2022-07-19T14:12:34.725Z"
   },
   {
    "duration": 10,
    "start_time": "2022-07-19T14:12:34.734Z"
   },
   {
    "duration": 8,
    "start_time": "2022-07-19T14:12:34.746Z"
   },
   {
    "duration": 109,
    "start_time": "2022-07-19T14:12:34.756Z"
   },
   {
    "duration": 5,
    "start_time": "2022-07-19T14:12:34.867Z"
   },
   {
    "duration": 7,
    "start_time": "2022-07-19T14:12:34.874Z"
   },
   {
    "duration": 41,
    "start_time": "2022-07-19T14:12:34.882Z"
   },
   {
    "duration": 8,
    "start_time": "2022-07-19T14:12:34.927Z"
   },
   {
    "duration": 48,
    "start_time": "2022-07-19T14:18:20.130Z"
   },
   {
    "duration": 11,
    "start_time": "2022-07-19T14:18:25.137Z"
   },
   {
    "duration": 7,
    "start_time": "2022-07-19T14:18:40.208Z"
   },
   {
    "duration": 40,
    "start_time": "2022-07-19T14:18:43.975Z"
   },
   {
    "duration": 5,
    "start_time": "2022-07-19T14:18:59.126Z"
   },
   {
    "duration": 45,
    "start_time": "2022-07-19T14:45:26.139Z"
   },
   {
    "duration": 752,
    "start_time": "2022-07-19T14:45:27.652Z"
   },
   {
    "duration": 122,
    "start_time": "2022-07-19T14:51:15.314Z"
   },
   {
    "duration": 12,
    "start_time": "2022-07-19T15:18:58.140Z"
   },
   {
    "duration": 1338,
    "start_time": "2022-07-19T15:20:55.809Z"
   },
   {
    "duration": 302,
    "start_time": "2022-07-19T15:20:57.150Z"
   },
   {
    "duration": 18,
    "start_time": "2022-07-19T15:20:57.456Z"
   },
   {
    "duration": 107,
    "start_time": "2022-07-19T15:20:57.477Z"
   },
   {
    "duration": 15,
    "start_time": "2022-07-19T15:20:57.586Z"
   },
   {
    "duration": 38,
    "start_time": "2022-07-19T15:20:57.603Z"
   },
   {
    "duration": 11,
    "start_time": "2022-07-19T15:20:57.644Z"
   },
   {
    "duration": 24,
    "start_time": "2022-07-19T15:20:57.657Z"
   },
   {
    "duration": 11,
    "start_time": "2022-07-19T15:20:57.683Z"
   },
   {
    "duration": 11,
    "start_time": "2022-07-19T15:20:57.696Z"
   },
   {
    "duration": 11,
    "start_time": "2022-07-19T15:20:57.708Z"
   },
   {
    "duration": 12,
    "start_time": "2022-07-19T15:20:57.721Z"
   },
   {
    "duration": 21,
    "start_time": "2022-07-19T15:20:57.737Z"
   },
   {
    "duration": 15,
    "start_time": "2022-07-19T15:20:57.760Z"
   },
   {
    "duration": 9,
    "start_time": "2022-07-19T15:20:57.777Z"
   },
   {
    "duration": 16,
    "start_time": "2022-07-19T15:20:57.788Z"
   },
   {
    "duration": 69,
    "start_time": "2022-07-19T15:20:57.806Z"
   },
   {
    "duration": 58,
    "start_time": "2022-07-19T15:20:57.877Z"
   },
   {
    "duration": 56,
    "start_time": "2022-07-19T15:20:57.937Z"
   },
   {
    "duration": 119,
    "start_time": "2022-07-19T15:20:58.004Z"
   },
   {
    "duration": 0,
    "start_time": "2022-07-19T15:20:58.125Z"
   },
   {
    "duration": 1,
    "start_time": "2022-07-19T15:20:58.126Z"
   },
   {
    "duration": 0,
    "start_time": "2022-07-19T15:20:58.128Z"
   },
   {
    "duration": 0,
    "start_time": "2022-07-19T15:20:58.130Z"
   },
   {
    "duration": 0,
    "start_time": "2022-07-19T15:20:58.131Z"
   },
   {
    "duration": 0,
    "start_time": "2022-07-19T15:20:58.133Z"
   },
   {
    "duration": 0,
    "start_time": "2022-07-19T15:20:58.134Z"
   },
   {
    "duration": 0,
    "start_time": "2022-07-19T15:20:58.135Z"
   },
   {
    "duration": 0,
    "start_time": "2022-07-19T15:20:58.136Z"
   },
   {
    "duration": 0,
    "start_time": "2022-07-19T15:20:58.137Z"
   },
   {
    "duration": 0,
    "start_time": "2022-07-19T15:20:58.138Z"
   },
   {
    "duration": 2,
    "start_time": "2022-07-19T15:21:26.472Z"
   },
   {
    "duration": 96,
    "start_time": "2022-07-19T15:21:32.603Z"
   },
   {
    "duration": 38,
    "start_time": "2022-07-19T15:21:33.877Z"
   },
   {
    "duration": 1279,
    "start_time": "2022-07-19T15:22:42.118Z"
   },
   {
    "duration": 274,
    "start_time": "2022-07-19T15:22:43.404Z"
   },
   {
    "duration": 38,
    "start_time": "2022-07-19T15:22:43.680Z"
   },
   {
    "duration": 144,
    "start_time": "2022-07-19T15:22:43.720Z"
   },
   {
    "duration": 35,
    "start_time": "2022-07-19T15:22:43.866Z"
   },
   {
    "duration": 92,
    "start_time": "2022-07-19T15:22:43.903Z"
   },
   {
    "duration": 65,
    "start_time": "2022-07-19T15:22:43.997Z"
   },
   {
    "duration": 43,
    "start_time": "2022-07-19T15:22:44.065Z"
   },
   {
    "duration": 68,
    "start_time": "2022-07-19T15:22:44.111Z"
   },
   {
    "duration": 16,
    "start_time": "2022-07-19T15:22:44.181Z"
   },
   {
    "duration": 51,
    "start_time": "2022-07-19T15:22:44.199Z"
   },
   {
    "duration": 21,
    "start_time": "2022-07-19T15:22:44.251Z"
   },
   {
    "duration": 26,
    "start_time": "2022-07-19T15:22:44.274Z"
   },
   {
    "duration": 22,
    "start_time": "2022-07-19T15:22:44.302Z"
   },
   {
    "duration": 16,
    "start_time": "2022-07-19T15:22:44.326Z"
   },
   {
    "duration": 16,
    "start_time": "2022-07-19T15:22:44.344Z"
   },
   {
    "duration": 54,
    "start_time": "2022-07-19T15:22:44.362Z"
   },
   {
    "duration": 25,
    "start_time": "2022-07-19T15:22:44.419Z"
   },
   {
    "duration": 41,
    "start_time": "2022-07-19T15:22:44.446Z"
   },
   {
    "duration": 42,
    "start_time": "2022-07-19T15:22:44.513Z"
   },
   {
    "duration": 14,
    "start_time": "2022-07-19T15:22:44.556Z"
   },
   {
    "duration": 52,
    "start_time": "2022-07-19T15:22:44.572Z"
   },
   {
    "duration": 856,
    "start_time": "2022-07-19T15:22:44.626Z"
   },
   {
    "duration": 117,
    "start_time": "2022-07-19T15:22:45.484Z"
   },
   {
    "duration": 0,
    "start_time": "2022-07-19T15:22:45.612Z"
   },
   {
    "duration": 0,
    "start_time": "2022-07-19T15:22:45.613Z"
   },
   {
    "duration": 0,
    "start_time": "2022-07-19T15:22:45.614Z"
   },
   {
    "duration": 0,
    "start_time": "2022-07-19T15:22:45.614Z"
   },
   {
    "duration": 0,
    "start_time": "2022-07-19T15:22:45.615Z"
   },
   {
    "duration": 0,
    "start_time": "2022-07-19T15:22:45.615Z"
   },
   {
    "duration": 0,
    "start_time": "2022-07-19T15:22:45.616Z"
   },
   {
    "duration": 1267,
    "start_time": "2022-07-19T15:24:33.021Z"
   },
   {
    "duration": 237,
    "start_time": "2022-07-19T15:24:34.290Z"
   },
   {
    "duration": 18,
    "start_time": "2022-07-19T15:24:34.529Z"
   },
   {
    "duration": 85,
    "start_time": "2022-07-19T15:24:34.549Z"
   },
   {
    "duration": 11,
    "start_time": "2022-07-19T15:24:34.635Z"
   },
   {
    "duration": 10,
    "start_time": "2022-07-19T15:24:34.647Z"
   },
   {
    "duration": 10,
    "start_time": "2022-07-19T15:24:34.659Z"
   },
   {
    "duration": 5,
    "start_time": "2022-07-19T15:24:34.671Z"
   },
   {
    "duration": 17,
    "start_time": "2022-07-19T15:24:34.677Z"
   },
   {
    "duration": 11,
    "start_time": "2022-07-19T15:24:34.696Z"
   },
   {
    "duration": 27,
    "start_time": "2022-07-19T15:24:34.709Z"
   },
   {
    "duration": 3,
    "start_time": "2022-07-19T15:24:34.738Z"
   },
   {
    "duration": 20,
    "start_time": "2022-07-19T15:24:34.743Z"
   },
   {
    "duration": 11,
    "start_time": "2022-07-19T15:24:34.765Z"
   },
   {
    "duration": 13,
    "start_time": "2022-07-19T15:24:34.777Z"
   },
   {
    "duration": 15,
    "start_time": "2022-07-19T15:24:34.803Z"
   },
   {
    "duration": 61,
    "start_time": "2022-07-19T15:24:34.819Z"
   },
   {
    "duration": 32,
    "start_time": "2022-07-19T15:24:34.882Z"
   },
   {
    "duration": 42,
    "start_time": "2022-07-19T15:24:34.916Z"
   },
   {
    "duration": 59,
    "start_time": "2022-07-19T15:24:34.959Z"
   },
   {
    "duration": 14,
    "start_time": "2022-07-19T15:24:35.020Z"
   },
   {
    "duration": 43,
    "start_time": "2022-07-19T15:24:35.035Z"
   },
   {
    "duration": 889,
    "start_time": "2022-07-19T15:24:35.080Z"
   },
   {
    "duration": 112,
    "start_time": "2022-07-19T15:24:35.971Z"
   },
   {
    "duration": 0,
    "start_time": "2022-07-19T15:24:36.085Z"
   },
   {
    "duration": 0,
    "start_time": "2022-07-19T15:24:36.086Z"
   },
   {
    "duration": 0,
    "start_time": "2022-07-19T15:24:36.087Z"
   },
   {
    "duration": 0,
    "start_time": "2022-07-19T15:24:36.088Z"
   },
   {
    "duration": 0,
    "start_time": "2022-07-19T15:24:36.089Z"
   },
   {
    "duration": 0,
    "start_time": "2022-07-19T15:24:36.090Z"
   },
   {
    "duration": 0,
    "start_time": "2022-07-19T15:24:36.091Z"
   },
   {
    "duration": 4,
    "start_time": "2022-07-19T15:25:46.082Z"
   },
   {
    "duration": 5,
    "start_time": "2022-07-19T15:26:26.769Z"
   },
   {
    "duration": 6,
    "start_time": "2022-07-19T15:27:24.456Z"
   },
   {
    "duration": 1215,
    "start_time": "2022-07-19T15:38:10.674Z"
   },
   {
    "duration": 207,
    "start_time": "2022-07-19T15:38:11.891Z"
   },
   {
    "duration": 17,
    "start_time": "2022-07-19T15:38:12.100Z"
   },
   {
    "duration": 101,
    "start_time": "2022-07-19T15:38:12.118Z"
   },
   {
    "duration": 10,
    "start_time": "2022-07-19T15:38:12.220Z"
   },
   {
    "duration": 6,
    "start_time": "2022-07-19T15:38:12.232Z"
   },
   {
    "duration": 8,
    "start_time": "2022-07-19T15:38:12.240Z"
   },
   {
    "duration": 3,
    "start_time": "2022-07-19T15:38:12.249Z"
   },
   {
    "duration": 7,
    "start_time": "2022-07-19T15:38:12.254Z"
   },
   {
    "duration": 5,
    "start_time": "2022-07-19T15:38:12.263Z"
   },
   {
    "duration": 43,
    "start_time": "2022-07-19T15:38:12.270Z"
   },
   {
    "duration": 3,
    "start_time": "2022-07-19T15:38:12.316Z"
   },
   {
    "duration": 20,
    "start_time": "2022-07-19T15:38:12.321Z"
   },
   {
    "duration": 9,
    "start_time": "2022-07-19T15:38:12.343Z"
   },
   {
    "duration": 9,
    "start_time": "2022-07-19T15:38:12.354Z"
   },
   {
    "duration": 10,
    "start_time": "2022-07-19T15:38:12.365Z"
   },
   {
    "duration": 68,
    "start_time": "2022-07-19T15:38:12.377Z"
   },
   {
    "duration": 29,
    "start_time": "2022-07-19T15:38:12.447Z"
   },
   {
    "duration": 49,
    "start_time": "2022-07-19T15:38:12.478Z"
   },
   {
    "duration": 42,
    "start_time": "2022-07-19T15:38:12.529Z"
   },
   {
    "duration": 31,
    "start_time": "2022-07-19T15:38:12.573Z"
   },
   {
    "duration": 39,
    "start_time": "2022-07-19T15:38:12.606Z"
   },
   {
    "duration": 757,
    "start_time": "2022-07-19T15:38:12.647Z"
   },
   {
    "duration": 5,
    "start_time": "2022-07-19T15:38:13.406Z"
   },
   {
    "duration": 118,
    "start_time": "2022-07-19T15:38:13.413Z"
   },
   {
    "duration": 0,
    "start_time": "2022-07-19T15:38:13.533Z"
   },
   {
    "duration": 0,
    "start_time": "2022-07-19T15:38:13.535Z"
   },
   {
    "duration": 0,
    "start_time": "2022-07-19T15:38:13.536Z"
   },
   {
    "duration": 0,
    "start_time": "2022-07-19T15:38:13.537Z"
   },
   {
    "duration": 0,
    "start_time": "2022-07-19T15:38:13.538Z"
   },
   {
    "duration": 0,
    "start_time": "2022-07-19T15:38:13.539Z"
   },
   {
    "duration": 0,
    "start_time": "2022-07-19T15:38:13.539Z"
   },
   {
    "duration": 708,
    "start_time": "2022-07-19T15:40:31.455Z"
   },
   {
    "duration": 770,
    "start_time": "2022-07-19T15:40:43.646Z"
   },
   {
    "duration": 782,
    "start_time": "2022-07-19T15:42:11.008Z"
   },
   {
    "duration": 26,
    "start_time": "2022-07-19T15:44:02.123Z"
   },
   {
    "duration": 13,
    "start_time": "2022-07-19T15:45:25.543Z"
   },
   {
    "duration": 822,
    "start_time": "2022-07-19T15:45:37.871Z"
   },
   {
    "duration": 21,
    "start_time": "2022-07-19T15:45:50.037Z"
   },
   {
    "duration": 854,
    "start_time": "2022-07-19T15:50:37.251Z"
   },
   {
    "duration": 22,
    "start_time": "2022-07-19T16:00:57.348Z"
   },
   {
    "duration": 11,
    "start_time": "2022-07-19T16:01:01.571Z"
   },
   {
    "duration": 1231,
    "start_time": "2022-07-19T16:02:39.985Z"
   },
   {
    "duration": 479,
    "start_time": "2022-07-19T16:02:41.218Z"
   },
   {
    "duration": 19,
    "start_time": "2022-07-19T16:02:41.698Z"
   },
   {
    "duration": 67,
    "start_time": "2022-07-19T16:02:41.719Z"
   },
   {
    "duration": 11,
    "start_time": "2022-07-19T16:02:41.788Z"
   },
   {
    "duration": 8,
    "start_time": "2022-07-19T16:02:41.801Z"
   },
   {
    "duration": 8,
    "start_time": "2022-07-19T16:02:41.810Z"
   },
   {
    "duration": 3,
    "start_time": "2022-07-19T16:02:41.820Z"
   },
   {
    "duration": 7,
    "start_time": "2022-07-19T16:02:41.825Z"
   },
   {
    "duration": 8,
    "start_time": "2022-07-19T16:02:41.834Z"
   },
   {
    "duration": 31,
    "start_time": "2022-07-19T16:02:41.843Z"
   },
   {
    "duration": 3,
    "start_time": "2022-07-19T16:02:41.876Z"
   },
   {
    "duration": 33,
    "start_time": "2022-07-19T16:02:41.881Z"
   },
   {
    "duration": 11,
    "start_time": "2022-07-19T16:02:41.915Z"
   },
   {
    "duration": 10,
    "start_time": "2022-07-19T16:02:41.928Z"
   },
   {
    "duration": 16,
    "start_time": "2022-07-19T16:02:41.940Z"
   },
   {
    "duration": 77,
    "start_time": "2022-07-19T16:02:41.958Z"
   },
   {
    "duration": 27,
    "start_time": "2022-07-19T16:02:42.037Z"
   },
   {
    "duration": 63,
    "start_time": "2022-07-19T16:02:42.066Z"
   },
   {
    "duration": 51,
    "start_time": "2022-07-19T16:02:42.131Z"
   },
   {
    "duration": 24,
    "start_time": "2022-07-19T16:02:42.184Z"
   },
   {
    "duration": 45,
    "start_time": "2022-07-19T16:02:42.210Z"
   },
   {
    "duration": 829,
    "start_time": "2022-07-19T16:02:42.256Z"
   },
   {
    "duration": 23,
    "start_time": "2022-07-19T16:02:43.086Z"
   },
   {
    "duration": 10,
    "start_time": "2022-07-19T16:02:43.111Z"
   },
   {
    "duration": 6,
    "start_time": "2022-07-19T16:02:43.123Z"
   },
   {
    "duration": 109,
    "start_time": "2022-07-19T16:02:43.131Z"
   },
   {
    "duration": 6,
    "start_time": "2022-07-19T16:02:43.243Z"
   },
   {
    "duration": 35,
    "start_time": "2022-07-19T16:02:43.250Z"
   },
   {
    "duration": 20,
    "start_time": "2022-07-19T16:02:43.287Z"
   },
   {
    "duration": 5,
    "start_time": "2022-07-19T16:04:15.572Z"
   },
   {
    "duration": 88,
    "start_time": "2022-07-19T16:04:19.141Z"
   },
   {
    "duration": 23,
    "start_time": "2022-07-19T16:05:30.243Z"
   },
   {
    "duration": 11,
    "start_time": "2022-07-19T16:10:56.765Z"
   },
   {
    "duration": 720,
    "start_time": "2022-07-19T16:15:38.260Z"
   },
   {
    "duration": 19,
    "start_time": "2022-07-19T16:15:41.848Z"
   },
   {
    "duration": 12,
    "start_time": "2022-07-19T16:15:46.014Z"
   },
   {
    "duration": 84,
    "start_time": "2022-07-19T16:16:08.284Z"
   },
   {
    "duration": 5,
    "start_time": "2022-07-19T16:16:58.266Z"
   },
   {
    "duration": 689,
    "start_time": "2022-07-19T16:17:18.761Z"
   },
   {
    "duration": 18,
    "start_time": "2022-07-19T16:17:21.737Z"
   },
   {
    "duration": 12,
    "start_time": "2022-07-19T16:17:24.727Z"
   },
   {
    "duration": 75,
    "start_time": "2022-07-19T16:17:31.338Z"
   },
   {
    "duration": 4,
    "start_time": "2022-07-19T16:17:34.555Z"
   },
   {
    "duration": 741,
    "start_time": "2022-07-19T16:18:33.880Z"
   },
   {
    "duration": 20,
    "start_time": "2022-07-19T16:18:36.454Z"
   },
   {
    "duration": 83,
    "start_time": "2022-07-19T16:18:41.960Z"
   },
   {
    "duration": 5,
    "start_time": "2022-07-19T16:18:44.761Z"
   },
   {
    "duration": 27,
    "start_time": "2022-07-19T16:36:30.995Z"
   },
   {
    "duration": 36,
    "start_time": "2022-07-19T16:37:16.157Z"
   },
   {
    "duration": 49,
    "start_time": "2022-07-19T16:39:47.901Z"
   },
   {
    "duration": 52,
    "start_time": "2022-07-19T16:40:10.422Z"
   },
   {
    "duration": 51,
    "start_time": "2022-07-19T16:41:10.766Z"
   },
   {
    "duration": 45,
    "start_time": "2022-07-19T16:41:41.531Z"
   },
   {
    "duration": 54,
    "start_time": "2022-07-19T16:41:53.961Z"
   },
   {
    "duration": 49,
    "start_time": "2022-07-19T16:41:58.107Z"
   },
   {
    "duration": 50,
    "start_time": "2022-07-19T16:43:59.995Z"
   },
   {
    "duration": 46,
    "start_time": "2022-07-19T16:44:19.868Z"
   },
   {
    "duration": 80,
    "start_time": "2022-07-19T16:45:18.899Z"
   },
   {
    "duration": 130,
    "start_time": "2022-07-19T16:46:31.812Z"
   },
   {
    "duration": 48,
    "start_time": "2022-07-19T16:47:38.835Z"
   },
   {
    "duration": 184,
    "start_time": "2022-07-19T16:58:38.230Z"
   },
   {
    "duration": 216,
    "start_time": "2022-07-19T17:16:47.757Z"
   },
   {
    "duration": 31,
    "start_time": "2022-07-19T17:25:05.294Z"
   },
   {
    "duration": 30,
    "start_time": "2022-07-19T17:25:20.074Z"
   },
   {
    "duration": 25,
    "start_time": "2022-07-19T18:14:57.324Z"
   },
   {
    "duration": 44,
    "start_time": "2022-07-19T18:18:11.940Z"
   },
   {
    "duration": 37,
    "start_time": "2022-07-19T18:19:51.585Z"
   },
   {
    "duration": 351,
    "start_time": "2022-07-19T18:23:08.083Z"
   },
   {
    "duration": 320,
    "start_time": "2022-07-19T18:24:08.847Z"
   },
   {
    "duration": 173,
    "start_time": "2022-07-19T18:25:35.444Z"
   },
   {
    "duration": 183,
    "start_time": "2022-07-19T18:26:07.485Z"
   },
   {
    "duration": 1354,
    "start_time": "2022-07-20T10:21:30.797Z"
   },
   {
    "duration": 994,
    "start_time": "2022-07-20T10:21:32.153Z"
   },
   {
    "duration": 16,
    "start_time": "2022-07-20T10:21:33.148Z"
   },
   {
    "duration": 74,
    "start_time": "2022-07-20T10:21:33.166Z"
   },
   {
    "duration": 10,
    "start_time": "2022-07-20T10:21:33.241Z"
   },
   {
    "duration": 6,
    "start_time": "2022-07-20T10:21:33.253Z"
   },
   {
    "duration": 7,
    "start_time": "2022-07-20T10:21:33.261Z"
   },
   {
    "duration": 5,
    "start_time": "2022-07-20T10:21:33.269Z"
   },
   {
    "duration": 9,
    "start_time": "2022-07-20T10:21:33.275Z"
   },
   {
    "duration": 7,
    "start_time": "2022-07-20T10:21:33.286Z"
   },
   {
    "duration": 27,
    "start_time": "2022-07-20T10:21:33.294Z"
   },
   {
    "duration": 3,
    "start_time": "2022-07-20T10:21:33.322Z"
   },
   {
    "duration": 16,
    "start_time": "2022-07-20T10:21:33.327Z"
   },
   {
    "duration": 10,
    "start_time": "2022-07-20T10:21:33.344Z"
   },
   {
    "duration": 9,
    "start_time": "2022-07-20T10:21:33.355Z"
   },
   {
    "duration": 12,
    "start_time": "2022-07-20T10:21:33.366Z"
   },
   {
    "duration": 68,
    "start_time": "2022-07-20T10:21:33.379Z"
   },
   {
    "duration": 21,
    "start_time": "2022-07-20T10:21:33.448Z"
   },
   {
    "duration": 44,
    "start_time": "2022-07-20T10:21:33.471Z"
   },
   {
    "duration": 36,
    "start_time": "2022-07-20T10:21:33.516Z"
   },
   {
    "duration": 11,
    "start_time": "2022-07-20T10:21:33.553Z"
   },
   {
    "duration": 58,
    "start_time": "2022-07-20T10:21:33.566Z"
   },
   {
    "duration": 666,
    "start_time": "2022-07-20T10:21:33.625Z"
   },
   {
    "duration": 22,
    "start_time": "2022-07-20T10:21:34.292Z"
   },
   {
    "duration": 11,
    "start_time": "2022-07-20T10:21:34.315Z"
   },
   {
    "duration": 6,
    "start_time": "2022-07-20T10:21:34.327Z"
   },
   {
    "duration": 92,
    "start_time": "2022-07-20T10:21:34.334Z"
   },
   {
    "duration": 4,
    "start_time": "2022-07-20T10:21:34.429Z"
   },
   {
    "duration": 43,
    "start_time": "2022-07-20T10:21:34.434Z"
   },
   {
    "duration": 676,
    "start_time": "2022-07-20T10:21:34.479Z"
   },
   {
    "duration": 0,
    "start_time": "2022-07-20T10:21:35.156Z"
   },
   {
    "duration": 668,
    "start_time": "2022-07-20T10:22:21.366Z"
   },
   {
    "duration": 579,
    "start_time": "2022-07-20T10:22:40.889Z"
   },
   {
    "duration": 308,
    "start_time": "2022-07-20T10:24:28.665Z"
   },
   {
    "duration": 299,
    "start_time": "2022-07-20T10:30:31.997Z"
   },
   {
    "duration": 175,
    "start_time": "2022-07-20T10:33:11.537Z"
   },
   {
    "duration": 253,
    "start_time": "2022-07-20T10:33:18.607Z"
   },
   {
    "duration": 339,
    "start_time": "2022-07-20T10:50:27.253Z"
   },
   {
    "duration": 449,
    "start_time": "2022-07-20T10:50:57.384Z"
   },
   {
    "duration": 508,
    "start_time": "2022-07-20T10:59:45.924Z"
   },
   {
    "duration": 541,
    "start_time": "2022-07-20T11:02:27.447Z"
   },
   {
    "duration": 291,
    "start_time": "2022-07-20T11:12:08.235Z"
   },
   {
    "duration": 171,
    "start_time": "2022-07-20T11:14:23.231Z"
   },
   {
    "duration": 149,
    "start_time": "2022-07-20T11:14:42.597Z"
   },
   {
    "duration": 159,
    "start_time": "2022-07-20T11:14:50.009Z"
   },
   {
    "duration": 300,
    "start_time": "2022-07-20T11:19:40.229Z"
   },
   {
    "duration": 48,
    "start_time": "2022-07-20T11:33:05.365Z"
   },
   {
    "duration": 33,
    "start_time": "2022-07-20T11:34:10.290Z"
   },
   {
    "duration": 55,
    "start_time": "2022-07-20T11:35:07.546Z"
   },
   {
    "duration": 305,
    "start_time": "2022-07-20T11:53:22.105Z"
   },
   {
    "duration": 178,
    "start_time": "2022-07-20T12:51:35.783Z"
   },
   {
    "duration": 5,
    "start_time": "2022-07-20T12:51:54.733Z"
   },
   {
    "duration": 2659,
    "start_time": "2022-07-20T13:15:48.491Z"
   },
   {
    "duration": 1115,
    "start_time": "2022-07-20T13:16:06.133Z"
   },
   {
    "duration": 214,
    "start_time": "2022-07-20T13:16:07.250Z"
   },
   {
    "duration": 21,
    "start_time": "2022-07-20T13:16:07.466Z"
   },
   {
    "duration": 84,
    "start_time": "2022-07-20T13:16:07.489Z"
   },
   {
    "duration": 11,
    "start_time": "2022-07-20T13:16:07.574Z"
   },
   {
    "duration": 16,
    "start_time": "2022-07-20T13:16:07.587Z"
   },
   {
    "duration": 10,
    "start_time": "2022-07-20T13:16:07.605Z"
   },
   {
    "duration": 10,
    "start_time": "2022-07-20T13:16:07.616Z"
   },
   {
    "duration": 10,
    "start_time": "2022-07-20T13:16:07.628Z"
   },
   {
    "duration": 12,
    "start_time": "2022-07-20T13:16:07.641Z"
   },
   {
    "duration": 43,
    "start_time": "2022-07-20T13:16:07.655Z"
   },
   {
    "duration": 11,
    "start_time": "2022-07-20T13:16:07.700Z"
   },
   {
    "duration": 17,
    "start_time": "2022-07-20T13:16:07.714Z"
   },
   {
    "duration": 10,
    "start_time": "2022-07-20T13:16:07.732Z"
   },
   {
    "duration": 19,
    "start_time": "2022-07-20T13:16:07.743Z"
   },
   {
    "duration": 34,
    "start_time": "2022-07-20T13:16:07.764Z"
   },
   {
    "duration": 45,
    "start_time": "2022-07-20T13:16:07.800Z"
   },
   {
    "duration": 20,
    "start_time": "2022-07-20T13:16:07.846Z"
   },
   {
    "duration": 50,
    "start_time": "2022-07-20T13:16:07.868Z"
   },
   {
    "duration": 36,
    "start_time": "2022-07-20T13:16:07.920Z"
   },
   {
    "duration": 10,
    "start_time": "2022-07-20T13:16:07.958Z"
   },
   {
    "duration": 58,
    "start_time": "2022-07-20T13:16:07.970Z"
   },
   {
    "duration": 652,
    "start_time": "2022-07-20T13:16:08.029Z"
   },
   {
    "duration": 25,
    "start_time": "2022-07-20T13:16:08.683Z"
   },
   {
    "duration": 2060,
    "start_time": "2022-07-20T13:16:08.710Z"
   },
   {
    "duration": 0,
    "start_time": "2022-07-20T13:16:10.771Z"
   },
   {
    "duration": 0,
    "start_time": "2022-07-20T13:16:10.773Z"
   },
   {
    "duration": 0,
    "start_time": "2022-07-20T13:16:10.774Z"
   },
   {
    "duration": 0,
    "start_time": "2022-07-20T13:16:10.775Z"
   },
   {
    "duration": 0,
    "start_time": "2022-07-20T13:16:10.776Z"
   },
   {
    "duration": 0,
    "start_time": "2022-07-20T13:16:10.777Z"
   },
   {
    "duration": 0,
    "start_time": "2022-07-20T13:16:10.779Z"
   },
   {
    "duration": 3,
    "start_time": "2022-07-20T13:17:31.606Z"
   },
   {
    "duration": 15,
    "start_time": "2022-07-20T13:17:34.308Z"
   },
   {
    "duration": 1125,
    "start_time": "2022-07-20T13:18:20.620Z"
   },
   {
    "duration": 203,
    "start_time": "2022-07-20T13:18:21.747Z"
   },
   {
    "duration": 15,
    "start_time": "2022-07-20T13:18:21.955Z"
   },
   {
    "duration": 66,
    "start_time": "2022-07-20T13:18:21.972Z"
   },
   {
    "duration": 8,
    "start_time": "2022-07-20T13:18:22.039Z"
   },
   {
    "duration": 3,
    "start_time": "2022-07-20T13:18:22.049Z"
   },
   {
    "duration": 6,
    "start_time": "2022-07-20T13:18:22.054Z"
   },
   {
    "duration": 8,
    "start_time": "2022-07-20T13:18:22.061Z"
   },
   {
    "duration": 6,
    "start_time": "2022-07-20T13:18:22.072Z"
   },
   {
    "duration": 8,
    "start_time": "2022-07-20T13:18:22.079Z"
   },
   {
    "duration": 24,
    "start_time": "2022-07-20T13:18:22.088Z"
   },
   {
    "duration": 3,
    "start_time": "2022-07-20T13:18:22.114Z"
   },
   {
    "duration": 15,
    "start_time": "2022-07-20T13:18:22.118Z"
   },
   {
    "duration": 9,
    "start_time": "2022-07-20T13:18:22.134Z"
   },
   {
    "duration": 6,
    "start_time": "2022-07-20T13:18:22.145Z"
   },
   {
    "duration": 10,
    "start_time": "2022-07-20T13:18:22.152Z"
   },
   {
    "duration": 62,
    "start_time": "2022-07-20T13:18:22.164Z"
   },
   {
    "duration": 21,
    "start_time": "2022-07-20T13:18:22.228Z"
   },
   {
    "duration": 54,
    "start_time": "2022-07-20T13:18:22.251Z"
   },
   {
    "duration": 37,
    "start_time": "2022-07-20T13:18:22.307Z"
   },
   {
    "duration": 9,
    "start_time": "2022-07-20T13:18:22.345Z"
   },
   {
    "duration": 2518,
    "start_time": "2022-07-20T13:18:22.356Z"
   },
   {
    "duration": 0,
    "start_time": "2022-07-20T13:18:24.876Z"
   },
   {
    "duration": 0,
    "start_time": "2022-07-20T13:18:24.878Z"
   },
   {
    "duration": 0,
    "start_time": "2022-07-20T13:18:24.879Z"
   },
   {
    "duration": 0,
    "start_time": "2022-07-20T13:18:24.880Z"
   },
   {
    "duration": 0,
    "start_time": "2022-07-20T13:18:24.882Z"
   },
   {
    "duration": 0,
    "start_time": "2022-07-20T13:18:24.883Z"
   },
   {
    "duration": 0,
    "start_time": "2022-07-20T13:18:24.884Z"
   },
   {
    "duration": 0,
    "start_time": "2022-07-20T13:18:24.885Z"
   },
   {
    "duration": 0,
    "start_time": "2022-07-20T13:18:24.886Z"
   },
   {
    "duration": 0,
    "start_time": "2022-07-20T13:18:24.888Z"
   },
   {
    "duration": 19,
    "start_time": "2022-07-20T13:20:01.613Z"
   },
   {
    "duration": 1196,
    "start_time": "2022-07-20T13:20:32.760Z"
   },
   {
    "duration": 197,
    "start_time": "2022-07-20T13:20:33.958Z"
   },
   {
    "duration": 17,
    "start_time": "2022-07-20T13:20:34.157Z"
   },
   {
    "duration": 89,
    "start_time": "2022-07-20T13:20:34.175Z"
   },
   {
    "duration": 9,
    "start_time": "2022-07-20T13:20:34.265Z"
   },
   {
    "duration": 9,
    "start_time": "2022-07-20T13:20:34.275Z"
   },
   {
    "duration": 9,
    "start_time": "2022-07-20T13:20:34.286Z"
   },
   {
    "duration": 8,
    "start_time": "2022-07-20T13:20:34.296Z"
   },
   {
    "duration": 7,
    "start_time": "2022-07-20T13:20:34.305Z"
   },
   {
    "duration": 7,
    "start_time": "2022-07-20T13:20:34.313Z"
   },
   {
    "duration": 23,
    "start_time": "2022-07-20T13:20:34.322Z"
   },
   {
    "duration": 3,
    "start_time": "2022-07-20T13:20:34.347Z"
   },
   {
    "duration": 15,
    "start_time": "2022-07-20T13:20:34.352Z"
   },
   {
    "duration": 32,
    "start_time": "2022-07-20T13:20:34.370Z"
   },
   {
    "duration": 5,
    "start_time": "2022-07-20T13:20:34.404Z"
   },
   {
    "duration": 18,
    "start_time": "2022-07-20T13:20:34.410Z"
   },
   {
    "duration": 53,
    "start_time": "2022-07-20T13:20:34.430Z"
   },
   {
    "duration": 35,
    "start_time": "2022-07-20T13:20:34.484Z"
   },
   {
    "duration": 34,
    "start_time": "2022-07-20T13:20:34.521Z"
   },
   {
    "duration": 50,
    "start_time": "2022-07-20T13:20:34.557Z"
   },
   {
    "duration": 11,
    "start_time": "2022-07-20T13:20:34.609Z"
   },
   {
    "duration": 32,
    "start_time": "2022-07-20T13:20:34.622Z"
   },
   {
    "duration": 46,
    "start_time": "2022-07-20T13:20:34.656Z"
   },
   {
    "duration": 712,
    "start_time": "2022-07-20T13:20:34.703Z"
   },
   {
    "duration": 18,
    "start_time": "2022-07-20T13:20:35.416Z"
   },
   {
    "duration": 67,
    "start_time": "2022-07-20T13:20:35.435Z"
   },
   {
    "duration": 7,
    "start_time": "2022-07-20T13:20:35.504Z"
   },
   {
    "duration": 194,
    "start_time": "2022-07-20T13:20:35.513Z"
   },
   {
    "duration": 4,
    "start_time": "2022-07-20T13:20:35.709Z"
   },
   {
    "duration": 218,
    "start_time": "2022-07-20T13:20:35.715Z"
   },
   {
    "duration": 0,
    "start_time": "2022-07-20T13:20:35.934Z"
   },
   {
    "duration": 0,
    "start_time": "2022-07-20T13:20:35.936Z"
   },
   {
    "duration": 391,
    "start_time": "2022-07-20T13:22:06.296Z"
   },
   {
    "duration": 394,
    "start_time": "2022-07-20T13:22:30.270Z"
   },
   {
    "duration": 707,
    "start_time": "2022-07-20T13:26:56.334Z"
   },
   {
    "duration": 466,
    "start_time": "2022-07-20T13:33:36.724Z"
   },
   {
    "duration": 533,
    "start_time": "2022-07-20T13:34:10.414Z"
   },
   {
    "duration": 497,
    "start_time": "2022-07-20T13:34:37.175Z"
   },
   {
    "duration": 5,
    "start_time": "2022-07-20T13:36:59.920Z"
   },
   {
    "duration": 78,
    "start_time": "2022-07-20T13:37:07.889Z"
   },
   {
    "duration": 463,
    "start_time": "2022-07-20T13:37:25.680Z"
   },
   {
    "duration": 454,
    "start_time": "2022-07-20T13:39:02.367Z"
   },
   {
    "duration": 496,
    "start_time": "2022-07-20T13:40:06.973Z"
   },
   {
    "duration": 456,
    "start_time": "2022-07-20T13:41:33.329Z"
   },
   {
    "duration": 616,
    "start_time": "2022-07-20T13:42:06.882Z"
   },
   {
    "duration": 1121,
    "start_time": "2022-07-20T13:46:25.765Z"
   },
   {
    "duration": 210,
    "start_time": "2022-07-20T13:46:26.888Z"
   },
   {
    "duration": 15,
    "start_time": "2022-07-20T13:46:27.100Z"
   },
   {
    "duration": 123,
    "start_time": "2022-07-20T13:46:27.116Z"
   },
   {
    "duration": 10,
    "start_time": "2022-07-20T13:46:27.241Z"
   },
   {
    "duration": 7,
    "start_time": "2022-07-20T13:46:27.252Z"
   },
   {
    "duration": 6,
    "start_time": "2022-07-20T13:46:27.261Z"
   },
   {
    "duration": 4,
    "start_time": "2022-07-20T13:46:27.269Z"
   },
   {
    "duration": 12,
    "start_time": "2022-07-20T13:46:27.274Z"
   },
   {
    "duration": 13,
    "start_time": "2022-07-20T13:46:27.287Z"
   },
   {
    "duration": 27,
    "start_time": "2022-07-20T13:46:27.301Z"
   },
   {
    "duration": 14,
    "start_time": "2022-07-20T13:46:27.331Z"
   },
   {
    "duration": 24,
    "start_time": "2022-07-20T13:46:27.347Z"
   },
   {
    "duration": 12,
    "start_time": "2022-07-20T13:46:27.375Z"
   },
   {
    "duration": 18,
    "start_time": "2022-07-20T13:46:27.389Z"
   },
   {
    "duration": 23,
    "start_time": "2022-07-20T13:46:27.409Z"
   },
   {
    "duration": 56,
    "start_time": "2022-07-20T13:46:27.434Z"
   },
   {
    "duration": 30,
    "start_time": "2022-07-20T13:46:27.492Z"
   },
   {
    "duration": 44,
    "start_time": "2022-07-20T13:46:27.524Z"
   },
   {
    "duration": 57,
    "start_time": "2022-07-20T13:46:27.571Z"
   },
   {
    "duration": 13,
    "start_time": "2022-07-20T13:46:27.630Z"
   },
   {
    "duration": 18,
    "start_time": "2022-07-20T13:46:27.644Z"
   },
   {
    "duration": 63,
    "start_time": "2022-07-20T13:46:27.664Z"
   },
   {
    "duration": 698,
    "start_time": "2022-07-20T13:46:27.728Z"
   },
   {
    "duration": 17,
    "start_time": "2022-07-20T13:46:28.428Z"
   },
   {
    "duration": 12,
    "start_time": "2022-07-20T13:46:28.447Z"
   },
   {
    "duration": 5,
    "start_time": "2022-07-20T13:46:28.461Z"
   },
   {
    "duration": 91,
    "start_time": "2022-07-20T13:46:28.468Z"
   },
   {
    "duration": 5,
    "start_time": "2022-07-20T13:46:28.561Z"
   },
   {
    "duration": 157,
    "start_time": "2022-07-20T13:46:28.567Z"
   },
   {
    "duration": 0,
    "start_time": "2022-07-20T13:46:28.726Z"
   },
   {
    "duration": 0,
    "start_time": "2022-07-20T13:46:28.727Z"
   },
   {
    "duration": 0,
    "start_time": "2022-07-20T13:46:28.728Z"
   },
   {
    "duration": 447,
    "start_time": "2022-07-20T13:46:52.305Z"
   },
   {
    "duration": 215,
    "start_time": "2022-07-20T13:49:06.148Z"
   },
   {
    "duration": 247,
    "start_time": "2022-07-20T13:49:20.782Z"
   },
   {
    "duration": 483,
    "start_time": "2022-07-20T13:59:27.605Z"
   },
   {
    "duration": 261,
    "start_time": "2022-07-20T14:24:16.411Z"
   },
   {
    "duration": 4,
    "start_time": "2022-07-20T14:47:31.610Z"
   },
   {
    "duration": 4,
    "start_time": "2022-07-20T14:47:59.897Z"
   },
   {
    "duration": 167,
    "start_time": "2022-07-20T15:10:21.620Z"
   },
   {
    "duration": 41,
    "start_time": "2022-07-20T15:10:28.491Z"
   },
   {
    "duration": 23,
    "start_time": "2022-07-20T15:11:05.261Z"
   },
   {
    "duration": 11,
    "start_time": "2022-07-20T15:12:32.371Z"
   },
   {
    "duration": 10,
    "start_time": "2022-07-20T15:13:08.963Z"
   },
   {
    "duration": 4,
    "start_time": "2022-07-20T15:14:32.699Z"
   },
   {
    "duration": 20,
    "start_time": "2022-07-20T15:14:37.889Z"
   },
   {
    "duration": 16,
    "start_time": "2022-07-20T15:17:27.258Z"
   },
   {
    "duration": 24,
    "start_time": "2022-07-20T15:19:05.759Z"
   },
   {
    "duration": 4315,
    "start_time": "2022-07-20T15:20:15.974Z"
   },
   {
    "duration": 1461,
    "start_time": "2022-07-20T15:21:44.898Z"
   },
   {
    "duration": 1254,
    "start_time": "2022-07-20T15:22:50.300Z"
   },
   {
    "duration": 1237,
    "start_time": "2022-07-20T15:23:08.977Z"
   },
   {
    "duration": 1251,
    "start_time": "2022-07-20T15:23:16.265Z"
   },
   {
    "duration": 1287,
    "start_time": "2022-07-20T15:23:54.420Z"
   },
   {
    "duration": 14,
    "start_time": "2022-07-20T15:25:10.058Z"
   },
   {
    "duration": 420,
    "start_time": "2022-07-20T15:25:30.775Z"
   },
   {
    "duration": 18,
    "start_time": "2022-07-20T15:25:41.368Z"
   },
   {
    "duration": 19,
    "start_time": "2022-07-20T15:26:03.053Z"
   },
   {
    "duration": 20,
    "start_time": "2022-07-20T15:26:11.174Z"
   },
   {
    "duration": 1179,
    "start_time": "2022-07-20T15:26:21.628Z"
   },
   {
    "duration": 525,
    "start_time": "2022-07-20T15:26:22.809Z"
   },
   {
    "duration": 17,
    "start_time": "2022-07-20T15:26:23.336Z"
   },
   {
    "duration": 94,
    "start_time": "2022-07-20T15:26:23.355Z"
   },
   {
    "duration": 10,
    "start_time": "2022-07-20T15:26:23.451Z"
   },
   {
    "duration": 9,
    "start_time": "2022-07-20T15:26:23.463Z"
   },
   {
    "duration": 7,
    "start_time": "2022-07-20T15:26:23.474Z"
   },
   {
    "duration": 14,
    "start_time": "2022-07-20T15:26:23.483Z"
   },
   {
    "duration": 5,
    "start_time": "2022-07-20T15:26:23.499Z"
   },
   {
    "duration": 6,
    "start_time": "2022-07-20T15:26:23.508Z"
   },
   {
    "duration": 30,
    "start_time": "2022-07-20T15:26:23.516Z"
   },
   {
    "duration": 3,
    "start_time": "2022-07-20T15:26:23.548Z"
   },
   {
    "duration": 16,
    "start_time": "2022-07-20T15:26:23.552Z"
   },
   {
    "duration": 35,
    "start_time": "2022-07-20T15:26:23.569Z"
   },
   {
    "duration": 8,
    "start_time": "2022-07-20T15:26:23.606Z"
   },
   {
    "duration": 14,
    "start_time": "2022-07-20T15:26:23.616Z"
   },
   {
    "duration": 72,
    "start_time": "2022-07-20T15:26:23.632Z"
   },
   {
    "duration": 22,
    "start_time": "2022-07-20T15:26:23.706Z"
   },
   {
    "duration": 37,
    "start_time": "2022-07-20T15:26:23.730Z"
   },
   {
    "duration": 60,
    "start_time": "2022-07-20T15:26:23.769Z"
   },
   {
    "duration": 17,
    "start_time": "2022-07-20T15:26:23.831Z"
   },
   {
    "duration": 25,
    "start_time": "2022-07-20T15:26:23.851Z"
   },
   {
    "duration": 61,
    "start_time": "2022-07-20T15:26:23.878Z"
   },
   {
    "duration": 710,
    "start_time": "2022-07-20T15:26:23.940Z"
   },
   {
    "duration": 17,
    "start_time": "2022-07-20T15:26:24.652Z"
   },
   {
    "duration": 12,
    "start_time": "2022-07-20T15:26:24.671Z"
   },
   {
    "duration": 21,
    "start_time": "2022-07-20T15:26:24.685Z"
   },
   {
    "duration": 107,
    "start_time": "2022-07-20T15:26:24.711Z"
   },
   {
    "duration": 4,
    "start_time": "2022-07-20T15:26:24.820Z"
   },
   {
    "duration": 502,
    "start_time": "2022-07-20T15:26:24.826Z"
   },
   {
    "duration": 244,
    "start_time": "2022-07-20T15:26:25.330Z"
   },
   {
    "duration": 5,
    "start_time": "2022-07-20T15:26:25.575Z"
   },
   {
    "duration": 30,
    "start_time": "2022-07-20T15:26:25.582Z"
   },
   {
    "duration": 1677,
    "start_time": "2022-07-20T15:26:25.614Z"
   },
   {
    "duration": 0,
    "start_time": "2022-07-20T15:26:27.293Z"
   },
   {
    "duration": 20,
    "start_time": "2022-07-20T15:26:41.816Z"
   },
   {
    "duration": 13,
    "start_time": "2022-07-20T15:26:58.870Z"
   },
   {
    "duration": 10,
    "start_time": "2022-07-20T15:27:15.792Z"
   },
   {
    "duration": 4,
    "start_time": "2022-07-20T15:27:33.793Z"
   },
   {
    "duration": 9,
    "start_time": "2022-07-20T15:27:44.896Z"
   },
   {
    "duration": 13,
    "start_time": "2022-07-20T15:30:54.530Z"
   },
   {
    "duration": 11,
    "start_time": "2022-07-20T15:32:42.778Z"
   },
   {
    "duration": 14,
    "start_time": "2022-07-20T15:43:13.522Z"
   },
   {
    "duration": 11,
    "start_time": "2022-07-20T15:43:24.382Z"
   },
   {
    "duration": 17,
    "start_time": "2022-07-20T15:43:57.956Z"
   },
   {
    "duration": 5,
    "start_time": "2022-07-20T15:44:54.252Z"
   },
   {
    "duration": 14,
    "start_time": "2022-07-20T15:44:58.584Z"
   },
   {
    "duration": 10,
    "start_time": "2022-07-20T15:45:42.401Z"
   },
   {
    "duration": 6,
    "start_time": "2022-07-20T15:46:07.069Z"
   },
   {
    "duration": 15,
    "start_time": "2022-07-20T15:47:23.426Z"
   },
   {
    "duration": 1487,
    "start_time": "2022-07-20T15:48:57.881Z"
   },
   {
    "duration": 7,
    "start_time": "2022-07-20T15:49:00.148Z"
   },
   {
    "duration": 13,
    "start_time": "2022-07-20T15:49:02.321Z"
   },
   {
    "duration": 17,
    "start_time": "2022-07-20T15:49:33.668Z"
   },
   {
    "duration": 14,
    "start_time": "2022-07-20T15:50:37.506Z"
   },
   {
    "duration": 12,
    "start_time": "2022-07-20T15:53:58.364Z"
   },
   {
    "duration": 31,
    "start_time": "2022-07-20T15:56:33.477Z"
   },
   {
    "duration": 1437,
    "start_time": "2022-07-20T15:57:16.162Z"
   },
   {
    "duration": 12,
    "start_time": "2022-07-20T15:58:29.161Z"
   },
   {
    "duration": 10,
    "start_time": "2022-07-20T15:58:35.302Z"
   },
   {
    "duration": 23,
    "start_time": "2022-07-20T15:58:43.298Z"
   },
   {
    "duration": 30,
    "start_time": "2022-07-20T15:59:58.946Z"
   },
   {
    "duration": 16,
    "start_time": "2022-07-20T16:00:38.264Z"
   },
   {
    "duration": 22,
    "start_time": "2022-07-20T16:01:16.752Z"
   },
   {
    "duration": 46,
    "start_time": "2022-07-20T16:01:26.655Z"
   },
   {
    "duration": 6,
    "start_time": "2022-07-20T16:01:41.754Z"
   },
   {
    "duration": 13,
    "start_time": "2022-07-20T16:01:45.199Z"
   },
   {
    "duration": 21,
    "start_time": "2022-07-20T16:02:18.068Z"
   },
   {
    "duration": 89,
    "start_time": "2022-07-20T16:07:29.064Z"
   },
   {
    "duration": 15,
    "start_time": "2022-07-20T16:07:34.873Z"
   },
   {
    "duration": 17,
    "start_time": "2022-07-20T16:08:11.490Z"
   },
   {
    "duration": 1464,
    "start_time": "2022-07-20T16:18:25.524Z"
   },
   {
    "duration": 1221,
    "start_time": "2022-07-20T16:19:33.696Z"
   },
   {
    "duration": 231,
    "start_time": "2022-07-20T16:19:34.919Z"
   },
   {
    "duration": 18,
    "start_time": "2022-07-20T16:19:35.155Z"
   },
   {
    "duration": 74,
    "start_time": "2022-07-20T16:19:35.174Z"
   },
   {
    "duration": 10,
    "start_time": "2022-07-20T16:19:35.250Z"
   },
   {
    "duration": 11,
    "start_time": "2022-07-20T16:19:35.261Z"
   },
   {
    "duration": 14,
    "start_time": "2022-07-20T16:19:35.274Z"
   },
   {
    "duration": 6,
    "start_time": "2022-07-20T16:19:35.290Z"
   },
   {
    "duration": 11,
    "start_time": "2022-07-20T16:19:35.299Z"
   },
   {
    "duration": 9,
    "start_time": "2022-07-20T16:19:35.312Z"
   },
   {
    "duration": 40,
    "start_time": "2022-07-20T16:19:35.323Z"
   },
   {
    "duration": 4,
    "start_time": "2022-07-20T16:19:35.366Z"
   },
   {
    "duration": 33,
    "start_time": "2022-07-20T16:19:35.372Z"
   },
   {
    "duration": 16,
    "start_time": "2022-07-20T16:19:35.408Z"
   },
   {
    "duration": 9,
    "start_time": "2022-07-20T16:19:35.426Z"
   },
   {
    "duration": 13,
    "start_time": "2022-07-20T16:19:35.438Z"
   },
   {
    "duration": 98,
    "start_time": "2022-07-20T16:19:35.453Z"
   },
   {
    "duration": 22,
    "start_time": "2022-07-20T16:19:35.552Z"
   },
   {
    "duration": 57,
    "start_time": "2022-07-20T16:19:35.576Z"
   },
   {
    "duration": 37,
    "start_time": "2022-07-20T16:19:35.635Z"
   },
   {
    "duration": 10,
    "start_time": "2022-07-20T16:19:35.674Z"
   },
   {
    "duration": 19,
    "start_time": "2022-07-20T16:19:35.703Z"
   },
   {
    "duration": 38,
    "start_time": "2022-07-20T16:19:35.724Z"
   },
   {
    "duration": 715,
    "start_time": "2022-07-20T16:19:35.764Z"
   },
   {
    "duration": 28,
    "start_time": "2022-07-20T16:19:36.480Z"
   },
   {
    "duration": 12,
    "start_time": "2022-07-20T16:19:36.510Z"
   },
   {
    "duration": 7,
    "start_time": "2022-07-20T16:19:36.525Z"
   },
   {
    "duration": 84,
    "start_time": "2022-07-20T16:19:36.534Z"
   },
   {
    "duration": 5,
    "start_time": "2022-07-20T16:19:36.619Z"
   },
   {
    "duration": 465,
    "start_time": "2022-07-20T16:19:36.625Z"
   },
   {
    "duration": 241,
    "start_time": "2022-07-20T16:19:37.092Z"
   },
   {
    "duration": 5,
    "start_time": "2022-07-20T16:19:37.335Z"
   },
   {
    "duration": 38,
    "start_time": "2022-07-20T16:19:37.341Z"
   },
   {
    "duration": 5,
    "start_time": "2022-07-20T16:19:37.382Z"
   },
   {
    "duration": 21,
    "start_time": "2022-07-20T16:19:37.401Z"
   },
   {
    "duration": 134,
    "start_time": "2022-07-20T16:19:37.424Z"
   },
   {
    "duration": 0,
    "start_time": "2022-07-20T16:19:37.560Z"
   },
   {
    "duration": 1210,
    "start_time": "2022-07-20T16:20:36.456Z"
   },
   {
    "duration": 260,
    "start_time": "2022-07-20T16:20:37.668Z"
   },
   {
    "duration": 17,
    "start_time": "2022-07-20T16:20:37.930Z"
   },
   {
    "duration": 62,
    "start_time": "2022-07-20T16:20:37.949Z"
   },
   {
    "duration": 11,
    "start_time": "2022-07-20T16:20:38.014Z"
   },
   {
    "duration": 7,
    "start_time": "2022-07-20T16:20:38.027Z"
   },
   {
    "duration": 9,
    "start_time": "2022-07-20T16:20:38.035Z"
   },
   {
    "duration": 7,
    "start_time": "2022-07-20T16:20:38.046Z"
   },
   {
    "duration": 12,
    "start_time": "2022-07-20T16:20:38.054Z"
   },
   {
    "duration": 7,
    "start_time": "2022-07-20T16:20:38.068Z"
   },
   {
    "duration": 34,
    "start_time": "2022-07-20T16:20:38.076Z"
   },
   {
    "duration": 4,
    "start_time": "2022-07-20T16:20:38.112Z"
   },
   {
    "duration": 16,
    "start_time": "2022-07-20T16:20:38.117Z"
   },
   {
    "duration": 9,
    "start_time": "2022-07-20T16:20:38.137Z"
   },
   {
    "duration": 10,
    "start_time": "2022-07-20T16:20:38.148Z"
   },
   {
    "duration": 13,
    "start_time": "2022-07-20T16:20:38.159Z"
   },
   {
    "duration": 67,
    "start_time": "2022-07-20T16:20:38.174Z"
   },
   {
    "duration": 22,
    "start_time": "2022-07-20T16:20:38.242Z"
   },
   {
    "duration": 53,
    "start_time": "2022-07-20T16:20:38.265Z"
   },
   {
    "duration": 37,
    "start_time": "2022-07-20T16:20:38.319Z"
   },
   {
    "duration": 11,
    "start_time": "2022-07-20T16:20:38.358Z"
   },
   {
    "duration": 44,
    "start_time": "2022-07-20T16:20:38.370Z"
   },
   {
    "duration": 39,
    "start_time": "2022-07-20T16:20:38.416Z"
   },
   {
    "duration": 747,
    "start_time": "2022-07-20T16:20:38.457Z"
   },
   {
    "duration": 16,
    "start_time": "2022-07-20T16:20:39.205Z"
   },
   {
    "duration": 11,
    "start_time": "2022-07-20T16:20:39.223Z"
   },
   {
    "duration": 5,
    "start_time": "2022-07-20T16:20:39.235Z"
   },
   {
    "duration": 94,
    "start_time": "2022-07-20T16:20:39.242Z"
   },
   {
    "duration": 5,
    "start_time": "2022-07-20T16:20:39.337Z"
   },
   {
    "duration": 453,
    "start_time": "2022-07-20T16:20:39.343Z"
   },
   {
    "duration": 241,
    "start_time": "2022-07-20T16:20:39.797Z"
   },
   {
    "duration": 5,
    "start_time": "2022-07-20T16:20:40.039Z"
   },
   {
    "duration": 29,
    "start_time": "2022-07-20T16:20:40.045Z"
   },
   {
    "duration": 5,
    "start_time": "2022-07-20T16:20:40.075Z"
   },
   {
    "duration": 29,
    "start_time": "2022-07-20T16:20:40.081Z"
   },
   {
    "duration": 15,
    "start_time": "2022-07-20T16:20:40.111Z"
   },
   {
    "duration": 78,
    "start_time": "2022-07-20T16:20:40.128Z"
   },
   {
    "duration": 13,
    "start_time": "2022-07-20T16:22:08.587Z"
   },
   {
    "duration": 15,
    "start_time": "2022-07-20T16:22:36.439Z"
   },
   {
    "duration": 17,
    "start_time": "2022-07-20T16:29:20.096Z"
   },
   {
    "duration": 24,
    "start_time": "2022-07-20T16:30:03.591Z"
   },
   {
    "duration": 17,
    "start_time": "2022-07-20T16:42:07.218Z"
   },
   {
    "duration": 82,
    "start_time": "2022-07-20T16:45:26.884Z"
   },
   {
    "duration": 80,
    "start_time": "2022-07-20T16:45:45.058Z"
   },
   {
    "duration": 20,
    "start_time": "2022-07-20T16:46:16.523Z"
   },
   {
    "duration": 16,
    "start_time": "2022-07-20T16:46:36.576Z"
   },
   {
    "duration": 32,
    "start_time": "2022-07-20T16:47:19.692Z"
   },
   {
    "duration": 14,
    "start_time": "2022-07-20T16:47:43.549Z"
   },
   {
    "duration": 17,
    "start_time": "2022-07-20T16:49:38.248Z"
   },
   {
    "duration": 17,
    "start_time": "2022-07-20T16:50:47.058Z"
   },
   {
    "duration": 26,
    "start_time": "2022-07-20T16:53:49.150Z"
   },
   {
    "duration": 28,
    "start_time": "2022-07-20T16:55:39.668Z"
   },
   {
    "duration": 246,
    "start_time": "2022-07-20T17:00:12.553Z"
   },
   {
    "duration": 413,
    "start_time": "2022-07-20T17:03:45.473Z"
   },
   {
    "duration": 503,
    "start_time": "2022-07-20T17:04:12.641Z"
   },
   {
    "duration": 220,
    "start_time": "2022-07-20T17:07:50.190Z"
   },
   {
    "duration": 242,
    "start_time": "2022-07-20T17:09:15.646Z"
   },
   {
    "duration": 482,
    "start_time": "2022-07-20T17:10:23.277Z"
   },
   {
    "duration": 477,
    "start_time": "2022-07-20T17:10:37.039Z"
   },
   {
    "duration": 2538,
    "start_time": "2022-07-20T17:10:50.211Z"
   },
   {
    "duration": 390,
    "start_time": "2022-07-20T17:11:02.762Z"
   },
   {
    "duration": 373,
    "start_time": "2022-07-20T17:11:18.245Z"
   },
   {
    "duration": 389,
    "start_time": "2022-07-20T17:20:00.133Z"
   },
   {
    "duration": 32,
    "start_time": "2022-07-20T17:29:32.056Z"
   },
   {
    "duration": 38,
    "start_time": "2022-07-20T17:29:39.751Z"
   },
   {
    "duration": 24,
    "start_time": "2022-07-20T17:32:02.983Z"
   },
   {
    "duration": 492,
    "start_time": "2022-07-20T17:33:01.335Z"
   },
   {
    "duration": 216,
    "start_time": "2022-07-20T17:38:02.878Z"
   },
   {
    "duration": 394,
    "start_time": "2022-07-20T17:39:59.150Z"
   },
   {
    "duration": 366,
    "start_time": "2022-07-20T17:43:22.025Z"
   },
   {
    "duration": 361,
    "start_time": "2022-07-20T17:43:58.934Z"
   },
   {
    "duration": 1236,
    "start_time": "2022-07-20T17:44:08.831Z"
   },
   {
    "duration": 3181,
    "start_time": "2022-07-20T17:44:10.069Z"
   },
   {
    "duration": 16,
    "start_time": "2022-07-20T17:44:13.251Z"
   },
   {
    "duration": 199,
    "start_time": "2022-07-20T17:44:13.269Z"
   },
   {
    "duration": 13,
    "start_time": "2022-07-20T17:44:13.471Z"
   },
   {
    "duration": 15,
    "start_time": "2022-07-20T17:44:13.486Z"
   },
   {
    "duration": 25,
    "start_time": "2022-07-20T17:44:13.505Z"
   },
   {
    "duration": 6,
    "start_time": "2022-07-20T17:44:13.532Z"
   },
   {
    "duration": 7,
    "start_time": "2022-07-20T17:44:13.539Z"
   },
   {
    "duration": 6,
    "start_time": "2022-07-20T17:44:13.548Z"
   },
   {
    "duration": 26,
    "start_time": "2022-07-20T17:44:13.555Z"
   },
   {
    "duration": 4,
    "start_time": "2022-07-20T17:44:13.582Z"
   },
   {
    "duration": 28,
    "start_time": "2022-07-20T17:44:13.588Z"
   },
   {
    "duration": 18,
    "start_time": "2022-07-20T17:44:13.618Z"
   },
   {
    "duration": 8,
    "start_time": "2022-07-20T17:44:13.638Z"
   },
   {
    "duration": 13,
    "start_time": "2022-07-20T17:44:13.648Z"
   },
   {
    "duration": 60,
    "start_time": "2022-07-20T17:44:13.662Z"
   },
   {
    "duration": 22,
    "start_time": "2022-07-20T17:44:13.724Z"
   },
   {
    "duration": 36,
    "start_time": "2022-07-20T17:44:13.747Z"
   },
   {
    "duration": 59,
    "start_time": "2022-07-20T17:44:13.784Z"
   },
   {
    "duration": 9,
    "start_time": "2022-07-20T17:44:13.845Z"
   },
   {
    "duration": 19,
    "start_time": "2022-07-20T17:44:13.856Z"
   },
   {
    "duration": 62,
    "start_time": "2022-07-20T17:44:13.876Z"
   },
   {
    "duration": 735,
    "start_time": "2022-07-20T17:44:13.940Z"
   },
   {
    "duration": 27,
    "start_time": "2022-07-20T17:44:14.676Z"
   },
   {
    "duration": 14,
    "start_time": "2022-07-20T17:44:14.717Z"
   },
   {
    "duration": 7,
    "start_time": "2022-07-20T17:44:14.733Z"
   },
   {
    "duration": 85,
    "start_time": "2022-07-20T17:44:14.743Z"
   },
   {
    "duration": 5,
    "start_time": "2022-07-20T17:44:14.830Z"
   },
   {
    "duration": 500,
    "start_time": "2022-07-20T17:44:14.837Z"
   },
   {
    "duration": 245,
    "start_time": "2022-07-20T17:44:15.339Z"
   },
   {
    "duration": 4,
    "start_time": "2022-07-20T17:44:15.586Z"
   },
   {
    "duration": 40,
    "start_time": "2022-07-20T17:44:15.602Z"
   },
   {
    "duration": 432,
    "start_time": "2022-07-20T17:44:15.644Z"
   },
   {
    "duration": 376,
    "start_time": "2022-07-20T17:44:16.078Z"
   },
   {
    "duration": 6,
    "start_time": "2022-07-20T17:44:16.456Z"
   },
   {
    "duration": 460,
    "start_time": "2022-07-20T17:44:38.287Z"
   },
   {
    "duration": 368,
    "start_time": "2022-07-20T17:45:16.464Z"
   },
   {
    "duration": 429,
    "start_time": "2022-07-20T17:45:38.346Z"
   },
   {
    "duration": 370,
    "start_time": "2022-07-20T17:45:46.553Z"
   },
   {
    "duration": 367,
    "start_time": "2022-07-20T17:46:42.184Z"
   },
   {
    "duration": 27,
    "start_time": "2022-07-20T17:47:35.926Z"
   },
   {
    "duration": 382,
    "start_time": "2022-07-20T17:47:40.932Z"
   },
   {
    "duration": 351,
    "start_time": "2022-07-20T17:50:55.721Z"
   },
   {
    "duration": 281,
    "start_time": "2022-07-20T17:52:35.368Z"
   },
   {
    "duration": 423,
    "start_time": "2022-07-20T17:59:37.771Z"
   },
   {
    "duration": 36,
    "start_time": "2022-07-20T18:06:13.606Z"
   },
   {
    "duration": 617,
    "start_time": "2022-07-20T18:57:49.930Z"
   },
   {
    "duration": 98,
    "start_time": "2022-07-20T19:05:05.858Z"
   },
   {
    "duration": 100,
    "start_time": "2022-07-20T19:07:49.572Z"
   },
   {
    "duration": 3,
    "start_time": "2022-07-20T19:47:30.131Z"
   },
   {
    "duration": 154,
    "start_time": "2022-07-20T19:47:46.799Z"
   },
   {
    "duration": 414,
    "start_time": "2022-07-20T19:48:45.151Z"
   },
   {
    "duration": 40,
    "start_time": "2022-07-20T19:48:50.346Z"
   },
   {
    "duration": 125,
    "start_time": "2022-07-20T19:58:53.721Z"
   },
   {
    "duration": 116,
    "start_time": "2022-07-20T19:59:07.543Z"
   },
   {
    "duration": 49,
    "start_time": "2022-07-21T06:35:12.357Z"
   },
   {
    "duration": 1910,
    "start_time": "2022-07-21T06:35:18.492Z"
   },
   {
    "duration": 534,
    "start_time": "2022-07-21T06:35:20.404Z"
   },
   {
    "duration": 24,
    "start_time": "2022-07-21T06:35:20.940Z"
   },
   {
    "duration": 45,
    "start_time": "2022-07-21T06:35:20.967Z"
   },
   {
    "duration": 11,
    "start_time": "2022-07-21T06:35:21.014Z"
   },
   {
    "duration": 11,
    "start_time": "2022-07-21T06:35:21.028Z"
   },
   {
    "duration": 20,
    "start_time": "2022-07-21T06:35:21.041Z"
   },
   {
    "duration": 4,
    "start_time": "2022-07-21T06:35:21.064Z"
   },
   {
    "duration": 10,
    "start_time": "2022-07-21T06:35:21.070Z"
   },
   {
    "duration": 5,
    "start_time": "2022-07-21T06:35:21.084Z"
   },
   {
    "duration": 47,
    "start_time": "2022-07-21T06:35:21.091Z"
   },
   {
    "duration": 4,
    "start_time": "2022-07-21T06:35:21.140Z"
   },
   {
    "duration": 35,
    "start_time": "2022-07-21T06:35:21.146Z"
   },
   {
    "duration": 16,
    "start_time": "2022-07-21T06:35:21.183Z"
   },
   {
    "duration": 11,
    "start_time": "2022-07-21T06:35:21.201Z"
   },
   {
    "duration": 24,
    "start_time": "2022-07-21T06:35:21.214Z"
   },
   {
    "duration": 67,
    "start_time": "2022-07-21T06:35:21.240Z"
   },
   {
    "duration": 34,
    "start_time": "2022-07-21T06:35:21.324Z"
   },
   {
    "duration": 35,
    "start_time": "2022-07-21T06:35:21.360Z"
   },
   {
    "duration": 68,
    "start_time": "2022-07-21T06:35:21.397Z"
   },
   {
    "duration": 12,
    "start_time": "2022-07-21T06:35:21.467Z"
   },
   {
    "duration": 17,
    "start_time": "2022-07-21T06:35:21.481Z"
   },
   {
    "duration": 71,
    "start_time": "2022-07-21T06:35:21.500Z"
   },
   {
    "duration": 1664,
    "start_time": "2022-07-21T06:35:21.573Z"
   },
   {
    "duration": 27,
    "start_time": "2022-07-21T06:35:23.239Z"
   },
   {
    "duration": 68,
    "start_time": "2022-07-21T06:35:23.268Z"
   },
   {
    "duration": 12,
    "start_time": "2022-07-21T06:35:23.339Z"
   },
   {
    "duration": 271,
    "start_time": "2022-07-21T06:35:23.355Z"
   },
   {
    "duration": 13,
    "start_time": "2022-07-21T06:35:23.628Z"
   },
   {
    "duration": 901,
    "start_time": "2022-07-21T06:35:23.643Z"
   },
   {
    "duration": 295,
    "start_time": "2022-07-21T06:35:24.547Z"
   },
   {
    "duration": 8,
    "start_time": "2022-07-21T06:35:24.844Z"
   },
   {
    "duration": 52,
    "start_time": "2022-07-21T06:35:24.855Z"
   },
   {
    "duration": 518,
    "start_time": "2022-07-21T06:35:24.909Z"
   },
   {
    "duration": 23,
    "start_time": "2022-07-21T06:35:25.430Z"
   },
   {
    "duration": 432,
    "start_time": "2022-07-21T06:35:25.455Z"
   },
   {
    "duration": 460,
    "start_time": "2022-07-21T06:35:25.889Z"
   },
   {
    "duration": 572,
    "start_time": "2022-07-21T06:35:26.351Z"
   },
   {
    "duration": 359,
    "start_time": "2022-07-21T06:35:26.925Z"
   },
   {
    "duration": 0,
    "start_time": "2022-07-21T06:35:27.286Z"
   },
   {
    "duration": 0,
    "start_time": "2022-07-21T06:35:27.287Z"
   },
   {
    "duration": 16,
    "start_time": "2022-07-21T07:35:56.265Z"
   },
   {
    "duration": 1636,
    "start_time": "2022-07-21T07:36:10.573Z"
   },
   {
    "duration": 234,
    "start_time": "2022-07-21T07:36:12.212Z"
   },
   {
    "duration": 20,
    "start_time": "2022-07-21T07:36:12.448Z"
   },
   {
    "duration": 84,
    "start_time": "2022-07-21T07:36:12.470Z"
   },
   {
    "duration": 10,
    "start_time": "2022-07-21T07:36:12.556Z"
   },
   {
    "duration": 19,
    "start_time": "2022-07-21T07:36:12.568Z"
   },
   {
    "duration": 11,
    "start_time": "2022-07-21T07:36:12.588Z"
   },
   {
    "duration": 7,
    "start_time": "2022-07-21T07:36:12.601Z"
   },
   {
    "duration": 22,
    "start_time": "2022-07-21T07:36:12.610Z"
   },
   {
    "duration": 19,
    "start_time": "2022-07-21T07:36:12.636Z"
   },
   {
    "duration": 27,
    "start_time": "2022-07-21T07:36:12.657Z"
   },
   {
    "duration": 4,
    "start_time": "2022-07-21T07:36:12.685Z"
   },
   {
    "duration": 22,
    "start_time": "2022-07-21T07:36:12.690Z"
   },
   {
    "duration": 12,
    "start_time": "2022-07-21T07:36:12.714Z"
   },
   {
    "duration": 37,
    "start_time": "2022-07-21T07:36:12.728Z"
   },
   {
    "duration": 14,
    "start_time": "2022-07-21T07:36:12.767Z"
   },
   {
    "duration": 57,
    "start_time": "2022-07-21T07:36:12.783Z"
   },
   {
    "duration": 34,
    "start_time": "2022-07-21T07:36:12.843Z"
   },
   {
    "duration": 74,
    "start_time": "2022-07-21T07:36:12.879Z"
   },
   {
    "duration": 40,
    "start_time": "2022-07-21T07:36:12.955Z"
   },
   {
    "duration": 34,
    "start_time": "2022-07-21T07:36:12.997Z"
   },
   {
    "duration": 24,
    "start_time": "2022-07-21T07:36:13.033Z"
   },
   {
    "duration": 47,
    "start_time": "2022-07-21T07:36:13.059Z"
   },
   {
    "duration": 900,
    "start_time": "2022-07-21T07:36:13.108Z"
   },
   {
    "duration": 35,
    "start_time": "2022-07-21T07:36:14.010Z"
   },
   {
    "duration": 14,
    "start_time": "2022-07-21T07:36:14.047Z"
   },
   {
    "duration": 6,
    "start_time": "2022-07-21T07:36:14.063Z"
   },
   {
    "duration": 256,
    "start_time": "2022-07-21T07:36:14.072Z"
   },
   {
    "duration": 7,
    "start_time": "2022-07-21T07:36:14.333Z"
   },
   {
    "duration": 1314,
    "start_time": "2022-07-21T07:36:14.342Z"
   },
   {
    "duration": 724,
    "start_time": "2022-07-21T07:36:15.658Z"
   },
   {
    "duration": 11,
    "start_time": "2022-07-21T07:36:16.430Z"
   },
   {
    "duration": 44,
    "start_time": "2022-07-21T07:36:16.444Z"
   },
   {
    "duration": 515,
    "start_time": "2022-07-21T07:36:16.490Z"
   },
   {
    "duration": 145,
    "start_time": "2022-07-21T07:36:17.007Z"
   },
   {
    "duration": 0,
    "start_time": "2022-07-21T07:36:17.154Z"
   },
   {
    "duration": 0,
    "start_time": "2022-07-21T07:36:17.155Z"
   },
   {
    "duration": 0,
    "start_time": "2022-07-21T07:36:17.158Z"
   },
   {
    "duration": 0,
    "start_time": "2022-07-21T07:36:17.160Z"
   },
   {
    "duration": 0,
    "start_time": "2022-07-21T07:36:17.161Z"
   },
   {
    "duration": 0,
    "start_time": "2022-07-21T07:36:17.164Z"
   },
   {
    "duration": 0,
    "start_time": "2022-07-21T07:36:17.165Z"
   },
   {
    "duration": 8,
    "start_time": "2022-07-21T07:36:36.977Z"
   },
   {
    "duration": 42,
    "start_time": "2022-07-21T08:31:35.560Z"
   },
   {
    "duration": 21,
    "start_time": "2022-07-21T08:34:35.705Z"
   },
   {
    "duration": 1501,
    "start_time": "2022-07-21T08:34:46.773Z"
   },
   {
    "duration": 289,
    "start_time": "2022-07-21T08:34:48.276Z"
   },
   {
    "duration": 18,
    "start_time": "2022-07-21T08:34:48.567Z"
   },
   {
    "duration": 48,
    "start_time": "2022-07-21T08:34:48.587Z"
   },
   {
    "duration": 10,
    "start_time": "2022-07-21T08:34:48.636Z"
   },
   {
    "duration": 7,
    "start_time": "2022-07-21T08:34:48.648Z"
   },
   {
    "duration": 9,
    "start_time": "2022-07-21T08:34:48.656Z"
   },
   {
    "duration": 6,
    "start_time": "2022-07-21T08:34:48.667Z"
   },
   {
    "duration": 9,
    "start_time": "2022-07-21T08:34:48.675Z"
   },
   {
    "duration": 7,
    "start_time": "2022-07-21T08:34:48.687Z"
   },
   {
    "duration": 40,
    "start_time": "2022-07-21T08:34:48.695Z"
   },
   {
    "duration": 3,
    "start_time": "2022-07-21T08:34:48.737Z"
   },
   {
    "duration": 19,
    "start_time": "2022-07-21T08:34:48.742Z"
   },
   {
    "duration": 11,
    "start_time": "2022-07-21T08:34:48.762Z"
   },
   {
    "duration": 10,
    "start_time": "2022-07-21T08:34:48.775Z"
   },
   {
    "duration": 16,
    "start_time": "2022-07-21T08:34:48.787Z"
   },
   {
    "duration": 52,
    "start_time": "2022-07-21T08:34:48.824Z"
   },
   {
    "duration": 23,
    "start_time": "2022-07-21T08:34:48.877Z"
   },
   {
    "duration": 52,
    "start_time": "2022-07-21T08:34:48.902Z"
   },
   {
    "duration": 37,
    "start_time": "2022-07-21T08:34:48.956Z"
   },
   {
    "duration": 10,
    "start_time": "2022-07-21T08:34:48.995Z"
   },
   {
    "duration": 20,
    "start_time": "2022-07-21T08:34:49.024Z"
   },
   {
    "duration": 41,
    "start_time": "2022-07-21T08:34:49.045Z"
   },
   {
    "duration": 781,
    "start_time": "2022-07-21T08:34:49.088Z"
   },
   {
    "duration": 72,
    "start_time": "2022-07-21T08:34:49.870Z"
   },
   {
    "duration": 23,
    "start_time": "2022-07-21T08:34:49.944Z"
   },
   {
    "duration": 80,
    "start_time": "2022-07-21T08:34:49.969Z"
   },
   {
    "duration": 192,
    "start_time": "2022-07-21T08:34:50.054Z"
   },
   {
    "duration": 6,
    "start_time": "2022-07-21T08:34:50.247Z"
   },
   {
    "duration": 1076,
    "start_time": "2022-07-21T08:34:50.255Z"
   },
   {
    "duration": 470,
    "start_time": "2022-07-21T08:34:51.333Z"
   },
   {
    "duration": 19,
    "start_time": "2022-07-21T08:34:51.805Z"
   },
   {
    "duration": 51,
    "start_time": "2022-07-21T08:34:51.826Z"
   },
   {
    "duration": 479,
    "start_time": "2022-07-21T08:34:51.879Z"
   },
   {
    "duration": 5,
    "start_time": "2022-07-21T08:34:52.360Z"
   },
   {
    "duration": 87,
    "start_time": "2022-07-21T08:34:52.367Z"
   },
   {
    "duration": 16,
    "start_time": "2022-07-21T08:34:52.457Z"
   },
   {
    "duration": 381,
    "start_time": "2022-07-21T08:34:52.475Z"
   },
   {
    "duration": 394,
    "start_time": "2022-07-21T08:34:52.858Z"
   },
   {
    "duration": 503,
    "start_time": "2022-07-21T08:34:53.254Z"
   },
   {
    "duration": 230,
    "start_time": "2022-07-21T08:34:53.759Z"
   },
   {
    "duration": 0,
    "start_time": "2022-07-21T08:34:53.991Z"
   },
   {
    "duration": 0,
    "start_time": "2022-07-21T08:34:53.993Z"
   },
   {
    "duration": 15,
    "start_time": "2022-07-21T08:35:00.326Z"
   },
   {
    "duration": 38,
    "start_time": "2022-07-21T08:35:16.776Z"
   },
   {
    "duration": 1513,
    "start_time": "2022-07-21T08:36:52.994Z"
   },
   {
    "duration": 191,
    "start_time": "2022-07-21T08:36:54.509Z"
   },
   {
    "duration": 26,
    "start_time": "2022-07-21T08:36:54.701Z"
   },
   {
    "duration": 75,
    "start_time": "2022-07-21T08:36:54.729Z"
   },
   {
    "duration": 10,
    "start_time": "2022-07-21T08:36:54.807Z"
   },
   {
    "duration": 12,
    "start_time": "2022-07-21T08:36:54.819Z"
   },
   {
    "duration": 9,
    "start_time": "2022-07-21T08:36:54.833Z"
   },
   {
    "duration": 6,
    "start_time": "2022-07-21T08:36:54.843Z"
   },
   {
    "duration": 8,
    "start_time": "2022-07-21T08:36:54.851Z"
   },
   {
    "duration": 6,
    "start_time": "2022-07-21T08:36:54.861Z"
   },
   {
    "duration": 29,
    "start_time": "2022-07-21T08:36:54.869Z"
   },
   {
    "duration": 4,
    "start_time": "2022-07-21T08:36:54.900Z"
   },
   {
    "duration": 32,
    "start_time": "2022-07-21T08:36:54.905Z"
   },
   {
    "duration": 14,
    "start_time": "2022-07-21T08:36:54.940Z"
   },
   {
    "duration": 10,
    "start_time": "2022-07-21T08:36:54.956Z"
   },
   {
    "duration": 13,
    "start_time": "2022-07-21T08:36:54.968Z"
   },
   {
    "duration": 64,
    "start_time": "2022-07-21T08:36:54.983Z"
   },
   {
    "duration": 23,
    "start_time": "2022-07-21T08:36:55.049Z"
   },
   {
    "duration": 55,
    "start_time": "2022-07-21T08:36:55.074Z"
   },
   {
    "duration": 39,
    "start_time": "2022-07-21T08:36:55.131Z"
   },
   {
    "duration": 13,
    "start_time": "2022-07-21T08:36:55.172Z"
   },
   {
    "duration": 43,
    "start_time": "2022-07-21T08:36:55.187Z"
   },
   {
    "duration": 40,
    "start_time": "2022-07-21T08:36:55.232Z"
   },
   {
    "duration": 807,
    "start_time": "2022-07-21T08:36:55.274Z"
   },
   {
    "duration": 19,
    "start_time": "2022-07-21T08:36:56.082Z"
   },
   {
    "duration": 24,
    "start_time": "2022-07-21T08:36:56.103Z"
   },
   {
    "duration": 7,
    "start_time": "2022-07-21T08:36:56.128Z"
   },
   {
    "duration": 94,
    "start_time": "2022-07-21T08:36:56.136Z"
   },
   {
    "duration": 5,
    "start_time": "2022-07-21T08:36:56.232Z"
   },
   {
    "duration": 514,
    "start_time": "2022-07-21T08:36:56.239Z"
   },
   {
    "duration": 250,
    "start_time": "2022-07-21T08:36:56.755Z"
   },
   {
    "duration": 5,
    "start_time": "2022-07-21T08:36:57.007Z"
   },
   {
    "duration": 41,
    "start_time": "2022-07-21T08:36:57.024Z"
   },
   {
    "duration": 700,
    "start_time": "2022-07-21T08:36:57.067Z"
   },
   {
    "duration": 55,
    "start_time": "2022-07-21T08:36:57.769Z"
   },
   {
    "duration": 101,
    "start_time": "2022-07-21T08:36:57.826Z"
   },
   {
    "duration": 16,
    "start_time": "2022-07-21T08:36:57.928Z"
   },
   {
    "duration": 718,
    "start_time": "2022-07-21T08:36:57.946Z"
   },
   {
    "duration": 717,
    "start_time": "2022-07-21T08:36:58.665Z"
   },
   {
    "duration": 513,
    "start_time": "2022-07-21T08:36:59.384Z"
   },
   {
    "duration": 248,
    "start_time": "2022-07-21T08:36:59.902Z"
   },
   {
    "duration": 0,
    "start_time": "2022-07-21T08:37:00.152Z"
   },
   {
    "duration": 0,
    "start_time": "2022-07-21T08:37:00.153Z"
   },
   {
    "duration": 5,
    "start_time": "2022-07-21T08:43:40.603Z"
   },
   {
    "duration": 40,
    "start_time": "2022-07-21T08:43:50.388Z"
   },
   {
    "duration": 40,
    "start_time": "2022-07-21T08:46:19.531Z"
   },
   {
    "duration": 31,
    "start_time": "2022-07-21T08:48:09.633Z"
   },
   {
    "duration": 29,
    "start_time": "2022-07-21T08:53:21.678Z"
   },
   {
    "duration": 1309,
    "start_time": "2022-07-21T09:00:30.206Z"
   },
   {
    "duration": 1968,
    "start_time": "2022-07-21T09:00:40.361Z"
   },
   {
    "duration": 199,
    "start_time": "2022-07-21T09:00:42.331Z"
   },
   {
    "duration": 24,
    "start_time": "2022-07-21T09:00:42.532Z"
   },
   {
    "duration": 57,
    "start_time": "2022-07-21T09:00:42.558Z"
   },
   {
    "duration": 12,
    "start_time": "2022-07-21T09:00:42.617Z"
   },
   {
    "duration": 12,
    "start_time": "2022-07-21T09:00:42.631Z"
   },
   {
    "duration": 10,
    "start_time": "2022-07-21T09:00:42.645Z"
   },
   {
    "duration": 5,
    "start_time": "2022-07-21T09:00:42.657Z"
   },
   {
    "duration": 7,
    "start_time": "2022-07-21T09:00:42.664Z"
   },
   {
    "duration": 14,
    "start_time": "2022-07-21T09:00:42.673Z"
   },
   {
    "duration": 43,
    "start_time": "2022-07-21T09:00:42.688Z"
   },
   {
    "duration": 4,
    "start_time": "2022-07-21T09:00:42.733Z"
   },
   {
    "duration": 22,
    "start_time": "2022-07-21T09:00:42.738Z"
   },
   {
    "duration": 13,
    "start_time": "2022-07-21T09:00:42.763Z"
   },
   {
    "duration": 14,
    "start_time": "2022-07-21T09:00:42.777Z"
   },
   {
    "duration": 37,
    "start_time": "2022-07-21T09:00:42.793Z"
   },
   {
    "duration": 48,
    "start_time": "2022-07-21T09:00:42.832Z"
   },
   {
    "duration": 43,
    "start_time": "2022-07-21T09:00:42.882Z"
   },
   {
    "duration": 43,
    "start_time": "2022-07-21T09:00:42.927Z"
   },
   {
    "duration": 71,
    "start_time": "2022-07-21T09:00:42.972Z"
   },
   {
    "duration": 15,
    "start_time": "2022-07-21T09:00:43.045Z"
   },
   {
    "duration": 24,
    "start_time": "2022-07-21T09:00:43.062Z"
   },
   {
    "duration": 73,
    "start_time": "2022-07-21T09:00:43.093Z"
   },
   {
    "duration": 949,
    "start_time": "2022-07-21T09:00:43.168Z"
   },
   {
    "duration": 21,
    "start_time": "2022-07-21T09:00:44.119Z"
   },
   {
    "duration": 12,
    "start_time": "2022-07-21T09:00:44.142Z"
   },
   {
    "duration": 20,
    "start_time": "2022-07-21T09:00:44.157Z"
   },
   {
    "duration": 121,
    "start_time": "2022-07-21T09:00:44.179Z"
   },
   {
    "duration": 6,
    "start_time": "2022-07-21T09:00:44.302Z"
   },
   {
    "duration": 616,
    "start_time": "2022-07-21T09:00:44.310Z"
   },
   {
    "duration": 265,
    "start_time": "2022-07-21T09:00:44.928Z"
   },
   {
    "duration": 4,
    "start_time": "2022-07-21T09:00:45.195Z"
   },
   {
    "duration": 56,
    "start_time": "2022-07-21T09:00:45.201Z"
   },
   {
    "duration": 533,
    "start_time": "2022-07-21T09:00:45.259Z"
   },
   {
    "duration": 5,
    "start_time": "2022-07-21T09:00:45.794Z"
   },
   {
    "duration": 61,
    "start_time": "2022-07-21T09:00:45.801Z"
   },
   {
    "duration": 48,
    "start_time": "2022-07-21T09:00:45.864Z"
   },
   {
    "duration": 39,
    "start_time": "2022-07-21T09:00:45.914Z"
   },
   {
    "duration": 1508,
    "start_time": "2022-07-21T09:00:45.955Z"
   },
   {
    "duration": 0,
    "start_time": "2022-07-21T09:00:47.466Z"
   },
   {
    "duration": 0,
    "start_time": "2022-07-21T09:00:47.468Z"
   },
   {
    "duration": 0,
    "start_time": "2022-07-21T09:00:47.469Z"
   },
   {
    "duration": 0,
    "start_time": "2022-07-21T09:00:47.470Z"
   },
   {
    "duration": 0,
    "start_time": "2022-07-21T09:00:47.472Z"
   },
   {
    "duration": 509,
    "start_time": "2022-07-21T09:01:57.217Z"
   },
   {
    "duration": 454,
    "start_time": "2022-07-21T09:02:33.489Z"
   },
   {
    "duration": 514,
    "start_time": "2022-07-21T09:05:19.006Z"
   },
   {
    "duration": 527,
    "start_time": "2022-07-21T09:05:33.141Z"
   },
   {
    "duration": 16,
    "start_time": "2022-07-21T09:08:33.384Z"
   },
   {
    "duration": 392,
    "start_time": "2022-07-21T09:09:03.554Z"
   },
   {
    "duration": 366,
    "start_time": "2022-07-21T09:09:24.922Z"
   },
   {
    "duration": 13,
    "start_time": "2022-07-21T09:38:29.712Z"
   },
   {
    "duration": 11,
    "start_time": "2022-07-21T09:39:56.559Z"
   },
   {
    "duration": 11,
    "start_time": "2022-07-21T09:41:51.197Z"
   },
   {
    "duration": 18,
    "start_time": "2022-07-21T09:42:20.434Z"
   },
   {
    "duration": 420,
    "start_time": "2022-07-21T09:42:43.293Z"
   },
   {
    "duration": 400,
    "start_time": "2022-07-21T09:43:59.356Z"
   },
   {
    "duration": 443,
    "start_time": "2022-07-21T09:44:28.432Z"
   },
   {
    "duration": 642,
    "start_time": "2022-07-21T09:44:48.744Z"
   },
   {
    "duration": 672,
    "start_time": "2022-07-21T09:45:16.478Z"
   },
   {
    "duration": 460,
    "start_time": "2022-07-21T09:46:02.915Z"
   },
   {
    "duration": 534,
    "start_time": "2022-07-21T09:52:11.254Z"
   },
   {
    "duration": 544,
    "start_time": "2022-07-21T09:53:43.568Z"
   },
   {
    "duration": 987,
    "start_time": "2022-07-21T10:04:26.044Z"
   },
   {
    "duration": 392,
    "start_time": "2022-07-21T10:09:03.469Z"
   },
   {
    "duration": 373,
    "start_time": "2022-07-21T10:13:38.613Z"
   },
   {
    "duration": 378,
    "start_time": "2022-07-21T10:13:51.783Z"
   },
   {
    "duration": 14,
    "start_time": "2022-07-21T10:36:39.543Z"
   },
   {
    "duration": 485,
    "start_time": "2022-07-21T10:37:02.769Z"
   },
   {
    "duration": 79,
    "start_time": "2022-07-21T10:38:18.514Z"
   },
   {
    "duration": 19,
    "start_time": "2022-07-21T10:39:22.287Z"
   },
   {
    "duration": 79,
    "start_time": "2022-07-21T10:44:34.009Z"
   },
   {
    "duration": 73,
    "start_time": "2022-07-21T10:51:07.924Z"
   },
   {
    "duration": 24,
    "start_time": "2022-07-21T10:59:32.524Z"
   },
   {
    "duration": 1955,
    "start_time": "2022-07-21T11:00:03.952Z"
   },
   {
    "duration": 13,
    "start_time": "2022-07-21T11:00:25.150Z"
   },
   {
    "duration": 71,
    "start_time": "2022-07-21T11:01:09.764Z"
   },
   {
    "duration": 71,
    "start_time": "2022-07-21T11:48:31.032Z"
   },
   {
    "duration": 11,
    "start_time": "2022-07-21T11:48:43.081Z"
   },
   {
    "duration": 22,
    "start_time": "2022-07-21T11:48:47.745Z"
   },
   {
    "duration": 67,
    "start_time": "2022-07-21T11:50:58.622Z"
   },
   {
    "duration": 21,
    "start_time": "2022-07-21T11:53:49.356Z"
   },
   {
    "duration": 30,
    "start_time": "2022-07-21T11:54:04.528Z"
   },
   {
    "duration": 4,
    "start_time": "2022-07-21T11:55:07.013Z"
   },
   {
    "duration": 26,
    "start_time": "2022-07-21T11:55:15.837Z"
   },
   {
    "duration": 1523,
    "start_time": "2022-07-21T12:33:53.033Z"
   },
   {
    "duration": 191,
    "start_time": "2022-07-21T12:33:54.558Z"
   },
   {
    "duration": 17,
    "start_time": "2022-07-21T12:33:54.750Z"
   },
   {
    "duration": 33,
    "start_time": "2022-07-21T12:33:54.769Z"
   },
   {
    "duration": 22,
    "start_time": "2022-07-21T12:33:54.804Z"
   },
   {
    "duration": 13,
    "start_time": "2022-07-21T12:33:54.828Z"
   },
   {
    "duration": 7,
    "start_time": "2022-07-21T12:33:54.843Z"
   },
   {
    "duration": 6,
    "start_time": "2022-07-21T12:33:54.852Z"
   },
   {
    "duration": 10,
    "start_time": "2022-07-21T12:33:54.860Z"
   },
   {
    "duration": 9,
    "start_time": "2022-07-21T12:33:54.873Z"
   },
   {
    "duration": 28,
    "start_time": "2022-07-21T12:33:54.884Z"
   },
   {
    "duration": 12,
    "start_time": "2022-07-21T12:33:54.914Z"
   },
   {
    "duration": 23,
    "start_time": "2022-07-21T12:33:54.928Z"
   },
   {
    "duration": 20,
    "start_time": "2022-07-21T12:33:54.953Z"
   },
   {
    "duration": 10,
    "start_time": "2022-07-21T12:33:54.975Z"
   },
   {
    "duration": 17,
    "start_time": "2022-07-21T12:33:54.987Z"
   },
   {
    "duration": 58,
    "start_time": "2022-07-21T12:33:55.005Z"
   },
   {
    "duration": 22,
    "start_time": "2022-07-21T12:33:55.065Z"
   },
   {
    "duration": 52,
    "start_time": "2022-07-21T12:33:55.089Z"
   },
   {
    "duration": 41,
    "start_time": "2022-07-21T12:33:55.144Z"
   },
   {
    "duration": 13,
    "start_time": "2022-07-21T12:33:55.186Z"
   },
   {
    "duration": 40,
    "start_time": "2022-07-21T12:33:55.201Z"
   },
   {
    "duration": 41,
    "start_time": "2022-07-21T12:33:55.243Z"
   },
   {
    "duration": 814,
    "start_time": "2022-07-21T12:33:55.285Z"
   },
   {
    "duration": 28,
    "start_time": "2022-07-21T12:33:56.101Z"
   },
   {
    "duration": 15,
    "start_time": "2022-07-21T12:33:56.130Z"
   },
   {
    "duration": 158,
    "start_time": "2022-07-21T12:33:56.147Z"
   },
   {
    "duration": 0,
    "start_time": "2022-07-21T12:33:56.308Z"
   },
   {
    "duration": 0,
    "start_time": "2022-07-21T12:33:56.309Z"
   },
   {
    "duration": 0,
    "start_time": "2022-07-21T12:33:56.310Z"
   },
   {
    "duration": 0,
    "start_time": "2022-07-21T12:33:56.311Z"
   },
   {
    "duration": 0,
    "start_time": "2022-07-21T12:33:56.313Z"
   },
   {
    "duration": 0,
    "start_time": "2022-07-21T12:33:56.314Z"
   },
   {
    "duration": 0,
    "start_time": "2022-07-21T12:33:56.324Z"
   },
   {
    "duration": 0,
    "start_time": "2022-07-21T12:33:56.326Z"
   },
   {
    "duration": 0,
    "start_time": "2022-07-21T12:33:56.327Z"
   },
   {
    "duration": 0,
    "start_time": "2022-07-21T12:33:56.329Z"
   },
   {
    "duration": 0,
    "start_time": "2022-07-21T12:33:56.331Z"
   },
   {
    "duration": 0,
    "start_time": "2022-07-21T12:33:56.332Z"
   },
   {
    "duration": 0,
    "start_time": "2022-07-21T12:33:56.334Z"
   },
   {
    "duration": 0,
    "start_time": "2022-07-21T12:33:56.340Z"
   },
   {
    "duration": 0,
    "start_time": "2022-07-21T12:33:56.341Z"
   },
   {
    "duration": 0,
    "start_time": "2022-07-21T12:33:56.343Z"
   },
   {
    "duration": 0,
    "start_time": "2022-07-21T12:33:56.344Z"
   },
   {
    "duration": 0,
    "start_time": "2022-07-21T12:33:56.345Z"
   },
   {
    "duration": 0,
    "start_time": "2022-07-21T12:33:56.346Z"
   },
   {
    "duration": 0,
    "start_time": "2022-07-21T12:33:56.347Z"
   },
   {
    "duration": 0,
    "start_time": "2022-07-21T12:33:56.349Z"
   },
   {
    "duration": 939,
    "start_time": "2022-07-21T12:34:56.824Z"
   },
   {
    "duration": 20,
    "start_time": "2022-07-21T12:35:24.635Z"
   },
   {
    "duration": 1405,
    "start_time": "2022-07-21T12:35:46.567Z"
   },
   {
    "duration": 157,
    "start_time": "2022-07-21T12:35:47.974Z"
   },
   {
    "duration": 17,
    "start_time": "2022-07-21T12:35:48.133Z"
   },
   {
    "duration": 44,
    "start_time": "2022-07-21T12:35:48.152Z"
   },
   {
    "duration": 11,
    "start_time": "2022-07-21T12:35:48.198Z"
   },
   {
    "duration": 13,
    "start_time": "2022-07-21T12:35:48.210Z"
   },
   {
    "duration": 13,
    "start_time": "2022-07-21T12:35:48.224Z"
   },
   {
    "duration": 8,
    "start_time": "2022-07-21T12:35:48.238Z"
   },
   {
    "duration": 8,
    "start_time": "2022-07-21T12:35:48.248Z"
   },
   {
    "duration": 8,
    "start_time": "2022-07-21T12:35:48.259Z"
   },
   {
    "duration": 37,
    "start_time": "2022-07-21T12:35:48.269Z"
   },
   {
    "duration": 8,
    "start_time": "2022-07-21T12:35:48.308Z"
   },
   {
    "duration": 25,
    "start_time": "2022-07-21T12:35:48.318Z"
   },
   {
    "duration": 12,
    "start_time": "2022-07-21T12:35:48.345Z"
   },
   {
    "duration": 13,
    "start_time": "2022-07-21T12:35:48.358Z"
   },
   {
    "duration": 19,
    "start_time": "2022-07-21T12:35:48.373Z"
   },
   {
    "duration": 53,
    "start_time": "2022-07-21T12:35:48.394Z"
   },
   {
    "duration": 21,
    "start_time": "2022-07-21T12:35:48.449Z"
   },
   {
    "duration": 34,
    "start_time": "2022-07-21T12:35:48.472Z"
   },
   {
    "duration": 38,
    "start_time": "2022-07-21T12:35:48.523Z"
   },
   {
    "duration": 10,
    "start_time": "2022-07-21T12:35:48.563Z"
   },
   {
    "duration": 18,
    "start_time": "2022-07-21T12:35:48.574Z"
   },
   {
    "duration": 60,
    "start_time": "2022-07-21T12:35:48.593Z"
   },
   {
    "duration": 793,
    "start_time": "2022-07-21T12:35:48.654Z"
   },
   {
    "duration": 19,
    "start_time": "2022-07-21T12:35:49.448Z"
   },
   {
    "duration": 70,
    "start_time": "2022-07-21T12:35:49.469Z"
   },
   {
    "duration": 18,
    "start_time": "2022-07-21T12:35:49.541Z"
   },
   {
    "duration": 545,
    "start_time": "2022-07-21T12:35:49.563Z"
   },
   {
    "duration": 262,
    "start_time": "2022-07-21T12:35:50.110Z"
   },
   {
    "duration": 4,
    "start_time": "2022-07-21T12:35:50.374Z"
   },
   {
    "duration": 50,
    "start_time": "2022-07-21T12:35:50.380Z"
   },
   {
    "duration": 457,
    "start_time": "2022-07-21T12:35:50.431Z"
   },
   {
    "duration": 4,
    "start_time": "2022-07-21T12:35:50.890Z"
   },
   {
    "duration": 52,
    "start_time": "2022-07-21T12:35:50.896Z"
   },
   {
    "duration": 35,
    "start_time": "2022-07-21T12:35:50.949Z"
   },
   {
    "duration": 39,
    "start_time": "2022-07-21T12:35:50.985Z"
   },
   {
    "duration": 400,
    "start_time": "2022-07-21T12:35:51.026Z"
   },
   {
    "duration": 376,
    "start_time": "2022-07-21T12:35:51.427Z"
   },
   {
    "duration": 26,
    "start_time": "2022-07-21T12:35:51.805Z"
   },
   {
    "duration": 492,
    "start_time": "2022-07-21T12:35:51.833Z"
   },
   {
    "duration": 12,
    "start_time": "2022-07-21T12:35:52.327Z"
   },
   {
    "duration": 128,
    "start_time": "2022-07-21T12:35:52.341Z"
   },
   {
    "duration": 71,
    "start_time": "2022-07-21T12:35:52.470Z"
   },
   {
    "duration": 6,
    "start_time": "2022-07-21T12:35:52.543Z"
   },
   {
    "duration": 91,
    "start_time": "2022-07-21T12:35:52.550Z"
   },
   {
    "duration": 177,
    "start_time": "2022-07-21T12:35:52.643Z"
   },
   {
    "duration": 0,
    "start_time": "2022-07-21T12:35:52.824Z"
   },
   {
    "duration": 0,
    "start_time": "2022-07-21T12:35:52.825Z"
   },
   {
    "duration": 1256,
    "start_time": "2022-07-21T12:37:27.412Z"
   },
   {
    "duration": 177,
    "start_time": "2022-07-21T12:37:28.670Z"
   },
   {
    "duration": 18,
    "start_time": "2022-07-21T12:37:28.848Z"
   },
   {
    "duration": 43,
    "start_time": "2022-07-21T12:37:28.868Z"
   },
   {
    "duration": 10,
    "start_time": "2022-07-21T12:37:28.913Z"
   },
   {
    "duration": 10,
    "start_time": "2022-07-21T12:37:28.924Z"
   },
   {
    "duration": 7,
    "start_time": "2022-07-21T12:37:28.936Z"
   },
   {
    "duration": 4,
    "start_time": "2022-07-21T12:37:28.944Z"
   },
   {
    "duration": 12,
    "start_time": "2022-07-21T12:37:28.950Z"
   },
   {
    "duration": 12,
    "start_time": "2022-07-21T12:37:28.965Z"
   },
   {
    "duration": 26,
    "start_time": "2022-07-21T12:37:28.979Z"
   },
   {
    "duration": 4,
    "start_time": "2022-07-21T12:37:29.007Z"
   },
   {
    "duration": 16,
    "start_time": "2022-07-21T12:37:29.024Z"
   },
   {
    "duration": 11,
    "start_time": "2022-07-21T12:37:29.041Z"
   },
   {
    "duration": 14,
    "start_time": "2022-07-21T12:37:29.054Z"
   },
   {
    "duration": 13,
    "start_time": "2022-07-21T12:37:29.070Z"
   },
   {
    "duration": 79,
    "start_time": "2022-07-21T12:37:29.085Z"
   },
   {
    "duration": 20,
    "start_time": "2022-07-21T12:37:29.165Z"
   },
   {
    "duration": 53,
    "start_time": "2022-07-21T12:37:29.187Z"
   },
   {
    "duration": 39,
    "start_time": "2022-07-21T12:37:29.242Z"
   },
   {
    "duration": 10,
    "start_time": "2022-07-21T12:37:29.282Z"
   },
   {
    "duration": 36,
    "start_time": "2022-07-21T12:37:29.294Z"
   },
   {
    "duration": 39,
    "start_time": "2022-07-21T12:37:29.332Z"
   },
   {
    "duration": 756,
    "start_time": "2022-07-21T12:37:29.373Z"
   },
   {
    "duration": 21,
    "start_time": "2022-07-21T12:37:30.132Z"
   },
   {
    "duration": 25,
    "start_time": "2022-07-21T12:37:30.155Z"
   },
   {
    "duration": 50,
    "start_time": "2022-07-21T12:37:30.182Z"
   },
   {
    "duration": 551,
    "start_time": "2022-07-21T12:37:30.236Z"
   },
   {
    "duration": 251,
    "start_time": "2022-07-21T12:37:30.789Z"
   },
   {
    "duration": 4,
    "start_time": "2022-07-21T12:37:31.042Z"
   },
   {
    "duration": 142,
    "start_time": "2022-07-21T12:37:31.048Z"
   },
   {
    "duration": 379,
    "start_time": "2022-07-21T12:37:31.192Z"
   },
   {
    "duration": 5,
    "start_time": "2022-07-21T12:37:31.573Z"
   },
   {
    "duration": 167,
    "start_time": "2022-07-21T12:37:31.580Z"
   },
   {
    "duration": 68,
    "start_time": "2022-07-21T12:37:31.749Z"
   },
   {
    "duration": 84,
    "start_time": "2022-07-21T12:37:31.819Z"
   },
   {
    "duration": 429,
    "start_time": "2022-07-21T12:37:31.905Z"
   },
   {
    "duration": 481,
    "start_time": "2022-07-21T12:37:32.336Z"
   },
   {
    "duration": 17,
    "start_time": "2022-07-21T12:37:32.819Z"
   },
   {
    "duration": 382,
    "start_time": "2022-07-21T12:37:32.837Z"
   },
   {
    "duration": 10,
    "start_time": "2022-07-21T12:37:33.220Z"
   },
   {
    "duration": 121,
    "start_time": "2022-07-21T12:37:33.232Z"
   },
   {
    "duration": 25,
    "start_time": "2022-07-21T12:37:33.355Z"
   },
   {
    "duration": 46,
    "start_time": "2022-07-21T12:37:33.382Z"
   },
   {
    "duration": 91,
    "start_time": "2022-07-21T12:37:33.430Z"
   },
   {
    "duration": 15,
    "start_time": "2022-07-21T13:13:41.266Z"
   },
   {
    "duration": 20,
    "start_time": "2022-07-21T13:13:47.336Z"
   },
   {
    "duration": 26,
    "start_time": "2022-07-21T13:25:53.365Z"
   },
   {
    "duration": 3,
    "start_time": "2022-07-21T13:26:02.448Z"
   },
   {
    "duration": 3,
    "start_time": "2022-07-21T13:26:17.778Z"
   },
   {
    "duration": 4,
    "start_time": "2022-07-21T13:27:48.458Z"
   },
   {
    "duration": 4,
    "start_time": "2022-07-21T13:28:39.190Z"
   },
   {
    "duration": 6,
    "start_time": "2022-07-21T13:41:40.654Z"
   },
   {
    "duration": 217,
    "start_time": "2022-07-21T13:41:49.097Z"
   },
   {
    "duration": 6,
    "start_time": "2022-07-21T13:53:49.015Z"
   },
   {
    "duration": 90,
    "start_time": "2022-07-21T13:53:58.351Z"
   },
   {
    "duration": 6,
    "start_time": "2022-07-21T13:55:31.371Z"
   },
   {
    "duration": 78,
    "start_time": "2022-07-21T13:55:35.499Z"
   },
   {
    "duration": 6,
    "start_time": "2022-07-21T13:57:09.718Z"
   },
   {
    "duration": 77,
    "start_time": "2022-07-21T13:57:13.517Z"
   },
   {
    "duration": 94,
    "start_time": "2022-07-21T14:03:40.970Z"
   },
   {
    "duration": 7,
    "start_time": "2022-07-21T14:05:03.855Z"
   },
   {
    "duration": 79,
    "start_time": "2022-07-21T14:05:21.023Z"
   },
   {
    "duration": 5,
    "start_time": "2022-07-21T14:06:12.251Z"
   },
   {
    "duration": 83,
    "start_time": "2022-07-21T14:06:16.556Z"
   },
   {
    "duration": 6,
    "start_time": "2022-07-21T14:06:45.163Z"
   },
   {
    "duration": 87,
    "start_time": "2022-07-21T14:06:51.334Z"
   },
   {
    "duration": 5,
    "start_time": "2022-07-21T14:07:21.529Z"
   },
   {
    "duration": 79,
    "start_time": "2022-07-21T14:07:26.822Z"
   },
   {
    "duration": 5,
    "start_time": "2022-07-21T14:15:32.183Z"
   },
   {
    "duration": 78,
    "start_time": "2022-07-21T14:15:56.231Z"
   },
   {
    "duration": 4,
    "start_time": "2022-07-21T14:34:43.995Z"
   },
   {
    "duration": 6,
    "start_time": "2022-07-21T14:38:11.739Z"
   },
   {
    "duration": 58,
    "start_time": "2022-07-21T14:38:19.919Z"
   },
   {
    "duration": 86,
    "start_time": "2022-07-21T14:42:12.314Z"
   },
   {
    "duration": 63,
    "start_time": "2022-07-21T14:43:11.476Z"
   },
   {
    "duration": 9,
    "start_time": "2022-07-21T14:48:24.909Z"
   },
   {
    "duration": 65,
    "start_time": "2022-07-21T14:48:30.100Z"
   },
   {
    "duration": 1302,
    "start_time": "2022-07-21T14:48:39.604Z"
   },
   {
    "duration": 251,
    "start_time": "2022-07-21T14:48:40.910Z"
   },
   {
    "duration": 20,
    "start_time": "2022-07-21T14:48:41.163Z"
   },
   {
    "duration": 51,
    "start_time": "2022-07-21T14:48:41.185Z"
   },
   {
    "duration": 11,
    "start_time": "2022-07-21T14:48:41.238Z"
   },
   {
    "duration": 13,
    "start_time": "2022-07-21T14:48:41.250Z"
   },
   {
    "duration": 12,
    "start_time": "2022-07-21T14:48:41.265Z"
   },
   {
    "duration": 9,
    "start_time": "2022-07-21T14:48:41.279Z"
   },
   {
    "duration": 21,
    "start_time": "2022-07-21T14:48:41.290Z"
   },
   {
    "duration": 9,
    "start_time": "2022-07-21T14:48:41.314Z"
   },
   {
    "duration": 43,
    "start_time": "2022-07-21T14:48:41.325Z"
   },
   {
    "duration": 4,
    "start_time": "2022-07-21T14:48:41.370Z"
   },
   {
    "duration": 21,
    "start_time": "2022-07-21T14:48:41.376Z"
   },
   {
    "duration": 21,
    "start_time": "2022-07-21T14:48:41.399Z"
   },
   {
    "duration": 15,
    "start_time": "2022-07-21T14:48:41.422Z"
   },
   {
    "duration": 26,
    "start_time": "2022-07-21T14:48:41.439Z"
   },
   {
    "duration": 74,
    "start_time": "2022-07-21T14:48:41.467Z"
   },
   {
    "duration": 23,
    "start_time": "2022-07-21T14:48:41.542Z"
   },
   {
    "duration": 63,
    "start_time": "2022-07-21T14:48:41.567Z"
   },
   {
    "duration": 41,
    "start_time": "2022-07-21T14:48:41.632Z"
   },
   {
    "duration": 11,
    "start_time": "2022-07-21T14:48:41.675Z"
   },
   {
    "duration": 51,
    "start_time": "2022-07-21T14:48:41.688Z"
   },
   {
    "duration": 59,
    "start_time": "2022-07-21T14:48:41.741Z"
   },
   {
    "duration": 775,
    "start_time": "2022-07-21T14:48:41.803Z"
   },
   {
    "duration": 21,
    "start_time": "2022-07-21T14:48:42.580Z"
   },
   {
    "duration": 25,
    "start_time": "2022-07-21T14:48:42.603Z"
   },
   {
    "duration": 31,
    "start_time": "2022-07-21T14:48:42.631Z"
   },
   {
    "duration": 532,
    "start_time": "2022-07-21T14:48:42.667Z"
   },
   {
    "duration": 275,
    "start_time": "2022-07-21T14:48:43.200Z"
   },
   {
    "duration": 6,
    "start_time": "2022-07-21T14:48:43.477Z"
   },
   {
    "duration": 60,
    "start_time": "2022-07-21T14:48:43.485Z"
   },
   {
    "duration": 419,
    "start_time": "2022-07-21T14:48:43.547Z"
   },
   {
    "duration": 5,
    "start_time": "2022-07-21T14:48:43.968Z"
   },
   {
    "duration": 68,
    "start_time": "2022-07-21T14:48:43.975Z"
   },
   {
    "duration": 35,
    "start_time": "2022-07-21T14:48:44.045Z"
   },
   {
    "duration": 18,
    "start_time": "2022-07-21T14:48:44.082Z"
   },
   {
    "duration": 467,
    "start_time": "2022-07-21T14:48:44.101Z"
   },
   {
    "duration": 541,
    "start_time": "2022-07-21T14:48:44.570Z"
   },
   {
    "duration": 25,
    "start_time": "2022-07-21T14:48:45.113Z"
   },
   {
    "duration": 372,
    "start_time": "2022-07-21T14:48:45.140Z"
   },
   {
    "duration": 16,
    "start_time": "2022-07-21T14:48:45.514Z"
   },
   {
    "duration": 131,
    "start_time": "2022-07-21T14:48:45.532Z"
   },
   {
    "duration": 6,
    "start_time": "2022-07-21T14:48:45.665Z"
   },
   {
    "duration": 115,
    "start_time": "2022-07-21T14:48:45.672Z"
   },
   {
    "duration": 7,
    "start_time": "2022-07-21T14:48:45.790Z"
   },
   {
    "duration": 16,
    "start_time": "2022-07-21T14:48:45.799Z"
   },
   {
    "duration": 192,
    "start_time": "2022-07-21T14:48:45.825Z"
   },
   {
    "duration": 0,
    "start_time": "2022-07-21T14:48:46.018Z"
   },
   {
    "duration": 7,
    "start_time": "2022-07-21T14:52:31.273Z"
   },
   {
    "duration": 55,
    "start_time": "2022-07-21T14:52:35.301Z"
   },
   {
    "duration": 7,
    "start_time": "2022-07-21T15:05:53.367Z"
   },
   {
    "duration": 62,
    "start_time": "2022-07-21T15:05:57.982Z"
   },
   {
    "duration": 10,
    "start_time": "2022-07-21T15:06:12.377Z"
   },
   {
    "duration": 7,
    "start_time": "2022-07-21T15:10:07.834Z"
   },
   {
    "duration": 48,
    "start_time": "2022-07-21T15:10:10.668Z"
   },
   {
    "duration": 50,
    "start_time": "2022-07-21T15:13:05.005Z"
   },
   {
    "duration": 9,
    "start_time": "2022-07-21T15:13:21.680Z"
   },
   {
    "duration": 55,
    "start_time": "2022-07-21T15:13:24.083Z"
   },
   {
    "duration": 1271,
    "start_time": "2022-07-21T15:44:22.203Z"
   },
   {
    "duration": 430,
    "start_time": "2022-07-21T15:44:23.476Z"
   },
   {
    "duration": 22,
    "start_time": "2022-07-21T15:44:23.907Z"
   },
   {
    "duration": 51,
    "start_time": "2022-07-21T15:44:23.930Z"
   },
   {
    "duration": 10,
    "start_time": "2022-07-21T15:44:23.983Z"
   },
   {
    "duration": 9,
    "start_time": "2022-07-21T15:44:23.995Z"
   },
   {
    "duration": 9,
    "start_time": "2022-07-21T15:44:24.005Z"
   },
   {
    "duration": 9,
    "start_time": "2022-07-21T15:44:24.016Z"
   },
   {
    "duration": 9,
    "start_time": "2022-07-21T15:44:24.027Z"
   },
   {
    "duration": 6,
    "start_time": "2022-07-21T15:44:24.038Z"
   },
   {
    "duration": 28,
    "start_time": "2022-07-21T15:44:24.046Z"
   },
   {
    "duration": 4,
    "start_time": "2022-07-21T15:44:24.076Z"
   },
   {
    "duration": 27,
    "start_time": "2022-07-21T15:44:24.081Z"
   },
   {
    "duration": 19,
    "start_time": "2022-07-21T15:44:24.112Z"
   },
   {
    "duration": 17,
    "start_time": "2022-07-21T15:44:24.133Z"
   },
   {
    "duration": 22,
    "start_time": "2022-07-21T15:44:24.152Z"
   },
   {
    "duration": 57,
    "start_time": "2022-07-21T15:44:24.176Z"
   },
   {
    "duration": 21,
    "start_time": "2022-07-21T15:44:24.235Z"
   },
   {
    "duration": 36,
    "start_time": "2022-07-21T15:44:24.257Z"
   },
   {
    "duration": 64,
    "start_time": "2022-07-21T15:44:24.295Z"
   },
   {
    "duration": 10,
    "start_time": "2022-07-21T15:44:24.361Z"
   },
   {
    "duration": 20,
    "start_time": "2022-07-21T15:44:24.373Z"
   },
   {
    "duration": 59,
    "start_time": "2022-07-21T15:44:24.395Z"
   },
   {
    "duration": 821,
    "start_time": "2022-07-21T15:44:24.455Z"
   },
   {
    "duration": 19,
    "start_time": "2022-07-21T15:44:25.278Z"
   },
   {
    "duration": 26,
    "start_time": "2022-07-21T15:44:25.299Z"
   },
   {
    "duration": 10,
    "start_time": "2022-07-21T15:44:25.327Z"
   },
   {
    "duration": 9,
    "start_time": "2022-07-21T15:44:25.339Z"
   },
   {
    "duration": 8,
    "start_time": "2022-07-21T15:44:25.349Z"
   },
   {
    "duration": 17,
    "start_time": "2022-07-21T15:44:25.359Z"
   },
   {
    "duration": 15,
    "start_time": "2022-07-21T15:44:25.378Z"
   },
   {
    "duration": 21,
    "start_time": "2022-07-21T15:44:25.395Z"
   },
   {
    "duration": 503,
    "start_time": "2022-07-21T15:44:25.424Z"
   },
   {
    "duration": 257,
    "start_time": "2022-07-21T15:44:25.929Z"
   },
   {
    "duration": 5,
    "start_time": "2022-07-21T15:44:26.187Z"
   },
   {
    "duration": 57,
    "start_time": "2022-07-21T15:44:26.194Z"
   },
   {
    "duration": 400,
    "start_time": "2022-07-21T15:44:26.252Z"
   },
   {
    "duration": 5,
    "start_time": "2022-07-21T15:44:26.654Z"
   },
   {
    "duration": 64,
    "start_time": "2022-07-21T15:44:26.661Z"
   },
   {
    "duration": 36,
    "start_time": "2022-07-21T15:44:26.727Z"
   },
   {
    "duration": 19,
    "start_time": "2022-07-21T15:44:26.768Z"
   },
   {
    "duration": 457,
    "start_time": "2022-07-21T15:44:26.789Z"
   },
   {
    "duration": 571,
    "start_time": "2022-07-21T15:44:27.248Z"
   },
   {
    "duration": 19,
    "start_time": "2022-07-21T15:44:27.823Z"
   },
   {
    "duration": 367,
    "start_time": "2022-07-21T15:44:27.843Z"
   },
   {
    "duration": 16,
    "start_time": "2022-07-21T15:44:28.212Z"
   },
   {
    "duration": 133,
    "start_time": "2022-07-21T15:44:28.230Z"
   },
   {
    "duration": 9,
    "start_time": "2022-07-21T15:44:28.365Z"
   },
   {
    "duration": 102,
    "start_time": "2022-07-21T15:44:28.376Z"
   },
   {
    "duration": 3,
    "start_time": "2022-07-21T15:44:28.480Z"
   },
   {
    "duration": 196,
    "start_time": "2022-07-21T15:44:28.485Z"
   },
   {
    "duration": 0,
    "start_time": "2022-07-21T15:44:28.683Z"
   },
   {
    "duration": 62,
    "start_time": "2022-07-21T15:47:16.303Z"
   },
   {
    "duration": 2,
    "start_time": "2022-07-21T15:47:26.984Z"
   },
   {
    "duration": 62,
    "start_time": "2022-07-21T16:34:30.735Z"
   },
   {
    "duration": 1345,
    "start_time": "2022-07-21T17:53:37.701Z"
   },
   {
    "duration": 218,
    "start_time": "2022-07-21T17:53:39.048Z"
   },
   {
    "duration": 18,
    "start_time": "2022-07-21T17:53:39.268Z"
   },
   {
    "duration": 503,
    "start_time": "2022-07-21T17:53:39.288Z"
   },
   {
    "duration": 10,
    "start_time": "2022-07-21T17:53:39.792Z"
   },
   {
    "duration": 12,
    "start_time": "2022-07-21T17:53:39.804Z"
   },
   {
    "duration": 13,
    "start_time": "2022-07-21T17:53:39.817Z"
   },
   {
    "duration": 6,
    "start_time": "2022-07-21T17:53:39.831Z"
   },
   {
    "duration": 10,
    "start_time": "2022-07-21T17:53:39.838Z"
   },
   {
    "duration": 10,
    "start_time": "2022-07-21T17:53:39.850Z"
   },
   {
    "duration": 34,
    "start_time": "2022-07-21T17:53:39.862Z"
   },
   {
    "duration": 3,
    "start_time": "2022-07-21T17:53:39.898Z"
   },
   {
    "duration": 26,
    "start_time": "2022-07-21T17:53:39.903Z"
   },
   {
    "duration": 12,
    "start_time": "2022-07-21T17:53:39.930Z"
   },
   {
    "duration": 11,
    "start_time": "2022-07-21T17:53:39.944Z"
   },
   {
    "duration": 17,
    "start_time": "2022-07-21T17:53:39.957Z"
   },
   {
    "duration": 65,
    "start_time": "2022-07-21T17:53:39.975Z"
   },
   {
    "duration": 27,
    "start_time": "2022-07-21T17:53:40.041Z"
   },
   {
    "duration": 61,
    "start_time": "2022-07-21T17:53:40.069Z"
   },
   {
    "duration": 40,
    "start_time": "2022-07-21T17:53:40.132Z"
   },
   {
    "duration": 14,
    "start_time": "2022-07-21T17:53:40.174Z"
   },
   {
    "duration": 40,
    "start_time": "2022-07-21T17:53:40.190Z"
   },
   {
    "duration": 39,
    "start_time": "2022-07-21T17:53:40.232Z"
   },
   {
    "duration": 802,
    "start_time": "2022-07-21T17:53:40.273Z"
   },
   {
    "duration": 25,
    "start_time": "2022-07-21T17:53:41.077Z"
   },
   {
    "duration": 28,
    "start_time": "2022-07-21T17:53:41.104Z"
   },
   {
    "duration": 34,
    "start_time": "2022-07-21T17:53:41.134Z"
   },
   {
    "duration": 9,
    "start_time": "2022-07-21T17:53:41.172Z"
   },
   {
    "duration": 15,
    "start_time": "2022-07-21T17:53:41.183Z"
   },
   {
    "duration": 9,
    "start_time": "2022-07-21T17:53:41.200Z"
   },
   {
    "duration": 11,
    "start_time": "2022-07-21T17:53:41.210Z"
   },
   {
    "duration": 22,
    "start_time": "2022-07-21T17:53:41.223Z"
   },
   {
    "duration": 497,
    "start_time": "2022-07-21T17:53:41.246Z"
   },
   {
    "duration": 269,
    "start_time": "2022-07-21T17:53:41.745Z"
   },
   {
    "duration": 6,
    "start_time": "2022-07-21T17:53:42.023Z"
   },
   {
    "duration": 63,
    "start_time": "2022-07-21T17:53:42.031Z"
   },
   {
    "duration": 423,
    "start_time": "2022-07-21T17:53:42.096Z"
   },
   {
    "duration": 5,
    "start_time": "2022-07-21T17:53:42.524Z"
   },
   {
    "duration": 65,
    "start_time": "2022-07-21T17:53:42.530Z"
   },
   {
    "duration": 44,
    "start_time": "2022-07-21T17:53:42.598Z"
   },
   {
    "duration": 18,
    "start_time": "2022-07-21T17:53:42.644Z"
   },
   {
    "duration": 454,
    "start_time": "2022-07-21T17:53:42.664Z"
   },
   {
    "duration": 524,
    "start_time": "2022-07-21T17:53:43.120Z"
   },
   {
    "duration": 21,
    "start_time": "2022-07-21T17:53:43.646Z"
   },
   {
    "duration": 398,
    "start_time": "2022-07-21T17:53:43.669Z"
   },
   {
    "duration": 13,
    "start_time": "2022-07-21T17:53:44.069Z"
   },
   {
    "duration": 164,
    "start_time": "2022-07-21T17:53:44.084Z"
   },
   {
    "duration": 6,
    "start_time": "2022-07-21T17:53:44.250Z"
   },
   {
    "duration": 106,
    "start_time": "2022-07-21T17:53:44.258Z"
   },
   {
    "duration": 226,
    "start_time": "2022-07-21T19:11:03.692Z"
   },
   {
    "duration": 1092,
    "start_time": "2022-07-21T19:11:52.538Z"
   },
   {
    "duration": 10,
    "start_time": "2022-07-21T20:12:21.064Z"
   },
   {
    "duration": 1189,
    "start_time": "2022-07-21T20:12:29.229Z"
   },
   {
    "duration": 424,
    "start_time": "2022-07-21T20:12:30.420Z"
   },
   {
    "duration": 19,
    "start_time": "2022-07-21T20:12:30.845Z"
   },
   {
    "duration": 82,
    "start_time": "2022-07-21T20:12:30.866Z"
   },
   {
    "duration": 10,
    "start_time": "2022-07-21T20:12:30.949Z"
   },
   {
    "duration": 36,
    "start_time": "2022-07-21T20:12:30.961Z"
   },
   {
    "duration": 30,
    "start_time": "2022-07-21T20:12:30.998Z"
   },
   {
    "duration": 41,
    "start_time": "2022-07-21T20:12:31.030Z"
   },
   {
    "duration": 38,
    "start_time": "2022-07-21T20:12:31.073Z"
   },
   {
    "duration": 22,
    "start_time": "2022-07-21T20:12:31.113Z"
   },
   {
    "duration": 58,
    "start_time": "2022-07-21T20:12:31.137Z"
   },
   {
    "duration": 12,
    "start_time": "2022-07-21T20:12:31.197Z"
   },
   {
    "duration": 32,
    "start_time": "2022-07-21T20:12:31.211Z"
   },
   {
    "duration": 26,
    "start_time": "2022-07-21T20:12:31.245Z"
   },
   {
    "duration": 48,
    "start_time": "2022-07-21T20:12:31.273Z"
   },
   {
    "duration": 39,
    "start_time": "2022-07-21T20:12:31.323Z"
   },
   {
    "duration": 62,
    "start_time": "2022-07-21T20:12:31.364Z"
   },
   {
    "duration": 22,
    "start_time": "2022-07-21T20:12:31.428Z"
   },
   {
    "duration": 37,
    "start_time": "2022-07-21T20:12:31.452Z"
   },
   {
    "duration": 55,
    "start_time": "2022-07-21T20:12:31.491Z"
   },
   {
    "duration": 12,
    "start_time": "2022-07-21T20:12:31.548Z"
   },
   {
    "duration": 31,
    "start_time": "2022-07-21T20:12:31.562Z"
   },
   {
    "duration": 49,
    "start_time": "2022-07-21T20:12:31.595Z"
   },
   {
    "duration": 727,
    "start_time": "2022-07-21T20:12:31.646Z"
   },
   {
    "duration": 18,
    "start_time": "2022-07-21T20:12:32.375Z"
   },
   {
    "duration": 13,
    "start_time": "2022-07-21T20:12:32.394Z"
   },
   {
    "duration": 7,
    "start_time": "2022-07-21T20:12:32.424Z"
   },
   {
    "duration": 27,
    "start_time": "2022-07-21T20:12:32.434Z"
   },
   {
    "duration": 21,
    "start_time": "2022-07-21T20:12:32.462Z"
   },
   {
    "duration": 9,
    "start_time": "2022-07-21T20:12:32.485Z"
   },
   {
    "duration": 15,
    "start_time": "2022-07-21T20:12:32.496Z"
   },
   {
    "duration": 28,
    "start_time": "2022-07-21T20:12:32.512Z"
   },
   {
    "duration": 478,
    "start_time": "2022-07-21T20:12:32.541Z"
   },
   {
    "duration": 242,
    "start_time": "2022-07-21T20:12:33.020Z"
   },
   {
    "duration": 4,
    "start_time": "2022-07-21T20:12:33.264Z"
   },
   {
    "duration": 55,
    "start_time": "2022-07-21T20:12:33.270Z"
   },
   {
    "duration": 372,
    "start_time": "2022-07-21T20:12:33.326Z"
   },
   {
    "duration": 4,
    "start_time": "2022-07-21T20:12:33.700Z"
   },
   {
    "duration": 58,
    "start_time": "2022-07-21T20:12:33.706Z"
   },
   {
    "duration": 33,
    "start_time": "2022-07-21T20:12:33.766Z"
   },
   {
    "duration": 35,
    "start_time": "2022-07-21T20:12:33.801Z"
   },
   {
    "duration": 392,
    "start_time": "2022-07-21T20:12:33.838Z"
   },
   {
    "duration": 501,
    "start_time": "2022-07-21T20:12:34.232Z"
   },
   {
    "duration": 26,
    "start_time": "2022-07-21T20:12:34.735Z"
   },
   {
    "duration": 694,
    "start_time": "2022-07-21T20:12:34.763Z"
   },
   {
    "duration": 66,
    "start_time": "2022-07-21T20:12:35.458Z"
   },
   {
    "duration": 122,
    "start_time": "2022-07-21T20:12:35.525Z"
   },
   {
    "duration": 2,
    "start_time": "2022-07-21T20:12:35.649Z"
   },
   {
    "duration": 7,
    "start_time": "2022-07-21T20:12:35.653Z"
   },
   {
    "duration": 182,
    "start_time": "2022-07-21T20:12:35.662Z"
   },
   {
    "duration": 4,
    "start_time": "2022-07-21T20:12:56.252Z"
   },
   {
    "duration": 3,
    "start_time": "2022-07-21T20:15:01.781Z"
   },
   {
    "duration": 3,
    "start_time": "2022-07-21T20:15:15.555Z"
   },
   {
    "duration": 4,
    "start_time": "2022-07-21T20:15:31.292Z"
   },
   {
    "duration": 274,
    "start_time": "2022-07-21T20:29:40.038Z"
   },
   {
    "duration": 71,
    "start_time": "2022-07-21T20:32:19.082Z"
   },
   {
    "duration": 53,
    "start_time": "2022-07-21T20:32:39.164Z"
   },
   {
    "duration": 52,
    "start_time": "2022-07-21T20:35:32.617Z"
   },
   {
    "duration": 303,
    "start_time": "2022-07-21T20:37:53.060Z"
   },
   {
    "duration": 276,
    "start_time": "2022-07-21T20:38:21.226Z"
   },
   {
    "duration": 1648,
    "start_time": "2022-07-22T11:09:05.542Z"
   },
   {
    "duration": 656,
    "start_time": "2022-07-22T11:09:07.193Z"
   },
   {
    "duration": 19,
    "start_time": "2022-07-22T11:09:07.850Z"
   },
   {
    "duration": 72,
    "start_time": "2022-07-22T11:09:07.871Z"
   },
   {
    "duration": 9,
    "start_time": "2022-07-22T11:09:07.945Z"
   },
   {
    "duration": 13,
    "start_time": "2022-07-22T11:09:07.955Z"
   },
   {
    "duration": 14,
    "start_time": "2022-07-22T11:09:07.969Z"
   },
   {
    "duration": 5,
    "start_time": "2022-07-22T11:09:07.989Z"
   },
   {
    "duration": 22,
    "start_time": "2022-07-22T11:09:07.996Z"
   },
   {
    "duration": 42,
    "start_time": "2022-07-22T11:09:08.022Z"
   },
   {
    "duration": 43,
    "start_time": "2022-07-22T11:09:08.067Z"
   },
   {
    "duration": 8,
    "start_time": "2022-07-22T11:09:08.113Z"
   },
   {
    "duration": 42,
    "start_time": "2022-07-22T11:09:08.123Z"
   },
   {
    "duration": 39,
    "start_time": "2022-07-22T11:09:08.168Z"
   },
   {
    "duration": 16,
    "start_time": "2022-07-22T11:09:08.210Z"
   },
   {
    "duration": 11,
    "start_time": "2022-07-22T11:09:08.228Z"
   },
   {
    "duration": 48,
    "start_time": "2022-07-22T11:09:08.241Z"
   },
   {
    "duration": 34,
    "start_time": "2022-07-22T11:09:08.291Z"
   },
   {
    "duration": 58,
    "start_time": "2022-07-22T11:09:08.327Z"
   },
   {
    "duration": 51,
    "start_time": "2022-07-22T11:09:08.404Z"
   },
   {
    "duration": 13,
    "start_time": "2022-07-22T11:09:08.458Z"
   },
   {
    "duration": 43,
    "start_time": "2022-07-22T11:09:08.473Z"
   },
   {
    "duration": 43,
    "start_time": "2022-07-22T11:09:08.518Z"
   },
   {
    "duration": 976,
    "start_time": "2022-07-22T11:09:08.563Z"
   },
   {
    "duration": 20,
    "start_time": "2022-07-22T11:09:09.541Z"
   },
   {
    "duration": 17,
    "start_time": "2022-07-22T11:09:09.563Z"
   },
   {
    "duration": 28,
    "start_time": "2022-07-22T11:09:09.582Z"
   },
   {
    "duration": 14,
    "start_time": "2022-07-22T11:09:09.614Z"
   },
   {
    "duration": 9,
    "start_time": "2022-07-22T11:09:09.630Z"
   },
   {
    "duration": 12,
    "start_time": "2022-07-22T11:09:09.642Z"
   },
   {
    "duration": 9,
    "start_time": "2022-07-22T11:09:09.656Z"
   },
   {
    "duration": 38,
    "start_time": "2022-07-22T11:09:09.667Z"
   },
   {
    "duration": 929,
    "start_time": "2022-07-22T11:09:09.706Z"
   },
   {
    "duration": 697,
    "start_time": "2022-07-22T11:09:10.637Z"
   },
   {
    "duration": 6,
    "start_time": "2022-07-22T11:09:11.337Z"
   },
   {
    "duration": 161,
    "start_time": "2022-07-22T11:09:11.345Z"
   },
   {
    "duration": 898,
    "start_time": "2022-07-22T11:09:11.508Z"
   },
   {
    "duration": 5,
    "start_time": "2022-07-22T11:09:12.409Z"
   },
   {
    "duration": 56,
    "start_time": "2022-07-22T11:09:12.416Z"
   },
   {
    "duration": 64,
    "start_time": "2022-07-22T11:09:12.473Z"
   },
   {
    "duration": 31,
    "start_time": "2022-07-22T11:09:12.540Z"
   },
   {
    "duration": 484,
    "start_time": "2022-07-22T11:09:12.574Z"
   },
   {
    "duration": 534,
    "start_time": "2022-07-22T11:09:13.060Z"
   },
   {
    "duration": 23,
    "start_time": "2022-07-22T11:09:13.596Z"
   },
   {
    "duration": 412,
    "start_time": "2022-07-22T11:09:13.621Z"
   },
   {
    "duration": 14,
    "start_time": "2022-07-22T11:09:14.036Z"
   },
   {
    "duration": 184,
    "start_time": "2022-07-22T11:09:14.052Z"
   },
   {
    "duration": 347,
    "start_time": "2022-07-22T11:09:14.238Z"
   },
   {
    "duration": 5,
    "start_time": "2022-07-22T11:09:14.588Z"
   },
   {
    "duration": 110,
    "start_time": "2022-07-22T11:09:14.595Z"
   },
   {
    "duration": 4,
    "start_time": "2022-07-22T11:13:24.373Z"
   },
   {
    "duration": 7,
    "start_time": "2022-07-22T11:15:46.721Z"
   },
   {
    "duration": 5,
    "start_time": "2022-07-22T11:16:33.874Z"
   },
   {
    "duration": 1261,
    "start_time": "2022-07-22T11:38:38.651Z"
   },
   {
    "duration": 615,
    "start_time": "2022-07-22T11:38:39.915Z"
   },
   {
    "duration": 19,
    "start_time": "2022-07-22T11:38:40.532Z"
   },
   {
    "duration": 107,
    "start_time": "2022-07-22T11:38:40.553Z"
   },
   {
    "duration": 11,
    "start_time": "2022-07-22T11:38:40.663Z"
   },
   {
    "duration": 6,
    "start_time": "2022-07-22T11:38:40.676Z"
   },
   {
    "duration": 10,
    "start_time": "2022-07-22T11:38:40.684Z"
   },
   {
    "duration": 6,
    "start_time": "2022-07-22T11:38:40.695Z"
   },
   {
    "duration": 7,
    "start_time": "2022-07-22T11:38:40.703Z"
   },
   {
    "duration": 6,
    "start_time": "2022-07-22T11:38:40.712Z"
   },
   {
    "duration": 27,
    "start_time": "2022-07-22T11:38:40.720Z"
   },
   {
    "duration": 3,
    "start_time": "2022-07-22T11:38:40.749Z"
   },
   {
    "duration": 17,
    "start_time": "2022-07-22T11:38:40.753Z"
   },
   {
    "duration": 31,
    "start_time": "2022-07-22T11:38:40.773Z"
   },
   {
    "duration": 6,
    "start_time": "2022-07-22T11:38:40.806Z"
   },
   {
    "duration": 15,
    "start_time": "2022-07-22T11:38:40.814Z"
   },
   {
    "duration": 46,
    "start_time": "2022-07-22T11:38:40.831Z"
   },
   {
    "duration": 47,
    "start_time": "2022-07-22T11:38:40.878Z"
   },
   {
    "duration": 40,
    "start_time": "2022-07-22T11:38:40.926Z"
   },
   {
    "duration": 61,
    "start_time": "2022-07-22T11:38:40.968Z"
   },
   {
    "duration": 12,
    "start_time": "2022-07-22T11:38:41.031Z"
   },
   {
    "duration": 34,
    "start_time": "2022-07-22T11:38:41.044Z"
   },
   {
    "duration": 54,
    "start_time": "2022-07-22T11:38:41.079Z"
   },
   {
    "duration": 825,
    "start_time": "2022-07-22T11:38:41.134Z"
   },
   {
    "duration": 20,
    "start_time": "2022-07-22T11:38:41.961Z"
   },
   {
    "duration": 24,
    "start_time": "2022-07-22T11:38:41.983Z"
   },
   {
    "duration": 8,
    "start_time": "2022-07-22T11:38:42.009Z"
   },
   {
    "duration": 10,
    "start_time": "2022-07-22T11:38:42.018Z"
   },
   {
    "duration": 10,
    "start_time": "2022-07-22T11:38:42.030Z"
   },
   {
    "duration": 11,
    "start_time": "2022-07-22T11:38:42.042Z"
   },
   {
    "duration": 19,
    "start_time": "2022-07-22T11:38:42.055Z"
   },
   {
    "duration": 35,
    "start_time": "2022-07-22T11:38:42.076Z"
   },
   {
    "duration": 514,
    "start_time": "2022-07-22T11:38:42.113Z"
   },
   {
    "duration": 255,
    "start_time": "2022-07-22T11:38:42.629Z"
   },
   {
    "duration": 5,
    "start_time": "2022-07-22T11:38:42.886Z"
   },
   {
    "duration": 48,
    "start_time": "2022-07-22T11:38:42.892Z"
   },
   {
    "duration": 403,
    "start_time": "2022-07-22T11:38:42.942Z"
   },
   {
    "duration": 5,
    "start_time": "2022-07-22T11:38:43.346Z"
   },
   {
    "duration": 58,
    "start_time": "2022-07-22T11:38:43.352Z"
   },
   {
    "duration": 35,
    "start_time": "2022-07-22T11:38:43.412Z"
   },
   {
    "duration": 19,
    "start_time": "2022-07-22T11:38:43.451Z"
   },
   {
    "duration": 445,
    "start_time": "2022-07-22T11:38:43.471Z"
   },
   {
    "duration": 526,
    "start_time": "2022-07-22T11:38:43.918Z"
   },
   {
    "duration": 4,
    "start_time": "2022-07-22T11:38:44.446Z"
   },
   {
    "duration": 75,
    "start_time": "2022-07-22T11:38:44.452Z"
   },
   {
    "duration": 49,
    "start_time": "2022-07-22T11:38:44.529Z"
   },
   {
    "duration": 727,
    "start_time": "2022-07-22T11:38:44.580Z"
   },
   {
    "duration": 11,
    "start_time": "2022-07-22T11:38:45.309Z"
   },
   {
    "duration": 196,
    "start_time": "2022-07-22T11:38:45.323Z"
   },
   {
    "duration": 619,
    "start_time": "2022-07-22T11:38:45.521Z"
   },
   {
    "duration": 6,
    "start_time": "2022-07-22T11:38:46.142Z"
   },
   {
    "duration": 177,
    "start_time": "2022-07-22T11:38:46.150Z"
   },
   {
    "duration": 67,
    "start_time": "2022-07-22T11:39:27.349Z"
   },
   {
    "duration": 1337,
    "start_time": "2022-07-22T11:41:37.569Z"
   },
   {
    "duration": 252,
    "start_time": "2022-07-22T11:41:38.908Z"
   },
   {
    "duration": 19,
    "start_time": "2022-07-22T11:41:39.161Z"
   },
   {
    "duration": 88,
    "start_time": "2022-07-22T11:41:39.183Z"
   },
   {
    "duration": 13,
    "start_time": "2022-07-22T11:41:39.274Z"
   },
   {
    "duration": 28,
    "start_time": "2022-07-22T11:41:39.289Z"
   },
   {
    "duration": 39,
    "start_time": "2022-07-22T11:41:39.318Z"
   },
   {
    "duration": 18,
    "start_time": "2022-07-22T11:41:39.359Z"
   },
   {
    "duration": 26,
    "start_time": "2022-07-22T11:41:39.378Z"
   },
   {
    "duration": 40,
    "start_time": "2022-07-22T11:41:39.407Z"
   },
   {
    "duration": 59,
    "start_time": "2022-07-22T11:41:39.449Z"
   },
   {
    "duration": 21,
    "start_time": "2022-07-22T11:41:39.510Z"
   },
   {
    "duration": 44,
    "start_time": "2022-07-22T11:41:39.533Z"
   },
   {
    "duration": 26,
    "start_time": "2022-07-22T11:41:39.579Z"
   },
   {
    "duration": 26,
    "start_time": "2022-07-22T11:41:39.607Z"
   },
   {
    "duration": 24,
    "start_time": "2022-07-22T11:41:39.634Z"
   },
   {
    "duration": 58,
    "start_time": "2022-07-22T11:41:39.659Z"
   },
   {
    "duration": 23,
    "start_time": "2022-07-22T11:41:39.719Z"
   },
   {
    "duration": 61,
    "start_time": "2022-07-22T11:41:39.749Z"
   },
   {
    "duration": 53,
    "start_time": "2022-07-22T11:41:39.812Z"
   },
   {
    "duration": 13,
    "start_time": "2022-07-22T11:41:39.867Z"
   },
   {
    "duration": 40,
    "start_time": "2022-07-22T11:41:39.882Z"
   },
   {
    "duration": 50,
    "start_time": "2022-07-22T11:41:39.923Z"
   },
   {
    "duration": 794,
    "start_time": "2022-07-22T11:41:39.974Z"
   },
   {
    "duration": 34,
    "start_time": "2022-07-22T11:41:40.770Z"
   },
   {
    "duration": 17,
    "start_time": "2022-07-22T11:41:40.806Z"
   },
   {
    "duration": 9,
    "start_time": "2022-07-22T11:41:40.825Z"
   },
   {
    "duration": 13,
    "start_time": "2022-07-22T11:41:40.839Z"
   },
   {
    "duration": 6,
    "start_time": "2022-07-22T11:41:40.854Z"
   },
   {
    "duration": 12,
    "start_time": "2022-07-22T11:41:40.862Z"
   },
   {
    "duration": 34,
    "start_time": "2022-07-22T11:41:40.876Z"
   },
   {
    "duration": 26,
    "start_time": "2022-07-22T11:41:40.911Z"
   },
   {
    "duration": 549,
    "start_time": "2022-07-22T11:41:40.939Z"
   },
   {
    "duration": 261,
    "start_time": "2022-07-22T11:41:41.489Z"
   },
   {
    "duration": 4,
    "start_time": "2022-07-22T11:41:41.752Z"
   },
   {
    "duration": 61,
    "start_time": "2022-07-22T11:41:41.758Z"
   },
   {
    "duration": 409,
    "start_time": "2022-07-22T11:41:41.821Z"
   },
   {
    "duration": 5,
    "start_time": "2022-07-22T11:41:42.232Z"
   },
   {
    "duration": 68,
    "start_time": "2022-07-22T11:41:42.239Z"
   },
   {
    "duration": 36,
    "start_time": "2022-07-22T11:41:42.309Z"
   },
   {
    "duration": 16,
    "start_time": "2022-07-22T11:41:42.347Z"
   },
   {
    "duration": 469,
    "start_time": "2022-07-22T11:41:42.365Z"
   },
   {
    "duration": 531,
    "start_time": "2022-07-22T11:41:42.836Z"
   },
   {
    "duration": 5,
    "start_time": "2022-07-22T11:41:43.369Z"
   },
   {
    "duration": 55,
    "start_time": "2022-07-22T11:41:43.375Z"
   },
   {
    "duration": 73,
    "start_time": "2022-07-22T11:41:43.432Z"
   },
   {
    "duration": 0,
    "start_time": "2022-07-22T11:41:43.507Z"
   },
   {
    "duration": 0,
    "start_time": "2022-07-22T11:41:43.508Z"
   },
   {
    "duration": 0,
    "start_time": "2022-07-22T11:41:43.510Z"
   },
   {
    "duration": 0,
    "start_time": "2022-07-22T11:41:43.512Z"
   },
   {
    "duration": 0,
    "start_time": "2022-07-22T11:41:43.514Z"
   },
   {
    "duration": 0,
    "start_time": "2022-07-22T11:41:43.516Z"
   },
   {
    "duration": 0,
    "start_time": "2022-07-22T11:41:43.517Z"
   },
   {
    "duration": 35,
    "start_time": "2022-07-22T11:42:34.750Z"
   },
   {
    "duration": 1261,
    "start_time": "2022-07-22T11:49:50.119Z"
   },
   {
    "duration": 265,
    "start_time": "2022-07-22T11:49:51.382Z"
   },
   {
    "duration": 18,
    "start_time": "2022-07-22T11:49:51.649Z"
   },
   {
    "duration": 87,
    "start_time": "2022-07-22T11:49:51.670Z"
   },
   {
    "duration": 11,
    "start_time": "2022-07-22T11:49:51.758Z"
   },
   {
    "duration": 8,
    "start_time": "2022-07-22T11:49:51.770Z"
   },
   {
    "duration": 10,
    "start_time": "2022-07-22T11:49:51.780Z"
   },
   {
    "duration": 7,
    "start_time": "2022-07-22T11:49:51.792Z"
   },
   {
    "duration": 22,
    "start_time": "2022-07-22T11:49:51.800Z"
   },
   {
    "duration": 5,
    "start_time": "2022-07-22T11:49:51.825Z"
   },
   {
    "duration": 26,
    "start_time": "2022-07-22T11:49:51.832Z"
   },
   {
    "duration": 3,
    "start_time": "2022-07-22T11:49:51.860Z"
   },
   {
    "duration": 16,
    "start_time": "2022-07-22T11:49:51.864Z"
   },
   {
    "duration": 10,
    "start_time": "2022-07-22T11:49:51.882Z"
   },
   {
    "duration": 15,
    "start_time": "2022-07-22T11:49:51.894Z"
   },
   {
    "duration": 23,
    "start_time": "2022-07-22T11:49:51.911Z"
   },
   {
    "duration": 54,
    "start_time": "2022-07-22T11:49:51.936Z"
   },
   {
    "duration": 38,
    "start_time": "2022-07-22T11:49:51.992Z"
   },
   {
    "duration": 39,
    "start_time": "2022-07-22T11:49:52.032Z"
   },
   {
    "duration": 56,
    "start_time": "2022-07-22T11:49:52.072Z"
   },
   {
    "duration": 15,
    "start_time": "2022-07-22T11:49:52.130Z"
   },
   {
    "duration": 21,
    "start_time": "2022-07-22T11:49:52.147Z"
   },
   {
    "duration": 71,
    "start_time": "2022-07-22T11:49:52.170Z"
   },
   {
    "duration": 973,
    "start_time": "2022-07-22T11:49:52.243Z"
   },
   {
    "duration": 20,
    "start_time": "2022-07-22T11:49:53.218Z"
   },
   {
    "duration": 67,
    "start_time": "2022-07-22T11:49:53.239Z"
   },
   {
    "duration": 20,
    "start_time": "2022-07-22T11:49:53.308Z"
   },
   {
    "duration": 9,
    "start_time": "2022-07-22T11:49:53.331Z"
   },
   {
    "duration": 23,
    "start_time": "2022-07-22T11:49:53.341Z"
   },
   {
    "duration": 15,
    "start_time": "2022-07-22T11:49:53.405Z"
   },
   {
    "duration": 10,
    "start_time": "2022-07-22T11:49:53.421Z"
   },
   {
    "duration": 73,
    "start_time": "2022-07-22T11:49:53.433Z"
   },
   {
    "duration": 1136,
    "start_time": "2022-07-22T11:49:53.508Z"
   },
   {
    "duration": 412,
    "start_time": "2022-07-22T11:49:54.645Z"
   },
   {
    "duration": 4,
    "start_time": "2022-07-22T11:49:55.059Z"
   },
   {
    "duration": 54,
    "start_time": "2022-07-22T11:49:55.065Z"
   },
   {
    "duration": 440,
    "start_time": "2022-07-22T11:49:55.121Z"
   },
   {
    "duration": 6,
    "start_time": "2022-07-22T11:49:55.563Z"
   },
   {
    "duration": 67,
    "start_time": "2022-07-22T11:49:55.571Z"
   },
   {
    "duration": 36,
    "start_time": "2022-07-22T11:49:55.639Z"
   },
   {
    "duration": 36,
    "start_time": "2022-07-22T11:49:55.677Z"
   },
   {
    "duration": 452,
    "start_time": "2022-07-22T11:49:55.715Z"
   },
   {
    "duration": 564,
    "start_time": "2022-07-22T11:49:56.169Z"
   },
   {
    "duration": 21,
    "start_time": "2022-07-22T11:49:56.735Z"
   },
   {
    "duration": 434,
    "start_time": "2022-07-22T11:49:56.757Z"
   },
   {
    "duration": 12,
    "start_time": "2022-07-22T11:49:57.193Z"
   },
   {
    "duration": 143,
    "start_time": "2022-07-22T11:49:57.207Z"
   },
   {
    "duration": 311,
    "start_time": "2022-07-22T11:49:57.352Z"
   },
   {
    "duration": 5,
    "start_time": "2022-07-22T11:49:57.665Z"
   },
   {
    "duration": 90,
    "start_time": "2022-07-22T11:49:57.672Z"
   },
   {
    "duration": 73,
    "start_time": "2022-07-22T12:06:46.353Z"
   },
   {
    "duration": 71,
    "start_time": "2022-07-22T12:07:40.194Z"
   },
   {
    "duration": 182,
    "start_time": "2022-07-22T12:14:29.705Z"
   },
   {
    "duration": 26,
    "start_time": "2022-07-22T12:14:46.894Z"
   },
   {
    "duration": 80,
    "start_time": "2022-07-22T12:15:01.767Z"
   },
   {
    "duration": 78,
    "start_time": "2022-07-22T12:15:52.703Z"
   },
   {
    "duration": 84,
    "start_time": "2022-07-22T12:16:13.157Z"
   },
   {
    "duration": 80,
    "start_time": "2022-07-22T12:17:12.653Z"
   },
   {
    "duration": 82,
    "start_time": "2022-07-22T12:20:45.472Z"
   },
   {
    "duration": 79,
    "start_time": "2022-07-22T12:21:12.522Z"
   },
   {
    "duration": 176,
    "start_time": "2022-07-22T12:22:41.073Z"
   },
   {
    "duration": 80,
    "start_time": "2022-07-22T12:22:54.502Z"
   },
   {
    "duration": 77,
    "start_time": "2022-07-22T12:27:12.302Z"
   },
   {
    "duration": 74,
    "start_time": "2022-07-22T12:59:25.750Z"
   },
   {
    "duration": 356,
    "start_time": "2022-07-22T12:59:44.404Z"
   },
   {
    "duration": 335,
    "start_time": "2022-07-22T13:00:04.202Z"
   },
   {
    "duration": 354,
    "start_time": "2022-07-22T13:01:09.281Z"
   },
   {
    "duration": 530,
    "start_time": "2022-07-22T13:01:31.549Z"
   },
   {
    "duration": 294,
    "start_time": "2022-07-22T13:08:59.165Z"
   },
   {
    "duration": 383,
    "start_time": "2022-07-22T13:09:24.904Z"
   },
   {
    "duration": 297,
    "start_time": "2022-07-22T13:10:09.356Z"
   },
   {
    "duration": 316,
    "start_time": "2022-07-22T13:11:15.221Z"
   },
   {
    "duration": 221,
    "start_time": "2022-07-22T13:14:05.268Z"
   },
   {
    "duration": 229,
    "start_time": "2022-07-22T13:14:40.014Z"
   },
   {
    "duration": 391,
    "start_time": "2022-07-22T13:16:15.401Z"
   },
   {
    "duration": 318,
    "start_time": "2022-07-22T13:16:36.956Z"
   },
   {
    "duration": 464,
    "start_time": "2022-07-22T13:19:38.048Z"
   },
   {
    "duration": 343,
    "start_time": "2022-07-22T13:22:28.879Z"
   },
   {
    "duration": 274,
    "start_time": "2022-07-22T13:25:13.198Z"
   },
   {
    "duration": 342,
    "start_time": "2022-07-22T13:27:15.064Z"
   },
   {
    "duration": 308,
    "start_time": "2022-07-22T13:27:51.488Z"
   },
   {
    "duration": 324,
    "start_time": "2022-07-22T13:28:05.964Z"
   },
   {
    "duration": 339,
    "start_time": "2022-07-22T13:29:11.413Z"
   },
   {
    "duration": 422,
    "start_time": "2022-07-22T13:30:12.840Z"
   },
   {
    "duration": 310,
    "start_time": "2022-07-22T13:30:56.109Z"
   },
   {
    "duration": 333,
    "start_time": "2022-07-22T13:32:22.060Z"
   },
   {
    "duration": 322,
    "start_time": "2022-07-22T13:32:28.348Z"
   },
   {
    "duration": 311,
    "start_time": "2022-07-22T13:32:39.771Z"
   },
   {
    "duration": 284,
    "start_time": "2022-07-22T13:33:09.165Z"
   },
   {
    "duration": 276,
    "start_time": "2022-07-22T13:33:24.461Z"
   },
   {
    "duration": 688,
    "start_time": "2022-07-22T13:37:28.899Z"
   },
   {
    "duration": 9,
    "start_time": "2022-07-22T13:40:09.003Z"
   },
   {
    "duration": 491,
    "start_time": "2022-07-22T13:40:16.848Z"
   },
   {
    "duration": 266,
    "start_time": "2022-07-22T13:41:19.259Z"
   },
   {
    "duration": 283,
    "start_time": "2022-07-22T13:41:37.390Z"
   },
   {
    "duration": 305,
    "start_time": "2022-07-22T13:42:56.019Z"
   },
   {
    "duration": 1223,
    "start_time": "2022-07-22T13:43:12.174Z"
   },
   {
    "duration": 222,
    "start_time": "2022-07-22T13:43:13.399Z"
   },
   {
    "duration": 17,
    "start_time": "2022-07-22T13:43:13.622Z"
   },
   {
    "duration": 100,
    "start_time": "2022-07-22T13:43:13.641Z"
   },
   {
    "duration": 10,
    "start_time": "2022-07-22T13:43:13.743Z"
   },
   {
    "duration": 6,
    "start_time": "2022-07-22T13:43:13.755Z"
   },
   {
    "duration": 7,
    "start_time": "2022-07-22T13:43:13.763Z"
   },
   {
    "duration": 7,
    "start_time": "2022-07-22T13:43:13.772Z"
   },
   {
    "duration": 9,
    "start_time": "2022-07-22T13:43:13.781Z"
   },
   {
    "duration": 4,
    "start_time": "2022-07-22T13:43:13.793Z"
   },
   {
    "duration": 27,
    "start_time": "2022-07-22T13:43:13.799Z"
   },
   {
    "duration": 3,
    "start_time": "2022-07-22T13:43:13.828Z"
   },
   {
    "duration": 16,
    "start_time": "2022-07-22T13:43:13.833Z"
   },
   {
    "duration": 11,
    "start_time": "2022-07-22T13:43:13.851Z"
   },
   {
    "duration": 7,
    "start_time": "2022-07-22T13:43:13.863Z"
   },
   {
    "duration": 39,
    "start_time": "2022-07-22T13:43:13.871Z"
   },
   {
    "duration": 42,
    "start_time": "2022-07-22T13:43:13.912Z"
   },
   {
    "duration": 23,
    "start_time": "2022-07-22T13:43:13.956Z"
   },
   {
    "duration": 57,
    "start_time": "2022-07-22T13:43:13.980Z"
   },
   {
    "duration": 41,
    "start_time": "2022-07-22T13:43:14.038Z"
   },
   {
    "duration": 28,
    "start_time": "2022-07-22T13:43:14.081Z"
   },
   {
    "duration": 19,
    "start_time": "2022-07-22T13:43:14.111Z"
   },
   {
    "duration": 42,
    "start_time": "2022-07-22T13:43:14.132Z"
   },
   {
    "duration": 865,
    "start_time": "2022-07-22T13:43:14.175Z"
   },
   {
    "duration": 19,
    "start_time": "2022-07-22T13:43:15.043Z"
   },
   {
    "duration": 15,
    "start_time": "2022-07-22T13:43:15.064Z"
   },
   {
    "duration": 23,
    "start_time": "2022-07-22T13:43:15.081Z"
   },
   {
    "duration": 9,
    "start_time": "2022-07-22T13:43:15.109Z"
   },
   {
    "duration": 9,
    "start_time": "2022-07-22T13:43:15.119Z"
   },
   {
    "duration": 8,
    "start_time": "2022-07-22T13:43:15.130Z"
   },
   {
    "duration": 8,
    "start_time": "2022-07-22T13:43:15.140Z"
   },
   {
    "duration": 22,
    "start_time": "2022-07-22T13:43:15.149Z"
   },
   {
    "duration": 528,
    "start_time": "2022-07-22T13:43:15.173Z"
   },
   {
    "duration": 250,
    "start_time": "2022-07-22T13:43:15.703Z"
   },
   {
    "duration": 5,
    "start_time": "2022-07-22T13:43:15.954Z"
   },
   {
    "duration": 55,
    "start_time": "2022-07-22T13:43:15.960Z"
   },
   {
    "duration": 423,
    "start_time": "2022-07-22T13:43:16.017Z"
   },
   {
    "duration": 5,
    "start_time": "2022-07-22T13:43:16.442Z"
   },
   {
    "duration": 68,
    "start_time": "2022-07-22T13:43:16.449Z"
   },
   {
    "duration": 50,
    "start_time": "2022-07-22T13:43:16.518Z"
   },
   {
    "duration": 34,
    "start_time": "2022-07-22T13:43:16.571Z"
   },
   {
    "duration": 471,
    "start_time": "2022-07-22T13:43:16.608Z"
   },
   {
    "duration": 496,
    "start_time": "2022-07-22T13:43:17.081Z"
   },
   {
    "duration": 27,
    "start_time": "2022-07-22T13:43:17.578Z"
   },
   {
    "duration": 389,
    "start_time": "2022-07-22T13:43:17.606Z"
   },
   {
    "duration": 9,
    "start_time": "2022-07-22T13:43:17.997Z"
   },
   {
    "duration": 363,
    "start_time": "2022-07-22T13:43:18.008Z"
   },
   {
    "duration": 392,
    "start_time": "2022-07-22T13:43:18.372Z"
   },
   {
    "duration": 0,
    "start_time": "2022-07-22T13:43:18.765Z"
   },
   {
    "duration": 0,
    "start_time": "2022-07-22T13:43:18.766Z"
   },
   {
    "duration": 79,
    "start_time": "2022-07-22T13:56:16.565Z"
   },
   {
    "duration": 16,
    "start_time": "2022-07-22T13:56:23.653Z"
   },
   {
    "duration": 18,
    "start_time": "2022-07-22T13:56:45.674Z"
   },
   {
    "duration": 81,
    "start_time": "2022-07-22T13:57:02.454Z"
   },
   {
    "duration": 76,
    "start_time": "2022-07-22T13:57:08.353Z"
   },
   {
    "duration": 19,
    "start_time": "2022-07-22T13:57:26.249Z"
   },
   {
    "duration": 158,
    "start_time": "2022-07-22T14:11:35.245Z"
   },
   {
    "duration": 80,
    "start_time": "2022-07-22T14:11:42.948Z"
   },
   {
    "duration": 340,
    "start_time": "2022-07-22T14:11:58.576Z"
   },
   {
    "duration": 116,
    "start_time": "2022-07-22T14:13:39.057Z"
   },
   {
    "duration": 134,
    "start_time": "2022-07-22T14:13:54.365Z"
   },
   {
    "duration": 363,
    "start_time": "2022-07-22T14:14:31.560Z"
   },
   {
    "duration": 351,
    "start_time": "2022-07-22T14:22:03.940Z"
   },
   {
    "duration": 359,
    "start_time": "2022-07-22T14:24:03.845Z"
   },
   {
    "duration": 88,
    "start_time": "2022-07-22T14:25:34.579Z"
   },
   {
    "duration": 58,
    "start_time": "2022-07-22T14:25:40.649Z"
   },
   {
    "duration": 59,
    "start_time": "2022-07-22T14:25:51.487Z"
   },
   {
    "duration": 1227,
    "start_time": "2022-07-22T14:26:09.777Z"
   },
   {
    "duration": 189,
    "start_time": "2022-07-22T14:26:11.006Z"
   },
   {
    "duration": 20,
    "start_time": "2022-07-22T14:26:11.197Z"
   },
   {
    "duration": 61,
    "start_time": "2022-07-22T14:26:11.219Z"
   },
   {
    "duration": 10,
    "start_time": "2022-07-22T14:26:11.283Z"
   },
   {
    "duration": 6,
    "start_time": "2022-07-22T14:26:11.295Z"
   },
   {
    "duration": 7,
    "start_time": "2022-07-22T14:26:11.303Z"
   },
   {
    "duration": 4,
    "start_time": "2022-07-22T14:26:11.312Z"
   },
   {
    "duration": 9,
    "start_time": "2022-07-22T14:26:11.318Z"
   },
   {
    "duration": 6,
    "start_time": "2022-07-22T14:26:11.329Z"
   },
   {
    "duration": 27,
    "start_time": "2022-07-22T14:26:11.337Z"
   },
   {
    "duration": 4,
    "start_time": "2022-07-22T14:26:11.365Z"
   },
   {
    "duration": 34,
    "start_time": "2022-07-22T14:26:11.370Z"
   },
   {
    "duration": 10,
    "start_time": "2022-07-22T14:26:11.407Z"
   },
   {
    "duration": 5,
    "start_time": "2022-07-22T14:26:11.419Z"
   },
   {
    "duration": 11,
    "start_time": "2022-07-22T14:26:11.425Z"
   },
   {
    "duration": 68,
    "start_time": "2022-07-22T14:26:11.438Z"
   },
   {
    "duration": 25,
    "start_time": "2022-07-22T14:26:11.508Z"
   },
   {
    "duration": 46,
    "start_time": "2022-07-22T14:26:11.534Z"
   },
   {
    "duration": 59,
    "start_time": "2022-07-22T14:26:11.582Z"
   },
   {
    "duration": 13,
    "start_time": "2022-07-22T14:26:11.643Z"
   },
   {
    "duration": 20,
    "start_time": "2022-07-22T14:26:11.657Z"
   },
   {
    "duration": 62,
    "start_time": "2022-07-22T14:26:11.678Z"
   },
   {
    "duration": 755,
    "start_time": "2022-07-22T14:26:11.742Z"
   },
   {
    "duration": 22,
    "start_time": "2022-07-22T14:26:12.498Z"
   },
   {
    "duration": 13,
    "start_time": "2022-07-22T14:26:12.521Z"
   },
   {
    "duration": 6,
    "start_time": "2022-07-22T14:26:12.536Z"
   },
   {
    "duration": 12,
    "start_time": "2022-07-22T14:26:12.544Z"
   },
   {
    "duration": 9,
    "start_time": "2022-07-22T14:26:12.557Z"
   },
   {
    "duration": 9,
    "start_time": "2022-07-22T14:26:12.567Z"
   },
   {
    "duration": 28,
    "start_time": "2022-07-22T14:26:12.578Z"
   },
   {
    "duration": 22,
    "start_time": "2022-07-22T14:26:12.607Z"
   },
   {
    "duration": 513,
    "start_time": "2022-07-22T14:26:12.630Z"
   },
   {
    "duration": 260,
    "start_time": "2022-07-22T14:26:13.144Z"
   },
   {
    "duration": 4,
    "start_time": "2022-07-22T14:26:13.406Z"
   },
   {
    "duration": 40,
    "start_time": "2022-07-22T14:26:13.412Z"
   },
   {
    "duration": 420,
    "start_time": "2022-07-22T14:26:13.454Z"
   },
   {
    "duration": 5,
    "start_time": "2022-07-22T14:26:13.876Z"
   },
   {
    "duration": 142,
    "start_time": "2022-07-22T14:26:13.883Z"
   },
   {
    "duration": 39,
    "start_time": "2022-07-22T14:26:14.027Z"
   },
   {
    "duration": 36,
    "start_time": "2022-07-22T14:26:14.069Z"
   },
   {
    "duration": 457,
    "start_time": "2022-07-22T14:26:14.107Z"
   },
   {
    "duration": 550,
    "start_time": "2022-07-22T14:26:14.565Z"
   },
   {
    "duration": 19,
    "start_time": "2022-07-22T14:26:15.117Z"
   },
   {
    "duration": 536,
    "start_time": "2022-07-22T14:26:15.138Z"
   },
   {
    "duration": 13,
    "start_time": "2022-07-22T14:26:15.675Z"
   },
   {
    "duration": 279,
    "start_time": "2022-07-22T14:26:15.691Z"
   },
   {
    "duration": 0,
    "start_time": "2022-07-22T14:26:15.972Z"
   },
   {
    "duration": 0,
    "start_time": "2022-07-22T14:26:15.973Z"
   },
   {
    "duration": 0,
    "start_time": "2022-07-22T14:26:15.974Z"
   },
   {
    "duration": 56,
    "start_time": "2022-07-22T14:27:22.154Z"
   },
   {
    "duration": 96,
    "start_time": "2022-07-22T14:27:48.258Z"
   },
   {
    "duration": 100,
    "start_time": "2022-07-22T14:28:10.369Z"
   },
   {
    "duration": 221,
    "start_time": "2022-07-22T14:29:08.753Z"
   },
   {
    "duration": 112,
    "start_time": "2022-07-22T14:31:19.996Z"
   },
   {
    "duration": 90,
    "start_time": "2022-07-22T14:31:27.351Z"
   },
   {
    "duration": 103,
    "start_time": "2022-07-22T14:34:30.810Z"
   },
   {
    "duration": 184,
    "start_time": "2022-07-22T14:41:48.198Z"
   },
   {
    "duration": 120,
    "start_time": "2022-07-22T15:03:33.213Z"
   },
   {
    "duration": 76,
    "start_time": "2022-07-22T15:09:37.241Z"
   },
   {
    "duration": 6,
    "start_time": "2022-07-22T15:09:45.914Z"
   },
   {
    "duration": 28,
    "start_time": "2022-07-22T15:11:54.575Z"
   },
   {
    "duration": 37,
    "start_time": "2022-07-22T15:12:01.390Z"
   },
   {
    "duration": 96,
    "start_time": "2022-07-22T15:12:54.267Z"
   },
   {
    "duration": 5,
    "start_time": "2022-07-22T15:26:48.885Z"
   },
   {
    "duration": 4,
    "start_time": "2022-07-22T15:28:39.894Z"
   },
   {
    "duration": 36,
    "start_time": "2022-07-22T15:31:37.825Z"
   },
   {
    "duration": 87,
    "start_time": "2022-07-22T15:31:48.289Z"
   },
   {
    "duration": 6,
    "start_time": "2022-07-22T15:45:55.817Z"
   },
   {
    "duration": 94,
    "start_time": "2022-07-22T15:45:59.786Z"
   },
   {
    "duration": 7,
    "start_time": "2022-07-22T15:52:16.862Z"
   },
   {
    "duration": 5,
    "start_time": "2022-07-22T15:52:17.151Z"
   },
   {
    "duration": 1278,
    "start_time": "2022-07-22T15:52:18.160Z"
   },
   {
    "duration": 5,
    "start_time": "2022-07-22T15:52:50.329Z"
   },
   {
    "duration": 5,
    "start_time": "2022-07-22T15:52:51.169Z"
   },
   {
    "duration": 57,
    "start_time": "2022-07-22T15:52:52.681Z"
   },
   {
    "duration": 1314,
    "start_time": "2022-07-22T15:53:04.695Z"
   },
   {
    "duration": 547,
    "start_time": "2022-07-22T15:53:06.011Z"
   },
   {
    "duration": 22,
    "start_time": "2022-07-22T15:53:06.563Z"
   },
   {
    "duration": 133,
    "start_time": "2022-07-22T15:53:06.587Z"
   },
   {
    "duration": 15,
    "start_time": "2022-07-22T15:53:06.722Z"
   },
   {
    "duration": 12,
    "start_time": "2022-07-22T15:53:06.739Z"
   },
   {
    "duration": 14,
    "start_time": "2022-07-22T15:53:06.753Z"
   },
   {
    "duration": 16,
    "start_time": "2022-07-22T15:53:06.771Z"
   },
   {
    "duration": 17,
    "start_time": "2022-07-22T15:53:06.789Z"
   },
   {
    "duration": 6,
    "start_time": "2022-07-22T15:53:06.807Z"
   },
   {
    "duration": 30,
    "start_time": "2022-07-22T15:53:06.815Z"
   },
   {
    "duration": 4,
    "start_time": "2022-07-22T15:53:06.846Z"
   },
   {
    "duration": 20,
    "start_time": "2022-07-22T15:53:06.852Z"
   },
   {
    "duration": 10,
    "start_time": "2022-07-22T15:53:06.874Z"
   },
   {
    "duration": 6,
    "start_time": "2022-07-22T15:53:06.904Z"
   },
   {
    "duration": 14,
    "start_time": "2022-07-22T15:53:06.912Z"
   },
   {
    "duration": 46,
    "start_time": "2022-07-22T15:53:06.928Z"
   },
   {
    "duration": 48,
    "start_time": "2022-07-22T15:53:06.975Z"
   },
   {
    "duration": 41,
    "start_time": "2022-07-22T15:53:07.025Z"
   },
   {
    "duration": 54,
    "start_time": "2022-07-22T15:53:07.068Z"
   },
   {
    "duration": 56,
    "start_time": "2022-07-22T15:53:07.124Z"
   },
   {
    "duration": 53,
    "start_time": "2022-07-22T15:53:07.182Z"
   },
   {
    "duration": 51,
    "start_time": "2022-07-22T15:53:07.237Z"
   },
   {
    "duration": 849,
    "start_time": "2022-07-22T15:53:07.290Z"
   },
   {
    "duration": 25,
    "start_time": "2022-07-22T15:53:08.141Z"
   },
   {
    "duration": 14,
    "start_time": "2022-07-22T15:53:08.169Z"
   },
   {
    "duration": 23,
    "start_time": "2022-07-22T15:53:08.185Z"
   },
   {
    "duration": 11,
    "start_time": "2022-07-22T15:53:08.210Z"
   },
   {
    "duration": 8,
    "start_time": "2022-07-22T15:53:08.223Z"
   },
   {
    "duration": 9,
    "start_time": "2022-07-22T15:53:08.233Z"
   },
   {
    "duration": 8,
    "start_time": "2022-07-22T15:53:08.244Z"
   },
   {
    "duration": 20,
    "start_time": "2022-07-22T15:53:08.254Z"
   },
   {
    "duration": 536,
    "start_time": "2022-07-22T15:53:08.276Z"
   },
   {
    "duration": 261,
    "start_time": "2022-07-22T15:53:08.814Z"
   },
   {
    "duration": 5,
    "start_time": "2022-07-22T15:53:09.077Z"
   },
   {
    "duration": 56,
    "start_time": "2022-07-22T15:53:09.084Z"
   },
   {
    "duration": 408,
    "start_time": "2022-07-22T15:53:09.142Z"
   },
   {
    "duration": 4,
    "start_time": "2022-07-22T15:53:09.552Z"
   },
   {
    "duration": 59,
    "start_time": "2022-07-22T15:53:09.558Z"
   },
   {
    "duration": 36,
    "start_time": "2022-07-22T15:53:09.622Z"
   },
   {
    "duration": 19,
    "start_time": "2022-07-22T15:53:09.660Z"
   },
   {
    "duration": 448,
    "start_time": "2022-07-22T15:53:09.703Z"
   },
   {
    "duration": 527,
    "start_time": "2022-07-22T15:53:10.153Z"
   },
   {
    "duration": 29,
    "start_time": "2022-07-22T15:53:10.682Z"
   },
   {
    "duration": 408,
    "start_time": "2022-07-22T15:53:10.713Z"
   },
   {
    "duration": 14,
    "start_time": "2022-07-22T15:53:11.123Z"
   },
   {
    "duration": 9,
    "start_time": "2022-07-22T15:53:11.139Z"
   },
   {
    "duration": 54,
    "start_time": "2022-07-22T15:53:11.150Z"
   },
   {
    "duration": 251,
    "start_time": "2022-07-22T15:53:11.206Z"
   },
   {
    "duration": 0,
    "start_time": "2022-07-22T15:53:11.459Z"
   },
   {
    "duration": 0,
    "start_time": "2022-07-22T15:53:11.460Z"
   },
   {
    "duration": 5,
    "start_time": "2022-07-22T15:55:48.452Z"
   },
   {
    "duration": 62,
    "start_time": "2022-07-22T15:55:52.985Z"
   },
   {
    "duration": 5,
    "start_time": "2022-07-22T15:58:52.014Z"
   },
   {
    "duration": 103,
    "start_time": "2022-07-22T15:58:52.951Z"
   },
   {
    "duration": 5,
    "start_time": "2022-07-22T16:00:44.254Z"
   },
   {
    "duration": 4,
    "start_time": "2022-07-22T16:00:45.182Z"
   },
   {
    "duration": 93,
    "start_time": "2022-07-22T16:00:45.975Z"
   },
   {
    "duration": 5,
    "start_time": "2022-07-22T16:01:27.225Z"
   },
   {
    "duration": 1217,
    "start_time": "2022-07-22T16:17:47.847Z"
   },
   {
    "duration": 274,
    "start_time": "2022-07-22T16:17:49.066Z"
   },
   {
    "duration": 17,
    "start_time": "2022-07-22T16:17:49.342Z"
   },
   {
    "duration": 145,
    "start_time": "2022-07-22T16:17:49.361Z"
   },
   {
    "duration": 11,
    "start_time": "2022-07-22T16:17:49.508Z"
   },
   {
    "duration": 6,
    "start_time": "2022-07-22T16:17:49.520Z"
   },
   {
    "duration": 8,
    "start_time": "2022-07-22T16:17:49.528Z"
   },
   {
    "duration": 3,
    "start_time": "2022-07-22T16:17:49.537Z"
   },
   {
    "duration": 8,
    "start_time": "2022-07-22T16:17:49.542Z"
   },
   {
    "duration": 4,
    "start_time": "2022-07-22T16:17:49.553Z"
   },
   {
    "duration": 60,
    "start_time": "2022-07-22T16:17:49.559Z"
   },
   {
    "duration": 4,
    "start_time": "2022-07-22T16:17:49.620Z"
   },
   {
    "duration": 16,
    "start_time": "2022-07-22T16:17:49.626Z"
   },
   {
    "duration": 13,
    "start_time": "2022-07-22T16:17:49.644Z"
   },
   {
    "duration": 8,
    "start_time": "2022-07-22T16:17:49.659Z"
   },
   {
    "duration": 41,
    "start_time": "2022-07-22T16:17:49.669Z"
   },
   {
    "duration": 50,
    "start_time": "2022-07-22T16:17:49.712Z"
   },
   {
    "duration": 49,
    "start_time": "2022-07-22T16:17:49.764Z"
   },
   {
    "duration": 39,
    "start_time": "2022-07-22T16:17:49.815Z"
   },
   {
    "duration": 58,
    "start_time": "2022-07-22T16:17:49.855Z"
   },
   {
    "duration": 13,
    "start_time": "2022-07-22T16:17:49.915Z"
   },
   {
    "duration": 20,
    "start_time": "2022-07-22T16:17:49.930Z"
   },
   {
    "duration": 67,
    "start_time": "2022-07-22T16:17:49.952Z"
   },
   {
    "duration": 883,
    "start_time": "2022-07-22T16:17:50.021Z"
   },
   {
    "duration": 20,
    "start_time": "2022-07-22T16:17:50.906Z"
   },
   {
    "duration": 14,
    "start_time": "2022-07-22T16:17:50.927Z"
   },
   {
    "duration": 12,
    "start_time": "2022-07-22T16:17:50.943Z"
   },
   {
    "duration": 11,
    "start_time": "2022-07-22T16:17:50.958Z"
   },
   {
    "duration": 11,
    "start_time": "2022-07-22T16:17:50.971Z"
   },
   {
    "duration": 25,
    "start_time": "2022-07-22T16:17:50.983Z"
   },
   {
    "duration": 10,
    "start_time": "2022-07-22T16:17:51.010Z"
   },
   {
    "duration": 23,
    "start_time": "2022-07-22T16:17:51.022Z"
   },
   {
    "duration": 519,
    "start_time": "2022-07-22T16:17:51.047Z"
   },
   {
    "duration": 258,
    "start_time": "2022-07-22T16:17:51.568Z"
   },
   {
    "duration": 5,
    "start_time": "2022-07-22T16:17:51.828Z"
   },
   {
    "duration": 44,
    "start_time": "2022-07-22T16:17:51.834Z"
   },
   {
    "duration": 429,
    "start_time": "2022-07-22T16:17:51.880Z"
   },
   {
    "duration": 4,
    "start_time": "2022-07-22T16:17:52.311Z"
   },
   {
    "duration": 57,
    "start_time": "2022-07-22T16:17:52.317Z"
   },
   {
    "duration": 51,
    "start_time": "2022-07-22T16:17:52.375Z"
   },
   {
    "duration": 19,
    "start_time": "2022-07-22T16:17:52.428Z"
   },
   {
    "duration": 448,
    "start_time": "2022-07-22T16:17:52.449Z"
   },
   {
    "duration": 517,
    "start_time": "2022-07-22T16:17:52.899Z"
   },
   {
    "duration": 20,
    "start_time": "2022-07-22T16:17:53.417Z"
   },
   {
    "duration": 416,
    "start_time": "2022-07-22T16:17:53.439Z"
   },
   {
    "duration": 10,
    "start_time": "2022-07-22T16:17:53.857Z"
   },
   {
    "duration": 7,
    "start_time": "2022-07-22T16:17:53.868Z"
   },
   {
    "duration": 28,
    "start_time": "2022-07-22T16:17:53.876Z"
   },
   {
    "duration": 161,
    "start_time": "2022-07-22T16:17:53.906Z"
   },
   {
    "duration": 6,
    "start_time": "2022-07-22T16:17:54.069Z"
   },
   {
    "duration": 112,
    "start_time": "2022-07-22T16:17:54.077Z"
   },
   {
    "duration": 13,
    "start_time": "2022-07-22T18:27:21.673Z"
   },
   {
    "duration": 164,
    "start_time": "2022-07-22T18:27:41.706Z"
   },
   {
    "duration": 11,
    "start_time": "2022-07-22T18:28:09.714Z"
   },
   {
    "duration": 10,
    "start_time": "2022-07-22T18:28:40.777Z"
   },
   {
    "duration": 15,
    "start_time": "2022-07-22T18:28:45.923Z"
   },
   {
    "duration": 1185,
    "start_time": "2022-07-22T18:29:00.252Z"
   },
   {
    "duration": 246,
    "start_time": "2022-07-22T18:29:01.439Z"
   },
   {
    "duration": 22,
    "start_time": "2022-07-22T18:29:01.687Z"
   },
   {
    "duration": 74,
    "start_time": "2022-07-22T18:29:01.711Z"
   },
   {
    "duration": 11,
    "start_time": "2022-07-22T18:29:01.786Z"
   },
   {
    "duration": 8,
    "start_time": "2022-07-22T18:29:01.798Z"
   },
   {
    "duration": 12,
    "start_time": "2022-07-22T18:29:01.808Z"
   },
   {
    "duration": 45,
    "start_time": "2022-07-22T18:29:01.822Z"
   },
   {
    "duration": 7,
    "start_time": "2022-07-22T18:29:01.869Z"
   },
   {
    "duration": 6,
    "start_time": "2022-07-22T18:29:01.880Z"
   },
   {
    "duration": 32,
    "start_time": "2022-07-22T18:29:01.888Z"
   },
   {
    "duration": 4,
    "start_time": "2022-07-22T18:29:01.922Z"
   },
   {
    "duration": 18,
    "start_time": "2022-07-22T18:29:01.928Z"
   },
   {
    "duration": 10,
    "start_time": "2022-07-22T18:29:01.948Z"
   },
   {
    "duration": 14,
    "start_time": "2022-07-22T18:29:01.960Z"
   },
   {
    "duration": 30,
    "start_time": "2022-07-22T18:29:01.975Z"
   },
   {
    "duration": 50,
    "start_time": "2022-07-22T18:29:02.007Z"
   },
   {
    "duration": 27,
    "start_time": "2022-07-22T18:29:02.058Z"
   },
   {
    "duration": 65,
    "start_time": "2022-07-22T18:29:02.087Z"
   },
   {
    "duration": 54,
    "start_time": "2022-07-22T18:29:02.155Z"
   },
   {
    "duration": 13,
    "start_time": "2022-07-22T18:29:02.211Z"
   },
   {
    "duration": 21,
    "start_time": "2022-07-22T18:29:02.226Z"
   },
   {
    "duration": 64,
    "start_time": "2022-07-22T18:29:02.248Z"
   },
   {
    "duration": 792,
    "start_time": "2022-07-22T18:29:02.314Z"
   },
   {
    "duration": 20,
    "start_time": "2022-07-22T18:29:03.108Z"
   },
   {
    "duration": 29,
    "start_time": "2022-07-22T18:29:03.130Z"
   },
   {
    "duration": 83,
    "start_time": "2022-07-22T18:29:03.161Z"
   },
   {
    "duration": 62,
    "start_time": "2022-07-22T18:29:03.249Z"
   },
   {
    "duration": 39,
    "start_time": "2022-07-22T18:29:03.313Z"
   },
   {
    "duration": 37,
    "start_time": "2022-07-22T18:29:03.354Z"
   },
   {
    "duration": 33,
    "start_time": "2022-07-22T18:29:03.392Z"
   },
   {
    "duration": 32,
    "start_time": "2022-07-22T18:29:03.427Z"
   },
   {
    "duration": 522,
    "start_time": "2022-07-22T18:29:03.461Z"
   },
   {
    "duration": 260,
    "start_time": "2022-07-22T18:29:03.984Z"
   },
   {
    "duration": 5,
    "start_time": "2022-07-22T18:29:04.247Z"
   },
   {
    "duration": 59,
    "start_time": "2022-07-22T18:29:04.253Z"
   },
   {
    "duration": 400,
    "start_time": "2022-07-22T18:29:04.314Z"
   },
   {
    "duration": 5,
    "start_time": "2022-07-22T18:29:04.717Z"
   },
   {
    "duration": 48,
    "start_time": "2022-07-22T18:29:04.724Z"
   },
   {
    "duration": 60,
    "start_time": "2022-07-22T18:29:04.774Z"
   },
   {
    "duration": 12,
    "start_time": "2022-07-22T18:29:04.836Z"
   },
   {
    "duration": 27,
    "start_time": "2022-07-22T18:29:04.850Z"
   },
   {
    "duration": 471,
    "start_time": "2022-07-22T18:29:04.879Z"
   },
   {
    "duration": 499,
    "start_time": "2022-07-22T18:29:05.352Z"
   },
   {
    "duration": 17,
    "start_time": "2022-07-22T18:29:05.853Z"
   },
   {
    "duration": 398,
    "start_time": "2022-07-22T18:29:05.871Z"
   },
   {
    "duration": 10,
    "start_time": "2022-07-22T18:29:06.271Z"
   },
   {
    "duration": 21,
    "start_time": "2022-07-22T18:29:06.283Z"
   },
   {
    "duration": 10,
    "start_time": "2022-07-22T18:29:06.306Z"
   },
   {
    "duration": 143,
    "start_time": "2022-07-22T18:29:06.318Z"
   },
   {
    "duration": 5,
    "start_time": "2022-07-22T18:29:06.463Z"
   },
   {
    "duration": 102,
    "start_time": "2022-07-22T18:29:06.470Z"
   },
   {
    "duration": 12,
    "start_time": "2022-07-22T18:29:22.521Z"
   },
   {
    "duration": 12,
    "start_time": "2022-07-22T18:29:28.287Z"
   },
   {
    "duration": 11,
    "start_time": "2022-07-22T18:29:39.829Z"
   },
   {
    "duration": 12,
    "start_time": "2022-07-22T18:30:25.921Z"
   },
   {
    "duration": 11,
    "start_time": "2022-07-22T18:30:43.815Z"
   },
   {
    "duration": 15,
    "start_time": "2022-07-22T18:31:12.458Z"
   },
   {
    "duration": 12,
    "start_time": "2022-07-22T18:31:23.378Z"
   },
   {
    "duration": 23,
    "start_time": "2022-07-22T18:42:08.945Z"
   },
   {
    "duration": 43,
    "start_time": "2022-07-22T18:42:38.446Z"
   },
   {
    "duration": 1372,
    "start_time": "2022-07-22T18:42:57.872Z"
   },
   {
    "duration": 1237,
    "start_time": "2022-07-22T18:43:14.730Z"
   },
   {
    "duration": 296,
    "start_time": "2022-07-22T18:43:15.969Z"
   },
   {
    "duration": 18,
    "start_time": "2022-07-22T18:43:16.266Z"
   },
   {
    "duration": 83,
    "start_time": "2022-07-22T18:43:16.287Z"
   },
   {
    "duration": 10,
    "start_time": "2022-07-22T18:43:16.371Z"
   },
   {
    "duration": 9,
    "start_time": "2022-07-22T18:43:16.382Z"
   },
   {
    "duration": 8,
    "start_time": "2022-07-22T18:43:16.392Z"
   },
   {
    "duration": 9,
    "start_time": "2022-07-22T18:43:16.401Z"
   },
   {
    "duration": 5,
    "start_time": "2022-07-22T18:43:16.412Z"
   },
   {
    "duration": 5,
    "start_time": "2022-07-22T18:43:16.420Z"
   },
   {
    "duration": 30,
    "start_time": "2022-07-22T18:43:16.426Z"
   },
   {
    "duration": 4,
    "start_time": "2022-07-22T18:43:16.457Z"
   },
   {
    "duration": 17,
    "start_time": "2022-07-22T18:43:16.462Z"
   },
   {
    "duration": 30,
    "start_time": "2022-07-22T18:43:16.481Z"
   },
   {
    "duration": 13,
    "start_time": "2022-07-22T18:43:16.513Z"
   },
   {
    "duration": 18,
    "start_time": "2022-07-22T18:43:16.529Z"
   },
   {
    "duration": 83,
    "start_time": "2022-07-22T18:43:16.549Z"
   },
   {
    "duration": 28,
    "start_time": "2022-07-22T18:43:16.635Z"
   },
   {
    "duration": 67,
    "start_time": "2022-07-22T18:43:16.665Z"
   },
   {
    "duration": 46,
    "start_time": "2022-07-22T18:43:16.735Z"
   },
   {
    "duration": 26,
    "start_time": "2022-07-22T18:43:16.782Z"
   },
   {
    "duration": 21,
    "start_time": "2022-07-22T18:43:16.810Z"
   },
   {
    "duration": 46,
    "start_time": "2022-07-22T18:43:16.832Z"
   },
   {
    "duration": 780,
    "start_time": "2022-07-22T18:43:16.903Z"
   },
   {
    "duration": 29,
    "start_time": "2022-07-22T18:43:17.685Z"
   },
   {
    "duration": 14,
    "start_time": "2022-07-22T18:43:17.715Z"
   },
   {
    "duration": 62,
    "start_time": "2022-07-22T18:43:17.731Z"
   },
   {
    "duration": 28,
    "start_time": "2022-07-22T18:43:17.797Z"
   },
   {
    "duration": 13,
    "start_time": "2022-07-22T18:43:17.827Z"
   },
   {
    "duration": 10,
    "start_time": "2022-07-22T18:43:17.842Z"
   },
   {
    "duration": 17,
    "start_time": "2022-07-22T18:43:17.854Z"
   },
   {
    "duration": 28,
    "start_time": "2022-07-22T18:43:17.873Z"
   },
   {
    "duration": 530,
    "start_time": "2022-07-22T18:43:17.902Z"
   },
   {
    "duration": 263,
    "start_time": "2022-07-22T18:43:18.434Z"
   },
   {
    "duration": 9,
    "start_time": "2022-07-22T18:43:18.698Z"
   },
   {
    "duration": 43,
    "start_time": "2022-07-22T18:43:18.708Z"
   },
   {
    "duration": 411,
    "start_time": "2022-07-22T18:43:18.752Z"
   },
   {
    "duration": 5,
    "start_time": "2022-07-22T18:43:19.165Z"
   },
   {
    "duration": 54,
    "start_time": "2022-07-22T18:43:19.172Z"
   },
   {
    "duration": 20,
    "start_time": "2022-07-22T18:43:19.228Z"
   },
   {
    "duration": 12,
    "start_time": "2022-07-22T18:43:19.250Z"
   },
   {
    "duration": 41,
    "start_time": "2022-07-22T18:43:19.264Z"
   },
   {
    "duration": 446,
    "start_time": "2022-07-22T18:43:19.307Z"
   },
   {
    "duration": 539,
    "start_time": "2022-07-22T18:43:19.754Z"
   },
   {
    "duration": 23,
    "start_time": "2022-07-22T18:43:20.296Z"
   },
   {
    "duration": 583,
    "start_time": "2022-07-22T18:43:20.322Z"
   },
   {
    "duration": 10,
    "start_time": "2022-07-22T18:43:20.907Z"
   },
   {
    "duration": 19,
    "start_time": "2022-07-22T18:43:20.918Z"
   },
   {
    "duration": 13,
    "start_time": "2022-07-22T18:43:20.939Z"
   },
   {
    "duration": 194,
    "start_time": "2022-07-22T18:43:20.954Z"
   },
   {
    "duration": 57,
    "start_time": "2022-07-22T18:43:21.150Z"
   },
   {
    "duration": 138,
    "start_time": "2022-07-22T18:43:21.208Z"
   },
   {
    "duration": 5,
    "start_time": "2022-07-22T18:50:49.357Z"
   },
   {
    "duration": 1280,
    "start_time": "2022-07-22T19:17:11.990Z"
   },
   {
    "duration": 266,
    "start_time": "2022-07-22T19:17:13.272Z"
   },
   {
    "duration": 18,
    "start_time": "2022-07-22T19:17:13.540Z"
   },
   {
    "duration": 143,
    "start_time": "2022-07-22T19:17:13.561Z"
   },
   {
    "duration": 11,
    "start_time": "2022-07-22T19:17:13.705Z"
   },
   {
    "duration": 11,
    "start_time": "2022-07-22T19:17:13.718Z"
   },
   {
    "duration": 6,
    "start_time": "2022-07-22T19:17:13.730Z"
   },
   {
    "duration": 7,
    "start_time": "2022-07-22T19:17:13.738Z"
   },
   {
    "duration": 7,
    "start_time": "2022-07-22T19:17:13.747Z"
   },
   {
    "duration": 4,
    "start_time": "2022-07-22T19:17:13.757Z"
   },
   {
    "duration": 52,
    "start_time": "2022-07-22T19:17:13.762Z"
   },
   {
    "duration": 3,
    "start_time": "2022-07-22T19:17:13.816Z"
   },
   {
    "duration": 17,
    "start_time": "2022-07-22T19:17:13.821Z"
   },
   {
    "duration": 11,
    "start_time": "2022-07-22T19:17:13.839Z"
   },
   {
    "duration": 7,
    "start_time": "2022-07-22T19:17:13.851Z"
   },
   {
    "duration": 10,
    "start_time": "2022-07-22T19:17:13.860Z"
   },
   {
    "duration": 78,
    "start_time": "2022-07-22T19:17:13.871Z"
   },
   {
    "duration": 24,
    "start_time": "2022-07-22T19:17:13.951Z"
   },
   {
    "duration": 59,
    "start_time": "2022-07-22T19:17:13.976Z"
   },
   {
    "duration": 40,
    "start_time": "2022-07-22T19:17:14.037Z"
   },
   {
    "duration": 33,
    "start_time": "2022-07-22T19:17:14.079Z"
   },
   {
    "duration": 20,
    "start_time": "2022-07-22T19:17:14.114Z"
   },
   {
    "duration": 44,
    "start_time": "2022-07-22T19:17:14.136Z"
   },
   {
    "duration": 822,
    "start_time": "2022-07-22T19:17:14.182Z"
   },
   {
    "duration": 22,
    "start_time": "2022-07-22T19:17:15.006Z"
   },
   {
    "duration": 15,
    "start_time": "2022-07-22T19:17:15.032Z"
   },
   {
    "duration": 17,
    "start_time": "2022-07-22T19:17:15.049Z"
   },
   {
    "duration": 13,
    "start_time": "2022-07-22T19:17:15.071Z"
   },
   {
    "duration": 19,
    "start_time": "2022-07-22T19:17:15.103Z"
   },
   {
    "duration": 11,
    "start_time": "2022-07-22T19:17:15.123Z"
   },
   {
    "duration": 10,
    "start_time": "2022-07-22T19:17:15.137Z"
   },
   {
    "duration": 28,
    "start_time": "2022-07-22T19:17:15.149Z"
   },
   {
    "duration": 528,
    "start_time": "2022-07-22T19:17:15.179Z"
   },
   {
    "duration": 261,
    "start_time": "2022-07-22T19:17:15.709Z"
   },
   {
    "duration": 5,
    "start_time": "2022-07-22T19:17:15.972Z"
   },
   {
    "duration": 57,
    "start_time": "2022-07-22T19:17:15.978Z"
   },
   {
    "duration": 425,
    "start_time": "2022-07-22T19:17:16.037Z"
   },
   {
    "duration": 6,
    "start_time": "2022-07-22T19:17:16.464Z"
   },
   {
    "duration": 66,
    "start_time": "2022-07-22T19:17:16.472Z"
   },
   {
    "duration": 21,
    "start_time": "2022-07-22T19:17:16.541Z"
   },
   {
    "duration": 23,
    "start_time": "2022-07-22T19:17:16.565Z"
   },
   {
    "duration": 36,
    "start_time": "2022-07-22T19:17:16.590Z"
   },
   {
    "duration": 503,
    "start_time": "2022-07-22T19:17:16.629Z"
   },
   {
    "duration": 514,
    "start_time": "2022-07-22T19:17:17.134Z"
   },
   {
    "duration": 4,
    "start_time": "2022-07-22T19:17:17.650Z"
   },
   {
    "duration": 124,
    "start_time": "2022-07-22T19:17:17.656Z"
   },
   {
    "duration": 0,
    "start_time": "2022-07-22T19:17:17.782Z"
   },
   {
    "duration": 1,
    "start_time": "2022-07-22T19:17:17.783Z"
   },
   {
    "duration": 1,
    "start_time": "2022-07-22T19:17:17.784Z"
   },
   {
    "duration": 0,
    "start_time": "2022-07-22T19:17:17.785Z"
   },
   {
    "duration": 0,
    "start_time": "2022-07-22T19:17:17.786Z"
   },
   {
    "duration": 0,
    "start_time": "2022-07-22T19:17:17.787Z"
   },
   {
    "duration": 0,
    "start_time": "2022-07-22T19:17:17.788Z"
   },
   {
    "duration": 0,
    "start_time": "2022-07-22T19:17:17.789Z"
   },
   {
    "duration": 42,
    "start_time": "2022-07-22T19:17:53.085Z"
   },
   {
    "duration": 17,
    "start_time": "2022-07-22T19:22:35.569Z"
   },
   {
    "duration": 12,
    "start_time": "2022-07-22T19:25:00.391Z"
   },
   {
    "duration": 11,
    "start_time": "2022-07-22T19:26:38.619Z"
   },
   {
    "duration": 12,
    "start_time": "2022-07-22T19:27:58.285Z"
   },
   {
    "duration": 12,
    "start_time": "2022-07-22T19:28:30.002Z"
   },
   {
    "duration": 10,
    "start_time": "2022-07-22T19:28:31.594Z"
   },
   {
    "duration": 11,
    "start_time": "2022-07-22T19:28:33.443Z"
   },
   {
    "duration": 1196,
    "start_time": "2022-07-22T19:28:41.713Z"
   },
   {
    "duration": 200,
    "start_time": "2022-07-22T19:28:42.911Z"
   },
   {
    "duration": 17,
    "start_time": "2022-07-22T19:28:43.112Z"
   },
   {
    "duration": 88,
    "start_time": "2022-07-22T19:28:43.132Z"
   },
   {
    "duration": 12,
    "start_time": "2022-07-22T19:28:43.222Z"
   },
   {
    "duration": 7,
    "start_time": "2022-07-22T19:28:43.237Z"
   },
   {
    "duration": 7,
    "start_time": "2022-07-22T19:28:43.246Z"
   },
   {
    "duration": 13,
    "start_time": "2022-07-22T19:28:43.255Z"
   },
   {
    "duration": 20,
    "start_time": "2022-07-22T19:28:43.270Z"
   },
   {
    "duration": 11,
    "start_time": "2022-07-22T19:28:43.293Z"
   },
   {
    "duration": 30,
    "start_time": "2022-07-22T19:28:43.306Z"
   },
   {
    "duration": 5,
    "start_time": "2022-07-22T19:28:43.337Z"
   },
   {
    "duration": 18,
    "start_time": "2022-07-22T19:28:43.343Z"
   },
   {
    "duration": 13,
    "start_time": "2022-07-22T19:28:43.363Z"
   },
   {
    "duration": 6,
    "start_time": "2022-07-22T19:28:43.405Z"
   },
   {
    "duration": 13,
    "start_time": "2022-07-22T19:28:43.413Z"
   },
   {
    "duration": 51,
    "start_time": "2022-07-22T19:28:43.428Z"
   },
   {
    "duration": 27,
    "start_time": "2022-07-22T19:28:43.504Z"
   },
   {
    "duration": 43,
    "start_time": "2022-07-22T19:28:43.533Z"
   },
   {
    "duration": 63,
    "start_time": "2022-07-22T19:28:43.578Z"
   },
   {
    "duration": 14,
    "start_time": "2022-07-22T19:28:43.643Z"
   },
   {
    "duration": 47,
    "start_time": "2022-07-22T19:28:43.659Z"
   },
   {
    "duration": 50,
    "start_time": "2022-07-22T19:28:43.708Z"
   },
   {
    "duration": 870,
    "start_time": "2022-07-22T19:28:43.760Z"
   },
   {
    "duration": 18,
    "start_time": "2022-07-22T19:28:44.632Z"
   },
   {
    "duration": 11,
    "start_time": "2022-07-22T19:28:44.652Z"
   },
   {
    "duration": 7,
    "start_time": "2022-07-22T19:28:44.666Z"
   },
   {
    "duration": 30,
    "start_time": "2022-07-22T19:28:44.676Z"
   },
   {
    "duration": 7,
    "start_time": "2022-07-22T19:28:44.707Z"
   },
   {
    "duration": 8,
    "start_time": "2022-07-22T19:28:44.716Z"
   },
   {
    "duration": 9,
    "start_time": "2022-07-22T19:28:44.725Z"
   },
   {
    "duration": 18,
    "start_time": "2022-07-22T19:28:44.735Z"
   },
   {
    "duration": 532,
    "start_time": "2022-07-22T19:28:44.754Z"
   },
   {
    "duration": 267,
    "start_time": "2022-07-22T19:28:45.287Z"
   },
   {
    "duration": 5,
    "start_time": "2022-07-22T19:28:45.555Z"
   },
   {
    "duration": 56,
    "start_time": "2022-07-22T19:28:45.561Z"
   },
   {
    "duration": 388,
    "start_time": "2022-07-22T19:28:45.619Z"
   },
   {
    "duration": 4,
    "start_time": "2022-07-22T19:28:46.009Z"
   },
   {
    "duration": 126,
    "start_time": "2022-07-22T19:28:46.015Z"
   },
   {
    "duration": 25,
    "start_time": "2022-07-22T19:28:46.143Z"
   },
   {
    "duration": 22,
    "start_time": "2022-07-22T19:28:46.171Z"
   },
   {
    "duration": 29,
    "start_time": "2022-07-22T19:28:46.195Z"
   },
   {
    "duration": 490,
    "start_time": "2022-07-22T19:28:46.226Z"
   },
   {
    "duration": 539,
    "start_time": "2022-07-22T19:28:46.718Z"
   },
   {
    "duration": 4,
    "start_time": "2022-07-22T19:28:47.259Z"
   },
   {
    "duration": 54,
    "start_time": "2022-07-22T19:28:47.265Z"
   },
   {
    "duration": 16,
    "start_time": "2022-07-22T19:28:47.320Z"
   },
   {
    "duration": 14,
    "start_time": "2022-07-22T19:28:47.338Z"
   },
   {
    "duration": 25,
    "start_time": "2022-07-22T19:28:47.355Z"
   },
   {
    "duration": 30,
    "start_time": "2022-07-22T19:28:47.381Z"
   },
   {
    "duration": 390,
    "start_time": "2022-07-22T19:28:47.413Z"
   },
   {
    "duration": 9,
    "start_time": "2022-07-22T19:28:47.805Z"
   },
   {
    "duration": 8,
    "start_time": "2022-07-22T19:28:47.815Z"
   },
   {
    "duration": 7,
    "start_time": "2022-07-22T19:28:47.825Z"
   },
   {
    "duration": 170,
    "start_time": "2022-07-22T19:28:47.834Z"
   },
   {
    "duration": 5,
    "start_time": "2022-07-22T19:28:48.006Z"
   },
   {
    "duration": 81,
    "start_time": "2022-07-22T19:28:48.013Z"
   },
   {
    "duration": 1213,
    "start_time": "2022-07-22T19:29:27.920Z"
   },
   {
    "duration": 217,
    "start_time": "2022-07-22T19:29:29.135Z"
   },
   {
    "duration": 17,
    "start_time": "2022-07-22T19:29:29.354Z"
   },
   {
    "duration": 64,
    "start_time": "2022-07-22T19:29:29.373Z"
   },
   {
    "duration": 11,
    "start_time": "2022-07-22T19:29:29.438Z"
   },
   {
    "duration": 6,
    "start_time": "2022-07-22T19:29:29.451Z"
   },
   {
    "duration": 5,
    "start_time": "2022-07-22T19:29:29.459Z"
   },
   {
    "duration": 4,
    "start_time": "2022-07-22T19:29:29.466Z"
   },
   {
    "duration": 6,
    "start_time": "2022-07-22T19:29:29.471Z"
   },
   {
    "duration": 11,
    "start_time": "2022-07-22T19:29:29.479Z"
   },
   {
    "duration": 36,
    "start_time": "2022-07-22T19:29:29.492Z"
   },
   {
    "duration": 5,
    "start_time": "2022-07-22T19:29:29.529Z"
   },
   {
    "duration": 19,
    "start_time": "2022-07-22T19:29:29.536Z"
   },
   {
    "duration": 28,
    "start_time": "2022-07-22T19:29:29.556Z"
   },
   {
    "duration": 48,
    "start_time": "2022-07-22T19:29:29.586Z"
   },
   {
    "duration": 53,
    "start_time": "2022-07-22T19:29:29.637Z"
   },
   {
    "duration": 99,
    "start_time": "2022-07-22T19:29:29.692Z"
   },
   {
    "duration": 23,
    "start_time": "2022-07-22T19:29:29.794Z"
   },
   {
    "duration": 43,
    "start_time": "2022-07-22T19:29:29.819Z"
   },
   {
    "duration": 50,
    "start_time": "2022-07-22T19:29:29.864Z"
   },
   {
    "duration": 12,
    "start_time": "2022-07-22T19:29:29.916Z"
   },
   {
    "duration": 22,
    "start_time": "2022-07-22T19:29:29.930Z"
   },
   {
    "duration": 67,
    "start_time": "2022-07-22T19:29:29.954Z"
   },
   {
    "duration": 823,
    "start_time": "2022-07-22T19:29:30.023Z"
   },
   {
    "duration": 19,
    "start_time": "2022-07-22T19:29:30.848Z"
   },
   {
    "duration": 13,
    "start_time": "2022-07-22T19:29:30.868Z"
   },
   {
    "duration": 21,
    "start_time": "2022-07-22T19:29:30.883Z"
   },
   {
    "duration": 16,
    "start_time": "2022-07-22T19:29:30.908Z"
   },
   {
    "duration": 17,
    "start_time": "2022-07-22T19:29:30.926Z"
   },
   {
    "duration": 14,
    "start_time": "2022-07-22T19:29:30.945Z"
   },
   {
    "duration": 11,
    "start_time": "2022-07-22T19:29:30.960Z"
   },
   {
    "duration": 21,
    "start_time": "2022-07-22T19:29:30.973Z"
   },
   {
    "duration": 543,
    "start_time": "2022-07-22T19:29:30.995Z"
   },
   {
    "duration": 274,
    "start_time": "2022-07-22T19:29:31.539Z"
   },
   {
    "duration": 5,
    "start_time": "2022-07-22T19:29:31.815Z"
   },
   {
    "duration": 40,
    "start_time": "2022-07-22T19:29:31.821Z"
   },
   {
    "duration": 399,
    "start_time": "2022-07-22T19:29:31.863Z"
   },
   {
    "duration": 4,
    "start_time": "2022-07-22T19:29:32.264Z"
   },
   {
    "duration": 53,
    "start_time": "2022-07-22T19:29:32.270Z"
   },
   {
    "duration": 18,
    "start_time": "2022-07-22T19:29:32.325Z"
   },
   {
    "duration": 11,
    "start_time": "2022-07-22T19:29:32.345Z"
   },
   {
    "duration": 20,
    "start_time": "2022-07-22T19:29:32.358Z"
   },
   {
    "duration": 453,
    "start_time": "2022-07-22T19:29:32.379Z"
   },
   {
    "duration": 485,
    "start_time": "2022-07-22T19:29:32.834Z"
   },
   {
    "duration": 5,
    "start_time": "2022-07-22T19:29:33.320Z"
   },
   {
    "duration": 41,
    "start_time": "2022-07-22T19:29:33.326Z"
   },
   {
    "duration": 36,
    "start_time": "2022-07-22T19:29:33.368Z"
   },
   {
    "duration": 9,
    "start_time": "2022-07-22T19:29:33.406Z"
   },
   {
    "duration": 10,
    "start_time": "2022-07-22T19:29:33.417Z"
   },
   {
    "duration": 17,
    "start_time": "2022-07-22T19:29:33.429Z"
   },
   {
    "duration": 409,
    "start_time": "2022-07-22T19:29:33.447Z"
   },
   {
    "duration": 9,
    "start_time": "2022-07-22T19:29:33.858Z"
   },
   {
    "duration": 5,
    "start_time": "2022-07-22T19:29:33.869Z"
   },
   {
    "duration": 28,
    "start_time": "2022-07-22T19:29:33.876Z"
   },
   {
    "duration": 140,
    "start_time": "2022-07-22T19:29:33.906Z"
   },
   {
    "duration": 5,
    "start_time": "2022-07-22T19:29:34.047Z"
   },
   {
    "duration": 95,
    "start_time": "2022-07-22T19:29:34.054Z"
   },
   {
    "duration": 11,
    "start_time": "2022-07-22T19:30:26.801Z"
   },
   {
    "duration": 12,
    "start_time": "2022-07-22T19:30:34.322Z"
   },
   {
    "duration": 25,
    "start_time": "2022-07-22T19:31:24.571Z"
   },
   {
    "duration": 13,
    "start_time": "2022-07-22T19:35:02.692Z"
   },
   {
    "duration": 1575,
    "start_time": "2022-07-22T19:35:12.314Z"
   },
   {
    "duration": 249,
    "start_time": "2022-07-22T19:35:13.891Z"
   },
   {
    "duration": 34,
    "start_time": "2022-07-22T19:35:14.142Z"
   },
   {
    "duration": 71,
    "start_time": "2022-07-22T19:35:14.178Z"
   },
   {
    "duration": 10,
    "start_time": "2022-07-22T19:35:14.251Z"
   },
   {
    "duration": 7,
    "start_time": "2022-07-22T19:35:14.263Z"
   },
   {
    "duration": 17,
    "start_time": "2022-07-22T19:35:14.272Z"
   },
   {
    "duration": 9,
    "start_time": "2022-07-22T19:35:14.297Z"
   },
   {
    "duration": 25,
    "start_time": "2022-07-22T19:35:14.308Z"
   },
   {
    "duration": 14,
    "start_time": "2022-07-22T19:35:14.336Z"
   },
   {
    "duration": 30,
    "start_time": "2022-07-22T19:35:14.352Z"
   },
   {
    "duration": 3,
    "start_time": "2022-07-22T19:35:14.384Z"
   },
   {
    "duration": 18,
    "start_time": "2022-07-22T19:35:14.389Z"
   },
   {
    "duration": 11,
    "start_time": "2022-07-22T19:35:14.408Z"
   },
   {
    "duration": 11,
    "start_time": "2022-07-22T19:35:14.421Z"
   },
   {
    "duration": 12,
    "start_time": "2022-07-22T19:35:14.433Z"
   },
   {
    "duration": 59,
    "start_time": "2022-07-22T19:35:14.446Z"
   },
   {
    "duration": 23,
    "start_time": "2022-07-22T19:35:14.507Z"
   },
   {
    "duration": 37,
    "start_time": "2022-07-22T19:35:14.532Z"
   },
   {
    "duration": 59,
    "start_time": "2022-07-22T19:35:14.571Z"
   },
   {
    "duration": 13,
    "start_time": "2022-07-22T19:35:14.632Z"
   },
   {
    "duration": 20,
    "start_time": "2022-07-22T19:35:14.647Z"
   },
   {
    "duration": 66,
    "start_time": "2022-07-22T19:35:14.669Z"
   },
   {
    "duration": 792,
    "start_time": "2022-07-22T19:35:14.737Z"
   },
   {
    "duration": 20,
    "start_time": "2022-07-22T19:35:15.531Z"
   },
   {
    "duration": 13,
    "start_time": "2022-07-22T19:35:15.552Z"
   },
   {
    "duration": 6,
    "start_time": "2022-07-22T19:35:15.567Z"
   },
   {
    "duration": 32,
    "start_time": "2022-07-22T19:35:15.577Z"
   },
   {
    "duration": 8,
    "start_time": "2022-07-22T19:35:15.611Z"
   },
   {
    "duration": 11,
    "start_time": "2022-07-22T19:35:15.621Z"
   },
   {
    "duration": 10,
    "start_time": "2022-07-22T19:35:15.635Z"
   },
   {
    "duration": 26,
    "start_time": "2022-07-22T19:35:15.647Z"
   },
   {
    "duration": 519,
    "start_time": "2022-07-22T19:35:15.674Z"
   },
   {
    "duration": 259,
    "start_time": "2022-07-22T19:35:16.195Z"
   },
   {
    "duration": 5,
    "start_time": "2022-07-22T19:35:16.455Z"
   },
   {
    "duration": 60,
    "start_time": "2022-07-22T19:35:16.462Z"
   },
   {
    "duration": 451,
    "start_time": "2022-07-22T19:35:16.525Z"
   },
   {
    "duration": 5,
    "start_time": "2022-07-22T19:35:16.977Z"
   },
   {
    "duration": 55,
    "start_time": "2022-07-22T19:35:16.984Z"
   },
   {
    "duration": 21,
    "start_time": "2022-07-22T19:35:17.041Z"
   },
   {
    "duration": 9,
    "start_time": "2022-07-22T19:35:17.063Z"
   },
   {
    "duration": 31,
    "start_time": "2022-07-22T19:35:17.074Z"
   },
   {
    "duration": 19,
    "start_time": "2022-07-22T19:35:17.107Z"
   },
   {
    "duration": 437,
    "start_time": "2022-07-22T19:35:17.127Z"
   },
   {
    "duration": 510,
    "start_time": "2022-07-22T19:35:17.565Z"
   },
   {
    "duration": 4,
    "start_time": "2022-07-22T19:35:18.077Z"
   },
   {
    "duration": 53,
    "start_time": "2022-07-22T19:35:18.083Z"
   },
   {
    "duration": 22,
    "start_time": "2022-07-22T19:35:18.138Z"
   },
   {
    "duration": 11,
    "start_time": "2022-07-22T19:35:18.161Z"
   },
   {
    "duration": 34,
    "start_time": "2022-07-22T19:35:18.174Z"
   },
   {
    "duration": 22,
    "start_time": "2022-07-22T19:35:18.210Z"
   },
   {
    "duration": 428,
    "start_time": "2022-07-22T19:35:18.233Z"
   },
   {
    "duration": 10,
    "start_time": "2022-07-22T19:35:18.663Z"
   },
   {
    "duration": 7,
    "start_time": "2022-07-22T19:35:18.675Z"
   },
   {
    "duration": 4,
    "start_time": "2022-07-22T19:35:18.705Z"
   },
   {
    "duration": 148,
    "start_time": "2022-07-22T19:35:18.711Z"
   },
   {
    "duration": 5,
    "start_time": "2022-07-22T19:35:18.861Z"
   },
   {
    "duration": 94,
    "start_time": "2022-07-22T19:35:18.868Z"
   },
   {
    "duration": 22,
    "start_time": "2022-07-22T19:46:08.305Z"
   },
   {
    "duration": 5,
    "start_time": "2022-07-22T19:46:57.291Z"
   },
   {
    "duration": 21,
    "start_time": "2022-07-22T19:47:38.750Z"
   },
   {
    "duration": 4,
    "start_time": "2022-07-22T19:47:49.085Z"
   },
   {
    "duration": 219,
    "start_time": "2022-07-22T19:47:49.091Z"
   },
   {
    "duration": 16,
    "start_time": "2022-07-22T19:47:49.312Z"
   },
   {
    "duration": 61,
    "start_time": "2022-07-22T19:47:49.330Z"
   },
   {
    "duration": 10,
    "start_time": "2022-07-22T19:47:49.393Z"
   },
   {
    "duration": 7,
    "start_time": "2022-07-22T19:47:49.405Z"
   },
   {
    "duration": 5,
    "start_time": "2022-07-22T19:47:49.415Z"
   },
   {
    "duration": 3,
    "start_time": "2022-07-22T19:47:49.421Z"
   },
   {
    "duration": 10,
    "start_time": "2022-07-22T19:47:49.426Z"
   },
   {
    "duration": 7,
    "start_time": "2022-07-22T19:47:49.437Z"
   },
   {
    "duration": 30,
    "start_time": "2022-07-22T19:47:49.447Z"
   },
   {
    "duration": 4,
    "start_time": "2022-07-22T19:47:49.479Z"
   },
   {
    "duration": 14,
    "start_time": "2022-07-22T19:47:49.503Z"
   },
   {
    "duration": 19,
    "start_time": "2022-07-22T19:47:49.519Z"
   },
   {
    "duration": 21,
    "start_time": "2022-07-22T19:47:49.540Z"
   },
   {
    "duration": 19,
    "start_time": "2022-07-22T19:47:49.562Z"
   },
   {
    "duration": 52,
    "start_time": "2022-07-22T19:47:49.583Z"
   },
   {
    "duration": 25,
    "start_time": "2022-07-22T19:47:49.637Z"
   },
   {
    "duration": 59,
    "start_time": "2022-07-22T19:47:49.664Z"
   },
   {
    "duration": 40,
    "start_time": "2022-07-22T19:47:49.725Z"
   },
   {
    "duration": 9,
    "start_time": "2022-07-22T19:47:49.767Z"
   },
   {
    "duration": 44,
    "start_time": "2022-07-22T19:47:49.778Z"
   },
   {
    "duration": 43,
    "start_time": "2022-07-22T19:47:49.823Z"
   },
   {
    "duration": 783,
    "start_time": "2022-07-22T19:47:49.868Z"
   },
   {
    "duration": 19,
    "start_time": "2022-07-22T19:47:50.653Z"
   },
   {
    "duration": 18,
    "start_time": "2022-07-22T19:47:50.675Z"
   },
   {
    "duration": 23,
    "start_time": "2022-07-22T19:47:50.695Z"
   },
   {
    "duration": 44,
    "start_time": "2022-07-22T19:47:50.720Z"
   },
   {
    "duration": 9,
    "start_time": "2022-07-22T19:47:50.767Z"
   },
   {
    "duration": 10,
    "start_time": "2022-07-22T19:47:50.777Z"
   },
   {
    "duration": 10,
    "start_time": "2022-07-22T19:47:50.788Z"
   },
   {
    "duration": 26,
    "start_time": "2022-07-22T19:47:50.800Z"
   },
   {
    "duration": 482,
    "start_time": "2022-07-22T19:47:50.828Z"
   },
   {
    "duration": 238,
    "start_time": "2022-07-22T19:47:51.312Z"
   },
   {
    "duration": 5,
    "start_time": "2022-07-22T19:47:51.551Z"
   },
   {
    "duration": 49,
    "start_time": "2022-07-22T19:47:51.557Z"
   },
   {
    "duration": 453,
    "start_time": "2022-07-22T19:47:51.607Z"
   },
   {
    "duration": 4,
    "start_time": "2022-07-22T19:47:52.061Z"
   },
   {
    "duration": 46,
    "start_time": "2022-07-22T19:47:52.067Z"
   },
   {
    "duration": 17,
    "start_time": "2022-07-22T19:47:52.115Z"
   },
   {
    "duration": 22,
    "start_time": "2022-07-22T19:47:52.133Z"
   },
   {
    "duration": 22,
    "start_time": "2022-07-22T19:47:52.157Z"
   },
   {
    "duration": 414,
    "start_time": "2022-07-22T19:47:52.181Z"
   },
   {
    "duration": 361,
    "start_time": "2022-07-22T19:47:52.603Z"
   },
   {
    "duration": 5,
    "start_time": "2022-07-22T19:47:52.966Z"
   },
   {
    "duration": 56,
    "start_time": "2022-07-22T19:47:52.972Z"
   },
   {
    "duration": 18,
    "start_time": "2022-07-22T19:47:53.029Z"
   },
   {
    "duration": 10,
    "start_time": "2022-07-22T19:47:53.049Z"
   },
   {
    "duration": 12,
    "start_time": "2022-07-22T19:47:53.061Z"
   },
   {
    "duration": 45,
    "start_time": "2022-07-22T19:47:53.075Z"
   },
   {
    "duration": 84,
    "start_time": "2022-07-22T19:47:53.122Z"
   },
   {
    "duration": 9,
    "start_time": "2022-07-22T19:47:53.208Z"
   },
   {
    "duration": 9,
    "start_time": "2022-07-22T19:47:53.219Z"
   },
   {
    "duration": 7,
    "start_time": "2022-07-22T19:47:53.230Z"
   },
   {
    "duration": 100,
    "start_time": "2022-07-22T19:47:53.239Z"
   },
   {
    "duration": 5,
    "start_time": "2022-07-22T19:47:53.341Z"
   },
   {
    "duration": 90,
    "start_time": "2022-07-22T19:47:53.347Z"
   },
   {
    "duration": 21,
    "start_time": "2022-07-22T19:48:29.454Z"
   },
   {
    "duration": 9,
    "start_time": "2022-07-22T19:49:04.061Z"
   },
   {
    "duration": 24,
    "start_time": "2022-07-22T19:50:26.933Z"
   },
   {
    "duration": 7,
    "start_time": "2022-07-22T19:50:45.281Z"
   },
   {
    "duration": 17,
    "start_time": "2022-07-22T19:51:03.725Z"
   },
   {
    "duration": 18,
    "start_time": "2022-07-22T19:54:04.323Z"
   },
   {
    "duration": 1238,
    "start_time": "2022-07-22T19:55:58.678Z"
   },
   {
    "duration": 294,
    "start_time": "2022-07-22T19:55:59.918Z"
   },
   {
    "duration": 20,
    "start_time": "2022-07-22T19:56:00.214Z"
   },
   {
    "duration": 57,
    "start_time": "2022-07-22T19:56:00.237Z"
   },
   {
    "duration": 10,
    "start_time": "2022-07-22T19:56:00.296Z"
   },
   {
    "duration": 17,
    "start_time": "2022-07-22T19:56:00.308Z"
   },
   {
    "duration": 8,
    "start_time": "2022-07-22T19:56:00.326Z"
   },
   {
    "duration": 9,
    "start_time": "2022-07-22T19:56:00.336Z"
   },
   {
    "duration": 11,
    "start_time": "2022-07-22T19:56:00.346Z"
   },
   {
    "duration": 14,
    "start_time": "2022-07-22T19:56:00.359Z"
   },
   {
    "duration": 42,
    "start_time": "2022-07-22T19:56:00.375Z"
   },
   {
    "duration": 16,
    "start_time": "2022-07-22T19:56:00.419Z"
   },
   {
    "duration": 36,
    "start_time": "2022-07-22T19:56:00.437Z"
   },
   {
    "duration": 22,
    "start_time": "2022-07-22T19:56:00.475Z"
   },
   {
    "duration": 23,
    "start_time": "2022-07-22T19:56:00.499Z"
   },
   {
    "duration": 51,
    "start_time": "2022-07-22T19:56:00.524Z"
   },
   {
    "duration": 82,
    "start_time": "2022-07-22T19:56:00.577Z"
   },
   {
    "duration": 24,
    "start_time": "2022-07-22T19:56:00.661Z"
   },
   {
    "duration": 48,
    "start_time": "2022-07-22T19:56:00.686Z"
   },
   {
    "duration": 42,
    "start_time": "2022-07-22T19:56:00.735Z"
   },
   {
    "duration": 26,
    "start_time": "2022-07-22T19:56:00.778Z"
   },
   {
    "duration": 19,
    "start_time": "2022-07-22T19:56:00.806Z"
   },
   {
    "duration": 54,
    "start_time": "2022-07-22T19:56:00.826Z"
   },
   {
    "duration": 774,
    "start_time": "2022-07-22T19:56:00.882Z"
   },
   {
    "duration": 20,
    "start_time": "2022-07-22T19:56:01.657Z"
   },
   {
    "duration": 26,
    "start_time": "2022-07-22T19:56:01.678Z"
   },
   {
    "duration": 6,
    "start_time": "2022-07-22T19:56:01.705Z"
   },
   {
    "duration": 19,
    "start_time": "2022-07-22T19:56:01.715Z"
   },
   {
    "duration": 36,
    "start_time": "2022-07-22T19:56:01.736Z"
   },
   {
    "duration": 16,
    "start_time": "2022-07-22T19:56:01.774Z"
   },
   {
    "duration": 8,
    "start_time": "2022-07-22T19:56:01.792Z"
   },
   {
    "duration": 37,
    "start_time": "2022-07-22T19:56:01.802Z"
   },
   {
    "duration": 521,
    "start_time": "2022-07-22T19:56:01.841Z"
   },
   {
    "duration": 272,
    "start_time": "2022-07-22T19:56:02.363Z"
   },
   {
    "duration": 4,
    "start_time": "2022-07-22T19:56:02.637Z"
   },
   {
    "duration": 97,
    "start_time": "2022-07-22T19:56:02.643Z"
   },
   {
    "duration": 399,
    "start_time": "2022-07-22T19:56:02.741Z"
   },
   {
    "duration": 5,
    "start_time": "2022-07-22T19:56:03.141Z"
   },
   {
    "duration": 58,
    "start_time": "2022-07-22T19:56:03.147Z"
   },
   {
    "duration": 20,
    "start_time": "2022-07-22T19:56:03.207Z"
   },
   {
    "duration": 18,
    "start_time": "2022-07-22T19:56:03.228Z"
   },
   {
    "duration": 19,
    "start_time": "2022-07-22T19:56:03.248Z"
   },
   {
    "duration": 445,
    "start_time": "2022-07-22T19:56:03.269Z"
   },
   {
    "duration": 526,
    "start_time": "2022-07-22T19:56:03.716Z"
   },
   {
    "duration": 5,
    "start_time": "2022-07-22T19:56:04.245Z"
   },
   {
    "duration": 69,
    "start_time": "2022-07-22T19:56:04.251Z"
   },
   {
    "duration": 21,
    "start_time": "2022-07-22T19:56:04.322Z"
   },
   {
    "duration": 20,
    "start_time": "2022-07-22T19:56:04.344Z"
   },
   {
    "duration": 42,
    "start_time": "2022-07-22T19:56:04.366Z"
   },
   {
    "duration": 50,
    "start_time": "2022-07-22T19:56:04.409Z"
   },
   {
    "duration": 385,
    "start_time": "2022-07-22T19:56:04.462Z"
   },
   {
    "duration": 9,
    "start_time": "2022-07-22T19:56:04.849Z"
   },
   {
    "duration": 10,
    "start_time": "2022-07-22T19:56:04.860Z"
   },
   {
    "duration": 10,
    "start_time": "2022-07-22T19:56:04.872Z"
   },
   {
    "duration": 141,
    "start_time": "2022-07-22T19:56:04.884Z"
   },
   {
    "duration": 5,
    "start_time": "2022-07-22T19:56:05.027Z"
   },
   {
    "duration": 96,
    "start_time": "2022-07-22T19:56:05.034Z"
   },
   {
    "duration": 1712,
    "start_time": "2022-07-23T11:31:02.796Z"
   },
   {
    "duration": 290,
    "start_time": "2022-07-23T11:31:04.520Z"
   },
   {
    "duration": 38,
    "start_time": "2022-07-23T11:31:04.813Z"
   },
   {
    "duration": 105,
    "start_time": "2022-07-23T11:31:04.854Z"
   },
   {
    "duration": 14,
    "start_time": "2022-07-23T11:31:04.961Z"
   },
   {
    "duration": 8,
    "start_time": "2022-07-23T11:31:04.978Z"
   },
   {
    "duration": 8,
    "start_time": "2022-07-23T11:31:04.988Z"
   },
   {
    "duration": 7,
    "start_time": "2022-07-23T11:31:04.999Z"
   },
   {
    "duration": 45,
    "start_time": "2022-07-23T11:31:05.008Z"
   },
   {
    "duration": 11,
    "start_time": "2022-07-23T11:31:05.057Z"
   },
   {
    "duration": 35,
    "start_time": "2022-07-23T11:31:05.069Z"
   },
   {
    "duration": 4,
    "start_time": "2022-07-23T11:31:05.106Z"
   },
   {
    "duration": 50,
    "start_time": "2022-07-23T11:31:05.116Z"
   },
   {
    "duration": 13,
    "start_time": "2022-07-23T11:31:05.168Z"
   },
   {
    "duration": 14,
    "start_time": "2022-07-23T11:31:05.183Z"
   },
   {
    "duration": 18,
    "start_time": "2022-07-23T11:31:05.199Z"
   },
   {
    "duration": 84,
    "start_time": "2022-07-23T11:31:05.220Z"
   },
   {
    "duration": 43,
    "start_time": "2022-07-23T11:31:05.306Z"
   },
   {
    "duration": 43,
    "start_time": "2022-07-23T11:31:05.351Z"
   },
   {
    "duration": 71,
    "start_time": "2022-07-23T11:31:05.396Z"
   },
   {
    "duration": 13,
    "start_time": "2022-07-23T11:31:05.469Z"
   },
   {
    "duration": 45,
    "start_time": "2022-07-23T11:31:05.484Z"
   },
   {
    "duration": 61,
    "start_time": "2022-07-23T11:31:05.532Z"
   },
   {
    "duration": 993,
    "start_time": "2022-07-23T11:31:05.595Z"
   },
   {
    "duration": 43,
    "start_time": "2022-07-23T11:31:06.590Z"
   },
   {
    "duration": 24,
    "start_time": "2022-07-23T11:31:06.635Z"
   },
   {
    "duration": 6,
    "start_time": "2022-07-23T11:31:06.661Z"
   },
   {
    "duration": 18,
    "start_time": "2022-07-23T11:31:06.671Z"
   },
   {
    "duration": 60,
    "start_time": "2022-07-23T11:31:06.691Z"
   },
   {
    "duration": 11,
    "start_time": "2022-07-23T11:31:06.753Z"
   },
   {
    "duration": 14,
    "start_time": "2022-07-23T11:31:06.766Z"
   },
   {
    "duration": 79,
    "start_time": "2022-07-23T11:31:06.783Z"
   },
   {
    "duration": 626,
    "start_time": "2022-07-23T11:31:06.864Z"
   },
   {
    "duration": 380,
    "start_time": "2022-07-23T11:31:07.492Z"
   },
   {
    "duration": 5,
    "start_time": "2022-07-23T11:31:07.873Z"
   },
   {
    "duration": 56,
    "start_time": "2022-07-23T11:31:07.880Z"
   },
   {
    "duration": 619,
    "start_time": "2022-07-23T11:31:07.938Z"
   },
   {
    "duration": 5,
    "start_time": "2022-07-23T11:31:08.559Z"
   },
   {
    "duration": 123,
    "start_time": "2022-07-23T11:31:08.566Z"
   },
   {
    "duration": 35,
    "start_time": "2022-07-23T11:31:08.691Z"
   },
   {
    "duration": 50,
    "start_time": "2022-07-23T11:31:08.728Z"
   },
   {
    "duration": 21,
    "start_time": "2022-07-23T11:31:08.779Z"
   },
   {
    "duration": 617,
    "start_time": "2022-07-23T11:31:08.802Z"
   },
   {
    "duration": 1423,
    "start_time": "2022-07-23T11:31:09.421Z"
   },
   {
    "duration": 6,
    "start_time": "2022-07-23T11:31:10.847Z"
   },
   {
    "duration": 103,
    "start_time": "2022-07-23T11:31:10.854Z"
   },
   {
    "duration": 68,
    "start_time": "2022-07-23T11:31:10.959Z"
   },
   {
    "duration": 29,
    "start_time": "2022-07-23T11:31:11.030Z"
   },
   {
    "duration": 60,
    "start_time": "2022-07-23T11:31:11.061Z"
   },
   {
    "duration": 47,
    "start_time": "2022-07-23T11:31:11.124Z"
   },
   {
    "duration": 942,
    "start_time": "2022-07-23T11:31:11.209Z"
   },
   {
    "duration": 14,
    "start_time": "2022-07-23T11:31:12.153Z"
   },
   {
    "duration": 8,
    "start_time": "2022-07-23T11:31:12.169Z"
   },
   {
    "duration": 32,
    "start_time": "2022-07-23T11:31:12.179Z"
   },
   {
    "duration": 207,
    "start_time": "2022-07-23T11:31:12.214Z"
   },
   {
    "duration": 7,
    "start_time": "2022-07-23T11:31:12.425Z"
   },
   {
    "duration": 120,
    "start_time": "2022-07-23T11:31:12.435Z"
   },
   {
    "duration": 14,
    "start_time": "2022-07-23T11:59:34.460Z"
   },
   {
    "duration": 53,
    "start_time": "2022-07-23T11:59:42.804Z"
   },
   {
    "duration": 37,
    "start_time": "2022-07-23T12:00:05.191Z"
   },
   {
    "duration": 238,
    "start_time": "2022-07-23T12:02:40.449Z"
   },
   {
    "duration": 28,
    "start_time": "2022-07-23T12:02:48.061Z"
   },
   {
    "duration": 11,
    "start_time": "2022-07-23T12:03:02.062Z"
   },
   {
    "duration": 20,
    "start_time": "2022-07-23T12:03:36.568Z"
   },
   {
    "duration": 22,
    "start_time": "2022-07-23T12:03:43.639Z"
   },
   {
    "duration": 26,
    "start_time": "2022-07-23T12:06:25.259Z"
   },
   {
    "duration": 23,
    "start_time": "2022-07-23T12:06:35.370Z"
   },
   {
    "duration": 117,
    "start_time": "2022-07-23T12:13:13.465Z"
   },
   {
    "duration": 15,
    "start_time": "2022-07-23T12:13:24.685Z"
   },
   {
    "duration": 5,
    "start_time": "2022-07-23T12:15:11.638Z"
   },
   {
    "duration": 4,
    "start_time": "2022-07-23T12:15:28.599Z"
   },
   {
    "duration": 9,
    "start_time": "2022-07-23T12:15:33.543Z"
   },
   {
    "duration": 4,
    "start_time": "2022-07-23T12:15:52.560Z"
   },
   {
    "duration": 4,
    "start_time": "2022-07-23T12:16:52.567Z"
   },
   {
    "duration": 4,
    "start_time": "2022-07-23T12:17:09.501Z"
   },
   {
    "duration": 3,
    "start_time": "2022-07-23T13:42:22.659Z"
   },
   {
    "duration": 16,
    "start_time": "2022-07-23T13:42:33.158Z"
   },
   {
    "duration": 4,
    "start_time": "2022-07-23T13:43:49.738Z"
   },
   {
    "duration": 4,
    "start_time": "2022-07-23T13:44:16.880Z"
   },
   {
    "duration": 3,
    "start_time": "2022-07-23T13:48:22.667Z"
   },
   {
    "duration": 5,
    "start_time": "2022-07-23T13:50:37.348Z"
   },
   {
    "duration": 5,
    "start_time": "2022-07-23T13:51:14.052Z"
   },
   {
    "duration": 4,
    "start_time": "2022-07-23T13:51:55.654Z"
   },
   {
    "duration": 6,
    "start_time": "2022-07-23T13:54:02.838Z"
   },
   {
    "duration": 4,
    "start_time": "2022-07-23T13:55:07.189Z"
   },
   {
    "duration": 15,
    "start_time": "2022-07-23T14:00:14.554Z"
   },
   {
    "duration": 49,
    "start_time": "2022-07-23T14:00:57.237Z"
   },
   {
    "duration": 13,
    "start_time": "2022-07-23T14:02:06.565Z"
   },
   {
    "duration": 4,
    "start_time": "2022-07-23T14:02:19.888Z"
   },
   {
    "duration": 41,
    "start_time": "2022-07-23T14:04:18.757Z"
   },
   {
    "duration": 35,
    "start_time": "2022-07-23T14:14:18.088Z"
   },
   {
    "duration": 101,
    "start_time": "2022-07-23T14:17:49.276Z"
   },
   {
    "duration": 10,
    "start_time": "2022-07-23T14:18:02.557Z"
   },
   {
    "duration": 12,
    "start_time": "2022-07-23T14:18:05.204Z"
   },
   {
    "duration": 37,
    "start_time": "2022-07-23T14:19:01.481Z"
   },
   {
    "duration": 7,
    "start_time": "2022-07-23T14:20:54.782Z"
   },
   {
    "duration": 12,
    "start_time": "2022-07-23T14:21:30.494Z"
   },
   {
    "duration": 21,
    "start_time": "2022-07-23T14:21:43.470Z"
   },
   {
    "duration": 10,
    "start_time": "2022-07-23T14:21:44.739Z"
   },
   {
    "duration": 11,
    "start_time": "2022-07-23T14:21:45.584Z"
   },
   {
    "duration": 8,
    "start_time": "2022-07-23T14:21:58.465Z"
   },
   {
    "duration": 13,
    "start_time": "2022-07-23T14:21:59.275Z"
   },
   {
    "duration": 5,
    "start_time": "2022-07-23T14:22:36.109Z"
   },
   {
    "duration": 30,
    "start_time": "2022-07-23T14:22:38.240Z"
   },
   {
    "duration": 26,
    "start_time": "2022-07-23T14:24:45.264Z"
   },
   {
    "duration": 1611,
    "start_time": "2022-07-23T14:24:47.362Z"
   },
   {
    "duration": 1709,
    "start_time": "2022-07-23T14:24:55.857Z"
   },
   {
    "duration": 338,
    "start_time": "2022-07-23T14:24:57.569Z"
   },
   {
    "duration": 43,
    "start_time": "2022-07-23T14:24:57.909Z"
   },
   {
    "duration": 133,
    "start_time": "2022-07-23T14:24:57.955Z"
   },
   {
    "duration": 10,
    "start_time": "2022-07-23T14:24:58.090Z"
   },
   {
    "duration": 12,
    "start_time": "2022-07-23T14:24:58.102Z"
   },
   {
    "duration": 40,
    "start_time": "2022-07-23T14:24:58.117Z"
   },
   {
    "duration": 12,
    "start_time": "2022-07-23T14:24:58.159Z"
   },
   {
    "duration": 14,
    "start_time": "2022-07-23T14:24:58.173Z"
   },
   {
    "duration": 24,
    "start_time": "2022-07-23T14:24:58.190Z"
   },
   {
    "duration": 61,
    "start_time": "2022-07-23T14:24:58.216Z"
   },
   {
    "duration": 4,
    "start_time": "2022-07-23T14:24:58.279Z"
   },
   {
    "duration": 47,
    "start_time": "2022-07-23T14:24:58.284Z"
   },
   {
    "duration": 26,
    "start_time": "2022-07-23T14:24:58.333Z"
   },
   {
    "duration": 15,
    "start_time": "2022-07-23T14:24:58.361Z"
   },
   {
    "duration": 17,
    "start_time": "2022-07-23T14:24:58.378Z"
   },
   {
    "duration": 77,
    "start_time": "2022-07-23T14:24:58.397Z"
   },
   {
    "duration": 25,
    "start_time": "2022-07-23T14:24:58.477Z"
   },
   {
    "duration": 59,
    "start_time": "2022-07-23T14:24:58.504Z"
   },
   {
    "duration": 64,
    "start_time": "2022-07-23T14:24:58.565Z"
   },
   {
    "duration": 20,
    "start_time": "2022-07-23T14:24:58.635Z"
   },
   {
    "duration": 20,
    "start_time": "2022-07-23T14:24:58.657Z"
   },
   {
    "duration": 73,
    "start_time": "2022-07-23T14:24:58.679Z"
   },
   {
    "duration": 915,
    "start_time": "2022-07-23T14:24:58.754Z"
   },
   {
    "duration": 20,
    "start_time": "2022-07-23T14:24:59.671Z"
   },
   {
    "duration": 39,
    "start_time": "2022-07-23T14:24:59.693Z"
   },
   {
    "duration": 16,
    "start_time": "2022-07-23T14:24:59.734Z"
   },
   {
    "duration": 9,
    "start_time": "2022-07-23T14:24:59.755Z"
   },
   {
    "duration": 9,
    "start_time": "2022-07-23T14:24:59.766Z"
   },
   {
    "duration": 9,
    "start_time": "2022-07-23T14:24:59.777Z"
   },
   {
    "duration": 22,
    "start_time": "2022-07-23T14:24:59.788Z"
   },
   {
    "duration": 31,
    "start_time": "2022-07-23T14:24:59.816Z"
   },
   {
    "duration": 638,
    "start_time": "2022-07-23T14:24:59.848Z"
   },
   {
    "duration": 312,
    "start_time": "2022-07-23T14:25:00.488Z"
   },
   {
    "duration": 15,
    "start_time": "2022-07-23T14:25:00.802Z"
   },
   {
    "duration": 67,
    "start_time": "2022-07-23T14:25:00.819Z"
   },
   {
    "duration": 570,
    "start_time": "2022-07-23T14:25:00.888Z"
   },
   {
    "duration": 51,
    "start_time": "2022-07-23T14:25:01.460Z"
   },
   {
    "duration": 125,
    "start_time": "2022-07-23T14:25:01.514Z"
   },
   {
    "duration": 24,
    "start_time": "2022-07-23T14:25:01.644Z"
   },
   {
    "duration": 89,
    "start_time": "2022-07-23T14:25:01.670Z"
   },
   {
    "duration": 85,
    "start_time": "2022-07-23T14:25:01.762Z"
   },
   {
    "duration": 1468,
    "start_time": "2022-07-23T14:25:01.852Z"
   },
   {
    "duration": 986,
    "start_time": "2022-07-23T14:25:03.323Z"
   },
   {
    "duration": 12,
    "start_time": "2022-07-23T14:25:04.318Z"
   },
   {
    "duration": 55,
    "start_time": "2022-07-23T14:25:04.332Z"
   },
   {
    "duration": 28,
    "start_time": "2022-07-23T14:25:04.389Z"
   },
   {
    "duration": 15,
    "start_time": "2022-07-23T14:25:04.419Z"
   },
   {
    "duration": 38,
    "start_time": "2022-07-23T14:25:04.437Z"
   },
   {
    "duration": 20,
    "start_time": "2022-07-23T14:25:04.478Z"
   },
   {
    "duration": 2851,
    "start_time": "2022-07-23T14:25:04.501Z"
   },
   {
    "duration": 13,
    "start_time": "2022-07-23T14:25:07.354Z"
   },
   {
    "duration": 6,
    "start_time": "2022-07-23T14:25:07.369Z"
   },
   {
    "duration": 8,
    "start_time": "2022-07-23T14:25:07.377Z"
   },
   {
    "duration": 183,
    "start_time": "2022-07-23T14:25:07.387Z"
   },
   {
    "duration": 5,
    "start_time": "2022-07-23T14:25:07.572Z"
   },
   {
    "duration": 115,
    "start_time": "2022-07-23T14:25:07.579Z"
   },
   {
    "duration": 29,
    "start_time": "2022-07-23T14:25:07.696Z"
   },
   {
    "duration": 30,
    "start_time": "2022-07-23T14:25:07.728Z"
   },
   {
    "duration": 5,
    "start_time": "2022-07-23T14:25:07.759Z"
   },
   {
    "duration": 10,
    "start_time": "2022-07-23T14:25:07.766Z"
   },
   {
    "duration": 14,
    "start_time": "2022-07-23T14:25:07.778Z"
   },
   {
    "duration": 56,
    "start_time": "2022-07-23T14:25:07.794Z"
   },
   {
    "duration": 30,
    "start_time": "2022-07-23T14:25:07.852Z"
   },
   {
    "duration": 24,
    "start_time": "2022-07-23T14:25:07.884Z"
   },
   {
    "duration": 29,
    "start_time": "2022-07-23T14:25:07.910Z"
   },
   {
    "duration": 24,
    "start_time": "2022-07-23T14:25:07.943Z"
   },
   {
    "duration": 344,
    "start_time": "2022-07-23T14:25:07.968Z"
   },
   {
    "duration": 0,
    "start_time": "2022-07-23T14:25:08.314Z"
   },
   {
    "duration": 0,
    "start_time": "2022-07-23T14:25:08.316Z"
   },
   {
    "duration": 5,
    "start_time": "2022-07-23T14:26:08.864Z"
   },
   {
    "duration": 16,
    "start_time": "2022-07-23T14:26:11.379Z"
   },
   {
    "duration": 3,
    "start_time": "2022-07-23T14:29:41.460Z"
   },
   {
    "duration": 17,
    "start_time": "2022-07-23T14:29:42.959Z"
   },
   {
    "duration": 60,
    "start_time": "2022-07-23T14:38:58.863Z"
   },
   {
    "duration": 101,
    "start_time": "2022-07-23T14:39:19.851Z"
   },
   {
    "duration": 10,
    "start_time": "2022-07-23T14:41:08.576Z"
   },
   {
    "duration": 56,
    "start_time": "2022-07-23T14:41:12.773Z"
   },
   {
    "duration": 7,
    "start_time": "2022-07-23T15:02:23.252Z"
   },
   {
    "duration": 88,
    "start_time": "2022-07-23T15:03:27.982Z"
   },
   {
    "duration": 8,
    "start_time": "2022-07-23T15:06:29.796Z"
   },
   {
    "duration": 91,
    "start_time": "2022-07-23T15:06:32.164Z"
   },
   {
    "duration": 82,
    "start_time": "2022-07-23T15:06:43.786Z"
   },
   {
    "duration": 100,
    "start_time": "2022-07-23T15:16:45.544Z"
   },
   {
    "duration": 85,
    "start_time": "2022-07-23T15:18:38.667Z"
   },
   {
    "duration": 67,
    "start_time": "2022-07-23T15:18:52.943Z"
   },
   {
    "duration": 7,
    "start_time": "2022-07-23T15:22:51.550Z"
   },
   {
    "duration": 90,
    "start_time": "2022-07-23T15:22:54.404Z"
   },
   {
    "duration": 77,
    "start_time": "2022-07-23T15:23:17.370Z"
   },
   {
    "duration": 86,
    "start_time": "2022-07-23T15:25:33.171Z"
   },
   {
    "duration": 81,
    "start_time": "2022-07-23T15:26:22.881Z"
   },
   {
    "duration": 99,
    "start_time": "2022-07-23T15:27:09.390Z"
   },
   {
    "duration": 76,
    "start_time": "2022-07-23T15:27:36.954Z"
   },
   {
    "duration": 62,
    "start_time": "2022-07-23T15:29:30.450Z"
   },
   {
    "duration": 1861,
    "start_time": "2022-07-23T15:29:55.339Z"
   },
   {
    "duration": 4720,
    "start_time": "2022-07-23T15:34:12.351Z"
   },
   {
    "duration": 145,
    "start_time": "2022-07-23T15:36:47.885Z"
   },
   {
    "duration": 1779,
    "start_time": "2022-07-23T15:37:14.089Z"
   },
   {
    "duration": 448,
    "start_time": "2022-07-23T15:37:15.871Z"
   },
   {
    "duration": 43,
    "start_time": "2022-07-23T15:37:16.321Z"
   },
   {
    "duration": 148,
    "start_time": "2022-07-23T15:37:16.371Z"
   },
   {
    "duration": 17,
    "start_time": "2022-07-23T15:37:16.521Z"
   },
   {
    "duration": 41,
    "start_time": "2022-07-23T15:37:16.541Z"
   },
   {
    "duration": 27,
    "start_time": "2022-07-23T15:37:16.584Z"
   },
   {
    "duration": 47,
    "start_time": "2022-07-23T15:37:16.616Z"
   },
   {
    "duration": 10,
    "start_time": "2022-07-23T15:37:16.665Z"
   },
   {
    "duration": 9,
    "start_time": "2022-07-23T15:37:16.678Z"
   },
   {
    "duration": 55,
    "start_time": "2022-07-23T15:37:16.690Z"
   },
   {
    "duration": 18,
    "start_time": "2022-07-23T15:37:16.750Z"
   },
   {
    "duration": 29,
    "start_time": "2022-07-23T15:37:16.770Z"
   },
   {
    "duration": 35,
    "start_time": "2022-07-23T15:37:16.801Z"
   },
   {
    "duration": 26,
    "start_time": "2022-07-23T15:37:16.838Z"
   },
   {
    "duration": 32,
    "start_time": "2022-07-23T15:37:16.867Z"
   },
   {
    "duration": 86,
    "start_time": "2022-07-23T15:37:16.901Z"
   },
   {
    "duration": 43,
    "start_time": "2022-07-23T15:37:16.990Z"
   },
   {
    "duration": 56,
    "start_time": "2022-07-23T15:37:17.035Z"
   },
   {
    "duration": 95,
    "start_time": "2022-07-23T15:37:17.094Z"
   },
   {
    "duration": 13,
    "start_time": "2022-07-23T15:37:17.191Z"
   },
   {
    "duration": 64,
    "start_time": "2022-07-23T15:37:17.206Z"
   },
   {
    "duration": 61,
    "start_time": "2022-07-23T15:37:17.271Z"
   },
   {
    "duration": 1241,
    "start_time": "2022-07-23T15:37:17.334Z"
   },
   {
    "duration": 22,
    "start_time": "2022-07-23T15:37:18.577Z"
   },
   {
    "duration": 23,
    "start_time": "2022-07-23T15:37:18.601Z"
   },
   {
    "duration": 41,
    "start_time": "2022-07-23T15:37:18.626Z"
   },
   {
    "duration": 12,
    "start_time": "2022-07-23T15:37:18.673Z"
   },
   {
    "duration": 22,
    "start_time": "2022-07-23T15:37:18.687Z"
   },
   {
    "duration": 47,
    "start_time": "2022-07-23T15:37:18.719Z"
   },
   {
    "duration": 14,
    "start_time": "2022-07-23T15:37:18.769Z"
   },
   {
    "duration": 84,
    "start_time": "2022-07-23T15:37:18.785Z"
   },
   {
    "duration": 736,
    "start_time": "2022-07-23T15:37:18.871Z"
   },
   {
    "duration": 481,
    "start_time": "2022-07-23T15:37:19.609Z"
   },
   {
    "duration": 7,
    "start_time": "2022-07-23T15:37:20.092Z"
   },
   {
    "duration": 97,
    "start_time": "2022-07-23T15:37:20.101Z"
   },
   {
    "duration": 590,
    "start_time": "2022-07-23T15:37:20.199Z"
   },
   {
    "duration": 5,
    "start_time": "2022-07-23T15:37:20.791Z"
   },
   {
    "duration": 123,
    "start_time": "2022-07-23T15:37:20.798Z"
   },
   {
    "duration": 36,
    "start_time": "2022-07-23T15:37:20.923Z"
   },
   {
    "duration": 37,
    "start_time": "2022-07-23T15:37:20.961Z"
   },
   {
    "duration": 40,
    "start_time": "2022-07-23T15:37:21.000Z"
   },
   {
    "duration": 645,
    "start_time": "2022-07-23T15:37:21.042Z"
   },
   {
    "duration": 766,
    "start_time": "2022-07-23T15:37:21.690Z"
   },
   {
    "duration": 7,
    "start_time": "2022-07-23T15:37:22.464Z"
   },
   {
    "duration": 122,
    "start_time": "2022-07-23T15:37:22.473Z"
   },
   {
    "duration": 34,
    "start_time": "2022-07-23T15:37:22.597Z"
   },
   {
    "duration": 61,
    "start_time": "2022-07-23T15:37:22.634Z"
   },
   {
    "duration": 68,
    "start_time": "2022-07-23T15:37:22.697Z"
   },
   {
    "duration": 30,
    "start_time": "2022-07-23T15:37:22.768Z"
   },
   {
    "duration": 660,
    "start_time": "2022-07-23T15:37:22.800Z"
   },
   {
    "duration": 17,
    "start_time": "2022-07-23T15:37:23.462Z"
   },
   {
    "duration": 9,
    "start_time": "2022-07-23T15:37:23.481Z"
   },
   {
    "duration": 90,
    "start_time": "2022-07-23T15:37:23.493Z"
   },
   {
    "duration": 179,
    "start_time": "2022-07-23T15:37:23.585Z"
   },
   {
    "duration": 9,
    "start_time": "2022-07-23T15:37:23.766Z"
   },
   {
    "duration": 126,
    "start_time": "2022-07-23T15:37:23.778Z"
   },
   {
    "duration": 35,
    "start_time": "2022-07-23T15:37:23.905Z"
   },
   {
    "duration": 43,
    "start_time": "2022-07-23T15:37:23.942Z"
   },
   {
    "duration": 5,
    "start_time": "2022-07-23T15:37:23.987Z"
   },
   {
    "duration": 22,
    "start_time": "2022-07-23T15:37:23.995Z"
   },
   {
    "duration": 44,
    "start_time": "2022-07-23T15:37:24.019Z"
   },
   {
    "duration": 99,
    "start_time": "2022-07-23T15:37:24.065Z"
   },
   {
    "duration": 5197,
    "start_time": "2022-07-23T15:37:24.166Z"
   },
   {
    "duration": 10,
    "start_time": "2022-07-23T15:46:07.228Z"
   },
   {
    "duration": 252,
    "start_time": "2022-07-23T15:47:15.601Z"
   },
   {
    "duration": 5,
    "start_time": "2022-07-23T15:47:47.396Z"
   },
   {
    "duration": 16,
    "start_time": "2022-07-23T15:48:25.550Z"
   },
   {
    "duration": 27,
    "start_time": "2022-07-23T15:48:28.164Z"
   },
   {
    "duration": 5,
    "start_time": "2022-07-23T15:48:44.464Z"
   },
   {
    "duration": 679,
    "start_time": "2022-07-23T15:48:46.674Z"
   },
   {
    "duration": 8,
    "start_time": "2022-07-23T15:49:12.365Z"
   },
   {
    "duration": 546,
    "start_time": "2022-07-23T15:49:14.977Z"
   },
   {
    "duration": 6,
    "start_time": "2022-07-23T15:50:51.172Z"
   },
   {
    "duration": 591,
    "start_time": "2022-07-23T15:50:52.405Z"
   },
   {
    "duration": 6,
    "start_time": "2022-07-23T15:53:11.507Z"
   },
   {
    "duration": 524,
    "start_time": "2022-07-23T15:53:13.037Z"
   },
   {
    "duration": 5,
    "start_time": "2022-07-23T15:54:23.091Z"
   },
   {
    "duration": 764,
    "start_time": "2022-07-23T15:54:24.989Z"
   },
   {
    "duration": 5,
    "start_time": "2022-07-23T15:58:18.858Z"
   },
   {
    "duration": 3265,
    "start_time": "2022-07-23T15:58:20.162Z"
   },
   {
    "duration": 6,
    "start_time": "2022-07-23T15:58:44.674Z"
   },
   {
    "duration": 3380,
    "start_time": "2022-07-23T15:58:45.962Z"
   },
   {
    "duration": 7,
    "start_time": "2022-07-23T15:59:17.988Z"
   },
   {
    "duration": 4191,
    "start_time": "2022-07-23T15:59:20.096Z"
   },
   {
    "duration": 18,
    "start_time": "2022-07-23T16:03:44.271Z"
   },
   {
    "duration": 4278,
    "start_time": "2022-07-23T16:03:45.202Z"
   },
   {
    "duration": 9,
    "start_time": "2022-07-23T16:05:58.160Z"
   },
   {
    "duration": 4108,
    "start_time": "2022-07-23T16:06:01.674Z"
   },
   {
    "duration": 17,
    "start_time": "2022-07-23T16:06:21.884Z"
   },
   {
    "duration": 41,
    "start_time": "2022-07-23T16:06:23.026Z"
   },
   {
    "duration": 3600,
    "start_time": "2022-07-23T16:06:28.341Z"
   },
   {
    "duration": 163,
    "start_time": "2022-07-23T16:10:20.703Z"
   },
   {
    "duration": 2051,
    "start_time": "2022-07-23T16:13:38.690Z"
   },
   {
    "duration": 1393,
    "start_time": "2022-07-23T16:13:40.743Z"
   },
   {
    "duration": 37,
    "start_time": "2022-07-23T16:13:42.147Z"
   },
   {
    "duration": 428,
    "start_time": "2022-07-23T16:13:42.192Z"
   },
   {
    "duration": 43,
    "start_time": "2022-07-23T16:13:42.627Z"
   },
   {
    "duration": 118,
    "start_time": "2022-07-23T16:13:42.684Z"
   },
   {
    "duration": 120,
    "start_time": "2022-07-23T16:13:42.809Z"
   },
   {
    "duration": 158,
    "start_time": "2022-07-23T16:13:42.937Z"
   },
   {
    "duration": 241,
    "start_time": "2022-07-23T16:13:43.102Z"
   },
   {
    "duration": 168,
    "start_time": "2022-07-23T16:13:43.350Z"
   },
   {
    "duration": 216,
    "start_time": "2022-07-23T16:13:43.524Z"
   },
   {
    "duration": 96,
    "start_time": "2022-07-23T16:13:43.751Z"
   },
   {
    "duration": 99,
    "start_time": "2022-07-23T16:13:43.857Z"
   },
   {
    "duration": 63,
    "start_time": "2022-07-23T16:13:43.965Z"
   },
   {
    "duration": 57,
    "start_time": "2022-07-23T16:13:44.035Z"
   },
   {
    "duration": 148,
    "start_time": "2022-07-23T16:13:44.102Z"
   },
   {
    "duration": 282,
    "start_time": "2022-07-23T16:13:44.258Z"
   },
   {
    "duration": 132,
    "start_time": "2022-07-23T16:13:44.554Z"
   },
   {
    "duration": 210,
    "start_time": "2022-07-23T16:13:44.694Z"
   },
   {
    "duration": 175,
    "start_time": "2022-07-23T16:13:44.911Z"
   },
   {
    "duration": 121,
    "start_time": "2022-07-23T16:13:45.094Z"
   },
   {
    "duration": 183,
    "start_time": "2022-07-23T16:13:45.222Z"
   },
   {
    "duration": 243,
    "start_time": "2022-07-23T16:13:45.414Z"
   },
   {
    "duration": 1698,
    "start_time": "2022-07-23T16:13:45.662Z"
   },
   {
    "duration": 34,
    "start_time": "2022-07-23T16:13:47.365Z"
   },
   {
    "duration": 131,
    "start_time": "2022-07-23T16:13:47.407Z"
   },
   {
    "duration": 150,
    "start_time": "2022-07-23T16:13:47.546Z"
   },
   {
    "duration": 250,
    "start_time": "2022-07-23T16:13:47.702Z"
   },
   {
    "duration": 163,
    "start_time": "2022-07-23T16:13:47.964Z"
   },
   {
    "duration": 194,
    "start_time": "2022-07-23T16:13:48.134Z"
   },
   {
    "duration": 213,
    "start_time": "2022-07-23T16:13:48.344Z"
   },
   {
    "duration": 226,
    "start_time": "2022-07-23T16:13:48.563Z"
   },
   {
    "duration": 1208,
    "start_time": "2022-07-23T16:13:48.804Z"
   },
   {
    "duration": 500,
    "start_time": "2022-07-23T16:13:50.017Z"
   },
   {
    "duration": 11,
    "start_time": "2022-07-23T16:13:50.526Z"
   },
   {
    "duration": 199,
    "start_time": "2022-07-23T16:13:50.542Z"
   },
   {
    "duration": 955,
    "start_time": "2022-07-23T16:13:50.744Z"
   },
   {
    "duration": 6,
    "start_time": "2022-07-23T16:13:51.702Z"
   },
   {
    "duration": 73,
    "start_time": "2022-07-23T16:13:51.711Z"
   },
   {
    "duration": 193,
    "start_time": "2022-07-23T16:13:51.787Z"
   },
   {
    "duration": 161,
    "start_time": "2022-07-23T16:13:51.990Z"
   },
   {
    "duration": 229,
    "start_time": "2022-07-23T16:13:52.156Z"
   },
   {
    "duration": 782,
    "start_time": "2022-07-23T16:13:52.390Z"
   },
   {
    "duration": 734,
    "start_time": "2022-07-23T16:13:53.179Z"
   },
   {
    "duration": 13,
    "start_time": "2022-07-23T16:13:53.919Z"
   },
   {
    "duration": 164,
    "start_time": "2022-07-23T16:13:53.937Z"
   },
   {
    "duration": 72,
    "start_time": "2022-07-23T16:13:54.104Z"
   },
   {
    "duration": 113,
    "start_time": "2022-07-23T16:13:54.182Z"
   },
   {
    "duration": 199,
    "start_time": "2022-07-23T16:13:54.305Z"
   },
   {
    "duration": 119,
    "start_time": "2022-07-23T16:13:54.507Z"
   },
   {
    "duration": 728,
    "start_time": "2022-07-23T16:13:54.636Z"
   },
   {
    "duration": 33,
    "start_time": "2022-07-23T16:13:55.367Z"
   },
   {
    "duration": 103,
    "start_time": "2022-07-23T16:13:55.409Z"
   },
   {
    "duration": 161,
    "start_time": "2022-07-23T16:13:55.514Z"
   },
   {
    "duration": 229,
    "start_time": "2022-07-23T16:13:55.679Z"
   },
   {
    "duration": 28,
    "start_time": "2022-07-23T16:13:55.916Z"
   },
   {
    "duration": 275,
    "start_time": "2022-07-23T16:13:55.960Z"
   },
   {
    "duration": 26,
    "start_time": "2022-07-23T16:13:56.237Z"
   },
   {
    "duration": 99,
    "start_time": "2022-07-23T16:13:56.265Z"
   },
   {
    "duration": 13,
    "start_time": "2022-07-23T16:13:56.366Z"
   },
   {
    "duration": 108,
    "start_time": "2022-07-23T16:13:56.384Z"
   },
   {
    "duration": 70,
    "start_time": "2022-07-23T16:13:56.494Z"
   },
   {
    "duration": 169,
    "start_time": "2022-07-23T16:13:56.566Z"
   },
   {
    "duration": 10,
    "start_time": "2022-07-23T16:13:56.741Z"
   },
   {
    "duration": 4035,
    "start_time": "2022-07-23T16:13:56.753Z"
   },
   {
    "duration": 127,
    "start_time": "2022-07-23T16:14:32.347Z"
   },
   {
    "duration": 64,
    "start_time": "2022-07-23T16:17:45.234Z"
   },
   {
    "duration": 115,
    "start_time": "2022-07-23T16:19:16.486Z"
   },
   {
    "duration": 130,
    "start_time": "2022-07-23T16:21:04.354Z"
   },
   {
    "duration": 131,
    "start_time": "2022-07-23T16:22:24.471Z"
   },
   {
    "duration": 116,
    "start_time": "2022-07-23T16:23:06.867Z"
   },
   {
    "duration": 107,
    "start_time": "2022-07-23T16:24:05.362Z"
   },
   {
    "duration": 183,
    "start_time": "2022-07-23T16:25:02.108Z"
   },
   {
    "duration": 140,
    "start_time": "2022-07-23T16:25:17.951Z"
   },
   {
    "duration": 107,
    "start_time": "2022-07-23T16:38:54.884Z"
   },
   {
    "duration": 115,
    "start_time": "2022-07-23T16:40:00.785Z"
   },
   {
    "duration": 202,
    "start_time": "2022-07-23T16:40:25.087Z"
   },
   {
    "duration": 108,
    "start_time": "2022-07-23T16:41:13.557Z"
   },
   {
    "duration": 98,
    "start_time": "2022-07-23T16:43:21.530Z"
   },
   {
    "duration": 61,
    "start_time": "2022-07-23T16:43:28.257Z"
   },
   {
    "duration": 5,
    "start_time": "2022-07-23T16:43:36.265Z"
   },
   {
    "duration": 78,
    "start_time": "2022-07-23T16:43:46.891Z"
   },
   {
    "duration": 264,
    "start_time": "2022-07-23T16:46:56.542Z"
   },
   {
    "duration": 67,
    "start_time": "2022-07-23T16:49:43.770Z"
   },
   {
    "duration": 67,
    "start_time": "2022-07-23T16:50:38.155Z"
   },
   {
    "duration": 87,
    "start_time": "2022-07-23T16:50:46.959Z"
   },
   {
    "duration": 82,
    "start_time": "2022-07-23T16:59:41.351Z"
   },
   {
    "duration": 8,
    "start_time": "2022-07-23T16:59:49.050Z"
   },
   {
    "duration": 3216,
    "start_time": "2022-07-23T16:59:54.868Z"
   },
   {
    "duration": 89,
    "start_time": "2022-07-23T17:00:34.283Z"
   },
   {
    "duration": 118,
    "start_time": "2022-07-23T17:02:01.366Z"
   },
   {
    "duration": 91,
    "start_time": "2022-07-23T17:07:30.127Z"
   },
   {
    "duration": 21,
    "start_time": "2022-07-23T17:07:32.886Z"
   },
   {
    "duration": 1854,
    "start_time": "2022-07-23T17:07:38.556Z"
   },
   {
    "duration": 7,
    "start_time": "2022-07-23T17:08:00.066Z"
   },
   {
    "duration": 77,
    "start_time": "2022-07-23T17:09:07.972Z"
   },
   {
    "duration": 14,
    "start_time": "2022-07-23T17:09:08.756Z"
   },
   {
    "duration": 1830,
    "start_time": "2022-07-23T17:09:10.955Z"
   },
   {
    "duration": 5,
    "start_time": "2022-07-23T17:37:57.975Z"
   },
   {
    "duration": 3071,
    "start_time": "2022-07-23T17:47:35.470Z"
   },
   {
    "duration": 7,
    "start_time": "2022-07-23T17:51:40.351Z"
   },
   {
    "duration": 2997,
    "start_time": "2022-07-23T17:51:48.070Z"
   },
   {
    "duration": 6,
    "start_time": "2022-07-23T17:52:37.453Z"
   },
   {
    "duration": 3144,
    "start_time": "2022-07-23T17:53:16.258Z"
   },
   {
    "duration": 63,
    "start_time": "2022-07-23T17:58:32.728Z"
   },
   {
    "duration": 1517,
    "start_time": "2022-07-23T17:59:18.232Z"
   },
   {
    "duration": 3006,
    "start_time": "2022-07-23T18:00:57.153Z"
   },
   {
    "duration": 3252,
    "start_time": "2022-07-23T18:10:10.072Z"
   },
   {
    "duration": 1349,
    "start_time": "2022-07-23T18:12:01.645Z"
   },
   {
    "duration": 103,
    "start_time": "2022-07-23T18:14:49.251Z"
   },
   {
    "duration": 107,
    "start_time": "2022-07-23T18:15:44.865Z"
   },
   {
    "duration": 9,
    "start_time": "2022-07-23T18:32:14.993Z"
   },
   {
    "duration": 60,
    "start_time": "2022-07-23T18:35:50.338Z"
   },
   {
    "duration": 63,
    "start_time": "2022-07-23T18:36:08.379Z"
   },
   {
    "duration": 108,
    "start_time": "2022-07-23T18:38:47.893Z"
   },
   {
    "duration": 19,
    "start_time": "2022-07-23T18:38:54.546Z"
   },
   {
    "duration": 31,
    "start_time": "2022-07-23T18:39:21.851Z"
   },
   {
    "duration": 57,
    "start_time": "2022-07-23T18:40:27.633Z"
   },
   {
    "duration": 64,
    "start_time": "2022-07-23T18:40:32.392Z"
   },
   {
    "duration": 61,
    "start_time": "2022-07-23T18:43:13.682Z"
   },
   {
    "duration": 29,
    "start_time": "2022-07-23T18:45:34.951Z"
   },
   {
    "duration": 34,
    "start_time": "2022-07-23T18:46:14.799Z"
   },
   {
    "duration": 61,
    "start_time": "2022-07-23T18:48:40.845Z"
   },
   {
    "duration": 57,
    "start_time": "2022-07-23T18:49:05.871Z"
   },
   {
    "duration": 8,
    "start_time": "2022-07-23T18:50:40.646Z"
   },
   {
    "duration": 58,
    "start_time": "2022-07-23T18:50:42.936Z"
   },
   {
    "duration": 86,
    "start_time": "2022-07-23T18:50:58.100Z"
   },
   {
    "duration": 8,
    "start_time": "2022-07-23T18:59:07.194Z"
   },
   {
    "duration": 2428,
    "start_time": "2022-07-23T19:00:11.664Z"
   },
   {
    "duration": 9,
    "start_time": "2022-07-23T19:01:10.786Z"
   },
   {
    "duration": 2337,
    "start_time": "2022-07-23T19:01:21.483Z"
   },
   {
    "duration": 102,
    "start_time": "2022-07-23T19:04:00.171Z"
   },
   {
    "duration": 59,
    "start_time": "2022-07-23T19:05:49.857Z"
   },
   {
    "duration": 1088,
    "start_time": "2022-07-23T19:06:07.039Z"
   },
   {
    "duration": 4,
    "start_time": "2022-07-23T19:09:15.886Z"
   },
   {
    "duration": 34,
    "start_time": "2022-07-23T19:09:25.748Z"
   },
   {
    "duration": 23,
    "start_time": "2022-07-23T19:10:53.273Z"
   },
   {
    "duration": 75,
    "start_time": "2022-07-23T19:14:28.300Z"
   },
   {
    "duration": 11,
    "start_time": "2022-07-23T19:16:31.393Z"
   },
   {
    "duration": 13,
    "start_time": "2022-07-23T19:16:57.981Z"
   },
   {
    "duration": 83,
    "start_time": "2022-07-23T19:18:57.755Z"
   },
   {
    "duration": 1417,
    "start_time": "2022-07-24T09:10:05.365Z"
   },
   {
    "duration": 386,
    "start_time": "2022-07-24T09:10:06.786Z"
   },
   {
    "duration": 15,
    "start_time": "2022-07-24T09:10:07.174Z"
   },
   {
    "duration": 43,
    "start_time": "2022-07-24T09:10:07.191Z"
   },
   {
    "duration": 11,
    "start_time": "2022-07-24T09:10:07.235Z"
   },
   {
    "duration": 7,
    "start_time": "2022-07-24T09:10:07.247Z"
   },
   {
    "duration": 7,
    "start_time": "2022-07-24T09:10:07.256Z"
   },
   {
    "duration": 5,
    "start_time": "2022-07-24T09:10:07.265Z"
   },
   {
    "duration": 5,
    "start_time": "2022-07-24T09:10:07.273Z"
   },
   {
    "duration": 10,
    "start_time": "2022-07-24T09:10:07.280Z"
   },
   {
    "duration": 56,
    "start_time": "2022-07-24T09:10:07.292Z"
   },
   {
    "duration": 4,
    "start_time": "2022-07-24T09:10:07.351Z"
   },
   {
    "duration": 16,
    "start_time": "2022-07-24T09:10:07.357Z"
   },
   {
    "duration": 16,
    "start_time": "2022-07-24T09:10:07.375Z"
   },
   {
    "duration": 33,
    "start_time": "2022-07-24T09:10:07.393Z"
   },
   {
    "duration": 17,
    "start_time": "2022-07-24T09:10:07.428Z"
   },
   {
    "duration": 44,
    "start_time": "2022-07-24T09:10:07.448Z"
   },
   {
    "duration": 44,
    "start_time": "2022-07-24T09:10:07.493Z"
   },
   {
    "duration": 36,
    "start_time": "2022-07-24T09:10:07.539Z"
   },
   {
    "duration": 52,
    "start_time": "2022-07-24T09:10:07.577Z"
   },
   {
    "duration": 10,
    "start_time": "2022-07-24T09:10:07.630Z"
   },
   {
    "duration": 17,
    "start_time": "2022-07-24T09:10:07.641Z"
   },
   {
    "duration": 39,
    "start_time": "2022-07-24T09:10:07.659Z"
   },
   {
    "duration": 753,
    "start_time": "2022-07-24T09:10:07.700Z"
   },
   {
    "duration": 18,
    "start_time": "2022-07-24T09:10:08.455Z"
   },
   {
    "duration": 13,
    "start_time": "2022-07-24T09:10:08.475Z"
   },
   {
    "duration": 6,
    "start_time": "2022-07-24T09:10:08.492Z"
   },
   {
    "duration": 32,
    "start_time": "2022-07-24T09:10:08.500Z"
   },
   {
    "duration": 8,
    "start_time": "2022-07-24T09:10:08.534Z"
   },
   {
    "duration": 8,
    "start_time": "2022-07-24T09:10:08.543Z"
   },
   {
    "duration": 10,
    "start_time": "2022-07-24T09:10:08.553Z"
   },
   {
    "duration": 20,
    "start_time": "2022-07-24T09:10:08.564Z"
   },
   {
    "duration": 603,
    "start_time": "2022-07-24T09:10:08.586Z"
   },
   {
    "duration": 250,
    "start_time": "2022-07-24T09:10:09.191Z"
   },
   {
    "duration": 5,
    "start_time": "2022-07-24T09:10:09.443Z"
   },
   {
    "duration": 38,
    "start_time": "2022-07-24T09:10:09.450Z"
   },
   {
    "duration": 418,
    "start_time": "2022-07-24T09:10:09.490Z"
   },
   {
    "duration": 13,
    "start_time": "2022-07-24T09:10:09.910Z"
   },
   {
    "duration": 37,
    "start_time": "2022-07-24T09:10:09.925Z"
   },
   {
    "duration": 18,
    "start_time": "2022-07-24T09:10:09.963Z"
   },
   {
    "duration": 17,
    "start_time": "2022-07-24T09:10:09.982Z"
   },
   {
    "duration": 36,
    "start_time": "2022-07-24T09:10:10.000Z"
   },
   {
    "duration": 441,
    "start_time": "2022-07-24T09:10:10.038Z"
   },
   {
    "duration": 509,
    "start_time": "2022-07-24T09:10:10.482Z"
   },
   {
    "duration": 4,
    "start_time": "2022-07-24T09:10:10.993Z"
   },
   {
    "duration": 57,
    "start_time": "2022-07-24T09:10:10.999Z"
   },
   {
    "duration": 17,
    "start_time": "2022-07-24T09:10:11.057Z"
   },
   {
    "duration": 29,
    "start_time": "2022-07-24T09:10:11.076Z"
   },
   {
    "duration": 47,
    "start_time": "2022-07-24T09:10:11.107Z"
   },
   {
    "duration": 27,
    "start_time": "2022-07-24T09:10:11.156Z"
   },
   {
    "duration": 425,
    "start_time": "2022-07-24T09:10:11.185Z"
   },
   {
    "duration": 9,
    "start_time": "2022-07-24T09:10:11.612Z"
   },
   {
    "duration": 28,
    "start_time": "2022-07-24T09:10:11.623Z"
   },
   {
    "duration": 22,
    "start_time": "2022-07-24T09:10:11.654Z"
   },
   {
    "duration": 118,
    "start_time": "2022-07-24T09:10:11.677Z"
   },
   {
    "duration": 6,
    "start_time": "2022-07-24T09:10:11.797Z"
   },
   {
    "duration": 105,
    "start_time": "2022-07-24T09:10:11.804Z"
   },
   {
    "duration": 19,
    "start_time": "2022-07-24T09:10:11.911Z"
   },
   {
    "duration": 29,
    "start_time": "2022-07-24T09:10:11.932Z"
   },
   {
    "duration": 21,
    "start_time": "2022-07-24T09:10:11.963Z"
   },
   {
    "duration": 31,
    "start_time": "2022-07-24T09:10:11.986Z"
   },
   {
    "duration": 2315,
    "start_time": "2022-07-24T09:10:12.019Z"
   },
   {
    "duration": 997,
    "start_time": "2022-07-24T09:10:14.335Z"
   },
   {
    "duration": 2165,
    "start_time": "2022-07-24T09:10:15.333Z"
   },
   {
    "duration": 944,
    "start_time": "2022-07-24T09:10:17.500Z"
   },
   {
    "duration": 17,
    "start_time": "2022-07-24T09:10:18.446Z"
   },
   {
    "duration": 25,
    "start_time": "2022-07-24T09:10:18.464Z"
   },
   {
    "duration": 6,
    "start_time": "2022-07-24T09:10:18.490Z"
   },
   {
    "duration": 202,
    "start_time": "2022-07-24T09:10:18.498Z"
   },
   {
    "duration": 0,
    "start_time": "2022-07-24T09:10:18.702Z"
   },
   {
    "duration": 43,
    "start_time": "2022-07-24T09:10:38.259Z"
   },
   {
    "duration": 1223,
    "start_time": "2022-07-24T09:11:11.915Z"
   },
   {
    "duration": 297,
    "start_time": "2022-07-24T09:11:13.140Z"
   },
   {
    "duration": 16,
    "start_time": "2022-07-24T09:11:13.438Z"
   },
   {
    "duration": 43,
    "start_time": "2022-07-24T09:11:13.456Z"
   },
   {
    "duration": 9,
    "start_time": "2022-07-24T09:11:13.500Z"
   },
   {
    "duration": 12,
    "start_time": "2022-07-24T09:11:13.511Z"
   },
   {
    "duration": 7,
    "start_time": "2022-07-24T09:11:13.524Z"
   },
   {
    "duration": 6,
    "start_time": "2022-07-24T09:11:13.533Z"
   },
   {
    "duration": 6,
    "start_time": "2022-07-24T09:11:13.541Z"
   },
   {
    "duration": 7,
    "start_time": "2022-07-24T09:11:13.550Z"
   },
   {
    "duration": 26,
    "start_time": "2022-07-24T09:11:13.559Z"
   },
   {
    "duration": 3,
    "start_time": "2022-07-24T09:11:13.587Z"
   },
   {
    "duration": 41,
    "start_time": "2022-07-24T09:11:13.591Z"
   },
   {
    "duration": 10,
    "start_time": "2022-07-24T09:11:13.634Z"
   },
   {
    "duration": 7,
    "start_time": "2022-07-24T09:11:13.645Z"
   },
   {
    "duration": 10,
    "start_time": "2022-07-24T09:11:13.653Z"
   },
   {
    "duration": 65,
    "start_time": "2022-07-24T09:11:13.664Z"
   },
   {
    "duration": 21,
    "start_time": "2022-07-24T09:11:13.731Z"
   },
   {
    "duration": 33,
    "start_time": "2022-07-24T09:11:13.754Z"
   },
   {
    "duration": 56,
    "start_time": "2022-07-24T09:11:13.789Z"
   },
   {
    "duration": 11,
    "start_time": "2022-07-24T09:11:13.846Z"
   },
   {
    "duration": 25,
    "start_time": "2022-07-24T09:11:13.859Z"
   },
   {
    "duration": 61,
    "start_time": "2022-07-24T09:11:13.886Z"
   },
   {
    "duration": 707,
    "start_time": "2022-07-24T09:11:13.949Z"
   },
   {
    "duration": 19,
    "start_time": "2022-07-24T09:11:14.658Z"
   },
   {
    "duration": 12,
    "start_time": "2022-07-24T09:11:14.678Z"
   },
   {
    "duration": 6,
    "start_time": "2022-07-24T09:11:14.692Z"
   },
   {
    "duration": 26,
    "start_time": "2022-07-24T09:11:14.701Z"
   },
   {
    "duration": 8,
    "start_time": "2022-07-24T09:11:14.729Z"
   },
   {
    "duration": 5,
    "start_time": "2022-07-24T09:11:14.738Z"
   },
   {
    "duration": 7,
    "start_time": "2022-07-24T09:11:14.745Z"
   },
   {
    "duration": 19,
    "start_time": "2022-07-24T09:11:14.754Z"
   },
   {
    "duration": 484,
    "start_time": "2022-07-24T09:11:14.775Z"
   },
   {
    "duration": 243,
    "start_time": "2022-07-24T09:11:15.261Z"
   },
   {
    "duration": 5,
    "start_time": "2022-07-24T09:11:15.505Z"
   },
   {
    "duration": 44,
    "start_time": "2022-07-24T09:11:15.512Z"
   },
   {
    "duration": 377,
    "start_time": "2022-07-24T09:11:15.557Z"
   },
   {
    "duration": 4,
    "start_time": "2022-07-24T09:11:15.935Z"
   },
   {
    "duration": 41,
    "start_time": "2022-07-24T09:11:15.941Z"
   },
   {
    "duration": 18,
    "start_time": "2022-07-24T09:11:15.984Z"
   },
   {
    "duration": 19,
    "start_time": "2022-07-24T09:11:16.023Z"
   },
   {
    "duration": 20,
    "start_time": "2022-07-24T09:11:16.044Z"
   },
   {
    "duration": 416,
    "start_time": "2022-07-24T09:11:16.065Z"
   },
   {
    "duration": 491,
    "start_time": "2022-07-24T09:11:16.483Z"
   },
   {
    "duration": 4,
    "start_time": "2022-07-24T09:11:16.976Z"
   },
   {
    "duration": 48,
    "start_time": "2022-07-24T09:11:16.982Z"
   },
   {
    "duration": 16,
    "start_time": "2022-07-24T09:11:17.032Z"
   },
   {
    "duration": 9,
    "start_time": "2022-07-24T09:11:17.050Z"
   },
   {
    "duration": 10,
    "start_time": "2022-07-24T09:11:17.060Z"
   },
   {
    "duration": 17,
    "start_time": "2022-07-24T09:11:17.072Z"
   },
   {
    "duration": 372,
    "start_time": "2022-07-24T09:11:17.090Z"
   },
   {
    "duration": 9,
    "start_time": "2022-07-24T09:11:17.463Z"
   },
   {
    "duration": 16,
    "start_time": "2022-07-24T09:11:17.474Z"
   },
   {
    "duration": 8,
    "start_time": "2022-07-24T09:11:17.492Z"
   },
   {
    "duration": 156,
    "start_time": "2022-07-24T09:11:17.501Z"
   },
   {
    "duration": 5,
    "start_time": "2022-07-24T09:11:17.659Z"
   },
   {
    "duration": 84,
    "start_time": "2022-07-24T09:11:17.666Z"
   },
   {
    "duration": 17,
    "start_time": "2022-07-24T09:11:17.751Z"
   },
   {
    "duration": 17,
    "start_time": "2022-07-24T09:11:17.770Z"
   },
   {
    "duration": 3,
    "start_time": "2022-07-24T09:11:17.789Z"
   },
   {
    "duration": 30,
    "start_time": "2022-07-24T09:11:17.794Z"
   },
   {
    "duration": 2303,
    "start_time": "2022-07-24T09:11:17.826Z"
   },
   {
    "duration": 1022,
    "start_time": "2022-07-24T09:11:20.130Z"
   },
   {
    "duration": 2059,
    "start_time": "2022-07-24T09:11:21.154Z"
   },
   {
    "duration": 978,
    "start_time": "2022-07-24T09:11:23.214Z"
   },
   {
    "duration": 29,
    "start_time": "2022-07-24T09:11:24.194Z"
   },
   {
    "duration": 36,
    "start_time": "2022-07-24T09:11:24.224Z"
   },
   {
    "duration": 7,
    "start_time": "2022-07-24T09:11:24.262Z"
   },
   {
    "duration": 176,
    "start_time": "2022-07-24T09:11:24.270Z"
   },
   {
    "duration": 0,
    "start_time": "2022-07-24T09:11:24.447Z"
   },
   {
    "duration": 36,
    "start_time": "2022-07-24T09:11:32.313Z"
   },
   {
    "duration": 46,
    "start_time": "2022-07-24T09:11:40.145Z"
   },
   {
    "duration": 51,
    "start_time": "2022-07-24T09:12:43.750Z"
   },
   {
    "duration": 5,
    "start_time": "2022-07-24T09:13:54.982Z"
   },
   {
    "duration": 840,
    "start_time": "2022-07-24T09:14:07.910Z"
   },
   {
    "duration": 2205,
    "start_time": "2022-07-24T09:15:57.807Z"
   },
   {
    "duration": 5,
    "start_time": "2022-07-24T09:20:21.540Z"
   },
   {
    "duration": 43,
    "start_time": "2022-07-24T09:23:59.313Z"
   },
   {
    "duration": 1370,
    "start_time": "2022-07-24T09:24:08.193Z"
   },
   {
    "duration": 1077,
    "start_time": "2022-07-24T09:26:23.213Z"
   },
   {
    "duration": 1113,
    "start_time": "2022-07-24T09:26:42.421Z"
   },
   {
    "duration": 5,
    "start_time": "2022-07-24T09:28:38.469Z"
   },
   {
    "duration": 865,
    "start_time": "2022-07-24T09:28:45.932Z"
   },
   {
    "duration": 5,
    "start_time": "2022-07-24T09:29:11.380Z"
   },
   {
    "duration": 4,
    "start_time": "2022-07-24T09:29:18.843Z"
   },
   {
    "duration": 1029,
    "start_time": "2022-07-24T09:29:27.407Z"
   },
   {
    "duration": 6,
    "start_time": "2022-07-24T09:29:53.132Z"
   },
   {
    "duration": 1140,
    "start_time": "2022-07-24T09:30:00.905Z"
   },
   {
    "duration": 6,
    "start_time": "2022-07-24T09:33:39.700Z"
   },
   {
    "duration": 5,
    "start_time": "2022-07-24T09:34:56.877Z"
   },
   {
    "duration": 1049,
    "start_time": "2022-07-24T09:35:03.147Z"
   },
   {
    "duration": 5,
    "start_time": "2022-07-24T09:36:22.116Z"
   },
   {
    "duration": 782,
    "start_time": "2022-07-24T09:36:28.132Z"
   },
   {
    "duration": 1960,
    "start_time": "2022-07-24T09:37:09.049Z"
   },
   {
    "duration": 5,
    "start_time": "2022-07-24T10:07:38.753Z"
   },
   {
    "duration": 21,
    "start_time": "2022-07-24T10:07:48.662Z"
   },
   {
    "duration": 4,
    "start_time": "2022-07-24T10:08:31.442Z"
   },
   {
    "duration": 20,
    "start_time": "2022-07-24T10:08:32.349Z"
   },
   {
    "duration": 12,
    "start_time": "2022-07-24T10:09:25.043Z"
   },
   {
    "duration": 14,
    "start_time": "2022-07-24T10:09:43.762Z"
   },
   {
    "duration": 10,
    "start_time": "2022-07-24T10:10:25.951Z"
   },
   {
    "duration": 51,
    "start_time": "2022-07-24T10:20:34.378Z"
   },
   {
    "duration": 10,
    "start_time": "2022-07-24T10:20:41.452Z"
   },
   {
    "duration": 9,
    "start_time": "2022-07-24T10:20:55.870Z"
   },
   {
    "duration": 47,
    "start_time": "2022-07-24T10:22:33.654Z"
   },
   {
    "duration": 48,
    "start_time": "2022-07-24T10:22:56.868Z"
   },
   {
    "duration": 15,
    "start_time": "2022-07-24T10:23:14.356Z"
   },
   {
    "duration": 24,
    "start_time": "2022-07-24T10:23:49.189Z"
   },
   {
    "duration": 21,
    "start_time": "2022-07-24T10:24:08.198Z"
   },
   {
    "duration": 19,
    "start_time": "2022-07-24T10:25:36.095Z"
   },
   {
    "duration": 53,
    "start_time": "2022-07-24T10:26:15.712Z"
   },
   {
    "duration": 19,
    "start_time": "2022-07-24T10:26:33.305Z"
   },
   {
    "duration": 20,
    "start_time": "2022-07-24T10:26:57.160Z"
   },
   {
    "duration": 155,
    "start_time": "2022-07-24T10:53:44.369Z"
   },
   {
    "duration": 61,
    "start_time": "2022-07-24T10:53:53.605Z"
   },
   {
    "duration": 97,
    "start_time": "2022-07-24T10:56:31.559Z"
   },
   {
    "duration": 123,
    "start_time": "2022-07-24T11:09:15.844Z"
   },
   {
    "duration": 8,
    "start_time": "2022-07-24T11:10:23.066Z"
   },
   {
    "duration": 1264,
    "start_time": "2022-07-24T11:10:24.944Z"
   },
   {
    "duration": 93,
    "start_time": "2022-07-24T11:14:14.650Z"
   },
   {
    "duration": 5,
    "start_time": "2022-07-24T11:14:41.999Z"
   },
   {
    "duration": 1274,
    "start_time": "2022-07-24T11:14:50.388Z"
   },
   {
    "duration": 16,
    "start_time": "2022-07-24T11:15:05.147Z"
   },
   {
    "duration": 1196,
    "start_time": "2022-07-24T11:17:42.902Z"
   },
   {
    "duration": 3356,
    "start_time": "2022-07-24T11:20:37.852Z"
   },
   {
    "duration": 49,
    "start_time": "2022-07-24T11:27:36.339Z"
   },
   {
    "duration": 48,
    "start_time": "2022-07-24T11:28:34.770Z"
   },
   {
    "duration": 9,
    "start_time": "2022-07-24T11:28:52.088Z"
   },
   {
    "duration": 39,
    "start_time": "2022-07-24T11:28:54.210Z"
   },
   {
    "duration": 8,
    "start_time": "2022-07-24T11:29:20.743Z"
   },
   {
    "duration": 1264,
    "start_time": "2022-07-24T11:29:22.906Z"
   },
   {
    "duration": 52,
    "start_time": "2022-07-24T11:33:11.894Z"
   },
   {
    "duration": 48,
    "start_time": "2022-07-24T11:33:42.229Z"
   },
   {
    "duration": 14,
    "start_time": "2022-07-24T11:33:48.458Z"
   },
   {
    "duration": 24,
    "start_time": "2022-07-24T11:34:11.344Z"
   },
   {
    "duration": 13,
    "start_time": "2022-07-24T11:37:09.651Z"
   },
   {
    "duration": 4,
    "start_time": "2022-07-24T11:41:34.016Z"
   },
   {
    "duration": 8,
    "start_time": "2022-07-24T11:41:42.045Z"
   },
   {
    "duration": 1253,
    "start_time": "2022-07-24T11:42:14.698Z"
   },
   {
    "duration": 1238,
    "start_time": "2022-07-24T11:42:25.073Z"
   },
   {
    "duration": 1233,
    "start_time": "2022-07-24T11:42:35.743Z"
   },
   {
    "duration": 6,
    "start_time": "2022-07-24T11:43:32.886Z"
   },
   {
    "duration": 1236,
    "start_time": "2022-07-24T11:43:33.707Z"
   },
   {
    "duration": 1335,
    "start_time": "2022-07-24T11:45:58.904Z"
   },
   {
    "duration": 3166,
    "start_time": "2022-07-24T11:46:20.436Z"
   },
   {
    "duration": 3256,
    "start_time": "2022-07-24T11:46:46.002Z"
   },
   {
    "duration": 1197,
    "start_time": "2022-07-24T11:46:53.878Z"
   },
   {
    "duration": 11,
    "start_time": "2022-07-24T11:51:04.357Z"
   },
   {
    "duration": 11,
    "start_time": "2022-07-24T11:51:31.265Z"
   },
   {
    "duration": 14,
    "start_time": "2022-07-24T11:53:43.530Z"
   },
   {
    "duration": 9,
    "start_time": "2022-07-24T11:54:33.190Z"
   },
   {
    "duration": 1597,
    "start_time": "2022-07-24T11:54:33.943Z"
   },
   {
    "duration": 6,
    "start_time": "2022-07-24T11:54:55.030Z"
   },
   {
    "duration": 13,
    "start_time": "2022-07-24T11:54:56.263Z"
   },
   {
    "duration": 1263,
    "start_time": "2022-07-24T11:55:11.213Z"
   },
   {
    "duration": 1266,
    "start_time": "2022-07-24T12:11:13.794Z"
   },
   {
    "duration": 1300,
    "start_time": "2022-07-24T12:11:36.809Z"
   },
   {
    "duration": 3378,
    "start_time": "2022-07-24T12:12:27.042Z"
   },
   {
    "duration": 3440,
    "start_time": "2022-07-24T12:13:03.585Z"
   },
   {
    "duration": 1217,
    "start_time": "2022-07-24T12:16:43.716Z"
   },
   {
    "duration": 14,
    "start_time": "2022-07-24T12:18:58.611Z"
   },
   {
    "duration": 4389,
    "start_time": "2022-07-24T12:21:31.196Z"
   },
   {
    "duration": 152,
    "start_time": "2022-07-24T12:27:09.148Z"
   },
   {
    "duration": 26,
    "start_time": "2022-07-24T12:27:32.854Z"
   },
   {
    "duration": 5,
    "start_time": "2022-07-24T12:29:11.745Z"
   },
   {
    "duration": 4,
    "start_time": "2022-07-24T12:29:24.776Z"
   },
   {
    "duration": 5,
    "start_time": "2022-07-24T12:29:39.203Z"
   },
   {
    "duration": 69,
    "start_time": "2022-07-24T12:30:27.470Z"
   },
   {
    "duration": 6,
    "start_time": "2022-07-24T12:34:42.723Z"
   },
   {
    "duration": 72,
    "start_time": "2022-07-24T12:35:39.186Z"
   },
   {
    "duration": 63,
    "start_time": "2022-07-24T12:36:08.412Z"
   },
   {
    "duration": 70,
    "start_time": "2022-07-24T12:36:45.059Z"
   },
   {
    "duration": 5,
    "start_time": "2022-07-24T12:36:59.321Z"
   },
   {
    "duration": 57,
    "start_time": "2022-07-24T12:37:02.866Z"
   },
   {
    "duration": 4,
    "start_time": "2022-07-24T12:41:57.071Z"
   },
   {
    "duration": 55,
    "start_time": "2022-07-24T12:42:00.954Z"
   },
   {
    "duration": 6,
    "start_time": "2022-07-24T12:42:11.945Z"
   },
   {
    "duration": 62,
    "start_time": "2022-07-24T12:42:15.595Z"
   },
   {
    "duration": 5,
    "start_time": "2022-07-24T12:42:56.787Z"
   },
   {
    "duration": 81,
    "start_time": "2022-07-24T12:43:00.561Z"
   },
   {
    "duration": 4,
    "start_time": "2022-07-24T12:44:04.199Z"
   },
   {
    "duration": 80,
    "start_time": "2022-07-24T12:44:12.386Z"
   },
   {
    "duration": 5,
    "start_time": "2022-07-24T12:45:01.703Z"
   },
   {
    "duration": 78,
    "start_time": "2022-07-24T12:45:04.867Z"
   },
   {
    "duration": 65,
    "start_time": "2022-07-24T12:46:22.539Z"
   },
   {
    "duration": 6,
    "start_time": "2022-07-24T12:46:29.939Z"
   },
   {
    "duration": 15,
    "start_time": "2022-07-24T12:46:32.187Z"
   },
   {
    "duration": 10,
    "start_time": "2022-07-24T12:47:02.918Z"
   },
   {
    "duration": 59,
    "start_time": "2022-07-24T12:47:03.800Z"
   },
   {
    "duration": 7,
    "start_time": "2022-07-24T12:48:01.520Z"
   },
   {
    "duration": 17,
    "start_time": "2022-07-24T12:48:02.583Z"
   },
   {
    "duration": 5,
    "start_time": "2022-07-24T12:48:22.288Z"
   },
   {
    "duration": 22,
    "start_time": "2022-07-24T12:48:23.122Z"
   },
   {
    "duration": 5,
    "start_time": "2022-07-24T12:49:05.273Z"
   },
   {
    "duration": 56,
    "start_time": "2022-07-24T12:49:06.340Z"
   },
   {
    "duration": 5,
    "start_time": "2022-07-24T12:50:32.644Z"
   },
   {
    "duration": 60,
    "start_time": "2022-07-24T12:50:33.541Z"
   },
   {
    "duration": 4,
    "start_time": "2022-07-24T12:51:36.693Z"
   },
   {
    "duration": 19,
    "start_time": "2022-07-24T12:51:37.416Z"
   },
   {
    "duration": 6,
    "start_time": "2022-07-24T12:52:21.243Z"
   },
   {
    "duration": 26,
    "start_time": "2022-07-24T12:52:21.919Z"
   },
   {
    "duration": 5,
    "start_time": "2022-07-24T12:54:27.109Z"
   },
   {
    "duration": 52,
    "start_time": "2022-07-24T12:54:28.739Z"
   },
   {
    "duration": 4,
    "start_time": "2022-07-24T12:54:49.254Z"
   },
   {
    "duration": 54,
    "start_time": "2022-07-24T12:54:50.332Z"
   },
   {
    "duration": 11,
    "start_time": "2022-07-24T12:55:27.342Z"
   },
   {
    "duration": 1373,
    "start_time": "2022-07-24T12:58:19.003Z"
   },
   {
    "duration": 184,
    "start_time": "2022-07-24T12:58:20.378Z"
   },
   {
    "duration": 17,
    "start_time": "2022-07-24T12:58:20.563Z"
   },
   {
    "duration": 37,
    "start_time": "2022-07-24T12:58:20.582Z"
   },
   {
    "duration": 24,
    "start_time": "2022-07-24T12:58:20.621Z"
   },
   {
    "duration": 6,
    "start_time": "2022-07-24T12:58:20.647Z"
   },
   {
    "duration": 11,
    "start_time": "2022-07-24T12:58:20.655Z"
   },
   {
    "duration": 4,
    "start_time": "2022-07-24T12:58:20.668Z"
   },
   {
    "duration": 8,
    "start_time": "2022-07-24T12:58:20.673Z"
   },
   {
    "duration": 7,
    "start_time": "2022-07-24T12:58:20.684Z"
   },
   {
    "duration": 44,
    "start_time": "2022-07-24T12:58:20.693Z"
   },
   {
    "duration": 3,
    "start_time": "2022-07-24T12:58:20.739Z"
   },
   {
    "duration": 16,
    "start_time": "2022-07-24T12:58:20.744Z"
   },
   {
    "duration": 23,
    "start_time": "2022-07-24T12:58:20.762Z"
   },
   {
    "duration": 10,
    "start_time": "2022-07-24T12:58:20.786Z"
   },
   {
    "duration": 11,
    "start_time": "2022-07-24T12:58:20.798Z"
   },
   {
    "duration": 57,
    "start_time": "2022-07-24T12:58:20.811Z"
   },
   {
    "duration": 23,
    "start_time": "2022-07-24T12:58:20.869Z"
   },
   {
    "duration": 66,
    "start_time": "2022-07-24T12:58:20.894Z"
   },
   {
    "duration": 41,
    "start_time": "2022-07-24T12:58:20.963Z"
   },
   {
    "duration": 28,
    "start_time": "2022-07-24T12:58:21.006Z"
   },
   {
    "duration": 27,
    "start_time": "2022-07-24T12:58:21.035Z"
   },
   {
    "duration": 41,
    "start_time": "2022-07-24T12:58:21.063Z"
   },
   {
    "duration": 800,
    "start_time": "2022-07-24T12:58:21.106Z"
   },
   {
    "duration": 25,
    "start_time": "2022-07-24T12:58:21.907Z"
   },
   {
    "duration": 16,
    "start_time": "2022-07-24T12:58:21.934Z"
   },
   {
    "duration": 6,
    "start_time": "2022-07-24T12:58:21.952Z"
   },
   {
    "duration": 6,
    "start_time": "2022-07-24T12:58:21.961Z"
   },
   {
    "duration": 6,
    "start_time": "2022-07-24T12:58:21.969Z"
   },
   {
    "duration": 25,
    "start_time": "2022-07-24T12:58:21.977Z"
   },
   {
    "duration": 509,
    "start_time": "2022-07-24T12:58:22.004Z"
   },
   {
    "duration": 257,
    "start_time": "2022-07-24T12:58:22.515Z"
   },
   {
    "duration": 5,
    "start_time": "2022-07-24T12:58:22.774Z"
   },
   {
    "duration": 53,
    "start_time": "2022-07-24T12:58:22.781Z"
   },
   {
    "duration": 403,
    "start_time": "2022-07-24T12:58:22.838Z"
   },
   {
    "duration": 4,
    "start_time": "2022-07-24T12:58:23.243Z"
   },
   {
    "duration": 42,
    "start_time": "2022-07-24T12:58:23.248Z"
   },
   {
    "duration": 36,
    "start_time": "2022-07-24T12:58:23.293Z"
   },
   {
    "duration": 21,
    "start_time": "2022-07-24T12:58:23.333Z"
   },
   {
    "duration": 21,
    "start_time": "2022-07-24T12:58:23.356Z"
   },
   {
    "duration": 477,
    "start_time": "2022-07-24T12:58:23.378Z"
   },
   {
    "duration": 509,
    "start_time": "2022-07-24T12:58:23.857Z"
   },
   {
    "duration": 5,
    "start_time": "2022-07-24T12:58:24.368Z"
   },
   {
    "duration": 52,
    "start_time": "2022-07-24T12:58:24.374Z"
   },
   {
    "duration": 25,
    "start_time": "2022-07-24T12:58:24.431Z"
   },
   {
    "duration": 9,
    "start_time": "2022-07-24T12:58:24.458Z"
   },
   {
    "duration": 12,
    "start_time": "2022-07-24T12:58:24.469Z"
   },
   {
    "duration": 17,
    "start_time": "2022-07-24T12:58:24.484Z"
   },
   {
    "duration": 1544,
    "start_time": "2022-07-24T12:58:24.503Z"
   },
   {
    "duration": 10,
    "start_time": "2022-07-24T12:58:26.048Z"
   },
   {
    "duration": 169,
    "start_time": "2022-07-24T12:58:26.060Z"
   },
   {
    "duration": 5,
    "start_time": "2022-07-24T12:58:26.237Z"
   },
   {
    "duration": 78,
    "start_time": "2022-07-24T12:58:26.244Z"
   },
   {
    "duration": 25,
    "start_time": "2022-07-24T12:58:26.323Z"
   },
   {
    "duration": 18,
    "start_time": "2022-07-24T12:58:26.350Z"
   },
   {
    "duration": 3,
    "start_time": "2022-07-24T12:58:26.370Z"
   },
   {
    "duration": 6,
    "start_time": "2022-07-24T12:58:26.374Z"
   },
   {
    "duration": 2099,
    "start_time": "2022-07-24T12:58:26.382Z"
   },
   {
    "duration": 0,
    "start_time": "2022-07-24T12:58:28.483Z"
   },
   {
    "duration": 0,
    "start_time": "2022-07-24T12:58:28.484Z"
   },
   {
    "duration": 0,
    "start_time": "2022-07-24T12:58:28.485Z"
   },
   {
    "duration": 0,
    "start_time": "2022-07-24T12:58:28.486Z"
   },
   {
    "duration": 0,
    "start_time": "2022-07-24T12:58:28.487Z"
   },
   {
    "duration": 0,
    "start_time": "2022-07-24T12:58:28.488Z"
   },
   {
    "duration": 0,
    "start_time": "2022-07-24T12:58:28.489Z"
   },
   {
    "duration": 1263,
    "start_time": "2022-07-24T12:59:56.406Z"
   },
   {
    "duration": 216,
    "start_time": "2022-07-24T12:59:57.671Z"
   },
   {
    "duration": 17,
    "start_time": "2022-07-24T12:59:57.889Z"
   },
   {
    "duration": 73,
    "start_time": "2022-07-24T12:59:57.909Z"
   },
   {
    "duration": 11,
    "start_time": "2022-07-24T12:59:57.983Z"
   },
   {
    "duration": 6,
    "start_time": "2022-07-24T12:59:57.995Z"
   },
   {
    "duration": 12,
    "start_time": "2022-07-24T12:59:58.003Z"
   },
   {
    "duration": 6,
    "start_time": "2022-07-24T12:59:58.017Z"
   },
   {
    "duration": 26,
    "start_time": "2022-07-24T12:59:58.024Z"
   },
   {
    "duration": 6,
    "start_time": "2022-07-24T12:59:58.053Z"
   },
   {
    "duration": 27,
    "start_time": "2022-07-24T12:59:58.061Z"
   },
   {
    "duration": 3,
    "start_time": "2022-07-24T12:59:58.090Z"
   },
   {
    "duration": 18,
    "start_time": "2022-07-24T12:59:58.094Z"
   },
   {
    "duration": 19,
    "start_time": "2022-07-24T12:59:58.123Z"
   },
   {
    "duration": 10,
    "start_time": "2022-07-24T12:59:58.143Z"
   },
   {
    "duration": 16,
    "start_time": "2022-07-24T12:59:58.155Z"
   },
   {
    "duration": 67,
    "start_time": "2022-07-24T12:59:58.173Z"
   },
   {
    "duration": 25,
    "start_time": "2022-07-24T12:59:58.242Z"
   },
   {
    "duration": 42,
    "start_time": "2022-07-24T12:59:58.269Z"
   },
   {
    "duration": 68,
    "start_time": "2022-07-24T12:59:58.313Z"
   },
   {
    "duration": 11,
    "start_time": "2022-07-24T12:59:58.384Z"
   },
   {
    "duration": 38,
    "start_time": "2022-07-24T12:59:58.398Z"
   },
   {
    "duration": 43,
    "start_time": "2022-07-24T12:59:58.438Z"
   },
   {
    "duration": 953,
    "start_time": "2022-07-24T12:59:58.482Z"
   },
   {
    "duration": 23,
    "start_time": "2022-07-24T12:59:59.442Z"
   },
   {
    "duration": 12,
    "start_time": "2022-07-24T12:59:59.467Z"
   },
   {
    "duration": 5,
    "start_time": "2022-07-24T12:59:59.481Z"
   },
   {
    "duration": 5,
    "start_time": "2022-07-24T12:59:59.490Z"
   },
   {
    "duration": 17,
    "start_time": "2022-07-24T12:59:59.496Z"
   },
   {
    "duration": 20,
    "start_time": "2022-07-24T12:59:59.524Z"
   },
   {
    "duration": 527,
    "start_time": "2022-07-24T12:59:59.546Z"
   },
   {
    "duration": 288,
    "start_time": "2022-07-24T13:00:00.075Z"
   },
   {
    "duration": 16,
    "start_time": "2022-07-24T13:00:00.365Z"
   },
   {
    "duration": 74,
    "start_time": "2022-07-24T13:00:00.384Z"
   },
   {
    "duration": 419,
    "start_time": "2022-07-24T13:00:00.460Z"
   },
   {
    "duration": 5,
    "start_time": "2022-07-24T13:00:00.881Z"
   },
   {
    "duration": 72,
    "start_time": "2022-07-24T13:00:00.887Z"
   },
   {
    "duration": 28,
    "start_time": "2022-07-24T13:00:00.961Z"
   },
   {
    "duration": 20,
    "start_time": "2022-07-24T13:00:00.992Z"
   },
   {
    "duration": 24,
    "start_time": "2022-07-24T13:00:01.030Z"
   },
   {
    "duration": 436,
    "start_time": "2022-07-24T13:00:01.055Z"
   },
   {
    "duration": 512,
    "start_time": "2022-07-24T13:00:01.493Z"
   },
   {
    "duration": 5,
    "start_time": "2022-07-24T13:00:02.007Z"
   },
   {
    "duration": 55,
    "start_time": "2022-07-24T13:00:02.022Z"
   },
   {
    "duration": 17,
    "start_time": "2022-07-24T13:00:02.079Z"
   },
   {
    "duration": 9,
    "start_time": "2022-07-24T13:00:02.098Z"
   },
   {
    "duration": 27,
    "start_time": "2022-07-24T13:00:02.108Z"
   },
   {
    "duration": 19,
    "start_time": "2022-07-24T13:00:02.141Z"
   },
   {
    "duration": 412,
    "start_time": "2022-07-24T13:00:02.162Z"
   },
   {
    "duration": 9,
    "start_time": "2022-07-24T13:00:02.575Z"
   },
   {
    "duration": 168,
    "start_time": "2022-07-24T13:00:02.586Z"
   },
   {
    "duration": 5,
    "start_time": "2022-07-24T13:00:02.755Z"
   },
   {
    "duration": 88,
    "start_time": "2022-07-24T13:00:02.762Z"
   },
   {
    "duration": 23,
    "start_time": "2022-07-24T13:00:02.852Z"
   },
   {
    "duration": 63,
    "start_time": "2022-07-24T13:00:02.877Z"
   },
   {
    "duration": 6,
    "start_time": "2022-07-24T13:00:02.941Z"
   },
   {
    "duration": 19,
    "start_time": "2022-07-24T13:00:02.948Z"
   },
   {
    "duration": 2414,
    "start_time": "2022-07-24T13:00:02.970Z"
   },
   {
    "duration": 1096,
    "start_time": "2022-07-24T13:00:05.386Z"
   },
   {
    "duration": 2290,
    "start_time": "2022-07-24T13:00:06.483Z"
   },
   {
    "duration": 1192,
    "start_time": "2022-07-24T13:00:08.775Z"
   },
   {
    "duration": 21,
    "start_time": "2022-07-24T13:00:09.968Z"
   },
   {
    "duration": 6,
    "start_time": "2022-07-24T13:00:09.991Z"
   },
   {
    "duration": 4708,
    "start_time": "2022-07-24T13:00:09.999Z"
   },
   {
    "duration": 66,
    "start_time": "2022-07-24T13:00:14.709Z"
   },
   {
    "duration": 5,
    "start_time": "2022-07-24T13:16:22.239Z"
   },
   {
    "duration": 1116,
    "start_time": "2022-07-24T13:16:23.041Z"
   },
   {
    "duration": 160,
    "start_time": "2022-07-24T13:17:45.343Z"
   },
   {
    "duration": 30,
    "start_time": "2022-07-24T13:18:51.708Z"
   },
   {
    "duration": 6,
    "start_time": "2022-07-24T13:23:53.746Z"
   },
   {
    "duration": 11,
    "start_time": "2022-07-24T13:24:18.005Z"
   },
   {
    "duration": 1261,
    "start_time": "2022-07-24T13:24:55.811Z"
   },
   {
    "duration": 293,
    "start_time": "2022-07-24T13:24:57.074Z"
   },
   {
    "duration": 17,
    "start_time": "2022-07-24T13:24:57.368Z"
   },
   {
    "duration": 351,
    "start_time": "2022-07-24T13:24:57.388Z"
   },
   {
    "duration": 11,
    "start_time": "2022-07-24T13:24:57.741Z"
   },
   {
    "duration": 4,
    "start_time": "2022-07-24T13:24:57.754Z"
   },
   {
    "duration": 10,
    "start_time": "2022-07-24T13:24:57.760Z"
   },
   {
    "duration": 4,
    "start_time": "2022-07-24T13:24:57.772Z"
   },
   {
    "duration": 9,
    "start_time": "2022-07-24T13:24:57.777Z"
   },
   {
    "duration": 7,
    "start_time": "2022-07-24T13:24:57.789Z"
   },
   {
    "duration": 31,
    "start_time": "2022-07-24T13:24:57.823Z"
   },
   {
    "duration": 4,
    "start_time": "2022-07-24T13:24:57.856Z"
   },
   {
    "duration": 18,
    "start_time": "2022-07-24T13:24:57.861Z"
   },
   {
    "duration": 12,
    "start_time": "2022-07-24T13:24:57.881Z"
   },
   {
    "duration": 30,
    "start_time": "2022-07-24T13:24:57.896Z"
   },
   {
    "duration": 15,
    "start_time": "2022-07-24T13:24:57.928Z"
   },
   {
    "duration": 43,
    "start_time": "2022-07-24T13:24:57.944Z"
   },
   {
    "duration": 45,
    "start_time": "2022-07-24T13:24:57.989Z"
   },
   {
    "duration": 40,
    "start_time": "2022-07-24T13:24:58.036Z"
   },
   {
    "duration": 64,
    "start_time": "2022-07-24T13:24:58.077Z"
   },
   {
    "duration": 12,
    "start_time": "2022-07-24T13:24:58.143Z"
   },
   {
    "duration": 19,
    "start_time": "2022-07-24T13:24:58.157Z"
   },
   {
    "duration": 62,
    "start_time": "2022-07-24T13:24:58.178Z"
   },
   {
    "duration": 876,
    "start_time": "2022-07-24T13:24:58.242Z"
   },
   {
    "duration": 31,
    "start_time": "2022-07-24T13:24:59.120Z"
   },
   {
    "duration": 27,
    "start_time": "2022-07-24T13:24:59.154Z"
   },
   {
    "duration": 20,
    "start_time": "2022-07-24T13:24:59.183Z"
   },
   {
    "duration": 51,
    "start_time": "2022-07-24T13:24:59.207Z"
   },
   {
    "duration": 21,
    "start_time": "2022-07-24T13:24:59.260Z"
   },
   {
    "duration": 53,
    "start_time": "2022-07-24T13:24:59.283Z"
   },
   {
    "duration": 1411,
    "start_time": "2022-07-24T13:24:59.338Z"
   },
   {
    "duration": 688,
    "start_time": "2022-07-24T13:25:00.751Z"
   },
   {
    "duration": 5,
    "start_time": "2022-07-24T13:25:01.441Z"
   },
   {
    "duration": 56,
    "start_time": "2022-07-24T13:25:01.449Z"
   },
   {
    "duration": 394,
    "start_time": "2022-07-24T13:25:01.507Z"
   },
   {
    "duration": 4,
    "start_time": "2022-07-24T13:25:01.903Z"
   },
   {
    "duration": 54,
    "start_time": "2022-07-24T13:25:01.909Z"
   },
   {
    "duration": 24,
    "start_time": "2022-07-24T13:25:01.965Z"
   },
   {
    "duration": 47,
    "start_time": "2022-07-24T13:25:01.991Z"
   },
   {
    "duration": 20,
    "start_time": "2022-07-24T13:25:02.040Z"
   },
   {
    "duration": 483,
    "start_time": "2022-07-24T13:25:02.062Z"
   },
   {
    "duration": 519,
    "start_time": "2022-07-24T13:25:02.547Z"
   },
   {
    "duration": 6,
    "start_time": "2022-07-24T13:25:03.068Z"
   },
   {
    "duration": 51,
    "start_time": "2022-07-24T13:25:03.075Z"
   },
   {
    "duration": 25,
    "start_time": "2022-07-24T13:25:03.127Z"
   },
   {
    "duration": 9,
    "start_time": "2022-07-24T13:25:03.154Z"
   },
   {
    "duration": 16,
    "start_time": "2022-07-24T13:25:03.164Z"
   },
   {
    "duration": 19,
    "start_time": "2022-07-24T13:25:03.182Z"
   },
   {
    "duration": 405,
    "start_time": "2022-07-24T13:25:03.222Z"
   },
   {
    "duration": 15,
    "start_time": "2022-07-24T13:25:03.629Z"
   },
   {
    "duration": 209,
    "start_time": "2022-07-24T13:25:03.646Z"
   },
   {
    "duration": 6,
    "start_time": "2022-07-24T13:25:03.857Z"
   },
   {
    "duration": 84,
    "start_time": "2022-07-24T13:25:03.864Z"
   },
   {
    "duration": 19,
    "start_time": "2022-07-24T13:25:03.949Z"
   },
   {
    "duration": 18,
    "start_time": "2022-07-24T13:25:03.970Z"
   },
   {
    "duration": 3,
    "start_time": "2022-07-24T13:25:03.990Z"
   },
   {
    "duration": 43,
    "start_time": "2022-07-24T13:25:03.994Z"
   },
   {
    "duration": 2367,
    "start_time": "2022-07-24T13:25:04.038Z"
   },
   {
    "duration": 1076,
    "start_time": "2022-07-24T13:25:06.407Z"
   },
   {
    "duration": 2307,
    "start_time": "2022-07-24T13:25:07.485Z"
   },
   {
    "duration": 1104,
    "start_time": "2022-07-24T13:25:09.794Z"
   },
   {
    "duration": 45,
    "start_time": "2022-07-24T13:25:10.900Z"
   },
   {
    "duration": 8,
    "start_time": "2022-07-24T13:25:10.947Z"
   },
   {
    "duration": 4513,
    "start_time": "2022-07-24T13:25:10.957Z"
   },
   {
    "duration": 4932,
    "start_time": "2022-07-24T13:31:10.361Z"
   },
   {
    "duration": 4831,
    "start_time": "2022-07-24T13:34:54.055Z"
   },
   {
    "duration": 4870,
    "start_time": "2022-07-24T13:35:30.659Z"
   },
   {
    "duration": 121,
    "start_time": "2022-07-24T13:37:21.863Z"
   },
   {
    "duration": 4614,
    "start_time": "2022-07-24T13:37:36.888Z"
   },
   {
    "duration": 4568,
    "start_time": "2022-07-24T13:37:53.538Z"
   },
   {
    "duration": 6,
    "start_time": "2022-07-24T14:10:36.049Z"
   },
   {
    "duration": 4789,
    "start_time": "2022-07-24T14:16:35.379Z"
   },
   {
    "duration": 9,
    "start_time": "2022-07-24T14:18:49.128Z"
   },
   {
    "duration": 12,
    "start_time": "2022-07-24T14:20:52.198Z"
   },
   {
    "duration": 38,
    "start_time": "2022-07-24T14:21:02.272Z"
   },
   {
    "duration": 6,
    "start_time": "2022-07-24T14:21:20.653Z"
   },
   {
    "duration": 4814,
    "start_time": "2022-07-24T14:21:28.382Z"
   },
   {
    "duration": 4545,
    "start_time": "2022-07-24T14:40:10.046Z"
   },
   {
    "duration": 50,
    "start_time": "2022-07-24T14:41:36.956Z"
   },
   {
    "duration": 6,
    "start_time": "2022-07-24T14:43:01.376Z"
   },
   {
    "duration": 4334,
    "start_time": "2022-07-24T14:43:12.897Z"
   },
   {
    "duration": 6,
    "start_time": "2022-07-24T14:49:07.252Z"
   },
   {
    "duration": 12,
    "start_time": "2022-07-24T14:49:17.287Z"
   },
   {
    "duration": 71,
    "start_time": "2022-07-24T14:54:15.949Z"
   },
   {
    "duration": 6,
    "start_time": "2022-07-24T14:55:08.486Z"
   },
   {
    "duration": 12,
    "start_time": "2022-07-24T14:55:17.999Z"
   },
   {
    "duration": 4597,
    "start_time": "2022-07-24T14:55:38.445Z"
   },
   {
    "duration": 4630,
    "start_time": "2022-07-24T14:58:30.312Z"
   },
   {
    "duration": 4587,
    "start_time": "2022-07-24T14:58:52.806Z"
   },
   {
    "duration": 49,
    "start_time": "2022-07-24T15:00:59.793Z"
   },
   {
    "duration": 8,
    "start_time": "2022-07-24T15:01:19.771Z"
   },
   {
    "duration": 4507,
    "start_time": "2022-07-24T15:01:31.258Z"
   },
   {
    "duration": 6,
    "start_time": "2022-07-24T15:02:04.415Z"
   },
   {
    "duration": 4478,
    "start_time": "2022-07-24T15:02:11.780Z"
   },
   {
    "duration": 51,
    "start_time": "2022-07-24T15:07:34.427Z"
   },
   {
    "duration": 4596,
    "start_time": "2022-07-24T15:07:51.921Z"
   },
   {
    "duration": 4588,
    "start_time": "2022-07-24T15:08:31.085Z"
   },
   {
    "duration": 4,
    "start_time": "2022-07-24T15:10:11.258Z"
   },
   {
    "duration": 4544,
    "start_time": "2022-07-24T15:10:26.867Z"
   },
   {
    "duration": 6,
    "start_time": "2022-07-24T15:12:07.431Z"
   },
   {
    "duration": 4,
    "start_time": "2022-07-24T15:12:13.280Z"
   },
   {
    "duration": 5,
    "start_time": "2022-07-24T15:12:57.720Z"
   },
   {
    "duration": 4686,
    "start_time": "2022-07-24T15:13:07.285Z"
   },
   {
    "duration": 6,
    "start_time": "2022-07-24T15:15:18.331Z"
   },
   {
    "duration": 1192,
    "start_time": "2022-07-24T15:15:24.180Z"
   },
   {
    "duration": 297,
    "start_time": "2022-07-24T15:15:25.374Z"
   },
   {
    "duration": 20,
    "start_time": "2022-07-24T15:15:25.673Z"
   },
   {
    "duration": 106,
    "start_time": "2022-07-24T15:15:25.697Z"
   },
   {
    "duration": 10,
    "start_time": "2022-07-24T15:15:25.805Z"
   },
   {
    "duration": 21,
    "start_time": "2022-07-24T15:15:25.817Z"
   },
   {
    "duration": 9,
    "start_time": "2022-07-24T15:15:25.840Z"
   },
   {
    "duration": 4,
    "start_time": "2022-07-24T15:15:25.851Z"
   },
   {
    "duration": 8,
    "start_time": "2022-07-24T15:15:25.857Z"
   },
   {
    "duration": 8,
    "start_time": "2022-07-24T15:15:25.868Z"
   },
   {
    "duration": 33,
    "start_time": "2022-07-24T15:15:25.878Z"
   },
   {
    "duration": 10,
    "start_time": "2022-07-24T15:15:25.913Z"
   },
   {
    "duration": 23,
    "start_time": "2022-07-24T15:15:25.925Z"
   },
   {
    "duration": 26,
    "start_time": "2022-07-24T15:15:25.950Z"
   },
   {
    "duration": 12,
    "start_time": "2022-07-24T15:15:25.978Z"
   },
   {
    "duration": 18,
    "start_time": "2022-07-24T15:15:25.992Z"
   },
   {
    "duration": 52,
    "start_time": "2022-07-24T15:15:26.011Z"
   },
   {
    "duration": 23,
    "start_time": "2022-07-24T15:15:26.066Z"
   },
   {
    "duration": 54,
    "start_time": "2022-07-24T15:15:26.091Z"
   },
   {
    "duration": 37,
    "start_time": "2022-07-24T15:15:26.147Z"
   },
   {
    "duration": 13,
    "start_time": "2022-07-24T15:15:26.185Z"
   },
   {
    "duration": 37,
    "start_time": "2022-07-24T15:15:26.200Z"
   },
   {
    "duration": 40,
    "start_time": "2022-07-24T15:15:26.239Z"
   },
   {
    "duration": 750,
    "start_time": "2022-07-24T15:15:26.280Z"
   },
   {
    "duration": 19,
    "start_time": "2022-07-24T15:15:27.031Z"
   },
   {
    "duration": 13,
    "start_time": "2022-07-24T15:15:27.051Z"
   },
   {
    "duration": 9,
    "start_time": "2022-07-24T15:15:27.066Z"
   },
   {
    "duration": 7,
    "start_time": "2022-07-24T15:15:27.078Z"
   },
   {
    "duration": 10,
    "start_time": "2022-07-24T15:15:27.086Z"
   },
   {
    "duration": 33,
    "start_time": "2022-07-24T15:15:27.098Z"
   },
   {
    "duration": 18,
    "start_time": "2022-07-24T15:15:27.132Z"
   },
   {
    "duration": 478,
    "start_time": "2022-07-24T15:15:27.152Z"
   },
   {
    "duration": 254,
    "start_time": "2022-07-24T15:15:27.632Z"
   },
   {
    "duration": 5,
    "start_time": "2022-07-24T15:15:27.888Z"
   },
   {
    "duration": 66,
    "start_time": "2022-07-24T15:15:27.895Z"
   },
   {
    "duration": 378,
    "start_time": "2022-07-24T15:15:27.963Z"
   },
   {
    "duration": 5,
    "start_time": "2022-07-24T15:15:28.343Z"
   },
   {
    "duration": 46,
    "start_time": "2022-07-24T15:15:28.349Z"
   },
   {
    "duration": 33,
    "start_time": "2022-07-24T15:15:28.396Z"
   },
   {
    "duration": 18,
    "start_time": "2022-07-24T15:15:28.431Z"
   },
   {
    "duration": 20,
    "start_time": "2022-07-24T15:15:28.451Z"
   },
   {
    "duration": 454,
    "start_time": "2022-07-24T15:15:28.472Z"
   },
   {
    "duration": 622,
    "start_time": "2022-07-24T15:15:28.927Z"
   },
   {
    "duration": 6,
    "start_time": "2022-07-24T15:15:29.551Z"
   },
   {
    "duration": 46,
    "start_time": "2022-07-24T15:15:29.559Z"
   },
   {
    "duration": 32,
    "start_time": "2022-07-24T15:15:29.607Z"
   },
   {
    "duration": 12,
    "start_time": "2022-07-24T15:15:29.641Z"
   },
   {
    "duration": 15,
    "start_time": "2022-07-24T15:15:29.655Z"
   },
   {
    "duration": 21,
    "start_time": "2022-07-24T15:15:29.672Z"
   },
   {
    "duration": 451,
    "start_time": "2022-07-24T15:15:29.696Z"
   },
   {
    "duration": 13,
    "start_time": "2022-07-24T15:15:30.150Z"
   },
   {
    "duration": 191,
    "start_time": "2022-07-24T15:15:30.166Z"
   },
   {
    "duration": 6,
    "start_time": "2022-07-24T15:15:30.360Z"
   },
   {
    "duration": 114,
    "start_time": "2022-07-24T15:15:30.368Z"
   },
   {
    "duration": 27,
    "start_time": "2022-07-24T15:15:30.484Z"
   },
   {
    "duration": 29,
    "start_time": "2022-07-24T15:15:30.523Z"
   },
   {
    "duration": 21,
    "start_time": "2022-07-24T15:15:30.554Z"
   },
   {
    "duration": 42,
    "start_time": "2022-07-24T15:15:30.578Z"
   },
   {
    "duration": 2346,
    "start_time": "2022-07-24T15:15:30.623Z"
   },
   {
    "duration": 1035,
    "start_time": "2022-07-24T15:15:32.977Z"
   },
   {
    "duration": 2173,
    "start_time": "2022-07-24T15:15:34.015Z"
   },
   {
    "duration": 1025,
    "start_time": "2022-07-24T15:15:36.189Z"
   },
   {
    "duration": 21,
    "start_time": "2022-07-24T15:15:37.222Z"
   },
   {
    "duration": 4838,
    "start_time": "2022-07-24T15:15:37.244Z"
   },
   {
    "duration": 4449,
    "start_time": "2022-07-24T15:15:42.084Z"
   },
   {
    "duration": 5044,
    "start_time": "2022-07-24T15:22:10.215Z"
   },
   {
    "duration": 7,
    "start_time": "2022-07-24T15:27:31.003Z"
   },
   {
    "duration": 4906,
    "start_time": "2022-07-24T15:27:37.964Z"
   },
   {
    "duration": 5205,
    "start_time": "2022-07-24T15:44:24.820Z"
   },
   {
    "duration": 7,
    "start_time": "2022-07-24T15:47:29.134Z"
   },
   {
    "duration": 1183,
    "start_time": "2022-07-24T15:47:52.572Z"
   },
   {
    "duration": 264,
    "start_time": "2022-07-24T15:47:53.757Z"
   },
   {
    "duration": 21,
    "start_time": "2022-07-24T15:47:54.022Z"
   },
   {
    "duration": 62,
    "start_time": "2022-07-24T15:47:54.046Z"
   },
   {
    "duration": 10,
    "start_time": "2022-07-24T15:47:54.110Z"
   },
   {
    "duration": 9,
    "start_time": "2022-07-24T15:47:54.122Z"
   },
   {
    "duration": 7,
    "start_time": "2022-07-24T15:47:54.133Z"
   },
   {
    "duration": 8,
    "start_time": "2022-07-24T15:47:54.142Z"
   },
   {
    "duration": 34,
    "start_time": "2022-07-24T15:47:54.152Z"
   },
   {
    "duration": 13,
    "start_time": "2022-07-24T15:47:54.189Z"
   },
   {
    "duration": 28,
    "start_time": "2022-07-24T15:47:54.204Z"
   },
   {
    "duration": 4,
    "start_time": "2022-07-24T15:47:54.234Z"
   },
   {
    "duration": 17,
    "start_time": "2022-07-24T15:47:54.240Z"
   },
   {
    "duration": 11,
    "start_time": "2022-07-24T15:47:54.259Z"
   },
   {
    "duration": 17,
    "start_time": "2022-07-24T15:47:54.272Z"
   },
   {
    "duration": 32,
    "start_time": "2022-07-24T15:47:54.292Z"
   },
   {
    "duration": 50,
    "start_time": "2022-07-24T15:47:54.326Z"
   },
   {
    "duration": 23,
    "start_time": "2022-07-24T15:47:54.378Z"
   },
   {
    "duration": 55,
    "start_time": "2022-07-24T15:47:54.404Z"
   },
   {
    "duration": 40,
    "start_time": "2022-07-24T15:47:54.460Z"
   },
   {
    "duration": 29,
    "start_time": "2022-07-24T15:47:54.502Z"
   },
   {
    "duration": 25,
    "start_time": "2022-07-24T15:47:54.534Z"
   },
   {
    "duration": 63,
    "start_time": "2022-07-24T15:47:54.561Z"
   },
   {
    "duration": 794,
    "start_time": "2022-07-24T15:47:54.626Z"
   },
   {
    "duration": 18,
    "start_time": "2022-07-24T15:47:55.422Z"
   },
   {
    "duration": 12,
    "start_time": "2022-07-24T15:47:55.442Z"
   },
   {
    "duration": 9,
    "start_time": "2022-07-24T15:47:55.457Z"
   },
   {
    "duration": 8,
    "start_time": "2022-07-24T15:47:55.471Z"
   },
   {
    "duration": 13,
    "start_time": "2022-07-24T15:47:55.481Z"
   },
   {
    "duration": 30,
    "start_time": "2022-07-24T15:47:55.496Z"
   },
   {
    "duration": 24,
    "start_time": "2022-07-24T15:47:55.528Z"
   },
   {
    "duration": 542,
    "start_time": "2022-07-24T15:47:55.554Z"
   },
   {
    "duration": 275,
    "start_time": "2022-07-24T15:47:56.098Z"
   },
   {
    "duration": 5,
    "start_time": "2022-07-24T15:47:56.376Z"
   },
   {
    "duration": 54,
    "start_time": "2022-07-24T15:47:56.383Z"
   },
   {
    "duration": 403,
    "start_time": "2022-07-24T15:47:56.438Z"
   },
   {
    "duration": 5,
    "start_time": "2022-07-24T15:47:56.844Z"
   },
   {
    "duration": 51,
    "start_time": "2022-07-24T15:47:56.851Z"
   },
   {
    "duration": 36,
    "start_time": "2022-07-24T15:47:56.904Z"
   },
   {
    "duration": 27,
    "start_time": "2022-07-24T15:47:56.942Z"
   },
   {
    "duration": 25,
    "start_time": "2022-07-24T15:47:56.971Z"
   },
   {
    "duration": 487,
    "start_time": "2022-07-24T15:47:56.998Z"
   },
   {
    "duration": 505,
    "start_time": "2022-07-24T15:47:57.487Z"
   },
   {
    "duration": 5,
    "start_time": "2022-07-24T15:47:57.994Z"
   },
   {
    "duration": 59,
    "start_time": "2022-07-24T15:47:58.001Z"
   },
   {
    "duration": 17,
    "start_time": "2022-07-24T15:47:58.062Z"
   },
   {
    "duration": 10,
    "start_time": "2022-07-24T15:47:58.081Z"
   },
   {
    "duration": 12,
    "start_time": "2022-07-24T15:47:58.093Z"
   },
   {
    "duration": 39,
    "start_time": "2022-07-24T15:47:58.126Z"
   },
   {
    "duration": 427,
    "start_time": "2022-07-24T15:47:58.167Z"
   },
   {
    "duration": 14,
    "start_time": "2022-07-24T15:47:58.595Z"
   },
   {
    "duration": 193,
    "start_time": "2022-07-24T15:47:58.612Z"
   },
   {
    "duration": 18,
    "start_time": "2022-07-24T15:47:58.807Z"
   },
   {
    "duration": 114,
    "start_time": "2022-07-24T15:47:58.828Z"
   },
   {
    "duration": 33,
    "start_time": "2022-07-24T15:47:58.944Z"
   },
   {
    "duration": 32,
    "start_time": "2022-07-24T15:47:58.981Z"
   },
   {
    "duration": 8,
    "start_time": "2022-07-24T15:47:59.017Z"
   },
   {
    "duration": 16,
    "start_time": "2022-07-24T15:47:59.027Z"
   },
   {
    "duration": 2054,
    "start_time": "2022-07-24T15:47:59.045Z"
   },
   {
    "duration": 1012,
    "start_time": "2022-07-24T15:48:01.101Z"
   },
   {
    "duration": 1905,
    "start_time": "2022-07-24T15:48:02.116Z"
   },
   {
    "duration": 718,
    "start_time": "2022-07-24T15:48:04.023Z"
   },
   {
    "duration": 22,
    "start_time": "2022-07-24T15:48:04.742Z"
   },
   {
    "duration": 4884,
    "start_time": "2022-07-24T15:48:04.766Z"
   },
   {
    "duration": 4735,
    "start_time": "2022-07-24T15:48:09.651Z"
   },
   {
    "duration": 5,
    "start_time": "2022-07-24T15:54:25.689Z"
   },
   {
    "duration": 968,
    "start_time": "2022-07-24T15:54:28.044Z"
   },
   {
    "duration": 7,
    "start_time": "2022-07-24T15:54:50.173Z"
   },
   {
    "duration": 73,
    "start_time": "2022-07-24T15:54:54.020Z"
   },
   {
    "duration": 1322,
    "start_time": "2022-07-24T15:55:48.281Z"
   },
   {
    "duration": 184,
    "start_time": "2022-07-24T15:55:49.605Z"
   },
   {
    "duration": 33,
    "start_time": "2022-07-24T15:55:49.791Z"
   },
   {
    "duration": 98,
    "start_time": "2022-07-24T15:55:49.827Z"
   },
   {
    "duration": 15,
    "start_time": "2022-07-24T15:55:49.927Z"
   },
   {
    "duration": 11,
    "start_time": "2022-07-24T15:55:49.945Z"
   },
   {
    "duration": 19,
    "start_time": "2022-07-24T15:55:49.958Z"
   },
   {
    "duration": 10,
    "start_time": "2022-07-24T15:55:49.979Z"
   },
   {
    "duration": 27,
    "start_time": "2022-07-24T15:55:49.991Z"
   },
   {
    "duration": 10,
    "start_time": "2022-07-24T15:55:50.022Z"
   },
   {
    "duration": 41,
    "start_time": "2022-07-24T15:55:50.035Z"
   },
   {
    "duration": 3,
    "start_time": "2022-07-24T15:55:50.079Z"
   },
   {
    "duration": 17,
    "start_time": "2022-07-24T15:55:50.084Z"
   },
   {
    "duration": 28,
    "start_time": "2022-07-24T15:55:50.103Z"
   },
   {
    "duration": 11,
    "start_time": "2022-07-24T15:55:50.133Z"
   },
   {
    "duration": 13,
    "start_time": "2022-07-24T15:55:50.146Z"
   },
   {
    "duration": 93,
    "start_time": "2022-07-24T15:55:50.161Z"
   },
   {
    "duration": 25,
    "start_time": "2022-07-24T15:55:50.256Z"
   },
   {
    "duration": 54,
    "start_time": "2022-07-24T15:55:50.283Z"
   },
   {
    "duration": 41,
    "start_time": "2022-07-24T15:55:50.338Z"
   },
   {
    "duration": 18,
    "start_time": "2022-07-24T15:55:50.381Z"
   },
   {
    "duration": 40,
    "start_time": "2022-07-24T15:55:50.401Z"
   },
   {
    "duration": 58,
    "start_time": "2022-07-24T15:55:50.442Z"
   },
   {
    "duration": 861,
    "start_time": "2022-07-24T15:55:50.502Z"
   },
   {
    "duration": 25,
    "start_time": "2022-07-24T15:55:51.366Z"
   },
   {
    "duration": 32,
    "start_time": "2022-07-24T15:55:51.393Z"
   },
   {
    "duration": 47,
    "start_time": "2022-07-24T15:55:51.427Z"
   },
   {
    "duration": 45,
    "start_time": "2022-07-24T15:55:51.479Z"
   },
   {
    "duration": 36,
    "start_time": "2022-07-24T15:55:51.526Z"
   },
   {
    "duration": 23,
    "start_time": "2022-07-24T15:55:51.565Z"
   },
   {
    "duration": 36,
    "start_time": "2022-07-24T15:55:51.590Z"
   },
   {
    "duration": 629,
    "start_time": "2022-07-24T15:55:51.628Z"
   },
   {
    "duration": 291,
    "start_time": "2022-07-24T15:55:52.259Z"
   },
   {
    "duration": 5,
    "start_time": "2022-07-24T15:55:52.552Z"
   },
   {
    "duration": 69,
    "start_time": "2022-07-24T15:55:52.559Z"
   },
   {
    "duration": 403,
    "start_time": "2022-07-24T15:55:52.630Z"
   },
   {
    "duration": 6,
    "start_time": "2022-07-24T15:55:53.035Z"
   },
   {
    "duration": 64,
    "start_time": "2022-07-24T15:55:53.042Z"
   },
   {
    "duration": 26,
    "start_time": "2022-07-24T15:55:53.108Z"
   },
   {
    "duration": 19,
    "start_time": "2022-07-24T15:55:53.137Z"
   },
   {
    "duration": 22,
    "start_time": "2022-07-24T15:55:53.158Z"
   },
   {
    "duration": 462,
    "start_time": "2022-07-24T15:55:53.182Z"
   },
   {
    "duration": 523,
    "start_time": "2022-07-24T15:55:53.645Z"
   },
   {
    "duration": 5,
    "start_time": "2022-07-24T15:55:54.170Z"
   },
   {
    "duration": 57,
    "start_time": "2022-07-24T15:55:54.177Z"
   },
   {
    "duration": 20,
    "start_time": "2022-07-24T15:55:54.237Z"
   },
   {
    "duration": 12,
    "start_time": "2022-07-24T15:55:54.259Z"
   },
   {
    "duration": 15,
    "start_time": "2022-07-24T15:55:54.274Z"
   },
   {
    "duration": 50,
    "start_time": "2022-07-24T15:55:54.291Z"
   },
   {
    "duration": 441,
    "start_time": "2022-07-24T15:55:54.343Z"
   },
   {
    "duration": 14,
    "start_time": "2022-07-24T15:55:54.786Z"
   },
   {
    "duration": 200,
    "start_time": "2022-07-24T15:55:54.803Z"
   },
   {
    "duration": 6,
    "start_time": "2022-07-24T15:55:55.005Z"
   },
   {
    "duration": 87,
    "start_time": "2022-07-24T15:55:55.024Z"
   },
   {
    "duration": 27,
    "start_time": "2022-07-24T15:55:55.114Z"
   },
   {
    "duration": 28,
    "start_time": "2022-07-24T15:55:55.143Z"
   },
   {
    "duration": 5,
    "start_time": "2022-07-24T15:55:55.172Z"
   },
   {
    "duration": 9,
    "start_time": "2022-07-24T15:55:55.179Z"
   },
   {
    "duration": 1989,
    "start_time": "2022-07-24T15:55:55.190Z"
   },
   {
    "duration": 930,
    "start_time": "2022-07-24T15:55:57.181Z"
   },
   {
    "duration": 1885,
    "start_time": "2022-07-24T15:55:58.114Z"
   },
   {
    "duration": 751,
    "start_time": "2022-07-24T15:56:00.001Z"
   },
   {
    "duration": 22,
    "start_time": "2022-07-24T15:56:00.754Z"
   },
   {
    "duration": 4622,
    "start_time": "2022-07-24T15:56:00.778Z"
   },
   {
    "duration": 5014,
    "start_time": "2022-07-24T15:56:05.402Z"
   },
   {
    "duration": 190,
    "start_time": "2022-07-24T15:57:29.201Z"
   },
   {
    "duration": 41,
    "start_time": "2022-07-24T15:57:36.268Z"
   },
   {
    "duration": 8,
    "start_time": "2022-07-24T15:58:20.400Z"
   },
   {
    "duration": 81,
    "start_time": "2022-07-24T15:58:22.985Z"
   },
   {
    "duration": 820,
    "start_time": "2022-07-24T15:58:30.610Z"
   },
   {
    "duration": 6,
    "start_time": "2022-07-24T16:01:37.193Z"
   },
   {
    "duration": 7,
    "start_time": "2022-07-24T16:01:49.977Z"
   },
   {
    "duration": 5,
    "start_time": "2022-07-24T16:01:53.017Z"
   },
   {
    "duration": 1284,
    "start_time": "2022-07-24T16:02:03.134Z"
   },
   {
    "duration": 228,
    "start_time": "2022-07-24T16:02:04.420Z"
   },
   {
    "duration": 27,
    "start_time": "2022-07-24T16:02:04.650Z"
   },
   {
    "duration": 50,
    "start_time": "2022-07-24T16:02:04.680Z"
   },
   {
    "duration": 15,
    "start_time": "2022-07-24T16:02:04.732Z"
   },
   {
    "duration": 7,
    "start_time": "2022-07-24T16:02:04.749Z"
   },
   {
    "duration": 10,
    "start_time": "2022-07-24T16:02:04.758Z"
   },
   {
    "duration": 10,
    "start_time": "2022-07-24T16:02:04.770Z"
   },
   {
    "duration": 13,
    "start_time": "2022-07-24T16:02:04.782Z"
   },
   {
    "duration": 27,
    "start_time": "2022-07-24T16:02:04.798Z"
   },
   {
    "duration": 36,
    "start_time": "2022-07-24T16:02:04.827Z"
   },
   {
    "duration": 5,
    "start_time": "2022-07-24T16:02:04.865Z"
   },
   {
    "duration": 50,
    "start_time": "2022-07-24T16:02:04.872Z"
   },
   {
    "duration": 25,
    "start_time": "2022-07-24T16:02:04.925Z"
   },
   {
    "duration": 14,
    "start_time": "2022-07-24T16:02:04.951Z"
   },
   {
    "duration": 17,
    "start_time": "2022-07-24T16:02:04.968Z"
   },
   {
    "duration": 51,
    "start_time": "2022-07-24T16:02:04.986Z"
   },
   {
    "duration": 24,
    "start_time": "2022-07-24T16:02:05.039Z"
   },
   {
    "duration": 64,
    "start_time": "2022-07-24T16:02:05.065Z"
   },
   {
    "duration": 53,
    "start_time": "2022-07-24T16:02:05.132Z"
   },
   {
    "duration": 16,
    "start_time": "2022-07-24T16:02:05.187Z"
   },
   {
    "duration": 41,
    "start_time": "2022-07-24T16:02:05.206Z"
   },
   {
    "duration": 81,
    "start_time": "2022-07-24T16:02:05.249Z"
   },
   {
    "duration": 961,
    "start_time": "2022-07-24T16:02:05.334Z"
   },
   {
    "duration": 27,
    "start_time": "2022-07-24T16:02:06.297Z"
   },
   {
    "duration": 15,
    "start_time": "2022-07-24T16:02:06.326Z"
   },
   {
    "duration": 12,
    "start_time": "2022-07-24T16:02:06.343Z"
   },
   {
    "duration": 8,
    "start_time": "2022-07-24T16:02:06.359Z"
   },
   {
    "duration": 11,
    "start_time": "2022-07-24T16:02:06.369Z"
   },
   {
    "duration": 17,
    "start_time": "2022-07-24T16:02:06.382Z"
   },
   {
    "duration": 31,
    "start_time": "2022-07-24T16:02:06.402Z"
   },
   {
    "duration": 537,
    "start_time": "2022-07-24T16:02:06.435Z"
   },
   {
    "duration": 253,
    "start_time": "2022-07-24T16:02:06.974Z"
   },
   {
    "duration": 6,
    "start_time": "2022-07-24T16:02:07.229Z"
   },
   {
    "duration": 67,
    "start_time": "2022-07-24T16:02:07.237Z"
   },
   {
    "duration": 418,
    "start_time": "2022-07-24T16:02:07.307Z"
   },
   {
    "duration": 6,
    "start_time": "2022-07-24T16:02:07.727Z"
   },
   {
    "duration": 45,
    "start_time": "2022-07-24T16:02:07.734Z"
   },
   {
    "duration": 45,
    "start_time": "2022-07-24T16:02:07.781Z"
   },
   {
    "duration": 25,
    "start_time": "2022-07-24T16:02:07.828Z"
   },
   {
    "duration": 27,
    "start_time": "2022-07-24T16:02:07.855Z"
   },
   {
    "duration": 476,
    "start_time": "2022-07-24T16:02:07.885Z"
   },
   {
    "duration": 1390,
    "start_time": "2022-07-24T16:02:08.363Z"
   },
   {
    "duration": 6,
    "start_time": "2022-07-24T16:02:09.755Z"
   },
   {
    "duration": 168,
    "start_time": "2022-07-24T16:02:09.762Z"
   },
   {
    "duration": 25,
    "start_time": "2022-07-24T16:02:09.932Z"
   },
   {
    "duration": 64,
    "start_time": "2022-07-24T16:02:09.959Z"
   },
   {
    "duration": 21,
    "start_time": "2022-07-24T16:02:10.026Z"
   },
   {
    "duration": 83,
    "start_time": "2022-07-24T16:02:10.049Z"
   },
   {
    "duration": 780,
    "start_time": "2022-07-24T16:02:10.135Z"
   },
   {
    "duration": 22,
    "start_time": "2022-07-24T16:02:10.918Z"
   },
   {
    "duration": 238,
    "start_time": "2022-07-24T16:02:10.943Z"
   },
   {
    "duration": 7,
    "start_time": "2022-07-24T16:02:11.184Z"
   },
   {
    "duration": 96,
    "start_time": "2022-07-24T16:02:11.193Z"
   },
   {
    "duration": 37,
    "start_time": "2022-07-24T16:02:11.291Z"
   },
   {
    "duration": 27,
    "start_time": "2022-07-24T16:02:11.330Z"
   },
   {
    "duration": 5,
    "start_time": "2022-07-24T16:02:11.359Z"
   },
   {
    "duration": 10,
    "start_time": "2022-07-24T16:02:11.365Z"
   },
   {
    "duration": 270,
    "start_time": "2022-07-24T16:02:11.377Z"
   },
   {
    "duration": 0,
    "start_time": "2022-07-24T16:02:11.651Z"
   },
   {
    "duration": 0,
    "start_time": "2022-07-24T16:02:11.653Z"
   },
   {
    "duration": 0,
    "start_time": "2022-07-24T16:02:11.654Z"
   },
   {
    "duration": 0,
    "start_time": "2022-07-24T16:02:11.657Z"
   },
   {
    "duration": 0,
    "start_time": "2022-07-24T16:02:11.658Z"
   },
   {
    "duration": 0,
    "start_time": "2022-07-24T16:02:11.665Z"
   },
   {
    "duration": 934,
    "start_time": "2022-07-24T16:02:33.643Z"
   },
   {
    "duration": 7,
    "start_time": "2022-07-24T16:02:56.845Z"
   },
   {
    "duration": 929,
    "start_time": "2022-07-24T16:03:02.870Z"
   },
   {
    "duration": 9,
    "start_time": "2022-07-24T16:03:21.135Z"
   },
   {
    "duration": 996,
    "start_time": "2022-07-24T16:03:28.274Z"
   },
   {
    "duration": 863,
    "start_time": "2022-07-24T16:03:57.392Z"
   },
   {
    "duration": 868,
    "start_time": "2022-07-24T16:04:12.240Z"
   },
   {
    "duration": 1187,
    "start_time": "2022-07-24T16:04:37.193Z"
   },
   {
    "duration": 2798,
    "start_time": "2022-07-24T16:05:06.194Z"
   },
   {
    "duration": 2167,
    "start_time": "2022-07-24T16:05:45.096Z"
   },
   {
    "duration": 941,
    "start_time": "2022-07-24T16:06:09.752Z"
   },
   {
    "duration": 934,
    "start_time": "2022-07-24T16:06:52.672Z"
   },
   {
    "duration": 1397,
    "start_time": "2022-07-24T16:07:48.675Z"
   },
   {
    "duration": 191,
    "start_time": "2022-07-24T16:07:50.074Z"
   },
   {
    "duration": 21,
    "start_time": "2022-07-24T16:07:50.267Z"
   },
   {
    "duration": 53,
    "start_time": "2022-07-24T16:07:50.291Z"
   },
   {
    "duration": 11,
    "start_time": "2022-07-24T16:07:50.346Z"
   },
   {
    "duration": 20,
    "start_time": "2022-07-24T16:07:50.359Z"
   },
   {
    "duration": 13,
    "start_time": "2022-07-24T16:07:50.381Z"
   },
   {
    "duration": 11,
    "start_time": "2022-07-24T16:07:50.396Z"
   },
   {
    "duration": 12,
    "start_time": "2022-07-24T16:07:50.410Z"
   },
   {
    "duration": 15,
    "start_time": "2022-07-24T16:07:50.426Z"
   },
   {
    "duration": 53,
    "start_time": "2022-07-24T16:07:50.443Z"
   },
   {
    "duration": 5,
    "start_time": "2022-07-24T16:07:50.498Z"
   },
   {
    "duration": 38,
    "start_time": "2022-07-24T16:07:50.506Z"
   },
   {
    "duration": 17,
    "start_time": "2022-07-24T16:07:50.546Z"
   },
   {
    "duration": 15,
    "start_time": "2022-07-24T16:07:50.565Z"
   },
   {
    "duration": 23,
    "start_time": "2022-07-24T16:07:50.584Z"
   },
   {
    "duration": 57,
    "start_time": "2022-07-24T16:07:50.610Z"
   },
   {
    "duration": 33,
    "start_time": "2022-07-24T16:07:50.669Z"
   },
   {
    "duration": 75,
    "start_time": "2022-07-24T16:07:50.705Z"
   },
   {
    "duration": 63,
    "start_time": "2022-07-24T16:07:50.782Z"
   },
   {
    "duration": 16,
    "start_time": "2022-07-24T16:07:50.847Z"
   },
   {
    "duration": 29,
    "start_time": "2022-07-24T16:07:50.869Z"
   },
   {
    "duration": 81,
    "start_time": "2022-07-24T16:07:50.901Z"
   },
   {
    "duration": 1193,
    "start_time": "2022-07-24T16:07:50.984Z"
   },
   {
    "duration": 27,
    "start_time": "2022-07-24T16:07:52.179Z"
   },
   {
    "duration": 29,
    "start_time": "2022-07-24T16:07:52.208Z"
   },
   {
    "duration": 10,
    "start_time": "2022-07-24T16:07:52.239Z"
   },
   {
    "duration": 16,
    "start_time": "2022-07-24T16:07:52.255Z"
   },
   {
    "duration": 8,
    "start_time": "2022-07-24T16:07:52.274Z"
   },
   {
    "duration": 7,
    "start_time": "2022-07-24T16:07:52.284Z"
   },
   {
    "duration": 43,
    "start_time": "2022-07-24T16:07:52.293Z"
   },
   {
    "duration": 543,
    "start_time": "2022-07-24T16:07:52.337Z"
   },
   {
    "duration": 344,
    "start_time": "2022-07-24T16:07:52.882Z"
   },
   {
    "duration": 7,
    "start_time": "2022-07-24T16:07:53.228Z"
   },
   {
    "duration": 65,
    "start_time": "2022-07-24T16:07:53.237Z"
   },
   {
    "duration": 617,
    "start_time": "2022-07-24T16:07:53.304Z"
   },
   {
    "duration": 7,
    "start_time": "2022-07-24T16:07:53.929Z"
   },
   {
    "duration": 69,
    "start_time": "2022-07-24T16:07:53.938Z"
   },
   {
    "duration": 27,
    "start_time": "2022-07-24T16:07:54.010Z"
   },
   {
    "duration": 39,
    "start_time": "2022-07-24T16:07:54.042Z"
   },
   {
    "duration": 29,
    "start_time": "2022-07-24T16:07:54.083Z"
   },
   {
    "duration": 692,
    "start_time": "2022-07-24T16:07:54.115Z"
   },
   {
    "duration": 690,
    "start_time": "2022-07-24T16:07:54.809Z"
   },
   {
    "duration": 6,
    "start_time": "2022-07-24T16:07:55.502Z"
   },
   {
    "duration": 90,
    "start_time": "2022-07-24T16:07:55.510Z"
   },
   {
    "duration": 31,
    "start_time": "2022-07-24T16:07:55.602Z"
   },
   {
    "duration": 43,
    "start_time": "2022-07-24T16:07:55.637Z"
   },
   {
    "duration": 44,
    "start_time": "2022-07-24T16:07:55.683Z"
   },
   {
    "duration": 36,
    "start_time": "2022-07-24T16:07:55.730Z"
   },
   {
    "duration": 550,
    "start_time": "2022-07-24T16:07:55.769Z"
   },
   {
    "duration": 16,
    "start_time": "2022-07-24T16:07:56.321Z"
   },
   {
    "duration": 240,
    "start_time": "2022-07-24T16:07:56.340Z"
   },
   {
    "duration": 10,
    "start_time": "2022-07-24T16:07:56.583Z"
   },
   {
    "duration": 154,
    "start_time": "2022-07-24T16:07:56.595Z"
   },
   {
    "duration": 27,
    "start_time": "2022-07-24T16:07:56.751Z"
   },
   {
    "duration": 44,
    "start_time": "2022-07-24T16:07:56.781Z"
   },
   {
    "duration": 4,
    "start_time": "2022-07-24T16:07:56.827Z"
   },
   {
    "duration": 11,
    "start_time": "2022-07-24T16:07:56.833Z"
   },
   {
    "duration": 1059,
    "start_time": "2022-07-24T16:07:56.846Z"
   },
   {
    "duration": 1227,
    "start_time": "2022-07-24T16:07:57.907Z"
   },
   {
    "duration": 3776,
    "start_time": "2022-07-24T16:07:59.136Z"
   },
   {
    "duration": 953,
    "start_time": "2022-07-24T16:08:02.924Z"
   },
   {
    "duration": 31,
    "start_time": "2022-07-24T16:08:03.879Z"
   },
   {
    "duration": 5648,
    "start_time": "2022-07-24T16:08:03.924Z"
   },
   {
    "duration": 5862,
    "start_time": "2022-07-24T16:08:09.574Z"
   },
   {
    "duration": 795,
    "start_time": "2022-07-24T16:33:47.254Z"
   },
   {
    "duration": 890,
    "start_time": "2022-07-24T16:34:11.169Z"
   },
   {
    "duration": 919,
    "start_time": "2022-07-24T16:34:38.721Z"
   },
   {
    "duration": 945,
    "start_time": "2022-07-24T16:34:50.064Z"
   },
   {
    "duration": 850,
    "start_time": "2022-07-24T16:36:47.008Z"
   },
   {
    "duration": 34,
    "start_time": "2022-07-24T17:22:03.092Z"
   },
   {
    "duration": 13,
    "start_time": "2022-07-24T17:22:24.385Z"
   },
   {
    "duration": 22,
    "start_time": "2022-07-24T17:23:25.312Z"
   },
   {
    "duration": 14,
    "start_time": "2022-07-24T17:23:32.836Z"
   },
   {
    "duration": 15,
    "start_time": "2022-07-24T17:24:20.036Z"
   },
   {
    "duration": 5,
    "start_time": "2022-07-24T17:36:23.007Z"
   },
   {
    "duration": 5,
    "start_time": "2022-07-24T17:36:40.312Z"
   },
   {
    "duration": 5,
    "start_time": "2022-07-24T17:36:46.342Z"
   },
   {
    "duration": 4,
    "start_time": "2022-07-24T17:36:55.884Z"
   },
   {
    "duration": 7,
    "start_time": "2022-07-24T17:38:47.219Z"
   },
   {
    "duration": 18,
    "start_time": "2022-07-24T17:38:51.821Z"
   },
   {
    "duration": 767,
    "start_time": "2022-07-24T18:06:09.630Z"
   },
   {
    "duration": 10,
    "start_time": "2022-07-24T18:38:47.867Z"
   },
   {
    "duration": 11,
    "start_time": "2022-07-24T18:39:27.198Z"
   },
   {
    "duration": 11,
    "start_time": "2022-07-24T18:39:58.450Z"
   },
   {
    "duration": 51,
    "start_time": "2022-07-24T18:40:17.270Z"
   },
   {
    "duration": 9,
    "start_time": "2022-07-24T18:40:28.001Z"
   },
   {
    "duration": 63,
    "start_time": "2022-07-24T18:40:44.391Z"
   },
   {
    "duration": 9,
    "start_time": "2022-07-24T18:41:14.447Z"
   },
   {
    "duration": 8,
    "start_time": "2022-07-24T18:41:25.462Z"
   },
   {
    "duration": 48,
    "start_time": "2022-07-24T18:42:22.113Z"
   },
   {
    "duration": 48,
    "start_time": "2022-07-24T18:42:43.137Z"
   },
   {
    "duration": 20,
    "start_time": "2022-07-24T18:42:49.144Z"
   },
   {
    "duration": 18,
    "start_time": "2022-07-24T18:43:17.731Z"
   },
   {
    "duration": 19,
    "start_time": "2022-07-24T18:43:25.542Z"
   },
   {
    "duration": 13,
    "start_time": "2022-07-24T19:25:59.559Z"
   },
   {
    "duration": 17,
    "start_time": "2022-07-24T19:44:12.242Z"
   },
   {
    "duration": 5,
    "start_time": "2022-07-24T21:06:43.357Z"
   },
   {
    "duration": 171,
    "start_time": "2022-07-24T21:07:26.420Z"
   },
   {
    "duration": 20,
    "start_time": "2022-07-24T21:07:42.768Z"
   },
   {
    "duration": 10,
    "start_time": "2022-07-24T21:09:10.457Z"
   },
   {
    "duration": 18,
    "start_time": "2022-07-24T21:09:51.911Z"
   },
   {
    "duration": 25,
    "start_time": "2022-07-24T21:23:42.069Z"
   },
   {
    "duration": 20,
    "start_time": "2022-07-24T21:24:25.403Z"
   },
   {
    "duration": 25,
    "start_time": "2022-07-24T21:29:04.947Z"
   },
   {
    "duration": 48,
    "start_time": "2022-07-24T21:32:08.361Z"
   },
   {
    "duration": 26,
    "start_time": "2022-07-24T21:32:34.298Z"
   },
   {
    "duration": 1246,
    "start_time": "2022-07-24T21:32:55.838Z"
   },
   {
    "duration": 198,
    "start_time": "2022-07-24T21:32:57.086Z"
   },
   {
    "duration": 17,
    "start_time": "2022-07-24T21:32:57.285Z"
   },
   {
    "duration": 54,
    "start_time": "2022-07-24T21:32:57.305Z"
   },
   {
    "duration": 11,
    "start_time": "2022-07-24T21:32:57.361Z"
   },
   {
    "duration": 9,
    "start_time": "2022-07-24T21:32:57.374Z"
   },
   {
    "duration": 8,
    "start_time": "2022-07-24T21:32:57.384Z"
   },
   {
    "duration": 4,
    "start_time": "2022-07-24T21:32:57.394Z"
   },
   {
    "duration": 13,
    "start_time": "2022-07-24T21:32:57.399Z"
   },
   {
    "duration": 14,
    "start_time": "2022-07-24T21:32:57.415Z"
   },
   {
    "duration": 30,
    "start_time": "2022-07-24T21:32:57.431Z"
   },
   {
    "duration": 4,
    "start_time": "2022-07-24T21:32:57.464Z"
   },
   {
    "duration": 17,
    "start_time": "2022-07-24T21:32:57.469Z"
   },
   {
    "duration": 11,
    "start_time": "2022-07-24T21:32:57.487Z"
   },
   {
    "duration": 27,
    "start_time": "2022-07-24T21:32:57.500Z"
   },
   {
    "duration": 12,
    "start_time": "2022-07-24T21:32:57.528Z"
   },
   {
    "duration": 52,
    "start_time": "2022-07-24T21:32:57.541Z"
   },
   {
    "duration": 41,
    "start_time": "2022-07-24T21:32:57.594Z"
   },
   {
    "duration": 38,
    "start_time": "2022-07-24T21:32:57.637Z"
   },
   {
    "duration": 61,
    "start_time": "2022-07-24T21:32:57.677Z"
   },
   {
    "duration": 13,
    "start_time": "2022-07-24T21:32:57.739Z"
   },
   {
    "duration": 20,
    "start_time": "2022-07-24T21:32:57.754Z"
   },
   {
    "duration": 81,
    "start_time": "2022-07-24T21:32:57.776Z"
   },
   {
    "duration": 770,
    "start_time": "2022-07-24T21:32:57.859Z"
   },
   {
    "duration": 19,
    "start_time": "2022-07-24T21:32:58.631Z"
   },
   {
    "duration": 13,
    "start_time": "2022-07-24T21:32:58.651Z"
   },
   {
    "duration": 7,
    "start_time": "2022-07-24T21:32:58.666Z"
   },
   {
    "duration": 10,
    "start_time": "2022-07-24T21:32:58.677Z"
   },
   {
    "duration": 10,
    "start_time": "2022-07-24T21:32:58.689Z"
   },
   {
    "duration": 26,
    "start_time": "2022-07-24T21:32:58.700Z"
   },
   {
    "duration": 27,
    "start_time": "2022-07-24T21:32:58.728Z"
   },
   {
    "duration": 608,
    "start_time": "2022-07-24T21:32:58.757Z"
   },
   {
    "duration": 265,
    "start_time": "2022-07-24T21:32:59.368Z"
   },
   {
    "duration": 5,
    "start_time": "2022-07-24T21:32:59.635Z"
   },
   {
    "duration": 50,
    "start_time": "2022-07-24T21:32:59.642Z"
   },
   {
    "duration": 401,
    "start_time": "2022-07-24T21:32:59.694Z"
   },
   {
    "duration": 6,
    "start_time": "2022-07-24T21:33:00.097Z"
   },
   {
    "duration": 56,
    "start_time": "2022-07-24T21:33:00.104Z"
   },
   {
    "duration": 25,
    "start_time": "2022-07-24T21:33:00.162Z"
   },
   {
    "duration": 34,
    "start_time": "2022-07-24T21:33:00.189Z"
   },
   {
    "duration": 20,
    "start_time": "2022-07-24T21:33:00.225Z"
   },
   {
    "duration": 418,
    "start_time": "2022-07-24T21:33:00.248Z"
   },
   {
    "duration": 522,
    "start_time": "2022-07-24T21:33:00.668Z"
   },
   {
    "duration": 6,
    "start_time": "2022-07-24T21:33:01.192Z"
   },
   {
    "duration": 67,
    "start_time": "2022-07-24T21:33:01.199Z"
   },
   {
    "duration": 19,
    "start_time": "2022-07-24T21:33:01.268Z"
   },
   {
    "duration": 15,
    "start_time": "2022-07-24T21:33:01.289Z"
   },
   {
    "duration": 32,
    "start_time": "2022-07-24T21:33:01.306Z"
   },
   {
    "duration": 29,
    "start_time": "2022-07-24T21:33:01.340Z"
   },
   {
    "duration": 412,
    "start_time": "2022-07-24T21:33:01.371Z"
   },
   {
    "duration": 10,
    "start_time": "2022-07-24T21:33:01.785Z"
   },
   {
    "duration": 190,
    "start_time": "2022-07-24T21:33:01.796Z"
   },
   {
    "duration": 8,
    "start_time": "2022-07-24T21:33:01.988Z"
   },
   {
    "duration": 127,
    "start_time": "2022-07-24T21:33:01.998Z"
   },
   {
    "duration": 22,
    "start_time": "2022-07-24T21:33:02.127Z"
   },
   {
    "duration": 29,
    "start_time": "2022-07-24T21:33:02.153Z"
   },
   {
    "duration": 7,
    "start_time": "2022-07-24T21:33:02.184Z"
   },
   {
    "duration": 33,
    "start_time": "2022-07-24T21:33:02.193Z"
   },
   {
    "duration": 848,
    "start_time": "2022-07-24T21:33:02.228Z"
   },
   {
    "duration": 865,
    "start_time": "2022-07-24T21:33:03.078Z"
   },
   {
    "duration": 1890,
    "start_time": "2022-07-24T21:33:03.945Z"
   },
   {
    "duration": 727,
    "start_time": "2022-07-24T21:33:05.837Z"
   },
   {
    "duration": 15,
    "start_time": "2022-07-24T21:33:06.566Z"
   },
   {
    "duration": 40,
    "start_time": "2022-07-24T21:33:06.583Z"
   },
   {
    "duration": 5017,
    "start_time": "2022-07-24T21:33:06.626Z"
   },
   {
    "duration": 5323,
    "start_time": "2022-07-24T21:33:11.646Z"
   },
   {
    "duration": 12,
    "start_time": "2022-07-24T21:33:16.971Z"
   },
   {
    "duration": 51,
    "start_time": "2022-07-24T21:33:16.985Z"
   },
   {
    "duration": 21,
    "start_time": "2022-07-24T21:33:17.037Z"
   },
   {
    "duration": 119,
    "start_time": "2022-07-24T21:33:17.060Z"
   },
   {
    "duration": 0,
    "start_time": "2022-07-24T21:33:17.181Z"
   },
   {
    "duration": 0,
    "start_time": "2022-07-24T21:33:17.182Z"
   },
   {
    "duration": 67,
    "start_time": "2022-07-24T21:44:17.768Z"
   },
   {
    "duration": 38,
    "start_time": "2022-07-24T21:44:36.418Z"
   },
   {
    "duration": 77,
    "start_time": "2022-07-24T21:46:04.486Z"
   },
   {
    "duration": 34,
    "start_time": "2022-07-24T21:46:09.627Z"
   },
   {
    "duration": 29,
    "start_time": "2022-07-24T21:51:03.075Z"
   },
   {
    "duration": 145,
    "start_time": "2022-07-24T21:54:57.534Z"
   },
   {
    "duration": 87,
    "start_time": "2022-07-24T21:55:03.765Z"
   },
   {
    "duration": 51,
    "start_time": "2022-07-24T21:55:37.193Z"
   },
   {
    "duration": 5,
    "start_time": "2022-07-24T21:55:52.776Z"
   },
   {
    "duration": 16,
    "start_time": "2022-07-24T21:55:55.598Z"
   },
   {
    "duration": 33,
    "start_time": "2022-07-24T21:56:05.036Z"
   },
   {
    "duration": 7,
    "start_time": "2022-07-24T21:56:06.933Z"
   },
   {
    "duration": 24,
    "start_time": "2022-07-24T21:56:08.181Z"
   },
   {
    "duration": 8,
    "start_time": "2022-07-24T21:56:46.580Z"
   },
   {
    "duration": 7,
    "start_time": "2022-07-24T21:56:47.572Z"
   },
   {
    "duration": 1275,
    "start_time": "2022-07-24T22:00:35.596Z"
   },
   {
    "duration": 288,
    "start_time": "2022-07-24T22:00:36.873Z"
   },
   {
    "duration": 17,
    "start_time": "2022-07-24T22:00:37.163Z"
   },
   {
    "duration": 37,
    "start_time": "2022-07-24T22:00:37.182Z"
   },
   {
    "duration": 11,
    "start_time": "2022-07-24T22:00:37.223Z"
   },
   {
    "duration": 5,
    "start_time": "2022-07-24T22:00:37.238Z"
   },
   {
    "duration": 13,
    "start_time": "2022-07-24T22:00:37.244Z"
   },
   {
    "duration": 10,
    "start_time": "2022-07-24T22:00:37.259Z"
   },
   {
    "duration": 11,
    "start_time": "2022-07-24T22:00:37.270Z"
   },
   {
    "duration": 4,
    "start_time": "2022-07-24T22:00:37.284Z"
   },
   {
    "duration": 48,
    "start_time": "2022-07-24T22:00:37.290Z"
   },
   {
    "duration": 5,
    "start_time": "2022-07-24T22:00:37.340Z"
   },
   {
    "duration": 24,
    "start_time": "2022-07-24T22:00:37.350Z"
   },
   {
    "duration": 16,
    "start_time": "2022-07-24T22:00:37.378Z"
   },
   {
    "duration": 31,
    "start_time": "2022-07-24T22:00:37.397Z"
   },
   {
    "duration": 19,
    "start_time": "2022-07-24T22:00:37.430Z"
   },
   {
    "duration": 86,
    "start_time": "2022-07-24T22:00:37.451Z"
   },
   {
    "duration": 36,
    "start_time": "2022-07-24T22:00:37.539Z"
   },
   {
    "duration": 55,
    "start_time": "2022-07-24T22:00:37.576Z"
   },
   {
    "duration": 53,
    "start_time": "2022-07-24T22:00:37.634Z"
   },
   {
    "duration": 14,
    "start_time": "2022-07-24T22:00:37.689Z"
   },
   {
    "duration": 21,
    "start_time": "2022-07-24T22:00:37.723Z"
   },
   {
    "duration": 45,
    "start_time": "2022-07-24T22:00:37.746Z"
   },
   {
    "duration": 772,
    "start_time": "2022-07-24T22:00:37.792Z"
   },
   {
    "duration": 20,
    "start_time": "2022-07-24T22:00:38.565Z"
   },
   {
    "duration": 13,
    "start_time": "2022-07-24T22:00:38.587Z"
   },
   {
    "duration": 22,
    "start_time": "2022-07-24T22:00:38.601Z"
   },
   {
    "duration": 7,
    "start_time": "2022-07-24T22:00:38.628Z"
   },
   {
    "duration": 7,
    "start_time": "2022-07-24T22:00:38.637Z"
   },
   {
    "duration": 7,
    "start_time": "2022-07-24T22:00:38.646Z"
   },
   {
    "duration": 7,
    "start_time": "2022-07-24T22:00:38.655Z"
   },
   {
    "duration": 24,
    "start_time": "2022-07-24T22:00:38.663Z"
   },
   {
    "duration": 607,
    "start_time": "2022-07-24T22:00:38.689Z"
   },
   {
    "duration": 252,
    "start_time": "2022-07-24T22:00:39.297Z"
   },
   {
    "duration": 5,
    "start_time": "2022-07-24T22:00:39.551Z"
   },
   {
    "duration": 43,
    "start_time": "2022-07-24T22:00:39.558Z"
   },
   {
    "duration": 422,
    "start_time": "2022-07-24T22:00:39.603Z"
   },
   {
    "duration": 5,
    "start_time": "2022-07-24T22:00:40.027Z"
   },
   {
    "duration": 49,
    "start_time": "2022-07-24T22:00:40.034Z"
   },
   {
    "duration": 20,
    "start_time": "2022-07-24T22:00:40.085Z"
   },
   {
    "duration": 34,
    "start_time": "2022-07-24T22:00:40.107Z"
   },
   {
    "duration": 19,
    "start_time": "2022-07-24T22:00:40.143Z"
   },
   {
    "duration": 449,
    "start_time": "2022-07-24T22:00:40.164Z"
   },
   {
    "duration": 507,
    "start_time": "2022-07-24T22:00:40.616Z"
   },
   {
    "duration": 5,
    "start_time": "2022-07-24T22:00:41.125Z"
   },
   {
    "duration": 43,
    "start_time": "2022-07-24T22:00:41.132Z"
   },
   {
    "duration": 20,
    "start_time": "2022-07-24T22:00:41.177Z"
   },
   {
    "duration": 34,
    "start_time": "2022-07-24T22:00:41.199Z"
   },
   {
    "duration": 13,
    "start_time": "2022-07-24T22:00:41.235Z"
   },
   {
    "duration": 18,
    "start_time": "2022-07-24T22:00:41.250Z"
   },
   {
    "duration": 395,
    "start_time": "2022-07-24T22:00:41.269Z"
   },
   {
    "duration": 10,
    "start_time": "2022-07-24T22:00:41.668Z"
   },
   {
    "duration": 166,
    "start_time": "2022-07-24T22:00:41.679Z"
   },
   {
    "duration": 4,
    "start_time": "2022-07-24T22:00:41.847Z"
   },
   {
    "duration": 90,
    "start_time": "2022-07-24T22:00:41.853Z"
   },
   {
    "duration": 25,
    "start_time": "2022-07-24T22:00:41.945Z"
   },
   {
    "duration": 20,
    "start_time": "2022-07-24T22:00:41.972Z"
   },
   {
    "duration": 4,
    "start_time": "2022-07-24T22:00:41.994Z"
   },
   {
    "duration": 7,
    "start_time": "2022-07-24T22:00:42.022Z"
   },
   {
    "duration": 1052,
    "start_time": "2022-07-24T22:00:42.031Z"
   },
   {
    "duration": 930,
    "start_time": "2022-07-24T22:00:43.085Z"
   },
   {
    "duration": 1694,
    "start_time": "2022-07-24T22:00:44.017Z"
   },
   {
    "duration": 686,
    "start_time": "2022-07-24T22:00:45.713Z"
   },
   {
    "duration": 14,
    "start_time": "2022-07-24T22:00:46.401Z"
   },
   {
    "duration": 20,
    "start_time": "2022-07-24T22:00:46.424Z"
   },
   {
    "duration": 4621,
    "start_time": "2022-07-24T22:00:46.446Z"
   },
   {
    "duration": 4418,
    "start_time": "2022-07-24T22:00:51.069Z"
   },
   {
    "duration": 13,
    "start_time": "2022-07-24T22:00:55.488Z"
   },
   {
    "duration": 54,
    "start_time": "2022-07-24T22:00:55.502Z"
   },
   {
    "duration": 5,
    "start_time": "2022-07-24T22:00:55.558Z"
   },
   {
    "duration": 24,
    "start_time": "2022-07-24T22:00:55.564Z"
   },
   {
    "duration": 145,
    "start_time": "2022-07-24T22:00:55.590Z"
   },
   {
    "duration": 31,
    "start_time": "2022-07-24T22:03:56.873Z"
   },
   {
    "duration": 16,
    "start_time": "2022-07-24T22:07:12.267Z"
   },
   {
    "duration": 1322,
    "start_time": "2022-07-24T22:07:28.410Z"
   },
   {
    "duration": 223,
    "start_time": "2022-07-24T22:07:29.734Z"
   },
   {
    "duration": 18,
    "start_time": "2022-07-24T22:07:29.958Z"
   },
   {
    "duration": 49,
    "start_time": "2022-07-24T22:07:29.978Z"
   },
   {
    "duration": 11,
    "start_time": "2022-07-24T22:07:30.028Z"
   },
   {
    "duration": 9,
    "start_time": "2022-07-24T22:07:30.041Z"
   },
   {
    "duration": 10,
    "start_time": "2022-07-24T22:07:30.053Z"
   },
   {
    "duration": 5,
    "start_time": "2022-07-24T22:07:30.065Z"
   },
   {
    "duration": 14,
    "start_time": "2022-07-24T22:07:30.072Z"
   },
   {
    "duration": 9,
    "start_time": "2022-07-24T22:07:30.089Z"
   },
   {
    "duration": 65,
    "start_time": "2022-07-24T22:07:30.100Z"
   },
   {
    "duration": 5,
    "start_time": "2022-07-24T22:07:30.167Z"
   },
   {
    "duration": 25,
    "start_time": "2022-07-24T22:07:30.174Z"
   },
   {
    "duration": 28,
    "start_time": "2022-07-24T22:07:30.201Z"
   },
   {
    "duration": 15,
    "start_time": "2022-07-24T22:07:30.231Z"
   },
   {
    "duration": 24,
    "start_time": "2022-07-24T22:07:30.248Z"
   },
   {
    "duration": 61,
    "start_time": "2022-07-24T22:07:30.274Z"
   },
   {
    "duration": 35,
    "start_time": "2022-07-24T22:07:30.337Z"
   },
   {
    "duration": 60,
    "start_time": "2022-07-24T22:07:30.375Z"
   },
   {
    "duration": 39,
    "start_time": "2022-07-24T22:07:30.437Z"
   },
   {
    "duration": 13,
    "start_time": "2022-07-24T22:07:30.478Z"
   },
   {
    "duration": 43,
    "start_time": "2022-07-24T22:07:30.493Z"
   },
   {
    "duration": 50,
    "start_time": "2022-07-24T22:07:30.538Z"
   },
   {
    "duration": 758,
    "start_time": "2022-07-24T22:07:30.590Z"
   },
   {
    "duration": 19,
    "start_time": "2022-07-24T22:07:31.350Z"
   },
   {
    "duration": 13,
    "start_time": "2022-07-24T22:07:31.371Z"
   },
   {
    "duration": 6,
    "start_time": "2022-07-24T22:07:31.386Z"
   },
   {
    "duration": 7,
    "start_time": "2022-07-24T22:07:31.423Z"
   },
   {
    "duration": 21,
    "start_time": "2022-07-24T22:07:31.432Z"
   },
   {
    "duration": 9,
    "start_time": "2022-07-24T22:07:31.455Z"
   },
   {
    "duration": 6,
    "start_time": "2022-07-24T22:07:31.465Z"
   },
   {
    "duration": 26,
    "start_time": "2022-07-24T22:07:31.473Z"
   },
   {
    "duration": 490,
    "start_time": "2022-07-24T22:07:31.501Z"
   },
   {
    "duration": 254,
    "start_time": "2022-07-24T22:07:31.993Z"
   },
   {
    "duration": 5,
    "start_time": "2022-07-24T22:07:32.249Z"
   },
   {
    "duration": 45,
    "start_time": "2022-07-24T22:07:32.256Z"
   },
   {
    "duration": 400,
    "start_time": "2022-07-24T22:07:32.303Z"
   },
   {
    "duration": 4,
    "start_time": "2022-07-24T22:07:32.705Z"
   },
   {
    "duration": 62,
    "start_time": "2022-07-24T22:07:32.711Z"
   },
   {
    "duration": 19,
    "start_time": "2022-07-24T22:07:32.775Z"
   },
   {
    "duration": 34,
    "start_time": "2022-07-24T22:07:32.796Z"
   },
   {
    "duration": 20,
    "start_time": "2022-07-24T22:07:32.832Z"
   },
   {
    "duration": 452,
    "start_time": "2022-07-24T22:07:32.854Z"
   },
   {
    "duration": 510,
    "start_time": "2022-07-24T22:07:33.308Z"
   },
   {
    "duration": 5,
    "start_time": "2022-07-24T22:07:33.820Z"
   },
   {
    "duration": 42,
    "start_time": "2022-07-24T22:07:33.827Z"
   },
   {
    "duration": 17,
    "start_time": "2022-07-24T22:07:33.871Z"
   },
   {
    "duration": 38,
    "start_time": "2022-07-24T22:07:33.890Z"
   },
   {
    "duration": 15,
    "start_time": "2022-07-24T22:07:33.930Z"
   },
   {
    "duration": 20,
    "start_time": "2022-07-24T22:07:33.948Z"
   },
   {
    "duration": 400,
    "start_time": "2022-07-24T22:07:33.970Z"
   },
   {
    "duration": 9,
    "start_time": "2022-07-24T22:07:34.372Z"
   },
   {
    "duration": 173,
    "start_time": "2022-07-24T22:07:34.383Z"
   },
   {
    "duration": 5,
    "start_time": "2022-07-24T22:07:34.558Z"
   },
   {
    "duration": 117,
    "start_time": "2022-07-24T22:07:34.565Z"
   },
   {
    "duration": 19,
    "start_time": "2022-07-24T22:07:34.684Z"
   },
   {
    "duration": 35,
    "start_time": "2022-07-24T22:07:34.705Z"
   },
   {
    "duration": 4,
    "start_time": "2022-07-24T22:07:34.742Z"
   },
   {
    "duration": 10,
    "start_time": "2022-07-24T22:07:34.747Z"
   },
   {
    "duration": 892,
    "start_time": "2022-07-24T22:07:34.759Z"
   },
   {
    "duration": 897,
    "start_time": "2022-07-24T22:07:35.653Z"
   },
   {
    "duration": 1866,
    "start_time": "2022-07-24T22:07:36.552Z"
   },
   {
    "duration": 762,
    "start_time": "2022-07-24T22:07:38.422Z"
   },
   {
    "duration": 15,
    "start_time": "2022-07-24T22:07:39.187Z"
   },
   {
    "duration": 39,
    "start_time": "2022-07-24T22:07:39.204Z"
   },
   {
    "duration": 4547,
    "start_time": "2022-07-24T22:07:39.245Z"
   },
   {
    "duration": 4636,
    "start_time": "2022-07-24T22:07:43.793Z"
   },
   {
    "duration": 12,
    "start_time": "2022-07-24T22:07:48.431Z"
   },
   {
    "duration": 32,
    "start_time": "2022-07-24T22:07:48.446Z"
   },
   {
    "duration": 190,
    "start_time": "2022-07-24T22:07:48.479Z"
   },
   {
    "duration": 6,
    "start_time": "2022-07-24T22:08:30.999Z"
   },
   {
    "duration": 38,
    "start_time": "2022-07-24T22:12:46.600Z"
   },
   {
    "duration": 10,
    "start_time": "2022-07-24T22:14:08.878Z"
   },
   {
    "duration": 8,
    "start_time": "2022-07-24T22:14:24.728Z"
   },
   {
    "duration": 59,
    "start_time": "2022-07-24T22:21:28.805Z"
   },
   {
    "duration": 18,
    "start_time": "2022-07-24T22:21:43.635Z"
   },
   {
    "duration": 10,
    "start_time": "2022-07-24T22:22:38.949Z"
   },
   {
    "duration": 9,
    "start_time": "2022-07-24T22:23:16.787Z"
   },
   {
    "duration": 15,
    "start_time": "2022-07-24T22:23:39.941Z"
   },
   {
    "duration": 9,
    "start_time": "2022-07-24T22:23:57.147Z"
   },
   {
    "duration": 8,
    "start_time": "2022-07-24T22:24:52.576Z"
   },
   {
    "duration": 11,
    "start_time": "2022-07-24T22:25:16.643Z"
   },
   {
    "duration": 12,
    "start_time": "2022-07-24T22:25:27.742Z"
   },
   {
    "duration": 9,
    "start_time": "2022-07-24T22:26:35.504Z"
   },
   {
    "duration": 12,
    "start_time": "2022-07-24T22:28:05.774Z"
   },
   {
    "duration": 4,
    "start_time": "2022-07-24T22:33:36.299Z"
   },
   {
    "duration": 8,
    "start_time": "2022-07-24T22:33:44.661Z"
   },
   {
    "duration": 5,
    "start_time": "2022-07-24T22:34:10.378Z"
   },
   {
    "duration": 9,
    "start_time": "2022-07-24T22:34:19.598Z"
   },
   {
    "duration": 17,
    "start_time": "2022-07-24T22:52:02.966Z"
   },
   {
    "duration": 8,
    "start_time": "2022-07-25T05:34:35.733Z"
   },
   {
    "duration": 4,
    "start_time": "2022-07-25T05:35:41.201Z"
   },
   {
    "duration": 4,
    "start_time": "2022-07-25T05:35:48.420Z"
   },
   {
    "duration": 4,
    "start_time": "2022-07-25T05:36:31.437Z"
   },
   {
    "duration": 43,
    "start_time": "2022-07-25T05:37:02.516Z"
   },
   {
    "duration": 1368,
    "start_time": "2022-07-25T05:37:11.383Z"
   },
   {
    "duration": 244,
    "start_time": "2022-07-25T05:37:12.753Z"
   },
   {
    "duration": 19,
    "start_time": "2022-07-25T05:37:12.998Z"
   },
   {
    "duration": 122,
    "start_time": "2022-07-25T05:37:13.020Z"
   },
   {
    "duration": 14,
    "start_time": "2022-07-25T05:37:13.144Z"
   },
   {
    "duration": 11,
    "start_time": "2022-07-25T05:37:13.160Z"
   },
   {
    "duration": 14,
    "start_time": "2022-07-25T05:37:13.173Z"
   },
   {
    "duration": 8,
    "start_time": "2022-07-25T05:37:13.189Z"
   },
   {
    "duration": 12,
    "start_time": "2022-07-25T05:37:13.199Z"
   },
   {
    "duration": 20,
    "start_time": "2022-07-25T05:37:13.214Z"
   },
   {
    "duration": 38,
    "start_time": "2022-07-25T05:37:13.235Z"
   },
   {
    "duration": 7,
    "start_time": "2022-07-25T05:37:13.275Z"
   },
   {
    "duration": 18,
    "start_time": "2022-07-25T05:37:13.283Z"
   },
   {
    "duration": 11,
    "start_time": "2022-07-25T05:37:13.303Z"
   },
   {
    "duration": 23,
    "start_time": "2022-07-25T05:37:13.315Z"
   },
   {
    "duration": 12,
    "start_time": "2022-07-25T05:37:13.340Z"
   },
   {
    "duration": 55,
    "start_time": "2022-07-25T05:37:13.353Z"
   },
   {
    "duration": 20,
    "start_time": "2022-07-25T05:37:13.410Z"
   },
   {
    "duration": 48,
    "start_time": "2022-07-25T05:37:13.432Z"
   },
   {
    "duration": 37,
    "start_time": "2022-07-25T05:37:13.482Z"
   },
   {
    "duration": 12,
    "start_time": "2022-07-25T05:37:13.521Z"
   },
   {
    "duration": 34,
    "start_time": "2022-07-25T05:37:13.535Z"
   },
   {
    "duration": 39,
    "start_time": "2022-07-25T05:37:13.570Z"
   },
   {
    "duration": 765,
    "start_time": "2022-07-25T05:37:13.610Z"
   },
   {
    "duration": 17,
    "start_time": "2022-07-25T05:37:14.377Z"
   },
   {
    "duration": 11,
    "start_time": "2022-07-25T05:37:14.396Z"
   },
   {
    "duration": 5,
    "start_time": "2022-07-25T05:37:14.409Z"
   },
   {
    "duration": 8,
    "start_time": "2022-07-25T05:37:14.418Z"
   },
   {
    "duration": 8,
    "start_time": "2022-07-25T05:37:14.427Z"
   },
   {
    "duration": 24,
    "start_time": "2022-07-25T05:37:14.437Z"
   },
   {
    "duration": 5,
    "start_time": "2022-07-25T05:37:14.463Z"
   },
   {
    "duration": 19,
    "start_time": "2022-07-25T05:37:14.470Z"
   },
   {
    "duration": 481,
    "start_time": "2022-07-25T05:37:14.490Z"
   },
   {
    "duration": 244,
    "start_time": "2022-07-25T05:37:14.973Z"
   },
   {
    "duration": 4,
    "start_time": "2022-07-25T05:37:15.219Z"
   },
   {
    "duration": 52,
    "start_time": "2022-07-25T05:37:15.225Z"
   },
   {
    "duration": 425,
    "start_time": "2022-07-25T05:37:15.279Z"
   },
   {
    "duration": 4,
    "start_time": "2022-07-25T05:37:15.706Z"
   },
   {
    "duration": 45,
    "start_time": "2022-07-25T05:37:15.712Z"
   },
   {
    "duration": 19,
    "start_time": "2022-07-25T05:37:15.760Z"
   },
   {
    "duration": 19,
    "start_time": "2022-07-25T05:37:15.782Z"
   },
   {
    "duration": 20,
    "start_time": "2022-07-25T05:37:15.803Z"
   },
   {
    "duration": 550,
    "start_time": "2022-07-25T05:37:15.825Z"
   },
   {
    "duration": 559,
    "start_time": "2022-07-25T05:37:16.378Z"
   },
   {
    "duration": 4,
    "start_time": "2022-07-25T05:37:16.938Z"
   },
   {
    "duration": 57,
    "start_time": "2022-07-25T05:37:16.944Z"
   },
   {
    "duration": 16,
    "start_time": "2022-07-25T05:37:17.003Z"
   },
   {
    "duration": 28,
    "start_time": "2022-07-25T05:37:17.021Z"
   },
   {
    "duration": 33,
    "start_time": "2022-07-25T05:37:17.050Z"
   },
   {
    "duration": 41,
    "start_time": "2022-07-25T05:37:17.085Z"
   },
   {
    "duration": 406,
    "start_time": "2022-07-25T05:37:17.128Z"
   },
   {
    "duration": 14,
    "start_time": "2022-07-25T05:37:17.535Z"
   },
   {
    "duration": 146,
    "start_time": "2022-07-25T05:37:17.552Z"
   },
   {
    "duration": 5,
    "start_time": "2022-07-25T05:37:17.699Z"
   },
   {
    "duration": 94,
    "start_time": "2022-07-25T05:37:17.706Z"
   },
   {
    "duration": 16,
    "start_time": "2022-07-25T05:37:17.801Z"
   },
   {
    "duration": 17,
    "start_time": "2022-07-25T05:37:17.818Z"
   },
   {
    "duration": 5,
    "start_time": "2022-07-25T05:37:17.837Z"
   },
   {
    "duration": 21,
    "start_time": "2022-07-25T05:37:17.843Z"
   },
   {
    "duration": 859,
    "start_time": "2022-07-25T05:37:17.865Z"
   },
   {
    "duration": 844,
    "start_time": "2022-07-25T05:37:18.726Z"
   },
   {
    "duration": 1740,
    "start_time": "2022-07-25T05:37:19.572Z"
   },
   {
    "duration": 665,
    "start_time": "2022-07-25T05:37:21.313Z"
   },
   {
    "duration": 14,
    "start_time": "2022-07-25T05:37:21.980Z"
   },
   {
    "duration": 22,
    "start_time": "2022-07-25T05:37:21.996Z"
   },
   {
    "duration": 4580,
    "start_time": "2022-07-25T05:37:22.020Z"
   },
   {
    "duration": 4800,
    "start_time": "2022-07-25T05:37:26.601Z"
   },
   {
    "duration": 13,
    "start_time": "2022-07-25T05:37:31.402Z"
   },
   {
    "duration": 27,
    "start_time": "2022-07-25T05:37:31.416Z"
   },
   {
    "duration": 28,
    "start_time": "2022-07-25T05:37:31.461Z"
   },
   {
    "duration": 9,
    "start_time": "2022-07-25T05:37:31.491Z"
   },
   {
    "duration": 175,
    "start_time": "2022-07-25T05:37:31.501Z"
   },
   {
    "duration": 17,
    "start_time": "2022-07-25T05:37:52.884Z"
   },
   {
    "duration": 21,
    "start_time": "2022-07-25T05:38:58.648Z"
   },
   {
    "duration": 19,
    "start_time": "2022-07-25T05:39:54.238Z"
   },
   {
    "duration": 22,
    "start_time": "2022-07-25T05:40:28.036Z"
   },
   {
    "duration": 22,
    "start_time": "2022-07-25T05:41:42.666Z"
   },
   {
    "duration": 6,
    "start_time": "2022-07-25T05:41:59.188Z"
   },
   {
    "duration": 27,
    "start_time": "2022-07-25T05:44:20.702Z"
   },
   {
    "duration": 27,
    "start_time": "2022-07-25T05:45:22.153Z"
   },
   {
    "duration": 27,
    "start_time": "2022-07-25T05:47:25.628Z"
   },
   {
    "duration": 9,
    "start_time": "2022-07-25T05:47:44.346Z"
   },
   {
    "duration": 22,
    "start_time": "2022-07-25T05:48:15.572Z"
   },
   {
    "duration": 21,
    "start_time": "2022-07-25T05:48:38.555Z"
   },
   {
    "duration": 22,
    "start_time": "2022-07-25T05:48:44.097Z"
   },
   {
    "duration": 17,
    "start_time": "2022-07-25T05:50:51.360Z"
   },
   {
    "duration": 24,
    "start_time": "2022-07-25T05:53:17.196Z"
   },
   {
    "duration": 9,
    "start_time": "2022-07-25T06:02:53.462Z"
   },
   {
    "duration": 1600,
    "start_time": "2022-07-26T04:57:25.712Z"
   },
   {
    "duration": 305,
    "start_time": "2022-07-26T04:57:27.315Z"
   },
   {
    "duration": 22,
    "start_time": "2022-07-26T04:57:27.622Z"
   },
   {
    "duration": 133,
    "start_time": "2022-07-26T04:57:27.646Z"
   },
   {
    "duration": 16,
    "start_time": "2022-07-26T04:57:27.781Z"
   },
   {
    "duration": 9,
    "start_time": "2022-07-26T04:57:27.799Z"
   },
   {
    "duration": 7,
    "start_time": "2022-07-26T04:57:27.810Z"
   },
   {
    "duration": 13,
    "start_time": "2022-07-26T04:57:27.819Z"
   },
   {
    "duration": 11,
    "start_time": "2022-07-26T04:57:27.836Z"
   },
   {
    "duration": 28,
    "start_time": "2022-07-26T04:57:27.851Z"
   },
   {
    "duration": 37,
    "start_time": "2022-07-26T04:57:27.881Z"
   },
   {
    "duration": 6,
    "start_time": "2022-07-26T04:57:27.920Z"
   },
   {
    "duration": 20,
    "start_time": "2022-07-26T04:57:27.927Z"
   },
   {
    "duration": 11,
    "start_time": "2022-07-26T04:57:27.949Z"
   },
   {
    "duration": 8,
    "start_time": "2022-07-26T04:57:27.961Z"
   },
   {
    "duration": 11,
    "start_time": "2022-07-26T04:57:27.971Z"
   },
   {
    "duration": 68,
    "start_time": "2022-07-26T04:57:27.984Z"
   },
   {
    "duration": 28,
    "start_time": "2022-07-26T04:57:28.054Z"
   },
   {
    "duration": 54,
    "start_time": "2022-07-26T04:57:28.083Z"
   },
   {
    "duration": 43,
    "start_time": "2022-07-26T04:57:28.139Z"
   },
   {
    "duration": 29,
    "start_time": "2022-07-26T04:57:28.184Z"
   },
   {
    "duration": 20,
    "start_time": "2022-07-26T04:57:28.215Z"
   },
   {
    "duration": 44,
    "start_time": "2022-07-26T04:57:28.237Z"
   },
   {
    "duration": 846,
    "start_time": "2022-07-26T04:57:28.283Z"
   },
   {
    "duration": 21,
    "start_time": "2022-07-26T04:57:29.131Z"
   },
   {
    "duration": 13,
    "start_time": "2022-07-26T04:57:29.155Z"
   },
   {
    "duration": 10,
    "start_time": "2022-07-26T04:57:29.170Z"
   },
   {
    "duration": 11,
    "start_time": "2022-07-26T04:57:29.211Z"
   },
   {
    "duration": 10,
    "start_time": "2022-07-26T04:57:29.224Z"
   },
   {
    "duration": 8,
    "start_time": "2022-07-26T04:57:29.236Z"
   },
   {
    "duration": 9,
    "start_time": "2022-07-26T04:57:29.246Z"
   },
   {
    "duration": 23,
    "start_time": "2022-07-26T04:57:29.257Z"
   },
   {
    "duration": 592,
    "start_time": "2022-07-26T04:57:29.282Z"
   },
   {
    "duration": 269,
    "start_time": "2022-07-26T04:57:29.876Z"
   },
   {
    "duration": 5,
    "start_time": "2022-07-26T04:57:30.146Z"
   },
   {
    "duration": 56,
    "start_time": "2022-07-26T04:57:30.153Z"
   },
   {
    "duration": 429,
    "start_time": "2022-07-26T04:57:30.211Z"
   },
   {
    "duration": 5,
    "start_time": "2022-07-26T04:57:30.642Z"
   },
   {
    "duration": 59,
    "start_time": "2022-07-26T04:57:30.648Z"
   },
   {
    "duration": 18,
    "start_time": "2022-07-26T04:57:30.709Z"
   },
   {
    "duration": 19,
    "start_time": "2022-07-26T04:57:30.729Z"
   },
   {
    "duration": 20,
    "start_time": "2022-07-26T04:57:30.750Z"
   },
   {
    "duration": 459,
    "start_time": "2022-07-26T04:57:30.771Z"
   },
   {
    "duration": 555,
    "start_time": "2022-07-26T04:57:31.232Z"
   },
   {
    "duration": 4,
    "start_time": "2022-07-26T04:57:31.789Z"
   },
   {
    "duration": 62,
    "start_time": "2022-07-26T04:57:31.795Z"
   },
   {
    "duration": 25,
    "start_time": "2022-07-26T04:57:31.859Z"
   },
   {
    "duration": 29,
    "start_time": "2022-07-26T04:57:31.886Z"
   },
   {
    "duration": 20,
    "start_time": "2022-07-26T04:57:31.918Z"
   },
   {
    "duration": 25,
    "start_time": "2022-07-26T04:57:31.941Z"
   },
   {
    "duration": 767,
    "start_time": "2022-07-26T04:57:31.969Z"
   },
   {
    "duration": 10,
    "start_time": "2022-07-26T04:57:32.738Z"
   },
   {
    "duration": 193,
    "start_time": "2022-07-26T04:57:32.750Z"
   },
   {
    "duration": 5,
    "start_time": "2022-07-26T04:57:32.945Z"
   },
   {
    "duration": 99,
    "start_time": "2022-07-26T04:57:32.952Z"
   },
   {
    "duration": 19,
    "start_time": "2022-07-26T04:57:33.053Z"
   },
   {
    "duration": 37,
    "start_time": "2022-07-26T04:57:33.074Z"
   },
   {
    "duration": 4,
    "start_time": "2022-07-26T04:57:33.113Z"
   },
   {
    "duration": 32,
    "start_time": "2022-07-26T04:57:33.118Z"
   },
   {
    "duration": 914,
    "start_time": "2022-07-26T04:57:33.151Z"
   },
   {
    "duration": 971,
    "start_time": "2022-07-26T04:57:34.067Z"
   },
   {
    "duration": 1993,
    "start_time": "2022-07-26T04:57:35.040Z"
   },
   {
    "duration": 811,
    "start_time": "2022-07-26T04:57:37.035Z"
   },
   {
    "duration": 17,
    "start_time": "2022-07-26T04:57:37.848Z"
   },
   {
    "duration": 37,
    "start_time": "2022-07-26T04:57:37.868Z"
   },
   {
    "duration": 5322,
    "start_time": "2022-07-26T04:57:37.910Z"
   },
   {
    "duration": 5006,
    "start_time": "2022-07-26T04:57:43.234Z"
   },
   {
    "duration": 13,
    "start_time": "2022-07-26T04:57:48.242Z"
   },
   {
    "duration": 23,
    "start_time": "2022-07-26T04:57:48.257Z"
   },
   {
    "duration": 56,
    "start_time": "2022-07-26T04:57:48.282Z"
   },
   {
    "duration": 11,
    "start_time": "2022-07-26T04:57:48.339Z"
   },
   {
    "duration": 25,
    "start_time": "2022-07-26T04:57:48.352Z"
   },
   {
    "duration": 47,
    "start_time": "2022-07-26T04:57:48.379Z"
   },
   {
    "duration": 10,
    "start_time": "2022-07-26T04:57:48.429Z"
   },
   {
    "duration": 1439,
    "start_time": "2022-07-26T11:51:34.139Z"
   },
   {
    "duration": 274,
    "start_time": "2022-07-26T11:51:35.580Z"
   },
   {
    "duration": 17,
    "start_time": "2022-07-26T11:51:35.855Z"
   },
   {
    "duration": 69,
    "start_time": "2022-07-26T11:51:35.874Z"
   },
   {
    "duration": 9,
    "start_time": "2022-07-26T11:51:35.945Z"
   },
   {
    "duration": 16,
    "start_time": "2022-07-26T11:51:35.956Z"
   },
   {
    "duration": 12,
    "start_time": "2022-07-26T11:51:35.973Z"
   },
   {
    "duration": 10,
    "start_time": "2022-07-26T11:51:35.987Z"
   },
   {
    "duration": 12,
    "start_time": "2022-07-26T11:51:35.999Z"
   },
   {
    "duration": 15,
    "start_time": "2022-07-26T11:51:36.015Z"
   },
   {
    "duration": 27,
    "start_time": "2022-07-26T11:51:36.032Z"
   },
   {
    "duration": 4,
    "start_time": "2022-07-26T11:51:36.060Z"
   },
   {
    "duration": 24,
    "start_time": "2022-07-26T11:51:36.065Z"
   },
   {
    "duration": 13,
    "start_time": "2022-07-26T11:51:36.090Z"
   },
   {
    "duration": 17,
    "start_time": "2022-07-26T11:51:36.105Z"
   },
   {
    "duration": 29,
    "start_time": "2022-07-26T11:51:36.124Z"
   },
   {
    "duration": 40,
    "start_time": "2022-07-26T11:51:36.155Z"
   },
   {
    "duration": 26,
    "start_time": "2022-07-26T11:51:36.197Z"
   },
   {
    "duration": 38,
    "start_time": "2022-07-26T11:51:36.225Z"
   },
   {
    "duration": 60,
    "start_time": "2022-07-26T11:51:36.265Z"
   },
   {
    "duration": 12,
    "start_time": "2022-07-26T11:51:36.326Z"
   },
   {
    "duration": 21,
    "start_time": "2022-07-26T11:51:36.340Z"
   },
   {
    "duration": 71,
    "start_time": "2022-07-26T11:51:36.363Z"
   },
   {
    "duration": 804,
    "start_time": "2022-07-26T11:51:36.435Z"
   },
   {
    "duration": 19,
    "start_time": "2022-07-26T11:51:37.241Z"
   },
   {
    "duration": 12,
    "start_time": "2022-07-26T11:51:37.262Z"
   },
   {
    "duration": 11,
    "start_time": "2022-07-26T11:51:37.276Z"
   },
   {
    "duration": 10,
    "start_time": "2022-07-26T11:51:37.301Z"
   },
   {
    "duration": 16,
    "start_time": "2022-07-26T11:51:37.312Z"
   },
   {
    "duration": 24,
    "start_time": "2022-07-26T11:51:37.331Z"
   },
   {
    "duration": 20,
    "start_time": "2022-07-26T11:51:37.357Z"
   },
   {
    "duration": 29,
    "start_time": "2022-07-26T11:51:37.379Z"
   },
   {
    "duration": 637,
    "start_time": "2022-07-26T11:51:37.410Z"
   },
   {
    "duration": 254,
    "start_time": "2022-07-26T11:51:38.049Z"
   },
   {
    "duration": 4,
    "start_time": "2022-07-26T11:51:38.305Z"
   },
   {
    "duration": 60,
    "start_time": "2022-07-26T11:51:38.312Z"
   },
   {
    "duration": 447,
    "start_time": "2022-07-26T11:51:38.374Z"
   },
   {
    "duration": 8,
    "start_time": "2022-07-26T11:51:38.822Z"
   },
   {
    "duration": 101,
    "start_time": "2022-07-26T11:51:38.832Z"
   },
   {
    "duration": 75,
    "start_time": "2022-07-26T11:51:38.935Z"
   },
   {
    "duration": 25,
    "start_time": "2022-07-26T11:51:39.012Z"
   },
   {
    "duration": 80,
    "start_time": "2022-07-26T11:51:39.039Z"
   },
   {
    "duration": 1026,
    "start_time": "2022-07-26T11:51:39.121Z"
   },
   {
    "duration": 1072,
    "start_time": "2022-07-26T11:51:40.149Z"
   },
   {
    "duration": 7,
    "start_time": "2022-07-26T11:51:41.223Z"
   },
   {
    "duration": 37,
    "start_time": "2022-07-26T11:51:41.232Z"
   },
   {
    "duration": 15,
    "start_time": "2022-07-26T11:51:41.271Z"
   },
   {
    "duration": 10,
    "start_time": "2022-07-26T11:51:41.303Z"
   },
   {
    "duration": 19,
    "start_time": "2022-07-26T11:51:41.315Z"
   },
   {
    "duration": 18,
    "start_time": "2022-07-26T11:51:41.335Z"
   },
   {
    "duration": 388,
    "start_time": "2022-07-26T11:51:41.354Z"
   },
   {
    "duration": 9,
    "start_time": "2022-07-26T11:51:41.744Z"
   },
   {
    "duration": 190,
    "start_time": "2022-07-26T11:51:41.754Z"
   },
   {
    "duration": 5,
    "start_time": "2022-07-26T11:51:41.945Z"
   },
   {
    "duration": 102,
    "start_time": "2022-07-26T11:51:41.952Z"
   },
   {
    "duration": 16,
    "start_time": "2022-07-26T11:51:42.056Z"
   },
   {
    "duration": 32,
    "start_time": "2022-07-26T11:51:42.074Z"
   },
   {
    "duration": 5,
    "start_time": "2022-07-26T11:51:42.108Z"
   },
   {
    "duration": 19,
    "start_time": "2022-07-26T11:51:42.115Z"
   },
   {
    "duration": 834,
    "start_time": "2022-07-26T11:51:42.135Z"
   },
   {
    "duration": 886,
    "start_time": "2022-07-26T11:51:42.970Z"
   },
   {
    "duration": 1707,
    "start_time": "2022-07-26T11:51:43.858Z"
   },
   {
    "duration": 687,
    "start_time": "2022-07-26T11:51:45.566Z"
   },
   {
    "duration": 19,
    "start_time": "2022-07-26T11:51:46.255Z"
   },
   {
    "duration": 43,
    "start_time": "2022-07-26T11:51:46.276Z"
   },
   {
    "duration": 4499,
    "start_time": "2022-07-26T11:51:46.321Z"
   },
   {
    "duration": 4368,
    "start_time": "2022-07-26T11:51:50.822Z"
   },
   {
    "duration": 23,
    "start_time": "2022-07-26T11:51:55.192Z"
   },
   {
    "duration": 36,
    "start_time": "2022-07-26T11:51:55.218Z"
   },
   {
    "duration": 25,
    "start_time": "2022-07-26T11:51:55.256Z"
   },
   {
    "duration": 24,
    "start_time": "2022-07-26T11:51:55.283Z"
   },
   {
    "duration": 24,
    "start_time": "2022-07-26T11:51:55.310Z"
   },
   {
    "duration": 17,
    "start_time": "2022-07-26T11:51:55.335Z"
   },
   {
    "duration": 7,
    "start_time": "2022-07-26T11:51:55.354Z"
   },
   {
    "duration": 1435,
    "start_time": "2022-07-26T11:53:42.248Z"
   },
   {
    "duration": 215,
    "start_time": "2022-07-26T11:53:43.685Z"
   },
   {
    "duration": 30,
    "start_time": "2022-07-26T11:53:43.901Z"
   },
   {
    "duration": 78,
    "start_time": "2022-07-26T11:53:43.934Z"
   },
   {
    "duration": 14,
    "start_time": "2022-07-26T11:53:44.014Z"
   },
   {
    "duration": 10,
    "start_time": "2022-07-26T11:53:44.030Z"
   },
   {
    "duration": 18,
    "start_time": "2022-07-26T11:53:44.042Z"
   },
   {
    "duration": 14,
    "start_time": "2022-07-26T11:53:44.062Z"
   },
   {
    "duration": 12,
    "start_time": "2022-07-26T11:53:44.078Z"
   },
   {
    "duration": 14,
    "start_time": "2022-07-26T11:53:44.093Z"
   },
   {
    "duration": 38,
    "start_time": "2022-07-26T11:53:44.109Z"
   },
   {
    "duration": 5,
    "start_time": "2022-07-26T11:53:44.148Z"
   },
   {
    "duration": 19,
    "start_time": "2022-07-26T11:53:44.154Z"
   },
   {
    "duration": 12,
    "start_time": "2022-07-26T11:53:44.175Z"
   },
   {
    "duration": 7,
    "start_time": "2022-07-26T11:53:44.189Z"
   },
   {
    "duration": 37,
    "start_time": "2022-07-26T11:53:44.197Z"
   },
   {
    "duration": 51,
    "start_time": "2022-07-26T11:53:44.236Z"
   },
   {
    "duration": 36,
    "start_time": "2022-07-26T11:53:44.288Z"
   },
   {
    "duration": 36,
    "start_time": "2022-07-26T11:53:44.326Z"
   },
   {
    "duration": 60,
    "start_time": "2022-07-26T11:53:44.364Z"
   },
   {
    "duration": 12,
    "start_time": "2022-07-26T11:53:44.426Z"
   },
   {
    "duration": 20,
    "start_time": "2022-07-26T11:53:44.440Z"
   },
   {
    "duration": 72,
    "start_time": "2022-07-26T11:53:44.462Z"
   },
   {
    "duration": 884,
    "start_time": "2022-07-26T11:53:44.537Z"
   },
   {
    "duration": 19,
    "start_time": "2022-07-26T11:53:45.422Z"
   },
   {
    "duration": 11,
    "start_time": "2022-07-26T11:53:45.443Z"
   },
   {
    "duration": 26,
    "start_time": "2022-07-26T11:53:45.456Z"
   },
   {
    "duration": 23,
    "start_time": "2022-07-26T11:53:45.486Z"
   },
   {
    "duration": 10,
    "start_time": "2022-07-26T11:53:45.511Z"
   },
   {
    "duration": 17,
    "start_time": "2022-07-26T11:53:45.522Z"
   },
   {
    "duration": 13,
    "start_time": "2022-07-26T11:53:45.541Z"
   },
   {
    "duration": 23,
    "start_time": "2022-07-26T11:53:45.556Z"
   },
   {
    "duration": 493,
    "start_time": "2022-07-26T11:53:45.581Z"
   },
   {
    "duration": 283,
    "start_time": "2022-07-26T11:53:46.075Z"
   },
   {
    "duration": 10,
    "start_time": "2022-07-26T11:53:46.359Z"
   },
   {
    "duration": 96,
    "start_time": "2022-07-26T11:53:46.371Z"
   },
   {
    "duration": 791,
    "start_time": "2022-07-26T11:53:46.468Z"
   },
   {
    "duration": 6,
    "start_time": "2022-07-26T11:53:47.260Z"
   },
   {
    "duration": 172,
    "start_time": "2022-07-26T11:53:47.267Z"
   },
   {
    "duration": 20,
    "start_time": "2022-07-26T11:53:47.442Z"
   },
   {
    "duration": 85,
    "start_time": "2022-07-26T11:53:47.465Z"
   },
   {
    "duration": 87,
    "start_time": "2022-07-26T11:53:47.552Z"
   },
   {
    "duration": 718,
    "start_time": "2022-07-26T11:53:47.641Z"
   },
   {
    "duration": 478,
    "start_time": "2022-07-26T11:53:48.361Z"
   },
   {
    "duration": 5,
    "start_time": "2022-07-26T11:53:48.841Z"
   },
   {
    "duration": 42,
    "start_time": "2022-07-26T11:53:48.848Z"
   },
   {
    "duration": 37,
    "start_time": "2022-07-26T11:53:48.892Z"
   },
   {
    "duration": 9,
    "start_time": "2022-07-26T11:53:48.931Z"
   },
   {
    "duration": 15,
    "start_time": "2022-07-26T11:53:48.941Z"
   },
   {
    "duration": 19,
    "start_time": "2022-07-26T11:53:48.957Z"
   },
   {
    "duration": 398,
    "start_time": "2022-07-26T11:53:48.978Z"
   },
   {
    "duration": 14,
    "start_time": "2022-07-26T11:53:49.379Z"
   },
   {
    "duration": 194,
    "start_time": "2022-07-26T11:53:49.395Z"
   },
   {
    "duration": 5,
    "start_time": "2022-07-26T11:53:49.591Z"
   },
   {
    "duration": 102,
    "start_time": "2022-07-26T11:53:49.597Z"
   },
   {
    "duration": 23,
    "start_time": "2022-07-26T11:53:49.701Z"
   },
   {
    "duration": 25,
    "start_time": "2022-07-26T11:53:49.726Z"
   },
   {
    "duration": 6,
    "start_time": "2022-07-26T11:53:49.753Z"
   },
   {
    "duration": 32,
    "start_time": "2022-07-26T11:53:49.761Z"
   },
   {
    "duration": 930,
    "start_time": "2022-07-26T11:53:49.795Z"
   },
   {
    "duration": 921,
    "start_time": "2022-07-26T11:53:50.727Z"
   },
   {
    "duration": 1873,
    "start_time": "2022-07-26T11:53:51.650Z"
   },
   {
    "duration": 754,
    "start_time": "2022-07-26T11:53:53.526Z"
   },
   {
    "duration": 14,
    "start_time": "2022-07-26T11:53:54.282Z"
   },
   {
    "duration": 41,
    "start_time": "2022-07-26T11:53:54.298Z"
   },
   {
    "duration": 4628,
    "start_time": "2022-07-26T11:53:54.342Z"
   },
   {
    "duration": 4472,
    "start_time": "2022-07-26T11:53:58.972Z"
   },
   {
    "duration": 13,
    "start_time": "2022-07-26T11:54:03.445Z"
   },
   {
    "duration": 24,
    "start_time": "2022-07-26T11:54:03.460Z"
   },
   {
    "duration": 59,
    "start_time": "2022-07-26T11:54:03.486Z"
   },
   {
    "duration": 11,
    "start_time": "2022-07-26T11:54:03.546Z"
   },
   {
    "duration": 23,
    "start_time": "2022-07-26T11:54:03.559Z"
   },
   {
    "duration": 50,
    "start_time": "2022-07-26T11:54:03.583Z"
   },
   {
    "duration": 10,
    "start_time": "2022-07-26T11:54:03.635Z"
   },
   {
    "duration": 3,
    "start_time": "2022-07-26T11:58:22.758Z"
   },
   {
    "duration": 5,
    "start_time": "2022-07-26T11:58:27.844Z"
   },
   {
    "duration": 6,
    "start_time": "2022-07-26T11:59:36.063Z"
   },
   {
    "duration": 796,
    "start_time": "2022-07-26T12:05:48.715Z"
   },
   {
    "duration": 849,
    "start_time": "2022-07-26T12:05:58.182Z"
   },
   {
    "duration": 780,
    "start_time": "2022-07-26T12:06:07.616Z"
   },
   {
    "duration": 841,
    "start_time": "2022-07-26T12:07:09.886Z"
   },
   {
    "duration": 837,
    "start_time": "2022-07-26T12:07:45.033Z"
   },
   {
    "duration": 870,
    "start_time": "2022-07-26T12:08:21.375Z"
   },
   {
    "duration": 849,
    "start_time": "2022-07-26T12:09:23.988Z"
   },
   {
    "duration": 919,
    "start_time": "2022-07-26T12:09:38.341Z"
   },
   {
    "duration": 864,
    "start_time": "2022-07-26T12:09:56.255Z"
   },
   {
    "duration": 862,
    "start_time": "2022-07-26T12:10:19.923Z"
   },
   {
    "duration": 868,
    "start_time": "2022-07-26T12:11:08.672Z"
   },
   {
    "duration": 738,
    "start_time": "2022-07-26T12:11:31.749Z"
   },
   {
    "duration": 1002,
    "start_time": "2022-07-26T12:13:08.708Z"
   },
   {
    "duration": 132,
    "start_time": "2022-07-26T12:13:35.318Z"
   },
   {
    "duration": 72,
    "start_time": "2022-07-26T12:14:00.586Z"
   },
   {
    "duration": 1003,
    "start_time": "2022-07-26T12:14:18.140Z"
   },
   {
    "duration": 974,
    "start_time": "2022-07-26T12:14:53.784Z"
   },
   {
    "duration": 1146,
    "start_time": "2022-07-26T12:15:23.817Z"
   },
   {
    "duration": 973,
    "start_time": "2022-07-26T12:15:36.379Z"
   },
   {
    "duration": 73,
    "start_time": "2022-07-26T12:16:39.849Z"
   },
   {
    "duration": 777,
    "start_time": "2022-07-26T12:17:31.076Z"
   },
   {
    "duration": 768,
    "start_time": "2022-07-26T12:17:58.086Z"
   },
   {
    "duration": 911,
    "start_time": "2022-07-26T12:18:32.548Z"
   },
   {
    "duration": 956,
    "start_time": "2022-07-26T12:18:51.540Z"
   },
   {
    "duration": 1003,
    "start_time": "2022-07-26T12:21:58.010Z"
   },
   {
    "duration": 1116,
    "start_time": "2022-07-26T12:22:17.353Z"
   },
   {
    "duration": 1167,
    "start_time": "2022-07-26T12:24:11.824Z"
   },
   {
    "duration": 1028,
    "start_time": "2022-07-26T12:24:39.219Z"
   },
   {
    "duration": 1024,
    "start_time": "2022-07-26T12:26:49.691Z"
   },
   {
    "duration": 1017,
    "start_time": "2022-07-26T12:27:49.370Z"
   },
   {
    "duration": 1131,
    "start_time": "2022-07-26T12:31:36.910Z"
   },
   {
    "duration": 937,
    "start_time": "2022-07-26T12:31:41.293Z"
   },
   {
    "duration": 1011,
    "start_time": "2022-07-26T12:32:03.427Z"
   },
   {
    "duration": 986,
    "start_time": "2022-07-26T12:32:12.167Z"
   },
   {
    "duration": 1074,
    "start_time": "2022-07-26T12:33:06.357Z"
   },
   {
    "duration": 1063,
    "start_time": "2022-07-26T12:33:16.004Z"
   },
   {
    "duration": 937,
    "start_time": "2022-07-26T12:39:05.755Z"
   },
   {
    "duration": 1228,
    "start_time": "2022-07-26T12:39:18.200Z"
   },
   {
    "duration": 460,
    "start_time": "2022-07-26T12:39:19.436Z"
   },
   {
    "duration": 18,
    "start_time": "2022-07-26T12:39:19.897Z"
   },
   {
    "duration": 48,
    "start_time": "2022-07-26T12:39:19.917Z"
   },
   {
    "duration": 11,
    "start_time": "2022-07-26T12:39:19.966Z"
   },
   {
    "duration": 10,
    "start_time": "2022-07-26T12:39:19.978Z"
   },
   {
    "duration": 13,
    "start_time": "2022-07-26T12:39:19.990Z"
   },
   {
    "duration": 14,
    "start_time": "2022-07-26T12:39:20.004Z"
   },
   {
    "duration": 24,
    "start_time": "2022-07-26T12:39:20.020Z"
   },
   {
    "duration": 15,
    "start_time": "2022-07-26T12:39:20.047Z"
   },
   {
    "duration": 30,
    "start_time": "2022-07-26T12:39:20.064Z"
   },
   {
    "duration": 10,
    "start_time": "2022-07-26T12:39:20.096Z"
   },
   {
    "duration": 28,
    "start_time": "2022-07-26T12:39:20.108Z"
   },
   {
    "duration": 15,
    "start_time": "2022-07-26T12:39:20.138Z"
   },
   {
    "duration": 9,
    "start_time": "2022-07-26T12:39:20.155Z"
   },
   {
    "duration": 11,
    "start_time": "2022-07-26T12:39:20.166Z"
   },
   {
    "duration": 58,
    "start_time": "2022-07-26T12:39:20.179Z"
   },
   {
    "duration": 22,
    "start_time": "2022-07-26T12:39:20.239Z"
   },
   {
    "duration": 34,
    "start_time": "2022-07-26T12:39:20.262Z"
   },
   {
    "duration": 57,
    "start_time": "2022-07-26T12:39:20.299Z"
   },
   {
    "duration": 10,
    "start_time": "2022-07-26T12:39:20.357Z"
   },
   {
    "duration": 20,
    "start_time": "2022-07-26T12:39:20.369Z"
   },
   {
    "duration": 1017,
    "start_time": "2022-07-26T12:39:20.390Z"
   },
   {
    "duration": 48,
    "start_time": "2022-07-26T12:39:21.409Z"
   },
   {
    "duration": 730,
    "start_time": "2022-07-26T12:39:21.459Z"
   },
   {
    "duration": 18,
    "start_time": "2022-07-26T12:39:22.191Z"
   },
   {
    "duration": 28,
    "start_time": "2022-07-26T12:39:22.211Z"
   },
   {
    "duration": 10,
    "start_time": "2022-07-26T12:39:22.244Z"
   },
   {
    "duration": 11,
    "start_time": "2022-07-26T12:39:22.255Z"
   },
   {
    "duration": 9,
    "start_time": "2022-07-26T12:39:22.268Z"
   },
   {
    "duration": 9,
    "start_time": "2022-07-26T12:39:22.279Z"
   },
   {
    "duration": 17,
    "start_time": "2022-07-26T12:39:22.290Z"
   },
   {
    "duration": 59,
    "start_time": "2022-07-26T12:39:22.309Z"
   },
   {
    "duration": 502,
    "start_time": "2022-07-26T12:39:22.370Z"
   },
   {
    "duration": 274,
    "start_time": "2022-07-26T12:39:22.875Z"
   },
   {
    "duration": 5,
    "start_time": "2022-07-26T12:39:23.151Z"
   },
   {
    "duration": 40,
    "start_time": "2022-07-26T12:39:23.158Z"
   },
   {
    "duration": 411,
    "start_time": "2022-07-26T12:39:23.200Z"
   },
   {
    "duration": 18,
    "start_time": "2022-07-26T12:39:23.613Z"
   },
   {
    "duration": 48,
    "start_time": "2022-07-26T12:39:23.637Z"
   },
   {
    "duration": 19,
    "start_time": "2022-07-26T12:39:23.687Z"
   },
   {
    "duration": 30,
    "start_time": "2022-07-26T12:39:23.708Z"
   },
   {
    "duration": 17,
    "start_time": "2022-07-26T12:39:23.740Z"
   },
   {
    "duration": 412,
    "start_time": "2022-07-26T12:39:23.759Z"
   },
   {
    "duration": 420,
    "start_time": "2022-07-26T12:39:24.173Z"
   },
   {
    "duration": 5,
    "start_time": "2022-07-26T12:39:24.595Z"
   },
   {
    "duration": 69,
    "start_time": "2022-07-26T12:39:24.601Z"
   },
   {
    "duration": 23,
    "start_time": "2022-07-26T12:39:24.671Z"
   },
   {
    "duration": 16,
    "start_time": "2022-07-26T12:39:24.696Z"
   },
   {
    "duration": 26,
    "start_time": "2022-07-26T12:39:24.714Z"
   },
   {
    "duration": 19,
    "start_time": "2022-07-26T12:39:24.741Z"
   },
   {
    "duration": 483,
    "start_time": "2022-07-26T12:39:24.762Z"
   },
   {
    "duration": 10,
    "start_time": "2022-07-26T12:39:25.247Z"
   },
   {
    "duration": 181,
    "start_time": "2022-07-26T12:39:25.259Z"
   },
   {
    "duration": 5,
    "start_time": "2022-07-26T12:39:25.442Z"
   },
   {
    "duration": 102,
    "start_time": "2022-07-26T12:39:25.449Z"
   },
   {
    "duration": 19,
    "start_time": "2022-07-26T12:39:25.553Z"
   },
   {
    "duration": 19,
    "start_time": "2022-07-26T12:39:25.573Z"
   },
   {
    "duration": 3,
    "start_time": "2022-07-26T12:39:25.594Z"
   },
   {
    "duration": 24,
    "start_time": "2022-07-26T12:39:25.599Z"
   },
   {
    "duration": 836,
    "start_time": "2022-07-26T12:39:25.626Z"
   },
   {
    "duration": 884,
    "start_time": "2022-07-26T12:39:26.463Z"
   },
   {
    "duration": 1988,
    "start_time": "2022-07-26T12:39:27.349Z"
   },
   {
    "duration": 739,
    "start_time": "2022-07-26T12:39:29.340Z"
   },
   {
    "duration": 14,
    "start_time": "2022-07-26T12:39:30.081Z"
   },
   {
    "duration": 45,
    "start_time": "2022-07-26T12:39:30.097Z"
   },
   {
    "duration": 4642,
    "start_time": "2022-07-26T12:39:30.144Z"
   },
   {
    "duration": 4955,
    "start_time": "2022-07-26T12:39:34.788Z"
   },
   {
    "duration": 13,
    "start_time": "2022-07-26T12:39:39.744Z"
   },
   {
    "duration": 35,
    "start_time": "2022-07-26T12:39:39.759Z"
   },
   {
    "duration": 49,
    "start_time": "2022-07-26T12:39:39.795Z"
   },
   {
    "duration": 9,
    "start_time": "2022-07-26T12:39:39.846Z"
   },
   {
    "duration": 23,
    "start_time": "2022-07-26T12:39:39.856Z"
   },
   {
    "duration": 44,
    "start_time": "2022-07-26T12:39:39.881Z"
   },
   {
    "duration": 37,
    "start_time": "2022-07-26T12:39:39.927Z"
   },
   {
    "duration": 410,
    "start_time": "2022-07-26T14:07:45.626Z"
   },
   {
    "duration": 425,
    "start_time": "2022-07-26T14:07:59.809Z"
   },
   {
    "duration": 495,
    "start_time": "2022-07-26T14:08:23.835Z"
   },
   {
    "duration": 870,
    "start_time": "2022-07-26T15:22:54.809Z"
   },
   {
    "duration": 1390,
    "start_time": "2022-07-28T17:22:13.160Z"
   },
   {
    "duration": 577,
    "start_time": "2022-07-28T17:22:14.553Z"
   },
   {
    "duration": 31,
    "start_time": "2022-07-28T17:22:15.133Z"
   },
   {
    "duration": 334,
    "start_time": "2022-07-28T17:22:15.167Z"
   },
   {
    "duration": 12,
    "start_time": "2022-07-28T17:22:15.503Z"
   },
   {
    "duration": 15,
    "start_time": "2022-07-28T17:22:15.517Z"
   },
   {
    "duration": 8,
    "start_time": "2022-07-28T17:22:15.535Z"
   },
   {
    "duration": 5,
    "start_time": "2022-07-28T17:22:15.545Z"
   },
   {
    "duration": 12,
    "start_time": "2022-07-28T17:22:15.553Z"
   },
   {
    "duration": 5,
    "start_time": "2022-07-28T17:22:15.569Z"
   },
   {
    "duration": 55,
    "start_time": "2022-07-28T17:22:15.576Z"
   },
   {
    "duration": 4,
    "start_time": "2022-07-28T17:22:15.633Z"
   },
   {
    "duration": 27,
    "start_time": "2022-07-28T17:22:15.639Z"
   },
   {
    "duration": 37,
    "start_time": "2022-07-28T17:22:15.668Z"
   },
   {
    "duration": 9,
    "start_time": "2022-07-28T17:22:15.707Z"
   },
   {
    "duration": 13,
    "start_time": "2022-07-28T17:22:15.718Z"
   },
   {
    "duration": 91,
    "start_time": "2022-07-28T17:22:15.733Z"
   },
   {
    "duration": 25,
    "start_time": "2022-07-28T17:22:15.826Z"
   },
   {
    "duration": 155,
    "start_time": "2022-07-28T17:22:15.852Z"
   },
   {
    "duration": 97,
    "start_time": "2022-07-28T17:22:16.009Z"
   },
   {
    "duration": 18,
    "start_time": "2022-07-28T17:22:16.109Z"
   },
   {
    "duration": 83,
    "start_time": "2022-07-28T17:22:16.129Z"
   },
   {
    "duration": 2407,
    "start_time": "2022-07-28T17:22:16.214Z"
   },
   {
    "duration": 61,
    "start_time": "2022-07-28T17:22:18.624Z"
   },
   {
    "duration": 876,
    "start_time": "2022-07-28T17:22:18.687Z"
   },
   {
    "duration": 22,
    "start_time": "2022-07-28T17:22:19.565Z"
   },
   {
    "duration": 28,
    "start_time": "2022-07-28T17:22:19.589Z"
   },
   {
    "duration": 8,
    "start_time": "2022-07-28T17:22:19.621Z"
   },
   {
    "duration": 15,
    "start_time": "2022-07-28T17:22:19.631Z"
   },
   {
    "duration": 9,
    "start_time": "2022-07-28T17:22:19.649Z"
   },
   {
    "duration": 8,
    "start_time": "2022-07-28T17:22:19.661Z"
   },
   {
    "duration": 33,
    "start_time": "2022-07-28T17:22:19.671Z"
   },
   {
    "duration": 29,
    "start_time": "2022-07-28T17:22:19.707Z"
   },
   {
    "duration": 630,
    "start_time": "2022-07-28T17:22:19.739Z"
   },
   {
    "duration": 295,
    "start_time": "2022-07-28T17:22:20.371Z"
   },
   {
    "duration": 7,
    "start_time": "2022-07-28T17:22:20.669Z"
   },
   {
    "duration": 65,
    "start_time": "2022-07-28T17:22:20.677Z"
   },
   {
    "duration": 486,
    "start_time": "2022-07-28T17:22:20.744Z"
   },
   {
    "duration": 6,
    "start_time": "2022-07-28T17:22:21.232Z"
   },
   {
    "duration": 69,
    "start_time": "2022-07-28T17:22:21.240Z"
   },
   {
    "duration": 22,
    "start_time": "2022-07-28T17:22:21.311Z"
   },
   {
    "duration": 23,
    "start_time": "2022-07-28T17:22:21.335Z"
   },
   {
    "duration": 45,
    "start_time": "2022-07-28T17:22:21.360Z"
   },
   {
    "duration": 495,
    "start_time": "2022-07-28T17:22:21.407Z"
   },
   {
    "duration": 573,
    "start_time": "2022-07-28T17:22:21.904Z"
   },
   {
    "duration": 5,
    "start_time": "2022-07-28T17:22:22.479Z"
   },
   {
    "duration": 63,
    "start_time": "2022-07-28T17:22:22.486Z"
   },
   {
    "duration": 21,
    "start_time": "2022-07-28T17:22:22.551Z"
   },
   {
    "duration": 42,
    "start_time": "2022-07-28T17:22:22.574Z"
   },
   {
    "duration": 25,
    "start_time": "2022-07-28T17:22:22.618Z"
   },
   {
    "duration": 32,
    "start_time": "2022-07-28T17:22:22.646Z"
   },
   {
    "duration": 531,
    "start_time": "2022-07-28T17:22:22.681Z"
   },
   {
    "duration": 15,
    "start_time": "2022-07-28T17:22:23.215Z"
   },
   {
    "duration": 234,
    "start_time": "2022-07-28T17:22:23.233Z"
   },
   {
    "duration": 7,
    "start_time": "2022-07-28T17:22:23.469Z"
   },
   {
    "duration": 111,
    "start_time": "2022-07-28T17:22:23.478Z"
   },
   {
    "duration": 33,
    "start_time": "2022-07-28T17:22:23.591Z"
   },
   {
    "duration": 24,
    "start_time": "2022-07-28T17:22:23.626Z"
   },
   {
    "duration": 5,
    "start_time": "2022-07-28T17:22:23.652Z"
   },
   {
    "duration": 9,
    "start_time": "2022-07-28T17:22:23.659Z"
   },
   {
    "duration": 1017,
    "start_time": "2022-07-28T17:22:23.704Z"
   },
   {
    "duration": 1026,
    "start_time": "2022-07-28T17:22:24.724Z"
   },
   {
    "duration": 2081,
    "start_time": "2022-07-28T17:22:25.752Z"
   },
   {
    "duration": 834,
    "start_time": "2022-07-28T17:22:27.835Z"
   },
   {
    "duration": 18,
    "start_time": "2022-07-28T17:22:28.672Z"
   },
   {
    "duration": 29,
    "start_time": "2022-07-28T17:22:28.705Z"
   },
   {
    "duration": 5999,
    "start_time": "2022-07-28T17:22:28.736Z"
   },
   {
    "duration": 5703,
    "start_time": "2022-07-28T17:22:34.737Z"
   },
   {
    "duration": 14,
    "start_time": "2022-07-28T17:22:40.442Z"
   },
   {
    "duration": 52,
    "start_time": "2022-07-28T17:22:40.458Z"
   },
   {
    "duration": 35,
    "start_time": "2022-07-28T17:22:40.512Z"
   },
   {
    "duration": 32,
    "start_time": "2022-07-28T17:22:40.550Z"
   },
   {
    "duration": 61,
    "start_time": "2022-07-28T17:22:40.584Z"
   },
   {
    "duration": 40,
    "start_time": "2022-07-28T17:22:40.647Z"
   },
   {
    "duration": 59,
    "start_time": "2022-07-28T17:22:40.689Z"
   }
  ],
  "kernelspec": {
   "display_name": "Python 3.10.2 64-bit",
   "language": "python",
   "name": "python3"
  },
  "language_info": {
   "codemirror_mode": {
    "name": "ipython",
    "version": 3
   },
   "file_extension": ".py",
   "mimetype": "text/x-python",
   "name": "python",
   "nbconvert_exporter": "python",
   "pygments_lexer": "ipython3",
   "version": "3.10.2"
  },
  "toc": {
   "base_numbering": 1,
   "nav_menu": {},
   "number_sections": true,
   "sideBar": true,
   "skip_h1_title": true,
   "title_cell": "Содержание",
   "title_sidebar": "Contents",
   "toc_cell": true,
   "toc_position": {
    "height": "429.333px",
    "left": "160px",
    "top": "182.125px",
    "width": "165px"
   },
   "toc_section_display": true,
   "toc_window_display": true
  },
  "vscode": {
   "interpreter": {
    "hash": "369f2c481f4da34e4445cda3fffd2e751bd1c4d706f27375911949ba6bb62e1c"
   }
  }
 },
 "nbformat": 4,
 "nbformat_minor": 4
}
