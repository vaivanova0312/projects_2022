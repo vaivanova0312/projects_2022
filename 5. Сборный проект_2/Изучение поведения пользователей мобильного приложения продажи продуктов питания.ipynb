{
 "cells": [
  {
   "cell_type": "markdown",
   "metadata": {
    "toc": true
   },
   "source": [
    "<h1>Содержание<span class=\"tocSkip\"></span></h1>\n",
    "<div class=\"toc\"><ul class=\"toc-item\"><li><span><a href=\"#Изучение-общей-информации\" data-toc-modified-id=\"Изучение-общей-информации-1\"><span class=\"toc-item-num\">1&nbsp;&nbsp;</span>Изучение общей информации</a></span><ul class=\"toc-item\"><li><span><a href=\"#Вывод\" data-toc-modified-id=\"Вывод-1.1\"><span class=\"toc-item-num\">1.1&nbsp;&nbsp;</span>Вывод</a></span></li></ul></li><li><span><a href=\"#Подготовка-данных\" data-toc-modified-id=\"Подготовка-данных-2\"><span class=\"toc-item-num\">2&nbsp;&nbsp;</span>Подготовка данных</a></span><ul class=\"toc-item\"><li><span><a href=\"#Стиль-заголовков\" data-toc-modified-id=\"Стиль-заголовков-2.1\"><span class=\"toc-item-num\">2.1&nbsp;&nbsp;</span>Стиль заголовков</a></span></li><li><span><a href=\"#Замена-типа-данных-и-добавление-столбца\" data-toc-modified-id=\"Замена-типа-данных-и-добавление-столбца-2.2\"><span class=\"toc-item-num\">2.2&nbsp;&nbsp;</span>Замена типа данных и добавление столбца</a></span></li><li><span><a href=\"#Обработка-дубликатов\" data-toc-modified-id=\"Обработка-дубликатов-2.3\"><span class=\"toc-item-num\">2.3&nbsp;&nbsp;</span>Обработка дубликатов</a></span></li><li><span><a href=\"#Вывод\" data-toc-modified-id=\"Вывод-2.4\"><span class=\"toc-item-num\">2.4&nbsp;&nbsp;</span>Вывод</a></span></li></ul></li><li><span><a href=\"#Изучение-и-проверка-данных\" data-toc-modified-id=\"Изучение-и-проверка-данных-3\"><span class=\"toc-item-num\">3&nbsp;&nbsp;</span>Изучение и проверка данных</a></span><ul class=\"toc-item\"><li><span><a href=\"#Вывод\" data-toc-modified-id=\"Вывод-3.1\"><span class=\"toc-item-num\">3.1&nbsp;&nbsp;</span>Вывод</a></span></li></ul></li><li><span><a href=\"#Изучение-воронки-событий\" data-toc-modified-id=\"Изучение-воронки-событий-4\"><span class=\"toc-item-num\">4&nbsp;&nbsp;</span>Изучение воронки событий</a></span><ul class=\"toc-item\"><li><span><a href=\"#Вывод\" data-toc-modified-id=\"Вывод-4.1\"><span class=\"toc-item-num\">4.1&nbsp;&nbsp;</span>Вывод</a></span></li></ul></li><li><span><a href=\"#Изучение-результатов-A/A/B-эксперимента\" data-toc-modified-id=\"Изучение-результатов-A/A/B-эксперимента-5\"><span class=\"toc-item-num\">5&nbsp;&nbsp;</span>Изучение результатов A/A/B-эксперимента</a></span><ul class=\"toc-item\"><li><span><a href=\"#Вывод\" data-toc-modified-id=\"Вывод-5.1\"><span class=\"toc-item-num\">5.1&nbsp;&nbsp;</span>Вывод</a></span></li></ul></li><li><span><a href=\"#Общий-вывод\" data-toc-modified-id=\"Общий-вывод-6\"><span class=\"toc-item-num\">6&nbsp;&nbsp;</span>Общий вывод</a></span></li></ul></div>"
   ]
  },
  {
   "cell_type": "markdown",
   "metadata": {},
   "source": [
    "# Изучение поведения пользователей мобильного приложения продажи продуктов питания"
   ]
  },
  {
   "cell_type": "markdown",
   "metadata": {},
   "source": [
    "Запрос от стартапа, который продаёт продукты питания. Нужно разобраться, как ведут себя пользователи мобильного приложения.\n",
    "Узнать, как пользователи доходят до покупки. Сколько пользователей доходит до покупки, а сколько — «застревает» на предыдущих шагах? На каких именно?\n",
    "Также дизайнеры захотели поменять шрифты во всём приложении, а менеджеры испугались, что пользователям будет непривычно. Договорились принять решение по результатам A/A/B-теста. Пользователей разбили на 3 группы: 2 контрольные со старыми шрифтами и одну экспериментальную — с новыми. \n",
    "\n",
    "**Цель исследования**\n",
    "\n",
    "- Изучить воронку продаж, чтобы разобраться как ведут себя пользователи;\n",
    "- Исследовать результаты A/A/B-теста, чтобы определить какой шрифт лучше.\n",
    "\n",
    "\n",
    "**Ход исследования**\n",
    "\n",
    "Получим данные о действиях пользователей и событиях из файла: /datasets/logs_exp.csv\n",
    " \n",
    "О качестве данных ничего не известно. Поэтому перед подготовкой ответов понадобится обзор данных.\n",
    "Проверим данные на ошибки и оценим их влияние на исследование. Затем, на этапе предобработки исправим самые критичные ошибки данных.\n",
    " \n",
    "Таким образом, исследование пройдёт в пять этапов:\n",
    "   1. Обзор данных.\n",
    "   2. Подготовка данных.\n",
    "   3. Изучение и проверка данных.\n",
    "   4. Изучение воронки событий.\n",
    "   5. Изучение результатов A/A/B-эксперимента."
   ]
  },
  {
   "cell_type": "markdown",
   "metadata": {},
   "source": [
    "## Изучение общей информации"
   ]
  },
  {
   "cell_type": "markdown",
   "metadata": {},
   "source": [
    "Составим первое представление о действиях пользователей и событиях."
   ]
  },
  {
   "cell_type": "code",
   "execution_count": 1,
   "metadata": {},
   "outputs": [],
   "source": [
    "from datetime import datetime, timedelta # импорт функций для работы со временем\n",
    "from scipy import stats as st # импорт функций для работы со статистикой\n",
    "import pandas as pd # импорт библиотеки pandas\n",
    "import matplotlib.pyplot as plt # импорт библиотеки matplotlib\n",
    "import numpy as np # импорт библиотеки numpy\n",
    "import seaborn as sns # импорт библиотеки seaborn\n",
    "import plotly.express as px # импорт библиотеки plotly\n",
    "import math as mth # импорт библиотеки math"
   ]
  },
  {
   "cell_type": "markdown",
   "metadata": {},
   "source": [
    "Прочитаем файл `logs_exp.csv` из папки `/datasets`, сохраним их в переменных `logs` и получим общую информацию о таблицах:"
   ]
  },
  {
   "cell_type": "code",
   "execution_count": 2,
   "metadata": {},
   "outputs": [
    {
     "data": {
      "text/html": [
       "<div>\n",
       "<style scoped>\n",
       "    .dataframe tbody tr th:only-of-type {\n",
       "        vertical-align: middle;\n",
       "    }\n",
       "\n",
       "    .dataframe tbody tr th {\n",
       "        vertical-align: top;\n",
       "    }\n",
       "\n",
       "    .dataframe thead th {\n",
       "        text-align: right;\n",
       "    }\n",
       "</style>\n",
       "<table border=\"1\" class=\"dataframe\">\n",
       "  <thead>\n",
       "    <tr style=\"text-align: right;\">\n",
       "      <th></th>\n",
       "      <th>EventName</th>\n",
       "      <th>DeviceIDHash</th>\n",
       "      <th>EventTimestamp</th>\n",
       "      <th>ExpId</th>\n",
       "    </tr>\n",
       "  </thead>\n",
       "  <tbody>\n",
       "    <tr>\n",
       "      <th>0</th>\n",
       "      <td>MainScreenAppear</td>\n",
       "      <td>4575588528974610257</td>\n",
       "      <td>1564029816</td>\n",
       "      <td>246</td>\n",
       "    </tr>\n",
       "    <tr>\n",
       "      <th>1</th>\n",
       "      <td>MainScreenAppear</td>\n",
       "      <td>7416695313311560658</td>\n",
       "      <td>1564053102</td>\n",
       "      <td>246</td>\n",
       "    </tr>\n",
       "    <tr>\n",
       "      <th>2</th>\n",
       "      <td>PaymentScreenSuccessful</td>\n",
       "      <td>3518123091307005509</td>\n",
       "      <td>1564054127</td>\n",
       "      <td>248</td>\n",
       "    </tr>\n",
       "    <tr>\n",
       "      <th>3</th>\n",
       "      <td>CartScreenAppear</td>\n",
       "      <td>3518123091307005509</td>\n",
       "      <td>1564054127</td>\n",
       "      <td>248</td>\n",
       "    </tr>\n",
       "    <tr>\n",
       "      <th>4</th>\n",
       "      <td>PaymentScreenSuccessful</td>\n",
       "      <td>6217807653094995999</td>\n",
       "      <td>1564055322</td>\n",
       "      <td>248</td>\n",
       "    </tr>\n",
       "    <tr>\n",
       "      <th>5</th>\n",
       "      <td>CartScreenAppear</td>\n",
       "      <td>6217807653094995999</td>\n",
       "      <td>1564055323</td>\n",
       "      <td>248</td>\n",
       "    </tr>\n",
       "    <tr>\n",
       "      <th>6</th>\n",
       "      <td>OffersScreenAppear</td>\n",
       "      <td>8351860793733343758</td>\n",
       "      <td>1564066242</td>\n",
       "      <td>246</td>\n",
       "    </tr>\n",
       "    <tr>\n",
       "      <th>7</th>\n",
       "      <td>MainScreenAppear</td>\n",
       "      <td>5682100281902512875</td>\n",
       "      <td>1564085677</td>\n",
       "      <td>246</td>\n",
       "    </tr>\n",
       "    <tr>\n",
       "      <th>8</th>\n",
       "      <td>MainScreenAppear</td>\n",
       "      <td>1850981295691852772</td>\n",
       "      <td>1564086702</td>\n",
       "      <td>247</td>\n",
       "    </tr>\n",
       "    <tr>\n",
       "      <th>9</th>\n",
       "      <td>MainScreenAppear</td>\n",
       "      <td>5407636962369102641</td>\n",
       "      <td>1564112112</td>\n",
       "      <td>246</td>\n",
       "    </tr>\n",
       "  </tbody>\n",
       "</table>\n",
       "</div>"
      ],
      "text/plain": [
       "                 EventName         DeviceIDHash  EventTimestamp  ExpId\n",
       "0         MainScreenAppear  4575588528974610257      1564029816    246\n",
       "1         MainScreenAppear  7416695313311560658      1564053102    246\n",
       "2  PaymentScreenSuccessful  3518123091307005509      1564054127    248\n",
       "3         CartScreenAppear  3518123091307005509      1564054127    248\n",
       "4  PaymentScreenSuccessful  6217807653094995999      1564055322    248\n",
       "5         CartScreenAppear  6217807653094995999      1564055323    248\n",
       "6       OffersScreenAppear  8351860793733343758      1564066242    246\n",
       "7         MainScreenAppear  5682100281902512875      1564085677    246\n",
       "8         MainScreenAppear  1850981295691852772      1564086702    247\n",
       "9         MainScreenAppear  5407636962369102641      1564112112    246"
      ]
     },
     "execution_count": 2,
     "metadata": {},
     "output_type": "execute_result"
    }
   ],
   "source": [
    "logs = pd.read_csv('https://code.s3.yandex.net/datasets/logs_exp.csv', sep='\\t') # чтение файла с данными и сохранение в logs\n",
    "logs.head(10) # получение первых 10 строк таблицы logs"
   ]
  },
  {
   "cell_type": "code",
   "execution_count": 3,
   "metadata": {},
   "outputs": [
    {
     "name": "stdout",
     "output_type": "stream",
     "text": [
      "<class 'pandas.core.frame.DataFrame'>\n",
      "RangeIndex: 244126 entries, 0 to 244125\n",
      "Data columns (total 4 columns):\n",
      " #   Column          Non-Null Count   Dtype \n",
      "---  ------          --------------   ----- \n",
      " 0   EventName       244126 non-null  object\n",
      " 1   DeviceIDHash    244126 non-null  int64 \n",
      " 2   EventTimestamp  244126 non-null  int64 \n",
      " 3   ExpId           244126 non-null  int64 \n",
      "dtypes: int64(3), object(1)\n",
      "memory usage: 7.5+ MB\n"
     ]
    }
   ],
   "source": [
    "logs.info() # получение общей информации о данных в таблице logs"
   ]
  },
  {
   "cell_type": "markdown",
   "metadata": {},
   "source": [
    "В таблице `logs` четыре столбца. \n",
    "\n",
    "Тип данных в одном столбце — `object` и три столбца - `int64`.\n",
    "\n",
    "Согласно документации к данным:\n",
    "\n",
    "* `EventName` — название события;\n",
    "* `DeviceIDHash` — уникальный идентификатор пользователя;\n",
    "* `EventTimestamp`— время события;\n",
    "* `ExpId` — номер эксперимента: 246 и 247 — контрольные группы, а 248 — экспериментальная.\n",
    "\n",
    "В названии колонок видны два нарушения стиля:\n",
    "\n",
    "1. Строчные буквы сочетаются с прописными.\n",
    "2. Отсутсвует разделение знаком нижнего подчеркивания в имени, состоящем нескольких слов.\n",
    "\n",
    "А в столбце `EventTimestamp` присутствует несоответствие типа данных."
   ]
  },
  {
   "cell_type": "markdown",
   "metadata": {},
   "source": [
    "### Вывод"
   ]
  },
  {
   "cell_type": "markdown",
   "metadata": {},
   "source": [
    "В каждой строке таблицы —  это данные о действиях пользователей или событиях. Часть колонок описывает пользователя: уникальный идентификатор. Остальные данные рассказывают о событиях: название, время события и номер эксперимента.\n",
    "\n",
    "Предварительно можно утверждать, что, данных достаточно для решения задач. Но встречается несоответствие типа данных, а в названиях колонок — расхождения с хорошим стилем.\n",
    "\n",
    "Чтобы двигаться дальше, нужно устранить проблемы в данных."
   ]
  },
  {
   "cell_type": "markdown",
   "metadata": {},
   "source": [
    "## Подготовка данных"
   ]
  },
  {
   "cell_type": "markdown",
   "metadata": {},
   "source": [
    "### Стиль заголовков"
   ]
  },
  {
   "cell_type": "markdown",
   "metadata": {},
   "source": [
    "Выведем на экран названия столбцов:"
   ]
  },
  {
   "cell_type": "code",
   "execution_count": 4,
   "metadata": {},
   "outputs": [
    {
     "name": "stdout",
     "output_type": "stream",
     "text": [
      "Index(['EventName', 'DeviceIDHash', 'EventTimestamp', 'ExpId'], dtype='object')\n"
     ]
    }
   ],
   "source": [
    "print(logs.columns) # перечень названий столбцов таблицы logs"
   ]
  },
  {
   "cell_type": "markdown",
   "metadata": {},
   "source": [
    "Приведем названия в соответствие с хорошим стилем, все символы сделайте строчными и запишем \"змеиным регистром\".\n",
    "\n",
    "Для этого переименуем колонки так:\n",
    "* `'EventName'` → `'event_name'`;\n",
    "* `'DeviceIDHash'` → `'user_id'`;\n",
    "* `'EventTimestamp'` → `'event_time'`;\n",
    "* `'ExpId'` → `'exp_id'`."
   ]
  },
  {
   "cell_type": "code",
   "execution_count": 5,
   "metadata": {},
   "outputs": [],
   "source": [
    "# переименование столбцов  в таблице logs\n",
    "logs = logs.rename(columns={'EventName':'event_name', \n",
    "                            'DeviceIDHash':'user_id', \n",
    "                            'EventTimestamp':'event_time',\n",
    "                            'ExpId':'exp_id'}) "
   ]
  },
  {
   "cell_type": "markdown",
   "metadata": {},
   "source": [
    "Проверим результат. Для этого ещё раз выведем на экран названия столбцов:"
   ]
  },
  {
   "cell_type": "code",
   "execution_count": 6,
   "metadata": {},
   "outputs": [
    {
     "name": "stdout",
     "output_type": "stream",
     "text": [
      "Index(['event_name', 'user_id', 'event_time', 'exp_id'], dtype='object')\n"
     ]
    }
   ],
   "source": [
    "print(logs.columns) # перечень названий столбцов таблицы logs"
   ]
  },
  {
   "cell_type": "markdown",
   "metadata": {},
   "source": [
    "### Замена типа данных и добавление столбца"
   ]
  },
  {
   "cell_type": "markdown",
   "metadata": {},
   "source": [
    "В таблице в столбце `'event_time'` для дальнейшей возможности преобразования данных выполним замену типа данных на `datatime`. Для начала ещё раз убедимся в типе данных этого столбца."
   ]
  },
  {
   "cell_type": "code",
   "execution_count": 7,
   "metadata": {},
   "outputs": [
    {
     "name": "stdout",
     "output_type": "stream",
     "text": [
      "int64\n"
     ]
    }
   ],
   "source": [
    "# получение типа данных столбца\n",
    "print(logs['event_time'].dtypes)"
   ]
  },
  {
   "cell_type": "code",
   "execution_count": 8,
   "metadata": {},
   "outputs": [],
   "source": [
    "# замена типа данных\n",
    "logs['event_time'] = pd.to_datetime(logs['event_time'], unit='s')"
   ]
  },
  {
   "cell_type": "markdown",
   "metadata": {},
   "source": [
    "Убедимся, что тип данных изменился. Для этого выведем на экран повторно тип данных столбца таблицы, в котором производили замену."
   ]
  },
  {
   "cell_type": "code",
   "execution_count": 9,
   "metadata": {},
   "outputs": [
    {
     "name": "stdout",
     "output_type": "stream",
     "text": [
      "datetime64[ns]\n"
     ]
    }
   ],
   "source": [
    "# получение типа данных столбца\n",
    "print(logs['event_time'].dtypes)"
   ]
  },
  {
   "cell_type": "markdown",
   "metadata": {},
   "source": [
    "Также для удобства анализа добавим столбец с датой `'event_date'`."
   ]
  },
  {
   "cell_type": "code",
   "execution_count": 10,
   "metadata": {},
   "outputs": [],
   "source": [
    "# добавление столбца 'event_date' в формате дата\n",
    "logs['event_date'] = logs['event_time'].dt.date"
   ]
  },
  {
   "cell_type": "markdown",
   "metadata": {},
   "source": [
    "Для наглядности выгрузим первые 5 строк итоговой таблицы."
   ]
  },
  {
   "cell_type": "code",
   "execution_count": 11,
   "metadata": {},
   "outputs": [
    {
     "data": {
      "text/html": [
       "<div>\n",
       "<style scoped>\n",
       "    .dataframe tbody tr th:only-of-type {\n",
       "        vertical-align: middle;\n",
       "    }\n",
       "\n",
       "    .dataframe tbody tr th {\n",
       "        vertical-align: top;\n",
       "    }\n",
       "\n",
       "    .dataframe thead th {\n",
       "        text-align: right;\n",
       "    }\n",
       "</style>\n",
       "<table border=\"1\" class=\"dataframe\">\n",
       "  <thead>\n",
       "    <tr style=\"text-align: right;\">\n",
       "      <th></th>\n",
       "      <th>event_name</th>\n",
       "      <th>user_id</th>\n",
       "      <th>event_time</th>\n",
       "      <th>exp_id</th>\n",
       "      <th>event_date</th>\n",
       "    </tr>\n",
       "  </thead>\n",
       "  <tbody>\n",
       "    <tr>\n",
       "      <th>0</th>\n",
       "      <td>MainScreenAppear</td>\n",
       "      <td>4575588528974610257</td>\n",
       "      <td>2019-07-25 04:43:36</td>\n",
       "      <td>246</td>\n",
       "      <td>2019-07-25</td>\n",
       "    </tr>\n",
       "    <tr>\n",
       "      <th>1</th>\n",
       "      <td>MainScreenAppear</td>\n",
       "      <td>7416695313311560658</td>\n",
       "      <td>2019-07-25 11:11:42</td>\n",
       "      <td>246</td>\n",
       "      <td>2019-07-25</td>\n",
       "    </tr>\n",
       "    <tr>\n",
       "      <th>2</th>\n",
       "      <td>PaymentScreenSuccessful</td>\n",
       "      <td>3518123091307005509</td>\n",
       "      <td>2019-07-25 11:28:47</td>\n",
       "      <td>248</td>\n",
       "      <td>2019-07-25</td>\n",
       "    </tr>\n",
       "    <tr>\n",
       "      <th>3</th>\n",
       "      <td>CartScreenAppear</td>\n",
       "      <td>3518123091307005509</td>\n",
       "      <td>2019-07-25 11:28:47</td>\n",
       "      <td>248</td>\n",
       "      <td>2019-07-25</td>\n",
       "    </tr>\n",
       "    <tr>\n",
       "      <th>4</th>\n",
       "      <td>PaymentScreenSuccessful</td>\n",
       "      <td>6217807653094995999</td>\n",
       "      <td>2019-07-25 11:48:42</td>\n",
       "      <td>248</td>\n",
       "      <td>2019-07-25</td>\n",
       "    </tr>\n",
       "  </tbody>\n",
       "</table>\n",
       "</div>"
      ],
      "text/plain": [
       "                event_name              user_id          event_time  exp_id  \\\n",
       "0         MainScreenAppear  4575588528974610257 2019-07-25 04:43:36     246   \n",
       "1         MainScreenAppear  7416695313311560658 2019-07-25 11:11:42     246   \n",
       "2  PaymentScreenSuccessful  3518123091307005509 2019-07-25 11:28:47     248   \n",
       "3         CartScreenAppear  3518123091307005509 2019-07-25 11:28:47     248   \n",
       "4  PaymentScreenSuccessful  6217807653094995999 2019-07-25 11:48:42     248   \n",
       "\n",
       "   event_date  \n",
       "0  2019-07-25  \n",
       "1  2019-07-25  \n",
       "2  2019-07-25  \n",
       "3  2019-07-25  \n",
       "4  2019-07-25  "
      ]
     },
     "metadata": {},
     "output_type": "display_data"
    }
   ],
   "source": [
    "display(logs.head()) # отображение таблицы logs"
   ]
  },
  {
   "cell_type": "markdown",
   "metadata": {},
   "source": [
    "###  Обработка дубликатов"
   ]
  },
  {
   "cell_type": "markdown",
   "metadata": {},
   "source": [
    "Проверим данные на наличие пропусков."
   ]
  },
  {
   "cell_type": "code",
   "execution_count": 12,
   "metadata": {
    "scrolled": true
   },
   "outputs": [
    {
     "data": {
      "text/plain": [
       "event_name    0.0\n",
       "user_id       0.0\n",
       "event_time    0.0\n",
       "exp_id        0.0\n",
       "event_date    0.0\n",
       "dtype: float64"
      ]
     },
     "execution_count": 12,
     "metadata": {},
     "output_type": "execute_result"
    }
   ],
   "source": [
    "# подсчёт процента пропусков\n",
    "round((logs.isna().mean()*100),2)"
   ]
  },
  {
   "cell_type": "markdown",
   "metadata": {},
   "source": [
    "В полученной таблице пропуски отсутсвуют.\n",
    "\n",
    "Теперь проверим данные на нахождение пользователей одновременно в нескольких группах."
   ]
  },
  {
   "cell_type": "code",
   "execution_count": 13,
   "metadata": {},
   "outputs": [
    {
     "name": "stdout",
     "output_type": "stream",
     "text": [
      "Количество уникальных пользователей, которые одновременно находятся в 246 и 247 группах: 0\n",
      "Количество уникальных пользователей, которые одновременно находятся в 246 и 248 группах: 0\n",
      "Количество уникальных пользователей, которые одновременно находятся в 247 и 248 группах: 0\n"
     ]
    }
   ],
   "source": [
    "# создание датафреймов с уникальными пользователями в каждой группе\n",
    "logs_246 = logs[logs['exp_id'] == '246'][['exp_id', 'user_id']].drop_duplicates()\n",
    "logs_247 = logs[logs['exp_id'] == '247'][['exp_id', 'user_id']].drop_duplicates()\n",
    "logs_248 = logs[logs['exp_id'] == '248'][['exp_id', 'user_id']].drop_duplicates()\n",
    "# подсчёт уникальных пользователей, которые одновременно находятся в нескольких группах\n",
    "print('Количество уникальных пользователей, которые одновременно находятся в 246 и 247 группах: {}'\n",
    "      .format(len(logs_246.merge(logs_247, on='user_id'))))\n",
    "print('Количество уникальных пользователей, которые одновременно находятся в 246 и 248 группах: {}'\n",
    "      .format(len(logs_246.merge(logs_248, on='user_id'))))\n",
    "print('Количество уникальных пользователей, которые одновременно находятся в 247 и 248 группах: {}'\n",
    "      .format(len(logs_247.merge(logs_248, on='user_id'))))"
   ]
  },
  {
   "cell_type": "markdown",
   "metadata": {},
   "source": [
    "Данные результаты говорят о том, что при организации теста условие об участии пользователя только в одной тестовой группе было соблюдено.\n",
    "\n",
    "Сделаем проверку на наличие явных дубликатов."
   ]
  },
  {
   "cell_type": "code",
   "execution_count": 14,
   "metadata": {},
   "outputs": [
    {
     "name": "stdout",
     "output_type": "stream",
     "text": [
      "Количество явных дубликатов: 413\n",
      "Процент явных дубликатов: 0.17 %\n"
     ]
    }
   ],
   "source": [
    "# подсчёт явных дубликатов\n",
    "print(f'Количество явных дубликатов: {logs.duplicated().sum()}')\n",
    "print('Процент явных дубликатов: {} %'. format(round((logs.duplicated().mean()*100),2)))"
   ]
  },
  {
   "cell_type": "code",
   "execution_count": 15,
   "metadata": {},
   "outputs": [],
   "source": [
    "# удаление явных дубликатов (с удалением старых индексов и формированием новых)\n",
    "logs = logs.drop_duplicates().reset_index(drop=True)"
   ]
  },
  {
   "cell_type": "code",
   "execution_count": 16,
   "metadata": {},
   "outputs": [
    {
     "name": "stdout",
     "output_type": "stream",
     "text": [
      "Количество явных дубликатов: 0\n",
      "Процент явных дубликатов: 0.0 %\n"
     ]
    }
   ],
   "source": [
    "# подсчёт явных дубликатов после удаления\n",
    "print(f'Количество явных дубликатов: {logs.duplicated().sum()}')\n",
    "print('Процент явных дубликатов: {} %'. format(round((logs.duplicated().mean()*100),2)))"
   ]
  },
  {
   "cell_type": "markdown",
   "metadata": {},
   "source": [
    "### Вывод"
   ]
  },
  {
   "cell_type": "markdown",
   "metadata": {},
   "source": [
    "1. Привели названия столбцов в соответствие с хорошим стилем, все символы сделали строчными.\n",
    "\n",
    "2. Произвели замену типа данных с `int64` на `datetime64[ns]` в столбце `'event_time'`.\n",
    "\n",
    "3. Добавили столбец с датой `'event_date'`.\n",
    "\n",
    "4. Убедились в отсутсвии пропусков.\n",
    "\n",
    "5. Убедились, что каждый пользователь участвует только в одной экспериментальной группе A/A/B-теста.\n",
    "\n",
    "6. Удалили 413 явных дубликата."
   ]
  },
  {
   "cell_type": "markdown",
   "metadata": {},
   "source": [
    "## Изучение и проверка данных"
   ]
  },
  {
   "cell_type": "markdown",
   "metadata": {},
   "source": [
    "Для начала изучим имеющиеся данные. "
   ]
  },
  {
   "cell_type": "markdown",
   "metadata": {},
   "source": [
    "Посмотрим какое количество событий и пользователей в таблице, рассчитаем среднее количество событий на одного пользователя."
   ]
  },
  {
   "cell_type": "code",
   "execution_count": 17,
   "metadata": {},
   "outputs": [
    {
     "name": "stdout",
     "output_type": "stream",
     "text": [
      "Общее количество событий в логе: 243713\n"
     ]
    }
   ],
   "source": [
    "# создание переменной logs_event_count с количеством событий\n",
    "logs_event_count = logs['event_name'].count()\n",
    "print(f'Общее количество событий в логе: {logs_event_count}')"
   ]
  },
  {
   "cell_type": "code",
   "execution_count": 18,
   "metadata": {},
   "outputs": [
    {
     "name": "stdout",
     "output_type": "stream",
     "text": [
      "Уникальное количество пользователей в логе: 7551\n"
     ]
    }
   ],
   "source": [
    "# создание переменной logs_user_count с количеством пользователей\n",
    "logs_user_count = logs['user_id'].nunique()\n",
    "print(f'Уникальное количество пользователей в логе: {logs_user_count}')"
   ]
  },
  {
   "cell_type": "code",
   "execution_count": 19,
   "metadata": {},
   "outputs": [
    {
     "name": "stdout",
     "output_type": "stream",
     "text": [
      "Среднее число событий на одного пользователя: 32\n"
     ]
    }
   ],
   "source": [
    "print(f'Среднее число событий на одного пользователя: {round(logs_event_count/logs_user_count)}')"
   ]
  },
  {
   "cell_type": "markdown",
   "metadata": {},
   "source": [
    "Теперь разберемся данными за какой период мы располагаем. Для этого найдем максимальную и минимальную дату событий."
   ]
  },
  {
   "cell_type": "code",
   "execution_count": 20,
   "metadata": {},
   "outputs": [
    {
     "name": "stdout",
     "output_type": "stream",
     "text": [
      "Минимальная дата события: 2019-07-25\n",
      "Максимальная дата события: 2019-08-07\n"
     ]
    }
   ],
   "source": [
    "min_date = logs['event_date'].min()\n",
    "max_date = logs['event_date'].max() \n",
    "print(f'Минимальная дата события: {min_date}')\n",
    "print(f'Максимальная дата события: {max_date}')"
   ]
  },
  {
   "cell_type": "markdown",
   "metadata": {},
   "source": [
    " Для понимания структуры данных построим гистограмму по дате и времени. "
   ]
  },
  {
   "cell_type": "code",
   "execution_count": 21,
   "metadata": {},
   "outputs": [
    {
     "data": {
      "image/png": "[encoded data removed]",
      "text/plain": [
       "<Figure size 1500x600 with 1 Axes>"
      ]
     },
     "metadata": {},
     "output_type": "display_data"
    }
   ],
   "source": [
    "# строительство гистограммы зависимости количества событий от даты и времени\n",
    "plt.figure(figsize=(15,6))\n",
    "logs['event_time'].hist(bins=14)\n",
    "plt.xticks(rotation=45)\n",
    "plt.xlabel('Дата')\n",
    "plt.ylabel('Количество событий')\n",
    "plt.title('Гистограмма зависимости количества событий от даты и времени')\n",
    "plt.show()"
   ]
  },
  {
   "cell_type": "markdown",
   "metadata": {},
   "source": [
    "На полученном графике хорошо видно, что в данных есть некоторая граница (01-08-2019), после которой объем данных резко меняется. Рассмотрим ближе период начиная с 1 августа. Увеличим количество корзин в пропорции количества дней и часов в сутках, чтобы увидеть в какой период наибольшая активность пользователей. Также для наглядности построим гистограмму только по дате. "
   ]
  },
  {
   "cell_type": "code",
   "execution_count": 22,
   "metadata": {},
   "outputs": [
    {
     "data": {
      "image/png": "[encoded data removed]",
      "text/plain": [
       "<Figure size 2000x600 with 1 Axes>"
      ]
     },
     "metadata": {},
     "output_type": "display_data"
    }
   ],
   "source": [
    "# строительство гистограммы зависимости количества событий от даты и времени\n",
    "plt.figure(figsize=(20,6))\n",
    "logs['event_time'].hist(bins=7*24, range=('2019-08-01','2019-08-08'))\n",
    "plt.xticks(rotation=45)\n",
    "plt.xlabel('Дата')\n",
    "plt.ylabel('Количество событий')\n",
    "plt.title('Гистограмма зависимости количества событий от даты и времени')\n",
    "plt.show()"
   ]
  },
  {
   "cell_type": "markdown",
   "metadata": {},
   "source": [
    "Наибольшая активность пользователей в дневное время. Самые популярные часы в выходные дни в районе 12 часов, в будни - период с 15 до 16, чтобы получить заказ сразу по возвращению с работы домой."
   ]
  },
  {
   "cell_type": "code",
   "execution_count": 23,
   "metadata": {
    "scrolled": false
   },
   "outputs": [
    {
     "data": {
      "image/png": "[encoded data removed]",
      "text/plain": [
       "<Figure size 1500x600 with 1 Axes>"
      ]
     },
     "metadata": {},
     "output_type": "display_data"
    }
   ],
   "source": [
    "# строительство гистограммы зависимости количества событий от даты\n",
    "logs.groupby('event_date')['event_name'].count().plot(kind='bar', figsize=(15,6))\n",
    "plt.xlabel('Дата')\n",
    "plt.ylabel('Количество событий')\n",
    "plt.title('Гистограмма зависимости количества событий от даты')\n",
    "plt.show()"
   ]
  },
  {
   "cell_type": "markdown",
   "metadata": {},
   "source": [
    "У явной границы (01-08-2019), после которой объем данных резко меняется, есть объяснение. Т.к. события обычно направляются в систему с клиентских устройств (с мобильных телефонов, например), то иногда, когда устройство не в сети, оно может накапливать события и слать позже при входе в сеть. При этом момент времени, когда событие случилось и когда оно принято сервером могут сильно различаться. Для любого события хранятся, как правило, два поля с датой-временем - время отправки и время приема. В нашем случае, скорее всего, данные выгрузили по времени приема, а не по времени отправки и в датасете оставили только одно время. Поэтому будем считать все события после этой границы - актуальные, до - устаревшие. В итоге получается, что на самом деле мы располагаем данными только с 01-08-2019 по 07-08-2019 (7 дней). "
   ]
  },
  {
   "cell_type": "code",
   "execution_count": 24,
   "metadata": {},
   "outputs": [
    {
     "data": {
      "text/html": [
       "<div>\n",
       "<style scoped>\n",
       "    .dataframe tbody tr th:only-of-type {\n",
       "        vertical-align: middle;\n",
       "    }\n",
       "\n",
       "    .dataframe tbody tr th {\n",
       "        vertical-align: top;\n",
       "    }\n",
       "\n",
       "    .dataframe thead th {\n",
       "        text-align: right;\n",
       "    }\n",
       "</style>\n",
       "<table border=\"1\" class=\"dataframe\">\n",
       "  <thead>\n",
       "    <tr style=\"text-align: right;\">\n",
       "      <th></th>\n",
       "      <th>event_name</th>\n",
       "      <th>user_id</th>\n",
       "      <th>event_time</th>\n",
       "      <th>exp_id</th>\n",
       "      <th>event_date</th>\n",
       "    </tr>\n",
       "  </thead>\n",
       "  <tbody>\n",
       "    <tr>\n",
       "      <th>2826</th>\n",
       "      <td>Tutorial</td>\n",
       "      <td>3737462046622621720</td>\n",
       "      <td>2019-08-01 00:07:28</td>\n",
       "      <td>246</td>\n",
       "      <td>2019-08-01</td>\n",
       "    </tr>\n",
       "    <tr>\n",
       "      <th>2827</th>\n",
       "      <td>MainScreenAppear</td>\n",
       "      <td>3737462046622621720</td>\n",
       "      <td>2019-08-01 00:08:00</td>\n",
       "      <td>246</td>\n",
       "      <td>2019-08-01</td>\n",
       "    </tr>\n",
       "    <tr>\n",
       "      <th>2828</th>\n",
       "      <td>MainScreenAppear</td>\n",
       "      <td>3737462046622621720</td>\n",
       "      <td>2019-08-01 00:08:55</td>\n",
       "      <td>246</td>\n",
       "      <td>2019-08-01</td>\n",
       "    </tr>\n",
       "    <tr>\n",
       "      <th>2829</th>\n",
       "      <td>OffersScreenAppear</td>\n",
       "      <td>3737462046622621720</td>\n",
       "      <td>2019-08-01 00:08:58</td>\n",
       "      <td>246</td>\n",
       "      <td>2019-08-01</td>\n",
       "    </tr>\n",
       "    <tr>\n",
       "      <th>2830</th>\n",
       "      <td>MainScreenAppear</td>\n",
       "      <td>1433840883824088890</td>\n",
       "      <td>2019-08-01 00:08:59</td>\n",
       "      <td>247</td>\n",
       "      <td>2019-08-01</td>\n",
       "    </tr>\n",
       "    <tr>\n",
       "      <th>...</th>\n",
       "      <td>...</td>\n",
       "      <td>...</td>\n",
       "      <td>...</td>\n",
       "      <td>...</td>\n",
       "      <td>...</td>\n",
       "    </tr>\n",
       "    <tr>\n",
       "      <th>243708</th>\n",
       "      <td>MainScreenAppear</td>\n",
       "      <td>4599628364049201812</td>\n",
       "      <td>2019-08-07 21:12:25</td>\n",
       "      <td>247</td>\n",
       "      <td>2019-08-07</td>\n",
       "    </tr>\n",
       "    <tr>\n",
       "      <th>243709</th>\n",
       "      <td>MainScreenAppear</td>\n",
       "      <td>5849806612437486590</td>\n",
       "      <td>2019-08-07 21:13:59</td>\n",
       "      <td>246</td>\n",
       "      <td>2019-08-07</td>\n",
       "    </tr>\n",
       "    <tr>\n",
       "      <th>243710</th>\n",
       "      <td>MainScreenAppear</td>\n",
       "      <td>5746969938801999050</td>\n",
       "      <td>2019-08-07 21:14:43</td>\n",
       "      <td>246</td>\n",
       "      <td>2019-08-07</td>\n",
       "    </tr>\n",
       "    <tr>\n",
       "      <th>243711</th>\n",
       "      <td>MainScreenAppear</td>\n",
       "      <td>5746969938801999050</td>\n",
       "      <td>2019-08-07 21:14:58</td>\n",
       "      <td>246</td>\n",
       "      <td>2019-08-07</td>\n",
       "    </tr>\n",
       "    <tr>\n",
       "      <th>243712</th>\n",
       "      <td>OffersScreenAppear</td>\n",
       "      <td>5746969938801999050</td>\n",
       "      <td>2019-08-07 21:15:17</td>\n",
       "      <td>246</td>\n",
       "      <td>2019-08-07</td>\n",
       "    </tr>\n",
       "  </tbody>\n",
       "</table>\n",
       "<p>240887 rows × 5 columns</p>\n",
       "</div>"
      ],
      "text/plain": [
       "                event_name              user_id          event_time  exp_id  \\\n",
       "2826              Tutorial  3737462046622621720 2019-08-01 00:07:28     246   \n",
       "2827      MainScreenAppear  3737462046622621720 2019-08-01 00:08:00     246   \n",
       "2828      MainScreenAppear  3737462046622621720 2019-08-01 00:08:55     246   \n",
       "2829    OffersScreenAppear  3737462046622621720 2019-08-01 00:08:58     246   \n",
       "2830      MainScreenAppear  1433840883824088890 2019-08-01 00:08:59     247   \n",
       "...                    ...                  ...                 ...     ...   \n",
       "243708    MainScreenAppear  4599628364049201812 2019-08-07 21:12:25     247   \n",
       "243709    MainScreenAppear  5849806612437486590 2019-08-07 21:13:59     246   \n",
       "243710    MainScreenAppear  5746969938801999050 2019-08-07 21:14:43     246   \n",
       "243711    MainScreenAppear  5746969938801999050 2019-08-07 21:14:58     246   \n",
       "243712  OffersScreenAppear  5746969938801999050 2019-08-07 21:15:17     246   \n",
       "\n",
       "        event_date  \n",
       "2826    2019-08-01  \n",
       "2827    2019-08-01  \n",
       "2828    2019-08-01  \n",
       "2829    2019-08-01  \n",
       "2830    2019-08-01  \n",
       "...            ...  \n",
       "243708  2019-08-07  \n",
       "243709  2019-08-07  \n",
       "243710  2019-08-07  \n",
       "243711  2019-08-07  \n",
       "243712  2019-08-07  \n",
       "\n",
       "[240887 rows x 5 columns]"
      ]
     },
     "metadata": {},
     "output_type": "display_data"
    }
   ],
   "source": [
    "# создание датафрейма logs_topical только с актуальными данными, который будет использоваться для дальнейшего исследования\n",
    "logs_topical = logs[logs['event_time'] >= '2019-08-01']\n",
    "# отображение таблицы logs_topical\n",
    "display(logs_topical)"
   ]
  },
  {
   "cell_type": "markdown",
   "metadata": {},
   "source": [
    "Проверим сколько много событий и пользователей мы потеряли, отбросив старые данные."
   ]
  },
  {
   "cell_type": "code",
   "execution_count": 25,
   "metadata": {},
   "outputs": [
    {
     "name": "stdout",
     "output_type": "stream",
     "text": [
      "Устаревшее количество событий в логе: 2826\n",
      "Процент устаревших событий в логе: 1.1595606307418973%\n"
     ]
    }
   ],
   "source": [
    "# создание переменной logs_event_count_difference с разницей между общим и актуальным количеством событий \n",
    "logs_event_count_difference = logs_event_count - logs_topical['event_name'].count()\n",
    "print(f'Устаревшее количество событий в логе: {logs_event_count_difference}')\n",
    "print('Процент устаревших событий в логе: {}%'.format(logs_event_count_difference*100/logs_event_count))"
   ]
  },
  {
   "cell_type": "code",
   "execution_count": 26,
   "metadata": {},
   "outputs": [
    {
     "name": "stdout",
     "output_type": "stream",
     "text": [
      "Устаревшее количество пользователей в логе: 17\n",
      "Процент устаревших пользователей в логе: 0.22513574361011787%\n"
     ]
    }
   ],
   "source": [
    "# создание переменной logs_user_count_difference с разницей между общим и актуальным количеством пользователей\n",
    "logs_user_count_difference = logs_user_count - logs_topical['user_id'].nunique()\n",
    "print(f'Устаревшее количество пользователей в логе: {logs_user_count_difference}')\n",
    "print('Процент устаревших пользователей в логе: {}%'.format(logs_user_count_difference*100/logs_user_count))"
   ]
  },
  {
   "cell_type": "markdown",
   "metadata": {},
   "source": [
    "По полученным расчетам хорошо видно, что процент устаревших событий и пользователей совсем незначительный около 1%.\n",
    "\n",
    "Осталось проверить, что у нас есть пользователи из всех трёх экспериментальных групп. Для этого сгруппируем данные по их номеру и подсчитаем уникальное количество пользователей в каждой."
   ]
  },
  {
   "cell_type": "code",
   "execution_count": 27,
   "metadata": {},
   "outputs": [
    {
     "data": {
      "text/html": [
       "<div>\n",
       "<style scoped>\n",
       "    .dataframe tbody tr th:only-of-type {\n",
       "        vertical-align: middle;\n",
       "    }\n",
       "\n",
       "    .dataframe tbody tr th {\n",
       "        vertical-align: top;\n",
       "    }\n",
       "\n",
       "    .dataframe thead th {\n",
       "        text-align: right;\n",
       "    }\n",
       "</style>\n",
       "<table border=\"1\" class=\"dataframe\">\n",
       "  <thead>\n",
       "    <tr style=\"text-align: right;\">\n",
       "      <th></th>\n",
       "      <th>№_group</th>\n",
       "      <th>user_count</th>\n",
       "    </tr>\n",
       "  </thead>\n",
       "  <tbody>\n",
       "    <tr>\n",
       "      <th>0</th>\n",
       "      <td>246</td>\n",
       "      <td>2484</td>\n",
       "    </tr>\n",
       "    <tr>\n",
       "      <th>1</th>\n",
       "      <td>247</td>\n",
       "      <td>2513</td>\n",
       "    </tr>\n",
       "    <tr>\n",
       "      <th>2</th>\n",
       "      <td>248</td>\n",
       "      <td>2537</td>\n",
       "    </tr>\n",
       "  </tbody>\n",
       "</table>\n",
       "</div>"
      ],
      "text/plain": [
       "   №_group  user_count\n",
       "0      246        2484\n",
       "1      247        2513\n",
       "2      248        2537"
      ]
     },
     "metadata": {},
     "output_type": "display_data"
    }
   ],
   "source": [
    "# подсчет количества уникальных пользователей в каждой группе\n",
    "group = (\n",
    "    logs_topical.groupby('exp_id', as_index=False) # группировка по номеру группы\n",
    "    .agg({'user_id': 'nunique'})   # подсчет количества пользователей\n",
    "    .rename(columns={'exp_id': '№_group', 'user_id': 'user_count'})  # переименование столбцов\n",
    ")\n",
    "# отображение таблицы\n",
    "display(group)    "
   ]
  },
  {
   "cell_type": "markdown",
   "metadata": {},
   "source": [
    "По данным из полученной таблицы видно, что уникальные пользователи есть во всех трех группах."
   ]
  },
  {
   "cell_type": "markdown",
   "metadata": {},
   "source": [
    "### Вывод"
   ]
  },
  {
   "cell_type": "markdown",
   "metadata": {},
   "source": [
    "1. В логе 243713 событий.\n",
    "\n",
    "2. В логе уникальных 7551 пользователя.\n",
    "\n",
    "3. В среднем на одного пользователя приходится 32 события.\n",
    "\n",
    "4. В логе данные за период с 2019-07-25 по 2019-08-07, из которых устаревшие данные до 2019-08-01.\n",
    "\n",
    "5. Устаревшие события (2826) и пользователи (17) составляют около 1% от общего количества. Исключили их из дальнейшего анализа.\n",
    "\n",
    "6. Наибольшая активность пользователей в дневное время. ЧНН в выходные дни в районе 12 часов, в будни - период с 15 до 16.\n",
    "\n",
    "7. Убедились, что есть пользователи из всех трёх экспериментальных групп."
   ]
  },
  {
   "cell_type": "markdown",
   "metadata": {},
   "source": [
    "\n",
    "\n"
   ]
  },
  {
   "cell_type": "markdown",
   "metadata": {},
   "source": [
    "## Изучение воронки событий"
   ]
  },
  {
   "cell_type": "markdown",
   "metadata": {},
   "source": [
    "Посмотрим, какие события есть в логах, как часто они встречаются. Для этого сделаем группировку по названию событий и посчитаем их количество и отсортируем по убыванию. Сохраним полученные данные в таблице `events_count`."
   ]
  },
  {
   "cell_type": "code",
   "execution_count": 28,
   "metadata": {},
   "outputs": [
    {
     "data": {
      "text/html": [
       "<div>\n",
       "<style scoped>\n",
       "    .dataframe tbody tr th:only-of-type {\n",
       "        vertical-align: middle;\n",
       "    }\n",
       "\n",
       "    .dataframe tbody tr th {\n",
       "        vertical-align: top;\n",
       "    }\n",
       "\n",
       "    .dataframe thead th {\n",
       "        text-align: right;\n",
       "    }\n",
       "</style>\n",
       "<table border=\"1\" class=\"dataframe\">\n",
       "  <thead>\n",
       "    <tr style=\"text-align: right;\">\n",
       "      <th></th>\n",
       "      <th>event_name</th>\n",
       "      <th>event_count</th>\n",
       "    </tr>\n",
       "  </thead>\n",
       "  <tbody>\n",
       "    <tr>\n",
       "      <th>0</th>\n",
       "      <td>MainScreenAppear</td>\n",
       "      <td>117328</td>\n",
       "    </tr>\n",
       "    <tr>\n",
       "      <th>1</th>\n",
       "      <td>OffersScreenAppear</td>\n",
       "      <td>46333</td>\n",
       "    </tr>\n",
       "    <tr>\n",
       "      <th>2</th>\n",
       "      <td>CartScreenAppear</td>\n",
       "      <td>42303</td>\n",
       "    </tr>\n",
       "    <tr>\n",
       "      <th>3</th>\n",
       "      <td>PaymentScreenSuccessful</td>\n",
       "      <td>33918</td>\n",
       "    </tr>\n",
       "    <tr>\n",
       "      <th>4</th>\n",
       "      <td>Tutorial</td>\n",
       "      <td>1005</td>\n",
       "    </tr>\n",
       "  </tbody>\n",
       "</table>\n",
       "</div>"
      ],
      "text/plain": [
       "                event_name  event_count\n",
       "0         MainScreenAppear       117328\n",
       "1       OffersScreenAppear        46333\n",
       "2         CartScreenAppear        42303\n",
       "3  PaymentScreenSuccessful        33918\n",
       "4                 Tutorial         1005"
      ]
     },
     "metadata": {},
     "output_type": "display_data"
    }
   ],
   "source": [
    "# вычисление количества повторений каждого события в логе\n",
    "events_count = (\n",
    "    logs_topical.groupby('event_name', as_index=False) # группировка наименований событий\n",
    "    .agg({'user_id':'count'})          # подсчет количества повторений\n",
    "    .rename(columns={'user_id':'event_count'})   # переименование столбца\n",
    "    .sort_values(by='event_count', ascending=False)   # сортировка по убыванию\n",
    "    .reset_index(drop=True) # обновление индексации с удалением старой\n",
    ")\n",
    "# отображение таблицы events_count\n",
    "display(events_count)"
   ]
  },
  {
   "cell_type": "markdown",
   "metadata": {},
   "source": [
    "Неудивительно, что самое распространенное событие - экран главной страницы, а инструкции, что-то совсем не пользуются спросом.\n",
    "\n",
    "Теперь посчитаем, сколько пользователей совершали каждое из этих событий. Также сделаем группировку по названию событий и посчитаем уникальных пользователей для каждого. Отсортируем события по числу пользователей. Затем посчитаем долю пользователей, которые хоть раз совершали событие. Для этого рассчитаем отношение количества посетителей на определённом шаге к общему количеству посетителей. Все полученные данные сохраним в таблице `users_count`."
   ]
  },
  {
   "cell_type": "code",
   "execution_count": 29,
   "metadata": {},
   "outputs": [
    {
     "data": {
      "text/html": [
       "<div>\n",
       "<style scoped>\n",
       "    .dataframe tbody tr th:only-of-type {\n",
       "        vertical-align: middle;\n",
       "    }\n",
       "\n",
       "    .dataframe tbody tr th {\n",
       "        vertical-align: top;\n",
       "    }\n",
       "\n",
       "    .dataframe thead th {\n",
       "        text-align: right;\n",
       "    }\n",
       "</style>\n",
       "<table border=\"1\" class=\"dataframe\">\n",
       "  <thead>\n",
       "    <tr style=\"text-align: right;\">\n",
       "      <th></th>\n",
       "      <th>event_name</th>\n",
       "      <th>users_count</th>\n",
       "      <th>conversion,%</th>\n",
       "    </tr>\n",
       "  </thead>\n",
       "  <tbody>\n",
       "    <tr>\n",
       "      <th>0</th>\n",
       "      <td>MainScreenAppear</td>\n",
       "      <td>7419</td>\n",
       "      <td>98.5</td>\n",
       "    </tr>\n",
       "    <tr>\n",
       "      <th>1</th>\n",
       "      <td>OffersScreenAppear</td>\n",
       "      <td>4593</td>\n",
       "      <td>61.0</td>\n",
       "    </tr>\n",
       "    <tr>\n",
       "      <th>2</th>\n",
       "      <td>CartScreenAppear</td>\n",
       "      <td>3734</td>\n",
       "      <td>49.6</td>\n",
       "    </tr>\n",
       "    <tr>\n",
       "      <th>3</th>\n",
       "      <td>PaymentScreenSuccessful</td>\n",
       "      <td>3539</td>\n",
       "      <td>47.0</td>\n",
       "    </tr>\n",
       "    <tr>\n",
       "      <th>4</th>\n",
       "      <td>Tutorial</td>\n",
       "      <td>840</td>\n",
       "      <td>11.1</td>\n",
       "    </tr>\n",
       "  </tbody>\n",
       "</table>\n",
       "</div>"
      ],
      "text/plain": [
       "                event_name  users_count  conversion,%\n",
       "0         MainScreenAppear         7419          98.5\n",
       "1       OffersScreenAppear         4593          61.0\n",
       "2         CartScreenAppear         3734          49.6\n",
       "3  PaymentScreenSuccessful         3539          47.0\n",
       "4                 Tutorial          840          11.1"
      ]
     },
     "metadata": {},
     "output_type": "display_data"
    },
    {
     "data": {
      "application/vnd.plotly.v1+json": {
       "config": {
        "plotlyServerURL": "https://plot.ly"
       },
       "data": [
        {
         "hovertemplate": "conversion,%=%{x}<br>event_name=%{y}<extra></extra>",
         "legendgroup": "",
         "marker": {
          "color": "#636efa"
         },
         "name": "",
         "orientation": "h",
         "showlegend": false,
         "type": "funnel",
         "x": [
          98.5,
          61,
          49.6,
          47,
          11.1
         ],
         "xaxis": "x",
         "y": [
          "MainScreenAppear",
          "OffersScreenAppear",
          "CartScreenAppear",
          "PaymentScreenSuccessful",
          "Tutorial"
         ],
         "yaxis": "y"
        }
       ],
       "layout": {
        "legend": {
         "tracegroupgap": 0
        },
        "template": {
         "data": {
          "bar": [
           {
            "error_x": {
             "color": "#2a3f5f"
            },
            "error_y": {
             "color": "#2a3f5f"
            },
            "marker": {
             "line": {
              "color": "#E5ECF6",
              "width": 0.5
             },
             "pattern": {
              "fillmode": "overlay",
              "size": 10,
              "solidity": 0.2
             }
            },
            "type": "bar"
           }
          ],
          "barpolar": [
           {
            "marker": {
             "line": {
              "color": "#E5ECF6",
              "width": 0.5
             },
             "pattern": {
              "fillmode": "overlay",
              "size": 10,
              "solidity": 0.2
             }
            },
            "type": "barpolar"
           }
          ],
          "carpet": [
           {
            "aaxis": {
             "endlinecolor": "#2a3f5f",
             "gridcolor": "white",
             "linecolor": "white",
             "minorgridcolor": "white",
             "startlinecolor": "#2a3f5f"
            },
            "baxis": {
             "endlinecolor": "#2a3f5f",
             "gridcolor": "white",
             "linecolor": "white",
             "minorgridcolor": "white",
             "startlinecolor": "#2a3f5f"
            },
            "type": "carpet"
           }
          ],
          "choropleth": [
           {
            "colorbar": {
             "outlinewidth": 0,
             "ticks": ""
            },
            "type": "choropleth"
           }
          ],
          "contour": [
           {
            "colorbar": {
             "outlinewidth": 0,
             "ticks": ""
            },
            "colorscale": [
             [
              0,
              "#0d0887"
             ],
             [
              0.1111111111111111,
              "#46039f"
             ],
             [
              0.2222222222222222,
              "#7201a8"
             ],
             [
              0.3333333333333333,
              "#9c179e"
             ],
             [
              0.4444444444444444,
              "#bd3786"
             ],
             [
              0.5555555555555556,
              "#d8576b"
             ],
             [
              0.6666666666666666,
              "#ed7953"
             ],
             [
              0.7777777777777778,
              "#fb9f3a"
             ],
             [
              0.8888888888888888,
              "#fdca26"
             ],
             [
              1,
              "#f0f921"
             ]
            ],
            "type": "contour"
           }
          ],
          "contourcarpet": [
           {
            "colorbar": {
             "outlinewidth": 0,
             "ticks": ""
            },
            "type": "contourcarpet"
           }
          ],
          "heatmap": [
           {
            "colorbar": {
             "outlinewidth": 0,
             "ticks": ""
            },
            "colorscale": [
             [
              0,
              "#0d0887"
             ],
             [
              0.1111111111111111,
              "#46039f"
             ],
             [
              0.2222222222222222,
              "#7201a8"
             ],
             [
              0.3333333333333333,
              "#9c179e"
             ],
             [
              0.4444444444444444,
              "#bd3786"
             ],
             [
              0.5555555555555556,
              "#d8576b"
             ],
             [
              0.6666666666666666,
              "#ed7953"
             ],
             [
              0.7777777777777778,
              "#fb9f3a"
             ],
             [
              0.8888888888888888,
              "#fdca26"
             ],
             [
              1,
              "#f0f921"
             ]
            ],
            "type": "heatmap"
           }
          ],
          "heatmapgl": [
           {
            "colorbar": {
             "outlinewidth": 0,
             "ticks": ""
            },
            "colorscale": [
             [
              0,
              "#0d0887"
             ],
             [
              0.1111111111111111,
              "#46039f"
             ],
             [
              0.2222222222222222,
              "#7201a8"
             ],
             [
              0.3333333333333333,
              "#9c179e"
             ],
             [
              0.4444444444444444,
              "#bd3786"
             ],
             [
              0.5555555555555556,
              "#d8576b"
             ],
             [
              0.6666666666666666,
              "#ed7953"
             ],
             [
              0.7777777777777778,
              "#fb9f3a"
             ],
             [
              0.8888888888888888,
              "#fdca26"
             ],
             [
              1,
              "#f0f921"
             ]
            ],
            "type": "heatmapgl"
           }
          ],
          "histogram": [
           {
            "marker": {
             "pattern": {
              "fillmode": "overlay",
              "size": 10,
              "solidity": 0.2
             }
            },
            "type": "histogram"
           }
          ],
          "histogram2d": [
           {
            "colorbar": {
             "outlinewidth": 0,
             "ticks": ""
            },
            "colorscale": [
             [
              0,
              "#0d0887"
             ],
             [
              0.1111111111111111,
              "#46039f"
             ],
             [
              0.2222222222222222,
              "#7201a8"
             ],
             [
              0.3333333333333333,
              "#9c179e"
             ],
             [
              0.4444444444444444,
              "#bd3786"
             ],
             [
              0.5555555555555556,
              "#d8576b"
             ],
             [
              0.6666666666666666,
              "#ed7953"
             ],
             [
              0.7777777777777778,
              "#fb9f3a"
             ],
             [
              0.8888888888888888,
              "#fdca26"
             ],
             [
              1,
              "#f0f921"
             ]
            ],
            "type": "histogram2d"
           }
          ],
          "histogram2dcontour": [
           {
            "colorbar": {
             "outlinewidth": 0,
             "ticks": ""
            },
            "colorscale": [
             [
              0,
              "#0d0887"
             ],
             [
              0.1111111111111111,
              "#46039f"
             ],
             [
              0.2222222222222222,
              "#7201a8"
             ],
             [
              0.3333333333333333,
              "#9c179e"
             ],
             [
              0.4444444444444444,
              "#bd3786"
             ],
             [
              0.5555555555555556,
              "#d8576b"
             ],
             [
              0.6666666666666666,
              "#ed7953"
             ],
             [
              0.7777777777777778,
              "#fb9f3a"
             ],
             [
              0.8888888888888888,
              "#fdca26"
             ],
             [
              1,
              "#f0f921"
             ]
            ],
            "type": "histogram2dcontour"
           }
          ],
          "mesh3d": [
           {
            "colorbar": {
             "outlinewidth": 0,
             "ticks": ""
            },
            "type": "mesh3d"
           }
          ],
          "parcoords": [
           {
            "line": {
             "colorbar": {
              "outlinewidth": 0,
              "ticks": ""
             }
            },
            "type": "parcoords"
           }
          ],
          "pie": [
           {
            "automargin": true,
            "type": "pie"
           }
          ],
          "scatter": [
           {
            "fillpattern": {
             "fillmode": "overlay",
             "size": 10,
             "solidity": 0.2
            },
            "type": "scatter"
           }
          ],
          "scatter3d": [
           {
            "line": {
             "colorbar": {
              "outlinewidth": 0,
              "ticks": ""
             }
            },
            "marker": {
             "colorbar": {
              "outlinewidth": 0,
              "ticks": ""
             }
            },
            "type": "scatter3d"
           }
          ],
          "scattercarpet": [
           {
            "marker": {
             "colorbar": {
              "outlinewidth": 0,
              "ticks": ""
             }
            },
            "type": "scattercarpet"
           }
          ],
          "scattergeo": [
           {
            "marker": {
             "colorbar": {
              "outlinewidth": 0,
              "ticks": ""
             }
            },
            "type": "scattergeo"
           }
          ],
          "scattergl": [
           {
            "marker": {
             "colorbar": {
              "outlinewidth": 0,
              "ticks": ""
             }
            },
            "type": "scattergl"
           }
          ],
          "scattermapbox": [
           {
            "marker": {
             "colorbar": {
              "outlinewidth": 0,
              "ticks": ""
             }
            },
            "type": "scattermapbox"
           }
          ],
          "scatterpolar": [
           {
            "marker": {
             "colorbar": {
              "outlinewidth": 0,
              "ticks": ""
             }
            },
            "type": "scatterpolar"
           }
          ],
          "scatterpolargl": [
           {
            "marker": {
             "colorbar": {
              "outlinewidth": 0,
              "ticks": ""
             }
            },
            "type": "scatterpolargl"
           }
          ],
          "scatterternary": [
           {
            "marker": {
             "colorbar": {
              "outlinewidth": 0,
              "ticks": ""
             }
            },
            "type": "scatterternary"
           }
          ],
          "surface": [
           {
            "colorbar": {
             "outlinewidth": 0,
             "ticks": ""
            },
            "colorscale": [
             [
              0,
              "#0d0887"
             ],
             [
              0.1111111111111111,
              "#46039f"
             ],
             [
              0.2222222222222222,
              "#7201a8"
             ],
             [
              0.3333333333333333,
              "#9c179e"
             ],
             [
              0.4444444444444444,
              "#bd3786"
             ],
             [
              0.5555555555555556,
              "#d8576b"
             ],
             [
              0.6666666666666666,
              "#ed7953"
             ],
             [
              0.7777777777777778,
              "#fb9f3a"
             ],
             [
              0.8888888888888888,
              "#fdca26"
             ],
             [
              1,
              "#f0f921"
             ]
            ],
            "type": "surface"
           }
          ],
          "table": [
           {
            "cells": {
             "fill": {
              "color": "#EBF0F8"
             },
             "line": {
              "color": "white"
             }
            },
            "header": {
             "fill": {
              "color": "#C8D4E3"
             },
             "line": {
              "color": "white"
             }
            },
            "type": "table"
           }
          ]
         },
         "layout": {
          "annotationdefaults": {
           "arrowcolor": "#2a3f5f",
           "arrowhead": 0,
           "arrowwidth": 1
          },
          "autotypenumbers": "strict",
          "coloraxis": {
           "colorbar": {
            "outlinewidth": 0,
            "ticks": ""
           }
          },
          "colorscale": {
           "diverging": [
            [
             0,
             "#8e0152"
            ],
            [
             0.1,
             "#c51b7d"
            ],
            [
             0.2,
             "#de77ae"
            ],
            [
             0.3,
             "#f1b6da"
            ],
            [
             0.4,
             "#fde0ef"
            ],
            [
             0.5,
             "#f7f7f7"
            ],
            [
             0.6,
             "#e6f5d0"
            ],
            [
             0.7,
             "#b8e186"
            ],
            [
             0.8,
             "#7fbc41"
            ],
            [
             0.9,
             "#4d9221"
            ],
            [
             1,
             "#276419"
            ]
           ],
           "sequential": [
            [
             0,
             "#0d0887"
            ],
            [
             0.1111111111111111,
             "#46039f"
            ],
            [
             0.2222222222222222,
             "#7201a8"
            ],
            [
             0.3333333333333333,
             "#9c179e"
            ],
            [
             0.4444444444444444,
             "#bd3786"
            ],
            [
             0.5555555555555556,
             "#d8576b"
            ],
            [
             0.6666666666666666,
             "#ed7953"
            ],
            [
             0.7777777777777778,
             "#fb9f3a"
            ],
            [
             0.8888888888888888,
             "#fdca26"
            ],
            [
             1,
             "#f0f921"
            ]
           ],
           "sequentialminus": [
            [
             0,
             "#0d0887"
            ],
            [
             0.1111111111111111,
             "#46039f"
            ],
            [
             0.2222222222222222,
             "#7201a8"
            ],
            [
             0.3333333333333333,
             "#9c179e"
            ],
            [
             0.4444444444444444,
             "#bd3786"
            ],
            [
             0.5555555555555556,
             "#d8576b"
            ],
            [
             0.6666666666666666,
             "#ed7953"
            ],
            [
             0.7777777777777778,
             "#fb9f3a"
            ],
            [
             0.8888888888888888,
             "#fdca26"
            ],
            [
             1,
             "#f0f921"
            ]
           ]
          },
          "colorway": [
           "#636efa",
           "#EF553B",
           "#00cc96",
           "#ab63fa",
           "#FFA15A",
           "#19d3f3",
           "#FF6692",
           "#B6E880",
           "#FF97FF",
           "#FECB52"
          ],
          "font": {
           "color": "#2a3f5f"
          },
          "geo": {
           "bgcolor": "white",
           "lakecolor": "white",
           "landcolor": "#E5ECF6",
           "showlakes": true,
           "showland": true,
           "subunitcolor": "white"
          },
          "hoverlabel": {
           "align": "left"
          },
          "hovermode": "closest",
          "mapbox": {
           "style": "light"
          },
          "paper_bgcolor": "white",
          "plot_bgcolor": "#E5ECF6",
          "polar": {
           "angularaxis": {
            "gridcolor": "white",
            "linecolor": "white",
            "ticks": ""
           },
           "bgcolor": "#E5ECF6",
           "radialaxis": {
            "gridcolor": "white",
            "linecolor": "white",
            "ticks": ""
           }
          },
          "scene": {
           "xaxis": {
            "backgroundcolor": "#E5ECF6",
            "gridcolor": "white",
            "gridwidth": 2,
            "linecolor": "white",
            "showbackground": true,
            "ticks": "",
            "zerolinecolor": "white"
           },
           "yaxis": {
            "backgroundcolor": "#E5ECF6",
            "gridcolor": "white",
            "gridwidth": 2,
            "linecolor": "white",
            "showbackground": true,
            "ticks": "",
            "zerolinecolor": "white"
           },
           "zaxis": {
            "backgroundcolor": "#E5ECF6",
            "gridcolor": "white",
            "gridwidth": 2,
            "linecolor": "white",
            "showbackground": true,
            "ticks": "",
            "zerolinecolor": "white"
           }
          },
          "shapedefaults": {
           "line": {
            "color": "#2a3f5f"
           }
          },
          "ternary": {
           "aaxis": {
            "gridcolor": "white",
            "linecolor": "white",
            "ticks": ""
           },
           "baxis": {
            "gridcolor": "white",
            "linecolor": "white",
            "ticks": ""
           },
           "bgcolor": "#E5ECF6",
           "caxis": {
            "gridcolor": "white",
            "linecolor": "white",
            "ticks": ""
           }
          },
          "title": {
           "x": 0.05
          },
          "xaxis": {
           "automargin": true,
           "gridcolor": "white",
           "linecolor": "white",
           "ticks": "",
           "title": {
            "standoff": 15
           },
           "zerolinecolor": "white",
           "zerolinewidth": 2
          },
          "yaxis": {
           "automargin": true,
           "gridcolor": "white",
           "linecolor": "white",
           "ticks": "",
           "title": {
            "standoff": 15
           },
           "zerolinecolor": "white",
           "zerolinewidth": 2
          }
         }
        },
        "title": {
         "text": "Доля пользователей, дошедших до каждого этапа воронки"
        },
        "xaxis": {
         "anchor": "y",
         "domain": [
          0,
          1
         ],
         "title": {
          "text": "conversion,%"
         }
        },
        "yaxis": {
         "anchor": "x",
         "domain": [
          0,
          1
         ],
         "title": {
          "text": "event_name"
         }
        }
       }
      }
     },
     "metadata": {},
     "output_type": "display_data"
    }
   ],
   "source": [
    "# вычисление количества уникальных пользователей каждого события в логе\n",
    "users_count = (\n",
    "    logs_topical.groupby('event_name', as_index=False) # группировка наименований событий\n",
    "    .agg({'user_id':'nunique'})          # подсчет количества уникальных пользователей\n",
    "    .rename(columns={'user_id':'users_count'})   # переименование столбца\n",
    "    .sort_values(by='users_count', ascending=False) # сортировка по убыванию\n",
    "    .reset_index(drop=True) # обновление индексации с удалением старой\n",
    ")\n",
    "# рассчет доли пользователей\n",
    "users_count['conversion,%'] = round(users_count['users_count']\n",
    "                                    /logs_topical['user_id'].nunique()*100,1)\n",
    "# отображение таблицы users_count\n",
    "display(users_count)\n",
    "\n",
    "# строим график\n",
    "fig = px.funnel(users_count, \n",
    "                x='conversion,%', \n",
    "                y='event_name', \n",
    "                title='Доля пользователей, дошедших до каждого этапа воронки'\n",
    "                )\n",
    "fig.show()"
   ]
  },
  {
   "cell_type": "markdown",
   "metadata": {},
   "source": [
    "При рассмотрении событий можем предположить следующий их порядок:\n",
    "1. главная страница (MainScreenAppear);\n",
    "2. руководство по использованию (Tutorial);\n",
    "3. страница с предложениями (OffersScreenAppear);\n",
    "4. корзина (CartScreenAppear);\n",
    "5. экран об успешном завершении платежа (PaymentScreenSuccessful).\n",
    "\n",
    "В приложении стараются сделать процесс покупки как можно более простым и удобным для пользователя. Поэтому можно перейти к выбору и приобретению товара без ознакомления с руководством по использованию: например, есть кнопка «Пропустить». Поэтому данное событие явно не выстраивается в последовательную цепочку, не будем учитывать его при расчёте воронки."
   ]
  },
  {
   "cell_type": "code",
   "execution_count": 30,
   "metadata": {},
   "outputs": [
    {
     "data": {
      "text/html": [
       "<div>\n",
       "<style scoped>\n",
       "    .dataframe tbody tr th:only-of-type {\n",
       "        vertical-align: middle;\n",
       "    }\n",
       "\n",
       "    .dataframe tbody tr th {\n",
       "        vertical-align: top;\n",
       "    }\n",
       "\n",
       "    .dataframe thead th {\n",
       "        text-align: right;\n",
       "    }\n",
       "</style>\n",
       "<table border=\"1\" class=\"dataframe\">\n",
       "  <thead>\n",
       "    <tr style=\"text-align: right;\">\n",
       "      <th></th>\n",
       "      <th>event_name</th>\n",
       "      <th>users_count</th>\n",
       "      <th>conversion,%</th>\n",
       "    </tr>\n",
       "  </thead>\n",
       "  <tbody>\n",
       "    <tr>\n",
       "      <th>0</th>\n",
       "      <td>MainScreenAppear</td>\n",
       "      <td>7419</td>\n",
       "      <td>98.5</td>\n",
       "    </tr>\n",
       "    <tr>\n",
       "      <th>1</th>\n",
       "      <td>OffersScreenAppear</td>\n",
       "      <td>4593</td>\n",
       "      <td>61.0</td>\n",
       "    </tr>\n",
       "    <tr>\n",
       "      <th>2</th>\n",
       "      <td>CartScreenAppear</td>\n",
       "      <td>3734</td>\n",
       "      <td>49.6</td>\n",
       "    </tr>\n",
       "    <tr>\n",
       "      <th>3</th>\n",
       "      <td>PaymentScreenSuccessful</td>\n",
       "      <td>3539</td>\n",
       "      <td>47.0</td>\n",
       "    </tr>\n",
       "  </tbody>\n",
       "</table>\n",
       "</div>"
      ],
      "text/plain": [
       "                event_name  users_count  conversion,%\n",
       "0         MainScreenAppear         7419          98.5\n",
       "1       OffersScreenAppear         4593          61.0\n",
       "2         CartScreenAppear         3734          49.6\n",
       "3  PaymentScreenSuccessful         3539          47.0"
      ]
     },
     "metadata": {},
     "output_type": "display_data"
    },
    {
     "data": {
      "application/vnd.plotly.v1+json": {
       "config": {
        "plotlyServerURL": "https://plot.ly"
       },
       "data": [
        {
         "hovertemplate": "conversion,%=%{x}<br>event_name=%{y}<extra></extra>",
         "legendgroup": "",
         "marker": {
          "color": "#636efa"
         },
         "name": "",
         "orientation": "h",
         "showlegend": false,
         "type": "funnel",
         "x": [
          98.5,
          61,
          49.6,
          47
         ],
         "xaxis": "x",
         "y": [
          "MainScreenAppear",
          "OffersScreenAppear",
          "CartScreenAppear",
          "PaymentScreenSuccessful"
         ],
         "yaxis": "y"
        }
       ],
       "layout": {
        "legend": {
         "tracegroupgap": 0
        },
        "template": {
         "data": {
          "bar": [
           {
            "error_x": {
             "color": "#2a3f5f"
            },
            "error_y": {
             "color": "#2a3f5f"
            },
            "marker": {
             "line": {
              "color": "#E5ECF6",
              "width": 0.5
             },
             "pattern": {
              "fillmode": "overlay",
              "size": 10,
              "solidity": 0.2
             }
            },
            "type": "bar"
           }
          ],
          "barpolar": [
           {
            "marker": {
             "line": {
              "color": "#E5ECF6",
              "width": 0.5
             },
             "pattern": {
              "fillmode": "overlay",
              "size": 10,
              "solidity": 0.2
             }
            },
            "type": "barpolar"
           }
          ],
          "carpet": [
           {
            "aaxis": {
             "endlinecolor": "#2a3f5f",
             "gridcolor": "white",
             "linecolor": "white",
             "minorgridcolor": "white",
             "startlinecolor": "#2a3f5f"
            },
            "baxis": {
             "endlinecolor": "#2a3f5f",
             "gridcolor": "white",
             "linecolor": "white",
             "minorgridcolor": "white",
             "startlinecolor": "#2a3f5f"
            },
            "type": "carpet"
           }
          ],
          "choropleth": [
           {
            "colorbar": {
             "outlinewidth": 0,
             "ticks": ""
            },
            "type": "choropleth"
           }
          ],
          "contour": [
           {
            "colorbar": {
             "outlinewidth": 0,
             "ticks": ""
            },
            "colorscale": [
             [
              0,
              "#0d0887"
             ],
             [
              0.1111111111111111,
              "#46039f"
             ],
             [
              0.2222222222222222,
              "#7201a8"
             ],
             [
              0.3333333333333333,
              "#9c179e"
             ],
             [
              0.4444444444444444,
              "#bd3786"
             ],
             [
              0.5555555555555556,
              "#d8576b"
             ],
             [
              0.6666666666666666,
              "#ed7953"
             ],
             [
              0.7777777777777778,
              "#fb9f3a"
             ],
             [
              0.8888888888888888,
              "#fdca26"
             ],
             [
              1,
              "#f0f921"
             ]
            ],
            "type": "contour"
           }
          ],
          "contourcarpet": [
           {
            "colorbar": {
             "outlinewidth": 0,
             "ticks": ""
            },
            "type": "contourcarpet"
           }
          ],
          "heatmap": [
           {
            "colorbar": {
             "outlinewidth": 0,
             "ticks": ""
            },
            "colorscale": [
             [
              0,
              "#0d0887"
             ],
             [
              0.1111111111111111,
              "#46039f"
             ],
             [
              0.2222222222222222,
              "#7201a8"
             ],
             [
              0.3333333333333333,
              "#9c179e"
             ],
             [
              0.4444444444444444,
              "#bd3786"
             ],
             [
              0.5555555555555556,
              "#d8576b"
             ],
             [
              0.6666666666666666,
              "#ed7953"
             ],
             [
              0.7777777777777778,
              "#fb9f3a"
             ],
             [
              0.8888888888888888,
              "#fdca26"
             ],
             [
              1,
              "#f0f921"
             ]
            ],
            "type": "heatmap"
           }
          ],
          "heatmapgl": [
           {
            "colorbar": {
             "outlinewidth": 0,
             "ticks": ""
            },
            "colorscale": [
             [
              0,
              "#0d0887"
             ],
             [
              0.1111111111111111,
              "#46039f"
             ],
             [
              0.2222222222222222,
              "#7201a8"
             ],
             [
              0.3333333333333333,
              "#9c179e"
             ],
             [
              0.4444444444444444,
              "#bd3786"
             ],
             [
              0.5555555555555556,
              "#d8576b"
             ],
             [
              0.6666666666666666,
              "#ed7953"
             ],
             [
              0.7777777777777778,
              "#fb9f3a"
             ],
             [
              0.8888888888888888,
              "#fdca26"
             ],
             [
              1,
              "#f0f921"
             ]
            ],
            "type": "heatmapgl"
           }
          ],
          "histogram": [
           {
            "marker": {
             "pattern": {
              "fillmode": "overlay",
              "size": 10,
              "solidity": 0.2
             }
            },
            "type": "histogram"
           }
          ],
          "histogram2d": [
           {
            "colorbar": {
             "outlinewidth": 0,
             "ticks": ""
            },
            "colorscale": [
             [
              0,
              "#0d0887"
             ],
             [
              0.1111111111111111,
              "#46039f"
             ],
             [
              0.2222222222222222,
              "#7201a8"
             ],
             [
              0.3333333333333333,
              "#9c179e"
             ],
             [
              0.4444444444444444,
              "#bd3786"
             ],
             [
              0.5555555555555556,
              "#d8576b"
             ],
             [
              0.6666666666666666,
              "#ed7953"
             ],
             [
              0.7777777777777778,
              "#fb9f3a"
             ],
             [
              0.8888888888888888,
              "#fdca26"
             ],
             [
              1,
              "#f0f921"
             ]
            ],
            "type": "histogram2d"
           }
          ],
          "histogram2dcontour": [
           {
            "colorbar": {
             "outlinewidth": 0,
             "ticks": ""
            },
            "colorscale": [
             [
              0,
              "#0d0887"
             ],
             [
              0.1111111111111111,
              "#46039f"
             ],
             [
              0.2222222222222222,
              "#7201a8"
             ],
             [
              0.3333333333333333,
              "#9c179e"
             ],
             [
              0.4444444444444444,
              "#bd3786"
             ],
             [
              0.5555555555555556,
              "#d8576b"
             ],
             [
              0.6666666666666666,
              "#ed7953"
             ],
             [
              0.7777777777777778,
              "#fb9f3a"
             ],
             [
              0.8888888888888888,
              "#fdca26"
             ],
             [
              1,
              "#f0f921"
             ]
            ],
            "type": "histogram2dcontour"
           }
          ],
          "mesh3d": [
           {
            "colorbar": {
             "outlinewidth": 0,
             "ticks": ""
            },
            "type": "mesh3d"
           }
          ],
          "parcoords": [
           {
            "line": {
             "colorbar": {
              "outlinewidth": 0,
              "ticks": ""
             }
            },
            "type": "parcoords"
           }
          ],
          "pie": [
           {
            "automargin": true,
            "type": "pie"
           }
          ],
          "scatter": [
           {
            "fillpattern": {
             "fillmode": "overlay",
             "size": 10,
             "solidity": 0.2
            },
            "type": "scatter"
           }
          ],
          "scatter3d": [
           {
            "line": {
             "colorbar": {
              "outlinewidth": 0,
              "ticks": ""
             }
            },
            "marker": {
             "colorbar": {
              "outlinewidth": 0,
              "ticks": ""
             }
            },
            "type": "scatter3d"
           }
          ],
          "scattercarpet": [
           {
            "marker": {
             "colorbar": {
              "outlinewidth": 0,
              "ticks": ""
             }
            },
            "type": "scattercarpet"
           }
          ],
          "scattergeo": [
           {
            "marker": {
             "colorbar": {
              "outlinewidth": 0,
              "ticks": ""
             }
            },
            "type": "scattergeo"
           }
          ],
          "scattergl": [
           {
            "marker": {
             "colorbar": {
              "outlinewidth": 0,
              "ticks": ""
             }
            },
            "type": "scattergl"
           }
          ],
          "scattermapbox": [
           {
            "marker": {
             "colorbar": {
              "outlinewidth": 0,
              "ticks": ""
             }
            },
            "type": "scattermapbox"
           }
          ],
          "scatterpolar": [
           {
            "marker": {
             "colorbar": {
              "outlinewidth": 0,
              "ticks": ""
             }
            },
            "type": "scatterpolar"
           }
          ],
          "scatterpolargl": [
           {
            "marker": {
             "colorbar": {
              "outlinewidth": 0,
              "ticks": ""
             }
            },
            "type": "scatterpolargl"
           }
          ],
          "scatterternary": [
           {
            "marker": {
             "colorbar": {
              "outlinewidth": 0,
              "ticks": ""
             }
            },
            "type": "scatterternary"
           }
          ],
          "surface": [
           {
            "colorbar": {
             "outlinewidth": 0,
             "ticks": ""
            },
            "colorscale": [
             [
              0,
              "#0d0887"
             ],
             [
              0.1111111111111111,
              "#46039f"
             ],
             [
              0.2222222222222222,
              "#7201a8"
             ],
             [
              0.3333333333333333,
              "#9c179e"
             ],
             [
              0.4444444444444444,
              "#bd3786"
             ],
             [
              0.5555555555555556,
              "#d8576b"
             ],
             [
              0.6666666666666666,
              "#ed7953"
             ],
             [
              0.7777777777777778,
              "#fb9f3a"
             ],
             [
              0.8888888888888888,
              "#fdca26"
             ],
             [
              1,
              "#f0f921"
             ]
            ],
            "type": "surface"
           }
          ],
          "table": [
           {
            "cells": {
             "fill": {
              "color": "#EBF0F8"
             },
             "line": {
              "color": "white"
             }
            },
            "header": {
             "fill": {
              "color": "#C8D4E3"
             },
             "line": {
              "color": "white"
             }
            },
            "type": "table"
           }
          ]
         },
         "layout": {
          "annotationdefaults": {
           "arrowcolor": "#2a3f5f",
           "arrowhead": 0,
           "arrowwidth": 1
          },
          "autotypenumbers": "strict",
          "coloraxis": {
           "colorbar": {
            "outlinewidth": 0,
            "ticks": ""
           }
          },
          "colorscale": {
           "diverging": [
            [
             0,
             "#8e0152"
            ],
            [
             0.1,
             "#c51b7d"
            ],
            [
             0.2,
             "#de77ae"
            ],
            [
             0.3,
             "#f1b6da"
            ],
            [
             0.4,
             "#fde0ef"
            ],
            [
             0.5,
             "#f7f7f7"
            ],
            [
             0.6,
             "#e6f5d0"
            ],
            [
             0.7,
             "#b8e186"
            ],
            [
             0.8,
             "#7fbc41"
            ],
            [
             0.9,
             "#4d9221"
            ],
            [
             1,
             "#276419"
            ]
           ],
           "sequential": [
            [
             0,
             "#0d0887"
            ],
            [
             0.1111111111111111,
             "#46039f"
            ],
            [
             0.2222222222222222,
             "#7201a8"
            ],
            [
             0.3333333333333333,
             "#9c179e"
            ],
            [
             0.4444444444444444,
             "#bd3786"
            ],
            [
             0.5555555555555556,
             "#d8576b"
            ],
            [
             0.6666666666666666,
             "#ed7953"
            ],
            [
             0.7777777777777778,
             "#fb9f3a"
            ],
            [
             0.8888888888888888,
             "#fdca26"
            ],
            [
             1,
             "#f0f921"
            ]
           ],
           "sequentialminus": [
            [
             0,
             "#0d0887"
            ],
            [
             0.1111111111111111,
             "#46039f"
            ],
            [
             0.2222222222222222,
             "#7201a8"
            ],
            [
             0.3333333333333333,
             "#9c179e"
            ],
            [
             0.4444444444444444,
             "#bd3786"
            ],
            [
             0.5555555555555556,
             "#d8576b"
            ],
            [
             0.6666666666666666,
             "#ed7953"
            ],
            [
             0.7777777777777778,
             "#fb9f3a"
            ],
            [
             0.8888888888888888,
             "#fdca26"
            ],
            [
             1,
             "#f0f921"
            ]
           ]
          },
          "colorway": [
           "#636efa",
           "#EF553B",
           "#00cc96",
           "#ab63fa",
           "#FFA15A",
           "#19d3f3",
           "#FF6692",
           "#B6E880",
           "#FF97FF",
           "#FECB52"
          ],
          "font": {
           "color": "#2a3f5f"
          },
          "geo": {
           "bgcolor": "white",
           "lakecolor": "white",
           "landcolor": "#E5ECF6",
           "showlakes": true,
           "showland": true,
           "subunitcolor": "white"
          },
          "hoverlabel": {
           "align": "left"
          },
          "hovermode": "closest",
          "mapbox": {
           "style": "light"
          },
          "paper_bgcolor": "white",
          "plot_bgcolor": "#E5ECF6",
          "polar": {
           "angularaxis": {
            "gridcolor": "white",
            "linecolor": "white",
            "ticks": ""
           },
           "bgcolor": "#E5ECF6",
           "radialaxis": {
            "gridcolor": "white",
            "linecolor": "white",
            "ticks": ""
           }
          },
          "scene": {
           "xaxis": {
            "backgroundcolor": "#E5ECF6",
            "gridcolor": "white",
            "gridwidth": 2,
            "linecolor": "white",
            "showbackground": true,
            "ticks": "",
            "zerolinecolor": "white"
           },
           "yaxis": {
            "backgroundcolor": "#E5ECF6",
            "gridcolor": "white",
            "gridwidth": 2,
            "linecolor": "white",
            "showbackground": true,
            "ticks": "",
            "zerolinecolor": "white"
           },
           "zaxis": {
            "backgroundcolor": "#E5ECF6",
            "gridcolor": "white",
            "gridwidth": 2,
            "linecolor": "white",
            "showbackground": true,
            "ticks": "",
            "zerolinecolor": "white"
           }
          },
          "shapedefaults": {
           "line": {
            "color": "#2a3f5f"
           }
          },
          "ternary": {
           "aaxis": {
            "gridcolor": "white",
            "linecolor": "white",
            "ticks": ""
           },
           "baxis": {
            "gridcolor": "white",
            "linecolor": "white",
            "ticks": ""
           },
           "bgcolor": "#E5ECF6",
           "caxis": {
            "gridcolor": "white",
            "linecolor": "white",
            "ticks": ""
           }
          },
          "title": {
           "x": 0.05
          },
          "xaxis": {
           "automargin": true,
           "gridcolor": "white",
           "linecolor": "white",
           "ticks": "",
           "title": {
            "standoff": 15
           },
           "zerolinecolor": "white",
           "zerolinewidth": 2
          },
          "yaxis": {
           "automargin": true,
           "gridcolor": "white",
           "linecolor": "white",
           "ticks": "",
           "title": {
            "standoff": 15
           },
           "zerolinecolor": "white",
           "zerolinewidth": 2
          }
         }
        },
        "title": {
         "text": "Доля пользователей, дошедших до каждого этапа воронки"
        },
        "xaxis": {
         "anchor": "y",
         "domain": [
          0,
          1
         ],
         "title": {
          "text": "conversion,%"
         }
        },
        "yaxis": {
         "anchor": "x",
         "domain": [
          0,
          1
         ],
         "title": {
          "text": "event_name"
         }
        }
       }
      }
     },
     "metadata": {},
     "output_type": "display_data"
    }
   ],
   "source": [
    "# исключение из таблицы users_count событие Tutorial\n",
    "users_count = users_count[users_count['event_name'] != \"Tutorial\"]\n",
    "# отображение таблицы users_count\n",
    "display(users_count)\n",
    "\n",
    "# строим график\n",
    "fig = px.funnel(users_count, \n",
    "                x='conversion,%', \n",
    "                y='event_name', \n",
    "                title='Доля пользователей, дошедших до каждого этапа воронки',\n",
    "                )\n",
    "fig.show()"
   ]
  },
  {
   "cell_type": "markdown",
   "metadata": {},
   "source": [
    "Теперь по воронке событий посчитаем, какая доля пользователей проходит на следующий шаг воронки (от числа пользователей на предыдущем). "
   ]
  },
  {
   "cell_type": "code",
   "execution_count": 31,
   "metadata": {},
   "outputs": [
    {
     "data": {
      "text/html": [
       "<div>\n",
       "<style scoped>\n",
       "    .dataframe tbody tr th:only-of-type {\n",
       "        vertical-align: middle;\n",
       "    }\n",
       "\n",
       "    .dataframe tbody tr th {\n",
       "        vertical-align: top;\n",
       "    }\n",
       "\n",
       "    .dataframe thead th {\n",
       "        text-align: right;\n",
       "    }\n",
       "</style>\n",
       "<table border=\"1\" class=\"dataframe\">\n",
       "  <thead>\n",
       "    <tr style=\"text-align: right;\">\n",
       "      <th></th>\n",
       "      <th>event_name</th>\n",
       "      <th>users_count</th>\n",
       "      <th>conversion,%</th>\n",
       "      <th>conversion_step,%</th>\n",
       "    </tr>\n",
       "  </thead>\n",
       "  <tbody>\n",
       "    <tr>\n",
       "      <th>0</th>\n",
       "      <td>MainScreenAppear</td>\n",
       "      <td>7419</td>\n",
       "      <td>98.5</td>\n",
       "      <td>100.0</td>\n",
       "    </tr>\n",
       "    <tr>\n",
       "      <th>1</th>\n",
       "      <td>OffersScreenAppear</td>\n",
       "      <td>4593</td>\n",
       "      <td>61.0</td>\n",
       "      <td>61.9</td>\n",
       "    </tr>\n",
       "    <tr>\n",
       "      <th>2</th>\n",
       "      <td>CartScreenAppear</td>\n",
       "      <td>3734</td>\n",
       "      <td>49.6</td>\n",
       "      <td>81.3</td>\n",
       "    </tr>\n",
       "    <tr>\n",
       "      <th>3</th>\n",
       "      <td>PaymentScreenSuccessful</td>\n",
       "      <td>3539</td>\n",
       "      <td>47.0</td>\n",
       "      <td>94.8</td>\n",
       "    </tr>\n",
       "  </tbody>\n",
       "</table>\n",
       "</div>"
      ],
      "text/plain": [
       "                event_name  users_count  conversion,%  conversion_step,%\n",
       "0         MainScreenAppear         7419          98.5              100.0\n",
       "1       OffersScreenAppear         4593          61.0               61.9\n",
       "2         CartScreenAppear         3734          49.6               81.3\n",
       "3  PaymentScreenSuccessful         3539          47.0               94.8"
      ]
     },
     "metadata": {},
     "output_type": "display_data"
    },
    {
     "data": {
      "application/vnd.plotly.v1+json": {
       "config": {
        "plotlyServerURL": "https://plot.ly"
       },
       "data": [
        {
         "hovertemplate": "conversion_step,%=%{x}<br>event_name=%{y}<extra></extra>",
         "legendgroup": "",
         "marker": {
          "color": "#636efa"
         },
         "name": "",
         "orientation": "h",
         "showlegend": false,
         "type": "funnel",
         "x": [
          100,
          61.9,
          81.3,
          94.8
         ],
         "xaxis": "x",
         "y": [
          "MainScreenAppear",
          "OffersScreenAppear",
          "CartScreenAppear",
          "PaymentScreenSuccessful"
         ],
         "yaxis": "y"
        }
       ],
       "layout": {
        "legend": {
         "tracegroupgap": 0
        },
        "template": {
         "data": {
          "bar": [
           {
            "error_x": {
             "color": "#2a3f5f"
            },
            "error_y": {
             "color": "#2a3f5f"
            },
            "marker": {
             "line": {
              "color": "#E5ECF6",
              "width": 0.5
             },
             "pattern": {
              "fillmode": "overlay",
              "size": 10,
              "solidity": 0.2
             }
            },
            "type": "bar"
           }
          ],
          "barpolar": [
           {
            "marker": {
             "line": {
              "color": "#E5ECF6",
              "width": 0.5
             },
             "pattern": {
              "fillmode": "overlay",
              "size": 10,
              "solidity": 0.2
             }
            },
            "type": "barpolar"
           }
          ],
          "carpet": [
           {
            "aaxis": {
             "endlinecolor": "#2a3f5f",
             "gridcolor": "white",
             "linecolor": "white",
             "minorgridcolor": "white",
             "startlinecolor": "#2a3f5f"
            },
            "baxis": {
             "endlinecolor": "#2a3f5f",
             "gridcolor": "white",
             "linecolor": "white",
             "minorgridcolor": "white",
             "startlinecolor": "#2a3f5f"
            },
            "type": "carpet"
           }
          ],
          "choropleth": [
           {
            "colorbar": {
             "outlinewidth": 0,
             "ticks": ""
            },
            "type": "choropleth"
           }
          ],
          "contour": [
           {
            "colorbar": {
             "outlinewidth": 0,
             "ticks": ""
            },
            "colorscale": [
             [
              0,
              "#0d0887"
             ],
             [
              0.1111111111111111,
              "#46039f"
             ],
             [
              0.2222222222222222,
              "#7201a8"
             ],
             [
              0.3333333333333333,
              "#9c179e"
             ],
             [
              0.4444444444444444,
              "#bd3786"
             ],
             [
              0.5555555555555556,
              "#d8576b"
             ],
             [
              0.6666666666666666,
              "#ed7953"
             ],
             [
              0.7777777777777778,
              "#fb9f3a"
             ],
             [
              0.8888888888888888,
              "#fdca26"
             ],
             [
              1,
              "#f0f921"
             ]
            ],
            "type": "contour"
           }
          ],
          "contourcarpet": [
           {
            "colorbar": {
             "outlinewidth": 0,
             "ticks": ""
            },
            "type": "contourcarpet"
           }
          ],
          "heatmap": [
           {
            "colorbar": {
             "outlinewidth": 0,
             "ticks": ""
            },
            "colorscale": [
             [
              0,
              "#0d0887"
             ],
             [
              0.1111111111111111,
              "#46039f"
             ],
             [
              0.2222222222222222,
              "#7201a8"
             ],
             [
              0.3333333333333333,
              "#9c179e"
             ],
             [
              0.4444444444444444,
              "#bd3786"
             ],
             [
              0.5555555555555556,
              "#d8576b"
             ],
             [
              0.6666666666666666,
              "#ed7953"
             ],
             [
              0.7777777777777778,
              "#fb9f3a"
             ],
             [
              0.8888888888888888,
              "#fdca26"
             ],
             [
              1,
              "#f0f921"
             ]
            ],
            "type": "heatmap"
           }
          ],
          "heatmapgl": [
           {
            "colorbar": {
             "outlinewidth": 0,
             "ticks": ""
            },
            "colorscale": [
             [
              0,
              "#0d0887"
             ],
             [
              0.1111111111111111,
              "#46039f"
             ],
             [
              0.2222222222222222,
              "#7201a8"
             ],
             [
              0.3333333333333333,
              "#9c179e"
             ],
             [
              0.4444444444444444,
              "#bd3786"
             ],
             [
              0.5555555555555556,
              "#d8576b"
             ],
             [
              0.6666666666666666,
              "#ed7953"
             ],
             [
              0.7777777777777778,
              "#fb9f3a"
             ],
             [
              0.8888888888888888,
              "#fdca26"
             ],
             [
              1,
              "#f0f921"
             ]
            ],
            "type": "heatmapgl"
           }
          ],
          "histogram": [
           {
            "marker": {
             "pattern": {
              "fillmode": "overlay",
              "size": 10,
              "solidity": 0.2
             }
            },
            "type": "histogram"
           }
          ],
          "histogram2d": [
           {
            "colorbar": {
             "outlinewidth": 0,
             "ticks": ""
            },
            "colorscale": [
             [
              0,
              "#0d0887"
             ],
             [
              0.1111111111111111,
              "#46039f"
             ],
             [
              0.2222222222222222,
              "#7201a8"
             ],
             [
              0.3333333333333333,
              "#9c179e"
             ],
             [
              0.4444444444444444,
              "#bd3786"
             ],
             [
              0.5555555555555556,
              "#d8576b"
             ],
             [
              0.6666666666666666,
              "#ed7953"
             ],
             [
              0.7777777777777778,
              "#fb9f3a"
             ],
             [
              0.8888888888888888,
              "#fdca26"
             ],
             [
              1,
              "#f0f921"
             ]
            ],
            "type": "histogram2d"
           }
          ],
          "histogram2dcontour": [
           {
            "colorbar": {
             "outlinewidth": 0,
             "ticks": ""
            },
            "colorscale": [
             [
              0,
              "#0d0887"
             ],
             [
              0.1111111111111111,
              "#46039f"
             ],
             [
              0.2222222222222222,
              "#7201a8"
             ],
             [
              0.3333333333333333,
              "#9c179e"
             ],
             [
              0.4444444444444444,
              "#bd3786"
             ],
             [
              0.5555555555555556,
              "#d8576b"
             ],
             [
              0.6666666666666666,
              "#ed7953"
             ],
             [
              0.7777777777777778,
              "#fb9f3a"
             ],
             [
              0.8888888888888888,
              "#fdca26"
             ],
             [
              1,
              "#f0f921"
             ]
            ],
            "type": "histogram2dcontour"
           }
          ],
          "mesh3d": [
           {
            "colorbar": {
             "outlinewidth": 0,
             "ticks": ""
            },
            "type": "mesh3d"
           }
          ],
          "parcoords": [
           {
            "line": {
             "colorbar": {
              "outlinewidth": 0,
              "ticks": ""
             }
            },
            "type": "parcoords"
           }
          ],
          "pie": [
           {
            "automargin": true,
            "type": "pie"
           }
          ],
          "scatter": [
           {
            "fillpattern": {
             "fillmode": "overlay",
             "size": 10,
             "solidity": 0.2
            },
            "type": "scatter"
           }
          ],
          "scatter3d": [
           {
            "line": {
             "colorbar": {
              "outlinewidth": 0,
              "ticks": ""
             }
            },
            "marker": {
             "colorbar": {
              "outlinewidth": 0,
              "ticks": ""
             }
            },
            "type": "scatter3d"
           }
          ],
          "scattercarpet": [
           {
            "marker": {
             "colorbar": {
              "outlinewidth": 0,
              "ticks": ""
             }
            },
            "type": "scattercarpet"
           }
          ],
          "scattergeo": [
           {
            "marker": {
             "colorbar": {
              "outlinewidth": 0,
              "ticks": ""
             }
            },
            "type": "scattergeo"
           }
          ],
          "scattergl": [
           {
            "marker": {
             "colorbar": {
              "outlinewidth": 0,
              "ticks": ""
             }
            },
            "type": "scattergl"
           }
          ],
          "scattermapbox": [
           {
            "marker": {
             "colorbar": {
              "outlinewidth": 0,
              "ticks": ""
             }
            },
            "type": "scattermapbox"
           }
          ],
          "scatterpolar": [
           {
            "marker": {
             "colorbar": {
              "outlinewidth": 0,
              "ticks": ""
             }
            },
            "type": "scatterpolar"
           }
          ],
          "scatterpolargl": [
           {
            "marker": {
             "colorbar": {
              "outlinewidth": 0,
              "ticks": ""
             }
            },
            "type": "scatterpolargl"
           }
          ],
          "scatterternary": [
           {
            "marker": {
             "colorbar": {
              "outlinewidth": 0,
              "ticks": ""
             }
            },
            "type": "scatterternary"
           }
          ],
          "surface": [
           {
            "colorbar": {
             "outlinewidth": 0,
             "ticks": ""
            },
            "colorscale": [
             [
              0,
              "#0d0887"
             ],
             [
              0.1111111111111111,
              "#46039f"
             ],
             [
              0.2222222222222222,
              "#7201a8"
             ],
             [
              0.3333333333333333,
              "#9c179e"
             ],
             [
              0.4444444444444444,
              "#bd3786"
             ],
             [
              0.5555555555555556,
              "#d8576b"
             ],
             [
              0.6666666666666666,
              "#ed7953"
             ],
             [
              0.7777777777777778,
              "#fb9f3a"
             ],
             [
              0.8888888888888888,
              "#fdca26"
             ],
             [
              1,
              "#f0f921"
             ]
            ],
            "type": "surface"
           }
          ],
          "table": [
           {
            "cells": {
             "fill": {
              "color": "#EBF0F8"
             },
             "line": {
              "color": "white"
             }
            },
            "header": {
             "fill": {
              "color": "#C8D4E3"
             },
             "line": {
              "color": "white"
             }
            },
            "type": "table"
           }
          ]
         },
         "layout": {
          "annotationdefaults": {
           "arrowcolor": "#2a3f5f",
           "arrowhead": 0,
           "arrowwidth": 1
          },
          "autotypenumbers": "strict",
          "coloraxis": {
           "colorbar": {
            "outlinewidth": 0,
            "ticks": ""
           }
          },
          "colorscale": {
           "diverging": [
            [
             0,
             "#8e0152"
            ],
            [
             0.1,
             "#c51b7d"
            ],
            [
             0.2,
             "#de77ae"
            ],
            [
             0.3,
             "#f1b6da"
            ],
            [
             0.4,
             "#fde0ef"
            ],
            [
             0.5,
             "#f7f7f7"
            ],
            [
             0.6,
             "#e6f5d0"
            ],
            [
             0.7,
             "#b8e186"
            ],
            [
             0.8,
             "#7fbc41"
            ],
            [
             0.9,
             "#4d9221"
            ],
            [
             1,
             "#276419"
            ]
           ],
           "sequential": [
            [
             0,
             "#0d0887"
            ],
            [
             0.1111111111111111,
             "#46039f"
            ],
            [
             0.2222222222222222,
             "#7201a8"
            ],
            [
             0.3333333333333333,
             "#9c179e"
            ],
            [
             0.4444444444444444,
             "#bd3786"
            ],
            [
             0.5555555555555556,
             "#d8576b"
            ],
            [
             0.6666666666666666,
             "#ed7953"
            ],
            [
             0.7777777777777778,
             "#fb9f3a"
            ],
            [
             0.8888888888888888,
             "#fdca26"
            ],
            [
             1,
             "#f0f921"
            ]
           ],
           "sequentialminus": [
            [
             0,
             "#0d0887"
            ],
            [
             0.1111111111111111,
             "#46039f"
            ],
            [
             0.2222222222222222,
             "#7201a8"
            ],
            [
             0.3333333333333333,
             "#9c179e"
            ],
            [
             0.4444444444444444,
             "#bd3786"
            ],
            [
             0.5555555555555556,
             "#d8576b"
            ],
            [
             0.6666666666666666,
             "#ed7953"
            ],
            [
             0.7777777777777778,
             "#fb9f3a"
            ],
            [
             0.8888888888888888,
             "#fdca26"
            ],
            [
             1,
             "#f0f921"
            ]
           ]
          },
          "colorway": [
           "#636efa",
           "#EF553B",
           "#00cc96",
           "#ab63fa",
           "#FFA15A",
           "#19d3f3",
           "#FF6692",
           "#B6E880",
           "#FF97FF",
           "#FECB52"
          ],
          "font": {
           "color": "#2a3f5f"
          },
          "geo": {
           "bgcolor": "white",
           "lakecolor": "white",
           "landcolor": "#E5ECF6",
           "showlakes": true,
           "showland": true,
           "subunitcolor": "white"
          },
          "hoverlabel": {
           "align": "left"
          },
          "hovermode": "closest",
          "mapbox": {
           "style": "light"
          },
          "paper_bgcolor": "white",
          "plot_bgcolor": "#E5ECF6",
          "polar": {
           "angularaxis": {
            "gridcolor": "white",
            "linecolor": "white",
            "ticks": ""
           },
           "bgcolor": "#E5ECF6",
           "radialaxis": {
            "gridcolor": "white",
            "linecolor": "white",
            "ticks": ""
           }
          },
          "scene": {
           "xaxis": {
            "backgroundcolor": "#E5ECF6",
            "gridcolor": "white",
            "gridwidth": 2,
            "linecolor": "white",
            "showbackground": true,
            "ticks": "",
            "zerolinecolor": "white"
           },
           "yaxis": {
            "backgroundcolor": "#E5ECF6",
            "gridcolor": "white",
            "gridwidth": 2,
            "linecolor": "white",
            "showbackground": true,
            "ticks": "",
            "zerolinecolor": "white"
           },
           "zaxis": {
            "backgroundcolor": "#E5ECF6",
            "gridcolor": "white",
            "gridwidth": 2,
            "linecolor": "white",
            "showbackground": true,
            "ticks": "",
            "zerolinecolor": "white"
           }
          },
          "shapedefaults": {
           "line": {
            "color": "#2a3f5f"
           }
          },
          "ternary": {
           "aaxis": {
            "gridcolor": "white",
            "linecolor": "white",
            "ticks": ""
           },
           "baxis": {
            "gridcolor": "white",
            "linecolor": "white",
            "ticks": ""
           },
           "bgcolor": "#E5ECF6",
           "caxis": {
            "gridcolor": "white",
            "linecolor": "white",
            "ticks": ""
           }
          },
          "title": {
           "x": 0.05
          },
          "xaxis": {
           "automargin": true,
           "gridcolor": "white",
           "linecolor": "white",
           "ticks": "",
           "title": {
            "standoff": 15
           },
           "zerolinecolor": "white",
           "zerolinewidth": 2
          },
          "yaxis": {
           "automargin": true,
           "gridcolor": "white",
           "linecolor": "white",
           "ticks": "",
           "title": {
            "standoff": 15
           },
           "zerolinecolor": "white",
           "zerolinewidth": 2
          }
         }
        },
        "title": {
         "text": "Доля пользователей, дошедших до следующего этапа воронки"
        },
        "xaxis": {
         "anchor": "y",
         "domain": [
          0,
          1
         ],
         "title": {
          "text": "conversion_step,%"
         }
        },
        "yaxis": {
         "anchor": "x",
         "domain": [
          0,
          1
         ],
         "title": {
          "text": "event_name"
         }
        }
       }
      }
     },
     "metadata": {},
     "output_type": "display_data"
    }
   ],
   "source": [
    "# добавление столбца 'users_shift' со сдвигом в один шаг данных из столбца 'users_count'\n",
    "users_count['users_shift'] = users_count['users_count'].shift(periods=1, fill_value=0)\n",
    "\n",
    "# функция рассчет доли пользователей, которые проходят на следующий шаг воронки\n",
    "def function(row):\n",
    "    if row['users_shift'] == 0:\n",
    "        return 100\n",
    "    else:\n",
    "        return round(row['users_count']/row['users_shift']*100, 1)\n",
    "    \n",
    "# создание нового столбца 'conversion_step,%' и запись в него значений, возвращаемых функцией    \n",
    "users_count['conversion_step,%'] = users_count.apply(function, axis=1)\n",
    "\n",
    "# удаление дополнительного столбца 'users_shift'\n",
    "users_count = users_count.drop(columns = ['users_shift'], axis = 1)\n",
    "\n",
    "# отображение таблицы users_count\n",
    "display(users_count)\n",
    "\n",
    "# строим график\n",
    "fig = px.funnel(users_count, \n",
    "                x='conversion_step,%', \n",
    "                y='event_name', \n",
    "                title='Доля пользователей, дошедших до следующего этапа воронки',\n",
    "                )\n",
    "fig.show()"
   ]
  },
  {
   "cell_type": "markdown",
   "metadata": {},
   "source": [
    "Отчетливо видно, что при переходе с главной страницы на страницу с предложениями происходит наибольшая потеря пользователей. Потери составляют 38% от общего числа. Возможно, в приложении у главной страницы непонятный интерфейс, что пользователь не может сообразить, как перейти к предложениями или в течение исследуемой недели были какие-то технические сложности при загрузке страницы с предложениями, т.к. на следующих шагах потери пользователей значительно меньше. После ознакомления с товаром только 19% пользователей ничего не выбирают, а 5% не оплачивают заказ после наполнения корзины.\n",
    "\n",
    "Теперь узнаем какая доля пользователей доходит от первого события до оплаты."
   ]
  },
  {
   "cell_type": "code",
   "execution_count": 32,
   "metadata": {},
   "outputs": [
    {
     "data": {
      "text/html": [
       "<div>\n",
       "<style scoped>\n",
       "    .dataframe tbody tr th:only-of-type {\n",
       "        vertical-align: middle;\n",
       "    }\n",
       "\n",
       "    .dataframe tbody tr th {\n",
       "        vertical-align: top;\n",
       "    }\n",
       "\n",
       "    .dataframe thead th {\n",
       "        text-align: right;\n",
       "    }\n",
       "</style>\n",
       "<table border=\"1\" class=\"dataframe\">\n",
       "  <thead>\n",
       "    <tr style=\"text-align: right;\">\n",
       "      <th></th>\n",
       "      <th>event_name</th>\n",
       "      <th>users_count</th>\n",
       "      <th>conv,%</th>\n",
       "    </tr>\n",
       "  </thead>\n",
       "  <tbody>\n",
       "    <tr>\n",
       "      <th>0</th>\n",
       "      <td>MainScreenAppear</td>\n",
       "      <td>7419</td>\n",
       "      <td>100.0</td>\n",
       "    </tr>\n",
       "    <tr>\n",
       "      <th>3</th>\n",
       "      <td>PaymentScreenSuccessful</td>\n",
       "      <td>3539</td>\n",
       "      <td>47.7</td>\n",
       "    </tr>\n",
       "  </tbody>\n",
       "</table>\n",
       "</div>"
      ],
      "text/plain": [
       "                event_name  users_count  conv,%\n",
       "0         MainScreenAppear         7419   100.0\n",
       "3  PaymentScreenSuccessful         3539    47.7"
      ]
     },
     "metadata": {},
     "output_type": "display_data"
    }
   ],
   "source": [
    "# количество уникальных пользователей у первого и последнего событий\n",
    "users_first = (\n",
    "    users_count[['event_name', 'users_count']]\n",
    "    .query('event_name in [\"MainScreenAppear\", \"PaymentScreenSuccessful\"]')\n",
    ")\n",
    "# рассчет доли пользователей\n",
    "users_first['conv,%'] = round(users_first['users_count']/users_first.loc[0, 'users_count']*100, 1)\n",
    "# отображение таблицы\n",
    "display(users_first)"
   ]
  },
  {
   "cell_type": "markdown",
   "metadata": {},
   "source": [
    "От первого события до оплаты доходит 48% пользователей, т.е. потери составляют 52%. Учитывая, что больше половины теряется при переходе с главной страницы, то при оперативном устранении причин, вызывающих потери на этом этапе, можно значительно увеличить объемы продаж."
   ]
  },
  {
   "cell_type": "markdown",
   "metadata": {},
   "source": [
    "### Вывод"
   ]
  },
  {
   "cell_type": "markdown",
   "metadata": {},
   "source": [
    "1. Чтобы добраться до покупки пользователь проходит через следующие этапы:\n",
    "* главная страница (MainScreenAppear);\n",
    "* руководство по использованию (Tutorial) - есть возможность пропуска данного этапа;\n",
    "* страница с предложениями (OffersScreenAppear);\n",
    "* корзина (CartScreenAppear);\n",
    "* экран об успешном завершении платежа (PaymentScreenSuccessful).\n",
    "\n",
    "2. С момента загрузки приложения и перехода на главную страницу теряется 1,5% пользователей. Наибольшие потери пользователей при переходе с главной страницы на страницу с предложениями - 38%. После ознакомления с товаром только 19% пользователей ничего не выбирают, а 5% не оплачивают заказ после наполнения корзины.\n",
    "\n",
    "\n",
    "3. С главной страницы до оплаты доходит 48% пользователей."
   ]
  },
  {
   "cell_type": "markdown",
   "metadata": {},
   "source": [
    "\n",
    "\n",
    "\n",
    "\n"
   ]
  },
  {
   "cell_type": "markdown",
   "metadata": {},
   "source": [
    "## Изучение результатов A/A/B-эксперимента"
   ]
  },
  {
   "cell_type": "markdown",
   "metadata": {},
   "source": [
    "Ещё раз посмотрим на количество пользователей в каждой экспериментальной группе."
   ]
  },
  {
   "cell_type": "code",
   "execution_count": 33,
   "metadata": {
    "scrolled": true
   },
   "outputs": [
    {
     "data": {
      "text/plain": [
       "exp_id\n",
       "246    2484\n",
       "247    2513\n",
       "248    2537\n",
       "Name: user_id, dtype: int64"
      ]
     },
     "metadata": {},
     "output_type": "display_data"
    }
   ],
   "source": [
    "# количествo уникальных пользователей в каждой группе\n",
    "group = logs_topical.groupby('exp_id')['user_id'].nunique()\n",
    "display(group) "
   ]
  },
  {
   "cell_type": "markdown",
   "metadata": {},
   "source": [
    "Посморим сразу на суммарные значения контрольных групп 246 и 247."
   ]
  },
  {
   "cell_type": "code",
   "execution_count": 34,
   "metadata": {},
   "outputs": [
    {
     "data": {
      "text/plain": [
       "exp_id\n",
       "246        2484\n",
       "247        2513\n",
       "248        2537\n",
       "246_247    4997\n",
       "Name: user_id, dtype: int64"
      ]
     },
     "metadata": {},
     "output_type": "display_data"
    }
   ],
   "source": [
    "# количествo уникальных пользователей в 246 и 247 группах одновременно\n",
    "group['246_247'] = group[246] + group[247]\n",
    "display(group)"
   ]
  },
  {
   "cell_type": "markdown",
   "metadata": {},
   "source": [
    "Для наглядности и удобства сформируем общую таблицу с уникальным количеством пользователей и конверсией для каждой группы в разрезе событий."
   ]
  },
  {
   "cell_type": "code",
   "execution_count": 35,
   "metadata": {},
   "outputs": [
    {
     "data": {
      "text/html": [
       "<div>\n",
       "<style scoped>\n",
       "    .dataframe tbody tr th:only-of-type {\n",
       "        vertical-align: middle;\n",
       "    }\n",
       "\n",
       "    .dataframe tbody tr th {\n",
       "        vertical-align: top;\n",
       "    }\n",
       "\n",
       "    .dataframe thead th {\n",
       "        text-align: right;\n",
       "    }\n",
       "</style>\n",
       "<table border=\"1\" class=\"dataframe\">\n",
       "  <thead>\n",
       "    <tr style=\"text-align: right;\">\n",
       "      <th></th>\n",
       "      <th>event_name</th>\n",
       "      <th>246</th>\n",
       "      <th>247</th>\n",
       "      <th>248</th>\n",
       "      <th>246_247</th>\n",
       "      <th>conv_246,%</th>\n",
       "      <th>conv_247,%</th>\n",
       "      <th>conv_248,%</th>\n",
       "      <th>conv_246_247,%</th>\n",
       "    </tr>\n",
       "  </thead>\n",
       "  <tbody>\n",
       "    <tr>\n",
       "      <th>0</th>\n",
       "      <td>MainScreenAppear</td>\n",
       "      <td>2450</td>\n",
       "      <td>2476</td>\n",
       "      <td>2493</td>\n",
       "      <td>4926</td>\n",
       "      <td>98.6</td>\n",
       "      <td>98.5</td>\n",
       "      <td>98.3</td>\n",
       "      <td>98.6</td>\n",
       "    </tr>\n",
       "    <tr>\n",
       "      <th>1</th>\n",
       "      <td>OffersScreenAppear</td>\n",
       "      <td>1542</td>\n",
       "      <td>1520</td>\n",
       "      <td>1531</td>\n",
       "      <td>3062</td>\n",
       "      <td>62.1</td>\n",
       "      <td>60.5</td>\n",
       "      <td>60.3</td>\n",
       "      <td>61.3</td>\n",
       "    </tr>\n",
       "    <tr>\n",
       "      <th>2</th>\n",
       "      <td>CartScreenAppear</td>\n",
       "      <td>1266</td>\n",
       "      <td>1238</td>\n",
       "      <td>1230</td>\n",
       "      <td>2504</td>\n",
       "      <td>51.0</td>\n",
       "      <td>49.3</td>\n",
       "      <td>48.5</td>\n",
       "      <td>50.1</td>\n",
       "    </tr>\n",
       "    <tr>\n",
       "      <th>3</th>\n",
       "      <td>PaymentScreenSuccessful</td>\n",
       "      <td>1200</td>\n",
       "      <td>1158</td>\n",
       "      <td>1181</td>\n",
       "      <td>2358</td>\n",
       "      <td>48.3</td>\n",
       "      <td>46.1</td>\n",
       "      <td>46.6</td>\n",
       "      <td>47.2</td>\n",
       "    </tr>\n",
       "  </tbody>\n",
       "</table>\n",
       "</div>"
      ],
      "text/plain": [
       "                event_name   246   247   248  246_247  conv_246,%  conv_247,%  \\\n",
       "0         MainScreenAppear  2450  2476  2493     4926        98.6        98.5   \n",
       "1       OffersScreenAppear  1542  1520  1531     3062        62.1        60.5   \n",
       "2         CartScreenAppear  1266  1238  1230     2504        51.0        49.3   \n",
       "3  PaymentScreenSuccessful  1200  1158  1181     2358        48.3        46.1   \n",
       "\n",
       "   conv_248,%  conv_246_247,%  \n",
       "0        98.3            98.6  \n",
       "1        60.3            61.3  \n",
       "2        48.5            50.1  \n",
       "3        46.6            47.2  "
      ]
     },
     "metadata": {},
     "output_type": "display_data"
    }
   ],
   "source": [
    "# вычисление количества уникальных пользователей группы для каждого события в логе\n",
    "group_test = (\n",
    "    logs_topical[logs_topical['event_name'] != \"Tutorial\"].pivot_table(index='event_name',\n",
    "                                                                      columns='exp_id',\n",
    "                                                                      values='user_id',\n",
    "                                                                      aggfunc='nunique')\n",
    "    .sort_values(by=246, ascending=False) # сортировка по убыванию\n",
    "    .reset_index(drop=False) # обновление индексации\n",
    ")\n",
    "\n",
    "# переименование столбцов\n",
    "group_test.columns = ['event_name', '246', '247', '248'] \n",
    "\n",
    "# добавление суммы контрольных групп\n",
    "group_test['246_247'] = group_test[['246', '247']].sum(axis = 1)\n",
    "\n",
    "# рассчет конверсии\n",
    "group_test['conv_246,%'] = round(group_test['246'] / group[246]*100, 1)\n",
    "group_test['conv_247,%'] = round(group_test['247'] / group[247]*100, 1)\n",
    "group_test['conv_248,%'] = round(group_test['248'] / group[248]*100, 1)\n",
    "group_test['conv_246_247,%'] = round(group_test['246_247'] / group['246_247']*100, 1)\n",
    "display(group_test)"
   ]
  },
  {
   "cell_type": "markdown",
   "metadata": {},
   "source": [
    "Теперь проверим статистическую значимость различий в конверсии между группами.\n",
    "\n",
    "* Нулевая гипотеза: различий в долях между группами нет.\n",
    "* Альтернативная гипотеза: различия в долях между группами есть.\n",
    "\n",
    "Для этого напишем функцию `function`. Считаем статистику в стандартных отклонениях стандартного нормального распределения. Если пропорции будут равны, разница между ними будет равна нулю. Посчитаем, как далеко статистика уехала от нуля. Так как распределение статистики нормальное, вызовем метод `cdf()`. Саму статистику возьмём по модулю методом `abs()` — чтобы получить правильный результат независимо от её знака. Это возможно, потому что тест двусторонний. По этой же причине удваиваем результат."
   ]
  },
  {
   "cell_type": "code",
   "execution_count": 36,
   "metadata": {},
   "outputs": [],
   "source": [
    "alpha = .003125 # критический уровень статистической значимости\n",
    "\n",
    "# функция проверки гипотез\n",
    "def function(a1, b1, a2, b2):\n",
    "    successes = np.array([a1, a2])\n",
    "    trials = np.array([b1, b2])\n",
    "    \n",
    "    p1 = successes[0]/trials[0] # пропорция успехов в первой группе\n",
    "    p2 = successes[1]/trials[1] # пропорция успехов во второй группе\n",
    "    \n",
    "    # пропорция успехов в комбинированном датасете\n",
    "    p_combined = (successes[0] + successes[1]) / (trials[0] + trials[1])  \n",
    "                      \n",
    "    # разница пропорций в датасетах\n",
    "    difference = p1 - p2                   \n",
    "\n",
    "    # считаем статистику в ст.отклонениях стандартного нормального распределения\n",
    "    z_value = difference / mth.sqrt(\n",
    "        p_combined * (1 - p_combined) * (1 / trials[0] + 1 / trials[1])\n",
    "        )\n",
    "\n",
    "    # задаем стандартное нормальное распределение (среднее 0, ст.отклонение 1)\n",
    "    distr = st.norm(0, 1)\n",
    "\n",
    "    p_value = (1 - distr.cdf(abs(z_value))) * 2\n",
    "\n",
    "    print('p-значение: ', p_value)\n",
    "\n",
    "    if p_value < alpha:\n",
    "        print('Отвергаем нулевую гипотезу: между долями есть значимая разница')\n",
    "    else:\n",
    "        print(\n",
    "            'Не получилось отвергнуть нулевую гипотезу, нет оснований считать доли разными'\n",
    "        )"
   ]
  },
  {
   "cell_type": "markdown",
   "metadata": {},
   "source": [
    "Есть 2 контрольные группы для А/А-эксперимента, чтобы проверить корректность всех механизмов и расчётов. Проверим, находят ли статистические критерии разницу между выборками 246 и 247."
   ]
  },
  {
   "cell_type": "code",
   "execution_count": 37,
   "metadata": {},
   "outputs": [
    {
     "name": "stdout",
     "output_type": "stream",
     "text": [
      "p-значение:  0.7570597232046099\n",
      "Не получилось отвергнуть нулевую гипотезу, нет оснований считать доли разными\n",
      "Число пользователей - 2450 и доля пользователей - 98.6, совершивших событие MainScreenAppear в 246 группе.\n",
      "Число пользователей - 2476 и доля пользователей - 98.5, совершивших событие MainScreenAppear в 247 группе.\n",
      "\n",
      "p-значение:  0.2480954578522181\n",
      "Не получилось отвергнуть нулевую гипотезу, нет оснований считать доли разными\n",
      "Число пользователей - 1542 и доля пользователей - 62.1, совершивших событие OffersScreenAppear в 246 группе.\n",
      "Число пользователей - 1520 и доля пользователей - 60.5, совершивших событие OffersScreenAppear в 247 группе.\n",
      "\n",
      "p-значение:  0.22883372237997213\n",
      "Не получилось отвергнуть нулевую гипотезу, нет оснований считать доли разными\n",
      "Число пользователей - 1266 и доля пользователей - 51.0, совершивших событие CartScreenAppear в 246 группе.\n",
      "Число пользователей - 1238 и доля пользователей - 49.3, совершивших событие CartScreenAppear в 247 группе.\n",
      "\n",
      "p-значение:  0.11456679313141849\n",
      "Не получилось отвергнуть нулевую гипотезу, нет оснований считать доли разными\n",
      "Число пользователей - 1200 и доля пользователей - 48.3, совершивших событие PaymentScreenSuccessful в 246 группе.\n",
      "Число пользователей - 1158 и доля пользователей - 46.1, совершивших событие PaymentScreenSuccessful в 247 группе.\n",
      "\n"
     ]
    }
   ],
   "source": [
    "for i in range(len(group_test)):\n",
    "    function(group_test.loc[i,'246'], group[246], group_test.loc[i,'247'], group[247])\n",
    "    print('Число пользователей - {0} и доля пользователей - {1}, совершивших событие {2} в {3} группе.'\n",
    "          .format(group_test.loc[i,'246'],\n",
    "                  group_test.loc[i,'conv_246,%'],\n",
    "                  group_test.loc[i,'event_name'],\n",
    "                  246\n",
    "                 )\n",
    "         )\n",
    "    print('Число пользователей - {0} и доля пользователей - {1}, совершивших событие {2} в {3} группе.'\n",
    "          .format(group_test.loc[i,'247'],\n",
    "                  group_test.loc[i,'conv_247,%'],\n",
    "                  group_test.loc[i,'event_name'],\n",
    "                  247\n",
    "                 )\n",
    "         )\n",
    "    print()"
   ]
  },
  {
   "cell_type": "markdown",
   "metadata": {},
   "source": [
    "Такая разница в пропорциях при указанных размерах выборок для всех этапов воронки достаточна, чтобы говорить об отсутствии статистически значимом различии. Если бы мы утверждали, что доли групп 246 и 247 различаются, мы бы допустили ошибку:\n",
    "* для события MainScreenAppear с вероятностью 76%;\n",
    "* для события OffersScreenAppear с вероятностью 25%;\n",
    "* для события CartScreenAppear с вероятностью 23%;\n",
    "* для события PaymentScreenSuccessful с вероятностью 11%.\n",
    "\n",
    "Две контрольные группы оказались равны, мы можете быть уверены в точности проведенного тестирования. \n",
    "\n",
    "Аналогичную проверку проведем для контрольной группы 246 и экспериментальной 248."
   ]
  },
  {
   "cell_type": "code",
   "execution_count": 38,
   "metadata": {
    "scrolled": false
   },
   "outputs": [
    {
     "name": "stdout",
     "output_type": "stream",
     "text": [
      "p-значение:  0.2949721933554552\n",
      "Не получилось отвергнуть нулевую гипотезу, нет оснований считать доли разными\n",
      "Число пользователей - 2450 и доля пользователей - 98.6, совершивших событие MainScreenAppear в 246 группе.\n",
      "Число пользователей - 2493 и доля пользователей - 98.3, совершивших событие MainScreenAppear в 248 группе.\n",
      "\n",
      "p-значение:  0.20836205402738917\n",
      "Не получилось отвергнуть нулевую гипотезу, нет оснований считать доли разными\n",
      "Число пользователей - 1542 и доля пользователей - 62.1, совершивших событие OffersScreenAppear в 246 группе.\n",
      "Число пользователей - 1531 и доля пользователей - 60.3, совершивших событие OffersScreenAppear в 248 группе.\n",
      "\n",
      "p-значение:  0.07842923237520116\n",
      "Не получилось отвергнуть нулевую гипотезу, нет оснований считать доли разными\n",
      "Число пользователей - 1266 и доля пользователей - 51.0, совершивших событие CartScreenAppear в 246 группе.\n",
      "Число пользователей - 1230 и доля пользователей - 48.5, совершивших событие CartScreenAppear в 248 группе.\n",
      "\n",
      "p-значение:  0.2122553275697796\n",
      "Не получилось отвергнуть нулевую гипотезу, нет оснований считать доли разными\n",
      "Число пользователей - 1200 и доля пользователей - 48.3, совершивших событие PaymentScreenSuccessful в 246 группе.\n",
      "Число пользователей - 1181 и доля пользователей - 46.6, совершивших событие PaymentScreenSuccessful в 248 группе.\n",
      "\n"
     ]
    }
   ],
   "source": [
    "for i in range(len(group_test)):\n",
    "    function(group_test.loc[i,'246'], group[246], group_test.loc[i,'248'], group[248])\n",
    "    print('Число пользователей - {0} и доля пользователей - {1}, совершивших событие {2} в {3} группе.'\n",
    "          .format(group_test.loc[i,'246'],\n",
    "                  group_test.loc[i,'conv_246,%'],\n",
    "                  group_test.loc[i,'event_name'],\n",
    "                  246\n",
    "                 )\n",
    "         )\n",
    "    print('Число пользователей - {0} и доля пользователей - {1}, совершивших событие {2} в {3} группе.'\n",
    "          .format(group_test.loc[i,'248'],\n",
    "                  group_test.loc[i,'conv_248,%'],\n",
    "                  group_test.loc[i,'event_name'],\n",
    "                  248\n",
    "                 )\n",
    "         )\n",
    "    print()"
   ]
  },
  {
   "cell_type": "markdown",
   "metadata": {},
   "source": [
    "Такая разница в пропорциях при указанных размерах выборок для всех этапов воронки достаточна, чтобы говорить об отсутствии статистически значимом различии. Если бы мы утверждали, что доли групп 246 и 248 различаются, мы бы допустили ошибку:\n",
    "* для события MainScreenAppear с вероятностью 29%;\n",
    "* для события OffersScreenAppear с вероятностью 21%;\n",
    "* для события CartScreenAppear с вероятностью 8%;\n",
    "* для события PaymentScreenSuccessful с вероятностью 21%.\n",
    "\n",
    "Теперь посмотрим есть ли разница в выборках для контрольной группы 247 и экспериментальной 248."
   ]
  },
  {
   "cell_type": "code",
   "execution_count": 39,
   "metadata": {
    "scrolled": false
   },
   "outputs": [
    {
     "name": "stdout",
     "output_type": "stream",
     "text": [
      "p-значение:  0.4587053616621515\n",
      "Не получилось отвергнуть нулевую гипотезу, нет оснований считать доли разными\n",
      "Число пользователей - 2476 и доля пользователей - 98.5, совершивших событие MainScreenAppear в 247 группе.\n",
      "Число пользователей - 2493 и доля пользователей - 98.3, совершивших событие MainScreenAppear в 248 группе.\n",
      "\n",
      "p-значение:  0.9197817830592261\n",
      "Не получилось отвергнуть нулевую гипотезу, нет оснований считать доли разными\n",
      "Число пользователей - 1520 и доля пользователей - 60.5, совершивших событие OffersScreenAppear в 247 группе.\n",
      "Число пользователей - 1531 и доля пользователей - 60.3, совершивших событие OffersScreenAppear в 248 группе.\n",
      "\n",
      "p-значение:  0.5786197879539783\n",
      "Не получилось отвергнуть нулевую гипотезу, нет оснований считать доли разными\n",
      "Число пользователей - 1238 и доля пользователей - 49.3, совершивших событие CartScreenAppear в 247 группе.\n",
      "Число пользователей - 1230 и доля пользователей - 48.5, совершивших событие CartScreenAppear в 248 группе.\n",
      "\n",
      "p-значение:  0.7373415053803964\n",
      "Не получилось отвергнуть нулевую гипотезу, нет оснований считать доли разными\n",
      "Число пользователей - 1158 и доля пользователей - 46.1, совершивших событие PaymentScreenSuccessful в 247 группе.\n",
      "Число пользователей - 1181 и доля пользователей - 46.6, совершивших событие PaymentScreenSuccessful в 248 группе.\n",
      "\n"
     ]
    }
   ],
   "source": [
    "for i in range(len(group_test)):\n",
    "    function(group_test.loc[i,'247'], group[247], group_test.loc[i,'248'], group[248])\n",
    "    print('Число пользователей - {0} и доля пользователей - {1}, совершивших событие {2} в {3} группе.'\n",
    "          .format(group_test.loc[i,'247'],\n",
    "                  group_test.loc[i,'conv_247,%'],\n",
    "                  group_test.loc[i,'event_name'],\n",
    "                  247\n",
    "                 )\n",
    "         )\n",
    "    print('Число пользователей - {0} и доля пользователей - {1}, совершивших событие {2} в {3} группе.'\n",
    "          .format(group_test.loc[i,'248'],\n",
    "                  group_test.loc[i,'conv_248,%'],\n",
    "                  group_test.loc[i,'event_name'],\n",
    "                  248\n",
    "                 )\n",
    "         )\n",
    "    print()"
   ]
  },
  {
   "cell_type": "markdown",
   "metadata": {},
   "source": [
    "Такая разница в пропорциях при указанных размерах выборок для всех этапов воронки достаточна, чтобы говорить об отсутствии статистически значимом различии. Если бы мы утверждали, что доли групп 247 и 248 различаются, мы бы допустили ошибку:\n",
    "* для события MainScreenAppear с вероятностью 46%;\n",
    "* для события OffersScreenAppear с вероятностью 92%;\n",
    "* для события CartScreenAppear с вероятностью 58%;\n",
    "* для события PaymentScreenSuccessful с вероятностью 74%.\n",
    "\n",
    "Сделаем последнюю проверку для комбинированной контрольной группы 246-247 и экспериментальной 248."
   ]
  },
  {
   "cell_type": "code",
   "execution_count": 40,
   "metadata": {},
   "outputs": [
    {
     "name": "stdout",
     "output_type": "stream",
     "text": [
      "p-значение:  0.29424526837179577\n",
      "Не получилось отвергнуть нулевую гипотезу, нет оснований считать доли разными\n",
      "Число пользователей - 4926 и доля пользователей - 98.6, совершивших событие MainScreenAppear в 246 и 247 группе.\n",
      "Число пользователей - 2493 и доля пользователей - 98.3, совершивших событие MainScreenAppear в 248 группе.\n",
      "\n",
      "p-значение:  0.43425549655188256\n",
      "Не получилось отвергнуть нулевую гипотезу, нет оснований считать доли разными\n",
      "Число пользователей - 3062 и доля пользователей - 61.3, совершивших событие OffersScreenAppear в 246 и 247 группе.\n",
      "Число пользователей - 1531 и доля пользователей - 60.3, совершивших событие OffersScreenAppear в 248 группе.\n",
      "\n",
      "p-значение:  0.18175875284404386\n",
      "Не получилось отвергнуть нулевую гипотезу, нет оснований считать доли разными\n",
      "Число пользователей - 2504 и доля пользователей - 50.1, совершивших событие CartScreenAppear в 246 и 247 группе.\n",
      "Число пользователей - 1230 и доля пользователей - 48.5, совершивших событие CartScreenAppear в 248 группе.\n",
      "\n",
      "p-значение:  0.6004294282308704\n",
      "Не получилось отвергнуть нулевую гипотезу, нет оснований считать доли разными\n",
      "Число пользователей - 2358 и доля пользователей - 47.2, совершивших событие PaymentScreenSuccessful в 246 и 247 группе.\n",
      "Число пользователей - 1181 и доля пользователей - 46.6, совершивших событие PaymentScreenSuccessful в 248 группе.\n",
      "\n"
     ]
    }
   ],
   "source": [
    "for i in range(len(group_test)):\n",
    "    function(group_test.loc[i,'246_247'], group['246_247'], group_test.loc[i,'248'], group[248])\n",
    "    print('Число пользователей - {0} и доля пользователей - {1}, совершивших событие {2} в {3} группе.'\n",
    "          .format(group_test.loc[i,'246_247'],\n",
    "                  group_test.loc[i,'conv_246_247,%'],\n",
    "                  group_test.loc[i,'event_name'],\n",
    "                  '246 и 247'\n",
    "                 )\n",
    "         )\n",
    "    print('Число пользователей - {0} и доля пользователей - {1}, совершивших событие {2} в {3} группе.'\n",
    "          .format(group_test.loc[i,'248'],\n",
    "                  group_test.loc[i,'conv_248,%'],\n",
    "                  group_test.loc[i,'event_name'],\n",
    "                  248\n",
    "                 )\n",
    "         )\n",
    "    print()"
   ]
  },
  {
   "cell_type": "markdown",
   "metadata": {},
   "source": [
    "Такая разница в пропорциях при указанных размерах выборок для всех этапов воронки достаточна, чтобы говорить об отсутствии статистически значимом различии. Если бы мы утверждали, что доли групп 246-247 и 248 различаются, мы бы допустили ошибку:\n",
    "* для события MainScreenAppear с вероятностью 29%;\n",
    "* для события OffersScreenAppear с вероятностью 43%;\n",
    "* для события CartScreenAppear с вероятностью 18%;\n",
    "* для события PaymentScreenSuccessful с вероятностью 60%."
   ]
  },
  {
   "cell_type": "markdown",
   "metadata": {},
   "source": [
    "При проверке статистических гипотез используем уровень значимости равный 0.05, т.е. вероятность получить одно значимое различие равняется 5%, но это справедливо только не для множественного сравнения выборок. Если провести расчёты, то мы провели 16 сравнительных тестов: 4 выборки по 4 гипотезы в каждой для каждого события. Если применять метод Бонферрони, то чтобы сохранить одно значимое различие в 5% случаях необходимо уровень значимости разделить на количество гипотез `bonferroni_alpha = alpha / 16`. Проанализировав данные полученные z-тестом мы можем с уверенностью сказать, что изменение уровня значимости на 0.003125 не отразился на конечных результатах."
   ]
  },
  {
   "cell_type": "markdown",
   "metadata": {},
   "source": [
    "### Вывод"
   ]
  },
  {
   "cell_type": "markdown",
   "metadata": {},
   "source": [
    "Проведено 16 сравнительных тестов: 4 выборки по 4 гипотезы в каждой для каждого события. Которые подтвердили, что статистически значимых различий в долях между контрольными и экспериментальными группами нет."
   ]
  },
  {
   "cell_type": "markdown",
   "metadata": {},
   "source": [
    "## Общий вывод"
   ]
  },
  {
   "cell_type": "markdown",
   "metadata": {},
   "source": [
    "Во время исследования данных было установлено:\n",
    "1. В логе 7551 уникальных пользователя.\n",
    "\n",
    "2. В среднем на одного пользователя приходится 32 события.\n",
    "\n",
    "3. Данные за период с 2019-07-25 по 2019-08-07, из которых устаревшие данные до 2019-08-01. Поэтому далее в исследовании использовали период с 2019-08-01 по 2019-08-07.\n",
    "\n",
    "\n",
    "Благодаря изучению воронки продаж получены следующие результаты:\n",
    "1. Чтобы добраться до покупки пользователь проходит через следующие этапы:\n",
    "* главная страница (MainScreenAppear);\n",
    "* руководство по использованию (Tutorial) - есть возможность пропуска данного этапа;\n",
    "* страница с предложениями (OffersScreenAppear);\n",
    "* корзина (CartScreenAppear);\n",
    "* экран об успешном завершении платежа (PaymentScreenSuccessful).\n",
    "\n",
    "2. С главной страницы до оплаты доходит 48% пользователей.\n",
    "\n",
    "\n",
    "3. С момента загрузки приложения и перехода на главную страницу теряется 1,5% пользователей. Наибольшие потери пользователей при переходе с главной страницы на страницу с предложениями - 38%. После ознакомления с товаром только 19% пользователей ничего не выбирают, а 5% не оплачивают заказ после наполнения корзины.\n",
    "\n",
    "Возможно, в приложении у главной страницы непонятный интерфейс, что пользователь не может сообразить, как перейти к предложениями или в течение исследуемой недели были какие-то технические сложности при загрузке страницы с предложениями. Необходима уточнить данный момент, т.к. устранение данной проблемы значительно увеличит процент продаж.\n",
    "\n",
    "Согласно исследованию результатов A/A/B-эксперимента были сделаны выводы, что изменение шрифта на поведение пользователей не влияет."
   ]
  }
 ],
 "metadata": {
  "ExecuteTimeLog": [
   {
    "duration": 4,
    "start_time": "2022-06-04T12:10:55.059Z"
   },
   {
    "duration": 59,
    "start_time": "2022-06-04T12:21:50.436Z"
   },
   {
    "duration": 1366,
    "start_time": "2022-06-04T12:21:53.600Z"
   },
   {
    "duration": 836,
    "start_time": "2022-06-04T12:21:57.624Z"
   },
   {
    "duration": 51,
    "start_time": "2022-06-04T12:24:31.439Z"
   },
   {
    "duration": 172,
    "start_time": "2022-06-04T12:24:49.499Z"
   },
   {
    "duration": 31,
    "start_time": "2022-06-04T12:26:14.698Z"
   },
   {
    "duration": 4,
    "start_time": "2022-06-04T12:49:37.890Z"
   },
   {
    "duration": 7,
    "start_time": "2022-06-04T12:57:10.794Z"
   },
   {
    "duration": 3,
    "start_time": "2022-06-04T12:57:53.457Z"
   },
   {
    "duration": 5,
    "start_time": "2022-06-04T13:02:02.844Z"
   },
   {
    "duration": 67,
    "start_time": "2022-06-04T13:03:09.523Z"
   },
   {
    "duration": 4,
    "start_time": "2022-06-04T13:04:08.745Z"
   },
   {
    "duration": 46,
    "start_time": "2022-06-04T13:06:04.954Z"
   },
   {
    "duration": 72,
    "start_time": "2022-06-04T13:08:54.684Z"
   },
   {
    "duration": 16,
    "start_time": "2022-06-04T13:10:24.120Z"
   },
   {
    "duration": 5,
    "start_time": "2022-06-04T13:11:21.539Z"
   },
   {
    "duration": 700,
    "start_time": "2022-06-04T13:11:49.395Z"
   },
   {
    "duration": 4,
    "start_time": "2022-06-04T13:11:56.744Z"
   },
   {
    "duration": 184,
    "start_time": "2022-06-04T13:11:56.750Z"
   },
   {
    "duration": 21,
    "start_time": "2022-06-04T13:11:56.936Z"
   },
   {
    "duration": 3,
    "start_time": "2022-06-04T13:11:56.960Z"
   },
   {
    "duration": 10,
    "start_time": "2022-06-04T13:11:56.965Z"
   },
   {
    "duration": 4,
    "start_time": "2022-06-04T13:11:56.977Z"
   },
   {
    "duration": 5,
    "start_time": "2022-06-04T13:11:56.983Z"
   },
   {
    "duration": 464,
    "start_time": "2022-06-04T13:11:56.990Z"
   },
   {
    "duration": 0,
    "start_time": "2022-06-04T13:11:57.456Z"
   },
   {
    "duration": 0,
    "start_time": "2022-06-04T13:11:57.457Z"
   },
   {
    "duration": 0,
    "start_time": "2022-06-04T13:11:57.458Z"
   },
   {
    "duration": 0,
    "start_time": "2022-06-04T13:11:57.460Z"
   },
   {
    "duration": 56,
    "start_time": "2022-06-04T13:12:22.708Z"
   },
   {
    "duration": 3,
    "start_time": "2022-06-04T13:12:27.919Z"
   },
   {
    "duration": 14,
    "start_time": "2022-06-04T13:13:10.694Z"
   },
   {
    "duration": 25,
    "start_time": "2022-06-04T13:13:47.640Z"
   },
   {
    "duration": 9,
    "start_time": "2022-06-04T13:16:01.904Z"
   },
   {
    "duration": 25,
    "start_time": "2022-06-04T13:16:23.979Z"
   },
   {
    "duration": 9,
    "start_time": "2022-06-04T13:16:52.545Z"
   },
   {
    "duration": 15,
    "start_time": "2022-06-04T13:17:35.799Z"
   },
   {
    "duration": 64,
    "start_time": "2022-06-04T13:17:36.895Z"
   },
   {
    "duration": 74,
    "start_time": "2022-06-04T13:24:53.846Z"
   },
   {
    "duration": 16,
    "start_time": "2022-06-04T13:24:57.503Z"
   },
   {
    "duration": 81,
    "start_time": "2022-06-04T13:31:03.722Z"
   },
   {
    "duration": 70,
    "start_time": "2022-06-04T13:31:05.224Z"
   },
   {
    "duration": 15,
    "start_time": "2022-06-04T13:31:07.301Z"
   },
   {
    "duration": 11,
    "start_time": "2022-06-04T13:32:02.324Z"
   },
   {
    "duration": 16,
    "start_time": "2022-06-04T13:32:06.007Z"
   },
   {
    "duration": 60,
    "start_time": "2022-06-06T11:37:09.336Z"
   },
   {
    "duration": 1529,
    "start_time": "2022-06-06T11:37:14.000Z"
   },
   {
    "duration": 808,
    "start_time": "2022-06-06T11:37:15.532Z"
   },
   {
    "duration": 27,
    "start_time": "2022-06-06T11:37:16.342Z"
   },
   {
    "duration": 8,
    "start_time": "2022-06-06T11:37:16.371Z"
   },
   {
    "duration": 19,
    "start_time": "2022-06-06T11:37:16.382Z"
   },
   {
    "duration": 3,
    "start_time": "2022-06-06T11:37:16.403Z"
   },
   {
    "duration": 5,
    "start_time": "2022-06-06T11:37:16.408Z"
   },
   {
    "duration": 49,
    "start_time": "2022-06-06T11:37:16.414Z"
   },
   {
    "duration": 3,
    "start_time": "2022-06-06T11:37:16.465Z"
   },
   {
    "duration": 39,
    "start_time": "2022-06-06T11:37:16.470Z"
   },
   {
    "duration": 73,
    "start_time": "2022-06-06T11:37:16.511Z"
   },
   {
    "duration": 81,
    "start_time": "2022-06-06T11:37:16.586Z"
   },
   {
    "duration": 82,
    "start_time": "2022-06-06T11:37:16.669Z"
   },
   {
    "duration": 16,
    "start_time": "2022-06-06T11:37:16.753Z"
   },
   {
    "duration": 10,
    "start_time": "2022-06-06T11:37:16.770Z"
   },
   {
    "duration": 95,
    "start_time": "2022-06-06T11:37:41.341Z"
   },
   {
    "duration": 69,
    "start_time": "2022-06-06T11:39:41.069Z"
   },
   {
    "duration": 148,
    "start_time": "2022-06-06T11:41:25.767Z"
   },
   {
    "duration": 103,
    "start_time": "2022-06-06T11:44:35.717Z"
   },
   {
    "duration": 88,
    "start_time": "2022-06-06T11:44:45.308Z"
   },
   {
    "duration": 12,
    "start_time": "2022-06-06T11:55:25.235Z"
   },
   {
    "duration": 101,
    "start_time": "2022-06-06T11:55:27.352Z"
   },
   {
    "duration": 16,
    "start_time": "2022-06-06T11:55:29.263Z"
   },
   {
    "duration": 3,
    "start_time": "2022-06-06T11:56:03.893Z"
   },
   {
    "duration": 184,
    "start_time": "2022-06-06T11:56:03.899Z"
   },
   {
    "duration": 29,
    "start_time": "2022-06-06T11:56:04.084Z"
   },
   {
    "duration": 5,
    "start_time": "2022-06-06T11:56:04.116Z"
   },
   {
    "duration": 15,
    "start_time": "2022-06-06T11:56:04.125Z"
   },
   {
    "duration": 8,
    "start_time": "2022-06-06T11:56:04.141Z"
   },
   {
    "duration": 11,
    "start_time": "2022-06-06T11:56:04.151Z"
   },
   {
    "duration": 6,
    "start_time": "2022-06-06T11:56:04.164Z"
   },
   {
    "duration": 28,
    "start_time": "2022-06-06T11:56:04.172Z"
   },
   {
    "duration": 33,
    "start_time": "2022-06-06T11:56:04.203Z"
   },
   {
    "duration": 64,
    "start_time": "2022-06-06T11:56:04.239Z"
   },
   {
    "duration": 95,
    "start_time": "2022-06-06T11:56:04.305Z"
   },
   {
    "duration": 64,
    "start_time": "2022-06-06T11:56:04.404Z"
   },
   {
    "duration": 14,
    "start_time": "2022-06-06T11:56:04.470Z"
   },
   {
    "duration": 27,
    "start_time": "2022-06-06T11:56:04.486Z"
   },
   {
    "duration": 0,
    "start_time": "2022-06-06T11:56:04.515Z"
   },
   {
    "duration": 0,
    "start_time": "2022-06-06T11:56:04.517Z"
   },
   {
    "duration": 72,
    "start_time": "2022-06-06T11:56:33.791Z"
   },
   {
    "duration": 14,
    "start_time": "2022-06-06T11:56:37.039Z"
   },
   {
    "duration": 3,
    "start_time": "2022-06-06T11:59:03.423Z"
   },
   {
    "duration": 186,
    "start_time": "2022-06-06T11:59:03.428Z"
   },
   {
    "duration": 19,
    "start_time": "2022-06-06T11:59:03.616Z"
   },
   {
    "duration": 4,
    "start_time": "2022-06-06T11:59:03.637Z"
   },
   {
    "duration": 11,
    "start_time": "2022-06-06T11:59:03.643Z"
   },
   {
    "duration": 4,
    "start_time": "2022-06-06T11:59:03.655Z"
   },
   {
    "duration": 45,
    "start_time": "2022-06-06T11:59:03.661Z"
   },
   {
    "duration": 63,
    "start_time": "2022-06-06T11:59:03.707Z"
   },
   {
    "duration": 81,
    "start_time": "2022-06-06T11:59:03.772Z"
   },
   {
    "duration": 63,
    "start_time": "2022-06-06T11:59:03.855Z"
   },
   {
    "duration": 7,
    "start_time": "2022-06-06T11:59:03.919Z"
   },
   {
    "duration": 83,
    "start_time": "2022-06-06T11:59:03.928Z"
   },
   {
    "duration": 21,
    "start_time": "2022-06-06T11:59:04.013Z"
   },
   {
    "duration": 10,
    "start_time": "2022-06-06T11:59:04.037Z"
   },
   {
    "duration": 3,
    "start_time": "2022-06-06T12:01:15.668Z"
   },
   {
    "duration": 163,
    "start_time": "2022-06-06T12:01:15.673Z"
   },
   {
    "duration": 20,
    "start_time": "2022-06-06T12:01:15.838Z"
   },
   {
    "duration": 3,
    "start_time": "2022-06-06T12:01:15.860Z"
   },
   {
    "duration": 9,
    "start_time": "2022-06-06T12:01:15.865Z"
   },
   {
    "duration": 25,
    "start_time": "2022-06-06T12:01:15.875Z"
   },
   {
    "duration": 19,
    "start_time": "2022-06-06T12:01:15.902Z"
   },
   {
    "duration": 58,
    "start_time": "2022-06-06T12:01:15.923Z"
   },
   {
    "duration": 70,
    "start_time": "2022-06-06T12:01:16.000Z"
   },
   {
    "duration": 69,
    "start_time": "2022-06-06T12:01:16.071Z"
   },
   {
    "duration": 7,
    "start_time": "2022-06-06T12:01:16.143Z"
   },
   {
    "duration": 86,
    "start_time": "2022-06-06T12:01:16.152Z"
   },
   {
    "duration": 13,
    "start_time": "2022-06-06T12:01:16.240Z"
   },
   {
    "duration": 9,
    "start_time": "2022-06-06T12:01:16.255Z"
   },
   {
    "duration": 8,
    "start_time": "2022-06-06T12:02:39.655Z"
   },
   {
    "duration": 4,
    "start_time": "2022-06-06T12:03:00.119Z"
   },
   {
    "duration": 5,
    "start_time": "2022-06-06T12:03:27.094Z"
   },
   {
    "duration": 7,
    "start_time": "2022-06-06T12:12:40.852Z"
   },
   {
    "duration": 3,
    "start_time": "2022-06-06T12:12:45.725Z"
   },
   {
    "duration": 3,
    "start_time": "2022-06-06T12:13:51.346Z"
   },
   {
    "duration": 3,
    "start_time": "2022-06-06T12:14:00.730Z"
   },
   {
    "duration": 236,
    "start_time": "2022-06-06T12:14:00.734Z"
   },
   {
    "duration": 28,
    "start_time": "2022-06-06T12:14:00.972Z"
   },
   {
    "duration": 6,
    "start_time": "2022-06-06T12:14:01.002Z"
   },
   {
    "duration": 30,
    "start_time": "2022-06-06T12:14:01.010Z"
   },
   {
    "duration": 7,
    "start_time": "2022-06-06T12:14:01.041Z"
   },
   {
    "duration": 38,
    "start_time": "2022-06-06T12:14:01.050Z"
   },
   {
    "duration": 64,
    "start_time": "2022-06-06T12:14:01.090Z"
   },
   {
    "duration": 73,
    "start_time": "2022-06-06T12:14:01.156Z"
   },
   {
    "duration": 54,
    "start_time": "2022-06-06T12:14:01.231Z"
   },
   {
    "duration": 550,
    "start_time": "2022-06-06T12:14:01.299Z"
   },
   {
    "duration": 0,
    "start_time": "2022-06-06T12:14:01.851Z"
   },
   {
    "duration": 0,
    "start_time": "2022-06-06T12:14:01.853Z"
   },
   {
    "duration": 0,
    "start_time": "2022-06-06T12:14:01.854Z"
   },
   {
    "duration": 0,
    "start_time": "2022-06-06T12:14:01.856Z"
   },
   {
    "duration": 3,
    "start_time": "2022-06-06T12:16:01.291Z"
   },
   {
    "duration": 7,
    "start_time": "2022-06-06T12:16:53.090Z"
   },
   {
    "duration": 3,
    "start_time": "2022-06-06T12:18:40.407Z"
   },
   {
    "duration": 91,
    "start_time": "2022-06-06T12:20:39.721Z"
   },
   {
    "duration": 16,
    "start_time": "2022-06-06T12:22:09.983Z"
   },
   {
    "duration": 9,
    "start_time": "2022-06-06T12:22:49.273Z"
   },
   {
    "duration": 3,
    "start_time": "2022-06-06T12:23:34.292Z"
   },
   {
    "duration": 163,
    "start_time": "2022-06-06T12:23:34.303Z"
   },
   {
    "duration": 19,
    "start_time": "2022-06-06T12:23:34.468Z"
   },
   {
    "duration": 11,
    "start_time": "2022-06-06T12:23:34.489Z"
   },
   {
    "duration": 5,
    "start_time": "2022-06-06T12:23:34.501Z"
   },
   {
    "duration": 6,
    "start_time": "2022-06-06T12:23:34.507Z"
   },
   {
    "duration": 7,
    "start_time": "2022-06-06T12:23:34.514Z"
   },
   {
    "duration": 11,
    "start_time": "2022-06-06T12:23:34.522Z"
   },
   {
    "duration": 3,
    "start_time": "2022-06-06T12:23:34.535Z"
   },
   {
    "duration": 95,
    "start_time": "2022-06-06T12:23:34.539Z"
   },
   {
    "duration": 10,
    "start_time": "2022-06-06T12:23:34.635Z"
   },
   {
    "duration": 29,
    "start_time": "2022-06-06T12:23:34.646Z"
   },
   {
    "duration": 91,
    "start_time": "2022-06-06T12:23:34.677Z"
   },
   {
    "duration": 105,
    "start_time": "2022-06-06T12:23:34.770Z"
   },
   {
    "duration": 75,
    "start_time": "2022-06-06T12:23:34.878Z"
   },
   {
    "duration": 15,
    "start_time": "2022-06-06T12:48:15.625Z"
   },
   {
    "duration": 13,
    "start_time": "2022-06-06T12:51:55.991Z"
   },
   {
    "duration": 30,
    "start_time": "2022-06-06T12:53:00.807Z"
   },
   {
    "duration": 27,
    "start_time": "2022-06-06T12:53:15.558Z"
   },
   {
    "duration": 13,
    "start_time": "2022-06-06T12:53:39.007Z"
   },
   {
    "duration": 13,
    "start_time": "2022-06-06T12:54:45.471Z"
   },
   {
    "duration": 13,
    "start_time": "2022-06-06T12:55:32.717Z"
   },
   {
    "duration": 7,
    "start_time": "2022-06-06T12:59:44.160Z"
   },
   {
    "duration": 3,
    "start_time": "2022-06-06T12:59:59.378Z"
   },
   {
    "duration": 174,
    "start_time": "2022-06-06T12:59:59.383Z"
   },
   {
    "duration": 19,
    "start_time": "2022-06-06T12:59:59.559Z"
   },
   {
    "duration": 4,
    "start_time": "2022-06-06T12:59:59.580Z"
   },
   {
    "duration": 23,
    "start_time": "2022-06-06T12:59:59.585Z"
   },
   {
    "duration": 5,
    "start_time": "2022-06-06T12:59:59.610Z"
   },
   {
    "duration": 5,
    "start_time": "2022-06-06T12:59:59.617Z"
   },
   {
    "duration": 9,
    "start_time": "2022-06-06T12:59:59.624Z"
   },
   {
    "duration": 3,
    "start_time": "2022-06-06T12:59:59.636Z"
   },
   {
    "duration": 108,
    "start_time": "2022-06-06T12:59:59.640Z"
   },
   {
    "duration": 8,
    "start_time": "2022-06-06T12:59:59.750Z"
   },
   {
    "duration": 41,
    "start_time": "2022-06-06T12:59:59.760Z"
   },
   {
    "duration": 79,
    "start_time": "2022-06-06T12:59:59.802Z"
   },
   {
    "duration": 110,
    "start_time": "2022-06-06T12:59:59.882Z"
   },
   {
    "duration": 77,
    "start_time": "2022-06-06T13:00:00.000Z"
   },
   {
    "duration": 28,
    "start_time": "2022-06-06T13:00:00.079Z"
   },
   {
    "duration": 12,
    "start_time": "2022-06-06T13:00:00.109Z"
   },
   {
    "duration": 25,
    "start_time": "2022-06-06T13:00:00.123Z"
   },
   {
    "duration": 709,
    "start_time": "2022-06-06T13:02:17.964Z"
   },
   {
    "duration": 17,
    "start_time": "2022-06-06T13:02:32.761Z"
   },
   {
    "duration": 4,
    "start_time": "2022-06-06T13:14:21.077Z"
   },
   {
    "duration": 74,
    "start_time": "2022-06-06T13:15:08.557Z"
   },
   {
    "duration": 4,
    "start_time": "2022-06-06T13:15:18.516Z"
   },
   {
    "duration": 3,
    "start_time": "2022-06-06T13:15:32.677Z"
   },
   {
    "duration": 6,
    "start_time": "2022-06-06T13:32:15.773Z"
   },
   {
    "duration": 34,
    "start_time": "2022-06-06T13:33:02.062Z"
   },
   {
    "duration": 58,
    "start_time": "2022-06-06T13:33:27.736Z"
   },
   {
    "duration": 226,
    "start_time": "2022-06-06T13:40:13.538Z"
   },
   {
    "duration": 9,
    "start_time": "2022-06-06T13:47:59.745Z"
   },
   {
    "duration": 4,
    "start_time": "2022-06-06T13:48:11.441Z"
   },
   {
    "duration": 14,
    "start_time": "2022-06-06T13:48:21.198Z"
   },
   {
    "duration": 4,
    "start_time": "2022-06-06T13:48:31.018Z"
   },
   {
    "duration": 482,
    "start_time": "2022-06-06T13:51:11.174Z"
   },
   {
    "duration": 299,
    "start_time": "2022-06-06T13:51:30.329Z"
   },
   {
    "duration": 345,
    "start_time": "2022-06-06T13:52:05.743Z"
   },
   {
    "duration": 389,
    "start_time": "2022-06-06T13:52:21.367Z"
   },
   {
    "duration": 342,
    "start_time": "2022-06-06T13:53:13.341Z"
   },
   {
    "duration": 290,
    "start_time": "2022-06-06T13:53:38.056Z"
   },
   {
    "duration": 304,
    "start_time": "2022-06-06T13:55:05.990Z"
   },
   {
    "duration": 283,
    "start_time": "2022-06-06T13:55:12.036Z"
   },
   {
    "duration": 289,
    "start_time": "2022-06-06T13:58:26.508Z"
   },
   {
    "duration": 291,
    "start_time": "2022-06-06T14:01:22.427Z"
   },
   {
    "duration": 384,
    "start_time": "2022-06-06T14:02:20.589Z"
   },
   {
    "duration": 274,
    "start_time": "2022-06-06T14:02:34.379Z"
   },
   {
    "duration": 301,
    "start_time": "2022-06-06T14:03:15.156Z"
   },
   {
    "duration": 275,
    "start_time": "2022-06-06T14:03:26.890Z"
   },
   {
    "duration": 269,
    "start_time": "2022-06-06T14:03:36.044Z"
   },
   {
    "duration": 408,
    "start_time": "2022-06-06T14:04:13.979Z"
   },
   {
    "duration": 394,
    "start_time": "2022-06-06T14:43:52.039Z"
   },
   {
    "duration": 4,
    "start_time": "2022-06-06T14:44:28.464Z"
   },
   {
    "duration": 146,
    "start_time": "2022-06-06T14:44:42.011Z"
   },
   {
    "duration": 15,
    "start_time": "2022-06-06T14:45:13.539Z"
   },
   {
    "duration": 22,
    "start_time": "2022-06-06T14:45:30.128Z"
   },
   {
    "duration": 24,
    "start_time": "2022-06-06T14:47:06.028Z"
   },
   {
    "duration": 15,
    "start_time": "2022-06-06T14:50:57.365Z"
   },
   {
    "duration": 19,
    "start_time": "2022-06-06T14:51:59.233Z"
   },
   {
    "duration": 13,
    "start_time": "2022-06-06T14:53:55.974Z"
   },
   {
    "duration": 49,
    "start_time": "2022-06-06T14:55:10.219Z"
   },
   {
    "duration": 15,
    "start_time": "2022-06-06T14:55:14.738Z"
   },
   {
    "duration": 13,
    "start_time": "2022-06-06T14:55:22.883Z"
   },
   {
    "duration": 28,
    "start_time": "2022-06-06T14:55:40.164Z"
   },
   {
    "duration": 14,
    "start_time": "2022-06-06T14:55:47.730Z"
   },
   {
    "duration": 14,
    "start_time": "2022-06-06T14:56:00.777Z"
   },
   {
    "duration": 14,
    "start_time": "2022-06-06T14:56:09.695Z"
   },
   {
    "duration": 14,
    "start_time": "2022-06-06T14:58:12.693Z"
   },
   {
    "duration": 9,
    "start_time": "2022-06-06T15:03:34.630Z"
   },
   {
    "duration": 12,
    "start_time": "2022-06-06T15:05:04.998Z"
   },
   {
    "duration": 13,
    "start_time": "2022-06-06T15:05:22.165Z"
   },
   {
    "duration": 8,
    "start_time": "2022-06-06T15:05:50.147Z"
   },
   {
    "duration": 8,
    "start_time": "2022-06-06T15:06:06.094Z"
   },
   {
    "duration": 24,
    "start_time": "2022-06-06T15:06:54.204Z"
   },
   {
    "duration": 12,
    "start_time": "2022-06-06T15:06:58.135Z"
   },
   {
    "duration": 20,
    "start_time": "2022-06-06T15:07:33.085Z"
   },
   {
    "duration": 16,
    "start_time": "2022-06-06T15:07:51.391Z"
   },
   {
    "duration": 14,
    "start_time": "2022-06-06T15:08:03.700Z"
   },
   {
    "duration": 14,
    "start_time": "2022-06-06T15:10:16.021Z"
   },
   {
    "duration": 9,
    "start_time": "2022-06-06T15:11:12.509Z"
   },
   {
    "duration": 17,
    "start_time": "2022-06-06T15:19:12.285Z"
   },
   {
    "duration": 10,
    "start_time": "2022-06-06T15:29:45.938Z"
   },
   {
    "duration": 41,
    "start_time": "2022-06-06T15:30:00.630Z"
   },
   {
    "duration": 12,
    "start_time": "2022-06-06T15:36:03.244Z"
   },
   {
    "duration": 14,
    "start_time": "2022-06-06T15:36:20.321Z"
   },
   {
    "duration": 19,
    "start_time": "2022-06-06T15:36:35.488Z"
   },
   {
    "duration": 16,
    "start_time": "2022-06-06T15:40:09.917Z"
   },
   {
    "duration": 39,
    "start_time": "2022-06-06T15:41:09.606Z"
   },
   {
    "duration": 36,
    "start_time": "2022-06-06T15:42:01.470Z"
   },
   {
    "duration": 17,
    "start_time": "2022-06-06T15:42:13.347Z"
   },
   {
    "duration": 22,
    "start_time": "2022-06-06T15:44:37.280Z"
   },
   {
    "duration": 15,
    "start_time": "2022-06-06T15:44:47.601Z"
   },
   {
    "duration": 22,
    "start_time": "2022-06-06T15:45:40.608Z"
   },
   {
    "duration": 17,
    "start_time": "2022-06-06T15:45:46.974Z"
   },
   {
    "duration": 47,
    "start_time": "2022-06-06T16:06:02.885Z"
   },
   {
    "duration": 47,
    "start_time": "2022-06-06T16:06:26.283Z"
   },
   {
    "duration": 40,
    "start_time": "2022-06-06T16:06:43.217Z"
   },
   {
    "duration": 40,
    "start_time": "2022-06-06T16:07:05.440Z"
   },
   {
    "duration": 47,
    "start_time": "2022-06-06T16:07:40.686Z"
   },
   {
    "duration": 35,
    "start_time": "2022-06-06T16:07:49.849Z"
   },
   {
    "duration": 36,
    "start_time": "2022-06-06T16:08:04.123Z"
   },
   {
    "duration": 36,
    "start_time": "2022-06-06T16:08:23.362Z"
   },
   {
    "duration": 10,
    "start_time": "2022-06-06T16:20:11.761Z"
   },
   {
    "duration": 1247,
    "start_time": "2022-06-06T16:21:32.576Z"
   },
   {
    "duration": 199,
    "start_time": "2022-06-06T16:21:33.825Z"
   },
   {
    "duration": 23,
    "start_time": "2022-06-06T16:21:34.026Z"
   },
   {
    "duration": 4,
    "start_time": "2022-06-06T16:21:34.051Z"
   },
   {
    "duration": 9,
    "start_time": "2022-06-06T16:21:34.058Z"
   },
   {
    "duration": 4,
    "start_time": "2022-06-06T16:21:34.069Z"
   },
   {
    "duration": 35,
    "start_time": "2022-06-06T16:21:34.075Z"
   },
   {
    "duration": 16,
    "start_time": "2022-06-06T16:21:34.111Z"
   },
   {
    "duration": 17,
    "start_time": "2022-06-06T16:21:34.129Z"
   },
   {
    "duration": 103,
    "start_time": "2022-06-06T16:21:34.148Z"
   },
   {
    "duration": 10,
    "start_time": "2022-06-06T16:21:34.252Z"
   },
   {
    "duration": 58,
    "start_time": "2022-06-06T16:21:34.264Z"
   },
   {
    "duration": 35,
    "start_time": "2022-06-06T16:21:34.327Z"
   },
   {
    "duration": 98,
    "start_time": "2022-06-06T16:21:34.365Z"
   },
   {
    "duration": 106,
    "start_time": "2022-06-06T16:21:34.465Z"
   },
   {
    "duration": 90,
    "start_time": "2022-06-06T16:21:34.573Z"
   },
   {
    "duration": 14,
    "start_time": "2022-06-06T16:21:34.666Z"
   },
   {
    "duration": 54,
    "start_time": "2022-06-06T16:21:34.682Z"
   },
   {
    "duration": 4,
    "start_time": "2022-06-06T16:21:34.738Z"
   },
   {
    "duration": 32,
    "start_time": "2022-06-06T16:21:34.744Z"
   },
   {
    "duration": 1340,
    "start_time": "2022-06-06T16:25:41.593Z"
   },
   {
    "duration": 899,
    "start_time": "2022-06-06T16:25:42.935Z"
   },
   {
    "duration": 22,
    "start_time": "2022-06-06T16:25:43.835Z"
   },
   {
    "duration": 3,
    "start_time": "2022-06-06T16:25:43.859Z"
   },
   {
    "duration": 9,
    "start_time": "2022-06-06T16:25:43.864Z"
   },
   {
    "duration": 4,
    "start_time": "2022-06-06T16:25:43.875Z"
   },
   {
    "duration": 6,
    "start_time": "2022-06-06T16:25:43.880Z"
   },
   {
    "duration": 34,
    "start_time": "2022-06-06T16:25:43.887Z"
   },
   {
    "duration": 7,
    "start_time": "2022-06-06T16:25:43.923Z"
   },
   {
    "duration": 84,
    "start_time": "2022-06-06T16:25:43.932Z"
   },
   {
    "duration": 17,
    "start_time": "2022-06-06T16:25:44.018Z"
   },
   {
    "duration": 32,
    "start_time": "2022-06-06T16:25:44.037Z"
   },
   {
    "duration": 53,
    "start_time": "2022-06-06T16:25:44.071Z"
   },
   {
    "duration": 97,
    "start_time": "2022-06-06T16:25:44.129Z"
   },
   {
    "duration": 118,
    "start_time": "2022-06-06T16:25:44.228Z"
   },
   {
    "duration": 89,
    "start_time": "2022-06-06T16:25:44.348Z"
   },
   {
    "duration": 13,
    "start_time": "2022-06-06T16:25:44.438Z"
   },
   {
    "duration": 13,
    "start_time": "2022-06-06T16:25:44.453Z"
   },
   {
    "duration": 4,
    "start_time": "2022-06-06T16:25:44.468Z"
   },
   {
    "duration": 67,
    "start_time": "2022-06-06T16:25:44.474Z"
   },
   {
    "duration": 517,
    "start_time": "2022-06-06T16:25:44.542Z"
   },
   {
    "duration": 23,
    "start_time": "2022-06-06T16:25:45.061Z"
   },
   {
    "duration": 31,
    "start_time": "2022-06-06T16:25:45.086Z"
   },
   {
    "duration": 21,
    "start_time": "2022-06-06T16:25:45.119Z"
   },
   {
    "duration": 39,
    "start_time": "2022-06-06T16:25:45.142Z"
   },
   {
    "duration": 297,
    "start_time": "2022-06-06T16:27:46.576Z"
   },
   {
    "duration": 1209,
    "start_time": "2022-06-06T16:35:19.204Z"
   },
   {
    "duration": 193,
    "start_time": "2022-06-06T16:35:20.416Z"
   },
   {
    "duration": 25,
    "start_time": "2022-06-06T16:35:20.610Z"
   },
   {
    "duration": 4,
    "start_time": "2022-06-06T16:35:20.637Z"
   },
   {
    "duration": 14,
    "start_time": "2022-06-06T16:35:20.643Z"
   },
   {
    "duration": 4,
    "start_time": "2022-06-06T16:35:20.659Z"
   },
   {
    "duration": 13,
    "start_time": "2022-06-06T16:35:20.664Z"
   },
   {
    "duration": 20,
    "start_time": "2022-06-06T16:35:20.702Z"
   },
   {
    "duration": 4,
    "start_time": "2022-06-06T16:35:20.725Z"
   },
   {
    "duration": 128,
    "start_time": "2022-06-06T16:35:20.733Z"
   },
   {
    "duration": 11,
    "start_time": "2022-06-06T16:35:20.863Z"
   },
   {
    "duration": 45,
    "start_time": "2022-06-06T16:35:20.875Z"
   },
   {
    "duration": 37,
    "start_time": "2022-06-06T16:35:20.922Z"
   },
   {
    "duration": 112,
    "start_time": "2022-06-06T16:35:20.961Z"
   },
   {
    "duration": 112,
    "start_time": "2022-06-06T16:35:21.075Z"
   },
   {
    "duration": 83,
    "start_time": "2022-06-06T16:35:21.189Z"
   },
   {
    "duration": 26,
    "start_time": "2022-06-06T16:35:21.274Z"
   },
   {
    "duration": 8,
    "start_time": "2022-06-06T16:35:21.302Z"
   },
   {
    "duration": 4,
    "start_time": "2022-06-06T16:35:21.312Z"
   },
   {
    "duration": 39,
    "start_time": "2022-06-06T16:35:21.317Z"
   },
   {
    "duration": 549,
    "start_time": "2022-06-06T16:35:21.358Z"
   },
   {
    "duration": 272,
    "start_time": "2022-06-06T16:35:21.909Z"
   },
   {
    "duration": 30,
    "start_time": "2022-06-06T16:35:22.183Z"
   },
   {
    "duration": 15,
    "start_time": "2022-06-06T16:35:22.214Z"
   },
   {
    "duration": 18,
    "start_time": "2022-06-06T16:35:22.231Z"
   },
   {
    "duration": 62,
    "start_time": "2022-06-06T16:35:22.251Z"
   },
   {
    "duration": 271,
    "start_time": "2022-06-06T16:38:50.314Z"
   },
   {
    "duration": 334,
    "start_time": "2022-06-06T16:39:24.260Z"
   },
   {
    "duration": 335,
    "start_time": "2022-06-06T16:42:53.982Z"
   },
   {
    "duration": 338,
    "start_time": "2022-06-06T16:43:40.774Z"
   },
   {
    "duration": 795,
    "start_time": "2022-06-06T16:45:58.141Z"
   },
   {
    "duration": 358,
    "start_time": "2022-06-06T16:46:31.286Z"
   },
   {
    "duration": 336,
    "start_time": "2022-06-06T17:44:11.132Z"
   },
   {
    "duration": 674,
    "start_time": "2022-06-06T17:47:19.276Z"
   },
   {
    "duration": 336,
    "start_time": "2022-06-06T17:48:36.412Z"
   },
   {
    "duration": 442,
    "start_time": "2022-06-06T17:50:39.120Z"
   },
   {
    "duration": 367,
    "start_time": "2022-06-06T17:51:00.719Z"
   },
   {
    "duration": 553,
    "start_time": "2022-06-06T17:51:57.556Z"
   },
   {
    "duration": 500,
    "start_time": "2022-06-06T17:52:09.465Z"
   },
   {
    "duration": 643,
    "start_time": "2022-06-06T17:52:27.795Z"
   },
   {
    "duration": 1308,
    "start_time": "2022-06-07T07:12:49.238Z"
   },
   {
    "duration": 500,
    "start_time": "2022-06-07T07:12:50.548Z"
   },
   {
    "duration": 19,
    "start_time": "2022-06-07T07:12:51.050Z"
   },
   {
    "duration": 3,
    "start_time": "2022-06-07T07:12:51.071Z"
   },
   {
    "duration": 9,
    "start_time": "2022-06-07T07:12:51.076Z"
   },
   {
    "duration": 3,
    "start_time": "2022-06-07T07:12:51.087Z"
   },
   {
    "duration": 7,
    "start_time": "2022-06-07T07:12:51.091Z"
   },
   {
    "duration": 16,
    "start_time": "2022-06-07T07:12:51.099Z"
   },
   {
    "duration": 4,
    "start_time": "2022-06-07T07:12:51.116Z"
   },
   {
    "duration": 94,
    "start_time": "2022-06-07T07:12:51.121Z"
   },
   {
    "duration": 9,
    "start_time": "2022-06-07T07:12:51.216Z"
   },
   {
    "duration": 39,
    "start_time": "2022-06-07T07:12:51.227Z"
   },
   {
    "duration": 32,
    "start_time": "2022-06-07T07:12:51.267Z"
   },
   {
    "duration": 99,
    "start_time": "2022-06-07T07:12:51.302Z"
   },
   {
    "duration": 94,
    "start_time": "2022-06-07T07:12:51.403Z"
   },
   {
    "duration": 72,
    "start_time": "2022-06-07T07:12:51.498Z"
   },
   {
    "duration": 10,
    "start_time": "2022-06-07T07:12:51.571Z"
   },
   {
    "duration": 12,
    "start_time": "2022-06-07T07:12:51.583Z"
   },
   {
    "duration": 8,
    "start_time": "2022-06-07T07:12:51.597Z"
   },
   {
    "duration": 27,
    "start_time": "2022-06-07T07:12:51.606Z"
   },
   {
    "duration": 474,
    "start_time": "2022-06-07T07:12:51.635Z"
   },
   {
    "duration": 423,
    "start_time": "2022-06-07T07:12:52.110Z"
   },
   {
    "duration": 240,
    "start_time": "2022-06-07T07:12:52.534Z"
   },
   {
    "duration": 20,
    "start_time": "2022-06-07T07:12:52.775Z"
   },
   {
    "duration": 37,
    "start_time": "2022-06-07T07:12:52.797Z"
   },
   {
    "duration": 46,
    "start_time": "2022-06-07T07:12:52.836Z"
   },
   {
    "duration": 84,
    "start_time": "2022-06-07T07:12:52.884Z"
   },
   {
    "duration": 214,
    "start_time": "2022-06-07T07:30:19.472Z"
   },
   {
    "duration": 213,
    "start_time": "2022-06-07T07:30:40.224Z"
   },
   {
    "duration": 219,
    "start_time": "2022-06-07T07:30:47.939Z"
   },
   {
    "duration": 8,
    "start_time": "2022-06-07T11:47:25.645Z"
   },
   {
    "duration": 1277,
    "start_time": "2022-06-07T11:47:33.805Z"
   },
   {
    "duration": 504,
    "start_time": "2022-06-07T11:47:35.084Z"
   },
   {
    "duration": 24,
    "start_time": "2022-06-07T11:47:35.590Z"
   },
   {
    "duration": 3,
    "start_time": "2022-06-07T11:47:35.616Z"
   },
   {
    "duration": 19,
    "start_time": "2022-06-07T11:47:35.620Z"
   },
   {
    "duration": 3,
    "start_time": "2022-06-07T11:47:35.641Z"
   },
   {
    "duration": 3,
    "start_time": "2022-06-07T11:47:35.659Z"
   },
   {
    "duration": 24,
    "start_time": "2022-06-07T11:47:35.663Z"
   },
   {
    "duration": 3,
    "start_time": "2022-06-07T11:47:35.689Z"
   },
   {
    "duration": 83,
    "start_time": "2022-06-07T11:47:35.694Z"
   },
   {
    "duration": 8,
    "start_time": "2022-06-07T11:47:35.779Z"
   },
   {
    "duration": 28,
    "start_time": "2022-06-07T11:47:35.789Z"
   },
   {
    "duration": 49,
    "start_time": "2022-06-07T11:47:35.819Z"
   },
   {
    "duration": 90,
    "start_time": "2022-06-07T11:47:35.869Z"
   },
   {
    "duration": 85,
    "start_time": "2022-06-07T11:47:35.960Z"
   },
   {
    "duration": 64,
    "start_time": "2022-06-07T11:47:36.058Z"
   },
   {
    "duration": 12,
    "start_time": "2022-06-07T11:47:36.124Z"
   },
   {
    "duration": 25,
    "start_time": "2022-06-07T11:47:36.138Z"
   },
   {
    "duration": 3,
    "start_time": "2022-06-07T11:47:36.164Z"
   },
   {
    "duration": 31,
    "start_time": "2022-06-07T11:47:36.169Z"
   },
   {
    "duration": 463,
    "start_time": "2022-06-07T11:47:36.202Z"
   },
   {
    "duration": 410,
    "start_time": "2022-06-07T11:47:36.666Z"
   },
   {
    "duration": 262,
    "start_time": "2022-06-07T11:47:37.077Z"
   },
   {
    "duration": 39,
    "start_time": "2022-06-07T11:47:37.340Z"
   },
   {
    "duration": 16,
    "start_time": "2022-06-07T11:47:37.383Z"
   },
   {
    "duration": 14,
    "start_time": "2022-06-07T11:47:37.401Z"
   },
   {
    "duration": 57,
    "start_time": "2022-06-07T11:47:37.417Z"
   },
   {
    "duration": 271,
    "start_time": "2022-06-07T11:48:36.693Z"
   },
   {
    "duration": 258,
    "start_time": "2022-06-07T11:48:59.430Z"
   },
   {
    "duration": 216,
    "start_time": "2022-06-07T11:49:49.627Z"
   },
   {
    "duration": 32,
    "start_time": "2022-06-07T12:37:53.764Z"
   },
   {
    "duration": 31,
    "start_time": "2022-06-07T12:41:36.152Z"
   },
   {
    "duration": 29,
    "start_time": "2022-06-07T12:41:48.336Z"
   },
   {
    "duration": 37,
    "start_time": "2022-06-07T12:42:16.415Z"
   },
   {
    "duration": 24,
    "start_time": "2022-06-07T12:44:09.404Z"
   },
   {
    "duration": 27,
    "start_time": "2022-06-07T12:44:25.119Z"
   },
   {
    "duration": 22,
    "start_time": "2022-06-07T12:46:09.406Z"
   },
   {
    "duration": 23,
    "start_time": "2022-06-07T12:46:20.516Z"
   },
   {
    "duration": 33,
    "start_time": "2022-06-07T12:46:43.653Z"
   },
   {
    "duration": 25,
    "start_time": "2022-06-07T12:47:23.683Z"
   },
   {
    "duration": 55,
    "start_time": "2022-06-07T13:03:29.372Z"
   },
   {
    "duration": 53,
    "start_time": "2022-06-07T13:03:48.878Z"
   },
   {
    "duration": 28,
    "start_time": "2022-06-07T13:04:05.524Z"
   },
   {
    "duration": 66,
    "start_time": "2022-06-07T13:07:18.544Z"
   },
   {
    "duration": 28,
    "start_time": "2022-06-07T13:07:30.816Z"
   },
   {
    "duration": 519,
    "start_time": "2022-06-07T13:32:59.073Z"
   },
   {
    "duration": 413,
    "start_time": "2022-06-07T13:34:13.012Z"
   },
   {
    "duration": 61,
    "start_time": "2022-06-07T13:34:54.760Z"
   },
   {
    "duration": 59,
    "start_time": "2022-06-07T13:35:25.707Z"
   },
   {
    "duration": 4,
    "start_time": "2022-06-07T13:35:53.463Z"
   },
   {
    "duration": 56,
    "start_time": "2022-06-07T13:36:06.215Z"
   },
   {
    "duration": 65,
    "start_time": "2022-06-07T13:36:42.727Z"
   },
   {
    "duration": 59,
    "start_time": "2022-06-07T13:42:09.904Z"
   },
   {
    "duration": 54,
    "start_time": "2022-06-07T13:42:41.742Z"
   },
   {
    "duration": 53,
    "start_time": "2022-06-07T13:42:58.997Z"
   },
   {
    "duration": 57,
    "start_time": "2022-06-07T13:50:42.158Z"
   },
   {
    "duration": 77,
    "start_time": "2022-06-07T13:51:14.158Z"
   },
   {
    "duration": 68,
    "start_time": "2022-06-07T13:52:35.757Z"
   },
   {
    "duration": 12,
    "start_time": "2022-06-07T13:55:53.112Z"
   },
   {
    "duration": 4,
    "start_time": "2022-06-07T13:56:25.508Z"
   },
   {
    "duration": 355,
    "start_time": "2022-06-07T14:00:51.284Z"
   },
   {
    "duration": 368,
    "start_time": "2022-06-07T14:01:27.157Z"
   },
   {
    "duration": 4,
    "start_time": "2022-06-07T14:01:37.973Z"
   },
   {
    "duration": 317,
    "start_time": "2022-06-07T14:01:47.636Z"
   },
   {
    "duration": 364,
    "start_time": "2022-06-07T14:07:08.643Z"
   },
   {
    "duration": 356,
    "start_time": "2022-06-07T14:08:25.836Z"
   },
   {
    "duration": 14,
    "start_time": "2022-06-07T14:09:02.582Z"
   },
   {
    "duration": 4,
    "start_time": "2022-06-07T14:09:43.899Z"
   },
   {
    "duration": 5,
    "start_time": "2022-06-07T14:09:57.639Z"
   },
   {
    "duration": 93,
    "start_time": "2022-06-07T16:36:37.812Z"
   },
   {
    "duration": 1434,
    "start_time": "2022-06-07T16:36:44.059Z"
   },
   {
    "duration": 656,
    "start_time": "2022-06-07T16:36:45.495Z"
   },
   {
    "duration": 21,
    "start_time": "2022-06-07T16:36:46.153Z"
   },
   {
    "duration": 4,
    "start_time": "2022-06-07T16:36:46.176Z"
   },
   {
    "duration": 11,
    "start_time": "2022-06-07T16:36:46.182Z"
   },
   {
    "duration": 4,
    "start_time": "2022-06-07T16:36:46.195Z"
   },
   {
    "duration": 6,
    "start_time": "2022-06-07T16:36:46.200Z"
   },
   {
    "duration": 29,
    "start_time": "2022-06-07T16:36:46.209Z"
   },
   {
    "duration": 6,
    "start_time": "2022-06-07T16:36:46.247Z"
   },
   {
    "duration": 118,
    "start_time": "2022-06-07T16:36:46.256Z"
   },
   {
    "duration": 13,
    "start_time": "2022-06-07T16:36:46.375Z"
   },
   {
    "duration": 36,
    "start_time": "2022-06-07T16:36:46.390Z"
   },
   {
    "duration": 45,
    "start_time": "2022-06-07T16:36:46.427Z"
   },
   {
    "duration": 96,
    "start_time": "2022-06-07T16:36:46.474Z"
   },
   {
    "duration": 112,
    "start_time": "2022-06-07T16:36:46.572Z"
   },
   {
    "duration": 86,
    "start_time": "2022-06-07T16:36:46.686Z"
   },
   {
    "duration": 19,
    "start_time": "2022-06-07T16:36:46.774Z"
   },
   {
    "duration": 27,
    "start_time": "2022-06-07T16:36:46.796Z"
   },
   {
    "duration": 30,
    "start_time": "2022-06-07T16:36:46.825Z"
   },
   {
    "duration": 49,
    "start_time": "2022-06-07T16:36:46.857Z"
   },
   {
    "duration": 634,
    "start_time": "2022-06-07T16:36:46.908Z"
   },
   {
    "duration": 449,
    "start_time": "2022-06-07T16:36:47.547Z"
   },
   {
    "duration": 285,
    "start_time": "2022-06-07T16:36:47.998Z"
   },
   {
    "duration": 21,
    "start_time": "2022-06-07T16:36:48.285Z"
   },
   {
    "duration": 41,
    "start_time": "2022-06-07T16:36:48.307Z"
   },
   {
    "duration": 32,
    "start_time": "2022-06-07T16:36:48.349Z"
   },
   {
    "duration": 64,
    "start_time": "2022-06-07T16:36:48.384Z"
   },
   {
    "duration": 41,
    "start_time": "2022-06-07T16:36:48.452Z"
   },
   {
    "duration": 75,
    "start_time": "2022-06-07T16:36:48.495Z"
   },
   {
    "duration": 112,
    "start_time": "2022-06-07T16:36:48.572Z"
   },
   {
    "duration": 38,
    "start_time": "2022-06-07T16:38:24.943Z"
   },
   {
    "duration": 27,
    "start_time": "2022-06-07T16:40:36.392Z"
   },
   {
    "duration": 263,
    "start_time": "2022-06-07T17:21:22.163Z"
   },
   {
    "duration": 219,
    "start_time": "2022-06-07T17:21:46.648Z"
   },
   {
    "duration": 212,
    "start_time": "2022-06-07T17:22:16.901Z"
   },
   {
    "duration": 261,
    "start_time": "2022-06-07T17:22:52.700Z"
   },
   {
    "duration": 222,
    "start_time": "2022-06-07T17:27:44.870Z"
   },
   {
    "duration": 234,
    "start_time": "2022-06-07T17:28:54.006Z"
   },
   {
    "duration": 458,
    "start_time": "2022-06-07T17:29:14.501Z"
   },
   {
    "duration": 46,
    "start_time": "2022-06-07T17:30:19.156Z"
   },
   {
    "duration": 283,
    "start_time": "2022-06-07T17:32:28.549Z"
   },
   {
    "duration": 275,
    "start_time": "2022-06-07T17:33:35.384Z"
   },
   {
    "duration": 236,
    "start_time": "2022-06-07T17:34:56.940Z"
   },
   {
    "duration": 226,
    "start_time": "2022-06-07T17:35:13.378Z"
   },
   {
    "duration": 293,
    "start_time": "2022-06-07T17:39:42.341Z"
   },
   {
    "duration": 175,
    "start_time": "2022-06-07T17:39:52.741Z"
   },
   {
    "duration": 307,
    "start_time": "2022-06-07T17:39:58.749Z"
   },
   {
    "duration": 945,
    "start_time": "2022-06-07T17:40:58.619Z"
   },
   {
    "duration": 325,
    "start_time": "2022-06-07T17:42:16.571Z"
   },
   {
    "duration": 263,
    "start_time": "2022-06-07T17:43:11.514Z"
   },
   {
    "duration": 214,
    "start_time": "2022-06-07T17:44:18.480Z"
   },
   {
    "duration": 275,
    "start_time": "2022-06-07T17:45:29.618Z"
   },
   {
    "duration": 285,
    "start_time": "2022-06-07T17:46:11.204Z"
   },
   {
    "duration": 372,
    "start_time": "2022-06-07T17:46:56.175Z"
   },
   {
    "duration": 936,
    "start_time": "2022-06-07T18:32:45.744Z"
   },
   {
    "duration": 146,
    "start_time": "2022-06-07T18:33:21.446Z"
   },
   {
    "duration": 181,
    "start_time": "2022-06-07T18:36:47.002Z"
   },
   {
    "duration": 136,
    "start_time": "2022-06-07T18:36:59.415Z"
   },
   {
    "duration": 52,
    "start_time": "2022-06-07T18:38:40.783Z"
   },
   {
    "duration": 130,
    "start_time": "2022-06-07T18:42:49.080Z"
   },
   {
    "duration": 207,
    "start_time": "2022-06-07T18:44:24.583Z"
   },
   {
    "duration": 155,
    "start_time": "2022-06-07T18:44:56.909Z"
   },
   {
    "duration": 150,
    "start_time": "2022-06-07T18:46:19.403Z"
   },
   {
    "duration": 49,
    "start_time": "2022-06-07T18:49:06.314Z"
   },
   {
    "duration": 16,
    "start_time": "2022-06-07T19:01:47.877Z"
   },
   {
    "duration": 9,
    "start_time": "2022-06-07T19:02:57.009Z"
   },
   {
    "duration": 889,
    "start_time": "2022-06-07T19:05:16.693Z"
   },
   {
    "duration": 4,
    "start_time": "2022-06-07T19:06:14.809Z"
   },
   {
    "duration": 791,
    "start_time": "2022-06-07T19:06:14.815Z"
   },
   {
    "duration": 27,
    "start_time": "2022-06-07T19:06:15.608Z"
   },
   {
    "duration": 36,
    "start_time": "2022-06-07T19:06:15.641Z"
   },
   {
    "duration": 7,
    "start_time": "2022-06-07T19:06:15.679Z"
   },
   {
    "duration": 4,
    "start_time": "2022-06-07T19:06:15.687Z"
   },
   {
    "duration": 6,
    "start_time": "2022-06-07T19:06:15.693Z"
   },
   {
    "duration": 28,
    "start_time": "2022-06-07T19:06:15.700Z"
   },
   {
    "duration": 70,
    "start_time": "2022-06-07T19:06:15.731Z"
   },
   {
    "duration": 110,
    "start_time": "2022-06-07T19:06:15.804Z"
   },
   {
    "duration": 30,
    "start_time": "2022-06-07T19:06:15.915Z"
   },
   {
    "duration": 61,
    "start_time": "2022-06-07T19:06:15.951Z"
   },
   {
    "duration": 35,
    "start_time": "2022-06-07T19:06:16.014Z"
   },
   {
    "duration": 128,
    "start_time": "2022-06-07T19:06:16.050Z"
   },
   {
    "duration": 112,
    "start_time": "2022-06-07T19:06:16.180Z"
   },
   {
    "duration": 102,
    "start_time": "2022-06-07T19:06:16.294Z"
   },
   {
    "duration": 41,
    "start_time": "2022-06-07T19:06:16.398Z"
   },
   {
    "duration": 37,
    "start_time": "2022-06-07T19:06:16.444Z"
   },
   {
    "duration": 4,
    "start_time": "2022-06-07T19:06:16.483Z"
   },
   {
    "duration": 42,
    "start_time": "2022-06-07T19:06:16.490Z"
   },
   {
    "duration": 287,
    "start_time": "2022-06-07T19:06:16.534Z"
   },
   {
    "duration": 553,
    "start_time": "2022-06-07T19:06:16.825Z"
   },
   {
    "duration": 278,
    "start_time": "2022-06-07T19:06:17.380Z"
   },
   {
    "duration": 30,
    "start_time": "2022-06-07T19:06:17.662Z"
   },
   {
    "duration": 13,
    "start_time": "2022-06-07T19:06:17.694Z"
   },
   {
    "duration": 76,
    "start_time": "2022-06-07T19:06:17.709Z"
   },
   {
    "duration": 61,
    "start_time": "2022-06-07T19:06:17.787Z"
   },
   {
    "duration": 47,
    "start_time": "2022-06-07T19:06:17.850Z"
   },
   {
    "duration": 175,
    "start_time": "2022-06-07T19:06:17.899Z"
   },
   {
    "duration": 11,
    "start_time": "2022-06-07T19:06:18.076Z"
   },
   {
    "duration": 710,
    "start_time": "2022-06-07T19:06:18.089Z"
   },
   {
    "duration": 22,
    "start_time": "2022-06-07T19:07:18.750Z"
   },
   {
    "duration": 1502,
    "start_time": "2022-06-08T06:36:27.699Z"
   },
   {
    "duration": 534,
    "start_time": "2022-06-08T06:36:29.204Z"
   },
   {
    "duration": 20,
    "start_time": "2022-06-08T06:36:29.739Z"
   },
   {
    "duration": 5,
    "start_time": "2022-06-08T06:36:29.761Z"
   },
   {
    "duration": 23,
    "start_time": "2022-06-08T06:36:29.768Z"
   },
   {
    "duration": 4,
    "start_time": "2022-06-08T06:36:29.792Z"
   },
   {
    "duration": 17,
    "start_time": "2022-06-08T06:36:29.798Z"
   },
   {
    "duration": 22,
    "start_time": "2022-06-08T06:36:29.817Z"
   },
   {
    "duration": 9,
    "start_time": "2022-06-08T06:36:29.840Z"
   },
   {
    "duration": 75,
    "start_time": "2022-06-08T06:36:29.852Z"
   },
   {
    "duration": 9,
    "start_time": "2022-06-08T06:36:29.928Z"
   },
   {
    "duration": 36,
    "start_time": "2022-06-08T06:36:29.939Z"
   },
   {
    "duration": 38,
    "start_time": "2022-06-08T06:36:29.976Z"
   },
   {
    "duration": 82,
    "start_time": "2022-06-08T06:36:30.016Z"
   },
   {
    "duration": 102,
    "start_time": "2022-06-08T06:36:30.100Z"
   },
   {
    "duration": 77,
    "start_time": "2022-06-08T06:36:30.204Z"
   },
   {
    "duration": 12,
    "start_time": "2022-06-08T06:36:30.283Z"
   },
   {
    "duration": 28,
    "start_time": "2022-06-08T06:36:30.296Z"
   },
   {
    "duration": 26,
    "start_time": "2022-06-08T06:36:30.326Z"
   },
   {
    "duration": 57,
    "start_time": "2022-06-08T06:36:30.354Z"
   },
   {
    "duration": 434,
    "start_time": "2022-06-08T06:36:30.413Z"
   },
   {
    "duration": 424,
    "start_time": "2022-06-08T06:36:30.850Z"
   },
   {
    "duration": 229,
    "start_time": "2022-06-08T06:36:31.275Z"
   },
   {
    "duration": 25,
    "start_time": "2022-06-08T06:36:31.505Z"
   },
   {
    "duration": 31,
    "start_time": "2022-06-08T06:36:31.532Z"
   },
   {
    "duration": 35,
    "start_time": "2022-06-08T06:36:31.565Z"
   },
   {
    "duration": 46,
    "start_time": "2022-06-08T06:36:31.602Z"
   },
   {
    "duration": 26,
    "start_time": "2022-06-08T06:36:31.651Z"
   },
   {
    "duration": 561,
    "start_time": "2022-06-08T06:36:31.679Z"
   },
   {
    "duration": 13,
    "start_time": "2022-06-08T06:36:32.242Z"
   },
   {
    "duration": 21,
    "start_time": "2022-06-08T06:36:32.257Z"
   },
   {
    "duration": 5,
    "start_time": "2022-06-08T06:59:40.082Z"
   },
   {
    "duration": 4,
    "start_time": "2022-06-08T07:00:09.443Z"
   },
   {
    "duration": 116,
    "start_time": "2022-06-08T07:03:00.438Z"
   },
   {
    "duration": 8,
    "start_time": "2022-06-08T07:03:11.347Z"
   },
   {
    "duration": 109,
    "start_time": "2022-06-08T07:03:49.026Z"
   },
   {
    "duration": 127,
    "start_time": "2022-06-08T07:04:02.557Z"
   },
   {
    "duration": 10,
    "start_time": "2022-06-08T07:04:10.641Z"
   },
   {
    "duration": 10,
    "start_time": "2022-06-08T07:05:51.167Z"
   },
   {
    "duration": 11,
    "start_time": "2022-06-08T07:05:59.242Z"
   },
   {
    "duration": 12,
    "start_time": "2022-06-08T07:06:02.574Z"
   },
   {
    "duration": 198,
    "start_time": "2022-06-08T07:24:34.254Z"
   },
   {
    "duration": 15,
    "start_time": "2022-06-08T07:25:22.311Z"
   },
   {
    "duration": 10,
    "start_time": "2022-06-08T07:25:45.610Z"
   },
   {
    "duration": 424,
    "start_time": "2022-06-08T07:36:25.217Z"
   },
   {
    "duration": 403,
    "start_time": "2022-06-08T07:36:36.564Z"
   },
   {
    "duration": 388,
    "start_time": "2022-06-08T07:36:51.777Z"
   },
   {
    "duration": 15,
    "start_time": "2022-06-08T07:37:11.207Z"
   },
   {
    "duration": 15,
    "start_time": "2022-06-08T07:46:41.039Z"
   },
   {
    "duration": 14,
    "start_time": "2022-06-08T07:48:23.178Z"
   },
   {
    "duration": 14,
    "start_time": "2022-06-08T07:49:27.107Z"
   },
   {
    "duration": 7,
    "start_time": "2022-06-08T07:49:53.702Z"
   },
   {
    "duration": 11,
    "start_time": "2022-06-08T07:51:01.306Z"
   },
   {
    "duration": 11,
    "start_time": "2022-06-08T07:51:10.059Z"
   },
   {
    "duration": 13,
    "start_time": "2022-06-08T07:53:50.042Z"
   },
   {
    "duration": 15,
    "start_time": "2022-06-08T07:54:39.130Z"
   },
   {
    "duration": 31,
    "start_time": "2022-06-08T08:03:45.846Z"
   },
   {
    "duration": 12,
    "start_time": "2022-06-08T08:04:20.364Z"
   },
   {
    "duration": 18,
    "start_time": "2022-06-08T08:23:53.102Z"
   },
   {
    "duration": 12,
    "start_time": "2022-06-08T08:26:39.652Z"
   },
   {
    "duration": 72,
    "start_time": "2022-06-08T08:30:16.181Z"
   },
   {
    "duration": 106,
    "start_time": "2022-06-08T08:30:38.886Z"
   },
   {
    "duration": 139,
    "start_time": "2022-06-08T08:31:35.065Z"
   },
   {
    "duration": 102,
    "start_time": "2022-06-08T08:31:59.961Z"
   },
   {
    "duration": 91,
    "start_time": "2022-06-08T08:32:34.322Z"
   },
   {
    "duration": 89,
    "start_time": "2022-06-08T08:33:25.459Z"
   },
   {
    "duration": 9,
    "start_time": "2022-06-08T08:33:41.252Z"
   },
   {
    "duration": 52,
    "start_time": "2022-06-08T08:34:04.760Z"
   },
   {
    "duration": 50,
    "start_time": "2022-06-08T08:39:36.951Z"
   },
   {
    "duration": 51,
    "start_time": "2022-06-08T08:41:41.671Z"
   },
   {
    "duration": 51,
    "start_time": "2022-06-08T08:42:16.911Z"
   },
   {
    "duration": 104,
    "start_time": "2022-06-08T08:51:46.060Z"
   },
   {
    "duration": 79,
    "start_time": "2022-06-08T08:55:04.249Z"
   },
   {
    "duration": 72,
    "start_time": "2022-06-08T08:57:12.528Z"
   },
   {
    "duration": 9,
    "start_time": "2022-06-08T08:59:54.664Z"
   },
   {
    "duration": 50,
    "start_time": "2022-06-08T09:00:58.741Z"
   },
   {
    "duration": 4,
    "start_time": "2022-06-08T09:03:30.782Z"
   },
   {
    "duration": 619,
    "start_time": "2022-06-08T09:03:30.789Z"
   },
   {
    "duration": 25,
    "start_time": "2022-06-08T09:03:31.409Z"
   },
   {
    "duration": 26,
    "start_time": "2022-06-08T09:03:31.437Z"
   },
   {
    "duration": 16,
    "start_time": "2022-06-08T09:03:31.464Z"
   },
   {
    "duration": 11,
    "start_time": "2022-06-08T09:03:31.482Z"
   },
   {
    "duration": 12,
    "start_time": "2022-06-08T09:03:31.495Z"
   },
   {
    "duration": 18,
    "start_time": "2022-06-08T09:03:31.509Z"
   },
   {
    "duration": 20,
    "start_time": "2022-06-08T09:03:31.530Z"
   },
   {
    "duration": 118,
    "start_time": "2022-06-08T09:03:31.552Z"
   },
   {
    "duration": 10,
    "start_time": "2022-06-08T09:03:31.672Z"
   },
   {
    "duration": 45,
    "start_time": "2022-06-08T09:03:31.684Z"
   },
   {
    "duration": 55,
    "start_time": "2022-06-08T09:03:31.730Z"
   },
   {
    "duration": 93,
    "start_time": "2022-06-08T09:03:31.788Z"
   },
   {
    "duration": 112,
    "start_time": "2022-06-08T09:03:31.884Z"
   },
   {
    "duration": 87,
    "start_time": "2022-06-08T09:03:31.998Z"
   },
   {
    "duration": 14,
    "start_time": "2022-06-08T09:03:32.087Z"
   },
   {
    "duration": 30,
    "start_time": "2022-06-08T09:03:32.103Z"
   },
   {
    "duration": 7,
    "start_time": "2022-06-08T09:03:32.138Z"
   },
   {
    "duration": 32,
    "start_time": "2022-06-08T09:03:32.147Z"
   },
   {
    "duration": 282,
    "start_time": "2022-06-08T09:03:32.180Z"
   },
   {
    "duration": 527,
    "start_time": "2022-06-08T09:03:32.465Z"
   },
   {
    "duration": 285,
    "start_time": "2022-06-08T09:03:32.995Z"
   },
   {
    "duration": 25,
    "start_time": "2022-06-08T09:03:33.283Z"
   },
   {
    "duration": 23,
    "start_time": "2022-06-08T09:03:33.322Z"
   },
   {
    "duration": 13,
    "start_time": "2022-06-08T09:03:33.347Z"
   },
   {
    "duration": 77,
    "start_time": "2022-06-08T09:03:33.362Z"
   },
   {
    "duration": 27,
    "start_time": "2022-06-08T09:03:33.441Z"
   },
   {
    "duration": 112,
    "start_time": "2022-06-08T09:03:33.470Z"
   },
   {
    "duration": 70,
    "start_time": "2022-06-08T09:03:33.584Z"
   },
   {
    "duration": 197,
    "start_time": "2022-06-08T09:03:33.656Z"
   },
   {
    "duration": 9,
    "start_time": "2022-06-08T10:07:51.207Z"
   },
   {
    "duration": 7,
    "start_time": "2022-06-08T10:09:50.152Z"
   },
   {
    "duration": 21,
    "start_time": "2022-06-08T10:11:41.644Z"
   },
   {
    "duration": 20,
    "start_time": "2022-06-08T10:12:26.644Z"
   },
   {
    "duration": 12,
    "start_time": "2022-06-08T10:12:55.053Z"
   },
   {
    "duration": 13,
    "start_time": "2022-06-08T10:13:24.006Z"
   },
   {
    "duration": 50,
    "start_time": "2022-06-08T10:14:18.964Z"
   },
   {
    "duration": 10,
    "start_time": "2022-06-08T10:14:46.061Z"
   },
   {
    "duration": 12,
    "start_time": "2022-06-08T10:15:32.637Z"
   },
   {
    "duration": 10,
    "start_time": "2022-06-08T10:15:51.042Z"
   },
   {
    "duration": 13,
    "start_time": "2022-06-08T10:18:04.492Z"
   },
   {
    "duration": 18,
    "start_time": "2022-06-08T10:20:40.396Z"
   },
   {
    "duration": 21,
    "start_time": "2022-06-08T10:21:03.386Z"
   },
   {
    "duration": 13,
    "start_time": "2022-06-08T10:21:17.521Z"
   },
   {
    "duration": 4,
    "start_time": "2022-06-08T11:02:23.896Z"
   },
   {
    "duration": 8,
    "start_time": "2022-06-08T11:05:17.460Z"
   },
   {
    "duration": 5,
    "start_time": "2022-06-08T11:06:03.826Z"
   },
   {
    "duration": 8,
    "start_time": "2022-06-08T11:06:46.993Z"
   },
   {
    "duration": 8,
    "start_time": "2022-06-08T11:07:13.905Z"
   },
   {
    "duration": 9,
    "start_time": "2022-06-08T11:07:44.242Z"
   },
   {
    "duration": 1588,
    "start_time": "2022-06-08T11:08:58.675Z"
   },
   {
    "duration": 653,
    "start_time": "2022-06-08T11:09:00.265Z"
   },
   {
    "duration": 34,
    "start_time": "2022-06-08T11:09:00.919Z"
   },
   {
    "duration": 4,
    "start_time": "2022-06-08T11:09:00.956Z"
   },
   {
    "duration": 17,
    "start_time": "2022-06-08T11:09:00.962Z"
   },
   {
    "duration": 9,
    "start_time": "2022-06-08T11:09:00.981Z"
   },
   {
    "duration": 25,
    "start_time": "2022-06-08T11:09:00.992Z"
   },
   {
    "duration": 69,
    "start_time": "2022-06-08T11:09:01.019Z"
   },
   {
    "duration": 32,
    "start_time": "2022-06-08T11:09:01.090Z"
   },
   {
    "duration": 96,
    "start_time": "2022-06-08T11:09:01.127Z"
   },
   {
    "duration": 35,
    "start_time": "2022-06-08T11:09:01.225Z"
   },
   {
    "duration": 55,
    "start_time": "2022-06-08T11:09:01.262Z"
   },
   {
    "duration": 94,
    "start_time": "2022-06-08T11:09:01.319Z"
   },
   {
    "duration": 114,
    "start_time": "2022-06-08T11:09:01.415Z"
   },
   {
    "duration": 125,
    "start_time": "2022-06-08T11:09:01.531Z"
   },
   {
    "duration": 108,
    "start_time": "2022-06-08T11:09:01.659Z"
   },
   {
    "duration": 18,
    "start_time": "2022-06-08T11:09:01.769Z"
   },
   {
    "duration": 22,
    "start_time": "2022-06-08T11:09:01.789Z"
   },
   {
    "duration": 40,
    "start_time": "2022-06-08T11:09:01.813Z"
   },
   {
    "duration": 58,
    "start_time": "2022-06-08T11:09:01.856Z"
   },
   {
    "duration": 499,
    "start_time": "2022-06-08T11:09:01.916Z"
   },
   {
    "duration": 541,
    "start_time": "2022-06-08T11:09:02.417Z"
   },
   {
    "duration": 268,
    "start_time": "2022-06-08T11:09:02.960Z"
   },
   {
    "duration": 33,
    "start_time": "2022-06-08T11:09:03.230Z"
   },
   {
    "duration": 16,
    "start_time": "2022-06-08T11:09:03.265Z"
   },
   {
    "duration": 9,
    "start_time": "2022-06-08T11:09:03.282Z"
   },
   {
    "duration": 78,
    "start_time": "2022-06-08T11:09:03.292Z"
   },
   {
    "duration": 29,
    "start_time": "2022-06-08T11:09:03.373Z"
   },
   {
    "duration": 1513,
    "start_time": "2022-06-08T11:09:03.403Z"
   },
   {
    "duration": 130,
    "start_time": "2022-06-08T11:09:04.920Z"
   },
   {
    "duration": 113,
    "start_time": "2022-06-08T11:09:05.053Z"
   },
   {
    "duration": 11,
    "start_time": "2022-06-08T11:09:05.169Z"
   },
   {
    "duration": 17,
    "start_time": "2022-06-08T11:09:05.182Z"
   },
   {
    "duration": 94,
    "start_time": "2022-06-08T11:11:09.013Z"
   },
   {
    "duration": 11,
    "start_time": "2022-06-08T11:11:13.987Z"
   },
   {
    "duration": 7,
    "start_time": "2022-06-08T11:11:36.068Z"
   },
   {
    "duration": 8,
    "start_time": "2022-06-08T11:11:40.994Z"
   },
   {
    "duration": 4,
    "start_time": "2022-06-08T11:11:44.999Z"
   },
   {
    "duration": 186,
    "start_time": "2022-06-08T11:11:45.005Z"
   },
   {
    "duration": 20,
    "start_time": "2022-06-08T11:11:45.193Z"
   },
   {
    "duration": 4,
    "start_time": "2022-06-08T11:11:45.224Z"
   },
   {
    "duration": 9,
    "start_time": "2022-06-08T11:11:45.229Z"
   },
   {
    "duration": 6,
    "start_time": "2022-06-08T11:11:45.240Z"
   },
   {
    "duration": 6,
    "start_time": "2022-06-08T11:11:45.247Z"
   },
   {
    "duration": 10,
    "start_time": "2022-06-08T11:11:45.255Z"
   },
   {
    "duration": 4,
    "start_time": "2022-06-08T11:11:45.269Z"
   },
   {
    "duration": 95,
    "start_time": "2022-06-08T11:11:45.274Z"
   },
   {
    "duration": 10,
    "start_time": "2022-06-08T11:11:45.370Z"
   },
   {
    "duration": 42,
    "start_time": "2022-06-08T11:11:45.381Z"
   },
   {
    "duration": 27,
    "start_time": "2022-06-08T11:11:45.424Z"
   },
   {
    "duration": 95,
    "start_time": "2022-06-08T11:11:45.453Z"
   },
   {
    "duration": 100,
    "start_time": "2022-06-08T11:11:45.550Z"
   },
   {
    "duration": 85,
    "start_time": "2022-06-08T11:11:45.652Z"
   },
   {
    "duration": 13,
    "start_time": "2022-06-08T11:11:45.738Z"
   },
   {
    "duration": 17,
    "start_time": "2022-06-08T11:11:45.753Z"
   },
   {
    "duration": 4,
    "start_time": "2022-06-08T11:11:45.772Z"
   },
   {
    "duration": 51,
    "start_time": "2022-06-08T11:11:45.778Z"
   },
   {
    "duration": 279,
    "start_time": "2022-06-08T11:11:45.831Z"
   },
   {
    "duration": 440,
    "start_time": "2022-06-08T11:11:46.112Z"
   },
   {
    "duration": 253,
    "start_time": "2022-06-08T11:11:46.554Z"
   },
   {
    "duration": 40,
    "start_time": "2022-06-08T11:11:46.810Z"
   },
   {
    "duration": 18,
    "start_time": "2022-06-08T11:11:46.853Z"
   },
   {
    "duration": 31,
    "start_time": "2022-06-08T11:11:46.873Z"
   },
   {
    "duration": 46,
    "start_time": "2022-06-08T11:11:46.906Z"
   },
   {
    "duration": 41,
    "start_time": "2022-06-08T11:11:46.954Z"
   },
   {
    "duration": 109,
    "start_time": "2022-06-08T11:11:46.997Z"
   },
   {
    "duration": 56,
    "start_time": "2022-06-08T11:11:47.108Z"
   },
   {
    "duration": 79,
    "start_time": "2022-06-08T11:11:47.166Z"
   },
   {
    "duration": 10,
    "start_time": "2022-06-08T11:11:47.246Z"
   },
   {
    "duration": 9,
    "start_time": "2022-06-08T11:11:47.258Z"
   },
   {
    "duration": 4,
    "start_time": "2022-06-08T11:12:08.535Z"
   },
   {
    "duration": 191,
    "start_time": "2022-06-08T11:12:08.541Z"
   },
   {
    "duration": 21,
    "start_time": "2022-06-08T11:12:08.734Z"
   },
   {
    "duration": 4,
    "start_time": "2022-06-08T11:12:08.757Z"
   },
   {
    "duration": 7,
    "start_time": "2022-06-08T11:12:08.764Z"
   },
   {
    "duration": 11,
    "start_time": "2022-06-08T11:12:08.772Z"
   },
   {
    "duration": 11,
    "start_time": "2022-06-08T11:12:08.785Z"
   },
   {
    "duration": 30,
    "start_time": "2022-06-08T11:12:08.797Z"
   },
   {
    "duration": 4,
    "start_time": "2022-06-08T11:12:08.829Z"
   },
   {
    "duration": 79,
    "start_time": "2022-06-08T11:12:08.834Z"
   },
   {
    "duration": 19,
    "start_time": "2022-06-08T11:12:08.915Z"
   },
   {
    "duration": 32,
    "start_time": "2022-06-08T11:12:08.935Z"
   },
   {
    "duration": 31,
    "start_time": "2022-06-08T11:12:08.969Z"
   },
   {
    "duration": 105,
    "start_time": "2022-06-08T11:12:09.026Z"
   },
   {
    "duration": 109,
    "start_time": "2022-06-08T11:12:09.133Z"
   },
   {
    "duration": 92,
    "start_time": "2022-06-08T11:12:09.244Z"
   },
   {
    "duration": 11,
    "start_time": "2022-06-08T11:12:09.338Z"
   },
   {
    "duration": 31,
    "start_time": "2022-06-08T11:12:09.351Z"
   },
   {
    "duration": 13,
    "start_time": "2022-06-08T11:12:09.384Z"
   },
   {
    "duration": 51,
    "start_time": "2022-06-08T11:12:09.399Z"
   },
   {
    "duration": 234,
    "start_time": "2022-06-08T11:12:09.452Z"
   },
   {
    "duration": 575,
    "start_time": "2022-06-08T11:12:09.688Z"
   },
   {
    "duration": 239,
    "start_time": "2022-06-08T11:12:10.265Z"
   },
   {
    "duration": 30,
    "start_time": "2022-06-08T11:12:10.506Z"
   },
   {
    "duration": 13,
    "start_time": "2022-06-08T11:12:10.538Z"
   },
   {
    "duration": 24,
    "start_time": "2022-06-08T11:12:10.552Z"
   },
   {
    "duration": 51,
    "start_time": "2022-06-08T11:12:10.577Z"
   },
   {
    "duration": 25,
    "start_time": "2022-06-08T11:12:10.629Z"
   },
   {
    "duration": 115,
    "start_time": "2022-06-08T11:12:10.656Z"
   },
   {
    "duration": 58,
    "start_time": "2022-06-08T11:12:10.773Z"
   },
   {
    "duration": 51,
    "start_time": "2022-06-08T11:12:10.832Z"
   },
   {
    "duration": 9,
    "start_time": "2022-06-08T11:12:10.884Z"
   },
   {
    "duration": 8,
    "start_time": "2022-06-08T11:12:10.922Z"
   },
   {
    "duration": 59,
    "start_time": "2022-06-08T11:13:05.014Z"
   },
   {
    "duration": 11,
    "start_time": "2022-06-08T11:13:24.141Z"
   },
   {
    "duration": 29,
    "start_time": "2022-06-08T12:06:12.527Z"
   },
   {
    "duration": 288,
    "start_time": "2022-06-08T12:12:05.797Z"
   },
   {
    "duration": 148,
    "start_time": "2022-06-08T12:12:12.526Z"
   },
   {
    "duration": 155,
    "start_time": "2022-06-08T12:12:32.588Z"
   },
   {
    "duration": 159,
    "start_time": "2022-06-08T12:12:52.826Z"
   },
   {
    "duration": 116,
    "start_time": "2022-06-08T12:21:20.283Z"
   },
   {
    "duration": 3,
    "start_time": "2022-06-08T12:21:26.671Z"
   },
   {
    "duration": 584,
    "start_time": "2022-06-08T12:21:26.676Z"
   },
   {
    "duration": 19,
    "start_time": "2022-06-08T12:21:27.262Z"
   },
   {
    "duration": 3,
    "start_time": "2022-06-08T12:21:27.283Z"
   },
   {
    "duration": 11,
    "start_time": "2022-06-08T12:21:27.288Z"
   },
   {
    "duration": 6,
    "start_time": "2022-06-08T12:21:27.300Z"
   },
   {
    "duration": 7,
    "start_time": "2022-06-08T12:21:27.308Z"
   },
   {
    "duration": 16,
    "start_time": "2022-06-08T12:21:27.316Z"
   },
   {
    "duration": 8,
    "start_time": "2022-06-08T12:21:27.338Z"
   },
   {
    "duration": 94,
    "start_time": "2022-06-08T12:21:27.348Z"
   },
   {
    "duration": 10,
    "start_time": "2022-06-08T12:21:27.443Z"
   },
   {
    "duration": 30,
    "start_time": "2022-06-08T12:21:27.455Z"
   },
   {
    "duration": 44,
    "start_time": "2022-06-08T12:21:27.486Z"
   },
   {
    "duration": 81,
    "start_time": "2022-06-08T12:21:27.532Z"
   },
   {
    "duration": 114,
    "start_time": "2022-06-08T12:21:27.616Z"
   },
   {
    "duration": 68,
    "start_time": "2022-06-08T12:21:27.733Z"
   },
   {
    "duration": 11,
    "start_time": "2022-06-08T12:21:27.803Z"
   },
   {
    "duration": 15,
    "start_time": "2022-06-08T12:21:27.824Z"
   },
   {
    "duration": 6,
    "start_time": "2022-06-08T12:21:27.841Z"
   },
   {
    "duration": 35,
    "start_time": "2022-06-08T12:21:27.848Z"
   },
   {
    "duration": 279,
    "start_time": "2022-06-08T12:21:27.885Z"
   },
   {
    "duration": 430,
    "start_time": "2022-06-08T12:21:28.166Z"
   },
   {
    "duration": 258,
    "start_time": "2022-06-08T12:21:28.598Z"
   },
   {
    "duration": 27,
    "start_time": "2022-06-08T12:21:28.860Z"
   },
   {
    "duration": 38,
    "start_time": "2022-06-08T12:21:28.889Z"
   },
   {
    "duration": 22,
    "start_time": "2022-06-08T12:21:28.929Z"
   },
   {
    "duration": 45,
    "start_time": "2022-06-08T12:21:28.953Z"
   },
   {
    "duration": 50,
    "start_time": "2022-06-08T12:21:29.000Z"
   },
   {
    "duration": 103,
    "start_time": "2022-06-08T12:21:29.056Z"
   },
   {
    "duration": 49,
    "start_time": "2022-06-08T12:21:29.161Z"
   },
   {
    "duration": 74,
    "start_time": "2022-06-08T12:21:29.212Z"
   },
   {
    "duration": 13,
    "start_time": "2022-06-08T12:21:29.288Z"
   },
   {
    "duration": 14,
    "start_time": "2022-06-08T12:21:29.323Z"
   },
   {
    "duration": 124,
    "start_time": "2022-06-08T12:21:29.341Z"
   },
   {
    "duration": 13,
    "start_time": "2022-06-08T12:21:29.467Z"
   },
   {
    "duration": 6,
    "start_time": "2022-06-08T12:21:29.481Z"
   },
   {
    "duration": 5,
    "start_time": "2022-06-08T12:21:29.488Z"
   },
   {
    "duration": 39,
    "start_time": "2022-06-08T12:21:29.495Z"
   },
   {
    "duration": 129,
    "start_time": "2022-06-08T12:22:00.124Z"
   },
   {
    "duration": 153,
    "start_time": "2022-06-08T12:32:16.022Z"
   },
   {
    "duration": 172,
    "start_time": "2022-06-08T12:32:31.920Z"
   },
   {
    "duration": 39,
    "start_time": "2022-06-08T12:34:22.815Z"
   },
   {
    "duration": 161,
    "start_time": "2022-06-08T12:34:37.916Z"
   },
   {
    "duration": 120,
    "start_time": "2022-06-08T12:34:58.556Z"
   },
   {
    "duration": 152,
    "start_time": "2022-06-08T12:35:32.891Z"
   },
   {
    "duration": 226,
    "start_time": "2022-06-08T12:39:20.682Z"
   },
   {
    "duration": 132,
    "start_time": "2022-06-08T12:39:27.675Z"
   },
   {
    "duration": 132,
    "start_time": "2022-06-08T12:40:06.236Z"
   },
   {
    "duration": 121,
    "start_time": "2022-06-08T12:40:34.657Z"
   },
   {
    "duration": 72,
    "start_time": "2022-06-08T12:43:51.577Z"
   },
   {
    "duration": 70,
    "start_time": "2022-06-08T12:45:21.994Z"
   },
   {
    "duration": 68,
    "start_time": "2022-06-08T12:45:50.663Z"
   },
   {
    "duration": 74,
    "start_time": "2022-06-08T12:46:25.846Z"
   },
   {
    "duration": 96,
    "start_time": "2022-06-08T13:10:38.394Z"
   },
   {
    "duration": 100,
    "start_time": "2022-06-08T13:11:05.265Z"
   },
   {
    "duration": 109,
    "start_time": "2022-06-08T13:11:22.467Z"
   },
   {
    "duration": 26,
    "start_time": "2022-06-08T13:13:17.387Z"
   },
   {
    "duration": 142,
    "start_time": "2022-06-08T13:13:23.593Z"
   },
   {
    "duration": 4,
    "start_time": "2022-06-08T13:14:05.754Z"
   },
   {
    "duration": 176,
    "start_time": "2022-06-08T13:14:05.762Z"
   },
   {
    "duration": 35,
    "start_time": "2022-06-08T13:14:05.940Z"
   },
   {
    "duration": 6,
    "start_time": "2022-06-08T13:14:05.979Z"
   },
   {
    "duration": 18,
    "start_time": "2022-06-08T13:14:05.988Z"
   },
   {
    "duration": 17,
    "start_time": "2022-06-08T13:14:06.008Z"
   },
   {
    "duration": 13,
    "start_time": "2022-06-08T13:14:06.027Z"
   },
   {
    "duration": 17,
    "start_time": "2022-06-08T13:14:06.043Z"
   },
   {
    "duration": 6,
    "start_time": "2022-06-08T13:14:06.062Z"
   },
   {
    "duration": 126,
    "start_time": "2022-06-08T13:14:06.070Z"
   },
   {
    "duration": 16,
    "start_time": "2022-06-08T13:14:06.200Z"
   },
   {
    "duration": 49,
    "start_time": "2022-06-08T13:14:06.223Z"
   },
   {
    "duration": 40,
    "start_time": "2022-06-08T13:14:06.276Z"
   },
   {
    "duration": 101,
    "start_time": "2022-06-08T13:14:06.318Z"
   },
   {
    "duration": 95,
    "start_time": "2022-06-08T13:14:06.420Z"
   },
   {
    "duration": 98,
    "start_time": "2022-06-08T13:14:06.518Z"
   },
   {
    "duration": 20,
    "start_time": "2022-06-08T13:14:06.622Z"
   },
   {
    "duration": 23,
    "start_time": "2022-06-08T13:14:06.644Z"
   },
   {
    "duration": 8,
    "start_time": "2022-06-08T13:14:06.669Z"
   },
   {
    "duration": 37,
    "start_time": "2022-06-08T13:14:06.679Z"
   },
   {
    "duration": 243,
    "start_time": "2022-06-08T13:14:06.723Z"
   },
   {
    "duration": 657,
    "start_time": "2022-06-08T13:14:06.968Z"
   },
   {
    "duration": 287,
    "start_time": "2022-06-08T13:14:07.628Z"
   },
   {
    "duration": 29,
    "start_time": "2022-06-08T13:14:07.917Z"
   },
   {
    "duration": 19,
    "start_time": "2022-06-08T13:14:07.947Z"
   },
   {
    "duration": 15,
    "start_time": "2022-06-08T13:14:07.968Z"
   },
   {
    "duration": 61,
    "start_time": "2022-06-08T13:14:07.984Z"
   },
   {
    "duration": 25,
    "start_time": "2022-06-08T13:14:08.047Z"
   },
   {
    "duration": 124,
    "start_time": "2022-06-08T13:14:08.076Z"
   },
   {
    "duration": 59,
    "start_time": "2022-06-08T13:14:08.202Z"
   },
   {
    "duration": 86,
    "start_time": "2022-06-08T13:14:08.263Z"
   },
   {
    "duration": 12,
    "start_time": "2022-06-08T13:14:08.350Z"
   },
   {
    "duration": 13,
    "start_time": "2022-06-08T13:14:08.364Z"
   },
   {
    "duration": 105,
    "start_time": "2022-06-08T13:14:08.379Z"
   },
   {
    "duration": 5,
    "start_time": "2022-06-08T13:14:08.486Z"
   },
   {
    "duration": 9,
    "start_time": "2022-06-08T13:14:08.497Z"
   },
   {
    "duration": 18,
    "start_time": "2022-06-08T13:14:08.507Z"
   },
   {
    "duration": 11,
    "start_time": "2022-06-08T13:18:03.302Z"
   },
   {
    "duration": 10,
    "start_time": "2022-06-08T13:21:18.757Z"
   },
   {
    "duration": 12,
    "start_time": "2022-06-08T13:22:31.300Z"
   },
   {
    "duration": 5,
    "start_time": "2022-06-08T13:22:37.861Z"
   },
   {
    "duration": 202,
    "start_time": "2022-06-08T13:22:37.868Z"
   },
   {
    "duration": 20,
    "start_time": "2022-06-08T13:22:38.072Z"
   },
   {
    "duration": 4,
    "start_time": "2022-06-08T13:22:38.093Z"
   },
   {
    "duration": 26,
    "start_time": "2022-06-08T13:22:38.099Z"
   },
   {
    "duration": 19,
    "start_time": "2022-06-08T13:22:38.129Z"
   },
   {
    "duration": 13,
    "start_time": "2022-06-08T13:22:38.150Z"
   },
   {
    "duration": 16,
    "start_time": "2022-06-08T13:22:38.165Z"
   },
   {
    "duration": 5,
    "start_time": "2022-06-08T13:22:38.183Z"
   },
   {
    "duration": 77,
    "start_time": "2022-06-08T13:22:38.190Z"
   },
   {
    "duration": 12,
    "start_time": "2022-06-08T13:22:38.269Z"
   },
   {
    "duration": 40,
    "start_time": "2022-06-08T13:22:38.283Z"
   },
   {
    "duration": 27,
    "start_time": "2022-06-08T13:22:38.327Z"
   },
   {
    "duration": 92,
    "start_time": "2022-06-08T13:22:38.356Z"
   },
   {
    "duration": 95,
    "start_time": "2022-06-08T13:22:38.450Z"
   },
   {
    "duration": 62,
    "start_time": "2022-06-08T13:22:38.547Z"
   },
   {
    "duration": 13,
    "start_time": "2022-06-08T13:22:38.623Z"
   },
   {
    "duration": 15,
    "start_time": "2022-06-08T13:22:38.639Z"
   },
   {
    "duration": 4,
    "start_time": "2022-06-08T13:22:38.656Z"
   },
   {
    "duration": 75,
    "start_time": "2022-06-08T13:22:38.661Z"
   },
   {
    "duration": 280,
    "start_time": "2022-06-08T13:22:38.738Z"
   },
   {
    "duration": 474,
    "start_time": "2022-06-08T13:22:39.021Z"
   },
   {
    "duration": 266,
    "start_time": "2022-06-08T13:22:39.496Z"
   },
   {
    "duration": 25,
    "start_time": "2022-06-08T13:22:39.764Z"
   },
   {
    "duration": 17,
    "start_time": "2022-06-08T13:22:39.790Z"
   },
   {
    "duration": 22,
    "start_time": "2022-06-08T13:22:39.809Z"
   },
   {
    "duration": 39,
    "start_time": "2022-06-08T13:22:39.832Z"
   },
   {
    "duration": 58,
    "start_time": "2022-06-08T13:22:39.874Z"
   },
   {
    "duration": 121,
    "start_time": "2022-06-08T13:22:39.935Z"
   },
   {
    "duration": 74,
    "start_time": "2022-06-08T13:22:40.059Z"
   },
   {
    "duration": 197,
    "start_time": "2022-06-08T13:22:40.135Z"
   },
   {
    "duration": 12,
    "start_time": "2022-06-08T13:22:40.334Z"
   },
   {
    "duration": 23,
    "start_time": "2022-06-08T13:22:40.348Z"
   },
   {
    "duration": 93,
    "start_time": "2022-06-08T13:22:40.373Z"
   },
   {
    "duration": 5,
    "start_time": "2022-06-08T13:22:40.468Z"
   },
   {
    "duration": 8,
    "start_time": "2022-06-08T13:22:40.475Z"
   },
   {
    "duration": 15,
    "start_time": "2022-06-08T13:22:40.485Z"
   },
   {
    "duration": 4,
    "start_time": "2022-06-08T13:22:57.697Z"
   },
   {
    "duration": 164,
    "start_time": "2022-06-08T13:22:57.703Z"
   },
   {
    "duration": 22,
    "start_time": "2022-06-08T13:22:57.869Z"
   },
   {
    "duration": 4,
    "start_time": "2022-06-08T13:22:57.893Z"
   },
   {
    "duration": 26,
    "start_time": "2022-06-08T13:22:57.899Z"
   },
   {
    "duration": 8,
    "start_time": "2022-06-08T13:22:57.926Z"
   },
   {
    "duration": 8,
    "start_time": "2022-06-08T13:22:57.936Z"
   },
   {
    "duration": 16,
    "start_time": "2022-06-08T13:22:57.946Z"
   },
   {
    "duration": 12,
    "start_time": "2022-06-08T13:22:57.963Z"
   },
   {
    "duration": 92,
    "start_time": "2022-06-08T13:22:57.976Z"
   },
   {
    "duration": 10,
    "start_time": "2022-06-08T13:22:58.071Z"
   },
   {
    "duration": 29,
    "start_time": "2022-06-08T13:22:58.082Z"
   },
   {
    "duration": 24,
    "start_time": "2022-06-08T13:22:58.124Z"
   },
   {
    "duration": 108,
    "start_time": "2022-06-08T13:22:58.150Z"
   },
   {
    "duration": 103,
    "start_time": "2022-06-08T13:22:58.260Z"
   },
   {
    "duration": 82,
    "start_time": "2022-06-08T13:22:58.365Z"
   },
   {
    "duration": 12,
    "start_time": "2022-06-08T13:22:58.449Z"
   },
   {
    "duration": 12,
    "start_time": "2022-06-08T13:22:58.463Z"
   },
   {
    "duration": 9,
    "start_time": "2022-06-08T13:22:58.477Z"
   },
   {
    "duration": 54,
    "start_time": "2022-06-08T13:22:58.488Z"
   },
   {
    "duration": 273,
    "start_time": "2022-06-08T13:22:58.543Z"
   },
   {
    "duration": 498,
    "start_time": "2022-06-08T13:22:58.819Z"
   },
   {
    "duration": 251,
    "start_time": "2022-06-08T13:22:59.322Z"
   },
   {
    "duration": 24,
    "start_time": "2022-06-08T13:22:59.575Z"
   },
   {
    "duration": 25,
    "start_time": "2022-06-08T13:22:59.601Z"
   },
   {
    "duration": 13,
    "start_time": "2022-06-08T13:22:59.628Z"
   },
   {
    "duration": 46,
    "start_time": "2022-06-08T13:22:59.642Z"
   },
   {
    "duration": 48,
    "start_time": "2022-06-08T13:22:59.690Z"
   },
   {
    "duration": 106,
    "start_time": "2022-06-08T13:22:59.742Z"
   },
   {
    "duration": 76,
    "start_time": "2022-06-08T13:22:59.849Z"
   },
   {
    "duration": 59,
    "start_time": "2022-06-08T13:22:59.927Z"
   },
   {
    "duration": 35,
    "start_time": "2022-06-08T13:22:59.988Z"
   },
   {
    "duration": 10,
    "start_time": "2022-06-08T13:23:00.025Z"
   },
   {
    "duration": 87,
    "start_time": "2022-06-08T13:23:00.037Z"
   },
   {
    "duration": 5,
    "start_time": "2022-06-08T13:23:00.126Z"
   },
   {
    "duration": 14,
    "start_time": "2022-06-08T13:23:00.133Z"
   },
   {
    "duration": 21,
    "start_time": "2022-06-08T13:23:00.149Z"
   },
   {
    "duration": 15,
    "start_time": "2022-06-08T13:24:08.038Z"
   },
   {
    "duration": 44,
    "start_time": "2022-06-08T13:39:38.327Z"
   },
   {
    "duration": 4,
    "start_time": "2022-06-08T13:39:49.216Z"
   },
   {
    "duration": 258,
    "start_time": "2022-06-08T13:39:49.224Z"
   },
   {
    "duration": 44,
    "start_time": "2022-06-08T13:39:49.484Z"
   },
   {
    "duration": 5,
    "start_time": "2022-06-08T13:39:49.531Z"
   },
   {
    "duration": 16,
    "start_time": "2022-06-08T13:39:49.539Z"
   },
   {
    "duration": 5,
    "start_time": "2022-06-08T13:39:49.557Z"
   },
   {
    "duration": 13,
    "start_time": "2022-06-08T13:39:49.564Z"
   },
   {
    "duration": 15,
    "start_time": "2022-06-08T13:39:49.579Z"
   },
   {
    "duration": 4,
    "start_time": "2022-06-08T13:39:49.596Z"
   },
   {
    "duration": 132,
    "start_time": "2022-06-08T13:39:49.602Z"
   },
   {
    "duration": 11,
    "start_time": "2022-06-08T13:39:49.736Z"
   },
   {
    "duration": 51,
    "start_time": "2022-06-08T13:39:49.749Z"
   },
   {
    "duration": 42,
    "start_time": "2022-06-08T13:39:49.803Z"
   },
   {
    "duration": 93,
    "start_time": "2022-06-08T13:39:49.846Z"
   },
   {
    "duration": 99,
    "start_time": "2022-06-08T13:39:49.942Z"
   },
   {
    "duration": 79,
    "start_time": "2022-06-08T13:39:50.044Z"
   },
   {
    "duration": 12,
    "start_time": "2022-06-08T13:39:50.125Z"
   },
   {
    "duration": 16,
    "start_time": "2022-06-08T13:39:50.139Z"
   },
   {
    "duration": 3,
    "start_time": "2022-06-08T13:39:50.157Z"
   },
   {
    "duration": 70,
    "start_time": "2022-06-08T13:39:50.162Z"
   },
   {
    "duration": 240,
    "start_time": "2022-06-08T13:39:50.234Z"
   },
   {
    "duration": 433,
    "start_time": "2022-06-08T13:39:50.476Z"
   },
   {
    "duration": 243,
    "start_time": "2022-06-08T13:39:50.911Z"
   },
   {
    "duration": 24,
    "start_time": "2022-06-08T13:39:51.156Z"
   },
   {
    "duration": 21,
    "start_time": "2022-06-08T13:39:51.182Z"
   },
   {
    "duration": 17,
    "start_time": "2022-06-08T13:39:51.224Z"
   },
   {
    "duration": 35,
    "start_time": "2022-06-08T13:39:51.242Z"
   },
   {
    "duration": 43,
    "start_time": "2022-06-08T13:39:51.279Z"
   },
   {
    "duration": 244,
    "start_time": "2022-06-08T13:39:51.324Z"
   },
   {
    "duration": 77,
    "start_time": "2022-06-08T13:39:51.570Z"
   },
   {
    "duration": 54,
    "start_time": "2022-06-08T13:39:51.649Z"
   },
   {
    "duration": 16,
    "start_time": "2022-06-08T13:39:51.723Z"
   },
   {
    "duration": 20,
    "start_time": "2022-06-08T13:39:51.741Z"
   },
   {
    "duration": 0,
    "start_time": "2022-06-08T13:39:51.763Z"
   },
   {
    "duration": 0,
    "start_time": "2022-06-08T13:39:51.764Z"
   },
   {
    "duration": 0,
    "start_time": "2022-06-08T13:39:51.765Z"
   },
   {
    "duration": 0,
    "start_time": "2022-06-08T13:39:51.766Z"
   },
   {
    "duration": 16,
    "start_time": "2022-06-08T13:41:10.968Z"
   },
   {
    "duration": 7,
    "start_time": "2022-06-08T13:41:17.607Z"
   },
   {
    "duration": 35,
    "start_time": "2022-06-08T13:48:54.635Z"
   },
   {
    "duration": 7,
    "start_time": "2022-06-08T13:50:47.406Z"
   },
   {
    "duration": 1534,
    "start_time": "2022-06-08T14:58:47.895Z"
   },
   {
    "duration": 615,
    "start_time": "2022-06-08T14:58:49.431Z"
   },
   {
    "duration": 30,
    "start_time": "2022-06-08T14:58:50.048Z"
   },
   {
    "duration": 8,
    "start_time": "2022-06-08T14:58:50.083Z"
   },
   {
    "duration": 14,
    "start_time": "2022-06-08T14:58:50.094Z"
   },
   {
    "duration": 4,
    "start_time": "2022-06-08T14:58:50.109Z"
   },
   {
    "duration": 7,
    "start_time": "2022-06-08T14:58:50.115Z"
   },
   {
    "duration": 45,
    "start_time": "2022-06-08T14:58:50.124Z"
   },
   {
    "duration": 10,
    "start_time": "2022-06-08T14:58:50.174Z"
   },
   {
    "duration": 94,
    "start_time": "2022-06-08T14:58:50.188Z"
   },
   {
    "duration": 10,
    "start_time": "2022-06-08T14:58:50.283Z"
   },
   {
    "duration": 38,
    "start_time": "2022-06-08T14:58:50.295Z"
   },
   {
    "duration": 56,
    "start_time": "2022-06-08T14:58:50.335Z"
   },
   {
    "duration": 99,
    "start_time": "2022-06-08T14:58:50.392Z"
   },
   {
    "duration": 99,
    "start_time": "2022-06-08T14:58:50.492Z"
   },
   {
    "duration": 88,
    "start_time": "2022-06-08T14:58:50.593Z"
   },
   {
    "duration": 14,
    "start_time": "2022-06-08T14:58:50.684Z"
   },
   {
    "duration": 17,
    "start_time": "2022-06-08T14:58:50.700Z"
   },
   {
    "duration": 6,
    "start_time": "2022-06-08T14:58:50.719Z"
   },
   {
    "duration": 69,
    "start_time": "2022-06-08T14:58:50.727Z"
   },
   {
    "duration": 336,
    "start_time": "2022-06-08T14:58:50.798Z"
   },
   {
    "duration": 464,
    "start_time": "2022-06-08T14:58:51.136Z"
   },
   {
    "duration": 259,
    "start_time": "2022-06-08T14:58:51.602Z"
   },
   {
    "duration": 25,
    "start_time": "2022-06-08T14:58:51.862Z"
   },
   {
    "duration": 15,
    "start_time": "2022-06-08T14:58:51.889Z"
   },
   {
    "duration": 8,
    "start_time": "2022-06-08T14:58:51.905Z"
   },
   {
    "duration": 75,
    "start_time": "2022-06-08T14:58:51.915Z"
   },
   {
    "duration": 27,
    "start_time": "2022-06-08T14:58:51.993Z"
   },
   {
    "duration": 507,
    "start_time": "2022-06-08T14:58:52.022Z"
   },
   {
    "duration": 79,
    "start_time": "2022-06-08T14:58:52.532Z"
   },
   {
    "duration": 168,
    "start_time": "2022-06-08T14:58:52.613Z"
   },
   {
    "duration": 13,
    "start_time": "2022-06-08T14:58:52.783Z"
   },
   {
    "duration": 9,
    "start_time": "2022-06-08T14:58:52.797Z"
   },
   {
    "duration": 280,
    "start_time": "2022-06-08T14:58:52.807Z"
   },
   {
    "duration": 0,
    "start_time": "2022-06-08T14:58:53.089Z"
   },
   {
    "duration": 0,
    "start_time": "2022-06-08T14:58:53.091Z"
   },
   {
    "duration": 1,
    "start_time": "2022-06-08T14:58:53.092Z"
   },
   {
    "duration": 0,
    "start_time": "2022-06-08T14:58:53.094Z"
   },
   {
    "duration": 5,
    "start_time": "2022-06-08T15:00:59.280Z"
   },
   {
    "duration": 7,
    "start_time": "2022-06-08T15:01:15.630Z"
   },
   {
    "duration": 7,
    "start_time": "2022-06-08T15:02:28.831Z"
   },
   {
    "duration": 34,
    "start_time": "2022-06-08T15:05:59.816Z"
   },
   {
    "duration": 21,
    "start_time": "2022-06-08T15:06:36.660Z"
   },
   {
    "duration": 12,
    "start_time": "2022-06-08T15:15:09.207Z"
   },
   {
    "duration": 123,
    "start_time": "2022-06-08T15:15:53.779Z"
   },
   {
    "duration": 78,
    "start_time": "2022-06-08T15:18:51.730Z"
   },
   {
    "duration": 116,
    "start_time": "2022-06-08T15:20:19.887Z"
   },
   {
    "duration": 112,
    "start_time": "2022-06-08T15:22:15.666Z"
   },
   {
    "duration": 52,
    "start_time": "2022-06-08T15:22:29.486Z"
   },
   {
    "duration": 94,
    "start_time": "2022-06-08T15:22:38.143Z"
   },
   {
    "duration": 56,
    "start_time": "2022-06-08T15:23:06.845Z"
   },
   {
    "duration": 20,
    "start_time": "2022-06-08T15:29:26.221Z"
   },
   {
    "duration": 124,
    "start_time": "2022-06-08T15:33:07.380Z"
   },
   {
    "duration": 41,
    "start_time": "2022-06-08T15:33:21.965Z"
   },
   {
    "duration": 129,
    "start_time": "2022-06-08T15:33:30.780Z"
   },
   {
    "duration": 117,
    "start_time": "2022-06-08T15:34:11.690Z"
   },
   {
    "duration": 112,
    "start_time": "2022-06-08T15:34:20.788Z"
   },
   {
    "duration": 4,
    "start_time": "2022-06-08T15:34:25.908Z"
   },
   {
    "duration": 195,
    "start_time": "2022-06-08T15:34:25.913Z"
   },
   {
    "duration": 19,
    "start_time": "2022-06-08T15:34:26.110Z"
   },
   {
    "duration": 3,
    "start_time": "2022-06-08T15:34:26.130Z"
   },
   {
    "duration": 30,
    "start_time": "2022-06-08T15:34:26.135Z"
   },
   {
    "duration": 6,
    "start_time": "2022-06-08T15:34:26.168Z"
   },
   {
    "duration": 19,
    "start_time": "2022-06-08T15:34:26.176Z"
   },
   {
    "duration": 15,
    "start_time": "2022-06-08T15:34:26.197Z"
   },
   {
    "duration": 3,
    "start_time": "2022-06-08T15:34:26.214Z"
   },
   {
    "duration": 91,
    "start_time": "2022-06-08T15:34:26.218Z"
   },
   {
    "duration": 10,
    "start_time": "2022-06-08T15:34:26.312Z"
   },
   {
    "duration": 52,
    "start_time": "2022-06-08T15:34:26.324Z"
   },
   {
    "duration": 25,
    "start_time": "2022-06-08T15:34:26.378Z"
   },
   {
    "duration": 91,
    "start_time": "2022-06-08T15:34:26.404Z"
   },
   {
    "duration": 101,
    "start_time": "2022-06-08T15:34:26.497Z"
   },
   {
    "duration": 76,
    "start_time": "2022-06-08T15:34:26.599Z"
   },
   {
    "duration": 13,
    "start_time": "2022-06-08T15:34:26.678Z"
   },
   {
    "duration": 14,
    "start_time": "2022-06-08T15:34:26.693Z"
   },
   {
    "duration": 3,
    "start_time": "2022-06-08T15:34:26.709Z"
   },
   {
    "duration": 66,
    "start_time": "2022-06-08T15:34:26.714Z"
   },
   {
    "duration": 267,
    "start_time": "2022-06-08T15:34:26.782Z"
   },
   {
    "duration": 467,
    "start_time": "2022-06-08T15:34:27.050Z"
   },
   {
    "duration": 339,
    "start_time": "2022-06-08T15:34:27.518Z"
   },
   {
    "duration": 29,
    "start_time": "2022-06-08T15:34:27.859Z"
   },
   {
    "duration": 12,
    "start_time": "2022-06-08T15:34:27.890Z"
   },
   {
    "duration": 10,
    "start_time": "2022-06-08T15:34:27.903Z"
   },
   {
    "duration": 72,
    "start_time": "2022-06-08T15:34:27.915Z"
   },
   {
    "duration": 29,
    "start_time": "2022-06-08T15:34:27.989Z"
   },
   {
    "duration": 127,
    "start_time": "2022-06-08T15:34:28.022Z"
   },
   {
    "duration": 68,
    "start_time": "2022-06-08T15:34:28.151Z"
   },
   {
    "duration": 78,
    "start_time": "2022-06-08T15:34:28.220Z"
   },
   {
    "duration": 10,
    "start_time": "2022-06-08T15:34:28.300Z"
   },
   {
    "duration": 54,
    "start_time": "2022-06-08T15:34:28.312Z"
   },
   {
    "duration": 8,
    "start_time": "2022-06-08T15:34:28.369Z"
   },
   {
    "duration": 117,
    "start_time": "2022-06-08T15:34:28.379Z"
   },
   {
    "duration": 92,
    "start_time": "2022-06-08T15:34:28.497Z"
   },
   {
    "duration": 5,
    "start_time": "2022-06-08T15:34:28.591Z"
   },
   {
    "duration": 8,
    "start_time": "2022-06-08T15:34:28.598Z"
   },
   {
    "duration": 10,
    "start_time": "2022-06-08T15:34:28.607Z"
   },
   {
    "duration": 5,
    "start_time": "2022-06-08T15:34:49.541Z"
   },
   {
    "duration": 189,
    "start_time": "2022-06-08T15:34:49.548Z"
   },
   {
    "duration": 26,
    "start_time": "2022-06-08T15:34:49.739Z"
   },
   {
    "duration": 11,
    "start_time": "2022-06-08T15:34:49.768Z"
   },
   {
    "duration": 12,
    "start_time": "2022-06-08T15:34:49.780Z"
   },
   {
    "duration": 4,
    "start_time": "2022-06-08T15:34:49.794Z"
   },
   {
    "duration": 6,
    "start_time": "2022-06-08T15:34:49.799Z"
   },
   {
    "duration": 12,
    "start_time": "2022-06-08T15:34:49.807Z"
   },
   {
    "duration": 4,
    "start_time": "2022-06-08T15:34:49.821Z"
   },
   {
    "duration": 107,
    "start_time": "2022-06-08T15:34:49.826Z"
   },
   {
    "duration": 10,
    "start_time": "2022-06-08T15:34:49.935Z"
   },
   {
    "duration": 32,
    "start_time": "2022-06-08T15:34:49.966Z"
   },
   {
    "duration": 27,
    "start_time": "2022-06-08T15:34:50.000Z"
   },
   {
    "duration": 104,
    "start_time": "2022-06-08T15:34:50.029Z"
   },
   {
    "duration": 104,
    "start_time": "2022-06-08T15:34:50.134Z"
   },
   {
    "duration": 78,
    "start_time": "2022-06-08T15:34:50.240Z"
   },
   {
    "duration": 12,
    "start_time": "2022-06-08T15:34:50.320Z"
   },
   {
    "duration": 10,
    "start_time": "2022-06-08T15:34:50.334Z"
   },
   {
    "duration": 5,
    "start_time": "2022-06-08T15:34:50.365Z"
   },
   {
    "duration": 48,
    "start_time": "2022-06-08T15:34:50.372Z"
   },
   {
    "duration": 251,
    "start_time": "2022-06-08T15:34:50.422Z"
   },
   {
    "duration": 446,
    "start_time": "2022-06-08T15:34:50.675Z"
   },
   {
    "duration": 258,
    "start_time": "2022-06-08T15:34:51.122Z"
   },
   {
    "duration": 22,
    "start_time": "2022-06-08T15:34:51.383Z"
   },
   {
    "duration": 14,
    "start_time": "2022-06-08T15:34:51.407Z"
   },
   {
    "duration": 18,
    "start_time": "2022-06-08T15:34:51.422Z"
   },
   {
    "duration": 42,
    "start_time": "2022-06-08T15:34:51.464Z"
   },
   {
    "duration": 25,
    "start_time": "2022-06-08T15:34:51.507Z"
   },
   {
    "duration": 134,
    "start_time": "2022-06-08T15:34:51.534Z"
   },
   {
    "duration": 49,
    "start_time": "2022-06-08T15:34:51.671Z"
   },
   {
    "duration": 91,
    "start_time": "2022-06-08T15:34:51.723Z"
   },
   {
    "duration": 13,
    "start_time": "2022-06-08T15:34:51.816Z"
   },
   {
    "duration": 72,
    "start_time": "2022-06-08T15:34:51.831Z"
   },
   {
    "duration": 6,
    "start_time": "2022-06-08T15:34:51.905Z"
   },
   {
    "duration": 108,
    "start_time": "2022-06-08T15:34:51.913Z"
   },
   {
    "duration": 92,
    "start_time": "2022-06-08T15:34:52.023Z"
   },
   {
    "duration": 5,
    "start_time": "2022-06-08T15:34:52.117Z"
   },
   {
    "duration": 6,
    "start_time": "2022-06-08T15:34:52.124Z"
   },
   {
    "duration": 24,
    "start_time": "2022-06-08T15:34:52.132Z"
   },
   {
    "duration": 4,
    "start_time": "2022-06-08T15:36:14.886Z"
   },
   {
    "duration": 189,
    "start_time": "2022-06-08T15:36:14.892Z"
   },
   {
    "duration": 18,
    "start_time": "2022-06-08T15:36:15.083Z"
   },
   {
    "duration": 4,
    "start_time": "2022-06-08T15:36:15.103Z"
   },
   {
    "duration": 16,
    "start_time": "2022-06-08T15:36:15.108Z"
   },
   {
    "duration": 7,
    "start_time": "2022-06-08T15:36:15.126Z"
   },
   {
    "duration": 6,
    "start_time": "2022-06-08T15:36:15.135Z"
   },
   {
    "duration": 7,
    "start_time": "2022-06-08T15:36:15.166Z"
   },
   {
    "duration": 15,
    "start_time": "2022-06-08T15:36:15.175Z"
   },
   {
    "duration": 77,
    "start_time": "2022-06-08T15:36:15.191Z"
   },
   {
    "duration": 9,
    "start_time": "2022-06-08T15:36:15.273Z"
   },
   {
    "duration": 29,
    "start_time": "2022-06-08T15:36:15.284Z"
   },
   {
    "duration": 64,
    "start_time": "2022-06-08T15:36:15.315Z"
   },
   {
    "duration": 84,
    "start_time": "2022-06-08T15:36:15.381Z"
   },
   {
    "duration": 103,
    "start_time": "2022-06-08T15:36:15.467Z"
   },
   {
    "duration": 75,
    "start_time": "2022-06-08T15:36:15.572Z"
   },
   {
    "duration": 33,
    "start_time": "2022-06-08T15:36:15.649Z"
   },
   {
    "duration": 14,
    "start_time": "2022-06-08T15:36:15.684Z"
   },
   {
    "duration": 4,
    "start_time": "2022-06-08T15:36:15.700Z"
   },
   {
    "duration": 60,
    "start_time": "2022-06-08T15:36:15.706Z"
   },
   {
    "duration": 256,
    "start_time": "2022-06-08T15:36:15.768Z"
   },
   {
    "duration": 591,
    "start_time": "2022-06-08T15:36:16.026Z"
   },
   {
    "duration": 281,
    "start_time": "2022-06-08T15:36:16.619Z"
   },
   {
    "duration": 23,
    "start_time": "2022-06-08T15:36:16.902Z"
   },
   {
    "duration": 12,
    "start_time": "2022-06-08T15:36:16.927Z"
   },
   {
    "duration": 31,
    "start_time": "2022-06-08T15:36:16.941Z"
   },
   {
    "duration": 42,
    "start_time": "2022-06-08T15:36:16.974Z"
   },
   {
    "duration": 52,
    "start_time": "2022-06-08T15:36:17.018Z"
   },
   {
    "duration": 114,
    "start_time": "2022-06-08T15:36:17.075Z"
   },
   {
    "duration": 53,
    "start_time": "2022-06-08T15:36:17.191Z"
   },
   {
    "duration": 60,
    "start_time": "2022-06-08T15:36:17.264Z"
   },
   {
    "duration": 12,
    "start_time": "2022-06-08T15:36:17.325Z"
   },
   {
    "duration": 48,
    "start_time": "2022-06-08T15:36:17.365Z"
   },
   {
    "duration": 6,
    "start_time": "2022-06-08T15:36:17.415Z"
   },
   {
    "duration": 122,
    "start_time": "2022-06-08T15:36:17.423Z"
   },
   {
    "duration": 84,
    "start_time": "2022-06-08T15:36:17.547Z"
   },
   {
    "duration": 5,
    "start_time": "2022-06-08T15:36:17.633Z"
   },
   {
    "duration": 25,
    "start_time": "2022-06-08T15:36:17.640Z"
   },
   {
    "duration": 28,
    "start_time": "2022-06-08T15:36:17.667Z"
   },
   {
    "duration": 1278,
    "start_time": "2022-06-08T15:36:26.543Z"
   },
   {
    "duration": 178,
    "start_time": "2022-06-08T15:36:27.823Z"
   },
   {
    "duration": 20,
    "start_time": "2022-06-08T15:36:28.006Z"
   },
   {
    "duration": 21,
    "start_time": "2022-06-08T15:36:28.028Z"
   },
   {
    "duration": 51,
    "start_time": "2022-06-08T15:36:28.051Z"
   },
   {
    "duration": 7,
    "start_time": "2022-06-08T15:36:28.104Z"
   },
   {
    "duration": 15,
    "start_time": "2022-06-08T15:36:28.113Z"
   },
   {
    "duration": 23,
    "start_time": "2022-06-08T15:36:28.130Z"
   },
   {
    "duration": 25,
    "start_time": "2022-06-08T15:36:28.156Z"
   },
   {
    "duration": 80,
    "start_time": "2022-06-08T15:36:28.183Z"
   },
   {
    "duration": 13,
    "start_time": "2022-06-08T15:36:28.265Z"
   },
   {
    "duration": 37,
    "start_time": "2022-06-08T15:36:28.280Z"
   },
   {
    "duration": 57,
    "start_time": "2022-06-08T15:36:28.319Z"
   },
   {
    "duration": 82,
    "start_time": "2022-06-08T15:36:28.378Z"
   },
   {
    "duration": 100,
    "start_time": "2022-06-08T15:36:28.465Z"
   },
   {
    "duration": 79,
    "start_time": "2022-06-08T15:36:28.567Z"
   },
   {
    "duration": 36,
    "start_time": "2022-06-08T15:36:28.647Z"
   },
   {
    "duration": 24,
    "start_time": "2022-06-08T15:36:28.686Z"
   },
   {
    "duration": 18,
    "start_time": "2022-06-08T15:36:28.712Z"
   },
   {
    "duration": 49,
    "start_time": "2022-06-08T15:36:28.732Z"
   },
   {
    "duration": 355,
    "start_time": "2022-06-08T15:36:28.782Z"
   },
   {
    "duration": 447,
    "start_time": "2022-06-08T15:36:29.139Z"
   },
   {
    "duration": 252,
    "start_time": "2022-06-08T15:36:29.588Z"
   },
   {
    "duration": 31,
    "start_time": "2022-06-08T15:36:29.843Z"
   },
   {
    "duration": 14,
    "start_time": "2022-06-08T15:36:29.876Z"
   },
   {
    "duration": 13,
    "start_time": "2022-06-08T15:36:29.891Z"
   },
   {
    "duration": 59,
    "start_time": "2022-06-08T15:36:29.907Z"
   },
   {
    "duration": 34,
    "start_time": "2022-06-08T15:36:29.968Z"
   },
   {
    "duration": 492,
    "start_time": "2022-06-08T15:36:30.004Z"
   },
   {
    "duration": 105,
    "start_time": "2022-06-08T15:36:30.498Z"
   },
   {
    "duration": 176,
    "start_time": "2022-06-08T15:36:30.604Z"
   },
   {
    "duration": 12,
    "start_time": "2022-06-08T15:36:30.782Z"
   },
   {
    "duration": 70,
    "start_time": "2022-06-08T15:36:30.796Z"
   },
   {
    "duration": 8,
    "start_time": "2022-06-08T15:36:30.869Z"
   },
   {
    "duration": 131,
    "start_time": "2022-06-08T15:36:30.880Z"
   },
   {
    "duration": 102,
    "start_time": "2022-06-08T15:36:31.012Z"
   },
   {
    "duration": 5,
    "start_time": "2022-06-08T15:36:31.115Z"
   },
   {
    "duration": 31,
    "start_time": "2022-06-08T15:36:31.121Z"
   },
   {
    "duration": 73,
    "start_time": "2022-06-08T15:36:31.153Z"
   },
   {
    "duration": 1330,
    "start_time": "2022-06-08T15:36:47.156Z"
   },
   {
    "duration": 177,
    "start_time": "2022-06-08T15:36:48.487Z"
   },
   {
    "duration": 29,
    "start_time": "2022-06-08T15:36:48.667Z"
   },
   {
    "duration": 4,
    "start_time": "2022-06-08T15:36:48.697Z"
   },
   {
    "duration": 19,
    "start_time": "2022-06-08T15:36:48.703Z"
   },
   {
    "duration": 16,
    "start_time": "2022-06-08T15:36:48.724Z"
   },
   {
    "duration": 24,
    "start_time": "2022-06-08T15:36:48.742Z"
   },
   {
    "duration": 17,
    "start_time": "2022-06-08T15:36:48.768Z"
   },
   {
    "duration": 15,
    "start_time": "2022-06-08T15:36:48.787Z"
   },
   {
    "duration": 107,
    "start_time": "2022-06-08T15:36:48.804Z"
   },
   {
    "duration": 15,
    "start_time": "2022-06-08T15:36:48.913Z"
   },
   {
    "duration": 60,
    "start_time": "2022-06-08T15:36:48.931Z"
   },
   {
    "duration": 39,
    "start_time": "2022-06-08T15:36:48.993Z"
   },
   {
    "duration": 144,
    "start_time": "2022-06-08T15:36:49.037Z"
   },
   {
    "duration": 122,
    "start_time": "2022-06-08T15:36:49.186Z"
   },
   {
    "duration": 89,
    "start_time": "2022-06-08T15:36:49.310Z"
   },
   {
    "duration": 14,
    "start_time": "2022-06-08T15:36:49.401Z"
   },
   {
    "duration": 15,
    "start_time": "2022-06-08T15:36:49.417Z"
   },
   {
    "duration": 31,
    "start_time": "2022-06-08T15:36:49.434Z"
   },
   {
    "duration": 53,
    "start_time": "2022-06-08T15:36:49.467Z"
   },
   {
    "duration": 375,
    "start_time": "2022-06-08T15:36:49.522Z"
   },
   {
    "duration": 520,
    "start_time": "2022-06-08T15:36:49.900Z"
   },
   {
    "duration": 324,
    "start_time": "2022-06-08T15:36:50.422Z"
   },
   {
    "duration": 34,
    "start_time": "2022-06-08T15:36:50.748Z"
   },
   {
    "duration": 13,
    "start_time": "2022-06-08T15:36:50.784Z"
   },
   {
    "duration": 9,
    "start_time": "2022-06-08T15:36:50.801Z"
   },
   {
    "duration": 66,
    "start_time": "2022-06-08T15:36:50.812Z"
   },
   {
    "duration": 31,
    "start_time": "2022-06-08T15:36:50.881Z"
   },
   {
    "duration": 531,
    "start_time": "2022-06-08T15:36:50.914Z"
   },
   {
    "duration": 122,
    "start_time": "2022-06-08T15:36:51.447Z"
   },
   {
    "duration": 130,
    "start_time": "2022-06-08T15:36:51.570Z"
   },
   {
    "duration": 62,
    "start_time": "2022-06-08T15:36:51.703Z"
   },
   {
    "duration": 43,
    "start_time": "2022-06-08T15:36:51.768Z"
   },
   {
    "duration": 6,
    "start_time": "2022-06-08T15:36:51.812Z"
   },
   {
    "duration": 141,
    "start_time": "2022-06-08T15:36:51.820Z"
   },
   {
    "duration": 99,
    "start_time": "2022-06-08T15:36:51.966Z"
   },
   {
    "duration": 5,
    "start_time": "2022-06-08T15:36:52.067Z"
   },
   {
    "duration": 8,
    "start_time": "2022-06-08T15:36:52.074Z"
   },
   {
    "duration": 23,
    "start_time": "2022-06-08T15:36:52.084Z"
   },
   {
    "duration": 262,
    "start_time": "2022-06-08T15:40:06.826Z"
   },
   {
    "duration": 1179,
    "start_time": "2022-06-08T15:40:23.091Z"
   },
   {
    "duration": 180,
    "start_time": "2022-06-08T15:40:24.273Z"
   },
   {
    "duration": 29,
    "start_time": "2022-06-08T15:40:24.454Z"
   },
   {
    "duration": 3,
    "start_time": "2022-06-08T15:40:24.486Z"
   },
   {
    "duration": 9,
    "start_time": "2022-06-08T15:40:24.490Z"
   },
   {
    "duration": 3,
    "start_time": "2022-06-08T15:40:24.501Z"
   },
   {
    "duration": 7,
    "start_time": "2022-06-08T15:40:24.506Z"
   },
   {
    "duration": 17,
    "start_time": "2022-06-08T15:40:24.514Z"
   },
   {
    "duration": 37,
    "start_time": "2022-06-08T15:40:24.532Z"
   },
   {
    "duration": 78,
    "start_time": "2022-06-08T15:40:24.573Z"
   },
   {
    "duration": 19,
    "start_time": "2022-06-08T15:40:24.653Z"
   },
   {
    "duration": 35,
    "start_time": "2022-06-08T15:40:24.675Z"
   },
   {
    "duration": 30,
    "start_time": "2022-06-08T15:40:24.711Z"
   },
   {
    "duration": 82,
    "start_time": "2022-06-08T15:40:24.765Z"
   },
   {
    "duration": 99,
    "start_time": "2022-06-08T15:40:24.848Z"
   },
   {
    "duration": 88,
    "start_time": "2022-06-08T15:40:24.949Z"
   },
   {
    "duration": 25,
    "start_time": "2022-06-08T15:40:25.039Z"
   },
   {
    "duration": 19,
    "start_time": "2022-06-08T15:40:25.067Z"
   },
   {
    "duration": 3,
    "start_time": "2022-06-08T15:40:25.088Z"
   },
   {
    "duration": 34,
    "start_time": "2022-06-08T15:40:25.093Z"
   },
   {
    "duration": 341,
    "start_time": "2022-06-08T15:40:25.129Z"
   },
   {
    "duration": 459,
    "start_time": "2022-06-08T15:40:25.472Z"
   },
   {
    "duration": 268,
    "start_time": "2022-06-08T15:40:25.932Z"
   },
   {
    "duration": 23,
    "start_time": "2022-06-08T15:40:26.202Z"
   },
   {
    "duration": 12,
    "start_time": "2022-06-08T15:40:26.227Z"
   },
   {
    "duration": 24,
    "start_time": "2022-06-08T15:40:26.241Z"
   },
   {
    "duration": 46,
    "start_time": "2022-06-08T15:40:26.266Z"
   },
   {
    "duration": 63,
    "start_time": "2022-06-08T15:40:26.316Z"
   },
   {
    "duration": 489,
    "start_time": "2022-06-08T15:40:26.381Z"
   },
   {
    "duration": 120,
    "start_time": "2022-06-08T15:40:26.873Z"
   },
   {
    "duration": 118,
    "start_time": "2022-06-08T15:40:26.995Z"
   },
   {
    "duration": 64,
    "start_time": "2022-06-08T15:40:27.114Z"
   },
   {
    "duration": 96,
    "start_time": "2022-06-08T15:40:27.181Z"
   },
   {
    "duration": 7,
    "start_time": "2022-06-08T15:40:27.280Z"
   },
   {
    "duration": 318,
    "start_time": "2022-06-08T15:40:27.289Z"
   },
   {
    "duration": 0,
    "start_time": "2022-06-08T15:40:27.609Z"
   },
   {
    "duration": 0,
    "start_time": "2022-06-08T15:40:27.610Z"
   },
   {
    "duration": 0,
    "start_time": "2022-06-08T15:40:27.611Z"
   },
   {
    "duration": 0,
    "start_time": "2022-06-08T15:40:27.612Z"
   },
   {
    "duration": 111,
    "start_time": "2022-06-08T15:41:14.644Z"
   },
   {
    "duration": 532,
    "start_time": "2022-06-08T15:41:40.276Z"
   },
   {
    "duration": 1155,
    "start_time": "2022-06-08T15:41:54.711Z"
   },
   {
    "duration": 187,
    "start_time": "2022-06-08T15:41:55.869Z"
   },
   {
    "duration": 33,
    "start_time": "2022-06-08T15:41:56.058Z"
   },
   {
    "duration": 3,
    "start_time": "2022-06-08T15:41:56.094Z"
   },
   {
    "duration": 11,
    "start_time": "2022-06-08T15:41:56.099Z"
   },
   {
    "duration": 4,
    "start_time": "2022-06-08T15:41:56.112Z"
   },
   {
    "duration": 8,
    "start_time": "2022-06-08T15:41:56.117Z"
   },
   {
    "duration": 56,
    "start_time": "2022-06-08T15:41:56.126Z"
   },
   {
    "duration": 3,
    "start_time": "2022-06-08T15:41:56.184Z"
   },
   {
    "duration": 96,
    "start_time": "2022-06-08T15:41:56.190Z"
   },
   {
    "duration": 10,
    "start_time": "2022-06-08T15:41:56.288Z"
   },
   {
    "duration": 38,
    "start_time": "2022-06-08T15:41:56.299Z"
   },
   {
    "duration": 56,
    "start_time": "2022-06-08T15:41:56.339Z"
   },
   {
    "duration": 98,
    "start_time": "2022-06-08T15:41:56.396Z"
   },
   {
    "duration": 98,
    "start_time": "2022-06-08T15:41:56.495Z"
   },
   {
    "duration": 69,
    "start_time": "2022-06-08T15:41:56.595Z"
   },
   {
    "duration": 13,
    "start_time": "2022-06-08T15:41:56.666Z"
   },
   {
    "duration": 18,
    "start_time": "2022-06-08T15:41:56.681Z"
   },
   {
    "duration": 3,
    "start_time": "2022-06-08T15:41:56.701Z"
   },
   {
    "duration": 31,
    "start_time": "2022-06-08T15:41:56.705Z"
   },
   {
    "duration": 368,
    "start_time": "2022-06-08T15:41:56.738Z"
   },
   {
    "duration": 504,
    "start_time": "2022-06-08T15:41:57.108Z"
   },
   {
    "duration": 263,
    "start_time": "2022-06-08T15:41:57.614Z"
   },
   {
    "duration": 21,
    "start_time": "2022-06-08T15:41:57.879Z"
   },
   {
    "duration": 12,
    "start_time": "2022-06-08T15:41:57.901Z"
   },
   {
    "duration": 10,
    "start_time": "2022-06-08T15:41:57.914Z"
   },
   {
    "duration": 76,
    "start_time": "2022-06-08T15:41:57.926Z"
   },
   {
    "duration": 27,
    "start_time": "2022-06-08T15:41:58.005Z"
   },
   {
    "duration": 494,
    "start_time": "2022-06-08T15:41:58.033Z"
   },
   {
    "duration": 136,
    "start_time": "2022-06-08T15:41:58.529Z"
   },
   {
    "duration": 128,
    "start_time": "2022-06-08T15:41:58.668Z"
   },
   {
    "duration": 11,
    "start_time": "2022-06-08T15:41:58.798Z"
   },
   {
    "duration": 93,
    "start_time": "2022-06-08T15:41:58.811Z"
   },
   {
    "duration": 6,
    "start_time": "2022-06-08T15:41:58.907Z"
   },
   {
    "duration": 341,
    "start_time": "2022-06-08T15:41:58.915Z"
   },
   {
    "duration": 0,
    "start_time": "2022-06-08T15:41:59.258Z"
   },
   {
    "duration": 0,
    "start_time": "2022-06-08T15:41:59.269Z"
   },
   {
    "duration": 0,
    "start_time": "2022-06-08T15:41:59.270Z"
   },
   {
    "duration": 0,
    "start_time": "2022-06-08T15:41:59.271Z"
   },
   {
    "duration": 119,
    "start_time": "2022-06-08T15:44:12.336Z"
   },
   {
    "duration": 1284,
    "start_time": "2022-06-08T15:44:34.008Z"
   },
   {
    "duration": 181,
    "start_time": "2022-06-08T15:44:35.294Z"
   },
   {
    "duration": 29,
    "start_time": "2022-06-08T15:44:35.477Z"
   },
   {
    "duration": 5,
    "start_time": "2022-06-08T15:44:35.507Z"
   },
   {
    "duration": 14,
    "start_time": "2022-06-08T15:44:35.514Z"
   },
   {
    "duration": 36,
    "start_time": "2022-06-08T15:44:35.530Z"
   },
   {
    "duration": 9,
    "start_time": "2022-06-08T15:44:35.568Z"
   },
   {
    "duration": 36,
    "start_time": "2022-06-08T15:44:35.579Z"
   },
   {
    "duration": 4,
    "start_time": "2022-06-08T15:44:35.617Z"
   },
   {
    "duration": 92,
    "start_time": "2022-06-08T15:44:35.622Z"
   },
   {
    "duration": 27,
    "start_time": "2022-06-08T15:44:35.715Z"
   },
   {
    "duration": 53,
    "start_time": "2022-06-08T15:44:35.745Z"
   },
   {
    "duration": 32,
    "start_time": "2022-06-08T15:44:35.801Z"
   },
   {
    "duration": 114,
    "start_time": "2022-06-08T15:44:35.836Z"
   },
   {
    "duration": 130,
    "start_time": "2022-06-08T15:44:35.952Z"
   },
   {
    "duration": 88,
    "start_time": "2022-06-08T15:44:36.085Z"
   },
   {
    "duration": 21,
    "start_time": "2022-06-08T15:44:36.175Z"
   },
   {
    "duration": 15,
    "start_time": "2022-06-08T15:44:36.198Z"
   },
   {
    "duration": 3,
    "start_time": "2022-06-08T15:44:36.214Z"
   },
   {
    "duration": 74,
    "start_time": "2022-06-08T15:44:36.219Z"
   },
   {
    "duration": 346,
    "start_time": "2022-06-08T15:44:36.295Z"
   },
   {
    "duration": 498,
    "start_time": "2022-06-08T15:44:36.643Z"
   },
   {
    "duration": 275,
    "start_time": "2022-06-08T15:44:37.143Z"
   },
   {
    "duration": 20,
    "start_time": "2022-06-08T15:44:37.421Z"
   },
   {
    "duration": 32,
    "start_time": "2022-06-08T15:44:37.443Z"
   },
   {
    "duration": 12,
    "start_time": "2022-06-08T15:44:37.478Z"
   },
   {
    "duration": 52,
    "start_time": "2022-06-08T15:44:37.493Z"
   },
   {
    "duration": 52,
    "start_time": "2022-06-08T15:44:37.547Z"
   },
   {
    "duration": 505,
    "start_time": "2022-06-08T15:44:37.601Z"
   },
   {
    "duration": 161,
    "start_time": "2022-06-08T15:44:38.108Z"
   },
   {
    "duration": 127,
    "start_time": "2022-06-08T15:44:38.272Z"
   },
   {
    "duration": 64,
    "start_time": "2022-06-08T15:44:38.401Z"
   },
   {
    "duration": 40,
    "start_time": "2022-06-08T15:44:38.467Z"
   },
   {
    "duration": 58,
    "start_time": "2022-06-08T15:44:38.508Z"
   },
   {
    "duration": 333,
    "start_time": "2022-06-08T15:44:38.569Z"
   },
   {
    "duration": 1,
    "start_time": "2022-06-08T15:44:38.904Z"
   },
   {
    "duration": 0,
    "start_time": "2022-06-08T15:44:38.906Z"
   },
   {
    "duration": 0,
    "start_time": "2022-06-08T15:44:38.908Z"
   },
   {
    "duration": 0,
    "start_time": "2022-06-08T15:44:38.910Z"
   },
   {
    "duration": 111,
    "start_time": "2022-06-08T15:44:59.782Z"
   },
   {
    "duration": 132,
    "start_time": "2022-06-08T15:45:15.848Z"
   },
   {
    "duration": 112,
    "start_time": "2022-06-08T15:48:12.386Z"
   },
   {
    "duration": 111,
    "start_time": "2022-06-08T15:48:18.186Z"
   },
   {
    "duration": 564,
    "start_time": "2022-06-08T15:52:00.965Z"
   },
   {
    "duration": 553,
    "start_time": "2022-06-08T15:52:10.305Z"
   },
   {
    "duration": 531,
    "start_time": "2022-06-08T15:52:28.153Z"
   },
   {
    "duration": 164,
    "start_time": "2022-06-08T15:52:35.256Z"
   },
   {
    "duration": 147,
    "start_time": "2022-06-08T15:52:49.588Z"
   },
   {
    "duration": 469,
    "start_time": "2022-06-08T15:53:53.648Z"
   },
   {
    "duration": 121,
    "start_time": "2022-06-08T15:54:12.614Z"
   },
   {
    "duration": 143,
    "start_time": "2022-06-08T15:54:44.013Z"
   },
   {
    "duration": 113,
    "start_time": "2022-06-08T16:34:57.341Z"
   },
   {
    "duration": 31,
    "start_time": "2022-06-08T16:38:25.690Z"
   },
   {
    "duration": 41,
    "start_time": "2022-06-08T16:39:07.862Z"
   },
   {
    "duration": 5,
    "start_time": "2022-06-08T16:39:21.225Z"
   },
   {
    "duration": 5,
    "start_time": "2022-06-08T16:52:46.952Z"
   },
   {
    "duration": 37,
    "start_time": "2022-06-08T17:20:07.019Z"
   },
   {
    "duration": 29,
    "start_time": "2022-06-08T17:20:15.177Z"
   },
   {
    "duration": 14,
    "start_time": "2022-06-08T17:20:57.973Z"
   },
   {
    "duration": 12,
    "start_time": "2022-06-08T17:23:32.116Z"
   },
   {
    "duration": 12,
    "start_time": "2022-06-08T17:25:26.130Z"
   },
   {
    "duration": 40,
    "start_time": "2022-06-08T17:27:32.545Z"
   },
   {
    "duration": 11,
    "start_time": "2022-06-08T17:27:48.413Z"
   },
   {
    "duration": 6,
    "start_time": "2022-06-08T18:22:17.277Z"
   },
   {
    "duration": 12,
    "start_time": "2022-06-08T18:22:19.710Z"
   },
   {
    "duration": 10,
    "start_time": "2022-06-08T18:22:26.649Z"
   },
   {
    "duration": 11,
    "start_time": "2022-06-08T18:22:30.407Z"
   },
   {
    "duration": 13,
    "start_time": "2022-06-08T18:22:49.466Z"
   },
   {
    "duration": 6,
    "start_time": "2022-06-08T18:37:36.592Z"
   },
   {
    "duration": 13,
    "start_time": "2022-06-08T18:37:37.976Z"
   },
   {
    "duration": 12,
    "start_time": "2022-06-08T18:37:45.659Z"
   },
   {
    "duration": 11,
    "start_time": "2022-06-08T18:37:53.489Z"
   },
   {
    "duration": 12,
    "start_time": "2022-06-08T18:38:05.848Z"
   },
   {
    "duration": 12,
    "start_time": "2022-06-08T19:16:18.921Z"
   },
   {
    "duration": 2014,
    "start_time": "2022-06-08T20:06:43.060Z"
   },
   {
    "duration": 1320,
    "start_time": "2022-06-08T20:06:45.078Z"
   },
   {
    "duration": 33,
    "start_time": "2022-06-08T20:06:46.401Z"
   },
   {
    "duration": 5,
    "start_time": "2022-06-08T20:06:46.437Z"
   },
   {
    "duration": 30,
    "start_time": "2022-06-08T20:06:46.444Z"
   },
   {
    "duration": 6,
    "start_time": "2022-06-08T20:06:46.476Z"
   },
   {
    "duration": 39,
    "start_time": "2022-06-08T20:06:46.484Z"
   },
   {
    "duration": 23,
    "start_time": "2022-06-08T20:06:46.525Z"
   },
   {
    "duration": 4,
    "start_time": "2022-06-08T20:06:46.550Z"
   },
   {
    "duration": 103,
    "start_time": "2022-06-08T20:06:46.559Z"
   },
   {
    "duration": 33,
    "start_time": "2022-06-08T20:06:46.666Z"
   },
   {
    "duration": 71,
    "start_time": "2022-06-08T20:06:46.701Z"
   },
   {
    "duration": 96,
    "start_time": "2022-06-08T20:06:46.775Z"
   },
   {
    "duration": 155,
    "start_time": "2022-06-08T20:06:46.874Z"
   },
   {
    "duration": 159,
    "start_time": "2022-06-08T20:06:47.031Z"
   },
   {
    "duration": 121,
    "start_time": "2022-06-08T20:06:47.193Z"
   },
   {
    "duration": 13,
    "start_time": "2022-06-08T20:06:47.316Z"
   },
   {
    "duration": 11,
    "start_time": "2022-06-08T20:06:47.331Z"
   },
   {
    "duration": 11,
    "start_time": "2022-06-08T20:06:47.343Z"
   },
   {
    "duration": 79,
    "start_time": "2022-06-08T20:06:47.365Z"
   },
   {
    "duration": 446,
    "start_time": "2022-06-08T20:06:47.446Z"
   },
   {
    "duration": 574,
    "start_time": "2022-06-08T20:06:47.895Z"
   },
   {
    "duration": 307,
    "start_time": "2022-06-08T20:06:48.471Z"
   },
   {
    "duration": 26,
    "start_time": "2022-06-08T20:06:48.785Z"
   },
   {
    "duration": 26,
    "start_time": "2022-06-08T20:06:48.813Z"
   },
   {
    "duration": 29,
    "start_time": "2022-06-08T20:06:48.842Z"
   },
   {
    "duration": 120,
    "start_time": "2022-06-08T20:06:48.874Z"
   },
   {
    "duration": 35,
    "start_time": "2022-06-08T20:06:48.999Z"
   },
   {
    "duration": 753,
    "start_time": "2022-06-08T20:06:49.036Z"
   },
   {
    "duration": 125,
    "start_time": "2022-06-08T20:06:49.792Z"
   },
   {
    "duration": 171,
    "start_time": "2022-06-08T20:06:49.919Z"
   },
   {
    "duration": 19,
    "start_time": "2022-06-08T20:06:50.092Z"
   },
   {
    "duration": 155,
    "start_time": "2022-06-08T20:06:50.115Z"
   },
   {
    "duration": 10,
    "start_time": "2022-06-08T20:06:50.274Z"
   },
   {
    "duration": 176,
    "start_time": "2022-06-08T20:06:50.287Z"
   },
   {
    "duration": 9,
    "start_time": "2022-06-08T20:06:50.466Z"
   },
   {
    "duration": 42,
    "start_time": "2022-06-08T20:06:50.478Z"
   },
   {
    "duration": 17,
    "start_time": "2022-06-08T20:06:50.522Z"
   },
   {
    "duration": 28,
    "start_time": "2022-06-08T20:06:50.541Z"
   },
   {
    "duration": 43,
    "start_time": "2022-06-08T20:06:50.583Z"
   },
   {
    "duration": 1889,
    "start_time": "2022-06-09T07:29:25.596Z"
   },
   {
    "duration": 787,
    "start_time": "2022-06-09T07:29:27.489Z"
   },
   {
    "duration": 26,
    "start_time": "2022-06-09T07:29:28.279Z"
   },
   {
    "duration": 5,
    "start_time": "2022-06-09T07:29:28.307Z"
   },
   {
    "duration": 36,
    "start_time": "2022-06-09T07:29:28.314Z"
   },
   {
    "duration": 4,
    "start_time": "2022-06-09T07:29:28.353Z"
   },
   {
    "duration": 14,
    "start_time": "2022-06-09T07:29:28.359Z"
   },
   {
    "duration": 22,
    "start_time": "2022-06-09T07:29:28.375Z"
   },
   {
    "duration": 4,
    "start_time": "2022-06-09T07:29:28.399Z"
   },
   {
    "duration": 88,
    "start_time": "2022-06-09T07:29:28.406Z"
   },
   {
    "duration": 12,
    "start_time": "2022-06-09T07:29:28.496Z"
   },
   {
    "duration": 49,
    "start_time": "2022-06-09T07:29:28.510Z"
   },
   {
    "duration": 38,
    "start_time": "2022-06-09T07:29:28.562Z"
   },
   {
    "duration": 121,
    "start_time": "2022-06-09T07:29:28.625Z"
   },
   {
    "duration": 155,
    "start_time": "2022-06-09T07:29:28.749Z"
   },
   {
    "duration": 104,
    "start_time": "2022-06-09T07:29:28.906Z"
   },
   {
    "duration": 26,
    "start_time": "2022-06-09T07:29:29.012Z"
   },
   {
    "duration": 23,
    "start_time": "2022-06-09T07:29:29.040Z"
   },
   {
    "duration": 4,
    "start_time": "2022-06-09T07:29:29.066Z"
   },
   {
    "duration": 34,
    "start_time": "2022-06-09T07:29:29.072Z"
   },
   {
    "duration": 390,
    "start_time": "2022-06-09T07:29:29.125Z"
   },
   {
    "duration": 535,
    "start_time": "2022-06-09T07:29:29.517Z"
   },
   {
    "duration": 300,
    "start_time": "2022-06-09T07:29:30.061Z"
   },
   {
    "duration": 33,
    "start_time": "2022-06-09T07:29:30.364Z"
   },
   {
    "duration": 50,
    "start_time": "2022-06-09T07:29:30.400Z"
   },
   {
    "duration": 45,
    "start_time": "2022-06-09T07:29:30.458Z"
   },
   {
    "duration": 80,
    "start_time": "2022-06-09T07:29:30.506Z"
   },
   {
    "duration": 66,
    "start_time": "2022-06-09T07:29:30.592Z"
   },
   {
    "duration": 760,
    "start_time": "2022-06-09T07:29:30.663Z"
   },
   {
    "duration": 140,
    "start_time": "2022-06-09T07:29:31.425Z"
   },
   {
    "duration": 119,
    "start_time": "2022-06-09T07:29:31.568Z"
   },
   {
    "duration": 43,
    "start_time": "2022-06-09T07:29:31.690Z"
   },
   {
    "duration": 70,
    "start_time": "2022-06-09T07:29:31.739Z"
   },
   {
    "duration": 17,
    "start_time": "2022-06-09T07:29:31.811Z"
   },
   {
    "duration": 164,
    "start_time": "2022-06-09T07:29:31.830Z"
   },
   {
    "duration": 10,
    "start_time": "2022-06-09T07:29:31.997Z"
   },
   {
    "duration": 40,
    "start_time": "2022-06-09T07:29:32.025Z"
   },
   {
    "duration": 34,
    "start_time": "2022-06-09T07:29:32.069Z"
   },
   {
    "duration": 22,
    "start_time": "2022-06-09T07:29:32.106Z"
   },
   {
    "duration": 68,
    "start_time": "2022-06-09T07:29:32.131Z"
   },
   {
    "duration": 1911,
    "start_time": "2022-06-09T07:35:28.693Z"
   },
   {
    "duration": 222,
    "start_time": "2022-06-09T07:35:30.607Z"
   },
   {
    "duration": 42,
    "start_time": "2022-06-09T07:35:30.833Z"
   },
   {
    "duration": 5,
    "start_time": "2022-06-09T07:35:30.878Z"
   },
   {
    "duration": 29,
    "start_time": "2022-06-09T07:35:30.885Z"
   },
   {
    "duration": 39,
    "start_time": "2022-06-09T07:35:30.916Z"
   },
   {
    "duration": 21,
    "start_time": "2022-06-09T07:35:30.958Z"
   },
   {
    "duration": 40,
    "start_time": "2022-06-09T07:35:30.982Z"
   },
   {
    "duration": 21,
    "start_time": "2022-06-09T07:35:31.025Z"
   },
   {
    "duration": 93,
    "start_time": "2022-06-09T07:35:31.050Z"
   },
   {
    "duration": 29,
    "start_time": "2022-06-09T07:35:31.146Z"
   },
   {
    "duration": 56,
    "start_time": "2022-06-09T07:35:31.177Z"
   },
   {
    "duration": 57,
    "start_time": "2022-06-09T07:35:31.238Z"
   },
   {
    "duration": 109,
    "start_time": "2022-06-09T07:35:31.297Z"
   },
   {
    "duration": 135,
    "start_time": "2022-06-09T07:35:31.409Z"
   },
   {
    "duration": 97,
    "start_time": "2022-06-09T07:35:31.549Z"
   },
   {
    "duration": 20,
    "start_time": "2022-06-09T07:35:31.649Z"
   },
   {
    "duration": 28,
    "start_time": "2022-06-09T07:35:31.672Z"
   },
   {
    "duration": 29,
    "start_time": "2022-06-09T07:35:31.703Z"
   },
   {
    "duration": 67,
    "start_time": "2022-06-09T07:35:31.740Z"
   },
   {
    "duration": 442,
    "start_time": "2022-06-09T07:35:31.810Z"
   },
   {
    "duration": 589,
    "start_time": "2022-06-09T07:35:32.255Z"
   },
   {
    "duration": 327,
    "start_time": "2022-06-09T07:35:32.846Z"
   },
   {
    "duration": 27,
    "start_time": "2022-06-09T07:35:33.176Z"
   },
   {
    "duration": 38,
    "start_time": "2022-06-09T07:35:33.206Z"
   },
   {
    "duration": 26,
    "start_time": "2022-06-09T07:35:33.251Z"
   },
   {
    "duration": 73,
    "start_time": "2022-06-09T07:35:33.279Z"
   },
   {
    "duration": 50,
    "start_time": "2022-06-09T07:35:33.358Z"
   },
   {
    "duration": 654,
    "start_time": "2022-06-09T07:35:33.411Z"
   },
   {
    "duration": 92,
    "start_time": "2022-06-09T07:35:34.069Z"
   },
   {
    "duration": 147,
    "start_time": "2022-06-09T07:35:34.164Z"
   },
   {
    "duration": 27,
    "start_time": "2022-06-09T07:35:34.327Z"
   },
   {
    "duration": 47,
    "start_time": "2022-06-09T07:35:34.356Z"
   },
   {
    "duration": 30,
    "start_time": "2022-06-09T07:35:34.405Z"
   },
   {
    "duration": 215,
    "start_time": "2022-06-09T07:35:34.437Z"
   },
   {
    "duration": 6,
    "start_time": "2022-06-09T07:35:34.655Z"
   },
   {
    "duration": 37,
    "start_time": "2022-06-09T07:35:34.664Z"
   },
   {
    "duration": 26,
    "start_time": "2022-06-09T07:35:34.703Z"
   },
   {
    "duration": 49,
    "start_time": "2022-06-09T07:35:34.732Z"
   },
   {
    "duration": 41,
    "start_time": "2022-06-09T07:35:34.783Z"
   },
   {
    "duration": 26,
    "start_time": "2022-06-09T07:37:59.088Z"
   },
   {
    "duration": 4,
    "start_time": "2022-06-09T08:13:14.681Z"
   },
   {
    "duration": 1291,
    "start_time": "2022-06-09T08:39:20.008Z"
   },
   {
    "duration": 201,
    "start_time": "2022-06-09T08:39:21.301Z"
   },
   {
    "duration": 18,
    "start_time": "2022-06-09T08:39:21.504Z"
   },
   {
    "duration": 39,
    "start_time": "2022-06-09T08:39:21.524Z"
   },
   {
    "duration": 18,
    "start_time": "2022-06-09T08:39:21.565Z"
   },
   {
    "duration": 10,
    "start_time": "2022-06-09T08:39:21.584Z"
   },
   {
    "duration": 9,
    "start_time": "2022-06-09T08:39:21.595Z"
   },
   {
    "duration": 14,
    "start_time": "2022-06-09T08:39:21.606Z"
   },
   {
    "duration": 4,
    "start_time": "2022-06-09T08:39:21.621Z"
   },
   {
    "duration": 102,
    "start_time": "2022-06-09T08:39:21.627Z"
   },
   {
    "duration": 55,
    "start_time": "2022-06-09T08:39:21.731Z"
   },
   {
    "duration": 24,
    "start_time": "2022-06-09T08:39:21.788Z"
   },
   {
    "duration": 32,
    "start_time": "2022-06-09T08:39:21.813Z"
   },
   {
    "duration": 100,
    "start_time": "2022-06-09T08:39:21.847Z"
   },
   {
    "duration": 92,
    "start_time": "2022-06-09T08:39:21.948Z"
   },
   {
    "duration": 67,
    "start_time": "2022-06-09T08:39:22.042Z"
   },
   {
    "duration": 9,
    "start_time": "2022-06-09T08:39:22.111Z"
   },
   {
    "duration": 8,
    "start_time": "2022-06-09T08:39:22.125Z"
   },
   {
    "duration": 39,
    "start_time": "2022-06-09T08:39:22.134Z"
   },
   {
    "duration": 26,
    "start_time": "2022-06-09T08:39:22.176Z"
   },
   {
    "duration": 333,
    "start_time": "2022-06-09T08:39:22.203Z"
   },
   {
    "duration": 451,
    "start_time": "2022-06-09T08:39:22.538Z"
   },
   {
    "duration": 251,
    "start_time": "2022-06-09T08:39:22.991Z"
   },
   {
    "duration": 28,
    "start_time": "2022-06-09T08:39:23.244Z"
   },
   {
    "duration": 11,
    "start_time": "2022-06-09T08:39:23.274Z"
   },
   {
    "duration": 8,
    "start_time": "2022-06-09T08:39:23.286Z"
   },
   {
    "duration": 42,
    "start_time": "2022-06-09T08:39:23.296Z"
   },
   {
    "duration": 35,
    "start_time": "2022-06-09T08:39:23.341Z"
   },
   {
    "duration": 460,
    "start_time": "2022-06-09T08:39:23.378Z"
   },
   {
    "duration": 95,
    "start_time": "2022-06-09T08:39:23.871Z"
   },
   {
    "duration": 123,
    "start_time": "2022-06-09T08:39:23.969Z"
   },
   {
    "duration": 16,
    "start_time": "2022-06-09T08:39:24.094Z"
   },
   {
    "duration": 16,
    "start_time": "2022-06-09T08:39:24.112Z"
   },
   {
    "duration": 77,
    "start_time": "2022-06-09T08:39:24.134Z"
   },
   {
    "duration": 5,
    "start_time": "2022-06-09T08:39:24.213Z"
   },
   {
    "duration": 122,
    "start_time": "2022-06-09T08:39:24.219Z"
   },
   {
    "duration": 9,
    "start_time": "2022-06-09T08:39:24.347Z"
   },
   {
    "duration": 28,
    "start_time": "2022-06-09T08:39:24.359Z"
   },
   {
    "duration": 10,
    "start_time": "2022-06-09T08:39:24.389Z"
   },
   {
    "duration": 10,
    "start_time": "2022-06-09T08:39:24.401Z"
   },
   {
    "duration": 14,
    "start_time": "2022-06-09T08:39:24.412Z"
   },
   {
    "duration": 1503,
    "start_time": "2022-06-09T12:33:19.218Z"
   },
   {
    "duration": 698,
    "start_time": "2022-06-09T12:33:20.723Z"
   },
   {
    "duration": 40,
    "start_time": "2022-06-09T12:33:21.423Z"
   },
   {
    "duration": 12,
    "start_time": "2022-06-09T12:33:21.466Z"
   },
   {
    "duration": 20,
    "start_time": "2022-06-09T12:33:21.480Z"
   },
   {
    "duration": 15,
    "start_time": "2022-06-09T12:33:21.502Z"
   },
   {
    "duration": 38,
    "start_time": "2022-06-09T12:33:21.519Z"
   },
   {
    "duration": 30,
    "start_time": "2022-06-09T12:33:21.559Z"
   },
   {
    "duration": 7,
    "start_time": "2022-06-09T12:33:21.591Z"
   },
   {
    "duration": 99,
    "start_time": "2022-06-09T12:33:21.600Z"
   },
   {
    "duration": 9,
    "start_time": "2022-06-09T12:33:21.701Z"
   },
   {
    "duration": 47,
    "start_time": "2022-06-09T12:33:21.712Z"
   },
   {
    "duration": 31,
    "start_time": "2022-06-09T12:33:21.764Z"
   },
   {
    "duration": 107,
    "start_time": "2022-06-09T12:33:21.797Z"
   },
   {
    "duration": 102,
    "start_time": "2022-06-09T12:33:21.906Z"
   },
   {
    "duration": 94,
    "start_time": "2022-06-09T12:33:22.009Z"
   },
   {
    "duration": 12,
    "start_time": "2022-06-09T12:33:22.104Z"
   },
   {
    "duration": 36,
    "start_time": "2022-06-09T12:33:22.118Z"
   },
   {
    "duration": 10,
    "start_time": "2022-06-09T12:33:22.156Z"
   },
   {
    "duration": 32,
    "start_time": "2022-06-09T12:33:22.167Z"
   },
   {
    "duration": 348,
    "start_time": "2022-06-09T12:33:22.200Z"
   },
   {
    "duration": 463,
    "start_time": "2022-06-09T12:33:22.550Z"
   },
   {
    "duration": 294,
    "start_time": "2022-06-09T12:33:23.015Z"
   },
   {
    "duration": 35,
    "start_time": "2022-06-09T12:33:23.310Z"
   },
   {
    "duration": 40,
    "start_time": "2022-06-09T12:33:23.347Z"
   },
   {
    "duration": 19,
    "start_time": "2022-06-09T12:33:23.389Z"
   },
   {
    "duration": 80,
    "start_time": "2022-06-09T12:33:23.409Z"
   },
   {
    "duration": 28,
    "start_time": "2022-06-09T12:33:23.493Z"
   },
   {
    "duration": 580,
    "start_time": "2022-06-09T12:33:23.523Z"
   },
   {
    "duration": 75,
    "start_time": "2022-06-09T12:33:24.105Z"
   },
   {
    "duration": 157,
    "start_time": "2022-06-09T12:33:24.182Z"
   },
   {
    "duration": 23,
    "start_time": "2022-06-09T12:33:24.344Z"
   },
   {
    "duration": 26,
    "start_time": "2022-06-09T12:33:24.369Z"
   },
   {
    "duration": 88,
    "start_time": "2022-06-09T12:33:24.397Z"
   },
   {
    "duration": 6,
    "start_time": "2022-06-09T12:33:24.487Z"
   },
   {
    "duration": 184,
    "start_time": "2022-06-09T12:33:24.494Z"
   },
   {
    "duration": 5,
    "start_time": "2022-06-09T12:33:24.680Z"
   },
   {
    "duration": 50,
    "start_time": "2022-06-09T12:33:24.687Z"
   },
   {
    "duration": 44,
    "start_time": "2022-06-09T12:33:24.740Z"
   },
   {
    "duration": 21,
    "start_time": "2022-06-09T12:33:24.787Z"
   },
   {
    "duration": 66,
    "start_time": "2022-06-09T12:33:24.810Z"
   },
   {
    "duration": 33,
    "start_time": "2022-06-09T13:14:19.450Z"
   },
   {
    "duration": 1286,
    "start_time": "2022-06-09T17:30:30.854Z"
   },
   {
    "duration": 512,
    "start_time": "2022-06-09T17:30:32.142Z"
   },
   {
    "duration": 21,
    "start_time": "2022-06-09T17:30:32.656Z"
   },
   {
    "duration": 20,
    "start_time": "2022-06-09T17:30:32.679Z"
   },
   {
    "duration": 22,
    "start_time": "2022-06-09T17:30:32.701Z"
   },
   {
    "duration": 39,
    "start_time": "2022-06-09T17:30:32.725Z"
   },
   {
    "duration": 18,
    "start_time": "2022-06-09T17:30:32.766Z"
   },
   {
    "duration": 31,
    "start_time": "2022-06-09T17:30:32.785Z"
   },
   {
    "duration": 20,
    "start_time": "2022-06-09T17:30:32.818Z"
   },
   {
    "duration": 82,
    "start_time": "2022-06-09T17:30:32.842Z"
   },
   {
    "duration": 31,
    "start_time": "2022-06-09T17:30:32.927Z"
   },
   {
    "duration": 54,
    "start_time": "2022-06-09T17:30:32.960Z"
   },
   {
    "duration": 51,
    "start_time": "2022-06-09T17:30:33.016Z"
   },
   {
    "duration": 77,
    "start_time": "2022-06-09T17:30:33.071Z"
   },
   {
    "duration": 88,
    "start_time": "2022-06-09T17:30:33.149Z"
   },
   {
    "duration": 137,
    "start_time": "2022-06-09T17:30:33.239Z"
   },
   {
    "duration": 11,
    "start_time": "2022-06-09T17:30:33.378Z"
   },
   {
    "duration": 52,
    "start_time": "2022-06-09T17:30:33.391Z"
   },
   {
    "duration": 32,
    "start_time": "2022-06-09T17:30:33.444Z"
   },
   {
    "duration": 52,
    "start_time": "2022-06-09T17:30:33.477Z"
   },
   {
    "duration": 331,
    "start_time": "2022-06-09T17:30:33.530Z"
   },
   {
    "duration": 392,
    "start_time": "2022-06-09T17:30:33.862Z"
   },
   {
    "duration": 223,
    "start_time": "2022-06-09T17:30:34.256Z"
   },
   {
    "duration": 20,
    "start_time": "2022-06-09T17:30:34.481Z"
   },
   {
    "duration": 36,
    "start_time": "2022-06-09T17:30:34.503Z"
   },
   {
    "duration": 34,
    "start_time": "2022-06-09T17:30:34.541Z"
   },
   {
    "duration": 56,
    "start_time": "2022-06-09T17:30:34.577Z"
   },
   {
    "duration": 48,
    "start_time": "2022-06-09T17:30:34.636Z"
   },
   {
    "duration": 486,
    "start_time": "2022-06-09T17:30:34.685Z"
   },
   {
    "duration": 92,
    "start_time": "2022-06-09T17:30:35.173Z"
   },
   {
    "duration": 51,
    "start_time": "2022-06-09T17:30:35.267Z"
   },
   {
    "duration": 12,
    "start_time": "2022-06-09T17:30:35.359Z"
   },
   {
    "duration": 46,
    "start_time": "2022-06-09T17:30:35.372Z"
   },
   {
    "duration": 11,
    "start_time": "2022-06-09T17:30:35.419Z"
   },
   {
    "duration": 160,
    "start_time": "2022-06-09T17:30:35.432Z"
   },
   {
    "duration": 6,
    "start_time": "2022-06-09T17:30:35.594Z"
   },
   {
    "duration": 50,
    "start_time": "2022-06-09T17:30:35.601Z"
   },
   {
    "duration": 55,
    "start_time": "2022-06-09T17:30:35.652Z"
   },
   {
    "duration": 38,
    "start_time": "2022-06-09T17:30:35.709Z"
   },
   {
    "duration": 39,
    "start_time": "2022-06-09T17:30:35.748Z"
   },
   {
    "duration": 132,
    "start_time": "2022-06-09T17:31:04.010Z"
   },
   {
    "duration": 1075,
    "start_time": "2022-06-09T17:31:10.808Z"
   },
   {
    "duration": 170,
    "start_time": "2022-06-09T17:31:11.884Z"
   },
   {
    "duration": 27,
    "start_time": "2022-06-09T17:31:12.055Z"
   },
   {
    "duration": 3,
    "start_time": "2022-06-09T17:31:12.084Z"
   },
   {
    "duration": 9,
    "start_time": "2022-06-09T17:31:12.088Z"
   },
   {
    "duration": 3,
    "start_time": "2022-06-09T17:31:12.098Z"
   },
   {
    "duration": 5,
    "start_time": "2022-06-09T17:31:12.102Z"
   },
   {
    "duration": 15,
    "start_time": "2022-06-09T17:31:12.108Z"
   },
   {
    "duration": 2,
    "start_time": "2022-06-09T17:31:12.125Z"
   },
   {
    "duration": 95,
    "start_time": "2022-06-09T17:31:12.129Z"
   },
   {
    "duration": 15,
    "start_time": "2022-06-09T17:31:12.225Z"
   },
   {
    "duration": 44,
    "start_time": "2022-06-09T17:31:12.241Z"
   },
   {
    "duration": 34,
    "start_time": "2022-06-09T17:31:12.287Z"
   },
   {
    "duration": 150,
    "start_time": "2022-06-09T17:31:12.324Z"
   },
   {
    "duration": 94,
    "start_time": "2022-06-09T17:31:12.476Z"
   },
   {
    "duration": 131,
    "start_time": "2022-06-09T17:31:12.573Z"
   },
   {
    "duration": 12,
    "start_time": "2022-06-09T17:31:12.706Z"
   },
   {
    "duration": 16,
    "start_time": "2022-06-09T17:31:12.720Z"
   },
   {
    "duration": 31,
    "start_time": "2022-06-09T17:31:12.737Z"
   },
   {
    "duration": 34,
    "start_time": "2022-06-09T17:31:12.769Z"
   },
   {
    "duration": 318,
    "start_time": "2022-06-09T17:31:12.805Z"
   },
   {
    "duration": 408,
    "start_time": "2022-06-09T17:31:13.125Z"
   },
   {
    "duration": 246,
    "start_time": "2022-06-09T17:31:13.534Z"
   },
   {
    "duration": 20,
    "start_time": "2022-06-09T17:31:13.782Z"
   },
   {
    "duration": 12,
    "start_time": "2022-06-09T17:31:13.803Z"
   },
   {
    "duration": 9,
    "start_time": "2022-06-09T17:31:13.817Z"
   },
   {
    "duration": 62,
    "start_time": "2022-06-09T17:31:13.828Z"
   },
   {
    "duration": 25,
    "start_time": "2022-06-09T17:31:13.892Z"
   },
   {
    "duration": 475,
    "start_time": "2022-06-09T17:31:13.919Z"
   },
   {
    "duration": 78,
    "start_time": "2022-06-09T17:31:14.398Z"
   },
   {
    "duration": 103,
    "start_time": "2022-06-09T17:31:14.478Z"
   },
   {
    "duration": 11,
    "start_time": "2022-06-09T17:31:14.583Z"
   },
   {
    "duration": 38,
    "start_time": "2022-06-09T17:31:14.596Z"
   },
   {
    "duration": 28,
    "start_time": "2022-06-09T17:31:14.636Z"
   },
   {
    "duration": 132,
    "start_time": "2022-06-09T17:31:14.665Z"
   },
   {
    "duration": 5,
    "start_time": "2022-06-09T17:31:14.798Z"
   },
   {
    "duration": 16,
    "start_time": "2022-06-09T17:31:14.805Z"
   },
   {
    "duration": 13,
    "start_time": "2022-06-09T17:31:14.823Z"
   },
   {
    "duration": 30,
    "start_time": "2022-06-09T17:31:14.838Z"
   },
   {
    "duration": 23,
    "start_time": "2022-06-09T17:31:14.869Z"
   },
   {
    "duration": 132,
    "start_time": "2022-06-09T17:31:46.563Z"
   },
   {
    "duration": 3,
    "start_time": "2022-06-09T17:32:05.821Z"
   },
   {
    "duration": 176,
    "start_time": "2022-06-09T17:32:05.825Z"
   },
   {
    "duration": 19,
    "start_time": "2022-06-09T17:32:06.003Z"
   },
   {
    "duration": 3,
    "start_time": "2022-06-09T17:32:06.024Z"
   },
   {
    "duration": 11,
    "start_time": "2022-06-09T17:32:06.029Z"
   },
   {
    "duration": 22,
    "start_time": "2022-06-09T17:32:06.041Z"
   },
   {
    "duration": 9,
    "start_time": "2022-06-09T17:32:06.065Z"
   },
   {
    "duration": 13,
    "start_time": "2022-06-09T17:32:06.075Z"
   },
   {
    "duration": 3,
    "start_time": "2022-06-09T17:32:06.090Z"
   },
   {
    "duration": 84,
    "start_time": "2022-06-09T17:32:06.095Z"
   },
   {
    "duration": 9,
    "start_time": "2022-06-09T17:32:06.181Z"
   },
   {
    "duration": 41,
    "start_time": "2022-06-09T17:32:06.191Z"
   },
   {
    "duration": 32,
    "start_time": "2022-06-09T17:32:06.233Z"
   },
   {
    "duration": 144,
    "start_time": "2022-06-09T17:32:06.267Z"
   },
   {
    "duration": 95,
    "start_time": "2022-06-09T17:32:06.414Z"
   },
   {
    "duration": 122,
    "start_time": "2022-06-09T17:32:06.511Z"
   },
   {
    "duration": 12,
    "start_time": "2022-06-09T17:32:06.634Z"
   },
   {
    "duration": 8,
    "start_time": "2022-06-09T17:32:06.658Z"
   },
   {
    "duration": 6,
    "start_time": "2022-06-09T17:32:06.668Z"
   },
   {
    "duration": 35,
    "start_time": "2022-06-09T17:32:06.675Z"
   },
   {
    "duration": 230,
    "start_time": "2022-06-09T17:32:06.712Z"
   },
   {
    "duration": 454,
    "start_time": "2022-06-09T17:32:06.944Z"
   },
   {
    "duration": 232,
    "start_time": "2022-06-09T17:32:07.400Z"
   },
   {
    "duration": 27,
    "start_time": "2022-06-09T17:32:07.635Z"
   },
   {
    "duration": 13,
    "start_time": "2022-06-09T17:32:07.664Z"
   },
   {
    "duration": 19,
    "start_time": "2022-06-09T17:32:07.679Z"
   },
   {
    "duration": 41,
    "start_time": "2022-06-09T17:32:07.699Z"
   },
   {
    "duration": 38,
    "start_time": "2022-06-09T17:32:07.742Z"
   },
   {
    "duration": 105,
    "start_time": "2022-06-09T17:32:07.782Z"
   },
   {
    "duration": 44,
    "start_time": "2022-06-09T17:32:07.888Z"
   },
   {
    "duration": 164,
    "start_time": "2022-06-09T17:32:07.934Z"
   },
   {
    "duration": 11,
    "start_time": "2022-06-09T17:32:08.100Z"
   },
   {
    "duration": 38,
    "start_time": "2022-06-09T17:32:08.113Z"
   },
   {
    "duration": 14,
    "start_time": "2022-06-09T17:32:08.163Z"
   },
   {
    "duration": 107,
    "start_time": "2022-06-09T17:32:08.178Z"
   },
   {
    "duration": 6,
    "start_time": "2022-06-09T17:32:08.287Z"
   },
   {
    "duration": 18,
    "start_time": "2022-06-09T17:32:08.294Z"
   },
   {
    "duration": 21,
    "start_time": "2022-06-09T17:32:08.314Z"
   },
   {
    "duration": 24,
    "start_time": "2022-06-09T17:32:08.337Z"
   },
   {
    "duration": 16,
    "start_time": "2022-06-09T17:32:08.364Z"
   },
   {
    "duration": 32,
    "start_time": "2022-06-09T17:34:40.414Z"
   },
   {
    "duration": 26,
    "start_time": "2022-06-09T17:35:35.128Z"
   },
   {
    "duration": 123,
    "start_time": "2022-06-09T17:35:42.802Z"
   },
   {
    "duration": 4,
    "start_time": "2022-06-09T18:23:06.077Z"
   },
   {
    "duration": 179,
    "start_time": "2022-06-09T18:23:06.082Z"
   },
   {
    "duration": 19,
    "start_time": "2022-06-09T18:23:06.262Z"
   },
   {
    "duration": 7,
    "start_time": "2022-06-09T18:23:06.283Z"
   },
   {
    "duration": 12,
    "start_time": "2022-06-09T18:23:06.291Z"
   },
   {
    "duration": 12,
    "start_time": "2022-06-09T18:23:06.304Z"
   },
   {
    "duration": 32,
    "start_time": "2022-06-09T18:23:06.317Z"
   },
   {
    "duration": 45,
    "start_time": "2022-06-09T18:23:06.351Z"
   },
   {
    "duration": 7,
    "start_time": "2022-06-09T18:23:06.398Z"
   },
   {
    "duration": 78,
    "start_time": "2022-06-09T18:23:06.407Z"
   },
   {
    "duration": 9,
    "start_time": "2022-06-09T18:23:06.486Z"
   },
   {
    "duration": 36,
    "start_time": "2022-06-09T18:23:06.496Z"
   },
   {
    "duration": 25,
    "start_time": "2022-06-09T18:23:06.534Z"
   },
   {
    "duration": 140,
    "start_time": "2022-06-09T18:23:06.560Z"
   },
   {
    "duration": 90,
    "start_time": "2022-06-09T18:23:06.701Z"
   },
   {
    "duration": 129,
    "start_time": "2022-06-09T18:23:06.793Z"
   },
   {
    "duration": 11,
    "start_time": "2022-06-09T18:23:06.924Z"
   },
   {
    "duration": 12,
    "start_time": "2022-06-09T18:23:06.937Z"
   },
   {
    "duration": 4,
    "start_time": "2022-06-09T18:23:06.959Z"
   },
   {
    "duration": 31,
    "start_time": "2022-06-09T18:23:06.965Z"
   },
   {
    "duration": 239,
    "start_time": "2022-06-09T18:23:06.998Z"
   },
   {
    "duration": 442,
    "start_time": "2022-06-09T18:23:07.239Z"
   },
   {
    "duration": 226,
    "start_time": "2022-06-09T18:23:07.683Z"
   },
   {
    "duration": 21,
    "start_time": "2022-06-09T18:23:07.913Z"
   },
   {
    "duration": 24,
    "start_time": "2022-06-09T18:23:07.936Z"
   },
   {
    "duration": 6,
    "start_time": "2022-06-09T18:23:07.962Z"
   },
   {
    "duration": 35,
    "start_time": "2022-06-09T18:23:07.970Z"
   },
   {
    "duration": 26,
    "start_time": "2022-06-09T18:23:08.006Z"
   },
   {
    "duration": 111,
    "start_time": "2022-06-09T18:23:08.034Z"
   },
   {
    "duration": 43,
    "start_time": "2022-06-09T18:23:08.159Z"
   },
   {
    "duration": 72,
    "start_time": "2022-06-09T18:23:08.204Z"
   },
   {
    "duration": 12,
    "start_time": "2022-06-09T18:23:08.278Z"
   },
   {
    "duration": 34,
    "start_time": "2022-06-09T18:23:08.291Z"
   },
   {
    "duration": 5,
    "start_time": "2022-06-09T18:23:08.327Z"
   },
   {
    "duration": 115,
    "start_time": "2022-06-09T18:23:08.334Z"
   },
   {
    "duration": 6,
    "start_time": "2022-06-09T18:23:08.459Z"
   },
   {
    "duration": 16,
    "start_time": "2022-06-09T18:23:08.466Z"
   },
   {
    "duration": 18,
    "start_time": "2022-06-09T18:23:08.483Z"
   },
   {
    "duration": 11,
    "start_time": "2022-06-09T18:23:08.502Z"
   },
   {
    "duration": 15,
    "start_time": "2022-06-09T18:23:08.514Z"
   },
   {
    "duration": 34,
    "start_time": "2022-06-09T19:01:34.400Z"
   },
   {
    "duration": 168,
    "start_time": "2022-06-09T19:05:31.244Z"
   },
   {
    "duration": 12,
    "start_time": "2022-06-09T19:06:03.550Z"
   },
   {
    "duration": 12,
    "start_time": "2022-06-09T19:07:48.429Z"
   },
   {
    "duration": 1410,
    "start_time": "2022-07-16T18:39:28.838Z"
   },
   {
    "duration": 1148,
    "start_time": "2022-07-16T19:49:49.925Z"
   },
   {
    "duration": 493,
    "start_time": "2022-07-16T19:49:51.074Z"
   },
   {
    "duration": 25,
    "start_time": "2022-07-16T19:49:51.568Z"
   },
   {
    "duration": 4,
    "start_time": "2022-07-16T19:49:51.596Z"
   },
   {
    "duration": 17,
    "start_time": "2022-07-16T19:49:51.601Z"
   },
   {
    "duration": 4,
    "start_time": "2022-07-16T19:49:51.620Z"
   },
   {
    "duration": 8,
    "start_time": "2022-07-16T19:49:51.626Z"
   },
   {
    "duration": 19,
    "start_time": "2022-07-16T19:49:51.636Z"
   },
   {
    "duration": 4,
    "start_time": "2022-07-16T19:49:51.657Z"
   },
   {
    "duration": 103,
    "start_time": "2022-07-16T19:49:51.664Z"
   },
   {
    "duration": 8,
    "start_time": "2022-07-16T19:49:51.769Z"
   },
   {
    "duration": 34,
    "start_time": "2022-07-16T19:49:51.779Z"
   },
   {
    "duration": 37,
    "start_time": "2022-07-16T19:49:51.815Z"
   },
   {
    "duration": 157,
    "start_time": "2022-07-16T19:49:51.853Z"
   },
   {
    "duration": 78,
    "start_time": "2022-07-16T19:49:52.011Z"
   },
   {
    "duration": 119,
    "start_time": "2022-07-16T19:49:52.101Z"
   },
   {
    "duration": 11,
    "start_time": "2022-07-16T19:49:52.221Z"
   },
   {
    "duration": 20,
    "start_time": "2022-07-16T19:49:52.234Z"
   },
   {
    "duration": 31,
    "start_time": "2022-07-16T19:49:52.256Z"
   },
   {
    "duration": 30,
    "start_time": "2022-07-16T19:49:52.289Z"
   },
   {
    "duration": 287,
    "start_time": "2022-07-16T19:49:52.320Z"
   },
   {
    "duration": 406,
    "start_time": "2022-07-16T19:49:52.608Z"
   },
   {
    "duration": 233,
    "start_time": "2022-07-16T19:49:53.016Z"
   },
   {
    "duration": 20,
    "start_time": "2022-07-16T19:49:53.250Z"
   },
   {
    "duration": 31,
    "start_time": "2022-07-16T19:49:53.271Z"
   },
   {
    "duration": 22,
    "start_time": "2022-07-16T19:49:53.304Z"
   },
   {
    "duration": 57,
    "start_time": "2022-07-16T19:49:53.328Z"
   },
   {
    "duration": 26,
    "start_time": "2022-07-16T19:49:53.388Z"
   },
   {
    "duration": 488,
    "start_time": "2022-07-16T19:49:53.415Z"
   },
   {
    "duration": 113,
    "start_time": "2022-07-16T19:49:53.905Z"
   },
   {
    "duration": 99,
    "start_time": "2022-07-16T19:49:54.020Z"
   },
   {
    "duration": 11,
    "start_time": "2022-07-16T19:49:54.121Z"
   },
   {
    "duration": 64,
    "start_time": "2022-07-16T19:49:54.133Z"
   },
   {
    "duration": 5,
    "start_time": "2022-07-16T19:49:54.199Z"
   },
   {
    "duration": 145,
    "start_time": "2022-07-16T19:49:54.206Z"
   },
   {
    "duration": 5,
    "start_time": "2022-07-16T19:49:54.352Z"
   },
   {
    "duration": 47,
    "start_time": "2022-07-16T19:49:54.358Z"
   },
   {
    "duration": 37,
    "start_time": "2022-07-16T19:49:54.407Z"
   },
   {
    "duration": 19,
    "start_time": "2022-07-16T19:49:54.446Z"
   },
   {
    "duration": 43,
    "start_time": "2022-07-16T19:49:54.467Z"
   }
  ],
  "kernelspec": {
   "display_name": "Python 3.9.13 ('base')",
   "language": "python",
   "name": "python3"
  },
  "language_info": {
   "codemirror_mode": {
    "name": "ipython",
    "version": 3
   },
   "file_extension": ".py",
   "mimetype": "text/x-python",
   "name": "python",
   "nbconvert_exporter": "python",
   "pygments_lexer": "ipython3",
   "version": "3.9.13"
  },
  "toc": {
   "base_numbering": 1,
   "nav_menu": {},
   "number_sections": true,
   "sideBar": true,
   "skip_h1_title": true,
   "title_cell": "Содержание",
   "title_sidebar": "Contents",
   "toc_cell": true,
   "toc_position": {
    "height": "calc(100% - 180px)",
    "left": "10px",
    "top": "150px",
    "width": "164.988px"
   },
   "toc_section_display": true,
   "toc_window_display": true
  },
  "vscode": {
   "interpreter": {
    "hash": "83c24f87fcfc31b9a9633145c59cae9489c24309f9904f27c28f792d25602837"
   }
  }
 },
 "nbformat": 4,
 "nbformat_minor": 2
}
