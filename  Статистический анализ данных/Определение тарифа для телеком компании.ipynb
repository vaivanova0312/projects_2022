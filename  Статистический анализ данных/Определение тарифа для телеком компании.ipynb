{
 "cells": [
  {
   "cell_type": "markdown",
   "metadata": {
    "toc": true
   },
   "source": [
    "<h1>Содержание<span class=\"tocSkip\"></span></h1>\n",
    "<div class=\"toc\"><ul class=\"toc-item\"><li><span><a href=\"#Изучение-общей-информации\" data-toc-modified-id=\"Изучение-общей-информации-1\"><span class=\"toc-item-num\">1&nbsp;&nbsp;</span>Изучение общей информации</a></span><ul class=\"toc-item\"><li><span><a href=\"#Вывод\" data-toc-modified-id=\"Вывод-1.1\"><span class=\"toc-item-num\">1.1&nbsp;&nbsp;</span>Вывод</a></span></li></ul></li><li><span><a href=\"#Подготовка-данных\" data-toc-modified-id=\"Подготовка-данных-2\"><span class=\"toc-item-num\">2&nbsp;&nbsp;</span>Подготовка данных</a></span><ul class=\"toc-item\"><li><span><a href=\"#Подготовка-данных-(замена-типов,-ошибки,-заполнение-пропусков-и-т.д.)\" data-toc-modified-id=\"Подготовка-данных-(замена-типов,-ошибки,-заполнение-пропусков-и-т.д.)-2.1\"><span class=\"toc-item-num\">2.1&nbsp;&nbsp;</span>Подготовка данных (замена типов, ошибки, заполнение пропусков и т.д.)</a></span></li><li><span><a href=\"#Подготовка-пользовательских-данных-(звонки,-смс,-объем-трафика-и-т.д.)\" data-toc-modified-id=\"Подготовка-пользовательских-данных-(звонки,-смс,-объем-трафика-и-т.д.)-2.2\"><span class=\"toc-item-num\">2.2&nbsp;&nbsp;</span>Подготовка пользовательских данных (звонки, смс, объем трафика и т.д.)</a></span></li><li><span><a href=\"#Вывод\" data-toc-modified-id=\"Вывод-2.3\"><span class=\"toc-item-num\">2.3&nbsp;&nbsp;</span>Вывод</a></span></li></ul></li><li><span><a href=\"#Анализ-и-описание-данных\" data-toc-modified-id=\"Анализ-и-описание-данных-3\"><span class=\"toc-item-num\">3&nbsp;&nbsp;</span>Анализ и описание данных</a></span><ul class=\"toc-item\"><li><span><a href=\"#Вывод\" data-toc-modified-id=\"Вывод-3.1\"><span class=\"toc-item-num\">3.1&nbsp;&nbsp;</span>Вывод</a></span></li></ul></li><li><span><a href=\"#Проверка-гипотез-и-пояснения\" data-toc-modified-id=\"Проверка-гипотез-и-пояснения-4\"><span class=\"toc-item-num\">4&nbsp;&nbsp;</span>Проверка гипотез и пояснения</a></span><ul class=\"toc-item\"><li><span><a href=\"#Проверка-гипотезы:-средняя-выручка-пользователей-тарифов-Smart-и-Ultra-различаются\" data-toc-modified-id=\"Проверка-гипотезы:-средняя-выручка-пользователей-тарифов-Smart-и-Ultra-различаются-4.1\"><span class=\"toc-item-num\">4.1&nbsp;&nbsp;</span>Проверка гипотезы: средняя выручка пользователей тарифов Smart и Ultra различаются</a></span></li><li><span><a href=\"#Проверка-гипотезы:-средняя-выручка-пользователей-из-Москвы-отличается-от-выручки-пользователей-из-других-регионов\" data-toc-modified-id=\"Проверка-гипотезы:-средняя-выручка-пользователей-из-Москвы-отличается-от-выручки-пользователей-из-других-регионов-4.2\"><span class=\"toc-item-num\">4.2&nbsp;&nbsp;</span>Проверка гипотезы: средняя выручка пользователей из Москвы отличается от выручки пользователей из других регионов</a></span></li><li><span><a href=\"#Вывод\" data-toc-modified-id=\"Вывод-4.3\"><span class=\"toc-item-num\">4.3&nbsp;&nbsp;</span>Вывод</a></span></li></ul></li><li><span><a href=\"#Общий-вывод\" data-toc-modified-id=\"Общий-вывод-5\"><span class=\"toc-item-num\">5&nbsp;&nbsp;</span>Общий вывод</a></span></li></ul></div>"
   ]
  },
  {
   "cell_type": "markdown",
   "metadata": {},
   "source": [
    "# Определение тарифа для телеком компании\n",
    "\n",
    "В нашем распоряжении данные 500 пользователей федерального оператора сотовой связи \"Мегалайн\" за 2018 год. Клиентам предлагают два тарифных плана: \"Смарт\" и \"Ультра\". Нужно проанализировать поведение клиентов и сделать вывод — какой тариф лучше. Это поможет коммерческому департаменту скорректировать рекламный бюджет. \n",
    "\n",
    "**Описание тарифов**\n",
    "\n",
    "Тариф \"Смарт\"\n",
    "- Ежемесячная плата: 550 рублей\n",
    "- Включено 500 минут разговора, 50 сообщений и 15 Гб интернет-трафика\n",
    "- Стоимость услуг сверх тарифного пакета:\n",
    "- минута разговора: 3 рубля\n",
    "- сообщение: 3 рубля\n",
    "- 1 Гб интернет-трафика: 200 рублей\n",
    "\n",
    "Тариф \"Ультра\"\n",
    "- Ежемесячная плата: 1950 рублей\n",
    "- Включено 3000 минут разговора, 1000 сообщений и 30 Гб интернет-трафика\n",
    "- Стоимость услуг сверх тарифного пакета:\n",
    "- минута разговора: 1 рубль\n",
    "- сообщение: 1 рубль\n",
    "- 1 Гб интернет-трафика: 150 рублей\n",
    "    \n",
    "**Цель исследования** — проверить 2 гипотезы:\n",
    "1. средняя выручка пользователей тарифов \"Smart\" и \"Ultra\" различаются;\n",
    "2. средняя выручка пользователей из Москвы отличается от выручки пользователей из других регионов.\n",
    "\n",
    "\n",
    "**Ход исследования**\n",
    "\n",
    "Данные о пользователях \"Мегалайна\" получим из файлов:  \n",
    "- `/datasets/calls.csv` (информация о звонках);\n",
    "- `/datasets/internet.csv` (информация об интернет-сессиях);\n",
    "- `/datasets/messages.csv` (информация о сообщениях);\n",
    "- `/datasets/tariffs.csv` (информация о тарифах);\n",
    "- `/datasets/users.csv` (информация о пользователях).\n",
    "\n",
    "О качестве данных ничего не известно. Поэтому перед подготовкой ответов понадобится обзор данных.\n",
    "Проверим данные на ошибки и оценим их влияние на исследование. Затем, на этапе предобработки исправим самые критичные ошибки данных.\n",
    " \n",
    "Таким образом, исследование пройдёт в четыре этапа:\n",
    "   1. Обзор данных.\n",
    "   2. Подготовка данных.\n",
    "   3. Анализ и описание данных.\n",
    "   4. Проверка гипотез и пояснения."
   ]
  },
  {
   "cell_type": "markdown",
   "metadata": {},
   "source": [
    "## Изучение общей информации"
   ]
  },
  {
   "cell_type": "markdown",
   "metadata": {},
   "source": [
    "Составим первое представление о данных сотового оператора \"Мегалайн\"."
   ]
  },
  {
   "cell_type": "code",
   "execution_count": 1,
   "metadata": {},
   "outputs": [],
   "source": [
    "from scipy import stats as st # импорт библиотеки scipy\n",
    "import pandas as pd # импорт библиотеки pandas\n",
    "import matplotlib.pyplot as plt # импорт библиотеки matplotlib\n",
    "import numpy as np # импорт библиотеки numpy"
   ]
  },
  {
   "cell_type": "markdown",
   "metadata": {},
   "source": [
    "Прочитаем 5 файлов `calls.csv`, `internet.csv`, `messages.csv`, `tariffs.csv`, `users.csv` из папки `/datasets`, сохраним их в переменных `calls`, `internet`,`messages`,`tariffs`,`users` и получим общую информацию о таблицах:"
   ]
  },
  {
   "cell_type": "code",
   "execution_count": 2,
   "metadata": {
    "scrolled": true
   },
   "outputs": [
    {
     "data": {
      "text/html": [
       "<div>\n",
       "<style scoped>\n",
       "    .dataframe tbody tr th:only-of-type {\n",
       "        vertical-align: middle;\n",
       "    }\n",
       "\n",
       "    .dataframe tbody tr th {\n",
       "        vertical-align: top;\n",
       "    }\n",
       "\n",
       "    .dataframe thead th {\n",
       "        text-align: right;\n",
       "    }\n",
       "</style>\n",
       "<table border=\"1\" class=\"dataframe\">\n",
       "  <thead>\n",
       "    <tr style=\"text-align: right;\">\n",
       "      <th></th>\n",
       "      <th>id</th>\n",
       "      <th>call_date</th>\n",
       "      <th>duration</th>\n",
       "      <th>user_id</th>\n",
       "    </tr>\n",
       "  </thead>\n",
       "  <tbody>\n",
       "    <tr>\n",
       "      <th>0</th>\n",
       "      <td>1000_0</td>\n",
       "      <td>2018-07-25</td>\n",
       "      <td>0.00</td>\n",
       "      <td>1000</td>\n",
       "    </tr>\n",
       "    <tr>\n",
       "      <th>1</th>\n",
       "      <td>1000_1</td>\n",
       "      <td>2018-08-17</td>\n",
       "      <td>0.00</td>\n",
       "      <td>1000</td>\n",
       "    </tr>\n",
       "    <tr>\n",
       "      <th>2</th>\n",
       "      <td>1000_2</td>\n",
       "      <td>2018-06-11</td>\n",
       "      <td>2.85</td>\n",
       "      <td>1000</td>\n",
       "    </tr>\n",
       "    <tr>\n",
       "      <th>3</th>\n",
       "      <td>1000_3</td>\n",
       "      <td>2018-09-21</td>\n",
       "      <td>13.80</td>\n",
       "      <td>1000</td>\n",
       "    </tr>\n",
       "    <tr>\n",
       "      <th>4</th>\n",
       "      <td>1000_4</td>\n",
       "      <td>2018-12-15</td>\n",
       "      <td>5.18</td>\n",
       "      <td>1000</td>\n",
       "    </tr>\n",
       "    <tr>\n",
       "      <th>5</th>\n",
       "      <td>1000_5</td>\n",
       "      <td>2018-11-02</td>\n",
       "      <td>0.00</td>\n",
       "      <td>1000</td>\n",
       "    </tr>\n",
       "    <tr>\n",
       "      <th>6</th>\n",
       "      <td>1000_6</td>\n",
       "      <td>2018-10-18</td>\n",
       "      <td>0.00</td>\n",
       "      <td>1000</td>\n",
       "    </tr>\n",
       "    <tr>\n",
       "      <th>7</th>\n",
       "      <td>1000_7</td>\n",
       "      <td>2018-08-22</td>\n",
       "      <td>18.31</td>\n",
       "      <td>1000</td>\n",
       "    </tr>\n",
       "    <tr>\n",
       "      <th>8</th>\n",
       "      <td>1000_8</td>\n",
       "      <td>2018-09-15</td>\n",
       "      <td>18.44</td>\n",
       "      <td>1000</td>\n",
       "    </tr>\n",
       "    <tr>\n",
       "      <th>9</th>\n",
       "      <td>1000_9</td>\n",
       "      <td>2018-08-15</td>\n",
       "      <td>0.00</td>\n",
       "      <td>1000</td>\n",
       "    </tr>\n",
       "  </tbody>\n",
       "</table>\n",
       "</div>"
      ],
      "text/plain": [
       "       id   call_date  duration  user_id\n",
       "0  1000_0  2018-07-25      0.00     1000\n",
       "1  1000_1  2018-08-17      0.00     1000\n",
       "2  1000_2  2018-06-11      2.85     1000\n",
       "3  1000_3  2018-09-21     13.80     1000\n",
       "4  1000_4  2018-12-15      5.18     1000\n",
       "5  1000_5  2018-11-02      0.00     1000\n",
       "6  1000_6  2018-10-18      0.00     1000\n",
       "7  1000_7  2018-08-22     18.31     1000\n",
       "8  1000_8  2018-09-15     18.44     1000\n",
       "9  1000_9  2018-08-15      0.00     1000"
      ]
     },
     "execution_count": 2,
     "metadata": {},
     "output_type": "execute_result"
    }
   ],
   "source": [
    "calls = pd.read_csv('https://code.s3.yandex.net/datasets/calls.csv') # чтение файла с данными и сохранение в calls\n",
    "calls.head(10) # получение первых 10 строк таблицы calls"
   ]
  },
  {
   "cell_type": "code",
   "execution_count": 3,
   "metadata": {},
   "outputs": [
    {
     "name": "stdout",
     "output_type": "stream",
     "text": [
      "<class 'pandas.core.frame.DataFrame'>\n",
      "RangeIndex: 202607 entries, 0 to 202606\n",
      "Data columns (total 4 columns):\n",
      " #   Column     Non-Null Count   Dtype  \n",
      "---  ------     --------------   -----  \n",
      " 0   id         202607 non-null  object \n",
      " 1   call_date  202607 non-null  object \n",
      " 2   duration   202607 non-null  float64\n",
      " 3   user_id    202607 non-null  int64  \n",
      "dtypes: float64(1), int64(1), object(2)\n",
      "memory usage: 6.2+ MB\n"
     ]
    }
   ],
   "source": [
    "calls.info() # получение общей информации о данных в таблице calls"
   ]
  },
  {
   "cell_type": "markdown",
   "metadata": {},
   "source": [
    "В таблице `calls` четыре столбца. \n",
    "Тип данных в двух столбцах — `object` и по одному столбцу - `float64` и `int64`.\n",
    "\n",
    "Согласно документации к данным:\n",
    "\n",
    "* `id` — уникальный номер звонка;\n",
    "* `call_date` — дата звонка;\n",
    "* `duration` — длительность звонка в минутах;\n",
    "* `user_id` — идентификатор пользователя, сделавшего звонок.\n",
    "\n",
    "В столбце `call_date` присутствует несоответствие типа данных."
   ]
  },
  {
   "cell_type": "code",
   "execution_count": 4,
   "metadata": {
    "scrolled": false
   },
   "outputs": [
    {
     "data": {
      "text/html": [
       "<div>\n",
       "<style scoped>\n",
       "    .dataframe tbody tr th:only-of-type {\n",
       "        vertical-align: middle;\n",
       "    }\n",
       "\n",
       "    .dataframe tbody tr th {\n",
       "        vertical-align: top;\n",
       "    }\n",
       "\n",
       "    .dataframe thead th {\n",
       "        text-align: right;\n",
       "    }\n",
       "</style>\n",
       "<table border=\"1\" class=\"dataframe\">\n",
       "  <thead>\n",
       "    <tr style=\"text-align: right;\">\n",
       "      <th></th>\n",
       "      <th>Unnamed: 0</th>\n",
       "      <th>id</th>\n",
       "      <th>mb_used</th>\n",
       "      <th>session_date</th>\n",
       "      <th>user_id</th>\n",
       "    </tr>\n",
       "  </thead>\n",
       "  <tbody>\n",
       "    <tr>\n",
       "      <th>0</th>\n",
       "      <td>0</td>\n",
       "      <td>1000_0</td>\n",
       "      <td>112.95</td>\n",
       "      <td>2018-11-25</td>\n",
       "      <td>1000</td>\n",
       "    </tr>\n",
       "    <tr>\n",
       "      <th>1</th>\n",
       "      <td>1</td>\n",
       "      <td>1000_1</td>\n",
       "      <td>1052.81</td>\n",
       "      <td>2018-09-07</td>\n",
       "      <td>1000</td>\n",
       "    </tr>\n",
       "    <tr>\n",
       "      <th>2</th>\n",
       "      <td>2</td>\n",
       "      <td>1000_2</td>\n",
       "      <td>1197.26</td>\n",
       "      <td>2018-06-25</td>\n",
       "      <td>1000</td>\n",
       "    </tr>\n",
       "    <tr>\n",
       "      <th>3</th>\n",
       "      <td>3</td>\n",
       "      <td>1000_3</td>\n",
       "      <td>550.27</td>\n",
       "      <td>2018-08-22</td>\n",
       "      <td>1000</td>\n",
       "    </tr>\n",
       "    <tr>\n",
       "      <th>4</th>\n",
       "      <td>4</td>\n",
       "      <td>1000_4</td>\n",
       "      <td>302.56</td>\n",
       "      <td>2018-09-24</td>\n",
       "      <td>1000</td>\n",
       "    </tr>\n",
       "    <tr>\n",
       "      <th>5</th>\n",
       "      <td>5</td>\n",
       "      <td>1000_5</td>\n",
       "      <td>399.97</td>\n",
       "      <td>2018-10-02</td>\n",
       "      <td>1000</td>\n",
       "    </tr>\n",
       "    <tr>\n",
       "      <th>6</th>\n",
       "      <td>6</td>\n",
       "      <td>1000_6</td>\n",
       "      <td>540.08</td>\n",
       "      <td>2018-09-07</td>\n",
       "      <td>1000</td>\n",
       "    </tr>\n",
       "    <tr>\n",
       "      <th>7</th>\n",
       "      <td>7</td>\n",
       "      <td>1000_7</td>\n",
       "      <td>415.70</td>\n",
       "      <td>2018-07-11</td>\n",
       "      <td>1000</td>\n",
       "    </tr>\n",
       "    <tr>\n",
       "      <th>8</th>\n",
       "      <td>8</td>\n",
       "      <td>1000_8</td>\n",
       "      <td>505.40</td>\n",
       "      <td>2018-10-08</td>\n",
       "      <td>1000</td>\n",
       "    </tr>\n",
       "    <tr>\n",
       "      <th>9</th>\n",
       "      <td>9</td>\n",
       "      <td>1000_9</td>\n",
       "      <td>345.54</td>\n",
       "      <td>2018-09-03</td>\n",
       "      <td>1000</td>\n",
       "    </tr>\n",
       "  </tbody>\n",
       "</table>\n",
       "</div>"
      ],
      "text/plain": [
       "   Unnamed: 0      id  mb_used session_date  user_id\n",
       "0           0  1000_0   112.95   2018-11-25     1000\n",
       "1           1  1000_1  1052.81   2018-09-07     1000\n",
       "2           2  1000_2  1197.26   2018-06-25     1000\n",
       "3           3  1000_3   550.27   2018-08-22     1000\n",
       "4           4  1000_4   302.56   2018-09-24     1000\n",
       "5           5  1000_5   399.97   2018-10-02     1000\n",
       "6           6  1000_6   540.08   2018-09-07     1000\n",
       "7           7  1000_7   415.70   2018-07-11     1000\n",
       "8           8  1000_8   505.40   2018-10-08     1000\n",
       "9           9  1000_9   345.54   2018-09-03     1000"
      ]
     },
     "execution_count": 4,
     "metadata": {},
     "output_type": "execute_result"
    }
   ],
   "source": [
    "internet = pd.read_csv('https://code.s3.yandex.net/datasets/internet.csv') # чтение файла с данными и сохранение в internet\n",
    "internet.head(10) # получение первых 10 строк таблицы internet"
   ]
  },
  {
   "cell_type": "code",
   "execution_count": 5,
   "metadata": {
    "scrolled": true
   },
   "outputs": [
    {
     "name": "stdout",
     "output_type": "stream",
     "text": [
      "<class 'pandas.core.frame.DataFrame'>\n",
      "RangeIndex: 149396 entries, 0 to 149395\n",
      "Data columns (total 5 columns):\n",
      " #   Column        Non-Null Count   Dtype  \n",
      "---  ------        --------------   -----  \n",
      " 0   Unnamed: 0    149396 non-null  int64  \n",
      " 1   id            149396 non-null  object \n",
      " 2   mb_used       149396 non-null  float64\n",
      " 3   session_date  149396 non-null  object \n",
      " 4   user_id       149396 non-null  int64  \n",
      "dtypes: float64(1), int64(2), object(2)\n",
      "memory usage: 5.7+ MB\n"
     ]
    }
   ],
   "source": [
    "internet.info() # получение общей информации о данных в таблице internet"
   ]
  },
  {
   "cell_type": "markdown",
   "metadata": {},
   "source": [
    "В таблице `internet` пять столбцов. \n",
    "Тип данных в двух столбцах — `object`, в двух столбцах - `int64` и в одном столбце - `float64`.\n",
    "\n",
    "Согласно документации к данным:\n",
    "\n",
    "* `id` — уникальный номер сессии;\n",
    "* `mb_used` — объём потраченного за сессию интернет-трафика (в мегабайтах);\n",
    "* `session_date` — дата интернет-сессии;\n",
    "* `user_id` — идентификатор пользователя.\n",
    "\n",
    "В названии колонки `Unnamed: 0` видны два нарушения стиля:\n",
    "1. Строчные буквы сочетаются с прописными.\n",
    "2. Отсутсвует разделение знаком нижнего подчеркивания в имени, состоящем нескольких слов.\n",
    "\n",
    "В столбце `session_date` присутствует несоответствие типа данных."
   ]
  },
  {
   "cell_type": "code",
   "execution_count": 6,
   "metadata": {},
   "outputs": [
    {
     "data": {
      "text/html": [
       "<div>\n",
       "<style scoped>\n",
       "    .dataframe tbody tr th:only-of-type {\n",
       "        vertical-align: middle;\n",
       "    }\n",
       "\n",
       "    .dataframe tbody tr th {\n",
       "        vertical-align: top;\n",
       "    }\n",
       "\n",
       "    .dataframe thead th {\n",
       "        text-align: right;\n",
       "    }\n",
       "</style>\n",
       "<table border=\"1\" class=\"dataframe\">\n",
       "  <thead>\n",
       "    <tr style=\"text-align: right;\">\n",
       "      <th></th>\n",
       "      <th>id</th>\n",
       "      <th>message_date</th>\n",
       "      <th>user_id</th>\n",
       "    </tr>\n",
       "  </thead>\n",
       "  <tbody>\n",
       "    <tr>\n",
       "      <th>0</th>\n",
       "      <td>1000_0</td>\n",
       "      <td>2018-06-27</td>\n",
       "      <td>1000</td>\n",
       "    </tr>\n",
       "    <tr>\n",
       "      <th>1</th>\n",
       "      <td>1000_1</td>\n",
       "      <td>2018-10-08</td>\n",
       "      <td>1000</td>\n",
       "    </tr>\n",
       "    <tr>\n",
       "      <th>2</th>\n",
       "      <td>1000_2</td>\n",
       "      <td>2018-08-04</td>\n",
       "      <td>1000</td>\n",
       "    </tr>\n",
       "    <tr>\n",
       "      <th>3</th>\n",
       "      <td>1000_3</td>\n",
       "      <td>2018-06-16</td>\n",
       "      <td>1000</td>\n",
       "    </tr>\n",
       "    <tr>\n",
       "      <th>4</th>\n",
       "      <td>1000_4</td>\n",
       "      <td>2018-12-05</td>\n",
       "      <td>1000</td>\n",
       "    </tr>\n",
       "    <tr>\n",
       "      <th>5</th>\n",
       "      <td>1000_5</td>\n",
       "      <td>2018-06-20</td>\n",
       "      <td>1000</td>\n",
       "    </tr>\n",
       "    <tr>\n",
       "      <th>6</th>\n",
       "      <td>1000_6</td>\n",
       "      <td>2018-11-19</td>\n",
       "      <td>1000</td>\n",
       "    </tr>\n",
       "    <tr>\n",
       "      <th>7</th>\n",
       "      <td>1000_7</td>\n",
       "      <td>2018-10-29</td>\n",
       "      <td>1000</td>\n",
       "    </tr>\n",
       "    <tr>\n",
       "      <th>8</th>\n",
       "      <td>1000_8</td>\n",
       "      <td>2018-06-25</td>\n",
       "      <td>1000</td>\n",
       "    </tr>\n",
       "    <tr>\n",
       "      <th>9</th>\n",
       "      <td>1000_9</td>\n",
       "      <td>2018-12-18</td>\n",
       "      <td>1000</td>\n",
       "    </tr>\n",
       "  </tbody>\n",
       "</table>\n",
       "</div>"
      ],
      "text/plain": [
       "       id message_date  user_id\n",
       "0  1000_0   2018-06-27     1000\n",
       "1  1000_1   2018-10-08     1000\n",
       "2  1000_2   2018-08-04     1000\n",
       "3  1000_3   2018-06-16     1000\n",
       "4  1000_4   2018-12-05     1000\n",
       "5  1000_5   2018-06-20     1000\n",
       "6  1000_6   2018-11-19     1000\n",
       "7  1000_7   2018-10-29     1000\n",
       "8  1000_8   2018-06-25     1000\n",
       "9  1000_9   2018-12-18     1000"
      ]
     },
     "execution_count": 6,
     "metadata": {},
     "output_type": "execute_result"
    }
   ],
   "source": [
    "messages = pd.read_csv('https://code.s3.yandex.net/datasets/messages.csv') # чтение файла с данными и сохранение в messages\n",
    "messages.head(10) # получение первых 10 строк таблицы messages"
   ]
  },
  {
   "cell_type": "code",
   "execution_count": 7,
   "metadata": {},
   "outputs": [
    {
     "name": "stdout",
     "output_type": "stream",
     "text": [
      "<class 'pandas.core.frame.DataFrame'>\n",
      "RangeIndex: 123036 entries, 0 to 123035\n",
      "Data columns (total 3 columns):\n",
      " #   Column        Non-Null Count   Dtype \n",
      "---  ------        --------------   ----- \n",
      " 0   id            123036 non-null  object\n",
      " 1   message_date  123036 non-null  object\n",
      " 2   user_id       123036 non-null  int64 \n",
      "dtypes: int64(1), object(2)\n",
      "memory usage: 2.8+ MB\n"
     ]
    }
   ],
   "source": [
    "messages.info() # получение общей информации о данных в таблице messages"
   ]
  },
  {
   "cell_type": "markdown",
   "metadata": {},
   "source": [
    "В таблице `messages` три столбца. \n",
    "Тип данных в двух столбцах — `object` и в одном столбце - `int64`.\n",
    "\n",
    "Согласно документации к данным:\n",
    "\n",
    "* `id` — уникальный номер сообщения;\n",
    "* `message_date` — дата сообщения;\n",
    "* `user_id` — идентификатор пользователя, отправившего сообщение.\n",
    "\n",
    "В столбце `message_date` присутствует несоответствие типа данных."
   ]
  },
  {
   "cell_type": "code",
   "execution_count": 8,
   "metadata": {},
   "outputs": [
    {
     "data": {
      "text/html": [
       "<div>\n",
       "<style scoped>\n",
       "    .dataframe tbody tr th:only-of-type {\n",
       "        vertical-align: middle;\n",
       "    }\n",
       "\n",
       "    .dataframe tbody tr th {\n",
       "        vertical-align: top;\n",
       "    }\n",
       "\n",
       "    .dataframe thead th {\n",
       "        text-align: right;\n",
       "    }\n",
       "</style>\n",
       "<table border=\"1\" class=\"dataframe\">\n",
       "  <thead>\n",
       "    <tr style=\"text-align: right;\">\n",
       "      <th></th>\n",
       "      <th>messages_included</th>\n",
       "      <th>mb_per_month_included</th>\n",
       "      <th>minutes_included</th>\n",
       "      <th>rub_monthly_fee</th>\n",
       "      <th>rub_per_gb</th>\n",
       "      <th>rub_per_message</th>\n",
       "      <th>rub_per_minute</th>\n",
       "      <th>tariff_name</th>\n",
       "    </tr>\n",
       "  </thead>\n",
       "  <tbody>\n",
       "    <tr>\n",
       "      <th>0</th>\n",
       "      <td>50</td>\n",
       "      <td>15360</td>\n",
       "      <td>500</td>\n",
       "      <td>550</td>\n",
       "      <td>200</td>\n",
       "      <td>3</td>\n",
       "      <td>3</td>\n",
       "      <td>smart</td>\n",
       "    </tr>\n",
       "    <tr>\n",
       "      <th>1</th>\n",
       "      <td>1000</td>\n",
       "      <td>30720</td>\n",
       "      <td>3000</td>\n",
       "      <td>1950</td>\n",
       "      <td>150</td>\n",
       "      <td>1</td>\n",
       "      <td>1</td>\n",
       "      <td>ultra</td>\n",
       "    </tr>\n",
       "  </tbody>\n",
       "</table>\n",
       "</div>"
      ],
      "text/plain": [
       "   messages_included  mb_per_month_included  minutes_included  \\\n",
       "0                 50                  15360               500   \n",
       "1               1000                  30720              3000   \n",
       "\n",
       "   rub_monthly_fee  rub_per_gb  rub_per_message  rub_per_minute tariff_name  \n",
       "0              550         200                3               3       smart  \n",
       "1             1950         150                1               1       ultra  "
      ]
     },
     "execution_count": 8,
     "metadata": {},
     "output_type": "execute_result"
    }
   ],
   "source": [
    "tariffs = pd.read_csv('https://code.s3.yandex.net/datasets/tariffs.csv') # чтение файла с данными и сохранение в tariffs\n",
    "tariffs.head() # получение первых 5 строк таблицы tariffs"
   ]
  },
  {
   "cell_type": "code",
   "execution_count": 9,
   "metadata": {},
   "outputs": [
    {
     "name": "stdout",
     "output_type": "stream",
     "text": [
      "<class 'pandas.core.frame.DataFrame'>\n",
      "RangeIndex: 2 entries, 0 to 1\n",
      "Data columns (total 8 columns):\n",
      " #   Column                 Non-Null Count  Dtype \n",
      "---  ------                 --------------  ----- \n",
      " 0   messages_included      2 non-null      int64 \n",
      " 1   mb_per_month_included  2 non-null      int64 \n",
      " 2   minutes_included       2 non-null      int64 \n",
      " 3   rub_monthly_fee        2 non-null      int64 \n",
      " 4   rub_per_gb             2 non-null      int64 \n",
      " 5   rub_per_message        2 non-null      int64 \n",
      " 6   rub_per_minute         2 non-null      int64 \n",
      " 7   tariff_name            2 non-null      object\n",
      "dtypes: int64(7), object(1)\n",
      "memory usage: 256.0+ bytes\n"
     ]
    }
   ],
   "source": [
    "tariffs.info() # получение общей информации о данных в таблице tariffs"
   ]
  },
  {
   "cell_type": "markdown",
   "metadata": {},
   "source": [
    "В таблице `tariffs` восемь столбцов. \n",
    "Тип данных в семи столбцах — `int64` и в одном столбце - `object`.\n",
    "\n",
    "Согласно документации к данным:\n",
    "\n",
    "* `tariff_name` — название тарифа;\n",
    "* `rub_monthly_fee` — ежемесячная абонентская плата в рублях;\n",
    "* `minutes_included` — количество минут разговора в месяц, включённых в абонентскую плату;\n",
    "* `messages_included` — количество сообщений в месяц, включённых в абонентскую плату;\n",
    "* `mb_per_month_included` — объём интернет-трафика, включённого в абонентскую плату (в мегабайтах);\n",
    "* `rub_per_minute` — стоимость минуты разговора сверх тарифного пакета;\n",
    "* `rub_per_message` — стоимость отправки сообщения сверх тарифного пакета;\n",
    "* `rub_per_gb` — стоимость дополнительного гигабайта интернет-трафика сверх тарифного пакета."
   ]
  },
  {
   "cell_type": "code",
   "execution_count": 10,
   "metadata": {},
   "outputs": [
    {
     "data": {
      "text/html": [
       "<div>\n",
       "<style scoped>\n",
       "    .dataframe tbody tr th:only-of-type {\n",
       "        vertical-align: middle;\n",
       "    }\n",
       "\n",
       "    .dataframe tbody tr th {\n",
       "        vertical-align: top;\n",
       "    }\n",
       "\n",
       "    .dataframe thead th {\n",
       "        text-align: right;\n",
       "    }\n",
       "</style>\n",
       "<table border=\"1\" class=\"dataframe\">\n",
       "  <thead>\n",
       "    <tr style=\"text-align: right;\">\n",
       "      <th></th>\n",
       "      <th>user_id</th>\n",
       "      <th>age</th>\n",
       "      <th>churn_date</th>\n",
       "      <th>city</th>\n",
       "      <th>first_name</th>\n",
       "      <th>last_name</th>\n",
       "      <th>reg_date</th>\n",
       "      <th>tariff</th>\n",
       "    </tr>\n",
       "  </thead>\n",
       "  <tbody>\n",
       "    <tr>\n",
       "      <th>0</th>\n",
       "      <td>1000</td>\n",
       "      <td>52</td>\n",
       "      <td>NaN</td>\n",
       "      <td>Краснодар</td>\n",
       "      <td>Рафаил</td>\n",
       "      <td>Верещагин</td>\n",
       "      <td>2018-05-25</td>\n",
       "      <td>ultra</td>\n",
       "    </tr>\n",
       "    <tr>\n",
       "      <th>1</th>\n",
       "      <td>1001</td>\n",
       "      <td>41</td>\n",
       "      <td>NaN</td>\n",
       "      <td>Москва</td>\n",
       "      <td>Иван</td>\n",
       "      <td>Ежов</td>\n",
       "      <td>2018-11-01</td>\n",
       "      <td>smart</td>\n",
       "    </tr>\n",
       "    <tr>\n",
       "      <th>2</th>\n",
       "      <td>1002</td>\n",
       "      <td>59</td>\n",
       "      <td>NaN</td>\n",
       "      <td>Стерлитамак</td>\n",
       "      <td>Евгений</td>\n",
       "      <td>Абрамович</td>\n",
       "      <td>2018-06-17</td>\n",
       "      <td>smart</td>\n",
       "    </tr>\n",
       "    <tr>\n",
       "      <th>3</th>\n",
       "      <td>1003</td>\n",
       "      <td>23</td>\n",
       "      <td>NaN</td>\n",
       "      <td>Москва</td>\n",
       "      <td>Белла</td>\n",
       "      <td>Белякова</td>\n",
       "      <td>2018-08-17</td>\n",
       "      <td>ultra</td>\n",
       "    </tr>\n",
       "    <tr>\n",
       "      <th>4</th>\n",
       "      <td>1004</td>\n",
       "      <td>68</td>\n",
       "      <td>NaN</td>\n",
       "      <td>Новокузнецк</td>\n",
       "      <td>Татьяна</td>\n",
       "      <td>Авдеенко</td>\n",
       "      <td>2018-05-14</td>\n",
       "      <td>ultra</td>\n",
       "    </tr>\n",
       "    <tr>\n",
       "      <th>5</th>\n",
       "      <td>1005</td>\n",
       "      <td>67</td>\n",
       "      <td>NaN</td>\n",
       "      <td>Набережные Челны</td>\n",
       "      <td>Афанасий</td>\n",
       "      <td>Горлов</td>\n",
       "      <td>2018-01-25</td>\n",
       "      <td>smart</td>\n",
       "    </tr>\n",
       "    <tr>\n",
       "      <th>6</th>\n",
       "      <td>1006</td>\n",
       "      <td>21</td>\n",
       "      <td>NaN</td>\n",
       "      <td>Ульяновск</td>\n",
       "      <td>Леонид</td>\n",
       "      <td>Ермолаев</td>\n",
       "      <td>2018-02-26</td>\n",
       "      <td>smart</td>\n",
       "    </tr>\n",
       "    <tr>\n",
       "      <th>7</th>\n",
       "      <td>1007</td>\n",
       "      <td>65</td>\n",
       "      <td>NaN</td>\n",
       "      <td>Москва</td>\n",
       "      <td>Юна</td>\n",
       "      <td>Березина</td>\n",
       "      <td>2018-04-19</td>\n",
       "      <td>smart</td>\n",
       "    </tr>\n",
       "    <tr>\n",
       "      <th>8</th>\n",
       "      <td>1008</td>\n",
       "      <td>63</td>\n",
       "      <td>NaN</td>\n",
       "      <td>Челябинск</td>\n",
       "      <td>Рустэм</td>\n",
       "      <td>Пономарёв</td>\n",
       "      <td>2018-12-19</td>\n",
       "      <td>smart</td>\n",
       "    </tr>\n",
       "    <tr>\n",
       "      <th>9</th>\n",
       "      <td>1009</td>\n",
       "      <td>24</td>\n",
       "      <td>NaN</td>\n",
       "      <td>Пермь</td>\n",
       "      <td>Василиса</td>\n",
       "      <td>Блинова</td>\n",
       "      <td>2018-03-22</td>\n",
       "      <td>smart</td>\n",
       "    </tr>\n",
       "  </tbody>\n",
       "</table>\n",
       "</div>"
      ],
      "text/plain": [
       "   user_id  age churn_date              city first_name  last_name  \\\n",
       "0     1000   52        NaN         Краснодар     Рафаил  Верещагин   \n",
       "1     1001   41        NaN            Москва       Иван       Ежов   \n",
       "2     1002   59        NaN       Стерлитамак    Евгений  Абрамович   \n",
       "3     1003   23        NaN            Москва      Белла   Белякова   \n",
       "4     1004   68        NaN       Новокузнецк    Татьяна   Авдеенко   \n",
       "5     1005   67        NaN  Набережные Челны   Афанасий     Горлов   \n",
       "6     1006   21        NaN         Ульяновск     Леонид   Ермолаев   \n",
       "7     1007   65        NaN            Москва        Юна   Березина   \n",
       "8     1008   63        NaN         Челябинск     Рустэм  Пономарёв   \n",
       "9     1009   24        NaN             Пермь   Василиса    Блинова   \n",
       "\n",
       "     reg_date tariff  \n",
       "0  2018-05-25  ultra  \n",
       "1  2018-11-01  smart  \n",
       "2  2018-06-17  smart  \n",
       "3  2018-08-17  ultra  \n",
       "4  2018-05-14  ultra  \n",
       "5  2018-01-25  smart  \n",
       "6  2018-02-26  smart  \n",
       "7  2018-04-19  smart  \n",
       "8  2018-12-19  smart  \n",
       "9  2018-03-22  smart  "
      ]
     },
     "execution_count": 10,
     "metadata": {},
     "output_type": "execute_result"
    }
   ],
   "source": [
    "users = pd.read_csv('https://code.s3.yandex.net/datasets/users.csv') # чтение файла с данными и сохранение в users\n",
    "users.head(10) # получение первых 10 строк таблицы users"
   ]
  },
  {
   "cell_type": "code",
   "execution_count": 11,
   "metadata": {},
   "outputs": [
    {
     "name": "stdout",
     "output_type": "stream",
     "text": [
      "<class 'pandas.core.frame.DataFrame'>\n",
      "RangeIndex: 500 entries, 0 to 499\n",
      "Data columns (total 8 columns):\n",
      " #   Column      Non-Null Count  Dtype \n",
      "---  ------      --------------  ----- \n",
      " 0   user_id     500 non-null    int64 \n",
      " 1   age         500 non-null    int64 \n",
      " 2   churn_date  38 non-null     object\n",
      " 3   city        500 non-null    object\n",
      " 4   first_name  500 non-null    object\n",
      " 5   last_name   500 non-null    object\n",
      " 6   reg_date    500 non-null    object\n",
      " 7   tariff      500 non-null    object\n",
      "dtypes: int64(2), object(6)\n",
      "memory usage: 31.4+ KB\n"
     ]
    }
   ],
   "source": [
    "users.info() # получение общей информации о данных в таблице users"
   ]
  },
  {
   "cell_type": "markdown",
   "metadata": {},
   "source": [
    "В таблице `users` восемь столбцов. \n",
    "Тип данных в двух столбцах — `int64` и в шести столбцах - `object`.\n",
    "\n",
    "Согласно документации к данным:\n",
    "\n",
    "* `user_id` — уникальный идентификатор пользователя;\n",
    "* `first_name` — имя пользователя;\n",
    "* `last_name` — фамилия пользователя;\n",
    "* `age` — возраст пользователя (годы);\n",
    "* `reg_date` — дата подключения тарифа (день, месяц, год);\n",
    "* `churn_date` — дата прекращения пользования тарифом;\n",
    "* `city` — город проживания пользователя;\n",
    "* `tarif` — название тарифного плана.\n",
    "\n",
    "Количество значений в столбцах различается. Значит, в данных есть пропущенные значения.\n",
    " \n",
    "В столбце `reg_date` присутствует несоответствие типа данных. "
   ]
  },
  {
   "cell_type": "markdown",
   "metadata": {},
   "source": [
    "### Вывод"
   ]
  },
  {
   "cell_type": "markdown",
   "metadata": {},
   "source": [
    "В каждой строке таблиц users, calls, messages, internet — данные о пользователе. Часть данных рассказывают о самом пользователе: имя, фамилия, возраст, город проживания. Ещё часть данных описывает его взаимодействие с сотовым оператором: уникальный идентификатор пользователя, дата подключения тарифа, дата прекращения пользования тарифом, уникальный номер звонка, сообщения, интернет-сессии, дата звонка, сообщения, интернет-сессии, длительность звонка, объем потраченного за сессию интернет-трафика. \n",
    "\n",
    "В каждой строке таблицы tariffs информация о тарифных планах: название тарифа; ежемесячная абонентская плата в рублях; количество минут разговора, сообщений, объём интернет-трафика в месяц, включённых в абонентскую плату; стоимость минуты разговора сверх тарифного пакета; стоимость отправки сообщения сверх тарифного пакета; стоимость дополнительного гигабайта интернет-трафика сверх тарифного пакета.\n",
    "\n",
    "Предварительно можно утверждать, что, данных достаточно для решения задач. Но встречаются пропуски в данных, несоответствие типа данных, а в названиях колонок — расхождения с хорошим стилем.\n",
    "\n",
    "Чтобы двигаться дальше, нужно устранить проблемы в данных."
   ]
  },
  {
   "cell_type": "markdown",
   "metadata": {},
   "source": [
    "## Подготовка данных"
   ]
  },
  {
   "cell_type": "markdown",
   "metadata": {},
   "source": [
    "### Подготовка данных (замена типов, ошибки, заполнение пропусков и т.д.)"
   ]
  },
  {
   "cell_type": "markdown",
   "metadata": {},
   "source": [
    "В таблице `internet` в колонке `Unnamed: 0` видны два нарушения стиля, но данные в столбце только дублируют нумерацию строк, поэтому удалим его из-за ненадобности."
   ]
  },
  {
   "cell_type": "code",
   "execution_count": 12,
   "metadata": {},
   "outputs": [
    {
     "data": {
      "text/html": [
       "<div>\n",
       "<style scoped>\n",
       "    .dataframe tbody tr th:only-of-type {\n",
       "        vertical-align: middle;\n",
       "    }\n",
       "\n",
       "    .dataframe tbody tr th {\n",
       "        vertical-align: top;\n",
       "    }\n",
       "\n",
       "    .dataframe thead th {\n",
       "        text-align: right;\n",
       "    }\n",
       "</style>\n",
       "<table border=\"1\" class=\"dataframe\">\n",
       "  <thead>\n",
       "    <tr style=\"text-align: right;\">\n",
       "      <th></th>\n",
       "      <th>id</th>\n",
       "      <th>mb_used</th>\n",
       "      <th>session_date</th>\n",
       "      <th>user_id</th>\n",
       "    </tr>\n",
       "  </thead>\n",
       "  <tbody>\n",
       "    <tr>\n",
       "      <th>0</th>\n",
       "      <td>1000_0</td>\n",
       "      <td>112.95</td>\n",
       "      <td>2018-11-25</td>\n",
       "      <td>1000</td>\n",
       "    </tr>\n",
       "    <tr>\n",
       "      <th>1</th>\n",
       "      <td>1000_1</td>\n",
       "      <td>1052.81</td>\n",
       "      <td>2018-09-07</td>\n",
       "      <td>1000</td>\n",
       "    </tr>\n",
       "    <tr>\n",
       "      <th>2</th>\n",
       "      <td>1000_2</td>\n",
       "      <td>1197.26</td>\n",
       "      <td>2018-06-25</td>\n",
       "      <td>1000</td>\n",
       "    </tr>\n",
       "    <tr>\n",
       "      <th>3</th>\n",
       "      <td>1000_3</td>\n",
       "      <td>550.27</td>\n",
       "      <td>2018-08-22</td>\n",
       "      <td>1000</td>\n",
       "    </tr>\n",
       "    <tr>\n",
       "      <th>4</th>\n",
       "      <td>1000_4</td>\n",
       "      <td>302.56</td>\n",
       "      <td>2018-09-24</td>\n",
       "      <td>1000</td>\n",
       "    </tr>\n",
       "  </tbody>\n",
       "</table>\n",
       "</div>"
      ],
      "text/plain": [
       "       id  mb_used session_date  user_id\n",
       "0  1000_0   112.95   2018-11-25     1000\n",
       "1  1000_1  1052.81   2018-09-07     1000\n",
       "2  1000_2  1197.26   2018-06-25     1000\n",
       "3  1000_3   550.27   2018-08-22     1000\n",
       "4  1000_4   302.56   2018-09-24     1000"
      ]
     },
     "execution_count": 12,
     "metadata": {},
     "output_type": "execute_result"
    }
   ],
   "source": [
    "internen = internet.drop(columns = ['Unnamed: 0'], axis=1, inplace=True) # удаление столбца\n",
    "internet.head() # получение первых 5 строк таблицы internen"
   ]
  },
  {
   "cell_type": "markdown",
   "metadata": {},
   "source": [
    "В таблицах `users`, `calls`, `messages`, `internet` в столбцах `call_date`, `session_date`, `message_date`, `reg_date` для дальнейшей возможности преобразования данных выполним замену типа данных на `datatime`. Для начала ещё раз убедимся в типе данных этих столбцов."
   ]
  },
  {
   "cell_type": "code",
   "execution_count": 13,
   "metadata": {},
   "outputs": [
    {
     "name": "stdout",
     "output_type": "stream",
     "text": [
      "object\n",
      "object\n",
      "object\n",
      "object\n"
     ]
    }
   ],
   "source": [
    "print(calls['call_date'].dtypes)\n",
    "print(internet['session_date'].dtypes)\n",
    "print(messages['message_date'].dtypes)\n",
    "print(users['reg_date'].dtypes)  # получение типа данных столбцов"
   ]
  },
  {
   "cell_type": "code",
   "execution_count": 14,
   "metadata": {},
   "outputs": [],
   "source": [
    "calls['call_date'] = pd.to_datetime(calls['call_date'], format='%Y-%m-%d')\n",
    "internet['session_date'] = pd.to_datetime(internet['session_date'], format='%Y-%m-%d') \n",
    "messages['message_date'] = pd.to_datetime(messages['message_date'], format='%Y-%m-%d') \n",
    "users['reg_date'] = pd.to_datetime(users['reg_date'], format='%Y-%m-%d') \n",
    "# преобразование типа данных с object на datetime64[ns]"
   ]
  },
  {
   "cell_type": "markdown",
   "metadata": {},
   "source": [
    "Убедимся, что тип данных изменился. Для этого выведем на экран повторно тип данных столбцов таблиц, в которых производили замену."
   ]
  },
  {
   "cell_type": "code",
   "execution_count": 15,
   "metadata": {},
   "outputs": [
    {
     "name": "stdout",
     "output_type": "stream",
     "text": [
      "datetime64[ns]\n",
      "datetime64[ns]\n",
      "datetime64[ns]\n",
      "datetime64[ns]\n"
     ]
    }
   ],
   "source": [
    "print(calls['call_date'].dtypes)\n",
    "print(internet['session_date'].dtypes)\n",
    "print(messages['message_date'].dtypes)\n",
    "print(users['reg_date'].dtypes) # получение типа данных столбцов"
   ]
  },
  {
   "cell_type": "markdown",
   "metadata": {},
   "source": [
    "В таблице `calls` в столбце `duration` встречается нулевая длительность звонка. Таким образом отражены пропущенные звонки, поэтому строки с такими данными удалять нет необходимости.\n",
    "\n",
    "Ещё выявлены пропуски в таблице `users` в столбце `churn_date` и они тоже имеют объяснение. Если значение пропущено, то тариф ещё действовал на момент выгрузки данных. Поэтому данные пропуски оставим без изменений.\n",
    "\n",
    "Также присутствуют пропуски в таблице `internet` в столбце `mb_used`. Они говорят о том, что абонент подключается к сессии, но данные не передает. По этой причине данные пропуски также оставим без корректировки."
   ]
  },
  {
   "cell_type": "code",
   "execution_count": 16,
   "metadata": {},
   "outputs": [
    {
     "data": {
      "image/png": "[encoded data removed]",
      "text/plain": [
       "<Figure size 1080x648 with 1 Axes>"
      ]
     },
     "metadata": {
      "needs_background": "light"
     },
     "output_type": "display_data"
    }
   ],
   "source": [
    "# отображение гистограммы столбца 'mb_used'\n",
    "internet['mb_used'].hist(bins=20, figsize=(15, 9))\n",
    "plt.xlabel('Интернет-трафик')\n",
    "plt.ylabel('Частота')\n",
    "plt.title('Гистрограмма использования интернет-трафика')\n",
    "plt.show()"
   ]
  },
  {
   "cell_type": "markdown",
   "metadata": {},
   "source": [
    "Проверим данные на наличие явных дубликатов в таблицах."
   ]
  },
  {
   "cell_type": "code",
   "execution_count": 17,
   "metadata": {},
   "outputs": [
    {
     "name": "stdout",
     "output_type": "stream",
     "text": [
      "Количество явных дубликатов в таблице calls: 0\n",
      "Количество явных дубликатов в таблице internet: 0\n",
      "Количество явных дубликатов в таблице messages: 0\n",
      "Количество явных дубликатов в таблице users: 0\n"
     ]
    }
   ],
   "source": [
    "print('Количество явных дубликатов в таблице calls:', calls.duplicated().sum())\n",
    "print('Количество явных дубликатов в таблице internet:', internet.duplicated().sum())\n",
    "print('Количество явных дубликатов в таблице messages:', messages.duplicated().sum())\n",
    "print('Количество явных дубликатов в таблице users:', users.duplicated().sum())  # подсчёт явных дубликатов"
   ]
  },
  {
   "cell_type": "markdown",
   "metadata": {},
   "source": [
    "В таблицах явные дубликаты отсутсвуют."
   ]
  },
  {
   "cell_type": "markdown",
   "metadata": {},
   "source": [
    "### Подготовка пользовательских данных (звонки, смс, объем трафика и т.д.)"
   ]
  },
  {
   "cell_type": "markdown",
   "metadata": {},
   "source": [
    "Посчитаем для каждого пользователя:\n",
    "* количество сделанных звонков и израсходованных минут разговора по месяцам;\n",
    "* количество отправленных сообщений по месяцам;\n",
    "* объем израсходованного интернет-трафика по месяцам;\n",
    "* помесячную выручку с каждого пользователя."
   ]
  },
  {
   "cell_type": "markdown",
   "metadata": {},
   "source": [
    "Учтем, что сотовый оператор \"Мегалайн\" всегда округляет секунды до минут. Каждый звонок округляется отдельно: даже если он длился всего 1 секунду, будет засчитан как 1 минута. \n"
   ]
  },
  {
   "cell_type": "code",
   "execution_count": 18,
   "metadata": {},
   "outputs": [],
   "source": [
    "calls['duration'] = np.ceil(calls['duration']) \n",
    "# округление длительности звонка до минут в большую сторону"
   ]
  },
  {
   "cell_type": "code",
   "execution_count": 19,
   "metadata": {},
   "outputs": [],
   "source": [
    "calls['month'] = calls['call_date'].dt.month # создание столбца 'month' в таблице calls"
   ]
  },
  {
   "cell_type": "code",
   "execution_count": 20,
   "metadata": {},
   "outputs": [],
   "source": [
    "calls_pivot = calls.pivot_table(index=['user_id', 'month'], values='duration', aggfunc=['count', 'sum']).reset_index()\n",
    "# формирование сводной таблицы calls_pivot, которая для каждого пользователя в зависимости от месяца\n",
    "# подсчитает количество сделанных звонков и израсходованных минут"
   ]
  },
  {
   "cell_type": "code",
   "execution_count": 21,
   "metadata": {},
   "outputs": [],
   "source": [
    "calls_pivot.columns = ['user_id', 'month', 'call_count', 'duration_sum'] # избавление от мультииндекса"
   ]
  },
  {
   "cell_type": "code",
   "execution_count": 22,
   "metadata": {},
   "outputs": [
    {
     "data": {
      "text/html": [
       "<div>\n",
       "<style scoped>\n",
       "    .dataframe tbody tr th:only-of-type {\n",
       "        vertical-align: middle;\n",
       "    }\n",
       "\n",
       "    .dataframe tbody tr th {\n",
       "        vertical-align: top;\n",
       "    }\n",
       "\n",
       "    .dataframe thead th {\n",
       "        text-align: right;\n",
       "    }\n",
       "</style>\n",
       "<table border=\"1\" class=\"dataframe\">\n",
       "  <thead>\n",
       "    <tr style=\"text-align: right;\">\n",
       "      <th></th>\n",
       "      <th>user_id</th>\n",
       "      <th>month</th>\n",
       "      <th>call_count</th>\n",
       "      <th>duration_sum</th>\n",
       "    </tr>\n",
       "  </thead>\n",
       "  <tbody>\n",
       "    <tr>\n",
       "      <th>0</th>\n",
       "      <td>1000</td>\n",
       "      <td>5</td>\n",
       "      <td>22</td>\n",
       "      <td>159.0</td>\n",
       "    </tr>\n",
       "    <tr>\n",
       "      <th>1</th>\n",
       "      <td>1000</td>\n",
       "      <td>6</td>\n",
       "      <td>43</td>\n",
       "      <td>172.0</td>\n",
       "    </tr>\n",
       "    <tr>\n",
       "      <th>2</th>\n",
       "      <td>1000</td>\n",
       "      <td>7</td>\n",
       "      <td>47</td>\n",
       "      <td>340.0</td>\n",
       "    </tr>\n",
       "    <tr>\n",
       "      <th>3</th>\n",
       "      <td>1000</td>\n",
       "      <td>8</td>\n",
       "      <td>52</td>\n",
       "      <td>408.0</td>\n",
       "    </tr>\n",
       "    <tr>\n",
       "      <th>4</th>\n",
       "      <td>1000</td>\n",
       "      <td>9</td>\n",
       "      <td>58</td>\n",
       "      <td>466.0</td>\n",
       "    </tr>\n",
       "    <tr>\n",
       "      <th>5</th>\n",
       "      <td>1000</td>\n",
       "      <td>10</td>\n",
       "      <td>57</td>\n",
       "      <td>350.0</td>\n",
       "    </tr>\n",
       "    <tr>\n",
       "      <th>6</th>\n",
       "      <td>1000</td>\n",
       "      <td>11</td>\n",
       "      <td>43</td>\n",
       "      <td>338.0</td>\n",
       "    </tr>\n",
       "    <tr>\n",
       "      <th>7</th>\n",
       "      <td>1000</td>\n",
       "      <td>12</td>\n",
       "      <td>46</td>\n",
       "      <td>333.0</td>\n",
       "    </tr>\n",
       "    <tr>\n",
       "      <th>8</th>\n",
       "      <td>1001</td>\n",
       "      <td>11</td>\n",
       "      <td>59</td>\n",
       "      <td>430.0</td>\n",
       "    </tr>\n",
       "    <tr>\n",
       "      <th>9</th>\n",
       "      <td>1001</td>\n",
       "      <td>12</td>\n",
       "      <td>63</td>\n",
       "      <td>414.0</td>\n",
       "    </tr>\n",
       "  </tbody>\n",
       "</table>\n",
       "</div>"
      ],
      "text/plain": [
       "   user_id  month  call_count  duration_sum\n",
       "0     1000      5          22         159.0\n",
       "1     1000      6          43         172.0\n",
       "2     1000      7          47         340.0\n",
       "3     1000      8          52         408.0\n",
       "4     1000      9          58         466.0\n",
       "5     1000     10          57         350.0\n",
       "6     1000     11          43         338.0\n",
       "7     1000     12          46         333.0\n",
       "8     1001     11          59         430.0\n",
       "9     1001     12          63         414.0"
      ]
     },
     "metadata": {},
     "output_type": "display_data"
    }
   ],
   "source": [
    "display(calls_pivot.head(10)) # получение первых 10 строк, сформированной таблицы calls_pivot"
   ]
  },
  {
   "cell_type": "code",
   "execution_count": 23,
   "metadata": {},
   "outputs": [],
   "source": [
    "messages['month'] = messages['message_date'].dt.month # создание столбца 'month' в таблице messages"
   ]
  },
  {
   "cell_type": "code",
   "execution_count": 24,
   "metadata": {},
   "outputs": [],
   "source": [
    "messages_pivot = messages.pivot_table(index=['user_id', 'month'], values='id', aggfunc='count').reset_index()\n",
    "# формирование сводной таблицы messages_pivot, которая для каждого пользователя  \n",
    "# подсчитает количество отправленных сообщений по месяцам"
   ]
  },
  {
   "cell_type": "code",
   "execution_count": 25,
   "metadata": {},
   "outputs": [],
   "source": [
    "messages_pivot.columns = ['user_id', 'month', 'message_count'] # переименование столбцов таблицы messages_pivot"
   ]
  },
  {
   "cell_type": "code",
   "execution_count": 26,
   "metadata": {},
   "outputs": [
    {
     "data": {
      "text/html": [
       "<div>\n",
       "<style scoped>\n",
       "    .dataframe tbody tr th:only-of-type {\n",
       "        vertical-align: middle;\n",
       "    }\n",
       "\n",
       "    .dataframe tbody tr th {\n",
       "        vertical-align: top;\n",
       "    }\n",
       "\n",
       "    .dataframe thead th {\n",
       "        text-align: right;\n",
       "    }\n",
       "</style>\n",
       "<table border=\"1\" class=\"dataframe\">\n",
       "  <thead>\n",
       "    <tr style=\"text-align: right;\">\n",
       "      <th></th>\n",
       "      <th>user_id</th>\n",
       "      <th>month</th>\n",
       "      <th>message_count</th>\n",
       "    </tr>\n",
       "  </thead>\n",
       "  <tbody>\n",
       "    <tr>\n",
       "      <th>0</th>\n",
       "      <td>1000</td>\n",
       "      <td>5</td>\n",
       "      <td>22</td>\n",
       "    </tr>\n",
       "    <tr>\n",
       "      <th>1</th>\n",
       "      <td>1000</td>\n",
       "      <td>6</td>\n",
       "      <td>60</td>\n",
       "    </tr>\n",
       "    <tr>\n",
       "      <th>2</th>\n",
       "      <td>1000</td>\n",
       "      <td>7</td>\n",
       "      <td>75</td>\n",
       "    </tr>\n",
       "    <tr>\n",
       "      <th>3</th>\n",
       "      <td>1000</td>\n",
       "      <td>8</td>\n",
       "      <td>81</td>\n",
       "    </tr>\n",
       "    <tr>\n",
       "      <th>4</th>\n",
       "      <td>1000</td>\n",
       "      <td>9</td>\n",
       "      <td>57</td>\n",
       "    </tr>\n",
       "    <tr>\n",
       "      <th>5</th>\n",
       "      <td>1000</td>\n",
       "      <td>10</td>\n",
       "      <td>73</td>\n",
       "    </tr>\n",
       "    <tr>\n",
       "      <th>6</th>\n",
       "      <td>1000</td>\n",
       "      <td>11</td>\n",
       "      <td>58</td>\n",
       "    </tr>\n",
       "    <tr>\n",
       "      <th>7</th>\n",
       "      <td>1000</td>\n",
       "      <td>12</td>\n",
       "      <td>70</td>\n",
       "    </tr>\n",
       "    <tr>\n",
       "      <th>8</th>\n",
       "      <td>1002</td>\n",
       "      <td>6</td>\n",
       "      <td>4</td>\n",
       "    </tr>\n",
       "    <tr>\n",
       "      <th>9</th>\n",
       "      <td>1002</td>\n",
       "      <td>7</td>\n",
       "      <td>11</td>\n",
       "    </tr>\n",
       "  </tbody>\n",
       "</table>\n",
       "</div>"
      ],
      "text/plain": [
       "   user_id  month  message_count\n",
       "0     1000      5             22\n",
       "1     1000      6             60\n",
       "2     1000      7             75\n",
       "3     1000      8             81\n",
       "4     1000      9             57\n",
       "5     1000     10             73\n",
       "6     1000     11             58\n",
       "7     1000     12             70\n",
       "8     1002      6              4\n",
       "9     1002      7             11"
      ]
     },
     "metadata": {},
     "output_type": "display_data"
    }
   ],
   "source": [
    "display(messages_pivot.head(10)) # получение первых 10 строк, сформированной таблицы messages_pivot"
   ]
  },
  {
   "cell_type": "code",
   "execution_count": 27,
   "metadata": {},
   "outputs": [],
   "source": [
    "internet['month'] = internet['session_date'].dt.month # создание столбца 'month' в таблице internet"
   ]
  },
  {
   "cell_type": "code",
   "execution_count": 28,
   "metadata": {},
   "outputs": [],
   "source": [
    "internet_pivot = internet.pivot_table(index=['user_id', 'month'], values='mb_used', aggfunc='sum').reset_index()\n",
    "# формирование сводной таблицы internet_pivot, которая для каждого пользователя  \n",
    "# подсчитает объем израсходованного интернет-трафика по месяцам"
   ]
  },
  {
   "cell_type": "markdown",
   "metadata": {},
   "source": [
    " Учтем, что сотовый оператор \"Мегалайн\" всегда округляет мегабайты до гигабайт. Для веб-трафика отдельные сессии не считаются. Вместо этого общая сумма за месяц округляется в бо́льшую сторону. Например, если абонент использует 1025 мегабайт в этом месяце, с него возьмут плату за 2 гигабайта."
   ]
  },
  {
   "cell_type": "code",
   "execution_count": 29,
   "metadata": {},
   "outputs": [],
   "source": [
    "internet_pivot['gb_used'] = np.ceil(internet_pivot['mb_used']/1024) \n",
    "# округление в большую сторону интернет-трафик за месяц до Гб с записью этой информации в столбец'gb_used' таблицы internet_pivot"
   ]
  },
  {
   "cell_type": "code",
   "execution_count": 30,
   "metadata": {},
   "outputs": [
    {
     "data": {
      "text/html": [
       "<div>\n",
       "<style scoped>\n",
       "    .dataframe tbody tr th:only-of-type {\n",
       "        vertical-align: middle;\n",
       "    }\n",
       "\n",
       "    .dataframe tbody tr th {\n",
       "        vertical-align: top;\n",
       "    }\n",
       "\n",
       "    .dataframe thead th {\n",
       "        text-align: right;\n",
       "    }\n",
       "</style>\n",
       "<table border=\"1\" class=\"dataframe\">\n",
       "  <thead>\n",
       "    <tr style=\"text-align: right;\">\n",
       "      <th></th>\n",
       "      <th>user_id</th>\n",
       "      <th>month</th>\n",
       "      <th>mb_used</th>\n",
       "      <th>gb_used</th>\n",
       "    </tr>\n",
       "  </thead>\n",
       "  <tbody>\n",
       "    <tr>\n",
       "      <th>0</th>\n",
       "      <td>1000</td>\n",
       "      <td>5</td>\n",
       "      <td>2253.49</td>\n",
       "      <td>3.0</td>\n",
       "    </tr>\n",
       "    <tr>\n",
       "      <th>1</th>\n",
       "      <td>1000</td>\n",
       "      <td>6</td>\n",
       "      <td>23233.77</td>\n",
       "      <td>23.0</td>\n",
       "    </tr>\n",
       "    <tr>\n",
       "      <th>2</th>\n",
       "      <td>1000</td>\n",
       "      <td>7</td>\n",
       "      <td>14003.64</td>\n",
       "      <td>14.0</td>\n",
       "    </tr>\n",
       "    <tr>\n",
       "      <th>3</th>\n",
       "      <td>1000</td>\n",
       "      <td>8</td>\n",
       "      <td>14055.93</td>\n",
       "      <td>14.0</td>\n",
       "    </tr>\n",
       "    <tr>\n",
       "      <th>4</th>\n",
       "      <td>1000</td>\n",
       "      <td>9</td>\n",
       "      <td>14568.91</td>\n",
       "      <td>15.0</td>\n",
       "    </tr>\n",
       "    <tr>\n",
       "      <th>5</th>\n",
       "      <td>1000</td>\n",
       "      <td>10</td>\n",
       "      <td>14702.49</td>\n",
       "      <td>15.0</td>\n",
       "    </tr>\n",
       "    <tr>\n",
       "      <th>6</th>\n",
       "      <td>1000</td>\n",
       "      <td>11</td>\n",
       "      <td>14756.47</td>\n",
       "      <td>15.0</td>\n",
       "    </tr>\n",
       "    <tr>\n",
       "      <th>7</th>\n",
       "      <td>1000</td>\n",
       "      <td>12</td>\n",
       "      <td>9817.61</td>\n",
       "      <td>10.0</td>\n",
       "    </tr>\n",
       "    <tr>\n",
       "      <th>8</th>\n",
       "      <td>1001</td>\n",
       "      <td>11</td>\n",
       "      <td>18429.34</td>\n",
       "      <td>18.0</td>\n",
       "    </tr>\n",
       "    <tr>\n",
       "      <th>9</th>\n",
       "      <td>1001</td>\n",
       "      <td>12</td>\n",
       "      <td>14036.66</td>\n",
       "      <td>14.0</td>\n",
       "    </tr>\n",
       "  </tbody>\n",
       "</table>\n",
       "</div>"
      ],
      "text/plain": [
       "   user_id  month   mb_used  gb_used\n",
       "0     1000      5   2253.49      3.0\n",
       "1     1000      6  23233.77     23.0\n",
       "2     1000      7  14003.64     14.0\n",
       "3     1000      8  14055.93     14.0\n",
       "4     1000      9  14568.91     15.0\n",
       "5     1000     10  14702.49     15.0\n",
       "6     1000     11  14756.47     15.0\n",
       "7     1000     12   9817.61     10.0\n",
       "8     1001     11  18429.34     18.0\n",
       "9     1001     12  14036.66     14.0"
      ]
     },
     "metadata": {},
     "output_type": "display_data"
    }
   ],
   "source": [
    "display(internet_pivot.head(10)) # получение первых 10 строк, сформированной таблицы internet_pivot"
   ]
  },
  {
   "cell_type": "code",
   "execution_count": 31,
   "metadata": {},
   "outputs": [],
   "source": [
    "df = calls_pivot.merge(messages_pivot, on=['user_id', 'month'], how='outer') \n",
    "# создание таблицы df с помощью объединения сводных таблиц calls_pivot и messages_pivot \n",
    "# по идентификатору пользователя и месяцу "
   ]
  },
  {
   "cell_type": "code",
   "execution_count": 32,
   "metadata": {},
   "outputs": [],
   "source": [
    "df = df.merge(internet_pivot, on=['user_id', 'month'], how='outer') \n",
    "# наполнение данными таблицы df за счет объединения,  \n",
    "# ранее полученной таблицы df и сводной таблицы internet_pivot по идентификатору пользователя и месяцу"
   ]
  },
  {
   "cell_type": "code",
   "execution_count": 33,
   "metadata": {},
   "outputs": [],
   "source": [
    "df = users.merge(df, on='user_id', how='left')\n",
    "# наполнение данными таблицы df за счет объединения,  \n",
    "# ранее полученной таблицы df и таблицы users по идентификатору пользователя"
   ]
  },
  {
   "cell_type": "code",
   "execution_count": 34,
   "metadata": {},
   "outputs": [],
   "source": [
    "df = df.rename(columns={'tariff':'tariff_name'}) # переименование столбца в таблице df "
   ]
  },
  {
   "cell_type": "code",
   "execution_count": 35,
   "metadata": {},
   "outputs": [],
   "source": [
    "df = df.merge(tariffs, on='tariff_name', how='left')\n",
    "# наполнение данными таблицы df за счет объединения,  \n",
    "# ранее полученной таблицы df и таблицы tariffs по названию тарифного плана"
   ]
  },
  {
   "cell_type": "code",
   "execution_count": 36,
   "metadata": {},
   "outputs": [
    {
     "data": {
      "text/html": [
       "<div>\n",
       "<style scoped>\n",
       "    .dataframe tbody tr th:only-of-type {\n",
       "        vertical-align: middle;\n",
       "    }\n",
       "\n",
       "    .dataframe tbody tr th {\n",
       "        vertical-align: top;\n",
       "    }\n",
       "\n",
       "    .dataframe thead th {\n",
       "        text-align: right;\n",
       "    }\n",
       "</style>\n",
       "<table border=\"1\" class=\"dataframe\">\n",
       "  <thead>\n",
       "    <tr style=\"text-align: right;\">\n",
       "      <th></th>\n",
       "      <th>user_id</th>\n",
       "      <th>age</th>\n",
       "      <th>churn_date</th>\n",
       "      <th>city</th>\n",
       "      <th>first_name</th>\n",
       "      <th>last_name</th>\n",
       "      <th>reg_date</th>\n",
       "      <th>tariff_name</th>\n",
       "      <th>month</th>\n",
       "      <th>call_count</th>\n",
       "      <th>...</th>\n",
       "      <th>message_count</th>\n",
       "      <th>mb_used</th>\n",
       "      <th>gb_used</th>\n",
       "      <th>messages_included</th>\n",
       "      <th>mb_per_month_included</th>\n",
       "      <th>minutes_included</th>\n",
       "      <th>rub_monthly_fee</th>\n",
       "      <th>rub_per_gb</th>\n",
       "      <th>rub_per_message</th>\n",
       "      <th>rub_per_minute</th>\n",
       "    </tr>\n",
       "  </thead>\n",
       "  <tbody>\n",
       "    <tr>\n",
       "      <th>0</th>\n",
       "      <td>1000</td>\n",
       "      <td>52</td>\n",
       "      <td>NaN</td>\n",
       "      <td>Краснодар</td>\n",
       "      <td>Рафаил</td>\n",
       "      <td>Верещагин</td>\n",
       "      <td>2018-05-25</td>\n",
       "      <td>ultra</td>\n",
       "      <td>5.0</td>\n",
       "      <td>22.0</td>\n",
       "      <td>...</td>\n",
       "      <td>22.0</td>\n",
       "      <td>2253.49</td>\n",
       "      <td>3.0</td>\n",
       "      <td>1000</td>\n",
       "      <td>30720</td>\n",
       "      <td>3000</td>\n",
       "      <td>1950</td>\n",
       "      <td>150</td>\n",
       "      <td>1</td>\n",
       "      <td>1</td>\n",
       "    </tr>\n",
       "    <tr>\n",
       "      <th>1</th>\n",
       "      <td>1000</td>\n",
       "      <td>52</td>\n",
       "      <td>NaN</td>\n",
       "      <td>Краснодар</td>\n",
       "      <td>Рафаил</td>\n",
       "      <td>Верещагин</td>\n",
       "      <td>2018-05-25</td>\n",
       "      <td>ultra</td>\n",
       "      <td>6.0</td>\n",
       "      <td>43.0</td>\n",
       "      <td>...</td>\n",
       "      <td>60.0</td>\n",
       "      <td>23233.77</td>\n",
       "      <td>23.0</td>\n",
       "      <td>1000</td>\n",
       "      <td>30720</td>\n",
       "      <td>3000</td>\n",
       "      <td>1950</td>\n",
       "      <td>150</td>\n",
       "      <td>1</td>\n",
       "      <td>1</td>\n",
       "    </tr>\n",
       "    <tr>\n",
       "      <th>2</th>\n",
       "      <td>1000</td>\n",
       "      <td>52</td>\n",
       "      <td>NaN</td>\n",
       "      <td>Краснодар</td>\n",
       "      <td>Рафаил</td>\n",
       "      <td>Верещагин</td>\n",
       "      <td>2018-05-25</td>\n",
       "      <td>ultra</td>\n",
       "      <td>7.0</td>\n",
       "      <td>47.0</td>\n",
       "      <td>...</td>\n",
       "      <td>75.0</td>\n",
       "      <td>14003.64</td>\n",
       "      <td>14.0</td>\n",
       "      <td>1000</td>\n",
       "      <td>30720</td>\n",
       "      <td>3000</td>\n",
       "      <td>1950</td>\n",
       "      <td>150</td>\n",
       "      <td>1</td>\n",
       "      <td>1</td>\n",
       "    </tr>\n",
       "    <tr>\n",
       "      <th>3</th>\n",
       "      <td>1000</td>\n",
       "      <td>52</td>\n",
       "      <td>NaN</td>\n",
       "      <td>Краснодар</td>\n",
       "      <td>Рафаил</td>\n",
       "      <td>Верещагин</td>\n",
       "      <td>2018-05-25</td>\n",
       "      <td>ultra</td>\n",
       "      <td>8.0</td>\n",
       "      <td>52.0</td>\n",
       "      <td>...</td>\n",
       "      <td>81.0</td>\n",
       "      <td>14055.93</td>\n",
       "      <td>14.0</td>\n",
       "      <td>1000</td>\n",
       "      <td>30720</td>\n",
       "      <td>3000</td>\n",
       "      <td>1950</td>\n",
       "      <td>150</td>\n",
       "      <td>1</td>\n",
       "      <td>1</td>\n",
       "    </tr>\n",
       "    <tr>\n",
       "      <th>4</th>\n",
       "      <td>1000</td>\n",
       "      <td>52</td>\n",
       "      <td>NaN</td>\n",
       "      <td>Краснодар</td>\n",
       "      <td>Рафаил</td>\n",
       "      <td>Верещагин</td>\n",
       "      <td>2018-05-25</td>\n",
       "      <td>ultra</td>\n",
       "      <td>9.0</td>\n",
       "      <td>58.0</td>\n",
       "      <td>...</td>\n",
       "      <td>57.0</td>\n",
       "      <td>14568.91</td>\n",
       "      <td>15.0</td>\n",
       "      <td>1000</td>\n",
       "      <td>30720</td>\n",
       "      <td>3000</td>\n",
       "      <td>1950</td>\n",
       "      <td>150</td>\n",
       "      <td>1</td>\n",
       "      <td>1</td>\n",
       "    </tr>\n",
       "    <tr>\n",
       "      <th>...</th>\n",
       "      <td>...</td>\n",
       "      <td>...</td>\n",
       "      <td>...</td>\n",
       "      <td>...</td>\n",
       "      <td>...</td>\n",
       "      <td>...</td>\n",
       "      <td>...</td>\n",
       "      <td>...</td>\n",
       "      <td>...</td>\n",
       "      <td>...</td>\n",
       "      <td>...</td>\n",
       "      <td>...</td>\n",
       "      <td>...</td>\n",
       "      <td>...</td>\n",
       "      <td>...</td>\n",
       "      <td>...</td>\n",
       "      <td>...</td>\n",
       "      <td>...</td>\n",
       "      <td>...</td>\n",
       "      <td>...</td>\n",
       "      <td>...</td>\n",
       "    </tr>\n",
       "    <tr>\n",
       "      <th>3211</th>\n",
       "      <td>1498</td>\n",
       "      <td>68</td>\n",
       "      <td>2018-10-25</td>\n",
       "      <td>Владикавказ</td>\n",
       "      <td>Всеволод</td>\n",
       "      <td>Акимчин</td>\n",
       "      <td>2018-07-19</td>\n",
       "      <td>smart</td>\n",
       "      <td>10.0</td>\n",
       "      <td>41.0</td>\n",
       "      <td>...</td>\n",
       "      <td>42.0</td>\n",
       "      <td>20579.36</td>\n",
       "      <td>21.0</td>\n",
       "      <td>50</td>\n",
       "      <td>15360</td>\n",
       "      <td>500</td>\n",
       "      <td>550</td>\n",
       "      <td>200</td>\n",
       "      <td>3</td>\n",
       "      <td>3</td>\n",
       "    </tr>\n",
       "    <tr>\n",
       "      <th>3212</th>\n",
       "      <td>1499</td>\n",
       "      <td>35</td>\n",
       "      <td>NaN</td>\n",
       "      <td>Пермь</td>\n",
       "      <td>Гектор</td>\n",
       "      <td>Корнилов</td>\n",
       "      <td>2018-09-27</td>\n",
       "      <td>smart</td>\n",
       "      <td>9.0</td>\n",
       "      <td>9.0</td>\n",
       "      <td>...</td>\n",
       "      <td>11.0</td>\n",
       "      <td>1845.75</td>\n",
       "      <td>2.0</td>\n",
       "      <td>50</td>\n",
       "      <td>15360</td>\n",
       "      <td>500</td>\n",
       "      <td>550</td>\n",
       "      <td>200</td>\n",
       "      <td>3</td>\n",
       "      <td>3</td>\n",
       "    </tr>\n",
       "    <tr>\n",
       "      <th>3213</th>\n",
       "      <td>1499</td>\n",
       "      <td>35</td>\n",
       "      <td>NaN</td>\n",
       "      <td>Пермь</td>\n",
       "      <td>Гектор</td>\n",
       "      <td>Корнилов</td>\n",
       "      <td>2018-09-27</td>\n",
       "      <td>smart</td>\n",
       "      <td>10.0</td>\n",
       "      <td>68.0</td>\n",
       "      <td>...</td>\n",
       "      <td>48.0</td>\n",
       "      <td>17788.51</td>\n",
       "      <td>18.0</td>\n",
       "      <td>50</td>\n",
       "      <td>15360</td>\n",
       "      <td>500</td>\n",
       "      <td>550</td>\n",
       "      <td>200</td>\n",
       "      <td>3</td>\n",
       "      <td>3</td>\n",
       "    </tr>\n",
       "    <tr>\n",
       "      <th>3214</th>\n",
       "      <td>1499</td>\n",
       "      <td>35</td>\n",
       "      <td>NaN</td>\n",
       "      <td>Пермь</td>\n",
       "      <td>Гектор</td>\n",
       "      <td>Корнилов</td>\n",
       "      <td>2018-09-27</td>\n",
       "      <td>smart</td>\n",
       "      <td>11.0</td>\n",
       "      <td>74.0</td>\n",
       "      <td>...</td>\n",
       "      <td>59.0</td>\n",
       "      <td>17963.31</td>\n",
       "      <td>18.0</td>\n",
       "      <td>50</td>\n",
       "      <td>15360</td>\n",
       "      <td>500</td>\n",
       "      <td>550</td>\n",
       "      <td>200</td>\n",
       "      <td>3</td>\n",
       "      <td>3</td>\n",
       "    </tr>\n",
       "    <tr>\n",
       "      <th>3215</th>\n",
       "      <td>1499</td>\n",
       "      <td>35</td>\n",
       "      <td>NaN</td>\n",
       "      <td>Пермь</td>\n",
       "      <td>Гектор</td>\n",
       "      <td>Корнилов</td>\n",
       "      <td>2018-09-27</td>\n",
       "      <td>smart</td>\n",
       "      <td>12.0</td>\n",
       "      <td>69.0</td>\n",
       "      <td>...</td>\n",
       "      <td>66.0</td>\n",
       "      <td>13055.58</td>\n",
       "      <td>13.0</td>\n",
       "      <td>50</td>\n",
       "      <td>15360</td>\n",
       "      <td>500</td>\n",
       "      <td>550</td>\n",
       "      <td>200</td>\n",
       "      <td>3</td>\n",
       "      <td>3</td>\n",
       "    </tr>\n",
       "  </tbody>\n",
       "</table>\n",
       "<p>3216 rows × 21 columns</p>\n",
       "</div>"
      ],
      "text/plain": [
       "      user_id  age  churn_date         city first_name  last_name   reg_date  \\\n",
       "0        1000   52         NaN    Краснодар     Рафаил  Верещагин 2018-05-25   \n",
       "1        1000   52         NaN    Краснодар     Рафаил  Верещагин 2018-05-25   \n",
       "2        1000   52         NaN    Краснодар     Рафаил  Верещагин 2018-05-25   \n",
       "3        1000   52         NaN    Краснодар     Рафаил  Верещагин 2018-05-25   \n",
       "4        1000   52         NaN    Краснодар     Рафаил  Верещагин 2018-05-25   \n",
       "...       ...  ...         ...          ...        ...        ...        ...   \n",
       "3211     1498   68  2018-10-25  Владикавказ   Всеволод    Акимчин 2018-07-19   \n",
       "3212     1499   35         NaN        Пермь     Гектор   Корнилов 2018-09-27   \n",
       "3213     1499   35         NaN        Пермь     Гектор   Корнилов 2018-09-27   \n",
       "3214     1499   35         NaN        Пермь     Гектор   Корнилов 2018-09-27   \n",
       "3215     1499   35         NaN        Пермь     Гектор   Корнилов 2018-09-27   \n",
       "\n",
       "     tariff_name  month  call_count  ...  message_count   mb_used  gb_used  \\\n",
       "0          ultra    5.0        22.0  ...           22.0   2253.49      3.0   \n",
       "1          ultra    6.0        43.0  ...           60.0  23233.77     23.0   \n",
       "2          ultra    7.0        47.0  ...           75.0  14003.64     14.0   \n",
       "3          ultra    8.0        52.0  ...           81.0  14055.93     14.0   \n",
       "4          ultra    9.0        58.0  ...           57.0  14568.91     15.0   \n",
       "...          ...    ...         ...  ...            ...       ...      ...   \n",
       "3211       smart   10.0        41.0  ...           42.0  20579.36     21.0   \n",
       "3212       smart    9.0         9.0  ...           11.0   1845.75      2.0   \n",
       "3213       smart   10.0        68.0  ...           48.0  17788.51     18.0   \n",
       "3214       smart   11.0        74.0  ...           59.0  17963.31     18.0   \n",
       "3215       smart   12.0        69.0  ...           66.0  13055.58     13.0   \n",
       "\n",
       "      messages_included  mb_per_month_included  minutes_included  \\\n",
       "0                  1000                  30720              3000   \n",
       "1                  1000                  30720              3000   \n",
       "2                  1000                  30720              3000   \n",
       "3                  1000                  30720              3000   \n",
       "4                  1000                  30720              3000   \n",
       "...                 ...                    ...               ...   \n",
       "3211                 50                  15360               500   \n",
       "3212                 50                  15360               500   \n",
       "3213                 50                  15360               500   \n",
       "3214                 50                  15360               500   \n",
       "3215                 50                  15360               500   \n",
       "\n",
       "      rub_monthly_fee  rub_per_gb  rub_per_message  rub_per_minute  \n",
       "0                1950         150                1               1  \n",
       "1                1950         150                1               1  \n",
       "2                1950         150                1               1  \n",
       "3                1950         150                1               1  \n",
       "4                1950         150                1               1  \n",
       "...               ...         ...              ...             ...  \n",
       "3211              550         200                3               3  \n",
       "3212              550         200                3               3  \n",
       "3213              550         200                3               3  \n",
       "3214              550         200                3               3  \n",
       "3215              550         200                3               3  \n",
       "\n",
       "[3216 rows x 21 columns]"
      ]
     },
     "metadata": {},
     "output_type": "display_data"
    }
   ],
   "source": [
    "display(df) # получение сформированной таблицы df"
   ]
  },
  {
   "cell_type": "markdown",
   "metadata": {},
   "source": [
    "Проверим полученную таблицу `df` на пропущенные значения. Для этого достаточно двух методов `pandas`:"
   ]
  },
  {
   "cell_type": "code",
   "execution_count": 37,
   "metadata": {
    "scrolled": true
   },
   "outputs": [
    {
     "data": {
      "text/plain": [
       "user_id                     0\n",
       "age                         0\n",
       "churn_date               3027\n",
       "city                        0\n",
       "first_name                  0\n",
       "last_name                   0\n",
       "reg_date                    0\n",
       "tariff_name                 0\n",
       "month                       2\n",
       "call_count                 42\n",
       "duration_sum               42\n",
       "message_count             499\n",
       "mb_used                    13\n",
       "gb_used                    13\n",
       "messages_included           0\n",
       "mb_per_month_included       0\n",
       "minutes_included            0\n",
       "rub_monthly_fee             0\n",
       "rub_per_gb                  0\n",
       "rub_per_message             0\n",
       "rub_per_minute              0\n",
       "dtype: int64"
      ]
     },
     "execution_count": 37,
     "metadata": {},
     "output_type": "execute_result"
    }
   ],
   "source": [
    "df.isna().sum() # подсчёт пропусков"
   ]
  },
  {
   "cell_type": "markdown",
   "metadata": {},
   "source": [
    "При внимательном рассмотрении были выявлены два пользователя, которые были подключены к тарифам \"Смарт\" и \"Ультра\" около недели и не пользовались в этот период сим-картами. По этой причине данные о количетве сделанных звонком, отправленных смс и объем израсходованного интернет-трафика по ним пустые. Данный объем данных не оказывает значительного влияние на наше исследование и составляет 0.06%. Поэтому с легкостью удалим их."
   ]
  },
  {
   "cell_type": "code",
   "execution_count": 38,
   "metadata": {},
   "outputs": [
    {
     "data": {
      "text/html": [
       "<div>\n",
       "<style scoped>\n",
       "    .dataframe tbody tr th:only-of-type {\n",
       "        vertical-align: middle;\n",
       "    }\n",
       "\n",
       "    .dataframe tbody tr th {\n",
       "        vertical-align: top;\n",
       "    }\n",
       "\n",
       "    .dataframe thead th {\n",
       "        text-align: right;\n",
       "    }\n",
       "</style>\n",
       "<table border=\"1\" class=\"dataframe\">\n",
       "  <thead>\n",
       "    <tr style=\"text-align: right;\">\n",
       "      <th></th>\n",
       "      <th>user_id</th>\n",
       "      <th>age</th>\n",
       "      <th>churn_date</th>\n",
       "      <th>city</th>\n",
       "      <th>first_name</th>\n",
       "      <th>last_name</th>\n",
       "      <th>reg_date</th>\n",
       "      <th>tariff_name</th>\n",
       "      <th>month</th>\n",
       "      <th>call_count</th>\n",
       "      <th>...</th>\n",
       "      <th>message_count</th>\n",
       "      <th>mb_used</th>\n",
       "      <th>gb_used</th>\n",
       "      <th>messages_included</th>\n",
       "      <th>mb_per_month_included</th>\n",
       "      <th>minutes_included</th>\n",
       "      <th>rub_monthly_fee</th>\n",
       "      <th>rub_per_gb</th>\n",
       "      <th>rub_per_message</th>\n",
       "      <th>rub_per_minute</th>\n",
       "    </tr>\n",
       "  </thead>\n",
       "  <tbody>\n",
       "    <tr>\n",
       "      <th>827</th>\n",
       "      <td>1128</td>\n",
       "      <td>51</td>\n",
       "      <td>2018-12-23</td>\n",
       "      <td>Волжский</td>\n",
       "      <td>Ксения</td>\n",
       "      <td>Агаева</td>\n",
       "      <td>2018-12-15</td>\n",
       "      <td>ultra</td>\n",
       "      <td>NaN</td>\n",
       "      <td>NaN</td>\n",
       "      <td>...</td>\n",
       "      <td>NaN</td>\n",
       "      <td>NaN</td>\n",
       "      <td>NaN</td>\n",
       "      <td>1000</td>\n",
       "      <td>30720</td>\n",
       "      <td>3000</td>\n",
       "      <td>1950</td>\n",
       "      <td>150</td>\n",
       "      <td>1</td>\n",
       "      <td>1</td>\n",
       "    </tr>\n",
       "    <tr>\n",
       "      <th>2335</th>\n",
       "      <td>1371</td>\n",
       "      <td>50</td>\n",
       "      <td>2018-12-30</td>\n",
       "      <td>Омск</td>\n",
       "      <td>Ириней</td>\n",
       "      <td>Трофимов</td>\n",
       "      <td>2018-12-25</td>\n",
       "      <td>smart</td>\n",
       "      <td>NaN</td>\n",
       "      <td>NaN</td>\n",
       "      <td>...</td>\n",
       "      <td>NaN</td>\n",
       "      <td>NaN</td>\n",
       "      <td>NaN</td>\n",
       "      <td>50</td>\n",
       "      <td>15360</td>\n",
       "      <td>500</td>\n",
       "      <td>550</td>\n",
       "      <td>200</td>\n",
       "      <td>3</td>\n",
       "      <td>3</td>\n",
       "    </tr>\n",
       "  </tbody>\n",
       "</table>\n",
       "<p>2 rows × 21 columns</p>\n",
       "</div>"
      ],
      "text/plain": [
       "      user_id  age  churn_date      city first_name last_name   reg_date  \\\n",
       "827      1128   51  2018-12-23  Волжский     Ксения    Агаева 2018-12-15   \n",
       "2335     1371   50  2018-12-30      Омск     Ириней  Трофимов 2018-12-25   \n",
       "\n",
       "     tariff_name  month  call_count  ...  message_count  mb_used  gb_used  \\\n",
       "827        ultra    NaN         NaN  ...            NaN      NaN      NaN   \n",
       "2335       smart    NaN         NaN  ...            NaN      NaN      NaN   \n",
       "\n",
       "      messages_included  mb_per_month_included  minutes_included  \\\n",
       "827                1000                  30720              3000   \n",
       "2335                 50                  15360               500   \n",
       "\n",
       "      rub_monthly_fee  rub_per_gb  rub_per_message  rub_per_minute  \n",
       "827              1950         150                1               1  \n",
       "2335              550         200                3               3  \n",
       "\n",
       "[2 rows x 21 columns]"
      ]
     },
     "execution_count": 38,
     "metadata": {},
     "output_type": "execute_result"
    }
   ],
   "source": [
    "df[df['month'].isna()] # отражение пропусков по столбцу 'month'"
   ]
  },
  {
   "cell_type": "code",
   "execution_count": 39,
   "metadata": {},
   "outputs": [],
   "source": [
    "df = df.dropna(subset=['month']).reset_index(drop=True) \n",
    "# удаление строк с пустыми значениями в столбце 'month' (с удалением старых индексов и формированием новых)"
   ]
  },
  {
   "cell_type": "markdown",
   "metadata": {},
   "source": [
    "Также в какие-то месяцы клиенты сотового оператора пользуются ни всем пакетом услуг. Например, пользуются интернетом, но при этом не отправляют смс и не совершают звонки или наоборот. По этой причине возникли пропуски в столбцах `call_count`, `duration_sum`, `message_count`, `mb_used` и `gb_used`. Заменим пропущенные значения в этих столбцах нулевыми значениями.\n",
    "\n",
    "Для этого создадим список `columns_to_replace`, переберем его элементы циклом `for` и для каждого столбца выполним замену пропущенных значений:"
   ]
  },
  {
   "cell_type": "code",
   "execution_count": 40,
   "metadata": {
    "scrolled": true
   },
   "outputs": [],
   "source": [
    "columns_to_replace = ['call_count', 'duration_sum', 'message_count', 'mb_used', 'gb_used'] \n",
    "for column in columns_to_replace:\n",
    "    df[column] = df[column].fillna(0)        \n",
    "# перебор названий столбцов в цикле и замена пропущенных значений на 0."
   ]
  },
  {
   "cell_type": "markdown",
   "metadata": {},
   "source": [
    "Убедимся, что в таблице произошла замена всех необходимых пропусков. Для этого ещё раз посчитаем пропущенные значения."
   ]
  },
  {
   "cell_type": "code",
   "execution_count": 41,
   "metadata": {
    "scrolled": true
   },
   "outputs": [
    {
     "data": {
      "text/plain": [
       "user_id                     0\n",
       "age                         0\n",
       "churn_date               3027\n",
       "city                        0\n",
       "first_name                  0\n",
       "last_name                   0\n",
       "reg_date                    0\n",
       "tariff_name                 0\n",
       "month                       0\n",
       "call_count                  0\n",
       "duration_sum                0\n",
       "message_count               0\n",
       "mb_used                     0\n",
       "gb_used                     0\n",
       "messages_included           0\n",
       "mb_per_month_included       0\n",
       "minutes_included            0\n",
       "rub_monthly_fee             0\n",
       "rub_per_gb                  0\n",
       "rub_per_message             0\n",
       "rub_per_minute              0\n",
       "dtype: int64"
      ]
     },
     "execution_count": 41,
     "metadata": {},
     "output_type": "execute_result"
    }
   ],
   "source": [
    "df.isna().sum() # подсчёт пропусков"
   ]
  },
  {
   "cell_type": "markdown",
   "metadata": {},
   "source": [
    "Для подсчета помесячной выручки с каждого пользователя напишем функцию `function_gain`. С помощью функции произведем вычитание бесплатного лимита из суммарного количества звонков, сообщений и интернет-трафика. Затем остаток умножим на значение из тарифного плана и прибавим абонентскую плату, соответствующую тарифному плану."
   ]
  },
  {
   "cell_type": "code",
   "execution_count": 42,
   "metadata": {},
   "outputs": [],
   "source": [
    "def function_gain(row):  \n",
    "    gain_call = 0     # выручка в месяц за звонки сверх пакета услуг, включенного в аб.плату\n",
    "    gain_message = 0  # выручка в месяц за смс сверх пакета услуг, включенного в аб.плату\n",
    "    gain_internet = 0 # выручка в месяц за интернет-трафик сверх пакета услуг, включенного в аб.плату\n",
    "    \n",
    "    difference_call = row['duration_sum'] - row['minutes_included'] \n",
    "    # длительность звонков сверх пакета услуг, включенного в аб.плату \n",
    "    difference_message = row['message_count'] - row['messages_included']\n",
    "    # количетсво сообщений сверх пакета услуг, включенного в аб.плату\n",
    "    difference_internet = row['gb_used'] - (row['mb_per_month_included']/1024)\n",
    "    # объем интернет-трафика в Гб сверх пакета услуг, включенного в аб.плату \n",
    "    \n",
    "    if difference_call > 0:\n",
    "        gain_call += difference_call * row['rub_per_minute']\n",
    "    if difference_message > 0:\n",
    "        gain_message += difference_message * row['rub_per_message']  \n",
    "    if difference_internet > 0:\n",
    "        gain_internet += difference_internet * row['rub_per_gb']     \n",
    "    return row['rub_monthly_fee'] + gain_call + gain_message + gain_internet # выручка в месяц"
   ]
  },
  {
   "cell_type": "markdown",
   "metadata": {},
   "source": [
    "Затем создадим новый столбец помесячной выручки с каждого пользователя `user_gain`, и в его ячейках запишем значения, возвращаемые функцией."
   ]
  },
  {
   "cell_type": "code",
   "execution_count": 43,
   "metadata": {},
   "outputs": [],
   "source": [
    "df['user_gain'] = df.apply(function_gain, axis=1) # создание нового столбца 'user_gain' "
   ]
  },
  {
   "cell_type": "markdown",
   "metadata": {},
   "source": [
    "Для наглядности и проверки результата выведем только те столбцы таблицы `df`, которые учавствовали в расчетах функции."
   ]
  },
  {
   "cell_type": "code",
   "execution_count": 44,
   "metadata": {},
   "outputs": [
    {
     "data": {
      "text/html": [
       "<div>\n",
       "<style scoped>\n",
       "    .dataframe tbody tr th:only-of-type {\n",
       "        vertical-align: middle;\n",
       "    }\n",
       "\n",
       "    .dataframe tbody tr th {\n",
       "        vertical-align: top;\n",
       "    }\n",
       "\n",
       "    .dataframe thead th {\n",
       "        text-align: right;\n",
       "    }\n",
       "</style>\n",
       "<table border=\"1\" class=\"dataframe\">\n",
       "  <thead>\n",
       "    <tr style=\"text-align: right;\">\n",
       "      <th></th>\n",
       "      <th>user_id</th>\n",
       "      <th>month</th>\n",
       "      <th>duration_sum</th>\n",
       "      <th>minutes_included</th>\n",
       "      <th>message_count</th>\n",
       "      <th>messages_included</th>\n",
       "      <th>gb_used</th>\n",
       "      <th>mb_per_month_included</th>\n",
       "      <th>rub_per_minute</th>\n",
       "      <th>rub_per_message</th>\n",
       "      <th>rub_per_gb</th>\n",
       "      <th>rub_monthly_fee</th>\n",
       "      <th>user_gain</th>\n",
       "    </tr>\n",
       "  </thead>\n",
       "  <tbody>\n",
       "    <tr>\n",
       "      <th>3204</th>\n",
       "      <td>1497</td>\n",
       "      <td>11.0</td>\n",
       "      <td>371.0</td>\n",
       "      <td>500</td>\n",
       "      <td>14.0</td>\n",
       "      <td>50</td>\n",
       "      <td>14.0</td>\n",
       "      <td>15360</td>\n",
       "      <td>3</td>\n",
       "      <td>3</td>\n",
       "      <td>200</td>\n",
       "      <td>550</td>\n",
       "      <td>550.0</td>\n",
       "    </tr>\n",
       "    <tr>\n",
       "      <th>3205</th>\n",
       "      <td>1497</td>\n",
       "      <td>12.0</td>\n",
       "      <td>545.0</td>\n",
       "      <td>500</td>\n",
       "      <td>17.0</td>\n",
       "      <td>50</td>\n",
       "      <td>20.0</td>\n",
       "      <td>15360</td>\n",
       "      <td>3</td>\n",
       "      <td>3</td>\n",
       "      <td>200</td>\n",
       "      <td>550</td>\n",
       "      <td>1685.0</td>\n",
       "    </tr>\n",
       "    <tr>\n",
       "      <th>3206</th>\n",
       "      <td>1498</td>\n",
       "      <td>7.0</td>\n",
       "      <td>175.0</td>\n",
       "      <td>500</td>\n",
       "      <td>20.0</td>\n",
       "      <td>50</td>\n",
       "      <td>8.0</td>\n",
       "      <td>15360</td>\n",
       "      <td>3</td>\n",
       "      <td>3</td>\n",
       "      <td>200</td>\n",
       "      <td>550</td>\n",
       "      <td>550.0</td>\n",
       "    </tr>\n",
       "    <tr>\n",
       "      <th>3207</th>\n",
       "      <td>1498</td>\n",
       "      <td>8.0</td>\n",
       "      <td>400.0</td>\n",
       "      <td>500</td>\n",
       "      <td>62.0</td>\n",
       "      <td>50</td>\n",
       "      <td>24.0</td>\n",
       "      <td>15360</td>\n",
       "      <td>3</td>\n",
       "      <td>3</td>\n",
       "      <td>200</td>\n",
       "      <td>550</td>\n",
       "      <td>2386.0</td>\n",
       "    </tr>\n",
       "    <tr>\n",
       "      <th>3208</th>\n",
       "      <td>1498</td>\n",
       "      <td>9.0</td>\n",
       "      <td>471.0</td>\n",
       "      <td>500</td>\n",
       "      <td>44.0</td>\n",
       "      <td>50</td>\n",
       "      <td>22.0</td>\n",
       "      <td>15360</td>\n",
       "      <td>3</td>\n",
       "      <td>3</td>\n",
       "      <td>200</td>\n",
       "      <td>550</td>\n",
       "      <td>1950.0</td>\n",
       "    </tr>\n",
       "    <tr>\n",
       "      <th>3209</th>\n",
       "      <td>1498</td>\n",
       "      <td>10.0</td>\n",
       "      <td>247.0</td>\n",
       "      <td>500</td>\n",
       "      <td>42.0</td>\n",
       "      <td>50</td>\n",
       "      <td>21.0</td>\n",
       "      <td>15360</td>\n",
       "      <td>3</td>\n",
       "      <td>3</td>\n",
       "      <td>200</td>\n",
       "      <td>550</td>\n",
       "      <td>1750.0</td>\n",
       "    </tr>\n",
       "    <tr>\n",
       "      <th>3210</th>\n",
       "      <td>1499</td>\n",
       "      <td>9.0</td>\n",
       "      <td>70.0</td>\n",
       "      <td>500</td>\n",
       "      <td>11.0</td>\n",
       "      <td>50</td>\n",
       "      <td>2.0</td>\n",
       "      <td>15360</td>\n",
       "      <td>3</td>\n",
       "      <td>3</td>\n",
       "      <td>200</td>\n",
       "      <td>550</td>\n",
       "      <td>550.0</td>\n",
       "    </tr>\n",
       "    <tr>\n",
       "      <th>3211</th>\n",
       "      <td>1499</td>\n",
       "      <td>10.0</td>\n",
       "      <td>449.0</td>\n",
       "      <td>500</td>\n",
       "      <td>48.0</td>\n",
       "      <td>50</td>\n",
       "      <td>18.0</td>\n",
       "      <td>15360</td>\n",
       "      <td>3</td>\n",
       "      <td>3</td>\n",
       "      <td>200</td>\n",
       "      <td>550</td>\n",
       "      <td>1150.0</td>\n",
       "    </tr>\n",
       "    <tr>\n",
       "      <th>3212</th>\n",
       "      <td>1499</td>\n",
       "      <td>11.0</td>\n",
       "      <td>612.0</td>\n",
       "      <td>500</td>\n",
       "      <td>59.0</td>\n",
       "      <td>50</td>\n",
       "      <td>18.0</td>\n",
       "      <td>15360</td>\n",
       "      <td>3</td>\n",
       "      <td>3</td>\n",
       "      <td>200</td>\n",
       "      <td>550</td>\n",
       "      <td>1513.0</td>\n",
       "    </tr>\n",
       "    <tr>\n",
       "      <th>3213</th>\n",
       "      <td>1499</td>\n",
       "      <td>12.0</td>\n",
       "      <td>492.0</td>\n",
       "      <td>500</td>\n",
       "      <td>66.0</td>\n",
       "      <td>50</td>\n",
       "      <td>13.0</td>\n",
       "      <td>15360</td>\n",
       "      <td>3</td>\n",
       "      <td>3</td>\n",
       "      <td>200</td>\n",
       "      <td>550</td>\n",
       "      <td>598.0</td>\n",
       "    </tr>\n",
       "  </tbody>\n",
       "</table>\n",
       "</div>"
      ],
      "text/plain": [
       "      user_id  month  duration_sum  minutes_included  message_count  \\\n",
       "3204     1497   11.0         371.0               500           14.0   \n",
       "3205     1497   12.0         545.0               500           17.0   \n",
       "3206     1498    7.0         175.0               500           20.0   \n",
       "3207     1498    8.0         400.0               500           62.0   \n",
       "3208     1498    9.0         471.0               500           44.0   \n",
       "3209     1498   10.0         247.0               500           42.0   \n",
       "3210     1499    9.0          70.0               500           11.0   \n",
       "3211     1499   10.0         449.0               500           48.0   \n",
       "3212     1499   11.0         612.0               500           59.0   \n",
       "3213     1499   12.0         492.0               500           66.0   \n",
       "\n",
       "      messages_included  gb_used  mb_per_month_included  rub_per_minute  \\\n",
       "3204                 50     14.0                  15360               3   \n",
       "3205                 50     20.0                  15360               3   \n",
       "3206                 50      8.0                  15360               3   \n",
       "3207                 50     24.0                  15360               3   \n",
       "3208                 50     22.0                  15360               3   \n",
       "3209                 50     21.0                  15360               3   \n",
       "3210                 50      2.0                  15360               3   \n",
       "3211                 50     18.0                  15360               3   \n",
       "3212                 50     18.0                  15360               3   \n",
       "3213                 50     13.0                  15360               3   \n",
       "\n",
       "      rub_per_message  rub_per_gb  rub_monthly_fee  user_gain  \n",
       "3204                3         200              550      550.0  \n",
       "3205                3         200              550     1685.0  \n",
       "3206                3         200              550      550.0  \n",
       "3207                3         200              550     2386.0  \n",
       "3208                3         200              550     1950.0  \n",
       "3209                3         200              550     1750.0  \n",
       "3210                3         200              550      550.0  \n",
       "3211                3         200              550     1150.0  \n",
       "3212                3         200              550     1513.0  \n",
       "3213                3         200              550      598.0  "
      ]
     },
     "execution_count": 44,
     "metadata": {},
     "output_type": "execute_result"
    }
   ],
   "source": [
    "df[['user_id', 'month', 'duration_sum', 'minutes_included', 'message_count', 'messages_included', \n",
    "    'gb_used', 'mb_per_month_included', 'rub_per_minute', 'rub_per_message', 'rub_per_gb', 'rub_monthly_fee', \n",
    "    'user_gain']].tail(10) # получение последних 10 строк таблицы df"
   ]
  },
  {
   "cell_type": "markdown",
   "metadata": {},
   "source": [
    "Для нашего анализа в дробной части нет необходимости, но после объединения таблиц появились столбцы со значением `float`. Для удобства и экономии памяти произведем замену типа данных с вещественного на целостный в столбцах `month`, `call_count`, `duration_sum`, `message_count`, `gb_used`, `mb_used` и `user_gain`. Для начала убедимся в типе данных столбцов."
   ]
  },
  {
   "cell_type": "code",
   "execution_count": 45,
   "metadata": {
    "scrolled": true
   },
   "outputs": [
    {
     "data": {
      "text/plain": [
       "user_id                           int64\n",
       "age                               int64\n",
       "churn_date                       object\n",
       "city                             object\n",
       "first_name                       object\n",
       "last_name                        object\n",
       "reg_date                 datetime64[ns]\n",
       "tariff_name                      object\n",
       "month                           float64\n",
       "call_count                      float64\n",
       "duration_sum                    float64\n",
       "message_count                   float64\n",
       "mb_used                         float64\n",
       "gb_used                         float64\n",
       "messages_included                 int64\n",
       "mb_per_month_included             int64\n",
       "minutes_included                  int64\n",
       "rub_monthly_fee                   int64\n",
       "rub_per_gb                        int64\n",
       "rub_per_message                   int64\n",
       "rub_per_minute                    int64\n",
       "user_gain                       float64\n",
       "dtype: object"
      ]
     },
     "execution_count": 45,
     "metadata": {},
     "output_type": "execute_result"
    }
   ],
   "source": [
    "df.dtypes # получение типа данных столбцов"
   ]
  },
  {
   "cell_type": "markdown",
   "metadata": {},
   "source": [
    "Произведём замену типа данных `float64` на `int64` с помощью метода `astype` и цикла `for` сразу в нескольких столбцах."
   ]
  },
  {
   "cell_type": "code",
   "execution_count": 46,
   "metadata": {},
   "outputs": [],
   "source": [
    "roster = ['month', 'call_count', 'duration_sum', 'message_count', 'gb_used', 'mb_used', 'user_gain']\n",
    "for value in roster:\n",
    "    df[value] = df[value].astype('int') \n",
    "# перевод значений в столбцах из списка roster в тип данных int"
   ]
  },
  {
   "cell_type": "markdown",
   "metadata": {},
   "source": [
    "Убедимся, что тип данных изменился. Для этого выведем на экран повторно тип данных столбцов, в которых производили замену."
   ]
  },
  {
   "cell_type": "code",
   "execution_count": 47,
   "metadata": {},
   "outputs": [
    {
     "data": {
      "text/plain": [
       "month            int64\n",
       "call_count       int64\n",
       "duration_sum     int64\n",
       "message_count    int64\n",
       "gb_used          int64\n",
       "mb_used          int64\n",
       "user_gain        int64\n",
       "dtype: object"
      ]
     },
     "execution_count": 47,
     "metadata": {},
     "output_type": "execute_result"
    }
   ],
   "source": [
    "df[['month', 'call_count', 'duration_sum', 'message_count', 'gb_used', 'mb_used', 'user_gain']].dtypes \n",
    "# получение типа данных столбцов"
   ]
  },
  {
   "cell_type": "markdown",
   "metadata": {},
   "source": [
    "### Вывод"
   ]
  },
  {
   "cell_type": "markdown",
   "metadata": {},
   "source": [
    "1. В таблице `internet` удалили столбец  `Unnamed: 0`;\n",
    "\n",
    "\n",
    "2. Произвели замену типа данных:\n",
    "* в столбцах `call_date`, `session_date`, `message_date`, `reg_date` с `object` на `datetime64[ns]`;\n",
    "* в столбцах `month`, `call_count`, `duration_sum`, `message_count`, `gb_used`, `mb_used` и `user_gain` с `float64` на `int64`.\n",
    "\n",
    "3. Убедились в отсутсвии дубликатов.\n",
    "\n",
    "\n",
    "4. Объединили все пять таблиц в одну таблицу `df`.\n",
    "\n",
    "\n",
    "5. Посчитали для каждого пользователя:\n",
    "* количество сделанных звонков и израсходованных минут разговора по месяцам, сохранили данные в столбцы `call_count` и `duration_sum`;\n",
    "* количество отправленных сообщений по месяцам, сохранили данные в столбец `message_count`;\n",
    "* объем израсходованного интернет-трафика по месяцам, сохранили данные в столбец `mb_used`;\n",
    "* помесячную выручку с каждого пользователя, сохранили данные в столбец `user_gain`."
   ]
  },
  {
   "cell_type": "markdown",
   "metadata": {},
   "source": [
    "## Анализ и описание данных"
   ]
  },
  {
   "cell_type": "markdown",
   "metadata": {},
   "source": [
    "Опишем поведение клиентов оператора, исходя из полученных данных. Изучим 4 параметра: длительность разговоров, количество смс, объем интернет-трафика и ежемесячная выручка в зависимости от тарифного плана. Для этого выгрузим числовое описание данных столбцов с помощью метода `describe()` для каждого тарифного плана."
   ]
  },
  {
   "cell_type": "code",
   "execution_count": 48,
   "metadata": {
    "scrolled": false
   },
   "outputs": [
    {
     "data": {
      "text/html": [
       "<div>\n",
       "<style scoped>\n",
       "    .dataframe tbody tr th:only-of-type {\n",
       "        vertical-align: middle;\n",
       "    }\n",
       "\n",
       "    .dataframe tbody tr th {\n",
       "        vertical-align: top;\n",
       "    }\n",
       "\n",
       "    .dataframe thead th {\n",
       "        text-align: right;\n",
       "    }\n",
       "</style>\n",
       "<table border=\"1\" class=\"dataframe\">\n",
       "  <thead>\n",
       "    <tr style=\"text-align: right;\">\n",
       "      <th></th>\n",
       "      <th>duration_sum</th>\n",
       "      <th>message_count</th>\n",
       "      <th>gb_used</th>\n",
       "      <th>user_gain</th>\n",
       "    </tr>\n",
       "  </thead>\n",
       "  <tbody>\n",
       "    <tr>\n",
       "      <th>count</th>\n",
       "      <td>2229.000000</td>\n",
       "      <td>2229.000000</td>\n",
       "      <td>2229.000000</td>\n",
       "      <td>2229.000000</td>\n",
       "    </tr>\n",
       "    <tr>\n",
       "      <th>mean</th>\n",
       "      <td>417.934948</td>\n",
       "      <td>33.384029</td>\n",
       "      <td>16.328847</td>\n",
       "      <td>1289.973531</td>\n",
       "    </tr>\n",
       "    <tr>\n",
       "      <th>std</th>\n",
       "      <td>190.313730</td>\n",
       "      <td>28.227876</td>\n",
       "      <td>5.747061</td>\n",
       "      <td>818.404367</td>\n",
       "    </tr>\n",
       "    <tr>\n",
       "      <th>min</th>\n",
       "      <td>0.000000</td>\n",
       "      <td>0.000000</td>\n",
       "      <td>0.000000</td>\n",
       "      <td>550.000000</td>\n",
       "    </tr>\n",
       "    <tr>\n",
       "      <th>25%</th>\n",
       "      <td>282.000000</td>\n",
       "      <td>10.000000</td>\n",
       "      <td>13.000000</td>\n",
       "      <td>550.000000</td>\n",
       "    </tr>\n",
       "    <tr>\n",
       "      <th>50%</th>\n",
       "      <td>422.000000</td>\n",
       "      <td>28.000000</td>\n",
       "      <td>17.000000</td>\n",
       "      <td>1023.000000</td>\n",
       "    </tr>\n",
       "    <tr>\n",
       "      <th>75%</th>\n",
       "      <td>545.000000</td>\n",
       "      <td>51.000000</td>\n",
       "      <td>20.000000</td>\n",
       "      <td>1750.000000</td>\n",
       "    </tr>\n",
       "    <tr>\n",
       "      <th>max</th>\n",
       "      <td>1435.000000</td>\n",
       "      <td>143.000000</td>\n",
       "      <td>38.000000</td>\n",
       "      <td>6770.000000</td>\n",
       "    </tr>\n",
       "  </tbody>\n",
       "</table>\n",
       "</div>"
      ],
      "text/plain": [
       "       duration_sum  message_count      gb_used    user_gain\n",
       "count   2229.000000    2229.000000  2229.000000  2229.000000\n",
       "mean     417.934948      33.384029    16.328847  1289.973531\n",
       "std      190.313730      28.227876     5.747061   818.404367\n",
       "min        0.000000       0.000000     0.000000   550.000000\n",
       "25%      282.000000      10.000000    13.000000   550.000000\n",
       "50%      422.000000      28.000000    17.000000  1023.000000\n",
       "75%      545.000000      51.000000    20.000000  1750.000000\n",
       "max     1435.000000     143.000000    38.000000  6770.000000"
      ]
     },
     "execution_count": 48,
     "metadata": {},
     "output_type": "execute_result"
    }
   ],
   "source": [
    "df[df['tariff_name'] == 'smart'].loc[:,['duration_sum', 'message_count', 'gb_used', 'user_gain']].describe()\n",
    "# выгрузка числового описания данных стобцов для тарифа smart"
   ]
  },
  {
   "cell_type": "markdown",
   "metadata": {},
   "source": [
    "Для тарифа Smart из описания видно:\n",
    "\n",
    "* во всех четырех столбцах присутсвуют значительные отклонения от среднего значения, что свидетельствует о наличии редких и сильно выбивающихся значениях. Особенно ярко выражено это в столбцах `duration_sum`, `user_gain` и `message_count`. Данный факт также подтверждают минимальные и максимальные значения;\n",
    "* в столбцах `message_count` и `user_gain` среднее значение больше медианы, что может говорить о длином хвосте в распределении с высокими значениями или нескольких очень больших значениях;\n",
    "* в столбцах `duration_sum` и `gb_used` среднее значение меньше медианы, что может говорить о концентрации большинства значений в первой половине диапазона и незначительном количестве сильно выбивающихся значений."
   ]
  },
  {
   "cell_type": "code",
   "execution_count": 49,
   "metadata": {},
   "outputs": [
    {
     "data": {
      "text/html": [
       "<div>\n",
       "<style scoped>\n",
       "    .dataframe tbody tr th:only-of-type {\n",
       "        vertical-align: middle;\n",
       "    }\n",
       "\n",
       "    .dataframe tbody tr th {\n",
       "        vertical-align: top;\n",
       "    }\n",
       "\n",
       "    .dataframe thead th {\n",
       "        text-align: right;\n",
       "    }\n",
       "</style>\n",
       "<table border=\"1\" class=\"dataframe\">\n",
       "  <thead>\n",
       "    <tr style=\"text-align: right;\">\n",
       "      <th></th>\n",
       "      <th>duration_sum</th>\n",
       "      <th>message_count</th>\n",
       "      <th>gb_used</th>\n",
       "      <th>user_gain</th>\n",
       "    </tr>\n",
       "  </thead>\n",
       "  <tbody>\n",
       "    <tr>\n",
       "      <th>count</th>\n",
       "      <td>985.000000</td>\n",
       "      <td>985.000000</td>\n",
       "      <td>985.000000</td>\n",
       "      <td>985.000000</td>\n",
       "    </tr>\n",
       "    <tr>\n",
       "      <th>mean</th>\n",
       "      <td>526.623350</td>\n",
       "      <td>49.363452</td>\n",
       "      <td>19.494416</td>\n",
       "      <td>2070.152284</td>\n",
       "    </tr>\n",
       "    <tr>\n",
       "      <th>std</th>\n",
       "      <td>317.606098</td>\n",
       "      <td>47.804457</td>\n",
       "      <td>9.853511</td>\n",
       "      <td>376.187114</td>\n",
       "    </tr>\n",
       "    <tr>\n",
       "      <th>min</th>\n",
       "      <td>0.000000</td>\n",
       "      <td>0.000000</td>\n",
       "      <td>0.000000</td>\n",
       "      <td>1950.000000</td>\n",
       "    </tr>\n",
       "    <tr>\n",
       "      <th>25%</th>\n",
       "      <td>284.000000</td>\n",
       "      <td>6.000000</td>\n",
       "      <td>12.000000</td>\n",
       "      <td>1950.000000</td>\n",
       "    </tr>\n",
       "    <tr>\n",
       "      <th>50%</th>\n",
       "      <td>518.000000</td>\n",
       "      <td>38.000000</td>\n",
       "      <td>19.000000</td>\n",
       "      <td>1950.000000</td>\n",
       "    </tr>\n",
       "    <tr>\n",
       "      <th>75%</th>\n",
       "      <td>752.000000</td>\n",
       "      <td>79.000000</td>\n",
       "      <td>27.000000</td>\n",
       "      <td>1950.000000</td>\n",
       "    </tr>\n",
       "    <tr>\n",
       "      <th>max</th>\n",
       "      <td>1673.000000</td>\n",
       "      <td>224.000000</td>\n",
       "      <td>49.000000</td>\n",
       "      <td>4800.000000</td>\n",
       "    </tr>\n",
       "  </tbody>\n",
       "</table>\n",
       "</div>"
      ],
      "text/plain": [
       "       duration_sum  message_count     gb_used    user_gain\n",
       "count    985.000000     985.000000  985.000000   985.000000\n",
       "mean     526.623350      49.363452   19.494416  2070.152284\n",
       "std      317.606098      47.804457    9.853511   376.187114\n",
       "min        0.000000       0.000000    0.000000  1950.000000\n",
       "25%      284.000000       6.000000   12.000000  1950.000000\n",
       "50%      518.000000      38.000000   19.000000  1950.000000\n",
       "75%      752.000000      79.000000   27.000000  1950.000000\n",
       "max     1673.000000     224.000000   49.000000  4800.000000"
      ]
     },
     "execution_count": 49,
     "metadata": {},
     "output_type": "execute_result"
    }
   ],
   "source": [
    "df[df['tariff_name'] == 'ultra'].loc[:,['duration_sum', 'message_count', 'gb_used', 'user_gain']].describe()\n",
    "# выгрузка числового описания данных стобцов для тарифа ultra"
   ]
  },
  {
   "cell_type": "markdown",
   "metadata": {},
   "source": [
    "Для тарифа Ultra из описания видно, что во всех четырех столбцах:\n",
    "\n",
    "*  как и в тарифе Smart, присутсвуют значительные отклонения от среднего значения, что свидетельствует о наличии редких и сильно выбивающихся значениях. Особенно ярко выражено это в столбцах `duration_sum`, `user_gain` и `message_count`. Данный факт также подтверждают минимальные и максимальные значения;\n",
    "* среднее значение больше медианы, что может говорить о длином хвосте в распределении с высокими значениями или нескольких очень больших значениях. Наиболее сильно это видно в столбцах `duration_sum`, `user_gain` и `gb_used`."
   ]
  },
  {
   "cell_type": "markdown",
   "metadata": {},
   "source": [
    "Медианные и средние значения не всегда информативны, поэтому построим гистограммы данных столбцов и посмотрим на распределение значений на полученных графиках."
   ]
  },
  {
   "cell_type": "markdown",
   "metadata": {},
   "source": [
    "Визуализируем сколько минут разговора, смс-сообщений и какой объем интернет-трафика в Гб требуется пользователям каждого тарифного плана в месяц. \n",
    "\n",
    "Для этого:\n",
    "1. создадим два списка:\n",
    "* `data_1` - сохраним в нём наименование столбцов из таблицы `df`: длительность звонков `duration_sum`, количество сообщений `message_count`, объем интернет-трафика в ГБ `gb_used` и помесячную выручку с каждого пользователя `user_gain`;\n",
    "* `data_2` - сохраним в нём наименование функций, которые хотим применить и их описание.\n",
    "2. напишем цикл, в котором:\n",
    "* сформируем сводную таблицу с разбивкой по месяцам и тарифным планам, применим для каждого столбца из `data_1` каждую функцию из `data_2`;\n",
    "* отразим полученные результаты на графиках."
   ]
  },
  {
   "cell_type": "code",
   "execution_count": 50,
   "metadata": {
    "scrolled": false
   },
   "outputs": [
    {
     "data": {
      "image/png": "[encoded data removed]",
      "text/plain": [
       "<Figure size 1080x432 with 1 Axes>"
      ]
     },
     "metadata": {
      "needs_background": "light"
     },
     "output_type": "display_data"
    },
    {
     "data": {
      "image/png": "[encoded data removed]",
      "text/plain": [
       "<Figure size 1080x432 with 1 Axes>"
      ]
     },
     "metadata": {
      "needs_background": "light"
     },
     "output_type": "display_data"
    },
    {
     "data": {
      "image/png": "[encoded data removed]",
      "text/plain": [
       "<Figure size 1080x432 with 1 Axes>"
      ]
     },
     "metadata": {
      "needs_background": "light"
     },
     "output_type": "display_data"
    },
    {
     "data": {
      "image/png": "[encoded data removed]",
      "text/plain": [
       "<Figure size 1080x432 with 1 Axes>"
      ]
     },
     "metadata": {
      "needs_background": "light"
     },
     "output_type": "display_data"
    },
    {
     "data": {
      "image/png": "[encoded data removed]",
      "text/plain": [
       "<Figure size 1080x432 with 1 Axes>"
      ]
     },
     "metadata": {
      "needs_background": "light"
     },
     "output_type": "display_data"
    },
    {
     "data": {
      "image/png": "[encoded data removed]",
      "text/plain": [
       "<Figure size 1080x432 with 1 Axes>"
      ]
     },
     "metadata": {
      "needs_background": "light"
     },
     "output_type": "display_data"
    },
    {
     "data": {
      "image/png": "[encoded data removed]",
      "text/plain": [
       "<Figure size 1080x432 with 1 Axes>"
      ]
     },
     "metadata": {
      "needs_background": "light"
     },
     "output_type": "display_data"
    },
    {
     "data": {
      "image/png": "[encoded data removed]",
      "text/plain": [
       "<Figure size 1080x432 with 1 Axes>"
      ]
     },
     "metadata": {
      "needs_background": "light"
     },
     "output_type": "display_data"
    },
    {
     "data": {
      "image/png": "[encoded data removed]",
      "text/plain": [
       "<Figure size 1080x432 with 1 Axes>"
      ]
     },
     "metadata": {
      "needs_background": "light"
     },
     "output_type": "display_data"
    },
    {
     "data": {
      "image/png": "[encoded data removed]",
      "text/plain": [
       "<Figure size 1080x432 with 1 Axes>"
      ]
     },
     "metadata": {
      "needs_background": "light"
     },
     "output_type": "display_data"
    },
    {
     "data": {
      "image/png": "[encoded data removed]",
      "text/plain": [
       "<Figure size 1080x432 with 1 Axes>"
      ]
     },
     "metadata": {
      "needs_background": "light"
     },
     "output_type": "display_data"
    },
    {
     "data": {
      "image/png": "[encoded data removed]",
      "text/plain": [
       "<Figure size 1080x432 with 1 Axes>"
      ]
     },
     "metadata": {
      "needs_background": "light"
     },
     "output_type": "display_data"
    },
    {
     "data": {
      "image/png": "[encoded data removed]",
      "text/plain": [
       "<Figure size 1080x432 with 1 Axes>"
      ]
     },
     "metadata": {
      "needs_background": "light"
     },
     "output_type": "display_data"
    },
    {
     "data": {
      "image/png": "[encoded data removed]",
      "text/plain": [
       "<Figure size 1080x432 with 1 Axes>"
      ]
     },
     "metadata": {
      "needs_background": "light"
     },
     "output_type": "display_data"
    },
    {
     "data": {
      "image/png": "[encoded data removed]",
      "text/plain": [
       "<Figure size 1080x432 with 1 Axes>"
      ]
     },
     "metadata": {
      "needs_background": "light"
     },
     "output_type": "display_data"
    },
    {
     "data": {
      "image/png": "[encoded data removed]",
      "text/plain": [
       "<Figure size 1080x432 with 1 Axes>"
      ]
     },
     "metadata": {
      "needs_background": "light"
     },
     "output_type": "display_data"
    }
   ],
   "source": [
    "data_1 = ['duration_sum', 'message_count', 'gb_used', 'user_gain'] # формирование списка наименования столбцов\n",
    "data_2 = [['sum', 'Сумма'], \n",
    "          ['mean', 'Среднее значение'], \n",
    "          ['var', 'Дисперсия'], \n",
    "          ['std', 'Стандартное отклонение']] # формирование списка функций и их описание\n",
    "for i in range(len(data_1)):\n",
    "    for j in range(len(data_2)):\n",
    "        (\n",
    "            df.pivot_table(index='month', columns='tariff_name', values=data_1[i], aggfunc=data_2[j][0])\n",
    "            .plot.bar(figsize=(15,6), grid=True, title=f'{data_2[j][1]} {data_1[i]} абонентов в месяц на тарифах Smart и Ultra')\n",
    "        )\n",
    "plt.show() # цикл для отображения 12 столбчатых диаграмм"
   ]
  },
  {
   "cell_type": "markdown",
   "metadata": {},
   "source": [
    "На графиках с суммой для всех 4 показателей видно, что каждый месяц происходит увеличение используемого объема звонков, смс, интернет-трафика и выручки на каждом тарифном плане. При этом на ТП Smart рост длительности звонков, интернет-трафика и выручки наиболее ярковыраженный в отличие от ТП Ultra.\n",
    "\n",
    "На графике отчетливо видно, что на ТП Smart в первом квартале происходит значительный, линейный рост длительности звонков (почти по 100 минут ежемесячно, начиная с 204). Затем с апреля происходит небольшой спад и стабилизация длительности в районе 370 минут, а потом наблюдается стабильный ежемесячный, незначительный прирост и скачек в декабре почти до 480 минут. Также на графике с дисперсией и стандартным отклонением видна однородность поведения абонентов на данном тарифе за исключением января, где дисперсия меньше. Соответственно, в этот период общее поведение абонентов ближе к среднему. На ТП Ultra наблюдается волноообразный характер поведения абонентов в части длительности разговоров. При этом в первом квартале наблюдается наиболее явное колебание. В феврале происходит спад длительности разговоров, более чем на 100 минут относительно января, и совпадение с длительностью ТП Smart. В марте виден скачок почти на 200 минут, а начиная с апреля колебания уже имеют менее выраженный характер. Самый большой рост в декабре, аналогично ТП Smart, но только почти до 600 минут. Согласно графикам с дисперсией и стандартным отклонением отчетливо видна неоднородность поведения абонентов, особенно в марте и декабре. \n",
    "\n",
    "На ТП Smart на графике со средним значением количества сообщений по аналогии с длительностью звонков  в первом квартале происходит линейный рост (около 10 смс в месяц). Затем с апреля спад и с мая стабилизация количества в районе 34 смс и незначительный прирост в декабре до 36. Также поведения абонентов однородно за исключением января, где дисперсия меньше. На ТП Ultra, как и с разговорами, отправка сообщений из месяца в месяц имеет волнообразный характер с наиболее явным колебанием в первом квартале. В феврале отправляли смс даже меньше, чем на ТП Smart. А в марте и апреле почти столько же. С мая начался почти планомерный рост. Самые большие значения были достигнуты в октябре и декабре (в районе 60 сообщений). Дисперсия и стандартное отклонение говорят о сильной неоднородности, т.е. какие-то абоненты вообще не пользуются данным сервисом, а кто-то отправляет сообщения больше среднего. В январе и феврале неоднородность значительно меньше, чем в остальные месяцы. \n",
    "\n",
    "На ТП Smart на графике со средним значением потребления интернет-трафика по аналогии с длительностью звонков и смс в первом квартале происходит линейный рост (~ на 3 Гб в месяц). Затем с апреля легкий спад, а с мая стабилизация объема в районе 16 Гб и небольшой ежемесячный рост с самым большим значением в декабре в районе 18 Гб. Дисперсия и стандартное отклонение начиная с января идет на спад, поведение абонентов однородно. На ТП Ultra, как и с разговорами и смс, интернет-трафик используется волнообразно с наиболее явным колебанием в первом квартале. В феврале объем потребления совпадает с ТП Smart на отметке 12 Гб. В марте виден скачек на 6 Гб. А начиная с апреля колебания уже имеют менее выраженный характер. Самый большой рост в декабре, аналогично ТП Smart на 22 Гб. Характер поведения абонентов неоднородный, но в январе значение дисперсии и стандартного отклонения самые маленькие, почти совпадают с ТП Smart. \n",
    "\n",
    "На ТП Smart на графике со средним значением выручки аналогично предыдущим показателям в первом квартале происходит линейный рост (~ на 200 руб. в месяц).\n"
   ]
  },
  {
   "cell_type": "markdown",
   "metadata": {},
   "source": [
    "Затем с апреля легкий спад, а с мая стабилизация выручки в районе 1200 рублей и небольшой ежемесячный рост с самым большим значением в декабре в районе 1550 рублей.При этом дисперсия и стандартное отклонение в январе, феврале и апреле самые маленькие, а в остальные месяцы выручка имеет однородный характер за исключением резкого скачка в декабре. На ТП Ultra согласно графику со средним значением выручка сильно не меняется. Она колеблится в районе размера абоненской платы 1950 рублей с более явным ростом в декабре, примерно до 2200 рублей. Дисперсия и стандартного отклонения находятся на низких значениях и имеют волнообразный характер, а в январе вообще равны 0. Данный факт говорит о том, что абоненты в январе не платили больше размера абонентской платы, а в остальные месяцы разброс выплат незначительный. "
   ]
  },
  {
   "cell_type": "markdown",
   "metadata": {},
   "source": [
    "### Вывод"
   ]
  },
  {
   "cell_type": "markdown",
   "metadata": {},
   "source": [
    "* На обоих тарифных планах происходит ежемесячное увеличение используемого объема звонков, смс, интернет-трафика и выручки. При этом на ТП Smart прирост длительности звонков, интернет-трафика и выручки происходит быстрее. \n",
    "\n",
    "* Пакет услуг, который включен в абонентскую плату в среднем достаточен в части совершения звонков, отправления сообщений для абонентов обоих тарифов, а для интернет-трафика только для абонентов ТП Ultra.\n",
    "\n",
    "* Абоненты ТП Smart чаще всего не укладываются в пакет интернет-трафика, включенный в абонентскую плату и доплачивают ежемесячно в среднем за 1-3 ГБ. \n",
    "\n",
    "* На ТП Smart характер поведения большинства абонентов из месяца в месяц не меняется в отличие от ТП Ultra.\n",
    "\n",
    "* В первом квартале на обоих тарифах наблюдается нетипичные колебания и значительный рост пользования услугами относительно других периодов, что может говорить о проведении рекламных акций в этот период. А декабрский рост связан с предпраздничной суетой и потребностью решить все оставшиеся вопросы до конца года.\n",
    "\n",
    "* На обоих тарифных планах отправка сообщений не пользуется большим спросом.\n",
    "\n",
    "* На ТП Ultra средняя, ежемесячная выручка в основном стабильна и находится в районе размера абонентской платы 1950 рублей. На ТП Smart динамика роста ежемесячной выручки прослеживается более явно. Особенно это хорошо видно в первом квартале когда предположительно проводились рекламные акции. Также суммарная выручка больше, чем на ТП Ultra. "
   ]
  },
  {
   "cell_type": "markdown",
   "metadata": {},
   "source": [
    "## Проверка гипотез и пояснения"
   ]
  },
  {
   "cell_type": "markdown",
   "metadata": {},
   "source": [
    "Проведем проверку двух гипотез:\n",
    "1. средняя выручка пользователей тарифов \"Smart\" и \"Ultra\" различаются;\n",
    "2. средняя выручка пользователей из Москвы отличается от выручки пользователей из других регионов."
   ]
  },
  {
   "cell_type": "markdown",
   "metadata": {},
   "source": [
    "###  Проверка гипотезы: средняя выручка пользователей тарифов Smart и Ultra различаются\n"
   ]
  },
  {
   "cell_type": "markdown",
   "metadata": {},
   "source": [
    "Сформулируем нулевую и альтернативную гипотезы:\n",
    "* H₀ - средняя выручка пользователей тарифов Smart и Ultra равны;\n",
    "* H₁ - средняя выручка пользователей тарифов Smart и Ultra различаются. "
   ]
  },
  {
   "cell_type": "code",
   "execution_count": 51,
   "metadata": {
    "scrolled": true
   },
   "outputs": [
    {
     "data": {
      "text/plain": [
       "8       1150\n",
       "9        550\n",
       "10       550\n",
       "11      1150\n",
       "12      1550\n",
       "        ... \n",
       "3209    1750\n",
       "3210     550\n",
       "3211    1150\n",
       "3212    1513\n",
       "3213     598\n",
       "Name: user_gain, Length: 2229, dtype: int64"
      ]
     },
     "metadata": {},
     "output_type": "display_data"
    }
   ],
   "source": [
    "df_smart = df[df['tariff_name'] == 'smart']['user_gain'] # выборка средней выручки ТП Smart\n",
    "display(df_smart) # получение выборки df_smart"
   ]
  },
  {
   "cell_type": "code",
   "execution_count": 52,
   "metadata": {},
   "outputs": [
    {
     "data": {
      "text/plain": [
       "0       1950\n",
       "1       1950\n",
       "2       1950\n",
       "3       1950\n",
       "4       1950\n",
       "        ... \n",
       "3186    1950\n",
       "3187    2400\n",
       "3188    1950\n",
       "3189    3300\n",
       "3190    1950\n",
       "Name: user_gain, Length: 985, dtype: int64"
      ]
     },
     "metadata": {},
     "output_type": "display_data"
    }
   ],
   "source": [
    "df_ultra = df[df['tariff_name'] == 'ultra']['user_gain'] # выборка средней выручки ТП Ultra\n",
    "display(df_ultra) # получение выборки df_ultra"
   ]
  },
  {
   "cell_type": "code",
   "execution_count": 53,
   "metadata": {},
   "outputs": [
    {
     "name": "stdout",
     "output_type": "stream",
     "text": [
      "p-значение:  4.2606313931076085e-250\n",
      "Средняя выручка пользователей тарифов Smart: 1290\n",
      "Средняя выручка пользователей тарифов Ultra: 2070\n",
      "Отвергаем нулевую гипотезу: средняя выручка пользователей тарифов Smart и Ultra различаются\n"
     ]
    }
   ],
   "source": [
    "alpha = .05 # критический уровень статистической значимости\n",
    "            # если p-value окажется меньше него - отвегнем гипотезу\n",
    "\n",
    "results = st.ttest_ind(\n",
    "    df_smart,\n",
    "    df_ultra,\n",
    "    equal_var = False) # проверка гипотезы о равенстве средней выручки ТП Smart и ТП Ultra\n",
    "                       # выборки разного размера, поэтому equal_var = False\n",
    "\n",
    "print('p-значение: ', results.pvalue) # вывод на экран получившегося p-значения\n",
    "print('Средняя выручка пользователей тарифов Smart:', round(df_smart.mean())) \n",
    "print('Средняя выручка пользователей тарифов Ultra:', round(df_ultra.mean()))\n",
    "if results.pvalue < alpha: # сравнение получившегося p-значения с заданным уровнем статистической значимости\n",
    "    print(\"Отвергаем нулевую гипотезу: средняя выручка пользователей тарифов Smart и Ultra различаются\")\n",
    "else:\n",
    "    print(\"Не получилось отвергнуть нулевую гипотезу: средняя выручка пользователей тарифов Smart и Ultra равны\") \n",
    "    "
   ]
  },
  {
   "cell_type": "markdown",
   "metadata": {},
   "source": [
    "Полученное значение p-value говорит о том, что вероятность равенства выручек составляет 4х10^(-250). То есть это число очень близкое к нулю. Это явно слишком маленькая вероятность, чтобы делать вывод о равенстве."
   ]
  },
  {
   "cell_type": "markdown",
   "metadata": {},
   "source": [
    "### Проверка гипотезы: средняя выручка пользователей из Москвы отличается от выручки пользователей из других регионов"
   ]
  },
  {
   "cell_type": "markdown",
   "metadata": {},
   "source": [
    "Сформулируем нулевую и альтернативную гипотезы:\n",
    "* H₀ - средняя выручка пользователей из Москвы равна выручке пользователей из других регионов;\n",
    "* H₁ - средняя выручка пользователей из Москвы отличается от выручки пользователей из других регионов. "
   ]
  },
  {
   "cell_type": "code",
   "execution_count": 54,
   "metadata": {},
   "outputs": [
    {
     "data": {
      "text/plain": [
       "8       1150\n",
       "9        550\n",
       "17      1950\n",
       "18      1950\n",
       "19      1950\n",
       "        ... \n",
       "3158     950\n",
       "3159     550\n",
       "3160    1750\n",
       "3161    1350\n",
       "3162     750\n",
       "Name: user_gain, Length: 611, dtype: int64"
      ]
     },
     "metadata": {},
     "output_type": "display_data"
    }
   ],
   "source": [
    "df_moscow = df[df['city'] == 'Москва']['user_gain']  # выборка средней выручки абонентов Москвы\n",
    "display(df_moscow) # получение выборки df_others"
   ]
  },
  {
   "cell_type": "code",
   "execution_count": 55,
   "metadata": {},
   "outputs": [
    {
     "data": {
      "text/plain": [
       "0       1950\n",
       "1       1950\n",
       "2       1950\n",
       "3       1950\n",
       "4       1950\n",
       "        ... \n",
       "3209    1750\n",
       "3210     550\n",
       "3211    1150\n",
       "3212    1513\n",
       "3213     598\n",
       "Name: user_gain, Length: 2603, dtype: int64"
      ]
     },
     "metadata": {},
     "output_type": "display_data"
    }
   ],
   "source": [
    "df_others = df[df['city'] != 'Москва']['user_gain'] # выборка средней выручки абонентов других регионов\n",
    "display(df_others) # получение выборки df_others"
   ]
  },
  {
   "cell_type": "code",
   "execution_count": 56,
   "metadata": {
    "scrolled": true
   },
   "outputs": [
    {
     "name": "stdout",
     "output_type": "stream",
     "text": [
      "p-значение:  0.5257376663729298\n",
      "Средняя выручка пользователей из Москвы: 1547\n",
      "Средняя выручка пользователей из других регионов: 1525\n",
      "Не получилось отвергнуть нулевую гипотезу: средняя выручка пользователей из Москвы равна выручке пользователей из других регионов.\n"
     ]
    }
   ],
   "source": [
    "alpha = .05 # критический уровень статистической значимости\n",
    "            # если p-value окажется меньше него - отвегнем гипотезу\n",
    "\n",
    "results = st.ttest_ind(\n",
    "    df_moscow,\n",
    "    df_others,\n",
    "    equal_var = False) # проверка гипотезы о равенстве средней выручки пользователей Москвы с другими регионами\n",
    "                       # выборки разного размера, поэтому equal_var = False\n",
    "\n",
    "print('p-значение: ', results.pvalue) # вывод на экран получившегося p-значения\n",
    "print('Средняя выручка пользователей из Москвы:', round(df_moscow.mean()))\n",
    "print('Средняя выручка пользователей из других регионов:', round(df_others.mean()))                                        \n",
    "\n",
    "if results.pvalue < alpha: # сравнение получившегося p-значения с заданным уровнем статистической значимости\n",
    "    print(\"Отвергаем нулевую гипотезу: средняя выручка пользователей из Москвы отличается от выручки пользователей из других регионов.\")\n",
    "else:\n",
    "    print(\"Не получилось отвергнуть нулевую гипотезу: средняя выручка пользователей из Москвы равна выручке пользователей из других регионов.\") "
   ]
  },
  {
   "cell_type": "markdown",
   "metadata": {},
   "source": [
    "Полученное значение p-value говорит о том, что вероятность равенства выручек составляет 53%. Это явно слишком большая вероятность, чтобы делать вывод об отличии выручек абонентов Москвы относительно других регионов."
   ]
  },
  {
   "cell_type": "markdown",
   "metadata": {},
   "source": [
    "### Вывод"
   ]
  },
  {
   "cell_type": "markdown",
   "metadata": {},
   "source": [
    "- Средняя выручка пользователей тарифов Smart и Ultra различаются.\n",
    "- Средняя выручка пользователей из Москвы равна выручке пользователей из других регионов."
   ]
  },
  {
   "cell_type": "markdown",
   "metadata": {},
   "source": [
    "## Общий вывод"
   ]
  },
  {
   "cell_type": "markdown",
   "metadata": {},
   "source": [
    "В период проведения исследования в исходных данных были внесены следующие изменения:\n",
    "\n",
    "1. В таблице `internet` удалили столбец  `Unnamed: 0`;\n",
    "\n",
    "2. Произвели замену типа данных:\n",
    "* в столбцах `call_date`, `session_date`, `message_date`, `reg_date` с `object` на `datetime64[ns]`;\n",
    "* в столбцах `month`, `call_count`, `duration_sum`, `message_count`, `gb_used`, `mb_used` и `user_gain` с `float64` на `int64`.\n",
    "\n",
    "3. Убедились в отсутсвии дубликатов.\n",
    "\n",
    "4. Объединили все пять таблиц в одну таблицу `df`.\n",
    "\n",
    "5. Посчитали для каждого пользователя:\n",
    "* количество сделанных звонков и израсходованных минут разговора по месяцам, сохранили данные в столбцы `call_count` и `duration_sum`;\n",
    "* количество отправленных сообщений по месяцам, сохранили данные в столбец `message_count`;\n",
    "* объем израсходованного интернет-трафика по месяцам, сохранили данные в столбец `mb_used`;\n",
    "* помесячную выручку с каждого пользователя, сохранили данные в столбец `user_gain`.\n",
    "\n",
    "Было исследовано поведение абонентов тарифов Smart и Ultra, сделаны выводы:\n",
    "\n",
    "* На обоих тарифных планах происходит ежемесячное увеличение используемого объема звонков, смс, интернет-трафика и выручки. При этом на ТП Smart прирост длительности звонков, интернет-трафика и выручки происходит быстрее.\n",
    "\n",
    "* Пакет услуг, которые включен в абонентскую плату в среднем достаточен в части совершения звонков, отправления сообщений для абонентов обоих тарифов, а для интернет-трафика только для абонентов ТП Ultra. В результате абоненты ТП Ultra в основном оплачивают сотовую связь только в размере абонентской платы - 1950 рублей в месяц.\n",
    "\n",
    "* Абоненты ТП Smart чаще всего не укладываются в пакет интернет-трафика, включенный в абонентскую плату и доплачивают ежемесячно в среднем за 1-3 ГБ. Т.е. помимо абонентской платы 550 рублей, оплачивают дополнительный интернет по 200 рублей за 1Гб. \n",
    "\n",
    "* На ТП Smart характер поведения большинства абонентов из месяца в месяц не меняется в отличие от ТП Ultra.\n",
    "\n",
    "* В первом квартале на обоих тарифах наблюдается нетипичные колебания и значительный рост пользования услугами относительно других периодов, что может говорить о проведении рекламных акций в этот период. А декабрский рост связан с предпраздничной суетой и потребностью решить все оставшиеся вопросы до конца года. Причем на ТП Smart в первом квартале все 3 месяца происходит линейный рост, а на ТП Ultra волнообразный, т.е. в феврале явное снижение активности, в марте опять рост.\n",
    "\n",
    "* На обоих тарифных планах отправка сообщений не пользуется большим спросом.\n",
    "\n",
    "* На ТП Ultra средняя, ежемесячная выручка в основном стабильна и находится в районе размера абонентской платы 1950 рублей. На ТП Smart динамика роста ежемесячной выручки прослеживается более явно. Особенно это хорошо видно в первом квартале когда предположительно проводились рекламные акции. Также суммарная выручка больше, чем на ТП Ultra. \n",
    "\n",
    "Были проверены две гипотезы и получены результаты:\n",
    "\n",
    "* Средняя выручка пользователей тарифов Smart и Ultra различаются.\n",
    "* Средняя выручка пользователей из Москвы равна выручке пользователей из других регионов.\n",
    "\n",
    "Из вышесказанного можно сделать вывод, что ТП Smart лучше для проведение рекламных компаний."
   ]
  }
 ],
 "metadata": {
  "ExecuteTimeLog": [
   {
    "duration": 95,
    "start_time": "2022-03-09T05:42:02.518Z"
   },
   {
    "duration": 84,
    "start_time": "2022-03-09T06:12:14.178Z"
   },
   {
    "duration": 123,
    "start_time": "2022-03-09T06:22:50.479Z"
   },
   {
    "duration": 135,
    "start_time": "2022-03-09T06:26:22.249Z"
   },
   {
    "duration": 90,
    "start_time": "2022-03-09T06:27:40.404Z"
   },
   {
    "duration": 787,
    "start_time": "2022-03-09T06:55:10.506Z"
   },
   {
    "duration": 133,
    "start_time": "2022-03-09T07:04:33.407Z"
   },
   {
    "duration": 137,
    "start_time": "2022-03-09T07:05:17.337Z"
   },
   {
    "duration": 3,
    "start_time": "2022-03-09T07:14:04.286Z"
   },
   {
    "duration": 149,
    "start_time": "2022-03-09T07:14:04.291Z"
   },
   {
    "duration": 125,
    "start_time": "2022-03-09T07:14:04.442Z"
   },
   {
    "duration": 88,
    "start_time": "2022-03-09T07:14:04.569Z"
   },
   {
    "duration": 22,
    "start_time": "2022-03-09T07:14:04.659Z"
   },
   {
    "duration": 27,
    "start_time": "2022-03-09T07:14:04.682Z"
   },
   {
    "duration": 158,
    "start_time": "2022-03-09T07:18:17.704Z"
   },
   {
    "duration": 133,
    "start_time": "2022-03-09T07:18:53.745Z"
   },
   {
    "duration": 2255,
    "start_time": "2022-03-09T08:03:13.051Z"
   },
   {
    "duration": 19,
    "start_time": "2022-03-09T08:07:19.694Z"
   },
   {
    "duration": 128,
    "start_time": "2022-03-09T08:21:52.764Z"
   },
   {
    "duration": 191,
    "start_time": "2022-03-09T08:22:05.132Z"
   },
   {
    "duration": 4,
    "start_time": "2022-03-09T08:31:02.330Z"
   },
   {
    "duration": 19,
    "start_time": "2022-03-09T08:33:47.840Z"
   },
   {
    "duration": 234,
    "start_time": "2022-03-09T08:33:56.466Z"
   },
   {
    "duration": 3,
    "start_time": "2022-03-09T08:34:12.738Z"
   },
   {
    "duration": 137,
    "start_time": "2022-03-09T08:34:12.747Z"
   },
   {
    "duration": 18,
    "start_time": "2022-03-09T08:34:12.885Z"
   },
   {
    "duration": 113,
    "start_time": "2022-03-09T08:34:12.905Z"
   },
   {
    "duration": 15,
    "start_time": "2022-03-09T08:34:13.020Z"
   },
   {
    "duration": 81,
    "start_time": "2022-03-09T08:34:13.036Z"
   },
   {
    "duration": 21,
    "start_time": "2022-03-09T08:34:13.118Z"
   },
   {
    "duration": 58,
    "start_time": "2022-03-09T08:34:13.140Z"
   },
   {
    "duration": 2,
    "start_time": "2022-03-09T08:42:13.258Z"
   },
   {
    "duration": 160,
    "start_time": "2022-03-09T08:42:13.264Z"
   },
   {
    "duration": 115,
    "start_time": "2022-03-09T08:42:13.426Z"
   },
   {
    "duration": 83,
    "start_time": "2022-03-09T08:42:13.542Z"
   },
   {
    "duration": 21,
    "start_time": "2022-03-09T08:42:13.627Z"
   },
   {
    "duration": 41,
    "start_time": "2022-03-09T08:42:13.650Z"
   },
   {
    "duration": 44,
    "start_time": "2022-03-09T08:42:13.693Z"
   },
   {
    "duration": 15,
    "start_time": "2022-03-09T08:50:35.952Z"
   },
   {
    "duration": 2,
    "start_time": "2022-03-09T09:03:28.414Z"
   },
   {
    "duration": 150,
    "start_time": "2022-03-09T09:03:28.418Z"
   },
   {
    "duration": 18,
    "start_time": "2022-03-09T09:03:28.569Z"
   },
   {
    "duration": 118,
    "start_time": "2022-03-09T09:03:28.588Z"
   },
   {
    "duration": 15,
    "start_time": "2022-03-09T09:03:28.708Z"
   },
   {
    "duration": 84,
    "start_time": "2022-03-09T09:03:28.724Z"
   },
   {
    "duration": 20,
    "start_time": "2022-03-09T09:03:28.810Z"
   },
   {
    "duration": 47,
    "start_time": "2022-03-09T09:03:28.831Z"
   },
   {
    "duration": 17,
    "start_time": "2022-03-09T09:03:28.880Z"
   },
   {
    "duration": 4,
    "start_time": "2022-03-09T09:04:43.982Z"
   },
   {
    "duration": 13,
    "start_time": "2022-03-09T09:10:18.772Z"
   },
   {
    "duration": 4,
    "start_time": "2022-03-09T09:13:57.884Z"
   },
   {
    "duration": 4,
    "start_time": "2022-03-09T09:15:38.507Z"
   },
   {
    "duration": 6,
    "start_time": "2022-03-09T09:16:26.954Z"
   },
   {
    "duration": 4,
    "start_time": "2022-03-09T09:24:55.766Z"
   },
   {
    "duration": 33,
    "start_time": "2022-03-09T09:26:53.243Z"
   },
   {
    "duration": 6,
    "start_time": "2022-03-09T09:29:42.043Z"
   },
   {
    "duration": 4,
    "start_time": "2022-03-09T09:48:12.824Z"
   },
   {
    "duration": 118,
    "start_time": "2022-03-09T09:49:16.509Z"
   },
   {
    "duration": 127,
    "start_time": "2022-03-09T09:49:44.623Z"
   },
   {
    "duration": 938,
    "start_time": "2022-03-10T03:28:59.740Z"
   },
   {
    "duration": 227,
    "start_time": "2022-03-10T03:29:00.681Z"
   },
   {
    "duration": 27,
    "start_time": "2022-03-10T03:29:00.911Z"
   },
   {
    "duration": 194,
    "start_time": "2022-03-10T03:29:00.941Z"
   },
   {
    "duration": 36,
    "start_time": "2022-03-10T03:29:01.137Z"
   },
   {
    "duration": 127,
    "start_time": "2022-03-10T03:29:01.176Z"
   },
   {
    "duration": 19,
    "start_time": "2022-03-10T03:29:01.306Z"
   },
   {
    "duration": 25,
    "start_time": "2022-03-10T03:29:01.328Z"
   },
   {
    "duration": 9,
    "start_time": "2022-03-10T03:29:01.374Z"
   },
   {
    "duration": 38,
    "start_time": "2022-03-10T03:29:01.386Z"
   },
   {
    "duration": 9,
    "start_time": "2022-03-10T03:29:01.426Z"
   },
   {
    "duration": 105,
    "start_time": "2022-03-10T04:27:28.651Z"
   },
   {
    "duration": 110,
    "start_time": "2022-03-10T04:28:24.224Z"
   },
   {
    "duration": 6,
    "start_time": "2022-03-10T04:28:35.471Z"
   },
   {
    "duration": 245,
    "start_time": "2022-03-10T04:28:35.481Z"
   },
   {
    "duration": 48,
    "start_time": "2022-03-10T04:28:35.730Z"
   },
   {
    "duration": 197,
    "start_time": "2022-03-10T04:28:35.781Z"
   },
   {
    "duration": 26,
    "start_time": "2022-03-10T04:28:35.981Z"
   },
   {
    "duration": 145,
    "start_time": "2022-03-10T04:28:36.010Z"
   },
   {
    "duration": 24,
    "start_time": "2022-03-10T04:28:36.157Z"
   },
   {
    "duration": 26,
    "start_time": "2022-03-10T04:28:36.187Z"
   },
   {
    "duration": 10,
    "start_time": "2022-03-10T04:28:36.215Z"
   },
   {
    "duration": 50,
    "start_time": "2022-03-10T04:28:36.228Z"
   },
   {
    "duration": 12,
    "start_time": "2022-03-10T04:28:36.282Z"
   },
   {
    "duration": 126,
    "start_time": "2022-03-10T04:28:36.297Z"
   },
   {
    "duration": 111,
    "start_time": "2022-03-10T04:28:36.314Z"
   },
   {
    "duration": 114,
    "start_time": "2022-03-10T04:31:35.557Z"
   },
   {
    "duration": 107,
    "start_time": "2022-03-10T04:33:40.387Z"
   },
   {
    "duration": 190,
    "start_time": "2022-03-10T04:34:00.422Z"
   },
   {
    "duration": 134,
    "start_time": "2022-03-10T04:35:01.602Z"
   },
   {
    "duration": 6,
    "start_time": "2022-03-10T04:35:24.515Z"
   },
   {
    "duration": 20,
    "start_time": "2022-03-10T04:35:39.498Z"
   },
   {
    "duration": 23,
    "start_time": "2022-03-10T04:36:04.512Z"
   },
   {
    "duration": 4,
    "start_time": "2022-03-10T04:36:16.863Z"
   },
   {
    "duration": 260,
    "start_time": "2022-03-10T04:36:16.870Z"
   },
   {
    "duration": 40,
    "start_time": "2022-03-10T04:36:17.134Z"
   },
   {
    "duration": 217,
    "start_time": "2022-03-10T04:36:17.178Z"
   },
   {
    "duration": 24,
    "start_time": "2022-03-10T04:36:17.398Z"
   },
   {
    "duration": 152,
    "start_time": "2022-03-10T04:36:17.424Z"
   },
   {
    "duration": 23,
    "start_time": "2022-03-10T04:36:17.579Z"
   },
   {
    "duration": 22,
    "start_time": "2022-03-10T04:36:17.605Z"
   },
   {
    "duration": 10,
    "start_time": "2022-03-10T04:36:17.630Z"
   },
   {
    "duration": 35,
    "start_time": "2022-03-10T04:36:17.674Z"
   },
   {
    "duration": 9,
    "start_time": "2022-03-10T04:36:17.712Z"
   },
   {
    "duration": 27,
    "start_time": "2022-03-10T04:36:17.723Z"
   },
   {
    "duration": 119,
    "start_time": "2022-03-10T04:36:17.752Z"
   },
   {
    "duration": 98,
    "start_time": "2022-03-10T04:36:17.776Z"
   },
   {
    "duration": 23,
    "start_time": "2022-03-10T04:36:44.211Z"
   },
   {
    "duration": 426,
    "start_time": "2022-03-10T04:44:09.349Z"
   },
   {
    "duration": 293,
    "start_time": "2022-03-10T04:44:41.585Z"
   },
   {
    "duration": 300,
    "start_time": "2022-03-10T04:44:45.365Z"
   },
   {
    "duration": 5,
    "start_time": "2022-03-10T04:44:52.206Z"
   },
   {
    "duration": 329,
    "start_time": "2022-03-10T04:45:07.755Z"
   },
   {
    "duration": 314,
    "start_time": "2022-03-10T04:45:19.604Z"
   },
   {
    "duration": 311,
    "start_time": "2022-03-10T04:46:42.318Z"
   },
   {
    "duration": 4,
    "start_time": "2022-03-10T04:46:47.906Z"
   },
   {
    "duration": 238,
    "start_time": "2022-03-10T04:46:47.912Z"
   },
   {
    "duration": 40,
    "start_time": "2022-03-10T04:46:48.153Z"
   },
   {
    "duration": 203,
    "start_time": "2022-03-10T04:46:48.197Z"
   },
   {
    "duration": 23,
    "start_time": "2022-03-10T04:46:48.402Z"
   },
   {
    "duration": 148,
    "start_time": "2022-03-10T04:46:48.428Z"
   },
   {
    "duration": 25,
    "start_time": "2022-03-10T04:46:48.578Z"
   },
   {
    "duration": 21,
    "start_time": "2022-03-10T04:46:48.606Z"
   },
   {
    "duration": 9,
    "start_time": "2022-03-10T04:46:48.631Z"
   },
   {
    "duration": 66,
    "start_time": "2022-03-10T04:46:48.643Z"
   },
   {
    "duration": 8,
    "start_time": "2022-03-10T04:46:48.711Z"
   },
   {
    "duration": 23,
    "start_time": "2022-03-10T04:46:48.721Z"
   },
   {
    "duration": 104,
    "start_time": "2022-03-10T04:46:48.747Z"
   },
   {
    "duration": 106,
    "start_time": "2022-03-10T04:46:48.748Z"
   },
   {
    "duration": 106,
    "start_time": "2022-03-10T04:46:48.750Z"
   },
   {
    "duration": 106,
    "start_time": "2022-03-10T04:46:48.752Z"
   },
   {
    "duration": 105,
    "start_time": "2022-03-10T04:46:48.755Z"
   },
   {
    "duration": 5,
    "start_time": "2022-03-10T04:47:12.491Z"
   },
   {
    "duration": 234,
    "start_time": "2022-03-10T04:47:12.499Z"
   },
   {
    "duration": 51,
    "start_time": "2022-03-10T04:47:12.737Z"
   },
   {
    "duration": 206,
    "start_time": "2022-03-10T04:47:12.792Z"
   },
   {
    "duration": 23,
    "start_time": "2022-03-10T04:47:13.000Z"
   },
   {
    "duration": 150,
    "start_time": "2022-03-10T04:47:13.025Z"
   },
   {
    "duration": 21,
    "start_time": "2022-03-10T04:47:13.181Z"
   },
   {
    "duration": 22,
    "start_time": "2022-03-10T04:47:13.205Z"
   },
   {
    "duration": 9,
    "start_time": "2022-03-10T04:47:13.231Z"
   },
   {
    "duration": 33,
    "start_time": "2022-03-10T04:47:13.274Z"
   },
   {
    "duration": 9,
    "start_time": "2022-03-10T04:47:13.310Z"
   },
   {
    "duration": 32,
    "start_time": "2022-03-10T04:47:13.322Z"
   },
   {
    "duration": 3,
    "start_time": "2022-03-10T04:47:13.356Z"
   },
   {
    "duration": 15,
    "start_time": "2022-03-10T04:47:13.373Z"
   },
   {
    "duration": 321,
    "start_time": "2022-03-10T04:47:13.391Z"
   },
   {
    "duration": 23,
    "start_time": "2022-03-10T04:47:13.691Z"
   },
   {
    "duration": 20,
    "start_time": "2022-03-10T04:47:13.696Z"
   },
   {
    "duration": 349,
    "start_time": "2022-03-10T04:47:30.871Z"
   },
   {
    "duration": 318,
    "start_time": "2022-03-10T04:47:35.864Z"
   },
   {
    "duration": 324,
    "start_time": "2022-03-10T04:48:05.845Z"
   },
   {
    "duration": 24,
    "start_time": "2022-03-10T04:48:19.330Z"
   },
   {
    "duration": 15,
    "start_time": "2022-03-10T04:48:34.196Z"
   },
   {
    "duration": 23,
    "start_time": "2022-03-10T04:49:15.595Z"
   },
   {
    "duration": 319,
    "start_time": "2022-03-10T04:49:30.394Z"
   },
   {
    "duration": 38,
    "start_time": "2022-03-10T04:49:55.141Z"
   },
   {
    "duration": 12,
    "start_time": "2022-03-10T04:50:17.835Z"
   },
   {
    "duration": 6,
    "start_time": "2022-03-10T04:51:05.899Z"
   },
   {
    "duration": 30,
    "start_time": "2022-03-10T04:51:38.115Z"
   },
   {
    "duration": 16,
    "start_time": "2022-03-10T04:52:06.903Z"
   },
   {
    "duration": 13,
    "start_time": "2022-03-10T04:52:26.190Z"
   },
   {
    "duration": 25,
    "start_time": "2022-03-10T04:52:55.358Z"
   },
   {
    "duration": 21,
    "start_time": "2022-03-10T04:54:18.297Z"
   },
   {
    "duration": 329,
    "start_time": "2022-03-10T04:54:20.131Z"
   },
   {
    "duration": 7688,
    "start_time": "2022-03-10T04:54:44.068Z"
   },
   {
    "duration": 7941,
    "start_time": "2022-03-10T04:55:07.727Z"
   },
   {
    "duration": 8128,
    "start_time": "2022-03-10T04:55:26.049Z"
   },
   {
    "duration": 5,
    "start_time": "2022-03-10T04:56:10.991Z"
   },
   {
    "duration": 120,
    "start_time": "2022-03-10T04:56:22.713Z"
   },
   {
    "duration": 20,
    "start_time": "2022-03-10T04:56:37.122Z"
   },
   {
    "duration": 13,
    "start_time": "2022-03-10T04:56:53.654Z"
   },
   {
    "duration": 136,
    "start_time": "2022-03-10T04:57:06.358Z"
   },
   {
    "duration": 2166,
    "start_time": "2022-03-10T05:03:13.405Z"
   },
   {
    "duration": 103,
    "start_time": "2022-03-10T05:04:02.407Z"
   },
   {
    "duration": 6,
    "start_time": "2022-03-10T05:04:23.479Z"
   },
   {
    "duration": 7,
    "start_time": "2022-03-10T05:04:51.941Z"
   },
   {
    "duration": 6,
    "start_time": "2022-03-10T05:05:11.029Z"
   },
   {
    "duration": 6,
    "start_time": "2022-03-10T05:05:25.239Z"
   },
   {
    "duration": 334,
    "start_time": "2022-03-10T05:15:19.198Z"
   },
   {
    "duration": 6,
    "start_time": "2022-03-10T05:27:17.271Z"
   },
   {
    "duration": 6,
    "start_time": "2022-03-10T05:28:42.809Z"
   },
   {
    "duration": 4,
    "start_time": "2022-03-10T05:29:02.014Z"
   },
   {
    "duration": 265,
    "start_time": "2022-03-10T05:29:02.021Z"
   },
   {
    "duration": 27,
    "start_time": "2022-03-10T05:29:02.290Z"
   },
   {
    "duration": 215,
    "start_time": "2022-03-10T05:29:02.319Z"
   },
   {
    "duration": 23,
    "start_time": "2022-03-10T05:29:02.536Z"
   },
   {
    "duration": 161,
    "start_time": "2022-03-10T05:29:02.562Z"
   },
   {
    "duration": 20,
    "start_time": "2022-03-10T05:29:02.726Z"
   },
   {
    "duration": 49,
    "start_time": "2022-03-10T05:29:02.749Z"
   },
   {
    "duration": 24,
    "start_time": "2022-03-10T05:29:02.802Z"
   },
   {
    "duration": 64,
    "start_time": "2022-03-10T05:29:02.829Z"
   },
   {
    "duration": 16,
    "start_time": "2022-03-10T05:29:02.896Z"
   },
   {
    "duration": 32,
    "start_time": "2022-03-10T05:29:02.915Z"
   },
   {
    "duration": 3,
    "start_time": "2022-03-10T05:29:02.950Z"
   },
   {
    "duration": 25,
    "start_time": "2022-03-10T05:29:02.955Z"
   },
   {
    "duration": 115,
    "start_time": "2022-03-10T05:29:02.983Z"
   },
   {
    "duration": 8,
    "start_time": "2022-03-10T05:29:03.101Z"
   },
   {
    "duration": 421,
    "start_time": "2022-03-10T05:29:03.111Z"
   },
   {
    "duration": 333,
    "start_time": "2022-03-10T05:47:25.254Z"
   },
   {
    "duration": 32675,
    "start_time": "2022-03-10T05:47:32.217Z"
   },
   {
    "duration": 310,
    "start_time": "2022-03-10T05:52:45.239Z"
   },
   {
    "duration": 122,
    "start_time": "2022-03-10T05:52:54.738Z"
   },
   {
    "duration": 281,
    "start_time": "2022-03-10T05:53:51.540Z"
   },
   {
    "duration": 145,
    "start_time": "2022-03-10T06:03:23.272Z"
   },
   {
    "duration": 309,
    "start_time": "2022-03-10T06:03:36.542Z"
   },
   {
    "duration": 365,
    "start_time": "2022-03-10T06:04:23.695Z"
   },
   {
    "duration": 133,
    "start_time": "2022-03-10T06:05:01.548Z"
   },
   {
    "duration": 339,
    "start_time": "2022-03-10T06:05:39.418Z"
   },
   {
    "duration": 405,
    "start_time": "2022-03-10T06:06:04.540Z"
   },
   {
    "duration": 254,
    "start_time": "2022-03-10T06:07:42.473Z"
   },
   {
    "duration": 229,
    "start_time": "2022-03-10T06:07:50.826Z"
   },
   {
    "duration": 264,
    "start_time": "2022-03-10T06:08:09.843Z"
   },
   {
    "duration": 247,
    "start_time": "2022-03-10T06:09:06.577Z"
   },
   {
    "duration": 17,
    "start_time": "2022-03-10T06:21:40.057Z"
   },
   {
    "duration": 28,
    "start_time": "2022-03-10T06:23:29.765Z"
   },
   {
    "duration": 8,
    "start_time": "2022-03-10T06:24:48.020Z"
   },
   {
    "duration": 21,
    "start_time": "2022-03-10T06:25:41.053Z"
   },
   {
    "duration": 10,
    "start_time": "2022-03-10T06:26:15.753Z"
   },
   {
    "duration": 7,
    "start_time": "2022-03-10T06:29:16.003Z"
   },
   {
    "duration": 22,
    "start_time": "2022-03-10T06:29:39.893Z"
   },
   {
    "duration": 21,
    "start_time": "2022-03-10T06:30:43.646Z"
   },
   {
    "duration": 75,
    "start_time": "2022-03-10T06:31:45.211Z"
   },
   {
    "duration": 12,
    "start_time": "2022-03-10T06:33:41.236Z"
   },
   {
    "duration": 22,
    "start_time": "2022-03-10T06:34:14.142Z"
   },
   {
    "duration": 418,
    "start_time": "2022-03-10T06:36:47.169Z"
   },
   {
    "duration": 18,
    "start_time": "2022-03-10T06:36:53.772Z"
   },
   {
    "duration": 11,
    "start_time": "2022-03-10T06:40:04.498Z"
   },
   {
    "duration": 107,
    "start_time": "2022-03-10T06:41:08.772Z"
   },
   {
    "duration": 116,
    "start_time": "2022-03-10T06:41:21.225Z"
   },
   {
    "duration": 591,
    "start_time": "2022-03-10T07:06:15.552Z"
   },
   {
    "duration": 538,
    "start_time": "2022-03-10T07:06:35.408Z"
   },
   {
    "duration": 307,
    "start_time": "2022-03-10T07:08:54.914Z"
   },
   {
    "duration": 436,
    "start_time": "2022-03-10T07:10:01.036Z"
   },
   {
    "duration": 24,
    "start_time": "2022-03-10T07:10:11.884Z"
   },
   {
    "duration": 11,
    "start_time": "2022-03-10T07:13:53.550Z"
   },
   {
    "duration": 18,
    "start_time": "2022-03-10T07:17:38.827Z"
   },
   {
    "duration": 4,
    "start_time": "2022-03-10T07:18:09.214Z"
   },
   {
    "duration": 224,
    "start_time": "2022-03-10T07:18:09.221Z"
   },
   {
    "duration": 54,
    "start_time": "2022-03-10T07:18:09.450Z"
   },
   {
    "duration": 221,
    "start_time": "2022-03-10T07:18:09.508Z"
   },
   {
    "duration": 24,
    "start_time": "2022-03-10T07:18:09.731Z"
   },
   {
    "duration": 169,
    "start_time": "2022-03-10T07:18:09.757Z"
   },
   {
    "duration": 20,
    "start_time": "2022-03-10T07:18:09.929Z"
   },
   {
    "duration": 38,
    "start_time": "2022-03-10T07:18:09.953Z"
   },
   {
    "duration": 12,
    "start_time": "2022-03-10T07:18:09.995Z"
   },
   {
    "duration": 49,
    "start_time": "2022-03-10T07:18:10.011Z"
   },
   {
    "duration": 15,
    "start_time": "2022-03-10T07:18:10.074Z"
   },
   {
    "duration": 33,
    "start_time": "2022-03-10T07:18:10.092Z"
   },
   {
    "duration": 6,
    "start_time": "2022-03-10T07:18:10.128Z"
   },
   {
    "duration": 142,
    "start_time": "2022-03-10T07:18:10.137Z"
   },
   {
    "duration": 8,
    "start_time": "2022-03-10T07:18:10.284Z"
   },
   {
    "duration": 19,
    "start_time": "2022-03-10T07:18:10.295Z"
   },
   {
    "duration": 57,
    "start_time": "2022-03-10T07:18:10.316Z"
   },
   {
    "duration": 277,
    "start_time": "2022-03-10T07:18:10.376Z"
   },
   {
    "duration": 324,
    "start_time": "2022-03-10T07:23:44.098Z"
   },
   {
    "duration": 24,
    "start_time": "2022-03-10T07:24:09.235Z"
   },
   {
    "duration": 315,
    "start_time": "2022-03-10T14:06:23.025Z"
   },
   {
    "duration": 238,
    "start_time": "2022-03-10T14:10:15.624Z"
   },
   {
    "duration": 708,
    "start_time": "2022-03-10T14:10:21.915Z"
   },
   {
    "duration": 243,
    "start_time": "2022-03-10T14:10:22.625Z"
   },
   {
    "duration": 53,
    "start_time": "2022-03-10T14:10:22.871Z"
   },
   {
    "duration": 206,
    "start_time": "2022-03-10T14:10:22.927Z"
   },
   {
    "duration": 30,
    "start_time": "2022-03-10T14:10:23.136Z"
   },
   {
    "duration": 156,
    "start_time": "2022-03-10T14:10:23.169Z"
   },
   {
    "duration": 20,
    "start_time": "2022-03-10T14:10:23.327Z"
   },
   {
    "duration": 25,
    "start_time": "2022-03-10T14:10:23.350Z"
   },
   {
    "duration": 17,
    "start_time": "2022-03-10T14:10:23.379Z"
   },
   {
    "duration": 38,
    "start_time": "2022-03-10T14:10:23.403Z"
   },
   {
    "duration": 10,
    "start_time": "2022-03-10T14:10:23.443Z"
   },
   {
    "duration": 28,
    "start_time": "2022-03-10T14:10:23.455Z"
   },
   {
    "duration": 6,
    "start_time": "2022-03-10T14:10:23.486Z"
   },
   {
    "duration": 93,
    "start_time": "2022-03-10T14:10:23.494Z"
   },
   {
    "duration": 4,
    "start_time": "2022-03-10T14:10:23.589Z"
   },
   {
    "duration": 208,
    "start_time": "2022-03-10T14:10:23.595Z"
   },
   {
    "duration": 290,
    "start_time": "2022-03-10T14:10:23.806Z"
   },
   {
    "duration": 3,
    "start_time": "2022-03-10T14:11:17.508Z"
   },
   {
    "duration": 3,
    "start_time": "2022-03-10T14:11:21.899Z"
   },
   {
    "duration": 196,
    "start_time": "2022-03-10T14:11:21.904Z"
   },
   {
    "duration": 23,
    "start_time": "2022-03-10T14:11:22.102Z"
   },
   {
    "duration": 157,
    "start_time": "2022-03-10T14:11:22.127Z"
   },
   {
    "duration": 23,
    "start_time": "2022-03-10T14:11:22.286Z"
   },
   {
    "duration": 124,
    "start_time": "2022-03-10T14:11:22.312Z"
   },
   {
    "duration": 22,
    "start_time": "2022-03-10T14:11:22.438Z"
   },
   {
    "duration": 38,
    "start_time": "2022-03-10T14:11:22.463Z"
   },
   {
    "duration": 9,
    "start_time": "2022-03-10T14:11:22.503Z"
   },
   {
    "duration": 30,
    "start_time": "2022-03-10T14:11:22.514Z"
   },
   {
    "duration": 8,
    "start_time": "2022-03-10T14:11:22.546Z"
   },
   {
    "duration": 32,
    "start_time": "2022-03-10T14:11:22.557Z"
   },
   {
    "duration": 10,
    "start_time": "2022-03-10T14:11:22.592Z"
   },
   {
    "duration": 67,
    "start_time": "2022-03-10T14:11:22.604Z"
   },
   {
    "duration": 5,
    "start_time": "2022-03-10T14:11:22.673Z"
   },
   {
    "duration": 205,
    "start_time": "2022-03-10T14:11:22.680Z"
   },
   {
    "duration": 223,
    "start_time": "2022-03-10T14:11:22.887Z"
   },
   {
    "duration": 12,
    "start_time": "2022-03-10T14:20:15.110Z"
   },
   {
    "duration": 5,
    "start_time": "2022-03-10T14:22:44.381Z"
   },
   {
    "duration": 14,
    "start_time": "2022-03-10T14:26:34.006Z"
   },
   {
    "duration": 67,
    "start_time": "2022-03-10T14:26:44.595Z"
   },
   {
    "duration": 244,
    "start_time": "2022-03-10T14:26:50.398Z"
   },
   {
    "duration": 25,
    "start_time": "2022-03-10T14:26:57.417Z"
   },
   {
    "duration": 15,
    "start_time": "2022-03-10T14:27:00.637Z"
   },
   {
    "duration": 73,
    "start_time": "2022-03-10T14:39:07.282Z"
   },
   {
    "duration": 21,
    "start_time": "2022-03-10T14:40:29.649Z"
   },
   {
    "duration": 15,
    "start_time": "2022-03-10T14:40:32.919Z"
   },
   {
    "duration": 14,
    "start_time": "2022-03-10T14:42:52.808Z"
   },
   {
    "duration": 14,
    "start_time": "2022-03-10T14:42:54.672Z"
   },
   {
    "duration": 56,
    "start_time": "2022-03-10T14:55:33.401Z"
   },
   {
    "duration": 13,
    "start_time": "2022-03-10T14:55:35.053Z"
   },
   {
    "duration": 14,
    "start_time": "2022-03-10T14:55:46.810Z"
   },
   {
    "duration": 784,
    "start_time": "2022-03-10T14:59:06.963Z"
   },
   {
    "duration": 3,
    "start_time": "2022-03-10T14:59:28.493Z"
   },
   {
    "duration": 15,
    "start_time": "2022-03-10T14:59:30.219Z"
   },
   {
    "duration": 3,
    "start_time": "2022-03-10T15:00:04.613Z"
   },
   {
    "duration": 3,
    "start_time": "2022-03-10T15:00:09.576Z"
   },
   {
    "duration": 13,
    "start_time": "2022-03-10T15:00:10.773Z"
   },
   {
    "duration": 9,
    "start_time": "2022-03-10T15:02:30.463Z"
   },
   {
    "duration": 3,
    "start_time": "2022-03-10T15:09:08.150Z"
   },
   {
    "duration": 10,
    "start_time": "2022-03-10T15:09:10.113Z"
   },
   {
    "duration": 17,
    "start_time": "2022-03-10T15:25:08.474Z"
   },
   {
    "duration": 14,
    "start_time": "2022-03-10T15:25:21.334Z"
   },
   {
    "duration": 31,
    "start_time": "2022-03-10T15:30:40.620Z"
   },
   {
    "duration": 9,
    "start_time": "2022-03-10T15:31:09.394Z"
   },
   {
    "duration": 3,
    "start_time": "2022-03-10T15:32:53.090Z"
   },
   {
    "duration": 9,
    "start_time": "2022-03-10T15:32:54.553Z"
   },
   {
    "duration": 19,
    "start_time": "2022-03-10T15:41:50.844Z"
   },
   {
    "duration": 25,
    "start_time": "2022-03-10T15:48:11.995Z"
   },
   {
    "duration": 11,
    "start_time": "2022-03-10T15:48:14.642Z"
   },
   {
    "duration": 10,
    "start_time": "2022-03-10T15:54:44.646Z"
   },
   {
    "duration": 12,
    "start_time": "2022-03-10T15:54:46.330Z"
   },
   {
    "duration": 4,
    "start_time": "2022-03-10T15:55:13.388Z"
   },
   {
    "duration": 186,
    "start_time": "2022-03-10T15:55:13.394Z"
   },
   {
    "duration": 35,
    "start_time": "2022-03-10T15:55:13.582Z"
   },
   {
    "duration": 151,
    "start_time": "2022-03-10T15:55:13.619Z"
   },
   {
    "duration": 29,
    "start_time": "2022-03-10T15:55:13.772Z"
   },
   {
    "duration": 101,
    "start_time": "2022-03-10T15:55:13.803Z"
   },
   {
    "duration": 15,
    "start_time": "2022-03-10T15:55:13.906Z"
   },
   {
    "duration": 26,
    "start_time": "2022-03-10T15:55:13.923Z"
   },
   {
    "duration": 29,
    "start_time": "2022-03-10T15:55:13.954Z"
   },
   {
    "duration": 29,
    "start_time": "2022-03-10T15:55:13.985Z"
   },
   {
    "duration": 7,
    "start_time": "2022-03-10T15:55:14.016Z"
   },
   {
    "duration": 20,
    "start_time": "2022-03-10T15:55:14.025Z"
   },
   {
    "duration": 5,
    "start_time": "2022-03-10T15:55:14.046Z"
   },
   {
    "duration": 96,
    "start_time": "2022-03-10T15:55:14.053Z"
   },
   {
    "duration": 5,
    "start_time": "2022-03-10T15:55:14.150Z"
   },
   {
    "duration": 206,
    "start_time": "2022-03-10T15:55:14.156Z"
   },
   {
    "duration": 7,
    "start_time": "2022-03-10T15:55:14.364Z"
   },
   {
    "duration": 47,
    "start_time": "2022-03-10T15:55:14.373Z"
   },
   {
    "duration": 60,
    "start_time": "2022-03-10T15:55:14.422Z"
   },
   {
    "duration": 17,
    "start_time": "2022-03-10T15:55:14.484Z"
   },
   {
    "duration": 17,
    "start_time": "2022-03-10T15:55:14.503Z"
   },
   {
    "duration": 23,
    "start_time": "2022-03-10T15:55:14.522Z"
   },
   {
    "duration": 30,
    "start_time": "2022-03-10T15:55:14.547Z"
   },
   {
    "duration": 24,
    "start_time": "2022-03-10T15:55:14.579Z"
   },
   {
    "duration": 14,
    "start_time": "2022-03-10T15:55:14.605Z"
   },
   {
    "duration": 26,
    "start_time": "2022-03-10T15:55:14.622Z"
   },
   {
    "duration": 49,
    "start_time": "2022-03-10T15:55:14.653Z"
   },
   {
    "duration": 5,
    "start_time": "2022-03-10T15:55:14.705Z"
   },
   {
    "duration": 15,
    "start_time": "2022-03-10T15:55:14.711Z"
   },
   {
    "duration": 6,
    "start_time": "2022-03-10T15:55:14.728Z"
   },
   {
    "duration": 3,
    "start_time": "2022-03-10T15:56:35.784Z"
   },
   {
    "duration": 221,
    "start_time": "2022-03-10T15:56:35.790Z"
   },
   {
    "duration": 31,
    "start_time": "2022-03-10T15:56:36.013Z"
   },
   {
    "duration": 188,
    "start_time": "2022-03-10T15:56:36.047Z"
   },
   {
    "duration": 25,
    "start_time": "2022-03-10T15:56:36.238Z"
   },
   {
    "duration": 107,
    "start_time": "2022-03-10T15:56:36.265Z"
   },
   {
    "duration": 28,
    "start_time": "2022-03-10T15:56:36.374Z"
   },
   {
    "duration": 17,
    "start_time": "2022-03-10T15:56:36.406Z"
   },
   {
    "duration": 12,
    "start_time": "2022-03-10T15:56:36.425Z"
   },
   {
    "duration": 29,
    "start_time": "2022-03-10T15:56:36.439Z"
   },
   {
    "duration": 6,
    "start_time": "2022-03-10T15:56:36.470Z"
   },
   {
    "duration": 27,
    "start_time": "2022-03-10T15:56:36.478Z"
   },
   {
    "duration": 4,
    "start_time": "2022-03-10T15:56:36.507Z"
   },
   {
    "duration": 67,
    "start_time": "2022-03-10T15:56:36.513Z"
   },
   {
    "duration": 20,
    "start_time": "2022-03-10T15:56:36.582Z"
   },
   {
    "duration": 165,
    "start_time": "2022-03-10T15:56:36.604Z"
   },
   {
    "duration": 4,
    "start_time": "2022-03-10T15:56:36.771Z"
   },
   {
    "duration": 39,
    "start_time": "2022-03-10T15:56:36.777Z"
   },
   {
    "duration": 42,
    "start_time": "2022-03-10T15:56:36.818Z"
   },
   {
    "duration": 3,
    "start_time": "2022-03-10T15:56:36.862Z"
   },
   {
    "duration": 15,
    "start_time": "2022-03-10T15:56:36.867Z"
   },
   {
    "duration": 18,
    "start_time": "2022-03-10T15:56:36.902Z"
   },
   {
    "duration": 32,
    "start_time": "2022-03-10T15:56:36.924Z"
   },
   {
    "duration": 3,
    "start_time": "2022-03-10T15:56:36.959Z"
   },
   {
    "duration": 15,
    "start_time": "2022-03-10T15:56:36.964Z"
   },
   {
    "duration": 23,
    "start_time": "2022-03-10T15:56:37.001Z"
   },
   {
    "duration": 26,
    "start_time": "2022-03-10T15:56:37.026Z"
   },
   {
    "duration": 204,
    "start_time": "2022-03-10T15:56:37.054Z"
   },
   {
    "duration": 148,
    "start_time": "2022-03-10T15:56:37.112Z"
   },
   {
    "duration": 147,
    "start_time": "2022-03-10T15:56:37.114Z"
   },
   {
    "duration": 200,
    "start_time": "2022-03-10T15:56:48.425Z"
   },
   {
    "duration": 3,
    "start_time": "2022-03-10T15:56:57.980Z"
   },
   {
    "duration": 167,
    "start_time": "2022-03-10T15:56:57.985Z"
   },
   {
    "duration": 22,
    "start_time": "2022-03-10T15:56:58.155Z"
   },
   {
    "duration": 150,
    "start_time": "2022-03-10T15:56:58.179Z"
   },
   {
    "duration": 20,
    "start_time": "2022-03-10T15:56:58.331Z"
   },
   {
    "duration": 130,
    "start_time": "2022-03-10T15:56:58.353Z"
   },
   {
    "duration": 29,
    "start_time": "2022-03-10T15:56:58.485Z"
   },
   {
    "duration": 23,
    "start_time": "2022-03-10T15:56:58.518Z"
   },
   {
    "duration": 21,
    "start_time": "2022-03-10T15:56:58.544Z"
   },
   {
    "duration": 30,
    "start_time": "2022-03-10T15:56:58.567Z"
   },
   {
    "duration": 7,
    "start_time": "2022-03-10T15:56:58.700Z"
   },
   {
    "duration": 16,
    "start_time": "2022-03-10T15:56:58.709Z"
   },
   {
    "duration": 4,
    "start_time": "2022-03-10T15:56:58.727Z"
   },
   {
    "duration": 82,
    "start_time": "2022-03-10T15:56:58.733Z"
   },
   {
    "duration": 5,
    "start_time": "2022-03-10T15:56:58.817Z"
   },
   {
    "duration": 188,
    "start_time": "2022-03-10T15:56:58.824Z"
   },
   {
    "duration": 4,
    "start_time": "2022-03-10T15:56:59.014Z"
   },
   {
    "duration": 32,
    "start_time": "2022-03-10T15:56:59.020Z"
   },
   {
    "duration": 65,
    "start_time": "2022-03-10T15:56:59.054Z"
   },
   {
    "duration": 3,
    "start_time": "2022-03-10T15:56:59.121Z"
   },
   {
    "duration": 12,
    "start_time": "2022-03-10T15:56:59.126Z"
   },
   {
    "duration": 19,
    "start_time": "2022-03-10T15:56:59.140Z"
   },
   {
    "duration": 48,
    "start_time": "2022-03-10T15:56:59.163Z"
   },
   {
    "duration": 2,
    "start_time": "2022-03-10T15:56:59.214Z"
   },
   {
    "duration": 12,
    "start_time": "2022-03-10T15:56:59.218Z"
   },
   {
    "duration": 25,
    "start_time": "2022-03-10T15:56:59.232Z"
   },
   {
    "duration": 48,
    "start_time": "2022-03-10T15:56:59.259Z"
   },
   {
    "duration": 217,
    "start_time": "2022-03-10T15:56:59.309Z"
   },
   {
    "duration": 89,
    "start_time": "2022-03-10T15:56:59.439Z"
   },
   {
    "duration": 87,
    "start_time": "2022-03-10T15:56:59.442Z"
   },
   {
    "duration": 4,
    "start_time": "2022-03-10T15:57:23.062Z"
   },
   {
    "duration": 13,
    "start_time": "2022-03-10T15:57:29.939Z"
   },
   {
    "duration": 5,
    "start_time": "2022-03-10T15:57:40.437Z"
   },
   {
    "duration": 14,
    "start_time": "2022-03-10T15:57:42.018Z"
   },
   {
    "duration": 15,
    "start_time": "2022-03-10T15:59:12.900Z"
   },
   {
    "duration": 4,
    "start_time": "2022-03-10T15:59:19.323Z"
   },
   {
    "duration": 215,
    "start_time": "2022-03-10T15:59:19.329Z"
   },
   {
    "duration": 23,
    "start_time": "2022-03-10T15:59:19.547Z"
   },
   {
    "duration": 193,
    "start_time": "2022-03-10T15:59:19.573Z"
   },
   {
    "duration": 36,
    "start_time": "2022-03-10T15:59:19.769Z"
   },
   {
    "duration": 99,
    "start_time": "2022-03-10T15:59:19.807Z"
   },
   {
    "duration": 19,
    "start_time": "2022-03-10T15:59:19.908Z"
   },
   {
    "duration": 19,
    "start_time": "2022-03-10T15:59:19.929Z"
   },
   {
    "duration": 7,
    "start_time": "2022-03-10T15:59:19.951Z"
   },
   {
    "duration": 46,
    "start_time": "2022-03-10T15:59:19.960Z"
   },
   {
    "duration": 10,
    "start_time": "2022-03-10T15:59:20.008Z"
   },
   {
    "duration": 28,
    "start_time": "2022-03-10T15:59:20.020Z"
   },
   {
    "duration": 19,
    "start_time": "2022-03-10T15:59:20.050Z"
   },
   {
    "duration": 83,
    "start_time": "2022-03-10T15:59:20.071Z"
   },
   {
    "duration": 5,
    "start_time": "2022-03-10T15:59:20.156Z"
   },
   {
    "duration": 196,
    "start_time": "2022-03-10T15:59:20.163Z"
   },
   {
    "duration": 5,
    "start_time": "2022-03-10T15:59:20.361Z"
   },
   {
    "duration": 45,
    "start_time": "2022-03-10T15:59:20.367Z"
   },
   {
    "duration": 63,
    "start_time": "2022-03-10T15:59:20.414Z"
   },
   {
    "duration": 3,
    "start_time": "2022-03-10T15:59:20.480Z"
   },
   {
    "duration": 12,
    "start_time": "2022-03-10T15:59:20.502Z"
   },
   {
    "duration": 20,
    "start_time": "2022-03-10T15:59:20.517Z"
   },
   {
    "duration": 35,
    "start_time": "2022-03-10T15:59:20.540Z"
   },
   {
    "duration": 3,
    "start_time": "2022-03-10T15:59:20.601Z"
   },
   {
    "duration": 17,
    "start_time": "2022-03-10T15:59:20.606Z"
   },
   {
    "duration": 22,
    "start_time": "2022-03-10T15:59:20.625Z"
   },
   {
    "duration": 30,
    "start_time": "2022-03-10T15:59:20.651Z"
   },
   {
    "duration": 30,
    "start_time": "2022-03-10T15:59:20.683Z"
   },
   {
    "duration": 12,
    "start_time": "2022-03-10T15:59:20.715Z"
   },
   {
    "duration": 42,
    "start_time": "2022-03-10T15:59:20.729Z"
   },
   {
    "duration": 835,
    "start_time": "2022-03-10T15:59:20.773Z"
   },
   {
    "duration": 3,
    "start_time": "2022-03-10T16:07:19.006Z"
   },
   {
    "duration": 168,
    "start_time": "2022-03-10T16:07:19.015Z"
   },
   {
    "duration": 25,
    "start_time": "2022-03-10T16:07:19.186Z"
   },
   {
    "duration": 150,
    "start_time": "2022-03-10T16:07:19.214Z"
   },
   {
    "duration": 19,
    "start_time": "2022-03-10T16:07:19.366Z"
   },
   {
    "duration": 104,
    "start_time": "2022-03-10T16:07:19.387Z"
   },
   {
    "duration": 20,
    "start_time": "2022-03-10T16:07:19.493Z"
   },
   {
    "duration": 17,
    "start_time": "2022-03-10T16:07:19.515Z"
   },
   {
    "duration": 11,
    "start_time": "2022-03-10T16:07:19.534Z"
   },
   {
    "duration": 31,
    "start_time": "2022-03-10T16:07:19.548Z"
   },
   {
    "duration": 23,
    "start_time": "2022-03-10T16:07:19.582Z"
   },
   {
    "duration": 14,
    "start_time": "2022-03-10T16:07:19.607Z"
   },
   {
    "duration": 6,
    "start_time": "2022-03-10T16:07:19.623Z"
   },
   {
    "duration": 90,
    "start_time": "2022-03-10T16:07:19.631Z"
   },
   {
    "duration": 5,
    "start_time": "2022-03-10T16:07:19.723Z"
   },
   {
    "duration": 190,
    "start_time": "2022-03-10T16:07:19.730Z"
   },
   {
    "duration": 6,
    "start_time": "2022-03-10T16:07:19.922Z"
   },
   {
    "duration": 29,
    "start_time": "2022-03-10T16:07:19.930Z"
   },
   {
    "duration": 76,
    "start_time": "2022-03-10T16:07:19.961Z"
   },
   {
    "duration": 3,
    "start_time": "2022-03-10T16:07:20.039Z"
   },
   {
    "duration": 27,
    "start_time": "2022-03-10T16:07:20.044Z"
   },
   {
    "duration": 30,
    "start_time": "2022-03-10T16:07:20.073Z"
   },
   {
    "duration": 31,
    "start_time": "2022-03-10T16:07:20.105Z"
   },
   {
    "duration": 3,
    "start_time": "2022-03-10T16:07:20.138Z"
   },
   {
    "duration": 13,
    "start_time": "2022-03-10T16:07:20.143Z"
   },
   {
    "duration": 28,
    "start_time": "2022-03-10T16:07:20.158Z"
   },
   {
    "duration": 37,
    "start_time": "2022-03-10T16:07:20.188Z"
   },
   {
    "duration": 5,
    "start_time": "2022-03-10T16:07:20.228Z"
   },
   {
    "duration": 25,
    "start_time": "2022-03-10T16:07:20.235Z"
   },
   {
    "duration": 9,
    "start_time": "2022-03-10T16:31:05.962Z"
   },
   {
    "duration": 22,
    "start_time": "2022-03-10T16:31:07.604Z"
   },
   {
    "duration": 200,
    "start_time": "2022-03-10T16:37:55.963Z"
   },
   {
    "duration": 10,
    "start_time": "2022-03-10T16:38:22.669Z"
   },
   {
    "duration": 17,
    "start_time": "2022-03-10T16:45:59.555Z"
   },
   {
    "duration": 39,
    "start_time": "2022-03-10T16:46:08.490Z"
   },
   {
    "duration": 97,
    "start_time": "2022-03-10T16:46:54.487Z"
   },
   {
    "duration": 213,
    "start_time": "2022-03-10T16:47:01.476Z"
   },
   {
    "duration": 4,
    "start_time": "2022-03-10T16:47:46.108Z"
   },
   {
    "duration": 244,
    "start_time": "2022-03-10T16:47:46.115Z"
   },
   {
    "duration": 22,
    "start_time": "2022-03-10T16:47:46.362Z"
   },
   {
    "duration": 168,
    "start_time": "2022-03-10T16:47:46.386Z"
   },
   {
    "duration": 19,
    "start_time": "2022-03-10T16:47:46.557Z"
   },
   {
    "duration": 231,
    "start_time": "2022-03-10T16:47:46.578Z"
   },
   {
    "duration": 17,
    "start_time": "2022-03-10T16:47:46.810Z"
   },
   {
    "duration": 37,
    "start_time": "2022-03-10T16:47:46.830Z"
   },
   {
    "duration": 41,
    "start_time": "2022-03-10T16:47:46.870Z"
   },
   {
    "duration": 64,
    "start_time": "2022-03-10T16:47:46.913Z"
   },
   {
    "duration": 26,
    "start_time": "2022-03-10T16:47:46.979Z"
   },
   {
    "duration": 35,
    "start_time": "2022-03-10T16:47:47.008Z"
   },
   {
    "duration": 10,
    "start_time": "2022-03-10T16:47:47.045Z"
   },
   {
    "duration": 120,
    "start_time": "2022-03-10T16:47:47.057Z"
   },
   {
    "duration": 5,
    "start_time": "2022-03-10T16:47:47.180Z"
   },
   {
    "duration": 235,
    "start_time": "2022-03-10T16:47:47.188Z"
   },
   {
    "duration": 5,
    "start_time": "2022-03-10T16:47:47.426Z"
   },
   {
    "duration": 53,
    "start_time": "2022-03-10T16:47:47.433Z"
   },
   {
    "duration": 88,
    "start_time": "2022-03-10T16:47:47.488Z"
   },
   {
    "duration": 4,
    "start_time": "2022-03-10T16:47:47.579Z"
   },
   {
    "duration": 23,
    "start_time": "2022-03-10T16:47:47.585Z"
   },
   {
    "duration": 26,
    "start_time": "2022-03-10T16:47:47.610Z"
   },
   {
    "duration": 35,
    "start_time": "2022-03-10T16:47:47.640Z"
   },
   {
    "duration": 4,
    "start_time": "2022-03-10T16:47:47.677Z"
   },
   {
    "duration": 27,
    "start_time": "2022-03-10T16:47:47.682Z"
   },
   {
    "duration": 27,
    "start_time": "2022-03-10T16:47:47.712Z"
   },
   {
    "duration": 37,
    "start_time": "2022-03-10T16:47:47.742Z"
   },
   {
    "duration": 6,
    "start_time": "2022-03-10T16:47:47.802Z"
   },
   {
    "duration": 17,
    "start_time": "2022-03-10T16:47:47.810Z"
   },
   {
    "duration": 14,
    "start_time": "2022-03-10T16:47:47.830Z"
   },
   {
    "duration": 14,
    "start_time": "2022-03-10T16:47:47.846Z"
   },
   {
    "duration": 45,
    "start_time": "2022-03-10T16:47:47.862Z"
   },
   {
    "duration": 15,
    "start_time": "2022-03-10T16:48:38.896Z"
   },
   {
    "duration": 20,
    "start_time": "2022-03-10T16:49:00.863Z"
   },
   {
    "duration": 4,
    "start_time": "2022-03-10T16:49:20.285Z"
   },
   {
    "duration": 246,
    "start_time": "2022-03-10T16:49:20.292Z"
   },
   {
    "duration": 38,
    "start_time": "2022-03-10T16:49:20.542Z"
   },
   {
    "duration": 184,
    "start_time": "2022-03-10T16:49:20.583Z"
   },
   {
    "duration": 21,
    "start_time": "2022-03-10T16:49:20.769Z"
   },
   {
    "duration": 94,
    "start_time": "2022-03-10T16:49:20.803Z"
   },
   {
    "duration": 26,
    "start_time": "2022-03-10T16:49:20.902Z"
   },
   {
    "duration": 29,
    "start_time": "2022-03-10T16:49:20.931Z"
   },
   {
    "duration": 9,
    "start_time": "2022-03-10T16:49:20.963Z"
   },
   {
    "duration": 36,
    "start_time": "2022-03-10T16:49:20.974Z"
   },
   {
    "duration": 7,
    "start_time": "2022-03-10T16:49:21.012Z"
   },
   {
    "duration": 26,
    "start_time": "2022-03-10T16:49:21.022Z"
   },
   {
    "duration": 9,
    "start_time": "2022-03-10T16:49:21.051Z"
   },
   {
    "duration": 78,
    "start_time": "2022-03-10T16:49:21.062Z"
   },
   {
    "duration": 5,
    "start_time": "2022-03-10T16:49:21.142Z"
   },
   {
    "duration": 210,
    "start_time": "2022-03-10T16:49:21.149Z"
   },
   {
    "duration": 5,
    "start_time": "2022-03-10T16:49:21.361Z"
   },
   {
    "duration": 43,
    "start_time": "2022-03-10T16:49:21.368Z"
   },
   {
    "duration": 56,
    "start_time": "2022-03-10T16:49:21.413Z"
   },
   {
    "duration": 3,
    "start_time": "2022-03-10T16:49:21.472Z"
   },
   {
    "duration": 32,
    "start_time": "2022-03-10T16:49:21.477Z"
   },
   {
    "duration": 34,
    "start_time": "2022-03-10T16:49:21.511Z"
   },
   {
    "duration": 37,
    "start_time": "2022-03-10T16:49:21.548Z"
   },
   {
    "duration": 4,
    "start_time": "2022-03-10T16:49:21.588Z"
   },
   {
    "duration": 8,
    "start_time": "2022-03-10T16:49:21.602Z"
   },
   {
    "duration": 23,
    "start_time": "2022-03-10T16:49:21.612Z"
   },
   {
    "duration": 25,
    "start_time": "2022-03-10T16:49:21.639Z"
   },
   {
    "duration": 4,
    "start_time": "2022-03-10T16:49:21.666Z"
   },
   {
    "duration": 65,
    "start_time": "2022-03-10T16:49:21.672Z"
   },
   {
    "duration": 50,
    "start_time": "2022-03-10T16:49:21.739Z"
   },
   {
    "duration": 13,
    "start_time": "2022-03-10T16:49:21.791Z"
   },
   {
    "duration": 22,
    "start_time": "2022-03-10T16:49:21.806Z"
   },
   {
    "duration": 33,
    "start_time": "2022-03-10T16:51:50.284Z"
   },
   {
    "duration": 4,
    "start_time": "2022-03-10T16:59:42.348Z"
   },
   {
    "duration": 183,
    "start_time": "2022-03-10T16:59:42.354Z"
   },
   {
    "duration": 22,
    "start_time": "2022-03-10T16:59:42.539Z"
   },
   {
    "duration": 150,
    "start_time": "2022-03-10T16:59:42.564Z"
   },
   {
    "duration": 18,
    "start_time": "2022-03-10T16:59:42.716Z"
   },
   {
    "duration": 115,
    "start_time": "2022-03-10T16:59:42.737Z"
   },
   {
    "duration": 16,
    "start_time": "2022-03-10T16:59:42.854Z"
   },
   {
    "duration": 30,
    "start_time": "2022-03-10T16:59:42.872Z"
   },
   {
    "duration": 9,
    "start_time": "2022-03-10T16:59:42.906Z"
   },
   {
    "duration": 33,
    "start_time": "2022-03-10T16:59:42.918Z"
   },
   {
    "duration": 8,
    "start_time": "2022-03-10T16:59:42.953Z"
   },
   {
    "duration": 16,
    "start_time": "2022-03-10T16:59:42.963Z"
   },
   {
    "duration": 22,
    "start_time": "2022-03-10T16:59:42.981Z"
   },
   {
    "duration": 71,
    "start_time": "2022-03-10T16:59:43.005Z"
   },
   {
    "duration": 5,
    "start_time": "2022-03-10T16:59:43.078Z"
   },
   {
    "duration": 167,
    "start_time": "2022-03-10T16:59:43.102Z"
   },
   {
    "duration": 5,
    "start_time": "2022-03-10T16:59:43.272Z"
   },
   {
    "duration": 45,
    "start_time": "2022-03-10T16:59:43.279Z"
   },
   {
    "duration": 44,
    "start_time": "2022-03-10T16:59:43.326Z"
   },
   {
    "duration": 3,
    "start_time": "2022-03-10T16:59:43.372Z"
   },
   {
    "duration": 32,
    "start_time": "2022-03-10T16:59:43.377Z"
   },
   {
    "duration": 26,
    "start_time": "2022-03-10T16:59:43.412Z"
   },
   {
    "duration": 30,
    "start_time": "2022-03-10T16:59:43.440Z"
   },
   {
    "duration": 4,
    "start_time": "2022-03-10T16:59:43.473Z"
   },
   {
    "duration": 26,
    "start_time": "2022-03-10T16:59:43.479Z"
   },
   {
    "duration": 27,
    "start_time": "2022-03-10T16:59:43.507Z"
   },
   {
    "duration": 36,
    "start_time": "2022-03-10T16:59:43.538Z"
   },
   {
    "duration": 26,
    "start_time": "2022-03-10T16:59:43.577Z"
   },
   {
    "duration": 15,
    "start_time": "2022-03-10T16:59:43.605Z"
   },
   {
    "duration": 21,
    "start_time": "2022-03-10T16:59:43.622Z"
   },
   {
    "duration": 2,
    "start_time": "2022-03-10T16:59:43.646Z"
   },
   {
    "duration": 8,
    "start_time": "2022-03-10T16:59:43.651Z"
   },
   {
    "duration": 46,
    "start_time": "2022-03-10T16:59:43.662Z"
   },
   {
    "duration": 11,
    "start_time": "2022-03-10T16:59:43.710Z"
   },
   {
    "duration": 10,
    "start_time": "2022-03-10T17:00:52.316Z"
   },
   {
    "duration": 3,
    "start_time": "2022-03-10T17:00:56.924Z"
   },
   {
    "duration": 165,
    "start_time": "2022-03-10T17:00:56.929Z"
   },
   {
    "duration": 23,
    "start_time": "2022-03-10T17:00:57.101Z"
   },
   {
    "duration": 151,
    "start_time": "2022-03-10T17:00:57.127Z"
   },
   {
    "duration": 27,
    "start_time": "2022-03-10T17:00:57.280Z"
   },
   {
    "duration": 110,
    "start_time": "2022-03-10T17:00:57.309Z"
   },
   {
    "duration": 18,
    "start_time": "2022-03-10T17:00:57.421Z"
   },
   {
    "duration": 30,
    "start_time": "2022-03-10T17:00:57.441Z"
   },
   {
    "duration": 14,
    "start_time": "2022-03-10T17:00:57.474Z"
   },
   {
    "duration": 56,
    "start_time": "2022-03-10T17:00:57.491Z"
   },
   {
    "duration": 9,
    "start_time": "2022-03-10T17:00:57.550Z"
   },
   {
    "duration": 24,
    "start_time": "2022-03-10T17:00:57.562Z"
   },
   {
    "duration": 6,
    "start_time": "2022-03-10T17:00:57.588Z"
   },
   {
    "duration": 69,
    "start_time": "2022-03-10T17:00:57.596Z"
   },
   {
    "duration": 6,
    "start_time": "2022-03-10T17:00:57.667Z"
   },
   {
    "duration": 204,
    "start_time": "2022-03-10T17:00:57.675Z"
   },
   {
    "duration": 7,
    "start_time": "2022-03-10T17:00:57.881Z"
   },
   {
    "duration": 34,
    "start_time": "2022-03-10T17:00:57.890Z"
   },
   {
    "duration": 58,
    "start_time": "2022-03-10T17:00:57.926Z"
   },
   {
    "duration": 3,
    "start_time": "2022-03-10T17:00:58.002Z"
   },
   {
    "duration": 14,
    "start_time": "2022-03-10T17:00:58.007Z"
   },
   {
    "duration": 26,
    "start_time": "2022-03-10T17:00:58.023Z"
   },
   {
    "duration": 28,
    "start_time": "2022-03-10T17:00:58.051Z"
   },
   {
    "duration": 20,
    "start_time": "2022-03-10T17:00:58.081Z"
   },
   {
    "duration": 8,
    "start_time": "2022-03-10T17:00:58.103Z"
   },
   {
    "duration": 22,
    "start_time": "2022-03-10T17:00:58.113Z"
   },
   {
    "duration": 29,
    "start_time": "2022-03-10T17:00:58.138Z"
   },
   {
    "duration": 32,
    "start_time": "2022-03-10T17:00:58.169Z"
   },
   {
    "duration": 15,
    "start_time": "2022-03-10T17:00:58.203Z"
   },
   {
    "duration": 13,
    "start_time": "2022-03-10T17:00:58.220Z"
   },
   {
    "duration": 10,
    "start_time": "2022-03-10T17:00:58.235Z"
   },
   {
    "duration": 2,
    "start_time": "2022-03-10T17:00:58.247Z"
   },
   {
    "duration": 9,
    "start_time": "2022-03-10T17:00:58.251Z"
   },
   {
    "duration": 22,
    "start_time": "2022-03-10T17:00:58.262Z"
   },
   {
    "duration": 27,
    "start_time": "2022-03-10T17:00:58.285Z"
   },
   {
    "duration": 12,
    "start_time": "2022-03-10T17:01:36.400Z"
   },
   {
    "duration": 3,
    "start_time": "2022-03-10T17:02:56.236Z"
   },
   {
    "duration": 179,
    "start_time": "2022-03-10T17:02:56.241Z"
   },
   {
    "duration": 37,
    "start_time": "2022-03-10T17:02:56.423Z"
   },
   {
    "duration": 187,
    "start_time": "2022-03-10T17:02:56.463Z"
   },
   {
    "duration": 19,
    "start_time": "2022-03-10T17:02:56.652Z"
   },
   {
    "duration": 137,
    "start_time": "2022-03-10T17:02:56.673Z"
   },
   {
    "duration": 18,
    "start_time": "2022-03-10T17:02:56.812Z"
   },
   {
    "duration": 21,
    "start_time": "2022-03-10T17:02:56.834Z"
   },
   {
    "duration": 8,
    "start_time": "2022-03-10T17:02:56.858Z"
   },
   {
    "duration": 46,
    "start_time": "2022-03-10T17:02:56.868Z"
   },
   {
    "duration": 9,
    "start_time": "2022-03-10T17:02:56.917Z"
   },
   {
    "duration": 27,
    "start_time": "2022-03-10T17:02:56.928Z"
   },
   {
    "duration": 6,
    "start_time": "2022-03-10T17:02:56.957Z"
   },
   {
    "duration": 113,
    "start_time": "2022-03-10T17:02:56.965Z"
   },
   {
    "duration": 6,
    "start_time": "2022-03-10T17:02:57.080Z"
   },
   {
    "duration": 223,
    "start_time": "2022-03-10T17:02:57.088Z"
   },
   {
    "duration": 6,
    "start_time": "2022-03-10T17:02:57.313Z"
   },
   {
    "duration": 41,
    "start_time": "2022-03-10T17:02:57.321Z"
   },
   {
    "duration": 80,
    "start_time": "2022-03-10T17:02:57.364Z"
   },
   {
    "duration": 5,
    "start_time": "2022-03-10T17:02:57.446Z"
   },
   {
    "duration": 24,
    "start_time": "2022-03-10T17:02:57.453Z"
   },
   {
    "duration": 31,
    "start_time": "2022-03-10T17:02:57.480Z"
   },
   {
    "duration": 40,
    "start_time": "2022-03-10T17:02:57.514Z"
   },
   {
    "duration": 4,
    "start_time": "2022-03-10T17:02:57.556Z"
   },
   {
    "duration": 35,
    "start_time": "2022-03-10T17:02:57.562Z"
   },
   {
    "duration": 42,
    "start_time": "2022-03-10T17:02:57.599Z"
   },
   {
    "duration": 31,
    "start_time": "2022-03-10T17:02:57.644Z"
   },
   {
    "duration": 5,
    "start_time": "2022-03-10T17:02:57.677Z"
   },
   {
    "duration": 32,
    "start_time": "2022-03-10T17:02:57.683Z"
   },
   {
    "duration": 28,
    "start_time": "2022-03-10T17:02:57.718Z"
   },
   {
    "duration": 34,
    "start_time": "2022-03-10T17:02:57.749Z"
   },
   {
    "duration": 11,
    "start_time": "2022-03-10T17:02:57.785Z"
   },
   {
    "duration": 10,
    "start_time": "2022-03-10T17:02:57.798Z"
   },
   {
    "duration": 30,
    "start_time": "2022-03-10T17:02:57.810Z"
   },
   {
    "duration": 40,
    "start_time": "2022-03-10T17:02:57.842Z"
   },
   {
    "duration": 39,
    "start_time": "2022-03-10T17:02:57.884Z"
   },
   {
    "duration": 11,
    "start_time": "2022-03-10T17:03:28.203Z"
   },
   {
    "duration": 3,
    "start_time": "2022-03-10T17:03:34.939Z"
   },
   {
    "duration": 181,
    "start_time": "2022-03-10T17:03:34.944Z"
   },
   {
    "duration": 23,
    "start_time": "2022-03-10T17:03:35.128Z"
   },
   {
    "duration": 163,
    "start_time": "2022-03-10T17:03:35.153Z"
   },
   {
    "duration": 20,
    "start_time": "2022-03-10T17:03:35.319Z"
   },
   {
    "duration": 118,
    "start_time": "2022-03-10T17:03:35.341Z"
   },
   {
    "duration": 18,
    "start_time": "2022-03-10T17:03:35.461Z"
   },
   {
    "duration": 39,
    "start_time": "2022-03-10T17:03:35.481Z"
   },
   {
    "duration": 21,
    "start_time": "2022-03-10T17:03:35.524Z"
   },
   {
    "duration": 58,
    "start_time": "2022-03-10T17:03:35.548Z"
   },
   {
    "duration": 13,
    "start_time": "2022-03-10T17:03:35.609Z"
   },
   {
    "duration": 30,
    "start_time": "2022-03-10T17:03:35.624Z"
   },
   {
    "duration": 9,
    "start_time": "2022-03-10T17:03:35.657Z"
   },
   {
    "duration": 111,
    "start_time": "2022-03-10T17:03:35.669Z"
   },
   {
    "duration": 19,
    "start_time": "2022-03-10T17:03:35.782Z"
   },
   {
    "duration": 267,
    "start_time": "2022-03-10T17:03:35.804Z"
   },
   {
    "duration": 7,
    "start_time": "2022-03-10T17:03:36.074Z"
   },
   {
    "duration": 42,
    "start_time": "2022-03-10T17:03:36.084Z"
   },
   {
    "duration": 92,
    "start_time": "2022-03-10T17:03:36.128Z"
   },
   {
    "duration": 4,
    "start_time": "2022-03-10T17:03:36.222Z"
   },
   {
    "duration": 13,
    "start_time": "2022-03-10T17:03:36.228Z"
   },
   {
    "duration": 20,
    "start_time": "2022-03-10T17:03:36.243Z"
   },
   {
    "duration": 57,
    "start_time": "2022-03-10T17:03:36.265Z"
   },
   {
    "duration": 3,
    "start_time": "2022-03-10T17:03:36.324Z"
   },
   {
    "duration": 13,
    "start_time": "2022-03-10T17:03:36.330Z"
   },
   {
    "duration": 23,
    "start_time": "2022-03-10T17:03:36.345Z"
   },
   {
    "duration": 42,
    "start_time": "2022-03-10T17:03:36.372Z"
   },
   {
    "duration": 5,
    "start_time": "2022-03-10T17:03:36.416Z"
   },
   {
    "duration": 21,
    "start_time": "2022-03-10T17:03:36.423Z"
   },
   {
    "duration": 15,
    "start_time": "2022-03-10T17:03:36.446Z"
   },
   {
    "duration": 14,
    "start_time": "2022-03-10T17:03:36.463Z"
   },
   {
    "duration": 22,
    "start_time": "2022-03-10T17:03:36.479Z"
   },
   {
    "duration": 3,
    "start_time": "2022-03-10T17:03:36.504Z"
   },
   {
    "duration": 13,
    "start_time": "2022-03-10T17:03:36.509Z"
   },
   {
    "duration": 22,
    "start_time": "2022-03-10T17:03:36.525Z"
   },
   {
    "duration": 19,
    "start_time": "2022-03-10T17:03:36.549Z"
   },
   {
    "duration": 21,
    "start_time": "2022-03-10T17:04:00.931Z"
   },
   {
    "duration": 3,
    "start_time": "2022-03-10T17:11:35.735Z"
   },
   {
    "duration": 197,
    "start_time": "2022-03-10T17:11:35.740Z"
   },
   {
    "duration": 23,
    "start_time": "2022-03-10T17:11:35.939Z"
   },
   {
    "duration": 168,
    "start_time": "2022-03-10T17:11:35.964Z"
   },
   {
    "duration": 18,
    "start_time": "2022-03-10T17:11:36.134Z"
   },
   {
    "duration": 114,
    "start_time": "2022-03-10T17:11:36.155Z"
   },
   {
    "duration": 17,
    "start_time": "2022-03-10T17:11:36.271Z"
   },
   {
    "duration": 21,
    "start_time": "2022-03-10T17:11:36.301Z"
   },
   {
    "duration": 9,
    "start_time": "2022-03-10T17:11:36.326Z"
   },
   {
    "duration": 31,
    "start_time": "2022-03-10T17:11:36.337Z"
   },
   {
    "duration": 7,
    "start_time": "2022-03-10T17:11:36.369Z"
   },
   {
    "duration": 33,
    "start_time": "2022-03-10T17:11:36.378Z"
   },
   {
    "duration": 9,
    "start_time": "2022-03-10T17:11:36.413Z"
   },
   {
    "duration": 99,
    "start_time": "2022-03-10T17:11:36.424Z"
   },
   {
    "duration": 6,
    "start_time": "2022-03-10T17:11:36.525Z"
   },
   {
    "duration": 213,
    "start_time": "2022-03-10T17:11:36.533Z"
   },
   {
    "duration": 6,
    "start_time": "2022-03-10T17:11:36.748Z"
   },
   {
    "duration": 48,
    "start_time": "2022-03-10T17:11:36.757Z"
   },
   {
    "duration": 93,
    "start_time": "2022-03-10T17:11:36.808Z"
   },
   {
    "duration": 5,
    "start_time": "2022-03-10T17:11:36.904Z"
   },
   {
    "duration": 25,
    "start_time": "2022-03-10T17:11:36.911Z"
   },
   {
    "duration": 43,
    "start_time": "2022-03-10T17:11:36.939Z"
   },
   {
    "duration": 33,
    "start_time": "2022-03-10T17:11:36.985Z"
   },
   {
    "duration": 3,
    "start_time": "2022-03-10T17:11:37.020Z"
   },
   {
    "duration": 28,
    "start_time": "2022-03-10T17:11:37.026Z"
   },
   {
    "duration": 41,
    "start_time": "2022-03-10T17:11:37.057Z"
   },
   {
    "duration": 26,
    "start_time": "2022-03-10T17:11:37.102Z"
   },
   {
    "duration": 5,
    "start_time": "2022-03-10T17:11:37.130Z"
   },
   {
    "duration": 31,
    "start_time": "2022-03-10T17:11:37.137Z"
   },
   {
    "duration": 23,
    "start_time": "2022-03-10T17:11:37.170Z"
   },
   {
    "duration": 18,
    "start_time": "2022-03-10T17:11:37.195Z"
   },
   {
    "duration": 16,
    "start_time": "2022-03-10T17:11:37.215Z"
   },
   {
    "duration": 5,
    "start_time": "2022-03-10T17:11:37.236Z"
   },
   {
    "duration": 455,
    "start_time": "2022-03-10T17:11:37.243Z"
   },
   {
    "duration": 92,
    "start_time": "2022-03-10T17:11:37.607Z"
   },
   {
    "duration": 92,
    "start_time": "2022-03-10T17:11:37.609Z"
   },
   {
    "duration": 90,
    "start_time": "2022-03-10T17:11:37.611Z"
   },
   {
    "duration": 89,
    "start_time": "2022-03-10T17:11:37.613Z"
   },
   {
    "duration": 3,
    "start_time": "2022-03-10T17:11:48.253Z"
   },
   {
    "duration": 215,
    "start_time": "2022-03-10T17:11:48.258Z"
   },
   {
    "duration": 26,
    "start_time": "2022-03-10T17:11:48.475Z"
   },
   {
    "duration": 183,
    "start_time": "2022-03-10T17:11:48.505Z"
   },
   {
    "duration": 38,
    "start_time": "2022-03-10T17:11:48.690Z"
   },
   {
    "duration": 104,
    "start_time": "2022-03-10T17:11:48.730Z"
   },
   {
    "duration": 26,
    "start_time": "2022-03-10T17:11:48.837Z"
   },
   {
    "duration": 21,
    "start_time": "2022-03-10T17:11:48.865Z"
   },
   {
    "duration": 8,
    "start_time": "2022-03-10T17:11:48.902Z"
   },
   {
    "duration": 36,
    "start_time": "2022-03-10T17:11:48.912Z"
   },
   {
    "duration": 10,
    "start_time": "2022-03-10T17:11:48.950Z"
   },
   {
    "duration": 16,
    "start_time": "2022-03-10T17:11:48.962Z"
   },
   {
    "duration": 27,
    "start_time": "2022-03-10T17:11:48.981Z"
   },
   {
    "duration": 85,
    "start_time": "2022-03-10T17:11:49.010Z"
   },
   {
    "duration": 5,
    "start_time": "2022-03-10T17:11:49.097Z"
   },
   {
    "duration": 222,
    "start_time": "2022-03-10T17:11:49.105Z"
   },
   {
    "duration": 7,
    "start_time": "2022-03-10T17:11:49.329Z"
   },
   {
    "duration": 31,
    "start_time": "2022-03-10T17:11:49.339Z"
   },
   {
    "duration": 88,
    "start_time": "2022-03-10T17:11:49.373Z"
   },
   {
    "duration": 4,
    "start_time": "2022-03-10T17:11:49.463Z"
   },
   {
    "duration": 15,
    "start_time": "2022-03-10T17:11:49.469Z"
   },
   {
    "duration": 33,
    "start_time": "2022-03-10T17:11:49.486Z"
   },
   {
    "duration": 31,
    "start_time": "2022-03-10T17:11:49.522Z"
   },
   {
    "duration": 4,
    "start_time": "2022-03-10T17:11:49.555Z"
   },
   {
    "duration": 16,
    "start_time": "2022-03-10T17:11:49.561Z"
   },
   {
    "duration": 23,
    "start_time": "2022-03-10T17:11:49.601Z"
   },
   {
    "duration": 28,
    "start_time": "2022-03-10T17:11:49.629Z"
   },
   {
    "duration": 4,
    "start_time": "2022-03-10T17:11:49.660Z"
   },
   {
    "duration": 38,
    "start_time": "2022-03-10T17:11:49.666Z"
   },
   {
    "duration": 27,
    "start_time": "2022-03-10T17:11:49.706Z"
   },
   {
    "duration": 24,
    "start_time": "2022-03-10T17:11:49.735Z"
   },
   {
    "duration": 15,
    "start_time": "2022-03-10T17:11:49.761Z"
   },
   {
    "duration": 10,
    "start_time": "2022-03-10T17:11:49.778Z"
   },
   {
    "duration": 15,
    "start_time": "2022-03-10T17:11:49.790Z"
   },
   {
    "duration": 12,
    "start_time": "2022-03-10T17:11:49.807Z"
   },
   {
    "duration": 15,
    "start_time": "2022-03-10T17:11:49.821Z"
   },
   {
    "duration": 24,
    "start_time": "2022-03-10T17:11:49.838Z"
   },
   {
    "duration": 23,
    "start_time": "2022-03-10T17:11:49.864Z"
   },
   {
    "duration": 5,
    "start_time": "2022-03-10T17:15:18.081Z"
   },
   {
    "duration": 18,
    "start_time": "2022-03-10T17:15:27.802Z"
   },
   {
    "duration": 4,
    "start_time": "2022-03-10T17:15:40.646Z"
   },
   {
    "duration": 181,
    "start_time": "2022-03-10T17:15:40.653Z"
   },
   {
    "duration": 39,
    "start_time": "2022-03-10T17:15:40.837Z"
   },
   {
    "duration": 157,
    "start_time": "2022-03-10T17:15:40.879Z"
   },
   {
    "duration": 21,
    "start_time": "2022-03-10T17:15:41.038Z"
   },
   {
    "duration": 115,
    "start_time": "2022-03-10T17:15:41.062Z"
   },
   {
    "duration": 30,
    "start_time": "2022-03-10T17:15:41.180Z"
   },
   {
    "duration": 22,
    "start_time": "2022-03-10T17:15:41.213Z"
   },
   {
    "duration": 24,
    "start_time": "2022-03-10T17:15:41.237Z"
   },
   {
    "duration": 39,
    "start_time": "2022-03-10T17:15:41.265Z"
   },
   {
    "duration": 7,
    "start_time": "2022-03-10T17:15:41.306Z"
   },
   {
    "duration": 21,
    "start_time": "2022-03-10T17:15:41.316Z"
   },
   {
    "duration": 5,
    "start_time": "2022-03-10T17:15:41.340Z"
   },
   {
    "duration": 93,
    "start_time": "2022-03-10T17:15:41.348Z"
   },
   {
    "duration": 6,
    "start_time": "2022-03-10T17:15:41.443Z"
   },
   {
    "duration": 184,
    "start_time": "2022-03-10T17:15:41.452Z"
   },
   {
    "duration": 5,
    "start_time": "2022-03-10T17:15:41.639Z"
   },
   {
    "duration": 37,
    "start_time": "2022-03-10T17:15:41.646Z"
   },
   {
    "duration": 53,
    "start_time": "2022-03-10T17:15:41.685Z"
   },
   {
    "duration": 3,
    "start_time": "2022-03-10T17:15:41.740Z"
   },
   {
    "duration": 21,
    "start_time": "2022-03-10T17:15:41.745Z"
   },
   {
    "duration": 26,
    "start_time": "2022-03-10T17:15:41.768Z"
   },
   {
    "duration": 26,
    "start_time": "2022-03-10T17:15:41.802Z"
   },
   {
    "duration": 3,
    "start_time": "2022-03-10T17:15:41.830Z"
   },
   {
    "duration": 13,
    "start_time": "2022-03-10T17:15:41.835Z"
   },
   {
    "duration": 23,
    "start_time": "2022-03-10T17:15:41.850Z"
   },
   {
    "duration": 42,
    "start_time": "2022-03-10T17:15:41.875Z"
   },
   {
    "duration": 5,
    "start_time": "2022-03-10T17:15:41.921Z"
   },
   {
    "duration": 27,
    "start_time": "2022-03-10T17:15:41.928Z"
   },
   {
    "duration": 12,
    "start_time": "2022-03-10T17:15:41.958Z"
   },
   {
    "duration": 28,
    "start_time": "2022-03-10T17:15:41.973Z"
   },
   {
    "duration": 8,
    "start_time": "2022-03-10T17:15:42.004Z"
   },
   {
    "duration": 12,
    "start_time": "2022-03-10T17:15:42.014Z"
   },
   {
    "duration": 7,
    "start_time": "2022-03-10T17:15:42.028Z"
   },
   {
    "duration": 12,
    "start_time": "2022-03-10T17:15:42.037Z"
   },
   {
    "duration": 8,
    "start_time": "2022-03-10T17:15:42.050Z"
   },
   {
    "duration": 27,
    "start_time": "2022-03-10T17:15:42.060Z"
   },
   {
    "duration": 28,
    "start_time": "2022-03-10T17:15:42.089Z"
   },
   {
    "duration": 3,
    "start_time": "2022-03-10T17:16:54.729Z"
   },
   {
    "duration": 163,
    "start_time": "2022-03-10T17:16:54.734Z"
   },
   {
    "duration": 30,
    "start_time": "2022-03-10T17:16:54.900Z"
   },
   {
    "duration": 188,
    "start_time": "2022-03-10T17:16:54.933Z"
   },
   {
    "duration": 26,
    "start_time": "2022-03-10T17:16:55.124Z"
   },
   {
    "duration": 134,
    "start_time": "2022-03-10T17:16:55.153Z"
   },
   {
    "duration": 25,
    "start_time": "2022-03-10T17:16:55.289Z"
   },
   {
    "duration": 56,
    "start_time": "2022-03-10T17:16:55.316Z"
   },
   {
    "duration": 18,
    "start_time": "2022-03-10T17:16:55.376Z"
   },
   {
    "duration": 39,
    "start_time": "2022-03-10T17:16:55.397Z"
   },
   {
    "duration": 9,
    "start_time": "2022-03-10T17:16:55.438Z"
   },
   {
    "duration": 20,
    "start_time": "2022-03-10T17:16:55.449Z"
   },
   {
    "duration": 13,
    "start_time": "2022-03-10T17:16:55.471Z"
   },
   {
    "duration": 72,
    "start_time": "2022-03-10T17:16:55.486Z"
   },
   {
    "duration": 5,
    "start_time": "2022-03-10T17:16:55.561Z"
   },
   {
    "duration": 234,
    "start_time": "2022-03-10T17:16:55.568Z"
   },
   {
    "duration": 5,
    "start_time": "2022-03-10T17:16:55.805Z"
   },
   {
    "duration": 30,
    "start_time": "2022-03-10T17:16:55.812Z"
   },
   {
    "duration": 91,
    "start_time": "2022-03-10T17:16:55.845Z"
   },
   {
    "duration": 6,
    "start_time": "2022-03-10T17:16:55.938Z"
   },
   {
    "duration": 11,
    "start_time": "2022-03-10T17:16:55.946Z"
   },
   {
    "duration": 28,
    "start_time": "2022-03-10T17:16:55.959Z"
   },
   {
    "duration": 38,
    "start_time": "2022-03-10T17:16:56.001Z"
   },
   {
    "duration": 3,
    "start_time": "2022-03-10T17:16:56.041Z"
   },
   {
    "duration": 21,
    "start_time": "2022-03-10T17:16:56.046Z"
   },
   {
    "duration": 35,
    "start_time": "2022-03-10T17:16:56.070Z"
   },
   {
    "duration": 30,
    "start_time": "2022-03-10T17:16:56.121Z"
   },
   {
    "duration": 4,
    "start_time": "2022-03-10T17:16:56.153Z"
   },
   {
    "duration": 13,
    "start_time": "2022-03-10T17:16:56.159Z"
   },
   {
    "duration": 13,
    "start_time": "2022-03-10T17:16:56.174Z"
   },
   {
    "duration": 11,
    "start_time": "2022-03-10T17:16:56.202Z"
   },
   {
    "duration": 13,
    "start_time": "2022-03-10T17:16:56.215Z"
   },
   {
    "duration": 5,
    "start_time": "2022-03-10T17:16:56.230Z"
   },
   {
    "duration": 11,
    "start_time": "2022-03-10T17:16:56.237Z"
   },
   {
    "duration": 14,
    "start_time": "2022-03-10T17:16:56.251Z"
   },
   {
    "duration": 10,
    "start_time": "2022-03-10T17:16:56.267Z"
   },
   {
    "duration": 37,
    "start_time": "2022-03-10T17:16:56.280Z"
   },
   {
    "duration": 25,
    "start_time": "2022-03-10T17:16:56.320Z"
   },
   {
    "duration": 23,
    "start_time": "2022-03-10T17:23:26.077Z"
   },
   {
    "duration": 672,
    "start_time": "2022-03-11T01:28:31.438Z"
   },
   {
    "duration": 166,
    "start_time": "2022-03-11T01:28:32.111Z"
   },
   {
    "duration": 21,
    "start_time": "2022-03-11T01:28:32.279Z"
   },
   {
    "duration": 139,
    "start_time": "2022-03-11T01:28:32.302Z"
   },
   {
    "duration": 20,
    "start_time": "2022-03-11T01:28:32.443Z"
   },
   {
    "duration": 87,
    "start_time": "2022-03-11T01:28:32.465Z"
   },
   {
    "duration": 22,
    "start_time": "2022-03-11T01:28:32.553Z"
   },
   {
    "duration": 15,
    "start_time": "2022-03-11T01:28:32.578Z"
   },
   {
    "duration": 7,
    "start_time": "2022-03-11T01:28:32.596Z"
   },
   {
    "duration": 27,
    "start_time": "2022-03-11T01:28:32.604Z"
   },
   {
    "duration": 5,
    "start_time": "2022-03-11T01:28:32.633Z"
   },
   {
    "duration": 30,
    "start_time": "2022-03-11T01:28:32.640Z"
   },
   {
    "duration": 4,
    "start_time": "2022-03-11T01:28:32.672Z"
   },
   {
    "duration": 64,
    "start_time": "2022-03-11T01:28:32.678Z"
   },
   {
    "duration": 19,
    "start_time": "2022-03-11T01:28:32.744Z"
   },
   {
    "duration": 184,
    "start_time": "2022-03-11T01:28:32.764Z"
   },
   {
    "duration": 4,
    "start_time": "2022-03-11T01:28:32.950Z"
   },
   {
    "duration": 22,
    "start_time": "2022-03-11T01:28:32.964Z"
   },
   {
    "duration": 54,
    "start_time": "2022-03-11T01:28:32.988Z"
   },
   {
    "duration": 19,
    "start_time": "2022-03-11T01:28:33.044Z"
   },
   {
    "duration": 9,
    "start_time": "2022-03-11T01:28:33.065Z"
   },
   {
    "duration": 16,
    "start_time": "2022-03-11T01:28:33.076Z"
   },
   {
    "duration": 30,
    "start_time": "2022-03-11T01:28:33.095Z"
   },
   {
    "duration": 2,
    "start_time": "2022-03-11T01:28:33.127Z"
   },
   {
    "duration": 34,
    "start_time": "2022-03-11T01:28:33.131Z"
   },
   {
    "duration": 24,
    "start_time": "2022-03-11T01:28:33.167Z"
   },
   {
    "duration": 25,
    "start_time": "2022-03-11T01:28:33.192Z"
   },
   {
    "duration": 7,
    "start_time": "2022-03-11T01:28:33.219Z"
   },
   {
    "duration": 13,
    "start_time": "2022-03-11T01:28:33.228Z"
   },
   {
    "duration": 25,
    "start_time": "2022-03-11T01:28:33.243Z"
   },
   {
    "duration": 10,
    "start_time": "2022-03-11T01:28:33.270Z"
   },
   {
    "duration": 8,
    "start_time": "2022-03-11T01:28:33.281Z"
   },
   {
    "duration": 5,
    "start_time": "2022-03-11T01:28:33.291Z"
   },
   {
    "duration": 8,
    "start_time": "2022-03-11T01:28:33.298Z"
   },
   {
    "duration": 57,
    "start_time": "2022-03-11T01:28:33.308Z"
   },
   {
    "duration": 20,
    "start_time": "2022-03-11T01:28:33.367Z"
   },
   {
    "duration": 18,
    "start_time": "2022-03-11T02:00:34.990Z"
   },
   {
    "duration": 4734,
    "start_time": "2022-03-11T02:04:33.322Z"
   },
   {
    "duration": 6,
    "start_time": "2022-03-11T02:04:42.943Z"
   },
   {
    "duration": 26,
    "start_time": "2022-03-11T02:18:25.587Z"
   },
   {
    "duration": 25,
    "start_time": "2022-03-11T02:22:29.176Z"
   },
   {
    "duration": 186,
    "start_time": "2022-03-11T02:28:20.569Z"
   },
   {
    "duration": 5,
    "start_time": "2022-03-11T02:28:55.845Z"
   },
   {
    "duration": 17,
    "start_time": "2022-03-11T02:29:09.170Z"
   },
   {
    "duration": 3,
    "start_time": "2022-03-11T02:29:20.070Z"
   },
   {
    "duration": 165,
    "start_time": "2022-03-11T02:29:20.076Z"
   },
   {
    "duration": 28,
    "start_time": "2022-03-11T02:29:20.243Z"
   },
   {
    "duration": 225,
    "start_time": "2022-03-11T02:29:20.273Z"
   },
   {
    "duration": 16,
    "start_time": "2022-03-11T02:29:20.500Z"
   },
   {
    "duration": 95,
    "start_time": "2022-03-11T02:29:20.517Z"
   },
   {
    "duration": 13,
    "start_time": "2022-03-11T02:29:20.613Z"
   },
   {
    "duration": 16,
    "start_time": "2022-03-11T02:29:20.628Z"
   },
   {
    "duration": 17,
    "start_time": "2022-03-11T02:29:20.646Z"
   },
   {
    "duration": 23,
    "start_time": "2022-03-11T02:29:20.665Z"
   },
   {
    "duration": 5,
    "start_time": "2022-03-11T02:29:20.689Z"
   },
   {
    "duration": 14,
    "start_time": "2022-03-11T02:29:20.695Z"
   },
   {
    "duration": 4,
    "start_time": "2022-03-11T02:29:20.710Z"
   },
   {
    "duration": 75,
    "start_time": "2022-03-11T02:29:20.716Z"
   },
   {
    "duration": 4,
    "start_time": "2022-03-11T02:29:20.792Z"
   },
   {
    "duration": 179,
    "start_time": "2022-03-11T02:29:20.798Z"
   },
   {
    "duration": 5,
    "start_time": "2022-03-11T02:29:20.979Z"
   },
   {
    "duration": 22,
    "start_time": "2022-03-11T02:29:20.985Z"
   },
   {
    "duration": 71,
    "start_time": "2022-03-11T02:29:21.009Z"
   },
   {
    "duration": 3,
    "start_time": "2022-03-11T02:29:21.082Z"
   },
   {
    "duration": 10,
    "start_time": "2022-03-11T02:29:21.086Z"
   },
   {
    "duration": 17,
    "start_time": "2022-03-11T02:29:21.097Z"
   },
   {
    "duration": 28,
    "start_time": "2022-03-11T02:29:21.115Z"
   },
   {
    "duration": 5,
    "start_time": "2022-03-11T02:29:21.162Z"
   },
   {
    "duration": 12,
    "start_time": "2022-03-11T02:29:21.168Z"
   },
   {
    "duration": 17,
    "start_time": "2022-03-11T02:29:21.181Z"
   },
   {
    "duration": 25,
    "start_time": "2022-03-11T02:29:21.201Z"
   },
   {
    "duration": 3,
    "start_time": "2022-03-11T02:29:21.229Z"
   },
   {
    "duration": 31,
    "start_time": "2022-03-11T02:29:21.234Z"
   },
   {
    "duration": 10,
    "start_time": "2022-03-11T02:29:21.267Z"
   },
   {
    "duration": 7,
    "start_time": "2022-03-11T02:29:21.279Z"
   },
   {
    "duration": 6,
    "start_time": "2022-03-11T02:29:21.287Z"
   },
   {
    "duration": 5,
    "start_time": "2022-03-11T02:29:21.295Z"
   },
   {
    "duration": 8,
    "start_time": "2022-03-11T02:29:21.301Z"
   },
   {
    "duration": 27,
    "start_time": "2022-03-11T02:29:21.311Z"
   },
   {
    "duration": 18,
    "start_time": "2022-03-11T02:29:21.363Z"
   },
   {
    "duration": 4,
    "start_time": "2022-03-11T02:29:21.383Z"
   },
   {
    "duration": 16,
    "start_time": "2022-03-11T02:29:21.389Z"
   },
   {
    "duration": 24,
    "start_time": "2022-03-11T02:29:21.406Z"
   },
   {
    "duration": 6,
    "start_time": "2022-03-11T02:30:44.216Z"
   },
   {
    "duration": 12,
    "start_time": "2022-03-11T02:30:46.725Z"
   },
   {
    "duration": 25,
    "start_time": "2022-03-11T02:30:57.294Z"
   },
   {
    "duration": 33,
    "start_time": "2022-03-11T03:11:25.242Z"
   },
   {
    "duration": 25,
    "start_time": "2022-03-11T03:12:54.854Z"
   },
   {
    "duration": 21,
    "start_time": "2022-03-11T03:13:25.053Z"
   },
   {
    "duration": 7,
    "start_time": "2022-03-11T03:14:50.091Z"
   },
   {
    "duration": 3,
    "start_time": "2022-03-11T03:15:49.249Z"
   },
   {
    "duration": 168,
    "start_time": "2022-03-11T03:15:49.254Z"
   },
   {
    "duration": 20,
    "start_time": "2022-03-11T03:15:49.424Z"
   },
   {
    "duration": 136,
    "start_time": "2022-03-11T03:15:49.446Z"
   },
   {
    "duration": 16,
    "start_time": "2022-03-11T03:15:49.584Z"
   },
   {
    "duration": 97,
    "start_time": "2022-03-11T03:15:49.601Z"
   },
   {
    "duration": 14,
    "start_time": "2022-03-11T03:15:49.699Z"
   },
   {
    "duration": 16,
    "start_time": "2022-03-11T03:15:49.714Z"
   },
   {
    "duration": 6,
    "start_time": "2022-03-11T03:15:49.733Z"
   },
   {
    "duration": 31,
    "start_time": "2022-03-11T03:15:49.741Z"
   },
   {
    "duration": 6,
    "start_time": "2022-03-11T03:15:49.774Z"
   },
   {
    "duration": 14,
    "start_time": "2022-03-11T03:15:49.782Z"
   },
   {
    "duration": 4,
    "start_time": "2022-03-11T03:15:49.797Z"
   },
   {
    "duration": 84,
    "start_time": "2022-03-11T03:15:49.803Z"
   },
   {
    "duration": 5,
    "start_time": "2022-03-11T03:15:49.888Z"
   },
   {
    "duration": 177,
    "start_time": "2022-03-11T03:15:49.894Z"
   },
   {
    "duration": 4,
    "start_time": "2022-03-11T03:15:50.073Z"
   },
   {
    "duration": 26,
    "start_time": "2022-03-11T03:15:50.079Z"
   },
   {
    "duration": 68,
    "start_time": "2022-03-11T03:15:50.106Z"
   },
   {
    "duration": 3,
    "start_time": "2022-03-11T03:15:50.176Z"
   },
   {
    "duration": 11,
    "start_time": "2022-03-11T03:15:50.180Z"
   },
   {
    "duration": 16,
    "start_time": "2022-03-11T03:15:50.193Z"
   },
   {
    "duration": 27,
    "start_time": "2022-03-11T03:15:50.211Z"
   },
   {
    "duration": 2,
    "start_time": "2022-03-11T03:15:50.240Z"
   },
   {
    "duration": 7,
    "start_time": "2022-03-11T03:15:50.263Z"
   },
   {
    "duration": 18,
    "start_time": "2022-03-11T03:15:50.272Z"
   },
   {
    "duration": 26,
    "start_time": "2022-03-11T03:15:50.293Z"
   },
   {
    "duration": 4,
    "start_time": "2022-03-11T03:15:50.321Z"
   },
   {
    "duration": 12,
    "start_time": "2022-03-11T03:15:50.326Z"
   },
   {
    "duration": 8,
    "start_time": "2022-03-11T03:15:50.364Z"
   },
   {
    "duration": 8,
    "start_time": "2022-03-11T03:15:50.373Z"
   },
   {
    "duration": 6,
    "start_time": "2022-03-11T03:15:50.383Z"
   },
   {
    "duration": 5,
    "start_time": "2022-03-11T03:15:50.391Z"
   },
   {
    "duration": 6,
    "start_time": "2022-03-11T03:15:50.398Z"
   },
   {
    "duration": 58,
    "start_time": "2022-03-11T03:15:50.406Z"
   },
   {
    "duration": 7,
    "start_time": "2022-03-11T03:15:50.466Z"
   },
   {
    "duration": 17,
    "start_time": "2022-03-11T03:15:50.475Z"
   },
   {
    "duration": 5,
    "start_time": "2022-03-11T03:15:50.494Z"
   },
   {
    "duration": 7,
    "start_time": "2022-03-11T03:15:50.501Z"
   },
   {
    "duration": 344,
    "start_time": "2022-03-11T03:15:50.510Z"
   },
   {
    "duration": -1,
    "start_time": "2022-03-11T03:15:50.856Z"
   },
   {
    "duration": 3,
    "start_time": "2022-03-11T03:39:15.560Z"
   },
   {
    "duration": 166,
    "start_time": "2022-03-11T03:39:15.566Z"
   },
   {
    "duration": 19,
    "start_time": "2022-03-11T03:39:15.734Z"
   },
   {
    "duration": 127,
    "start_time": "2022-03-11T03:39:15.762Z"
   },
   {
    "duration": 17,
    "start_time": "2022-03-11T03:39:15.891Z"
   },
   {
    "duration": 94,
    "start_time": "2022-03-11T03:39:15.910Z"
   },
   {
    "duration": 15,
    "start_time": "2022-03-11T03:39:16.006Z"
   },
   {
    "duration": 17,
    "start_time": "2022-03-11T03:39:16.024Z"
   },
   {
    "duration": 21,
    "start_time": "2022-03-11T03:39:16.043Z"
   },
   {
    "duration": 26,
    "start_time": "2022-03-11T03:39:16.066Z"
   },
   {
    "duration": 5,
    "start_time": "2022-03-11T03:39:16.094Z"
   },
   {
    "duration": 14,
    "start_time": "2022-03-11T03:39:16.101Z"
   },
   {
    "duration": 3,
    "start_time": "2022-03-11T03:39:16.117Z"
   },
   {
    "duration": 71,
    "start_time": "2022-03-11T03:39:16.122Z"
   },
   {
    "duration": 4,
    "start_time": "2022-03-11T03:39:16.194Z"
   },
   {
    "duration": 185,
    "start_time": "2022-03-11T03:39:16.200Z"
   },
   {
    "duration": 4,
    "start_time": "2022-03-11T03:39:16.386Z"
   },
   {
    "duration": 23,
    "start_time": "2022-03-11T03:39:16.391Z"
   },
   {
    "duration": 68,
    "start_time": "2022-03-11T03:39:16.416Z"
   },
   {
    "duration": 2,
    "start_time": "2022-03-11T03:39:16.486Z"
   },
   {
    "duration": 11,
    "start_time": "2022-03-11T03:39:16.490Z"
   },
   {
    "duration": 17,
    "start_time": "2022-03-11T03:39:16.502Z"
   },
   {
    "duration": 25,
    "start_time": "2022-03-11T03:39:16.522Z"
   },
   {
    "duration": 2,
    "start_time": "2022-03-11T03:39:16.564Z"
   },
   {
    "duration": 9,
    "start_time": "2022-03-11T03:39:16.568Z"
   },
   {
    "duration": 18,
    "start_time": "2022-03-11T03:39:16.579Z"
   },
   {
    "duration": 24,
    "start_time": "2022-03-11T03:39:16.599Z"
   },
   {
    "duration": 4,
    "start_time": "2022-03-11T03:39:16.624Z"
   },
   {
    "duration": 34,
    "start_time": "2022-03-11T03:39:16.629Z"
   },
   {
    "duration": 8,
    "start_time": "2022-03-11T03:39:16.664Z"
   },
   {
    "duration": 8,
    "start_time": "2022-03-11T03:39:16.674Z"
   },
   {
    "duration": 6,
    "start_time": "2022-03-11T03:39:16.683Z"
   },
   {
    "duration": 4,
    "start_time": "2022-03-11T03:39:16.691Z"
   },
   {
    "duration": 7,
    "start_time": "2022-03-11T03:39:16.696Z"
   },
   {
    "duration": 25,
    "start_time": "2022-03-11T03:39:16.704Z"
   },
   {
    "duration": 35,
    "start_time": "2022-03-11T03:39:16.731Z"
   },
   {
    "duration": 17,
    "start_time": "2022-03-11T03:39:16.767Z"
   },
   {
    "duration": 7,
    "start_time": "2022-03-11T03:39:16.785Z"
   },
   {
    "duration": 191,
    "start_time": "2022-03-11T03:39:16.793Z"
   },
   {
    "duration": 7,
    "start_time": "2022-03-11T03:43:40.840Z"
   },
   {
    "duration": 8,
    "start_time": "2022-03-11T03:43:46.984Z"
   },
   {
    "duration": 26,
    "start_time": "2022-03-11T03:45:27.517Z"
   },
   {
    "duration": 2,
    "start_time": "2022-03-11T03:45:44.831Z"
   },
   {
    "duration": 157,
    "start_time": "2022-03-11T03:45:44.835Z"
   },
   {
    "duration": 21,
    "start_time": "2022-03-11T03:45:44.994Z"
   },
   {
    "duration": 163,
    "start_time": "2022-03-11T03:45:45.017Z"
   },
   {
    "duration": 16,
    "start_time": "2022-03-11T03:45:45.181Z"
   },
   {
    "duration": 87,
    "start_time": "2022-03-11T03:45:45.198Z"
   },
   {
    "duration": 14,
    "start_time": "2022-03-11T03:45:45.287Z"
   },
   {
    "duration": 16,
    "start_time": "2022-03-11T03:45:45.303Z"
   },
   {
    "duration": 6,
    "start_time": "2022-03-11T03:45:45.321Z"
   },
   {
    "duration": 25,
    "start_time": "2022-03-11T03:45:45.328Z"
   },
   {
    "duration": 6,
    "start_time": "2022-03-11T03:45:45.363Z"
   },
   {
    "duration": 15,
    "start_time": "2022-03-11T03:45:45.370Z"
   },
   {
    "duration": 4,
    "start_time": "2022-03-11T03:45:45.386Z"
   },
   {
    "duration": 80,
    "start_time": "2022-03-11T03:45:45.391Z"
   },
   {
    "duration": 4,
    "start_time": "2022-03-11T03:45:45.473Z"
   },
   {
    "duration": 162,
    "start_time": "2022-03-11T03:45:45.479Z"
   },
   {
    "duration": 3,
    "start_time": "2022-03-11T03:45:45.643Z"
   },
   {
    "duration": 35,
    "start_time": "2022-03-11T03:45:45.648Z"
   },
   {
    "duration": 52,
    "start_time": "2022-03-11T03:45:45.685Z"
   },
   {
    "duration": 2,
    "start_time": "2022-03-11T03:45:45.739Z"
   },
   {
    "duration": 24,
    "start_time": "2022-03-11T03:45:45.743Z"
   },
   {
    "duration": 18,
    "start_time": "2022-03-11T03:45:45.768Z"
   },
   {
    "duration": 28,
    "start_time": "2022-03-11T03:45:45.789Z"
   },
   {
    "duration": 3,
    "start_time": "2022-03-11T03:45:45.819Z"
   },
   {
    "duration": 27,
    "start_time": "2022-03-11T03:45:45.823Z"
   },
   {
    "duration": 30,
    "start_time": "2022-03-11T03:45:45.851Z"
   },
   {
    "duration": 31,
    "start_time": "2022-03-11T03:45:45.883Z"
   },
   {
    "duration": 4,
    "start_time": "2022-03-11T03:45:45.915Z"
   },
   {
    "duration": 18,
    "start_time": "2022-03-11T03:45:45.921Z"
   },
   {
    "duration": 13,
    "start_time": "2022-03-11T03:45:45.940Z"
   },
   {
    "duration": 12,
    "start_time": "2022-03-11T03:45:45.954Z"
   },
   {
    "duration": 7,
    "start_time": "2022-03-11T03:45:45.967Z"
   },
   {
    "duration": 5,
    "start_time": "2022-03-11T03:45:45.975Z"
   },
   {
    "duration": 8,
    "start_time": "2022-03-11T03:45:45.981Z"
   },
   {
    "duration": 29,
    "start_time": "2022-03-11T03:45:45.990Z"
   },
   {
    "duration": 8,
    "start_time": "2022-03-11T03:45:46.020Z"
   },
   {
    "duration": 48,
    "start_time": "2022-03-11T03:45:46.029Z"
   },
   {
    "duration": 6,
    "start_time": "2022-03-11T03:45:46.079Z"
   },
   {
    "duration": 24,
    "start_time": "2022-03-11T03:45:46.086Z"
   },
   {
    "duration": 21,
    "start_time": "2022-03-11T03:45:46.112Z"
   },
   {
    "duration": 37,
    "start_time": "2022-03-11T03:45:46.135Z"
   },
   {
    "duration": 3,
    "start_time": "2022-03-11T03:46:29.806Z"
   },
   {
    "duration": 153,
    "start_time": "2022-03-11T03:46:29.811Z"
   },
   {
    "duration": 21,
    "start_time": "2022-03-11T03:46:29.966Z"
   },
   {
    "duration": 163,
    "start_time": "2022-03-11T03:46:29.989Z"
   },
   {
    "duration": 17,
    "start_time": "2022-03-11T03:46:30.153Z"
   },
   {
    "duration": 94,
    "start_time": "2022-03-11T03:46:30.172Z"
   },
   {
    "duration": 14,
    "start_time": "2022-03-11T03:46:30.268Z"
   },
   {
    "duration": 22,
    "start_time": "2022-03-11T03:46:30.283Z"
   },
   {
    "duration": 6,
    "start_time": "2022-03-11T03:46:30.308Z"
   },
   {
    "duration": 29,
    "start_time": "2022-03-11T03:46:30.316Z"
   },
   {
    "duration": 20,
    "start_time": "2022-03-11T03:46:30.347Z"
   },
   {
    "duration": 31,
    "start_time": "2022-03-11T03:46:30.368Z"
   },
   {
    "duration": 10,
    "start_time": "2022-03-11T03:46:30.401Z"
   },
   {
    "duration": 63,
    "start_time": "2022-03-11T03:46:30.413Z"
   },
   {
    "duration": 5,
    "start_time": "2022-03-11T03:46:30.478Z"
   },
   {
    "duration": 175,
    "start_time": "2022-03-11T03:46:30.484Z"
   },
   {
    "duration": 4,
    "start_time": "2022-03-11T03:46:30.663Z"
   },
   {
    "duration": 31,
    "start_time": "2022-03-11T03:46:30.669Z"
   },
   {
    "duration": 66,
    "start_time": "2022-03-11T03:46:30.702Z"
   },
   {
    "duration": 2,
    "start_time": "2022-03-11T03:46:30.770Z"
   },
   {
    "duration": 15,
    "start_time": "2022-03-11T03:46:30.774Z"
   },
   {
    "duration": 21,
    "start_time": "2022-03-11T03:46:30.791Z"
   },
   {
    "duration": 27,
    "start_time": "2022-03-11T03:46:30.814Z"
   },
   {
    "duration": 2,
    "start_time": "2022-03-11T03:46:30.843Z"
   },
   {
    "duration": 7,
    "start_time": "2022-03-11T03:46:30.862Z"
   },
   {
    "duration": 25,
    "start_time": "2022-03-11T03:46:30.871Z"
   },
   {
    "duration": 25,
    "start_time": "2022-03-11T03:46:30.900Z"
   },
   {
    "duration": 4,
    "start_time": "2022-03-11T03:46:30.927Z"
   },
   {
    "duration": 22,
    "start_time": "2022-03-11T03:46:30.933Z"
   },
   {
    "duration": 14,
    "start_time": "2022-03-11T03:46:30.957Z"
   },
   {
    "duration": 20,
    "start_time": "2022-03-11T03:46:30.972Z"
   },
   {
    "duration": 7,
    "start_time": "2022-03-11T03:46:30.994Z"
   },
   {
    "duration": 6,
    "start_time": "2022-03-11T03:46:31.003Z"
   },
   {
    "duration": 11,
    "start_time": "2022-03-11T03:46:31.010Z"
   },
   {
    "duration": 45,
    "start_time": "2022-03-11T03:46:31.022Z"
   },
   {
    "duration": 7,
    "start_time": "2022-03-11T03:46:31.069Z"
   },
   {
    "duration": 19,
    "start_time": "2022-03-11T03:46:31.078Z"
   },
   {
    "duration": 7,
    "start_time": "2022-03-11T03:46:31.098Z"
   },
   {
    "duration": 8,
    "start_time": "2022-03-11T03:46:31.106Z"
   },
   {
    "duration": 50,
    "start_time": "2022-03-11T03:46:31.116Z"
   },
   {
    "duration": 8,
    "start_time": "2022-03-11T03:46:31.167Z"
   },
   {
    "duration": 27,
    "start_time": "2022-03-11T03:46:31.176Z"
   },
   {
    "duration": 3,
    "start_time": "2022-03-11T03:47:57.818Z"
   },
   {
    "duration": 156,
    "start_time": "2022-03-11T03:47:57.823Z"
   },
   {
    "duration": 20,
    "start_time": "2022-03-11T03:47:57.981Z"
   },
   {
    "duration": 146,
    "start_time": "2022-03-11T03:47:58.003Z"
   },
   {
    "duration": 26,
    "start_time": "2022-03-11T03:47:58.151Z"
   },
   {
    "duration": 92,
    "start_time": "2022-03-11T03:47:58.179Z"
   },
   {
    "duration": 14,
    "start_time": "2022-03-11T03:47:58.273Z"
   },
   {
    "duration": 16,
    "start_time": "2022-03-11T03:47:58.289Z"
   },
   {
    "duration": 7,
    "start_time": "2022-03-11T03:47:58.308Z"
   },
   {
    "duration": 24,
    "start_time": "2022-03-11T03:47:58.317Z"
   },
   {
    "duration": 23,
    "start_time": "2022-03-11T03:47:58.344Z"
   },
   {
    "duration": 15,
    "start_time": "2022-03-11T03:47:58.369Z"
   },
   {
    "duration": 5,
    "start_time": "2022-03-11T03:47:58.385Z"
   },
   {
    "duration": 91,
    "start_time": "2022-03-11T03:47:58.392Z"
   },
   {
    "duration": 5,
    "start_time": "2022-03-11T03:47:58.485Z"
   },
   {
    "duration": 156,
    "start_time": "2022-03-11T03:47:58.491Z"
   },
   {
    "duration": 4,
    "start_time": "2022-03-11T03:47:58.649Z"
   },
   {
    "duration": 30,
    "start_time": "2022-03-11T03:47:58.654Z"
   },
   {
    "duration": 55,
    "start_time": "2022-03-11T03:47:58.685Z"
   },
   {
    "duration": 22,
    "start_time": "2022-03-11T03:47:58.741Z"
   },
   {
    "duration": 9,
    "start_time": "2022-03-11T03:47:58.765Z"
   },
   {
    "duration": 17,
    "start_time": "2022-03-11T03:47:58.776Z"
   },
   {
    "duration": 28,
    "start_time": "2022-03-11T03:47:58.795Z"
   },
   {
    "duration": 2,
    "start_time": "2022-03-11T03:47:58.825Z"
   },
   {
    "duration": 41,
    "start_time": "2022-03-11T03:47:58.829Z"
   },
   {
    "duration": 18,
    "start_time": "2022-03-11T03:47:58.872Z"
   },
   {
    "duration": 25,
    "start_time": "2022-03-11T03:47:58.893Z"
   },
   {
    "duration": 3,
    "start_time": "2022-03-11T03:47:58.920Z"
   },
   {
    "duration": 10,
    "start_time": "2022-03-11T03:47:58.925Z"
   },
   {
    "duration": 26,
    "start_time": "2022-03-11T03:47:58.937Z"
   },
   {
    "duration": 9,
    "start_time": "2022-03-11T03:47:58.965Z"
   },
   {
    "duration": 10,
    "start_time": "2022-03-11T03:47:58.976Z"
   },
   {
    "duration": 8,
    "start_time": "2022-03-11T03:47:58.987Z"
   },
   {
    "duration": 8,
    "start_time": "2022-03-11T03:47:58.996Z"
   },
   {
    "duration": 27,
    "start_time": "2022-03-11T03:47:59.005Z"
   },
   {
    "duration": 6,
    "start_time": "2022-03-11T03:47:59.033Z"
   },
   {
    "duration": 18,
    "start_time": "2022-03-11T03:47:59.063Z"
   },
   {
    "duration": 6,
    "start_time": "2022-03-11T03:47:59.082Z"
   },
   {
    "duration": 8,
    "start_time": "2022-03-11T03:47:59.090Z"
   },
   {
    "duration": 27,
    "start_time": "2022-03-11T03:47:59.099Z"
   },
   {
    "duration": 6,
    "start_time": "2022-03-11T03:47:59.128Z"
   },
   {
    "duration": 52,
    "start_time": "2022-03-11T03:47:59.135Z"
   },
   {
    "duration": 28,
    "start_time": "2022-03-11T03:49:46.086Z"
   },
   {
    "duration": 5,
    "start_time": "2022-03-11T03:56:39.625Z"
   },
   {
    "duration": 28,
    "start_time": "2022-03-11T03:56:45.651Z"
   },
   {
    "duration": 3,
    "start_time": "2022-03-11T03:56:51.097Z"
   },
   {
    "duration": 158,
    "start_time": "2022-03-11T03:56:51.102Z"
   },
   {
    "duration": 20,
    "start_time": "2022-03-11T03:56:51.262Z"
   },
   {
    "duration": 145,
    "start_time": "2022-03-11T03:56:51.284Z"
   },
   {
    "duration": 18,
    "start_time": "2022-03-11T03:56:51.430Z"
   },
   {
    "duration": 94,
    "start_time": "2022-03-11T03:56:51.449Z"
   },
   {
    "duration": 23,
    "start_time": "2022-03-11T03:56:51.544Z"
   },
   {
    "duration": 16,
    "start_time": "2022-03-11T03:56:51.568Z"
   },
   {
    "duration": 7,
    "start_time": "2022-03-11T03:56:51.587Z"
   },
   {
    "duration": 24,
    "start_time": "2022-03-11T03:56:51.597Z"
   },
   {
    "duration": 6,
    "start_time": "2022-03-11T03:56:51.623Z"
   },
   {
    "duration": 14,
    "start_time": "2022-03-11T03:56:51.631Z"
   },
   {
    "duration": 4,
    "start_time": "2022-03-11T03:56:51.663Z"
   },
   {
    "duration": 61,
    "start_time": "2022-03-11T03:56:51.669Z"
   },
   {
    "duration": 4,
    "start_time": "2022-03-11T03:56:51.732Z"
   },
   {
    "duration": 187,
    "start_time": "2022-03-11T03:56:51.738Z"
   },
   {
    "duration": 4,
    "start_time": "2022-03-11T03:56:51.927Z"
   },
   {
    "duration": 37,
    "start_time": "2022-03-11T03:56:51.932Z"
   },
   {
    "duration": 54,
    "start_time": "2022-03-11T03:56:51.971Z"
   },
   {
    "duration": 3,
    "start_time": "2022-03-11T03:56:52.027Z"
   },
   {
    "duration": 10,
    "start_time": "2022-03-11T03:56:52.032Z"
   },
   {
    "duration": 32,
    "start_time": "2022-03-11T03:56:52.044Z"
   },
   {
    "duration": 26,
    "start_time": "2022-03-11T03:56:52.078Z"
   },
   {
    "duration": 3,
    "start_time": "2022-03-11T03:56:52.105Z"
   },
   {
    "duration": 9,
    "start_time": "2022-03-11T03:56:52.110Z"
   },
   {
    "duration": 20,
    "start_time": "2022-03-11T03:56:52.121Z"
   },
   {
    "duration": 26,
    "start_time": "2022-03-11T03:56:52.164Z"
   },
   {
    "duration": 4,
    "start_time": "2022-03-11T03:56:52.192Z"
   },
   {
    "duration": 10,
    "start_time": "2022-03-11T03:56:52.198Z"
   },
   {
    "duration": 10,
    "start_time": "2022-03-11T03:56:52.209Z"
   },
   {
    "duration": 8,
    "start_time": "2022-03-11T03:56:52.221Z"
   },
   {
    "duration": 36,
    "start_time": "2022-03-11T03:56:52.230Z"
   },
   {
    "duration": 5,
    "start_time": "2022-03-11T03:56:52.267Z"
   },
   {
    "duration": 11,
    "start_time": "2022-03-11T03:56:52.274Z"
   },
   {
    "duration": 28,
    "start_time": "2022-03-11T03:56:52.287Z"
   },
   {
    "duration": 7,
    "start_time": "2022-03-11T03:56:52.316Z"
   },
   {
    "duration": 42,
    "start_time": "2022-03-11T03:56:52.325Z"
   },
   {
    "duration": 6,
    "start_time": "2022-03-11T03:56:52.368Z"
   },
   {
    "duration": 9,
    "start_time": "2022-03-11T03:56:52.376Z"
   },
   {
    "duration": 32,
    "start_time": "2022-03-11T03:56:52.387Z"
   },
   {
    "duration": 6,
    "start_time": "2022-03-11T03:56:52.420Z"
   },
   {
    "duration": 39,
    "start_time": "2022-03-11T03:56:52.428Z"
   },
   {
    "duration": 3,
    "start_time": "2022-03-11T05:16:55.322Z"
   },
   {
    "duration": 151,
    "start_time": "2022-03-11T05:16:55.327Z"
   },
   {
    "duration": 20,
    "start_time": "2022-03-11T05:16:55.480Z"
   },
   {
    "duration": 131,
    "start_time": "2022-03-11T05:16:55.502Z"
   },
   {
    "duration": 17,
    "start_time": "2022-03-11T05:16:55.634Z"
   },
   {
    "duration": 84,
    "start_time": "2022-03-11T05:16:55.663Z"
   },
   {
    "duration": 18,
    "start_time": "2022-03-11T05:16:55.749Z"
   },
   {
    "duration": 16,
    "start_time": "2022-03-11T05:16:55.768Z"
   },
   {
    "duration": 5,
    "start_time": "2022-03-11T05:16:55.787Z"
   },
   {
    "duration": 24,
    "start_time": "2022-03-11T05:16:55.794Z"
   },
   {
    "duration": 6,
    "start_time": "2022-03-11T05:16:55.819Z"
   },
   {
    "duration": 12,
    "start_time": "2022-03-11T05:16:55.826Z"
   },
   {
    "duration": 24,
    "start_time": "2022-03-11T05:16:55.839Z"
   },
   {
    "duration": 56,
    "start_time": "2022-03-11T05:16:55.865Z"
   },
   {
    "duration": 4,
    "start_time": "2022-03-11T05:16:55.923Z"
   },
   {
    "duration": 188,
    "start_time": "2022-03-11T05:16:55.929Z"
   },
   {
    "duration": 4,
    "start_time": "2022-03-11T05:16:56.119Z"
   },
   {
    "duration": 39,
    "start_time": "2022-03-11T05:16:56.125Z"
   },
   {
    "duration": 50,
    "start_time": "2022-03-11T05:16:56.166Z"
   },
   {
    "duration": 3,
    "start_time": "2022-03-11T05:16:56.218Z"
   },
   {
    "duration": 16,
    "start_time": "2022-03-11T05:16:56.222Z"
   },
   {
    "duration": 29,
    "start_time": "2022-03-11T05:16:56.239Z"
   },
   {
    "duration": 25,
    "start_time": "2022-03-11T05:16:56.270Z"
   },
   {
    "duration": 2,
    "start_time": "2022-03-11T05:16:56.297Z"
   },
   {
    "duration": 8,
    "start_time": "2022-03-11T05:16:56.301Z"
   },
   {
    "duration": 20,
    "start_time": "2022-03-11T05:16:56.311Z"
   },
   {
    "duration": 39,
    "start_time": "2022-03-11T05:16:56.334Z"
   },
   {
    "duration": 4,
    "start_time": "2022-03-11T05:16:56.374Z"
   },
   {
    "duration": 14,
    "start_time": "2022-03-11T05:16:56.380Z"
   },
   {
    "duration": 13,
    "start_time": "2022-03-11T05:16:56.395Z"
   },
   {
    "duration": 7,
    "start_time": "2022-03-11T05:16:56.410Z"
   },
   {
    "duration": 6,
    "start_time": "2022-03-11T05:16:56.419Z"
   },
   {
    "duration": 4,
    "start_time": "2022-03-11T05:16:56.426Z"
   },
   {
    "duration": 7,
    "start_time": "2022-03-11T05:16:56.432Z"
   },
   {
    "duration": 53,
    "start_time": "2022-03-11T05:16:56.440Z"
   },
   {
    "duration": 6,
    "start_time": "2022-03-11T05:16:56.495Z"
   },
   {
    "duration": 19,
    "start_time": "2022-03-11T05:16:56.502Z"
   },
   {
    "duration": 5,
    "start_time": "2022-03-11T05:16:56.523Z"
   },
   {
    "duration": 7,
    "start_time": "2022-03-11T05:16:56.530Z"
   },
   {
    "duration": 28,
    "start_time": "2022-03-11T05:16:56.538Z"
   },
   {
    "duration": 4,
    "start_time": "2022-03-11T05:16:56.567Z"
   },
   {
    "duration": 386,
    "start_time": "2022-03-11T05:16:56.572Z"
   },
   {
    "duration": 136,
    "start_time": "2022-03-11T05:26:52.929Z"
   },
   {
    "duration": 3,
    "start_time": "2022-03-11T05:26:59.835Z"
   },
   {
    "duration": 159,
    "start_time": "2022-03-11T05:26:59.840Z"
   },
   {
    "duration": 24,
    "start_time": "2022-03-11T05:27:00.002Z"
   },
   {
    "duration": 148,
    "start_time": "2022-03-11T05:27:00.029Z"
   },
   {
    "duration": 17,
    "start_time": "2022-03-11T05:27:00.179Z"
   },
   {
    "duration": 105,
    "start_time": "2022-03-11T05:27:00.198Z"
   },
   {
    "duration": 14,
    "start_time": "2022-03-11T05:27:00.304Z"
   },
   {
    "duration": 25,
    "start_time": "2022-03-11T05:27:00.321Z"
   },
   {
    "duration": 15,
    "start_time": "2022-03-11T05:27:00.348Z"
   },
   {
    "duration": 29,
    "start_time": "2022-03-11T05:27:00.365Z"
   },
   {
    "duration": 6,
    "start_time": "2022-03-11T05:27:00.396Z"
   },
   {
    "duration": 18,
    "start_time": "2022-03-11T05:27:00.403Z"
   },
   {
    "duration": 4,
    "start_time": "2022-03-11T05:27:00.422Z"
   },
   {
    "duration": 77,
    "start_time": "2022-03-11T05:27:00.428Z"
   },
   {
    "duration": 4,
    "start_time": "2022-03-11T05:27:00.507Z"
   },
   {
    "duration": 170,
    "start_time": "2022-03-11T05:27:00.513Z"
   },
   {
    "duration": 4,
    "start_time": "2022-03-11T05:27:00.685Z"
   },
   {
    "duration": 24,
    "start_time": "2022-03-11T05:27:00.691Z"
   },
   {
    "duration": 70,
    "start_time": "2022-03-11T05:27:00.717Z"
   },
   {
    "duration": 3,
    "start_time": "2022-03-11T05:27:00.789Z"
   },
   {
    "duration": 25,
    "start_time": "2022-03-11T05:27:00.793Z"
   },
   {
    "duration": 18,
    "start_time": "2022-03-11T05:27:00.820Z"
   },
   {
    "duration": 31,
    "start_time": "2022-03-11T05:27:00.842Z"
   },
   {
    "duration": 3,
    "start_time": "2022-03-11T05:27:00.875Z"
   },
   {
    "duration": 18,
    "start_time": "2022-03-11T05:27:00.879Z"
   },
   {
    "duration": 26,
    "start_time": "2022-03-11T05:27:00.899Z"
   },
   {
    "duration": 24,
    "start_time": "2022-03-11T05:27:00.926Z"
   },
   {
    "duration": 12,
    "start_time": "2022-03-11T05:27:00.952Z"
   },
   {
    "duration": 14,
    "start_time": "2022-03-11T05:27:00.966Z"
   },
   {
    "duration": 13,
    "start_time": "2022-03-11T05:27:00.982Z"
   },
   {
    "duration": 21,
    "start_time": "2022-03-11T05:27:00.996Z"
   },
   {
    "duration": 7,
    "start_time": "2022-03-11T05:27:01.019Z"
   },
   {
    "duration": 16,
    "start_time": "2022-03-11T05:27:01.028Z"
   },
   {
    "duration": 13,
    "start_time": "2022-03-11T05:27:01.046Z"
   },
   {
    "duration": 30,
    "start_time": "2022-03-11T05:27:01.060Z"
   },
   {
    "duration": 7,
    "start_time": "2022-03-11T05:27:01.092Z"
   },
   {
    "duration": 24,
    "start_time": "2022-03-11T05:27:01.100Z"
   },
   {
    "duration": 6,
    "start_time": "2022-03-11T05:27:01.126Z"
   },
   {
    "duration": 14,
    "start_time": "2022-03-11T05:27:01.134Z"
   },
   {
    "duration": 7,
    "start_time": "2022-03-11T05:27:01.163Z"
   },
   {
    "duration": 79,
    "start_time": "2022-03-11T05:27:01.172Z"
   },
   {
    "duration": 173,
    "start_time": "2022-03-11T05:27:01.080Z"
   },
   {
    "duration": 3,
    "start_time": "2022-03-11T05:28:54.534Z"
   },
   {
    "duration": 151,
    "start_time": "2022-03-11T05:28:54.541Z"
   },
   {
    "duration": 23,
    "start_time": "2022-03-11T05:28:54.694Z"
   },
   {
    "duration": 146,
    "start_time": "2022-03-11T05:28:54.718Z"
   },
   {
    "duration": 16,
    "start_time": "2022-03-11T05:28:54.866Z"
   },
   {
    "duration": 95,
    "start_time": "2022-03-11T05:28:54.884Z"
   },
   {
    "duration": 16,
    "start_time": "2022-03-11T05:28:54.981Z"
   },
   {
    "duration": 19,
    "start_time": "2022-03-11T05:28:54.999Z"
   },
   {
    "duration": 6,
    "start_time": "2022-03-11T05:28:55.020Z"
   },
   {
    "duration": 35,
    "start_time": "2022-03-11T05:28:55.029Z"
   },
   {
    "duration": 6,
    "start_time": "2022-03-11T05:28:55.066Z"
   },
   {
    "duration": 15,
    "start_time": "2022-03-11T05:28:55.074Z"
   },
   {
    "duration": 4,
    "start_time": "2022-03-11T05:28:55.091Z"
   },
   {
    "duration": 81,
    "start_time": "2022-03-11T05:28:55.097Z"
   },
   {
    "duration": 4,
    "start_time": "2022-03-11T05:28:55.180Z"
   },
   {
    "duration": 177,
    "start_time": "2022-03-11T05:28:55.186Z"
   },
   {
    "duration": 4,
    "start_time": "2022-03-11T05:28:55.365Z"
   },
   {
    "duration": 30,
    "start_time": "2022-03-11T05:28:55.370Z"
   },
   {
    "duration": 64,
    "start_time": "2022-03-11T05:28:55.402Z"
   },
   {
    "duration": 3,
    "start_time": "2022-03-11T05:28:55.468Z"
   },
   {
    "duration": 9,
    "start_time": "2022-03-11T05:28:55.473Z"
   },
   {
    "duration": 15,
    "start_time": "2022-03-11T05:28:55.484Z"
   },
   {
    "duration": 28,
    "start_time": "2022-03-11T05:28:55.500Z"
   },
   {
    "duration": 3,
    "start_time": "2022-03-11T05:28:55.531Z"
   },
   {
    "duration": 32,
    "start_time": "2022-03-11T05:28:55.536Z"
   },
   {
    "duration": 19,
    "start_time": "2022-03-11T05:28:55.569Z"
   },
   {
    "duration": 23,
    "start_time": "2022-03-11T05:28:55.590Z"
   },
   {
    "duration": 4,
    "start_time": "2022-03-11T05:28:55.614Z"
   },
   {
    "duration": 10,
    "start_time": "2022-03-11T05:28:55.620Z"
   },
   {
    "duration": 34,
    "start_time": "2022-03-11T05:28:55.631Z"
   },
   {
    "duration": 8,
    "start_time": "2022-03-11T05:28:55.667Z"
   },
   {
    "duration": 7,
    "start_time": "2022-03-11T05:28:55.677Z"
   },
   {
    "duration": 4,
    "start_time": "2022-03-11T05:28:55.685Z"
   },
   {
    "duration": 7,
    "start_time": "2022-03-11T05:28:55.691Z"
   },
   {
    "duration": 26,
    "start_time": "2022-03-11T05:28:55.699Z"
   },
   {
    "duration": 6,
    "start_time": "2022-03-11T05:28:55.727Z"
   },
   {
    "duration": 20,
    "start_time": "2022-03-11T05:28:55.763Z"
   },
   {
    "duration": 7,
    "start_time": "2022-03-11T05:28:55.785Z"
   },
   {
    "duration": 7,
    "start_time": "2022-03-11T05:28:55.793Z"
   },
   {
    "duration": 8,
    "start_time": "2022-03-11T05:28:55.802Z"
   },
   {
    "duration": 4,
    "start_time": "2022-03-11T05:28:55.812Z"
   },
   {
    "duration": 427,
    "start_time": "2022-03-11T05:28:55.818Z"
   },
   {
    "duration": 3,
    "start_time": "2022-03-11T05:59:14.306Z"
   },
   {
    "duration": 153,
    "start_time": "2022-03-11T05:59:14.311Z"
   },
   {
    "duration": 19,
    "start_time": "2022-03-11T05:59:14.466Z"
   },
   {
    "duration": 137,
    "start_time": "2022-03-11T05:59:14.487Z"
   },
   {
    "duration": 17,
    "start_time": "2022-03-11T05:59:14.625Z"
   },
   {
    "duration": 91,
    "start_time": "2022-03-11T05:59:14.643Z"
   },
   {
    "duration": 13,
    "start_time": "2022-03-11T05:59:14.736Z"
   },
   {
    "duration": 15,
    "start_time": "2022-03-11T05:59:14.763Z"
   },
   {
    "duration": 5,
    "start_time": "2022-03-11T05:59:14.781Z"
   },
   {
    "duration": 27,
    "start_time": "2022-03-11T05:59:14.788Z"
   },
   {
    "duration": 5,
    "start_time": "2022-03-11T05:59:14.817Z"
   },
   {
    "duration": 13,
    "start_time": "2022-03-11T05:59:14.824Z"
   },
   {
    "duration": 4,
    "start_time": "2022-03-11T05:59:14.838Z"
   },
   {
    "duration": 68,
    "start_time": "2022-03-11T05:59:14.843Z"
   },
   {
    "duration": 4,
    "start_time": "2022-03-11T05:59:14.913Z"
   },
   {
    "duration": 185,
    "start_time": "2022-03-11T05:59:14.919Z"
   },
   {
    "duration": 4,
    "start_time": "2022-03-11T05:59:15.105Z"
   },
   {
    "duration": 23,
    "start_time": "2022-03-11T05:59:15.111Z"
   },
   {
    "duration": 64,
    "start_time": "2022-03-11T05:59:15.136Z"
   },
   {
    "duration": 3,
    "start_time": "2022-03-11T05:59:15.202Z"
   },
   {
    "duration": 12,
    "start_time": "2022-03-11T05:59:15.206Z"
   },
   {
    "duration": 23,
    "start_time": "2022-03-11T05:59:15.219Z"
   },
   {
    "duration": 36,
    "start_time": "2022-03-11T05:59:15.244Z"
   },
   {
    "duration": 3,
    "start_time": "2022-03-11T05:59:15.281Z"
   },
   {
    "duration": 16,
    "start_time": "2022-03-11T05:59:15.285Z"
   },
   {
    "duration": 26,
    "start_time": "2022-03-11T05:59:15.303Z"
   },
   {
    "duration": 33,
    "start_time": "2022-03-11T05:59:15.332Z"
   },
   {
    "duration": 3,
    "start_time": "2022-03-11T05:59:15.367Z"
   },
   {
    "duration": 14,
    "start_time": "2022-03-11T05:59:15.372Z"
   },
   {
    "duration": 12,
    "start_time": "2022-03-11T05:59:15.387Z"
   },
   {
    "duration": 8,
    "start_time": "2022-03-11T05:59:15.400Z"
   },
   {
    "duration": 23,
    "start_time": "2022-03-11T05:59:15.409Z"
   },
   {
    "duration": 9,
    "start_time": "2022-03-11T05:59:15.434Z"
   },
   {
    "duration": 21,
    "start_time": "2022-03-11T05:59:15.444Z"
   },
   {
    "duration": 27,
    "start_time": "2022-03-11T05:59:15.467Z"
   },
   {
    "duration": 6,
    "start_time": "2022-03-11T05:59:15.496Z"
   },
   {
    "duration": 17,
    "start_time": "2022-03-11T05:59:15.503Z"
   },
   {
    "duration": 6,
    "start_time": "2022-03-11T05:59:15.522Z"
   },
   {
    "duration": 39,
    "start_time": "2022-03-11T05:59:15.529Z"
   },
   {
    "duration": 8,
    "start_time": "2022-03-11T05:59:15.570Z"
   },
   {
    "duration": 4,
    "start_time": "2022-03-11T05:59:15.580Z"
   },
   {
    "duration": 417,
    "start_time": "2022-03-11T05:59:15.586Z"
   },
   {
    "duration": 3,
    "start_time": "2022-03-11T06:01:13.244Z"
   },
   {
    "duration": 173,
    "start_time": "2022-03-11T06:01:13.248Z"
   },
   {
    "duration": 20,
    "start_time": "2022-03-11T06:01:13.424Z"
   },
   {
    "duration": 136,
    "start_time": "2022-03-11T06:01:13.446Z"
   },
   {
    "duration": 19,
    "start_time": "2022-03-11T06:01:13.584Z"
   },
   {
    "duration": 101,
    "start_time": "2022-03-11T06:01:13.605Z"
   },
   {
    "duration": 14,
    "start_time": "2022-03-11T06:01:13.708Z"
   },
   {
    "duration": 16,
    "start_time": "2022-03-11T06:01:13.724Z"
   },
   {
    "duration": 20,
    "start_time": "2022-03-11T06:01:13.743Z"
   },
   {
    "duration": 28,
    "start_time": "2022-03-11T06:01:13.765Z"
   },
   {
    "duration": 6,
    "start_time": "2022-03-11T06:01:13.795Z"
   },
   {
    "duration": 14,
    "start_time": "2022-03-11T06:01:13.802Z"
   },
   {
    "duration": 4,
    "start_time": "2022-03-11T06:01:13.818Z"
   },
   {
    "duration": 75,
    "start_time": "2022-03-11T06:01:13.823Z"
   },
   {
    "duration": 4,
    "start_time": "2022-03-11T06:01:13.900Z"
   },
   {
    "duration": 194,
    "start_time": "2022-03-11T06:01:13.906Z"
   },
   {
    "duration": 5,
    "start_time": "2022-03-11T06:01:14.102Z"
   },
   {
    "duration": 28,
    "start_time": "2022-03-11T06:01:14.109Z"
   },
   {
    "duration": 67,
    "start_time": "2022-03-11T06:01:14.139Z"
   },
   {
    "duration": 3,
    "start_time": "2022-03-11T06:01:14.207Z"
   },
   {
    "duration": 10,
    "start_time": "2022-03-11T06:01:14.212Z"
   },
   {
    "duration": 18,
    "start_time": "2022-03-11T06:01:14.224Z"
   },
   {
    "duration": 47,
    "start_time": "2022-03-11T06:01:14.243Z"
   },
   {
    "duration": 3,
    "start_time": "2022-03-11T06:01:14.291Z"
   },
   {
    "duration": 11,
    "start_time": "2022-03-11T06:01:14.295Z"
   },
   {
    "duration": 22,
    "start_time": "2022-03-11T06:01:14.307Z"
   },
   {
    "duration": 41,
    "start_time": "2022-03-11T06:01:14.333Z"
   },
   {
    "duration": 3,
    "start_time": "2022-03-11T06:01:14.376Z"
   },
   {
    "duration": 13,
    "start_time": "2022-03-11T06:01:14.381Z"
   },
   {
    "duration": 11,
    "start_time": "2022-03-11T06:01:14.395Z"
   },
   {
    "duration": 8,
    "start_time": "2022-03-11T06:01:14.407Z"
   },
   {
    "duration": 6,
    "start_time": "2022-03-11T06:01:14.417Z"
   },
   {
    "duration": 5,
    "start_time": "2022-03-11T06:01:14.424Z"
   },
   {
    "duration": 33,
    "start_time": "2022-03-11T06:01:14.430Z"
   },
   {
    "duration": 86,
    "start_time": "2022-03-11T06:01:14.465Z"
   },
   {
    "duration": 8,
    "start_time": "2022-03-11T06:01:14.563Z"
   },
   {
    "duration": 27,
    "start_time": "2022-03-11T06:01:14.573Z"
   },
   {
    "duration": 11,
    "start_time": "2022-03-11T06:01:14.602Z"
   },
   {
    "duration": 14,
    "start_time": "2022-03-11T06:01:14.615Z"
   },
   {
    "duration": 9,
    "start_time": "2022-03-11T06:01:14.630Z"
   },
   {
    "duration": 5,
    "start_time": "2022-03-11T06:01:14.640Z"
   },
   {
    "duration": 182,
    "start_time": "2022-03-11T06:01:14.646Z"
   },
   {
    "duration": 26,
    "start_time": "2022-03-11T06:01:38.305Z"
   },
   {
    "duration": 18,
    "start_time": "2022-03-11T06:01:58.648Z"
   },
   {
    "duration": 3,
    "start_time": "2022-03-11T06:04:13.077Z"
   },
   {
    "duration": 153,
    "start_time": "2022-03-11T06:04:13.082Z"
   },
   {
    "duration": 27,
    "start_time": "2022-03-11T06:04:13.238Z"
   },
   {
    "duration": 126,
    "start_time": "2022-03-11T06:04:13.267Z"
   },
   {
    "duration": 17,
    "start_time": "2022-03-11T06:04:13.394Z"
   },
   {
    "duration": 94,
    "start_time": "2022-03-11T06:04:13.413Z"
   },
   {
    "duration": 14,
    "start_time": "2022-03-11T06:04:13.509Z"
   },
   {
    "duration": 14,
    "start_time": "2022-03-11T06:04:13.524Z"
   },
   {
    "duration": 6,
    "start_time": "2022-03-11T06:04:13.541Z"
   },
   {
    "duration": 34,
    "start_time": "2022-03-11T06:04:13.549Z"
   },
   {
    "duration": 6,
    "start_time": "2022-03-11T06:04:13.584Z"
   },
   {
    "duration": 14,
    "start_time": "2022-03-11T06:04:13.591Z"
   },
   {
    "duration": 4,
    "start_time": "2022-03-11T06:04:13.606Z"
   },
   {
    "duration": 73,
    "start_time": "2022-03-11T06:04:13.611Z"
   },
   {
    "duration": 4,
    "start_time": "2022-03-11T06:04:13.685Z"
   },
   {
    "duration": 162,
    "start_time": "2022-03-11T06:04:13.691Z"
   },
   {
    "duration": 5,
    "start_time": "2022-03-11T06:04:13.862Z"
   },
   {
    "duration": 24,
    "start_time": "2022-03-11T06:04:13.868Z"
   },
   {
    "duration": 70,
    "start_time": "2022-03-11T06:04:13.893Z"
   },
   {
    "duration": 3,
    "start_time": "2022-03-11T06:04:13.965Z"
   },
   {
    "duration": 11,
    "start_time": "2022-03-11T06:04:13.970Z"
   },
   {
    "duration": 17,
    "start_time": "2022-03-11T06:04:13.983Z"
   },
   {
    "duration": 27,
    "start_time": "2022-03-11T06:04:14.001Z"
   },
   {
    "duration": 3,
    "start_time": "2022-03-11T06:04:14.030Z"
   },
   {
    "duration": 30,
    "start_time": "2022-03-11T06:04:14.035Z"
   },
   {
    "duration": 18,
    "start_time": "2022-03-11T06:04:14.067Z"
   },
   {
    "duration": 24,
    "start_time": "2022-03-11T06:04:14.089Z"
   },
   {
    "duration": 4,
    "start_time": "2022-03-11T06:04:14.115Z"
   },
   {
    "duration": 12,
    "start_time": "2022-03-11T06:04:14.121Z"
   },
   {
    "duration": 9,
    "start_time": "2022-03-11T06:04:14.163Z"
   },
   {
    "duration": 9,
    "start_time": "2022-03-11T06:04:14.174Z"
   },
   {
    "duration": 8,
    "start_time": "2022-03-11T06:04:14.185Z"
   },
   {
    "duration": 5,
    "start_time": "2022-03-11T06:04:14.195Z"
   },
   {
    "duration": 7,
    "start_time": "2022-03-11T06:04:14.202Z"
   },
   {
    "duration": 65,
    "start_time": "2022-03-11T06:04:14.211Z"
   },
   {
    "duration": 8,
    "start_time": "2022-03-11T06:04:14.278Z"
   },
   {
    "duration": 18,
    "start_time": "2022-03-11T06:04:14.287Z"
   },
   {
    "duration": 8,
    "start_time": "2022-03-11T06:04:14.307Z"
   },
   {
    "duration": 8,
    "start_time": "2022-03-11T06:04:14.316Z"
   },
   {
    "duration": 7,
    "start_time": "2022-03-11T06:04:14.325Z"
   },
   {
    "duration": 30,
    "start_time": "2022-03-11T06:04:14.333Z"
   },
   {
    "duration": 175,
    "start_time": "2022-03-11T06:04:14.365Z"
   },
   {
    "duration": 22,
    "start_time": "2022-03-11T06:04:14.542Z"
   },
   {
    "duration": 3,
    "start_time": "2022-03-11T06:22:09.181Z"
   },
   {
    "duration": 159,
    "start_time": "2022-03-11T06:22:09.185Z"
   },
   {
    "duration": 27,
    "start_time": "2022-03-11T06:22:09.346Z"
   },
   {
    "duration": 124,
    "start_time": "2022-03-11T06:22:09.375Z"
   },
   {
    "duration": 15,
    "start_time": "2022-03-11T06:22:09.501Z"
   },
   {
    "duration": 90,
    "start_time": "2022-03-11T06:22:09.518Z"
   },
   {
    "duration": 15,
    "start_time": "2022-03-11T06:22:09.610Z"
   },
   {
    "duration": 16,
    "start_time": "2022-03-11T06:22:09.627Z"
   },
   {
    "duration": 22,
    "start_time": "2022-03-11T06:22:09.645Z"
   },
   {
    "duration": 29,
    "start_time": "2022-03-11T06:22:09.668Z"
   },
   {
    "duration": 6,
    "start_time": "2022-03-11T06:22:09.699Z"
   },
   {
    "duration": 16,
    "start_time": "2022-03-11T06:22:09.707Z"
   },
   {
    "duration": 4,
    "start_time": "2022-03-11T06:22:09.724Z"
   },
   {
    "duration": 75,
    "start_time": "2022-03-11T06:22:09.730Z"
   },
   {
    "duration": 4,
    "start_time": "2022-03-11T06:22:09.806Z"
   },
   {
    "duration": 168,
    "start_time": "2022-03-11T06:22:09.812Z"
   },
   {
    "duration": 4,
    "start_time": "2022-03-11T06:22:09.982Z"
   },
   {
    "duration": 25,
    "start_time": "2022-03-11T06:22:09.988Z"
   },
   {
    "duration": 75,
    "start_time": "2022-03-11T06:22:10.015Z"
   },
   {
    "duration": 3,
    "start_time": "2022-03-11T06:22:10.091Z"
   },
   {
    "duration": 11,
    "start_time": "2022-03-11T06:22:10.096Z"
   },
   {
    "duration": 17,
    "start_time": "2022-03-11T06:22:10.108Z"
   },
   {
    "duration": 46,
    "start_time": "2022-03-11T06:22:10.130Z"
   },
   {
    "duration": 3,
    "start_time": "2022-03-11T06:22:10.178Z"
   },
   {
    "duration": 10,
    "start_time": "2022-03-11T06:22:10.182Z"
   },
   {
    "duration": 22,
    "start_time": "2022-03-11T06:22:10.193Z"
   },
   {
    "duration": 23,
    "start_time": "2022-03-11T06:22:10.217Z"
   },
   {
    "duration": 21,
    "start_time": "2022-03-11T06:22:10.242Z"
   },
   {
    "duration": 14,
    "start_time": "2022-03-11T06:22:10.265Z"
   },
   {
    "duration": 12,
    "start_time": "2022-03-11T06:22:10.280Z"
   },
   {
    "duration": 8,
    "start_time": "2022-03-11T06:22:10.294Z"
   },
   {
    "duration": 7,
    "start_time": "2022-03-11T06:22:10.304Z"
   },
   {
    "duration": 4,
    "start_time": "2022-03-11T06:22:10.312Z"
   },
   {
    "duration": 7,
    "start_time": "2022-03-11T06:22:10.318Z"
   },
   {
    "duration": 52,
    "start_time": "2022-03-11T06:22:10.327Z"
   },
   {
    "duration": 6,
    "start_time": "2022-03-11T06:22:10.383Z"
   },
   {
    "duration": 16,
    "start_time": "2022-03-11T06:22:10.391Z"
   },
   {
    "duration": 5,
    "start_time": "2022-03-11T06:22:10.409Z"
   },
   {
    "duration": 10,
    "start_time": "2022-03-11T06:22:10.416Z"
   },
   {
    "duration": 7,
    "start_time": "2022-03-11T06:22:10.427Z"
   },
   {
    "duration": 29,
    "start_time": "2022-03-11T06:22:10.436Z"
   },
   {
    "duration": 169,
    "start_time": "2022-03-11T06:22:10.467Z"
   },
   {
    "duration": 28,
    "start_time": "2022-03-11T06:22:10.637Z"
   },
   {
    "duration": 180,
    "start_time": "2022-03-11T06:23:12.599Z"
   },
   {
    "duration": 180,
    "start_time": "2022-03-11T06:23:18.370Z"
   },
   {
    "duration": 179,
    "start_time": "2022-03-11T06:23:52.689Z"
   },
   {
    "duration": 3,
    "start_time": "2022-03-11T06:24:03.734Z"
   },
   {
    "duration": 157,
    "start_time": "2022-03-11T06:24:04.015Z"
   },
   {
    "duration": 21,
    "start_time": "2022-03-11T06:24:04.174Z"
   },
   {
    "duration": 136,
    "start_time": "2022-03-11T06:24:04.198Z"
   },
   {
    "duration": 34,
    "start_time": "2022-03-11T06:24:04.336Z"
   },
   {
    "duration": 87,
    "start_time": "2022-03-11T06:24:04.372Z"
   },
   {
    "duration": 14,
    "start_time": "2022-03-11T06:24:04.461Z"
   },
   {
    "duration": 16,
    "start_time": "2022-03-11T06:24:04.478Z"
   },
   {
    "duration": 8,
    "start_time": "2022-03-11T06:24:04.496Z"
   },
   {
    "duration": 23,
    "start_time": "2022-03-11T06:24:04.507Z"
   },
   {
    "duration": 6,
    "start_time": "2022-03-11T06:24:04.532Z"
   },
   {
    "duration": 12,
    "start_time": "2022-03-11T06:24:04.564Z"
   },
   {
    "duration": 4,
    "start_time": "2022-03-11T06:24:04.578Z"
   },
   {
    "duration": 63,
    "start_time": "2022-03-11T06:24:04.583Z"
   },
   {
    "duration": 16,
    "start_time": "2022-03-11T06:24:04.648Z"
   },
   {
    "duration": 163,
    "start_time": "2022-03-11T06:24:04.665Z"
   },
   {
    "duration": 4,
    "start_time": "2022-03-11T06:24:04.830Z"
   },
   {
    "duration": 39,
    "start_time": "2022-03-11T06:24:04.835Z"
   },
   {
    "duration": 50,
    "start_time": "2022-03-11T06:24:04.876Z"
   },
   {
    "duration": 3,
    "start_time": "2022-03-11T06:24:04.928Z"
   },
   {
    "duration": 15,
    "start_time": "2022-03-11T06:24:04.932Z"
   },
   {
    "duration": 27,
    "start_time": "2022-03-11T06:24:04.949Z"
   },
   {
    "duration": 26,
    "start_time": "2022-03-11T06:24:04.978Z"
   },
   {
    "duration": 3,
    "start_time": "2022-03-11T06:24:05.007Z"
   },
   {
    "duration": 17,
    "start_time": "2022-03-11T06:24:05.011Z"
   },
   {
    "duration": 37,
    "start_time": "2022-03-11T06:24:05.030Z"
   },
   {
    "duration": 26,
    "start_time": "2022-03-11T06:24:05.069Z"
   },
   {
    "duration": 4,
    "start_time": "2022-03-11T06:24:05.099Z"
   },
   {
    "duration": 15,
    "start_time": "2022-03-11T06:24:05.105Z"
   },
   {
    "duration": 17,
    "start_time": "2022-03-11T06:24:05.122Z"
   },
   {
    "duration": 29,
    "start_time": "2022-03-11T06:24:05.140Z"
   },
   {
    "duration": 8,
    "start_time": "2022-03-11T06:24:05.171Z"
   },
   {
    "duration": 6,
    "start_time": "2022-03-11T06:24:05.181Z"
   },
   {
    "duration": 8,
    "start_time": "2022-03-11T06:24:05.189Z"
   },
   {
    "duration": 27,
    "start_time": "2022-03-11T06:24:05.199Z"
   },
   {
    "duration": 38,
    "start_time": "2022-03-11T06:24:05.228Z"
   },
   {
    "duration": 20,
    "start_time": "2022-03-11T06:24:05.268Z"
   },
   {
    "duration": 14,
    "start_time": "2022-03-11T06:24:05.290Z"
   },
   {
    "duration": 12,
    "start_time": "2022-03-11T06:24:05.306Z"
   },
   {
    "duration": 20,
    "start_time": "2022-03-11T06:24:05.320Z"
   },
   {
    "duration": 14,
    "start_time": "2022-03-11T06:24:05.342Z"
   },
   {
    "duration": 185,
    "start_time": "2022-03-11T06:24:05.358Z"
   },
   {
    "duration": 21,
    "start_time": "2022-03-11T06:24:05.544Z"
   },
   {
    "duration": 206,
    "start_time": "2022-03-11T06:24:05.566Z"
   },
   {
    "duration": 10,
    "start_time": "2022-03-11T06:24:37.108Z"
   },
   {
    "duration": 29,
    "start_time": "2022-03-11T06:25:32.016Z"
   },
   {
    "duration": 3,
    "start_time": "2022-03-11T06:26:22.148Z"
   },
   {
    "duration": 169,
    "start_time": "2022-03-11T06:26:22.153Z"
   },
   {
    "duration": 20,
    "start_time": "2022-03-11T06:26:22.324Z"
   },
   {
    "duration": 130,
    "start_time": "2022-03-11T06:26:22.346Z"
   },
   {
    "duration": 17,
    "start_time": "2022-03-11T06:26:22.478Z"
   },
   {
    "duration": 102,
    "start_time": "2022-03-11T06:26:22.496Z"
   },
   {
    "duration": 14,
    "start_time": "2022-03-11T06:26:22.599Z"
   },
   {
    "duration": 15,
    "start_time": "2022-03-11T06:26:22.615Z"
   },
   {
    "duration": 7,
    "start_time": "2022-03-11T06:26:22.633Z"
   },
   {
    "duration": 25,
    "start_time": "2022-03-11T06:26:22.663Z"
   },
   {
    "duration": 6,
    "start_time": "2022-03-11T06:26:22.690Z"
   },
   {
    "duration": 15,
    "start_time": "2022-03-11T06:26:22.697Z"
   },
   {
    "duration": 3,
    "start_time": "2022-03-11T06:26:22.714Z"
   },
   {
    "duration": 76,
    "start_time": "2022-03-11T06:26:22.719Z"
   },
   {
    "duration": 4,
    "start_time": "2022-03-11T06:26:22.797Z"
   },
   {
    "duration": 174,
    "start_time": "2022-03-11T06:26:22.802Z"
   },
   {
    "duration": 4,
    "start_time": "2022-03-11T06:26:22.978Z"
   },
   {
    "duration": 26,
    "start_time": "2022-03-11T06:26:22.983Z"
   },
   {
    "duration": 74,
    "start_time": "2022-03-11T06:26:23.010Z"
   },
   {
    "duration": 3,
    "start_time": "2022-03-11T06:26:23.085Z"
   },
   {
    "duration": 19,
    "start_time": "2022-03-11T06:26:23.090Z"
   },
   {
    "duration": 21,
    "start_time": "2022-03-11T06:26:23.111Z"
   },
   {
    "duration": 29,
    "start_time": "2022-03-11T06:26:23.134Z"
   },
   {
    "duration": 3,
    "start_time": "2022-03-11T06:26:23.164Z"
   },
   {
    "duration": 14,
    "start_time": "2022-03-11T06:26:23.168Z"
   },
   {
    "duration": 21,
    "start_time": "2022-03-11T06:26:23.184Z"
   },
   {
    "duration": 23,
    "start_time": "2022-03-11T06:26:23.208Z"
   },
   {
    "duration": 4,
    "start_time": "2022-03-11T06:26:23.233Z"
   },
   {
    "duration": 29,
    "start_time": "2022-03-11T06:26:23.239Z"
   },
   {
    "duration": 10,
    "start_time": "2022-03-11T06:26:23.270Z"
   },
   {
    "duration": 11,
    "start_time": "2022-03-11T06:26:23.281Z"
   },
   {
    "duration": 7,
    "start_time": "2022-03-11T06:26:23.293Z"
   },
   {
    "duration": 6,
    "start_time": "2022-03-11T06:26:23.301Z"
   },
   {
    "duration": 8,
    "start_time": "2022-03-11T06:26:23.309Z"
   },
   {
    "duration": 51,
    "start_time": "2022-03-11T06:26:23.319Z"
   },
   {
    "duration": 7,
    "start_time": "2022-03-11T06:26:23.371Z"
   },
   {
    "duration": 20,
    "start_time": "2022-03-11T06:26:23.379Z"
   },
   {
    "duration": 7,
    "start_time": "2022-03-11T06:26:23.401Z"
   },
   {
    "duration": 9,
    "start_time": "2022-03-11T06:26:23.409Z"
   },
   {
    "duration": 8,
    "start_time": "2022-03-11T06:26:23.420Z"
   },
   {
    "duration": 34,
    "start_time": "2022-03-11T06:26:23.429Z"
   },
   {
    "duration": 171,
    "start_time": "2022-03-11T06:26:23.465Z"
   },
   {
    "duration": 30,
    "start_time": "2022-03-11T06:26:23.638Z"
   },
   {
    "duration": 5,
    "start_time": "2022-03-11T06:26:23.669Z"
   },
   {
    "duration": 28,
    "start_time": "2022-03-11T06:29:29.907Z"
   },
   {
    "duration": 3,
    "start_time": "2022-03-11T06:33:06.272Z"
   },
   {
    "duration": 166,
    "start_time": "2022-03-11T06:33:06.277Z"
   },
   {
    "duration": 36,
    "start_time": "2022-03-11T06:33:06.446Z"
   },
   {
    "duration": 146,
    "start_time": "2022-03-11T06:33:06.484Z"
   },
   {
    "duration": 20,
    "start_time": "2022-03-11T06:33:06.632Z"
   },
   {
    "duration": 96,
    "start_time": "2022-03-11T06:33:06.653Z"
   },
   {
    "duration": 25,
    "start_time": "2022-03-11T06:33:06.750Z"
   },
   {
    "duration": 16,
    "start_time": "2022-03-11T06:33:06.777Z"
   },
   {
    "duration": 7,
    "start_time": "2022-03-11T06:33:06.796Z"
   },
   {
    "duration": 33,
    "start_time": "2022-03-11T06:33:06.805Z"
   },
   {
    "duration": 6,
    "start_time": "2022-03-11T06:33:06.840Z"
   },
   {
    "duration": 21,
    "start_time": "2022-03-11T06:33:06.847Z"
   },
   {
    "duration": 5,
    "start_time": "2022-03-11T06:33:06.870Z"
   },
   {
    "duration": 75,
    "start_time": "2022-03-11T06:33:06.877Z"
   },
   {
    "duration": 10,
    "start_time": "2022-03-11T06:33:06.954Z"
   },
   {
    "duration": 199,
    "start_time": "2022-03-11T06:33:06.965Z"
   },
   {
    "duration": 4,
    "start_time": "2022-03-11T06:33:07.166Z"
   },
   {
    "duration": 24,
    "start_time": "2022-03-11T06:33:07.171Z"
   },
   {
    "duration": 74,
    "start_time": "2022-03-11T06:33:07.197Z"
   },
   {
    "duration": 3,
    "start_time": "2022-03-11T06:33:07.273Z"
   },
   {
    "duration": 10,
    "start_time": "2022-03-11T06:33:07.277Z"
   },
   {
    "duration": 15,
    "start_time": "2022-03-11T06:33:07.288Z"
   },
   {
    "duration": 30,
    "start_time": "2022-03-11T06:33:07.305Z"
   },
   {
    "duration": 4,
    "start_time": "2022-03-11T06:33:07.336Z"
   },
   {
    "duration": 32,
    "start_time": "2022-03-11T06:33:07.341Z"
   },
   {
    "duration": 21,
    "start_time": "2022-03-11T06:33:07.375Z"
   },
   {
    "duration": 29,
    "start_time": "2022-03-11T06:33:07.401Z"
   },
   {
    "duration": 30,
    "start_time": "2022-03-11T06:33:07.433Z"
   },
   {
    "duration": 14,
    "start_time": "2022-03-11T06:33:07.466Z"
   },
   {
    "duration": 11,
    "start_time": "2022-03-11T06:33:07.481Z"
   },
   {
    "duration": 10,
    "start_time": "2022-03-11T06:33:07.494Z"
   },
   {
    "duration": 7,
    "start_time": "2022-03-11T06:33:07.505Z"
   },
   {
    "duration": 7,
    "start_time": "2022-03-11T06:33:07.513Z"
   },
   {
    "duration": 9,
    "start_time": "2022-03-11T06:33:07.521Z"
   },
   {
    "duration": 53,
    "start_time": "2022-03-11T06:33:07.532Z"
   },
   {
    "duration": 7,
    "start_time": "2022-03-11T06:33:07.587Z"
   },
   {
    "duration": 20,
    "start_time": "2022-03-11T06:33:07.595Z"
   },
   {
    "duration": 7,
    "start_time": "2022-03-11T06:33:07.617Z"
   },
   {
    "duration": 11,
    "start_time": "2022-03-11T06:33:07.625Z"
   },
   {
    "duration": 26,
    "start_time": "2022-03-11T06:33:07.637Z"
   },
   {
    "duration": 4,
    "start_time": "2022-03-11T06:33:07.664Z"
   },
   {
    "duration": 182,
    "start_time": "2022-03-11T06:33:07.670Z"
   },
   {
    "duration": 29,
    "start_time": "2022-03-11T06:33:07.854Z"
   },
   {
    "duration": 20,
    "start_time": "2022-03-11T06:33:07.885Z"
   },
   {
    "duration": 4,
    "start_time": "2022-03-11T06:33:07.907Z"
   },
   {
    "duration": 168,
    "start_time": "2022-03-11T06:33:07.912Z"
   },
   {
    "duration": 26,
    "start_time": "2022-03-11T06:33:08.082Z"
   },
   {
    "duration": 5,
    "start_time": "2022-03-11T06:33:08.110Z"
   },
   {
    "duration": 51,
    "start_time": "2022-03-11T06:33:08.117Z"
   },
   {
    "duration": 25,
    "start_time": "2022-03-11T06:34:32.116Z"
   },
   {
    "duration": 3,
    "start_time": "2022-03-11T06:34:42.000Z"
   },
   {
    "duration": 159,
    "start_time": "2022-03-11T06:34:42.006Z"
   },
   {
    "duration": 20,
    "start_time": "2022-03-11T06:34:42.167Z"
   },
   {
    "duration": 142,
    "start_time": "2022-03-11T06:34:42.190Z"
   },
   {
    "duration": 29,
    "start_time": "2022-03-11T06:34:42.334Z"
   },
   {
    "duration": 88,
    "start_time": "2022-03-11T06:34:42.364Z"
   },
   {
    "duration": 18,
    "start_time": "2022-03-11T06:34:42.453Z"
   },
   {
    "duration": 15,
    "start_time": "2022-03-11T06:34:42.473Z"
   },
   {
    "duration": 9,
    "start_time": "2022-03-11T06:34:42.491Z"
   },
   {
    "duration": 27,
    "start_time": "2022-03-11T06:34:42.502Z"
   },
   {
    "duration": 5,
    "start_time": "2022-03-11T06:34:42.531Z"
   },
   {
    "duration": 17,
    "start_time": "2022-03-11T06:34:42.538Z"
   },
   {
    "duration": 8,
    "start_time": "2022-03-11T06:34:42.557Z"
   },
   {
    "duration": 74,
    "start_time": "2022-03-11T06:34:42.567Z"
   },
   {
    "duration": 4,
    "start_time": "2022-03-11T06:34:42.643Z"
   },
   {
    "duration": 196,
    "start_time": "2022-03-11T06:34:42.649Z"
   },
   {
    "duration": 4,
    "start_time": "2022-03-11T06:34:42.847Z"
   },
   {
    "duration": 45,
    "start_time": "2022-03-11T06:34:42.853Z"
   },
   {
    "duration": 61,
    "start_time": "2022-03-11T06:34:42.900Z"
   },
   {
    "duration": 3,
    "start_time": "2022-03-11T06:34:42.963Z"
   },
   {
    "duration": 22,
    "start_time": "2022-03-11T06:34:42.967Z"
   },
   {
    "duration": 36,
    "start_time": "2022-03-11T06:34:42.991Z"
   },
   {
    "duration": 29,
    "start_time": "2022-03-11T06:34:43.029Z"
   },
   {
    "duration": 2,
    "start_time": "2022-03-11T06:34:43.062Z"
   },
   {
    "duration": 23,
    "start_time": "2022-03-11T06:34:43.067Z"
   },
   {
    "duration": 30,
    "start_time": "2022-03-11T06:34:43.091Z"
   },
   {
    "duration": 31,
    "start_time": "2022-03-11T06:34:43.123Z"
   },
   {
    "duration": 4,
    "start_time": "2022-03-11T06:34:43.156Z"
   },
   {
    "duration": 27,
    "start_time": "2022-03-11T06:34:43.162Z"
   },
   {
    "duration": 14,
    "start_time": "2022-03-11T06:34:43.190Z"
   },
   {
    "duration": 19,
    "start_time": "2022-03-11T06:34:43.206Z"
   },
   {
    "duration": 14,
    "start_time": "2022-03-11T06:34:43.227Z"
   },
   {
    "duration": 19,
    "start_time": "2022-03-11T06:34:43.242Z"
   },
   {
    "duration": 18,
    "start_time": "2022-03-11T06:34:43.262Z"
   },
   {
    "duration": 30,
    "start_time": "2022-03-11T06:34:43.282Z"
   },
   {
    "duration": 6,
    "start_time": "2022-03-11T06:34:43.313Z"
   },
   {
    "duration": 21,
    "start_time": "2022-03-11T06:34:43.320Z"
   },
   {
    "duration": 11,
    "start_time": "2022-03-11T06:34:43.342Z"
   },
   {
    "duration": 21,
    "start_time": "2022-03-11T06:34:43.355Z"
   },
   {
    "duration": 17,
    "start_time": "2022-03-11T06:34:43.378Z"
   },
   {
    "duration": 15,
    "start_time": "2022-03-11T06:34:43.396Z"
   },
   {
    "duration": 192,
    "start_time": "2022-03-11T06:34:43.413Z"
   },
   {
    "duration": 28,
    "start_time": "2022-03-11T06:34:43.607Z"
   },
   {
    "duration": 28,
    "start_time": "2022-03-11T06:34:43.637Z"
   },
   {
    "duration": 5,
    "start_time": "2022-03-11T06:34:43.667Z"
   },
   {
    "duration": 180,
    "start_time": "2022-03-11T06:34:43.674Z"
   },
   {
    "duration": 25,
    "start_time": "2022-03-11T06:34:43.856Z"
   },
   {
    "duration": 7,
    "start_time": "2022-03-11T06:34:43.882Z"
   },
   {
    "duration": 28,
    "start_time": "2022-03-11T06:34:43.890Z"
   },
   {
    "duration": 21,
    "start_time": "2022-03-11T06:35:02.849Z"
   },
   {
    "duration": 3,
    "start_time": "2022-03-11T06:36:53.862Z"
   },
   {
    "duration": 204,
    "start_time": "2022-03-11T06:36:53.867Z"
   },
   {
    "duration": 31,
    "start_time": "2022-03-11T06:36:54.075Z"
   },
   {
    "duration": 135,
    "start_time": "2022-03-11T06:36:54.108Z"
   },
   {
    "duration": 24,
    "start_time": "2022-03-11T06:36:54.245Z"
   },
   {
    "duration": 82,
    "start_time": "2022-03-11T06:36:54.271Z"
   },
   {
    "duration": 17,
    "start_time": "2022-03-11T06:36:54.355Z"
   },
   {
    "duration": 15,
    "start_time": "2022-03-11T06:36:54.374Z"
   },
   {
    "duration": 9,
    "start_time": "2022-03-11T06:36:54.392Z"
   },
   {
    "duration": 24,
    "start_time": "2022-03-11T06:36:54.403Z"
   },
   {
    "duration": 6,
    "start_time": "2022-03-11T06:36:54.428Z"
   },
   {
    "duration": 28,
    "start_time": "2022-03-11T06:36:54.436Z"
   },
   {
    "duration": 4,
    "start_time": "2022-03-11T06:36:54.465Z"
   },
   {
    "duration": 62,
    "start_time": "2022-03-11T06:36:54.471Z"
   },
   {
    "duration": 4,
    "start_time": "2022-03-11T06:36:54.535Z"
   },
   {
    "duration": 170,
    "start_time": "2022-03-11T06:36:54.541Z"
   },
   {
    "duration": 4,
    "start_time": "2022-03-11T06:36:54.712Z"
   },
   {
    "duration": 24,
    "start_time": "2022-03-11T06:36:54.718Z"
   },
   {
    "duration": 67,
    "start_time": "2022-03-11T06:36:54.744Z"
   },
   {
    "duration": 2,
    "start_time": "2022-03-11T06:36:54.813Z"
   },
   {
    "duration": 11,
    "start_time": "2022-03-11T06:36:54.817Z"
   },
   {
    "duration": 18,
    "start_time": "2022-03-11T06:36:54.830Z"
   },
   {
    "duration": 26,
    "start_time": "2022-03-11T06:36:54.863Z"
   },
   {
    "duration": 2,
    "start_time": "2022-03-11T06:36:54.891Z"
   },
   {
    "duration": 8,
    "start_time": "2022-03-11T06:36:54.895Z"
   },
   {
    "duration": 19,
    "start_time": "2022-03-11T06:36:54.905Z"
   },
   {
    "duration": 45,
    "start_time": "2022-03-11T06:36:54.927Z"
   },
   {
    "duration": 4,
    "start_time": "2022-03-11T06:36:54.974Z"
   },
   {
    "duration": 15,
    "start_time": "2022-03-11T06:36:54.980Z"
   },
   {
    "duration": 12,
    "start_time": "2022-03-11T06:36:54.997Z"
   },
   {
    "duration": 10,
    "start_time": "2022-03-11T06:36:55.011Z"
   },
   {
    "duration": 8,
    "start_time": "2022-03-11T06:36:55.023Z"
   },
   {
    "duration": 30,
    "start_time": "2022-03-11T06:36:55.033Z"
   },
   {
    "duration": 8,
    "start_time": "2022-03-11T06:36:55.065Z"
   },
   {
    "duration": 26,
    "start_time": "2022-03-11T06:36:55.074Z"
   },
   {
    "duration": 6,
    "start_time": "2022-03-11T06:36:55.101Z"
   },
   {
    "duration": 15,
    "start_time": "2022-03-11T06:36:55.109Z"
   },
   {
    "duration": 38,
    "start_time": "2022-03-11T06:36:55.126Z"
   },
   {
    "duration": 6,
    "start_time": "2022-03-11T06:36:55.165Z"
   },
   {
    "duration": 8,
    "start_time": "2022-03-11T06:36:55.173Z"
   },
   {
    "duration": 6,
    "start_time": "2022-03-11T06:36:55.183Z"
   },
   {
    "duration": 182,
    "start_time": "2022-03-11T06:36:55.191Z"
   },
   {
    "duration": 21,
    "start_time": "2022-03-11T06:36:55.375Z"
   },
   {
    "duration": 4762,
    "start_time": "2022-03-11T06:52:55.123Z"
   },
   {
    "duration": 4779,
    "start_time": "2022-03-11T06:53:20.615Z"
   },
   {
    "duration": 13,
    "start_time": "2022-03-11T06:53:49.950Z"
   },
   {
    "duration": 12,
    "start_time": "2022-03-11T06:54:05.063Z"
   },
   {
    "duration": 3,
    "start_time": "2022-03-11T06:54:18.859Z"
   },
   {
    "duration": 156,
    "start_time": "2022-03-11T06:54:18.864Z"
   },
   {
    "duration": 22,
    "start_time": "2022-03-11T06:54:19.022Z"
   },
   {
    "duration": 137,
    "start_time": "2022-03-11T06:54:19.046Z"
   },
   {
    "duration": 17,
    "start_time": "2022-03-11T06:54:19.185Z"
   },
   {
    "duration": 93,
    "start_time": "2022-03-11T06:54:19.204Z"
   },
   {
    "duration": 14,
    "start_time": "2022-03-11T06:54:19.298Z"
   },
   {
    "duration": 17,
    "start_time": "2022-03-11T06:54:19.314Z"
   },
   {
    "duration": 8,
    "start_time": "2022-03-11T06:54:19.333Z"
   },
   {
    "duration": 34,
    "start_time": "2022-03-11T06:54:19.343Z"
   },
   {
    "duration": 6,
    "start_time": "2022-03-11T06:54:19.378Z"
   },
   {
    "duration": 14,
    "start_time": "2022-03-11T06:54:19.385Z"
   },
   {
    "duration": 3,
    "start_time": "2022-03-11T06:54:19.401Z"
   },
   {
    "duration": 75,
    "start_time": "2022-03-11T06:54:19.406Z"
   },
   {
    "duration": 5,
    "start_time": "2022-03-11T06:54:19.482Z"
   },
   {
    "duration": 154,
    "start_time": "2022-03-11T06:54:19.488Z"
   },
   {
    "duration": 4,
    "start_time": "2022-03-11T06:54:19.644Z"
   },
   {
    "duration": 33,
    "start_time": "2022-03-11T06:54:19.649Z"
   },
   {
    "duration": 50,
    "start_time": "2022-03-11T06:54:19.684Z"
   },
   {
    "duration": 3,
    "start_time": "2022-03-11T06:54:19.736Z"
   },
   {
    "duration": 28,
    "start_time": "2022-03-11T06:54:19.741Z"
   },
   {
    "duration": 17,
    "start_time": "2022-03-11T06:54:19.771Z"
   },
   {
    "duration": 31,
    "start_time": "2022-03-11T06:54:19.790Z"
   },
   {
    "duration": 2,
    "start_time": "2022-03-11T06:54:19.823Z"
   },
   {
    "duration": 12,
    "start_time": "2022-03-11T06:54:19.827Z"
   },
   {
    "duration": 39,
    "start_time": "2022-03-11T06:54:19.840Z"
   },
   {
    "duration": 23,
    "start_time": "2022-03-11T06:54:19.882Z"
   },
   {
    "duration": 3,
    "start_time": "2022-03-11T06:54:19.907Z"
   },
   {
    "duration": 11,
    "start_time": "2022-03-11T06:54:19.911Z"
   },
   {
    "duration": 11,
    "start_time": "2022-03-11T06:54:19.923Z"
   },
   {
    "duration": 29,
    "start_time": "2022-03-11T06:54:19.936Z"
   },
   {
    "duration": 7,
    "start_time": "2022-03-11T06:54:19.967Z"
   },
   {
    "duration": 5,
    "start_time": "2022-03-11T06:54:19.975Z"
   },
   {
    "duration": 7,
    "start_time": "2022-03-11T06:54:19.981Z"
   },
   {
    "duration": 30,
    "start_time": "2022-03-11T06:54:19.989Z"
   },
   {
    "duration": 8,
    "start_time": "2022-03-11T06:54:20.020Z"
   },
   {
    "duration": 19,
    "start_time": "2022-03-11T06:54:20.063Z"
   },
   {
    "duration": 8,
    "start_time": "2022-03-11T06:54:20.084Z"
   },
   {
    "duration": 10,
    "start_time": "2022-03-11T06:54:20.094Z"
   },
   {
    "duration": 6,
    "start_time": "2022-03-11T06:54:20.106Z"
   },
   {
    "duration": 5,
    "start_time": "2022-03-11T06:54:20.114Z"
   },
   {
    "duration": 193,
    "start_time": "2022-03-11T06:54:20.120Z"
   },
   {
    "duration": 23,
    "start_time": "2022-03-11T06:54:20.315Z"
   },
   {
    "duration": 27,
    "start_time": "2022-03-11T06:54:20.340Z"
   },
   {
    "duration": 12,
    "start_time": "2022-03-11T06:55:03.011Z"
   },
   {
    "duration": 3,
    "start_time": "2022-03-11T06:55:37.784Z"
   },
   {
    "duration": 16,
    "start_time": "2022-03-11T07:03:52.712Z"
   },
   {
    "duration": 14,
    "start_time": "2022-03-11T07:04:37.287Z"
   },
   {
    "duration": 6,
    "start_time": "2022-03-11T07:11:54.734Z"
   },
   {
    "duration": 7,
    "start_time": "2022-03-11T07:13:43.480Z"
   },
   {
    "duration": 3,
    "start_time": "2022-03-11T07:13:49.347Z"
   },
   {
    "duration": 148,
    "start_time": "2022-03-11T07:13:49.352Z"
   },
   {
    "duration": 20,
    "start_time": "2022-03-11T07:13:49.503Z"
   },
   {
    "duration": 141,
    "start_time": "2022-03-11T07:13:49.525Z"
   },
   {
    "duration": 17,
    "start_time": "2022-03-11T07:13:49.668Z"
   },
   {
    "duration": 106,
    "start_time": "2022-03-11T07:13:49.687Z"
   },
   {
    "duration": 14,
    "start_time": "2022-03-11T07:13:49.795Z"
   },
   {
    "duration": 16,
    "start_time": "2022-03-11T07:13:49.812Z"
   },
   {
    "duration": 7,
    "start_time": "2022-03-11T07:13:49.831Z"
   },
   {
    "duration": 45,
    "start_time": "2022-03-11T07:13:49.840Z"
   },
   {
    "duration": 6,
    "start_time": "2022-03-11T07:13:49.887Z"
   },
   {
    "duration": 17,
    "start_time": "2022-03-11T07:13:49.894Z"
   },
   {
    "duration": 4,
    "start_time": "2022-03-11T07:13:49.912Z"
   },
   {
    "duration": 75,
    "start_time": "2022-03-11T07:13:49.918Z"
   },
   {
    "duration": 4,
    "start_time": "2022-03-11T07:13:49.994Z"
   },
   {
    "duration": 180,
    "start_time": "2022-03-11T07:13:50.000Z"
   },
   {
    "duration": 4,
    "start_time": "2022-03-11T07:13:50.181Z"
   },
   {
    "duration": 27,
    "start_time": "2022-03-11T07:13:50.187Z"
   },
   {
    "duration": 68,
    "start_time": "2022-03-11T07:13:50.216Z"
   },
   {
    "duration": 3,
    "start_time": "2022-03-11T07:13:50.285Z"
   },
   {
    "duration": 14,
    "start_time": "2022-03-11T07:13:50.289Z"
   },
   {
    "duration": 22,
    "start_time": "2022-03-11T07:13:50.304Z"
   },
   {
    "duration": 39,
    "start_time": "2022-03-11T07:13:50.330Z"
   },
   {
    "duration": 3,
    "start_time": "2022-03-11T07:13:50.371Z"
   },
   {
    "duration": 20,
    "start_time": "2022-03-11T07:13:50.376Z"
   },
   {
    "duration": 26,
    "start_time": "2022-03-11T07:13:50.398Z"
   },
   {
    "duration": 26,
    "start_time": "2022-03-11T07:13:50.426Z"
   },
   {
    "duration": 4,
    "start_time": "2022-03-11T07:13:50.453Z"
   },
   {
    "duration": 10,
    "start_time": "2022-03-11T07:13:50.463Z"
   },
   {
    "duration": 12,
    "start_time": "2022-03-11T07:13:50.475Z"
   },
   {
    "duration": 10,
    "start_time": "2022-03-11T07:13:50.489Z"
   },
   {
    "duration": 8,
    "start_time": "2022-03-11T07:13:50.500Z"
   },
   {
    "duration": 10,
    "start_time": "2022-03-11T07:13:50.510Z"
   },
   {
    "duration": 13,
    "start_time": "2022-03-11T07:13:50.522Z"
   },
   {
    "duration": 46,
    "start_time": "2022-03-11T07:13:50.537Z"
   },
   {
    "duration": 7,
    "start_time": "2022-03-11T07:13:50.585Z"
   },
   {
    "duration": 20,
    "start_time": "2022-03-11T07:13:50.593Z"
   },
   {
    "duration": 6,
    "start_time": "2022-03-11T07:13:50.615Z"
   },
   {
    "duration": 8,
    "start_time": "2022-03-11T07:13:50.623Z"
   },
   {
    "duration": 10,
    "start_time": "2022-03-11T07:13:50.632Z"
   },
   {
    "duration": 5,
    "start_time": "2022-03-11T07:13:50.663Z"
   },
   {
    "duration": 5298,
    "start_time": "2022-03-11T07:13:50.670Z"
   },
   {
    "duration": 31,
    "start_time": "2022-03-11T07:13:55.938Z"
   },
   {
    "duration": 28,
    "start_time": "2022-03-11T07:13:55.942Z"
   },
   {
    "duration": 26,
    "start_time": "2022-03-11T07:13:55.945Z"
   },
   {
    "duration": 25,
    "start_time": "2022-03-11T07:13:55.947Z"
   },
   {
    "duration": 3,
    "start_time": "2022-03-11T07:15:09.398Z"
   },
   {
    "duration": 162,
    "start_time": "2022-03-11T07:15:09.404Z"
   },
   {
    "duration": 22,
    "start_time": "2022-03-11T07:15:09.569Z"
   },
   {
    "duration": 146,
    "start_time": "2022-03-11T07:15:09.593Z"
   },
   {
    "duration": 36,
    "start_time": "2022-03-11T07:15:09.742Z"
   },
   {
    "duration": 98,
    "start_time": "2022-03-11T07:15:09.780Z"
   },
   {
    "duration": 16,
    "start_time": "2022-03-11T07:15:09.880Z"
   },
   {
    "duration": 16,
    "start_time": "2022-03-11T07:15:09.898Z"
   },
   {
    "duration": 7,
    "start_time": "2022-03-11T07:15:09.917Z"
   },
   {
    "duration": 24,
    "start_time": "2022-03-11T07:15:09.926Z"
   },
   {
    "duration": 7,
    "start_time": "2022-03-11T07:15:09.963Z"
   },
   {
    "duration": 15,
    "start_time": "2022-03-11T07:15:09.972Z"
   },
   {
    "duration": 4,
    "start_time": "2022-03-11T07:15:09.989Z"
   },
   {
    "duration": 87,
    "start_time": "2022-03-11T07:15:09.994Z"
   },
   {
    "duration": 4,
    "start_time": "2022-03-11T07:15:10.083Z"
   },
   {
    "duration": 189,
    "start_time": "2022-03-11T07:15:10.089Z"
   },
   {
    "duration": 4,
    "start_time": "2022-03-11T07:15:10.280Z"
   },
   {
    "duration": 24,
    "start_time": "2022-03-11T07:15:10.286Z"
   },
   {
    "duration": 72,
    "start_time": "2022-03-11T07:15:10.312Z"
   },
   {
    "duration": 4,
    "start_time": "2022-03-11T07:15:10.386Z"
   },
   {
    "duration": 12,
    "start_time": "2022-03-11T07:15:10.392Z"
   },
   {
    "duration": 16,
    "start_time": "2022-03-11T07:15:10.406Z"
   },
   {
    "duration": 49,
    "start_time": "2022-03-11T07:15:10.423Z"
   },
   {
    "duration": 3,
    "start_time": "2022-03-11T07:15:10.474Z"
   },
   {
    "duration": 9,
    "start_time": "2022-03-11T07:15:10.479Z"
   },
   {
    "duration": 20,
    "start_time": "2022-03-11T07:15:10.490Z"
   },
   {
    "duration": 23,
    "start_time": "2022-03-11T07:15:10.515Z"
   },
   {
    "duration": 26,
    "start_time": "2022-03-11T07:15:10.540Z"
   },
   {
    "duration": 13,
    "start_time": "2022-03-11T07:15:10.568Z"
   },
   {
    "duration": 9,
    "start_time": "2022-03-11T07:15:10.583Z"
   },
   {
    "duration": 10,
    "start_time": "2022-03-11T07:15:10.594Z"
   },
   {
    "duration": 7,
    "start_time": "2022-03-11T07:15:10.606Z"
   },
   {
    "duration": 5,
    "start_time": "2022-03-11T07:15:10.615Z"
   },
   {
    "duration": 10,
    "start_time": "2022-03-11T07:15:10.622Z"
   },
   {
    "duration": 56,
    "start_time": "2022-03-11T07:15:10.633Z"
   },
   {
    "duration": 7,
    "start_time": "2022-03-11T07:15:10.691Z"
   },
   {
    "duration": 17,
    "start_time": "2022-03-11T07:15:10.700Z"
   },
   {
    "duration": 6,
    "start_time": "2022-03-11T07:15:10.719Z"
   },
   {
    "duration": 12,
    "start_time": "2022-03-11T07:15:10.726Z"
   },
   {
    "duration": 7,
    "start_time": "2022-03-11T07:15:10.763Z"
   },
   {
    "duration": 6,
    "start_time": "2022-03-11T07:15:10.771Z"
   },
   {
    "duration": 7,
    "start_time": "2022-03-11T07:15:10.779Z"
   },
   {
    "duration": 188,
    "start_time": "2022-03-11T07:15:10.787Z"
   },
   {
    "duration": 130,
    "start_time": "2022-03-11T07:15:10.847Z"
   },
   {
    "duration": 127,
    "start_time": "2022-03-11T07:15:10.851Z"
   },
   {
    "duration": 126,
    "start_time": "2022-03-11T07:15:10.853Z"
   },
   {
    "duration": 3,
    "start_time": "2022-03-11T07:15:31.841Z"
   },
   {
    "duration": 154,
    "start_time": "2022-03-11T07:15:31.846Z"
   },
   {
    "duration": 22,
    "start_time": "2022-03-11T07:15:32.002Z"
   },
   {
    "duration": 154,
    "start_time": "2022-03-11T07:15:32.026Z"
   },
   {
    "duration": 16,
    "start_time": "2022-03-11T07:15:32.182Z"
   },
   {
    "duration": 100,
    "start_time": "2022-03-11T07:15:32.199Z"
   },
   {
    "duration": 14,
    "start_time": "2022-03-11T07:15:32.301Z"
   },
   {
    "duration": 16,
    "start_time": "2022-03-11T07:15:32.318Z"
   },
   {
    "duration": 28,
    "start_time": "2022-03-11T07:15:32.336Z"
   },
   {
    "duration": 37,
    "start_time": "2022-03-11T07:15:32.366Z"
   },
   {
    "duration": 15,
    "start_time": "2022-03-11T07:15:32.404Z"
   },
   {
    "duration": 28,
    "start_time": "2022-03-11T07:15:32.420Z"
   },
   {
    "duration": 18,
    "start_time": "2022-03-11T07:15:32.449Z"
   },
   {
    "duration": 72,
    "start_time": "2022-03-11T07:15:32.468Z"
   },
   {
    "duration": 5,
    "start_time": "2022-03-11T07:15:32.542Z"
   },
   {
    "duration": 177,
    "start_time": "2022-03-11T07:15:32.548Z"
   },
   {
    "duration": 3,
    "start_time": "2022-03-11T07:15:32.727Z"
   },
   {
    "duration": 39,
    "start_time": "2022-03-11T07:15:32.732Z"
   },
   {
    "duration": 51,
    "start_time": "2022-03-11T07:15:32.773Z"
   },
   {
    "duration": 2,
    "start_time": "2022-03-11T07:15:32.826Z"
   },
   {
    "duration": 22,
    "start_time": "2022-03-11T07:15:32.830Z"
   },
   {
    "duration": 39,
    "start_time": "2022-03-11T07:15:32.853Z"
   },
   {
    "duration": 26,
    "start_time": "2022-03-11T07:15:32.895Z"
   },
   {
    "duration": 2,
    "start_time": "2022-03-11T07:15:32.923Z"
   },
   {
    "duration": 35,
    "start_time": "2022-03-11T07:15:32.927Z"
   },
   {
    "duration": 21,
    "start_time": "2022-03-11T07:15:32.964Z"
   },
   {
    "duration": 33,
    "start_time": "2022-03-11T07:15:32.987Z"
   },
   {
    "duration": 3,
    "start_time": "2022-03-11T07:15:33.022Z"
   },
   {
    "duration": 40,
    "start_time": "2022-03-11T07:15:33.027Z"
   },
   {
    "duration": 27,
    "start_time": "2022-03-11T07:15:33.069Z"
   },
   {
    "duration": 15,
    "start_time": "2022-03-11T07:15:33.098Z"
   },
   {
    "duration": 29,
    "start_time": "2022-03-11T07:15:33.114Z"
   },
   {
    "duration": 11,
    "start_time": "2022-03-11T07:15:33.144Z"
   },
   {
    "duration": 26,
    "start_time": "2022-03-11T07:15:33.156Z"
   },
   {
    "duration": 37,
    "start_time": "2022-03-11T07:15:33.184Z"
   },
   {
    "duration": 7,
    "start_time": "2022-03-11T07:15:33.223Z"
   },
   {
    "duration": 24,
    "start_time": "2022-03-11T07:15:33.232Z"
   },
   {
    "duration": 16,
    "start_time": "2022-03-11T07:15:33.258Z"
   },
   {
    "duration": 22,
    "start_time": "2022-03-11T07:15:33.276Z"
   },
   {
    "duration": 20,
    "start_time": "2022-03-11T07:15:33.300Z"
   },
   {
    "duration": 22,
    "start_time": "2022-03-11T07:15:33.322Z"
   },
   {
    "duration": 11,
    "start_time": "2022-03-11T07:15:33.346Z"
   },
   {
    "duration": 17,
    "start_time": "2022-03-11T07:15:33.359Z"
   },
   {
    "duration": 15,
    "start_time": "2022-03-11T07:15:33.378Z"
   },
   {
    "duration": 184,
    "start_time": "2022-03-11T07:15:33.395Z"
   },
   {
    "duration": 13,
    "start_time": "2022-03-11T07:15:33.581Z"
   },
   {
    "duration": 3,
    "start_time": "2022-03-11T07:17:00.655Z"
   },
   {
    "duration": 162,
    "start_time": "2022-03-11T07:17:00.659Z"
   },
   {
    "duration": 20,
    "start_time": "2022-03-11T07:17:00.823Z"
   },
   {
    "duration": 125,
    "start_time": "2022-03-11T07:17:00.845Z"
   },
   {
    "duration": 17,
    "start_time": "2022-03-11T07:17:00.972Z"
   },
   {
    "duration": 112,
    "start_time": "2022-03-11T07:17:00.991Z"
   },
   {
    "duration": 23,
    "start_time": "2022-03-11T07:17:01.105Z"
   },
   {
    "duration": 38,
    "start_time": "2022-03-11T07:17:01.130Z"
   },
   {
    "duration": 32,
    "start_time": "2022-03-11T07:17:01.170Z"
   },
   {
    "duration": 33,
    "start_time": "2022-03-11T07:17:01.204Z"
   },
   {
    "duration": 7,
    "start_time": "2022-03-11T07:17:01.240Z"
   },
   {
    "duration": 19,
    "start_time": "2022-03-11T07:17:01.249Z"
   },
   {
    "duration": 7,
    "start_time": "2022-03-11T07:17:01.269Z"
   },
   {
    "duration": 68,
    "start_time": "2022-03-11T07:17:01.278Z"
   },
   {
    "duration": 4,
    "start_time": "2022-03-11T07:17:01.348Z"
   },
   {
    "duration": 192,
    "start_time": "2022-03-11T07:17:01.354Z"
   },
   {
    "duration": 16,
    "start_time": "2022-03-11T07:17:01.548Z"
   },
   {
    "duration": 35,
    "start_time": "2022-03-11T07:17:01.566Z"
   },
   {
    "duration": 61,
    "start_time": "2022-03-11T07:17:01.602Z"
   },
   {
    "duration": 2,
    "start_time": "2022-03-11T07:17:01.665Z"
   },
   {
    "duration": 13,
    "start_time": "2022-03-11T07:17:01.669Z"
   },
   {
    "duration": 19,
    "start_time": "2022-03-11T07:17:01.684Z"
   },
   {
    "duration": 26,
    "start_time": "2022-03-11T07:17:01.705Z"
   },
   {
    "duration": 3,
    "start_time": "2022-03-11T07:17:01.733Z"
   },
   {
    "duration": 30,
    "start_time": "2022-03-11T07:17:01.737Z"
   },
   {
    "duration": 37,
    "start_time": "2022-03-11T07:17:01.770Z"
   },
   {
    "duration": 26,
    "start_time": "2022-03-11T07:17:01.809Z"
   },
   {
    "duration": 4,
    "start_time": "2022-03-11T07:17:01.837Z"
   },
   {
    "duration": 25,
    "start_time": "2022-03-11T07:17:01.842Z"
   },
   {
    "duration": 15,
    "start_time": "2022-03-11T07:17:01.868Z"
   },
   {
    "duration": 15,
    "start_time": "2022-03-11T07:17:01.885Z"
   },
   {
    "duration": 12,
    "start_time": "2022-03-11T07:17:01.901Z"
   },
   {
    "duration": 9,
    "start_time": "2022-03-11T07:17:01.915Z"
   },
   {
    "duration": 10,
    "start_time": "2022-03-11T07:17:01.925Z"
   },
   {
    "duration": 38,
    "start_time": "2022-03-11T07:17:01.937Z"
   },
   {
    "duration": 7,
    "start_time": "2022-03-11T07:17:01.977Z"
   },
   {
    "duration": 20,
    "start_time": "2022-03-11T07:17:01.985Z"
   },
   {
    "duration": 9,
    "start_time": "2022-03-11T07:17:02.007Z"
   },
   {
    "duration": 13,
    "start_time": "2022-03-11T07:17:02.018Z"
   },
   {
    "duration": 10,
    "start_time": "2022-03-11T07:17:02.033Z"
   },
   {
    "duration": 22,
    "start_time": "2022-03-11T07:17:02.045Z"
   },
   {
    "duration": 185,
    "start_time": "2022-03-11T07:17:02.070Z"
   },
   {
    "duration": 17,
    "start_time": "2022-03-11T07:17:02.257Z"
   },
   {
    "duration": 6,
    "start_time": "2022-03-11T07:17:02.276Z"
   },
   {
    "duration": 19,
    "start_time": "2022-03-11T07:17:02.284Z"
   },
   {
    "duration": 16,
    "start_time": "2022-03-11T07:17:02.305Z"
   },
   {
    "duration": 510,
    "start_time": "2022-03-11T09:38:23.223Z"
   },
   {
    "duration": 253,
    "start_time": "2022-03-11T09:38:55.983Z"
   },
   {
    "duration": 273,
    "start_time": "2022-03-11T09:39:17.588Z"
   },
   {
    "duration": 886,
    "start_time": "2022-03-11T09:39:23.464Z"
   },
   {
    "duration": 215,
    "start_time": "2022-03-11T09:39:24.354Z"
   },
   {
    "duration": 39,
    "start_time": "2022-03-11T09:39:24.572Z"
   },
   {
    "duration": 174,
    "start_time": "2022-03-11T09:39:24.615Z"
   },
   {
    "duration": 22,
    "start_time": "2022-03-11T09:39:24.792Z"
   },
   {
    "duration": 156,
    "start_time": "2022-03-11T09:39:24.817Z"
   },
   {
    "duration": 30,
    "start_time": "2022-03-11T09:39:24.976Z"
   },
   {
    "duration": 33,
    "start_time": "2022-03-11T09:39:25.010Z"
   },
   {
    "duration": 26,
    "start_time": "2022-03-11T09:39:25.049Z"
   },
   {
    "duration": 30,
    "start_time": "2022-03-11T09:39:25.099Z"
   },
   {
    "duration": 8,
    "start_time": "2022-03-11T09:39:25.131Z"
   },
   {
    "duration": 31,
    "start_time": "2022-03-11T09:39:25.141Z"
   },
   {
    "duration": 18,
    "start_time": "2022-03-11T09:39:25.174Z"
   },
   {
    "duration": 134,
    "start_time": "2022-03-11T09:39:25.194Z"
   },
   {
    "duration": 6,
    "start_time": "2022-03-11T09:39:25.331Z"
   },
   {
    "duration": 254,
    "start_time": "2022-03-11T09:39:25.339Z"
   },
   {
    "duration": 10,
    "start_time": "2022-03-11T09:39:25.596Z"
   },
   {
    "duration": 47,
    "start_time": "2022-03-11T09:39:25.608Z"
   },
   {
    "duration": 118,
    "start_time": "2022-03-11T09:39:25.658Z"
   },
   {
    "duration": 9,
    "start_time": "2022-03-11T09:39:25.779Z"
   },
   {
    "duration": 28,
    "start_time": "2022-03-11T09:39:25.791Z"
   },
   {
    "duration": 25,
    "start_time": "2022-03-11T09:39:25.822Z"
   },
   {
    "duration": 54,
    "start_time": "2022-03-11T09:39:25.850Z"
   },
   {
    "duration": 6,
    "start_time": "2022-03-11T09:39:25.906Z"
   },
   {
    "duration": 15,
    "start_time": "2022-03-11T09:39:25.915Z"
   },
   {
    "duration": 26,
    "start_time": "2022-03-11T09:39:25.933Z"
   },
   {
    "duration": 32,
    "start_time": "2022-03-11T09:39:25.990Z"
   },
   {
    "duration": 8,
    "start_time": "2022-03-11T09:39:26.025Z"
   },
   {
    "duration": 13,
    "start_time": "2022-03-11T09:39:26.036Z"
   },
   {
    "duration": 47,
    "start_time": "2022-03-11T09:39:26.052Z"
   },
   {
    "duration": 14,
    "start_time": "2022-03-11T09:39:26.102Z"
   },
   {
    "duration": 10,
    "start_time": "2022-03-11T09:39:26.119Z"
   },
   {
    "duration": 6,
    "start_time": "2022-03-11T09:39:26.132Z"
   },
   {
    "duration": 50,
    "start_time": "2022-03-11T09:39:26.141Z"
   },
   {
    "duration": 65,
    "start_time": "2022-03-11T09:39:26.194Z"
   },
   {
    "duration": 31,
    "start_time": "2022-03-11T09:39:26.262Z"
   },
   {
    "duration": 29,
    "start_time": "2022-03-11T09:39:26.296Z"
   },
   {
    "duration": 13,
    "start_time": "2022-03-11T09:39:26.328Z"
   },
   {
    "duration": 19,
    "start_time": "2022-03-11T09:39:26.344Z"
   },
   {
    "duration": 29,
    "start_time": "2022-03-11T09:39:26.366Z"
   },
   {
    "duration": 10,
    "start_time": "2022-03-11T09:39:26.398Z"
   },
   {
    "duration": 534,
    "start_time": "2022-03-11T09:39:26.411Z"
   },
   {
    "duration": 48,
    "start_time": "2022-03-11T09:39:26.948Z"
   },
   {
    "duration": 17,
    "start_time": "2022-03-11T09:39:26.999Z"
   },
   {
    "duration": 14,
    "start_time": "2022-03-11T09:39:27.019Z"
   },
   {
    "duration": 12,
    "start_time": "2022-03-11T09:39:27.036Z"
   },
   {
    "duration": 154,
    "start_time": "2022-03-11T09:39:27.051Z"
   },
   {
    "duration": 5,
    "start_time": "2022-03-11T09:42:35.014Z"
   },
   {
    "duration": 238,
    "start_time": "2022-03-11T09:42:35.022Z"
   },
   {
    "duration": 37,
    "start_time": "2022-03-11T09:42:35.263Z"
   },
   {
    "duration": 191,
    "start_time": "2022-03-11T09:42:35.304Z"
   },
   {
    "duration": 23,
    "start_time": "2022-03-11T09:42:35.498Z"
   },
   {
    "duration": 130,
    "start_time": "2022-03-11T09:42:35.523Z"
   },
   {
    "duration": 19,
    "start_time": "2022-03-11T09:42:35.655Z"
   },
   {
    "duration": 22,
    "start_time": "2022-03-11T09:42:35.689Z"
   },
   {
    "duration": 27,
    "start_time": "2022-03-11T09:42:35.714Z"
   },
   {
    "duration": 45,
    "start_time": "2022-03-11T09:42:35.743Z"
   },
   {
    "duration": 10,
    "start_time": "2022-03-11T09:42:35.790Z"
   },
   {
    "duration": 21,
    "start_time": "2022-03-11T09:42:35.803Z"
   },
   {
    "duration": 6,
    "start_time": "2022-03-11T09:42:35.829Z"
   },
   {
    "duration": 129,
    "start_time": "2022-03-11T09:42:35.837Z"
   },
   {
    "duration": 6,
    "start_time": "2022-03-11T09:42:35.969Z"
   },
   {
    "duration": 247,
    "start_time": "2022-03-11T09:42:35.988Z"
   },
   {
    "duration": 5,
    "start_time": "2022-03-11T09:42:36.239Z"
   },
   {
    "duration": 55,
    "start_time": "2022-03-11T09:42:36.247Z"
   },
   {
    "duration": 82,
    "start_time": "2022-03-11T09:42:36.305Z"
   },
   {
    "duration": 5,
    "start_time": "2022-03-11T09:42:36.389Z"
   },
   {
    "duration": 18,
    "start_time": "2022-03-11T09:42:36.396Z"
   },
   {
    "duration": 25,
    "start_time": "2022-03-11T09:42:36.417Z"
   },
   {
    "duration": 85,
    "start_time": "2022-03-11T09:42:36.450Z"
   },
   {
    "duration": 4,
    "start_time": "2022-03-11T09:42:36.540Z"
   },
   {
    "duration": 16,
    "start_time": "2022-03-11T09:42:36.546Z"
   },
   {
    "duration": 40,
    "start_time": "2022-03-11T09:42:36.564Z"
   },
   {
    "duration": 34,
    "start_time": "2022-03-11T09:42:36.607Z"
   },
   {
    "duration": 7,
    "start_time": "2022-03-11T09:42:36.644Z"
   },
   {
    "duration": 40,
    "start_time": "2022-03-11T09:42:36.654Z"
   },
   {
    "duration": 14,
    "start_time": "2022-03-11T09:42:36.696Z"
   },
   {
    "duration": 13,
    "start_time": "2022-03-11T09:42:36.712Z"
   },
   {
    "duration": 10,
    "start_time": "2022-03-11T09:42:36.728Z"
   },
   {
    "duration": 51,
    "start_time": "2022-03-11T09:42:36.741Z"
   },
   {
    "duration": 15,
    "start_time": "2022-03-11T09:42:36.796Z"
   },
   {
    "duration": 52,
    "start_time": "2022-03-11T09:42:36.814Z"
   },
   {
    "duration": 27,
    "start_time": "2022-03-11T09:42:36.868Z"
   },
   {
    "duration": 28,
    "start_time": "2022-03-11T09:42:36.897Z"
   },
   {
    "duration": 19,
    "start_time": "2022-03-11T09:42:36.928Z"
   },
   {
    "duration": 40,
    "start_time": "2022-03-11T09:42:36.949Z"
   },
   {
    "duration": 12,
    "start_time": "2022-03-11T09:42:36.992Z"
   },
   {
    "duration": 9,
    "start_time": "2022-03-11T09:42:37.007Z"
   },
   {
    "duration": 499,
    "start_time": "2022-03-11T09:42:37.020Z"
   },
   {
    "duration": 25,
    "start_time": "2022-03-11T09:42:37.522Z"
   },
   {
    "duration": 23,
    "start_time": "2022-03-11T09:42:37.549Z"
   },
   {
    "duration": 89,
    "start_time": "2022-03-11T09:42:37.587Z"
   },
   {
    "duration": 132,
    "start_time": "2022-03-11T09:42:37.547Z"
   },
   {
    "duration": 125,
    "start_time": "2022-03-11T09:42:37.555Z"
   },
   {
    "duration": 4,
    "start_time": "2022-03-11T09:44:12.492Z"
   },
   {
    "duration": 247,
    "start_time": "2022-03-11T09:44:12.498Z"
   },
   {
    "duration": 54,
    "start_time": "2022-03-11T09:44:12.748Z"
   },
   {
    "duration": 189,
    "start_time": "2022-03-11T09:44:12.805Z"
   },
   {
    "duration": 23,
    "start_time": "2022-03-11T09:44:12.997Z"
   },
   {
    "duration": 140,
    "start_time": "2022-03-11T09:44:13.022Z"
   },
   {
    "duration": 29,
    "start_time": "2022-03-11T09:44:13.164Z"
   },
   {
    "duration": 23,
    "start_time": "2022-03-11T09:44:13.196Z"
   },
   {
    "duration": 10,
    "start_time": "2022-03-11T09:44:13.222Z"
   },
   {
    "duration": 56,
    "start_time": "2022-03-11T09:44:13.236Z"
   },
   {
    "duration": 10,
    "start_time": "2022-03-11T09:44:13.294Z"
   },
   {
    "duration": 27,
    "start_time": "2022-03-11T09:44:13.306Z"
   },
   {
    "duration": 7,
    "start_time": "2022-03-11T09:44:13.336Z"
   },
   {
    "duration": 128,
    "start_time": "2022-03-11T09:44:13.345Z"
   },
   {
    "duration": 6,
    "start_time": "2022-03-11T09:44:13.476Z"
   },
   {
    "duration": 259,
    "start_time": "2022-03-11T09:44:13.488Z"
   },
   {
    "duration": 4,
    "start_time": "2022-03-11T09:44:13.750Z"
   },
   {
    "duration": 55,
    "start_time": "2022-03-11T09:44:13.756Z"
   },
   {
    "duration": 84,
    "start_time": "2022-03-11T09:44:13.813Z"
   },
   {
    "duration": 3,
    "start_time": "2022-03-11T09:44:13.900Z"
   },
   {
    "duration": 13,
    "start_time": "2022-03-11T09:44:13.906Z"
   },
   {
    "duration": 23,
    "start_time": "2022-03-11T09:44:13.922Z"
   },
   {
    "duration": 68,
    "start_time": "2022-03-11T09:44:13.952Z"
   },
   {
    "duration": 3,
    "start_time": "2022-03-11T09:44:14.023Z"
   },
   {
    "duration": 27,
    "start_time": "2022-03-11T09:44:14.030Z"
   },
   {
    "duration": 40,
    "start_time": "2022-03-11T09:44:14.059Z"
   },
   {
    "duration": 32,
    "start_time": "2022-03-11T09:44:14.102Z"
   },
   {
    "duration": 5,
    "start_time": "2022-03-11T09:44:14.136Z"
   },
   {
    "duration": 19,
    "start_time": "2022-03-11T09:44:14.143Z"
   },
   {
    "duration": 13,
    "start_time": "2022-03-11T09:44:14.188Z"
   },
   {
    "duration": 14,
    "start_time": "2022-03-11T09:44:14.203Z"
   },
   {
    "duration": 11,
    "start_time": "2022-03-11T09:44:14.219Z"
   },
   {
    "duration": 6,
    "start_time": "2022-03-11T09:44:14.233Z"
   },
   {
    "duration": 49,
    "start_time": "2022-03-11T09:44:14.241Z"
   },
   {
    "duration": 47,
    "start_time": "2022-03-11T09:44:14.292Z"
   },
   {
    "duration": 11,
    "start_time": "2022-03-11T09:44:14.341Z"
   },
   {
    "duration": 70,
    "start_time": "2022-03-11T09:44:14.354Z"
   },
   {
    "duration": 10,
    "start_time": "2022-03-11T09:44:14.427Z"
   },
   {
    "duration": 12,
    "start_time": "2022-03-11T09:44:14.440Z"
   },
   {
    "duration": 50,
    "start_time": "2022-03-11T09:44:14.455Z"
   },
   {
    "duration": 8,
    "start_time": "2022-03-11T09:44:14.509Z"
   },
   {
    "duration": 320,
    "start_time": "2022-03-11T09:44:14.520Z"
   },
   {
    "duration": 27,
    "start_time": "2022-03-11T09:44:14.843Z"
   },
   {
    "duration": 17,
    "start_time": "2022-03-11T09:44:14.873Z"
   },
   {
    "duration": 11,
    "start_time": "2022-03-11T09:44:14.893Z"
   },
   {
    "duration": 17,
    "start_time": "2022-03-11T09:44:14.907Z"
   },
   {
    "duration": 7644,
    "start_time": "2022-03-11T09:44:14.927Z"
   },
   {
    "duration": 56,
    "start_time": "2022-03-11T09:44:49.773Z"
   },
   {
    "duration": 32,
    "start_time": "2022-03-11T09:46:16.253Z"
   },
   {
    "duration": 34,
    "start_time": "2022-03-11T09:48:31.996Z"
   },
   {
    "duration": 212,
    "start_time": "2022-03-11T10:27:23.206Z"
   },
   {
    "duration": 280,
    "start_time": "2022-03-11T10:28:49.838Z"
   },
   {
    "duration": 581,
    "start_time": "2022-03-11T10:28:58.424Z"
   },
   {
    "duration": 1343,
    "start_time": "2022-03-11T10:29:37.577Z"
   },
   {
    "duration": 1429,
    "start_time": "2022-03-11T10:31:02.336Z"
   },
   {
    "duration": 2091,
    "start_time": "2022-03-11T10:32:26.599Z"
   },
   {
    "duration": 35,
    "start_time": "2022-03-11T10:36:01.337Z"
   },
   {
    "duration": 258,
    "start_time": "2022-03-11T10:37:24.589Z"
   },
   {
    "duration": 1283,
    "start_time": "2022-03-11T10:38:31.281Z"
   },
   {
    "duration": 2110,
    "start_time": "2022-03-11T10:39:00.143Z"
   },
   {
    "duration": 1526,
    "start_time": "2022-03-11T10:40:01.316Z"
   },
   {
    "duration": 1788,
    "start_time": "2022-03-11T10:40:40.779Z"
   },
   {
    "duration": 1386,
    "start_time": "2022-03-11T10:41:03.459Z"
   },
   {
    "duration": 1472,
    "start_time": "2022-03-11T10:49:29.755Z"
   },
   {
    "duration": 1243,
    "start_time": "2022-03-11T10:50:46.211Z"
   },
   {
    "duration": 2131,
    "start_time": "2022-03-11T10:51:25.730Z"
   },
   {
    "duration": 1327,
    "start_time": "2022-03-11T10:51:42.480Z"
   },
   {
    "duration": 575,
    "start_time": "2022-03-11T10:53:15.900Z"
   },
   {
    "duration": 435,
    "start_time": "2022-03-11T10:53:58.469Z"
   },
   {
    "duration": 1013,
    "start_time": "2022-03-11T10:54:19.396Z"
   },
   {
    "duration": 507,
    "start_time": "2022-03-11T10:54:31.106Z"
   },
   {
    "duration": 904,
    "start_time": "2022-03-11T10:55:28.050Z"
   },
   {
    "duration": 1732,
    "start_time": "2022-03-11T11:03:45.999Z"
   },
   {
    "duration": 1884,
    "start_time": "2022-03-11T11:04:52.549Z"
   },
   {
    "duration": 1519,
    "start_time": "2022-03-11T11:05:22.799Z"
   },
   {
    "duration": 574,
    "start_time": "2022-03-11T11:09:26.680Z"
   },
   {
    "duration": 1356,
    "start_time": "2022-03-11T11:11:06.653Z"
   },
   {
    "duration": 545,
    "start_time": "2022-03-11T11:13:25.097Z"
   },
   {
    "duration": 1278,
    "start_time": "2022-03-11T11:15:26.978Z"
   },
   {
    "duration": 1271,
    "start_time": "2022-03-11T11:17:01.285Z"
   },
   {
    "duration": 1395,
    "start_time": "2022-03-11T11:17:22.202Z"
   },
   {
    "duration": 1641,
    "start_time": "2022-03-11T11:18:39.674Z"
   },
   {
    "duration": 1259,
    "start_time": "2022-03-11T11:19:09.831Z"
   },
   {
    "duration": 96,
    "start_time": "2022-03-11T11:39:29.326Z"
   },
   {
    "duration": 3021,
    "start_time": "2022-03-11T11:39:35.604Z"
   },
   {
    "duration": 2115,
    "start_time": "2022-03-11T11:39:55.768Z"
   },
   {
    "duration": 1475,
    "start_time": "2022-03-11T11:41:41.121Z"
   },
   {
    "duration": 1803,
    "start_time": "2022-03-11T11:48:05.651Z"
   },
   {
    "duration": 1336,
    "start_time": "2022-03-11T11:48:27.907Z"
   },
   {
    "duration": 35,
    "start_time": "2022-03-11T13:17:25.827Z"
   },
   {
    "duration": 9,
    "start_time": "2022-03-11T13:20:08.416Z"
   },
   {
    "duration": 12,
    "start_time": "2022-03-11T13:43:39.433Z"
   },
   {
    "duration": 8,
    "start_time": "2022-03-11T13:43:52.571Z"
   },
   {
    "duration": 124,
    "start_time": "2022-03-11T13:45:59.426Z"
   },
   {
    "duration": 18,
    "start_time": "2022-03-11T13:46:15.220Z"
   },
   {
    "duration": 9,
    "start_time": "2022-03-11T13:46:16.785Z"
   },
   {
    "duration": 9,
    "start_time": "2022-03-11T13:46:32.835Z"
   },
   {
    "duration": 17,
    "start_time": "2022-03-11T13:46:58.076Z"
   },
   {
    "duration": 12,
    "start_time": "2022-03-11T13:46:59.492Z"
   },
   {
    "duration": 5,
    "start_time": "2022-03-11T13:50:57.843Z"
   },
   {
    "duration": 12,
    "start_time": "2022-03-11T13:51:20.267Z"
   },
   {
    "duration": 104,
    "start_time": "2022-03-11T13:56:27.685Z"
   },
   {
    "duration": 572,
    "start_time": "2022-03-11T13:56:40.896Z"
   },
   {
    "duration": 747,
    "start_time": "2022-03-11T13:59:24.427Z"
   },
   {
    "duration": 951,
    "start_time": "2022-03-11T14:05:15.127Z"
   },
   {
    "duration": 933,
    "start_time": "2022-03-11T14:06:15.077Z"
   },
   {
    "duration": 851,
    "start_time": "2022-03-11T14:06:47.126Z"
   },
   {
    "duration": 1165,
    "start_time": "2022-03-11T14:07:37.747Z"
   },
   {
    "duration": 832,
    "start_time": "2022-03-11T14:08:08.479Z"
   },
   {
    "duration": 6,
    "start_time": "2022-03-11T14:08:28.647Z"
   },
   {
    "duration": 561,
    "start_time": "2022-03-11T14:08:56.066Z"
   },
   {
    "duration": 1627,
    "start_time": "2022-03-17T13:14:33.753Z"
   },
   {
    "duration": 211,
    "start_time": "2022-03-17T13:14:35.385Z"
   },
   {
    "duration": 35,
    "start_time": "2022-03-17T13:14:35.598Z"
   },
   {
    "duration": 191,
    "start_time": "2022-03-17T13:14:35.636Z"
   },
   {
    "duration": 41,
    "start_time": "2022-03-17T13:14:35.829Z"
   },
   {
    "duration": 121,
    "start_time": "2022-03-17T13:14:35.872Z"
   },
   {
    "duration": 25,
    "start_time": "2022-03-17T13:14:35.995Z"
   },
   {
    "duration": 18,
    "start_time": "2022-03-17T13:14:36.022Z"
   },
   {
    "duration": 34,
    "start_time": "2022-03-17T13:14:36.042Z"
   },
   {
    "duration": 43,
    "start_time": "2022-03-17T13:14:36.080Z"
   },
   {
    "duration": 15,
    "start_time": "2022-03-17T13:14:36.125Z"
   },
   {
    "duration": 35,
    "start_time": "2022-03-17T13:14:36.143Z"
   },
   {
    "duration": 7,
    "start_time": "2022-03-17T13:14:36.181Z"
   },
   {
    "duration": 127,
    "start_time": "2022-03-17T13:14:36.192Z"
   },
   {
    "duration": 9,
    "start_time": "2022-03-17T13:14:36.322Z"
   },
   {
    "duration": 258,
    "start_time": "2022-03-17T13:14:36.333Z"
   },
   {
    "duration": 6,
    "start_time": "2022-03-17T13:14:36.594Z"
   },
   {
    "duration": 32,
    "start_time": "2022-03-17T13:14:36.602Z"
   },
   {
    "duration": 97,
    "start_time": "2022-03-17T13:14:36.636Z"
   },
   {
    "duration": 6,
    "start_time": "2022-03-17T13:14:36.736Z"
   },
   {
    "duration": 29,
    "start_time": "2022-03-17T13:14:36.744Z"
   },
   {
    "duration": 22,
    "start_time": "2022-03-17T13:14:36.775Z"
   },
   {
    "duration": 34,
    "start_time": "2022-03-17T13:14:36.799Z"
   },
   {
    "duration": 5,
    "start_time": "2022-03-17T13:14:36.835Z"
   },
   {
    "duration": 10,
    "start_time": "2022-03-17T13:14:36.868Z"
   },
   {
    "duration": 26,
    "start_time": "2022-03-17T13:14:36.880Z"
   },
   {
    "duration": 60,
    "start_time": "2022-03-17T13:14:36.908Z"
   },
   {
    "duration": 5,
    "start_time": "2022-03-17T13:14:36.974Z"
   },
   {
    "duration": 18,
    "start_time": "2022-03-17T13:14:36.981Z"
   },
   {
    "duration": 11,
    "start_time": "2022-03-17T13:14:37.001Z"
   },
   {
    "duration": 13,
    "start_time": "2022-03-17T13:14:37.015Z"
   },
   {
    "duration": 43,
    "start_time": "2022-03-17T13:14:37.030Z"
   },
   {
    "duration": 5,
    "start_time": "2022-03-17T13:14:37.076Z"
   },
   {
    "duration": 11,
    "start_time": "2022-03-17T13:14:37.083Z"
   },
   {
    "duration": 72,
    "start_time": "2022-03-17T13:14:37.096Z"
   },
   {
    "duration": 10,
    "start_time": "2022-03-17T13:14:37.170Z"
   },
   {
    "duration": 34,
    "start_time": "2022-03-17T13:14:37.182Z"
   },
   {
    "duration": 8,
    "start_time": "2022-03-17T13:14:37.218Z"
   },
   {
    "duration": 8,
    "start_time": "2022-03-17T13:14:37.229Z"
   },
   {
    "duration": 10,
    "start_time": "2022-03-17T13:14:37.268Z"
   },
   {
    "duration": 7,
    "start_time": "2022-03-17T13:14:37.280Z"
   },
   {
    "duration": 182,
    "start_time": "2022-03-17T13:14:37.289Z"
   },
   {
    "duration": 25,
    "start_time": "2022-03-17T13:14:37.473Z"
   },
   {
    "duration": 7,
    "start_time": "2022-03-17T13:14:37.500Z"
   },
   {
    "duration": 10,
    "start_time": "2022-03-17T13:14:37.509Z"
   },
   {
    "duration": 9,
    "start_time": "2022-03-17T13:14:37.521Z"
   },
   {
    "duration": 60,
    "start_time": "2022-03-17T13:14:37.532Z"
   },
   {
    "duration": 961,
    "start_time": "2022-03-17T13:14:37.595Z"
   },
   {
    "duration": 430,
    "start_time": "2022-03-17T13:14:38.567Z"
   },
   {
    "duration": 374,
    "start_time": "2022-03-17T13:14:39.000Z"
   },
   {
    "duration": 9,
    "start_time": "2022-03-17T13:14:39.377Z"
   },
   {
    "duration": 332,
    "start_time": "2022-03-17T13:14:39.389Z"
   },
   {
    "duration": 0,
    "start_time": "2022-03-17T13:14:39.724Z"
   },
   {
    "duration": 0,
    "start_time": "2022-03-17T13:14:39.726Z"
   },
   {
    "duration": 0,
    "start_time": "2022-03-17T13:14:39.728Z"
   },
   {
    "duration": 0,
    "start_time": "2022-03-17T13:14:39.730Z"
   },
   {
    "duration": 0,
    "start_time": "2022-03-17T13:14:39.732Z"
   },
   {
    "duration": 540,
    "start_time": "2022-03-17T14:05:58.766Z"
   },
   {
    "duration": 123,
    "start_time": "2022-03-17T14:35:10.029Z"
   },
   {
    "duration": 510,
    "start_time": "2022-03-17T14:37:30.590Z"
   },
   {
    "duration": 493,
    "start_time": "2022-03-17T14:38:23.078Z"
   },
   {
    "duration": 383,
    "start_time": "2022-03-17T14:41:42.919Z"
   },
   {
    "duration": 454,
    "start_time": "2022-03-17T14:43:48.491Z"
   },
   {
    "duration": 545,
    "start_time": "2022-03-17T14:48:55.529Z"
   },
   {
    "duration": 549,
    "start_time": "2022-03-17T14:49:38.537Z"
   },
   {
    "duration": 489,
    "start_time": "2022-03-17T14:50:23.692Z"
   },
   {
    "duration": 377,
    "start_time": "2022-03-17T14:51:16.640Z"
   },
   {
    "duration": 375,
    "start_time": "2022-03-17T14:51:32.922Z"
   },
   {
    "duration": 369,
    "start_time": "2022-03-17T14:55:43.983Z"
   },
   {
    "duration": 384,
    "start_time": "2022-03-17T14:56:15.964Z"
   },
   {
    "duration": 382,
    "start_time": "2022-03-17T14:57:03.246Z"
   },
   {
    "duration": 637,
    "start_time": "2022-03-17T14:57:44.997Z"
   },
   {
    "duration": 138,
    "start_time": "2022-03-17T14:58:06.650Z"
   },
   {
    "duration": 377,
    "start_time": "2022-03-17T14:58:18.911Z"
   },
   {
    "duration": 143,
    "start_time": "2022-03-17T14:58:47.683Z"
   },
   {
    "duration": 41,
    "start_time": "2022-03-17T14:58:54.360Z"
   },
   {
    "duration": 23,
    "start_time": "2022-03-17T14:59:21.659Z"
   },
   {
    "duration": 383,
    "start_time": "2022-03-17T15:00:55.210Z"
   },
   {
    "duration": 386,
    "start_time": "2022-03-17T15:01:36.213Z"
   },
   {
    "duration": 698,
    "start_time": "2022-03-17T15:04:26.587Z"
   },
   {
    "duration": 134,
    "start_time": "2022-03-17T15:08:57.650Z"
   },
   {
    "duration": 25,
    "start_time": "2022-03-17T15:09:04.119Z"
   },
   {
    "duration": 21,
    "start_time": "2022-03-17T15:09:20.851Z"
   },
   {
    "duration": 21,
    "start_time": "2022-03-17T15:10:15.229Z"
   },
   {
    "duration": 449,
    "start_time": "2022-03-17T15:11:09.773Z"
   },
   {
    "duration": 386,
    "start_time": "2022-03-17T15:12:05.557Z"
   },
   {
    "duration": 392,
    "start_time": "2022-03-17T15:12:34.096Z"
   },
   {
    "duration": 445,
    "start_time": "2022-03-17T15:13:04.757Z"
   },
   {
    "duration": 424,
    "start_time": "2022-03-17T15:13:46.802Z"
   },
   {
    "duration": 382,
    "start_time": "2022-03-17T15:20:58.712Z"
   },
   {
    "duration": 641,
    "start_time": "2022-03-17T15:23:27.303Z"
   },
   {
    "duration": 22,
    "start_time": "2022-03-17T15:28:19.451Z"
   },
   {
    "duration": 400,
    "start_time": "2022-03-17T15:30:44.363Z"
   },
   {
    "duration": 387,
    "start_time": "2022-03-17T15:36:12.687Z"
   },
   {
    "duration": 30,
    "start_time": "2022-03-17T15:37:37.453Z"
   },
   {
    "duration": 4,
    "start_time": "2022-03-17T15:37:47.082Z"
   },
   {
    "duration": 640,
    "start_time": "2022-03-17T15:37:47.089Z"
   },
   {
    "duration": 47,
    "start_time": "2022-03-17T15:37:47.732Z"
   },
   {
    "duration": 243,
    "start_time": "2022-03-17T15:37:47.782Z"
   },
   {
    "duration": 32,
    "start_time": "2022-03-17T15:37:48.027Z"
   },
   {
    "duration": 2042,
    "start_time": "2022-03-17T15:37:48.061Z"
   },
   {
    "duration": 27,
    "start_time": "2022-03-17T15:37:50.105Z"
   },
   {
    "duration": 33,
    "start_time": "2022-03-17T15:37:50.135Z"
   },
   {
    "duration": 18,
    "start_time": "2022-03-17T15:37:50.171Z"
   },
   {
    "duration": 48,
    "start_time": "2022-03-17T15:37:50.191Z"
   },
   {
    "duration": 16,
    "start_time": "2022-03-17T15:37:50.241Z"
   },
   {
    "duration": 38,
    "start_time": "2022-03-17T15:37:50.259Z"
   },
   {
    "duration": 6,
    "start_time": "2022-03-17T15:37:50.300Z"
   },
   {
    "duration": 120,
    "start_time": "2022-03-17T15:37:50.308Z"
   },
   {
    "duration": 7,
    "start_time": "2022-03-17T15:37:50.430Z"
   },
   {
    "duration": 267,
    "start_time": "2022-03-17T15:37:50.440Z"
   },
   {
    "duration": 5,
    "start_time": "2022-03-17T15:37:50.710Z"
   },
   {
    "duration": 51,
    "start_time": "2022-03-17T15:37:50.717Z"
   },
   {
    "duration": 74,
    "start_time": "2022-03-17T15:37:50.770Z"
   },
   {
    "duration": 5,
    "start_time": "2022-03-17T15:37:50.846Z"
   },
   {
    "duration": 12,
    "start_time": "2022-03-17T15:37:50.868Z"
   },
   {
    "duration": 26,
    "start_time": "2022-03-17T15:37:50.882Z"
   },
   {
    "duration": 68,
    "start_time": "2022-03-17T15:37:50.911Z"
   },
   {
    "duration": 4,
    "start_time": "2022-03-17T15:37:50.987Z"
   },
   {
    "duration": 18,
    "start_time": "2022-03-17T15:37:50.994Z"
   },
   {
    "duration": 27,
    "start_time": "2022-03-17T15:37:51.014Z"
   },
   {
    "duration": 54,
    "start_time": "2022-03-17T15:37:51.043Z"
   },
   {
    "duration": 5,
    "start_time": "2022-03-17T15:37:51.099Z"
   },
   {
    "duration": 17,
    "start_time": "2022-03-17T15:37:51.107Z"
   },
   {
    "duration": 41,
    "start_time": "2022-03-17T15:37:51.126Z"
   },
   {
    "duration": 12,
    "start_time": "2022-03-17T15:37:51.170Z"
   },
   {
    "duration": 12,
    "start_time": "2022-03-17T15:37:51.184Z"
   },
   {
    "duration": 6,
    "start_time": "2022-03-17T15:37:51.209Z"
   },
   {
    "duration": 16,
    "start_time": "2022-03-17T15:37:51.218Z"
   },
   {
    "duration": 81,
    "start_time": "2022-03-17T15:37:51.237Z"
   },
   {
    "duration": 13,
    "start_time": "2022-03-17T15:37:51.320Z"
   },
   {
    "duration": 54,
    "start_time": "2022-03-17T15:37:51.335Z"
   },
   {
    "duration": 19,
    "start_time": "2022-03-17T15:37:51.392Z"
   },
   {
    "duration": 39,
    "start_time": "2022-03-17T15:37:51.413Z"
   },
   {
    "duration": 66,
    "start_time": "2022-03-17T15:37:51.454Z"
   },
   {
    "duration": 36,
    "start_time": "2022-03-17T15:37:51.523Z"
   },
   {
    "duration": 180,
    "start_time": "2022-03-17T15:37:51.561Z"
   },
   {
    "duration": 31,
    "start_time": "2022-03-17T15:37:51.743Z"
   },
   {
    "duration": 21,
    "start_time": "2022-03-17T15:37:51.777Z"
   },
   {
    "duration": 20,
    "start_time": "2022-03-17T15:37:51.800Z"
   },
   {
    "duration": 28,
    "start_time": "2022-03-17T15:37:51.822Z"
   },
   {
    "duration": 482,
    "start_time": "2022-03-17T15:37:51.852Z"
   },
   {
    "duration": 413,
    "start_time": "2022-03-17T15:37:52.336Z"
   },
   {
    "duration": 36,
    "start_time": "2022-03-17T15:37:52.751Z"
   },
   {
    "duration": 0,
    "start_time": "2022-03-17T15:37:52.790Z"
   },
   {
    "duration": 0,
    "start_time": "2022-03-17T15:37:52.793Z"
   },
   {
    "duration": 0,
    "start_time": "2022-03-17T15:37:52.794Z"
   },
   {
    "duration": 0,
    "start_time": "2022-03-17T15:37:52.796Z"
   },
   {
    "duration": 0,
    "start_time": "2022-03-17T15:37:52.797Z"
   },
   {
    "duration": 0,
    "start_time": "2022-03-17T15:37:52.799Z"
   },
   {
    "duration": 0,
    "start_time": "2022-03-17T15:37:52.802Z"
   },
   {
    "duration": 403,
    "start_time": "2022-03-17T15:38:33.173Z"
   },
   {
    "duration": 409,
    "start_time": "2022-03-17T16:29:24.124Z"
   },
   {
    "duration": 401,
    "start_time": "2022-03-17T16:31:37.411Z"
   },
   {
    "duration": 428,
    "start_time": "2022-03-17T16:33:18.600Z"
   },
   {
    "duration": 419,
    "start_time": "2022-03-17T16:35:18.644Z"
   },
   {
    "duration": 4,
    "start_time": "2022-03-17T16:36:40.020Z"
   },
   {
    "duration": 328,
    "start_time": "2022-03-17T16:36:40.027Z"
   },
   {
    "duration": 43,
    "start_time": "2022-03-17T16:36:40.357Z"
   },
   {
    "duration": 201,
    "start_time": "2022-03-17T16:36:40.403Z"
   },
   {
    "duration": 31,
    "start_time": "2022-03-17T16:36:40.606Z"
   },
   {
    "duration": 156,
    "start_time": "2022-03-17T16:36:40.640Z"
   },
   {
    "duration": 30,
    "start_time": "2022-03-17T16:36:40.799Z"
   },
   {
    "duration": 40,
    "start_time": "2022-03-17T16:36:40.831Z"
   },
   {
    "duration": 23,
    "start_time": "2022-03-17T16:36:40.877Z"
   },
   {
    "duration": 40,
    "start_time": "2022-03-17T16:36:40.902Z"
   },
   {
    "duration": 27,
    "start_time": "2022-03-17T16:36:40.944Z"
   },
   {
    "duration": 30,
    "start_time": "2022-03-17T16:36:40.975Z"
   },
   {
    "duration": 6,
    "start_time": "2022-03-17T16:36:41.008Z"
   },
   {
    "duration": 134,
    "start_time": "2022-03-17T16:36:41.016Z"
   },
   {
    "duration": 6,
    "start_time": "2022-03-17T16:36:41.152Z"
   },
   {
    "duration": 300,
    "start_time": "2022-03-17T16:36:41.171Z"
   },
   {
    "duration": 10,
    "start_time": "2022-03-17T16:36:41.474Z"
   },
   {
    "duration": 47,
    "start_time": "2022-03-17T16:36:41.487Z"
   },
   {
    "duration": 103,
    "start_time": "2022-03-17T16:36:41.537Z"
   },
   {
    "duration": 5,
    "start_time": "2022-03-17T16:36:41.642Z"
   },
   {
    "duration": 23,
    "start_time": "2022-03-17T16:36:41.649Z"
   },
   {
    "duration": 23,
    "start_time": "2022-03-17T16:36:41.676Z"
   },
   {
    "duration": 36,
    "start_time": "2022-03-17T16:36:41.702Z"
   },
   {
    "duration": 9,
    "start_time": "2022-03-17T16:36:41.774Z"
   },
   {
    "duration": 10,
    "start_time": "2022-03-17T16:36:41.786Z"
   },
   {
    "duration": 25,
    "start_time": "2022-03-17T16:36:41.799Z"
   },
   {
    "duration": 59,
    "start_time": "2022-03-17T16:36:41.826Z"
   },
   {
    "duration": 5,
    "start_time": "2022-03-17T16:36:41.888Z"
   },
   {
    "duration": 16,
    "start_time": "2022-03-17T16:36:41.896Z"
   },
   {
    "duration": 12,
    "start_time": "2022-03-17T16:36:41.915Z"
   },
   {
    "duration": 41,
    "start_time": "2022-03-17T16:36:41.930Z"
   },
   {
    "duration": 14,
    "start_time": "2022-03-17T16:36:41.974Z"
   },
   {
    "duration": 6,
    "start_time": "2022-03-17T16:36:41.990Z"
   },
   {
    "duration": 13,
    "start_time": "2022-03-17T16:36:41.998Z"
   },
   {
    "duration": 88,
    "start_time": "2022-03-17T16:36:42.013Z"
   },
   {
    "duration": 10,
    "start_time": "2022-03-17T16:36:42.104Z"
   },
   {
    "duration": 30,
    "start_time": "2022-03-17T16:36:42.116Z"
   },
   {
    "duration": 30,
    "start_time": "2022-03-17T16:36:42.149Z"
   },
   {
    "duration": 12,
    "start_time": "2022-03-17T16:36:42.188Z"
   },
   {
    "duration": 10,
    "start_time": "2022-03-17T16:36:42.202Z"
   },
   {
    "duration": 8,
    "start_time": "2022-03-17T16:36:42.214Z"
   },
   {
    "duration": 206,
    "start_time": "2022-03-17T16:36:42.225Z"
   },
   {
    "duration": 24,
    "start_time": "2022-03-17T16:36:42.433Z"
   },
   {
    "duration": 26,
    "start_time": "2022-03-17T16:36:42.459Z"
   },
   {
    "duration": 11,
    "start_time": "2022-03-17T16:36:42.488Z"
   },
   {
    "duration": 10,
    "start_time": "2022-03-17T16:36:42.502Z"
   },
   {
    "duration": 468,
    "start_time": "2022-03-17T16:36:42.515Z"
   },
   {
    "duration": 487,
    "start_time": "2022-03-17T16:36:42.985Z"
   },
   {
    "duration": 586,
    "start_time": "2022-03-17T16:36:43.486Z"
   },
   {
    "duration": 544,
    "start_time": "2022-03-17T16:36:44.075Z"
   },
   {
    "duration": 537,
    "start_time": "2022-03-17T16:36:44.622Z"
   },
   {
    "duration": 14,
    "start_time": "2022-03-17T16:36:45.167Z"
   },
   {
    "duration": 0,
    "start_time": "2022-03-17T16:36:45.184Z"
   },
   {
    "duration": 0,
    "start_time": "2022-03-17T16:36:45.187Z"
   },
   {
    "duration": 0,
    "start_time": "2022-03-17T16:36:45.189Z"
   },
   {
    "duration": 1,
    "start_time": "2022-03-17T16:36:45.190Z"
   },
   {
    "duration": 4,
    "start_time": "2022-03-17T16:37:55.818Z"
   },
   {
    "duration": 256,
    "start_time": "2022-03-17T16:37:55.826Z"
   },
   {
    "duration": 38,
    "start_time": "2022-03-17T16:37:56.085Z"
   },
   {
    "duration": 226,
    "start_time": "2022-03-17T16:37:56.126Z"
   },
   {
    "duration": 40,
    "start_time": "2022-03-17T16:37:56.355Z"
   },
   {
    "duration": 135,
    "start_time": "2022-03-17T16:37:56.398Z"
   },
   {
    "duration": 42,
    "start_time": "2022-03-17T16:37:56.535Z"
   },
   {
    "duration": 23,
    "start_time": "2022-03-17T16:37:56.581Z"
   },
   {
    "duration": 20,
    "start_time": "2022-03-17T16:37:56.606Z"
   },
   {
    "duration": 69,
    "start_time": "2022-03-17T16:37:56.629Z"
   },
   {
    "duration": 16,
    "start_time": "2022-03-17T16:37:56.703Z"
   },
   {
    "duration": 21,
    "start_time": "2022-03-17T16:37:56.721Z"
   },
   {
    "duration": 29,
    "start_time": "2022-03-17T16:37:56.744Z"
   },
   {
    "duration": 169,
    "start_time": "2022-03-17T16:37:56.777Z"
   },
   {
    "duration": 8,
    "start_time": "2022-03-17T16:37:56.949Z"
   },
   {
    "duration": 258,
    "start_time": "2022-03-17T16:37:56.959Z"
   },
   {
    "duration": 5,
    "start_time": "2022-03-17T16:37:57.219Z"
   },
   {
    "duration": 51,
    "start_time": "2022-03-17T16:37:57.226Z"
   },
   {
    "duration": 74,
    "start_time": "2022-03-17T16:37:57.280Z"
   },
   {
    "duration": 5,
    "start_time": "2022-03-17T16:37:57.368Z"
   },
   {
    "duration": 25,
    "start_time": "2022-03-17T16:37:57.378Z"
   },
   {
    "duration": 21,
    "start_time": "2022-03-17T16:37:57.406Z"
   },
   {
    "duration": 64,
    "start_time": "2022-03-17T16:37:57.430Z"
   },
   {
    "duration": 5,
    "start_time": "2022-03-17T16:37:57.496Z"
   },
   {
    "duration": 15,
    "start_time": "2022-03-17T16:37:57.504Z"
   },
   {
    "duration": 49,
    "start_time": "2022-03-17T16:37:57.521Z"
   },
   {
    "duration": 40,
    "start_time": "2022-03-17T16:37:57.573Z"
   },
   {
    "duration": 6,
    "start_time": "2022-03-17T16:37:57.615Z"
   },
   {
    "duration": 46,
    "start_time": "2022-03-17T16:37:57.629Z"
   },
   {
    "duration": 21,
    "start_time": "2022-03-17T16:37:57.678Z"
   },
   {
    "duration": 13,
    "start_time": "2022-03-17T16:37:57.702Z"
   },
   {
    "duration": 21,
    "start_time": "2022-03-17T16:37:57.717Z"
   },
   {
    "duration": 5,
    "start_time": "2022-03-17T16:37:57.740Z"
   },
   {
    "duration": 13,
    "start_time": "2022-03-17T16:37:57.778Z"
   },
   {
    "duration": 48,
    "start_time": "2022-03-17T16:37:57.794Z"
   },
   {
    "duration": 34,
    "start_time": "2022-03-17T16:37:57.844Z"
   },
   {
    "duration": 41,
    "start_time": "2022-03-17T16:37:57.882Z"
   },
   {
    "duration": 10,
    "start_time": "2022-03-17T16:37:57.926Z"
   },
   {
    "duration": 42,
    "start_time": "2022-03-17T16:37:57.938Z"
   },
   {
    "duration": 22,
    "start_time": "2022-03-17T16:37:57.983Z"
   },
   {
    "duration": 7,
    "start_time": "2022-03-17T16:37:58.007Z"
   },
   {
    "duration": 180,
    "start_time": "2022-03-17T16:37:58.016Z"
   },
   {
    "duration": 26,
    "start_time": "2022-03-17T16:37:58.198Z"
   },
   {
    "duration": 7,
    "start_time": "2022-03-17T16:37:58.226Z"
   },
   {
    "duration": 45,
    "start_time": "2022-03-17T16:37:58.235Z"
   },
   {
    "duration": 19,
    "start_time": "2022-03-17T16:37:58.282Z"
   },
   {
    "duration": 448,
    "start_time": "2022-03-17T16:37:58.303Z"
   },
   {
    "duration": 441,
    "start_time": "2022-03-17T16:37:58.754Z"
   },
   {
    "duration": 449,
    "start_time": "2022-03-17T16:37:59.198Z"
   },
   {
    "duration": 461,
    "start_time": "2022-03-17T16:37:59.648Z"
   },
   {
    "duration": 474,
    "start_time": "2022-03-17T16:40:07.120Z"
   },
   {
    "duration": 687,
    "start_time": "2022-03-17T16:44:18.987Z"
   },
   {
    "duration": 508,
    "start_time": "2022-03-17T16:44:53.308Z"
   },
   {
    "duration": 447,
    "start_time": "2022-03-17T16:45:34.089Z"
   },
   {
    "duration": 528,
    "start_time": "2022-03-17T16:46:06.989Z"
   },
   {
    "duration": 441,
    "start_time": "2022-03-17T16:46:32.682Z"
   },
   {
    "duration": 520,
    "start_time": "2022-03-17T16:49:21.502Z"
   },
   {
    "duration": 450,
    "start_time": "2022-03-17T16:49:54.050Z"
   },
   {
    "duration": 411,
    "start_time": "2022-03-17T16:50:47.824Z"
   },
   {
    "duration": 405,
    "start_time": "2022-03-17T16:51:23.689Z"
   },
   {
    "duration": 413,
    "start_time": "2022-03-17T16:52:46.446Z"
   },
   {
    "duration": 422,
    "start_time": "2022-03-17T16:53:06.546Z"
   },
   {
    "duration": 692,
    "start_time": "2022-03-17T16:53:43.376Z"
   },
   {
    "duration": 591,
    "start_time": "2022-03-17T16:54:06.240Z"
   },
   {
    "duration": 425,
    "start_time": "2022-03-17T16:54:30.911Z"
   },
   {
    "duration": 497,
    "start_time": "2022-03-17T16:55:24.775Z"
   },
   {
    "duration": 599,
    "start_time": "2022-03-17T16:55:38.299Z"
   },
   {
    "duration": 410,
    "start_time": "2022-03-17T16:57:04.549Z"
   },
   {
    "duration": 400,
    "start_time": "2022-03-17T16:57:58.080Z"
   },
   {
    "duration": 430,
    "start_time": "2022-03-17T17:00:09.715Z"
   },
   {
    "duration": 410,
    "start_time": "2022-03-17T17:01:07.419Z"
   },
   {
    "duration": 404,
    "start_time": "2022-03-17T17:02:03.341Z"
   },
   {
    "duration": 409,
    "start_time": "2022-03-17T17:05:07.862Z"
   },
   {
    "duration": 406,
    "start_time": "2022-03-17T17:05:23.464Z"
   },
   {
    "duration": 562,
    "start_time": "2022-03-17T17:06:37.930Z"
   },
   {
    "duration": 414,
    "start_time": "2022-03-17T17:06:45.019Z"
   },
   {
    "duration": 827,
    "start_time": "2022-03-17T17:10:05.699Z"
   },
   {
    "duration": 544,
    "start_time": "2022-03-17T17:17:15.640Z"
   },
   {
    "duration": 496,
    "start_time": "2022-03-17T17:26:59.394Z"
   },
   {
    "duration": 442,
    "start_time": "2022-03-17T17:28:31.884Z"
   },
   {
    "duration": 25,
    "start_time": "2022-03-17T18:22:48.671Z"
   },
   {
    "duration": 414,
    "start_time": "2022-03-17T18:24:52.012Z"
   },
   {
    "duration": 417,
    "start_time": "2022-03-17T18:25:03.939Z"
   },
   {
    "duration": 413,
    "start_time": "2022-03-17T18:25:21.770Z"
   },
   {
    "duration": 117,
    "start_time": "2022-03-17T19:04:06.328Z"
   },
   {
    "duration": 166,
    "start_time": "2022-03-17T19:04:49.354Z"
   },
   {
    "duration": 14,
    "start_time": "2022-03-17T19:05:01.325Z"
   },
   {
    "duration": 13,
    "start_time": "2022-03-17T19:05:18.764Z"
   },
   {
    "duration": 13,
    "start_time": "2022-03-17T19:05:33.328Z"
   },
   {
    "duration": 21,
    "start_time": "2022-03-17T19:10:25.260Z"
   },
   {
    "duration": 18,
    "start_time": "2022-03-17T19:10:36.020Z"
   },
   {
    "duration": 12,
    "start_time": "2022-03-17T19:12:06.149Z"
   },
   {
    "duration": 13,
    "start_time": "2022-03-17T19:13:43.869Z"
   },
   {
    "duration": 178,
    "start_time": "2022-03-17T19:15:32.970Z"
   },
   {
    "duration": 13,
    "start_time": "2022-03-17T19:16:18.970Z"
   },
   {
    "duration": 167,
    "start_time": "2022-03-17T19:17:11.327Z"
   },
   {
    "duration": 13,
    "start_time": "2022-03-17T19:17:47.188Z"
   },
   {
    "duration": 13,
    "start_time": "2022-03-17T19:18:21.866Z"
   },
   {
    "duration": 176,
    "start_time": "2022-03-17T19:19:17.757Z"
   },
   {
    "duration": 73,
    "start_time": "2022-03-17T19:19:42.040Z"
   },
   {
    "duration": 53,
    "start_time": "2022-03-17T19:19:55.193Z"
   },
   {
    "duration": 28,
    "start_time": "2022-03-17T19:20:38.362Z"
   },
   {
    "duration": 430,
    "start_time": "2022-03-17T19:20:57.541Z"
   },
   {
    "duration": 446,
    "start_time": "2022-03-17T19:22:03.764Z"
   },
   {
    "duration": 12,
    "start_time": "2022-03-17T19:24:35.243Z"
   },
   {
    "duration": 21,
    "start_time": "2022-03-17T19:27:15.465Z"
   },
   {
    "duration": 9,
    "start_time": "2022-03-17T19:27:48.327Z"
   },
   {
    "duration": 4708,
    "start_time": "2022-03-17T19:29:06.864Z"
   },
   {
    "duration": 5436,
    "start_time": "2022-03-17T19:29:36.131Z"
   },
   {
    "duration": 5069,
    "start_time": "2022-03-17T19:31:36.251Z"
   },
   {
    "duration": 5749,
    "start_time": "2022-03-17T19:35:45.401Z"
   },
   {
    "duration": 4988,
    "start_time": "2022-03-17T19:37:12.930Z"
   },
   {
    "duration": 5469,
    "start_time": "2022-03-17T19:43:16.286Z"
   },
   {
    "duration": 5283,
    "start_time": "2022-03-17T19:43:42.923Z"
   },
   {
    "duration": 6859,
    "start_time": "2022-03-17T19:44:02.698Z"
   },
   {
    "duration": 4881,
    "start_time": "2022-03-17T19:44:22.536Z"
   },
   {
    "duration": 6850,
    "start_time": "2022-03-17T19:44:33.606Z"
   },
   {
    "duration": 4957,
    "start_time": "2022-03-17T19:51:31.352Z"
   },
   {
    "duration": 4861,
    "start_time": "2022-03-17T19:56:47.556Z"
   },
   {
    "duration": 6849,
    "start_time": "2022-03-17T20:00:20.033Z"
   },
   {
    "duration": 45,
    "start_time": "2022-03-18T08:15:10.585Z"
   },
   {
    "duration": 766,
    "start_time": "2022-03-18T08:15:17.638Z"
   },
   {
    "duration": 143,
    "start_time": "2022-03-18T08:15:18.406Z"
   },
   {
    "duration": 23,
    "start_time": "2022-03-18T08:15:18.550Z"
   },
   {
    "duration": 123,
    "start_time": "2022-03-18T08:15:18.575Z"
   },
   {
    "duration": 20,
    "start_time": "2022-03-18T08:15:18.699Z"
   },
   {
    "duration": 83,
    "start_time": "2022-03-18T08:15:18.720Z"
   },
   {
    "duration": 17,
    "start_time": "2022-03-18T08:15:18.805Z"
   },
   {
    "duration": 19,
    "start_time": "2022-03-18T08:15:18.824Z"
   },
   {
    "duration": 8,
    "start_time": "2022-03-18T08:15:18.845Z"
   },
   {
    "duration": 40,
    "start_time": "2022-03-18T08:15:18.856Z"
   },
   {
    "duration": 9,
    "start_time": "2022-03-18T08:15:18.897Z"
   },
   {
    "duration": 13,
    "start_time": "2022-03-18T08:15:18.908Z"
   },
   {
    "duration": 5,
    "start_time": "2022-03-18T08:15:18.922Z"
   },
   {
    "duration": 66,
    "start_time": "2022-03-18T08:15:18.928Z"
   },
   {
    "duration": 4,
    "start_time": "2022-03-18T08:15:18.995Z"
   },
   {
    "duration": 147,
    "start_time": "2022-03-18T08:15:19.000Z"
   },
   {
    "duration": 4,
    "start_time": "2022-03-18T08:15:19.148Z"
   },
   {
    "duration": 22,
    "start_time": "2022-03-18T08:15:19.153Z"
   },
   {
    "duration": 53,
    "start_time": "2022-03-18T08:15:19.176Z"
   },
   {
    "duration": 3,
    "start_time": "2022-03-18T08:15:19.230Z"
   },
   {
    "duration": 10,
    "start_time": "2022-03-18T08:15:19.235Z"
   },
   {
    "duration": 14,
    "start_time": "2022-03-18T08:15:19.247Z"
   },
   {
    "duration": 24,
    "start_time": "2022-03-18T08:15:19.262Z"
   },
   {
    "duration": 3,
    "start_time": "2022-03-18T08:15:19.287Z"
   },
   {
    "duration": 10,
    "start_time": "2022-03-18T08:15:19.291Z"
   },
   {
    "duration": 20,
    "start_time": "2022-03-18T08:15:19.303Z"
   },
   {
    "duration": 22,
    "start_time": "2022-03-18T08:15:19.325Z"
   },
   {
    "duration": 4,
    "start_time": "2022-03-18T08:15:19.350Z"
   },
   {
    "duration": 14,
    "start_time": "2022-03-18T08:15:19.355Z"
   },
   {
    "duration": 12,
    "start_time": "2022-03-18T08:15:19.370Z"
   },
   {
    "duration": 10,
    "start_time": "2022-03-18T08:15:19.383Z"
   },
   {
    "duration": 17,
    "start_time": "2022-03-18T08:15:19.394Z"
   },
   {
    "duration": 8,
    "start_time": "2022-03-18T08:15:19.413Z"
   },
   {
    "duration": 12,
    "start_time": "2022-03-18T08:15:19.423Z"
   },
   {
    "duration": 41,
    "start_time": "2022-03-18T08:15:19.436Z"
   },
   {
    "duration": 7,
    "start_time": "2022-03-18T08:15:19.478Z"
   },
   {
    "duration": 20,
    "start_time": "2022-03-18T08:15:19.487Z"
   },
   {
    "duration": 4,
    "start_time": "2022-03-18T08:15:19.509Z"
   },
   {
    "duration": 8,
    "start_time": "2022-03-18T08:15:19.515Z"
   },
   {
    "duration": 10,
    "start_time": "2022-03-18T08:15:19.525Z"
   },
   {
    "duration": 5,
    "start_time": "2022-03-18T08:15:19.537Z"
   },
   {
    "duration": 95,
    "start_time": "2022-03-18T08:15:19.543Z"
   },
   {
    "duration": 14,
    "start_time": "2022-03-18T08:15:19.640Z"
   },
   {
    "duration": 4,
    "start_time": "2022-03-18T08:15:19.656Z"
   },
   {
    "duration": 16,
    "start_time": "2022-03-18T08:15:19.662Z"
   },
   {
    "duration": 15,
    "start_time": "2022-03-18T08:15:19.680Z"
   },
   {
    "duration": 2829,
    "start_time": "2022-03-18T08:15:19.697Z"
   },
   {
    "duration": 232,
    "start_time": "2022-03-18T08:15:22.527Z"
   },
   {
    "duration": 230,
    "start_time": "2022-03-18T08:15:22.761Z"
   },
   {
    "duration": 213,
    "start_time": "2022-03-18T08:15:23.000Z"
   },
   {
    "duration": 222,
    "start_time": "2022-03-18T08:15:23.215Z"
   },
   {
    "duration": 220,
    "start_time": "2022-03-18T08:15:23.439Z"
   },
   {
    "duration": 311,
    "start_time": "2022-03-18T08:15:23.661Z"
   },
   {
    "duration": 220,
    "start_time": "2022-03-18T08:15:23.973Z"
   },
   {
    "duration": 215,
    "start_time": "2022-03-18T08:15:24.194Z"
   },
   {
    "duration": 227,
    "start_time": "2022-03-18T08:15:24.411Z"
   },
   {
    "duration": 211,
    "start_time": "2022-03-18T08:15:24.639Z"
   },
   {
    "duration": 151,
    "start_time": "2022-03-18T08:17:26.409Z"
   },
   {
    "duration": 2417,
    "start_time": "2022-03-18T08:17:42.693Z"
   },
   {
    "duration": 2478,
    "start_time": "2022-03-18T10:27:20.210Z"
   },
   {
    "duration": 44,
    "start_time": "2022-03-18T12:39:22.909Z"
   },
   {
    "duration": 121,
    "start_time": "2022-03-18T12:42:36.342Z"
   },
   {
    "duration": 124,
    "start_time": "2022-03-18T12:43:02.856Z"
   },
   {
    "duration": 466,
    "start_time": "2022-03-18T12:43:29.225Z"
   },
   {
    "duration": 179,
    "start_time": "2022-03-18T12:45:38.633Z"
   },
   {
    "duration": 121,
    "start_time": "2022-03-18T12:46:54.087Z"
   },
   {
    "duration": 178,
    "start_time": "2022-03-18T12:47:32.053Z"
   },
   {
    "duration": 162,
    "start_time": "2022-03-18T13:55:19.057Z"
   },
   {
    "duration": 2076,
    "start_time": "2022-03-18T13:56:33.142Z"
   },
   {
    "duration": 2313,
    "start_time": "2022-03-18T14:01:06.999Z"
   },
   {
    "duration": 4920,
    "start_time": "2022-03-18T14:03:12.910Z"
   },
   {
    "duration": 2139,
    "start_time": "2022-03-18T14:04:43.594Z"
   },
   {
    "duration": 2334,
    "start_time": "2022-03-18T14:05:39.432Z"
   },
   {
    "duration": 2620,
    "start_time": "2022-03-18T14:05:58.449Z"
   },
   {
    "duration": 166,
    "start_time": "2022-03-18T14:45:43.753Z"
   },
   {
    "duration": 13,
    "start_time": "2022-03-18T14:45:56.275Z"
   },
   {
    "duration": 11,
    "start_time": "2022-03-18T14:46:08.885Z"
   },
   {
    "duration": 15,
    "start_time": "2022-03-18T14:47:23.922Z"
   },
   {
    "duration": 11,
    "start_time": "2022-03-18T14:47:51.348Z"
   },
   {
    "duration": 2377,
    "start_time": "2022-03-18T14:49:26.079Z"
   },
   {
    "duration": 205,
    "start_time": "2022-03-18T14:50:04.813Z"
   },
   {
    "duration": 19,
    "start_time": "2022-03-18T14:50:13.200Z"
   },
   {
    "duration": 2615,
    "start_time": "2022-03-18T14:52:50.488Z"
   },
   {
    "duration": 26,
    "start_time": "2022-03-18T15:29:42.049Z"
   },
   {
    "duration": 10,
    "start_time": "2022-03-18T15:30:04.210Z"
   },
   {
    "duration": 58,
    "start_time": "2022-03-18T15:30:59.971Z"
   },
   {
    "duration": 21,
    "start_time": "2022-03-18T15:32:19.600Z"
   },
   {
    "duration": 21,
    "start_time": "2022-03-18T15:32:43.745Z"
   },
   {
    "duration": 821,
    "start_time": "2022-03-20T10:11:04.421Z"
   },
   {
    "duration": 152,
    "start_time": "2022-03-20T10:11:05.244Z"
   },
   {
    "duration": 26,
    "start_time": "2022-03-20T10:11:05.397Z"
   },
   {
    "duration": 126,
    "start_time": "2022-03-20T10:11:05.433Z"
   },
   {
    "duration": 21,
    "start_time": "2022-03-20T10:11:05.560Z"
   },
   {
    "duration": 95,
    "start_time": "2022-03-20T10:11:05.582Z"
   },
   {
    "duration": 18,
    "start_time": "2022-03-20T10:11:05.679Z"
   },
   {
    "duration": 14,
    "start_time": "2022-03-20T10:11:05.699Z"
   },
   {
    "duration": 24,
    "start_time": "2022-03-20T10:11:05.715Z"
   },
   {
    "duration": 38,
    "start_time": "2022-03-20T10:11:05.742Z"
   },
   {
    "duration": 11,
    "start_time": "2022-03-20T10:11:05.781Z"
   },
   {
    "duration": 17,
    "start_time": "2022-03-20T10:11:05.794Z"
   },
   {
    "duration": 7,
    "start_time": "2022-03-20T10:11:05.813Z"
   },
   {
    "duration": 79,
    "start_time": "2022-03-20T10:11:05.822Z"
   },
   {
    "duration": 5,
    "start_time": "2022-03-20T10:11:05.902Z"
   },
   {
    "duration": 196,
    "start_time": "2022-03-20T10:11:05.908Z"
   },
   {
    "duration": 5,
    "start_time": "2022-03-20T10:11:06.106Z"
   },
   {
    "duration": 38,
    "start_time": "2022-03-20T10:11:06.113Z"
   },
   {
    "duration": 54,
    "start_time": "2022-03-20T10:11:06.153Z"
   },
   {
    "duration": 3,
    "start_time": "2022-03-20T10:11:06.209Z"
   },
   {
    "duration": 24,
    "start_time": "2022-03-20T10:11:06.214Z"
   },
   {
    "duration": 14,
    "start_time": "2022-03-20T10:11:06.240Z"
   },
   {
    "duration": 26,
    "start_time": "2022-03-20T10:11:06.256Z"
   },
   {
    "duration": 3,
    "start_time": "2022-03-20T10:11:06.284Z"
   },
   {
    "duration": 9,
    "start_time": "2022-03-20T10:11:06.288Z"
   },
   {
    "duration": 41,
    "start_time": "2022-03-20T10:11:06.299Z"
   },
   {
    "duration": 22,
    "start_time": "2022-03-20T10:11:06.342Z"
   },
   {
    "duration": 5,
    "start_time": "2022-03-20T10:11:06.368Z"
   },
   {
    "duration": 14,
    "start_time": "2022-03-20T10:11:06.374Z"
   },
   {
    "duration": 10,
    "start_time": "2022-03-20T10:11:06.389Z"
   },
   {
    "duration": 37,
    "start_time": "2022-03-20T10:11:06.400Z"
   },
   {
    "duration": 10,
    "start_time": "2022-03-20T10:11:06.439Z"
   },
   {
    "duration": 4,
    "start_time": "2022-03-20T10:11:06.451Z"
   },
   {
    "duration": 10,
    "start_time": "2022-03-20T10:11:06.457Z"
   },
   {
    "duration": 26,
    "start_time": "2022-03-20T10:11:06.469Z"
   },
   {
    "duration": 7,
    "start_time": "2022-03-20T10:11:06.497Z"
   },
   {
    "duration": 58,
    "start_time": "2022-03-20T10:11:06.506Z"
   },
   {
    "duration": 7,
    "start_time": "2022-03-20T10:11:06.565Z"
   },
   {
    "duration": 12,
    "start_time": "2022-03-20T10:11:06.574Z"
   },
   {
    "duration": 12,
    "start_time": "2022-03-20T10:11:06.588Z"
   },
   {
    "duration": 5,
    "start_time": "2022-03-20T10:11:06.602Z"
   },
   {
    "duration": 108,
    "start_time": "2022-03-20T10:11:06.609Z"
   },
   {
    "duration": 19,
    "start_time": "2022-03-20T10:11:06.719Z"
   },
   {
    "duration": 8,
    "start_time": "2022-03-20T10:11:06.740Z"
   },
   {
    "duration": 7,
    "start_time": "2022-03-20T10:11:06.749Z"
   },
   {
    "duration": 12,
    "start_time": "2022-03-20T10:11:06.758Z"
   },
   {
    "duration": 18,
    "start_time": "2022-03-20T10:11:06.771Z"
   },
   {
    "duration": 53,
    "start_time": "2022-03-20T10:11:06.790Z"
   },
   {
    "duration": 2643,
    "start_time": "2022-03-20T10:11:06.844Z"
   },
   {
    "duration": 71,
    "start_time": "2022-03-20T11:02:16.502Z"
   },
   {
    "duration": 3,
    "start_time": "2022-03-20T11:02:24.094Z"
   },
   {
    "duration": 178,
    "start_time": "2022-03-20T11:02:24.099Z"
   },
   {
    "duration": 55,
    "start_time": "2022-03-20T11:02:24.279Z"
   },
   {
    "duration": 123,
    "start_time": "2022-03-20T11:02:24.337Z"
   },
   {
    "duration": 21,
    "start_time": "2022-03-20T11:02:24.462Z"
   },
   {
    "duration": 94,
    "start_time": "2022-03-20T11:02:24.485Z"
   },
   {
    "duration": 20,
    "start_time": "2022-03-20T11:02:24.580Z"
   },
   {
    "duration": 14,
    "start_time": "2022-03-20T11:02:24.602Z"
   },
   {
    "duration": 10,
    "start_time": "2022-03-20T11:02:24.632Z"
   },
   {
    "duration": 25,
    "start_time": "2022-03-20T11:02:24.644Z"
   },
   {
    "duration": 11,
    "start_time": "2022-03-20T11:02:24.671Z"
   },
   {
    "duration": 13,
    "start_time": "2022-03-20T11:02:24.684Z"
   },
   {
    "duration": 4,
    "start_time": "2022-03-20T11:02:24.699Z"
   },
   {
    "duration": 88,
    "start_time": "2022-03-20T11:02:24.705Z"
   },
   {
    "duration": 6,
    "start_time": "2022-03-20T11:02:24.795Z"
   },
   {
    "duration": 256,
    "start_time": "2022-03-20T11:02:24.803Z"
   },
   {
    "duration": 4,
    "start_time": "2022-03-20T11:02:25.062Z"
   },
   {
    "duration": 29,
    "start_time": "2022-03-20T11:02:25.068Z"
   },
   {
    "duration": 66,
    "start_time": "2022-03-20T11:02:25.099Z"
   },
   {
    "duration": 3,
    "start_time": "2022-03-20T11:02:25.167Z"
   },
   {
    "duration": 10,
    "start_time": "2022-03-20T11:02:25.172Z"
   },
   {
    "duration": 18,
    "start_time": "2022-03-20T11:02:25.184Z"
   },
   {
    "duration": 43,
    "start_time": "2022-03-20T11:02:25.204Z"
   },
   {
    "duration": 3,
    "start_time": "2022-03-20T11:02:25.251Z"
   },
   {
    "duration": 10,
    "start_time": "2022-03-20T11:02:25.255Z"
   },
   {
    "duration": 18,
    "start_time": "2022-03-20T11:02:25.267Z"
   },
   {
    "duration": 51,
    "start_time": "2022-03-20T11:02:25.287Z"
   },
   {
    "duration": 4,
    "start_time": "2022-03-20T11:02:25.340Z"
   },
   {
    "duration": 15,
    "start_time": "2022-03-20T11:02:25.347Z"
   },
   {
    "duration": 11,
    "start_time": "2022-03-20T11:02:25.364Z"
   },
   {
    "duration": 10,
    "start_time": "2022-03-20T11:02:25.377Z"
   },
   {
    "duration": 9,
    "start_time": "2022-03-20T11:02:25.388Z"
   },
   {
    "duration": 4,
    "start_time": "2022-03-20T11:02:25.399Z"
   },
   {
    "duration": 8,
    "start_time": "2022-03-20T11:02:25.433Z"
   },
   {
    "duration": 28,
    "start_time": "2022-03-20T11:02:25.443Z"
   },
   {
    "duration": 8,
    "start_time": "2022-03-20T11:02:25.472Z"
   },
   {
    "duration": 18,
    "start_time": "2022-03-20T11:02:25.481Z"
   },
   {
    "duration": 35,
    "start_time": "2022-03-20T11:02:25.501Z"
   },
   {
    "duration": 12,
    "start_time": "2022-03-20T11:02:25.538Z"
   },
   {
    "duration": 10,
    "start_time": "2022-03-20T11:02:25.551Z"
   },
   {
    "duration": 5,
    "start_time": "2022-03-20T11:02:25.562Z"
   },
   {
    "duration": 102,
    "start_time": "2022-03-20T11:02:25.568Z"
   },
   {
    "duration": 15,
    "start_time": "2022-03-20T11:02:25.672Z"
   },
   {
    "duration": 10,
    "start_time": "2022-03-20T11:02:25.689Z"
   },
   {
    "duration": 10,
    "start_time": "2022-03-20T11:02:25.700Z"
   },
   {
    "duration": 22,
    "start_time": "2022-03-20T11:02:25.712Z"
   },
   {
    "duration": 19,
    "start_time": "2022-03-20T11:02:25.735Z"
   },
   {
    "duration": 18,
    "start_time": "2022-03-20T11:02:25.756Z"
   },
   {
    "duration": 3291,
    "start_time": "2022-03-20T11:02:25.776Z"
   },
   {
    "duration": 7,
    "start_time": "2022-03-20T11:02:29.069Z"
   },
   {
    "duration": 20,
    "start_time": "2022-03-20T11:02:39.199Z"
   },
   {
    "duration": 18,
    "start_time": "2022-03-20T12:10:05.415Z"
   },
   {
    "duration": 16,
    "start_time": "2022-03-20T12:56:55.938Z"
   },
   {
    "duration": 2,
    "start_time": "2022-03-20T13:23:41.550Z"
   },
   {
    "duration": 3,
    "start_time": "2022-03-20T15:29:51.246Z"
   },
   {
    "duration": 160,
    "start_time": "2022-03-20T15:29:51.252Z"
   },
   {
    "duration": 43,
    "start_time": "2022-03-20T15:29:51.414Z"
   },
   {
    "duration": 131,
    "start_time": "2022-03-20T15:29:51.459Z"
   },
   {
    "duration": 24,
    "start_time": "2022-03-20T15:29:51.592Z"
   },
   {
    "duration": 85,
    "start_time": "2022-03-20T15:29:51.618Z"
   },
   {
    "duration": 33,
    "start_time": "2022-03-20T15:29:51.705Z"
   },
   {
    "duration": 15,
    "start_time": "2022-03-20T15:29:51.740Z"
   },
   {
    "duration": 10,
    "start_time": "2022-03-20T15:29:51.756Z"
   },
   {
    "duration": 39,
    "start_time": "2022-03-20T15:29:51.768Z"
   },
   {
    "duration": 14,
    "start_time": "2022-03-20T15:29:51.809Z"
   },
   {
    "duration": 16,
    "start_time": "2022-03-20T15:29:51.833Z"
   },
   {
    "duration": 5,
    "start_time": "2022-03-20T15:29:51.853Z"
   },
   {
    "duration": 115,
    "start_time": "2022-03-20T15:29:51.860Z"
   },
   {
    "duration": 5,
    "start_time": "2022-03-20T15:29:51.977Z"
   },
   {
    "duration": 207,
    "start_time": "2022-03-20T15:29:51.983Z"
   },
   {
    "duration": 6,
    "start_time": "2022-03-20T15:29:52.191Z"
   },
   {
    "duration": 38,
    "start_time": "2022-03-20T15:29:52.199Z"
   },
   {
    "duration": 52,
    "start_time": "2022-03-20T15:29:52.239Z"
   },
   {
    "duration": 4,
    "start_time": "2022-03-20T15:29:52.292Z"
   },
   {
    "duration": 9,
    "start_time": "2022-03-20T15:29:52.298Z"
   },
   {
    "duration": 15,
    "start_time": "2022-03-20T15:29:52.334Z"
   },
   {
    "duration": 27,
    "start_time": "2022-03-20T15:29:52.351Z"
   },
   {
    "duration": 3,
    "start_time": "2022-03-20T15:29:52.380Z"
   },
   {
    "duration": 11,
    "start_time": "2022-03-20T15:29:52.385Z"
   },
   {
    "duration": 44,
    "start_time": "2022-03-20T15:29:52.397Z"
   },
   {
    "duration": 24,
    "start_time": "2022-03-20T15:29:52.443Z"
   },
   {
    "duration": 5,
    "start_time": "2022-03-20T15:29:52.469Z"
   },
   {
    "duration": 15,
    "start_time": "2022-03-20T15:29:52.476Z"
   },
   {
    "duration": 8,
    "start_time": "2022-03-20T15:29:52.493Z"
   },
   {
    "duration": 33,
    "start_time": "2022-03-20T15:29:52.503Z"
   },
   {
    "duration": 7,
    "start_time": "2022-03-20T15:29:52.537Z"
   },
   {
    "duration": 3,
    "start_time": "2022-03-20T15:29:52.546Z"
   },
   {
    "duration": 10,
    "start_time": "2022-03-20T15:29:52.550Z"
   },
   {
    "duration": 28,
    "start_time": "2022-03-20T15:29:52.561Z"
   },
   {
    "duration": 7,
    "start_time": "2022-03-20T15:29:52.591Z"
   },
   {
    "duration": 46,
    "start_time": "2022-03-20T15:29:52.602Z"
   },
   {
    "duration": 6,
    "start_time": "2022-03-20T15:29:52.649Z"
   },
   {
    "duration": 11,
    "start_time": "2022-03-20T15:29:52.656Z"
   },
   {
    "duration": 8,
    "start_time": "2022-03-20T15:29:52.669Z"
   },
   {
    "duration": 10,
    "start_time": "2022-03-20T15:29:52.679Z"
   },
   {
    "duration": 110,
    "start_time": "2022-03-20T15:29:52.691Z"
   },
   {
    "duration": 16,
    "start_time": "2022-03-20T15:29:52.803Z"
   },
   {
    "duration": 15,
    "start_time": "2022-03-20T15:29:52.821Z"
   },
   {
    "duration": 15,
    "start_time": "2022-03-20T15:29:52.839Z"
   },
   {
    "duration": 17,
    "start_time": "2022-03-20T15:29:52.856Z"
   },
   {
    "duration": 21,
    "start_time": "2022-03-20T15:29:52.875Z"
   },
   {
    "duration": 19,
    "start_time": "2022-03-20T15:29:52.898Z"
   },
   {
    "duration": 2634,
    "start_time": "2022-03-20T15:29:52.919Z"
   },
   {
    "duration": 3,
    "start_time": "2022-03-20T15:30:15.506Z"
   },
   {
    "duration": 177,
    "start_time": "2022-03-20T15:30:15.512Z"
   },
   {
    "duration": 26,
    "start_time": "2022-03-20T15:30:15.693Z"
   },
   {
    "duration": 123,
    "start_time": "2022-03-20T15:30:15.733Z"
   },
   {
    "duration": 21,
    "start_time": "2022-03-20T15:30:15.858Z"
   },
   {
    "duration": 91,
    "start_time": "2022-03-20T15:30:15.881Z"
   },
   {
    "duration": 18,
    "start_time": "2022-03-20T15:30:15.973Z"
   },
   {
    "duration": 15,
    "start_time": "2022-03-20T15:30:15.993Z"
   },
   {
    "duration": 26,
    "start_time": "2022-03-20T15:30:16.010Z"
   },
   {
    "duration": 30,
    "start_time": "2022-03-20T15:30:16.037Z"
   },
   {
    "duration": 10,
    "start_time": "2022-03-20T15:30:16.070Z"
   },
   {
    "duration": 14,
    "start_time": "2022-03-20T15:30:16.081Z"
   },
   {
    "duration": 4,
    "start_time": "2022-03-20T15:30:16.097Z"
   },
   {
    "duration": 78,
    "start_time": "2022-03-20T15:30:16.103Z"
   },
   {
    "duration": 5,
    "start_time": "2022-03-20T15:30:16.182Z"
   },
   {
    "duration": 173,
    "start_time": "2022-03-20T15:30:16.188Z"
   },
   {
    "duration": 3,
    "start_time": "2022-03-20T15:30:16.363Z"
   },
   {
    "duration": 22,
    "start_time": "2022-03-20T15:30:16.368Z"
   },
   {
    "duration": 68,
    "start_time": "2022-03-20T15:30:16.392Z"
   },
   {
    "duration": 3,
    "start_time": "2022-03-20T15:30:16.461Z"
   },
   {
    "duration": 10,
    "start_time": "2022-03-20T15:30:16.466Z"
   },
   {
    "duration": 18,
    "start_time": "2022-03-20T15:30:16.477Z"
   },
   {
    "duration": 41,
    "start_time": "2022-03-20T15:30:16.496Z"
   },
   {
    "duration": 3,
    "start_time": "2022-03-20T15:30:16.538Z"
   },
   {
    "duration": 15,
    "start_time": "2022-03-20T15:30:16.542Z"
   },
   {
    "duration": 22,
    "start_time": "2022-03-20T15:30:16.559Z"
   },
   {
    "duration": 22,
    "start_time": "2022-03-20T15:30:16.582Z"
   },
   {
    "duration": 3,
    "start_time": "2022-03-20T15:30:16.606Z"
   },
   {
    "duration": 26,
    "start_time": "2022-03-20T15:30:16.613Z"
   },
   {
    "duration": 10,
    "start_time": "2022-03-20T15:30:16.640Z"
   },
   {
    "duration": 8,
    "start_time": "2022-03-20T15:30:16.652Z"
   },
   {
    "duration": 13,
    "start_time": "2022-03-20T15:30:16.661Z"
   },
   {
    "duration": 5,
    "start_time": "2022-03-20T15:30:16.675Z"
   },
   {
    "duration": 10,
    "start_time": "2022-03-20T15:30:16.682Z"
   },
   {
    "duration": 50,
    "start_time": "2022-03-20T15:30:16.694Z"
   },
   {
    "duration": 7,
    "start_time": "2022-03-20T15:30:16.745Z"
   },
   {
    "duration": 21,
    "start_time": "2022-03-20T15:30:16.754Z"
   },
   {
    "duration": 6,
    "start_time": "2022-03-20T15:30:16.777Z"
   },
   {
    "duration": 8,
    "start_time": "2022-03-20T15:30:16.785Z"
   },
   {
    "duration": 9,
    "start_time": "2022-03-20T15:30:16.795Z"
   },
   {
    "duration": 30,
    "start_time": "2022-03-20T15:30:16.805Z"
   },
   {
    "duration": 96,
    "start_time": "2022-03-20T15:30:16.837Z"
   },
   {
    "duration": 15,
    "start_time": "2022-03-20T15:30:16.934Z"
   },
   {
    "duration": 14,
    "start_time": "2022-03-20T15:30:16.950Z"
   },
   {
    "duration": 9,
    "start_time": "2022-03-20T15:30:16.965Z"
   },
   {
    "duration": 12,
    "start_time": "2022-03-20T15:30:16.976Z"
   },
   {
    "duration": 19,
    "start_time": "2022-03-20T15:30:16.989Z"
   },
   {
    "duration": 33,
    "start_time": "2022-03-20T15:30:17.010Z"
   },
   {
    "duration": 2679,
    "start_time": "2022-03-20T15:30:17.045Z"
   },
   {
    "duration": 8,
    "start_time": "2022-03-20T16:06:58.893Z"
   },
   {
    "duration": 410,
    "start_time": "2022-03-20T16:07:07.571Z"
   },
   {
    "duration": 151,
    "start_time": "2022-03-20T16:07:07.982Z"
   },
   {
    "duration": 26,
    "start_time": "2022-03-20T16:07:08.135Z"
   },
   {
    "duration": 144,
    "start_time": "2022-03-20T16:07:08.164Z"
   },
   {
    "duration": 22,
    "start_time": "2022-03-20T16:07:08.310Z"
   },
   {
    "duration": 84,
    "start_time": "2022-03-20T16:07:08.334Z"
   },
   {
    "duration": 26,
    "start_time": "2022-03-20T16:07:08.420Z"
   },
   {
    "duration": 14,
    "start_time": "2022-03-20T16:07:08.448Z"
   },
   {
    "duration": 10,
    "start_time": "2022-03-20T16:07:08.464Z"
   },
   {
    "duration": 34,
    "start_time": "2022-03-20T16:07:08.477Z"
   },
   {
    "duration": 10,
    "start_time": "2022-03-20T16:07:08.513Z"
   },
   {
    "duration": 12,
    "start_time": "2022-03-20T16:07:08.533Z"
   },
   {
    "duration": 7,
    "start_time": "2022-03-20T16:07:08.547Z"
   },
   {
    "duration": 78,
    "start_time": "2022-03-20T16:07:08.555Z"
   },
   {
    "duration": 5,
    "start_time": "2022-03-20T16:07:08.634Z"
   },
   {
    "duration": 178,
    "start_time": "2022-03-20T16:07:08.640Z"
   },
   {
    "duration": 13,
    "start_time": "2022-03-20T16:07:08.820Z"
   },
   {
    "duration": 23,
    "start_time": "2022-03-20T16:07:08.834Z"
   },
   {
    "duration": 52,
    "start_time": "2022-03-20T16:07:08.858Z"
   },
   {
    "duration": 2,
    "start_time": "2022-03-20T16:07:08.912Z"
   },
   {
    "duration": 9,
    "start_time": "2022-03-20T16:07:08.932Z"
   },
   {
    "duration": 17,
    "start_time": "2022-03-20T16:07:08.942Z"
   },
   {
    "duration": 27,
    "start_time": "2022-03-20T16:07:08.961Z"
   },
   {
    "duration": 3,
    "start_time": "2022-03-20T16:07:08.989Z"
   },
   {
    "duration": 11,
    "start_time": "2022-03-20T16:07:08.994Z"
   },
   {
    "duration": 38,
    "start_time": "2022-03-20T16:07:09.006Z"
   },
   {
    "duration": 22,
    "start_time": "2022-03-20T16:07:09.046Z"
   },
   {
    "duration": 4,
    "start_time": "2022-03-20T16:07:09.072Z"
   },
   {
    "duration": 13,
    "start_time": "2022-03-20T16:07:09.077Z"
   },
   {
    "duration": 10,
    "start_time": "2022-03-20T16:07:09.092Z"
   },
   {
    "duration": 31,
    "start_time": "2022-03-20T16:07:09.104Z"
   },
   {
    "duration": 7,
    "start_time": "2022-03-20T16:07:09.137Z"
   },
   {
    "duration": 4,
    "start_time": "2022-03-20T16:07:09.146Z"
   },
   {
    "duration": 7,
    "start_time": "2022-03-20T16:07:09.152Z"
   },
   {
    "duration": 26,
    "start_time": "2022-03-20T16:07:09.161Z"
   },
   {
    "duration": 7,
    "start_time": "2022-03-20T16:07:09.190Z"
   },
   {
    "duration": 49,
    "start_time": "2022-03-20T16:07:09.199Z"
   },
   {
    "duration": 8,
    "start_time": "2022-03-20T16:07:09.250Z"
   },
   {
    "duration": 8,
    "start_time": "2022-03-20T16:07:09.260Z"
   },
   {
    "duration": 9,
    "start_time": "2022-03-20T16:07:09.269Z"
   },
   {
    "duration": 5,
    "start_time": "2022-03-20T16:07:09.279Z"
   },
   {
    "duration": 114,
    "start_time": "2022-03-20T16:07:09.285Z"
   },
   {
    "duration": 15,
    "start_time": "2022-03-20T16:07:09.401Z"
   },
   {
    "duration": 16,
    "start_time": "2022-03-20T16:07:09.418Z"
   },
   {
    "duration": 8,
    "start_time": "2022-03-20T16:07:09.435Z"
   },
   {
    "duration": 10,
    "start_time": "2022-03-20T16:07:09.444Z"
   },
   {
    "duration": 18,
    "start_time": "2022-03-20T16:07:09.456Z"
   },
   {
    "duration": 16,
    "start_time": "2022-03-20T16:07:09.475Z"
   },
   {
    "duration": 2625,
    "start_time": "2022-03-20T16:07:09.493Z"
   },
   {
    "duration": 32,
    "start_time": "2022-03-20T16:07:12.119Z"
   },
   {
    "duration": 12,
    "start_time": "2022-03-20T16:07:47.425Z"
   },
   {
    "duration": 3,
    "start_time": "2022-03-20T16:15:42.857Z"
   },
   {
    "duration": 4,
    "start_time": "2022-03-20T16:15:51.961Z"
   },
   {
    "duration": 23,
    "start_time": "2022-03-20T16:16:13.108Z"
   },
   {
    "duration": 18,
    "start_time": "2022-03-20T16:16:25.604Z"
   },
   {
    "duration": 20,
    "start_time": "2022-03-20T16:16:59.307Z"
   },
   {
    "duration": 9,
    "start_time": "2022-03-20T16:18:46.692Z"
   },
   {
    "duration": 12,
    "start_time": "2022-03-20T16:21:53.028Z"
   },
   {
    "duration": 10,
    "start_time": "2022-03-20T16:31:10.279Z"
   },
   {
    "duration": 11,
    "start_time": "2022-03-20T16:32:48.757Z"
   },
   {
    "duration": 10,
    "start_time": "2022-03-20T16:34:43.499Z"
   },
   {
    "duration": 87,
    "start_time": "2022-03-20T16:49:08.529Z"
   },
   {
    "duration": 4,
    "start_time": "2022-03-20T16:49:16.145Z"
   },
   {
    "duration": 46,
    "start_time": "2022-03-20T18:31:47.098Z"
   },
   {
    "duration": 1251,
    "start_time": "2022-03-20T18:31:56.959Z"
   },
   {
    "duration": 234,
    "start_time": "2022-03-20T18:31:58.212Z"
   },
   {
    "duration": 35,
    "start_time": "2022-03-20T18:31:58.448Z"
   },
   {
    "duration": 142,
    "start_time": "2022-03-20T18:31:58.485Z"
   },
   {
    "duration": 23,
    "start_time": "2022-03-20T18:31:58.628Z"
   },
   {
    "duration": 93,
    "start_time": "2022-03-20T18:31:58.652Z"
   },
   {
    "duration": 18,
    "start_time": "2022-03-20T18:31:58.747Z"
   },
   {
    "duration": 22,
    "start_time": "2022-03-20T18:31:58.766Z"
   },
   {
    "duration": 14,
    "start_time": "2022-03-20T18:31:58.790Z"
   },
   {
    "duration": 98,
    "start_time": "2022-03-20T18:31:58.807Z"
   },
   {
    "duration": 14,
    "start_time": "2022-03-20T18:31:58.907Z"
   },
   {
    "duration": 21,
    "start_time": "2022-03-20T18:31:58.923Z"
   },
   {
    "duration": 4,
    "start_time": "2022-03-20T18:31:58.946Z"
   },
   {
    "duration": 82,
    "start_time": "2022-03-20T18:31:58.952Z"
   },
   {
    "duration": 4,
    "start_time": "2022-03-20T18:31:59.036Z"
   },
   {
    "duration": 192,
    "start_time": "2022-03-20T18:31:59.042Z"
   },
   {
    "duration": 5,
    "start_time": "2022-03-20T18:31:59.235Z"
   },
   {
    "duration": 27,
    "start_time": "2022-03-20T18:31:59.241Z"
   },
   {
    "duration": 65,
    "start_time": "2022-03-20T18:31:59.282Z"
   },
   {
    "duration": 3,
    "start_time": "2022-03-20T18:31:59.349Z"
   },
   {
    "duration": 12,
    "start_time": "2022-03-20T18:31:59.354Z"
   },
   {
    "duration": 28,
    "start_time": "2022-03-20T18:31:59.368Z"
   },
   {
    "duration": 30,
    "start_time": "2022-03-20T18:31:59.398Z"
   },
   {
    "duration": 3,
    "start_time": "2022-03-20T18:31:59.430Z"
   },
   {
    "duration": 8,
    "start_time": "2022-03-20T18:31:59.435Z"
   },
   {
    "duration": 43,
    "start_time": "2022-03-20T18:31:59.445Z"
   },
   {
    "duration": 23,
    "start_time": "2022-03-20T18:31:59.490Z"
   },
   {
    "duration": 4,
    "start_time": "2022-03-20T18:31:59.517Z"
   },
   {
    "duration": 9,
    "start_time": "2022-03-20T18:31:59.523Z"
   },
   {
    "duration": 8,
    "start_time": "2022-03-20T18:31:59.533Z"
   },
   {
    "duration": 9,
    "start_time": "2022-03-20T18:31:59.543Z"
   },
   {
    "duration": 34,
    "start_time": "2022-03-20T18:31:59.553Z"
   },
   {
    "duration": 5,
    "start_time": "2022-03-20T18:31:59.588Z"
   },
   {
    "duration": 9,
    "start_time": "2022-03-20T18:31:59.594Z"
   },
   {
    "duration": 26,
    "start_time": "2022-03-20T18:31:59.605Z"
   },
   {
    "duration": 8,
    "start_time": "2022-03-20T18:31:59.633Z"
   },
   {
    "duration": 52,
    "start_time": "2022-03-20T18:31:59.642Z"
   },
   {
    "duration": 6,
    "start_time": "2022-03-20T18:31:59.695Z"
   },
   {
    "duration": 7,
    "start_time": "2022-03-20T18:31:59.703Z"
   },
   {
    "duration": 11,
    "start_time": "2022-03-20T18:31:59.711Z"
   },
   {
    "duration": 5,
    "start_time": "2022-03-20T18:31:59.724Z"
   },
   {
    "duration": 103,
    "start_time": "2022-03-20T18:31:59.730Z"
   },
   {
    "duration": 14,
    "start_time": "2022-03-20T18:31:59.835Z"
   },
   {
    "duration": 8,
    "start_time": "2022-03-20T18:31:59.851Z"
   },
   {
    "duration": 23,
    "start_time": "2022-03-20T18:31:59.860Z"
   },
   {
    "duration": 6,
    "start_time": "2022-03-20T18:31:59.885Z"
   },
   {
    "duration": 17,
    "start_time": "2022-03-20T18:31:59.892Z"
   },
   {
    "duration": 15,
    "start_time": "2022-03-20T18:31:59.910Z"
   },
   {
    "duration": 2595,
    "start_time": "2022-03-20T18:31:59.927Z"
   },
   {
    "duration": 8,
    "start_time": "2022-03-20T18:32:02.524Z"
   },
   {
    "duration": 9,
    "start_time": "2022-03-20T18:32:26.822Z"
   },
   {
    "duration": 8,
    "start_time": "2022-03-20T18:33:41.334Z"
   },
   {
    "duration": 5,
    "start_time": "2022-03-20T18:52:36.920Z"
   },
   {
    "duration": 4,
    "start_time": "2022-03-20T18:54:02.349Z"
   },
   {
    "duration": 5,
    "start_time": "2022-03-20T18:54:24.254Z"
   },
   {
    "duration": 2994,
    "start_time": "2022-03-20T19:10:46.286Z"
   },
   {
    "duration": 19,
    "start_time": "2022-03-20T19:10:58.069Z"
   },
   {
    "duration": 6,
    "start_time": "2022-03-20T19:24:06.559Z"
   },
   {
    "duration": 6,
    "start_time": "2022-03-20T19:25:18.655Z"
   },
   {
    "duration": 23,
    "start_time": "2022-03-20T19:41:39.067Z"
   },
   {
    "duration": 3,
    "start_time": "2022-03-20T19:41:44.414Z"
   },
   {
    "duration": 168,
    "start_time": "2022-03-20T19:41:44.421Z"
   },
   {
    "duration": 23,
    "start_time": "2022-03-20T19:41:44.592Z"
   },
   {
    "duration": 142,
    "start_time": "2022-03-20T19:41:44.617Z"
   },
   {
    "duration": 31,
    "start_time": "2022-03-20T19:41:44.761Z"
   },
   {
    "duration": 184,
    "start_time": "2022-03-20T19:41:44.794Z"
   },
   {
    "duration": 21,
    "start_time": "2022-03-20T19:41:44.980Z"
   },
   {
    "duration": 22,
    "start_time": "2022-03-20T19:41:45.003Z"
   },
   {
    "duration": 11,
    "start_time": "2022-03-20T19:41:45.027Z"
   },
   {
    "duration": 68,
    "start_time": "2022-03-20T19:41:45.040Z"
   },
   {
    "duration": 10,
    "start_time": "2022-03-20T19:41:45.110Z"
   },
   {
    "duration": 18,
    "start_time": "2022-03-20T19:41:45.122Z"
   },
   {
    "duration": 5,
    "start_time": "2022-03-20T19:41:45.142Z"
   },
   {
    "duration": 104,
    "start_time": "2022-03-20T19:41:45.149Z"
   },
   {
    "duration": 6,
    "start_time": "2022-03-20T19:41:45.257Z"
   },
   {
    "duration": 175,
    "start_time": "2022-03-20T19:41:45.264Z"
   },
   {
    "duration": 16,
    "start_time": "2022-03-20T19:41:45.449Z"
   },
   {
    "duration": 32,
    "start_time": "2022-03-20T19:41:45.468Z"
   },
   {
    "duration": 64,
    "start_time": "2022-03-20T19:41:45.503Z"
   },
   {
    "duration": 11,
    "start_time": "2022-03-20T19:41:45.569Z"
   },
   {
    "duration": 15,
    "start_time": "2022-03-20T19:41:45.582Z"
   },
   {
    "duration": 17,
    "start_time": "2022-03-20T19:41:45.599Z"
   },
   {
    "duration": 25,
    "start_time": "2022-03-20T19:41:45.618Z"
   },
   {
    "duration": 3,
    "start_time": "2022-03-20T19:41:45.645Z"
   },
   {
    "duration": 31,
    "start_time": "2022-03-20T19:41:45.650Z"
   },
   {
    "duration": 20,
    "start_time": "2022-03-20T19:41:45.683Z"
   },
   {
    "duration": 24,
    "start_time": "2022-03-20T19:41:45.705Z"
   },
   {
    "duration": 4,
    "start_time": "2022-03-20T19:41:45.730Z"
   },
   {
    "duration": 10,
    "start_time": "2022-03-20T19:41:45.736Z"
   },
   {
    "duration": 34,
    "start_time": "2022-03-20T19:41:45.747Z"
   },
   {
    "duration": 10,
    "start_time": "2022-03-20T19:41:45.782Z"
   },
   {
    "duration": 8,
    "start_time": "2022-03-20T19:41:45.793Z"
   },
   {
    "duration": 3,
    "start_time": "2022-03-20T19:41:45.803Z"
   },
   {
    "duration": 11,
    "start_time": "2022-03-20T19:41:45.808Z"
   },
   {
    "duration": 28,
    "start_time": "2022-03-20T19:41:45.821Z"
   },
   {
    "duration": 32,
    "start_time": "2022-03-20T19:41:45.850Z"
   },
   {
    "duration": 18,
    "start_time": "2022-03-20T19:41:45.883Z"
   },
   {
    "duration": 6,
    "start_time": "2022-03-20T19:41:45.902Z"
   },
   {
    "duration": 8,
    "start_time": "2022-03-20T19:41:45.910Z"
   },
   {
    "duration": 8,
    "start_time": "2022-03-20T19:41:45.920Z"
   },
   {
    "duration": 5,
    "start_time": "2022-03-20T19:41:45.930Z"
   },
   {
    "duration": 133,
    "start_time": "2022-03-20T19:41:45.940Z"
   },
   {
    "duration": 20,
    "start_time": "2022-03-20T19:41:46.075Z"
   },
   {
    "duration": 9,
    "start_time": "2022-03-20T19:41:46.097Z"
   },
   {
    "duration": 12,
    "start_time": "2022-03-20T19:41:46.108Z"
   },
   {
    "duration": 14,
    "start_time": "2022-03-20T19:41:46.122Z"
   },
   {
    "duration": 20,
    "start_time": "2022-03-20T19:41:46.138Z"
   },
   {
    "duration": 22,
    "start_time": "2022-03-20T19:41:46.180Z"
   },
   {
    "duration": 2517,
    "start_time": "2022-03-20T19:41:46.204Z"
   },
   {
    "duration": 12,
    "start_time": "2022-03-20T19:41:48.723Z"
   },
   {
    "duration": 7,
    "start_time": "2022-03-20T19:41:48.737Z"
   },
   {
    "duration": 42,
    "start_time": "2022-03-20T19:41:48.745Z"
   },
   {
    "duration": 0,
    "start_time": "2022-03-20T19:41:48.789Z"
   },
   {
    "duration": 0,
    "start_time": "2022-03-20T19:41:48.791Z"
   },
   {
    "duration": 23,
    "start_time": "2022-03-20T19:51:58.179Z"
   },
   {
    "duration": 12,
    "start_time": "2022-03-20T19:53:25.171Z"
   },
   {
    "duration": 5,
    "start_time": "2022-03-20T19:53:35.576Z"
   },
   {
    "duration": 9,
    "start_time": "2022-03-20T19:58:21.233Z"
   },
   {
    "duration": 3,
    "start_time": "2022-03-20T19:58:33.286Z"
   },
   {
    "duration": 164,
    "start_time": "2022-03-20T19:58:33.291Z"
   },
   {
    "duration": 41,
    "start_time": "2022-03-20T19:58:33.457Z"
   },
   {
    "duration": 138,
    "start_time": "2022-03-20T19:58:33.500Z"
   },
   {
    "duration": 21,
    "start_time": "2022-03-20T19:58:33.640Z"
   },
   {
    "duration": 92,
    "start_time": "2022-03-20T19:58:33.663Z"
   },
   {
    "duration": 27,
    "start_time": "2022-03-20T19:58:33.757Z"
   },
   {
    "duration": 21,
    "start_time": "2022-03-20T19:58:33.786Z"
   },
   {
    "duration": 9,
    "start_time": "2022-03-20T19:58:33.809Z"
   },
   {
    "duration": 62,
    "start_time": "2022-03-20T19:58:33.820Z"
   },
   {
    "duration": 10,
    "start_time": "2022-03-20T19:58:33.884Z"
   },
   {
    "duration": 16,
    "start_time": "2022-03-20T19:58:33.895Z"
   },
   {
    "duration": 7,
    "start_time": "2022-03-20T19:58:33.913Z"
   },
   {
    "duration": 87,
    "start_time": "2022-03-20T19:58:33.921Z"
   },
   {
    "duration": 5,
    "start_time": "2022-03-20T19:58:34.010Z"
   },
   {
    "duration": 174,
    "start_time": "2022-03-20T19:58:34.017Z"
   },
   {
    "duration": 4,
    "start_time": "2022-03-20T19:58:34.193Z"
   },
   {
    "duration": 24,
    "start_time": "2022-03-20T19:58:34.198Z"
   },
   {
    "duration": 71,
    "start_time": "2022-03-20T19:58:34.223Z"
   },
   {
    "duration": 4,
    "start_time": "2022-03-20T19:58:34.295Z"
   },
   {
    "duration": 12,
    "start_time": "2022-03-20T19:58:34.300Z"
   },
   {
    "duration": 16,
    "start_time": "2022-03-20T19:58:34.313Z"
   },
   {
    "duration": 26,
    "start_time": "2022-03-20T19:58:34.331Z"
   },
   {
    "duration": 3,
    "start_time": "2022-03-20T19:58:34.381Z"
   },
   {
    "duration": 9,
    "start_time": "2022-03-20T19:58:34.385Z"
   },
   {
    "duration": 17,
    "start_time": "2022-03-20T19:58:34.396Z"
   },
   {
    "duration": 21,
    "start_time": "2022-03-20T19:58:34.415Z"
   },
   {
    "duration": 4,
    "start_time": "2022-03-20T19:58:34.438Z"
   },
   {
    "duration": 38,
    "start_time": "2022-03-20T19:58:34.443Z"
   },
   {
    "duration": 11,
    "start_time": "2022-03-20T19:58:34.483Z"
   },
   {
    "duration": 8,
    "start_time": "2022-03-20T19:58:34.496Z"
   },
   {
    "duration": 7,
    "start_time": "2022-03-20T19:58:34.506Z"
   },
   {
    "duration": 3,
    "start_time": "2022-03-20T19:58:34.515Z"
   },
   {
    "duration": 12,
    "start_time": "2022-03-20T19:58:34.519Z"
   },
   {
    "duration": 69,
    "start_time": "2022-03-20T19:58:34.532Z"
   },
   {
    "duration": 10,
    "start_time": "2022-03-20T19:58:34.603Z"
   },
   {
    "duration": 23,
    "start_time": "2022-03-20T19:58:34.615Z"
   },
   {
    "duration": 9,
    "start_time": "2022-03-20T19:58:34.640Z"
   },
   {
    "duration": 33,
    "start_time": "2022-03-20T19:58:34.650Z"
   },
   {
    "duration": 10,
    "start_time": "2022-03-20T19:58:34.685Z"
   },
   {
    "duration": 4,
    "start_time": "2022-03-20T19:58:34.697Z"
   },
   {
    "duration": 201,
    "start_time": "2022-03-20T19:58:34.703Z"
   },
   {
    "duration": 17,
    "start_time": "2022-03-20T19:58:34.906Z"
   },
   {
    "duration": 10,
    "start_time": "2022-03-20T19:58:34.925Z"
   },
   {
    "duration": 9,
    "start_time": "2022-03-20T19:58:34.936Z"
   },
   {
    "duration": 8,
    "start_time": "2022-03-20T19:58:34.946Z"
   },
   {
    "duration": 39,
    "start_time": "2022-03-20T19:58:34.955Z"
   },
   {
    "duration": 16,
    "start_time": "2022-03-20T19:58:34.995Z"
   },
   {
    "duration": 2502,
    "start_time": "2022-03-20T19:58:35.013Z"
   },
   {
    "duration": 9,
    "start_time": "2022-03-20T19:58:37.517Z"
   },
   {
    "duration": 14,
    "start_time": "2022-03-20T19:58:37.528Z"
   },
   {
    "duration": 0,
    "start_time": "2022-03-20T19:58:37.543Z"
   },
   {
    "duration": 10,
    "start_time": "2022-03-20T19:58:49.448Z"
   },
   {
    "duration": 7,
    "start_time": "2022-03-20T19:59:17.769Z"
   },
   {
    "duration": 7,
    "start_time": "2022-03-20T20:00:23.162Z"
   },
   {
    "duration": 8,
    "start_time": "2022-03-20T20:03:03.250Z"
   },
   {
    "duration": 2,
    "start_time": "2022-03-20T20:03:46.583Z"
   },
   {
    "duration": 161,
    "start_time": "2022-03-20T20:03:46.587Z"
   },
   {
    "duration": 36,
    "start_time": "2022-03-20T20:03:46.750Z"
   },
   {
    "duration": 132,
    "start_time": "2022-03-20T20:03:46.788Z"
   },
   {
    "duration": 21,
    "start_time": "2022-03-20T20:03:46.922Z"
   },
   {
    "duration": 91,
    "start_time": "2022-03-20T20:03:46.944Z"
   },
   {
    "duration": 18,
    "start_time": "2022-03-20T20:03:47.037Z"
   },
   {
    "duration": 25,
    "start_time": "2022-03-20T20:03:47.057Z"
   },
   {
    "duration": 9,
    "start_time": "2022-03-20T20:03:47.085Z"
   },
   {
    "duration": 50,
    "start_time": "2022-03-20T20:03:47.097Z"
   },
   {
    "duration": 12,
    "start_time": "2022-03-20T20:03:47.149Z"
   },
   {
    "duration": 12,
    "start_time": "2022-03-20T20:03:47.163Z"
   },
   {
    "duration": 5,
    "start_time": "2022-03-20T20:03:47.177Z"
   },
   {
    "duration": 105,
    "start_time": "2022-03-20T20:03:47.184Z"
   },
   {
    "duration": 5,
    "start_time": "2022-03-20T20:03:47.291Z"
   },
   {
    "duration": 164,
    "start_time": "2022-03-20T20:03:47.298Z"
   },
   {
    "duration": 4,
    "start_time": "2022-03-20T20:03:47.464Z"
   },
   {
    "duration": 31,
    "start_time": "2022-03-20T20:03:47.470Z"
   },
   {
    "duration": 50,
    "start_time": "2022-03-20T20:03:47.503Z"
   },
   {
    "duration": 3,
    "start_time": "2022-03-20T20:03:47.555Z"
   },
   {
    "duration": 27,
    "start_time": "2022-03-20T20:03:47.559Z"
   },
   {
    "duration": 15,
    "start_time": "2022-03-20T20:03:47.587Z"
   },
   {
    "duration": 26,
    "start_time": "2022-03-20T20:03:47.604Z"
   },
   {
    "duration": 3,
    "start_time": "2022-03-20T20:03:47.634Z"
   },
   {
    "duration": 10,
    "start_time": "2022-03-20T20:03:47.640Z"
   },
   {
    "duration": 48,
    "start_time": "2022-03-20T20:03:47.652Z"
   },
   {
    "duration": 32,
    "start_time": "2022-03-20T20:03:47.703Z"
   },
   {
    "duration": 4,
    "start_time": "2022-03-20T20:03:47.737Z"
   },
   {
    "duration": 14,
    "start_time": "2022-03-20T20:03:47.743Z"
   },
   {
    "duration": 28,
    "start_time": "2022-03-20T20:03:47.759Z"
   },
   {
    "duration": 8,
    "start_time": "2022-03-20T20:03:47.789Z"
   },
   {
    "duration": 7,
    "start_time": "2022-03-20T20:03:47.798Z"
   },
   {
    "duration": 4,
    "start_time": "2022-03-20T20:03:47.806Z"
   },
   {
    "duration": 8,
    "start_time": "2022-03-20T20:03:47.811Z"
   },
   {
    "duration": 62,
    "start_time": "2022-03-20T20:03:47.820Z"
   },
   {
    "duration": 7,
    "start_time": "2022-03-20T20:03:47.883Z"
   },
   {
    "duration": 17,
    "start_time": "2022-03-20T20:03:47.892Z"
   },
   {
    "duration": 6,
    "start_time": "2022-03-20T20:03:47.910Z"
   },
   {
    "duration": 9,
    "start_time": "2022-03-20T20:03:47.917Z"
   },
   {
    "duration": 8,
    "start_time": "2022-03-20T20:03:47.927Z"
   },
   {
    "duration": 4,
    "start_time": "2022-03-20T20:03:47.937Z"
   },
   {
    "duration": 119,
    "start_time": "2022-03-20T20:03:47.943Z"
   },
   {
    "duration": 19,
    "start_time": "2022-03-20T20:03:48.064Z"
   },
   {
    "duration": 4,
    "start_time": "2022-03-20T20:03:48.085Z"
   },
   {
    "duration": 8,
    "start_time": "2022-03-20T20:03:48.091Z"
   },
   {
    "duration": 8,
    "start_time": "2022-03-20T20:03:48.101Z"
   },
   {
    "duration": 17,
    "start_time": "2022-03-20T20:03:48.110Z"
   },
   {
    "duration": 57,
    "start_time": "2022-03-20T20:03:48.129Z"
   },
   {
    "duration": 3856,
    "start_time": "2022-03-20T20:03:48.188Z"
   },
   {
    "duration": 7,
    "start_time": "2022-03-20T20:03:52.046Z"
   },
   {
    "duration": 6,
    "start_time": "2022-03-20T20:03:52.055Z"
   },
   {
    "duration": 20,
    "start_time": "2022-03-20T20:03:52.062Z"
   },
   {
    "duration": 6,
    "start_time": "2022-03-20T20:03:52.083Z"
   },
   {
    "duration": 8,
    "start_time": "2022-03-20T20:03:52.090Z"
   },
   {
    "duration": 3,
    "start_time": "2022-03-20T20:07:27.236Z"
   },
   {
    "duration": 185,
    "start_time": "2022-03-20T20:07:27.241Z"
   },
   {
    "duration": 25,
    "start_time": "2022-03-20T20:07:27.427Z"
   },
   {
    "duration": 138,
    "start_time": "2022-03-20T20:07:27.453Z"
   },
   {
    "duration": 20,
    "start_time": "2022-03-20T20:07:27.593Z"
   },
   {
    "duration": 95,
    "start_time": "2022-03-20T20:07:27.615Z"
   },
   {
    "duration": 21,
    "start_time": "2022-03-20T20:07:27.712Z"
   },
   {
    "duration": 24,
    "start_time": "2022-03-20T20:07:27.735Z"
   },
   {
    "duration": 9,
    "start_time": "2022-03-20T20:07:27.761Z"
   },
   {
    "duration": 42,
    "start_time": "2022-03-20T20:07:27.772Z"
   },
   {
    "duration": 10,
    "start_time": "2022-03-20T20:07:27.817Z"
   },
   {
    "duration": 15,
    "start_time": "2022-03-20T20:07:27.829Z"
   },
   {
    "duration": 4,
    "start_time": "2022-03-20T20:07:27.846Z"
   },
   {
    "duration": 69,
    "start_time": "2022-03-20T20:07:27.851Z"
   },
   {
    "duration": 4,
    "start_time": "2022-03-20T20:07:27.922Z"
   },
   {
    "duration": 171,
    "start_time": "2022-03-20T20:07:27.928Z"
   },
   {
    "duration": 3,
    "start_time": "2022-03-20T20:07:28.101Z"
   },
   {
    "duration": 23,
    "start_time": "2022-03-20T20:07:28.106Z"
   },
   {
    "duration": 72,
    "start_time": "2022-03-20T20:07:28.130Z"
   },
   {
    "duration": 3,
    "start_time": "2022-03-20T20:07:28.204Z"
   },
   {
    "duration": 10,
    "start_time": "2022-03-20T20:07:28.208Z"
   },
   {
    "duration": 20,
    "start_time": "2022-03-20T20:07:28.219Z"
   },
   {
    "duration": 40,
    "start_time": "2022-03-20T20:07:28.241Z"
   },
   {
    "duration": 3,
    "start_time": "2022-03-20T20:07:28.283Z"
   },
   {
    "duration": 10,
    "start_time": "2022-03-20T20:07:28.287Z"
   },
   {
    "duration": 19,
    "start_time": "2022-03-20T20:07:28.299Z"
   },
   {
    "duration": 23,
    "start_time": "2022-03-20T20:07:28.321Z"
   },
   {
    "duration": 4,
    "start_time": "2022-03-20T20:07:28.346Z"
   },
   {
    "duration": 9,
    "start_time": "2022-03-20T20:07:28.381Z"
   },
   {
    "duration": 19,
    "start_time": "2022-03-20T20:07:28.392Z"
   },
   {
    "duration": 15,
    "start_time": "2022-03-20T20:07:28.413Z"
   },
   {
    "duration": 13,
    "start_time": "2022-03-20T20:07:28.429Z"
   },
   {
    "duration": 4,
    "start_time": "2022-03-20T20:07:28.444Z"
   },
   {
    "duration": 9,
    "start_time": "2022-03-20T20:07:28.449Z"
   },
   {
    "duration": 35,
    "start_time": "2022-03-20T20:07:28.460Z"
   },
   {
    "duration": 9,
    "start_time": "2022-03-20T20:07:28.497Z"
   },
   {
    "duration": 18,
    "start_time": "2022-03-20T20:07:28.508Z"
   },
   {
    "duration": 6,
    "start_time": "2022-03-20T20:07:28.527Z"
   },
   {
    "duration": 7,
    "start_time": "2022-03-20T20:07:28.534Z"
   },
   {
    "duration": 11,
    "start_time": "2022-03-20T20:07:28.543Z"
   },
   {
    "duration": 5,
    "start_time": "2022-03-20T20:07:28.580Z"
   },
   {
    "duration": 86,
    "start_time": "2022-03-20T20:07:28.586Z"
   },
   {
    "duration": 14,
    "start_time": "2022-03-20T20:07:28.681Z"
   },
   {
    "duration": 5,
    "start_time": "2022-03-20T20:07:28.696Z"
   },
   {
    "duration": 8,
    "start_time": "2022-03-20T20:07:28.703Z"
   },
   {
    "duration": 9,
    "start_time": "2022-03-20T20:07:28.712Z"
   },
   {
    "duration": 17,
    "start_time": "2022-03-20T20:07:28.722Z"
   },
   {
    "duration": 49,
    "start_time": "2022-03-20T20:07:28.741Z"
   },
   {
    "duration": 2727,
    "start_time": "2022-03-20T20:07:28.792Z"
   },
   {
    "duration": 7,
    "start_time": "2022-03-20T20:07:31.520Z"
   },
   {
    "duration": 18,
    "start_time": "2022-03-20T20:07:31.528Z"
   },
   {
    "duration": 9,
    "start_time": "2022-03-20T20:07:31.547Z"
   },
   {
    "duration": 13,
    "start_time": "2022-03-20T20:07:31.557Z"
   },
   {
    "duration": 7,
    "start_time": "2022-03-20T20:07:31.581Z"
   },
   {
    "duration": 7,
    "start_time": "2022-03-20T20:07:31.589Z"
   },
   {
    "duration": 5,
    "start_time": "2022-03-20T20:08:31.500Z"
   },
   {
    "duration": 9,
    "start_time": "2022-03-20T20:16:40.390Z"
   },
   {
    "duration": 12,
    "start_time": "2022-03-20T20:16:53.336Z"
   },
   {
    "duration": 13,
    "start_time": "2022-03-20T20:20:51.030Z"
   },
   {
    "duration": 14,
    "start_time": "2022-03-20T20:21:38.078Z"
   },
   {
    "duration": 2,
    "start_time": "2022-03-20T20:22:11.726Z"
   },
   {
    "duration": 182,
    "start_time": "2022-03-20T20:22:11.732Z"
   },
   {
    "duration": 27,
    "start_time": "2022-03-20T20:22:11.917Z"
   },
   {
    "duration": 143,
    "start_time": "2022-03-20T20:22:11.946Z"
   },
   {
    "duration": 34,
    "start_time": "2022-03-20T20:22:12.092Z"
   },
   {
    "duration": 97,
    "start_time": "2022-03-20T20:22:12.128Z"
   },
   {
    "duration": 20,
    "start_time": "2022-03-20T20:22:12.227Z"
   },
   {
    "duration": 22,
    "start_time": "2022-03-20T20:22:12.248Z"
   },
   {
    "duration": 17,
    "start_time": "2022-03-20T20:22:12.271Z"
   },
   {
    "duration": 44,
    "start_time": "2022-03-20T20:22:12.290Z"
   },
   {
    "duration": 11,
    "start_time": "2022-03-20T20:22:12.336Z"
   },
   {
    "duration": 16,
    "start_time": "2022-03-20T20:22:12.348Z"
   },
   {
    "duration": 4,
    "start_time": "2022-03-20T20:22:12.365Z"
   },
   {
    "duration": 68,
    "start_time": "2022-03-20T20:22:12.370Z"
   },
   {
    "duration": 4,
    "start_time": "2022-03-20T20:22:12.440Z"
   },
   {
    "duration": 194,
    "start_time": "2022-03-20T20:22:12.446Z"
   },
   {
    "duration": 5,
    "start_time": "2022-03-20T20:22:12.642Z"
   },
   {
    "duration": 40,
    "start_time": "2022-03-20T20:22:12.648Z"
   },
   {
    "duration": 54,
    "start_time": "2022-03-20T20:22:12.690Z"
   },
   {
    "duration": 4,
    "start_time": "2022-03-20T20:22:12.746Z"
   },
   {
    "duration": 31,
    "start_time": "2022-03-20T20:22:12.751Z"
   },
   {
    "duration": 14,
    "start_time": "2022-03-20T20:22:12.783Z"
   },
   {
    "duration": 25,
    "start_time": "2022-03-20T20:22:12.798Z"
   },
   {
    "duration": 2,
    "start_time": "2022-03-20T20:22:12.825Z"
   },
   {
    "duration": 8,
    "start_time": "2022-03-20T20:22:12.829Z"
   },
   {
    "duration": 42,
    "start_time": "2022-03-20T20:22:12.839Z"
   },
   {
    "duration": 25,
    "start_time": "2022-03-20T20:22:12.883Z"
   },
   {
    "duration": 4,
    "start_time": "2022-03-20T20:22:12.910Z"
   },
   {
    "duration": 12,
    "start_time": "2022-03-20T20:22:12.919Z"
   },
   {
    "duration": 8,
    "start_time": "2022-03-20T20:22:12.933Z"
   },
   {
    "duration": 7,
    "start_time": "2022-03-20T20:22:12.943Z"
   },
   {
    "duration": 33,
    "start_time": "2022-03-20T20:22:12.952Z"
   },
   {
    "duration": 3,
    "start_time": "2022-03-20T20:22:12.987Z"
   },
   {
    "duration": 10,
    "start_time": "2022-03-20T20:22:12.991Z"
   },
   {
    "duration": 25,
    "start_time": "2022-03-20T20:22:13.002Z"
   },
   {
    "duration": 7,
    "start_time": "2022-03-20T20:22:13.028Z"
   },
   {
    "duration": 47,
    "start_time": "2022-03-20T20:22:13.036Z"
   },
   {
    "duration": 10,
    "start_time": "2022-03-20T20:22:13.086Z"
   },
   {
    "duration": 9,
    "start_time": "2022-03-20T20:22:13.097Z"
   },
   {
    "duration": 7,
    "start_time": "2022-03-20T20:22:13.108Z"
   },
   {
    "duration": 5,
    "start_time": "2022-03-20T20:22:13.116Z"
   },
   {
    "duration": 102,
    "start_time": "2022-03-20T20:22:13.122Z"
   },
   {
    "duration": 15,
    "start_time": "2022-03-20T20:22:13.225Z"
   },
   {
    "duration": 6,
    "start_time": "2022-03-20T20:22:13.241Z"
   },
   {
    "duration": 14,
    "start_time": "2022-03-20T20:22:13.249Z"
   },
   {
    "duration": 8,
    "start_time": "2022-03-20T20:22:13.264Z"
   },
   {
    "duration": 22,
    "start_time": "2022-03-20T20:22:13.273Z"
   },
   {
    "duration": 18,
    "start_time": "2022-03-20T20:22:13.296Z"
   },
   {
    "duration": 2630,
    "start_time": "2022-03-20T20:22:13.315Z"
   },
   {
    "duration": 20,
    "start_time": "2022-03-20T20:22:15.947Z"
   },
   {
    "duration": 17,
    "start_time": "2022-03-20T20:22:15.968Z"
   },
   {
    "duration": 7,
    "start_time": "2022-03-20T20:22:15.987Z"
   },
   {
    "duration": 7,
    "start_time": "2022-03-20T20:22:15.996Z"
   },
   {
    "duration": 13,
    "start_time": "2022-03-20T20:22:16.006Z"
   },
   {
    "duration": 10,
    "start_time": "2022-03-20T20:22:16.022Z"
   },
   {
    "duration": 47,
    "start_time": "2022-03-20T20:22:16.034Z"
   },
   {
    "duration": 7,
    "start_time": "2022-03-20T20:22:52.669Z"
   },
   {
    "duration": 6,
    "start_time": "2022-03-20T20:23:46.280Z"
   },
   {
    "duration": 5,
    "start_time": "2022-03-20T20:24:03.557Z"
   },
   {
    "duration": 3,
    "start_time": "2022-03-20T20:28:07.052Z"
   },
   {
    "duration": 167,
    "start_time": "2022-03-20T20:28:07.056Z"
   },
   {
    "duration": 25,
    "start_time": "2022-03-20T20:28:07.225Z"
   },
   {
    "duration": 137,
    "start_time": "2022-03-20T20:28:07.252Z"
   },
   {
    "duration": 20,
    "start_time": "2022-03-20T20:28:07.391Z"
   },
   {
    "duration": 86,
    "start_time": "2022-03-20T20:28:07.413Z"
   },
   {
    "duration": 19,
    "start_time": "2022-03-20T20:28:07.501Z"
   },
   {
    "duration": 21,
    "start_time": "2022-03-20T20:28:07.521Z"
   },
   {
    "duration": 11,
    "start_time": "2022-03-20T20:28:07.543Z"
   },
   {
    "duration": 39,
    "start_time": "2022-03-20T20:28:07.556Z"
   },
   {
    "duration": 9,
    "start_time": "2022-03-20T20:28:07.598Z"
   },
   {
    "duration": 19,
    "start_time": "2022-03-20T20:28:07.608Z"
   },
   {
    "duration": 4,
    "start_time": "2022-03-20T20:28:07.629Z"
   },
   {
    "duration": 72,
    "start_time": "2022-03-20T20:28:07.635Z"
   },
   {
    "duration": 4,
    "start_time": "2022-03-20T20:28:07.709Z"
   },
   {
    "duration": 166,
    "start_time": "2022-03-20T20:28:07.715Z"
   },
   {
    "duration": 4,
    "start_time": "2022-03-20T20:28:07.882Z"
   },
   {
    "duration": 23,
    "start_time": "2022-03-20T20:28:07.887Z"
   },
   {
    "duration": 69,
    "start_time": "2022-03-20T20:28:07.912Z"
   },
   {
    "duration": 2,
    "start_time": "2022-03-20T20:28:07.983Z"
   },
   {
    "duration": 9,
    "start_time": "2022-03-20T20:28:07.987Z"
   },
   {
    "duration": 14,
    "start_time": "2022-03-20T20:28:07.998Z"
   },
   {
    "duration": 24,
    "start_time": "2022-03-20T20:28:08.014Z"
   },
   {
    "duration": 3,
    "start_time": "2022-03-20T20:28:08.040Z"
   },
   {
    "duration": 8,
    "start_time": "2022-03-20T20:28:08.044Z"
   },
   {
    "duration": 38,
    "start_time": "2022-03-20T20:28:08.053Z"
   },
   {
    "duration": 22,
    "start_time": "2022-03-20T20:28:08.093Z"
   },
   {
    "duration": 4,
    "start_time": "2022-03-20T20:28:08.116Z"
   },
   {
    "duration": 7,
    "start_time": "2022-03-20T20:28:08.124Z"
   },
   {
    "duration": 9,
    "start_time": "2022-03-20T20:28:08.133Z"
   },
   {
    "duration": 7,
    "start_time": "2022-03-20T20:28:08.144Z"
   },
   {
    "duration": 31,
    "start_time": "2022-03-20T20:28:08.152Z"
   },
   {
    "duration": 3,
    "start_time": "2022-03-20T20:28:08.185Z"
   },
   {
    "duration": 8,
    "start_time": "2022-03-20T20:28:08.190Z"
   },
   {
    "duration": 25,
    "start_time": "2022-03-20T20:28:08.199Z"
   },
   {
    "duration": 6,
    "start_time": "2022-03-20T20:28:08.226Z"
   },
   {
    "duration": 17,
    "start_time": "2022-03-20T20:28:08.234Z"
   },
   {
    "duration": 6,
    "start_time": "2022-03-20T20:28:08.281Z"
   },
   {
    "duration": 5,
    "start_time": "2022-03-20T20:28:08.289Z"
   },
   {
    "duration": 7,
    "start_time": "2022-03-20T20:28:08.295Z"
   },
   {
    "duration": 4,
    "start_time": "2022-03-20T20:28:08.304Z"
   },
   {
    "duration": 105,
    "start_time": "2022-03-20T20:28:08.310Z"
   },
   {
    "duration": 16,
    "start_time": "2022-03-20T20:28:08.417Z"
   },
   {
    "duration": 6,
    "start_time": "2022-03-20T20:28:08.435Z"
   },
   {
    "duration": 6,
    "start_time": "2022-03-20T20:28:08.443Z"
   },
   {
    "duration": 30,
    "start_time": "2022-03-20T20:28:08.451Z"
   },
   {
    "duration": 16,
    "start_time": "2022-03-20T20:28:08.482Z"
   },
   {
    "duration": 15,
    "start_time": "2022-03-20T20:28:08.500Z"
   },
   {
    "duration": 2473,
    "start_time": "2022-03-20T20:28:08.517Z"
   },
   {
    "duration": 17,
    "start_time": "2022-03-20T20:28:10.992Z"
   },
   {
    "duration": 5,
    "start_time": "2022-03-20T20:28:11.011Z"
   },
   {
    "duration": 15,
    "start_time": "2022-03-20T20:28:11.018Z"
   },
   {
    "duration": 9,
    "start_time": "2022-03-20T20:28:11.034Z"
   },
   {
    "duration": 2925,
    "start_time": "2022-03-20T20:28:11.045Z"
   },
   {
    "duration": 0,
    "start_time": "2022-03-20T20:28:13.971Z"
   },
   {
    "duration": 0,
    "start_time": "2022-03-20T20:28:13.972Z"
   },
   {
    "duration": 3,
    "start_time": "2022-03-20T20:28:47.335Z"
   },
   {
    "duration": 166,
    "start_time": "2022-03-20T20:28:47.340Z"
   },
   {
    "duration": 26,
    "start_time": "2022-03-20T20:28:47.508Z"
   },
   {
    "duration": 131,
    "start_time": "2022-03-20T20:28:47.536Z"
   },
   {
    "duration": 26,
    "start_time": "2022-03-20T20:28:47.669Z"
   },
   {
    "duration": 91,
    "start_time": "2022-03-20T20:28:47.696Z"
   },
   {
    "duration": 17,
    "start_time": "2022-03-20T20:28:47.788Z"
   },
   {
    "duration": 20,
    "start_time": "2022-03-20T20:28:47.807Z"
   },
   {
    "duration": 10,
    "start_time": "2022-03-20T20:28:47.828Z"
   },
   {
    "duration": 39,
    "start_time": "2022-03-20T20:28:47.840Z"
   },
   {
    "duration": 11,
    "start_time": "2022-03-20T20:28:47.882Z"
   },
   {
    "duration": 14,
    "start_time": "2022-03-20T20:28:47.894Z"
   },
   {
    "duration": 8,
    "start_time": "2022-03-20T20:28:47.909Z"
   },
   {
    "duration": 79,
    "start_time": "2022-03-20T20:28:47.918Z"
   },
   {
    "duration": 4,
    "start_time": "2022-03-20T20:28:47.999Z"
   },
   {
    "duration": 152,
    "start_time": "2022-03-20T20:28:48.005Z"
   },
   {
    "duration": 4,
    "start_time": "2022-03-20T20:28:48.159Z"
   },
   {
    "duration": 22,
    "start_time": "2022-03-20T20:28:48.180Z"
   },
   {
    "duration": 46,
    "start_time": "2022-03-20T20:28:48.204Z"
   },
   {
    "duration": 4,
    "start_time": "2022-03-20T20:28:48.251Z"
   },
   {
    "duration": 28,
    "start_time": "2022-03-20T20:28:48.256Z"
   },
   {
    "duration": 16,
    "start_time": "2022-03-20T20:28:48.286Z"
   },
   {
    "duration": 26,
    "start_time": "2022-03-20T20:28:48.304Z"
   },
   {
    "duration": 3,
    "start_time": "2022-03-20T20:28:48.332Z"
   },
   {
    "duration": 7,
    "start_time": "2022-03-20T20:28:48.337Z"
   },
   {
    "duration": 45,
    "start_time": "2022-03-20T20:28:48.346Z"
   },
   {
    "duration": 23,
    "start_time": "2022-03-20T20:28:48.393Z"
   },
   {
    "duration": 4,
    "start_time": "2022-03-20T20:28:48.418Z"
   },
   {
    "duration": 10,
    "start_time": "2022-03-20T20:28:48.426Z"
   },
   {
    "duration": 9,
    "start_time": "2022-03-20T20:28:48.438Z"
   },
   {
    "duration": 32,
    "start_time": "2022-03-20T20:28:48.449Z"
   },
   {
    "duration": 8,
    "start_time": "2022-03-20T20:28:48.482Z"
   },
   {
    "duration": 4,
    "start_time": "2022-03-20T20:28:48.491Z"
   },
   {
    "duration": 9,
    "start_time": "2022-03-20T20:28:48.497Z"
   },
   {
    "duration": 25,
    "start_time": "2022-03-20T20:28:48.508Z"
   },
   {
    "duration": 7,
    "start_time": "2022-03-20T20:28:48.535Z"
   },
   {
    "duration": 48,
    "start_time": "2022-03-20T20:28:48.544Z"
   },
   {
    "duration": 5,
    "start_time": "2022-03-20T20:28:48.594Z"
   },
   {
    "duration": 11,
    "start_time": "2022-03-20T20:28:48.601Z"
   },
   {
    "duration": 7,
    "start_time": "2022-03-20T20:28:48.614Z"
   },
   {
    "duration": 4,
    "start_time": "2022-03-20T20:28:48.623Z"
   },
   {
    "duration": 95,
    "start_time": "2022-03-20T20:28:48.629Z"
   },
   {
    "duration": 14,
    "start_time": "2022-03-20T20:28:48.726Z"
   },
   {
    "duration": 5,
    "start_time": "2022-03-20T20:28:48.741Z"
   },
   {
    "duration": 7,
    "start_time": "2022-03-20T20:28:48.747Z"
   },
   {
    "duration": 25,
    "start_time": "2022-03-20T20:28:48.756Z"
   },
   {
    "duration": 19,
    "start_time": "2022-03-20T20:28:48.783Z"
   },
   {
    "duration": 17,
    "start_time": "2022-03-20T20:28:48.803Z"
   },
   {
    "duration": 2503,
    "start_time": "2022-03-20T20:28:48.822Z"
   },
   {
    "duration": 19,
    "start_time": "2022-03-20T20:28:51.327Z"
   },
   {
    "duration": 6,
    "start_time": "2022-03-20T20:28:51.347Z"
   },
   {
    "duration": 8,
    "start_time": "2022-03-20T20:28:51.354Z"
   },
   {
    "duration": 4,
    "start_time": "2022-03-20T20:28:51.380Z"
   },
   {
    "duration": 7,
    "start_time": "2022-03-20T20:28:51.385Z"
   },
   {
    "duration": 8,
    "start_time": "2022-03-20T20:28:51.393Z"
   },
   {
    "duration": 7,
    "start_time": "2022-03-20T20:28:51.403Z"
   },
   {
    "duration": 3,
    "start_time": "2022-03-20T20:30:55.872Z"
   },
   {
    "duration": 153,
    "start_time": "2022-03-20T20:30:55.878Z"
   },
   {
    "duration": 24,
    "start_time": "2022-03-20T20:30:56.033Z"
   },
   {
    "duration": 147,
    "start_time": "2022-03-20T20:30:56.059Z"
   },
   {
    "duration": 19,
    "start_time": "2022-03-20T20:30:56.208Z"
   },
   {
    "duration": 87,
    "start_time": "2022-03-20T20:30:56.229Z"
   },
   {
    "duration": 17,
    "start_time": "2022-03-20T20:30:56.317Z"
   },
   {
    "duration": 20,
    "start_time": "2022-03-20T20:30:56.336Z"
   },
   {
    "duration": 10,
    "start_time": "2022-03-20T20:30:56.357Z"
   },
   {
    "duration": 38,
    "start_time": "2022-03-20T20:30:56.368Z"
   },
   {
    "duration": 8,
    "start_time": "2022-03-20T20:30:56.409Z"
   },
   {
    "duration": 13,
    "start_time": "2022-03-20T20:30:56.418Z"
   },
   {
    "duration": 4,
    "start_time": "2022-03-20T20:30:56.432Z"
   },
   {
    "duration": 62,
    "start_time": "2022-03-20T20:30:56.437Z"
   },
   {
    "duration": 4,
    "start_time": "2022-03-20T20:30:56.500Z"
   },
   {
    "duration": 154,
    "start_time": "2022-03-20T20:30:56.506Z"
   },
   {
    "duration": 4,
    "start_time": "2022-03-20T20:30:56.661Z"
   },
   {
    "duration": 33,
    "start_time": "2022-03-20T20:30:56.666Z"
   },
   {
    "duration": 46,
    "start_time": "2022-03-20T20:30:56.700Z"
   },
   {
    "duration": 3,
    "start_time": "2022-03-20T20:30:56.748Z"
   },
   {
    "duration": 10,
    "start_time": "2022-03-20T20:30:56.752Z"
   },
   {
    "duration": 15,
    "start_time": "2022-03-20T20:30:56.780Z"
   },
   {
    "duration": 26,
    "start_time": "2022-03-20T20:30:56.796Z"
   },
   {
    "duration": 3,
    "start_time": "2022-03-20T20:30:56.823Z"
   },
   {
    "duration": 9,
    "start_time": "2022-03-20T20:30:56.828Z"
   },
   {
    "duration": 22,
    "start_time": "2022-03-20T20:30:56.839Z"
   },
   {
    "duration": 22,
    "start_time": "2022-03-20T20:30:56.880Z"
   },
   {
    "duration": 3,
    "start_time": "2022-03-20T20:30:56.904Z"
   },
   {
    "duration": 8,
    "start_time": "2022-03-20T20:30:56.910Z"
   },
   {
    "duration": 9,
    "start_time": "2022-03-20T20:30:56.919Z"
   },
   {
    "duration": 8,
    "start_time": "2022-03-20T20:30:56.929Z"
   },
   {
    "duration": 6,
    "start_time": "2022-03-20T20:30:56.938Z"
   },
   {
    "duration": 4,
    "start_time": "2022-03-20T20:30:56.945Z"
   },
   {
    "duration": 6,
    "start_time": "2022-03-20T20:30:56.981Z"
   },
   {
    "duration": 25,
    "start_time": "2022-03-20T20:30:56.989Z"
   },
   {
    "duration": 7,
    "start_time": "2022-03-20T20:30:57.016Z"
   },
   {
    "duration": 19,
    "start_time": "2022-03-20T20:30:57.024Z"
   },
   {
    "duration": 5,
    "start_time": "2022-03-20T20:30:57.044Z"
   },
   {
    "duration": 31,
    "start_time": "2022-03-20T20:30:57.050Z"
   },
   {
    "duration": 6,
    "start_time": "2022-03-20T20:30:57.083Z"
   },
   {
    "duration": 4,
    "start_time": "2022-03-20T20:30:57.090Z"
   },
   {
    "duration": 99,
    "start_time": "2022-03-20T20:30:57.096Z"
   },
   {
    "duration": 15,
    "start_time": "2022-03-20T20:30:57.197Z"
   },
   {
    "duration": 7,
    "start_time": "2022-03-20T20:30:57.214Z"
   },
   {
    "duration": 7,
    "start_time": "2022-03-20T20:30:57.223Z"
   },
   {
    "duration": 7,
    "start_time": "2022-03-20T20:30:57.231Z"
   },
   {
    "duration": 45,
    "start_time": "2022-03-20T20:30:57.240Z"
   },
   {
    "duration": 16,
    "start_time": "2022-03-20T20:30:57.288Z"
   },
   {
    "duration": 2572,
    "start_time": "2022-03-20T20:30:57.306Z"
   },
   {
    "duration": 19,
    "start_time": "2022-03-20T20:30:59.880Z"
   },
   {
    "duration": 6,
    "start_time": "2022-03-20T20:30:59.900Z"
   },
   {
    "duration": 14,
    "start_time": "2022-03-20T20:30:59.907Z"
   },
   {
    "duration": 5,
    "start_time": "2022-03-20T20:30:59.922Z"
   },
   {
    "duration": 8,
    "start_time": "2022-03-20T20:30:59.929Z"
   },
   {
    "duration": 7,
    "start_time": "2022-03-20T20:30:59.938Z"
   },
   {
    "duration": 6,
    "start_time": "2022-03-20T20:30:59.946Z"
   },
   {
    "duration": 5,
    "start_time": "2022-03-20T20:44:12.053Z"
   },
   {
    "duration": 2,
    "start_time": "2022-03-20T20:44:24.426Z"
   },
   {
    "duration": 167,
    "start_time": "2022-03-20T20:44:24.430Z"
   },
   {
    "duration": 24,
    "start_time": "2022-03-20T20:44:24.598Z"
   },
   {
    "duration": 129,
    "start_time": "2022-03-20T20:44:24.623Z"
   },
   {
    "duration": 33,
    "start_time": "2022-03-20T20:44:24.754Z"
   },
   {
    "duration": 87,
    "start_time": "2022-03-20T20:44:24.788Z"
   },
   {
    "duration": 18,
    "start_time": "2022-03-20T20:44:24.877Z"
   },
   {
    "duration": 21,
    "start_time": "2022-03-20T20:44:24.896Z"
   },
   {
    "duration": 10,
    "start_time": "2022-03-20T20:44:24.919Z"
   },
   {
    "duration": 37,
    "start_time": "2022-03-20T20:44:24.930Z"
   },
   {
    "duration": 10,
    "start_time": "2022-03-20T20:44:24.969Z"
   },
   {
    "duration": 14,
    "start_time": "2022-03-20T20:44:24.980Z"
   },
   {
    "duration": 3,
    "start_time": "2022-03-20T20:44:24.996Z"
   },
   {
    "duration": 65,
    "start_time": "2022-03-20T20:44:25.001Z"
   },
   {
    "duration": 15,
    "start_time": "2022-03-20T20:44:25.067Z"
   },
   {
    "duration": 173,
    "start_time": "2022-03-20T20:44:25.083Z"
   },
   {
    "duration": 4,
    "start_time": "2022-03-20T20:44:25.258Z"
   },
   {
    "duration": 33,
    "start_time": "2022-03-20T20:44:25.264Z"
   },
   {
    "duration": 48,
    "start_time": "2022-03-20T20:44:25.298Z"
   },
   {
    "duration": 3,
    "start_time": "2022-03-20T20:44:25.348Z"
   },
   {
    "duration": 14,
    "start_time": "2022-03-20T20:44:25.352Z"
   },
   {
    "duration": 28,
    "start_time": "2022-03-20T20:44:25.367Z"
   },
   {
    "duration": 30,
    "start_time": "2022-03-20T20:44:25.396Z"
   },
   {
    "duration": 3,
    "start_time": "2022-03-20T20:44:25.429Z"
   },
   {
    "duration": 15,
    "start_time": "2022-03-20T20:44:25.433Z"
   },
   {
    "duration": 19,
    "start_time": "2022-03-20T20:44:25.449Z"
   },
   {
    "duration": 32,
    "start_time": "2022-03-20T20:44:25.469Z"
   },
   {
    "duration": 4,
    "start_time": "2022-03-20T20:44:25.502Z"
   },
   {
    "duration": 26,
    "start_time": "2022-03-20T20:44:25.507Z"
   },
   {
    "duration": 23,
    "start_time": "2022-03-20T20:44:25.535Z"
   },
   {
    "duration": 9,
    "start_time": "2022-03-20T20:44:25.560Z"
   },
   {
    "duration": 13,
    "start_time": "2022-03-20T20:44:25.570Z"
   },
   {
    "duration": 14,
    "start_time": "2022-03-20T20:44:25.584Z"
   },
   {
    "duration": 11,
    "start_time": "2022-03-20T20:44:25.599Z"
   },
   {
    "duration": 39,
    "start_time": "2022-03-20T20:44:25.611Z"
   },
   {
    "duration": 8,
    "start_time": "2022-03-20T20:44:25.651Z"
   },
   {
    "duration": 31,
    "start_time": "2022-03-20T20:44:25.660Z"
   },
   {
    "duration": 5,
    "start_time": "2022-03-20T20:44:25.693Z"
   },
   {
    "duration": 36,
    "start_time": "2022-03-20T20:44:25.700Z"
   },
   {
    "duration": 13,
    "start_time": "2022-03-20T20:44:25.737Z"
   },
   {
    "duration": 18,
    "start_time": "2022-03-20T20:44:25.751Z"
   },
   {
    "duration": 92,
    "start_time": "2022-03-20T20:44:25.770Z"
   },
   {
    "duration": 19,
    "start_time": "2022-03-20T20:44:25.864Z"
   },
   {
    "duration": 22,
    "start_time": "2022-03-20T20:44:25.884Z"
   },
   {
    "duration": 12,
    "start_time": "2022-03-20T20:44:25.907Z"
   },
   {
    "duration": 25,
    "start_time": "2022-03-20T20:44:25.920Z"
   },
   {
    "duration": 33,
    "start_time": "2022-03-20T20:44:25.947Z"
   },
   {
    "duration": 17,
    "start_time": "2022-03-20T20:44:25.981Z"
   },
   {
    "duration": 2608,
    "start_time": "2022-03-20T20:44:25.999Z"
   },
   {
    "duration": 19,
    "start_time": "2022-03-20T20:44:28.609Z"
   },
   {
    "duration": 5,
    "start_time": "2022-03-20T20:44:28.629Z"
   },
   {
    "duration": 8,
    "start_time": "2022-03-20T20:44:28.636Z"
   },
   {
    "duration": 5,
    "start_time": "2022-03-20T20:44:28.645Z"
   },
   {
    "duration": 32,
    "start_time": "2022-03-20T20:44:28.652Z"
   },
   {
    "duration": 7,
    "start_time": "2022-03-20T20:44:28.686Z"
   },
   {
    "duration": 7,
    "start_time": "2022-03-20T20:44:28.694Z"
   },
   {
    "duration": 5,
    "start_time": "2022-03-20T20:46:40.393Z"
   },
   {
    "duration": 6,
    "start_time": "2022-03-20T20:47:04.652Z"
   },
   {
    "duration": 5,
    "start_time": "2022-03-20T20:47:14.115Z"
   },
   {
    "duration": 7,
    "start_time": "2022-03-20T20:47:43.433Z"
   },
   {
    "duration": 2,
    "start_time": "2022-03-20T20:47:47.897Z"
   },
   {
    "duration": 149,
    "start_time": "2022-03-20T20:47:47.903Z"
   },
   {
    "duration": 40,
    "start_time": "2022-03-20T20:47:48.053Z"
   },
   {
    "duration": 127,
    "start_time": "2022-03-20T20:47:48.095Z"
   },
   {
    "duration": 19,
    "start_time": "2022-03-20T20:47:48.224Z"
   },
   {
    "duration": 86,
    "start_time": "2022-03-20T20:47:48.245Z"
   },
   {
    "duration": 18,
    "start_time": "2022-03-20T20:47:48.333Z"
   },
   {
    "duration": 20,
    "start_time": "2022-03-20T20:47:48.352Z"
   },
   {
    "duration": 13,
    "start_time": "2022-03-20T20:47:48.374Z"
   },
   {
    "duration": 37,
    "start_time": "2022-03-20T20:47:48.389Z"
   },
   {
    "duration": 9,
    "start_time": "2022-03-20T20:47:48.428Z"
   },
   {
    "duration": 13,
    "start_time": "2022-03-20T20:47:48.438Z"
   },
   {
    "duration": 4,
    "start_time": "2022-03-20T20:47:48.452Z"
   },
   {
    "duration": 60,
    "start_time": "2022-03-20T20:47:48.457Z"
   },
   {
    "duration": 4,
    "start_time": "2022-03-20T20:47:48.518Z"
   },
   {
    "duration": 161,
    "start_time": "2022-03-20T20:47:48.524Z"
   },
   {
    "duration": 3,
    "start_time": "2022-03-20T20:47:48.687Z"
   },
   {
    "duration": 25,
    "start_time": "2022-03-20T20:47:48.692Z"
   },
   {
    "duration": 47,
    "start_time": "2022-03-20T20:47:48.718Z"
   },
   {
    "duration": 14,
    "start_time": "2022-03-20T20:47:48.767Z"
   },
   {
    "duration": 8,
    "start_time": "2022-03-20T20:47:48.783Z"
   },
   {
    "duration": 17,
    "start_time": "2022-03-20T20:47:48.792Z"
   },
   {
    "duration": 24,
    "start_time": "2022-03-20T20:47:48.810Z"
   },
   {
    "duration": 3,
    "start_time": "2022-03-20T20:47:48.835Z"
   },
   {
    "duration": 8,
    "start_time": "2022-03-20T20:47:48.840Z"
   },
   {
    "duration": 41,
    "start_time": "2022-03-20T20:47:48.850Z"
   },
   {
    "duration": 22,
    "start_time": "2022-03-20T20:47:48.893Z"
   },
   {
    "duration": 3,
    "start_time": "2022-03-20T20:47:48.917Z"
   },
   {
    "duration": 11,
    "start_time": "2022-03-20T20:47:48.923Z"
   },
   {
    "duration": 8,
    "start_time": "2022-03-20T20:47:48.936Z"
   },
   {
    "duration": 7,
    "start_time": "2022-03-20T20:47:48.945Z"
   },
   {
    "duration": 28,
    "start_time": "2022-03-20T20:47:48.953Z"
   },
   {
    "duration": 3,
    "start_time": "2022-03-20T20:47:48.982Z"
   },
   {
    "duration": 8,
    "start_time": "2022-03-20T20:47:48.986Z"
   },
   {
    "duration": 25,
    "start_time": "2022-03-20T20:47:48.995Z"
   },
   {
    "duration": 6,
    "start_time": "2022-03-20T20:47:49.021Z"
   },
   {
    "duration": 15,
    "start_time": "2022-03-20T20:47:49.029Z"
   },
   {
    "duration": 36,
    "start_time": "2022-03-20T20:47:49.045Z"
   },
   {
    "duration": 4,
    "start_time": "2022-03-20T20:47:49.083Z"
   },
   {
    "duration": 14,
    "start_time": "2022-03-20T20:47:49.088Z"
   },
   {
    "duration": 5,
    "start_time": "2022-03-20T20:47:49.104Z"
   },
   {
    "duration": 89,
    "start_time": "2022-03-20T20:47:49.111Z"
   },
   {
    "duration": 14,
    "start_time": "2022-03-20T20:47:49.202Z"
   },
   {
    "duration": 4,
    "start_time": "2022-03-20T20:47:49.218Z"
   },
   {
    "duration": 8,
    "start_time": "2022-03-20T20:47:49.224Z"
   },
   {
    "duration": 8,
    "start_time": "2022-03-20T20:47:49.233Z"
   },
   {
    "duration": 38,
    "start_time": "2022-03-20T20:47:49.243Z"
   },
   {
    "duration": 15,
    "start_time": "2022-03-20T20:47:49.283Z"
   },
   {
    "duration": 2821,
    "start_time": "2022-03-20T20:47:49.300Z"
   },
   {
    "duration": 19,
    "start_time": "2022-03-20T20:47:52.122Z"
   },
   {
    "duration": 6,
    "start_time": "2022-03-20T20:47:52.143Z"
   },
   {
    "duration": 14,
    "start_time": "2022-03-20T20:47:52.150Z"
   },
   {
    "duration": 5,
    "start_time": "2022-03-20T20:47:52.181Z"
   },
   {
    "duration": 8,
    "start_time": "2022-03-20T20:47:52.187Z"
   },
   {
    "duration": 7,
    "start_time": "2022-03-20T20:47:52.197Z"
   },
   {
    "duration": 5,
    "start_time": "2022-03-20T20:47:52.205Z"
   },
   {
    "duration": 3,
    "start_time": "2022-03-20T20:56:42.510Z"
   },
   {
    "duration": 147,
    "start_time": "2022-03-20T20:56:42.515Z"
   },
   {
    "duration": 27,
    "start_time": "2022-03-20T20:56:42.680Z"
   },
   {
    "duration": 127,
    "start_time": "2022-03-20T20:56:42.709Z"
   },
   {
    "duration": 21,
    "start_time": "2022-03-20T20:56:42.838Z"
   },
   {
    "duration": 88,
    "start_time": "2022-03-20T20:56:42.860Z"
   },
   {
    "duration": 18,
    "start_time": "2022-03-20T20:56:42.950Z"
   },
   {
    "duration": 20,
    "start_time": "2022-03-20T20:56:42.970Z"
   },
   {
    "duration": 10,
    "start_time": "2022-03-20T20:56:42.991Z"
   },
   {
    "duration": 36,
    "start_time": "2022-03-20T20:56:43.003Z"
   },
   {
    "duration": 9,
    "start_time": "2022-03-20T20:56:43.041Z"
   },
   {
    "duration": 13,
    "start_time": "2022-03-20T20:56:43.052Z"
   },
   {
    "duration": 3,
    "start_time": "2022-03-20T20:56:43.067Z"
   },
   {
    "duration": 66,
    "start_time": "2022-03-20T20:56:43.072Z"
   },
   {
    "duration": 4,
    "start_time": "2022-03-20T20:56:43.140Z"
   },
   {
    "duration": 160,
    "start_time": "2022-03-20T20:56:43.145Z"
   },
   {
    "duration": 3,
    "start_time": "2022-03-20T20:56:43.307Z"
   },
   {
    "duration": 24,
    "start_time": "2022-03-20T20:56:43.312Z"
   },
   {
    "duration": 64,
    "start_time": "2022-03-20T20:56:43.338Z"
   },
   {
    "duration": 3,
    "start_time": "2022-03-20T20:56:43.403Z"
   },
   {
    "duration": 10,
    "start_time": "2022-03-20T20:56:43.407Z"
   },
   {
    "duration": 18,
    "start_time": "2022-03-20T20:56:43.418Z"
   },
   {
    "duration": 24,
    "start_time": "2022-03-20T20:56:43.438Z"
   },
   {
    "duration": 18,
    "start_time": "2022-03-20T20:56:43.463Z"
   },
   {
    "duration": 9,
    "start_time": "2022-03-20T20:56:43.483Z"
   },
   {
    "duration": 19,
    "start_time": "2022-03-20T20:56:43.493Z"
   },
   {
    "duration": 22,
    "start_time": "2022-03-20T20:56:43.513Z"
   },
   {
    "duration": 3,
    "start_time": "2022-03-20T20:56:43.537Z"
   },
   {
    "duration": 8,
    "start_time": "2022-03-20T20:56:43.544Z"
   },
   {
    "duration": 30,
    "start_time": "2022-03-20T20:56:43.553Z"
   },
   {
    "duration": 10,
    "start_time": "2022-03-20T20:56:43.584Z"
   },
   {
    "duration": 7,
    "start_time": "2022-03-20T20:56:43.595Z"
   },
   {
    "duration": 4,
    "start_time": "2022-03-20T20:56:43.603Z"
   },
   {
    "duration": 8,
    "start_time": "2022-03-20T20:56:43.608Z"
   },
   {
    "duration": 25,
    "start_time": "2022-03-20T20:56:43.617Z"
   },
   {
    "duration": 8,
    "start_time": "2022-03-20T20:56:43.644Z"
   },
   {
    "duration": 18,
    "start_time": "2022-03-20T20:56:43.681Z"
   },
   {
    "duration": 5,
    "start_time": "2022-03-20T20:56:43.700Z"
   },
   {
    "duration": 9,
    "start_time": "2022-03-20T20:56:43.706Z"
   },
   {
    "duration": 8,
    "start_time": "2022-03-20T20:56:43.716Z"
   },
   {
    "duration": 4,
    "start_time": "2022-03-20T20:56:43.725Z"
   },
   {
    "duration": 100,
    "start_time": "2022-03-20T20:56:43.730Z"
   },
   {
    "duration": 14,
    "start_time": "2022-03-20T20:56:43.831Z"
   },
   {
    "duration": 8,
    "start_time": "2022-03-20T20:56:43.846Z"
   },
   {
    "duration": 6,
    "start_time": "2022-03-20T20:56:43.855Z"
   },
   {
    "duration": 21,
    "start_time": "2022-03-20T20:56:43.863Z"
   },
   {
    "duration": 17,
    "start_time": "2022-03-20T20:56:43.885Z"
   },
   {
    "duration": 16,
    "start_time": "2022-03-20T20:56:43.903Z"
   },
   {
    "duration": 2540,
    "start_time": "2022-03-20T20:56:43.920Z"
   },
   {
    "duration": 30,
    "start_time": "2022-03-20T20:56:46.462Z"
   },
   {
    "duration": 7,
    "start_time": "2022-03-20T20:56:46.493Z"
   },
   {
    "duration": 8,
    "start_time": "2022-03-20T20:56:46.501Z"
   },
   {
    "duration": 5,
    "start_time": "2022-03-20T20:56:46.511Z"
   },
   {
    "duration": 9,
    "start_time": "2022-03-20T20:56:46.518Z"
   },
   {
    "duration": 7,
    "start_time": "2022-03-20T20:56:46.528Z"
   },
   {
    "duration": 5,
    "start_time": "2022-03-20T20:56:46.537Z"
   },
   {
    "duration": 3,
    "start_time": "2022-03-20T20:59:40.044Z"
   },
   {
    "duration": 176,
    "start_time": "2022-03-20T20:59:40.049Z"
   },
   {
    "duration": 25,
    "start_time": "2022-03-20T20:59:40.227Z"
   },
   {
    "duration": 132,
    "start_time": "2022-03-20T20:59:40.253Z"
   },
   {
    "duration": 20,
    "start_time": "2022-03-20T20:59:40.387Z"
   },
   {
    "duration": 85,
    "start_time": "2022-03-20T20:59:40.408Z"
   },
   {
    "duration": 19,
    "start_time": "2022-03-20T20:59:40.494Z"
   },
   {
    "duration": 21,
    "start_time": "2022-03-20T20:59:40.514Z"
   },
   {
    "duration": 9,
    "start_time": "2022-03-20T20:59:40.537Z"
   },
   {
    "duration": 39,
    "start_time": "2022-03-20T20:59:40.547Z"
   },
   {
    "duration": 9,
    "start_time": "2022-03-20T20:59:40.589Z"
   },
   {
    "duration": 16,
    "start_time": "2022-03-20T20:59:40.599Z"
   },
   {
    "duration": 4,
    "start_time": "2022-03-20T20:59:40.616Z"
   },
   {
    "duration": 77,
    "start_time": "2022-03-20T20:59:40.622Z"
   },
   {
    "duration": 5,
    "start_time": "2022-03-20T20:59:40.701Z"
   },
   {
    "duration": 147,
    "start_time": "2022-03-20T20:59:40.707Z"
   },
   {
    "duration": 4,
    "start_time": "2022-03-20T20:59:40.856Z"
   },
   {
    "duration": 34,
    "start_time": "2022-03-20T20:59:40.862Z"
   },
   {
    "duration": 47,
    "start_time": "2022-03-20T20:59:40.897Z"
   },
   {
    "duration": 3,
    "start_time": "2022-03-20T20:59:40.946Z"
   },
   {
    "duration": 10,
    "start_time": "2022-03-20T20:59:40.950Z"
   },
   {
    "duration": 14,
    "start_time": "2022-03-20T20:59:40.981Z"
   },
   {
    "duration": 22,
    "start_time": "2022-03-20T20:59:40.997Z"
   },
   {
    "duration": 3,
    "start_time": "2022-03-20T20:59:41.021Z"
   },
   {
    "duration": 18,
    "start_time": "2022-03-20T20:59:41.025Z"
   },
   {
    "duration": 17,
    "start_time": "2022-03-20T20:59:41.044Z"
   },
   {
    "duration": 33,
    "start_time": "2022-03-20T20:59:41.062Z"
   },
   {
    "duration": 3,
    "start_time": "2022-03-20T20:59:41.097Z"
   },
   {
    "duration": 8,
    "start_time": "2022-03-20T20:59:41.104Z"
   },
   {
    "duration": 9,
    "start_time": "2022-03-20T20:59:41.113Z"
   },
   {
    "duration": 8,
    "start_time": "2022-03-20T20:59:41.123Z"
   },
   {
    "duration": 6,
    "start_time": "2022-03-20T20:59:41.133Z"
   },
   {
    "duration": 3,
    "start_time": "2022-03-20T20:59:41.141Z"
   },
   {
    "duration": 36,
    "start_time": "2022-03-20T20:59:41.145Z"
   },
   {
    "duration": 28,
    "start_time": "2022-03-20T20:59:41.183Z"
   },
   {
    "duration": 7,
    "start_time": "2022-03-20T20:59:41.212Z"
   },
   {
    "duration": 19,
    "start_time": "2022-03-20T20:59:41.221Z"
   },
   {
    "duration": 5,
    "start_time": "2022-03-20T20:59:41.241Z"
   },
   {
    "duration": 5,
    "start_time": "2022-03-20T20:59:41.248Z"
   },
   {
    "duration": 30,
    "start_time": "2022-03-20T20:59:41.254Z"
   },
   {
    "duration": 4,
    "start_time": "2022-03-20T20:59:41.286Z"
   },
   {
    "duration": 94,
    "start_time": "2022-03-20T20:59:41.291Z"
   },
   {
    "duration": 14,
    "start_time": "2022-03-20T20:59:41.387Z"
   },
   {
    "duration": 8,
    "start_time": "2022-03-20T20:59:41.403Z"
   },
   {
    "duration": 7,
    "start_time": "2022-03-20T20:59:41.413Z"
   },
   {
    "duration": 7,
    "start_time": "2022-03-20T20:59:41.421Z"
   },
   {
    "duration": 18,
    "start_time": "2022-03-20T20:59:41.429Z"
   },
   {
    "duration": 43,
    "start_time": "2022-03-20T20:59:41.448Z"
   },
   {
    "duration": 2388,
    "start_time": "2022-03-20T20:59:41.493Z"
   },
   {
    "duration": 20,
    "start_time": "2022-03-20T20:59:43.883Z"
   },
   {
    "duration": 7,
    "start_time": "2022-03-20T20:59:43.904Z"
   },
   {
    "duration": 8,
    "start_time": "2022-03-20T20:59:43.913Z"
   },
   {
    "duration": 5,
    "start_time": "2022-03-20T20:59:43.922Z"
   },
   {
    "duration": 9,
    "start_time": "2022-03-20T20:59:43.929Z"
   },
   {
    "duration": 6,
    "start_time": "2022-03-20T20:59:43.939Z"
   },
   {
    "duration": 37,
    "start_time": "2022-03-20T20:59:43.946Z"
   },
   {
    "duration": 15,
    "start_time": "2022-03-20T21:01:24.828Z"
   },
   {
    "duration": 5,
    "start_time": "2022-03-20T21:01:50.588Z"
   },
   {
    "duration": 2,
    "start_time": "2022-03-20T21:10:32.541Z"
   },
   {
    "duration": 177,
    "start_time": "2022-03-20T21:10:32.547Z"
   },
   {
    "duration": 25,
    "start_time": "2022-03-20T21:10:32.726Z"
   },
   {
    "duration": 136,
    "start_time": "2022-03-20T21:10:32.752Z"
   },
   {
    "duration": 21,
    "start_time": "2022-03-20T21:10:32.890Z"
   },
   {
    "duration": 91,
    "start_time": "2022-03-20T21:10:32.914Z"
   },
   {
    "duration": 18,
    "start_time": "2022-03-20T21:10:33.007Z"
   },
   {
    "duration": 20,
    "start_time": "2022-03-20T21:10:33.027Z"
   },
   {
    "duration": 155,
    "start_time": "2022-03-20T21:10:33.048Z"
   },
   {
    "duration": 49,
    "start_time": "2022-03-20T21:10:33.205Z"
   },
   {
    "duration": 9,
    "start_time": "2022-03-20T21:10:33.255Z"
   },
   {
    "duration": 13,
    "start_time": "2022-03-20T21:10:33.266Z"
   },
   {
    "duration": 3,
    "start_time": "2022-03-20T21:10:33.281Z"
   },
   {
    "duration": 61,
    "start_time": "2022-03-20T21:10:33.286Z"
   },
   {
    "duration": 4,
    "start_time": "2022-03-20T21:10:33.350Z"
   },
   {
    "duration": 149,
    "start_time": "2022-03-20T21:10:33.356Z"
   },
   {
    "duration": 3,
    "start_time": "2022-03-20T21:10:33.507Z"
   },
   {
    "duration": 22,
    "start_time": "2022-03-20T21:10:33.512Z"
   },
   {
    "duration": 57,
    "start_time": "2022-03-20T21:10:33.536Z"
   },
   {
    "duration": 3,
    "start_time": "2022-03-20T21:10:33.595Z"
   },
   {
    "duration": 10,
    "start_time": "2022-03-20T21:10:33.599Z"
   },
   {
    "duration": 15,
    "start_time": "2022-03-20T21:10:33.611Z"
   },
   {
    "duration": 23,
    "start_time": "2022-03-20T21:10:33.627Z"
   },
   {
    "duration": 3,
    "start_time": "2022-03-20T21:10:33.652Z"
   },
   {
    "duration": 28,
    "start_time": "2022-03-20T21:10:33.656Z"
   },
   {
    "duration": 22,
    "start_time": "2022-03-20T21:10:33.685Z"
   },
   {
    "duration": 18,
    "start_time": "2022-03-20T21:10:33.708Z"
   },
   {
    "duration": 3,
    "start_time": "2022-03-20T21:10:33.728Z"
   },
   {
    "duration": 12,
    "start_time": "2022-03-20T21:10:33.733Z"
   },
   {
    "duration": 8,
    "start_time": "2022-03-20T21:10:33.747Z"
   },
   {
    "duration": 29,
    "start_time": "2022-03-20T21:10:33.757Z"
   },
   {
    "duration": 7,
    "start_time": "2022-03-20T21:10:33.788Z"
   },
   {
    "duration": 4,
    "start_time": "2022-03-20T21:10:33.796Z"
   },
   {
    "duration": 8,
    "start_time": "2022-03-20T21:10:33.801Z"
   },
   {
    "duration": 25,
    "start_time": "2022-03-20T21:10:33.811Z"
   },
   {
    "duration": 7,
    "start_time": "2022-03-20T21:10:33.838Z"
   },
   {
    "duration": 49,
    "start_time": "2022-03-20T21:10:33.847Z"
   },
   {
    "duration": 5,
    "start_time": "2022-03-20T21:10:33.898Z"
   },
   {
    "duration": 11,
    "start_time": "2022-03-20T21:10:33.904Z"
   },
   {
    "duration": 15,
    "start_time": "2022-03-20T21:10:33.917Z"
   },
   {
    "duration": 5,
    "start_time": "2022-03-20T21:10:33.933Z"
   },
   {
    "duration": 92,
    "start_time": "2022-03-20T21:10:33.941Z"
   },
   {
    "duration": 13,
    "start_time": "2022-03-20T21:10:34.035Z"
   },
   {
    "duration": 8,
    "start_time": "2022-03-20T21:10:34.049Z"
   },
   {
    "duration": 22,
    "start_time": "2022-03-20T21:10:34.059Z"
   },
   {
    "duration": 6,
    "start_time": "2022-03-20T21:10:34.082Z"
   },
   {
    "duration": 16,
    "start_time": "2022-03-20T21:10:34.089Z"
   },
   {
    "duration": 17,
    "start_time": "2022-03-20T21:10:34.106Z"
   },
   {
    "duration": 2438,
    "start_time": "2022-03-20T21:10:34.124Z"
   },
   {
    "duration": 26,
    "start_time": "2022-03-20T21:10:36.564Z"
   },
   {
    "duration": 5,
    "start_time": "2022-03-20T21:10:36.592Z"
   },
   {
    "duration": 9,
    "start_time": "2022-03-20T21:10:36.598Z"
   },
   {
    "duration": 6,
    "start_time": "2022-03-20T21:10:36.608Z"
   },
   {
    "duration": 17,
    "start_time": "2022-03-20T21:10:36.615Z"
   },
   {
    "duration": 4,
    "start_time": "2022-03-20T21:10:36.633Z"
   },
   {
    "duration": 9,
    "start_time": "2022-03-20T21:10:36.638Z"
   },
   {
    "duration": 34,
    "start_time": "2022-03-20T21:10:36.648Z"
   },
   {
    "duration": 3,
    "start_time": "2022-03-20T21:12:41.311Z"
   },
   {
    "duration": 143,
    "start_time": "2022-03-20T21:12:41.316Z"
   },
   {
    "duration": 42,
    "start_time": "2022-03-20T21:12:41.461Z"
   },
   {
    "duration": 125,
    "start_time": "2022-03-20T21:12:41.505Z"
   },
   {
    "duration": 22,
    "start_time": "2022-03-20T21:12:41.631Z"
   },
   {
    "duration": 95,
    "start_time": "2022-03-20T21:12:41.655Z"
   },
   {
    "duration": 29,
    "start_time": "2022-03-20T21:12:41.752Z"
   },
   {
    "duration": 21,
    "start_time": "2022-03-20T21:12:41.783Z"
   },
   {
    "duration": 10,
    "start_time": "2022-03-20T21:12:41.806Z"
   },
   {
    "duration": 49,
    "start_time": "2022-03-20T21:12:41.818Z"
   },
   {
    "duration": 11,
    "start_time": "2022-03-20T21:12:41.868Z"
   },
   {
    "duration": 12,
    "start_time": "2022-03-20T21:12:41.881Z"
   },
   {
    "duration": 4,
    "start_time": "2022-03-20T21:12:41.895Z"
   },
   {
    "duration": 82,
    "start_time": "2022-03-20T21:12:41.901Z"
   },
   {
    "duration": 4,
    "start_time": "2022-03-20T21:12:41.986Z"
   },
   {
    "duration": 154,
    "start_time": "2022-03-20T21:12:41.992Z"
   },
   {
    "duration": 4,
    "start_time": "2022-03-20T21:12:42.147Z"
   },
   {
    "duration": 36,
    "start_time": "2022-03-20T21:12:42.152Z"
   },
   {
    "duration": 46,
    "start_time": "2022-03-20T21:12:42.190Z"
   },
   {
    "duration": 3,
    "start_time": "2022-03-20T21:12:42.238Z"
   },
   {
    "duration": 14,
    "start_time": "2022-03-20T21:12:42.243Z"
   },
   {
    "duration": 29,
    "start_time": "2022-03-20T21:12:42.259Z"
   },
   {
    "duration": 24,
    "start_time": "2022-03-20T21:12:42.289Z"
   },
   {
    "duration": 3,
    "start_time": "2022-03-20T21:12:42.314Z"
   },
   {
    "duration": 9,
    "start_time": "2022-03-20T21:12:42.318Z"
   },
   {
    "duration": 17,
    "start_time": "2022-03-20T21:12:42.329Z"
   },
   {
    "duration": 46,
    "start_time": "2022-03-20T21:12:42.347Z"
   },
   {
    "duration": 3,
    "start_time": "2022-03-20T21:12:42.395Z"
   },
   {
    "duration": 17,
    "start_time": "2022-03-20T21:12:42.399Z"
   },
   {
    "duration": 8,
    "start_time": "2022-03-20T21:12:42.417Z"
   },
   {
    "duration": 7,
    "start_time": "2022-03-20T21:12:42.426Z"
   },
   {
    "duration": 6,
    "start_time": "2022-03-20T21:12:42.434Z"
   },
   {
    "duration": 3,
    "start_time": "2022-03-20T21:12:42.442Z"
   },
   {
    "duration": 8,
    "start_time": "2022-03-20T21:12:42.446Z"
   },
   {
    "duration": 46,
    "start_time": "2022-03-20T21:12:42.455Z"
   },
   {
    "duration": 6,
    "start_time": "2022-03-20T21:12:42.502Z"
   },
   {
    "duration": 15,
    "start_time": "2022-03-20T21:12:42.510Z"
   },
   {
    "duration": 5,
    "start_time": "2022-03-20T21:12:42.526Z"
   },
   {
    "duration": 10,
    "start_time": "2022-03-20T21:12:42.533Z"
   },
   {
    "duration": 9,
    "start_time": "2022-03-20T21:12:42.544Z"
   },
   {
    "duration": 4,
    "start_time": "2022-03-20T21:12:42.554Z"
   },
   {
    "duration": 82,
    "start_time": "2022-03-20T21:12:42.583Z"
   },
   {
    "duration": 23,
    "start_time": "2022-03-20T21:12:42.667Z"
   },
   {
    "duration": 6,
    "start_time": "2022-03-20T21:12:42.692Z"
   },
   {
    "duration": 7,
    "start_time": "2022-03-20T21:12:42.699Z"
   },
   {
    "duration": 7,
    "start_time": "2022-03-20T21:12:42.708Z"
   },
   {
    "duration": 19,
    "start_time": "2022-03-20T21:12:42.717Z"
   },
   {
    "duration": 17,
    "start_time": "2022-03-20T21:12:42.738Z"
   },
   {
    "duration": 2526,
    "start_time": "2022-03-20T21:12:42.781Z"
   },
   {
    "duration": 21,
    "start_time": "2022-03-20T21:12:45.308Z"
   },
   {
    "duration": 6,
    "start_time": "2022-03-20T21:12:45.331Z"
   },
   {
    "duration": 8,
    "start_time": "2022-03-20T21:12:45.339Z"
   },
   {
    "duration": 5,
    "start_time": "2022-03-20T21:12:45.349Z"
   },
   {
    "duration": 17,
    "start_time": "2022-03-20T21:12:45.381Z"
   },
   {
    "duration": 5,
    "start_time": "2022-03-20T21:12:45.400Z"
   },
   {
    "duration": 6,
    "start_time": "2022-03-20T21:12:45.407Z"
   },
   {
    "duration": 7,
    "start_time": "2022-03-20T21:12:45.415Z"
   },
   {
    "duration": 1780,
    "start_time": "2022-03-21T07:27:38.860Z"
   },
   {
    "duration": 302,
    "start_time": "2022-03-21T07:27:40.644Z"
   },
   {
    "duration": 49,
    "start_time": "2022-03-21T07:27:40.949Z"
   },
   {
    "duration": 203,
    "start_time": "2022-03-21T07:27:41.003Z"
   },
   {
    "duration": 31,
    "start_time": "2022-03-21T07:27:41.209Z"
   },
   {
    "duration": 149,
    "start_time": "2022-03-21T07:27:41.243Z"
   },
   {
    "duration": 30,
    "start_time": "2022-03-21T07:27:41.395Z"
   },
   {
    "duration": 21,
    "start_time": "2022-03-21T07:27:41.428Z"
   },
   {
    "duration": 44,
    "start_time": "2022-03-21T07:27:41.452Z"
   },
   {
    "duration": 33,
    "start_time": "2022-03-21T07:27:41.500Z"
   },
   {
    "duration": 17,
    "start_time": "2022-03-21T07:27:41.536Z"
   },
   {
    "duration": 50,
    "start_time": "2022-03-21T07:27:41.555Z"
   },
   {
    "duration": 11,
    "start_time": "2022-03-21T07:27:41.608Z"
   },
   {
    "duration": 127,
    "start_time": "2022-03-21T07:27:41.621Z"
   },
   {
    "duration": 8,
    "start_time": "2022-03-21T07:27:41.750Z"
   },
   {
    "duration": 482,
    "start_time": "2022-03-21T07:27:41.761Z"
   },
   {
    "duration": 8,
    "start_time": "2022-03-21T07:27:42.246Z"
   },
   {
    "duration": 57,
    "start_time": "2022-03-21T07:27:42.257Z"
   },
   {
    "duration": 92,
    "start_time": "2022-03-21T07:27:42.318Z"
   },
   {
    "duration": 5,
    "start_time": "2022-03-21T07:27:42.412Z"
   },
   {
    "duration": 16,
    "start_time": "2022-03-21T07:27:42.420Z"
   },
   {
    "duration": 48,
    "start_time": "2022-03-21T07:27:42.438Z"
   },
   {
    "duration": 39,
    "start_time": "2022-03-21T07:27:42.489Z"
   },
   {
    "duration": 4,
    "start_time": "2022-03-21T07:27:42.530Z"
   },
   {
    "duration": 21,
    "start_time": "2022-03-21T07:27:42.537Z"
   },
   {
    "duration": 44,
    "start_time": "2022-03-21T07:27:42.560Z"
   },
   {
    "duration": 33,
    "start_time": "2022-03-21T07:27:42.607Z"
   },
   {
    "duration": 6,
    "start_time": "2022-03-21T07:27:42.645Z"
   },
   {
    "duration": 39,
    "start_time": "2022-03-21T07:27:42.653Z"
   },
   {
    "duration": 14,
    "start_time": "2022-03-21T07:27:42.695Z"
   },
   {
    "duration": 12,
    "start_time": "2022-03-21T07:27:42.712Z"
   },
   {
    "duration": 11,
    "start_time": "2022-03-21T07:27:42.727Z"
   },
   {
    "duration": 44,
    "start_time": "2022-03-21T07:27:42.740Z"
   },
   {
    "duration": 16,
    "start_time": "2022-03-21T07:27:42.786Z"
   },
   {
    "duration": 46,
    "start_time": "2022-03-21T07:27:42.805Z"
   },
   {
    "duration": 32,
    "start_time": "2022-03-21T07:27:42.853Z"
   },
   {
    "duration": 30,
    "start_time": "2022-03-21T07:27:42.887Z"
   },
   {
    "duration": 8,
    "start_time": "2022-03-21T07:27:42.919Z"
   },
   {
    "duration": 27,
    "start_time": "2022-03-21T07:27:42.930Z"
   },
   {
    "duration": 31,
    "start_time": "2022-03-21T07:27:42.959Z"
   },
   {
    "duration": 7,
    "start_time": "2022-03-21T07:27:42.992Z"
   },
   {
    "duration": 181,
    "start_time": "2022-03-21T07:27:43.001Z"
   },
   {
    "duration": 25,
    "start_time": "2022-03-21T07:27:43.184Z"
   },
   {
    "duration": 9,
    "start_time": "2022-03-21T07:27:43.212Z"
   },
   {
    "duration": 12,
    "start_time": "2022-03-21T07:27:43.224Z"
   },
   {
    "duration": 49,
    "start_time": "2022-03-21T07:27:43.238Z"
   },
   {
    "duration": 31,
    "start_time": "2022-03-21T07:27:43.290Z"
   },
   {
    "duration": 28,
    "start_time": "2022-03-21T07:27:43.324Z"
   },
   {
    "duration": 5698,
    "start_time": "2022-03-21T07:27:43.355Z"
   },
   {
    "duration": 11,
    "start_time": "2022-03-21T07:27:49.056Z"
   },
   {
    "duration": 10,
    "start_time": "2022-03-21T07:27:49.085Z"
   },
   {
    "duration": 23,
    "start_time": "2022-03-21T07:27:49.098Z"
   },
   {
    "duration": 15,
    "start_time": "2022-03-21T07:27:49.123Z"
   },
   {
    "duration": 19,
    "start_time": "2022-03-21T07:27:49.140Z"
   },
   {
    "duration": 287,
    "start_time": "2022-03-21T07:27:49.162Z"
   },
   {
    "duration": 4,
    "start_time": "2022-03-21T07:29:23.865Z"
   },
   {
    "duration": 248,
    "start_time": "2022-03-21T07:29:23.872Z"
   },
   {
    "duration": 37,
    "start_time": "2022-03-21T07:29:24.122Z"
   },
   {
    "duration": 206,
    "start_time": "2022-03-21T07:29:24.161Z"
   },
   {
    "duration": 36,
    "start_time": "2022-03-21T07:29:24.371Z"
   },
   {
    "duration": 138,
    "start_time": "2022-03-21T07:29:24.410Z"
   },
   {
    "duration": 50,
    "start_time": "2022-03-21T07:29:24.551Z"
   },
   {
    "duration": 28,
    "start_time": "2022-03-21T07:29:24.603Z"
   },
   {
    "duration": 49,
    "start_time": "2022-03-21T07:29:24.634Z"
   },
   {
    "duration": 41,
    "start_time": "2022-03-21T07:29:24.687Z"
   },
   {
    "duration": 22,
    "start_time": "2022-03-21T07:29:24.730Z"
   },
   {
    "duration": 42,
    "start_time": "2022-03-21T07:29:24.756Z"
   },
   {
    "duration": 6,
    "start_time": "2022-03-21T07:29:24.803Z"
   },
   {
    "duration": 124,
    "start_time": "2022-03-21T07:29:24.811Z"
   },
   {
    "duration": 8,
    "start_time": "2022-03-21T07:29:24.938Z"
   },
   {
    "duration": 285,
    "start_time": "2022-03-21T07:29:24.949Z"
   },
   {
    "duration": 5,
    "start_time": "2022-03-21T07:29:25.237Z"
   },
   {
    "duration": 54,
    "start_time": "2022-03-21T07:29:25.246Z"
   },
   {
    "duration": 90,
    "start_time": "2022-03-21T07:29:25.302Z"
   },
   {
    "duration": 5,
    "start_time": "2022-03-21T07:29:25.395Z"
   },
   {
    "duration": 40,
    "start_time": "2022-03-21T07:29:25.403Z"
   },
   {
    "duration": 43,
    "start_time": "2022-03-21T07:29:25.445Z"
   },
   {
    "duration": 48,
    "start_time": "2022-03-21T07:29:25.492Z"
   },
   {
    "duration": 6,
    "start_time": "2022-03-21T07:29:25.543Z"
   },
   {
    "duration": 38,
    "start_time": "2022-03-21T07:29:25.552Z"
   },
   {
    "duration": 49,
    "start_time": "2022-03-21T07:29:25.593Z"
   },
   {
    "duration": 48,
    "start_time": "2022-03-21T07:29:25.645Z"
   },
   {
    "duration": 7,
    "start_time": "2022-03-21T07:29:25.696Z"
   },
   {
    "duration": 35,
    "start_time": "2022-03-21T07:29:25.705Z"
   },
   {
    "duration": 33,
    "start_time": "2022-03-21T07:29:25.742Z"
   },
   {
    "duration": 20,
    "start_time": "2022-03-21T07:29:25.777Z"
   },
   {
    "duration": 15,
    "start_time": "2022-03-21T07:29:25.799Z"
   },
   {
    "duration": 16,
    "start_time": "2022-03-21T07:29:25.816Z"
   },
   {
    "duration": 23,
    "start_time": "2022-03-21T07:29:25.835Z"
   },
   {
    "duration": 62,
    "start_time": "2022-03-21T07:29:25.860Z"
   },
   {
    "duration": 13,
    "start_time": "2022-03-21T07:29:25.924Z"
   },
   {
    "duration": 52,
    "start_time": "2022-03-21T07:29:25.944Z"
   },
   {
    "duration": 10,
    "start_time": "2022-03-21T07:29:25.999Z"
   },
   {
    "duration": 17,
    "start_time": "2022-03-21T07:29:26.011Z"
   },
   {
    "duration": 29,
    "start_time": "2022-03-21T07:29:26.031Z"
   },
   {
    "duration": 30,
    "start_time": "2022-03-21T07:29:26.062Z"
   },
   {
    "duration": 165,
    "start_time": "2022-03-21T07:29:26.094Z"
   },
   {
    "duration": 34,
    "start_time": "2022-03-21T07:29:26.261Z"
   },
   {
    "duration": 37,
    "start_time": "2022-03-21T07:29:26.297Z"
   },
   {
    "duration": 21,
    "start_time": "2022-03-21T07:29:26.337Z"
   },
   {
    "duration": 23,
    "start_time": "2022-03-21T07:29:26.360Z"
   },
   {
    "duration": 56,
    "start_time": "2022-03-21T07:29:26.386Z"
   },
   {
    "duration": 27,
    "start_time": "2022-03-21T07:29:26.445Z"
   },
   {
    "duration": 4830,
    "start_time": "2022-03-21T07:29:26.474Z"
   },
   {
    "duration": 11,
    "start_time": "2022-03-21T07:29:31.306Z"
   },
   {
    "duration": 19,
    "start_time": "2022-03-21T07:29:31.320Z"
   },
   {
    "duration": 23,
    "start_time": "2022-03-21T07:29:31.341Z"
   },
   {
    "duration": 17,
    "start_time": "2022-03-21T07:29:31.383Z"
   },
   {
    "duration": 17,
    "start_time": "2022-03-21T07:29:31.402Z"
   },
   {
    "duration": 133,
    "start_time": "2022-03-21T07:29:31.422Z"
   },
   {
    "duration": 8,
    "start_time": "2022-03-21T07:29:46.607Z"
   },
   {
    "duration": 33,
    "start_time": "2022-03-21T07:58:43.539Z"
   },
   {
    "duration": 32,
    "start_time": "2022-03-21T07:59:48.274Z"
   },
   {
    "duration": 27,
    "start_time": "2022-03-21T08:11:18.198Z"
   },
   {
    "duration": 29,
    "start_time": "2022-03-21T08:11:25.868Z"
   },
   {
    "duration": 47,
    "start_time": "2022-04-02T15:02:36.922Z"
   },
   {
    "duration": 1210,
    "start_time": "2022-04-02T15:02:41.229Z"
   },
   {
    "duration": 200,
    "start_time": "2022-04-02T15:02:42.442Z"
   },
   {
    "duration": 26,
    "start_time": "2022-04-02T15:02:42.644Z"
   },
   {
    "duration": 137,
    "start_time": "2022-04-02T15:02:42.672Z"
   },
   {
    "duration": 21,
    "start_time": "2022-04-02T15:02:42.812Z"
   },
   {
    "duration": 94,
    "start_time": "2022-04-02T15:02:42.834Z"
   },
   {
    "duration": 18,
    "start_time": "2022-04-02T15:02:42.930Z"
   },
   {
    "duration": 15,
    "start_time": "2022-04-02T15:02:42.949Z"
   },
   {
    "duration": 10,
    "start_time": "2022-04-02T15:02:42.966Z"
   },
   {
    "duration": 39,
    "start_time": "2022-04-02T15:02:42.977Z"
   },
   {
    "duration": 11,
    "start_time": "2022-04-02T15:02:43.018Z"
   },
   {
    "duration": 22,
    "start_time": "2022-04-02T15:02:43.031Z"
   },
   {
    "duration": 8,
    "start_time": "2022-04-02T15:02:43.055Z"
   },
   {
    "duration": 86,
    "start_time": "2022-04-02T15:02:43.066Z"
   },
   {
    "duration": 5,
    "start_time": "2022-04-02T15:02:43.153Z"
   },
   {
    "duration": 727,
    "start_time": "2022-04-02T15:02:43.160Z"
   },
   {
    "duration": 156,
    "start_time": "2022-04-02T15:02:43.889Z"
   },
   {
    "duration": 4,
    "start_time": "2022-04-02T15:02:44.046Z"
   },
   {
    "duration": 33,
    "start_time": "2022-04-02T15:02:44.051Z"
   },
   {
    "duration": 62,
    "start_time": "2022-04-02T15:02:44.085Z"
   },
   {
    "duration": 3,
    "start_time": "2022-04-02T15:02:44.149Z"
   },
   {
    "duration": 10,
    "start_time": "2022-04-02T15:02:44.153Z"
   },
   {
    "duration": 15,
    "start_time": "2022-04-02T15:02:44.165Z"
   },
   {
    "duration": 42,
    "start_time": "2022-04-02T15:02:44.182Z"
   },
   {
    "duration": 3,
    "start_time": "2022-04-02T15:02:44.225Z"
   },
   {
    "duration": 9,
    "start_time": "2022-04-02T15:02:44.229Z"
   },
   {
    "duration": 22,
    "start_time": "2022-04-02T15:02:44.239Z"
   },
   {
    "duration": 23,
    "start_time": "2022-04-02T15:02:44.262Z"
   },
   {
    "duration": 23,
    "start_time": "2022-04-02T15:02:44.286Z"
   },
   {
    "duration": 14,
    "start_time": "2022-04-02T15:02:44.311Z"
   },
   {
    "duration": 9,
    "start_time": "2022-04-02T15:02:44.326Z"
   },
   {
    "duration": 7,
    "start_time": "2022-04-02T15:02:44.337Z"
   },
   {
    "duration": 6,
    "start_time": "2022-04-02T15:02:44.346Z"
   },
   {
    "duration": 3,
    "start_time": "2022-04-02T15:02:44.354Z"
   },
   {
    "duration": 8,
    "start_time": "2022-04-02T15:02:44.359Z"
   },
   {
    "duration": 57,
    "start_time": "2022-04-02T15:02:44.368Z"
   },
   {
    "duration": 7,
    "start_time": "2022-04-02T15:02:44.427Z"
   },
   {
    "duration": 19,
    "start_time": "2022-04-02T15:02:44.436Z"
   },
   {
    "duration": 5,
    "start_time": "2022-04-02T15:02:44.457Z"
   },
   {
    "duration": 8,
    "start_time": "2022-04-02T15:02:44.464Z"
   },
   {
    "duration": 37,
    "start_time": "2022-04-02T15:02:44.475Z"
   },
   {
    "duration": 4,
    "start_time": "2022-04-02T15:02:44.514Z"
   },
   {
    "duration": 99,
    "start_time": "2022-04-02T15:02:44.520Z"
   },
   {
    "duration": 16,
    "start_time": "2022-04-02T15:02:44.621Z"
   },
   {
    "duration": 9,
    "start_time": "2022-04-02T15:02:44.639Z"
   },
   {
    "duration": 9,
    "start_time": "2022-04-02T15:02:44.649Z"
   },
   {
    "duration": 7,
    "start_time": "2022-04-02T15:02:44.660Z"
   },
   {
    "duration": 40,
    "start_time": "2022-04-02T15:02:44.668Z"
   },
   {
    "duration": 17,
    "start_time": "2022-04-02T15:02:44.710Z"
   },
   {
    "duration": 2806,
    "start_time": "2022-04-02T15:02:44.728Z"
   },
   {
    "duration": 7,
    "start_time": "2022-04-02T15:02:47.535Z"
   },
   {
    "duration": 8,
    "start_time": "2022-04-02T15:02:47.543Z"
   },
   {
    "duration": 9,
    "start_time": "2022-04-02T15:02:47.552Z"
   },
   {
    "duration": 7,
    "start_time": "2022-04-02T15:02:47.562Z"
   },
   {
    "duration": 7,
    "start_time": "2022-04-02T15:02:47.571Z"
   },
   {
    "duration": 33,
    "start_time": "2022-04-02T15:02:47.579Z"
   },
   {
    "duration": 71,
    "start_time": "2022-04-02T15:04:39.715Z"
   },
   {
    "duration": 251,
    "start_time": "2022-04-02T15:04:56.866Z"
   },
   {
    "duration": 243,
    "start_time": "2022-04-02T15:07:06.682Z"
   },
   {
    "duration": 214,
    "start_time": "2022-04-02T15:07:20.380Z"
   },
   {
    "duration": 1417,
    "start_time": "2022-04-02T15:14:20.072Z"
   },
   {
    "duration": 737,
    "start_time": "2022-04-02T15:14:49.730Z"
   },
   {
    "duration": 483,
    "start_time": "2022-04-02T15:16:07.173Z"
   },
   {
    "duration": 632,
    "start_time": "2022-04-02T15:17:40.374Z"
   },
   {
    "duration": 882,
    "start_time": "2022-04-02T15:18:13.749Z"
   },
   {
    "duration": 1504,
    "start_time": "2022-04-02T15:21:06.202Z"
   },
   {
    "duration": 228,
    "start_time": "2022-04-02T15:21:45.434Z"
   },
   {
    "duration": 246,
    "start_time": "2022-04-02T15:22:56.203Z"
   },
   {
    "duration": 216,
    "start_time": "2022-04-02T15:23:11.089Z"
   },
   {
    "duration": 234,
    "start_time": "2022-04-02T15:23:28.913Z"
   },
   {
    "duration": 176,
    "start_time": "2022-04-02T15:23:45.880Z"
   },
   {
    "duration": 209,
    "start_time": "2022-04-02T15:24:16.956Z"
   },
   {
    "duration": 21,
    "start_time": "2022-04-02T15:56:22.112Z"
   },
   {
    "duration": 21,
    "start_time": "2022-04-02T15:59:53.544Z"
   },
   {
    "duration": 3974,
    "start_time": "2022-04-02T16:05:08.606Z"
   },
   {
    "duration": 1092,
    "start_time": "2022-10-26T13:36:44.442Z"
   },
   {
    "duration": 299,
    "start_time": "2022-10-26T13:36:45.536Z"
   },
   {
    "duration": 25,
    "start_time": "2022-10-26T13:36:45.837Z"
   },
   {
    "duration": 321,
    "start_time": "2022-10-26T13:36:45.863Z"
   },
   {
    "duration": 17,
    "start_time": "2022-10-26T13:36:46.186Z"
   },
   {
    "duration": 367,
    "start_time": "2022-10-26T13:36:46.205Z"
   },
   {
    "duration": 16,
    "start_time": "2022-10-26T13:36:46.573Z"
   },
   {
    "duration": 102,
    "start_time": "2022-10-26T13:36:46.591Z"
   },
   {
    "duration": 9,
    "start_time": "2022-10-26T13:36:46.695Z"
   },
   {
    "duration": 93,
    "start_time": "2022-10-26T13:36:46.705Z"
   },
   {
    "duration": 17,
    "start_time": "2022-10-26T13:36:46.799Z"
   },
   {
    "duration": 30,
    "start_time": "2022-10-26T13:36:46.818Z"
   },
   {
    "duration": 37,
    "start_time": "2022-10-26T13:36:46.850Z"
   },
   {
    "duration": 68,
    "start_time": "2022-10-26T13:36:46.891Z"
   },
   {
    "duration": 4,
    "start_time": "2022-10-26T13:36:46.960Z"
   },
   {
    "duration": 211,
    "start_time": "2022-10-26T13:36:46.966Z"
   },
   {
    "duration": 190,
    "start_time": "2022-10-26T13:36:47.179Z"
   },
   {
    "duration": 5,
    "start_time": "2022-10-26T13:36:47.371Z"
   },
   {
    "duration": 37,
    "start_time": "2022-10-26T13:36:47.378Z"
   },
   {
    "duration": 63,
    "start_time": "2022-10-26T13:36:47.416Z"
   },
   {
    "duration": 4,
    "start_time": "2022-10-26T13:36:47.480Z"
   },
   {
    "duration": 38,
    "start_time": "2022-10-26T13:36:47.486Z"
   },
   {
    "duration": 37,
    "start_time": "2022-10-26T13:36:47.526Z"
   },
   {
    "duration": 24,
    "start_time": "2022-10-26T13:36:47.565Z"
   },
   {
    "duration": 4,
    "start_time": "2022-10-26T13:36:47.591Z"
   },
   {
    "duration": 18,
    "start_time": "2022-10-26T13:36:47.597Z"
   },
   {
    "duration": 21,
    "start_time": "2022-10-26T13:36:47.617Z"
   },
   {
    "duration": 22,
    "start_time": "2022-10-26T13:36:47.639Z"
   },
   {
    "duration": 4,
    "start_time": "2022-10-26T13:36:47.663Z"
   },
   {
    "duration": 18,
    "start_time": "2022-10-26T13:36:47.668Z"
   },
   {
    "duration": 10,
    "start_time": "2022-10-26T13:36:47.687Z"
   },
   {
    "duration": 8,
    "start_time": "2022-10-26T13:36:47.698Z"
   },
   {
    "duration": 20,
    "start_time": "2022-10-26T13:36:47.707Z"
   },
   {
    "duration": 49,
    "start_time": "2022-10-26T13:36:47.728Z"
   },
   {
    "duration": 12,
    "start_time": "2022-10-26T13:36:47.779Z"
   },
   {
    "duration": 30,
    "start_time": "2022-10-26T13:36:47.792Z"
   },
   {
    "duration": 7,
    "start_time": "2022-10-26T13:36:47.824Z"
   },
   {
    "duration": 19,
    "start_time": "2022-10-26T13:36:47.832Z"
   },
   {
    "duration": 5,
    "start_time": "2022-10-26T13:36:47.852Z"
   },
   {
    "duration": 7,
    "start_time": "2022-10-26T13:36:47.859Z"
   },
   {
    "duration": 24,
    "start_time": "2022-10-26T13:36:47.869Z"
   },
   {
    "duration": 4,
    "start_time": "2022-10-26T13:36:47.894Z"
   },
   {
    "duration": 107,
    "start_time": "2022-10-26T13:36:47.900Z"
   },
   {
    "duration": 19,
    "start_time": "2022-10-26T13:36:48.008Z"
   },
   {
    "duration": 32,
    "start_time": "2022-10-26T13:36:48.028Z"
   },
   {
    "duration": 21,
    "start_time": "2022-10-26T13:36:48.062Z"
   },
   {
    "duration": 8,
    "start_time": "2022-10-26T13:36:48.084Z"
   },
   {
    "duration": 21,
    "start_time": "2022-10-26T13:36:48.094Z"
   },
   {
    "duration": 20,
    "start_time": "2022-10-26T13:36:48.117Z"
   },
   {
    "duration": 3751,
    "start_time": "2022-10-26T13:36:48.139Z"
   },
   {
    "duration": 6,
    "start_time": "2022-10-26T13:36:51.892Z"
   },
   {
    "duration": 22,
    "start_time": "2022-10-26T13:36:51.900Z"
   },
   {
    "duration": 29,
    "start_time": "2022-10-26T13:36:51.924Z"
   },
   {
    "duration": 10,
    "start_time": "2022-10-26T13:36:51.955Z"
   },
   {
    "duration": 13,
    "start_time": "2022-10-26T13:36:51.967Z"
   },
   {
    "duration": 9,
    "start_time": "2022-10-26T13:36:51.982Z"
   },
   {
    "duration": 5,
    "start_time": "2022-10-26T13:42:53.798Z"
   },
   {
    "duration": 7,
    "start_time": "2022-10-26T13:43:09.307Z"
   },
   {
    "duration": 8,
    "start_time": "2022-10-26T13:43:50.065Z"
   },
   {
    "duration": 8,
    "start_time": "2022-10-26T13:46:07.180Z"
   },
   {
    "duration": 1009,
    "start_time": "2022-10-26T13:46:41.918Z"
   },
   {
    "duration": 221,
    "start_time": "2022-10-26T13:46:42.929Z"
   },
   {
    "duration": 21,
    "start_time": "2022-10-26T13:46:43.152Z"
   },
   {
    "duration": 145,
    "start_time": "2022-10-26T13:46:43.175Z"
   },
   {
    "duration": 18,
    "start_time": "2022-10-26T13:46:43.322Z"
   },
   {
    "duration": 87,
    "start_time": "2022-10-26T13:46:43.341Z"
   },
   {
    "duration": 16,
    "start_time": "2022-10-26T13:46:43.429Z"
   },
   {
    "duration": 20,
    "start_time": "2022-10-26T13:46:43.447Z"
   },
   {
    "duration": 10,
    "start_time": "2022-10-26T13:46:43.469Z"
   },
   {
    "duration": 38,
    "start_time": "2022-10-26T13:46:43.481Z"
   },
   {
    "duration": 12,
    "start_time": "2022-10-26T13:46:43.521Z"
   },
   {
    "duration": 18,
    "start_time": "2022-10-26T13:46:43.534Z"
   },
   {
    "duration": 10,
    "start_time": "2022-10-26T13:46:43.553Z"
   },
   {
    "duration": 85,
    "start_time": "2022-10-26T13:46:43.566Z"
   },
   {
    "duration": 4,
    "start_time": "2022-10-26T13:46:43.653Z"
   },
   {
    "duration": 226,
    "start_time": "2022-10-26T13:46:43.658Z"
   },
   {
    "duration": 195,
    "start_time": "2022-10-26T13:46:43.886Z"
   },
   {
    "duration": 5,
    "start_time": "2022-10-26T13:46:44.083Z"
   },
   {
    "duration": 34,
    "start_time": "2022-10-26T13:46:44.089Z"
   },
   {
    "duration": 52,
    "start_time": "2022-10-26T13:46:44.125Z"
   },
   {
    "duration": 3,
    "start_time": "2022-10-26T13:46:44.179Z"
   },
   {
    "duration": 16,
    "start_time": "2022-10-26T13:46:44.184Z"
   },
   {
    "duration": 27,
    "start_time": "2022-10-26T13:46:44.202Z"
   },
   {
    "duration": 25,
    "start_time": "2022-10-26T13:46:44.231Z"
   },
   {
    "duration": 3,
    "start_time": "2022-10-26T13:46:44.258Z"
   },
   {
    "duration": 14,
    "start_time": "2022-10-26T13:46:44.262Z"
   },
   {
    "duration": 23,
    "start_time": "2022-10-26T13:46:44.278Z"
   },
   {
    "duration": 40,
    "start_time": "2022-10-26T13:46:44.303Z"
   },
   {
    "duration": 4,
    "start_time": "2022-10-26T13:46:44.345Z"
   },
   {
    "duration": 18,
    "start_time": "2022-10-26T13:46:44.351Z"
   },
   {
    "duration": 11,
    "start_time": "2022-10-26T13:46:44.371Z"
   },
   {
    "duration": 21,
    "start_time": "2022-10-26T13:46:44.383Z"
   },
   {
    "duration": 26,
    "start_time": "2022-10-26T13:46:44.406Z"
   },
   {
    "duration": 10,
    "start_time": "2022-10-26T13:46:44.433Z"
   },
   {
    "duration": 16,
    "start_time": "2022-10-26T13:46:44.445Z"
   },
   {
    "duration": 29,
    "start_time": "2022-10-26T13:46:44.463Z"
   },
   {
    "duration": 6,
    "start_time": "2022-10-26T13:46:44.494Z"
   },
   {
    "duration": 24,
    "start_time": "2022-10-26T13:46:44.502Z"
   },
   {
    "duration": 6,
    "start_time": "2022-10-26T13:46:44.527Z"
   },
   {
    "duration": 18,
    "start_time": "2022-10-26T13:46:44.534Z"
   },
   {
    "duration": 25,
    "start_time": "2022-10-26T13:46:44.556Z"
   },
   {
    "duration": 35,
    "start_time": "2022-10-26T13:46:44.583Z"
   },
   {
    "duration": 111,
    "start_time": "2022-10-26T13:46:44.620Z"
   },
   {
    "duration": 17,
    "start_time": "2022-10-26T13:46:44.733Z"
   },
   {
    "duration": 7,
    "start_time": "2022-10-26T13:46:44.752Z"
   },
   {
    "duration": 13,
    "start_time": "2022-10-26T13:46:44.760Z"
   },
   {
    "duration": 8,
    "start_time": "2022-10-26T13:46:44.774Z"
   },
   {
    "duration": 26,
    "start_time": "2022-10-26T13:46:44.783Z"
   },
   {
    "duration": 21,
    "start_time": "2022-10-26T13:46:44.821Z"
   },
   {
    "duration": 3769,
    "start_time": "2022-10-26T13:46:44.843Z"
   },
   {
    "duration": 10,
    "start_time": "2022-10-26T13:46:48.614Z"
   },
   {
    "duration": 14,
    "start_time": "2022-10-26T13:46:48.626Z"
   },
   {
    "duration": 15,
    "start_time": "2022-10-26T13:46:48.642Z"
   },
   {
    "duration": 8,
    "start_time": "2022-10-26T13:46:48.659Z"
   },
   {
    "duration": 12,
    "start_time": "2022-10-26T13:46:48.670Z"
   },
   {
    "duration": 12,
    "start_time": "2022-10-26T13:46:48.684Z"
   }
  ],
  "kernelspec": {
   "display_name": "Python 3 (ipykernel)",
   "language": "python",
   "name": "python3"
  },
  "language_info": {
   "codemirror_mode": {
    "name": "ipython",
    "version": 3
   },
   "file_extension": ".py",
   "mimetype": "text/x-python",
   "name": "python",
   "nbconvert_exporter": "python",
   "pygments_lexer": "ipython3",
   "version": "3.9.13"
  },
  "toc": {
   "base_numbering": 1,
   "nav_menu": {},
   "number_sections": true,
   "sideBar": true,
   "skip_h1_title": true,
   "title_cell": "Содержание",
   "title_sidebar": "Содержание",
   "toc_cell": true,
   "toc_position": {
    "height": "calc(100% - 180px)",
    "left": "10px",
    "top": "150px",
    "width": "266.944px"
   },
   "toc_section_display": true,
   "toc_window_display": true
  }
 },
 "nbformat": 4,
 "nbformat_minor": 2
}
