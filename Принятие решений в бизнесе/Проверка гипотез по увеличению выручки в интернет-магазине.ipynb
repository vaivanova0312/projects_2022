{
 "cells": [
  {
   "cell_type": "markdown",
   "metadata": {
    "toc": true
   },
   "source": [
    "<h1>Содержание<span class=\"tocSkip\"></span></h1>\n",
    "<div class=\"toc\"><ul class=\"toc-item\"><li><span><a href=\"#Изучение-общей-информации\" data-toc-modified-id=\"Изучение-общей-информации-1\"><span class=\"toc-item-num\">1&nbsp;&nbsp;</span>Изучение общей информации</a></span><ul class=\"toc-item\"><li><span><a href=\"#Вывод\" data-toc-modified-id=\"Вывод-1.1\"><span class=\"toc-item-num\">1.1&nbsp;&nbsp;</span>Вывод</a></span></li></ul></li><li><span><a href=\"#Подготовка-данных\" data-toc-modified-id=\"Подготовка-данных-2\"><span class=\"toc-item-num\">2&nbsp;&nbsp;</span>Подготовка данных</a></span><ul class=\"toc-item\"><li><span><a href=\"#Стиль-заголовков\" data-toc-modified-id=\"Стиль-заголовков-2.1\"><span class=\"toc-item-num\">2.1&nbsp;&nbsp;</span>Стиль заголовков</a></span></li><li><span><a href=\"#Замена-типа-данных\" data-toc-modified-id=\"Замена-типа-данных-2.2\"><span class=\"toc-item-num\">2.2&nbsp;&nbsp;</span>Замена типа данных</a></span></li><li><span><a href=\"#Обработка-дубликатов\" data-toc-modified-id=\"Обработка-дубликатов-2.3\"><span class=\"toc-item-num\">2.3&nbsp;&nbsp;</span>Обработка дубликатов</a></span></li><li><span><a href=\"#Вывод\" data-toc-modified-id=\"Вывод-2.4\"><span class=\"toc-item-num\">2.4&nbsp;&nbsp;</span>Вывод</a></span></li></ul></li><li><span><a href=\"#Приоритизация-гипотез\" data-toc-modified-id=\"Приоритизация-гипотез-3\"><span class=\"toc-item-num\">3&nbsp;&nbsp;</span>Приоритизация гипотез</a></span><ul class=\"toc-item\"><li><span><a href=\"#Вывод\" data-toc-modified-id=\"Вывод-3.1\"><span class=\"toc-item-num\">3.1&nbsp;&nbsp;</span>Вывод</a></span></li></ul></li><li><span><a href=\"#Анализ-A/B-теста\" data-toc-modified-id=\"Анализ-A/B-теста-4\"><span class=\"toc-item-num\">4&nbsp;&nbsp;</span>Анализ A/B-теста</a></span><ul class=\"toc-item\"><li><span><a href=\"#Кумулятивная-выручка-по-группам\" data-toc-modified-id=\"Кумулятивная-выручка-по-группам-4.1\"><span class=\"toc-item-num\">4.1&nbsp;&nbsp;</span>Кумулятивная выручка по группам</a></span></li><li><span><a href=\"#Кумулятивный-средний-чек-по-группам\" data-toc-modified-id=\"Кумулятивный-средний-чек-по-группам-4.2\"><span class=\"toc-item-num\">4.2&nbsp;&nbsp;</span>Кумулятивный средний чек по группам</a></span></li><li><span><a href=\"#Относительное-изменение-кумулятивного-среднего-чека-группы-B-к-группе-A\" data-toc-modified-id=\"Относительное-изменение-кумулятивного-среднего-чека-группы-B-к-группе-A-4.3\"><span class=\"toc-item-num\">4.3&nbsp;&nbsp;</span>Относительное изменение кумулятивного среднего чека группы B к группе A</a></span></li><li><span><a href=\"#Кумулятивная-конверсия-по-группам\" data-toc-modified-id=\"Кумулятивная-конверсия-по-группам-4.4\"><span class=\"toc-item-num\">4.4&nbsp;&nbsp;</span>Кумулятивная конверсия по группам</a></span></li><li><span><a href=\"#Относительное-изменение-кумулятивной-конверсии-группы-B-к-группе-A\" data-toc-modified-id=\"Относительное-изменение-кумулятивной-конверсии-группы-B-к-группе-A-4.5\"><span class=\"toc-item-num\">4.5&nbsp;&nbsp;</span>Относительное изменение кумулятивной конверсии группы B к группе A</a></span></li><li><span><a href=\"#Количество-заказов-по-пользователям\" data-toc-modified-id=\"Количество-заказов-по-пользователям-4.6\"><span class=\"toc-item-num\">4.6&nbsp;&nbsp;</span>Количество заказов по пользователям</a></span></li><li><span><a href=\"#Стоимость-заказов\" data-toc-modified-id=\"Стоимость-заказов-4.7\"><span class=\"toc-item-num\">4.7&nbsp;&nbsp;</span>Стоимость заказов</a></span></li><li><span><a href=\"#Статистическая-значимость-различий-в-конверсии-и-среднем-чеке-между-группами-по-«сырым»-данным\" data-toc-modified-id=\"Статистическая-значимость-различий-в-конверсии-и-среднем-чеке-между-группами-по-«сырым»-данным-4.8\"><span class=\"toc-item-num\">4.8&nbsp;&nbsp;</span>Статистическая значимость различий в конверсии и среднем чеке между группами по «сырым» данным</a></span></li><li><span><a href=\"#Статистическая-значимость-различий-в-конверсии-и-среднем-чеке-между-группами-по-«очищенным»-данным\" data-toc-modified-id=\"Статистическая-значимость-различий-в-конверсии-и-среднем-чеке-между-группами-по-«очищенным»-данным-4.9\"><span class=\"toc-item-num\">4.9&nbsp;&nbsp;</span>Статистическая значимость различий в конверсии и среднем чеке между группами по «очищенным» данным</a></span></li><li><span><a href=\"#Вывод\" data-toc-modified-id=\"Вывод-4.10\"><span class=\"toc-item-num\">4.10&nbsp;&nbsp;</span>Вывод</a></span></li></ul></li><li><span><a href=\"#Общий-вывод\" data-toc-modified-id=\"Общий-вывод-5\"><span class=\"toc-item-num\">5&nbsp;&nbsp;</span>Общий вывод</a></span></li></ul></div>"
   ]
  },
  {
   "cell_type": "markdown",
   "metadata": {},
   "source": [
    "# Проверка гипотез по увеличению выручки в интернет-магазине"
   ]
  },
  {
   "cell_type": "markdown",
   "metadata": {},
   "source": [
    "Вместе с отделом маркетинга подготовлен список гипотез для увеличения выручки крупного интернет-магазина.\n",
    "\n",
    "\n",
    "**Цель исследования**\n",
    "\n",
    "- Приоритизация гипотез;\n",
    "- Запуск A/B-теста и проведение анализа результатов.\n",
    "\n",
    "**Ход исследования**\n",
    "\n",
    "Получим данные о гипотезах по увеличению выручки и результаты А/В-теста из файлов:\n",
    " -   /datasets/hypothesis.csv \n",
    " -   /datasets/orders.csv \n",
    " -   /datasets/visitors.csv\n",
    "\n",
    "О качестве данных ничего не известно. Поэтому перед подготовкой ответов понадобится обзор данных.\n",
    "Проверим данные на ошибки и оценим их влияние на исследование. Затем, на этапе предобработки исправим самые критичные ошибки данных.\n",
    " \n",
    "Таким образом, исследование пройдёт в четыре этапа:\n",
    "   1. Обзор данных.\n",
    "   2. Подготовка данных.\n",
    "   3. Приоритизация гипотез.\n",
    "   4. Анализ А/В-теста"
   ]
  },
  {
   "cell_type": "markdown",
   "metadata": {},
   "source": [
    "## Изучение общей информации"
   ]
  },
  {
   "cell_type": "markdown",
   "metadata": {},
   "source": [
    "Составим первое представление о посетителях, заказах и гипотезах."
   ]
  },
  {
   "cell_type": "code",
   "execution_count": 11,
   "metadata": {},
   "outputs": [],
   "source": [
    "import datetime as dt # импорт функций для работы со временем\n",
    "from scipy import stats as st # импорт функций для работы со статистикой\n",
    "import pandas as pd # импорт библиотеки pandas\n",
    "import matplotlib.pyplot as plt # импорт библиотеки matplotlib\n",
    "import numpy as np # импорт библиотеки numpy\n",
    "import seaborn as sns # импорт библиотеки seaborn"
   ]
  },
  {
   "cell_type": "markdown",
   "metadata": {},
   "source": [
    "Прочитаем 3 файла `visitors.csv`, `orders.csv`, `hypothesis.csv` из папки `/datasets`, сохраним их в переменных `visitors`, `orders`,`hypothesis` и получим общую информацию о таблицах:"
   ]
  },
  {
   "cell_type": "code",
   "execution_count": 12,
   "metadata": {},
   "outputs": [
    {
     "data": {
      "text/html": [
       "<div>\n",
       "<style scoped>\n",
       "    .dataframe tbody tr th:only-of-type {\n",
       "        vertical-align: middle;\n",
       "    }\n",
       "\n",
       "    .dataframe tbody tr th {\n",
       "        vertical-align: top;\n",
       "    }\n",
       "\n",
       "    .dataframe thead th {\n",
       "        text-align: right;\n",
       "    }\n",
       "</style>\n",
       "<table border=\"1\" class=\"dataframe\">\n",
       "  <thead>\n",
       "    <tr style=\"text-align: right;\">\n",
       "      <th></th>\n",
       "      <th>Hypothesis</th>\n",
       "      <th>Reach</th>\n",
       "      <th>Impact</th>\n",
       "      <th>Confidence</th>\n",
       "      <th>Efforts</th>\n",
       "    </tr>\n",
       "  </thead>\n",
       "  <tbody>\n",
       "    <tr>\n",
       "      <th>0</th>\n",
       "      <td>Добавить два новых канала привлечения трафика, что позволит привлекать на 30% больше пользователей</td>\n",
       "      <td>3</td>\n",
       "      <td>10</td>\n",
       "      <td>8</td>\n",
       "      <td>6</td>\n",
       "    </tr>\n",
       "    <tr>\n",
       "      <th>1</th>\n",
       "      <td>Запустить собственную службу доставки, что сократит срок доставки заказов</td>\n",
       "      <td>2</td>\n",
       "      <td>5</td>\n",
       "      <td>4</td>\n",
       "      <td>10</td>\n",
       "    </tr>\n",
       "    <tr>\n",
       "      <th>2</th>\n",
       "      <td>Добавить блоки рекомендаций товаров на сайт интернет магазина, чтобы повысить конверсию и средний чек заказа</td>\n",
       "      <td>8</td>\n",
       "      <td>3</td>\n",
       "      <td>7</td>\n",
       "      <td>3</td>\n",
       "    </tr>\n",
       "    <tr>\n",
       "      <th>3</th>\n",
       "      <td>Изменить структура категорий, что увеличит конверсию, т.к. пользователи быстрее найдут нужный товар</td>\n",
       "      <td>8</td>\n",
       "      <td>3</td>\n",
       "      <td>3</td>\n",
       "      <td>8</td>\n",
       "    </tr>\n",
       "    <tr>\n",
       "      <th>4</th>\n",
       "      <td>Изменить цвет фона главной страницы, чтобы увеличить вовлеченность пользователей</td>\n",
       "      <td>3</td>\n",
       "      <td>1</td>\n",
       "      <td>1</td>\n",
       "      <td>1</td>\n",
       "    </tr>\n",
       "    <tr>\n",
       "      <th>5</th>\n",
       "      <td>Добавить страницу отзывов клиентов о магазине, что позволит увеличить количество заказов</td>\n",
       "      <td>3</td>\n",
       "      <td>2</td>\n",
       "      <td>2</td>\n",
       "      <td>3</td>\n",
       "    </tr>\n",
       "    <tr>\n",
       "      <th>6</th>\n",
       "      <td>Показать на главной странице баннеры с актуальными акциями и распродажами, чтобы увеличить конверсию</td>\n",
       "      <td>5</td>\n",
       "      <td>3</td>\n",
       "      <td>8</td>\n",
       "      <td>3</td>\n",
       "    </tr>\n",
       "    <tr>\n",
       "      <th>7</th>\n",
       "      <td>Добавить форму подписки на все основные страницы, чтобы собрать базу клиентов для email-рассылок</td>\n",
       "      <td>10</td>\n",
       "      <td>7</td>\n",
       "      <td>8</td>\n",
       "      <td>5</td>\n",
       "    </tr>\n",
       "    <tr>\n",
       "      <th>8</th>\n",
       "      <td>Запустить акцию, дающую скидку на товар в день рождения</td>\n",
       "      <td>1</td>\n",
       "      <td>9</td>\n",
       "      <td>9</td>\n",
       "      <td>5</td>\n",
       "    </tr>\n",
       "  </tbody>\n",
       "</table>\n",
       "</div>"
      ],
      "text/plain": [
       "                                                                                                     Hypothesis  \\\n",
       "0            Добавить два новых канала привлечения трафика, что позволит привлекать на 30% больше пользователей   \n",
       "1                                     Запустить собственную службу доставки, что сократит срок доставки заказов   \n",
       "2  Добавить блоки рекомендаций товаров на сайт интернет магазина, чтобы повысить конверсию и средний чек заказа   \n",
       "3           Изменить структура категорий, что увеличит конверсию, т.к. пользователи быстрее найдут нужный товар   \n",
       "4                              Изменить цвет фона главной страницы, чтобы увеличить вовлеченность пользователей   \n",
       "5                      Добавить страницу отзывов клиентов о магазине, что позволит увеличить количество заказов   \n",
       "6          Показать на главной странице баннеры с актуальными акциями и распродажами, чтобы увеличить конверсию   \n",
       "7              Добавить форму подписки на все основные страницы, чтобы собрать базу клиентов для email-рассылок   \n",
       "8                                                       Запустить акцию, дающую скидку на товар в день рождения   \n",
       "\n",
       "   Reach  Impact  Confidence  Efforts  \n",
       "0      3      10           8        6  \n",
       "1      2       5           4       10  \n",
       "2      8       3           7        3  \n",
       "3      8       3           3        8  \n",
       "4      3       1           1        1  \n",
       "5      3       2           2        3  \n",
       "6      5       3           8        3  \n",
       "7     10       7           8        5  \n",
       "8      1       9           9        5  "
      ]
     },
     "metadata": {},
     "output_type": "display_data"
    }
   ],
   "source": [
    "hypothesis = pd.read_csv('https://code.s3.yandex.net/datasets/hypothesis.csv') # чтение файла с данными и сохранение в hypothesis\n",
    "pd.options.display.max_colwidth = 130 # устанавка максимальной ширины столбцов\n",
    "display(hypothesis) # получение таблицы hypothesis "
   ]
  },
  {
   "cell_type": "code",
   "execution_count": 13,
   "metadata": {},
   "outputs": [
    {
     "name": "stdout",
     "output_type": "stream",
     "text": [
      "<class 'pandas.core.frame.DataFrame'>\n",
      "RangeIndex: 9 entries, 0 to 8\n",
      "Data columns (total 5 columns):\n",
      " #   Column      Non-Null Count  Dtype \n",
      "---  ------      --------------  ----- \n",
      " 0   Hypothesis  9 non-null      object\n",
      " 1   Reach       9 non-null      int64 \n",
      " 2   Impact      9 non-null      int64 \n",
      " 3   Confidence  9 non-null      int64 \n",
      " 4   Efforts     9 non-null      int64 \n",
      "dtypes: int64(4), object(1)\n",
      "memory usage: 488.0+ bytes\n"
     ]
    }
   ],
   "source": [
    "hypothesis.info() # получение общей информации о данных в таблице hypothesis"
   ]
  },
  {
   "cell_type": "markdown",
   "metadata": {},
   "source": [
    "В таблице `hypothesis` (9 гипотез по увеличению выручки интернет-магазина) пять столбцов. \n",
    "\n",
    "Тип данных в четырех столбцах — `int64` и один столбец - `object`.\n",
    "\n",
    "Согласно документации к данным:\n",
    "* `Hypothesis` — краткое описание гипотезы;\n",
    "* `Reach` — охват пользователей по 10-балльной шкале;\n",
    "* `Impact` — влияние на пользователей по 10-балльной шкале;\n",
    "* `Confidence` — уверенность в гипотезе по 10-балльной шкале;\n",
    "* `Efforts` — затраты ресурсов на проверку гипотезы по 10-балльной шкале. Чем больше значение `Efforts`, тем дороже проверка гипотезы.\n",
    "\n",
    "В названии колонок прослеживается нарушение стиля: строчные буквы сочетаются с прописными."
   ]
  },
  {
   "cell_type": "code",
   "execution_count": 14,
   "metadata": {},
   "outputs": [
    {
     "data": {
      "text/html": [
       "<div>\n",
       "<style scoped>\n",
       "    .dataframe tbody tr th:only-of-type {\n",
       "        vertical-align: middle;\n",
       "    }\n",
       "\n",
       "    .dataframe tbody tr th {\n",
       "        vertical-align: top;\n",
       "    }\n",
       "\n",
       "    .dataframe thead th {\n",
       "        text-align: right;\n",
       "    }\n",
       "</style>\n",
       "<table border=\"1\" class=\"dataframe\">\n",
       "  <thead>\n",
       "    <tr style=\"text-align: right;\">\n",
       "      <th></th>\n",
       "      <th>transactionId</th>\n",
       "      <th>visitorId</th>\n",
       "      <th>date</th>\n",
       "      <th>revenue</th>\n",
       "      <th>group</th>\n",
       "    </tr>\n",
       "  </thead>\n",
       "  <tbody>\n",
       "    <tr>\n",
       "      <th>0</th>\n",
       "      <td>3667963787</td>\n",
       "      <td>3312258926</td>\n",
       "      <td>2019-08-15</td>\n",
       "      <td>1650</td>\n",
       "      <td>B</td>\n",
       "    </tr>\n",
       "    <tr>\n",
       "      <th>1</th>\n",
       "      <td>2804400009</td>\n",
       "      <td>3642806036</td>\n",
       "      <td>2019-08-15</td>\n",
       "      <td>730</td>\n",
       "      <td>B</td>\n",
       "    </tr>\n",
       "    <tr>\n",
       "      <th>2</th>\n",
       "      <td>2961555356</td>\n",
       "      <td>4069496402</td>\n",
       "      <td>2019-08-15</td>\n",
       "      <td>400</td>\n",
       "      <td>A</td>\n",
       "    </tr>\n",
       "    <tr>\n",
       "      <th>3</th>\n",
       "      <td>3797467345</td>\n",
       "      <td>1196621759</td>\n",
       "      <td>2019-08-15</td>\n",
       "      <td>9759</td>\n",
       "      <td>B</td>\n",
       "    </tr>\n",
       "    <tr>\n",
       "      <th>4</th>\n",
       "      <td>2282983706</td>\n",
       "      <td>2322279887</td>\n",
       "      <td>2019-08-15</td>\n",
       "      <td>2308</td>\n",
       "      <td>B</td>\n",
       "    </tr>\n",
       "    <tr>\n",
       "      <th>5</th>\n",
       "      <td>182168103</td>\n",
       "      <td>935554773</td>\n",
       "      <td>2019-08-15</td>\n",
       "      <td>2210</td>\n",
       "      <td>B</td>\n",
       "    </tr>\n",
       "    <tr>\n",
       "      <th>6</th>\n",
       "      <td>398296753</td>\n",
       "      <td>2900797465</td>\n",
       "      <td>2019-08-15</td>\n",
       "      <td>1860</td>\n",
       "      <td>B</td>\n",
       "    </tr>\n",
       "    <tr>\n",
       "      <th>7</th>\n",
       "      <td>2626614568</td>\n",
       "      <td>78758296</td>\n",
       "      <td>2019-08-15</td>\n",
       "      <td>1044</td>\n",
       "      <td>A</td>\n",
       "    </tr>\n",
       "    <tr>\n",
       "      <th>8</th>\n",
       "      <td>1576988021</td>\n",
       "      <td>295230930</td>\n",
       "      <td>2019-08-15</td>\n",
       "      <td>13710</td>\n",
       "      <td>A</td>\n",
       "    </tr>\n",
       "    <tr>\n",
       "      <th>9</th>\n",
       "      <td>1506739906</td>\n",
       "      <td>1882260405</td>\n",
       "      <td>2019-08-15</td>\n",
       "      <td>1855</td>\n",
       "      <td>B</td>\n",
       "    </tr>\n",
       "  </tbody>\n",
       "</table>\n",
       "</div>"
      ],
      "text/plain": [
       "   transactionId   visitorId        date  revenue group\n",
       "0     3667963787  3312258926  2019-08-15     1650     B\n",
       "1     2804400009  3642806036  2019-08-15      730     B\n",
       "2     2961555356  4069496402  2019-08-15      400     A\n",
       "3     3797467345  1196621759  2019-08-15     9759     B\n",
       "4     2282983706  2322279887  2019-08-15     2308     B\n",
       "5      182168103   935554773  2019-08-15     2210     B\n",
       "6      398296753  2900797465  2019-08-15     1860     B\n",
       "7     2626614568    78758296  2019-08-15     1044     A\n",
       "8     1576988021   295230930  2019-08-15    13710     A\n",
       "9     1506739906  1882260405  2019-08-15     1855     B"
      ]
     },
     "metadata": {},
     "output_type": "display_data"
    }
   ],
   "source": [
    "orders = pd.read_csv('https://code.s3.yandex.net/datasets/orders.csv') # чтение файла с данными и сохранение в orders\n",
    "display(orders.head(10)) # получение первых 10 строк таблицы orders "
   ]
  },
  {
   "cell_type": "code",
   "execution_count": 15,
   "metadata": {},
   "outputs": [
    {
     "name": "stdout",
     "output_type": "stream",
     "text": [
      "<class 'pandas.core.frame.DataFrame'>\n",
      "RangeIndex: 1197 entries, 0 to 1196\n",
      "Data columns (total 5 columns):\n",
      " #   Column         Non-Null Count  Dtype \n",
      "---  ------         --------------  ----- \n",
      " 0   transactionId  1197 non-null   int64 \n",
      " 1   visitorId      1197 non-null   int64 \n",
      " 2   date           1197 non-null   object\n",
      " 3   revenue        1197 non-null   int64 \n",
      " 4   group          1197 non-null   object\n",
      "dtypes: int64(3), object(2)\n",
      "memory usage: 46.9+ KB\n"
     ]
    }
   ],
   "source": [
    "orders.info() # получение общей информации о данных в таблице orders"
   ]
  },
  {
   "cell_type": "markdown",
   "metadata": {},
   "source": [
    "В таблице `orders` (информация о заказах) пять столбцов. \n",
    "\n",
    "Тип данных в трех столбцах — `int64` и двух столбцах - `object`.\n",
    "\n",
    "Согласно документации к данным:\n",
    "\n",
    "* `transactionId` — идентификатор заказа;\n",
    "* `visitorId` — идентификатор пользователя, совершившего заказ;\n",
    "* `date` — дата, когда был совершён заказ;\n",
    "* `revenue` — выручка заказа;\n",
    "* `group` — группа A/B-теста, в которую попал заказ.\n",
    "\n",
    "В названии колонок видны два нарушения стиля:\n",
    "\n",
    "1. Строчные буквы сочетаются с прописными.\n",
    "2. Отсутсвует разделение знаком нижнего подчеркивания в имени, состоящем нескольких слов.\n",
    "\n",
    "А в столбце `date` присутствует несоответствие типа данных."
   ]
  },
  {
   "cell_type": "code",
   "execution_count": 16,
   "metadata": {},
   "outputs": [
    {
     "data": {
      "text/html": [
       "<div>\n",
       "<style scoped>\n",
       "    .dataframe tbody tr th:only-of-type {\n",
       "        vertical-align: middle;\n",
       "    }\n",
       "\n",
       "    .dataframe tbody tr th {\n",
       "        vertical-align: top;\n",
       "    }\n",
       "\n",
       "    .dataframe thead th {\n",
       "        text-align: right;\n",
       "    }\n",
       "</style>\n",
       "<table border=\"1\" class=\"dataframe\">\n",
       "  <thead>\n",
       "    <tr style=\"text-align: right;\">\n",
       "      <th></th>\n",
       "      <th>date</th>\n",
       "      <th>group</th>\n",
       "      <th>visitors</th>\n",
       "    </tr>\n",
       "  </thead>\n",
       "  <tbody>\n",
       "    <tr>\n",
       "      <th>0</th>\n",
       "      <td>2019-08-01</td>\n",
       "      <td>A</td>\n",
       "      <td>719</td>\n",
       "    </tr>\n",
       "    <tr>\n",
       "      <th>1</th>\n",
       "      <td>2019-08-02</td>\n",
       "      <td>A</td>\n",
       "      <td>619</td>\n",
       "    </tr>\n",
       "    <tr>\n",
       "      <th>2</th>\n",
       "      <td>2019-08-03</td>\n",
       "      <td>A</td>\n",
       "      <td>507</td>\n",
       "    </tr>\n",
       "    <tr>\n",
       "      <th>3</th>\n",
       "      <td>2019-08-04</td>\n",
       "      <td>A</td>\n",
       "      <td>717</td>\n",
       "    </tr>\n",
       "    <tr>\n",
       "      <th>4</th>\n",
       "      <td>2019-08-05</td>\n",
       "      <td>A</td>\n",
       "      <td>756</td>\n",
       "    </tr>\n",
       "    <tr>\n",
       "      <th>5</th>\n",
       "      <td>2019-08-06</td>\n",
       "      <td>A</td>\n",
       "      <td>667</td>\n",
       "    </tr>\n",
       "    <tr>\n",
       "      <th>6</th>\n",
       "      <td>2019-08-07</td>\n",
       "      <td>A</td>\n",
       "      <td>644</td>\n",
       "    </tr>\n",
       "    <tr>\n",
       "      <th>7</th>\n",
       "      <td>2019-08-08</td>\n",
       "      <td>A</td>\n",
       "      <td>610</td>\n",
       "    </tr>\n",
       "    <tr>\n",
       "      <th>8</th>\n",
       "      <td>2019-08-09</td>\n",
       "      <td>A</td>\n",
       "      <td>617</td>\n",
       "    </tr>\n",
       "    <tr>\n",
       "      <th>9</th>\n",
       "      <td>2019-08-10</td>\n",
       "      <td>A</td>\n",
       "      <td>406</td>\n",
       "    </tr>\n",
       "  </tbody>\n",
       "</table>\n",
       "</div>"
      ],
      "text/plain": [
       "         date group  visitors\n",
       "0  2019-08-01     A       719\n",
       "1  2019-08-02     A       619\n",
       "2  2019-08-03     A       507\n",
       "3  2019-08-04     A       717\n",
       "4  2019-08-05     A       756\n",
       "5  2019-08-06     A       667\n",
       "6  2019-08-07     A       644\n",
       "7  2019-08-08     A       610\n",
       "8  2019-08-09     A       617\n",
       "9  2019-08-10     A       406"
      ]
     },
     "metadata": {},
     "output_type": "display_data"
    }
   ],
   "source": [
    "visitors = pd.read_csv('https://code.s3.yandex.net/datasets/visitors.csv') # чтение файла с данными и сохранение в visitors\n",
    "display(visitors.head(10)) # получение первых 10 строк таблицы visitors "
   ]
  },
  {
   "cell_type": "code",
   "execution_count": 17,
   "metadata": {},
   "outputs": [
    {
     "name": "stdout",
     "output_type": "stream",
     "text": [
      "<class 'pandas.core.frame.DataFrame'>\n",
      "RangeIndex: 62 entries, 0 to 61\n",
      "Data columns (total 3 columns):\n",
      " #   Column    Non-Null Count  Dtype \n",
      "---  ------    --------------  ----- \n",
      " 0   date      62 non-null     object\n",
      " 1   group     62 non-null     object\n",
      " 2   visitors  62 non-null     int64 \n",
      "dtypes: int64(1), object(2)\n",
      "memory usage: 1.6+ KB\n"
     ]
    }
   ],
   "source": [
    "visitors.info() # получение общей информации о данных в таблице visitors"
   ]
  },
  {
   "cell_type": "markdown",
   "metadata": {},
   "source": [
    "В таблице `visitors` (информация о пользователях) трех столбцов. \n",
    "\n",
    "Тип данных в двух столбцах — `object` и один столбец - `int64`.\n",
    "\n",
    "Согласно документации к данным:\n",
    "\n",
    "* `date` — дата;\n",
    "* `group` — группа A/B-теста;\n",
    "* `visitors` — количество пользователей в указанную дату в указанной группе A/B-теста\n",
    "\n",
    "В столбце `date` присутствует несоответствие типа данных."
   ]
  },
  {
   "cell_type": "markdown",
   "metadata": {},
   "source": [
    "### Вывод"
   ]
  },
  {
   "cell_type": "markdown",
   "metadata": {},
   "source": [
    "В каждой строке таблиц `visitors` и `orders` — данные об А/В-тесте. Часть данных рассказывают о самом тесте: дата; группа A/B-теста; количество пользователей в указанную дату в указанной группе A/B-теста; группа A/B-теста, в которую попал заказ. Другая часть данных описывает взаимодействие пользователя с интернет-магазином: идентификатор пользователя, совершившего заказ; идентификатор заказа; дата, когда был совершён заказ; выручка заказа.\n",
    "\n",
    "В каждой строке таблицы `hypothesis` информация о гипотезе: краткое описание гипотезы; охват пользователей по 10-балльной шкале; влияние на пользователей по 10-балльной шкале; уверенность в гипотезе по 10-балльной шкале; затраты ресурсов на проверку гипотезы по 10-балльной шкале.\n",
    "\n",
    "\n",
    "Предварительно можно утверждать, что, данных достаточно для решения задач. Но встречается несоответствие типа данных, а в названиях колонок — расхождения с хорошим стилем.\n",
    "\n",
    "Чтобы двигаться дальше, нужно устранить проблемы в данных."
   ]
  },
  {
   "cell_type": "markdown",
   "metadata": {},
   "source": [
    "## Подготовка данных"
   ]
  },
  {
   "cell_type": "markdown",
   "metadata": {},
   "source": [
    "### Стиль заголовков"
   ]
  },
  {
   "cell_type": "markdown",
   "metadata": {},
   "source": [
    "Выведем на экран названия столбцов таблиц `hypothesis` и `orders`:"
   ]
  },
  {
   "cell_type": "code",
   "execution_count": 18,
   "metadata": {},
   "outputs": [
    {
     "name": "stdout",
     "output_type": "stream",
     "text": [
      "Index(['Hypothesis', 'Reach', 'Impact', 'Confidence', 'Efforts'], dtype='object')\n"
     ]
    }
   ],
   "source": [
    "print(hypothesis.columns) # перечень названий столбцов таблицы hypothesis"
   ]
  },
  {
   "cell_type": "code",
   "execution_count": 19,
   "metadata": {},
   "outputs": [
    {
     "name": "stdout",
     "output_type": "stream",
     "text": [
      "Index(['transactionId', 'visitorId', 'date', 'revenue', 'group'], dtype='object')\n"
     ]
    }
   ],
   "source": [
    "print(orders.columns) # перечень названий столбцов таблицы orders"
   ]
  },
  {
   "cell_type": "markdown",
   "metadata": {},
   "source": [
    "Приведем названия в соответствие с хорошим стилем, все символы сделайте строчными и запишем \"змеиным регистром\".\n",
    "\n",
    "Для этого переименуем колонки так:\n",
    "* `'Hypothesis'` → `'hypothesis'`;\n",
    "* `'Reach'` → `'reach'`;\n",
    "* `'Impact'` → `'impact'`;\n",
    "* `'Confidence'` → `'confidence'`;\n",
    "* `'Efforts'` → `'efforts'`;\n",
    "* `'transactionId'` → `'transaction_id'`;\n",
    "* `'visitorId'` → `'visitor_id'`."
   ]
  },
  {
   "cell_type": "code",
   "execution_count": 20,
   "metadata": {},
   "outputs": [],
   "source": [
    "hypothesis.columns = hypothesis.columns.str.lower() # переименование столбцов в таблице hypothesis"
   ]
  },
  {
   "cell_type": "code",
   "execution_count": 21,
   "metadata": {},
   "outputs": [],
   "source": [
    "# переименование столбцов  в таблице orders\n",
    "orders = orders.rename(columns={'transactionId':'transaction_id', 'visitorId':'visitor_id'}) "
   ]
  },
  {
   "cell_type": "markdown",
   "metadata": {},
   "source": [
    "Проверим результат. Для этого ещё раз выведем на экран названия столбцов:"
   ]
  },
  {
   "cell_type": "code",
   "execution_count": 22,
   "metadata": {},
   "outputs": [
    {
     "name": "stdout",
     "output_type": "stream",
     "text": [
      "Index(['hypothesis', 'reach', 'impact', 'confidence', 'efforts'], dtype='object')\n"
     ]
    }
   ],
   "source": [
    "print(hypothesis.columns) # перечень названий столбцов таблицы hypothesis"
   ]
  },
  {
   "cell_type": "code",
   "execution_count": 23,
   "metadata": {},
   "outputs": [
    {
     "name": "stdout",
     "output_type": "stream",
     "text": [
      "Index(['transaction_id', 'visitor_id', 'date', 'revenue', 'group'], dtype='object')\n"
     ]
    }
   ],
   "source": [
    "print(orders.columns) # перечень названий столбцов таблицы orders"
   ]
  },
  {
   "cell_type": "markdown",
   "metadata": {},
   "source": [
    "### Замена типа данных"
   ]
  },
  {
   "cell_type": "markdown",
   "metadata": {},
   "source": [
    "В таблицах `visitors`, `orders` в столбцах `date` для дальнейшей возможности преобразования данных выполним замену типа данных на `datatime`. Для начала ещё раз убедимся в типе данных этих столбцов."
   ]
  },
  {
   "cell_type": "code",
   "execution_count": 24,
   "metadata": {},
   "outputs": [
    {
     "name": "stdout",
     "output_type": "stream",
     "text": [
      "object\n",
      "object\n"
     ]
    }
   ],
   "source": [
    "# получение типа данных столбцов\n",
    "print(visitors['date'].dtypes)\n",
    "print(orders['date'].dtypes)"
   ]
  },
  {
   "cell_type": "code",
   "execution_count": 25,
   "metadata": {},
   "outputs": [],
   "source": [
    "# преобразование типа данных с object на datetime64[ns]\n",
    "visitors['date'] = visitors['date'].map(lambda x:dt.datetime.strptime(x, '%Y-%m-%d'))\n",
    "orders['date'] = orders['date'].map(lambda x:dt.datetime.strptime(x, '%Y-%m-%d'))"
   ]
  },
  {
   "cell_type": "markdown",
   "metadata": {},
   "source": [
    "Убедимся, что тип данных изменился. Для этого выведем на экран повторно тип данных столбцов таблиц, в которых производили замену."
   ]
  },
  {
   "cell_type": "code",
   "execution_count": 26,
   "metadata": {},
   "outputs": [
    {
     "name": "stdout",
     "output_type": "stream",
     "text": [
      "datetime64[ns]\n",
      "datetime64[ns]\n"
     ]
    }
   ],
   "source": [
    "# получение типа данных столбцов\n",
    "print(visitors['date'].dtypes)\n",
    "print(orders['date'].dtypes)"
   ]
  },
  {
   "cell_type": "markdown",
   "metadata": {},
   "source": [
    "###  Обработка дубликатов"
   ]
  },
  {
   "cell_type": "markdown",
   "metadata": {},
   "source": [
    "Проверим данные на наличие пропусков."
   ]
  },
  {
   "cell_type": "code",
   "execution_count": 27,
   "metadata": {},
   "outputs": [
    {
     "data": {
      "text/plain": [
       "hypothesis    0.0\n",
       "reach         0.0\n",
       "impact        0.0\n",
       "confidence    0.0\n",
       "efforts       0.0\n",
       "dtype: float64"
      ]
     },
     "execution_count": 27,
     "metadata": {},
     "output_type": "execute_result"
    }
   ],
   "source": [
    "# подсчёт процента пропусков\n",
    "round((orders.isna().mean()*100),2)\n",
    "round((visitors.isna().mean()*100),2)\n",
    "round((hypothesis.isna().mean()*100),2)"
   ]
  },
  {
   "cell_type": "markdown",
   "metadata": {},
   "source": [
    "Теперь проверим данные на нахождение пользователей одновременно в обеих группах. \n",
    "\n",
    "Для этого создим датафрейм `orders_A` и `orders_В` с уникальными парами значений `'visitor_id'` и `'group'`, таблицы `orders`. Избавимся от дубликатов методом `drop_duplicates()`. Затем объединим датафреймы по столбцу `'visitor_id'`, если они есть в обоих датафреймах с помощью метода `merge()` и посчитаем количество таких строк с помощью функции `len()`."
   ]
  },
  {
   "cell_type": "code",
   "execution_count": 28,
   "metadata": {},
   "outputs": [
    {
     "name": "stdout",
     "output_type": "stream",
     "text": [
      "58\n"
     ]
    }
   ],
   "source": [
    "# создание датафреймов с уникальными пользователями в каждой группе\n",
    "orders_A = orders[orders['group'] == 'A'][['group', 'visitor_id']].drop_duplicates()\n",
    "orders_B = orders[orders['group'] == 'B'][['group', 'visitor_id']].drop_duplicates()\n",
    "# подсчёт уникальных пользователей, которые одновременно находятся в 2 группах\n",
    "print(len(orders_A.merge(orders_B, on='visitor_id')))"
   ]
  },
  {
   "cell_type": "markdown",
   "metadata": {},
   "source": [
    "Получилось 58 уникальных пользователей, которые одновременно находятся в группе А и В. Данных пользователей мы оставим для дальнейшего анализа. Но будем учитывать, что результаты такого теста нельзя интерпретировать однозначно. Также данный факт говорит о том, что была плохая организация теста.\n",
    "\n",
    "Проверим данные на наличие явных дубликатов."
   ]
  },
  {
   "cell_type": "code",
   "execution_count": 29,
   "metadata": {
    "scrolled": true
   },
   "outputs": [
    {
     "name": "stdout",
     "output_type": "stream",
     "text": [
      "0\n",
      "0\n",
      "0\n"
     ]
    }
   ],
   "source": [
    "# подсчёт явных дубликатов\n",
    "print(orders.duplicated().sum())\n",
    "print(visitors.duplicated().sum())\n",
    "print(hypothesis.duplicated().sum())"
   ]
  },
  {
   "cell_type": "markdown",
   "metadata": {},
   "source": [
    "В полученных трех таблицах пропуски и явные дубликаты отсутсвуют."
   ]
  },
  {
   "cell_type": "markdown",
   "metadata": {},
   "source": [
    "### Вывод"
   ]
  },
  {
   "cell_type": "markdown",
   "metadata": {},
   "source": [
    "1. Привели названия столбцов в соответствие с хорошим стилем, все символы сделали строчными и записали \"змеиным регистром\".\n",
    "\n",
    "\n",
    "2. Произвели замену типа данных с `object` на `datetime64[ns]`:\n",
    "* в таблице `visitors` в столбце `date`;\n",
    "* в таблице `orders` в столбце `date`.\n",
    "\n",
    "3. Убедились в отсутсвии пропусков и дубликатов.\n",
    "\n",
    "\n",
    "4. Выявила 58 уникальных пользователей, которые одновременно находятся в группе А и В."
   ]
  },
  {
   "cell_type": "markdown",
   "metadata": {},
   "source": [
    "## Приоритизация гипотез"
   ]
  },
  {
   "cell_type": "markdown",
   "metadata": {},
   "source": [
    "Посчитаем `ICE` для гипотез. \n",
    "Добавим полученные значения к существующей таблице `hypothesis`. Новый столбец назовем `ICE`. \n",
    "Выведем столбцы `'hypothesis'` и `'ICE'`, отсортированные по убыванию."
   ]
  },
  {
   "cell_type": "code",
   "execution_count": 30,
   "metadata": {},
   "outputs": [
    {
     "data": {
      "text/html": [
       "<div>\n",
       "<style scoped>\n",
       "    .dataframe tbody tr th:only-of-type {\n",
       "        vertical-align: middle;\n",
       "    }\n",
       "\n",
       "    .dataframe tbody tr th {\n",
       "        vertical-align: top;\n",
       "    }\n",
       "\n",
       "    .dataframe thead th {\n",
       "        text-align: right;\n",
       "    }\n",
       "</style>\n",
       "<table border=\"1\" class=\"dataframe\">\n",
       "  <thead>\n",
       "    <tr style=\"text-align: right;\">\n",
       "      <th></th>\n",
       "      <th>hypothesis</th>\n",
       "      <th>ICE</th>\n",
       "    </tr>\n",
       "  </thead>\n",
       "  <tbody>\n",
       "    <tr>\n",
       "      <th>8</th>\n",
       "      <td>Запустить акцию, дающую скидку на товар в день рождения</td>\n",
       "      <td>16.200000</td>\n",
       "    </tr>\n",
       "    <tr>\n",
       "      <th>0</th>\n",
       "      <td>Добавить два новых канала привлечения трафика, что позволит привлекать на 30% больше пользователей</td>\n",
       "      <td>13.333333</td>\n",
       "    </tr>\n",
       "    <tr>\n",
       "      <th>7</th>\n",
       "      <td>Добавить форму подписки на все основные страницы, чтобы собрать базу клиентов для email-рассылок</td>\n",
       "      <td>11.200000</td>\n",
       "    </tr>\n",
       "    <tr>\n",
       "      <th>6</th>\n",
       "      <td>Показать на главной странице баннеры с актуальными акциями и распродажами, чтобы увеличить конверсию</td>\n",
       "      <td>8.000000</td>\n",
       "    </tr>\n",
       "    <tr>\n",
       "      <th>2</th>\n",
       "      <td>Добавить блоки рекомендаций товаров на сайт интернет магазина, чтобы повысить конверсию и средний чек заказа</td>\n",
       "      <td>7.000000</td>\n",
       "    </tr>\n",
       "    <tr>\n",
       "      <th>1</th>\n",
       "      <td>Запустить собственную службу доставки, что сократит срок доставки заказов</td>\n",
       "      <td>2.000000</td>\n",
       "    </tr>\n",
       "    <tr>\n",
       "      <th>5</th>\n",
       "      <td>Добавить страницу отзывов клиентов о магазине, что позволит увеличить количество заказов</td>\n",
       "      <td>1.333333</td>\n",
       "    </tr>\n",
       "    <tr>\n",
       "      <th>3</th>\n",
       "      <td>Изменить структура категорий, что увеличит конверсию, т.к. пользователи быстрее найдут нужный товар</td>\n",
       "      <td>1.125000</td>\n",
       "    </tr>\n",
       "    <tr>\n",
       "      <th>4</th>\n",
       "      <td>Изменить цвет фона главной страницы, чтобы увеличить вовлеченность пользователей</td>\n",
       "      <td>1.000000</td>\n",
       "    </tr>\n",
       "  </tbody>\n",
       "</table>\n",
       "</div>"
      ],
      "text/plain": [
       "                                                                                                     hypothesis  \\\n",
       "8                                                       Запустить акцию, дающую скидку на товар в день рождения   \n",
       "0            Добавить два новых канала привлечения трафика, что позволит привлекать на 30% больше пользователей   \n",
       "7              Добавить форму подписки на все основные страницы, чтобы собрать базу клиентов для email-рассылок   \n",
       "6          Показать на главной странице баннеры с актуальными акциями и распродажами, чтобы увеличить конверсию   \n",
       "2  Добавить блоки рекомендаций товаров на сайт интернет магазина, чтобы повысить конверсию и средний чек заказа   \n",
       "1                                     Запустить собственную службу доставки, что сократит срок доставки заказов   \n",
       "5                      Добавить страницу отзывов клиентов о магазине, что позволит увеличить количество заказов   \n",
       "3           Изменить структура категорий, что увеличит конверсию, т.к. пользователи быстрее найдут нужный товар   \n",
       "4                              Изменить цвет фона главной страницы, чтобы увеличить вовлеченность пользователей   \n",
       "\n",
       "         ICE  \n",
       "8  16.200000  \n",
       "0  13.333333  \n",
       "7  11.200000  \n",
       "6   8.000000  \n",
       "2   7.000000  \n",
       "1   2.000000  \n",
       "5   1.333333  \n",
       "3   1.125000  \n",
       "4   1.000000  "
      ]
     },
     "metadata": {},
     "output_type": "display_data"
    }
   ],
   "source": [
    "# расчет ICE\n",
    "hypothesis['ICE'] = hypothesis['impact'] * hypothesis['confidence']/hypothesis['efforts'] \n",
    "# вывод гипотез и ICE с сортировкой по убыванию\n",
    "display(hypothesis[['hypothesis', 'ICE']].sort_values(by='ICE', ascending=False)) "
   ]
  },
  {
   "cell_type": "markdown",
   "metadata": {},
   "source": [
    "Наиболее перспективные гипотезы по `ICE`: 8, 0, 7, 6 и 2.\n",
    "\n",
    "Теперь посчитаем `RICE` для гипотез. \n",
    "Добаим полученные значения к существующей таблице `hypothesis`. Новый столбец назовите `RICE`.\n",
    "Выведем столбцы `'hypothesis'` и `'RICE'`, отсортированные по убыванию."
   ]
  },
  {
   "cell_type": "code",
   "execution_count": 31,
   "metadata": {},
   "outputs": [
    {
     "data": {
      "text/html": [
       "<div>\n",
       "<style scoped>\n",
       "    .dataframe tbody tr th:only-of-type {\n",
       "        vertical-align: middle;\n",
       "    }\n",
       "\n",
       "    .dataframe tbody tr th {\n",
       "        vertical-align: top;\n",
       "    }\n",
       "\n",
       "    .dataframe thead th {\n",
       "        text-align: right;\n",
       "    }\n",
       "</style>\n",
       "<table border=\"1\" class=\"dataframe\">\n",
       "  <thead>\n",
       "    <tr style=\"text-align: right;\">\n",
       "      <th></th>\n",
       "      <th>hypothesis</th>\n",
       "      <th>RICE</th>\n",
       "    </tr>\n",
       "  </thead>\n",
       "  <tbody>\n",
       "    <tr>\n",
       "      <th>7</th>\n",
       "      <td>Добавить форму подписки на все основные страницы, чтобы собрать базу клиентов для email-рассылок</td>\n",
       "      <td>112.0</td>\n",
       "    </tr>\n",
       "    <tr>\n",
       "      <th>2</th>\n",
       "      <td>Добавить блоки рекомендаций товаров на сайт интернет магазина, чтобы повысить конверсию и средний чек заказа</td>\n",
       "      <td>56.0</td>\n",
       "    </tr>\n",
       "    <tr>\n",
       "      <th>0</th>\n",
       "      <td>Добавить два новых канала привлечения трафика, что позволит привлекать на 30% больше пользователей</td>\n",
       "      <td>40.0</td>\n",
       "    </tr>\n",
       "    <tr>\n",
       "      <th>6</th>\n",
       "      <td>Показать на главной странице баннеры с актуальными акциями и распродажами, чтобы увеличить конверсию</td>\n",
       "      <td>40.0</td>\n",
       "    </tr>\n",
       "    <tr>\n",
       "      <th>8</th>\n",
       "      <td>Запустить акцию, дающую скидку на товар в день рождения</td>\n",
       "      <td>16.2</td>\n",
       "    </tr>\n",
       "    <tr>\n",
       "      <th>3</th>\n",
       "      <td>Изменить структура категорий, что увеличит конверсию, т.к. пользователи быстрее найдут нужный товар</td>\n",
       "      <td>9.0</td>\n",
       "    </tr>\n",
       "    <tr>\n",
       "      <th>1</th>\n",
       "      <td>Запустить собственную службу доставки, что сократит срок доставки заказов</td>\n",
       "      <td>4.0</td>\n",
       "    </tr>\n",
       "    <tr>\n",
       "      <th>5</th>\n",
       "      <td>Добавить страницу отзывов клиентов о магазине, что позволит увеличить количество заказов</td>\n",
       "      <td>4.0</td>\n",
       "    </tr>\n",
       "    <tr>\n",
       "      <th>4</th>\n",
       "      <td>Изменить цвет фона главной страницы, чтобы увеличить вовлеченность пользователей</td>\n",
       "      <td>3.0</td>\n",
       "    </tr>\n",
       "  </tbody>\n",
       "</table>\n",
       "</div>"
      ],
      "text/plain": [
       "                                                                                                     hypothesis  \\\n",
       "7              Добавить форму подписки на все основные страницы, чтобы собрать базу клиентов для email-рассылок   \n",
       "2  Добавить блоки рекомендаций товаров на сайт интернет магазина, чтобы повысить конверсию и средний чек заказа   \n",
       "0            Добавить два новых канала привлечения трафика, что позволит привлекать на 30% больше пользователей   \n",
       "6          Показать на главной странице баннеры с актуальными акциями и распродажами, чтобы увеличить конверсию   \n",
       "8                                                       Запустить акцию, дающую скидку на товар в день рождения   \n",
       "3           Изменить структура категорий, что увеличит конверсию, т.к. пользователи быстрее найдут нужный товар   \n",
       "1                                     Запустить собственную службу доставки, что сократит срок доставки заказов   \n",
       "5                      Добавить страницу отзывов клиентов о магазине, что позволит увеличить количество заказов   \n",
       "4                              Изменить цвет фона главной страницы, чтобы увеличить вовлеченность пользователей   \n",
       "\n",
       "    RICE  \n",
       "7  112.0  \n",
       "2   56.0  \n",
       "0   40.0  \n",
       "6   40.0  \n",
       "8   16.2  \n",
       "3    9.0  \n",
       "1    4.0  \n",
       "5    4.0  \n",
       "4    3.0  "
      ]
     },
     "metadata": {},
     "output_type": "display_data"
    }
   ],
   "source": [
    "# расчет RICE\n",
    "hypothesis['RICE'] = (hypothesis['reach'] * hypothesis['impact'] * hypothesis['confidence']\n",
    "                      /hypothesis['efforts']\n",
    "                     )\n",
    "# вывод гипотез и RICE с сортировкой по убыванию\n",
    "display(hypothesis[['hypothesis', 'RICE']].sort_values(by='RICE', ascending=False)) "
   ]
  },
  {
   "cell_type": "markdown",
   "metadata": {},
   "source": [
    "Наиболее перспективные гипотезы по `RICE`: 7, 2, 0, 6, 8. \n",
    "\n",
    "Изменилась приоритизация гипотез при применении `RICE` вместо `ICE`. Такая ситуация возникла в связи с высоким значением `reach` (охвата) у гипотез 7 и 2 и равен 10 и 8, в то время как у других гипотез он ниже. А у гипотезы 8 охват самый низкий и равен 1. Это хорошо видно, если вывести итоговую таблицу `hypothesis` на экран."
   ]
  },
  {
   "cell_type": "code",
   "execution_count": 32,
   "metadata": {
    "scrolled": false
   },
   "outputs": [
    {
     "data": {
      "text/html": [
       "<div>\n",
       "<style scoped>\n",
       "    .dataframe tbody tr th:only-of-type {\n",
       "        vertical-align: middle;\n",
       "    }\n",
       "\n",
       "    .dataframe tbody tr th {\n",
       "        vertical-align: top;\n",
       "    }\n",
       "\n",
       "    .dataframe thead th {\n",
       "        text-align: right;\n",
       "    }\n",
       "</style>\n",
       "<table border=\"1\" class=\"dataframe\">\n",
       "  <thead>\n",
       "    <tr style=\"text-align: right;\">\n",
       "      <th></th>\n",
       "      <th>hypothesis</th>\n",
       "      <th>reach</th>\n",
       "      <th>impact</th>\n",
       "      <th>confidence</th>\n",
       "      <th>efforts</th>\n",
       "      <th>ICE</th>\n",
       "      <th>RICE</th>\n",
       "    </tr>\n",
       "  </thead>\n",
       "  <tbody>\n",
       "    <tr>\n",
       "      <th>8</th>\n",
       "      <td>Запустить акцию, дающую скидку на товар в день рождения</td>\n",
       "      <td>1</td>\n",
       "      <td>9</td>\n",
       "      <td>9</td>\n",
       "      <td>5</td>\n",
       "      <td>16.200000</td>\n",
       "      <td>16.2</td>\n",
       "    </tr>\n",
       "    <tr>\n",
       "      <th>0</th>\n",
       "      <td>Добавить два новых канала привлечения трафика, что позволит привлекать на 30% больше пользователей</td>\n",
       "      <td>3</td>\n",
       "      <td>10</td>\n",
       "      <td>8</td>\n",
       "      <td>6</td>\n",
       "      <td>13.333333</td>\n",
       "      <td>40.0</td>\n",
       "    </tr>\n",
       "    <tr>\n",
       "      <th>7</th>\n",
       "      <td>Добавить форму подписки на все основные страницы, чтобы собрать базу клиентов для email-рассылок</td>\n",
       "      <td>10</td>\n",
       "      <td>7</td>\n",
       "      <td>8</td>\n",
       "      <td>5</td>\n",
       "      <td>11.200000</td>\n",
       "      <td>112.0</td>\n",
       "    </tr>\n",
       "    <tr>\n",
       "      <th>6</th>\n",
       "      <td>Показать на главной странице баннеры с актуальными акциями и распродажами, чтобы увеличить конверсию</td>\n",
       "      <td>5</td>\n",
       "      <td>3</td>\n",
       "      <td>8</td>\n",
       "      <td>3</td>\n",
       "      <td>8.000000</td>\n",
       "      <td>40.0</td>\n",
       "    </tr>\n",
       "    <tr>\n",
       "      <th>2</th>\n",
       "      <td>Добавить блоки рекомендаций товаров на сайт интернет магазина, чтобы повысить конверсию и средний чек заказа</td>\n",
       "      <td>8</td>\n",
       "      <td>3</td>\n",
       "      <td>7</td>\n",
       "      <td>3</td>\n",
       "      <td>7.000000</td>\n",
       "      <td>56.0</td>\n",
       "    </tr>\n",
       "    <tr>\n",
       "      <th>1</th>\n",
       "      <td>Запустить собственную службу доставки, что сократит срок доставки заказов</td>\n",
       "      <td>2</td>\n",
       "      <td>5</td>\n",
       "      <td>4</td>\n",
       "      <td>10</td>\n",
       "      <td>2.000000</td>\n",
       "      <td>4.0</td>\n",
       "    </tr>\n",
       "    <tr>\n",
       "      <th>5</th>\n",
       "      <td>Добавить страницу отзывов клиентов о магазине, что позволит увеличить количество заказов</td>\n",
       "      <td>3</td>\n",
       "      <td>2</td>\n",
       "      <td>2</td>\n",
       "      <td>3</td>\n",
       "      <td>1.333333</td>\n",
       "      <td>4.0</td>\n",
       "    </tr>\n",
       "    <tr>\n",
       "      <th>3</th>\n",
       "      <td>Изменить структура категорий, что увеличит конверсию, т.к. пользователи быстрее найдут нужный товар</td>\n",
       "      <td>8</td>\n",
       "      <td>3</td>\n",
       "      <td>3</td>\n",
       "      <td>8</td>\n",
       "      <td>1.125000</td>\n",
       "      <td>9.0</td>\n",
       "    </tr>\n",
       "    <tr>\n",
       "      <th>4</th>\n",
       "      <td>Изменить цвет фона главной страницы, чтобы увеличить вовлеченность пользователей</td>\n",
       "      <td>3</td>\n",
       "      <td>1</td>\n",
       "      <td>1</td>\n",
       "      <td>1</td>\n",
       "      <td>1.000000</td>\n",
       "      <td>3.0</td>\n",
       "    </tr>\n",
       "  </tbody>\n",
       "</table>\n",
       "</div>"
      ],
      "text/plain": [
       "                                                                                                     hypothesis  \\\n",
       "8                                                       Запустить акцию, дающую скидку на товар в день рождения   \n",
       "0            Добавить два новых канала привлечения трафика, что позволит привлекать на 30% больше пользователей   \n",
       "7              Добавить форму подписки на все основные страницы, чтобы собрать базу клиентов для email-рассылок   \n",
       "6          Показать на главной странице баннеры с актуальными акциями и распродажами, чтобы увеличить конверсию   \n",
       "2  Добавить блоки рекомендаций товаров на сайт интернет магазина, чтобы повысить конверсию и средний чек заказа   \n",
       "1                                     Запустить собственную службу доставки, что сократит срок доставки заказов   \n",
       "5                      Добавить страницу отзывов клиентов о магазине, что позволит увеличить количество заказов   \n",
       "3           Изменить структура категорий, что увеличит конверсию, т.к. пользователи быстрее найдут нужный товар   \n",
       "4                              Изменить цвет фона главной страницы, чтобы увеличить вовлеченность пользователей   \n",
       "\n",
       "   reach  impact  confidence  efforts        ICE   RICE  \n",
       "8      1       9           9        5  16.200000   16.2  \n",
       "0      3      10           8        6  13.333333   40.0  \n",
       "7     10       7           8        5  11.200000  112.0  \n",
       "6      5       3           8        3   8.000000   40.0  \n",
       "2      8       3           7        3   7.000000   56.0  \n",
       "1      2       5           4       10   2.000000    4.0  \n",
       "5      3       2           2        3   1.333333    4.0  \n",
       "3      8       3           3        8   1.125000    9.0  \n",
       "4      3       1           1        1   1.000000    3.0  "
      ]
     },
     "metadata": {},
     "output_type": "display_data"
    }
   ],
   "source": [
    "display(hypothesis.sort_values(by=['ICE','RICE'], ascending=False)) # вывод таблицы hypothesis"
   ]
  },
  {
   "cell_type": "markdown",
   "metadata": {},
   "source": [
    "### Вывод"
   ]
  },
  {
   "cell_type": "markdown",
   "metadata": {},
   "source": [
    "Пять наиболее перспективных гипотез в порядке убывания:\n",
    "* по `ICE`: 8, 0, 7, 6 и 2;\n",
    "* по `RICE`: 7, 2, 0, 6, 8."
   ]
  },
  {
   "cell_type": "markdown",
   "metadata": {},
   "source": [
    "## Анализ A/B-теста"
   ]
  },
  {
   "cell_type": "markdown",
   "metadata": {},
   "source": [
    "Проанализируем полученные результаты A/B-теста, которые хранятся в таблицах `visitors` и `orders`. "
   ]
  },
  {
   "cell_type": "markdown",
   "metadata": {},
   "source": [
    "### Кумулятивная выручка по группам"
   ]
  },
  {
   "cell_type": "markdown",
   "metadata": {},
   "source": [
    "Создим датафрейм `dates_groups` с уникальными парами значений `'date'` и `'group'`, таблицы `orders`. Избавимся от дубликатов методом `drop_duplicates()`."
   ]
  },
  {
   "cell_type": "code",
   "execution_count": 33,
   "metadata": {},
   "outputs": [
    {
     "data": {
      "text/html": [
       "<div>\n",
       "<style scoped>\n",
       "    .dataframe tbody tr th:only-of-type {\n",
       "        vertical-align: middle;\n",
       "    }\n",
       "\n",
       "    .dataframe tbody tr th {\n",
       "        vertical-align: top;\n",
       "    }\n",
       "\n",
       "    .dataframe thead th {\n",
       "        text-align: right;\n",
       "    }\n",
       "</style>\n",
       "<table border=\"1\" class=\"dataframe\">\n",
       "  <thead>\n",
       "    <tr style=\"text-align: right;\">\n",
       "      <th></th>\n",
       "      <th>date</th>\n",
       "      <th>group</th>\n",
       "    </tr>\n",
       "  </thead>\n",
       "  <tbody>\n",
       "    <tr>\n",
       "      <th>0</th>\n",
       "      <td>2019-08-15</td>\n",
       "      <td>B</td>\n",
       "    </tr>\n",
       "    <tr>\n",
       "      <th>2</th>\n",
       "      <td>2019-08-15</td>\n",
       "      <td>A</td>\n",
       "    </tr>\n",
       "    <tr>\n",
       "      <th>45</th>\n",
       "      <td>2019-08-16</td>\n",
       "      <td>A</td>\n",
       "    </tr>\n",
       "    <tr>\n",
       "      <th>47</th>\n",
       "      <td>2019-08-16</td>\n",
       "      <td>B</td>\n",
       "    </tr>\n",
       "    <tr>\n",
       "      <th>55</th>\n",
       "      <td>2019-08-01</td>\n",
       "      <td>A</td>\n",
       "    </tr>\n",
       "    <tr>\n",
       "      <th>66</th>\n",
       "      <td>2019-08-01</td>\n",
       "      <td>B</td>\n",
       "    </tr>\n",
       "    <tr>\n",
       "      <th>85</th>\n",
       "      <td>2019-08-22</td>\n",
       "      <td>B</td>\n",
       "    </tr>\n",
       "    <tr>\n",
       "      <th>86</th>\n",
       "      <td>2019-08-22</td>\n",
       "      <td>A</td>\n",
       "    </tr>\n",
       "    <tr>\n",
       "      <th>124</th>\n",
       "      <td>2019-08-17</td>\n",
       "      <td>A</td>\n",
       "    </tr>\n",
       "    <tr>\n",
       "      <th>125</th>\n",
       "      <td>2019-08-17</td>\n",
       "      <td>B</td>\n",
       "    </tr>\n",
       "  </tbody>\n",
       "</table>\n",
       "</div>"
      ],
      "text/plain": [
       "          date group\n",
       "0   2019-08-15     B\n",
       "2   2019-08-15     A\n",
       "45  2019-08-16     A\n",
       "47  2019-08-16     B\n",
       "55  2019-08-01     A\n",
       "66  2019-08-01     B\n",
       "85  2019-08-22     B\n",
       "86  2019-08-22     A\n",
       "124 2019-08-17     A\n",
       "125 2019-08-17     B"
      ]
     },
     "execution_count": 33,
     "metadata": {},
     "output_type": "execute_result"
    }
   ],
   "source": [
    "dates_groups = orders[['date','group']].drop_duplicates() # создание датафрейма\n",
    "dates_groups.head(10) # вывод первых 10 строк таблицы"
   ]
  },
  {
   "cell_type": "markdown",
   "metadata": {},
   "source": [
    "Объявим переменную `orders_aggregated`, содержащую:\n",
    "* дату;\n",
    "* группу A/B-теста;\n",
    "* число уникальных заказов в группе теста по указанную дату включительно;\n",
    "* число уникальных пользователей, совершивших хотя бы 1 заказ в группе теста по указанную дату включительно;\n",
    "* суммарную выручку заказов в группе теста по указанную дату включительно."
   ]
  },
  {
   "cell_type": "code",
   "execution_count": 34,
   "metadata": {},
   "outputs": [
    {
     "data": {
      "text/html": [
       "<div>\n",
       "<style scoped>\n",
       "    .dataframe tbody tr th:only-of-type {\n",
       "        vertical-align: middle;\n",
       "    }\n",
       "\n",
       "    .dataframe tbody tr th {\n",
       "        vertical-align: top;\n",
       "    }\n",
       "\n",
       "    .dataframe thead th {\n",
       "        text-align: right;\n",
       "    }\n",
       "</style>\n",
       "<table border=\"1\" class=\"dataframe\">\n",
       "  <thead>\n",
       "    <tr style=\"text-align: right;\">\n",
       "      <th></th>\n",
       "      <th>date</th>\n",
       "      <th>group</th>\n",
       "      <th>transaction_id</th>\n",
       "      <th>visitor_id</th>\n",
       "      <th>revenue</th>\n",
       "    </tr>\n",
       "  </thead>\n",
       "  <tbody>\n",
       "    <tr>\n",
       "      <th>55</th>\n",
       "      <td>2019-08-01</td>\n",
       "      <td>A</td>\n",
       "      <td>24</td>\n",
       "      <td>20</td>\n",
       "      <td>148579</td>\n",
       "    </tr>\n",
       "    <tr>\n",
       "      <th>66</th>\n",
       "      <td>2019-08-01</td>\n",
       "      <td>B</td>\n",
       "      <td>21</td>\n",
       "      <td>20</td>\n",
       "      <td>101217</td>\n",
       "    </tr>\n",
       "    <tr>\n",
       "      <th>175</th>\n",
       "      <td>2019-08-02</td>\n",
       "      <td>A</td>\n",
       "      <td>44</td>\n",
       "      <td>38</td>\n",
       "      <td>242401</td>\n",
       "    </tr>\n",
       "    <tr>\n",
       "      <th>173</th>\n",
       "      <td>2019-08-02</td>\n",
       "      <td>B</td>\n",
       "      <td>45</td>\n",
       "      <td>43</td>\n",
       "      <td>266748</td>\n",
       "    </tr>\n",
       "    <tr>\n",
       "      <th>291</th>\n",
       "      <td>2019-08-03</td>\n",
       "      <td>A</td>\n",
       "      <td>68</td>\n",
       "      <td>62</td>\n",
       "      <td>354874</td>\n",
       "    </tr>\n",
       "    <tr>\n",
       "      <th>...</th>\n",
       "      <td>...</td>\n",
       "      <td>...</td>\n",
       "      <td>...</td>\n",
       "      <td>...</td>\n",
       "      <td>...</td>\n",
       "    </tr>\n",
       "    <tr>\n",
       "      <th>496</th>\n",
       "      <td>2019-08-29</td>\n",
       "      <td>B</td>\n",
       "      <td>596</td>\n",
       "      <td>544</td>\n",
       "      <td>5559398</td>\n",
       "    </tr>\n",
       "    <tr>\n",
       "      <th>730</th>\n",
       "      <td>2019-08-30</td>\n",
       "      <td>A</td>\n",
       "      <td>545</td>\n",
       "      <td>493</td>\n",
       "      <td>4022970</td>\n",
       "    </tr>\n",
       "    <tr>\n",
       "      <th>690</th>\n",
       "      <td>2019-08-30</td>\n",
       "      <td>B</td>\n",
       "      <td>620</td>\n",
       "      <td>567</td>\n",
       "      <td>5774631</td>\n",
       "    </tr>\n",
       "    <tr>\n",
       "      <th>958</th>\n",
       "      <td>2019-08-31</td>\n",
       "      <td>A</td>\n",
       "      <td>557</td>\n",
       "      <td>503</td>\n",
       "      <td>4084803</td>\n",
       "    </tr>\n",
       "    <tr>\n",
       "      <th>930</th>\n",
       "      <td>2019-08-31</td>\n",
       "      <td>B</td>\n",
       "      <td>640</td>\n",
       "      <td>586</td>\n",
       "      <td>5907760</td>\n",
       "    </tr>\n",
       "  </tbody>\n",
       "</table>\n",
       "<p>62 rows × 5 columns</p>\n",
       "</div>"
      ],
      "text/plain": [
       "          date group  transaction_id  visitor_id  revenue\n",
       "55  2019-08-01     A              24          20   148579\n",
       "66  2019-08-01     B              21          20   101217\n",
       "175 2019-08-02     A              44          38   242401\n",
       "173 2019-08-02     B              45          43   266748\n",
       "291 2019-08-03     A              68          62   354874\n",
       "..         ...   ...             ...         ...      ...\n",
       "496 2019-08-29     B             596         544  5559398\n",
       "730 2019-08-30     A             545         493  4022970\n",
       "690 2019-08-30     B             620         567  5774631\n",
       "958 2019-08-31     A             557         503  4084803\n",
       "930 2019-08-31     B             640         586  5907760\n",
       "\n",
       "[62 rows x 5 columns]"
      ]
     },
     "metadata": {},
     "output_type": "display_data"
    }
   ],
   "source": [
    "# создание таблицы orders_aggregated с сортировкой по дате и группе\n",
    "orders_aggregated = (\n",
    "    dates_groups.apply(\n",
    "        lambda x: orders[\n",
    "            np.logical_and(\n",
    "                orders['date'] <= x['date'],\n",
    "                orders['group'] == x['group'])]\n",
    "        .agg(\n",
    "            {'date' : 'max', \n",
    "             'group' : 'max', \n",
    "             'transaction_id' : 'nunique', \n",
    "             'visitor_id' : 'nunique', \n",
    "             'revenue' : 'sum'}),\n",
    "        axis=1)\n",
    "    .sort_values(by=['date','group'])\n",
    ")\n",
    "display(orders_aggregated) # вывод таблицы orders_aggregated"
   ]
  },
  {
   "cell_type": "markdown",
   "metadata": {},
   "source": [
    "Объявим переменную `visitors_aggregated`, содержащую:\n",
    "* дату;\n",
    "* группу A/B-теста;\n",
    "* количество уникальных посетителей в группе теста по указанную дату включительно."
   ]
  },
  {
   "cell_type": "code",
   "execution_count": 35,
   "metadata": {},
   "outputs": [
    {
     "data": {
      "text/html": [
       "<div>\n",
       "<style scoped>\n",
       "    .dataframe tbody tr th:only-of-type {\n",
       "        vertical-align: middle;\n",
       "    }\n",
       "\n",
       "    .dataframe tbody tr th {\n",
       "        vertical-align: top;\n",
       "    }\n",
       "\n",
       "    .dataframe thead th {\n",
       "        text-align: right;\n",
       "    }\n",
       "</style>\n",
       "<table border=\"1\" class=\"dataframe\">\n",
       "  <thead>\n",
       "    <tr style=\"text-align: right;\">\n",
       "      <th></th>\n",
       "      <th>date</th>\n",
       "      <th>group</th>\n",
       "      <th>visitors</th>\n",
       "    </tr>\n",
       "  </thead>\n",
       "  <tbody>\n",
       "    <tr>\n",
       "      <th>55</th>\n",
       "      <td>2019-08-01</td>\n",
       "      <td>A</td>\n",
       "      <td>719</td>\n",
       "    </tr>\n",
       "    <tr>\n",
       "      <th>66</th>\n",
       "      <td>2019-08-01</td>\n",
       "      <td>B</td>\n",
       "      <td>713</td>\n",
       "    </tr>\n",
       "    <tr>\n",
       "      <th>175</th>\n",
       "      <td>2019-08-02</td>\n",
       "      <td>A</td>\n",
       "      <td>1338</td>\n",
       "    </tr>\n",
       "    <tr>\n",
       "      <th>173</th>\n",
       "      <td>2019-08-02</td>\n",
       "      <td>B</td>\n",
       "      <td>1294</td>\n",
       "    </tr>\n",
       "    <tr>\n",
       "      <th>291</th>\n",
       "      <td>2019-08-03</td>\n",
       "      <td>A</td>\n",
       "      <td>1845</td>\n",
       "    </tr>\n",
       "    <tr>\n",
       "      <th>...</th>\n",
       "      <td>...</td>\n",
       "      <td>...</td>\n",
       "      <td>...</td>\n",
       "    </tr>\n",
       "    <tr>\n",
       "      <th>496</th>\n",
       "      <td>2019-08-29</td>\n",
       "      <td>B</td>\n",
       "      <td>17708</td>\n",
       "    </tr>\n",
       "    <tr>\n",
       "      <th>730</th>\n",
       "      <td>2019-08-30</td>\n",
       "      <td>A</td>\n",
       "      <td>18037</td>\n",
       "    </tr>\n",
       "    <tr>\n",
       "      <th>690</th>\n",
       "      <td>2019-08-30</td>\n",
       "      <td>B</td>\n",
       "      <td>18198</td>\n",
       "    </tr>\n",
       "    <tr>\n",
       "      <th>958</th>\n",
       "      <td>2019-08-31</td>\n",
       "      <td>A</td>\n",
       "      <td>18736</td>\n",
       "    </tr>\n",
       "    <tr>\n",
       "      <th>930</th>\n",
       "      <td>2019-08-31</td>\n",
       "      <td>B</td>\n",
       "      <td>18916</td>\n",
       "    </tr>\n",
       "  </tbody>\n",
       "</table>\n",
       "<p>62 rows × 3 columns</p>\n",
       "</div>"
      ],
      "text/plain": [
       "          date group  visitors\n",
       "55  2019-08-01     A       719\n",
       "66  2019-08-01     B       713\n",
       "175 2019-08-02     A      1338\n",
       "173 2019-08-02     B      1294\n",
       "291 2019-08-03     A      1845\n",
       "..         ...   ...       ...\n",
       "496 2019-08-29     B     17708\n",
       "730 2019-08-30     A     18037\n",
       "690 2019-08-30     B     18198\n",
       "958 2019-08-31     A     18736\n",
       "930 2019-08-31     B     18916\n",
       "\n",
       "[62 rows x 3 columns]"
      ]
     },
     "metadata": {},
     "output_type": "display_data"
    }
   ],
   "source": [
    "# создание таблицы visitors_aggregated с сортировкой по дате и группе\n",
    "visitors_aggregated = (\n",
    "    dates_groups.apply(\n",
    "        lambda x: visitors[\n",
    "            np.logical_and(\n",
    "                visitors['date'] <= x['date'],\n",
    "                visitors['group'] == x['group'])]\n",
    "        .agg(\n",
    "            {'date' : 'max', \n",
    "             'group' : 'max', \n",
    "             'visitors' : 'sum'}),\n",
    "        axis=1)\n",
    "    .sort_values(by=['date','group'])\n",
    ")\n",
    "display(visitors_aggregated) # вывод таблицы visitors_aggregated"
   ]
  },
  {
   "cell_type": "markdown",
   "metadata": {},
   "source": [
    "Определим переменную `cumulative_data`, объединив `orders_aggregated` и `visitors_aggregated` по колонкам `'date'`, `'group'` методом `merge()`."
   ]
  },
  {
   "cell_type": "code",
   "execution_count": 36,
   "metadata": {},
   "outputs": [
    {
     "data": {
      "text/html": [
       "<div>\n",
       "<style scoped>\n",
       "    .dataframe tbody tr th:only-of-type {\n",
       "        vertical-align: middle;\n",
       "    }\n",
       "\n",
       "    .dataframe tbody tr th {\n",
       "        vertical-align: top;\n",
       "    }\n",
       "\n",
       "    .dataframe thead th {\n",
       "        text-align: right;\n",
       "    }\n",
       "</style>\n",
       "<table border=\"1\" class=\"dataframe\">\n",
       "  <thead>\n",
       "    <tr style=\"text-align: right;\">\n",
       "      <th></th>\n",
       "      <th>date</th>\n",
       "      <th>group</th>\n",
       "      <th>orders</th>\n",
       "      <th>buyers</th>\n",
       "      <th>revenue</th>\n",
       "      <th>visitors</th>\n",
       "    </tr>\n",
       "  </thead>\n",
       "  <tbody>\n",
       "    <tr>\n",
       "      <th>0</th>\n",
       "      <td>2019-08-01</td>\n",
       "      <td>A</td>\n",
       "      <td>24</td>\n",
       "      <td>20</td>\n",
       "      <td>148579</td>\n",
       "      <td>719</td>\n",
       "    </tr>\n",
       "    <tr>\n",
       "      <th>1</th>\n",
       "      <td>2019-08-01</td>\n",
       "      <td>B</td>\n",
       "      <td>21</td>\n",
       "      <td>20</td>\n",
       "      <td>101217</td>\n",
       "      <td>713</td>\n",
       "    </tr>\n",
       "    <tr>\n",
       "      <th>2</th>\n",
       "      <td>2019-08-02</td>\n",
       "      <td>A</td>\n",
       "      <td>44</td>\n",
       "      <td>38</td>\n",
       "      <td>242401</td>\n",
       "      <td>1338</td>\n",
       "    </tr>\n",
       "    <tr>\n",
       "      <th>3</th>\n",
       "      <td>2019-08-02</td>\n",
       "      <td>B</td>\n",
       "      <td>45</td>\n",
       "      <td>43</td>\n",
       "      <td>266748</td>\n",
       "      <td>1294</td>\n",
       "    </tr>\n",
       "    <tr>\n",
       "      <th>4</th>\n",
       "      <td>2019-08-03</td>\n",
       "      <td>A</td>\n",
       "      <td>68</td>\n",
       "      <td>62</td>\n",
       "      <td>354874</td>\n",
       "      <td>1845</td>\n",
       "    </tr>\n",
       "    <tr>\n",
       "      <th>...</th>\n",
       "      <td>...</td>\n",
       "      <td>...</td>\n",
       "      <td>...</td>\n",
       "      <td>...</td>\n",
       "      <td>...</td>\n",
       "      <td>...</td>\n",
       "    </tr>\n",
       "    <tr>\n",
       "      <th>57</th>\n",
       "      <td>2019-08-29</td>\n",
       "      <td>B</td>\n",
       "      <td>596</td>\n",
       "      <td>544</td>\n",
       "      <td>5559398</td>\n",
       "      <td>17708</td>\n",
       "    </tr>\n",
       "    <tr>\n",
       "      <th>58</th>\n",
       "      <td>2019-08-30</td>\n",
       "      <td>A</td>\n",
       "      <td>545</td>\n",
       "      <td>493</td>\n",
       "      <td>4022970</td>\n",
       "      <td>18037</td>\n",
       "    </tr>\n",
       "    <tr>\n",
       "      <th>59</th>\n",
       "      <td>2019-08-30</td>\n",
       "      <td>B</td>\n",
       "      <td>620</td>\n",
       "      <td>567</td>\n",
       "      <td>5774631</td>\n",
       "      <td>18198</td>\n",
       "    </tr>\n",
       "    <tr>\n",
       "      <th>60</th>\n",
       "      <td>2019-08-31</td>\n",
       "      <td>A</td>\n",
       "      <td>557</td>\n",
       "      <td>503</td>\n",
       "      <td>4084803</td>\n",
       "      <td>18736</td>\n",
       "    </tr>\n",
       "    <tr>\n",
       "      <th>61</th>\n",
       "      <td>2019-08-31</td>\n",
       "      <td>B</td>\n",
       "      <td>640</td>\n",
       "      <td>586</td>\n",
       "      <td>5907760</td>\n",
       "      <td>18916</td>\n",
       "    </tr>\n",
       "  </tbody>\n",
       "</table>\n",
       "<p>62 rows × 6 columns</p>\n",
       "</div>"
      ],
      "text/plain": [
       "         date group  orders  buyers  revenue  visitors\n",
       "0  2019-08-01     A      24      20   148579       719\n",
       "1  2019-08-01     B      21      20   101217       713\n",
       "2  2019-08-02     A      44      38   242401      1338\n",
       "3  2019-08-02     B      45      43   266748      1294\n",
       "4  2019-08-03     A      68      62   354874      1845\n",
       "..        ...   ...     ...     ...      ...       ...\n",
       "57 2019-08-29     B     596     544  5559398     17708\n",
       "58 2019-08-30     A     545     493  4022970     18037\n",
       "59 2019-08-30     B     620     567  5774631     18198\n",
       "60 2019-08-31     A     557     503  4084803     18736\n",
       "61 2019-08-31     B     640     586  5907760     18916\n",
       "\n",
       "[62 rows x 6 columns]"
      ]
     },
     "metadata": {},
     "output_type": "display_data"
    }
   ],
   "source": [
    "# объединение таблиц \n",
    "cumulative_data = (orders_aggregated.merge(visitors_aggregated, \n",
    "                                         left_on=['date', 'group'], \n",
    "                                         right_on=['date', 'group'])\n",
    "                  )\n",
    "# переименование столбцов таблицы cumulative_data\n",
    "cumulative_data.columns = ['date', 'group', 'orders', 'buyers', 'revenue', 'visitors'] \n",
    "# вывод таблицы cumulative_data\n",
    "display(cumulative_data)                   "
   ]
  },
  {
   "cell_type": "markdown",
   "metadata": {},
   "source": [
    "Объявим переменные `cumulative_revenue_A` и `cumulative_revenue_B`, в которых сохраним данные о датах, выручке и числе заказов в группах A и B."
   ]
  },
  {
   "cell_type": "code",
   "execution_count": 37,
   "metadata": {},
   "outputs": [],
   "source": [
    "# датафрейм с кумулятивным количеством заказов и кумулятивной выручкой по дням в группе А\n",
    "cumulative_revenue_A = cumulative_data[cumulative_data['group']=='A'][['date','revenue', 'orders']]\n",
    "# датафрейм с кумулятивным количеством заказов и кумулятивной выручкой по дням в группе B\n",
    "cumulative_revenue_B = cumulative_data[cumulative_data['group']=='B'][['date','revenue', 'orders']]"
   ]
  },
  {
   "cell_type": "markdown",
   "metadata": {},
   "source": [
    "Построим графики кумулятивной выручки по дням по группам."
   ]
  },
  {
   "cell_type": "code",
   "execution_count": 38,
   "metadata": {},
   "outputs": [
    {
     "data": {
      "image/png": "[encoded data removed]",
      "text/plain": [
       "<Figure size 1500x700 with 1 Axes>"
      ]
     },
     "metadata": {},
     "output_type": "display_data"
    }
   ],
   "source": [
    "plt.figure(figsize=(15, 7))\n",
    "# Строим график выручки группы А\n",
    "plt.plot(cumulative_revenue_A['date'], cumulative_revenue_A['revenue'], label='A')\n",
    "# Строим график выручки группы B\n",
    "plt.plot(cumulative_revenue_B['date'], cumulative_revenue_B['revenue'], label='B')\n",
    "plt.legend()\n",
    "plt.grid(True)\n",
    "plt.xlabel('Дата')\n",
    "plt.ylabel('Выручка')\n",
    "plt.title('Кумулятивная выручка по дням')\n",
    "plt.show()"
   ]
  },
  {
   "cell_type": "markdown",
   "metadata": {},
   "source": [
    "19 августа сегмент В резко вырвался вперед и продолжал лидировать весь остаток теста. Похоже, что аномально большие заказы влияют на результаты. Вернемся к данном вопросу в нашем исследовании позже."
   ]
  },
  {
   "cell_type": "markdown",
   "metadata": {},
   "source": [
    "### Кумулятивный средний чек по группам"
   ]
  },
  {
   "cell_type": "markdown",
   "metadata": {},
   "source": [
    "Для каждой группы построим графики кумулятивного среднего чека по дням."
   ]
  },
  {
   "cell_type": "code",
   "execution_count": 39,
   "metadata": {},
   "outputs": [
    {
     "data": {
      "image/png": "[encoded data removed]",
      "text/plain": [
       "<Figure size 1500x700 with 1 Axes>"
      ]
     },
     "metadata": {},
     "output_type": "display_data"
    }
   ],
   "source": [
    "plt.figure(figsize=(15, 7))\n",
    "# Строим график среднего чека группы А\n",
    "plt.plot(cumulative_revenue_A['date'], \n",
    "         cumulative_revenue_A['revenue']/cumulative_revenue_A['orders'],\n",
    "         label='A')\n",
    "# Строим график среднего чека группы В\n",
    "plt.plot(cumulative_revenue_B['date'],\n",
    "         cumulative_revenue_B['revenue']/cumulative_revenue_B['orders'], \n",
    "         label='B')\n",
    "plt.legend()\n",
    "plt.grid(True)\n",
    "plt.xlabel('Дата')\n",
    "plt.ylabel('Средний чек')\n",
    "plt.title('Кумулятивный средний чек по дням')\n",
    "plt.show()"
   ]
  },
  {
   "cell_type": "markdown",
   "metadata": {},
   "source": [
    "Кумулятивное значение среднего чека продолжает колебаться. Принимать решение по этой метрике скорее всего рано. Или требуется анализ выбросов, которые искажают результаты."
   ]
  },
  {
   "cell_type": "markdown",
   "metadata": {},
   "source": [
    "### Относительное изменение кумулятивного среднего чека группы B к группе A"
   ]
  },
  {
   "cell_type": "markdown",
   "metadata": {},
   "source": [
    "Объединим таблицы `cumulative_revenue_A` и `cumulative_revenue_B` методом `merge()` так, чтобы она содержала столбцы: `'date', 'revenue_A', 'revenue_B', 'orders_A', 'orders_B'`. Сохраним в переменной `merged_cumulative_revenue`."
   ]
  },
  {
   "cell_type": "code",
   "execution_count": 40,
   "metadata": {},
   "outputs": [
    {
     "data": {
      "text/html": [
       "<div>\n",
       "<style scoped>\n",
       "    .dataframe tbody tr th:only-of-type {\n",
       "        vertical-align: middle;\n",
       "    }\n",
       "\n",
       "    .dataframe tbody tr th {\n",
       "        vertical-align: top;\n",
       "    }\n",
       "\n",
       "    .dataframe thead th {\n",
       "        text-align: right;\n",
       "    }\n",
       "</style>\n",
       "<table border=\"1\" class=\"dataframe\">\n",
       "  <thead>\n",
       "    <tr style=\"text-align: right;\">\n",
       "      <th></th>\n",
       "      <th>date</th>\n",
       "      <th>revenue_A</th>\n",
       "      <th>orders_A</th>\n",
       "      <th>revenue_B</th>\n",
       "      <th>orders_B</th>\n",
       "    </tr>\n",
       "  </thead>\n",
       "  <tbody>\n",
       "    <tr>\n",
       "      <th>0</th>\n",
       "      <td>2019-08-01</td>\n",
       "      <td>148579</td>\n",
       "      <td>24</td>\n",
       "      <td>101217</td>\n",
       "      <td>21</td>\n",
       "    </tr>\n",
       "    <tr>\n",
       "      <th>1</th>\n",
       "      <td>2019-08-02</td>\n",
       "      <td>242401</td>\n",
       "      <td>44</td>\n",
       "      <td>266748</td>\n",
       "      <td>45</td>\n",
       "    </tr>\n",
       "    <tr>\n",
       "      <th>2</th>\n",
       "      <td>2019-08-03</td>\n",
       "      <td>354874</td>\n",
       "      <td>68</td>\n",
       "      <td>380996</td>\n",
       "      <td>61</td>\n",
       "    </tr>\n",
       "    <tr>\n",
       "      <th>3</th>\n",
       "      <td>2019-08-04</td>\n",
       "      <td>425699</td>\n",
       "      <td>84</td>\n",
       "      <td>489567</td>\n",
       "      <td>78</td>\n",
       "    </tr>\n",
       "    <tr>\n",
       "      <th>4</th>\n",
       "      <td>2019-08-05</td>\n",
       "      <td>549917</td>\n",
       "      <td>109</td>\n",
       "      <td>581995</td>\n",
       "      <td>101</td>\n",
       "    </tr>\n",
       "  </tbody>\n",
       "</table>\n",
       "</div>"
      ],
      "text/plain": [
       "        date  revenue_A  orders_A  revenue_B  orders_B\n",
       "0 2019-08-01     148579        24     101217        21\n",
       "1 2019-08-02     242401        44     266748        45\n",
       "2 2019-08-03     354874        68     380996        61\n",
       "3 2019-08-04     425699        84     489567        78\n",
       "4 2019-08-05     549917       109     581995       101"
      ]
     },
     "metadata": {},
     "output_type": "display_data"
    }
   ],
   "source": [
    "# собираем данные в одном датафрейме\n",
    "merged_cumulative_revenue = cumulative_revenue_A.merge(cumulative_revenue_B, \n",
    "                                                   left_on='date', \n",
    "                                                   right_on='date', \n",
    "                                                   how='left', \n",
    "                                                   suffixes=['_A', '_B'])\n",
    "# вывод первых 5 строк таблицы merged_cumulative_revenue\n",
    "display(merged_cumulative_revenue.head())"
   ]
  },
  {
   "cell_type": "markdown",
   "metadata": {},
   "source": [
    "Построим график относительно различия кумулятивного среднего чека группы B к группе A."
   ]
  },
  {
   "cell_type": "code",
   "execution_count": 41,
   "metadata": {},
   "outputs": [
    {
     "data": {
      "image/png": "[encoded data removed]",
      "text/plain": [
       "<Figure size 1500x700 with 1 Axes>"
      ]
     },
     "metadata": {},
     "output_type": "display_data"
    }
   ],
   "source": [
    "# cтроим отношение средних чеков\n",
    "plt.figure(figsize=(15, 7))\n",
    "plt.plot(merged_cumulative_revenue['date'],\n",
    "         (merged_cumulative_revenue['revenue_B']/merged_cumulative_revenue['orders_B'])\n",
    "         /(merged_cumulative_revenue['revenue_A']/merged_cumulative_revenue['orders_A'])-1)\n",
    "\n",
    "# добавляем ось X\n",
    "plt.axhline(y=0, color='black', linestyle='--')\n",
    "plt.grid(True)\n",
    "plt.xlabel('Дата')\n",
    "plt.ylabel('Отношение средних чеков')\n",
    "plt.title('Отношение кумулятивных средних чеков группы B к группе A по дням')\n",
    "plt.show()"
   ]
  },
  {
   "cell_type": "markdown",
   "metadata": {},
   "source": [
    "Результаты теста резко и значительно менялись 6 и 19 августа. Видимо, именно тогда были совершены аномальные заказы."
   ]
  },
  {
   "cell_type": "markdown",
   "metadata": {},
   "source": [
    "### Кумулятивная конверсия по группам"
   ]
  },
  {
   "cell_type": "markdown",
   "metadata": {},
   "source": [
    "Добавим в `cumulative_data` столбец `'conversion'` c отношением числа заказов к количеству пользователей в указанной группе в указанный день."
   ]
  },
  {
   "cell_type": "code",
   "execution_count": 42,
   "metadata": {},
   "outputs": [
    {
     "data": {
      "text/html": [
       "<div>\n",
       "<style scoped>\n",
       "    .dataframe tbody tr th:only-of-type {\n",
       "        vertical-align: middle;\n",
       "    }\n",
       "\n",
       "    .dataframe tbody tr th {\n",
       "        vertical-align: top;\n",
       "    }\n",
       "\n",
       "    .dataframe thead th {\n",
       "        text-align: right;\n",
       "    }\n",
       "</style>\n",
       "<table border=\"1\" class=\"dataframe\">\n",
       "  <thead>\n",
       "    <tr style=\"text-align: right;\">\n",
       "      <th></th>\n",
       "      <th>date</th>\n",
       "      <th>group</th>\n",
       "      <th>orders</th>\n",
       "      <th>buyers</th>\n",
       "      <th>revenue</th>\n",
       "      <th>visitors</th>\n",
       "      <th>conversion</th>\n",
       "    </tr>\n",
       "  </thead>\n",
       "  <tbody>\n",
       "    <tr>\n",
       "      <th>0</th>\n",
       "      <td>2019-08-01</td>\n",
       "      <td>A</td>\n",
       "      <td>24</td>\n",
       "      <td>20</td>\n",
       "      <td>148579</td>\n",
       "      <td>719</td>\n",
       "      <td>0.033380</td>\n",
       "    </tr>\n",
       "    <tr>\n",
       "      <th>1</th>\n",
       "      <td>2019-08-01</td>\n",
       "      <td>B</td>\n",
       "      <td>21</td>\n",
       "      <td>20</td>\n",
       "      <td>101217</td>\n",
       "      <td>713</td>\n",
       "      <td>0.029453</td>\n",
       "    </tr>\n",
       "    <tr>\n",
       "      <th>2</th>\n",
       "      <td>2019-08-02</td>\n",
       "      <td>A</td>\n",
       "      <td>44</td>\n",
       "      <td>38</td>\n",
       "      <td>242401</td>\n",
       "      <td>1338</td>\n",
       "      <td>0.032885</td>\n",
       "    </tr>\n",
       "    <tr>\n",
       "      <th>3</th>\n",
       "      <td>2019-08-02</td>\n",
       "      <td>B</td>\n",
       "      <td>45</td>\n",
       "      <td>43</td>\n",
       "      <td>266748</td>\n",
       "      <td>1294</td>\n",
       "      <td>0.034776</td>\n",
       "    </tr>\n",
       "    <tr>\n",
       "      <th>4</th>\n",
       "      <td>2019-08-03</td>\n",
       "      <td>A</td>\n",
       "      <td>68</td>\n",
       "      <td>62</td>\n",
       "      <td>354874</td>\n",
       "      <td>1845</td>\n",
       "      <td>0.036856</td>\n",
       "    </tr>\n",
       "  </tbody>\n",
       "</table>\n",
       "</div>"
      ],
      "text/plain": [
       "        date group  orders  buyers  revenue  visitors  conversion\n",
       "0 2019-08-01     A      24      20   148579       719    0.033380\n",
       "1 2019-08-01     B      21      20   101217       713    0.029453\n",
       "2 2019-08-02     A      44      38   242401      1338    0.032885\n",
       "3 2019-08-02     B      45      43   266748      1294    0.034776\n",
       "4 2019-08-03     A      68      62   354874      1845    0.036856"
      ]
     },
     "metadata": {},
     "output_type": "display_data"
    }
   ],
   "source": [
    "# считаем кумулятивную конверсию\n",
    "cumulative_data['conversion'] = cumulative_data['orders']/cumulative_data['visitors']\n",
    "# вывод первых 5 строк таблицы cumulative_data\n",
    "display(cumulative_data.head())"
   ]
  },
  {
   "cell_type": "markdown",
   "metadata": {},
   "source": [
    "Объявим переменные `cumulative_data_A` и `cumulative_data_B`, в которых сохраните данные о заказах в сегментах A и B соответственно."
   ]
  },
  {
   "cell_type": "code",
   "execution_count": 43,
   "metadata": {},
   "outputs": [],
   "source": [
    "# отделяем данные по группе A\n",
    "cumulative_data_A = cumulative_data[cumulative_data['group']=='A']\n",
    "# отделяем данные по группе B\n",
    "cumulative_data_B = cumulative_data[cumulative_data['group']=='B']"
   ]
  },
  {
   "cell_type": "markdown",
   "metadata": {},
   "source": [
    "Построим графики кумулятивной конверсии по дням по группам."
   ]
  },
  {
   "cell_type": "code",
   "execution_count": 44,
   "metadata": {},
   "outputs": [
    {
     "data": {
      "image/png": "[encoded data removed]",
      "text/plain": [
       "<Figure size 1500x700 with 1 Axes>"
      ]
     },
     "metadata": {},
     "output_type": "display_data"
    }
   ],
   "source": [
    "# строим графики\n",
    "plt.figure(figsize=(15, 7))\n",
    "plt.plot(cumulative_data_A['date'], cumulative_data_A['conversion'], label='A')\n",
    "plt.plot(cumulative_data_B['date'], cumulative_data_B['conversion'], label='B')\n",
    "plt.legend()\n",
    "plt.grid(True)\n",
    "plt.xlabel('Дата')\n",
    "plt.ylabel('Конверсия')\n",
    "plt.title('Кумулятивная конверсия по дням по группам')\n",
    "plt.show()"
   ]
  },
  {
   "cell_type": "markdown",
   "metadata": {},
   "source": [
    "В начале теста сигмент А имел большую конверсию, но постепенно сегмент В выровнялся и завиксировался примерно в районе одного значения (3.4%), больше значения сегмента А (3%).\n",
    "\n",
    "Изменим мастаб графика. "
   ]
  },
  {
   "cell_type": "code",
   "execution_count": 45,
   "metadata": {},
   "outputs": [
    {
     "data": {
      "image/png": "[encoded data removed]",
      "text/plain": [
       "<Figure size 1500x700 with 1 Axes>"
      ]
     },
     "metadata": {},
     "output_type": "display_data"
    }
   ],
   "source": [
    "# строим графики\n",
    "plt.figure(figsize=(15, 7))\n",
    "plt.plot(cumulative_data_A['date'], cumulative_data_A['conversion'], label='A')\n",
    "plt.plot(cumulative_data_B['date'], cumulative_data_B['conversion'], label='B')\n",
    "plt.legend()\n",
    "plt.grid(True)\n",
    "plt.xlabel('Дата')\n",
    "plt.ylabel('Конверсия')\n",
    "plt.title('Кумулятивная конверсия по дням по группам')\n",
    "# задаем масштаб осей\n",
    "plt.axis([dt.datetime(2019, 8, 1), dt.datetime(2019, 8, 31), 0.01, 0.05])\n",
    "plt.show()"
   ]
  },
  {
   "cell_type": "markdown",
   "metadata": {},
   "source": [
    "Теперь хорошо видно, что абсолютное значение колебания в начале и в конце теста не слишком большое: от 3% до 3.7%. В относительных вечинах - это почти в 1.3 раза. Поэтому при большом масштабе кажется, что колебания продолжаются, и конверсия не установилась около своего среднего значения."
   ]
  },
  {
   "cell_type": "markdown",
   "metadata": {},
   "source": [
    "### Относительное изменение кумулятивной конверсии группы B к группе A"
   ]
  },
  {
   "cell_type": "markdown",
   "metadata": {},
   "source": [
    "Объединим таблицы `cumulative_data_A` и `cumulative_data_B` методом `merge()` так, чтобы она содержала столбцы: `'date', 'conversion_A', 'conversion_B'`. Сохраним в переменной `merged_cumulative_conversions`."
   ]
  },
  {
   "cell_type": "code",
   "execution_count": 46,
   "metadata": {},
   "outputs": [
    {
     "data": {
      "text/html": [
       "<div>\n",
       "<style scoped>\n",
       "    .dataframe tbody tr th:only-of-type {\n",
       "        vertical-align: middle;\n",
       "    }\n",
       "\n",
       "    .dataframe tbody tr th {\n",
       "        vertical-align: top;\n",
       "    }\n",
       "\n",
       "    .dataframe thead th {\n",
       "        text-align: right;\n",
       "    }\n",
       "</style>\n",
       "<table border=\"1\" class=\"dataframe\">\n",
       "  <thead>\n",
       "    <tr style=\"text-align: right;\">\n",
       "      <th></th>\n",
       "      <th>date</th>\n",
       "      <th>conversion_A</th>\n",
       "      <th>conversion_B</th>\n",
       "    </tr>\n",
       "  </thead>\n",
       "  <tbody>\n",
       "    <tr>\n",
       "      <th>0</th>\n",
       "      <td>2019-08-01</td>\n",
       "      <td>0.033380</td>\n",
       "      <td>0.029453</td>\n",
       "    </tr>\n",
       "    <tr>\n",
       "      <th>1</th>\n",
       "      <td>2019-08-02</td>\n",
       "      <td>0.032885</td>\n",
       "      <td>0.034776</td>\n",
       "    </tr>\n",
       "    <tr>\n",
       "      <th>2</th>\n",
       "      <td>2019-08-03</td>\n",
       "      <td>0.036856</td>\n",
       "      <td>0.033833</td>\n",
       "    </tr>\n",
       "    <tr>\n",
       "      <th>3</th>\n",
       "      <td>2019-08-04</td>\n",
       "      <td>0.032787</td>\n",
       "      <td>0.030315</td>\n",
       "    </tr>\n",
       "    <tr>\n",
       "      <th>4</th>\n",
       "      <td>2019-08-05</td>\n",
       "      <td>0.032851</td>\n",
       "      <td>0.030793</td>\n",
       "    </tr>\n",
       "  </tbody>\n",
       "</table>\n",
       "</div>"
      ],
      "text/plain": [
       "        date  conversion_A  conversion_B\n",
       "0 2019-08-01      0.033380      0.029453\n",
       "1 2019-08-02      0.032885      0.034776\n",
       "2 2019-08-03      0.036856      0.033833\n",
       "3 2019-08-04      0.032787      0.030315\n",
       "4 2019-08-05      0.032851      0.030793"
      ]
     },
     "metadata": {},
     "output_type": "display_data"
    }
   ],
   "source": [
    "# собираем данные в одном датафрейме\n",
    "merged_cumulative_conversions = (cumulative_data_A[['date','conversion']]\n",
    "                                 .merge(cumulative_data_B[['date','conversion']],\n",
    "                                        left_on='date', \n",
    "                                        right_on='date', \n",
    "                                        how='left', \n",
    "                                        suffixes=['_A', '_B'])\n",
    "                                 )\n",
    "# вывод первых 5 строк таблицы merged_cumulative_conversions \n",
    "display(merged_cumulative_conversions.head())"
   ]
  },
  {
   "cell_type": "markdown",
   "metadata": {},
   "source": [
    "Построим график относительного различия кумулятивной конверсии группы B к группе A."
   ]
  },
  {
   "cell_type": "code",
   "execution_count": 47,
   "metadata": {},
   "outputs": [
    {
     "data": {
      "image/png": "[encoded data removed]",
      "text/plain": [
       "<Figure size 1500x700 with 1 Axes>"
      ]
     },
     "metadata": {},
     "output_type": "display_data"
    }
   ],
   "source": [
    "# строим графики\n",
    "plt.figure(figsize=(15, 7))\n",
    "plt.plot(merged_cumulative_conversions['date'], \n",
    "         merged_cumulative_conversions['conversion_B']/merged_cumulative_conversions['conversion_A']-1)\n",
    "plt.grid(True)\n",
    "plt.xlabel('Дата')\n",
    "plt.ylabel('Относительный прирост конверсии')\n",
    "plt.title('Относительный прирост конверсии группы B относительно группы A')\n",
    "plt.axhline(y=0, color='black', linestyle='--')\n",
    "plt.axhline(y=0.15, color='grey', linestyle='--')\n",
    "plt.show()"
   ]
  },
  {
   "cell_type": "markdown",
   "metadata": {},
   "source": [
    "Изменим мастаб графика."
   ]
  },
  {
   "cell_type": "code",
   "execution_count": 48,
   "metadata": {},
   "outputs": [
    {
     "data": {
      "image/png": "[encoded data removed]",
      "text/plain": [
       "<Figure size 1500x700 with 1 Axes>"
      ]
     },
     "metadata": {},
     "output_type": "display_data"
    }
   ],
   "source": [
    "# строим графики\n",
    "plt.figure(figsize=(15, 7))\n",
    "plt.plot(merged_cumulative_conversions['date'], \n",
    "         merged_cumulative_conversions['conversion_B']/merged_cumulative_conversions['conversion_A']-1)\n",
    "plt.grid(True)\n",
    "plt.xlabel('Дата')\n",
    "plt.ylabel('Относительный прирост конверсии')\n",
    "plt.title('Относительный прирост конверсии группы B относительно группы A')\n",
    "plt.axhline(y=0, color='black', linestyle='--')\n",
    "plt.axhline(y=0.15, color='grey', linestyle='--')\n",
    "# задаем масштаб осей\n",
    "plt.axis([dt.datetime(2019, 8, 1), dt.datetime(2019, 8, 31), -0.5, 0.5])\n",
    "plt.show()"
   ]
  },
  {
   "cell_type": "markdown",
   "metadata": {},
   "source": [
    "Почти с самого начала группа В лидирует по конверсии: становится все лучше и лучше, либо зафиксировалась около прироста в 15% относительно группы А."
   ]
  },
  {
   "cell_type": "markdown",
   "metadata": {},
   "source": [
    "### Количество заказов по пользователям"
   ]
  },
  {
   "cell_type": "markdown",
   "metadata": {},
   "source": [
    "Найдем число заказов по пользователям — создадим датафрейм c двумя столбцами: `'user_id'` и `'orders'`. Назовем его `orders_by_users`. Отсортируем по убыванию количества заказов пользователей и выведите на экран первые 10 строк."
   ]
  },
  {
   "cell_type": "code",
   "execution_count": 49,
   "metadata": {},
   "outputs": [
    {
     "data": {
      "text/html": [
       "<div>\n",
       "<style scoped>\n",
       "    .dataframe tbody tr th:only-of-type {\n",
       "        vertical-align: middle;\n",
       "    }\n",
       "\n",
       "    .dataframe tbody tr th {\n",
       "        vertical-align: top;\n",
       "    }\n",
       "\n",
       "    .dataframe thead th {\n",
       "        text-align: right;\n",
       "    }\n",
       "</style>\n",
       "<table border=\"1\" class=\"dataframe\">\n",
       "  <thead>\n",
       "    <tr style=\"text-align: right;\">\n",
       "      <th></th>\n",
       "      <th>user_id</th>\n",
       "      <th>orders</th>\n",
       "    </tr>\n",
       "  </thead>\n",
       "  <tbody>\n",
       "    <tr>\n",
       "      <th>1023</th>\n",
       "      <td>4256040402</td>\n",
       "      <td>11</td>\n",
       "    </tr>\n",
       "    <tr>\n",
       "      <th>591</th>\n",
       "      <td>2458001652</td>\n",
       "      <td>11</td>\n",
       "    </tr>\n",
       "    <tr>\n",
       "      <th>569</th>\n",
       "      <td>2378935119</td>\n",
       "      <td>9</td>\n",
       "    </tr>\n",
       "    <tr>\n",
       "      <th>487</th>\n",
       "      <td>2038680547</td>\n",
       "      <td>8</td>\n",
       "    </tr>\n",
       "    <tr>\n",
       "      <th>44</th>\n",
       "      <td>199603092</td>\n",
       "      <td>5</td>\n",
       "    </tr>\n",
       "    <tr>\n",
       "      <th>744</th>\n",
       "      <td>3062433592</td>\n",
       "      <td>5</td>\n",
       "    </tr>\n",
       "    <tr>\n",
       "      <th>55</th>\n",
       "      <td>237748145</td>\n",
       "      <td>5</td>\n",
       "    </tr>\n",
       "    <tr>\n",
       "      <th>917</th>\n",
       "      <td>3803269165</td>\n",
       "      <td>5</td>\n",
       "    </tr>\n",
       "    <tr>\n",
       "      <th>299</th>\n",
       "      <td>1230306981</td>\n",
       "      <td>5</td>\n",
       "    </tr>\n",
       "    <tr>\n",
       "      <th>897</th>\n",
       "      <td>3717692402</td>\n",
       "      <td>5</td>\n",
       "    </tr>\n",
       "  </tbody>\n",
       "</table>\n",
       "</div>"
      ],
      "text/plain": [
       "         user_id  orders\n",
       "1023  4256040402      11\n",
       "591   2458001652      11\n",
       "569   2378935119       9\n",
       "487   2038680547       8\n",
       "44     199603092       5\n",
       "744   3062433592       5\n",
       "55     237748145       5\n",
       "917   3803269165       5\n",
       "299   1230306981       5\n",
       "897   3717692402       5"
      ]
     },
     "metadata": {},
     "output_type": "display_data"
    }
   ],
   "source": [
    "orders_by_users = (\n",
    "    orders.groupby('visitor_id', as_index=False) # группировка заказов по пользователям\n",
    "    .agg({'transaction_id': 'nunique'}) # подсчет числа уникальных заказов по сгруппированным данным\n",
    "    .sort_values(by='transaction_id', ascending=False) # сортировка датафрейма по убыванию значения в столбце\n",
    ")\n",
    "# переименование столбцов таблицы orders_by_users\n",
    "orders_by_users.columns = ['user_id', 'orders']\n",
    "# вывод первых 10 строк таблицы orders_by_users\n",
    "display(orders_by_users.head(10))"
   ]
  },
  {
   "cell_type": "markdown",
   "metadata": {},
   "source": [
    "Построим диаграмму распределения числа заказов по пользователям методом `scatter()`. "
   ]
  },
  {
   "cell_type": "code",
   "execution_count": 50,
   "metadata": {},
   "outputs": [
    {
     "data": {
      "image/png": "[encoded data removed]",
      "text/plain": [
       "<Figure size 1500x700 with 1 Axes>"
      ]
     },
     "metadata": {},
     "output_type": "display_data"
    }
   ],
   "source": [
    "# серия из чисел от 0 до количества наблюдений в orders_by_users\n",
    "x_values = pd.Series(range(0, len(orders_by_users)))\n",
    "# строим графики\n",
    "plt.figure(figsize=(15, 7))\n",
    "plt.scatter(x_values, orders_by_users['orders'])\n",
    "plt.grid(True)\n",
    "plt.xlabel('Количество пользователей')\n",
    "plt.ylabel('Количество заказов')\n",
    "plt.title('Количество заказов по пользователям')\n",
    "plt.show()"
   ]
  },
  {
   "cell_type": "markdown",
   "metadata": {},
   "source": [
    "На графике видно, что пользователей заказавших 2 и более заказов очень мало. Они вполне могут быть аномальными. Для того, чтобы удостовериться 2 заказа - много или мало, посчитаем выборочные перцентили."
   ]
  },
  {
   "cell_type": "code",
   "execution_count": 51,
   "metadata": {},
   "outputs": [
    {
     "data": {
      "text/plain": [
       "array([1., 2., 4.])"
      ]
     },
     "execution_count": 51,
     "metadata": {},
     "output_type": "execute_result"
    }
   ],
   "source": [
    "np.percentile(orders_by_users['orders'], [90, 95, 99]) # расчет перцентилей"
   ]
  },
  {
   "cell_type": "markdown",
   "metadata": {},
   "source": [
    "Не более 5% пользователей совершили больше 2 заказов. И не более 1% пользователей - 3 и более заказов. Поэтому со спокойной душой можно считать пользователей аномальными с тремя и более заказами."
   ]
  },
  {
   "cell_type": "markdown",
   "metadata": {},
   "source": [
    "### Стоимость заказов"
   ]
  },
  {
   "cell_type": "markdown",
   "metadata": {},
   "source": [
    "Построим диаграмму распределения выручек `'revenue'` с заказов по пользователям методом `scatter()`. Изначально, для наглядности, отсортируем по убыванию выручку в таблице `orders` и выведем её на экран."
   ]
  },
  {
   "cell_type": "code",
   "execution_count": 52,
   "metadata": {},
   "outputs": [
    {
     "data": {
      "text/html": [
       "<div>\n",
       "<style scoped>\n",
       "    .dataframe tbody tr th:only-of-type {\n",
       "        vertical-align: middle;\n",
       "    }\n",
       "\n",
       "    .dataframe tbody tr th {\n",
       "        vertical-align: top;\n",
       "    }\n",
       "\n",
       "    .dataframe thead th {\n",
       "        text-align: right;\n",
       "    }\n",
       "</style>\n",
       "<table border=\"1\" class=\"dataframe\">\n",
       "  <thead>\n",
       "    <tr style=\"text-align: right;\">\n",
       "      <th></th>\n",
       "      <th>transaction_id</th>\n",
       "      <th>visitor_id</th>\n",
       "      <th>date</th>\n",
       "      <th>revenue</th>\n",
       "      <th>group</th>\n",
       "    </tr>\n",
       "  </thead>\n",
       "  <tbody>\n",
       "    <tr>\n",
       "      <th>425</th>\n",
       "      <td>590470918</td>\n",
       "      <td>1920142716</td>\n",
       "      <td>2019-08-19</td>\n",
       "      <td>1294500</td>\n",
       "      <td>B</td>\n",
       "    </tr>\n",
       "    <tr>\n",
       "      <th>1196</th>\n",
       "      <td>3936777065</td>\n",
       "      <td>2108080724</td>\n",
       "      <td>2019-08-15</td>\n",
       "      <td>202740</td>\n",
       "      <td>B</td>\n",
       "    </tr>\n",
       "    <tr>\n",
       "      <th>858</th>\n",
       "      <td>192721366</td>\n",
       "      <td>1316129916</td>\n",
       "      <td>2019-08-27</td>\n",
       "      <td>93940</td>\n",
       "      <td>A</td>\n",
       "    </tr>\n",
       "    <tr>\n",
       "      <th>1136</th>\n",
       "      <td>666610489</td>\n",
       "      <td>1307669133</td>\n",
       "      <td>2019-08-13</td>\n",
       "      <td>92550</td>\n",
       "      <td>A</td>\n",
       "    </tr>\n",
       "    <tr>\n",
       "      <th>744</th>\n",
       "      <td>3668308183</td>\n",
       "      <td>888512513</td>\n",
       "      <td>2019-08-27</td>\n",
       "      <td>86620</td>\n",
       "      <td>B</td>\n",
       "    </tr>\n",
       "    <tr>\n",
       "      <th>682</th>\n",
       "      <td>1216533772</td>\n",
       "      <td>4266935830</td>\n",
       "      <td>2019-08-29</td>\n",
       "      <td>78990</td>\n",
       "      <td>B</td>\n",
       "    </tr>\n",
       "    <tr>\n",
       "      <th>662</th>\n",
       "      <td>1811671147</td>\n",
       "      <td>4266935830</td>\n",
       "      <td>2019-08-29</td>\n",
       "      <td>78990</td>\n",
       "      <td>A</td>\n",
       "    </tr>\n",
       "    <tr>\n",
       "      <th>743</th>\n",
       "      <td>3603576309</td>\n",
       "      <td>4133034833</td>\n",
       "      <td>2019-08-09</td>\n",
       "      <td>67990</td>\n",
       "      <td>A</td>\n",
       "    </tr>\n",
       "    <tr>\n",
       "      <th>1103</th>\n",
       "      <td>1348774318</td>\n",
       "      <td>1164614297</td>\n",
       "      <td>2019-08-12</td>\n",
       "      <td>66350</td>\n",
       "      <td>A</td>\n",
       "    </tr>\n",
       "    <tr>\n",
       "      <th>1099</th>\n",
       "      <td>316924019</td>\n",
       "      <td>148427295</td>\n",
       "      <td>2019-08-12</td>\n",
       "      <td>65710</td>\n",
       "      <td>A</td>\n",
       "    </tr>\n",
       "  </tbody>\n",
       "</table>\n",
       "</div>"
      ],
      "text/plain": [
       "      transaction_id  visitor_id       date  revenue group\n",
       "425        590470918  1920142716 2019-08-19  1294500     B\n",
       "1196      3936777065  2108080724 2019-08-15   202740     B\n",
       "858        192721366  1316129916 2019-08-27    93940     A\n",
       "1136       666610489  1307669133 2019-08-13    92550     A\n",
       "744       3668308183   888512513 2019-08-27    86620     B\n",
       "682       1216533772  4266935830 2019-08-29    78990     B\n",
       "662       1811671147  4266935830 2019-08-29    78990     A\n",
       "743       3603576309  4133034833 2019-08-09    67990     A\n",
       "1103      1348774318  1164614297 2019-08-12    66350     A\n",
       "1099       316924019   148427295 2019-08-12    65710     A"
      ]
     },
     "metadata": {},
     "output_type": "display_data"
    }
   ],
   "source": [
    "# вывод первых 10 строк таблицы orders с сортировкой по убыванию по столбцу 'revenue'\n",
    "display(orders.sort_values(by='revenue', ascending=False).head(10))"
   ]
  },
  {
   "cell_type": "code",
   "execution_count": 53,
   "metadata": {},
   "outputs": [
    {
     "data": {
      "image/png": "[encoded data removed]",
      "text/plain": [
       "<Figure size 1500x700 with 1 Axes>"
      ]
     },
     "metadata": {},
     "output_type": "display_data"
    }
   ],
   "source": [
    "# серия из чисел от 0 до количества наблюдений в orders\n",
    "x_values = pd.Series(range(0, len(orders['revenue'])))\n",
    "# строим графики\n",
    "plt.figure(figsize=(15, 7))\n",
    "plt.scatter(x_values, orders['revenue']) \n",
    "plt.grid(True)\n",
    "plt.xlabel('Заказы')\n",
    "plt.ylabel('Выручка, млн.руб.')\n",
    "plt.title('Стоимость заказов')\n",
    "plt.show()"
   ]
  },
  {
   "cell_type": "markdown",
   "metadata": {},
   "source": [
    "На графике видно явные выбросы в виде выручек в размере 1.3 млн руб. и в районе 200 тыс.руб. Увеличим размер графика по оси Y."
   ]
  },
  {
   "cell_type": "code",
   "execution_count": 54,
   "metadata": {},
   "outputs": [
    {
     "data": {
      "image/png": "[encoded data removed]",
      "text/plain": [
       "<Figure size 1500x700 with 1 Axes>"
      ]
     },
     "metadata": {},
     "output_type": "display_data"
    }
   ],
   "source": [
    "# серия из чисел от 0 до количества наблюдений в orders\n",
    "x_values = pd.Series(range(0, len(orders['revenue'])))\n",
    "# строим графики\n",
    "plt.figure(figsize=(15, 7))\n",
    "plt.scatter(x_values, orders['revenue']) \n",
    "plt.grid(True)\n",
    "plt.ylim([0, 60000])\n",
    "plt.xlabel('Заказы')\n",
    "plt.ylabel('Выручка, руб.')\n",
    "plt.title('Стоимость заказов')\n",
    "plt.show()"
   ]
  },
  {
   "cell_type": "markdown",
   "metadata": {},
   "source": [
    "По получившемся графике видно, что основная масса заказов до 10 тыс.руб. Заказы с выручкой свыше 30 тыс.руб. встречаются уже достаточно редко и могут быть аномальными. Для понимания их значимости посчитаем 90-й, 95-й и 99-й выборочные перцентили выручки с заказов по пользователям методом `np.percentile()`"
   ]
  },
  {
   "cell_type": "code",
   "execution_count": 55,
   "metadata": {},
   "outputs": [
    {
     "data": {
      "text/plain": [
       "array([18168. , 28000. , 58233.2])"
      ]
     },
     "execution_count": 55,
     "metadata": {},
     "output_type": "execute_result"
    }
   ],
   "source": [
    "np.percentile(orders['revenue'], [90, 95, 99]) # расчет перцентилей"
   ]
  },
  {
   "cell_type": "markdown",
   "metadata": {},
   "source": [
    "Не более 5% стоимость заказов превышает 28000 руб. И не более 1% стоимость заказов - более 58233.2 руб. В таком случае заказы с выручкой более 58 тыс.руб. можно считать аномальными."
   ]
  },
  {
   "cell_type": "markdown",
   "metadata": {},
   "source": [
    "### Статистическая значимость различий в конверсии и среднем чеке между группами по «сырым» данным"
   ]
  },
  {
   "cell_type": "markdown",
   "metadata": {},
   "source": [
    "Посчитаем статистическую значимость различий в конверсии и среднем чеке между группами по «сырым» данным — без удаления аномальных пользователей.\n",
    "\n",
    "Начнём с подготовки данных. "
   ]
  },
  {
   "cell_type": "code",
   "execution_count": 56,
   "metadata": {},
   "outputs": [
    {
     "name": "stdout",
     "output_type": "stream",
     "text": [
      "        date  orders_per_date_A  revenue_per_date_A  orders_per_date_B  \\\n",
      "0 2019-08-01                 24              148579                 21   \n",
      "1 2019-08-02                 20               93822                 24   \n",
      "2 2019-08-03                 24              112473                 16   \n",
      "3 2019-08-04                 16               70825                 17   \n",
      "4 2019-08-05                 25              124218                 23   \n",
      "\n",
      "   revenue_per_date_B  orders_cummulative_A  revenue_cummulative_A  \\\n",
      "0              101217                    24                 148579   \n",
      "1              165531                    44                 242401   \n",
      "2              114248                    68                 354874   \n",
      "3              108571                    84                 425699   \n",
      "4               92428                   109                 549917   \n",
      "\n",
      "   orders_cummulative_B  revenue_cummulative_B  visitors_per_date_A  \\\n",
      "0                    21                 101217                  719   \n",
      "1                    45                 266748                  619   \n",
      "2                    61                 380996                  507   \n",
      "3                    78                 489567                  717   \n",
      "4                   101                 581995                  756   \n",
      "\n",
      "   visitors_per_date_B  visitors_cummulative_A  visitors_cummulative_B  \n",
      "0                  713                     719                     713  \n",
      "1                  581                    1338                    1294  \n",
      "2                  509                    1845                    1803  \n",
      "3                  770                    2562                    2573  \n",
      "4                  707                    3318                    3280  \n"
     ]
    }
   ],
   "source": [
    "# ежедневное количество пользователей в группе A\n",
    "visitors_daily_A = visitors[visitors['group'] == 'A'][['date', 'visitors']]\n",
    "# переименование столбцов таблицы visitors_daily_A\n",
    "visitors_daily_A.columns = ['date', 'visitors_per_date_A']\n",
    "\n",
    "# количество пользователей до выбранной даты включительно в группе A\n",
    "visitors_cummulative_A = visitors_daily_A.apply(\n",
    "    lambda x: visitors_daily_A[\n",
    "        visitors_daily_A['date'] <= x['date']]\n",
    "    .agg({'date': 'max', \n",
    "          'visitors_per_date_A': 'sum'}),\n",
    "    axis=1)\n",
    "# переименование столбцов таблицы visitors_cummulative_A\n",
    "visitors_cummulative_A.columns = ['date', 'visitors_cummulative_A']\n",
    "\n",
    "# ежедневное количество пользователей в группе B\n",
    "visitors_daily_B = visitors[visitors['group'] == 'B'][['date', 'visitors']]\n",
    "# переименование столбцов таблицы visitors_daily_B\n",
    "visitors_daily_B.columns = ['date', 'visitors_per_date_B']\n",
    "# количество пользователей до выбранной даты включительно в группе B\n",
    "visitors_cummulative_B = visitors_daily_B.apply(\n",
    "    lambda x: visitors_daily_B[\n",
    "        visitors_daily_B['date'] <= x['date']]\n",
    "    .agg({'date': 'max', \n",
    "          'visitors_per_date_B': 'sum'}),\n",
    "    axis=1)\n",
    "# переименование столбцов таблицы visitors_cummulative_B\n",
    "visitors_cummulative_B.columns = ['date', 'visitors_cummulative_B']\n",
    "\n",
    "# ежедневное число заказов и суммарная выручка в группе A\n",
    "orders_daily_A = (\n",
    "    orders[orders['group'] == 'A'][['date', 'transaction_id', 'visitor_id', 'revenue']]\n",
    "    .groupby('date', as_index=False)\n",
    "    .agg({'transaction_id': pd.Series.nunique, \n",
    "          'revenue': 'sum'})\n",
    ")\n",
    "# переименование столбцов таблицы orders_daily_A\n",
    "orders_daily_A.columns = ['date', 'orders_per_date_A', 'revenue_per_date_A']\n",
    "\n",
    "# суммарное число заказов и суммарная выручка до выбранной даты включительно в группе A\n",
    "orders_cummulative_A = (\n",
    "    orders_daily_A.apply(\n",
    "        lambda x: orders_daily_A[orders_daily_A['date'] <= x['date']]\n",
    "        .agg({'date': 'max', \n",
    "              'orders_per_date_A': 'sum', \n",
    "              'revenue_per_date_A': 'sum'}),\n",
    "        axis=1)\n",
    "    .sort_values(by=['date'])\n",
    ")\n",
    "# переименование столбцов таблицы orders_cummulative_A\n",
    "orders_cummulative_A.columns = ['date','orders_cummulative_A','revenue_cummulative_A']\n",
    "\n",
    "# ежедневное число заказов и суммарная выручка в группе В\n",
    "orders_daily_B = (\n",
    "    orders[orders['group'] == 'B'][['date', 'transaction_id', 'visitor_id', 'revenue']]\n",
    "    .groupby('date', as_index=False)\n",
    "    .agg({'transaction_id': pd.Series.nunique, \n",
    "          'revenue': 'sum'})\n",
    ")\n",
    "# переименование столбцов таблицы orders_daily_B\n",
    "orders_daily_B.columns = ['date', 'orders_per_date_B', 'revenue_per_date_B']\n",
    "\n",
    "# суммарное число заказов и суммарная выручка до выбранной даты включительно в группе B\n",
    "orders_cummulative_B = (\n",
    "    orders_daily_B.apply(\n",
    "        lambda x: orders_daily_B[orders_daily_B['date'] <= x['date']]\n",
    "        .agg({'date': 'max',\n",
    "              'orders_per_date_B': 'sum', \n",
    "              'revenue_per_date_B': 'sum'}),\n",
    "        axis=1)\n",
    "    .sort_values(by=['date'])\n",
    ")\n",
    "# переименование столбцов таблицы orders_cummulative_B\n",
    "orders_cummulative_B.columns = ['date', 'orders_cummulative_B', 'revenue_cummulative_B']\n",
    "\n",
    "# объединение данных в один датафрейм\n",
    "data = (\n",
    "    orders_daily_A\n",
    "    .merge(orders_daily_B, left_on='date', right_on='date', how='left')\n",
    "    .merge(orders_cummulative_A, left_on='date', right_on='date', how='left')\n",
    "    .merge(orders_cummulative_B, left_on='date', right_on='date', how='left')\n",
    "    .merge(visitors_daily_A, left_on='date', right_on='date', how='left')\n",
    "    .merge(visitors_daily_B, left_on='date', right_on='date', how='left')\n",
    "    .merge(visitors_cummulative_A, left_on='date', right_on='date', how='left')\n",
    "    .merge(visitors_cummulative_B, left_on='date', right_on='date', how='left')\n",
    ")\n",
    "# отображение первых 5 строк получившейся таблицы data\n",
    "print(data.head())"
   ]
  },
  {
   "cell_type": "markdown",
   "metadata": {},
   "source": [
    "Получили следующие названия столбцов данных:\n",
    "* `date` — дата;\n",
    "* `orders_per_date_A` — количество заказов в выбранную дату в группе A;\n",
    "* `revenue_per_date_A` — суммарная выручка в выбранную дату в группе A;\n",
    "* `orders_per_date_B` — количество заказов в выбранную дату в группе B;\n",
    "* `revenue_per_date_B` — суммарная выручка в выбранную дату в группе B;\n",
    "* `orders_cummulative_A` — суммарное число заказов до выбранной даты включительно в группе A;\n",
    "* `revenue_cummulative_A` — суммарная выручка до выбранной даты включительно в группе A;\n",
    "* `orders_cummulative_B` — суммарное количество заказов до выбранной даты включительно в группе B;\n",
    "* `revenue_cummulative_B` — суммарная выручка до выбранной даты включительно в группе B;\n",
    "* `visitors_per_date_A` — количество пользователей в выбранную дату в группе A;\n",
    "* `visitors_per_date_B` — количество пользователей в выбранную дату в группе B;\n",
    "* `visitors_cummulative_A` — количество пользователей до выбранной даты включительно в группе A;\n",
    "* `visitors_cummulative_B` — количество пользователей до выбранной даты включительно в группе B.\n",
    "\n",
    "Посчитаем статистическую значимость различия в конверсии между группами.\n",
    "\n",
    "Создадим переменные `orders_by_users_A` и `orders_by_users_B` со столбцами `'user_id'`, `'orders'`. В них для пользователей, которые заказывали хотя бы 1 раз, укажем число совершённых заказов."
   ]
  },
  {
   "cell_type": "code",
   "execution_count": 57,
   "metadata": {},
   "outputs": [],
   "source": [
    "# количество заказов, сгруппированные по пользователям группы А\n",
    "orders_by_users_A = (\n",
    "    orders[orders['group'] == 'A']\n",
    "    .groupby('visitor_id', as_index=False)\n",
    "    .agg({'transaction_id': pd.Series.nunique})\n",
    ")\n",
    "# переименование столбцов таблицы orders_by_users_A\n",
    "orders_by_users_A.columns = ['user_id', 'orders']\n",
    "\n",
    "# количество заказов, сгруппированные по пользователям группы В\n",
    "orders_by_users_B = (\n",
    "    orders[orders['group'] == 'B']\n",
    "    .groupby('visitor_id', as_index=False)\n",
    "    .agg({'transaction_id': pd.Series.nunique})\n",
    ")\n",
    "# переименование столбцов таблицы orders_by_users_В\n",
    "orders_by_users_B.columns = ['user_id', 'orders']"
   ]
  },
  {
   "cell_type": "markdown",
   "metadata": {},
   "source": [
    "Объявим переменные `sample_A` и `sample_B`, в которых пользователям из разных групп будет соответствовать количество заказов. Тем, кто ничего не заказал, будут соответствовать нули. Это нужно, чтобы подготовить выборки к проверке критерием Манна-Уитни.\n",
    "\n",
    "Переменная `sample_A` должна состоять из двух частей:\n",
    "* Список с количеством заказов для каждого из пользователей: `orders_by_users_A['orders']`.\n",
    "* Нули для пользователей, которые ничего не заказывали. Их количество равно разнице между суммой посетителей и количеством записей о заказах: `data['visitors_per_date_A '].sum() - len(orders_by_users_A['orders'])`. Создадим объект pd.Series нужной длины. Список индексов создадим функцией `np.arange()`. \n",
    "\n",
    "Последовательности объединим функцией `pd.concat()`. Дальше передадим аргумент, сообщающий, что объекты Series нужно объединить по строкам (то есть записать подряд): `axis=0`. То же делаем для `sample_B` и получаем:"
   ]
  },
  {
   "cell_type": "code",
   "execution_count": 58,
   "metadata": {},
   "outputs": [],
   "source": [
    "# число заказов пользователей (в том числе ноль) группы А\n",
    "sample_A = pd.concat(\n",
    "    [orders_by_users_A['orders'],\n",
    "     pd.Series(0, \n",
    "               index=np.arange(\n",
    "                   data['visitors_per_date_A'].sum() - len(orders_by_users_A['orders'])),\n",
    "               name='orders')],\n",
    "    axis=0)\n",
    "# число заказов пользователей (в том числе ноль) группы В\n",
    "sample_B = pd.concat(\n",
    "    [orders_by_users_B['orders'],\n",
    "     pd.Series(0, \n",
    "               index=np.arange(\n",
    "                   data['visitors_per_date_B'].sum() - len(orders_by_users_B['orders'])),\n",
    "               name='orders')],\n",
    "    axis=0)"
   ]
  },
  {
   "cell_type": "markdown",
   "metadata": {},
   "source": [
    "Число элементов `sample_A` — это количество пользователей, сумма всех элементов — количество заказов. Чтобы получить конверсию в группе, поделим сумму заказов на число пользователей — найдём среднее в выборке `sample_A` методом `mean()`. Аналогично найдём конверсию группы B: `sample_B.mean()`.\n",
    "Выведем относительный прирост конверсии группы B: конверсия группы B / конверсия группы A - 1. Округлим до двух знаков после запятой.\n",
    "\n",
    "\n",
    "Сформулируем гипотезы. \n",
    "* Нулевая: различий в конверсии между группами нет. \n",
    "* Альтернативная: различия в конверсии между группами есть."
   ]
  },
  {
   "cell_type": "code",
   "execution_count": 59,
   "metadata": {},
   "outputs": [
    {
     "name": "stdout",
     "output_type": "stream",
     "text": [
      "p-value: 0.02\n",
      "Относительный прирост конверсии группы B: 0.14\n",
      "Отвергаем нулевую гипотезу: различия в конверсии между группами есть\n"
     ]
    }
   ],
   "source": [
    "alpha = 0.05 # критический уровень статической значимости\n",
    "resalts = st.mannwhitneyu(sample_A, sample_B)[1] # проверка гипотезы\n",
    "print(\"p-value: {0:.2f}\".format(resalts)) # вывод на экран получившегося p-значения\n",
    "print(\"Относительный прирост конверсии группы B: {0:.2f}\".format(sample_B.mean() / sample_A.mean() - 1))\n",
    "if resalts < alpha: # сравнение получившегося p-значения с заданным уровнем статистической значимости\n",
    "    print('Отвергаем нулевую гипотезу: различия в конверсии между группами есть')\n",
    "else:\n",
    "    print('Не получилось отвергнуть нулевую гипотезу: различий в конверсии между группами нет')"
   ]
  },
  {
   "cell_type": "markdown",
   "metadata": {},
   "source": [
    "Р-value меньше 0.05. Значит непараметрический тест Манна-Уитни показал, что отвергаем гипотезу о равенстве конверсий между группами. Относительный выигрыш группы B равен 14%."
   ]
  },
  {
   "cell_type": "markdown",
   "metadata": {},
   "source": [
    "Теперь проверим статистическую значимость различий в среднем чеке между сегментами. \n",
    "* Нулевая гипотеза: различий в среднем чеке между группами нет. \n",
    "* Альтернативная гипотеза: различия в среднем чеке между группами есть.\n",
    "\n",
    "Чтобы рассчитать статистическую значимость различий в среднем чеке, передадим критерию `mannwhitneyu()` данные о выручке с заказов. А ещё найдём относительные различия в среднем чеке между группами:"
   ]
  },
  {
   "cell_type": "code",
   "execution_count": 60,
   "metadata": {},
   "outputs": [
    {
     "name": "stdout",
     "output_type": "stream",
     "text": [
      "p-value: 0.73\n",
      "Относительные различия в среднем чеке между группами: 0.26\n",
      "Не получилось отвергнуть нулевую гипотезу: различий в среднем чеке между группами нет\n"
     ]
    }
   ],
   "source": [
    "resalts = st.mannwhitneyu(orders[orders['group']=='A']['revenue'],\n",
    "                          orders[orders['group']=='B']['revenue'])[1] # проверка гипотезы\n",
    "print(\"p-value: {0:.2f}\".format(resalts)) # вывод на экран получившегося p-значения\n",
    "print('Относительные различия в среднем чеке между группами: {0:.2f}'\n",
    "      .format(orders[orders['group']=='B']['revenue'].mean()\n",
    "              /orders[orders['group']=='A']['revenue'].mean()-1))\n",
    "if resalts < alpha: # сравнение получившегося p-значения с заданным уровнем статистической значимости\n",
    "    print('Отвергаем нулевую гипотезу: различия в среднем чеке между группами есть')\n",
    "else:\n",
    "    print('Не получилось отвергнуть нулевую гипотезу: различий в среднем чеке между группами нет')"
   ]
  },
  {
   "cell_type": "markdown",
   "metadata": {},
   "source": [
    "P-value значительно больше 0.05. Значит, причин отвергать нулевую гипотезу и считать, что в среднем чеке есть различия, нет. Впрочем, средний чек группы B на 26% выше среднего чека группы A. Такая разница вызвана выбросами, которые мы обнаружили при анализе графика кумулятивной выручки по группам."
   ]
  },
  {
   "cell_type": "markdown",
   "metadata": {},
   "source": [
    "### Статистическая значимость различий в конверсии и среднем чеке между группами по «очищенным» данным"
   ]
  },
  {
   "cell_type": "markdown",
   "metadata": {},
   "source": [
    "В связи с тем, что  95-й и 99-й перцентили средних чеков равны 28 000 и 58 233.2 рублям. А 95-й и 99-й перцентили количества заказов на одного пользователя равны 2 и 4. Примем за аномальных пользователей тех, кто совершил от 3 заказов или совершил заказ дороже 58 000 рублей. Так мы уберём 1% пользователей с наибольшим числом заказов и от 1% до 5% пользователей с дорогими заказами. \n",
    "\n",
    "Сделаем срезы пользователей с числом заказов больше 2 — `users_with_many_orders` и пользователей, совершивших заказы дороже 58 000 — `users_with_expensive_orders`. Объединим их в таблице `abnormal_users`.\n",
    "Узнаем, сколько всего аномальных пользователей методом `shape()`."
   ]
  },
  {
   "cell_type": "code",
   "execution_count": 61,
   "metadata": {},
   "outputs": [
    {
     "name": "stdout",
     "output_type": "stream",
     "text": [
      "1099    148427295\n",
      "18      199603092\n",
      "23      237748145\n",
      "37      249864742\n",
      "68      457167155\n",
      "dtype: int64\n",
      "31\n"
     ]
    }
   ],
   "source": [
    "# срез пользователей с аномальными заказами\n",
    "users_with_many_orders = pd.concat(\n",
    "    [\n",
    "        orders_by_users_A[orders_by_users_A['orders'] > 2]['user_id'],\n",
    "        orders_by_users_B[orders_by_users_B['orders'] > 2]['user_id'],\n",
    "    ],\n",
    "    axis=0,\n",
    ")\n",
    "# срез пользователей с аномальным средним чеком\n",
    "users_with_expensive_orders = orders[orders['revenue'] > 58000]['visitor_id']\n",
    "# объединение таблиц\n",
    "abnormal_users = (\n",
    "    pd.concat([users_with_many_orders, users_with_expensive_orders], axis=0)\n",
    "    .drop_duplicates()\n",
    "    .sort_values()\n",
    ")\n",
    "# отображение первых 5 строк с аномальными пользователями\n",
    "print(abnormal_users.head(5))\n",
    "# отображение количества аномальных пользователей\n",
    "print(abnormal_users.shape[0])"
   ]
  },
  {
   "cell_type": "markdown",
   "metadata": {},
   "source": [
    "Всего 24 аномальных пользователей.\n",
    "Узнаем, как их действия повлияли на результаты теста. Посчитаем статистическую значимость различий в конверсии между группами теста по очищенным данным. Сначала подготовим выборки количества заказов по пользователям по группам теста:"
   ]
  },
  {
   "cell_type": "code",
   "execution_count": 62,
   "metadata": {},
   "outputs": [],
   "source": [
    "# число заказов пользователей (за исключением аномальных) группы А\n",
    "sample_filtered_A = pd.concat(\n",
    "    [orders_by_users_A[\n",
    "        np.logical_not(orders_by_users_A['user_id'].isin(abnormal_users))]['orders'],\n",
    "     pd.Series(0,\n",
    "               index=np.arange(\n",
    "                   data['visitors_per_date_A'].sum() - len(orders_by_users_A['orders'])),\n",
    "               name='orders')],\n",
    "    axis=0,\n",
    ")\n",
    "# число заказов пользователей (за исключением аномальных) группы В\n",
    "sample_filtered_B = pd.concat(\n",
    "    [orders_by_users_B[\n",
    "        np.logical_not(orders_by_users_B['user_id'].isin(abnormal_users))]['orders'],\n",
    "     pd.Series(0,\n",
    "               index=np.arange(\n",
    "                   data['visitors_per_date_B'].sum() - len(orders_by_users_B['orders'])),\n",
    "               name='orders')],\n",
    "    axis=0,\n",
    ")"
   ]
  },
  {
   "cell_type": "markdown",
   "metadata": {},
   "source": [
    "Применим статистический критерий Манна-Уитни к полученным выборкам:"
   ]
  },
  {
   "cell_type": "code",
   "execution_count": 63,
   "metadata": {},
   "outputs": [
    {
     "name": "stdout",
     "output_type": "stream",
     "text": [
      "p-value: 0.01\n",
      "Относительный прирост конверсии группы B: 0.17\n",
      "Отвергаем нулевую гипотезу: различия в конверсии между группами есть\n"
     ]
    }
   ],
   "source": [
    "alpha = 0.05 # критический уровень статической значимости\n",
    "resalts = st.mannwhitneyu(sample_filtered_A, sample_filtered_B)[1] # проверка гипотезы\n",
    "print(\"p-value: {0:.2f}\".format(resalts)) # вывод на экран получившегося p-значения\n",
    "print(\"Относительный прирост конверсии группы B: {0:.2f}\".format(sample_filtered_B.mean() \n",
    "                                                                 / sample_filtered_A.mean() - 1))\n",
    "if resalts < alpha: # сравнение получившегося p-значения с заданным уровнем статистической значимости\n",
    "    print('Отвергаем нулевую гипотезу: различия в конверсии между группами есть')\n",
    "else:\n",
    "    print('Не получилось отвергнуть нулевую гипотезу: различий в конверсии между группами нет')"
   ]
  },
  {
   "cell_type": "markdown",
   "metadata": {},
   "source": [
    "P-value уменьшился, а разница между сегментами увеличилась с 14% до 17%. \n",
    "\n",
    "Проверим, что произойдет с результатами по среднему чеку."
   ]
  },
  {
   "cell_type": "code",
   "execution_count": 64,
   "metadata": {},
   "outputs": [
    {
     "name": "stdout",
     "output_type": "stream",
     "text": [
      "p-value: 0.80\n",
      "Относительные различия в среднем чеке между группами: -0.02\n",
      "Не получилось отвергнуть нулевую гипотезу: различий в среднем чеке между группами нет\n"
     ]
    }
   ],
   "source": [
    "resalts = st.mannwhitneyu(\n",
    "    orders[\n",
    "        np.logical_and(\n",
    "            orders['group']=='A',\n",
    "            np.logical_not(orders['visitor_id'].isin(abnormal_users))\n",
    "        )\n",
    "    ]['revenue'],\n",
    "    orders[\n",
    "        np.logical_and(\n",
    "            orders['group']=='B',\n",
    "            np.logical_not(orders['visitor_id'].isin(abnormal_users))\n",
    "        )\n",
    "    ]['revenue'])[1]    # проверка гипотезы\n",
    "print(\"p-value: {0:.2f}\".format(resalts)) # вывод на экран получившегося p-значения\n",
    "print('Относительные различия в среднем чеке между группами: {0:.2f}'\n",
    "      .format(\n",
    "          orders[\n",
    "              np.logical_and(\n",
    "                  orders['group']=='B',\n",
    "                  np.logical_not(orders['visitor_id'].isin(abnormal_users))\n",
    "              )\n",
    "          ]['revenue'].mean()\n",
    "          / orders[\n",
    "              np.logical_and(\n",
    "                  orders['group']=='A',\n",
    "                  np.logical_not(orders['visitor_id'].isin(abnormal_users))\n",
    "              )\n",
    "          ]['revenue'].mean() \n",
    "          - 1\n",
    "      )\n",
    "     )\n",
    "if resalts < alpha: # сравнение получившегося p-значения с заданным уровнем статистической значимости\n",
    "    print('Отвергаем нулевую гипотезу: различия в среднем чеке между группами есть')\n",
    "else:\n",
    "    print('Не получилось отвергнуть нулевую гипотезу: различий в среднем чеке между группами нет')"
   ]
  },
  {
   "cell_type": "markdown",
   "metadata": {},
   "source": [
    "P-value увеличился. Также разница между сегментами сократилась с 26% до -2%, т.е. средний чек группы В стал ниже на 2% среднего чека группы А. Общие выводы по результатам теста остались без изменений."
   ]
  },
  {
   "cell_type": "markdown",
   "metadata": {},
   "source": [
    "### Вывод"
   ]
  },
  {
   "cell_type": "markdown",
   "metadata": {},
   "source": [
    "Факты:\n",
    "* Есть статистически значимое различие по конверсии между группами как по сырым данным, так и после фильтрации аномалий;\n",
    "* Нет статистически значимого различия по среднему чеку между группами ни по «сырым», ни по данным после фильтрации;\n",
    "* График различия конверсии между группами сообщает, что результаты группы B лучше группы A: имеют тенденцию к росту, либо зафиксировались около среднего значения;\n",
    "* График различия среднего чека колеблется. Сделать из этого графика определённые выводы нельзя.\n",
    "\n",
    "На основании вышеперечисленных фактов принимаем решение остановить тест, зафиксировать победу группы В над группой А."
   ]
  },
  {
   "cell_type": "markdown",
   "metadata": {},
   "source": [
    "## Общий вывод"
   ]
  },
  {
   "cell_type": "markdown",
   "metadata": {},
   "source": [
    "Пять наиболее перспективных гипотез в порядке убывания:\n",
    "* по `ICE`: 8, 0, 7, 6 и 2;\n",
    "* по `RICE`: 7, 2, 0, 6, 8.\n",
    "\n",
    "Результат анализа А/В-теста: зафиксирована победа группы В над группой А."
   ]
  }
 ],
 "metadata": {
  "ExecuteTimeLog": [
   {
    "duration": 1135,
    "start_time": "2022-05-18T04:17:18.427Z"
   },
   {
    "duration": 47,
    "start_time": "2022-05-18T04:17:19.564Z"
   },
   {
    "duration": 10,
    "start_time": "2022-05-18T04:17:19.612Z"
   },
   {
    "duration": 45,
    "start_time": "2022-05-18T04:17:19.623Z"
   },
   {
    "duration": 8,
    "start_time": "2022-05-18T04:17:19.670Z"
   },
   {
    "duration": 39,
    "start_time": "2022-05-18T04:17:19.679Z"
   },
   {
    "duration": 9,
    "start_time": "2022-05-18T04:17:19.719Z"
   },
   {
    "duration": 5,
    "start_time": "2022-05-18T04:17:19.729Z"
   },
   {
    "duration": 4,
    "start_time": "2022-05-18T04:17:19.736Z"
   },
   {
    "duration": 5,
    "start_time": "2022-05-18T04:17:19.741Z"
   },
   {
    "duration": 5,
    "start_time": "2022-05-18T04:17:19.747Z"
   },
   {
    "duration": 5,
    "start_time": "2022-05-18T04:17:19.754Z"
   },
   {
    "duration": 7,
    "start_time": "2022-05-18T04:17:19.760Z"
   },
   {
    "duration": 4,
    "start_time": "2022-05-18T04:17:19.769Z"
   },
   {
    "duration": 13,
    "start_time": "2022-05-18T04:17:19.775Z"
   },
   {
    "duration": 3,
    "start_time": "2022-05-18T04:17:19.794Z"
   },
   {
    "duration": 11,
    "start_time": "2022-05-18T04:17:19.798Z"
   },
   {
    "duration": 7,
    "start_time": "2022-05-18T04:17:19.810Z"
   },
   {
    "duration": 9,
    "start_time": "2022-05-18T04:17:19.818Z"
   },
   {
    "duration": 10,
    "start_time": "2022-05-18T04:17:19.828Z"
   },
   {
    "duration": 11,
    "start_time": "2022-05-18T04:17:19.840Z"
   },
   {
    "duration": 9,
    "start_time": "2022-05-18T04:17:19.852Z"
   },
   {
    "duration": 194,
    "start_time": "2022-05-18T04:17:19.862Z"
   },
   {
    "duration": 113,
    "start_time": "2022-05-18T04:17:20.058Z"
   },
   {
    "duration": 23,
    "start_time": "2022-05-18T04:17:20.172Z"
   },
   {
    "duration": 5,
    "start_time": "2022-05-18T04:17:20.197Z"
   },
   {
    "duration": 362,
    "start_time": "2022-05-18T04:17:20.203Z"
   },
   {
    "duration": 220,
    "start_time": "2022-05-18T04:17:20.567Z"
   },
   {
    "duration": 15,
    "start_time": "2022-05-18T04:29:43.798Z"
   },
   {
    "duration": 12,
    "start_time": "2022-05-18T04:30:32.609Z"
   },
   {
    "duration": 11,
    "start_time": "2022-05-18T04:34:22.939Z"
   },
   {
    "duration": 399,
    "start_time": "2022-05-18T04:39:19.653Z"
   },
   {
    "duration": 305,
    "start_time": "2022-05-18T04:42:02.316Z"
   },
   {
    "duration": 285,
    "start_time": "2022-05-18T04:42:27.446Z"
   },
   {
    "duration": 313,
    "start_time": "2022-05-18T04:44:06.009Z"
   },
   {
    "duration": 12,
    "start_time": "2022-05-18T05:03:26.600Z"
   },
   {
    "duration": 5,
    "start_time": "2022-05-18T05:04:15.946Z"
   },
   {
    "duration": 215,
    "start_time": "2022-05-18T05:06:13.895Z"
   },
   {
    "duration": 200,
    "start_time": "2022-05-18T05:07:51.330Z"
   },
   {
    "duration": 116,
    "start_time": "2022-05-18T05:14:42.086Z"
   },
   {
    "duration": 337,
    "start_time": "2022-05-18T05:15:09.004Z"
   },
   {
    "duration": 190,
    "start_time": "2022-05-18T05:15:28.145Z"
   },
   {
    "duration": 451,
    "start_time": "2022-05-18T05:15:54.834Z"
   },
   {
    "duration": 218,
    "start_time": "2022-05-18T05:16:13.842Z"
   },
   {
    "duration": 219,
    "start_time": "2022-05-18T05:16:47.084Z"
   },
   {
    "duration": 199,
    "start_time": "2022-05-18T05:17:14.977Z"
   },
   {
    "duration": 181,
    "start_time": "2022-05-18T05:17:34.506Z"
   },
   {
    "duration": 180,
    "start_time": "2022-05-18T05:17:55.670Z"
   },
   {
    "duration": 12,
    "start_time": "2022-05-18T06:28:35.306Z"
   },
   {
    "duration": 3,
    "start_time": "2022-05-18T06:31:59.012Z"
   },
   {
    "duration": 29,
    "start_time": "2022-05-18T06:31:59.021Z"
   },
   {
    "duration": 11,
    "start_time": "2022-05-18T06:31:59.052Z"
   },
   {
    "duration": 31,
    "start_time": "2022-05-18T06:31:59.065Z"
   },
   {
    "duration": 12,
    "start_time": "2022-05-18T06:31:59.097Z"
   },
   {
    "duration": 19,
    "start_time": "2022-05-18T06:31:59.111Z"
   },
   {
    "duration": 9,
    "start_time": "2022-05-18T06:31:59.131Z"
   },
   {
    "duration": 11,
    "start_time": "2022-05-18T06:31:59.141Z"
   },
   {
    "duration": 7,
    "start_time": "2022-05-18T06:31:59.153Z"
   },
   {
    "duration": 5,
    "start_time": "2022-05-18T06:31:59.161Z"
   },
   {
    "duration": 6,
    "start_time": "2022-05-18T06:31:59.168Z"
   },
   {
    "duration": 7,
    "start_time": "2022-05-18T06:31:59.175Z"
   },
   {
    "duration": 11,
    "start_time": "2022-05-18T06:31:59.183Z"
   },
   {
    "duration": 3,
    "start_time": "2022-05-18T06:31:59.195Z"
   },
   {
    "duration": 12,
    "start_time": "2022-05-18T06:31:59.201Z"
   },
   {
    "duration": 6,
    "start_time": "2022-05-18T06:31:59.214Z"
   },
   {
    "duration": 10,
    "start_time": "2022-05-18T06:31:59.221Z"
   },
   {
    "duration": 9,
    "start_time": "2022-05-18T06:31:59.233Z"
   },
   {
    "duration": 8,
    "start_time": "2022-05-18T06:31:59.243Z"
   },
   {
    "duration": 42,
    "start_time": "2022-05-18T06:31:59.253Z"
   },
   {
    "duration": 14,
    "start_time": "2022-05-18T06:31:59.297Z"
   },
   {
    "duration": 10,
    "start_time": "2022-05-18T06:31:59.312Z"
   },
   {
    "duration": 167,
    "start_time": "2022-05-18T06:31:59.323Z"
   },
   {
    "duration": 128,
    "start_time": "2022-05-18T06:31:59.491Z"
   },
   {
    "duration": 13,
    "start_time": "2022-05-18T06:31:59.620Z"
   },
   {
    "duration": 12,
    "start_time": "2022-05-18T06:31:59.635Z"
   },
   {
    "duration": 196,
    "start_time": "2022-05-18T06:31:59.649Z"
   },
   {
    "duration": 198,
    "start_time": "2022-05-18T06:31:59.847Z"
   },
   {
    "duration": 15,
    "start_time": "2022-05-18T06:32:00.047Z"
   },
   {
    "duration": 356,
    "start_time": "2022-05-18T06:32:00.063Z"
   },
   {
    "duration": 38,
    "start_time": "2022-05-18T06:32:00.422Z"
   },
   {
    "duration": 0,
    "start_time": "2022-05-18T06:32:00.463Z"
   },
   {
    "duration": 0,
    "start_time": "2022-05-18T06:32:00.465Z"
   },
   {
    "duration": 0,
    "start_time": "2022-05-18T06:32:00.466Z"
   },
   {
    "duration": 0,
    "start_time": "2022-05-18T06:32:00.467Z"
   },
   {
    "duration": 0,
    "start_time": "2022-05-18T06:32:00.468Z"
   },
   {
    "duration": 0,
    "start_time": "2022-05-18T06:32:00.470Z"
   },
   {
    "duration": 4,
    "start_time": "2022-05-18T06:32:49.556Z"
   },
   {
    "duration": 26,
    "start_time": "2022-05-18T06:32:49.562Z"
   },
   {
    "duration": 10,
    "start_time": "2022-05-18T06:32:49.589Z"
   },
   {
    "duration": 27,
    "start_time": "2022-05-18T06:32:49.601Z"
   },
   {
    "duration": 10,
    "start_time": "2022-05-18T06:32:49.630Z"
   },
   {
    "duration": 18,
    "start_time": "2022-05-18T06:32:49.641Z"
   },
   {
    "duration": 9,
    "start_time": "2022-05-18T06:32:49.660Z"
   },
   {
    "duration": 6,
    "start_time": "2022-05-18T06:32:49.671Z"
   },
   {
    "duration": 16,
    "start_time": "2022-05-18T06:32:49.679Z"
   },
   {
    "duration": 7,
    "start_time": "2022-05-18T06:32:49.697Z"
   },
   {
    "duration": 8,
    "start_time": "2022-05-18T06:32:49.706Z"
   },
   {
    "duration": 5,
    "start_time": "2022-05-18T06:32:49.716Z"
   },
   {
    "duration": 8,
    "start_time": "2022-05-18T06:32:49.723Z"
   },
   {
    "duration": 5,
    "start_time": "2022-05-18T06:32:49.733Z"
   },
   {
    "duration": 14,
    "start_time": "2022-05-18T06:32:49.740Z"
   },
   {
    "duration": 8,
    "start_time": "2022-05-18T06:32:49.756Z"
   },
   {
    "duration": 11,
    "start_time": "2022-05-18T06:32:49.766Z"
   },
   {
    "duration": 20,
    "start_time": "2022-05-18T06:32:49.779Z"
   },
   {
    "duration": 9,
    "start_time": "2022-05-18T06:32:49.800Z"
   },
   {
    "duration": 11,
    "start_time": "2022-05-18T06:32:49.811Z"
   },
   {
    "duration": 12,
    "start_time": "2022-05-18T06:32:49.823Z"
   },
   {
    "duration": 12,
    "start_time": "2022-05-18T06:32:49.836Z"
   },
   {
    "duration": 177,
    "start_time": "2022-05-18T06:32:49.849Z"
   },
   {
    "duration": 131,
    "start_time": "2022-05-18T06:32:50.028Z"
   },
   {
    "duration": 13,
    "start_time": "2022-05-18T06:32:50.161Z"
   },
   {
    "duration": 18,
    "start_time": "2022-05-18T06:32:50.176Z"
   },
   {
    "duration": 196,
    "start_time": "2022-05-18T06:32:50.195Z"
   },
   {
    "duration": 292,
    "start_time": "2022-05-18T06:32:50.394Z"
   },
   {
    "duration": 12,
    "start_time": "2022-05-18T06:32:50.694Z"
   },
   {
    "duration": 306,
    "start_time": "2022-05-18T06:32:50.708Z"
   },
   {
    "duration": 9,
    "start_time": "2022-05-18T06:32:51.016Z"
   },
   {
    "duration": 7,
    "start_time": "2022-05-18T06:32:51.026Z"
   },
   {
    "duration": 224,
    "start_time": "2022-05-18T06:32:51.034Z"
   },
   {
    "duration": 191,
    "start_time": "2022-05-18T06:32:51.259Z"
   },
   {
    "duration": 13,
    "start_time": "2022-05-18T06:32:51.451Z"
   },
   {
    "duration": 427,
    "start_time": "2022-05-18T06:32:51.466Z"
   },
   {
    "duration": 339,
    "start_time": "2022-05-18T06:33:25.085Z"
   },
   {
    "duration": 286,
    "start_time": "2022-05-18T06:33:56.065Z"
   },
   {
    "duration": 307,
    "start_time": "2022-05-18T06:36:19.918Z"
   },
   {
    "duration": 322,
    "start_time": "2022-05-18T06:36:41.096Z"
   },
   {
    "duration": 293,
    "start_time": "2022-05-18T06:36:55.147Z"
   },
   {
    "duration": 281,
    "start_time": "2022-05-18T06:37:04.535Z"
   },
   {
    "duration": 298,
    "start_time": "2022-05-18T06:38:14.048Z"
   },
   {
    "duration": 376,
    "start_time": "2022-05-18T06:38:47.845Z"
   },
   {
    "duration": 306,
    "start_time": "2022-05-18T06:39:16.757Z"
   },
   {
    "duration": 309,
    "start_time": "2022-05-18T06:40:02.320Z"
   },
   {
    "duration": 379,
    "start_time": "2022-05-18T06:40:19.939Z"
   },
   {
    "duration": 386,
    "start_time": "2022-05-18T06:41:07.071Z"
   },
   {
    "duration": 365,
    "start_time": "2022-05-18T06:41:14.677Z"
   },
   {
    "duration": 361,
    "start_time": "2022-05-18T06:41:28.175Z"
   },
   {
    "duration": 322,
    "start_time": "2022-05-18T06:41:33.549Z"
   },
   {
    "duration": 292,
    "start_time": "2022-05-18T06:41:49.253Z"
   },
   {
    "duration": 308,
    "start_time": "2022-05-18T06:42:41.990Z"
   },
   {
    "duration": 297,
    "start_time": "2022-05-18T06:43:21.147Z"
   },
   {
    "duration": 272,
    "start_time": "2022-05-18T06:44:32.542Z"
   },
   {
    "duration": 317,
    "start_time": "2022-05-18T06:44:37.405Z"
   },
   {
    "duration": 383,
    "start_time": "2022-05-18T06:55:16.604Z"
   },
   {
    "duration": 12,
    "start_time": "2022-05-18T07:03:16.756Z"
   },
   {
    "duration": 10,
    "start_time": "2022-05-18T07:12:54.809Z"
   },
   {
    "duration": 141,
    "start_time": "2022-05-18T07:19:31.147Z"
   },
   {
    "duration": 151,
    "start_time": "2022-05-18T07:23:30.075Z"
   },
   {
    "duration": 147,
    "start_time": "2022-05-18T07:26:27.803Z"
   },
   {
    "duration": 6,
    "start_time": "2022-05-18T07:43:50.623Z"
   },
   {
    "duration": 6,
    "start_time": "2022-05-18T07:44:11.631Z"
   },
   {
    "duration": 9,
    "start_time": "2022-05-18T07:52:35.843Z"
   },
   {
    "duration": 174,
    "start_time": "2022-05-18T07:53:29.060Z"
   },
   {
    "duration": 185,
    "start_time": "2022-05-18T07:58:21.303Z"
   },
   {
    "duration": 159,
    "start_time": "2022-05-18T08:00:51.402Z"
   },
   {
    "duration": 174,
    "start_time": "2022-05-18T08:01:48.646Z"
   },
   {
    "duration": 208,
    "start_time": "2022-05-18T08:02:19.903Z"
   },
   {
    "duration": 176,
    "start_time": "2022-05-18T08:09:52.658Z"
   },
   {
    "duration": 180,
    "start_time": "2022-05-18T08:10:48.125Z"
   },
   {
    "duration": 210,
    "start_time": "2022-05-18T08:14:57.100Z"
   },
   {
    "duration": 212,
    "start_time": "2022-05-18T08:15:17.346Z"
   },
   {
    "duration": 214,
    "start_time": "2022-05-18T08:16:13.690Z"
   },
   {
    "duration": 1282,
    "start_time": "2022-05-20T15:06:40.522Z"
   },
   {
    "duration": 92,
    "start_time": "2022-05-20T15:06:41.806Z"
   },
   {
    "duration": 12,
    "start_time": "2022-05-20T15:06:41.899Z"
   },
   {
    "duration": 98,
    "start_time": "2022-05-20T15:06:41.913Z"
   },
   {
    "duration": 10,
    "start_time": "2022-05-20T15:06:42.012Z"
   },
   {
    "duration": 74,
    "start_time": "2022-05-20T15:06:42.023Z"
   },
   {
    "duration": 10,
    "start_time": "2022-05-20T15:06:42.099Z"
   },
   {
    "duration": 6,
    "start_time": "2022-05-20T15:06:42.111Z"
   },
   {
    "duration": 5,
    "start_time": "2022-05-20T15:06:42.119Z"
   },
   {
    "duration": 10,
    "start_time": "2022-05-20T15:06:42.128Z"
   },
   {
    "duration": 7,
    "start_time": "2022-05-20T15:06:42.139Z"
   },
   {
    "duration": 7,
    "start_time": "2022-05-20T15:06:42.147Z"
   },
   {
    "duration": 8,
    "start_time": "2022-05-20T15:06:42.156Z"
   },
   {
    "duration": 11,
    "start_time": "2022-05-20T15:06:42.166Z"
   },
   {
    "duration": 16,
    "start_time": "2022-05-20T15:06:42.178Z"
   },
   {
    "duration": 8,
    "start_time": "2022-05-20T15:06:42.195Z"
   },
   {
    "duration": 15,
    "start_time": "2022-05-20T15:06:42.204Z"
   },
   {
    "duration": 9,
    "start_time": "2022-05-20T15:06:42.220Z"
   },
   {
    "duration": 12,
    "start_time": "2022-05-20T15:06:42.231Z"
   },
   {
    "duration": 39,
    "start_time": "2022-05-20T15:06:42.245Z"
   },
   {
    "duration": 13,
    "start_time": "2022-05-20T15:06:42.285Z"
   },
   {
    "duration": 11,
    "start_time": "2022-05-20T15:06:42.300Z"
   },
   {
    "duration": 203,
    "start_time": "2022-05-20T15:06:42.313Z"
   },
   {
    "duration": 141,
    "start_time": "2022-05-20T15:06:42.518Z"
   },
   {
    "duration": 25,
    "start_time": "2022-05-20T15:06:42.661Z"
   },
   {
    "duration": 6,
    "start_time": "2022-05-20T15:06:42.688Z"
   },
   {
    "duration": 496,
    "start_time": "2022-05-20T15:06:42.695Z"
   },
   {
    "duration": 241,
    "start_time": "2022-05-20T15:06:43.194Z"
   },
   {
    "duration": 11,
    "start_time": "2022-05-20T15:06:43.437Z"
   },
   {
    "duration": 403,
    "start_time": "2022-05-20T15:06:43.450Z"
   },
   {
    "duration": 10,
    "start_time": "2022-05-20T15:06:43.854Z"
   },
   {
    "duration": 4,
    "start_time": "2022-05-20T15:06:43.875Z"
   },
   {
    "duration": 262,
    "start_time": "2022-05-20T15:06:43.880Z"
   },
   {
    "duration": 243,
    "start_time": "2022-05-20T15:06:44.143Z"
   },
   {
    "duration": 13,
    "start_time": "2022-05-20T15:06:44.387Z"
   },
   {
    "duration": 328,
    "start_time": "2022-05-20T15:06:44.401Z"
   },
   {
    "duration": 310,
    "start_time": "2022-05-20T15:06:44.731Z"
   },
   {
    "duration": 11,
    "start_time": "2022-05-20T15:06:45.043Z"
   },
   {
    "duration": 172,
    "start_time": "2022-05-20T15:06:45.057Z"
   },
   {
    "duration": 5,
    "start_time": "2022-05-20T15:06:45.230Z"
   },
   {
    "duration": 14,
    "start_time": "2022-05-20T15:06:45.236Z"
   },
   {
    "duration": 178,
    "start_time": "2022-05-20T15:06:45.251Z"
   },
   {
    "duration": 174,
    "start_time": "2022-05-20T15:06:45.431Z"
   },
   {
    "duration": 151,
    "start_time": "2022-05-20T16:23:28.615Z"
   },
   {
    "duration": 163,
    "start_time": "2022-05-20T16:24:13.633Z"
   },
   {
    "duration": 240,
    "start_time": "2022-05-20T16:24:30.632Z"
   },
   {
    "duration": 145,
    "start_time": "2022-05-20T16:24:53.758Z"
   },
   {
    "duration": 158,
    "start_time": "2022-05-20T16:25:03.826Z"
   },
   {
    "duration": 163,
    "start_time": "2022-05-20T16:27:46.554Z"
   },
   {
    "duration": 175,
    "start_time": "2022-05-20T16:27:59.454Z"
   },
   {
    "duration": 172,
    "start_time": "2022-05-20T16:28:14.819Z"
   },
   {
    "duration": 172,
    "start_time": "2022-05-20T16:29:17.027Z"
   },
   {
    "duration": 160,
    "start_time": "2022-05-20T16:29:38.389Z"
   },
   {
    "duration": 238,
    "start_time": "2022-05-20T16:30:54.659Z"
   },
   {
    "duration": 181,
    "start_time": "2022-05-20T16:33:40.558Z"
   },
   {
    "duration": 161,
    "start_time": "2022-05-20T16:33:51.193Z"
   },
   {
    "duration": 6,
    "start_time": "2022-05-20T16:35:19.537Z"
   },
   {
    "duration": 195,
    "start_time": "2022-05-20T16:48:41.991Z"
   },
   {
    "duration": 160,
    "start_time": "2022-05-20T16:49:23.483Z"
   },
   {
    "duration": 63,
    "start_time": "2022-05-21T06:16:26.563Z"
   },
   {
    "duration": 1526,
    "start_time": "2022-05-21T06:16:31.125Z"
   },
   {
    "duration": 56,
    "start_time": "2022-05-21T06:16:32.654Z"
   },
   {
    "duration": 13,
    "start_time": "2022-05-21T06:16:32.711Z"
   },
   {
    "duration": 90,
    "start_time": "2022-05-21T06:16:32.727Z"
   },
   {
    "duration": 13,
    "start_time": "2022-05-21T06:16:32.820Z"
   },
   {
    "duration": 74,
    "start_time": "2022-05-21T06:16:32.835Z"
   },
   {
    "duration": 14,
    "start_time": "2022-05-21T06:16:32.911Z"
   },
   {
    "duration": 62,
    "start_time": "2022-05-21T06:16:32.927Z"
   },
   {
    "duration": 59,
    "start_time": "2022-05-21T06:16:32.991Z"
   },
   {
    "duration": 180,
    "start_time": "2022-05-21T06:16:33.053Z"
   },
   {
    "duration": 56,
    "start_time": "2022-05-21T06:16:33.234Z"
   },
   {
    "duration": 69,
    "start_time": "2022-05-21T06:16:33.292Z"
   },
   {
    "duration": 53,
    "start_time": "2022-05-21T06:16:33.363Z"
   },
   {
    "duration": 49,
    "start_time": "2022-05-21T06:16:33.418Z"
   },
   {
    "duration": 77,
    "start_time": "2022-05-21T06:16:33.468Z"
   },
   {
    "duration": 86,
    "start_time": "2022-05-21T06:16:33.547Z"
   },
   {
    "duration": 52,
    "start_time": "2022-05-21T06:16:33.635Z"
   },
   {
    "duration": 71,
    "start_time": "2022-05-21T06:16:33.689Z"
   },
   {
    "duration": 65,
    "start_time": "2022-05-21T06:16:33.762Z"
   },
   {
    "duration": 63,
    "start_time": "2022-05-21T06:16:33.829Z"
   },
   {
    "duration": 56,
    "start_time": "2022-05-21T06:16:33.894Z"
   },
   {
    "duration": 50,
    "start_time": "2022-05-21T06:16:33.952Z"
   },
   {
    "duration": 206,
    "start_time": "2022-05-21T06:16:34.004Z"
   },
   {
    "duration": 145,
    "start_time": "2022-05-21T06:16:34.211Z"
   },
   {
    "duration": 19,
    "start_time": "2022-05-21T06:16:34.358Z"
   },
   {
    "duration": 56,
    "start_time": "2022-05-21T06:16:34.378Z"
   },
   {
    "duration": 457,
    "start_time": "2022-05-21T06:16:34.436Z"
   },
   {
    "duration": 243,
    "start_time": "2022-05-21T06:16:34.896Z"
   },
   {
    "duration": 14,
    "start_time": "2022-05-21T06:16:35.141Z"
   },
   {
    "duration": 567,
    "start_time": "2022-05-21T06:16:35.157Z"
   },
   {
    "duration": 14,
    "start_time": "2022-05-21T06:16:35.727Z"
   },
   {
    "duration": 51,
    "start_time": "2022-05-21T06:16:35.752Z"
   },
   {
    "duration": 343,
    "start_time": "2022-05-21T06:16:35.805Z"
   },
   {
    "duration": 294,
    "start_time": "2022-05-21T06:16:36.149Z"
   },
   {
    "duration": 18,
    "start_time": "2022-05-21T06:16:36.445Z"
   },
   {
    "duration": 452,
    "start_time": "2022-05-21T06:16:36.465Z"
   },
   {
    "duration": 358,
    "start_time": "2022-05-21T06:16:36.919Z"
   },
   {
    "duration": 14,
    "start_time": "2022-05-21T06:16:37.279Z"
   },
   {
    "duration": 238,
    "start_time": "2022-05-21T06:16:37.295Z"
   },
   {
    "duration": 6,
    "start_time": "2022-05-21T06:16:37.535Z"
   },
   {
    "duration": 49,
    "start_time": "2022-05-21T06:16:37.543Z"
   },
   {
    "duration": 231,
    "start_time": "2022-05-21T06:16:37.594Z"
   },
   {
    "duration": 216,
    "start_time": "2022-05-21T06:16:37.828Z"
   },
   {
    "duration": 6,
    "start_time": "2022-05-21T06:16:38.051Z"
   },
   {
    "duration": 200,
    "start_time": "2022-05-21T06:21:17.952Z"
   },
   {
    "duration": 18,
    "start_time": "2022-05-21T07:43:00.385Z"
   },
   {
    "duration": 2051,
    "start_time": "2022-05-21T13:30:30.689Z"
   },
   {
    "duration": 103,
    "start_time": "2022-05-21T13:30:32.743Z"
   },
   {
    "duration": 16,
    "start_time": "2022-05-21T13:30:32.851Z"
   },
   {
    "duration": 105,
    "start_time": "2022-05-21T13:30:32.874Z"
   },
   {
    "duration": 13,
    "start_time": "2022-05-21T13:30:32.981Z"
   },
   {
    "duration": 86,
    "start_time": "2022-05-21T13:30:32.996Z"
   },
   {
    "duration": 17,
    "start_time": "2022-05-21T13:30:33.083Z"
   },
   {
    "duration": 30,
    "start_time": "2022-05-21T13:30:33.102Z"
   },
   {
    "duration": 40,
    "start_time": "2022-05-21T13:30:33.134Z"
   },
   {
    "duration": 11,
    "start_time": "2022-05-21T13:30:33.178Z"
   },
   {
    "duration": 13,
    "start_time": "2022-05-21T13:30:33.191Z"
   },
   {
    "duration": 14,
    "start_time": "2022-05-21T13:30:33.207Z"
   },
   {
    "duration": 13,
    "start_time": "2022-05-21T13:30:33.224Z"
   },
   {
    "duration": 37,
    "start_time": "2022-05-21T13:30:33.239Z"
   },
   {
    "duration": 22,
    "start_time": "2022-05-21T13:30:33.278Z"
   },
   {
    "duration": 6,
    "start_time": "2022-05-21T13:30:33.302Z"
   },
   {
    "duration": 21,
    "start_time": "2022-05-21T13:30:33.310Z"
   },
   {
    "duration": 14,
    "start_time": "2022-05-21T13:30:33.333Z"
   },
   {
    "duration": 22,
    "start_time": "2022-05-21T13:30:33.349Z"
   },
   {
    "duration": 28,
    "start_time": "2022-05-21T13:30:33.374Z"
   },
   {
    "duration": 21,
    "start_time": "2022-05-21T13:30:33.404Z"
   },
   {
    "duration": 21,
    "start_time": "2022-05-21T13:30:33.430Z"
   },
   {
    "duration": 233,
    "start_time": "2022-05-21T13:30:33.453Z"
   },
   {
    "duration": 177,
    "start_time": "2022-05-21T13:30:33.688Z"
   },
   {
    "duration": 21,
    "start_time": "2022-05-21T13:30:33.869Z"
   },
   {
    "duration": 19,
    "start_time": "2022-05-21T13:30:33.892Z"
   },
   {
    "duration": 660,
    "start_time": "2022-05-21T13:30:33.914Z"
   },
   {
    "duration": 298,
    "start_time": "2022-05-21T13:30:34.578Z"
   },
   {
    "duration": 17,
    "start_time": "2022-05-21T13:30:34.880Z"
   },
   {
    "duration": 471,
    "start_time": "2022-05-21T13:30:34.900Z"
   },
   {
    "duration": 16,
    "start_time": "2022-05-21T13:30:35.373Z"
   },
   {
    "duration": 6,
    "start_time": "2022-05-21T13:30:35.392Z"
   },
   {
    "duration": 408,
    "start_time": "2022-05-21T13:30:35.401Z"
   },
   {
    "duration": 323,
    "start_time": "2022-05-21T13:30:35.817Z"
   },
   {
    "duration": 19,
    "start_time": "2022-05-21T13:30:36.148Z"
   },
   {
    "duration": 401,
    "start_time": "2022-05-21T13:30:36.169Z"
   },
   {
    "duration": 396,
    "start_time": "2022-05-21T13:30:36.573Z"
   },
   {
    "duration": 20,
    "start_time": "2022-05-21T13:30:36.981Z"
   },
   {
    "duration": 265,
    "start_time": "2022-05-21T13:30:37.003Z"
   },
   {
    "duration": 6,
    "start_time": "2022-05-21T13:30:37.271Z"
   },
   {
    "duration": 61,
    "start_time": "2022-05-21T13:30:37.279Z"
   },
   {
    "duration": 311,
    "start_time": "2022-05-21T13:30:37.342Z"
   },
   {
    "duration": 310,
    "start_time": "2022-05-21T13:30:37.659Z"
   },
   {
    "duration": 10,
    "start_time": "2022-05-21T13:30:37.971Z"
   },
   {
    "duration": 17,
    "start_time": "2022-05-21T13:30:37.983Z"
   },
   {
    "duration": 17,
    "start_time": "2022-05-21T13:30:38.002Z"
   },
   {
    "duration": 251,
    "start_time": "2022-05-21T13:36:16.426Z"
   },
   {
    "duration": 132,
    "start_time": "2022-05-21T13:45:10.875Z"
   },
   {
    "duration": 18,
    "start_time": "2022-05-21T13:46:56.282Z"
   },
   {
    "duration": 157,
    "start_time": "2022-05-21T13:47:58.175Z"
   },
   {
    "duration": 15,
    "start_time": "2022-05-21T14:31:25.036Z"
   },
   {
    "duration": 10,
    "start_time": "2022-05-21T14:33:40.182Z"
   },
   {
    "duration": 12,
    "start_time": "2022-05-21T14:33:47.070Z"
   },
   {
    "duration": 10,
    "start_time": "2022-05-21T14:33:50.520Z"
   },
   {
    "duration": 6,
    "start_time": "2022-05-21T14:34:01.525Z"
   },
   {
    "duration": 34,
    "start_time": "2022-05-21T14:34:04.880Z"
   },
   {
    "duration": 14,
    "start_time": "2022-05-21T14:41:35.076Z"
   },
   {
    "duration": 73,
    "start_time": "2022-05-23T07:39:51.560Z"
   },
   {
    "duration": 1546,
    "start_time": "2022-05-23T07:39:58.368Z"
   },
   {
    "duration": 94,
    "start_time": "2022-05-23T07:39:59.917Z"
   },
   {
    "duration": 15,
    "start_time": "2022-05-23T07:40:00.013Z"
   },
   {
    "duration": 107,
    "start_time": "2022-05-23T07:40:00.031Z"
   },
   {
    "duration": 14,
    "start_time": "2022-05-23T07:40:00.140Z"
   },
   {
    "duration": 76,
    "start_time": "2022-05-23T07:40:00.155Z"
   },
   {
    "duration": 13,
    "start_time": "2022-05-23T07:40:00.232Z"
   },
   {
    "duration": 8,
    "start_time": "2022-05-23T07:40:00.247Z"
   },
   {
    "duration": 8,
    "start_time": "2022-05-23T07:40:00.257Z"
   },
   {
    "duration": 7,
    "start_time": "2022-05-23T07:40:00.267Z"
   },
   {
    "duration": 8,
    "start_time": "2022-05-23T07:40:00.276Z"
   },
   {
    "duration": 9,
    "start_time": "2022-05-23T07:40:00.286Z"
   },
   {
    "duration": 8,
    "start_time": "2022-05-23T07:40:00.297Z"
   },
   {
    "duration": 7,
    "start_time": "2022-05-23T07:40:00.307Z"
   },
   {
    "duration": 21,
    "start_time": "2022-05-23T07:40:00.315Z"
   },
   {
    "duration": 7,
    "start_time": "2022-05-23T07:40:00.338Z"
   },
   {
    "duration": 18,
    "start_time": "2022-05-23T07:40:00.347Z"
   },
   {
    "duration": 19,
    "start_time": "2022-05-23T07:40:00.366Z"
   },
   {
    "duration": 11,
    "start_time": "2022-05-23T07:40:00.386Z"
   },
   {
    "duration": 23,
    "start_time": "2022-05-23T07:40:00.399Z"
   },
   {
    "duration": 25,
    "start_time": "2022-05-23T07:40:00.423Z"
   },
   {
    "duration": 17,
    "start_time": "2022-05-23T07:40:00.449Z"
   },
   {
    "duration": 192,
    "start_time": "2022-05-23T07:40:00.468Z"
   },
   {
    "duration": 137,
    "start_time": "2022-05-23T07:40:00.662Z"
   },
   {
    "duration": 15,
    "start_time": "2022-05-23T07:40:00.801Z"
   },
   {
    "duration": 30,
    "start_time": "2022-05-23T07:40:00.818Z"
   },
   {
    "duration": 453,
    "start_time": "2022-05-23T07:40:00.850Z"
   },
   {
    "duration": 245,
    "start_time": "2022-05-23T07:40:01.307Z"
   },
   {
    "duration": 12,
    "start_time": "2022-05-23T07:40:01.554Z"
   },
   {
    "duration": 400,
    "start_time": "2022-05-23T07:40:01.583Z"
   },
   {
    "duration": 12,
    "start_time": "2022-05-23T07:40:01.985Z"
   },
   {
    "duration": 48,
    "start_time": "2022-05-23T07:40:01.999Z"
   },
   {
    "duration": 277,
    "start_time": "2022-05-23T07:40:02.049Z"
   },
   {
    "duration": 233,
    "start_time": "2022-05-23T07:40:02.328Z"
   },
   {
    "duration": 21,
    "start_time": "2022-05-23T07:40:02.563Z"
   },
   {
    "duration": 342,
    "start_time": "2022-05-23T07:40:02.586Z"
   },
   {
    "duration": 293,
    "start_time": "2022-05-23T07:40:02.930Z"
   },
   {
    "duration": 15,
    "start_time": "2022-05-23T07:40:03.225Z"
   },
   {
    "duration": 224,
    "start_time": "2022-05-23T07:40:03.242Z"
   },
   {
    "duration": 15,
    "start_time": "2022-05-23T07:40:03.468Z"
   },
   {
    "duration": 11,
    "start_time": "2022-05-23T07:40:03.485Z"
   },
   {
    "duration": 187,
    "start_time": "2022-05-23T07:40:03.498Z"
   },
   {
    "duration": 187,
    "start_time": "2022-05-23T07:40:03.688Z"
   },
   {
    "duration": 5,
    "start_time": "2022-05-23T07:40:03.883Z"
   },
   {
    "duration": 305,
    "start_time": "2022-05-23T07:40:03.889Z"
   },
   {
    "duration": 132,
    "start_time": "2022-05-23T07:40:04.196Z"
   },
   {
    "duration": 7,
    "start_time": "2022-05-23T07:40:04.330Z"
   },
   {
    "duration": 26,
    "start_time": "2022-05-23T07:40:04.338Z"
   },
   {
    "duration": 10,
    "start_time": "2022-05-23T07:40:04.383Z"
   },
   {
    "duration": 63,
    "start_time": "2022-05-23T07:40:04.395Z"
   },
   {
    "duration": 0,
    "start_time": "2022-05-23T07:40:04.460Z"
   },
   {
    "duration": 0,
    "start_time": "2022-05-23T07:40:04.461Z"
   },
   {
    "duration": 0,
    "start_time": "2022-05-23T07:40:04.462Z"
   },
   {
    "duration": 250,
    "start_time": "2022-05-23T07:40:36.553Z"
   },
   {
    "duration": 215,
    "start_time": "2022-05-23T07:43:25.592Z"
   },
   {
    "duration": 8,
    "start_time": "2022-05-23T07:51:23.559Z"
   },
   {
    "duration": 264,
    "start_time": "2022-05-23T07:55:17.769Z"
   },
   {
    "duration": 4,
    "start_time": "2022-05-23T07:57:23.056Z"
   },
   {
    "duration": 34,
    "start_time": "2022-05-23T07:57:23.062Z"
   },
   {
    "duration": 10,
    "start_time": "2022-05-23T07:57:23.098Z"
   },
   {
    "duration": 51,
    "start_time": "2022-05-23T07:57:23.109Z"
   },
   {
    "duration": 11,
    "start_time": "2022-05-23T07:57:23.162Z"
   },
   {
    "duration": 28,
    "start_time": "2022-05-23T07:57:23.174Z"
   },
   {
    "duration": 11,
    "start_time": "2022-05-23T07:57:23.203Z"
   },
   {
    "duration": 8,
    "start_time": "2022-05-23T07:57:23.216Z"
   },
   {
    "duration": 8,
    "start_time": "2022-05-23T07:57:23.226Z"
   },
   {
    "duration": 10,
    "start_time": "2022-05-23T07:57:23.235Z"
   },
   {
    "duration": 8,
    "start_time": "2022-05-23T07:57:23.247Z"
   },
   {
    "duration": 10,
    "start_time": "2022-05-23T07:57:23.257Z"
   },
   {
    "duration": 4,
    "start_time": "2022-05-23T07:57:23.284Z"
   },
   {
    "duration": 7,
    "start_time": "2022-05-23T07:57:23.291Z"
   },
   {
    "duration": 20,
    "start_time": "2022-05-23T07:57:23.300Z"
   },
   {
    "duration": 7,
    "start_time": "2022-05-23T07:57:23.322Z"
   },
   {
    "duration": 11,
    "start_time": "2022-05-23T07:57:23.331Z"
   },
   {
    "duration": 10,
    "start_time": "2022-05-23T07:57:23.344Z"
   },
   {
    "duration": 10,
    "start_time": "2022-05-23T07:57:23.384Z"
   },
   {
    "duration": 17,
    "start_time": "2022-05-23T07:57:23.396Z"
   },
   {
    "duration": 18,
    "start_time": "2022-05-23T07:57:23.415Z"
   },
   {
    "duration": 15,
    "start_time": "2022-05-23T07:57:23.435Z"
   },
   {
    "duration": 187,
    "start_time": "2022-05-23T07:57:23.452Z"
   },
   {
    "duration": 149,
    "start_time": "2022-05-23T07:57:23.641Z"
   },
   {
    "duration": 16,
    "start_time": "2022-05-23T07:57:23.791Z"
   },
   {
    "duration": 8,
    "start_time": "2022-05-23T07:57:23.808Z"
   },
   {
    "duration": 245,
    "start_time": "2022-05-23T07:57:23.817Z"
   },
   {
    "duration": 320,
    "start_time": "2022-05-23T07:57:24.065Z"
   },
   {
    "duration": 11,
    "start_time": "2022-05-23T07:57:24.387Z"
   },
   {
    "duration": 328,
    "start_time": "2022-05-23T07:57:24.399Z"
   },
   {
    "duration": 11,
    "start_time": "2022-05-23T07:57:24.728Z"
   },
   {
    "duration": 9,
    "start_time": "2022-05-23T07:57:24.740Z"
   },
   {
    "duration": 240,
    "start_time": "2022-05-23T07:57:24.751Z"
   },
   {
    "duration": 228,
    "start_time": "2022-05-23T07:57:24.993Z"
   },
   {
    "duration": 14,
    "start_time": "2022-05-23T07:57:25.222Z"
   },
   {
    "duration": 308,
    "start_time": "2022-05-23T07:57:25.238Z"
   },
   {
    "duration": 299,
    "start_time": "2022-05-23T07:57:25.547Z"
   },
   {
    "duration": 16,
    "start_time": "2022-05-23T07:57:25.848Z"
   },
   {
    "duration": 183,
    "start_time": "2022-05-23T07:57:25.865Z"
   },
   {
    "duration": 5,
    "start_time": "2022-05-23T07:57:26.050Z"
   },
   {
    "duration": 25,
    "start_time": "2022-05-23T07:57:26.059Z"
   },
   {
    "duration": 175,
    "start_time": "2022-05-23T07:57:26.086Z"
   },
   {
    "duration": 184,
    "start_time": "2022-05-23T07:57:26.263Z"
   },
   {
    "duration": 8,
    "start_time": "2022-05-23T07:57:26.449Z"
   },
   {
    "duration": 237,
    "start_time": "2022-05-23T07:57:26.459Z"
   },
   {
    "duration": 164,
    "start_time": "2022-05-23T07:57:26.700Z"
   },
   {
    "duration": 17,
    "start_time": "2022-05-23T07:57:26.866Z"
   },
   {
    "duration": 36,
    "start_time": "2022-05-23T07:57:26.885Z"
   },
   {
    "duration": 19,
    "start_time": "2022-05-23T07:57:26.923Z"
   },
   {
    "duration": 11,
    "start_time": "2022-05-23T07:57:26.943Z"
   },
   {
    "duration": 0,
    "start_time": "2022-05-23T07:57:26.956Z"
   },
   {
    "duration": 0,
    "start_time": "2022-05-23T07:57:26.957Z"
   },
   {
    "duration": 0,
    "start_time": "2022-05-23T07:57:26.958Z"
   },
   {
    "duration": 212,
    "start_time": "2022-05-23T08:03:25.130Z"
   },
   {
    "duration": 230,
    "start_time": "2022-05-23T08:08:53.421Z"
   },
   {
    "duration": 228,
    "start_time": "2022-05-23T08:29:02.270Z"
   },
   {
    "duration": 214,
    "start_time": "2022-05-23T08:29:40.469Z"
   },
   {
    "duration": 223,
    "start_time": "2022-05-23T08:37:05.776Z"
   },
   {
    "duration": 9,
    "start_time": "2022-05-23T08:51:57.494Z"
   },
   {
    "duration": 11,
    "start_time": "2022-05-23T08:52:30.247Z"
   },
   {
    "duration": 10,
    "start_time": "2022-05-23T08:53:04.851Z"
   },
   {
    "duration": 7,
    "start_time": "2022-05-23T08:53:26.693Z"
   },
   {
    "duration": 28,
    "start_time": "2022-05-23T08:58:44.213Z"
   },
   {
    "duration": 30,
    "start_time": "2022-05-23T08:58:55.025Z"
   },
   {
    "duration": 28,
    "start_time": "2022-05-23T09:02:27.253Z"
   },
   {
    "duration": 4,
    "start_time": "2022-05-23T09:05:52.007Z"
   },
   {
    "duration": 38,
    "start_time": "2022-05-23T09:06:00.478Z"
   },
   {
    "duration": 30,
    "start_time": "2022-05-23T09:06:16.570Z"
   },
   {
    "duration": 44,
    "start_time": "2022-05-23T09:06:31.231Z"
   },
   {
    "duration": 37,
    "start_time": "2022-05-23T09:10:52.702Z"
   },
   {
    "duration": 28,
    "start_time": "2022-05-23T09:12:33.990Z"
   },
   {
    "duration": 6,
    "start_time": "2022-05-23T09:21:11.647Z"
   },
   {
    "duration": 10,
    "start_time": "2022-05-23T09:21:42.469Z"
   },
   {
    "duration": 12,
    "start_time": "2022-05-23T09:37:10.922Z"
   },
   {
    "duration": 11,
    "start_time": "2022-05-23T09:38:18.704Z"
   },
   {
    "duration": 828,
    "start_time": "2022-05-23T09:52:20.403Z"
   },
   {
    "duration": 13,
    "start_time": "2022-05-23T09:54:17.038Z"
   },
   {
    "duration": 9,
    "start_time": "2022-05-23T09:54:45.056Z"
   },
   {
    "duration": 9,
    "start_time": "2022-05-23T09:55:43.477Z"
   },
   {
    "duration": 64,
    "start_time": "2022-05-24T02:45:12.138Z"
   },
   {
    "duration": 1249,
    "start_time": "2022-05-24T02:45:18.357Z"
   },
   {
    "duration": 73,
    "start_time": "2022-05-24T02:45:19.609Z"
   },
   {
    "duration": 12,
    "start_time": "2022-05-24T02:45:19.683Z"
   },
   {
    "duration": 90,
    "start_time": "2022-05-24T02:45:19.697Z"
   },
   {
    "duration": 10,
    "start_time": "2022-05-24T02:45:19.789Z"
   },
   {
    "duration": 66,
    "start_time": "2022-05-24T02:45:19.801Z"
   },
   {
    "duration": 11,
    "start_time": "2022-05-24T02:45:19.869Z"
   },
   {
    "duration": 9,
    "start_time": "2022-05-24T02:45:19.882Z"
   },
   {
    "duration": 9,
    "start_time": "2022-05-24T02:45:19.893Z"
   },
   {
    "duration": 6,
    "start_time": "2022-05-24T02:45:19.904Z"
   },
   {
    "duration": 7,
    "start_time": "2022-05-24T02:45:19.911Z"
   },
   {
    "duration": 10,
    "start_time": "2022-05-24T02:45:19.919Z"
   },
   {
    "duration": 10,
    "start_time": "2022-05-24T02:45:19.930Z"
   },
   {
    "duration": 7,
    "start_time": "2022-05-24T02:45:19.943Z"
   },
   {
    "duration": 22,
    "start_time": "2022-05-24T02:45:19.951Z"
   },
   {
    "duration": 8,
    "start_time": "2022-05-24T02:45:19.975Z"
   },
   {
    "duration": 15,
    "start_time": "2022-05-24T02:45:19.984Z"
   },
   {
    "duration": 13,
    "start_time": "2022-05-24T02:45:20.000Z"
   },
   {
    "duration": 21,
    "start_time": "2022-05-24T02:45:20.015Z"
   },
   {
    "duration": 21,
    "start_time": "2022-05-24T02:45:20.038Z"
   },
   {
    "duration": 20,
    "start_time": "2022-05-24T02:45:20.061Z"
   },
   {
    "duration": 11,
    "start_time": "2022-05-24T02:45:20.082Z"
   },
   {
    "duration": 189,
    "start_time": "2022-05-24T02:45:20.094Z"
   },
   {
    "duration": 142,
    "start_time": "2022-05-24T02:45:20.285Z"
   },
   {
    "duration": 17,
    "start_time": "2022-05-24T02:45:20.429Z"
   },
   {
    "duration": 10,
    "start_time": "2022-05-24T02:45:20.448Z"
   },
   {
    "duration": 420,
    "start_time": "2022-05-24T02:45:20.460Z"
   },
   {
    "duration": 219,
    "start_time": "2022-05-24T02:45:20.882Z"
   },
   {
    "duration": 23,
    "start_time": "2022-05-24T02:45:21.103Z"
   },
   {
    "duration": 348,
    "start_time": "2022-05-24T02:45:21.128Z"
   },
   {
    "duration": 12,
    "start_time": "2022-05-24T02:45:21.478Z"
   },
   {
    "duration": 6,
    "start_time": "2022-05-24T02:45:21.492Z"
   },
   {
    "duration": 241,
    "start_time": "2022-05-24T02:45:21.500Z"
   },
   {
    "duration": 210,
    "start_time": "2022-05-24T02:45:21.743Z"
   },
   {
    "duration": 16,
    "start_time": "2022-05-24T02:45:21.956Z"
   },
   {
    "duration": 299,
    "start_time": "2022-05-24T02:45:21.974Z"
   },
   {
    "duration": 272,
    "start_time": "2022-05-24T02:45:22.275Z"
   },
   {
    "duration": 10,
    "start_time": "2022-05-24T02:45:22.549Z"
   },
   {
    "duration": 163,
    "start_time": "2022-05-24T02:45:22.561Z"
   },
   {
    "duration": 6,
    "start_time": "2022-05-24T02:45:22.726Z"
   },
   {
    "duration": 15,
    "start_time": "2022-05-24T02:45:22.737Z"
   },
   {
    "duration": 201,
    "start_time": "2022-05-24T02:45:22.754Z"
   },
   {
    "duration": 180,
    "start_time": "2022-05-24T02:45:22.957Z"
   },
   {
    "duration": 5,
    "start_time": "2022-05-24T02:45:23.139Z"
   },
   {
    "duration": 232,
    "start_time": "2022-05-24T02:45:23.145Z"
   },
   {
    "duration": 128,
    "start_time": "2022-05-24T02:45:23.379Z"
   },
   {
    "duration": 6,
    "start_time": "2022-05-24T02:45:23.508Z"
   },
   {
    "duration": 96,
    "start_time": "2022-05-24T02:45:23.516Z"
   },
   {
    "duration": 0,
    "start_time": "2022-05-24T02:45:23.613Z"
   },
   {
    "duration": 0,
    "start_time": "2022-05-24T02:45:23.615Z"
   },
   {
    "duration": 0,
    "start_time": "2022-05-24T02:45:23.616Z"
   },
   {
    "duration": 1,
    "start_time": "2022-05-24T02:45:23.625Z"
   },
   {
    "duration": 0,
    "start_time": "2022-05-24T02:45:23.627Z"
   },
   {
    "duration": 27,
    "start_time": "2022-05-24T02:45:39.350Z"
   },
   {
    "duration": 13,
    "start_time": "2022-05-24T02:46:50.707Z"
   },
   {
    "duration": 9,
    "start_time": "2022-05-24T02:49:09.248Z"
   },
   {
    "duration": 10,
    "start_time": "2022-05-24T03:10:44.409Z"
   },
   {
    "duration": 10,
    "start_time": "2022-05-24T03:11:58.575Z"
   },
   {
    "duration": 20,
    "start_time": "2022-05-24T03:12:50.239Z"
   },
   {
    "duration": 30,
    "start_time": "2022-05-24T03:13:40.804Z"
   },
   {
    "duration": 32,
    "start_time": "2022-05-24T03:14:32.382Z"
   },
   {
    "duration": 9,
    "start_time": "2022-05-24T03:14:47.943Z"
   },
   {
    "duration": 29,
    "start_time": "2022-05-24T03:14:50.086Z"
   },
   {
    "duration": 28,
    "start_time": "2022-05-24T03:18:00.549Z"
   },
   {
    "duration": 28,
    "start_time": "2022-05-24T03:20:54.282Z"
   },
   {
    "duration": 25,
    "start_time": "2022-05-24T03:20:59.705Z"
   },
   {
    "duration": 29,
    "start_time": "2022-05-24T03:21:05.000Z"
   },
   {
    "duration": 27,
    "start_time": "2022-05-24T03:21:19.002Z"
   },
   {
    "duration": 39,
    "start_time": "2022-05-24T03:21:24.210Z"
   },
   {
    "duration": 5,
    "start_time": "2022-05-24T04:05:58.940Z"
   },
   {
    "duration": 5,
    "start_time": "2022-05-24T04:06:10.378Z"
   },
   {
    "duration": 6,
    "start_time": "2022-05-24T04:07:58.548Z"
   },
   {
    "duration": 415,
    "start_time": "2022-05-24T04:09:38.959Z"
   },
   {
    "duration": 13,
    "start_time": "2022-05-24T04:11:50.576Z"
   },
   {
    "duration": 15,
    "start_time": "2022-05-24T04:15:56.660Z"
   },
   {
    "duration": 12,
    "start_time": "2022-05-24T05:14:13.449Z"
   },
   {
    "duration": 1234,
    "start_time": "2022-05-24T19:24:37.822Z"
   },
   {
    "duration": 65,
    "start_time": "2022-05-24T19:24:39.058Z"
   },
   {
    "duration": 10,
    "start_time": "2022-05-24T19:24:39.125Z"
   },
   {
    "duration": 86,
    "start_time": "2022-05-24T19:24:39.137Z"
   },
   {
    "duration": 12,
    "start_time": "2022-05-24T19:24:39.225Z"
   },
   {
    "duration": 59,
    "start_time": "2022-05-24T19:24:39.239Z"
   },
   {
    "duration": 10,
    "start_time": "2022-05-24T19:24:39.300Z"
   },
   {
    "duration": 7,
    "start_time": "2022-05-24T19:24:39.311Z"
   },
   {
    "duration": 7,
    "start_time": "2022-05-24T19:24:39.320Z"
   },
   {
    "duration": 4,
    "start_time": "2022-05-24T19:24:39.330Z"
   },
   {
    "duration": 8,
    "start_time": "2022-05-24T19:24:39.336Z"
   },
   {
    "duration": 8,
    "start_time": "2022-05-24T19:24:39.345Z"
   },
   {
    "duration": 8,
    "start_time": "2022-05-24T19:24:39.354Z"
   },
   {
    "duration": 5,
    "start_time": "2022-05-24T19:24:39.364Z"
   },
   {
    "duration": 15,
    "start_time": "2022-05-24T19:24:39.371Z"
   },
   {
    "duration": 6,
    "start_time": "2022-05-24T19:24:39.388Z"
   },
   {
    "duration": 13,
    "start_time": "2022-05-24T19:24:39.396Z"
   },
   {
    "duration": 8,
    "start_time": "2022-05-24T19:24:39.410Z"
   },
   {
    "duration": 37,
    "start_time": "2022-05-24T19:24:39.419Z"
   },
   {
    "duration": 11,
    "start_time": "2022-05-24T19:24:39.458Z"
   },
   {
    "duration": 10,
    "start_time": "2022-05-24T19:24:39.471Z"
   },
   {
    "duration": 11,
    "start_time": "2022-05-24T19:24:39.483Z"
   },
   {
    "duration": 203,
    "start_time": "2022-05-24T19:24:39.495Z"
   },
   {
    "duration": 140,
    "start_time": "2022-05-24T19:24:39.699Z"
   },
   {
    "duration": 26,
    "start_time": "2022-05-24T19:24:39.841Z"
   },
   {
    "duration": 6,
    "start_time": "2022-05-24T19:24:39.868Z"
   },
   {
    "duration": 442,
    "start_time": "2022-05-24T19:24:39.876Z"
   },
   {
    "duration": 227,
    "start_time": "2022-05-24T19:24:40.322Z"
   },
   {
    "duration": 12,
    "start_time": "2022-05-24T19:24:40.552Z"
   },
   {
    "duration": 330,
    "start_time": "2022-05-24T19:24:40.565Z"
   },
   {
    "duration": 11,
    "start_time": "2022-05-24T19:24:40.896Z"
   },
   {
    "duration": 14,
    "start_time": "2022-05-24T19:24:40.908Z"
   },
   {
    "duration": 238,
    "start_time": "2022-05-24T19:24:40.924Z"
   },
   {
    "duration": 225,
    "start_time": "2022-05-24T19:24:41.164Z"
   },
   {
    "duration": 12,
    "start_time": "2022-05-24T19:24:41.391Z"
   },
   {
    "duration": 318,
    "start_time": "2022-05-24T19:24:41.405Z"
   },
   {
    "duration": 327,
    "start_time": "2022-05-24T19:24:41.725Z"
   },
   {
    "duration": 12,
    "start_time": "2022-05-24T19:24:42.053Z"
   },
   {
    "duration": 168,
    "start_time": "2022-05-24T19:24:42.067Z"
   },
   {
    "duration": 5,
    "start_time": "2022-05-24T19:24:42.237Z"
   },
   {
    "duration": 9,
    "start_time": "2022-05-24T19:24:42.251Z"
   },
   {
    "duration": 180,
    "start_time": "2022-05-24T19:24:42.262Z"
   },
   {
    "duration": 201,
    "start_time": "2022-05-24T19:24:42.444Z"
   },
   {
    "duration": 7,
    "start_time": "2022-05-24T19:24:42.646Z"
   },
   {
    "duration": 234,
    "start_time": "2022-05-24T19:24:42.655Z"
   },
   {
    "duration": 135,
    "start_time": "2022-05-24T19:24:42.891Z"
   },
   {
    "duration": 6,
    "start_time": "2022-05-24T19:24:43.028Z"
   },
   {
    "duration": 42,
    "start_time": "2022-05-24T19:24:43.035Z"
   },
   {
    "duration": 11,
    "start_time": "2022-05-24T19:24:43.078Z"
   },
   {
    "duration": 8,
    "start_time": "2022-05-24T19:24:43.091Z"
   },
   {
    "duration": 9,
    "start_time": "2022-05-24T19:24:43.102Z"
   },
   {
    "duration": 53,
    "start_time": "2022-05-24T19:24:43.112Z"
   },
   {
    "duration": 14,
    "start_time": "2022-05-24T19:24:43.167Z"
   },
   {
    "duration": 3,
    "start_time": "2022-05-24T19:25:03.894Z"
   },
   {
    "duration": 35,
    "start_time": "2022-05-24T19:25:03.899Z"
   },
   {
    "duration": 10,
    "start_time": "2022-05-24T19:25:03.936Z"
   },
   {
    "duration": 44,
    "start_time": "2022-05-24T19:25:03.947Z"
   },
   {
    "duration": 11,
    "start_time": "2022-05-24T19:25:03.993Z"
   },
   {
    "duration": 32,
    "start_time": "2022-05-24T19:25:04.005Z"
   },
   {
    "duration": 9,
    "start_time": "2022-05-24T19:25:04.039Z"
   },
   {
    "duration": 4,
    "start_time": "2022-05-24T19:25:04.050Z"
   },
   {
    "duration": 5,
    "start_time": "2022-05-24T19:25:04.056Z"
   },
   {
    "duration": 5,
    "start_time": "2022-05-24T19:25:04.062Z"
   },
   {
    "duration": 5,
    "start_time": "2022-05-24T19:25:04.069Z"
   },
   {
    "duration": 5,
    "start_time": "2022-05-24T19:25:04.075Z"
   },
   {
    "duration": 7,
    "start_time": "2022-05-24T19:25:04.082Z"
   },
   {
    "duration": 6,
    "start_time": "2022-05-24T19:25:04.090Z"
   },
   {
    "duration": 14,
    "start_time": "2022-05-24T19:25:04.098Z"
   },
   {
    "duration": 5,
    "start_time": "2022-05-24T19:25:04.114Z"
   },
   {
    "duration": 38,
    "start_time": "2022-05-24T19:25:04.120Z"
   },
   {
    "duration": 8,
    "start_time": "2022-05-24T19:25:04.160Z"
   },
   {
    "duration": 13,
    "start_time": "2022-05-24T19:25:04.170Z"
   },
   {
    "duration": 10,
    "start_time": "2022-05-24T19:25:04.185Z"
   },
   {
    "duration": 16,
    "start_time": "2022-05-24T19:25:04.197Z"
   },
   {
    "duration": 20,
    "start_time": "2022-05-24T19:25:04.215Z"
   },
   {
    "duration": 180,
    "start_time": "2022-05-24T19:25:04.237Z"
   },
   {
    "duration": 140,
    "start_time": "2022-05-24T19:25:04.419Z"
   },
   {
    "duration": 15,
    "start_time": "2022-05-24T19:25:04.561Z"
   },
   {
    "duration": 6,
    "start_time": "2022-05-24T19:25:04.578Z"
   },
   {
    "duration": 234,
    "start_time": "2022-05-24T19:25:04.585Z"
   },
   {
    "duration": 298,
    "start_time": "2022-05-24T19:25:04.821Z"
   },
   {
    "duration": 11,
    "start_time": "2022-05-24T19:25:05.122Z"
   },
   {
    "duration": 380,
    "start_time": "2022-05-24T19:25:05.134Z"
   },
   {
    "duration": 13,
    "start_time": "2022-05-24T19:25:05.515Z"
   },
   {
    "duration": 6,
    "start_time": "2022-05-24T19:25:05.530Z"
   },
   {
    "duration": 248,
    "start_time": "2022-05-24T19:25:05.538Z"
   },
   {
    "duration": 221,
    "start_time": "2022-05-24T19:25:05.787Z"
   },
   {
    "duration": 13,
    "start_time": "2022-05-24T19:25:06.010Z"
   },
   {
    "duration": 356,
    "start_time": "2022-05-24T19:25:06.024Z"
   },
   {
    "duration": 286,
    "start_time": "2022-05-24T19:25:06.382Z"
   },
   {
    "duration": 11,
    "start_time": "2022-05-24T19:25:06.670Z"
   },
   {
    "duration": 171,
    "start_time": "2022-05-24T19:25:06.683Z"
   },
   {
    "duration": 5,
    "start_time": "2022-05-24T19:25:06.855Z"
   },
   {
    "duration": 11,
    "start_time": "2022-05-24T19:25:06.862Z"
   },
   {
    "duration": 179,
    "start_time": "2022-05-24T19:25:06.875Z"
   },
   {
    "duration": 186,
    "start_time": "2022-05-24T19:25:07.056Z"
   },
   {
    "duration": 10,
    "start_time": "2022-05-24T19:25:07.245Z"
   },
   {
    "duration": 219,
    "start_time": "2022-05-24T19:25:07.257Z"
   },
   {
    "duration": 127,
    "start_time": "2022-05-24T19:25:07.477Z"
   },
   {
    "duration": 6,
    "start_time": "2022-05-24T19:25:07.606Z"
   },
   {
    "duration": 6,
    "start_time": "2022-05-24T19:25:14.376Z"
   },
   {
    "duration": 4,
    "start_time": "2022-05-24T19:26:46.505Z"
   },
   {
    "duration": 4,
    "start_time": "2022-05-24T19:29:13.146Z"
   },
   {
    "duration": 5,
    "start_time": "2022-05-24T19:29:31.015Z"
   },
   {
    "duration": 1354,
    "start_time": "2022-05-25T02:49:08.414Z"
   },
   {
    "duration": 74,
    "start_time": "2022-05-25T02:49:09.770Z"
   },
   {
    "duration": 11,
    "start_time": "2022-05-25T02:49:09.846Z"
   },
   {
    "duration": 148,
    "start_time": "2022-05-25T02:49:09.859Z"
   },
   {
    "duration": 10,
    "start_time": "2022-05-25T02:49:10.009Z"
   },
   {
    "duration": 65,
    "start_time": "2022-05-25T02:49:10.021Z"
   },
   {
    "duration": 10,
    "start_time": "2022-05-25T02:49:10.088Z"
   },
   {
    "duration": 7,
    "start_time": "2022-05-25T02:49:10.099Z"
   },
   {
    "duration": 5,
    "start_time": "2022-05-25T02:49:10.108Z"
   },
   {
    "duration": 7,
    "start_time": "2022-05-25T02:49:10.115Z"
   },
   {
    "duration": 5,
    "start_time": "2022-05-25T02:49:10.124Z"
   },
   {
    "duration": 5,
    "start_time": "2022-05-25T02:49:10.130Z"
   },
   {
    "duration": 21,
    "start_time": "2022-05-25T02:49:10.137Z"
   },
   {
    "duration": 16,
    "start_time": "2022-05-25T02:49:10.159Z"
   },
   {
    "duration": 21,
    "start_time": "2022-05-25T02:49:10.177Z"
   },
   {
    "duration": 17,
    "start_time": "2022-05-25T02:49:10.200Z"
   },
   {
    "duration": 13,
    "start_time": "2022-05-25T02:49:10.218Z"
   },
   {
    "duration": 9,
    "start_time": "2022-05-25T02:49:10.233Z"
   },
   {
    "duration": 10,
    "start_time": "2022-05-25T02:49:10.244Z"
   },
   {
    "duration": 12,
    "start_time": "2022-05-25T02:49:10.255Z"
   },
   {
    "duration": 17,
    "start_time": "2022-05-25T02:49:10.269Z"
   },
   {
    "duration": 10,
    "start_time": "2022-05-25T02:49:10.287Z"
   },
   {
    "duration": 187,
    "start_time": "2022-05-25T02:49:10.299Z"
   },
   {
    "duration": 140,
    "start_time": "2022-05-25T02:49:10.487Z"
   },
   {
    "duration": 16,
    "start_time": "2022-05-25T02:49:10.628Z"
   },
   {
    "duration": 8,
    "start_time": "2022-05-25T02:49:10.645Z"
   },
   {
    "duration": 414,
    "start_time": "2022-05-25T02:49:10.654Z"
   },
   {
    "duration": 213,
    "start_time": "2022-05-25T02:49:11.072Z"
   },
   {
    "duration": 11,
    "start_time": "2022-05-25T02:49:11.286Z"
   },
   {
    "duration": 397,
    "start_time": "2022-05-25T02:49:11.298Z"
   },
   {
    "duration": 11,
    "start_time": "2022-05-25T02:49:11.697Z"
   },
   {
    "duration": 9,
    "start_time": "2022-05-25T02:49:11.709Z"
   },
   {
    "duration": 239,
    "start_time": "2022-05-25T02:49:11.726Z"
   },
   {
    "duration": 231,
    "start_time": "2022-05-25T02:49:11.966Z"
   },
   {
    "duration": 13,
    "start_time": "2022-05-25T02:49:12.199Z"
   },
   {
    "duration": 328,
    "start_time": "2022-05-25T02:49:12.214Z"
   },
   {
    "duration": 303,
    "start_time": "2022-05-25T02:49:12.544Z"
   },
   {
    "duration": 11,
    "start_time": "2022-05-25T02:49:12.849Z"
   },
   {
    "duration": 167,
    "start_time": "2022-05-25T02:49:12.862Z"
   },
   {
    "duration": 6,
    "start_time": "2022-05-25T02:49:13.030Z"
   },
   {
    "duration": 14,
    "start_time": "2022-05-25T02:49:13.038Z"
   },
   {
    "duration": 179,
    "start_time": "2022-05-25T02:49:13.054Z"
   },
   {
    "duration": 182,
    "start_time": "2022-05-25T02:49:13.234Z"
   },
   {
    "duration": 11,
    "start_time": "2022-05-25T02:49:13.418Z"
   },
   {
    "duration": 218,
    "start_time": "2022-05-25T02:49:13.430Z"
   },
   {
    "duration": 130,
    "start_time": "2022-05-25T02:49:13.650Z"
   },
   {
    "duration": 7,
    "start_time": "2022-05-25T02:49:13.782Z"
   },
   {
    "duration": 38,
    "start_time": "2022-05-25T02:49:13.791Z"
   },
   {
    "duration": 11,
    "start_time": "2022-05-25T02:49:13.831Z"
   },
   {
    "duration": 11,
    "start_time": "2022-05-25T02:49:13.844Z"
   },
   {
    "duration": 9,
    "start_time": "2022-05-25T02:49:13.857Z"
   },
   {
    "duration": 27,
    "start_time": "2022-05-25T02:49:13.867Z"
   },
   {
    "duration": 39,
    "start_time": "2022-05-25T02:49:13.895Z"
   },
   {
    "duration": 1337,
    "start_time": "2022-05-25T06:51:21.605Z"
   },
   {
    "duration": 71,
    "start_time": "2022-05-25T06:51:22.944Z"
   },
   {
    "duration": 14,
    "start_time": "2022-05-25T06:51:23.017Z"
   },
   {
    "duration": 108,
    "start_time": "2022-05-25T06:51:23.033Z"
   },
   {
    "duration": 13,
    "start_time": "2022-05-25T06:51:23.144Z"
   },
   {
    "duration": 77,
    "start_time": "2022-05-25T06:51:23.159Z"
   },
   {
    "duration": 17,
    "start_time": "2022-05-25T06:51:23.238Z"
   },
   {
    "duration": 28,
    "start_time": "2022-05-25T06:51:23.257Z"
   },
   {
    "duration": 26,
    "start_time": "2022-05-25T06:51:23.287Z"
   },
   {
    "duration": 30,
    "start_time": "2022-05-25T06:51:23.315Z"
   },
   {
    "duration": 11,
    "start_time": "2022-05-25T06:51:23.347Z"
   },
   {
    "duration": 36,
    "start_time": "2022-05-25T06:51:23.360Z"
   },
   {
    "duration": 23,
    "start_time": "2022-05-25T06:51:23.398Z"
   },
   {
    "duration": 10,
    "start_time": "2022-05-25T06:51:23.425Z"
   },
   {
    "duration": 25,
    "start_time": "2022-05-25T06:51:23.437Z"
   },
   {
    "duration": 18,
    "start_time": "2022-05-25T06:51:23.464Z"
   },
   {
    "duration": 19,
    "start_time": "2022-05-25T06:51:23.484Z"
   },
   {
    "duration": 19,
    "start_time": "2022-05-25T06:51:23.505Z"
   },
   {
    "duration": 17,
    "start_time": "2022-05-25T06:51:23.526Z"
   },
   {
    "duration": 26,
    "start_time": "2022-05-25T06:51:23.544Z"
   },
   {
    "duration": 28,
    "start_time": "2022-05-25T06:51:23.572Z"
   },
   {
    "duration": 22,
    "start_time": "2022-05-25T06:51:23.602Z"
   },
   {
    "duration": 176,
    "start_time": "2022-05-25T06:51:23.626Z"
   },
   {
    "duration": 127,
    "start_time": "2022-05-25T06:51:23.804Z"
   },
   {
    "duration": 28,
    "start_time": "2022-05-25T06:51:23.932Z"
   },
   {
    "duration": 8,
    "start_time": "2022-05-25T06:51:23.961Z"
   },
   {
    "duration": 412,
    "start_time": "2022-05-25T06:51:23.971Z"
   },
   {
    "duration": 228,
    "start_time": "2022-05-25T06:51:24.385Z"
   },
   {
    "duration": 11,
    "start_time": "2022-05-25T06:51:24.614Z"
   },
   {
    "duration": 404,
    "start_time": "2022-05-25T06:51:24.627Z"
   },
   {
    "duration": 11,
    "start_time": "2022-05-25T06:51:25.032Z"
   },
   {
    "duration": 15,
    "start_time": "2022-05-25T06:51:25.044Z"
   },
   {
    "duration": 250,
    "start_time": "2022-05-25T06:51:25.061Z"
   },
   {
    "duration": 228,
    "start_time": "2022-05-25T06:51:25.313Z"
   },
   {
    "duration": 22,
    "start_time": "2022-05-25T06:51:25.543Z"
   },
   {
    "duration": 331,
    "start_time": "2022-05-25T06:51:25.567Z"
   },
   {
    "duration": 286,
    "start_time": "2022-05-25T06:51:25.901Z"
   },
   {
    "duration": 13,
    "start_time": "2022-05-25T06:51:26.189Z"
   },
   {
    "duration": 172,
    "start_time": "2022-05-25T06:51:26.203Z"
   },
   {
    "duration": 5,
    "start_time": "2022-05-25T06:51:26.377Z"
   },
   {
    "duration": 19,
    "start_time": "2022-05-25T06:51:26.388Z"
   },
   {
    "duration": 191,
    "start_time": "2022-05-25T06:51:26.409Z"
   },
   {
    "duration": 220,
    "start_time": "2022-05-25T06:51:26.602Z"
   },
   {
    "duration": 5,
    "start_time": "2022-05-25T06:51:26.823Z"
   },
   {
    "duration": 247,
    "start_time": "2022-05-25T06:51:26.830Z"
   },
   {
    "duration": 182,
    "start_time": "2022-05-25T06:51:27.079Z"
   },
   {
    "duration": 8,
    "start_time": "2022-05-25T06:51:27.264Z"
   },
   {
    "duration": 43,
    "start_time": "2022-05-25T06:51:27.274Z"
   },
   {
    "duration": 14,
    "start_time": "2022-05-25T06:51:27.319Z"
   },
   {
    "duration": 32,
    "start_time": "2022-05-25T06:51:27.337Z"
   },
   {
    "duration": 13,
    "start_time": "2022-05-25T06:51:27.372Z"
   },
   {
    "duration": 43,
    "start_time": "2022-05-25T06:51:27.386Z"
   },
   {
    "duration": 14,
    "start_time": "2022-05-25T06:51:27.430Z"
   },
   {
    "duration": 29,
    "start_time": "2022-05-25T06:58:05.401Z"
   },
   {
    "duration": 31,
    "start_time": "2022-05-25T06:58:15.239Z"
   },
   {
    "duration": 13,
    "start_time": "2022-05-25T08:06:13.719Z"
   },
   {
    "duration": 8,
    "start_time": "2022-05-25T08:10:04.972Z"
   },
   {
    "duration": 15,
    "start_time": "2022-05-25T08:11:25.672Z"
   },
   {
    "duration": 9,
    "start_time": "2022-05-25T08:11:45.688Z"
   },
   {
    "duration": 8,
    "start_time": "2022-05-25T08:12:34.146Z"
   },
   {
    "duration": 87,
    "start_time": "2022-05-25T08:16:54.184Z"
   },
   {
    "duration": 8,
    "start_time": "2022-05-25T08:17:31.768Z"
   },
   {
    "duration": 4,
    "start_time": "2022-05-25T08:20:10.831Z"
   },
   {
    "duration": 6,
    "start_time": "2022-05-25T08:20:32.139Z"
   },
   {
    "duration": 6,
    "start_time": "2022-05-25T08:21:05.137Z"
   },
   {
    "duration": 112,
    "start_time": "2022-05-25T08:22:03.432Z"
   },
   {
    "duration": 6,
    "start_time": "2022-05-25T08:25:28.303Z"
   },
   {
    "duration": 39,
    "start_time": "2022-05-25T08:31:36.667Z"
   },
   {
    "duration": 7,
    "start_time": "2022-05-25T08:31:42.369Z"
   },
   {
    "duration": 8,
    "start_time": "2022-05-25T08:32:16.643Z"
   },
   {
    "duration": 11,
    "start_time": "2022-05-25T08:33:03.643Z"
   },
   {
    "duration": 12,
    "start_time": "2022-05-25T08:33:16.599Z"
   },
   {
    "duration": 10,
    "start_time": "2022-05-25T08:34:30.902Z"
   },
   {
    "duration": 15,
    "start_time": "2022-05-25T08:37:11.390Z"
   },
   {
    "duration": 30,
    "start_time": "2022-05-25T08:39:54.497Z"
   },
   {
    "duration": 21,
    "start_time": "2022-05-25T08:40:29.151Z"
   },
   {
    "duration": 23,
    "start_time": "2022-05-25T08:41:30.337Z"
   },
   {
    "duration": 16,
    "start_time": "2022-05-25T08:42:10.832Z"
   },
   {
    "duration": 13,
    "start_time": "2022-05-25T08:55:59.987Z"
   },
   {
    "duration": 7,
    "start_time": "2022-05-25T09:00:39.548Z"
   },
   {
    "duration": 13,
    "start_time": "2022-05-25T09:00:44.087Z"
   },
   {
    "duration": 10,
    "start_time": "2022-05-25T09:03:38.317Z"
   },
   {
    "duration": 11,
    "start_time": "2022-05-25T09:04:11.040Z"
   },
   {
    "duration": 15,
    "start_time": "2022-05-25T09:27:18.141Z"
   },
   {
    "duration": 11,
    "start_time": "2022-05-25T09:34:21.748Z"
   },
   {
    "duration": 10,
    "start_time": "2022-05-25T09:34:39.979Z"
   },
   {
    "duration": 17,
    "start_time": "2022-05-25T09:36:50.672Z"
   },
   {
    "duration": 4167,
    "start_time": "2022-05-25T18:51:37.816Z"
   },
   {
    "duration": 89,
    "start_time": "2022-05-25T18:51:41.985Z"
   },
   {
    "duration": 17,
    "start_time": "2022-05-25T18:51:42.077Z"
   },
   {
    "duration": 94,
    "start_time": "2022-05-25T18:51:42.098Z"
   },
   {
    "duration": 11,
    "start_time": "2022-05-25T18:51:42.195Z"
   },
   {
    "duration": 72,
    "start_time": "2022-05-25T18:51:42.208Z"
   },
   {
    "duration": 15,
    "start_time": "2022-05-25T18:51:42.282Z"
   },
   {
    "duration": 19,
    "start_time": "2022-05-25T18:51:42.299Z"
   },
   {
    "duration": 12,
    "start_time": "2022-05-25T18:51:42.320Z"
   },
   {
    "duration": 9,
    "start_time": "2022-05-25T18:51:42.335Z"
   },
   {
    "duration": 8,
    "start_time": "2022-05-25T18:51:42.346Z"
   },
   {
    "duration": 13,
    "start_time": "2022-05-25T18:51:42.356Z"
   },
   {
    "duration": 9,
    "start_time": "2022-05-25T18:51:42.371Z"
   },
   {
    "duration": 8,
    "start_time": "2022-05-25T18:51:42.382Z"
   },
   {
    "duration": 22,
    "start_time": "2022-05-25T18:51:42.392Z"
   },
   {
    "duration": 8,
    "start_time": "2022-05-25T18:51:42.427Z"
   },
   {
    "duration": 17,
    "start_time": "2022-05-25T18:51:42.437Z"
   },
   {
    "duration": 16,
    "start_time": "2022-05-25T18:51:42.456Z"
   },
   {
    "duration": 10,
    "start_time": "2022-05-25T18:51:42.474Z"
   },
   {
    "duration": 41,
    "start_time": "2022-05-25T18:51:42.486Z"
   },
   {
    "duration": 18,
    "start_time": "2022-05-25T18:51:42.530Z"
   },
   {
    "duration": 25,
    "start_time": "2022-05-25T18:51:42.550Z"
   },
   {
    "duration": 15,
    "start_time": "2022-05-25T18:51:42.577Z"
   },
   {
    "duration": 210,
    "start_time": "2022-05-25T18:51:42.594Z"
   },
   {
    "duration": 170,
    "start_time": "2022-05-25T18:51:42.806Z"
   },
   {
    "duration": 16,
    "start_time": "2022-05-25T18:51:42.980Z"
   },
   {
    "duration": 29,
    "start_time": "2022-05-25T18:51:42.998Z"
   },
   {
    "duration": 450,
    "start_time": "2022-05-25T18:51:43.031Z"
   },
   {
    "duration": 226,
    "start_time": "2022-05-25T18:51:43.482Z"
   },
   {
    "duration": 18,
    "start_time": "2022-05-25T18:51:43.710Z"
   },
   {
    "duration": 436,
    "start_time": "2022-05-25T18:51:43.731Z"
   },
   {
    "duration": 20,
    "start_time": "2022-05-25T18:51:44.169Z"
   },
   {
    "duration": 13,
    "start_time": "2022-05-25T18:51:44.191Z"
   },
   {
    "duration": 284,
    "start_time": "2022-05-25T18:51:44.207Z"
   },
   {
    "duration": 266,
    "start_time": "2022-05-25T18:51:44.493Z"
   },
   {
    "duration": 20,
    "start_time": "2022-05-25T18:51:44.761Z"
   },
   {
    "duration": 352,
    "start_time": "2022-05-25T18:51:44.784Z"
   },
   {
    "duration": 419,
    "start_time": "2022-05-25T18:51:45.137Z"
   },
   {
    "duration": 13,
    "start_time": "2022-05-25T18:51:45.558Z"
   },
   {
    "duration": 327,
    "start_time": "2022-05-25T18:51:45.627Z"
   },
   {
    "duration": 5,
    "start_time": "2022-05-25T18:51:45.955Z"
   },
   {
    "duration": 70,
    "start_time": "2022-05-25T18:51:45.962Z"
   },
   {
    "duration": 287,
    "start_time": "2022-05-25T18:51:46.034Z"
   },
   {
    "duration": 262,
    "start_time": "2022-05-25T18:51:46.324Z"
   },
   {
    "duration": 8,
    "start_time": "2022-05-25T18:51:46.589Z"
   },
   {
    "duration": 238,
    "start_time": "2022-05-25T18:51:46.599Z"
   },
   {
    "duration": 161,
    "start_time": "2022-05-25T18:51:46.839Z"
   },
   {
    "duration": 7,
    "start_time": "2022-05-25T18:51:47.002Z"
   },
   {
    "duration": 27,
    "start_time": "2022-05-25T18:51:47.026Z"
   },
   {
    "duration": 13,
    "start_time": "2022-05-25T18:51:47.055Z"
   },
   {
    "duration": 11,
    "start_time": "2022-05-25T18:51:47.069Z"
   },
   {
    "duration": 11,
    "start_time": "2022-05-25T18:51:47.082Z"
   },
   {
    "duration": 39,
    "start_time": "2022-05-25T18:51:47.127Z"
   },
   {
    "duration": 19,
    "start_time": "2022-05-25T18:51:47.169Z"
   },
   {
    "duration": 1007,
    "start_time": "2022-10-26T16:08:31.467Z"
   },
   {
    "duration": 71,
    "start_time": "2022-10-26T16:08:32.476Z"
   },
   {
    "duration": 10,
    "start_time": "2022-10-26T16:08:32.549Z"
   },
   {
    "duration": 97,
    "start_time": "2022-10-26T16:08:32.561Z"
   },
   {
    "duration": 10,
    "start_time": "2022-10-26T16:08:32.660Z"
   },
   {
    "duration": 67,
    "start_time": "2022-10-26T16:08:32.672Z"
   },
   {
    "duration": 10,
    "start_time": "2022-10-26T16:08:32.741Z"
   },
   {
    "duration": 9,
    "start_time": "2022-10-26T16:08:32.753Z"
   },
   {
    "duration": 18,
    "start_time": "2022-10-26T16:08:32.763Z"
   },
   {
    "duration": 6,
    "start_time": "2022-10-26T16:08:32.783Z"
   },
   {
    "duration": 12,
    "start_time": "2022-10-26T16:08:32.791Z"
   },
   {
    "duration": 18,
    "start_time": "2022-10-26T16:08:32.804Z"
   },
   {
    "duration": 7,
    "start_time": "2022-10-26T16:08:32.824Z"
   },
   {
    "duration": 7,
    "start_time": "2022-10-26T16:08:32.832Z"
   },
   {
    "duration": 16,
    "start_time": "2022-10-26T16:08:32.841Z"
   },
   {
    "duration": 9,
    "start_time": "2022-10-26T16:08:32.859Z"
   },
   {
    "duration": 13,
    "start_time": "2022-10-26T16:08:32.870Z"
   },
   {
    "duration": 14,
    "start_time": "2022-10-26T16:08:32.884Z"
   },
   {
    "duration": 8,
    "start_time": "2022-10-26T16:08:32.920Z"
   },
   {
    "duration": 10,
    "start_time": "2022-10-26T16:08:32.930Z"
   },
   {
    "duration": 16,
    "start_time": "2022-10-26T16:08:32.942Z"
   },
   {
    "duration": 17,
    "start_time": "2022-10-26T16:08:32.959Z"
   },
   {
    "duration": 18,
    "start_time": "2022-10-26T16:08:32.978Z"
   },
   {
    "duration": 201,
    "start_time": "2022-10-26T16:08:32.997Z"
   },
   {
    "duration": 136,
    "start_time": "2022-10-26T16:08:33.200Z"
   },
   {
    "duration": 15,
    "start_time": "2022-10-26T16:08:33.337Z"
   },
   {
    "duration": 24,
    "start_time": "2022-10-26T16:08:33.353Z"
   },
   {
    "duration": 279,
    "start_time": "2022-10-26T16:08:33.381Z"
   },
   {
    "duration": 230,
    "start_time": "2022-10-26T16:08:33.662Z"
   },
   {
    "duration": 10,
    "start_time": "2022-10-26T16:08:33.894Z"
   },
   {
    "duration": 353,
    "start_time": "2022-10-26T16:08:33.905Z"
   },
   {
    "duration": 11,
    "start_time": "2022-10-26T16:08:34.260Z"
   },
   {
    "duration": 10,
    "start_time": "2022-10-26T16:08:34.272Z"
   },
   {
    "duration": 242,
    "start_time": "2022-10-26T16:08:34.284Z"
   },
   {
    "duration": 223,
    "start_time": "2022-10-26T16:08:34.528Z"
   },
   {
    "duration": 13,
    "start_time": "2022-10-26T16:08:34.753Z"
   },
   {
    "duration": 313,
    "start_time": "2022-10-26T16:08:34.768Z"
   },
   {
    "duration": 310,
    "start_time": "2022-10-26T16:08:35.083Z"
   },
   {
    "duration": 12,
    "start_time": "2022-10-26T16:08:35.395Z"
   },
   {
    "duration": 202,
    "start_time": "2022-10-26T16:08:35.408Z"
   },
   {
    "duration": 11,
    "start_time": "2022-10-26T16:08:35.612Z"
   },
   {
    "duration": 37,
    "start_time": "2022-10-26T16:08:35.625Z"
   },
   {
    "duration": 273,
    "start_time": "2022-10-26T16:08:35.664Z"
   },
   {
    "duration": 164,
    "start_time": "2022-10-26T16:08:35.938Z"
   },
   {
    "duration": 5,
    "start_time": "2022-10-26T16:08:36.104Z"
   },
   {
    "duration": 220,
    "start_time": "2022-10-26T16:08:36.110Z"
   },
   {
    "duration": 128,
    "start_time": "2022-10-26T16:08:36.332Z"
   },
   {
    "duration": 7,
    "start_time": "2022-10-26T16:08:36.462Z"
   },
   {
    "duration": 36,
    "start_time": "2022-10-26T16:08:36.471Z"
   },
   {
    "duration": 20,
    "start_time": "2022-10-26T16:08:36.509Z"
   },
   {
    "duration": 10,
    "start_time": "2022-10-26T16:08:36.530Z"
   },
   {
    "duration": 18,
    "start_time": "2022-10-26T16:08:36.542Z"
   },
   {
    "duration": 40,
    "start_time": "2022-10-26T16:08:36.562Z"
   },
   {
    "duration": 23,
    "start_time": "2022-10-26T16:08:36.604Z"
   }
  ],
  "kernelspec": {
   "display_name": "Python 3.9.13 ('base')",
   "language": "python",
   "name": "python3"
  },
  "language_info": {
   "codemirror_mode": {
    "name": "ipython",
    "version": 3
   },
   "file_extension": ".py",
   "mimetype": "text/x-python",
   "name": "python",
   "nbconvert_exporter": "python",
   "pygments_lexer": "ipython3",
   "version": "3.9.13"
  },
  "toc": {
   "base_numbering": 1,
   "nav_menu": {},
   "number_sections": true,
   "sideBar": true,
   "skip_h1_title": true,
   "title_cell": "Содержание",
   "title_sidebar": "Contents",
   "toc_cell": true,
   "toc_position": {
    "height": "calc(100% - 180px)",
    "left": "10px",
    "top": "150px",
    "width": "284px"
   },
   "toc_section_display": true,
   "toc_window_display": true
  },
  "vscode": {
   "interpreter": {
    "hash": "83c24f87fcfc31b9a9633145c59cae9489c24309f9904f27c28f792d25602837"
   }
  }
 },
 "nbformat": 4,
 "nbformat_minor": 2
}
